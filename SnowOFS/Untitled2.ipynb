{
 "cells": [
  {
   "cell_type": "code",
   "execution_count": null,
   "metadata": {},
   "outputs": [],
   "source": [
    "import sys\n",
    "import warnings\n",
    "import datacube\n",
    "from datacube.storage import masking\n",
    "from datacube.helpers import ga_pq_fuser\n",
    "import matplotlib.pyplot as plt\n",
    "\n",
    "import numpy as np\n",
    "import seaborn as sns\n",
    "import pandas as pd\n",
    "import xarray as xr\n",
    "from datacube.utils import geometry\n",
    "from datacube.utils.geometry import CRS\n",
    "from datacube.helpers import write_geotiff\n",
    "import os\n",
    "\n",
    "sys.path.append('../10_Scripts')\n",
    "import SpatialTools\n",
    "import gdal\n",
    "import DEADataHandling\n",
    "import DEAPlotting"
   ]
  },
  {
   "cell_type": "code",
   "execution_count": null,
   "metadata": {},
   "outputs": [],
   "source": [
    "# Connect to datacube database\n",
    "dc = datacube.Datacube(app='Snow monitoring with Landsat')"
   ]
  },
  {
   "cell_type": "code",
   "execution_count": null,
   "metadata": {},
   "outputs": [],
   "source": [
    "# lat, lon, buffer_m, buffer_n = -36.86895, 147.276, 30000, 30000 #vic\n",
    "# lat, lon, buffer_m, buffer_n = -41.56728, 147.67106, 10000, 10000 #tas ben lomond\n",
    "lat, lon, buffer_m, buffer_n = -36.48, 148.26, 5200, 5200 #nsw\n",
    "time_range = ('2010-01-01', '2018-12-31')\n",
    "\n",
    "resolution = (-25, 25)\n",
    "\n",
    "landsat_goodquality_prop = 0.3\n",
    "\n",
    "# working out thresholds - geotiff for a number of different ones (methods for verification etc)\n",
    "# fine tuned for different elevations.. \n",
    "#- trees change at different altidudes etc.. (depeding on region accurate thesholds can vary usually btwn 0.0-0.5)\n",
    "ndsi_threshold = 0.2\n",
    "ndvi_threshold = 0.3\n",
    "#ndwi_threshold = 0.15\n",
    "red_threshold = 1000"
   ]
  },
  {
   "cell_type": "code",
   "execution_count": null,
   "metadata": {},
   "outputs": [],
   "source": [
    "x, y = geometry.point(lon, lat, CRS('WGS84')).to_crs(CRS('EPSG:3577')).points[0]\n",
    "query = {'x': (x - buffer_m, x + buffer_m),\n",
    "         'y': (y - buffer_n, y + buffer_n),    \n",
    "         'time': time_range,\n",
    "         'crs': 'EPSG:3577',\n",
    "         'output_crs': 'EPSG:3577',\n",
    "         'resolution': resolution}"
   ]
  },
  {
   "cell_type": "code",
   "execution_count": null,
   "metadata": {},
   "outputs": [],
   "source": []
  },
  {
   "cell_type": "code",
   "execution_count": null,
   "metadata": {},
   "outputs": [],
   "source": []
  }
 ],
 "metadata": {
  "kernelspec": {
   "display_name": "Python 3",
   "language": "python",
   "name": "python3"
  },
  "language_info": {
   "codemirror_mode": {
    "name": "ipython",
    "version": 3
   },
   "file_extension": ".py",
   "mimetype": "text/x-python",
   "name": "python",
   "nbconvert_exporter": "python",
   "pygments_lexer": "ipython3",
   "version": "3.6.7"
  }
 },
 "nbformat": 4,
 "nbformat_minor": 4
}
