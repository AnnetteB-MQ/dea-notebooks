{
 "cells": [
  {
   "cell_type": "code",
   "execution_count": 1,
   "metadata": {},
   "outputs": [],
   "source": [
    "import sys\n",
    "import warnings\n",
    "import datacube\n",
    "from datacube.storage import masking\n",
    "from datacube.helpers import ga_pq_fuser\n",
    "import matplotlib.pyplot as plt\n",
    "\n",
    "import numpy as np\n",
    "import seaborn as sns\n",
    "import pandas as pd\n",
    "import xarray as xr\n",
    "from datacube.utils import geometry\n",
    "from datacube.utils.geometry import CRS\n",
    "from datacube.helpers import write_geotiff\n",
    "import os\n",
    "\n",
    "sys.path.append('../10_Scripts')\n",
    "import SpatialTools\n",
    "import gdal\n",
    "import DEADataHandling\n",
    "import DEAPlotting"
   ]
  },
  {
   "cell_type": "code",
   "execution_count": 2,
   "metadata": {},
   "outputs": [],
   "source": [
    "# Connect to datacube database\n",
    "dc = datacube.Datacube(app='Snow monitoring with Landsat')\n",
    "\n",
    "output='results/threshold_02/mask/'\n",
    "years='2002_2003_'\n",
    "\n",
    "# Set up centre of area to analyse, and a buffer in metres around this centrepoint. Generally,\n",
    "# aim to keep the buffer size to less than 10,000m to prevent having memory errors\n",
    "\n",
    "lat, lon, buffer_m = -36.3, 148.35, 8000\n",
    "\n",
    "# Set range of time to return data from both Landsat and Sentinel 2\n",
    "time_range = ('1987-01-01', '1989-12-31')\n",
    "\n",
    "resolution = (-25, 25)\n",
    "\n",
    "landsat_goodquality_prop = 0.3\n",
    "\n",
    "ndsi_threshold = 0.2\n",
    "ndvi_threshold = 0.3\n",
    "ndwi_threshold = 0.15\n",
    "\n",
    "x, y = geometry.point(lon, lat, CRS('WGS84')).to_crs(CRS('EPSG:3577')).points[0]\n",
    "query = {'x': (x - buffer_m, x + buffer_m),\n",
    "         'y': (y - buffer_m, y + buffer_m),    \n",
    "         'time': time_range,\n",
    "         'crs': 'EPSG:3577',\n",
    "         'output_crs': 'EPSG:3577',\n",
    "         'resolution': resolution}"
   ]
  },
  {
   "cell_type": "code",
   "execution_count": 3,
   "metadata": {},
   "outputs": [
    {
     "name": "stdout",
     "output_type": "stream",
     "text": [
      "loading landsat_ds\n",
      "Loading ls5\n",
      "    Loading 45 filtered ls5 timesteps\n",
      "Loading ls7\n",
      "    Skipping ls7; no valid data for query\n",
      "Loading ls8\n",
      "    Skipping ls8; no valid data for query\n",
      "Returning ls5 data\n",
      "    Replacing invalid -999 values with NaN (data will be coerced to float64)\n"
     ]
    }
   ],
   "source": [
    "print('loading landsat_ds')\n",
    "snow_mask = dict(                cloud_acca='no_cloud',\n",
    "                                 #cloud_fmask='no_cloud',\n",
    "                                 cloud_shadow_acca='no_cloud_shadow',\n",
    "                                 #cloud_shadow_fmask='no_cloud_shadow',\n",
    "                                 blue_saturated=False,\n",
    "                                 green_saturated=False,\n",
    "                                 red_saturated=False,\n",
    "                                 nir_saturated=False,\n",
    "                                 swir1_saturated=False,\n",
    "                                 swir2_saturated=False,\n",
    "                                 contiguous=True)\n",
    "\n",
    "landsat_ds = DEADataHandling.load_clearlandsat(dc=dc, \n",
    "                                               product = 'nbar',\n",
    "                                               query=query,\n",
    "                                               mask_dict=snow_mask,\n",
    "                                               sensors=['ls5','ls7','ls8'],\n",
    "                                               bands_of_interest=['red', 'green', 'blue','nir', 'swir1'],\n",
    "                                               masked_prop=landsat_goodquality_prop,\n",
    "                                               mask_pixel_quality=True,\n",
    "                                               ls7_slc_off=True)"
   ]
  },
  {
   "cell_type": "code",
   "execution_count": 4,
   "metadata": {},
   "outputs": [],
   "source": [
    "ndsi_ds = (landsat_ds.green - landsat_ds.swir1) / (landsat_ds.green + landsat_ds.swir1)"
   ]
  },
  {
   "cell_type": "code",
   "execution_count": 5,
   "metadata": {},
   "outputs": [],
   "source": [
    "x, y = geometry.point(lon, lat, CRS('WGS84')).to_crs(CRS('EPSG:3577')).points[0]\n",
    "query = {'x': (x - buffer_m, x + buffer_m),\n",
    "         'y': (y - buffer_m, y + buffer_m),    \n",
    "#          'time': time_range,\n",
    "         'crs': 'EPSG:3577',\n",
    "         'output_crs': 'EPSG:3577',\n",
    "         'resolution': resolution}\n",
    "\n",
    "# Load the DEM data\n",
    "dem_ds = dc.load(product='srtm_dem1sv1_0', **query)\n",
    "dem_1800 = dem_ds.dem > 1800"
   ]
  },
  {
   "cell_type": "code",
   "execution_count": 6,
   "metadata": {},
   "outputs": [],
   "source": [
    "ndsi_1800 = ndsi_ds.where(dem_1800.squeeze(dim='time'))"
   ]
  },
  {
   "cell_type": "code",
   "execution_count": 7,
   "metadata": {},
   "outputs": [
    {
     "data": {
      "text/plain": [
       "45"
      ]
     },
     "execution_count": 7,
     "metadata": {},
     "output_type": "execute_result"
    }
   ],
   "source": [
    "mean_ndsi1800 = ndsi_1800.mean(dim=('x', 'y'))\n",
    "# b.time\n",
    "len(mean_ndsi1800.values)"
   ]
  },
  {
   "cell_type": "code",
   "execution_count": 8,
   "metadata": {},
   "outputs": [
    {
     "data": {
      "text/plain": [
       "array([ 0.85638503,  0.75277738,  0.57963464, -0.19841741, -0.36977369,\n",
       "       -0.50511655, -0.46997254, -0.50838201, -0.62348595, -0.56145256,\n",
       "       -0.58738252, -0.49117077, -0.31864043, -0.55913763, -0.60802236,\n",
       "       -0.58731202, -0.56609199, -0.56138963, -0.55827787,  0.14876051,\n",
       "        0.81766493,  0.82168766,  0.77527284,  0.7819642 ,  0.77641988,\n",
       "        0.72407567,  0.33491746,  0.16778255, -0.45409187, -0.49696175,\n",
       "       -0.58359613, -0.49868834, -0.31303055, -0.55625004, -0.60070291,\n",
       "       -0.52134673, -0.29999589, -0.58732939,  0.70890643,  0.78022761,\n",
       "        0.75572986,  0.80007776,  0.68743641, -0.14534083, -0.4980718 ])"
      ]
     },
     "execution_count": 8,
     "metadata": {},
     "output_type": "execute_result"
    }
   ],
   "source": [
    "mean_ndsi1800.values"
   ]
  },
  {
   "cell_type": "code",
   "execution_count": 9,
   "metadata": {},
   "outputs": [
    {
     "data": {
      "text/plain": [
       "[<matplotlib.lines.Line2D at 0x7f89fbf987f0>]"
      ]
     },
     "execution_count": 9,
     "metadata": {},
     "output_type": "execute_result"
    },
    {
     "data": {
      "image/png": "[encoded data removed]",
      "text/plain": [
       "<Figure size 432x288 with 1 Axes>"
      ]
     },
     "metadata": {
      "needs_background": "light"
     },
     "output_type": "display_data"
    }
   ],
   "source": [
    "mean_ndsi1800.plot()"
   ]
  },
  {
   "cell_type": "code",
   "execution_count": 8,
   "metadata": {},
   "outputs": [],
   "source": [
    "# ndsi_ds['time.dayofyear']\n",
    "# ndsi_ds['time.year']\n"
   ]
  },
  {
   "cell_type": "code",
   "execution_count": null,
   "metadata": {},
   "outputs": [],
   "source": [
    "df = pd.DataFrame({'dayofyear':ndsi_ds['time.dayofyear'], 'average_ndsi':mean_ndsi1800.values, 'year':ndsi_ds['time.year']})\n",
    "df.to_csv(output+years+'phenology.csv')"
   ]
  }
 ],
 "metadata": {
  "kernelspec": {
   "display_name": "Python 3",
   "language": "python",
   "name": "python3"
  },
  "language_info": {
   "codemirror_mode": {
    "name": "ipython",
    "version": 3
   },
   "file_extension": ".py",
   "mimetype": "text/x-python",
   "name": "python",
   "nbconvert_exporter": "python",
   "pygments_lexer": "ipython3",
   "version": "3.6.7"
  }
 },
 "nbformat": 4,
 "nbformat_minor": 2
}
