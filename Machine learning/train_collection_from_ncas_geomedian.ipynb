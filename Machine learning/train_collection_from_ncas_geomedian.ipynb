{
 "cells": [
  {
   "cell_type": "code",
   "execution_count": 21,
   "metadata": {},
   "outputs": [
    {
     "name": "stdout",
     "output_type": "stream",
     "text": [
      "The autoreload extension is already loaded. To reload it, use:\n",
      "  %reload_ext autoreload\n"
     ]
    }
   ],
   "source": [
    "%load_ext autoreload\n",
    "%autoreload 2\n"
   ]
  },
  {
   "cell_type": "code",
   "execution_count": 22,
   "metadata": {},
   "outputs": [],
   "source": [
    "from datacube import helpers"
   ]
  },
  {
   "cell_type": "code",
   "execution_count": 23,
   "metadata": {},
   "outputs": [
    {
     "name": "stdout",
     "output_type": "stream",
     "text": [
      "Help on function write_geotiff in module datacube.helpers:\n",
      "\n",
      "write_geotiff(filename, dataset, profile_override=None, time_index=None)\n",
      "    Write an ODC style xarray.Dataset to a GeoTIFF file.\n",
      "    \n",
      "    :param filename: Output filename\n",
      "    :param dataset: xarray dataset containing one or more bands to write to a file.\n",
      "    :param profile_override: option dict, overrides rasterio file creation options.\n",
      "    :param time_index: DEPRECATED\n",
      "\n"
     ]
    }
   ],
   "source": [
    "help(helpers.write_geotiff)"
   ]
  },
  {
   "cell_type": "code",
   "execution_count": 24,
   "metadata": {},
   "outputs": [],
   "source": [
    "#load modules\n",
    "import datacube\n",
    "from datacube.storage import masking\n",
    "from datacube import Datacube\n",
    "from datetime import datetime\n",
    "from skimage import exposure\n",
    "\n",
    "import rasterio\n",
    "from datacube_stats.statistics import GeoMedian\n",
    "from matplotlib import pyplot as plt\n",
    "import numpy as np\n",
    "import pandas as pd\n",
    "import xarray as xr\n",
    "\n",
    "import geopandas as gpd\n",
    "from sklearn.ensemble import ExtraTreesClassifier\n",
    "import datacube_stats\n",
    "import os\n",
    "# Replace '156' and 'ck9738' with the path to your own home directory on the VDI\n",
    "s2aws = Datacube(config='/g/data/u46/users/ck9738/datacube-s2ard.conf')"
   ]
  },
  {
   "cell_type": "code",
   "execution_count": null,
   "metadata": {},
   "outputs": [],
   "source": [
    "query = {\n",
    "        'lat': (-35.25, -35.35),\n",
    "        'lon': (149.05, 149.17),\n",
    "        'output_crs': 'EPSG:3577',\n",
    "        'resolution': (-10, 10),\n",
    "        'time':('2017-01-01', '2017-02-15')\n",
    "        }\n",
    "\n",
    "Canberra = s2aws.load(product='s2a_ard_granule', group_by='solar_day', **query)"
   ]
  },
  {
   "cell_type": "code",
   "execution_count": null,
   "metadata": {
    "scrolled": true
   },
   "outputs": [],
   "source": [
    "Canberra"
   ]
  },
  {
   "cell_type": "code",
   "execution_count": null,
   "metadata": {},
   "outputs": [],
   "source": [
    "slope= (Canberra.nbart_coastal_aerosol.isel(time=1))\n",
    "\n",
    "slope.shape"
   ]
  },
  {
   "cell_type": "code",
   "execution_count": null,
   "metadata": {},
   "outputs": [],
   "source": [
    "#view your awsone classification output\n",
    "fig, ax = plt.subplots(figsize = (12,12))\n",
    "cax = ax.imshow(slope)\n",
    "\n",
    "plt.show()"
   ]
  },
  {
   "cell_type": "code",
   "execution_count": null,
   "metadata": {},
   "outputs": [],
   "source": [
    "    'nbart_coastal_aerosol','nbart_blue','nbart_green','nbart_red','nbart_red_edge_1','nbart_red_edge_2','nbart_red_edge_3','nbart_nir_1','nbart_nir_2', 'nbart_swir_2', 'nbart_swir_3' "
   ]
  },
  {
   "cell_type": "code",
   "execution_count": null,
   "metadata": {},
   "outputs": [],
   "source": [
    "#define nessisary gotiff handeling fuctions\n",
    "\n",
    "\n",
    "import xarray, rasterio, numpy as np\n",
    "def numpy_to_xarray(array, geobox, name=None):\n",
    "    \"\"\"Utility to convert ndarray to DataArray, using a datacube.model.GeoBox\"\"\"\n",
    "    coords=[xarray.Coordinate(x, geobox.coords[x].values, attrs=dict(units=geobox.coords[x].units)) \n",
    "            for x in geobox.dims]\n",
    "    return xarray.DataArray(array, coords=coords, attrs=dict(crs=geobox.crs), name=name)\n",
    "\n",
    "def geopandas_to_xarray(table, geobox, name=None):\n",
    "    \"\"\"Rasterise (with reprojection)\"\"\"\n",
    "    array = rasterio.features.rasterize(shapes=table.to_crs(geobox.crs._crs.ExportToProj4()).geometry,\n",
    "                                        out_shape=(geobox.height, geobox.width),\n",
    "                                        transform=geobox.affine)\n",
    "    return numpy_to_xarray(array, geobox, name)\n",
    "\n",
    "def rasterfile_to_xarray(file, geobox, name=None, nodata=True, num_bands=(1), X_band= 1):\n",
    "    \"\"\"Blit like\n",
    "    \"\"\"\n",
    "    with rasterio.open(file) as src:\n",
    "\n",
    "        #|assert src.indexes == num_bands # assume single band\n",
    "        band = rasterio.band(src, X_band) # do not attempt to read entire extent into memory\n",
    "        array = np.empty((geobox.height, geobox.width), dtype=band.dtype)\n",
    "        rasterio.warp.reproject(source=band,\n",
    "                                destination=array,\n",
    "                                dst_crs=geobox.crs.crs_str,\n",
    "                                dst_transform=geobox.affine,\n",
    "                                dst_nodata=nodata)\n",
    "    return numpy_to_xarray(array, geobox, name)\n",
    "    \n",
    "def array_topanda_s(array):\n",
    "    a,b = array.shape\n",
    "    length_be = int(a)+int(b)\n",
    "    try:\n",
    "        flat = array.stack(z=('y','x'))\n",
    "    except:\n",
    "        flat = array.stack(z=('longitude','latitude'))\n",
    "    #ones_array = np.ones_like(flat)\n",
    "    #ones_array = np.where(flat)\n",
    "    panda_series = pd.Series(flat)\n",
    "    return(panda_series)"
   ]
  },
  {
   "cell_type": "code",
   "execution_count": null,
   "metadata": {},
   "outputs": [],
   "source": [
    "def make_coords(filename):\n",
    "    shapefile_loc='/g/data/u46/users/ck9738/Datasets/ML_for_smad_green/shapefiles_for_train/GM_train_multi_bioregion/'+filename\n",
    "\n",
    "    #import project area shapefiles\n",
    "    project_area = gpd.read_file(shapefile_loc)\n",
    "\n",
    "    #convert the shapefile to GDA94 lat-long coords so we can query dc_load using lat long\n",
    "    project_area['geometry'] = project_area['geometry'].to_crs(epsg=4283)\n",
    "\n",
    "    #find the bounding box that contains all the queried projects\n",
    "\n",
    "    coords = project_area.total_bounds\n",
    "    #print(coords)\n",
    "    xmin, ymax, xmax, ymin =coords\n",
    "    return(xmin, ymax, xmax, ymin)\n",
    "\n",
    "def load_data(xmin, ymax, xmax, ymin, bands):#load sentinal data\n",
    "    sensors= ['s2a_ard_granule'] #pick the sentinal satelites you want\n",
    "\n",
    "    bands_of_int = bands\n",
    "    \n",
    "    query = {\n",
    "            'lat': (ymin, ymax),\n",
    "            'lon': (xmin, xmax),\n",
    "            'output_crs': 'EPSG:3577',\n",
    "            'resolution': (-10, 10),\n",
    "            'time':('2015-01-01', '2018-03-30')\n",
    "            }\n",
    "      \n",
    "# use s2b_ard_granule \t for S2B\n",
    "    data_sent = s2aws.load(product='s2a_ard_granule', measurements=bands, group_by='solar_day', **query)\n",
    "    pixle_q = s2aws.load(product='s2a_ard_granule', measurements=('fmask','nbart_red'), group_by='solar_day', **query)\n",
    "    clear = np.logical_and(pixle_q.fmask != 2, pixle_q.fmask != 3)\n",
    "    clear_data = data_sent.where(clear)\n",
    "    #print(data_sent)\n",
    "    #cast the data to float numbers so geomedian calculation will work\n",
    "    data_sent_flt = clear_data.astype(float,casting='safe')\n",
    "\n",
    "    #print(pre_canned_gm)\n",
    "#create geomedian for data\n",
    "    Sentinal_gm=GeoMedian().compute(data_sent_flt)\n",
    "    #data_sent= data_sent.isel(time=0)\n",
    "    return(Sentinal_gm)\n",
    "#data_sent = data_sent.where(clear_pixels)"
   ]
  },
  {
   "cell_type": "code",
   "execution_count": null,
   "metadata": {},
   "outputs": [],
   "source": [
    "master_panda = pd.DataFrame()\n",
    "#filelist1=['ncas_base_1.shp','ncas_base_2.shp','ncas_base_3.shp','ncas_base_4.shp','ncas_base_5.shp','ncas_base_6.shp','ncas_base_7.shp',]"
   ]
  },
  {
   "cell_type": "code",
   "execution_count": null,
   "metadata": {},
   "outputs": [],
   "source": [
    "#filelist = ['canberra_minier.shp']\n",
    "filelist1 = ['ausalps_1.shp']#,'ausalps_3.shp','ausalps_4.shp','ausalps_5.shp']#,'ausalps_1.shp'\n",
    "#filelist2 = ['ausalps_2.shp']#,'ausalps_1.shp'\n",
    "master_panda = pd.DataFrame()"
   ]
  },
  {
   "cell_type": "code",
   "execution_count": null,
   "metadata": {},
   "outputs": [],
   "source": [
    "#sent_data_array = xr.concat([group_sent_bands[1],group_sent_bands[2],group_sent_bands[3],\n",
    "#                              group_sent_bands[4],group_sent_bands[5],group_sent_bands[6],\n",
    "#                              group_sent_bands[7],group_sent_bands[8],group_sent_bands[9],\n",
    "#                              group_sent_bands[10],group_sent_bands[11]], 'band')\n"
   ]
  },
  {
   "cell_type": "code",
   "execution_count": null,
   "metadata": {
    "scrolled": true
   },
   "outputs": [],
   "source": [
    "\n",
    "\n",
    "for files in filelist1:\n",
    "    bands = ['nbart_coastal_aerosol','nbart_blue','nbart_green','nbart_red','nbart_red_edge_1','nbart_red_edge_2','nbart_red_edge_3','nbart_nir_1','nbart_nir_2', 'nbart_swir_2', 'nbart_swir_3']\n",
    "    \n",
    "    \n",
    "    xmin, ymax, xmax, ymin = make_coords(files)\n",
    "    sent_data = load_data(xmin, ymax, xmax, ymin, bands)\n",
    "    sent_data\n",
    "    plot_sent = sent_data[['nbart_red','nbart_green','nbart_blue']].to_array()\n",
    "    plot_sent.plot.imshow(robust=True)\n",
    "    plt.show()\n",
    "    #print(sent_data)\n",
    "    #use sent geobox to load up ncas product and create class key\n",
    "    #class_series = rasterfile_to_xarray('/g/data/u46/users/ck9738/Datasets/ML_for_smad_green/shapefiles_train_4class/c3classez_two.tif',\n",
    "                               #sent_data.geobox, num_bands=(1), X_band= 1)\n",
    "    ncas = rasterfile_to_xarray(\"/g/data/u46/users/fxy120/australian_woody/mosaics/lztmre_aus_y20002011_dm7a2_d20050630.tif\",\n",
    "                               sent_data.geobox, num_bands=(1), X_band= 1)\n",
    "    \n",
    "    ncas_class = np.logical_and(ncas>124, ncas<200)\n",
    "    \n",
    "\n",
    "    \n",
    "    #ncas_class = np.logical_and(ncas>124, ncas<200)\n",
    "\n",
    "    class_series = ncas_class*1\n",
    " \n",
    "    \n",
    "    little_panda = pd.DataFrame(array_topanda_s(class_series), columns=['class'])\n",
    "    \n",
    "    #sent_flat = sent_data.stack(z=('y','x'))\n",
    "    \n",
    "    #calculate all of the indexies\n",
    "    #NDVI\n",
    "#     ndvi = (sent_data['t_nir1']-sent_data['t_red'])/(sent_data['t_nir1']+sent_data['t_red'])\n",
    "#     little_panda['ndvi']=array_topanda_s(ndvi)\n",
    "    \n",
    "#     #NDWI\n",
    "#     ndwi = (sent_data['t_nir1']-sent_data['t_swir1'])/(sent_data['t_nir1']+sent_data['t_swir1'])\n",
    "#     little_panda['ndwi']=array_topanda_s(ndwi)\n",
    "#     # EVI\n",
    "#     evi = 2.5*(sent_data['t_nir2']-sent_data['t_rededge1'])/(sent_data['t_nir2']+6*sent_data['t_rededge1']-7.5*sent_data['t_aerosol'])+1\n",
    "#     little_panda['evi']=array_topanda_s(evi)\n",
    "    \n",
    "#     #CCCI\n",
    "#     ccci = ((sent_data['t_nir2']-sent_data['t_rededge1'])/(sent_data['t_nir2']+sent_data['t_rededge1']))/((sent_data['t_nir2']-sent_data['t_red'])/(sent_data['t_nir2']+sent_data['t_red']))\n",
    "#     little_panda['ccci']=array_topanda_s(ccci)\n",
    "    \n",
    "    for band in bands:\n",
    "        little_panda[band] = array_topanda_s(sent_data[band])\n",
    "    \n",
    "    #load smad_green product\n",
    "#     band_list = [1,2,3,4,5,6,7,8,9,10]\n",
    "#     for band in band_list:\n",
    "\n",
    "#         data = rasterfile_to_xarray(\"/g/data/r78/ck9738/smad_green_files/output/canberra_gm_2016_copy.tif\",\n",
    "#                                sent_data.geobox, num_bands=(1), X_band= band)\n",
    "#         little_panda[str(band)] = array_topanda_s(data)\n",
    "\n",
    "            \n",
    "    \n",
    "    master_panda = master_panda.append(little_panda,ignore_index=True)\n",
    "master_panda"
   ]
  },
  {
   "cell_type": "markdown",
   "metadata": {},
   "source": [
    "for files in filelist2:\n",
    "    bands = ['t_aerosol','t_blue', 't_green', 't_red', 't_rededge1', \n",
    "             't_rededge2', 't_rededge3', 't_nir1', 't_nir2', 't_swir1', 't_swir2']\n",
    "    \n",
    "    \n",
    "    xmin, ymax, xmax, ymin = make_coords(files)\n",
    "    sent_data = load_data(xmin, ymax, xmax, ymin, bands)\n",
    "    sent_data\n",
    "    plot_sent = sent_data[['t_red','t_green','t_blue']].to_array()\n",
    "    plot_sent.plot.imshow(robust=True)\n",
    "    plt.show()\n",
    "    #print(sent_data)\n",
    "    #use sent geobox to load up ncas product and create class key\n",
    "    #class_series = rasterfile_to_xarray('/g/data/u46/users/ck9738/Datasets/ML_for_smad_green/shapefiles_train_4class/c3classez_two.tif',\n",
    "                               #sent_data.geobox, num_bands=(1), X_band= 1)\n",
    "    ncas = rasterfile_to_xarray(\"/g/data/u46/users/fxy120/australian_woody/mosaics/lztmre_aus_y20002011_dm7a2_d20050630.tif\",\n",
    "                               sent_data.geobox, num_bands=(1), X_band= 1)\n",
    "    \n",
    "    ncas_class = np.logical_and(ncas>134, ncas<200)\n",
    "    \n",
    "\n",
    "    \n",
    "    #ncas_class = np.logical_and(ncas>124, ncas<200)\n",
    "\n",
    "    class_series = ncas_class*1\n",
    " \n",
    "    \n",
    "    little_panda = pd.DataFrame(array_topanda_s(class_series), columns=['class'])\n",
    "    \n",
    "    #sent_flat = sent_data.stack(z=('y','x'))\n",
    "    \n",
    "    #calculate all of the indexies\n",
    "    #NDVI\n",
    "    ndvi = (sent_data['t_nir1']-sent_data['t_red'])/(sent_data['t_nir1']+sent_data['t_red'])\n",
    "    little_panda['ndvi']=array_topanda_s(ndvi)\n",
    "    \n",
    "    #NDWI\n",
    "    ndwi = (sent_data['t_nir1']-sent_data['t_swir1'])/(sent_data['t_nir1']+sent_data['t_swir1'])\n",
    "    little_panda['ndwi']=array_topanda_s(ndwi)\n",
    "    # EVI\n",
    "    evi = 2.5*(sent_data['t_nir2']-sent_data['t_rededge1'])/(sent_data['t_nir2']+6*sent_data['t_rededge1']-7.5*sent_data['t_aerosol'])+1\n",
    "    little_panda['evi']=array_topanda_s(evi)\n",
    "    \n",
    "    #CCCI\n",
    "    ccci = ((sent_data['t_nir2']-sent_data['t_rededge1'])/(sent_data['t_nir2']+sent_data['t_rededge1']))/((sent_data['t_nir2']-sent_data['t_red'])/(sent_data['t_nir2']+sent_data['t_red']))\n",
    "    little_panda['ccci']=array_topanda_s(ccci)\n",
    "    \n",
    "    for band in bands:\n",
    "        little_panda[band] = array_topanda_s(sent_data[band])\n",
    "    \n",
    "    #load smad_green product\n",
    "#     band_list = [1,2,3,4,5,6,7,8,9,10]\n",
    "#     for band in band_list:\n",
    "\n",
    "#         data = rasterfile_to_xarray(\"/g/data/r78/ck9738/smad_green_files/output/canberra_gm_2016_copy.tif\",\n",
    "#                                sent_data.geobox, num_bands=(1), X_band= band)\n",
    "#         little_panda[str(band)] = array_topanda_s(data)\n",
    "\n",
    "            \n",
    "    \n",
    "    master_panda = master_panda.append(little_panda,ignore_index=True)\n",
    "master_panda"
   ]
  },
  {
   "cell_type": "code",
   "execution_count": null,
   "metadata": {},
   "outputs": [],
   "source": [
    "master_panda = master_panda.replace([np.inf, -np.inf], np.nan)"
   ]
  },
  {
   "cell_type": "code",
   "execution_count": null,
   "metadata": {},
   "outputs": [],
   "source": [
    "master_panda = master_panda.dropna(axis=0)"
   ]
  },
  {
   "cell_type": "code",
   "execution_count": null,
   "metadata": {
    "scrolled": true
   },
   "outputs": [],
   "source": [
    "master_panda"
   ]
  },
  {
   "cell_type": "code",
   "execution_count": null,
   "metadata": {},
   "outputs": [],
   "source": []
  },
  {
   "cell_type": "code",
   "execution_count": null,
   "metadata": {},
   "outputs": [],
   "source": []
  },
  {
   "cell_type": "code",
   "execution_count": null,
   "metadata": {},
   "outputs": [],
   "source": []
  },
  {
   "cell_type": "code",
   "execution_count": null,
   "metadata": {},
   "outputs": [],
   "source": [
    "#master_panda.to_csv('/g/data/u46/users/ck9738/Datasets/ML_for_smad_green/training_datasets/indexis_test_2.csv')"
   ]
  },
  {
   "cell_type": "code",
   "execution_count": null,
   "metadata": {},
   "outputs": [],
   "source": []
  }
 ],
 "metadata": {
  "kernelspec": {
   "display_name": "Python 3",
   "language": "python",
   "name": "python3"
  },
  "language_info": {
   "codemirror_mode": {
    "name": "ipython",
    "version": 3
   },
   "file_extension": ".py",
   "mimetype": "text/x-python",
   "name": "python",
   "nbconvert_exporter": "python",
   "pygments_lexer": "ipython3",
   "version": "3.6.6"
  }
 },
 "nbformat": 4,
 "nbformat_minor": 2
}
