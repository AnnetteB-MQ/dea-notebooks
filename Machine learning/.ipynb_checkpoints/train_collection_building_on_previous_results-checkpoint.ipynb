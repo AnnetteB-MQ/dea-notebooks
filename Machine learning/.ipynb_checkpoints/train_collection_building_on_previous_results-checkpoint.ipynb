{
 "cells": [
  {
   "cell_type": "code",
   "execution_count": 1,
   "metadata": {},
   "outputs": [],
   "source": [
    "%load_ext autoreload\n",
    "%autoreload 2\n"
   ]
  },
  {
   "cell_type": "code",
   "execution_count": null,
   "metadata": {},
   "outputs": [],
   "source": [
    "from datacube import helpers"
   ]
  },
  {
   "cell_type": "code",
   "execution_count": null,
   "metadata": {},
   "outputs": [],
   "source": []
  },
  {
   "cell_type": "code",
   "execution_count": null,
   "metadata": {},
   "outputs": [],
   "source": [
    "#load modules\n",
    "import datacube\n",
    "dc = datacube.Datacube()\n",
    "from datacube.storage import masking\n",
    "from datacube import Datacube\n",
    "from datetime import datetime\n",
    "from skimage import exposure\n",
    "\n",
    "import rasterio\n",
    "from datacube_stats.statistics import GeoMedian\n",
    "from matplotlib import pyplot as plt\n",
    "import numpy as np\n",
    "import pandas as pd\n",
    "import xarray as xr\n",
    "\n",
    "import geopandas as gpd\n",
    "from sklearn.ensemble import ExtraTreesClassifier\n",
    "import datacube_stats\n",
    "import os\n",
    "# Replace '156' and 'ck9738' with the path to your own home directory on the VDI\n",
    "#s2aws = Datacube(config='/g/data/u46/users/ck9738/datacube-s2ard.conf')"
   ]
  },
  {
   "cell_type": "code",
   "execution_count": null,
   "metadata": {},
   "outputs": [],
   "source": [
    "#define nessisary gotiff handeling fuctions\n",
    "\n",
    "import xarray, rasterio, numpy as np\n",
    "def numpy_to_xarray(array, geobox, name=None):\n",
    "    \"\"\"Utility to convert ndarray to DataArray, using a datacube.model.GeoBox\"\"\"\n",
    "    coords=[xarray.Coordinate(x, geobox.coords[x].values, attrs=dict(units=geobox.coords[x].units)) \n",
    "            for x in geobox.dims]\n",
    "    return xarray.DataArray(array, coords=coords, attrs=dict(crs=geobox.crs), name=name)\n",
    "\n",
    "def geopandas_to_xarray(table, geobox, name=None):\n",
    "    \"\"\"Rasterise (with reprojection)\"\"\"\n",
    "    array = rasterio.features.rasterize(shapes=table.to_crs(geobox.crs._crs.ExportToProj4()).geometry,\n",
    "                                        out_shape=(geobox.height, geobox.width),\n",
    "                                        transform=geobox.affine)\n",
    "    return numpy_to_xarray(array, geobox, name)\n",
    "\n",
    "def rasterfile_to_xarray(file, geobox, name=None, nodata=True, num_bands=(1), X_band= 1):\n",
    "    \"\"\"Blit like\n",
    "    \"\"\"\n",
    "    with rasterio.open(file) as src:\n",
    "\n",
    "        #|assert src.indexes == num_bands # assume single band\n",
    "        band = rasterio.band(src, X_band) # do not attempt to read entire extent into memory\n",
    "        array = np.empty((geobox.height, geobox.width), dtype=band.dtype)\n",
    "        rasterio.warp.reproject(source=band,\n",
    "                                destination=array,\n",
    "                                dst_crs=geobox.crs.crs_str,\n",
    "                                dst_transform=geobox.affine,\n",
    "                                dst_nodata=nodata)\n",
    "    return numpy_to_xarray(array, geobox, name)"
   ]
  },
  {
   "cell_type": "code",
   "execution_count": null,
   "metadata": {},
   "outputs": [],
   "source": [
    "#define area\n",
    "# open  shapfile and get the lan/lon from that \n",
    "def make_coords(filename):\n",
    "    shapefile_loc='/g/data/u46/users/ck9738/Datasets/ML_for_smad_green/shapefiles_for_train/GM_train_multi_bioregion/'+filename\n",
    "\n",
    "    #import project area shapefiles\n",
    "    project_area = gpd.read_file(shapefile_loc)\n",
    "\n",
    "    #convert the shapefile to GDA94 lat-long coords so we can query dc_load using lat long\n",
    "    project_area['geometry'] = project_area['geometry'].to_crs(epsg=4283)\n",
    "\n",
    "    #find the bounding box that contains all the queried projects\n",
    "\n",
    "    coords = project_area.total_bounds\n",
    "    xmin, ymax, xmax, ymin =coords\n",
    "    return(xmin, ymax, xmax, ymin)\n",
    "\n",
    "def load_data(xmin, ymax, xmax, ymin):#load sentinal data\n",
    "\n",
    "\n",
    "    bands_of_int =['red'\n",
    "             #'blue', 'green', 'rededge1', \n",
    "             #'rededge2', 'rededge3', 'nir1', 'nir2', 'swir1', 'swir2', 'pixel_quality'\n",
    "                  ] #pick the sentinal bands that you want, here i am just using visible light  \n",
    "\n",
    "    query = {\n",
    "            'lat': (ymin, ymax),\n",
    "            'lon': (xmin, xmax),\n",
    "            'output_crs': 'EPSG:3577',\n",
    "            'resolution': (-25, 25),\n",
    "            'time':('2017-01-01', '2017-03-30')\n",
    "            }\n",
    "      \n",
    "# use s2b_ard_granule \t for S2B\n",
    "    data_sent = dc.load(product='ls8_nbar_albers', measurements=bands_of_int, group_by='solar_day', **query)\n",
    "    data_sent= data_sent.isel(time=0)\n",
    "    return(data_sent)\n",
    "#data_sent = data_sent.where(clear_pixels)\n"
   ]
  },
  {
   "cell_type": "code",
   "execution_count": null,
   "metadata": {},
   "outputs": [],
   "source": [
    "#turn array into panda series\n",
    "def array_topanda_s(array):\n",
    "    a,b = array.shape\n",
    "    length_be = int(a)+int(b)\n",
    "    flat = array.stack(z=('y','x'))\n",
    "    #ones_array = np.ones_like(flat)\n",
    "    #ones_array = np.where(flat)\n",
    "    panda_series = pd.Series(flat)\n",
    "    return(panda_series)"
   ]
  },
  {
   "cell_type": "code",
   "execution_count": null,
   "metadata": {},
   "outputs": [],
   "source": [
    "#filelist = ['ncas_base_1.shp','ncas_base_2.shp','ncas_base_3.shp','ncas_base_4.shp','ncas_base_5.shp']#'ncas_urb_p_base_1.shp']\n",
    "#filelist =['ncas_base_6.shp','ncas_base_7.shp','ncas_base_8.shp','ncas_urban_8.shp','ncas_urban_9.shp']#\n",
    "master_panda = pd.DataFrame()"
   ]
  },
  {
   "cell_type": "code",
   "execution_count": null,
   "metadata": {},
   "outputs": [],
   "source": [
    "filelist = ['parkseast1.shp','parkseast2.shp','parkseast3.shp']#,'ausalps_1.shp'\n",
    "\n",
    "master_panda = pd.DataFrame()"
   ]
  },
  {
   "cell_type": "code",
   "execution_count": null,
   "metadata": {
    "scrolled": true
   },
   "outputs": [],
   "source": [
    "\n",
    "\n",
    "for files in filelist1:\n",
    "    #create panda_dataframe\n",
    "    #open some sent data\n",
    "    xmin, ymax, xmax, ymin = make_coords(files)\n",
    "    sent_data = load_data(xmin, ymax, xmax, ymin)\n",
    "    #use sent geobox to load up ncas product and smad_green prod.\n",
    "    previous_classification = rasterfile_to_xarray(\"/g/data/u46/users/ck9738/Datasets/ML_for_smad_green/classification_outputs/Pakrks_urbare_one.tif\",\n",
    "                               sent_data.geobox, num_bands=(1), X_band= 4)\n",
    "\n",
    "    \n",
    "    little_panda = pd.DataFrame()\n",
    "    \n",
    "    little_panda['class']=array_topanda_s(previous_classification)\n",
    "\n",
    "    #little_panda = little_panda.replace(to_replace=[False,True], value=[0,1])\n",
    "    #load smad_green product\n",
    "    bands=[1,2,3]\n",
    "    group_smad_green = {}\n",
    "    for band in bands:\n",
    "        smad_green = rasterfile_to_xarray('/g/data/u46/users/dxr251/woody-v6/woody_60_-149.tif',\n",
    "                                   sent_data.geobox, num_bands=(1,2,3), X_band=band)\n",
    "        smad_green_series = array_topanda_s(smad_green)\n",
    "    \n",
    "        little_panda[band] = smad_green_series\n",
    "        group_smad_green[band] = smad_green\n",
    "\n",
    "    \n",
    "    fig, ax = plt.subplots(figsize = (12,12))\n",
    "    cax = ax.imshow(previous_classification)\n",
    "\n",
    "    plt.show()\n",
    "    \n",
    "\n",
    "    little_panda = little_panda.dropna(axis=0)\n",
    "    master_panda = master_panda.append(little_panda,ignore_index=True)\n",
    "master_panda"
   ]
  },
  {
   "cell_type": "code",
   "execution_count": null,
   "metadata": {},
   "outputs": [],
   "source": [
    "master_panda.to_csv('/g/data/u46/users/ck9738/Datasets/ML_for_smad_green/shapefiles_for_train/urbare_reniforced_1.csv')"
   ]
  },
  {
   "cell_type": "code",
   "execution_count": null,
   "metadata": {},
   "outputs": [],
   "source": []
  },
  {
   "cell_type": "code",
   "execution_count": null,
   "metadata": {},
   "outputs": [],
   "source": []
  },
  {
   "cell_type": "code",
   "execution_count": null,
   "metadata": {},
   "outputs": [],
   "source": []
  }
 ],
 "metadata": {
  "kernelspec": {
   "display_name": "Python 3",
   "language": "python",
   "name": "python3"
  },
  "language_info": {
   "codemirror_mode": {
    "name": "ipython",
    "version": 3
   },
   "file_extension": ".py",
   "mimetype": "text/x-python",
   "name": "python",
   "nbconvert_exporter": "python",
   "pygments_lexer": "ipython3",
   "version": "3.6.6"
  }
 },
 "nbformat": 4,
 "nbformat_minor": 2
}
