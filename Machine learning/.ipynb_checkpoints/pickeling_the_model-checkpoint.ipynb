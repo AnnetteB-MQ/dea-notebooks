{
 "cells": [
  {
   "cell_type": "markdown",
   "metadata": {},
   "source": [
    "# Pickeling the Model\n",
    "\n",
    "This notebook defines, trains and saves to file the Extra random forrest classifier used in the __Woody vegitation classifier using saved extra random forrest model__ notebook. It creates an sklearn.ensemble ExtraTreesClassifier with 250 base learners trained on a datset in CSV fromat.\n",
    "\n"
   ]
  },
  {
   "cell_type": "code",
   "execution_count": 8,
   "metadata": {},
   "outputs": [
    {
     "name": "stdout",
     "output_type": "stream",
     "text": [
      "(538079, 10) (538079, 1)\n"
     ]
    },
    {
     "name": "stderr",
     "output_type": "stream",
     "text": [
      "/g/data/v10/public/modules/dea-env/20180728/lib/python3.6/site-packages/ipykernel_launcher.py:27: FutureWarning: Method .as_matrix will be removed in a future version. Use .values instead.\n",
      "/g/data/v10/public/modules/dea-env/20180728/lib/python3.6/site-packages/ipykernel_launcher.py:28: FutureWarning: Method .as_matrix will be removed in a future version. Use .values instead.\n"
     ]
    }
   ],
   "source": [
    "import pandas as pd\n",
    "import numpy as np\n",
    "from sklearn.ensemble import ExtraTreesClassifier\n",
    "import pickle\n",
    "\n",
    "#define the file location of the training dataset \n",
    "\n",
    "training_file = '/g/data/u46/users/ck9738/Machine_learning-datasets/aus_alps_traning_10_small_even.csv'\n",
    "\n",
    "#define the file name of the saved model\n",
    "\n",
    "model_path = '/g/data/u46/users/ck9738/Machine_learning-datasets/ERF_tree_model.pickle'\n",
    "\n",
    "#load traning data from file \n",
    "\n",
    "training_data = pd.read_csv(training_file)\n",
    "\n",
    "#check to remove any infinte numbers from training data\n",
    "\n",
    "training_data = training_data.replace([np.inf, -np.inf], np.nan)\n",
    "training_data = training_data.dropna(axis=0)\n",
    "\n",
    "#split the training data into two arrays: an array for the features and an array for the classifications. this is what we\n",
    "#will directly use to train the classifier\n",
    "\n",
    "training_features = training_data.as_matrix(columns=['Band 1', 'Band 2','Band 3', 'Band 4', 'Band 5', 'Band 6', \n",
    "                                                     'Band 7', 'Band 8', 'Band 9', 'Band 10']).astype(np.float) #create Array of features for training\n",
    "training_class = training_data.as_matrix(columns=['class']).astype(np.float) #create Array of classification answer for training\n",
    "#training_class\n",
    "print(training_features.shape, training_class.shape)\n",
    "\n"
   ]
  },
  {
   "cell_type": "code",
   "execution_count": 9,
   "metadata": {},
   "outputs": [
    {
     "data": {
      "text/plain": [
       "True"
      ]
     },
     "execution_count": 9,
     "metadata": {},
     "output_type": "execute_result"
    }
   ],
   "source": [
    "\n",
    "# check that the training data contains no Nans. Pandas datafram will not give an error if you miss-index when transforming\n",
    "#into a matrix, it will just give you an empty colum of the correct size instead\n",
    "np.all(np.isfinite(training_features))"
   ]
  },
  {
   "cell_type": "code",
   "execution_count": 10,
   "metadata": {},
   "outputs": [
    {
     "name": "stderr",
     "output_type": "stream",
     "text": [
      "/g/data/v10/public/modules/dea-env/20180728/lib/python3.6/site-packages/ipykernel_launcher.py:6: DataConversionWarning: A column-vector y was passed when a 1d array was expected. Please change the shape of y to (n_samples,), for example using ravel().\n",
      "  \n"
     ]
    },
    {
     "data": {
      "text/plain": [
       "ExtraTreesClassifier(bootstrap=True, class_weight=None, criterion='gini',\n",
       "           max_depth=None, max_features='auto', max_leaf_nodes=None,\n",
       "           min_impurity_decrease=0.0, min_impurity_split=None,\n",
       "           min_samples_leaf=1, min_samples_split=2,\n",
       "           min_weight_fraction_leaf=0.0, n_estimators=250, n_jobs=1,\n",
       "           oob_score=True, random_state=0, verbose=0, warm_start=False)"
      ]
     },
     "execution_count": 10,
     "metadata": {},
     "output_type": "execute_result"
    }
   ],
   "source": [
    "#define machine learning algarithm \n",
    "Actuall_classifier = ExtraTreesClassifier(n_estimators=250, bootstrap=True, oob_score=True, random_state=0)\n",
    "#250 estimators takes longer than default (10) but does a better job.\n",
    "#n_jobs makes trees run in parralell, uses more memory but increases speed. \n",
    "\n",
    "Actuall_classifier.fit(training_features,training_class)#fit the moddle to the training data\n",
    "#train\n",
    "\n"
   ]
  },
  {
   "cell_type": "code",
   "execution_count": 11,
   "metadata": {},
   "outputs": [],
   "source": [
    "#pickle the model\n",
    "\n",
    "with open(model_path, 'wb') as f:\n",
    "    pickle.dump(Actuall_classifier,f)"
   ]
  },
  {
   "cell_type": "code",
   "execution_count": null,
   "metadata": {},
   "outputs": [],
   "source": []
  }
 ],
 "metadata": {
  "kernelspec": {
   "display_name": "Python 3",
   "language": "python",
   "name": "python3"
  },
  "language_info": {
   "codemirror_mode": {
    "name": "ipython",
    "version": 3
   },
   "file_extension": ".py",
   "mimetype": "text/x-python",
   "name": "python",
   "nbconvert_exporter": "python",
   "pygments_lexer": "ipython3",
   "version": "3.6.6"
  }
 },
 "nbformat": 4,
 "nbformat_minor": 2
}
