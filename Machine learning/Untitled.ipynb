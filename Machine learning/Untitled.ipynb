{
 "cells": [
  {
   "cell_type": "code",
   "execution_count": 1,
   "metadata": {},
   "outputs": [],
   "source": [
    "#load moduels\n",
    "#load modules\n",
    "import datacube\n",
    "from datacube.storage import masking\n",
    "from datacube import Datacube\n",
    "from datetime import datetime\n",
    "from skimage import exposure\n",
    "from datacube import helpers\n",
    "\n",
    "import gdal\n",
    "\n",
    "import rasterio\n",
    "from datacube_stats.statistics import GeoMedian\n",
    "from matplotlib import pyplot as plt\n",
    "import numpy as np\n",
    "import pandas as pd\n",
    "import xarray as xr\n",
    "\n",
    "import geopandas as gpd\n",
    "from sklearn.ensemble import ExtraTreesClassifier\n",
    "import datacube_stats\n",
    "import os\n",
    "# Replace '156' and 'ck9738' with the path to your own home directory on the VDI\n",
    "s2aws = Datacube(config='/g/data/u46/users/ck9738/datacube-s2ard.conf')"
   ]
  },
  {
   "cell_type": "code",
   "execution_count": 2,
   "metadata": {},
   "outputs": [],
   "source": [
    "gm_to_open = '/g/data/u46/users/ck9738/Datasets/ML_for_smad_green/classification_outputs/gm_treeclassification_NBART_15_-38_ausalps3.nc'"
   ]
  },
  {
   "cell_type": "code",
   "execution_count": 3,
   "metadata": {},
   "outputs": [
    {
     "data": {
      "text/plain": [
       "<xarray.Dataset>\n",
       "Dimensions:     (time: 1, x: 10000, y: 10000)\n",
       "Coordinates:\n",
       "  * x           (x) float64 1.5e+06 1.5e+06 1.5e+06 1.5e+06 1.5e+06 1.5e+06 ...\n",
       "  * y           (y) float64 -3.7e+06 -3.7e+06 -3.7e+06 -3.7e+06 -3.7e+06 ...\n",
       "  * time        (time) datetime64[ns] 2015-01-01\n",
       "Data variables:\n",
       "    t_blue      (time, y, x) float32 ...\n",
       "    t_green     (time, y, x) float32 ...\n",
       "    t_red       (time, y, x) float32 ...\n",
       "    t_rededge1  (time, y, x) float32 ...\n",
       "    t_rededge2  (time, y, x) float32 ...\n",
       "    t_rededge3  (time, y, x) float32 ...\n",
       "    t_nir1      (time, y, x) float32 ...\n",
       "    t_nir2      (time, y, x) float32 ...\n",
       "    t_swir1     (time, y, x) float32 ...\n",
       "    t_swir2     (time, y, x) float32 ...\n",
       "    class       (y, x) float32 ...\n",
       "    no_data     (x, y) bool ...\n",
       "Attributes:\n",
       "    date_created:           2018-08-21T13:52:56.786222\n",
       "    Conventions:            CF-1.6, ACDD-1.3\n",
       "    history:                NetCDF-CF file created by datacube version '1.6rc...\n",
       "    geospatial_bounds:      POLYGON ((148.218557449068 -33.0494939894873,148....\n",
       "    geospatial_bounds_crs:  EPSG:4326\n",
       "    geospatial_lat_min:     -33.938192607249526\n",
       "    geospatial_lat_max:     -32.932445880425675\n",
       "    geospatial_lat_units:   degrees_north\n",
       "    geospatial_lon_min:     148.2185574490684\n",
       "    geospatial_lon_max:     149.4335801428971\n",
       "    geospatial_lon_units:   degrees_east"
      ]
     },
     "execution_count": 3,
     "metadata": {},
     "output_type": "execute_result"
    }
   ],
   "source": [
    "#load geomedian into a xr dataset\n",
    "Geomedian_dataset = xr.open_dataset(gm_to_open, drop_variables=(\"crs\",'dataset'))\n",
    "\n",
    "Geomedian_dataset"
   ]
  }
 ],
 "metadata": {
  "kernelspec": {
   "display_name": "Python 3",
   "language": "python",
   "name": "python3"
  },
  "language_info": {
   "codemirror_mode": {
    "name": "ipython",
    "version": 3
   },
   "file_extension": ".py",
   "mimetype": "text/x-python",
   "name": "python",
   "nbconvert_exporter": "python",
   "pygments_lexer": "ipython3",
   "version": "3.6.6"
  }
 },
 "nbformat": 4,
 "nbformat_minor": 2
}
