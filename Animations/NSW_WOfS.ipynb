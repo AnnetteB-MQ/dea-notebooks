{
 "cells": [
  {
   "cell_type": "code",
   "execution_count": null,
   "metadata": {},
   "outputs": [],
   "source": [
    "import os\n",
    "import sys\n",
    "import datacube\n",
    "import numpy as np\n",
    "import pandas as pd\n",
    "import xarray as xr\n",
    "from datacube.utils import geometry\n",
    "from datacube.utils.geometry import CRS\n",
    "from datacube import Datacube\n",
    "import geopandas as gpd\n",
    "import affine\n",
    "\n",
    "\n",
    "import rasterio\n",
    "import matplotlib.pyplot as plt\n",
    "import rasterio.features\n",
    "\n",
    "# Import external functions from dea-notebooks using relative link to Scripts\n",
    "sys.path.append('../10_Scripts')\n",
    "import DEAPlotting\n",
    "# import DEADataHandling\n",
    "# import SpatialTools\n",
    "\n",
    "# Connect to datacube database\n",
    "dc = datacube.Datacube(app='Time series animation')\n",
    "\n",
    "%load_ext autoreload\n",
    "%autoreload 2\n",
    "\n",
    "\n",
    "def interpolate_timeseries(ds, freq='7D', method='linear'):\n",
    "    \n",
    "    \"\"\"\n",
    "    Interpolate new data between each existing xarray timestep at a given\n",
    "    frequency. For example, `freq='7D'` will interpolate new values at weekly\n",
    "    intervals from the start time of the xarray dataset to the end time. \n",
    "    `freq='24H'` will interpolate new values for each day, etc.\n",
    "    \n",
    "    Parameters\n",
    "    ----------  \n",
    "    ds : xarray Dataset\n",
    "        The xarray dataset to interpolate new time-step observations for.\n",
    "        \n",
    "    freq : string or int, optional\n",
    "        An optional string or integer giving the frequency at which to interpolate new \n",
    "        time-step observations. To interpolate a time series at a constant/regualar time \n",
    "        frequency (e.g. weekly or monthly), use a Pandas offset alias string (e.g. '7D'): \n",
    "        https://pandas.pydata.org/pandas-docs/stable/timeseries.html#timeseries-offset-aliases\n",
    "        Alternatively, specify an integer to insert X evenly spaced new time steps between\n",
    "        each existing timestep in the dataset (e.g. a value of 1 will create 1 new frame\n",
    "        between every existing timestep). Defaults to Pandas offset '7D' which interpolates \n",
    "        new values at weekly intervals.\n",
    "        \n",
    "    method : string, optional\n",
    "        An optional string giving the interpolation method to use to generate new time-steps.\n",
    "        Default is 'linear'; options are {'linear', 'nearest'} for multidimensional arrays and\n",
    "        {'linear', 'nearest', 'zero', 'slinear', 'quadratic', 'cubic'} for 1-dimensional arrays.\n",
    "        \n",
    "    Returns\n",
    "    -------\n",
    "    A xarray dataset covering the same time period as `ds`, but with new timesteps interpolated \n",
    "    for each time-step given by `freq`.\n",
    "        \n",
    "    \"\"\"    \n",
    "    \n",
    "    if isinstance(freq, str):\n",
    "    \n",
    "        # Use pandas to generate dates from start to end of ds at a given frequency\n",
    "        start_time = ds.isel(time=0).time.values.item() \n",
    "        end_time = ds.isel(time=-1).time.values.item()    \n",
    "        from_to = pd.date_range(start=start_time, end=end_time, freq=freq)\n",
    "\n",
    "        # Use these dates to linearly interpolate new data for each new date\n",
    "        print('Interpolating {} time-steps at {} intervals'.format(len(from_to), freq))\n",
    "        return ds.interp(coords={'time': from_to}, method=method)\n",
    "    \n",
    "    elif isinstance(freq, int):\n",
    "        \n",
    "        # Get array of all timesteps\n",
    "        ds_times = ds.time.values\n",
    "\n",
    "        # Create list to save output\n",
    "        interp_times_all = []\n",
    "\n",
    "        # For each pair of timestamps, interpolate intermediate frames\n",
    "        for i, value in enumerate(ds_times[:-1]):\n",
    "\n",
    "            # Interpolate new dates between start and end dates\n",
    "            interp_times = pd.date_range(start=value, end=ds_times[i+1], periods=(2 + freq))\n",
    "\n",
    "            # Keep only new dates, not start and end dates\n",
    "            interp_times_all.append(interp_times[1:-1].values)\n",
    "\n",
    "        # Combine new dates with old dates and sort\n",
    "        from_to = np.concatenate([*interp_times_all, ds_times])\n",
    "        from_to.sort()\n",
    "        \n",
    "        # Use these dates to linearly interpolate new data for each new date\n",
    "        print('Interpolating {} time-steps by generating {} intermediate frames'.format(len(from_to), freq))\n",
    "        return ds.interp(coords={'time': from_to}, method=method)\n"
   ]
  },
  {
   "cell_type": "code",
   "execution_count": 4,
   "metadata": {},
   "outputs": [
    {
     "data": {
      "text/plain": [
       "'1.6.2+398.g0e94625d'"
      ]
     },
     "execution_count": 4,
     "metadata": {},
     "output_type": "execute_result"
    }
   ],
   "source": [
    "datacube.__version__"
   ]
  },
  {
   "cell_type": "code",
   "execution_count": null,
   "metadata": {},
   "outputs": [],
   "source": [
    "import geopandas as gpd\n",
    "import os\n",
    "\n",
    "nsw_boundary = gpd.read_file('/g/data/r78/rt1527/shapefiles/australia/new_south_wales/cstnswcd_r.shp')\n",
    "# nsw_boundary = gpd.read_file('/g/data/r78/rt1527/dea-notebooks/Animations/state_subset.shp')\n",
    "nsw_boundary = nsw_boundary[nsw_boundary.FEAT_CODE == 'mainland']\n",
    "nsw_boundary = nsw_boundary.to_crs({'init': 'EPSG:3577'}).unary_union\n",
    "nsw_boundary"
   ]
  },
  {
   "cell_type": "code",
   "execution_count": null,
   "metadata": {},
   "outputs": [],
   "source": [
    "# Use the polygon to create a datacube geometry object based on geojson and projection\n",
    "geom = geometry.Geometry(nsw_boundary.__geo_interface__, \n",
    "                         crs=geometry.CRS('EPSG:3577'))\n",
    "\n",
    "# Use this geometry to create a spatiotemporal query that will be passed on to the datacube\n",
    "query = {'geopolygon': geom,   \n",
    "         'time': ('2011', '2011'),\n",
    "         'output_crs': 'EPSG:3577',\n",
    "         'resampling': 'average',\n",
    "         'resolution': (-2500, 2500)} \n",
    "\n",
    "# wofs_aproct_ds = dc.load(product='wofs_apr_oct_summary', measurements=['frequency'], dask_chunks={'time': 1}, **query)\n",
    "# wofs_novmar_ds = dc.load(product='wofs_nov_mar_summary', measurements=['frequency'], dask_chunks={'time': 1}, **query)\n",
    "# wofs_ds = xr.concat([wofs_aproct_ds, wofs_novmar_ds], dim='time').sortby('time')\n",
    "\n",
    "wofs_ds = dc.load(product='wofs_annual_summary', measurements=['frequency'], dask_chunks={'time': 1}, **query)\n",
    "# wofs_resamp = wofs_ds.where(wofs_ds.frequency > 0).coarsen(x=10, y=10, boundary='trim').mean(keep_attrs=True)\n",
    "# wofs_resamp.isel(time=0).frequency.plot(size=6)"
   ]
  },
  {
   "cell_type": "code",
   "execution_count": null,
   "metadata": {},
   "outputs": [],
   "source": [
    "wofs_ds.isel(time=0).frequency.plot(size=6)"
   ]
  },
  {
   "cell_type": "code",
   "execution_count": null,
   "metadata": {},
   "outputs": [],
   "source": [
    "mask = rasterio.features.rasterize(shapes=[(nsw_boundary, 1)],\n",
    "                                   out_shape=(wofs_resamp.dims['y'], wofs_resamp.dims['x']),\n",
    "                                   transform=wofs_ds.geobox.transform * affine.Affine.scale(10))\n",
    "\n",
    "plt.imshow(mask)"
   ]
  },
  {
   "cell_type": "code",
   "execution_count": null,
   "metadata": {},
   "outputs": [],
   "source": [
    "wofs_resamp = wofs_resamp.where(mask).compute()\n"
   ]
  },
  {
   "cell_type": "code",
   "execution_count": null,
   "metadata": {},
   "outputs": [],
   "source": [
    "wofs_animation_ds = interpolate_timeseries(wofs_resamp, freq=10, method='linear')"
   ]
  },
  {
   "cell_type": "code",
   "execution_count": null,
   "metadata": {},
   "outputs": [],
   "source": [
    "DEAPlotting.animated_timeseries(ds=wofs_animation_ds,\n",
    "                                output_path=f'animated_timeseries_NSWWOfS_2.mp4',\n",
    "                                bands=['frequency'],\n",
    "                                interval=80,\n",
    "                                width_pixels=800,\n",
    "                                percentile_stretch=[0.0, 0.99],\n",
    "                                onebandplot_cbar=False,\n",
    "                                show_date=False,\n",
    "                                title=wofs_animation_ds.time.dt.year.values.tolist(),\n",
    "                                annotation_kwargs={'xy': (0.15, 0.13)},\n",
    "                                onebandplot_kwargs={'interpolation': 'nearest', 'cmap': 'Blues', 'vmin': 0.0, 'vmax': 0.3}  # \n",
    "                               )"
   ]
  },
  {
   "cell_type": "code",
   "execution_count": null,
   "metadata": {},
   "outputs": [],
   "source": [
    "wofs_animation_ds"
   ]
  }
 ],
 "metadata": {
  "kernelspec": {
   "display_name": "Python 3",
   "language": "python",
   "name": "python3"
  },
  "language_info": {
   "codemirror_mode": {
    "name": "ipython",
    "version": 3
   },
   "file_extension": ".py",
   "mimetype": "text/x-python",
   "name": "python",
   "nbconvert_exporter": "python",
   "pygments_lexer": "ipython3",
   "version": "3.6.7"
  }
 },
 "nbformat": 4,
 "nbformat_minor": 2
}
