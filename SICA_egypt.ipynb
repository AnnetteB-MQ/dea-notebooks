{
 "cells": [
  {
   "cell_type": "markdown",
   "metadata": {},
   "source": [
    "# Examining irrigated area in the Nile Valley"
   ]
  },
  {
   "cell_type": "markdown",
   "metadata": {},
   "source": [
    "## Import modules"
   ]
  },
  {
   "cell_type": "code",
   "execution_count": null,
   "metadata": {},
   "outputs": [],
   "source": [
    "%matplotlib inline\n",
    "import datacube.utils.rio\n",
    "import datacube\n",
    "import matplotlib.pyplot as plt\n",
    "import numpy as np\n",
    "import xarray as xr\n",
    "import pandas as pd\n",
    "import scipy\n",
    "from datacube.helpers import write_geotiff\n",
    "import sys\n",
    "from skimage import filters\n",
    "from datacube.storage.masking import make_mask\n",
    "from skimage import exposure\n",
    "from xr_geomedian import xr_geomedian\n",
    "%load_ext autoreload\n",
    "%autoreload 2\n",
    "\n",
    "sys.path.append('../../examples/Scripts')\n",
    "import deafrica_plotting\n",
    "import deafrica_datahandling\n",
    "\n",
    "import os\n",
    "import dask\n",
    "from datacube.utils.dask import start_local_dask\n",
    "from datacube.utils.rio import configure_s3_access\n",
    "\n",
    "import warnings\n",
    "warnings.filterwarnings(\"ignore\")\n",
    "\n",
    "#This will speed up loading data\n",
    "datacube.utils.rio.set_default_rio_config(aws='auto', cloud_defaults=True)"
   ]
  },
  {
   "cell_type": "code",
   "execution_count": null,
   "metadata": {},
   "outputs": [],
   "source": [
    "dask.config.set({\"distributed.dashboard.link\": \n",
    "        os.environ.get('JUPYTERHUB_SERVICE_PREFIX', '/')+\"proxy/{port}/status\"})\n",
    "\n",
    "client = start_local_dask(n_workers=2, threads_per_worker=2, memory_limit='8GB')\n",
    "display(client)\n",
    "\n",
    "creds = configure_s3_access(client=client, \n",
    "                            region_name='auto')"
   ]
  },
  {
   "cell_type": "markdown",
   "metadata": {},
   "source": [
    "## Connect to the datacube"
   ]
  },
  {
   "cell_type": "code",
   "execution_count": null,
   "metadata": {},
   "outputs": [],
   "source": [
    "dc = datacube.Datacube(app='test_collections')\n"
   ]
  },
  {
   "cell_type": "markdown",
   "metadata": {},
   "source": [
    "## User inputs"
   ]
  },
  {
   "cell_type": "code",
   "execution_count": null,
   "metadata": {},
   "outputs": [],
   "source": [
    "lat =  24.50 #senegal 16.4558  \n",
    "lon =  33.0 # -15.733\n",
    "buff = 0.1\n",
    "time = ('2017-06', '2019-02')\n",
    "res = (-30, 30)"
   ]
  },
  {
   "cell_type": "markdown",
   "metadata": {},
   "source": [
    "### View the selected location"
   ]
  },
  {
   "cell_type": "code",
   "execution_count": null,
   "metadata": {},
   "outputs": [],
   "source": [
    "# deafrica_plotting.display_map(x=(lon-buff, lon+buff+0.275), y=(lat+buff, lat-buff))"
   ]
  },
  {
   "cell_type": "markdown",
   "metadata": {},
   "source": [
    "## Load data and cloud mask"
   ]
  },
  {
   "cell_type": "code",
   "execution_count": null,
   "metadata": {},
   "outputs": [],
   "source": [
    "# Create a query object\n",
    "queryC2 = {\n",
    "    'x': (lon-buff, lon+buff),\n",
    "    'y': (lat+buff, lat-buff),\n",
    "    'time': (time),\n",
    "    'resolution': res,\n",
    "    'group_by': 'solar_day'\n",
    "}"
   ]
  },
  {
   "cell_type": "code",
   "execution_count": null,
   "metadata": {},
   "outputs": [],
   "source": [
    "# find most common crs to allow\n",
    "# native loading with correct crs\n",
    "crs = deafrica_datahandling.mostcommon_crs(dc=dc,\n",
    "                                          product='usgs_ls8c_level2_2',\n",
    "                                          query=queryC2)"
   ]
  },
  {
   "cell_type": "code",
   "execution_count": null,
   "metadata": {},
   "outputs": [],
   "source": [
    "#load data\n",
    "col2 = deafrica_datahandling.load_masked_usgs(dc=dc,\n",
    "                                            products=['usgs_ls8c_level2_2'],\n",
    "                                            output_crs=crs,\n",
    "                                            measurements=['red', 'green', 'blue'], #'surface_temperature'\n",
    "                                            dask_chunks = {'x':250, 'y':250},\n",
    "                                            lazy_load=True,\n",
    "                                            align=(15, 15),\n",
    "                                            **queryC2)\n",
    "\n",
    "# col2 = dc.load(product='usgs_ls8c_level2_2',\n",
    "#                **queryC2,\n",
    "#                output_crs=crs,\n",
    "#                measurements=['red', 'green', 'blue', 'quality_l2_aerosol'],\n",
    "#                align=(15, 15),\n",
    "#                dask_chunks={'x':250, 'y':250})\n",
    "\n",
    "# valid_data_C2 = make_mask(col2[\"quality_l2_aerosol\"],\n",
    "#                           cloud_shadow=\"not_cloud_shadow\",\n",
    "#                           cloud_or_cirrus=\"not_cloud_or_cirrus\")\n",
    "\n",
    "\n",
    "# col2 = col2.where(valid_data_C2)"
   ]
  },
  {
   "cell_type": "code",
   "execution_count": null,
   "metadata": {},
   "outputs": [],
   "source": [
    "# dask.visualize(col2)"
   ]
  },
  {
   "cell_type": "markdown",
   "metadata": {},
   "source": [
    "## Calculate irrigated area using seasonal maximum ndvi\n"
   ]
  },
  {
   "cell_type": "code",
   "execution_count": null,
   "metadata": {},
   "outputs": [],
   "source": [
    "#calculate ndvi\n",
    "ndvi = ((col2.nir - col2.red)/(col2.nir + col2.red))\n",
    "\n",
    "#calculate seasonal max ndvi\n",
    "ndvi_smax = ndvi.resample(time='QS-JUN').max('time')\n",
    "ndvi_smax = ndvi_smax.fillna(0)"
   ]
  },
  {
   "cell_type": "code",
   "execution_count": null,
   "metadata": {},
   "outputs": [],
   "source": [
    "ndvi_smax = ndvi_smax.compute()"
   ]
  },
  {
   "cell_type": "code",
   "execution_count": null,
   "metadata": {},
   "outputs": [],
   "source": [
    "# thresholds = [0.2, 0.25, 0.30, 0.35, 0.40]\n",
    "thresholds = [0.30]\n",
    "\n",
    "#create padas dataframe for adding results too\n",
    "data_dict = {'Season': ndvi_smax.time.values}\n",
    "irr_area = pd.DataFrame(data=data_dict).set_index('Season')\n",
    "\n",
    "# Loop through thresholds and seasons and calculate area above threshold\n",
    "for thres in thresholds:\n",
    "    print(\"working on threshold \"+ str(thres))\n",
    "    \n",
    "    areas = []\n",
    "    for i in range(len(ndvi_smax.time)):\n",
    "        \n",
    "        # Convert our mean NDVI xarray into a numpy array\n",
    "        input_array = ndvi_smax.isel(time=i).values\n",
    "        \n",
    "        irr = input_array >= thres\n",
    "        area = np.count_nonzero(irr) * (30*30) / 10000\n",
    "        areas.append(area)\n",
    "        \n",
    "    name=str(thres)\n",
    "    irr_area[name] = areas\n"
   ]
  },
  {
   "cell_type": "markdown",
   "metadata": {},
   "source": [
    "### Plot irrigated time series"
   ]
  },
  {
   "cell_type": "code",
   "execution_count": null,
   "metadata": {},
   "outputs": [],
   "source": [
    "styles=['bs--', 'ro-', 'y^-', 'go-', 'rs-']\n",
    "irr_area.plot(figsize=(16,8), style = styles, legend=False)"
   ]
  },
  {
   "cell_type": "markdown",
   "metadata": {},
   "source": [
    "## Animations"
   ]
  },
  {
   "cell_type": "markdown",
   "metadata": {},
   "source": [
    "###  line plot animation of irrigation"
   ]
  },
  {
   "cell_type": "code",
   "execution_count": null,
   "metadata": {},
   "outputs": [],
   "source": [
    "# irr_area.columns(['Season', ('Ha')])"
   ]
  },
  {
   "cell_type": "code",
   "execution_count": null,
   "metadata": {},
   "outputs": [],
   "source": [
    "deafrica_plotting.animated_timeseriesline(\n",
    "    ndvi_smax.fillna(0).rename(\"Seasonal Maximum NDVI\").to_dataset(), #.rolling(time=4, center=True, min_periods=1).mean()\n",
    "    irr_area,\n",
    "    \"egypt_seasonal_irrigation_cividis.gif\",\n",
    "    width_pixels=1000,\n",
    "    interval=300,\n",
    "    bands=[\"Seasonal Maximum NDVI\"],\n",
    "    onebandplot_cbar=False,\n",
    "    show_date=False,\n",
    "    title=\"Seasonal Irrigated Area (ha)\",\n",
    "    onebandplot_kwargs={\"cmap\": \"cividis\", \"vmax\":\"0.55\"},\n",
    "    pandasplot_kwargs={\"legend\":False, \"style\": \"bs--\"},\n",
    ")"
   ]
  },
  {
   "cell_type": "markdown",
   "metadata": {},
   "source": [
    "### True colour animation"
   ]
  },
  {
   "cell_type": "code",
   "execution_count": null,
   "metadata": {},
   "outputs": [],
   "source": [
    "%%time\n",
    "\n",
    "rgb = col2.resample(time='QS-JUN').apply(xr_geomedian)\n"
   ]
  },
  {
   "cell_type": "code",
   "execution_count": null,
   "metadata": {},
   "outputs": [],
   "source": [
    "deafrica_plotting.rgb(rgb, col='time')"
   ]
  },
  {
   "cell_type": "code",
   "execution_count": null,
   "metadata": {},
   "outputs": [],
   "source": [
    "deafrica_plotting.animated_timeseries(rgb, 'rgb.gif',\n",
    "                                      width_pixels=1000, interval=300,\n",
    "                                      bands=['red', 'green', 'blue'],\n",
    "                                      percentile_stretch=(0.01, 0.99),\n",
    "                                      annotation_kwargs={'fontsize': 33},\n",
    "                                      title='Kom Umbu, Egypt',\n",
    "                                      show_date=True\n",
    "                                      )\n"
   ]
  },
  {
   "cell_type": "markdown",
   "metadata": {},
   "source": [
    "## Experimenting with LST"
   ]
  },
  {
   "cell_type": "code",
   "execution_count": null,
   "metadata": {},
   "outputs": [],
   "source": [
    "#calculate mean seasonal surface temp \n",
    "ST_mean = col2.surface_temperature.resample(time='QS-JUN').mean('time')\n",
    "ST_mean = ST_mean.fillna(0) #need to get rid of nans\n",
    "\n",
    "#calculate seasonal max ndvi\n",
    "ndvi = ((col2.nir - col2.red)/(col2.nir + col2.red))\n",
    "ndvi_smax = ndvi.resample(time='QS-JUN').max('time')\n",
    "ndvi_smax = ndvi_smax.fillna(0)"
   ]
  },
  {
   "cell_type": "code",
   "execution_count": null,
   "metadata": {},
   "outputs": [],
   "source": [
    "# ndvi_smax = ndvi_smax.compute()\n",
    "ST_mean = ST_mean.compute()"
   ]
  },
  {
   "cell_type": "code",
   "execution_count": null,
   "metadata": {},
   "outputs": [],
   "source": [
    "areas_LST=[]\n",
    "for i in range(len(ST_mean.time)):\n",
    "    #use OTSU to dynamically find thresholds\n",
    "    val_temp = filters.threshold_otsu(ST_mean.isel(time=i).values)\n",
    "#     val_ndvi = filters.threshold_otsu(ndvi_smax.isel(time=i).values)\n",
    "#     print(val_temp)\n",
    "    \n",
    "    #use thresholds to classify images\n",
    "    crop = ndvi_smax.isel(time=i).values >= 0.3\n",
    "    wet = ST_mean.isel(time=i).values <= val_temp\n",
    "    irr = crop & wet\n",
    "    \n",
    "    #count area irrigated\n",
    "    area = np.count_nonzero(irr) * (30*30) / 10000\n",
    "    areas_LST.append(area)\n",
    "    "
   ]
  },
  {
   "cell_type": "code",
   "execution_count": null,
   "metadata": {},
   "outputs": [],
   "source": [
    "#create padas dataframe for adding results too\n",
    "data_dict = {'Season': ndvi_smax.time.values, 'Irrigated Area (ha)': areas_LST}\n",
    "irr_area_LST = pd.DataFrame(data=data_dict).set_index('Season')"
   ]
  },
  {
   "cell_type": "code",
   "execution_count": null,
   "metadata": {},
   "outputs": [],
   "source": [
    "irr_area.plot(figsize=(10,5), style = 'bs-')"
   ]
  },
  {
   "cell_type": "code",
   "execution_count": null,
   "metadata": {},
   "outputs": [],
   "source": []
  },
  {
   "cell_type": "code",
   "execution_count": null,
   "metadata": {},
   "outputs": [],
   "source": [
    "print(np.count_nonzero(crop))\n",
    "print(np.count_nonzero(wet))\n",
    "print(np.count_nonzero(irr))"
   ]
  },
  {
   "cell_type": "code",
   "execution_count": null,
   "metadata": {},
   "outputs": [],
   "source": []
  },
  {
   "cell_type": "code",
   "execution_count": null,
   "metadata": {},
   "outputs": [],
   "source": []
  },
  {
   "cell_type": "code",
   "execution_count": null,
   "metadata": {},
   "outputs": [],
   "source": [
    "# Export the array\n",
    "# Plot to see result\n",
    "# x = xr.open_rasterio('results_sica/2018-12-01_0.5.tif').squeeze()\n",
    "# plt.figure(figsize=(20,20))\n",
    "# plt.imshow(irr, cmap='gist_earth_r', vmin=0.0, vmax=0.6)\n",
    "# plt.colorbar(shrink=0.5)\n",
    "\n",
    "\n",
    "\n",
    "# name = str(ndvi_smax.time.values[i])[:10] + \"_\" + str(thres)\n",
    "# dea_datahandling.array_to_geotiff('results_sica/201812_rgb.tif',\n",
    "#                                   ndvi_smax.isel(time=22).values,\n",
    "#                                   geo_transform=transform,\n",
    "#                                   projection=projection,\n",
    "#                                   nodata_val=np.nan)\n",
    "\n",
    "\n",
    "# transform = col2.geobox.transform.to_gdal()\n",
    "# projection = col2.geobox.crs.wkt\n",
    "\n",
    "#         # Calculate the segments\n",
    "#         segments = quickshift(input_array,\n",
    "#                               kernel_size=1,\n",
    "#                               convert2lab=False,\n",
    "#                               max_dist=10,\n",
    "#                               ratio=0.5)\n",
    "        \n",
    "#         # Calculate the zonal mean NDVI across the segments\n",
    "#         segments_zonalMean = scipy.ndimage.mean(input=input_array,\n",
    "#                                                     labels=segments,\n",
    "#                                                     index=segments)\n",
    "        \n",
    "#         irr = segments_zonalMean >= thres\n",
    "\n",
    "#calculate yearly mas ndvi\n",
    "# ndvi_max = ndvi.groupby('time.year').max('time').rename('ndvi_max')"
   ]
  },
  {
   "cell_type": "code",
   "execution_count": null,
   "metadata": {},
   "outputs": [],
   "source": [
    "    \n",
    "#     print(val)\n",
    "#     hist, bins_center = exposure.histogram(ST_mean.isel(time=i).values)\n",
    "\n",
    "#     plt.figure(figsize=(10, 5))\n",
    "#     plt.subplot(121)\n",
    "#     plt.imshow(ST_mean.isel(time=i).values < val, cmap='gray', interpolation='nearest')\n",
    "#     plt.subplot(122)\n",
    "#     plt.plot(bins_center, hist, lw=2)\n",
    "#     plt.axvline(val, color='k', ls='--')\n",
    "\n",
    "#     plt.tight_layout()\n",
    "#     plt.show()"
   ]
  },
  {
   "cell_type": "code",
   "execution_count": null,
   "metadata": {},
   "outputs": [],
   "source": []
  },
  {
   "cell_type": "code",
   "execution_count": null,
   "metadata": {},
   "outputs": [],
   "source": []
  },
  {
   "cell_type": "code",
   "execution_count": null,
   "metadata": {},
   "outputs": [],
   "source": []
  },
  {
   "cell_type": "code",
   "execution_count": null,
   "metadata": {},
   "outputs": [],
   "source": []
  }
 ],
 "metadata": {
  "kernelspec": {
   "display_name": "Python 3",
   "language": "python",
   "name": "python3"
  },
  "language_info": {
   "codemirror_mode": {
    "name": "ipython",
    "version": 3
   },
   "file_extension": ".py",
   "mimetype": "text/x-python",
   "name": "python",
   "nbconvert_exporter": "python",
   "pygments_lexer": "ipython3",
   "version": "3.6.8"
  }
 },
 "nbformat": 4,
 "nbformat_minor": 4
}
