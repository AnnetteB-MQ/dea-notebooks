{
 "cells": [
  {
   "cell_type": "code",
   "execution_count": 1,
   "metadata": {},
   "outputs": [
    {
     "name": "stderr",
     "output_type": "stream",
     "text": [
      "Using TensorFlow backend.\n"
     ]
    }
   ],
   "source": [
    "#import the modules needed\n",
    "import numpy\n",
    "import pandas as pd\n",
    "from keras.models import Sequential\n",
    "from keras.layers import Dense\n",
    "from keras.wrappers.scikit_learn import KerasClassifier\n",
    "from keras.utils import np_utils\n",
    "from sklearn.model_selection import cross_val_score\n",
    "from sklearn.model_selection import KFold\n",
    "from sklearn.preprocessing import LabelEncoder\n",
    "from sklearn.pipeline import Pipeline"
   ]
  },
  {
   "cell_type": "code",
   "execution_count": null,
   "metadata": {},
   "outputs": [],
   "source": [
    "#fix random seed\n",
    "seed = 7\n",
    "numpy.random.seed(seed)"
   ]
  },
  {
   "cell_type": "code",
   "execution_count": null,
   "metadata": {
    "scrolled": true
   },
   "outputs": [],
   "source": [
    "#load dataset with pands\n",
    "\n",
    "dataset = pd.read_csv('/g/data/u46/users/ck9738/Datasets/iris.csv')\n",
    "dataset"
   ]
  },
  {
   "cell_type": "code",
   "execution_count": null,
   "metadata": {},
   "outputs": [],
   "source": [
    "features = dataset.as_matrix(columns=['1','2','3','4']).astype(float)\n",
    "classes = dataset.as_matrix(columns=['class'])"
   ]
  },
  {
   "cell_type": "code",
   "execution_count": null,
   "metadata": {
    "scrolled": true
   },
   "outputs": [],
   "source": [
    "#use lable encoder to convert species names to number lables\n",
    "encoder = LabelEncoder()\n",
    "encoder.fit(classes)\n",
    "coded_classes = encoder.transform(classes)\n",
    "coded_classes = np_utils.to_categorical(coded_classes)\n"
   ]
  },
  {
   "cell_type": "code",
   "execution_count": null,
   "metadata": {},
   "outputs": [],
   "source": [
    "coded_classes"
   ]
  },
  {
   "cell_type": "code",
   "execution_count": null,
   "metadata": {},
   "outputs": [],
   "source": [
    "\n",
    "# define baseline model\n",
    "def baseline_model():\n",
    "    # create model\n",
    "    model = Sequential()\n",
    "    model.add(Dense(8, input_dim=4, activation='relu'))\n",
    "    model.add(Dense(3, activation='softmax'))\n",
    "    # Compile model\n",
    "    model.compile(loss='categorical_crossentropy', optimizer='adam', metrics=['accuracy'])\n",
    "    return model"
   ]
  },
  {
   "cell_type": "code",
   "execution_count": null,
   "metadata": {},
   "outputs": [],
   "source": [
    "#create the classififer using the defined baseline model\n",
    "estimator = KerasClassifier(build_fn=baseline_model, epochs=200, batch_size=5, verbose=0)"
   ]
  },
  {
   "cell_type": "code",
   "execution_count": 2,
   "metadata": {},
   "outputs": [
    {
     "name": "stdout",
     "output_type": "stream",
     "text": [
      "Help on class KerasClassifier in module keras.wrappers.scikit_learn:\n",
      "\n",
      "class KerasClassifier(BaseWrapper)\n",
      " |  Implementation of the scikit-learn classifier API for Keras.\n",
      " |  \n",
      " |  Method resolution order:\n",
      " |      KerasClassifier\n",
      " |      BaseWrapper\n",
      " |      builtins.object\n",
      " |  \n",
      " |  Methods defined here:\n",
      " |  \n",
      " |  fit(self, x, y, sample_weight=None, **kwargs)\n",
      " |      Constructs a new model with `build_fn` & fit the model to `(x, y)`.\n",
      " |      \n",
      " |      # Arguments\n",
      " |          x : array-like, shape `(n_samples, n_features)`\n",
      " |              Training samples where `n_samples` is the number of samples\n",
      " |              and `n_features` is the number of features.\n",
      " |          y : array-like, shape `(n_samples,)` or `(n_samples, n_outputs)`\n",
      " |              True labels for `x`.\n",
      " |          **kwargs: dictionary arguments\n",
      " |              Legal arguments are the arguments of `Sequential.fit`\n",
      " |      \n",
      " |      # Returns\n",
      " |          history : object\n",
      " |              details about the training history at each epoch.\n",
      " |      \n",
      " |      # Raises\n",
      " |          ValueError: In case of invalid shape for `y` argument.\n",
      " |  \n",
      " |  predict(self, x, **kwargs)\n",
      " |      Returns the class predictions for the given test data.\n",
      " |      \n",
      " |      # Arguments\n",
      " |          x: array-like, shape `(n_samples, n_features)`\n",
      " |              Test samples where `n_samples` is the number of samples\n",
      " |              and `n_features` is the number of features.\n",
      " |          **kwargs: dictionary arguments\n",
      " |              Legal arguments are the arguments\n",
      " |              of `Sequential.predict_classes`.\n",
      " |      \n",
      " |      # Returns\n",
      " |          preds: array-like, shape `(n_samples,)`\n",
      " |              Class predictions.\n",
      " |  \n",
      " |  predict_proba(self, x, **kwargs)\n",
      " |      Returns class probability estimates for the given test data.\n",
      " |      \n",
      " |      # Arguments\n",
      " |          x: array-like, shape `(n_samples, n_features)`\n",
      " |              Test samples where `n_samples` is the number of samples\n",
      " |              and `n_features` is the number of features.\n",
      " |          **kwargs: dictionary arguments\n",
      " |              Legal arguments are the arguments\n",
      " |              of `Sequential.predict_classes`.\n",
      " |      \n",
      " |      # Returns\n",
      " |          proba: array-like, shape `(n_samples, n_outputs)`\n",
      " |              Class probability estimates.\n",
      " |              In the case of binary classification,\n",
      " |              to match the scikit-learn API,\n",
      " |              will return an array of shape `(n_samples, 2)`\n",
      " |              (instead of `(n_sample, 1)` as in Keras).\n",
      " |  \n",
      " |  score(self, x, y, **kwargs)\n",
      " |      Returns the mean accuracy on the given test data and labels.\n",
      " |      \n",
      " |      # Arguments\n",
      " |          x: array-like, shape `(n_samples, n_features)`\n",
      " |              Test samples where `n_samples` is the number of samples\n",
      " |              and `n_features` is the number of features.\n",
      " |          y: array-like, shape `(n_samples,)` or `(n_samples, n_outputs)`\n",
      " |              True labels for `x`.\n",
      " |          **kwargs: dictionary arguments\n",
      " |              Legal arguments are the arguments of `Sequential.evaluate`.\n",
      " |      \n",
      " |      # Returns\n",
      " |          score: float\n",
      " |              Mean accuracy of predictions on `x` wrt. `y`.\n",
      " |      \n",
      " |      # Raises\n",
      " |          ValueError: If the underlying model isn't configured to\n",
      " |              compute accuracy. You should pass `metrics=[\"accuracy\"]` to\n",
      " |              the `.compile()` method of the model.\n",
      " |  \n",
      " |  ----------------------------------------------------------------------\n",
      " |  Methods inherited from BaseWrapper:\n",
      " |  \n",
      " |  __init__(self, build_fn=None, **sk_params)\n",
      " |      Initialize self.  See help(type(self)) for accurate signature.\n",
      " |  \n",
      " |  check_params(self, params)\n",
      " |      Checks for user typos in `params`.\n",
      " |      \n",
      " |      # Arguments\n",
      " |          params: dictionary; the parameters to be checked\n",
      " |      \n",
      " |      # Raises\n",
      " |          ValueError: if any member of `params` is not a valid argument.\n",
      " |  \n",
      " |  filter_sk_params(self, fn, override=None)\n",
      " |      Filters `sk_params` and returns those in `fn`'s arguments.\n",
      " |      \n",
      " |      # Arguments\n",
      " |          fn : arbitrary function\n",
      " |          override: dictionary, values to override `sk_params`\n",
      " |      \n",
      " |      # Returns\n",
      " |          res : dictionary containing variables\n",
      " |              in both `sk_params` and `fn`'s arguments.\n",
      " |  \n",
      " |  get_params(self, **params)\n",
      " |      Gets parameters for this estimator.\n",
      " |      \n",
      " |      # Arguments\n",
      " |          **params: ignored (exists for API compatibility).\n",
      " |      \n",
      " |      # Returns\n",
      " |          Dictionary of parameter names mapped to their values.\n",
      " |  \n",
      " |  set_params(self, **params)\n",
      " |      Sets the parameters of this estimator.\n",
      " |      \n",
      " |      # Arguments\n",
      " |          **params: Dictionary of parameter names mapped to their values.\n",
      " |      \n",
      " |      # Returns\n",
      " |          self\n",
      " |  \n",
      " |  ----------------------------------------------------------------------\n",
      " |  Data descriptors inherited from BaseWrapper:\n",
      " |  \n",
      " |  __dict__\n",
      " |      dictionary for instance variables (if defined)\n",
      " |  \n",
      " |  __weakref__\n",
      " |      list of weak references to the object (if defined)\n",
      "\n"
     ]
    }
   ],
   "source": [
    "help(KerasClassifier)"
   ]
  },
  {
   "cell_type": "code",
   "execution_count": null,
   "metadata": {},
   "outputs": [],
   "source": [
    "# set up kfold validation using 10 splits\n",
    "kfold = KFold(n_splits=10, shuffle=True, random_state=seed)\n",
    "\n"
   ]
  },
  {
   "cell_type": "code",
   "execution_count": null,
   "metadata": {},
   "outputs": [],
   "source": [
    "#evaluate the classifier suing the kfold splits\n",
    "results = cross_val_score(estimator, features, coded_classes, cv=kfold)\n",
    "print('baseline %.2f%% (%.2f%%)'%(results.mean()*100, results.std()*100))"
   ]
  },
  {
   "cell_type": "code",
   "execution_count": null,
   "metadata": {},
   "outputs": [],
   "source": []
  },
  {
   "cell_type": "code",
   "execution_count": null,
   "metadata": {},
   "outputs": [],
   "source": []
  }
 ],
 "metadata": {
  "kernelspec": {
   "display_name": "Python [conda env:kerasenv]",
   "language": "python",
   "name": "conda-env-kerasenv-py"
  },
  "language_info": {
   "codemirror_mode": {
    "name": "ipython",
    "version": 3
   },
   "file_extension": ".py",
   "mimetype": "text/x-python",
   "name": "python",
   "nbconvert_exporter": "python",
   "pygments_lexer": "ipython3",
   "version": "3.6.6"
  }
 },
 "nbformat": 4,
 "nbformat_minor": 2
}
