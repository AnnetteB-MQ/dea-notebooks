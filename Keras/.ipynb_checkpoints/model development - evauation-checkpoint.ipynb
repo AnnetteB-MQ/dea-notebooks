{
 "cells": [
  {
   "cell_type": "markdown",
   "metadata": {},
   "source": [
    "# Build and use a Keras model\n",
    "\n",
    "\n",
    "    1. Define Network.\n",
    "    2. Compile Network.\n",
    "    3. Fit Network.\n",
    "    4. Evaluate Network.\n",
    "    5. Make Predictions."
   ]
  },
  {
   "cell_type": "code",
   "execution_count": 7,
   "metadata": {},
   "outputs": [],
   "source": [
    "#Import numpy\n",
    "import numpy as np\n",
    "np.random.seed(123)  # for reproducibility\n",
    "from IPython.display import Image\n",
    "\n",
    "import xarray as xr\n",
    "from affine import Affine\n",
    "\n",
    "from matplotlib import pyplot as plt\n",
    "\n",
    "#import requiered keras bits\n",
    "from keras.models import Sequential\n",
    "\n",
    "from keras.layers import Dense, Dropout, Activation, Flatten, Convolution2D, MaxPooling2D\n",
    "\n",
    "from keras.utils import np_utils"
   ]
  },
  {
   "cell_type": "code",
   "execution_count": 8,
   "metadata": {},
   "outputs": [],
   "source": [
    "#open geotiff\n",
    "\n",
    "data = xr.open_rasterio('/g/data/u46/users/dxr251/woody-v6/woody_60_-149.tif')"
   ]
  },
  {
   "cell_type": "code",
   "execution_count": 12,
   "metadata": {},
   "outputs": [
    {
     "data": {
      "text/plain": [
       "<xarray.DataArray (y: 1000, x: 1000)>\n",
       "[1000000 values with dtype=float32]\n",
       "Coordinates:\n",
       "    band     int64 2\n",
       "  * y        (y) float64 -3.7e+06 -3.7e+06 -3.7e+06 -3.7e+06 -3.7e+06 ...\n",
       "  * x        (x) float64 1.5e+06 1.5e+06 1.5e+06 1.5e+06 1.5e+06 1.5e+06 ...\n",
       "Attributes:\n",
       "    transform:   (25.0, 0.0, 1500000.0, 0.0, -25.0, -3700000.0, 0.0, 0.0, 1.0)\n",
       "    crs:         +init=epsg:3577\n",
       "    res:         (25.0, 25.0)\n",
       "    is_tiled:    1\n",
       "    nodatavals:  (nan, nan, nan)"
      ]
     },
     "execution_count": 12,
     "metadata": {},
     "output_type": "execute_result"
    }
   ],
   "source": [
    "data[1]"
   ]
  },
  {
   "cell_type": "markdown",
   "metadata": {},
   "source": [
    "1. Define Network.\n",
    "\n",
    "A keras model or neural network is built up of layers with in a framework. Below is a simplifed representation of an artificial neural network, The *Hidden layers* in the diagram below represent the layers we will build into our model that are then trained to filter and sort our data into the output catergoies. "
   ]
  },
  {
   "cell_type": "markdown",
   "metadata": {},
   "source": [
    "\n",
    "![image of ann model](http://uc-r.github.io/public/images/analytics/deep_learning/deep_nn.png)"
   ]
  },
  {
   "cell_type": "markdown",
   "metadata": {},
   "source": [
    "In this example we are going to build a model using the Sequential Class framework."
   ]
  },
  {
   "cell_type": "code",
   "execution_count": 13,
   "metadata": {},
   "outputs": [],
   "source": [
    "#import requiered keras model\n",
    "from keras.models import Sequential\n",
    "\n",
    "#define a model\n",
    "model = Sequential()"
   ]
  },
  {
   "cell_type": "markdown",
   "metadata": {},
   "source": [
    "We will use 5 types of layers to construct the model: \n",
    "\n",
    "    Dense Layers\n",
    "    Convolutional Layers\n",
    "    Dropout Layers\n",
    "    \n",
    "These are just 5 of a large number of possible layers to use. \n",
    "\n",
    "__Dense__ and __Convolution__ are both a kind of trainable layer, represented by the *Hidden Layers* in the diagram above. \n",
    "__Dropout__ not represented in the image above make adjustments to the out puts of other layers to optimise the opperation of the model as a whole and prevent overtraining."
   ]
  },
  {
   "cell_type": "code",
   "execution_count": 15,
   "metadata": {},
   "outputs": [],
   "source": [
    "#import keras layers\n",
    "from keras.layers import Dense, Dropout, Activation, Conv2D"
   ]
  },
  {
   "cell_type": "markdown",
   "metadata": {},
   "source": [
    "## Dense Layers \n",
    "\n",
    "also known as fully-connected layers and Densely-connected layers these layers are more or less the basic building block of an artificial neural network.\n",
    "\n",
    "Dense Layers receive Inputs and produce a set number of Outputs. Each input has the potential to be sorted into each output, visually it would be represented by two sets of dots and an arrow running from each dot in the first set to each dot of the second set. This is what is ment by 'fully-connected' \n",
    "\n",
    "![image example]\n",
    "\n"
   ]
  },
  {
   "cell_type": "markdown",
   "metadata": {},
   "source": [
    "## Convolutional Layers\n",
    "\n",
    "Particularly useful for analysing image data Convolutional layers are more complex than Dense Layers. \n",
    "![image](https://appsilon.com/blog-old/assets/article_images/2017-11-20-keras/xconvolve.png.pagespeed.ic.qRg4ttF5wj.png)\n",
    "\n",
    "they apply peramiters based on infrom"
   ]
  },
  {
   "cell_type": "code",
   "execution_count": null,
   "metadata": {},
   "outputs": [],
   "source": [
    "\n",
    "\n",
    "#Conv2D(filters, kernel_size, strides=(1, 1), padding='valid', data_format=None, dilation_rate=(1, 1), activation=None)\n",
    "\n",
    "#When using this layer as the first layer in a model, provide the keyword argument:\n",
    "#input_shape (tuple of integers, does not include the sample axis), \n",
    "#e.g.  input_shape=(128, 128, 3) for 128x128 RGB pictures in "
   ]
  },
  {
   "cell_type": "code",
   "execution_count": null,
   "metadata": {},
   "outputs": [],
   "source": [
    "#mased on baseline model from Gardner and Nichols 2017\n",
    "#1 input\n",
    "\n",
    "#convolutuion 32, 3x3, stride 1, reLU activation\n",
    "model.add(Conv2D(32(3,3),strides=(1,1), activation='relu', input_shape=(1000,1000,3)))\n",
    "#MaxPool 2X2\n",
    "model.add(MaxPooling2D(pool_size=(2,2)))\n",
    "#convolutuion 64, 4x4, stride 1, reLU activation\n",
    "model.add(Conv2D(32(3,3),strides=(1,1), activation='relu'))\n",
    "#MaxPool 2X2\n",
    "model.add(MaxPooling2D(pool_size=(2,2)))\n",
    "#dropout 0.25\n",
    "model.add(Dropout(0.25))\n",
    "#FC layer 128 ReLU activation\n",
    "model.add(Dense(128, activation='relu'))\n",
    "#dropout 0.5\n",
    "model.add(Dropout(0.5))\n",
    "#FC layer 17 output? 17 feature lables (we want 3??)\n",
    "model.add(Dense(3))"
   ]
  },
  {
   "cell_type": "code",
   "execution_count": 11,
   "metadata": {},
   "outputs": [],
   "source": [
    "#add a Dense layer with Relu activation and 128 nodes\n",
    "model.add(Dense(128, activation='relu'))"
   ]
  },
  {
   "cell_type": "code",
   "execution_count": null,
   "metadata": {},
   "outputs": [],
   "source": []
  },
  {
   "cell_type": "code",
   "execution_count": null,
   "metadata": {},
   "outputs": [],
   "source": []
  }
 ],
 "metadata": {
  "kernelspec": {
   "display_name": "Python [conda env:kerasenv]",
   "language": "python",
   "name": "conda-env-kerasenv-py"
  },
  "language_info": {
   "codemirror_mode": {
    "name": "ipython",
    "version": 3
   },
   "file_extension": ".py",
   "mimetype": "text/x-python",
   "name": "python",
   "nbconvert_exporter": "python",
   "pygments_lexer": "ipython3",
   "version": "3.6.6"
  }
 },
 "nbformat": 4,
 "nbformat_minor": 2
}
