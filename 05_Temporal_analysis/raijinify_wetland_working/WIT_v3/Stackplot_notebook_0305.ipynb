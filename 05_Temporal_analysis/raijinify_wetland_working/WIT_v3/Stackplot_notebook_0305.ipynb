{
 "cells": [
  {
   "cell_type": "markdown",
   "metadata": {},
   "source": [
    "# Stackplot notebook - V3\n"
   ]
  },
  {
   "cell_type": "markdown",
   "metadata": {
    "ExecuteTime": {
     "end_time": "2019-01-06T22:23:31.735426Z",
     "start_time": "2019-01-06T22:23:30.342336Z"
    }
   },
   "source": [
    "### List of wetland edits\n",
    "\n",
    "push to github every time you change one of these!!!!\n",
    "- wofs bit flags - include low angle wofs -pushed\n",
    "- ditch no data values -pushed\n",
    "- check for 90% coverage of shape, not just load\n",
    "- check for overlaps\n",
    "- if no data, redo load with no 90% thing, then monthly aggregate before checking for coverage\n",
    "-  tighten graph and increase text size\n"
   ]
  },
  {
   "cell_type": "markdown",
   "metadata": {
    "ExecuteTime": {
     "end_time": "2019-01-06T23:06:04.497482Z",
     "start_time": "2019-01-06T23:06:02.998425Z"
    }
   },
   "source": [
    "- wofs - plot to see what the actual values are in between \n",
    "- wofs - fill gaps with ndwi\n",
    "- wofs - plot against surface reflectance\n",
    "\n",
    "- use bens awesome stats code to gap fill?\n",
    "\n",
    "- rolling average for inference?\n",
    "        "
   ]
  },
  {
   "cell_type": "markdown",
   "metadata": {
    "ExecuteTime": {
     "end_time": "2019-01-04T03:51:22.814165Z",
     "start_time": "2019-01-04T03:51:22.805714Z"
    }
   },
   "source": [
    "### import modules\n"
   ]
  },
  {
   "cell_type": "code",
   "execution_count": 1,
   "metadata": {
    "ExecuteTime": {
     "end_time": "2019-01-10T00:02:49.307359Z",
     "start_time": "2019-01-10T00:02:30.601840Z"
    }
   },
   "outputs": [],
   "source": [
    "import datacube\n",
    "import datetime\n",
    "import fiona\n",
    "import geopandas as gpd\n",
    "import numpy as np\n",
    "import pandas as pd\n",
    "import rasterio.mask\n",
    "import rasterio.features\n",
    "from shapely import geometry\n",
    "import seaborn as sns\n",
    "import sys\n",
    "import xarray as xr\n",
    "\n",
    "from datetime import datetime, timedelta\n",
    "import matplotlib.dates as mdates\n",
    "import matplotlib.gridspec as gridspec\n",
    "import matplotlib.pyplot as plt\n",
    "from matplotlib.patches import Rectangle\n",
    "\n",
    "from datacube.storage import masking\n",
    "from datacube.utils import geometry\n",
    "from digitalearthau.utils import wofs_fuser\n",
    "\n",
    "sys.path.append('/g/data/r78/rjd547/jupyter_notebooks/dea-notebooks/10_Scripts')\n",
    "import DEADataHandling, DEAPlotting, TasseledCapTools\n",
    "\n",
    "dc = datacube.Datacube(app='tci and wofs')\n",
    "\n",
    "global Output_dir\n",
    "Output_dir = '/g/data/r78/rjd547/Ramsar_Wetlands/Ramsar_Outputs_2/'"
   ]
  },
  {
   "cell_type": "markdown",
   "metadata": {},
   "source": [
    "### Set up polygon"
   ]
  },
  {
   "cell_type": "code",
   "execution_count": 2,
   "metadata": {},
   "outputs": [],
   "source": [
    "def get_RAMSAR_polyName(shapefile):\n",
    "    ''' function designed specifically for the RAMSAR wetlands australia shapefile. Takes the shapefile and extracts\n",
    "    the ramsar name, wetland name and objectID from the ESRI shapefile format and turns it into a useful string for our output.\n",
    "    :Inputs: shapefile with RAMSAR_NAM, WETLAND_NA, and OBJECTID as properties. \n",
    "    Author: Bex Dunn Last Edited: March 2019'''\n",
    "    # get the ramsar name from the shapes \n",
    "    RAMSAR_NAME = '_'.join(shapefile['properties']['RAMSAR_NAM'].split(' '))\n",
    "    WETLAND_NAME = '_'.join(shapefile['properties']['WETLAND_NA'].split(' '))\n",
    "    STATE = '_'.join(shapefile['properties']['STATE'].split(' ')) \n",
    "    ID = shapefile['id']\n",
    "    polyName = f'{RAMSAR_NAME}-{WETLAND_NAME}-{STATE}-{ID}'\n",
    "    print(f'processing polygon {polyName}')\n",
    "    return(polyName)"
   ]
  },
  {
   "cell_type": "markdown",
   "metadata": {
    "ExecuteTime": {
     "end_time": "2019-01-10T00:02:49.408357Z",
     "start_time": "2019-01-10T00:02:49.312080Z"
    }
   },
   "source": [
    "### change the path here if you want a different polygon"
   ]
  },
  {
   "cell_type": "code",
   "execution_count": 3,
   "metadata": {
    "ExecuteTime": {
     "end_time": "2019-01-10T00:02:49.408357Z",
     "start_time": "2019-01-10T00:02:49.312080Z"
    }
   },
   "outputs": [],
   "source": [
    "poly_path = '/g/data/r78/rjd547/Ramsar_Wetlands/shapefiles/ExplodedRAMSAR.shp'"
   ]
  },
  {
   "cell_type": "code",
   "execution_count": 4,
   "metadata": {
    "ExecuteTime": {
     "end_time": "2019-01-10T00:02:49.487754Z",
     "start_time": "2019-01-10T00:02:49.412760Z"
    }
   },
   "outputs": [],
   "source": [
    "#open the polygon and manually select your favourite polygon the lazy way\n",
    "with fiona.open(poly_path) as shapes:\n",
    "        crs = geometry.CRS(shapes.crs_wkt)\n",
    "        #first_geometry = next(iter(shapes))['geometry']\n",
    "        #geom = geometry.Geometry(first_geometry, crs=crs)\n",
    "        for feature in shapes:\n",
    "            #print(feature['properties']['WETLAND_NA'])\n",
    "            if feature['properties']['WETLAND_NA']=='Swan Bay':\n",
    "                swan_bay =feature\n",
    "                swan_bay_geometry = swan_bay['geometry']\n",
    "                geom = geometry.Geometry(swan_bay_geometry, crs=crs)"
   ]
  },
  {
   "cell_type": "code",
   "execution_count": 5,
   "metadata": {},
   "outputs": [],
   "source": [
    "def get_masked_ls578_data(query, geom):\n",
    "    '''create a function that takes in the masked proportion, query and geometry and returns the fully masked surface reflectance data'''\n",
    "    ## Set up datasets\n",
    "    #set cloudmasking threshold and load landsat nbart data\n",
    "    landsat_masked_prop = 0.90\n",
    "    ls578_ds = DEADataHandling.load_clearlandsat(dc=dc, query=query, product='nbart',\n",
    "            masked_prop=landsat_masked_prop)\n",
    "\n",
    "    ### mask the data with our original polygon to remove extra data \n",
    "\n",
    "    data = ls578_ds\n",
    "    mask = rasterio.features.geometry_mask([geom.to_crs(data.geobox.crs)for geoms in [geom]],\n",
    "                                               out_shape=data.geobox.shape,\n",
    "                                               transform=data.geobox.affine,\n",
    "                                               all_touched=False,\n",
    "                                               invert=False)\n",
    "\n",
    "    #for some reason xarray is not playing nicely with our old masking function\n",
    "    mask_xr = xr.DataArray(mask, dims = ('y','x'))\n",
    "    ls578_ds = data.where(mask_xr==False)\n",
    "    return ls578_ds, mask_xr"
   ]
  },
  {
   "cell_type": "code",
   "execution_count": 6,
   "metadata": {
    "ExecuteTime": {
     "end_time": "2019-01-10T00:05:10.101788Z",
     "start_time": "2019-01-10T00:05:09.802192Z"
    }
   },
   "outputs": [],
   "source": [
    "def get_masked_tcw(sr_data, mask, threshold=-350):\n",
    "    '''uses TasseledCapTools and an input threshold (defaults to -350) to create masked over-threshold tasseled cap '''\n",
    "\n",
    "    #transform the nbart into tci\n",
    "    tci = TasseledCapTools.thresholded_tasseled_cap(ls578_ds,wetness_threshold=-350, drop=True , drop_tc_bands=True)\n",
    "\n",
    "    #select only finite values (over threshold values)\n",
    "    tcw = xr.ufuncs.isfinite(tci.wetness_thresholded)\n",
    "\n",
    "    # #reapply the polygon mask\n",
    "    tcw = tcw.where(mask_xr==False)\n",
    "\n",
    "    return tcw"
   ]
  },
  {
   "cell_type": "markdown",
   "metadata": {},
   "source": [
    "### Set up query"
   ]
  },
  {
   "cell_type": "code",
   "execution_count": 7,
   "metadata": {
    "ExecuteTime": {
     "end_time": "2019-01-10T00:02:49.940837Z",
     "start_time": "2019-01-10T00:02:49.893687Z"
    }
   },
   "outputs": [],
   "source": [
    "query = {'geopolygon': geom,\n",
    "         #'time': ('1993-01-01', '1994-01-01')\n",
    "         }"
   ]
  },
  {
   "cell_type": "markdown",
   "metadata": {
    "ExecuteTime": {
     "end_time": "2019-01-06T23:12:48.634135Z",
     "start_time": "2019-01-06T23:12:48.544858Z"
    }
   },
   "source": [
    "### Load data sets, where 90% of data is unmasked"
   ]
  },
  {
   "cell_type": "markdown",
   "metadata": {},
   "source": [
    "#### Landsat data"
   ]
  },
  {
   "cell_type": "code",
   "execution_count": 8,
   "metadata": {},
   "outputs": [
    {
     "name": "stdout",
     "output_type": "stream",
     "text": [
      "Loading ls5\n",
      "    Loading 203 filtered ls5 timesteps\n",
      "Loading ls7\n",
      "    Ignoring SLC-off observations for ls7\n",
      "    Loading 54 filtered ls7 timesteps\n",
      "Loading ls8\n",
      "    Loading 81 filtered ls8 timesteps\n",
      "Combining and sorting ls5, ls7, ls8 data\n",
      "    Replacing invalid -999 values with NaN (data will be coerced to float64)\n"
     ]
    }
   ],
   "source": [
    "#load and mask data. selecting data with more than 90% clear for the geobox around the polygon... #FIXME\n",
    "ls578_ds, mask_xr= get_masked_ls578_data(query,geom)"
   ]
  },
  {
   "cell_type": "code",
   "execution_count": 9,
   "metadata": {},
   "outputs": [],
   "source": [
    "#calculate tasselled cap wetness within masked AOI\n",
    "tcw = get_masked_tcw(ls578_ds, mask_xr, threshold=-350)"
   ]
  },
  {
   "cell_type": "code",
   "execution_count": 10,
   "metadata": {
    "ExecuteTime": {
     "end_time": "2019-01-10T00:05:46.308984Z",
     "start_time": "2019-01-10T00:05:10.253994Z"
    }
   },
   "outputs": [],
   "source": [
    "\n",
    "#wofls = dc.load(product = 'wofs_albers', like=ls578_ds, fuse_func=wofs_fuser)\n",
    "wofls = dc.load(product = 'wofs_albers',fuse_func=wofs_fuser, **query)"
   ]
  },
  {
   "cell_type": "markdown",
   "metadata": {},
   "source": [
    "#first, match tcw and wofs"
   ]
  },
  {
   "cell_type": "code",
   "execution_count": 11,
   "metadata": {},
   "outputs": [],
   "source": [
    "wofls = wofls.where(wofls.time==tcw.time)"
   ]
  },
  {
   "cell_type": "code",
   "execution_count": 12,
   "metadata": {},
   "outputs": [],
   "source": [
    "# #reapply the polygon mask\n",
    "wofls = wofls.where(mask_xr==False)"
   ]
  },
  {
   "cell_type": "code",
   "execution_count": 13,
   "metadata": {},
   "outputs": [],
   "source": [
    "wet_wofs = wofls.where(wofls.water==128)"
   ]
  },
  {
   "cell_type": "code",
   "execution_count": 14,
   "metadata": {},
   "outputs": [],
   "source": [
    "shadow_wofs = wofls.where(wofls.water== 136) #use bit values for wet (128) and terrain/low-angle (8)"
   ]
  },
  {
   "cell_type": "code",
   "execution_count": 15,
   "metadata": {},
   "outputs": [],
   "source": [
    "sea_wofs = wofls.where(wofls.water==132) #bit values for wet (128) and sea (4)\n",
    "sea_shadow_wofs = wofls.where(wofls.water==140)# bit values for wet (128) and sea (4) and terrain/low-angle (8)"
   ]
  },
  {
   "cell_type": "code",
   "execution_count": 16,
   "metadata": {},
   "outputs": [
    {
     "data": {
      "text/plain": [
       "(124, 150)"
      ]
     },
     "execution_count": 16,
     "metadata": {},
     "output_type": "execute_result"
    },
    {
     "data": {
      "image/png": "[encoded data removed]",
      "text/plain": [
       "<Figure size 432x288 with 1 Axes>"
      ]
     },
     "metadata": {
      "needs_background": "light"
     },
     "output_type": "display_data"
    }
   ],
   "source": [
    "wofls.water.plot.hist(bins=list(range(0,234,2)))\n",
    "plt.xlim(124,150)\n",
    "plt.xticks(ticks=list(range(0,234,2)))\n",
    "plt.xlim(124,150)"
   ]
  },
  {
   "cell_type": "markdown",
   "metadata": {},
   "source": [
    "## load in fractional cover data"
   ]
  },
  {
   "cell_type": "code",
   "execution_count": 17,
   "metadata": {
    "ExecuteTime": {
     "end_time": "2019-01-10T00:07:11.799408Z",
     "start_time": "2019-01-10T00:05:47.309406Z"
    }
   },
   "outputs": [
    {
     "name": "stdout",
     "output_type": "stream",
     "text": [
      "Loading ls5\n",
      "    Loading 203 filtered ls5 timesteps\n",
      "Loading ls7\n",
      "    Ignoring SLC-off observations for ls7\n",
      "    Loading 54 filtered ls7 timesteps\n",
      "Loading ls8\n",
      "    Loading 81 filtered ls8 timesteps\n",
      "Combining and sorting ls5, ls7, ls8 data\n",
      "    Replacing invalid -999 values with NaN (data will be coerced to float64)\n"
     ]
    }
   ],
   "source": [
    "#load the data according to our query\n",
    "#choose a mask proportion to look for a clear timestep\n",
    "fc_ds = DEADataHandling.load_clearlandsat(dc, query,product='fc',masked_prop=0.90)"
   ]
  },
  {
   "cell_type": "markdown",
   "metadata": {},
   "source": [
    "### mask FC with polygon"
   ]
  },
  {
   "cell_type": "code",
   "execution_count": 18,
   "metadata": {
    "ExecuteTime": {
     "end_time": "2019-01-10T00:07:13.120161Z",
     "start_time": "2019-01-10T00:07:11.801994Z"
    }
   },
   "outputs": [],
   "source": [
    "fc_ds = fc_ds.where(mask_xr==False)"
   ]
  },
  {
   "cell_type": "markdown",
   "metadata": {},
   "source": [
    "### mask FC with wetness"
   ]
  },
  {
   "cell_type": "code",
   "execution_count": 19,
   "metadata": {
    "ExecuteTime": {
     "end_time": "2019-01-10T00:07:13.201911Z",
     "start_time": "2019-01-10T00:07:13.123421Z"
    }
   },
   "outputs": [],
   "source": [
    "fc_ds_noTCW=fc_ds.where(tcw==False)\n",
    "#match timesteps\n",
    "fc_ds_noTCW= fc_ds_noTCW.where(fc_ds_noTCW.time==tcw.time)"
   ]
  },
  {
   "cell_type": "markdown",
   "metadata": {},
   "source": [
    "### Calculate the dominant fraction for each pixel in Fractional Cover"
   ]
  },
  {
   "cell_type": "code",
   "execution_count": 20,
   "metadata": {
    "ExecuteTime": {
     "end_time": "2019-01-10T00:07:15.216594Z",
     "start_time": "2019-01-10T00:07:15.088081Z"
    }
   },
   "outputs": [],
   "source": [
    "#drop data percentage and Unmixing Error\n",
    "fc_tester = fc_ds_noTCW.drop(['data_perc','UE'])\n",
    "\n",
    "#following robbi's advice, cast the dataset to a dataarray\n",
    "maxFC = fc_tester.to_array(dim='variable', name='maxFC')\n",
    "\n",
    "#turn FC array into integer only as nanargmax doesn't seem to handle floats the way we want it to\n",
    "FC_int = maxFC.astype('int8')\n",
    "\n",
    "#use numpy.nanargmax to get the index of the maximum value along the variable dimension\n",
    "#BSPVNPV=np.nanargmax(FC_int, axis=0)\n",
    "BSPVNPV=FC_int.argmax(dim='variable')\n",
    "\n",
    "FC_mask=xr.ufuncs.isfinite(maxFC).all(dim='variable')\n",
    "\n",
    "# #re-mask with nans to remove no-data\n",
    "BSPVNPV=BSPVNPV.where(FC_mask)"
   ]
  },
  {
   "cell_type": "markdown",
   "metadata": {},
   "source": [
    "### Calculate number of pixels in area of interest"
   ]
  },
  {
   "cell_type": "code",
   "execution_count": 21,
   "metadata": {
    "ExecuteTime": {
     "end_time": "2019-01-10T00:07:14.963267Z",
     "start_time": "2019-01-10T00:07:14.912927Z"
    }
   },
   "outputs": [],
   "source": [
    "#number of pixels in area of interest\n",
    "pixels = (mask_xr==0).sum(dim=['x','y'])"
   ]
  },
  {
   "cell_type": "code",
   "execution_count": 22,
   "metadata": {
    "ExecuteTime": {
     "end_time": "2019-01-10T00:07:15.084523Z",
     "start_time": "2019-01-10T00:07:15.017725Z"
    }
   },
   "outputs": [],
   "source": [
    "#count number of tcw pixels\n",
    "tcw_pixel_count = tcw.sum(dim=['x','y'])"
   ]
  },
  {
   "cell_type": "code",
   "execution_count": 23,
   "metadata": {
    "ExecuteTime": {
     "end_time": "2019-01-10T00:07:15.729569Z",
     "start_time": "2019-01-10T00:07:15.632871Z"
    }
   },
   "outputs": [],
   "source": [
    "FC_dominant = xr.Dataset({\n",
    "    'BS': (BSPVNPV==0).where(FC_mask),\n",
    "    'PV': (BSPVNPV==1).where(FC_mask),\n",
    "    'NPV': (BSPVNPV==2).where(FC_mask),\n",
    "})"
   ]
  },
  {
   "cell_type": "code",
   "execution_count": 24,
   "metadata": {},
   "outputs": [],
   "source": [
    "#number of pixels in area of interest\n",
    "pixels = (mask_xr==0).sum(dim=['x','y'])"
   ]
  },
  {
   "cell_type": "code",
   "execution_count": 25,
   "metadata": {},
   "outputs": [
    {
     "data": {
      "text/plain": [
       "<xarray.DataArray 'water' (time: 335)>\n",
       "array([41005, 41513, 41404, ..., 41695, 41019, 41776])\n",
       "Coordinates:\n",
       "  * time     (time) datetime64[ns] 1986-08-19T23:31:06.500000 ... 2019-04-09T00:09:08"
      ]
     },
     "execution_count": 25,
     "metadata": {},
     "output_type": "execute_result"
    }
   ],
   "source": [
    "#count number of wofs pixels\n",
    "wofs_pixels = (wet_wofs.water.count(dim=['x','y'])+shadow_wofs.water.count(dim=['x','y']) +\n",
    "sea_wofs.water.count(dim=['x','y'])+sea_shadow_wofs.water.count(dim=['x','y']))\n",
    "wofs_pixels"
   ]
  },
  {
   "cell_type": "code",
   "execution_count": 26,
   "metadata": {},
   "outputs": [],
   "source": [
    "# #count number of wofs pixels\n",
    "# wofs_pixels = wet_wofs.water.sum(dim=['x','y'])/128"
   ]
  },
  {
   "cell_type": "code",
   "execution_count": 27,
   "metadata": {},
   "outputs": [],
   "source": [
    "#count percentage of area of wofs\n",
    "wofs_area_percent = (wofs_pixels/pixels)*100\n",
    "#wofs_area_percent"
   ]
  },
  {
   "cell_type": "code",
   "execution_count": 28,
   "metadata": {},
   "outputs": [],
   "source": [
    "#count number of tcw pixels\n",
    "tcw_pixel_count = tcw.sum(dim=['x','y'])"
   ]
  },
  {
   "cell_type": "code",
   "execution_count": 29,
   "metadata": {},
   "outputs": [],
   "source": [
    "#calculate percentage area wet\n",
    "tcw_area_percent = (tcw_pixel_count/pixels)*100"
   ]
  },
  {
   "cell_type": "code",
   "execution_count": 30,
   "metadata": {},
   "outputs": [],
   "source": [
    "#calculate wet not wofs\n",
    "tcw_less_wofs = tcw_area_percent-wofs_area_percent"
   ]
  },
  {
   "cell_type": "code",
   "execution_count": 31,
   "metadata": {},
   "outputs": [],
   "source": [
    "#drop data percentage and Unmixing Error\n",
    "fc_tester = fc_ds_noTCW.drop(['data_perc','UE'])"
   ]
  },
  {
   "cell_type": "code",
   "execution_count": 32,
   "metadata": {},
   "outputs": [],
   "source": [
    "#following robbi's advice, cast the dataset to a dataarray\n",
    "maxFC = fc_tester.to_array(dim='variable', name='maxFC')"
   ]
  },
  {
   "cell_type": "code",
   "execution_count": 33,
   "metadata": {},
   "outputs": [],
   "source": [
    "#turn FC array into integer only as nanargmax doesn't seem to handle floats the way we want it to\n",
    "FC_int = maxFC.astype('int8')"
   ]
  },
  {
   "cell_type": "code",
   "execution_count": 34,
   "metadata": {},
   "outputs": [],
   "source": [
    "#use numpy.nanargmax to get the index of the maximum value along the variable dimension\n",
    "#BSPVNPV=np.nanargmax(FC_int, axis=0)\n",
    "BSPVNPV=FC_int.argmax(dim='variable')"
   ]
  },
  {
   "cell_type": "code",
   "execution_count": 35,
   "metadata": {},
   "outputs": [],
   "source": [
    "#work out where we have actual values!\n",
    "FC_mask=xr.ufuncs.isfinite(maxFC).all(dim='variable')\n",
    "\n",
    "# #re-mask with nans to remove no-data\n",
    "BSPVNPV=BSPVNPV.where(FC_mask)"
   ]
  },
  {
   "cell_type": "code",
   "execution_count": 36,
   "metadata": {},
   "outputs": [],
   "source": [
    "#restack the Fractional cover dataset all together\n",
    "FC_dominant = xr.Dataset({\n",
    "    'BS': (BSPVNPV==0).where(FC_mask),\n",
    "    'PV': (BSPVNPV==1).where(FC_mask),\n",
    "    'NPV': (BSPVNPV==2).where(FC_mask),\n",
    "})"
   ]
  },
  {
   "cell_type": "code",
   "execution_count": 37,
   "metadata": {},
   "outputs": [],
   "source": [
    "FC_count = FC_dominant.sum(dim=['x','y'])"
   ]
  },
  {
   "cell_type": "code",
   "execution_count": 38,
   "metadata": {},
   "outputs": [],
   "source": [
    "#Fractional cover pixel count method\n",
    "#Get number of FC pixels, divide by total number of pixels per polygon\n",
    "#Work out the number of nodata pixels in the data, so that we can graph the variables by number of observed pixels.\n",
    "\n",
    "Bare_soil_percent=(FC_count.BS/pixels)*100\n",
    "\n",
    "Photosynthetic_veg_percent=(FC_count.PV/pixels)*100\n",
    "\n",
    "NonPhotosynthetic_veg_percent=(FC_count.NPV/pixels)*100\n",
    "\n",
    "NoData = 100 - wofs_area_percent- tcw_less_wofs - Photosynthetic_veg_percent - NonPhotosynthetic_veg_percent - Bare_soil_percent"
   ]
  },
  {
   "cell_type": "code",
   "execution_count": 39,
   "metadata": {},
   "outputs": [],
   "source": [
    "NoDataPixels = (NoData/100) * pixels "
   ]
  },
  {
   "cell_type": "code",
   "execution_count": 40,
   "metadata": {},
   "outputs": [],
   "source": [
    "#Fractional cover pixel count method\n",
    "#Get number of FC pixels, divide by total number of pixels per polygon\n",
    "\n",
    "Bare_soil_percent2=(FC_count.BS/(pixels - NoDataPixels))*100\n",
    "\n",
    "Photosynthetic_veg_percent2=(FC_count.PV/(pixels- NoDataPixels))*100\n",
    "\n",
    "NonPhotosynthetic_veg_percent2=(FC_count.NPV/(pixels- NoDataPixels))*100"
   ]
  },
  {
   "cell_type": "code",
   "execution_count": 41,
   "metadata": {},
   "outputs": [],
   "source": [
    "#count percentage of area of wofs\n",
    "wofs_area_percent2 = (wofs_pixels/(pixels - NoDataPixels))*100\n",
    "#wofs_area_percent"
   ]
  },
  {
   "cell_type": "code",
   "execution_count": 42,
   "metadata": {},
   "outputs": [],
   "source": [
    "#count number of tcw pixels\n",
    "tcw_pixel_count2 = tcw.sum(dim=['x','y'])"
   ]
  },
  {
   "cell_type": "code",
   "execution_count": 43,
   "metadata": {},
   "outputs": [],
   "source": [
    "#calculate percentage area wet\n",
    "tcw_area_percent2 = (tcw_pixel_count2/(pixels - NoDataPixels))*100"
   ]
  },
  {
   "cell_type": "code",
   "execution_count": 44,
   "metadata": {},
   "outputs": [],
   "source": [
    "#calculate wet not wofs\n",
    "tcw_less_wofs2 = tcw_area_percent2-wofs_area_percent2"
   ]
  },
  {
   "cell_type": "code",
   "execution_count": 45,
   "metadata": {},
   "outputs": [],
   "source": [
    "#last check for timestep matching before we plot\n",
    "wofs_area_percent2=wofs_area_percent2.where(wofs_area_percent2.time==Bare_soil_percent2.time)\n",
    "Bare_soil_percent2=Bare_soil_percent2.where(Bare_soil_percent2.time==wofs_area_percent2.time)\n",
    "Photosynthetic_veg_percent2=Photosynthetic_veg_percent2.where(Photosynthetic_veg_percent2.time==wofs_area_percent2.time)\n",
    "NonPhotosynthetic_veg_percent2=NonPhotosynthetic_veg_percent2.where(NonPhotosynthetic_veg_percent2.time==wofs_area_percent2.time)"
   ]
  },
  {
   "cell_type": "code",
   "execution_count": 78,
   "metadata": {},
   "outputs": [
    {
     "data": {
      "text/plain": [
       "<Figure size 432x288 with 0 Axes>"
      ]
     },
     "metadata": {},
     "output_type": "display_data"
    },
    {
     "data": {
      "image/png": "[encoded data removed]",
      "text/plain": [
       "<Figure size 864x288 with 1 Axes>"
      ]
     },
     "metadata": {
      "needs_background": "light"
     },
     "output_type": "display_data"
    },
    {
     "name": "stdout",
     "output_type": "stream",
     "text": [
      "plot created for Goddard\\\\'s Lease\n"
     ]
    }
   ],
   "source": [
    "from textwrap import wrap\n",
    "#set up color palette\n",
    "pal = [sns.xkcd_rgb[\"cobalt blue\"],\n",
    "       sns.xkcd_rgb[\"neon blue\"],\n",
    "       sns.xkcd_rgb[\"grass\"],\n",
    "       sns.xkcd_rgb[\"beige\"],\n",
    "       sns.xkcd_rgb[\"brown\"]]       \n",
    "\n",
    "#make a stacked area plot\n",
    "plt.clf()\n",
    "fig= plt.figure(figsize = (12,4))\n",
    "plt.stackplot(wofs_area_percent.time.values, \n",
    "              wofs_area_percent2, \n",
    "              tcw_less_wofs2, \n",
    "              Photosynthetic_veg_percent2, \n",
    "              NonPhotosynthetic_veg_percent2,\n",
    "              Bare_soil_percent2,\n",
    "              labels=['open water',\n",
    "                      'wet',\n",
    "                      'green veg',\n",
    "                      'dry veg',\n",
    "                      'bare soil',\n",
    "                     ], colors=pal, alpha = 0.6)\n",
    "\n",
    "\n",
    "\n",
    "#set axis limits to the min and max\n",
    "plt.axis(xmin = wofs_area_percent2.time[0].data, xmax = wofs_area_percent2.time[-1].data, ymin = 0, ymax = 100)\n",
    "\n",
    "#add a legend and a tight plot box\n",
    "plt.legend(loc='lower left', framealpha=0.6)\n",
    "#plt.tight_layout()\n",
    "\n",
    "#create rectangle borders for no-data times (SLC-off only)\n",
    "LS5_8_gap_start = datetime(2011,11,1)\n",
    "LS5_8_gap_end = datetime(2013,4,1)\n",
    "\n",
    "# convert to matplotlib date representation\n",
    "gap_start = mdates.date2num(LS5_8_gap_start)\n",
    "gap_end = mdates.date2num(LS5_8_gap_end)\n",
    "gap = gap_end - gap_start\n",
    "\n",
    "\n",
    "#set date ticks every year\n",
    "years = mdates.YearLocator(2)\n",
    "yearsFmt = mdates.DateFormatter('%Y')\n",
    "ax = plt.gca()\n",
    "ax.xaxis.set_major_locator(years)\n",
    "ax.xaxis.set_major_formatter(yearsFmt)\n",
    "#ax.yaxis.set_ticks(np.arange(0,110,10))\n",
    "ax.set_xlabel(f'The Fractional Cover algorithm developed by the Joint Remote'\n",
    "f' Sensing Research Program and \\n the Water Observations from Space algorithm '\n",
    "f'developed by Geoscience Australia are used in the production of this data',style='italic')\n",
    "\n",
    "\n",
    "#set up rectangle\n",
    "slc_rectangle= Rectangle((gap_start,0), gap, 100,alpha = 0.5, facecolor=sns.xkcd_rgb['white'],\n",
    "             edgecolor=sns.xkcd_rgb['white'], hatch=\"////\",linewidth=2)\n",
    "ax.add_patch(slc_rectangle)\n",
    "#fig.autofmt_xdate()\n",
    "\n",
    "\n",
    "#polyName='test a really really really stupidly extremely long name that is far too long and I can\\'t even what the blah blah blah blah blah '\n",
    "\n",
    "polyName=polyName.replace(\"'\",\"\\\\'\")\n",
    "title=ax.set_title(\"\\n\".join(wrap(f'Percentage of area WOfS, Wetness, Fractional Cover for {polyName}')))\n",
    "fig.tight_layout()\n",
    "title.set_y(1.05)\n",
    "\n",
    "#save the figure\n",
    "plt.savefig(f'{Output_dir}{polyName}.png')#, transparent=True)\n",
    "plt.show()\n",
    "print(f'plot created for {polyName}')\n"
   ]
  },
  {
   "cell_type": "code",
   "execution_count": null,
   "metadata": {},
   "outputs": [],
   "source": []
  },
  {
   "cell_type": "code",
   "execution_count": 72,
   "metadata": {},
   "outputs": [
    {
     "name": "stdout",
     "output_type": "stream",
     "text": [
      "/g/data/r78/rjd547/Ramsar_Wetlands/Ramsar_Outputs_2/Goddard's Lease\n"
     ]
    }
   ],
   "source": [
    "print(f'{Output_dir}{polyName}')"
   ]
  },
  {
   "cell_type": "code",
   "execution_count": 75,
   "metadata": {},
   "outputs": [],
   "source": [
    "polyName=polyName.replace(\"'\",\"\\\\'\")"
   ]
  },
  {
   "cell_type": "code",
   "execution_count": 76,
   "metadata": {},
   "outputs": [
    {
     "name": "stdout",
     "output_type": "stream",
     "text": [
      "/g/data/r78/rjd547/Ramsar_Wetlands/Ramsar_Outputs_2/Goddard\\'s Lease\n"
     ]
    }
   ],
   "source": [
    "print(f'{Output_dir}{polyName}')"
   ]
  },
  {
   "cell_type": "code",
   "execution_count": null,
   "metadata": {},
   "outputs": [],
   "source": []
  },
  {
   "cell_type": "code",
   "execution_count": null,
   "metadata": {},
   "outputs": [],
   "source": []
  },
  {
   "cell_type": "code",
   "execution_count": null,
   "metadata": {},
   "outputs": [],
   "source": []
  },
  {
   "cell_type": "code",
   "execution_count": null,
   "metadata": {},
   "outputs": [],
   "source": []
  },
  {
   "cell_type": "code",
   "execution_count": null,
   "metadata": {},
   "outputs": [],
   "source": []
  },
  {
   "cell_type": "code",
   "execution_count": null,
   "metadata": {},
   "outputs": [],
   "source": []
  },
  {
   "cell_type": "code",
   "execution_count": null,
   "metadata": {},
   "outputs": [],
   "source": []
  },
  {
   "cell_type": "markdown",
   "metadata": {},
   "source": [
    "## Plot code for polygons for terria map"
   ]
  },
  {
   "cell_type": "code",
   "execution_count": 44,
   "metadata": {},
   "outputs": [
    {
     "data": {
      "text/plain": [
       "<Figure size 432x288 with 0 Axes>"
      ]
     },
     "metadata": {},
     "output_type": "display_data"
    },
    {
     "data": {
      "image/png": "[encoded data removed]",
      "text/plain": [
       "<Figure size 1872x432 with 1 Axes>"
      ]
     },
     "metadata": {
      "needs_background": "light"
     },
     "output_type": "display_data"
    },
    {
     "name": "stdout",
     "output_type": "stream",
     "text": [
      "plot created for Lake Toolibin and surrounds\n"
     ]
    }
   ],
   "source": [
    "#set up color palette\n",
    "        pal = [sns.xkcd_rgb[\"cobalt blue\"],\n",
    "               sns.xkcd_rgb[\"neon blue\"],\n",
    "               sns.xkcd_rgb[\"grass\"],\n",
    "               sns.xkcd_rgb[\"beige\"],\n",
    "               sns.xkcd_rgb[\"brown\"]]       \n",
    "        #try and figure out what the error is on one of the plots\n",
    "        #make a stacked area plot\n",
    "        plt.clf()\n",
    "        plt.figure(figsize = (26,6))\n",
    "        plt.stackplot(wofs_area_percent.time.values, \n",
    "                      wofs_area_percent, \n",
    "                      tcw_less_wofs, \n",
    "                      Photosynthetic_veg_percent, \n",
    "                      NonPhotosynthetic_veg_percent,\n",
    "                      Bare_soil_percent,\n",
    "                     labels=['open water',\n",
    "                      'wet',\n",
    "                      'green veg',\n",
    "                      'dead veg',\n",
    "                      'bare soil',\n",
    "                     ], colors=pal, alpha = 0.6)\n",
    "\n",
    "\n",
    "        plt.title(f'Percentage of area WOfS, Wetness, Fractional Cover for {polyName}')\n",
    "\n",
    "\n",
    "        #set date ticks every year\n",
    "\n",
    "        years = mdates.YearLocator(1)\n",
    "        yearsFmt = mdates.DateFormatter('%Y')\n",
    "\n",
    "        #set axis limits to the min and max\n",
    "        #plt.axis(xmin = wofs_area_percent.time[0].data, xmax = wofs_area_percent.time[-1].data, ymin = 0, ymax = 100)\n",
    "        ax = plt.gca()\n",
    "        ax.xaxis.set_major_locator(years)\n",
    "        ax.xaxis.set_major_formatter(yearsFmt)\n",
    "        #add a legend and a tight plot box\n",
    "        plt.legend(loc='lower right')\n",
    "        #plt.tight_layout()\n",
    "\n",
    "        #create rectangle borders for no-data times (SLC-off only)\n",
    "        LS5_8_gap_start = datetime(2011,11,1)\n",
    "        LS5_8_gap_end = datetime(2013,4,1)\n",
    "\n",
    "        # convert to matplotlib date representation\n",
    "        gap_start = mdates.date2num(LS5_8_gap_start)\n",
    "        gap_end = mdates.date2num(LS5_8_gap_end)\n",
    "        gap = gap_end - gap_start\n",
    "\n",
    "        #set up rectangle\n",
    "        slc_rectangle= Rectangle((gap_start,0), gap, 100,alpha = 0.5, facecolor=sns.xkcd_rgb['white'],\n",
    "                     edgecolor=sns.xkcd_rgb['white'], hatch=\"////\",linewidth=2)\n",
    "        ax.add_patch(slc_rectangle)\n",
    "\n",
    "\n",
    "        #save the figure\n",
    "        plt.savefig(f'{Output_dir}{polyName}.png')#, transparent=True)\n",
    "        plt.show()\n",
    "        print(f'plot created for {polyName}')\n"
   ]
  },
  {
   "cell_type": "markdown",
   "metadata": {},
   "source": [
    "## test area plot"
   ]
  },
  {
   "cell_type": "code",
   "execution_count": null,
   "metadata": {},
   "outputs": [],
   "source": []
  },
  {
   "cell_type": "code",
   "execution_count": null,
   "metadata": {},
   "outputs": [],
   "source": []
  },
  {
   "cell_type": "code",
   "execution_count": 45,
   "metadata": {},
   "outputs": [
    {
     "ename": "NameError",
     "evalue": "name 'matplotlib' is not defined",
     "output_type": "error",
     "traceback": [
      "\u001b[0;31m---------------------------------------------------------------------------\u001b[0m",
      "\u001b[0;31mNameError\u001b[0m                                 Traceback (most recent call last)",
      "\u001b[0;32m<ipython-input-45-7d35ba054c31>\u001b[0m in \u001b[0;36m<module>\u001b[0;34m\u001b[0m\n\u001b[1;32m      3\u001b[0m        \u001b[0msns\u001b[0m\u001b[0;34m.\u001b[0m\u001b[0mxkcd_rgb\u001b[0m\u001b[0;34m[\u001b[0m\u001b[0;34m\"grass\"\u001b[0m\u001b[0;34m]\u001b[0m\u001b[0;34m,\u001b[0m \u001b[0;31m#1\u001b[0m\u001b[0;34m\u001b[0m\u001b[0;34m\u001b[0m\u001b[0m\n\u001b[1;32m      4\u001b[0m        sns.xkcd_rgb[\"beige\"]] #2\n\u001b[0;32m----> 5\u001b[0;31m \u001b[0mfc_norm\u001b[0m\u001b[0;34m=\u001b[0m\u001b[0mmatplotlib\u001b[0m\u001b[0;34m.\u001b[0m\u001b[0mcolors\u001b[0m\u001b[0;34m.\u001b[0m\u001b[0mBoundaryNorm\u001b[0m\u001b[0;34m(\u001b[0m\u001b[0;34m[\u001b[0m\u001b[0;36m0\u001b[0m\u001b[0;34m,\u001b[0m\u001b[0;36m1\u001b[0m\u001b[0;34m,\u001b[0m\u001b[0;36m2\u001b[0m\u001b[0;34m,\u001b[0m\u001b[0;36m3\u001b[0m\u001b[0;34m]\u001b[0m\u001b[0;34m,\u001b[0m\u001b[0;36m3\u001b[0m\u001b[0;34m)\u001b[0m\u001b[0;34m\u001b[0m\u001b[0;34m\u001b[0m\u001b[0m\n\u001b[0m",
      "\u001b[0;31mNameError\u001b[0m: name 'matplotlib' is not defined"
     ]
    }
   ],
   "source": [
    "#set up color palette for just the fractional cover\n",
    "fc_colors = [sns.xkcd_rgb[\"brown\"], #0\n",
    "       sns.xkcd_rgb[\"grass\"], #1\n",
    "       sns.xkcd_rgb[\"beige\"]] #2\n",
    "fc_norm=matplotlib.colors.BoundaryNorm([0,1,2,3],3)"
   ]
  },
  {
   "cell_type": "code",
   "execution_count": null,
   "metadata": {},
   "outputs": [],
   "source": [
    "#thresholded TCW is boolean type, so need a two-step color map with transparent and a color\n",
    "tcw_colors = ('#00000000',sns.xkcd_rgb[\"neon blue\"]) #neon blue to transparent\n",
    "#we use \"NoNorm\" because our data should only come in 0 and 1s\n",
    "tcw_norm = matplotlib.colors.NoNorm(0,1)"
   ]
  },
  {
   "cell_type": "code",
   "execution_count": null,
   "metadata": {},
   "outputs": [],
   "source": [
    "#thresholded wofs is boolean type, so need a two-step color map with transparent and a color\n",
    "wofs_colors = ('#00000000',sns.xkcd_rgb[\"cobalt blue\"]) #cobalt blue to transparent\n",
    "#use the same Norm as tcw\n",
    "wofs_norm = tcw_norm"
   ]
  },
  {
   "cell_type": "code",
   "execution_count": null,
   "metadata": {},
   "outputs": [],
   "source": [
    "import datetime\n",
    "scene_day= np.datetime_as_string(tcw.isel(time=scene).time.values, unit='D')\n"
   ]
  },
  {
   "cell_type": "code",
   "execution_count": null,
   "metadata": {},
   "outputs": [],
   "source": [
    "#plot the results to check they look roughly like what we are expecting\n",
    "plt.clf()\n",
    "plt.imshow(BSPVNPV[scene],cmap=matplotlib.colors.ListedColormap(colors=fc_colors), norm=fc_norm, alpha =0.7)\n",
    "\n",
    "###us numpy to turn data into a float so the colormap doesn't break\n",
    "plt.imshow(tcw.isel(time=scene).astype(np.float32), cmap=matplotlib.colors.ListedColormap(colors=tcw_colors), norm=tcw_norm, alpha =0.6)\n",
    "plt.imshow(wet_wofs.water.isel(time=scene),cmap=matplotlib.colors.ListedColormap(colors =wofs_colors), norm = wofs_norm, alpha =0.5 )\n",
    "#note shadow wofs not plotted here!!!!!!! #FIXME\n",
    "plt.tick_params(\n",
    "    axis= 'both', #both x and y\n",
    "    which = 'both', # both major and minor ticks\n",
    "    bottom = False, #turn off ticks on bottom\n",
    "    left = False, # turn off ticks on left\n",
    "    labelbottom = False, #turn off ticklabels on the bottom\n",
    "    labelleft = False        #turn of ticklabels on the left\n",
    "    )\n",
    "plt.title(f'WOfS, Wetness, Fractional Cover for {scene_day}')\n",
    "plt.tight_layout()\n",
    "#plt.savefig(f'/g/data/r78/rjd547/Macquarie_Marsh/Mac_FC_{scene_day}.png')"
   ]
  },
  {
   "cell_type": "code",
   "execution_count": null,
   "metadata": {},
   "outputs": [],
   "source": []
  },
  {
   "cell_type": "code",
   "execution_count": null,
   "metadata": {},
   "outputs": [],
   "source": []
  }
 ],
 "metadata": {
  "celltoolbar": "Raw Cell Format",
  "kernelspec": {
   "display_name": "Python 3",
   "language": "python",
   "name": "python3"
  },
  "language_info": {
   "codemirror_mode": {
    "name": "ipython",
    "version": 3
   },
   "file_extension": ".py",
   "mimetype": "text/x-python",
   "name": "python",
   "nbconvert_exporter": "python",
   "pygments_lexer": "ipython3",
   "version": "3.6.7"
  },
  "widgets": {
   "application/vnd.jupyter.widget-state+json": {
    "state": {},
    "version_major": 2,
    "version_minor": 0
   }
  }
 },
 "nbformat": 4,
 "nbformat_minor": 2
}
