{
 "cells": [
  {
   "cell_type": "markdown",
   "metadata": {},
   "source": [
    "load some modules"
   ]
  },
  {
   "cell_type": "code",
   "execution_count": 92,
   "metadata": {},
   "outputs": [],
   "source": [
    "import xarray as xr\n",
    "import pandas as pd\n",
    "import csv\n",
    "import os\n",
    "import fiona\n",
    "from shapely.geometry import shape\n",
    "import geopandas as gpd\n",
    "import matplotlib.pyplot as plt\n",
    "from mpl_toolkits.basemap import Basemap"
   ]
  },
  {
   "cell_type": "markdown",
   "metadata": {},
   "source": [
    "where is my csv?"
   ]
  },
  {
   "cell_type": "code",
   "execution_count": 4,
   "metadata": {},
   "outputs": [],
   "source": [
    "path_to_csv_attribute_table = '/g/data/r78/rjd547/Ramsar_Wetlands/exploded_ramsar_attribute_table.csv'"
   ]
  },
  {
   "cell_type": "code",
   "execution_count": 5,
   "metadata": {},
   "outputs": [],
   "source": [
    "ramsar_exploded = pd.read_csv(path_to_csv_attribute_table)"
   ]
  },
  {
   "cell_type": "code",
   "execution_count": 6,
   "metadata": {},
   "outputs": [
    {
     "data": {
      "text/html": [
       "<div>\n",
       "<style scoped>\n",
       "    .dataframe tbody tr th:only-of-type {\n",
       "        vertical-align: middle;\n",
       "    }\n",
       "\n",
       "    .dataframe tbody tr th {\n",
       "        vertical-align: top;\n",
       "    }\n",
       "\n",
       "    .dataframe thead th {\n",
       "        text-align: right;\n",
       "    }\n",
       "</style>\n",
       "<table border=\"1\" class=\"dataframe\">\n",
       "  <thead>\n",
       "    <tr style=\"text-align: right;\">\n",
       "      <th></th>\n",
       "      <th>OBJECTID</th>\n",
       "      <th>REFCODE</th>\n",
       "      <th>RAMSAR_NAM</th>\n",
       "      <th>WETLAND_NA</th>\n",
       "      <th>STATE</th>\n",
       "      <th>JURISDICTI</th>\n",
       "      <th>DESIGNATIO</th>\n",
       "      <th>TOTAL_SITE</th>\n",
       "      <th>GAZETTED_A</th>\n",
       "      <th>SOURCE</th>\n",
       "      <th>Metadata_U</th>\n",
       "      <th>WetlandsDB</th>\n",
       "      <th>SHAPE_Leng</th>\n",
       "      <th>SHAPE_Area</th>\n",
       "      <th>AREA_HA</th>\n",
       "    </tr>\n",
       "  </thead>\n",
       "  <tbody>\n",
       "    <tr>\n",
       "      <th>0</th>\n",
       "      <td>1</td>\n",
       "      <td>1</td>\n",
       "      <td>Cobourg Peninsula</td>\n",
       "      <td>Cobourg Peninsula</td>\n",
       "      <td>NT</td>\n",
       "      <td>NT</td>\n",
       "      <td>1974-05-08</td>\n",
       "      <td>226481.0</td>\n",
       "      <td>220700.0</td>\n",
       "      <td>State agencies; 1:100 000 to satellite imagery</td>\n",
       "      <td>http://www.environment.gov.au/fed/catalog/main...</td>\n",
       "      <td>http://www.environment.gov.au/cgi-bin/wetlands...</td>\n",
       "      <td>6.815105</td>\n",
       "      <td>0.187566</td>\n",
       "      <td>226480.681675</td>\n",
       "    </tr>\n",
       "    <tr>\n",
       "      <th>1</th>\n",
       "      <td>1</td>\n",
       "      <td>1</td>\n",
       "      <td>Cobourg Peninsula</td>\n",
       "      <td>Cobourg Peninsula</td>\n",
       "      <td>NT</td>\n",
       "      <td>NT</td>\n",
       "      <td>1974-05-08</td>\n",
       "      <td>226481.0</td>\n",
       "      <td>220700.0</td>\n",
       "      <td>State agencies; 1:100 000 to satellite imagery</td>\n",
       "      <td>http://www.environment.gov.au/fed/catalog/main...</td>\n",
       "      <td>http://www.environment.gov.au/cgi-bin/wetlands...</td>\n",
       "      <td>6.815105</td>\n",
       "      <td>0.187566</td>\n",
       "      <td>226480.681675</td>\n",
       "    </tr>\n",
       "    <tr>\n",
       "      <th>2</th>\n",
       "      <td>1</td>\n",
       "      <td>1</td>\n",
       "      <td>Cobourg Peninsula</td>\n",
       "      <td>Cobourg Peninsula</td>\n",
       "      <td>NT</td>\n",
       "      <td>NT</td>\n",
       "      <td>1974-05-08</td>\n",
       "      <td>226481.0</td>\n",
       "      <td>220700.0</td>\n",
       "      <td>State agencies; 1:100 000 to satellite imagery</td>\n",
       "      <td>http://www.environment.gov.au/fed/catalog/main...</td>\n",
       "      <td>http://www.environment.gov.au/cgi-bin/wetlands...</td>\n",
       "      <td>6.815105</td>\n",
       "      <td>0.187566</td>\n",
       "      <td>226480.681675</td>\n",
       "    </tr>\n",
       "    <tr>\n",
       "      <th>3</th>\n",
       "      <td>1</td>\n",
       "      <td>1</td>\n",
       "      <td>Cobourg Peninsula</td>\n",
       "      <td>Cobourg Peninsula</td>\n",
       "      <td>NT</td>\n",
       "      <td>NT</td>\n",
       "      <td>1974-05-08</td>\n",
       "      <td>226481.0</td>\n",
       "      <td>220700.0</td>\n",
       "      <td>State agencies; 1:100 000 to satellite imagery</td>\n",
       "      <td>http://www.environment.gov.au/fed/catalog/main...</td>\n",
       "      <td>http://www.environment.gov.au/cgi-bin/wetlands...</td>\n",
       "      <td>6.815105</td>\n",
       "      <td>0.187566</td>\n",
       "      <td>226480.681675</td>\n",
       "    </tr>\n",
       "    <tr>\n",
       "      <th>4</th>\n",
       "      <td>1</td>\n",
       "      <td>1</td>\n",
       "      <td>Cobourg Peninsula</td>\n",
       "      <td>Cobourg Peninsula</td>\n",
       "      <td>NT</td>\n",
       "      <td>NT</td>\n",
       "      <td>1974-05-08</td>\n",
       "      <td>226481.0</td>\n",
       "      <td>220700.0</td>\n",
       "      <td>State agencies; 1:100 000 to satellite imagery</td>\n",
       "      <td>http://www.environment.gov.au/fed/catalog/main...</td>\n",
       "      <td>http://www.environment.gov.au/cgi-bin/wetlands...</td>\n",
       "      <td>6.815105</td>\n",
       "      <td>0.187566</td>\n",
       "      <td>226480.681675</td>\n",
       "    </tr>\n",
       "  </tbody>\n",
       "</table>\n",
       "</div>"
      ],
      "text/plain": [
       "   OBJECTID  REFCODE         RAMSAR_NAM         WETLAND_NA STATE JURISDICTI  \\\n",
       "0         1        1  Cobourg Peninsula  Cobourg Peninsula    NT         NT   \n",
       "1         1        1  Cobourg Peninsula  Cobourg Peninsula    NT         NT   \n",
       "2         1        1  Cobourg Peninsula  Cobourg Peninsula    NT         NT   \n",
       "3         1        1  Cobourg Peninsula  Cobourg Peninsula    NT         NT   \n",
       "4         1        1  Cobourg Peninsula  Cobourg Peninsula    NT         NT   \n",
       "\n",
       "   DESIGNATIO  TOTAL_SITE  GAZETTED_A  \\\n",
       "0  1974-05-08    226481.0    220700.0   \n",
       "1  1974-05-08    226481.0    220700.0   \n",
       "2  1974-05-08    226481.0    220700.0   \n",
       "3  1974-05-08    226481.0    220700.0   \n",
       "4  1974-05-08    226481.0    220700.0   \n",
       "\n",
       "                                           SOURCE  \\\n",
       "0  State agencies; 1:100 000 to satellite imagery   \n",
       "1  State agencies; 1:100 000 to satellite imagery   \n",
       "2  State agencies; 1:100 000 to satellite imagery   \n",
       "3  State agencies; 1:100 000 to satellite imagery   \n",
       "4  State agencies; 1:100 000 to satellite imagery   \n",
       "\n",
       "                                          Metadata_U  \\\n",
       "0  http://www.environment.gov.au/fed/catalog/main...   \n",
       "1  http://www.environment.gov.au/fed/catalog/main...   \n",
       "2  http://www.environment.gov.au/fed/catalog/main...   \n",
       "3  http://www.environment.gov.au/fed/catalog/main...   \n",
       "4  http://www.environment.gov.au/fed/catalog/main...   \n",
       "\n",
       "                                          WetlandsDB  SHAPE_Leng  SHAPE_Area  \\\n",
       "0  http://www.environment.gov.au/cgi-bin/wetlands...    6.815105    0.187566   \n",
       "1  http://www.environment.gov.au/cgi-bin/wetlands...    6.815105    0.187566   \n",
       "2  http://www.environment.gov.au/cgi-bin/wetlands...    6.815105    0.187566   \n",
       "3  http://www.environment.gov.au/cgi-bin/wetlands...    6.815105    0.187566   \n",
       "4  http://www.environment.gov.au/cgi-bin/wetlands...    6.815105    0.187566   \n",
       "\n",
       "         AREA_HA  \n",
       "0  226480.681675  \n",
       "1  226480.681675  \n",
       "2  226480.681675  \n",
       "3  226480.681675  \n",
       "4  226480.681675  "
      ]
     },
     "execution_count": 6,
     "metadata": {},
     "output_type": "execute_result"
    }
   ],
   "source": [
    "ramsar_exploded.head()"
   ]
  },
  {
   "cell_type": "code",
   "execution_count": 7,
   "metadata": {},
   "outputs": [],
   "source": [
    "# read filenames from directory, add to dataframe, and compare against ramsar list\n"
   ]
  },
  {
   "cell_type": "code",
   "execution_count": 11,
   "metadata": {},
   "outputs": [],
   "source": [
    "ramsars_run = []\n",
    "for file in os.listdir('/g/data/r78/rjd547/Ramsar_Wetlands/Ramsar_Outputs_1/'):\n",
    "    if file.endswith(\".csv\"):\n",
    "        ramsars_run.append(file)  "
   ]
  },
  {
   "cell_type": "code",
   "execution_count": 27,
   "metadata": {},
   "outputs": [
    {
     "data": {
      "text/plain": [
       "['Vasse-Wonnerup_System-Vasse-Wonnerup_System-WA-117.csv',\n",
       " 'Ashmore_Reef_National_Nature_Reserve-Ashmore_Reef_National_Nature_Reserve-EXT-227.csv',\n",
       " 'Moreton_Bay-Moreton_Bay-QLD-146.csv',\n",
       " 'NSW_Central_Murray_State_Forests-Koondrook_Forest_Group-NSW-236.csv',\n",
       " 'Moreton_Bay-Moreton_Bay-QLD-140.csv']"
      ]
     },
     "execution_count": 27,
     "metadata": {},
     "output_type": "execute_result"
    }
   ],
   "source": [
    "ramsars_run[0:5]"
   ]
  },
  {
   "cell_type": "code",
   "execution_count": null,
   "metadata": {},
   "outputs": [],
   "source": [
    "# def get_RAMSAR_polyName(shapefile):\n",
    "#     ''' function designed specifically for the RAMSAR wetlands australia shapefile. Takes the shapefile and extracts\n",
    "#     the ramsar name, wetland name and objectID from the ESRI shapefile format and turns it into a useful string for our output.\n",
    "#     :Inputs: shapefile with RAMSAR_NAM, WETLAND_NA, and OBJECTID as properties. \n",
    "#     Author: Bex Dunn Last Edited: March 2019'''\n",
    "#     # get the ramsar name from the shapes \n",
    "#     RAMSAR_NAME = '_'.join(shapefile['properties']['RAMSAR_NAM'].split(' '))\n",
    "#     WETLAND_NAME = '_'.join(shapefile['properties']['WETLAND_NA'].split(' '))\n",
    "#     STATE = '_'.join(shapefile['properties']['STATE'].split(' ')) \n",
    "#     ID = shapefile['id']\n",
    "#     polyName = f'{RAMSAR_NAME}-{WETLAND_NAME}-{STATE}-{ID}'\n",
    "#     print(f'processing polygon {polyName}')\n",
    "#     return(polyName)"
   ]
  },
  {
   "cell_type": "code",
   "execution_count": 25,
   "metadata": {},
   "outputs": [],
   "source": [
    "ramsar_exploded_index = ramsar_exploded.index.tolist()"
   ]
  },
  {
   "cell_type": "code",
   "execution_count": 39,
   "metadata": {},
   "outputs": [],
   "source": [
    "#get list of runs\n",
    "run_list = []\n",
    "for i in ramsars_run:\n",
    "    i = i.split('-') #break up filename\n",
    "    i = i[-1] #get last bit\n",
    "    i = i.split('.')[0]\n",
    "    i =int(i)\n",
    "    run_list.append(i)"
   ]
  },
  {
   "cell_type": "code",
   "execution_count": 41,
   "metadata": {},
   "outputs": [],
   "source": [
    "run_list.sort()"
   ]
  },
  {
   "cell_type": "code",
   "execution_count": 45,
   "metadata": {},
   "outputs": [
    {
     "name": "stdout",
     "output_type": "stream",
     "text": [
      "{228, 229, 230, 231, 105, 266, 12, 93, 185, 90, 125}\n"
     ]
    }
   ],
   "source": [
    "missing_runs = set(ramsar_exploded_index) - set(run_list)\n",
    "print(missing_runs)"
   ]
  },
  {
   "cell_type": "code",
   "execution_count": 53,
   "metadata": {},
   "outputs": [],
   "source": [
    "missing_runs = list(missing_runs)"
   ]
  },
  {
   "cell_type": "code",
   "execution_count": 73,
   "metadata": {},
   "outputs": [
    {
     "data": {
      "text/plain": [
       "125"
      ]
     },
     "execution_count": 73,
     "metadata": {},
     "output_type": "execute_result"
    }
   ],
   "source": [
    "ramsar_exploded.loc[wetland_number].name"
   ]
  },
  {
   "cell_type": "code",
   "execution_count": 75,
   "metadata": {},
   "outputs": [
    {
     "name": "stdout",
     "output_type": "stream",
     "text": [
      "'Coral Sea Reserves (Coringa-Herald and Lihou Reefs and Cays), OBJECTID:99, ID:228 ',\n",
      "'Coral Sea Reserves (Coringa-Herald and Lihou Reefs and Cays), OBJECTID:99, ID:229 ',\n",
      "'Elizabeth and Middleton Reefs Marine National Nature Reserve, OBJECTID:100, ID:230 ',\n",
      "'The Dales, OBJECTID:101, ID:231 ',\n",
      "'Eighty-mile Beach, OBJECTID:65, ID:105 ',\n",
      "'Peery, OBJECTID:109, ID:266 ',\n",
      "'Kakadu National Park, OBJECTID:2, ID:12 ',\n",
      "'Coongie Lakes, OBJECTID:57, ID:93 ',\n",
      "'Pulu Keeling National Park, OBJECTID:77, ID:185 ',\n",
      "'The Coorong, and Lakes Alexandrina and Albert Wetland, OBJECTID:55, ID:90 ',\n",
      "'Hosnies Spring, OBJECTID:71, ID:125 ',\n"
     ]
    }
   ],
   "source": [
    "for wetland_number in missing_runs:\n",
    "    print (f'\\'{ramsar_exploded.loc[wetland_number][3]}, OBJECTID:{ramsar_exploded.loc[wetland_number][0]}, ID:{ramsar_exploded.loc[wetland_number].name} \\',')"
   ]
  },
  {
   "cell_type": "code",
   "execution_count": 102,
   "metadata": {},
   "outputs": [
    {
     "data": {
      "image/png": "[encoded data removed]",
      "text/plain": [
       "<Figure size 432x288 with 1 Axes>"
      ]
     },
     "metadata": {
      "needs_background": "light"
     },
     "output_type": "display_data"
    }
   ],
   "source": [
    "ramsar_to_plot = gpd.read_file(ramsar_shapes)\n",
    "ramsar_to_plot.plot()\n",
    "plt.show()"
   ]
  },
  {
   "cell_type": "code",
   "execution_count": 114,
   "metadata": {},
   "outputs": [
    {
     "data": {
      "text/plain": [
       "int"
      ]
     },
     "execution_count": 114,
     "metadata": {},
     "output_type": "execute_result"
    }
   ],
   "source": [
    "type(missing_runs[0])"
   ]
  },
  {
   "cell_type": "code",
   "execution_count": 109,
   "metadata": {},
   "outputs": [],
   "source": [
    "ramsar_shapes =  '/g/data/r78/rjd547/Ramsar_Wetlands/ExplodedRAMSAR.shp'"
   ]
  },
  {
   "cell_type": "code",
   "execution_count": 110,
   "metadata": {},
   "outputs": [],
   "source": [
    "\n",
    "#### trying to get each of the features matching wetland name and id into a separate file"
   ]
  },
  {
   "cell_type": "code",
   "execution_count": 117,
   "metadata": {},
   "outputs": [
    {
     "name": "stdout",
     "output_type": "stream",
     "text": [
      "Kakadu National Park\n",
      "The Coorong, and Lakes Alexandrina and Albert Wetland\n",
      "Coongie Lakes\n",
      "Eighty-mile Beach\n",
      "Hosnies Spring\n",
      "Pulu Keeling National Park\n",
      "Coral Sea Reserves (Coringa-Herald and Lihou Reefs and Cays)\n",
      "Coral Sea Reserves (Coringa-Herald and Lihou Reefs and Cays)\n",
      "Elizabeth and Middleton Reefs Marine National Nature Reserve\n",
      "The Dales\n",
      "Peery\n"
     ]
    }
   ],
   "source": [
    "with fiona.open(ramsar_shapes) as inshape:\n",
    "    meta=inshape.meta\n",
    "    with fiona.open('/g/data/r78/rjd547/Ramsar_Wetlands/ramsar_notrun_v1.shp','w',**meta) as outshape:\n",
    "        for feature in inshape:\n",
    "                if int(feature['id']) in missing_runs:\n",
    "                    print(feature['properties']['WETLAND_NA'])   \n",
    "                    outshape.write(feature)\n",
    "                   \n",
    "                    "
   ]
  },
  {
   "cell_type": "code",
   "execution_count": 118,
   "metadata": {},
   "outputs": [
    {
     "data": {
      "image/png": "[encoded data removed]",
      "text/plain": [
       "<Figure size 432x288 with 1 Axes>"
      ]
     },
     "metadata": {
      "needs_background": "light"
     },
     "output_type": "display_data"
    }
   ],
   "source": [
    "outshape_written = gpd.read_file('/g/data/r78/rjd547/Ramsar_Wetlands/ramsar_notrun_v1.shp')\n",
    "outshape_written.plot()\n",
    "plt.show()"
   ]
  },
  {
   "cell_type": "code",
   "execution_count": null,
   "metadata": {},
   "outputs": [],
   "source": []
  }
 ],
 "metadata": {
  "kernelspec": {
   "display_name": "Python [default]",
   "language": "python",
   "name": "python3"
  },
  "language_info": {
   "codemirror_mode": {
    "name": "ipython",
    "version": 3
   },
   "file_extension": ".py",
   "mimetype": "text/x-python",
   "name": "python",
   "nbconvert_exporter": "python",
   "pygments_lexer": "ipython3",
   "version": "3.6.6"
  }
 },
 "nbformat": 4,
 "nbformat_minor": 2
}
