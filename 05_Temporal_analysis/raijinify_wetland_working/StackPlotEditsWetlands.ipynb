{
 "cells": [
  {
   "cell_type": "markdown",
   "metadata": {},
   "source": [
    "# Water, wet vegetation and fractional cover polygon drill stack plot"
   ]
  },
  {
   "cell_type": "markdown",
   "metadata": {
    "ExecuteTime": {
     "end_time": "2019-01-06T22:23:31.735426Z",
     "start_time": "2019-01-06T22:23:30.342336Z"
    }
   },
   "source": [
    "| Authors:  | Bex Dunn|\n",
    "|----------|----------------|\n",
    "| Created: | Jan 7, 2019 |\n",
    "| Last edited: | Jan 10, 2019 |\n",
    "\n",
    "**Requirements:**\n",
    "\n",
    "You need to run the following commands from the command line prior to launching jupyter notebooks from the same terminal so that the required libraries and paths are set:\n",
    "\n",
    "`module use /g/data/v10/public/modules/modulefiles` \n",
    "\n",
    "`module load dea`\n",
    "\n",
    "If you find an error or bug in this notebook, please either create an 'Issue' in the Github repository, or fix it yourself and create a 'Pull' request to contribute the updated notebook back into the repository (See the repository [README](https://github.com/GeoscienceAustralia/dea-notebooks/blob/master/README.rst) for instructions on creating a Pull request).\n",
    "\n",
    "__Background:__ Data from the [Landsat](https://landsat.usgs.gov/about-landsat) 5,7 and 8 satellite missions are accessible through [Digital Earth Australia](http://www.ga.gov.au/about/projects/geographic/digital-earth-australia) (DEA). The code snippets in this notebook will let you retrieve and plot the [Fractional Cover](https://d28rz98at9flks.cloudfront.net/79676/Fractional_Cover_FC25_v1_5.PDF) (FC25) data stored in DEA.\n",
    "\n",
    "__What does this notebook do?:__ This notebook takes a supplied shapefile of a polygon and queries the datacube for WOfS, Fractional Cover and NBART. It calculates thresholded tasselled cap wetness. The results are plotted against each other as a stacked plot for assessing change in wetlands or land cover. \n",
    "    \n",
    "__How to use this notebook:__\n",
    "\n",
    "A basic understanding of any programming language is desirable but one doesn't have to be an expert Python programmer to manipulate the code to get and display the data.This doc applies to the following Landsat satellites, Fractional Cover bands and the WOfS dataset:\n",
    "\n",
    "- Landsat 5\n",
    "- Landsat 7\n",
    "- Landsat 8\n",
    "- PV - Photosythetic vegetation\n",
    "- NPV - Non-Photosythetic vegetation\n",
    "- BS - Bare Soil\n",
    "- WOfS Feature Layers (WOFLs)\n",
    "\n",
    "\n"
   ]
  },
  {
   "cell_type": "markdown",
   "metadata": {
    "ExecuteTime": {
     "end_time": "2019-01-06T23:06:04.497482Z",
     "start_time": "2019-01-06T23:06:02.998425Z"
    }
   },
   "source": [
    "__Future Work:__ \n",
    "- do this by max extent of wetness\n",
    "- add rainfall for context\n",
    "        "
   ]
  },
  {
   "cell_type": "raw",
   "metadata": {
    "raw_mimetype": "text/restructuredtext"
   },
   "source": [
    "**Tags**: :index:`plot`,:index:`gridspec`, :index:`Landsat`,:index:`Landsat5`,:index:`Landsat7`,:index:`Landsat8`, :index:`polygondrill`, :index:`DEAPlotting`, :index:`shapefile`, :index:`geopolygon`, :index:`datacube.utils.geometry`, :index:`fiona`, :index:`rasterio`, :index:`query`,:index:`Scripts`,:index:`tasseled_cap`,                                                                                                           :index:`Fractional Cover`, :index:`DEADataHandling`, :index:`DEAPlotting`, :index:`stackplot`,:index:`masking`,:index:`make mask`,:index:`load_clearlandsat`"
   ]
  },
  {
   "cell_type": "markdown",
   "metadata": {
    "ExecuteTime": {
     "end_time": "2019-01-04T03:51:22.814165Z",
     "start_time": "2019-01-04T03:51:22.805714Z"
    }
   },
   "source": [
    "### import modules\n"
   ]
  },
  {
   "cell_type": "code",
   "execution_count": 7,
   "metadata": {
    "ExecuteTime": {
     "end_time": "2019-01-10T00:02:49.307359Z",
     "start_time": "2019-01-10T00:02:30.601840Z"
    }
   },
   "outputs": [
    {
     "name": "stdout",
     "output_type": "stream",
     "text": [
      "The autoreload extension is already loaded. To reload it, use:\n",
      "  %reload_ext autoreload\n"
     ]
    }
   ],
   "source": [
    "import datacube\n",
    "import datetime\n",
    "import fiona\n",
    "import geopandas as gpd\n",
    "import numpy as np\n",
    "import pandas as pd\n",
    "import rasterio.mask\n",
    "import rasterio.features\n",
    "from shapely import geometry\n",
    "import seaborn as sns\n",
    "import sys\n",
    "import xarray as xr\n",
    "\n",
    "import matplotlib.dates as mdates\n",
    "import matplotlib.gridspec as gridspec\n",
    "import matplotlib.pyplot as plt\n",
    "\n",
    "from datacube.storage import masking\n",
    "from datacube.utils import geometry\n",
    "\n",
    "sys.path.append('/g/data/r78/rjd547/jupyter_notebooks/dea-notebooks/10_Scripts')\n",
    "import DEADataHandling, DEAPlotting, TasseledCapTools\n",
    "\n",
    "dc = datacube.Datacube(app='tci and wofs')\n",
    "\n",
    "%load_ext autoreload\n",
    "\n",
    "%autoreload 2"
   ]
  },
  {
   "cell_type": "markdown",
   "metadata": {},
   "source": [
    "### Set up polygon"
   ]
  },
  {
   "cell_type": "code",
   "execution_count": 5,
   "metadata": {
    "ExecuteTime": {
     "end_time": "2019-01-10T00:02:49.408357Z",
     "start_time": "2019-01-10T00:02:49.312080Z"
    }
   },
   "outputs": [],
   "source": [
    "#change the path here if you want a different polygon\n",
    "#poly_path = '/g/data/r78/rjd547/groundwater_activities/Burdekin/Burdekin_shapefiles/reeves_lake_for_demo.shp'\n",
    "poly_path = '/g/data/r78/rjd547/Ramsar_Wetlands/shapefiles/ExplodedRAMSAR.shp'"
   ]
  },
  {
   "cell_type": "code",
   "execution_count": 23,
   "metadata": {
    "ExecuteTime": {
     "end_time": "2019-01-10T00:02:49.487754Z",
     "start_time": "2019-01-10T00:02:49.412760Z"
    }
   },
   "outputs": [
    {
     "name": "stdout",
     "output_type": "stream",
     "text": [
      "Cobourg Peninsula\n",
      "Cobourg Peninsula\n",
      "Cobourg Peninsula\n",
      "Cobourg Peninsula\n",
      "Cobourg Peninsula\n",
      "Cobourg Peninsula\n",
      "Cobourg Peninsula\n",
      "Cobourg Peninsula\n",
      "Cobourg Peninsula\n",
      "Cobourg Peninsula\n",
      "Cobourg Peninsula\n",
      "Cobourg Peninsula\n",
      "Kakadu National Park\n",
      "Kakadu National Park\n",
      "Kakadu National Park\n",
      "Moulting Lagoon\n",
      "Logan Lagoon\n",
      "Lavinia\n",
      "Pitt Water-Orielton Lagoon\n",
      "Pitt Water-Orielton Lagoon\n",
      "Pitt Water-Orielton Lagoon\n",
      "Apsley Marshes\n",
      "East Coast Cape Barren Island Lagoons\n",
      "Flood Plain Lower Ringarooma River\n",
      "Jocks Lagoon\n",
      "Interlaken (Lake Crescent)\n",
      "Little Waterhouse Lake\n",
      "Corner Inlet\n",
      "Barmah Forest\n",
      "Gunbower Forest\n",
      "Lake Arawak\n",
      "Lake Bitterang\n",
      "Lake Brockie\n",
      "Lake Bulla\n",
      "Lake Cantala\n",
      "Lake Hattah\n",
      "Lake Konardin\n",
      "Lake Kramen\n",
      "Lake Lockie\n",
      "Lake Mournpall\n",
      "Lake Yelwell\n",
      "Lake Yerang\n",
      "Cemetery Swamp\n",
      "Cemetery Swamp\n",
      "Fosters Swamp\n",
      "Hird Swamp\n",
      "Johnson Swamp\n",
      "Kangaroo Lake\n",
      "Lake Charm\n",
      "yes!\n",
      "Lake Cullen\n",
      "Lake Kelly\n",
      "Lake Tutchewop\n",
      "Lake William\n",
      "Reedy Lake\n",
      "Stevensons Swamp\n",
      "The Marshes\n",
      "Town Swamp\n",
      "Corio Bay\n",
      "Lake Connewarre\n",
      "Mud Island\n",
      "Point Cook\n",
      "Swan Bay\n",
      "Werribee River\n",
      "Western Port\n",
      "Western District Lakes\n",
      "Western District Lakes\n",
      "Western District Lakes\n",
      "Western District Lakes\n",
      "Western District Lakes\n",
      "Western District Lakes\n",
      "Western District Lakes\n",
      "Western District Lakes\n",
      "Western District Lakes\n",
      "Gippsland Lakes\n",
      "Gippsland Lakes\n",
      "Gippsland Lakes\n",
      "Gippsland Lakes\n",
      "Gippsland Lakes\n",
      "Gippsland Lakes\n",
      "Gippsland Lakes\n",
      "Gippsland Lakes\n",
      "Gippsland Lakes\n",
      "Lake Albacutya\n",
      "Towra Point Nature Reserve\n",
      "Towra Point Nature Reserve\n",
      "Towra Point Nature Reserve\n",
      "Towra Point Nature Reserve\n",
      "Kooragang Nature Reserve\n",
      "Shortland Wetland\n",
      "The Coorong, and Lakes Alexandrina and Albert Wetland\n",
      "The Coorong, and Lakes Alexandrina and Albert Wetland\n",
      "Bool and Hacks Lagoons\n",
      "Bool and Hacks Lagoons\n",
      "Coongie Lakes\n",
      "Macquarie Marshes Nature Reserve\n",
      "Macquarie Marshes Nature Reserve\n",
      "Macquarie Marshes Nature Reserve\n",
      "Macquarie Marshes Nature Reserve\n",
      "Wilgara Wetland\n",
      "Riverland\n",
      "Ord River Floodplain\n",
      "Ord River Floodplain\n",
      "Lakes Argyle and Kununurra\n",
      "Roebuck Bay\n",
      "Eighty-mile Beach\n",
      "Eighty-mile Beach\n",
      "Forrestdale and Thomsons Lakes\n",
      "Forrestdale and Thomsons Lakes\n",
      "Forrestdale and Thomsons Lakes\n",
      "Forrestdale and Thomsons Lakes\n",
      "Peel-Yalgorup System\n",
      "Peel-Yalgorup System\n",
      "Peel-Yalgorup System\n",
      "Peel-Yalgorup System\n",
      "Toolibin Lake (also known as Lake Toolibin)\n",
      "Vasse-Wonnerup System\n",
      "Vasse-Wonnerup System\n",
      "Vasse-Wonnerup System\n",
      "Lake Warden System\n",
      "Lake Warden System\n",
      "Lake Warden System\n",
      "Lake Warden System\n",
      "Lake Warden System\n",
      "Lake Warden System\n",
      "Lake Warden System\n",
      "Hosnies Spring\n",
      "Moreton Bay\n",
      "Moreton Bay\n",
      "Moreton Bay\n",
      "Moreton Bay\n",
      "Moreton Bay\n",
      "Moreton Bay\n",
      "Moreton Bay\n",
      "Moreton Bay\n",
      "Moreton Bay\n",
      "Moreton Bay\n",
      "Moreton Bay\n",
      "Moreton Bay\n",
      "Moreton Bay\n",
      "Moreton Bay\n",
      "Moreton Bay\n",
      "Moreton Bay\n",
      "Moreton Bay\n",
      "Moreton Bay\n",
      "Moreton Bay\n",
      "Moreton Bay\n",
      "Moreton Bay\n",
      "Moreton Bay\n",
      "Moreton Bay\n",
      "Bowling Green Bay\n",
      "Bowling Green Bay\n",
      "Bowling Green Bay\n",
      "Bowling Green Bay\n",
      "Bowling Green Bay\n",
      "Bowling Green Bay\n",
      "Bowling Green Bay\n",
      "Bowling Green Bay\n",
      "Bowling Green Bay\n",
      "Bowling Green Bay\n",
      "Bowling Green Bay\n",
      "Bowling Green Bay\n",
      "Bowling Green Bay\n",
      "Bowling Green Bay\n",
      "Bowling Green Bay\n",
      "Bowling Green Bay\n",
      "Bowling Green Bay\n",
      "Bowling Green Bay\n",
      "Bowling Green Bay\n",
      "Currawinya Lakes (Currawinya National Park)\n",
      "Currawinya Lakes (Currawinya National Park)\n",
      "Currawinya Lakes (Currawinya National Park)\n",
      "Currawinya Lakes (Currawinya National Park)\n",
      "Currawinya Lakes (Currawinya National Park)\n",
      "Currawinya Lakes (Currawinya National Park)\n",
      "Currawinya Lakes (Currawinya National Park)\n",
      "Currawinya Lakes (Currawinya National Park)\n",
      "Currawinya Lakes (Currawinya National Park)\n",
      "Currawinya Lakes (Currawinya National Park)\n",
      "Currawinya Lakes (Currawinya National Park)\n",
      "Currawinya Lakes (Currawinya National Park)\n",
      "Currawinya Lakes (Currawinya National Park)\n",
      "Shoalwater and Corio Bays Area (Shoalwater Bay Training Area, in part - Corio Bay)\n",
      "Shoalwater and Corio Bays Area (Shoalwater Bay Training Area, in part - Corio Bay)\n",
      "Shoalwater and Corio Bays Area (Shoalwater Bay Training Area, in part - Corio Bay)\n",
      "Ginini Flats Wetland Complex\n",
      "Pulu Keeling National Park\n",
      "Little Llangothlin Nature Reserve\n",
      "Blue Lake\n",
      "Lake Pinaroo\n",
      "Crinolyn\n",
      "Goddard's Lease\n",
      "Old Dromana\n",
      "Windella\n",
      "Great Sandy Strait (including Great Sandy Strait, Tin Can Bay and Tin Can Inlet)\n",
      "Great Sandy Strait (including Great Sandy Strait, Tin Can Bay and Tin Can Inlet)\n",
      "Corrie Island Nature Reserve\n",
      "Corrie Island Nature Reserve\n",
      "Little Broughton Island Nature Reserve\n",
      "Myall Lakes National Park\n",
      "Myall Lakes National Park\n",
      "Myall Lakes National Park\n",
      "Myall Lakes National Park\n",
      "Myall Lakes National Park\n",
      "Myall Lakes National Park\n",
      "Myall Lakes National Park\n",
      "Myall Lakes National Park\n",
      "Myall Lakes National Park\n",
      "Myall Lakes National Park\n",
      "Myall Lakes National Park\n",
      "Myall Lakes National Park\n",
      "Myall Lakes NP (Broughton Is)\n",
      "Myall Lakes NP (Fame Cove)\n",
      "Myall Lakes NP (Yacaaba Head)\n",
      "Narran Lake Nature Reserve\n",
      "Narran Lake Nature Reserve\n",
      "Narran Lake Nature Reserve\n",
      "Becher Point Wetlands\n",
      "Lake Gore\n",
      "Lake Gore\n",
      "Muir-Byenup System\n",
      "Muir-Byenup System\n",
      "Edithvale\n",
      "Edithvale\n",
      "Seaford\n",
      "Seaford\n",
      "Seaford\n",
      "Seaford\n",
      "Ashmore Reef National Nature Reserve\n",
      "Coral Sea Reserves (Coringa-Herald and Lihou Reefs and Cays)\n",
      "Coral Sea Reserves (Coringa-Herald and Lihou Reefs and Cays)\n",
      "Elizabeth and Middleton Reefs Marine National Nature Reserve\n",
      "The Dales\n",
      "Fivebough Swamp\n",
      "Tuckerbil Swamp\n",
      "Banrock Station Wetland Complex\n",
      "Koondrook Forest Group\n",
      "Koondrook Forest Group\n",
      "Koondrook Forest Group\n",
      "Koondrook Forest Group\n",
      "Koondrook Forest Group\n",
      "Millewa State Forest Group\n",
      "Millewa State Forest Group\n",
      "Millewa State Forest Group\n",
      "Millewa State Forest Group\n",
      "Millewa State Forest Group\n",
      "Millewa State Forest Group\n",
      "Millewa State Forest Group\n",
      "Millewa State Forest Group\n",
      "Millewa State Forest Group\n",
      "Millewa State Forest Group\n",
      "Millewa State Forest Group\n",
      "Millewa State Forest Group\n",
      "Millewa State Forest Group\n",
      "Millewa State Forest Group\n",
      "Millewa State Forest Group\n",
      "Millewa State Forest Group\n",
      "Millewa State Forest Group\n",
      "Millewa State Forest Group\n",
      "Werai Forest Group\n",
      "Werai Forest Group\n",
      "Werai Forest Group\n",
      "Werai Forest Group\n",
      "Werai Forest Group\n",
      "Werai Forest Group\n",
      "Nocoleche Nature Reserve\n",
      "Nocoleche Nature Reserve\n",
      "Peery\n",
      "Peery\n",
      "Peery\n",
      "Piccaninnie Ponds Karst Wetlands\n"
     ]
    }
   ],
   "source": [
    "#open the polygon\n",
    "with fiona.open(poly_path) as shapes:\n",
    "        crs = geometry.CRS(shapes.crs_wkt)\n",
    "        first_geometry = next(iter(shapes))['geometry']\n",
    "        geom = geometry.Geometry(first_geometry, crs=crs)\n",
    "        for feature in shapes:\n",
    "            print(feature['properties']['WETLAND_NA'])\n",
    "            if feature['properties']['WETLAND_NA']=='Lake Charm':\n",
    "                print('yes!')\n",
    "                lake_charm =feature"
   ]
  },
  {
   "cell_type": "code",
   "execution_count": 24,
   "metadata": {},
   "outputs": [
    {
     "data": {
      "text/plain": [
       "{'type': 'Feature',\n",
       " 'id': '48',\n",
       " 'geometry': {'type': 'Polygon',\n",
       "  'coordinates': [[(1069158.4785313003, -3939681.0834803777),\n",
       "    (1069054.3713859785, -3939743.151931555),\n",
       "    (1069040.6682784588, -3939751.519823561),\n",
       "    (1069025.972232123, -3939760.4925206187),\n",
       "    (1068985.8594989358, -3939785.870570382),\n",
       "    (1068549.4309405445, -3939881.1892314316),\n",
       "    (1068145.0917516132, -3939831.0569648803),\n",
       "    (1067766.63910663, -3939681.92859506),\n",
       "    (1067717.2170125255, -3939662.4535557167),\n",
       "    (1067697.575378403, -3939654.718458701),\n",
       "    (1067608.193722442, -3939599.9282563026),\n",
       "    (1067524.0467668702, -3939920.582021235),\n",
       "    (1067673.9888678489, -3940067.748124929),\n",
       "    (1067743.1933147248, -3940276.7495244583),\n",
       "    (1067741.2824013943, -3940341.821927969),\n",
       "    (1067741.6946612443, -3940342.954491585),\n",
       "    (1067792.8056743247, -3940483.0670891763),\n",
       "    (1067867.3578331799, -3940610.428727692),\n",
       "    (1067924.3814204962, -3940557.4542288114),\n",
       "    (1067939.4808296126, -3940543.4263906195),\n",
       "    (1067952.9532752289, -3940566.5228758333),\n",
       "    (1067928.0226673773, -3940841.953368943),\n",
       "    (1068124.7131760109, -3941114.273288698),\n",
       "    (1068237.794616483, -3941088.47950604),\n",
       "    (1068474.1902502659, -3940987.3574339948),\n",
       "    (1068668.6998554738, -3941104.5994117805),\n",
       "    (1068731.7529553396, -3941357.851000105),\n",
       "    (1068718.3863855018, -3941480.3973316643),\n",
       "    (1068905.5052808383, -3941595.072800005),\n",
       "    (1068901.3961958503, -3941635.8075772733),\n",
       "    (1068897.1509623965, -3941677.884221527),\n",
       "    (1068864.5027731517, -3942001.5202790666),\n",
       "    (1068885.1380876296, -3942003.4478154453),\n",
       "    (1068922.309407818, -3942006.921078697),\n",
       "    (1068907.4221621652, -3942170.9999806136),\n",
       "    (1068760.5890804315, -3942105.1284400844),\n",
       "    (1068750.0990420638, -3942100.4287840445),\n",
       "    (1068739.6005306614, -3942095.7224391373),\n",
       "    (1068614.26943292, -3942039.494476411),\n",
       "    (1068411.9068408913, -3941828.0453889794),\n",
       "    (1068290.4288768799, -3941579.9447284467),\n",
       "    (1068290.23539267, -3941579.549287839),\n",
       "    (1067822.8427795456, -3941033.201972334),\n",
       "    (1067784.5153122023, -3940974.4802510706),\n",
       "    (1067784.180978586, -3940871.9164909497),\n",
       "    (1067771.783671414, -3940850.809315147),\n",
       "    (1067751.5142817479, -3940816.3005636376),\n",
       "    (1067513.2635832585, -3940669.593931596),\n",
       "    (1067367.773865804, -3940643.796083295),\n",
       "    (1067180.4391595605, -3940621.5463854168),\n",
       "    (1067136.8573642818, -3940616.3693929515),\n",
       "    (1066866.4136512547, -3940464.464364352),\n",
       "    (1066815.0242528175, -3940410.110978079),\n",
       "    (1066717.1173498048, -3940306.554596953),\n",
       "    (1066703.208927768, -3940248.9464776437),\n",
       "    (1066658.341795884, -3940237.854566222),\n",
       "    (1066661.2012601339, -3940197.8708530893),\n",
       "    (1066755.530185435, -3940220.673499078),\n",
       "    (1067108.8647321546, -3940133.8000505865),\n",
       "    (1067117.6147865213, -3939955.058620885),\n",
       "    (1067247.6076461992, -3939772.827072902),\n",
       "    (1067415.5322140045, -3939625.213285714),\n",
       "    (1067307.7984308754, -3939614.7360284296),\n",
       "    (1067340.9363602104, -3939551.460854842),\n",
       "    (1067345.9190693125, -3939541.8161542644),\n",
       "    (1067350.901161272, -3939532.168383506),\n",
       "    (1067401.114191613, -3939433.3214238524),\n",
       "    (1067405.5578584303, -3939418.577795951),\n",
       "    (1067410.0057628637, -3939403.818938688),\n",
       "    (1067511.6316466886, -3939540.7366871317),\n",
       "    (1067541.4883471853, -3939512.3323404035),\n",
       "    (1067540.946805259, -3939505.478223006),\n",
       "    (1067532.3781321344, -3939489.7392279203),\n",
       "    (1067513.669517528, -3939475.1970468187),\n",
       "    (1067486.979463567, -3939438.56538905),\n",
       "    (1067479.605529218, -3939410.1446160995),\n",
       "    (1067479.3717032927, -3939408.3111838675),\n",
       "    (1067477.680774923, -3939395.031831362),\n",
       "    (1067478.5480213184, -3939388.2683914877),\n",
       "    (1067483.8975071257, -3939346.5532609676),\n",
       "    (1067505.246591669, -3939297.3571985294),\n",
       "    (1067520.897017977, -3939273.228790727),\n",
       "    (1067521.3528064175, -3939272.7095990335),\n",
       "    (1067554.062968269, -3939235.4278107416),\n",
       "    (1067565.8717899243, -3939221.970491248),\n",
       "    (1067583.9765097778, -3939189.5349514973),\n",
       "    (1067591.2568816715, -3939147.5513350028),\n",
       "    (1067594.629332298, -3939111.6078906157),\n",
       "    (1067606.5005380097, -3939074.3205685588),\n",
       "    (1067619.8967769176, -3939056.373522185),\n",
       "    (1067639.534153574, -3939043.2889572843),\n",
       "    (1067654.9806074372, -3939021.262155537),\n",
       "    (1067660.951851642, -3939011.1547647994),\n",
       "    (1067673.1532363861, -3939005.8969172416),\n",
       "    (1067698.632771937, -3939001.889193359),\n",
       "    (1067701.2139124123, -3938974.398422952),\n",
       "    (1067698.8494179205, -3938966.7924942845),\n",
       "    (1067633.4355022039, -3938960.6334663173),\n",
       "    (1067608.10860616, -3938958.248532371),\n",
       "    (1067618.6073544193, -3938846.3110192814),\n",
       "    (1067627.664107574, -3938749.7447777013),\n",
       "    (1067630.6876126877, -3938717.5075438553),\n",
       "    (1067634.209291576, -3938679.961668694),\n",
       "    (1067640.6239899697, -3938611.570055963),\n",
       "    (1067653.2952569243, -3938476.4647001764),\n",
       "    (1067663.0619571677, -3938447.05121891),\n",
       "    (1067671.797780521, -3938420.74258427),\n",
       "    (1067671.4745407326, -3938417.5147181666),\n",
       "    (1067655.426217772, -3938310.0315972366),\n",
       "    (1067639.4535289127, -3938203.02560552),\n",
       "    (1067622.6609256573, -3938090.5372913266),\n",
       "    (1067617.9901199257, -3938059.249209786),\n",
       "    (1067615.6174314446, -3938043.3517597094),\n",
       "    (1067613.5075521783, -3938029.220650002),\n",
       "    (1067607.2145201205, -3937987.0613951613),\n",
       "    (1067742.3890274926, -3937747.3647350394),\n",
       "    (1067816.5688915246, -3937562.8799557392),\n",
       "    (1067956.9157492644, -3937349.98191563),\n",
       "    (1067996.1012935932, -3937161.628324066),\n",
       "    (1068222.3566018012, -3936909.346563687),\n",
       "    (1068391.250451624, -3936888.8682963923),\n",
       "    (1068404.2214120682, -3936854.3497790834),\n",
       "    (1068902.0837077177, -3936687.751003126),\n",
       "    (1068904.1227496616, -3936690.808330941),\n",
       "    (1069168.991098731, -3936856.5029988494),\n",
       "    (1069201.7917083302, -3936859.6089729327),\n",
       "    (1069426.5118384182, -3937096.9816478333),\n",
       "    (1069480.664250959, -3937183.1762894993),\n",
       "    (1069627.640014854, -3937417.109155484),\n",
       "    (1069659.663704174, -3937506.745854923),\n",
       "    (1069736.0271414628, -3937720.4888875578),\n",
       "    (1069768.3144222146, -3937861.67722874),\n",
       "    (1069811.9583527416, -3938052.5246586623),\n",
       "    (1069816.9617300215, -3938074.4007555074),\n",
       "    (1069822.5773923502, -3938098.9655535575),\n",
       "    (1069827.5213508888, -3938120.582427415),\n",
       "    (1069833.003373886, -3938144.554791239),\n",
       "    (1069857.2058988845, -3938206.4872525153),\n",
       "    (1069791.0613834576, -3938910.216500274),\n",
       "    (1069791.0102855526, -3938910.3262109654),\n",
       "    (1069667.078854209, -3939180.697121183),\n",
       "    (1069463.424811811, -3939447.139481767),\n",
       "    (1069428.3348505734, -3939493.0484146615),\n",
       "    (1069404.9366843393, -3939516.4204116864),\n",
       "    (1069382.7735108386, -3939538.5599971805),\n",
       "    (1069360.931685472, -3939560.3780510505),\n",
       "    (1069319.2281928034, -3939585.242133776),\n",
       "    (1069293.1519020204, -3939600.7890856233),\n",
       "    (1069269.2342669496, -3939615.049091177),\n",
       "    (1069247.0324041909, -3939628.2858882705),\n",
       "    (1069226.4919623113, -3939640.5335775083),\n",
       "    (1069158.4785313003, -3939681.0834803777)]]},\n",
       " 'properties': OrderedDict([('OBJECTID', 33),\n",
       "              ('REFCODE', 17),\n",
       "              ('RAMSAR_NAM', 'Kerang Wetlands'),\n",
       "              ('WETLAND_NA', 'Lake Charm'),\n",
       "              ('STATE', 'VIC'),\n",
       "              ('JURISDICTI', 'VIC'),\n",
       "              ('DESIGNATIO', '1982-12-15'),\n",
       "              ('TOTAL_SITE', 9793.0),\n",
       "              ('GAZETTED_A', 9419.0),\n",
       "              ('SOURCE',\n",
       "               'Department of Environment and Primary Industries, Victoria at 1:25 000 (RAMSAR25/) July 2013.'),\n",
       "              ('Metadata_U',\n",
       "               'http://services.land.vic.gov.au/SpatialDatamart/dataSearchViewMetadata.html?anzlicId=ANZVI0803004218&extractionProviderId=1'),\n",
       "              ('WetlandsDB',\n",
       "               'http://www.environment.gov.au/cgi-bin/wetlands/ramsardetails.pl?refcode=17'),\n",
       "              ('SHAPE_Leng', 0.17350726833),\n",
       "              ('SHAPE_Area', 0.00070018365),\n",
       "              ('AREA_HA', 703.927634508)])}"
      ]
     },
     "execution_count": 24,
     "metadata": {},
     "output_type": "execute_result"
    }
   ],
   "source": [
    "lake_charm"
   ]
  },
  {
   "cell_type": "code",
   "execution_count": 8,
   "metadata": {
    "ExecuteTime": {
     "end_time": "2019-01-10T00:02:49.891099Z",
     "start_time": "2019-01-10T00:02:49.492245Z"
    }
   },
   "outputs": [
    {
     "data": {
      "text/plain": [
       "<Figure size 432x288 with 0 Axes>"
      ]
     },
     "metadata": {},
     "output_type": "display_data"
    },
    {
     "data": {
      "image/png": "[encoded data removed]",
      "text/plain": [
       "<Figure size 432x288 with 1 Axes>"
      ]
     },
     "metadata": {
      "needs_background": "light"
     },
     "output_type": "display_data"
    }
   ],
   "source": [
    "#plot polygon to check it looks ok\n",
    "plt.clf()\n",
    "shape_plot = gpd.read_file(poly_path)\n",
    "shape_plot.plot()\n",
    "plt.show()"
   ]
  },
  {
   "cell_type": "markdown",
   "metadata": {},
   "source": [
    "### Set up query"
   ]
  },
  {
   "cell_type": "code",
   "execution_count": null,
   "metadata": {
    "ExecuteTime": {
     "end_time": "2019-01-10T00:02:49.940837Z",
     "start_time": "2019-01-10T00:02:49.893687Z"
    }
   },
   "outputs": [],
   "source": [
    "query = {'geopolygon': geom,\n",
    "         #'time': ('2016-01-01', '2018-06-30')\n",
    "         #'time': ('2007-01-01', '2007-06-30')\n",
    "         'time': ('2017-01-01', '2019-01-01')\n",
    "         }"
   ]
  },
  {
   "cell_type": "markdown",
   "metadata": {},
   "source": [
    "## Set up datasets"
   ]
  },
  {
   "cell_type": "markdown",
   "metadata": {
    "ExecuteTime": {
     "end_time": "2019-01-06T23:12:48.634135Z",
     "start_time": "2019-01-06T23:12:48.544858Z"
    }
   },
   "source": [
    "### set cloudmasking threshold and load landsat nbart data"
   ]
  },
  {
   "cell_type": "markdown",
   "metadata": {
    "ExecuteTime": {
     "end_time": "2019-01-08T02:38:19.805949Z",
     "start_time": "2019-01-08T02:38:18.089945Z"
    }
   },
   "source": [
    "### mask the data with our original polygon to remove extra data "
   ]
  },
  {
   "cell_type": "code",
   "execution_count": null,
   "metadata": {},
   "outputs": [],
   "source": [
    "landsat_masked_prop = 0.90\n",
    "ls578 = DEADataHandling.load_clearlandsat(dc=dc, query=query, product='nbart',masked_prop=landsat_masked_prop)"
   ]
  },
  {
   "cell_type": "code",
   "execution_count": null,
   "metadata": {
    "ExecuteTime": {
     "end_time": "2019-01-10T00:05:09.682713Z",
     "start_time": "2019-01-10T00:05:08.354745Z"
    }
   },
   "outputs": [],
   "source": [
    "data = ls578\n",
    "mask = rasterio.features.geometry_mask([geom.to_crs(data.geobox.crs)for geoms in [geom]],\n",
    "                                           out_shape=data.geobox.shape,\n",
    "                                           transform=data.geobox.affine,\n",
    "                                           all_touched=False,\n",
    "                                           invert=False)"
   ]
  },
  {
   "cell_type": "code",
   "execution_count": null,
   "metadata": {
    "ExecuteTime": {
     "end_time": "2019-01-10T00:05:09.798551Z",
     "start_time": "2019-01-10T00:05:09.688135Z"
    }
   },
   "outputs": [],
   "source": [
    "#for some reason xarray is not playing nicely with our old masking function\n",
    "mask_xr = xr.DataArray(mask, dims = ('y','x'))\n",
    "ls578_ds = data.where(mask_xr==False)"
   ]
  },
  {
   "cell_type": "code",
   "execution_count": null,
   "metadata": {
    "ExecuteTime": {
     "end_time": "2019-01-10T00:05:10.101788Z",
     "start_time": "2019-01-10T00:05:09.802192Z"
    }
   },
   "outputs": [],
   "source": [
    "#transform the nbart into tci\n",
    "tci = TasseledCapTools.thresholded_tasseled_cap(ls578_ds,wetness_threshold=-350, drop=True , drop_tc_bands=True)"
   ]
  },
  {
   "cell_type": "markdown",
   "metadata": {},
   "source": [
    "### create a masked version of the extent of overthreshold wetness"
   ]
  },
  {
   "cell_type": "code",
   "execution_count": null,
   "metadata": {
    "ExecuteTime": {
     "end_time": "2019-01-10T00:05:10.181793Z",
     "start_time": "2019-01-10T00:05:10.107286Z"
    }
   },
   "outputs": [],
   "source": [
    "#select only finite values (over threshold values)\n",
    "tcw = xr.ufuncs.isfinite(tci.wetness_thresholded)"
   ]
  },
  {
   "cell_type": "code",
   "execution_count": null,
   "metadata": {
    "ExecuteTime": {
     "end_time": "2019-01-10T00:05:10.250480Z",
     "start_time": "2019-01-10T00:05:10.185848Z"
    }
   },
   "outputs": [],
   "source": [
    "# #reapply the polygon mask\n",
    "tcw = tcw.where(mask_xr==False)"
   ]
  },
  {
   "cell_type": "markdown",
   "metadata": {
    "ExecuteTime": {
     "end_time": "2019-01-06T23:01:16.380099Z",
     "start_time": "2019-01-06T23:01:14.739350Z"
    }
   },
   "source": [
    "### load wofls and select only wet pixels"
   ]
  },
  {
   "cell_type": "code",
   "execution_count": null,
   "metadata": {
    "ExecuteTime": {
     "end_time": "2019-01-10T00:05:46.308984Z",
     "start_time": "2019-01-10T00:05:10.253994Z"
    }
   },
   "outputs": [],
   "source": [
    "#load wofs\n",
    "wofls = dc.load(product = 'wofs_albers', like=ls578_ds)"
   ]
  },
  {
   "cell_type": "code",
   "execution_count": null,
   "metadata": {
    "ExecuteTime": {
     "end_time": "2019-01-10T00:05:47.188899Z",
     "start_time": "2019-01-10T00:05:46.312115Z"
    }
   },
   "outputs": [],
   "source": [
    "#only get wet obs\n",
    "wetwofl = masking.make_mask(wofls, wet=True, terrain_or_low_angle=True)"
   ]
  },
  {
   "cell_type": "code",
   "execution_count": null,
   "metadata": {
    "ExecuteTime": {
     "end_time": "2019-01-10T00:05:47.250179Z",
     "start_time": "2019-01-10T00:05:47.191248Z"
    }
   },
   "outputs": [],
   "source": [
    "#match the wofs observations to the nbart\n",
    "wetwofl=wetwofl.where(wofls.time==ls578_ds.time)"
   ]
  },
  {
   "cell_type": "markdown",
   "metadata": {
    "ExecuteTime": {
     "end_time": "2019-01-09T01:48:09.915423Z",
     "start_time": "2019-01-09T01:48:09.867490Z"
    }
   },
   "source": [
    "### mask the wofs obs"
   ]
  },
  {
   "cell_type": "code",
   "execution_count": null,
   "metadata": {
    "ExecuteTime": {
     "end_time": "2019-01-10T00:05:47.306762Z",
     "start_time": "2019-01-10T00:05:47.252704Z"
    }
   },
   "outputs": [],
   "source": [
    "#mask the wofs obs with the polygon mask\n",
    "wetwofl = wetwofl.where(mask_xr==False)"
   ]
  },
  {
   "cell_type": "markdown",
   "metadata": {},
   "source": [
    "### load in fractional cover data"
   ]
  },
  {
   "cell_type": "code",
   "execution_count": null,
   "metadata": {
    "ExecuteTime": {
     "end_time": "2019-01-10T00:07:11.799408Z",
     "start_time": "2019-01-10T00:05:47.309406Z"
    }
   },
   "outputs": [],
   "source": [
    "#load the data according to our query\n",
    "#choose a mask proportion to look for a clear timestep\n",
    "fc_ds = DEADataHandling.load_clearlandsat(dc, query,product='fc',masked_prop=0.90)"
   ]
  },
  {
   "cell_type": "markdown",
   "metadata": {},
   "source": [
    "### mask FC with polygon"
   ]
  },
  {
   "cell_type": "code",
   "execution_count": null,
   "metadata": {
    "ExecuteTime": {
     "end_time": "2019-01-10T00:07:13.120161Z",
     "start_time": "2019-01-10T00:07:11.801994Z"
    }
   },
   "outputs": [],
   "source": [
    "fc_ds = fc_ds.where(mask_xr==False)"
   ]
  },
  {
   "cell_type": "markdown",
   "metadata": {},
   "source": [
    "### mask FC with wetness"
   ]
  },
  {
   "cell_type": "code",
   "execution_count": null,
   "metadata": {
    "ExecuteTime": {
     "end_time": "2019-01-10T00:07:13.201911Z",
     "start_time": "2019-01-10T00:07:13.123421Z"
    }
   },
   "outputs": [],
   "source": [
    "fc_ds_noTCW=fc_ds.where(tcw==False)"
   ]
  },
  {
   "cell_type": "code",
   "execution_count": null,
   "metadata": {
    "ExecuteTime": {
     "end_time": "2019-01-10T00:07:13.253520Z",
     "start_time": "2019-01-10T00:07:13.204560Z"
    }
   },
   "outputs": [],
   "source": [
    "#set scene to plot\n",
    "scene =2"
   ]
  },
  {
   "cell_type": "code",
   "execution_count": null,
   "metadata": {
    "ExecuteTime": {
     "end_time": "2019-01-10T00:07:14.909384Z",
     "start_time": "2019-01-10T00:07:13.256172Z"
    }
   },
   "outputs": [],
   "source": [
    "#set up our images on a grid using gridspec\n",
    "plt.clf()\n",
    "plt.figure(figsize=(12,8))\n",
    "gs = gridspec.GridSpec(2,2) # set up a 2 x 2 grid of 4 images for better presentation\n",
    "\n",
    "ax1=plt.subplot(gs[0,0])\n",
    "fc_ds_noTCW.PV.isel(time=scene).plot(cmap='gist_earth_r')\n",
    "ax1.set_title('PV')\n",
    "\n",
    "ax2=plt.subplot(gs[1,0])\n",
    "fc_ds_noTCW.BS.isel(time=scene).plot(cmap='Oranges')\n",
    "ax2.set_title('BS')\n",
    "\n",
    "ax3=plt.subplot(gs[0,1])\n",
    "fc_ds_noTCW.NPV.isel(time=scene).plot(cmap='copper')\n",
    "ax3.set_title('NPV')\n",
    "\n",
    "ax4=plt.subplot(gs[1,1])\n",
    "fc_ds_noTCW.UE.isel(time=scene).plot(cmap='magma')\n",
    "ax4.set_title('UE')\n",
    "\n",
    "plt.tight_layout()\n",
    "plt.show()"
   ]
  },
  {
   "cell_type": "markdown",
   "metadata": {},
   "source": [
    "### Calculate number of pixels in area of interest"
   ]
  },
  {
   "cell_type": "code",
   "execution_count": null,
   "metadata": {
    "ExecuteTime": {
     "end_time": "2019-01-10T00:07:14.963267Z",
     "start_time": "2019-01-10T00:07:14.912927Z"
    }
   },
   "outputs": [],
   "source": [
    "#number of pixels in area of interest\n",
    "pixels = (mask_xr==0).sum(dim=['x','y'])"
   ]
  },
  {
   "cell_type": "code",
   "execution_count": null,
   "metadata": {
    "ExecuteTime": {
     "end_time": "2019-01-10T00:07:15.013507Z",
     "start_time": "2019-01-10T00:07:14.965850Z"
    }
   },
   "outputs": [],
   "source": [
    "mask_xr==0\n",
    "mask_xr.count(dim=['x','y'])"
   ]
  },
  {
   "cell_type": "code",
   "execution_count": null,
   "metadata": {
    "ExecuteTime": {
     "end_time": "2019-01-10T00:07:15.084523Z",
     "start_time": "2019-01-10T00:07:15.017725Z"
    }
   },
   "outputs": [],
   "source": [
    "#count number of wofs pixels\n",
    "wofs_pixels = wetwofl.water.sum(dim=['x','y'])\n",
    "\n",
    "#count percentage of area of wofs\n",
    "wofs_area_percent = (wofs_pixels/pixels)*100\n",
    "\n",
    "#count number of tcw pixels\n",
    "tcw_pixel_count = tcw.sum(dim=['x','y'])\n",
    "\n",
    "#calculate percentage area wet\n",
    "tcw_area_percent = (tcw_pixel_count/pixels)*100\n",
    "\n",
    "#calculate wet not wofs\n",
    "tcw_less_wofs = tcw_area_percent-wofs_area_percent"
   ]
  },
  {
   "cell_type": "markdown",
   "metadata": {},
   "source": [
    "### Calculate the dominant fraction for each pixel in Fractional Cover"
   ]
  },
  {
   "cell_type": "code",
   "execution_count": null,
   "metadata": {
    "ExecuteTime": {
     "end_time": "2019-01-10T00:07:15.216594Z",
     "start_time": "2019-01-10T00:07:15.088081Z"
    }
   },
   "outputs": [],
   "source": [
    "#drop data percentage and Unmixing Error\n",
    "fc_tester = fc_ds_noTCW.drop(['data_perc','UE'])\n",
    "\n",
    "#following robbi's advice, cast the dataset to a dataarray\n",
    "maxFC = fc_tester.to_array(dim='variable', name='maxFC')\n",
    "\n",
    "#turn FC array into integer only as nanargmax doesn't seem to handle floats the way we want it to\n",
    "FC_int = maxFC.astype('int8')\n",
    "\n",
    "#use numpy.nanargmax to get the index of the maximum value along the variable dimension\n",
    "#BSPVNPV=np.nanargmax(FC_int, axis=0)\n",
    "BSPVNPV=FC_int.argmax(dim='variable')\n",
    "\n",
    "FC_mask=xr.ufuncs.isfinite(maxFC).all(dim='variable')\n",
    "\n",
    "# #re-mask with nans to remove no-data\n",
    "BSPVNPV=BSPVNPV.where(FC_mask)"
   ]
  },
  {
   "cell_type": "code",
   "execution_count": null,
   "metadata": {
    "ExecuteTime": {
     "end_time": "2019-01-10T00:07:15.630028Z",
     "start_time": "2019-01-10T00:07:15.219727Z"
    }
   },
   "outputs": [],
   "source": [
    "#plot the results to check they look roughly like what we are expecting\n",
    "plt.clf()\n",
    "plt.imshow(BSPVNPV[2])\n",
    "plt.colorbar()"
   ]
  },
  {
   "cell_type": "code",
   "execution_count": null,
   "metadata": {
    "ExecuteTime": {
     "end_time": "2019-01-10T00:07:15.729569Z",
     "start_time": "2019-01-10T00:07:15.632871Z"
    }
   },
   "outputs": [],
   "source": [
    "FC_dominant = xr.Dataset({\n",
    "    'BS': (BSPVNPV==0).where(FC_mask),\n",
    "    'PV': (BSPVNPV==1).where(FC_mask),\n",
    "    'NPV': (BSPVNPV==2).where(FC_mask),\n",
    "})"
   ]
  },
  {
   "cell_type": "code",
   "execution_count": null,
   "metadata": {
    "ExecuteTime": {
     "end_time": "2019-01-10T00:07:15.809744Z",
     "start_time": "2019-01-10T00:07:15.733477Z"
    }
   },
   "outputs": [],
   "source": [
    "FC_count = FC_dominant.sum(dim=['x','y'])"
   ]
  },
  {
   "cell_type": "code",
   "execution_count": null,
   "metadata": {
    "ExecuteTime": {
     "end_time": "2019-01-10T00:07:15.870292Z",
     "start_time": "2019-01-10T00:07:15.813972Z"
    }
   },
   "outputs": [],
   "source": [
    "#Fractional cover pixel count method\n",
    "#Get number of FC pixels, divide by total number of pixels per polygon\n",
    "\n",
    "Bare_soil_percent=(FC_count.BS/pixels)*100\n",
    "\n",
    "Photosynthetic_veg_percent=(FC_count.PV/pixels)*100\n",
    "\n",
    "NonPhotosynthetic_veg_percent=(FC_count.NPV/pixels)*100\n",
    "\n",
    "NoData = 100 - wofs_area_percent- tcw_less_wofs - Photosynthetic_veg_percent - NonPhotosynthetic_veg_percent - Bare_soil_percent"
   ]
  },
  {
   "cell_type": "code",
   "execution_count": null,
   "metadata": {
    "ExecuteTime": {
     "end_time": "2019-01-10T00:22:17.397799Z",
     "start_time": "2019-01-10T00:22:17.319430Z"
    }
   },
   "outputs": [],
   "source": [
    "query['time'][0]"
   ]
  },
  {
   "cell_type": "code",
   "execution_count": null,
   "metadata": {
    "ExecuteTime": {
     "end_time": "2019-01-10T00:33:43.758415Z",
     "start_time": "2019-01-10T00:33:42.865473Z"
    },
    "scrolled": false
   },
   "outputs": [],
   "source": [
    "#set up color palette\n",
    "pal = [sns.xkcd_rgb[\"cobalt blue\"],\n",
    "       sns.xkcd_rgb[\"neon blue\"],\n",
    "       sns.xkcd_rgb[\"grass\"],\n",
    "       sns.xkcd_rgb[\"beige\"],\n",
    "       sns.xkcd_rgb[\"brown\"]]#,\n",
    "      #sns.xkcd_rgb[\"grey\"]]\n",
    "\n",
    "#make a stacked area plot\n",
    "plt.clf()\n",
    "plt.figure(figsize = (12,6))\n",
    "plt.stackplot(wofs_area_percent.time.values, \n",
    "              wofs_area_percent, \n",
    "              tcw_less_wofs, \n",
    "              Photosynthetic_veg_percent, \n",
    "              NonPhotosynthetic_veg_percent,\n",
    "              Bare_soil_percent,\n",
    "              NoData,\n",
    "              labels=['open water',\n",
    "                      'wet',\n",
    "                      'green veg',\n",
    "                      'dead veg',\n",
    "                      'bare soil'#,\n",
    "                      #'NoData'\n",
    "                     ], colors=pal, alpha = 0.6)\n",
    "\n",
    "plt.title('Percentage of area WOfS, Wetness, Fractional Cover')\n",
    "\n",
    "#set axis limits to the min and max\n",
    "plt.axis(xmin = query['time'][0], xmax = query['time'][1], ymin = 0, ymax = 100)\n",
    "\n",
    "#set date ticks every year\n",
    "years = mdates.YearLocator(2)\n",
    "yearsFmt = mdates.DateFormatter('%Y')\n",
    "ax = plt.gca()\n",
    "#ax.xaxis.set_major_locator(years)\n",
    "#ax.xaxis.set_major_formatter(yearsFmt)\n",
    "\n",
    "#add a legend and a tight plot box\n",
    "plt.legend(loc='upper right')\n",
    "plt.tight_layout()\n",
    "\n",
    "#save the figure\n",
    "#plt.savefig('/g/data/r78/rjd547/Ramsar_Wetlands/Old_Dromana_Gwydir_2013_2019.png')#, transparent=True)\n",
    "plt.show()"
   ]
  },
  {
   "cell_type": "code",
   "execution_count": null,
   "metadata": {},
   "outputs": [],
   "source": []
  },
  {
   "cell_type": "code",
   "execution_count": null,
   "metadata": {},
   "outputs": [],
   "source": []
  },
  {
   "cell_type": "code",
   "execution_count": null,
   "metadata": {},
   "outputs": [],
   "source": []
  }
 ],
 "metadata": {
  "celltoolbar": "Raw Cell Format",
  "kernelspec": {
   "display_name": "Python [default]",
   "language": "python",
   "name": "python3"
  },
  "language_info": {
   "codemirror_mode": {
    "name": "ipython",
    "version": 3
   },
   "file_extension": ".py",
   "mimetype": "text/x-python",
   "name": "python",
   "nbconvert_exporter": "python",
   "pygments_lexer": "ipython3",
   "version": "3.6.6"
  },
  "widgets": {
   "application/vnd.jupyter.widget-state+json": {
    "state": {},
    "version_major": 2,
    "version_minor": 0
   }
  }
 },
 "nbformat": 4,
 "nbformat_minor": 2
}
