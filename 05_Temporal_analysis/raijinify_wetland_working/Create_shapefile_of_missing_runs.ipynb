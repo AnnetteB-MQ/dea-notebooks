{
 "cells": [
  {
   "cell_type": "markdown",
   "metadata": {},
   "source": [
    "This notebook checks whether the ramsar wetland polygon drill ran on all the polygons in the input shapefile.\n",
    "\n",
    "_inputs_  \n",
    "- a csv saved from the QGIS attribute table of the original shapefile\n",
    "- path to the output directory containing results for each shapefile\n",
    "- somewhere to save the output shapefile"
   ]
  },
  {
   "cell_type": "markdown",
   "metadata": {},
   "source": [
    "load some modules"
   ]
  },
  {
   "cell_type": "code",
   "execution_count": 92,
   "metadata": {},
   "outputs": [],
   "source": [
    "import xarray as xr\n",
    "import pandas as pd\n",
    "import csv\n",
    "import os\n",
    "import fiona\n",
    "from shapely.geometry import shape\n",
    "import geopandas as gpd\n",
    "import matplotlib.pyplot as plt\n",
    "from mpl_toolkits.basemap import Basemap"
   ]
  },
  {
   "cell_type": "markdown",
   "metadata": {},
   "source": [
    "where is my csv?"
   ]
  },
  {
   "cell_type": "code",
   "execution_count": 4,
   "metadata": {},
   "outputs": [],
   "source": [
    "path_to_csv_attribute_table = '/g/data/r78/rjd547/Ramsar_Wetlands/exploded_ramsar_attribute_table.csv'"
   ]
  },
  {
   "cell_type": "markdown",
   "metadata": {},
   "source": [
    "read in the csv using pandas"
   ]
  },
  {
   "cell_type": "code",
   "execution_count": 5,
   "metadata": {},
   "outputs": [],
   "source": [
    "ramsar_exploded = pd.read_csv(path_to_csv_attribute_table)"
   ]
  },
  {
   "cell_type": "markdown",
   "metadata": {},
   "source": [
    "read filenames from directory, add to dataframe, and compare against ramsar list\n"
   ]
  },
  {
   "cell_type": "code",
   "execution_count": 11,
   "metadata": {},
   "outputs": [],
   "source": [
    "#make an empty list of the files that ran\n",
    "ramsars_run = []\n",
    "#for each file in the output directory\n",
    "for file in os.listdir('/g/data/r78/rjd547/Ramsar_Wetlands/Ramsar_Outputs_1/'):\n",
    "    #if it's a csv file\n",
    "    if file.endswith(\".csv\"):\n",
    "        #add it to our list\n",
    "        ramsars_run.append(file)  "
   ]
  },
  {
   "cell_type": "markdown",
   "metadata": {},
   "source": [
    "look at the first five failed polyons"
   ]
  },
  {
   "cell_type": "code",
   "execution_count": 27,
   "metadata": {},
   "outputs": [
    {
     "data": {
      "text/plain": [
       "['Vasse-Wonnerup_System-Vasse-Wonnerup_System-WA-117.csv',\n",
       " 'Ashmore_Reef_National_Nature_Reserve-Ashmore_Reef_National_Nature_Reserve-EXT-227.csv',\n",
       " 'Moreton_Bay-Moreton_Bay-QLD-146.csv',\n",
       " 'NSW_Central_Murray_State_Forests-Koondrook_Forest_Group-NSW-236.csv',\n",
       " 'Moreton_Bay-Moreton_Bay-QLD-140.csv']"
      ]
     },
     "execution_count": 27,
     "metadata": {},
     "output_type": "execute_result"
    }
   ],
   "source": [
    "ramsars_run[0:5]"
   ]
  },
  {
   "cell_type": "markdown",
   "metadata": {},
   "source": [
    "use the index of the wetland shapefile to get all the original shapefile indices"
   ]
  },
  {
   "cell_type": "code",
   "execution_count": 121,
   "metadata": {},
   "outputs": [],
   "source": [
    "#get the shapefile index as a list\n",
    "ramsar_exploded_index = ramsar_exploded.index.tolist()"
   ]
  },
  {
   "cell_type": "markdown",
   "metadata": {},
   "source": [
    "use some string manipulation to get the index of the missing polgons out of the list of files in the output directory"
   ]
  },
  {
   "cell_type": "code",
   "execution_count": 39,
   "metadata": {},
   "outputs": [],
   "source": [
    "#get list of runs\n",
    "run_list = []\n",
    "for i in ramsars_run:\n",
    "    i = i.split('-') #break up filename\n",
    "    i = i[-1] #get last bit\n",
    "    i = i.split('.')[0]\n",
    "    i =int(i)\n",
    "    run_list.append(i)"
   ]
  },
  {
   "cell_type": "markdown",
   "metadata": {},
   "source": [
    "use set math to find which indexes are present in the original list and not the output directory"
   ]
  },
  {
   "cell_type": "code",
   "execution_count": 45,
   "metadata": {},
   "outputs": [
    {
     "name": "stdout",
     "output_type": "stream",
     "text": [
      "{228, 229, 230, 231, 105, 266, 12, 93, 185, 90, 125}\n"
     ]
    }
   ],
   "source": [
    "missing_runs = set(ramsar_exploded_index) - set(run_list)\n",
    "print(missing_runs)"
   ]
  },
  {
   "cell_type": "code",
   "execution_count": 53,
   "metadata": {},
   "outputs": [],
   "source": [
    "#turn the set of missing runs back into a list\n",
    "missing_runs = list(missing_runs)"
   ]
  },
  {
   "cell_type": "code",
   "execution_count": 122,
   "metadata": {},
   "outputs": [],
   "source": [
    "# for wetland_number in missing_runs:\n",
    "#     print (f'\\'{ramsar_exploded.loc[wetland_number][3]}, OBJECTID:{ramsar_exploded.loc[wetland_number][0]}, ID:{ramsar_exploded.loc[wetland_number].name} \\',')"
   ]
  },
  {
   "cell_type": "code",
   "execution_count": 109,
   "metadata": {},
   "outputs": [],
   "source": [
    "#the original shapefile\n",
    "ramsar_shapes =  '/g/data/r78/rjd547/Ramsar_Wetlands/ExplodedRAMSAR.shp'"
   ]
  },
  {
   "cell_type": "markdown",
   "metadata": {},
   "source": [
    "open the original shapefile. Use the index ['id'] of the missing runs to select the polygons from the shapefile. Write the selected missing polygons out into a new shapefile."
   ]
  },
  {
   "cell_type": "code",
   "execution_count": 117,
   "metadata": {},
   "outputs": [
    {
     "name": "stdout",
     "output_type": "stream",
     "text": [
      "Kakadu National Park\n",
      "The Coorong, and Lakes Alexandrina and Albert Wetland\n",
      "Coongie Lakes\n",
      "Eighty-mile Beach\n",
      "Hosnies Spring\n",
      "Pulu Keeling National Park\n",
      "Coral Sea Reserves (Coringa-Herald and Lihou Reefs and Cays)\n",
      "Coral Sea Reserves (Coringa-Herald and Lihou Reefs and Cays)\n",
      "Elizabeth and Middleton Reefs Marine National Nature Reserve\n",
      "The Dales\n",
      "Peery\n"
     ]
    }
   ],
   "source": [
    "with fiona.open(ramsar_shapes) as inshape:\n",
    "    meta=inshape.meta\n",
    "    with fiona.open('/g/data/r78/rjd547/Ramsar_Wetlands/ramsar_notrun_v1.shp','w',**meta) as outshape:\n",
    "        for feature in inshape:\n",
    "                if int(feature['id']) in missing_runs:\n",
    "                    print(feature['properties']['WETLAND_NA'])   \n",
    "                    outshape.write(feature)\n",
    "                   \n",
    "                    "
   ]
  },
  {
   "cell_type": "markdown",
   "metadata": {},
   "source": [
    "open the new shapefile to check what was written out as a new shapefile."
   ]
  },
  {
   "cell_type": "code",
   "execution_count": 118,
   "metadata": {},
   "outputs": [
    {
     "data": {
      "image/png": "[encoded data removed]",
      "text/plain": [
       "<Figure size 432x288 with 1 Axes>"
      ]
     },
     "metadata": {
      "needs_background": "light"
     },
     "output_type": "display_data"
    }
   ],
   "source": [
    "outshape_written = gpd.read_file('/g/data/r78/rjd547/Ramsar_Wetlands/ramsar_notrun_v1.shp')\n",
    "outshape_written.plot()\n",
    "plt.show()"
   ]
  }
 ],
 "metadata": {
  "kernelspec": {
   "display_name": "Python [default]",
   "language": "python",
   "name": "python3"
  },
  "language_info": {
   "codemirror_mode": {
    "name": "ipython",
    "version": 3
   },
   "file_extension": ".py",
   "mimetype": "text/x-python",
   "name": "python",
   "nbconvert_exporter": "python",
   "pygments_lexer": "ipython3",
   "version": "3.6.6"
  }
 },
 "nbformat": 4,
 "nbformat_minor": 2
}
