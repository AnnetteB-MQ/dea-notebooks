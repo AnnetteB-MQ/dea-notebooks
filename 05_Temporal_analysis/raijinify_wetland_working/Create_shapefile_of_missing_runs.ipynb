{
 "cells": [
  {
   "cell_type": "markdown",
   "metadata": {},
   "source": [
    "# Make shapefile out of polygons that ran"
   ]
  },
  {
   "cell_type": "markdown",
   "metadata": {},
   "source": [
    "This notebook checks whether the ramsar wetland polygon drill ran on all the polygons in the input shapefile.\n",
    "\n",
    "_inputs_  \n",
    "- a csv saved from the QGIS attribute table of the original shapefile\n",
    "- path to the output directory containing results for each shapefile\n",
    "- somewhere to save the output shapefile"
   ]
  },
  {
   "cell_type": "markdown",
   "metadata": {},
   "source": [
    "load some modules"
   ]
  },
  {
   "cell_type": "code",
   "execution_count": 56,
   "metadata": {},
   "outputs": [],
   "source": [
    "import xarray as xr\n",
    "import pandas as pd\n",
    "import csv\n",
    "import os\n",
    "import fiona\n",
    "from shapely.geometry import shape\n",
    "import geopandas as gpd\n",
    "import matplotlib.pyplot as plt\n",
    "#from mpl_toolkits.basemap import Basemap"
   ]
  },
  {
   "cell_type": "markdown",
   "metadata": {},
   "source": [
    "where is my csv?"
   ]
  },
  {
   "cell_type": "code",
   "execution_count": 57,
   "metadata": {},
   "outputs": [],
   "source": [
    "path_to_csv_attribute_table = '/g/data/r78/rjd547/Ramsar_Wetlands/exploded_ramsar_attribute_table.csv'"
   ]
  },
  {
   "cell_type": "markdown",
   "metadata": {},
   "source": [
    "read in the csv using pandas"
   ]
  },
  {
   "cell_type": "code",
   "execution_count": 58,
   "metadata": {},
   "outputs": [],
   "source": [
    "ramsar_exploded = pd.read_csv(path_to_csv_attribute_table)"
   ]
  },
  {
   "cell_type": "markdown",
   "metadata": {},
   "source": [
    "read filenames from directory, add to dataframe, and compare against ramsar list\n"
   ]
  },
  {
   "cell_type": "code",
   "execution_count": 59,
   "metadata": {},
   "outputs": [],
   "source": [
    "#make an empty list of the files that ran\n",
    "ramsars_run = []\n",
    "#for each file in the output directory\n",
    "for file in os.listdir('/g/data/r78/rjd547/Ramsar_Wetlands/Ramsar_Outputs_4_v2/'):\n",
    "    #if it's a csv file\n",
    "    if file.endswith(\".csv\"):\n",
    "        #add it to our list\n",
    "        ramsars_run.append(file)  "
   ]
  },
  {
   "cell_type": "markdown",
   "metadata": {},
   "source": [
    "look at the first five failed polyons"
   ]
  },
  {
   "cell_type": "code",
   "execution_count": 60,
   "metadata": {},
   "outputs": [
    {
     "data": {
      "text/plain": [
       "['Vasse-Wonnerup_System-Vasse-Wonnerup_System-WA-117.csv',\n",
       " 'Ashmore_Reef_National_Nature_Reserve-Ashmore_Reef_National_Nature_Reserve-EXT-227.csv',\n",
       " 'Moreton_Bay-Moreton_Bay-QLD-146.csv',\n",
       " 'NSW_Central_Murray_State_Forests-Koondrook_Forest_Group-NSW-236.csv',\n",
       " 'Moreton_Bay-Moreton_Bay-QLD-140.csv']"
      ]
     },
     "execution_count": 60,
     "metadata": {},
     "output_type": "execute_result"
    }
   ],
   "source": [
    "ramsars_run[0:5]"
   ]
  },
  {
   "cell_type": "markdown",
   "metadata": {},
   "source": [
    "use the index of the wetland shapefile to get all the original shapefile indices"
   ]
  },
  {
   "cell_type": "code",
   "execution_count": 61,
   "metadata": {},
   "outputs": [],
   "source": [
    "#get the shapefile index as a list\n",
    "ramsar_exploded_index = ramsar_exploded.index.tolist()"
   ]
  },
  {
   "cell_type": "markdown",
   "metadata": {},
   "source": [
    "use some string manipulation to get the index of the missing polgons out of the list of files in the output directory"
   ]
  },
  {
   "cell_type": "code",
   "execution_count": 62,
   "metadata": {},
   "outputs": [],
   "source": [
    "#get list of runs\n",
    "run_list = []\n",
    "for i in ramsars_run:\n",
    "    i = i.split('-') #break up filename\n",
    "    i = i[-1] #get last bit\n",
    "    i = i.split('.')[0]\n",
    "    i =int(i)\n",
    "    run_list.append(i)"
   ]
  },
  {
   "cell_type": "markdown",
   "metadata": {},
   "source": [
    "use set math to find which indexes are present in the original list and not the output directory"
   ]
  },
  {
   "cell_type": "code",
   "execution_count": 63,
   "metadata": {},
   "outputs": [
    {
     "name": "stdout",
     "output_type": "stream",
     "text": [
      "{228, 229, 230, 231, 105, 266, 12, 125, 185, 90, 93, 94}\n"
     ]
    }
   ],
   "source": [
    "missing_runs = set(ramsar_exploded_index) - set(run_list)\n",
    "print(missing_runs)"
   ]
  },
  {
   "cell_type": "code",
   "execution_count": 64,
   "metadata": {},
   "outputs": [],
   "source": [
    "#turn the set of missing runs back into a list\n",
    "missing_runs = list(missing_runs)"
   ]
  },
  {
   "cell_type": "code",
   "execution_count": 65,
   "metadata": {},
   "outputs": [],
   "source": [
    "# for wetland_number in missing_runs:\n",
    "#     print (f'\\'{ramsar_exploded.loc[wetland_number][3]}, OBJECTID:{ramsar_exploded.loc[wetland_number][0]}, ID:{ramsar_exploded.loc[wetland_number].name} \\',')"
   ]
  },
  {
   "cell_type": "code",
   "execution_count": 66,
   "metadata": {},
   "outputs": [],
   "source": [
    "#the original shapefile\n",
    "ramsar_shapes =  '/g/data/r78/rjd547/Ramsar_Wetlands/shapefiles/Ramsar_exploded3.shp'"
   ]
  },
  {
   "cell_type": "markdown",
   "metadata": {},
   "source": [
    "open the original shapefile. Use the index ['id'] of the missing runs to select the polygons from the shapefile. Write the selected missing polygons out into a new shapefile."
   ]
  },
  {
   "cell_type": "code",
   "execution_count": 67,
   "metadata": {},
   "outputs": [
    {
     "name": "stdout",
     "output_type": "stream",
     "text": [
      "Kakadu_National_Park\n",
      "The_Coorong,_and_Lakes_Alexandrina_and_Albert_Wetland\n",
      "Coongie_Lakes\n",
      "Macquarie_Marshes_Nature_Reserve\n",
      "Eighty-mile_Beach\n",
      "Hosnies_Spring\n",
      "Pulu_Keeling_National_Park\n",
      "Coral_Sea_Reserves_(Coringa-Herald_and_Lihou_Reefs_and_Cays)\n",
      "Coral_Sea_Reserves_(Coringa-Herald_and_Lihou_Reefs_and_Cays)\n",
      "Elizabeth_and_Middleton_Reefs_Marine_National_Nature_Reserve\n",
      "The_Dales\n",
      "Peery\n"
     ]
    }
   ],
   "source": [
    "with fiona.open(ramsar_shapes) as inshape:\n",
    "    meta=inshape.meta\n",
    "    with fiona.open('/g/data/r78/rjd547/Ramsar_Wetlands/ramsar_notrun_v1.shp','w',**meta) as outshape:\n",
    "        for feature in inshape:\n",
    "                if int(feature['id']) in missing_runs:\n",
    "                    print(feature['properties']['WETLAND_NA'])   \n",
    "                    outshape.write(feature)\n",
    "                   \n",
    "                    "
   ]
  },
  {
   "cell_type": "code",
   "execution_count": 68,
   "metadata": {},
   "outputs": [
    {
     "data": {
      "text/plain": [
       "[228, 229, 230, 231, 105, 266, 12, 125, 185, 90, 93, 94]"
      ]
     },
     "execution_count": 68,
     "metadata": {},
     "output_type": "execute_result"
    }
   ],
   "source": [
    "missing_runs"
   ]
  },
  {
   "cell_type": "markdown",
   "metadata": {},
   "source": [
    "open the original shapefile. Use the index ['id'] of the runs to select the polygons from the shapefile. Write the selected missing polygons out into a new shapefile."
   ]
  },
  {
   "cell_type": "code",
   "execution_count": 69,
   "metadata": {},
   "outputs": [
    {
     "name": "stdout",
     "output_type": "stream",
     "text": [
      "Cobourg_Peninsula\n",
      "Cobourg_Peninsula\n",
      "Cobourg_Peninsula\n",
      "Cobourg_Peninsula\n",
      "Cobourg_Peninsula\n",
      "Cobourg_Peninsula\n",
      "Cobourg_Peninsula\n",
      "Cobourg_Peninsula\n",
      "Cobourg_Peninsula\n",
      "Cobourg_Peninsula\n",
      "Cobourg_Peninsula\n",
      "Cobourg_Peninsula\n",
      "Kakadu_National_Park\n",
      "Kakadu_National_Park\n",
      "Moulting_Lagoon\n",
      "Logan_Lagoon\n",
      "Lavinia\n",
      "Pitt_Water-Orielton_Lagoon\n",
      "Pitt_Water-Orielton_Lagoon\n",
      "Pitt_Water-Orielton_Lagoon\n",
      "Apsley_Marshes\n",
      "East_Coast_Cape_Barren_Island_Lagoons\n",
      "Flood_Plain_Lower_Ringarooma_River\n",
      "Jocks_Lagoon\n",
      "Interlaken_(Lake_Crescent)\n",
      "Little_Waterhouse_Lake\n",
      "Corner_Inlet\n",
      "Barmah_Forest\n",
      "Gunbower_Forest\n",
      "Lake_Arawak\n",
      "Lake_Bitterang\n",
      "Lake_Brockie\n",
      "Lake_Bulla\n",
      "Lake_Cantala\n",
      "Lake_Hattah\n",
      "Lake_Konardin\n",
      "Lake_Kramen\n",
      "Lake_Lockie\n",
      "Lake_Mournpall\n",
      "Lake_Yelwell\n",
      "Lake_Yerang\n",
      "Cemetery_Swamp\n",
      "Cemetery_Swamp\n",
      "Fosters_Swamp\n",
      "Hird_Swamp\n",
      "Johnson_Swamp\n",
      "Kangaroo_Lake\n",
      "Lake_Charm\n",
      "Lake_Cullen\n",
      "Lake_Kelly\n",
      "Lake_Tutchewop\n",
      "Lake_William\n",
      "Reedy_Lake\n",
      "Stevensons_Swamp\n",
      "The_Marshes\n",
      "Town_Swamp\n",
      "Corio_Bay\n",
      "Lake_Connewarre\n",
      "Mud_Island\n",
      "Point_Cook\n",
      "Swan_Bay\n",
      "Werribee_River\n",
      "Western_Port\n",
      "Western_District_Lakes\n",
      "Western_District_Lakes\n",
      "Western_District_Lakes\n",
      "Western_District_Lakes\n",
      "Western_District_Lakes\n",
      "Western_District_Lakes\n",
      "Western_District_Lakes\n",
      "Western_District_Lakes\n",
      "Western_District_Lakes\n",
      "Gippsland_Lakes\n",
      "Gippsland_Lakes\n",
      "Gippsland_Lakes\n",
      "Gippsland_Lakes\n",
      "Gippsland_Lakes\n",
      "Gippsland_Lakes\n",
      "Gippsland_Lakes\n",
      "Gippsland_Lakes\n",
      "Gippsland_Lakes\n",
      "Lake_Albacutya\n",
      "Towra_Point_Nature_Reserve\n",
      "Towra_Point_Nature_Reserve\n",
      "Towra_Point_Nature_Reserve\n",
      "Towra_Point_Nature_Reserve\n",
      "Kooragang_Nature_Reserve\n",
      "Shortland_Wetland\n",
      "The_Coorong,_and_Lakes_Alexandrina_and_Albert_Wetland\n",
      "Bool_and_Hacks_Lagoons\n",
      "Bool_and_Hacks_Lagoons\n",
      "Macquarie_Marshes_Nature_Reserve\n",
      "Macquarie_Marshes_Nature_Reserve\n",
      "Macquarie_Marshes_Nature_Reserve\n",
      "Wilgara_Wetland\n",
      "Riverland\n",
      "Ord_River_Floodplain\n",
      "Ord_River_Floodplain\n",
      "Lakes_Argyle_and_Kununurra\n",
      "Roebuck_Bay\n",
      "Eighty-mile_Beach\n",
      "Forrestdale_and_Thomsons_Lakes\n",
      "Forrestdale_and_Thomsons_Lakes\n",
      "Forrestdale_and_Thomsons_Lakes\n",
      "Forrestdale_and_Thomsons_Lakes\n",
      "Peel-Yalgorup_System\n",
      "Peel-Yalgorup_System\n",
      "Peel-Yalgorup_System\n",
      "Peel-Yalgorup_System\n",
      "Toolibin_Lake_(also_known_as_Lake_Toolibin)\n",
      "Vasse-Wonnerup_System\n",
      "Vasse-Wonnerup_System\n",
      "Vasse-Wonnerup_System\n",
      "Lake_Warden_System\n",
      "Lake_Warden_System\n",
      "Lake_Warden_System\n",
      "Lake_Warden_System\n",
      "Lake_Warden_System\n",
      "Lake_Warden_System\n",
      "Lake_Warden_System\n",
      "Moreton_Bay\n",
      "Moreton_Bay\n",
      "Moreton_Bay\n",
      "Moreton_Bay\n",
      "Moreton_Bay\n",
      "Moreton_Bay\n",
      "Moreton_Bay\n",
      "Moreton_Bay\n",
      "Moreton_Bay\n",
      "Moreton_Bay\n",
      "Moreton_Bay\n",
      "Moreton_Bay\n",
      "Moreton_Bay\n",
      "Moreton_Bay\n",
      "Moreton_Bay\n",
      "Moreton_Bay\n",
      "Moreton_Bay\n",
      "Moreton_Bay\n",
      "Moreton_Bay\n",
      "Moreton_Bay\n",
      "Moreton_Bay\n",
      "Moreton_Bay\n",
      "Moreton_Bay\n",
      "Bowling_Green_Bay\n",
      "Bowling_Green_Bay\n",
      "Bowling_Green_Bay\n",
      "Bowling_Green_Bay\n",
      "Bowling_Green_Bay\n",
      "Bowling_Green_Bay\n",
      "Bowling_Green_Bay\n",
      "Bowling_Green_Bay\n",
      "Bowling_Green_Bay\n",
      "Bowling_Green_Bay\n",
      "Bowling_Green_Bay\n",
      "Bowling_Green_Bay\n",
      "Bowling_Green_Bay\n",
      "Bowling_Green_Bay\n",
      "Bowling_Green_Bay\n",
      "Bowling_Green_Bay\n",
      "Bowling_Green_Bay\n",
      "Bowling_Green_Bay\n",
      "Bowling_Green_Bay\n",
      "Currawinya_Lakes_(Currawinya_National_Park)\n",
      "Currawinya_Lakes_(Currawinya_National_Park)\n",
      "Currawinya_Lakes_(Currawinya_National_Park)\n",
      "Currawinya_Lakes_(Currawinya_National_Park)\n",
      "Currawinya_Lakes_(Currawinya_National_Park)\n",
      "Currawinya_Lakes_(Currawinya_National_Park)\n",
      "Currawinya_Lakes_(Currawinya_National_Park)\n",
      "Currawinya_Lakes_(Currawinya_National_Park)\n",
      "Currawinya_Lakes_(Currawinya_National_Park)\n",
      "Currawinya_Lakes_(Currawinya_National_Park)\n",
      "Currawinya_Lakes_(Currawinya_National_Park)\n",
      "Currawinya_Lakes_(Currawinya_National_Park)\n",
      "Currawinya_Lakes_(Currawinya_National_Park)\n",
      "Shoalwater_and_Corio_Bays_Area_(Shoalwater_Bay_Training_Area,_in_part_-_Corio_Bay)\n",
      "Shoalwater_and_Corio_Bays_Area_(Shoalwater_Bay_Training_Area,_in_part_-_Corio_Bay)\n",
      "Shoalwater_and_Corio_Bays_Area_(Shoalwater_Bay_Training_Area,_in_part_-_Corio_Bay)\n",
      "Ginini_Flats_Wetland_Complex\n",
      "Little_Llangothlin_Nature_Reserve\n",
      "Blue_Lake\n",
      "Lake_Pinaroo\n",
      "Crinolyn\n",
      "Goddard's_Lease\n",
      "Old_Dromana\n",
      "Windella\n",
      "Great_Sandy_Strait_(including_Great_Sandy_Strait,_Tin_Can_Bay_and_Tin_Can_Inlet)\n",
      "Great_Sandy_Strait_(including_Great_Sandy_Strait,_Tin_Can_Bay_and_Tin_Can_Inlet)\n",
      "Corrie_Island_Nature_Reserve\n",
      "Corrie_Island_Nature_Reserve\n",
      "Little_Broughton_Island_Nature_Reserve\n",
      "Myall_Lakes_National_Park\n",
      "Myall_Lakes_National_Park\n",
      "Myall_Lakes_National_Park\n",
      "Myall_Lakes_National_Park\n",
      "Myall_Lakes_National_Park\n",
      "Myall_Lakes_National_Park\n",
      "Myall_Lakes_National_Park\n",
      "Myall_Lakes_National_Park\n",
      "Myall_Lakes_National_Park\n",
      "Myall_Lakes_National_Park\n",
      "Myall_Lakes_National_Park\n",
      "Myall_Lakes_National_Park\n",
      "Myall_Lakes_NP_(Broughton_Is)\n",
      "Myall_Lakes_NP_(Fame_Cove)\n",
      "Myall_Lakes_NP_(Yacaaba_Head)\n",
      "Narran_Lake_Nature_Reserve\n",
      "Narran_Lake_Nature_Reserve\n",
      "Narran_Lake_Nature_Reserve\n",
      "Becher_Point_Wetlands\n",
      "Lake_Gore\n",
      "Lake_Gore\n",
      "Muir-Byenup_System\n",
      "Muir-Byenup_System\n",
      "Edithvale\n",
      "Edithvale\n",
      "Seaford\n",
      "Seaford\n",
      "Seaford\n",
      "Seaford\n",
      "Ashmore_Reef_National_Nature_Reserve\n",
      "Fivebough_Swamp\n",
      "Tuckerbil_Swamp\n",
      "Banrock_Station_Wetland_Complex\n",
      "Koondrook_Forest_Group\n",
      "Koondrook_Forest_Group\n",
      "Koondrook_Forest_Group\n",
      "Koondrook_Forest_Group\n",
      "Koondrook_Forest_Group\n",
      "Millewa_State_Forest_Group\n",
      "Millewa_State_Forest_Group\n",
      "Millewa_State_Forest_Group\n",
      "Millewa_State_Forest_Group\n",
      "Millewa_State_Forest_Group\n",
      "Millewa_State_Forest_Group\n",
      "Millewa_State_Forest_Group\n",
      "Millewa_State_Forest_Group\n",
      "Millewa_State_Forest_Group\n",
      "Millewa_State_Forest_Group\n",
      "Millewa_State_Forest_Group\n",
      "Millewa_State_Forest_Group\n",
      "Millewa_State_Forest_Group\n",
      "Millewa_State_Forest_Group\n",
      "Millewa_State_Forest_Group\n",
      "Millewa_State_Forest_Group\n",
      "Millewa_State_Forest_Group\n",
      "Millewa_State_Forest_Group\n",
      "Werai_Forest_Group\n",
      "Werai_Forest_Group\n",
      "Werai_Forest_Group\n",
      "Werai_Forest_Group\n",
      "Werai_Forest_Group\n",
      "Werai_Forest_Group\n",
      "Nocoleche_Nature_Reserve\n",
      "Nocoleche_Nature_Reserve\n",
      "Peery\n",
      "Peery\n",
      "Piccaninnie_Ponds_Karst_Wetlands\n"
     ]
    }
   ],
   "source": [
    "#this time we just create a json file of the actual runs\n",
    "with fiona.open(ramsar_shapes) as inshape:\n",
    "    meta=inshape.meta\n",
    "    with fiona.open('/g/data/r78/rjd547/Ramsar_Wetlands/shapefiles/Ramsar_exploded4.shp','w',**meta) as outshape:\n",
    "        for feature in inshape:\n",
    "                if int(feature['id']) in run_list:\n",
    "                    print(feature['properties']['WETLAND_NA'])   \n",
    "                    outshape.write(feature)\n",
    "                   \n",
    "                    "
   ]
  },
  {
   "cell_type": "markdown",
   "metadata": {},
   "source": [
    "open the new shapefile to check what was written out as a new shapefile."
   ]
  },
  {
   "cell_type": "code",
   "execution_count": 71,
   "metadata": {},
   "outputs": [
    {
     "data": {
      "image/png": "[encoded data removed]",
      "text/plain": [
       "<Figure size 432x288 with 1 Axes>"
      ]
     },
     "metadata": {
      "needs_background": "light"
     },
     "output_type": "display_data"
    }
   ],
   "source": [
    "outshape_written = gpd.read_file('/g/data/r78/rjd547/Ramsar_Wetlands/shapefiles/Ramsar_exploded4.shp')\n",
    "outshape_written.plot()\n",
    "plt.show()"
   ]
  },
  {
   "cell_type": "code",
   "execution_count": null,
   "metadata": {},
   "outputs": [],
   "source": []
  },
  {
   "cell_type": "code",
   "execution_count": null,
   "metadata": {},
   "outputs": [],
   "source": []
  },
  {
   "cell_type": "code",
   "execution_count": null,
   "metadata": {},
   "outputs": [],
   "source": []
  }
 ],
 "metadata": {
  "kernelspec": {
   "display_name": "Python 3",
   "language": "python",
   "name": "python3"
  },
  "language_info": {
   "codemirror_mode": {
    "name": "ipython",
    "version": 3
   },
   "file_extension": ".py",
   "mimetype": "text/x-python",
   "name": "python",
   "nbconvert_exporter": "python",
   "pygments_lexer": "ipython3",
   "version": "3.6.6"
  }
 },
 "nbformat": 4,
 "nbformat_minor": 2
}
