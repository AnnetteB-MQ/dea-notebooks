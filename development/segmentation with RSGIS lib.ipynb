{
 "cells": [
  {
   "cell_type": "code",
   "execution_count": 1,
   "metadata": {},
   "outputs": [],
   "source": [
    "import rsgislib"
   ]
  },
  {
   "cell_type": "code",
   "execution_count": null,
   "metadata": {},
   "outputs": [
    {
     "name": "stdout",
     "output_type": "stream",
     "text": [
      "Stretch Input Image\n",
      "Add 1 to stretched file to ensure there are no all zeros (i.e., no data) regions created.\n",
      "Create Input Image Mask.\n",
      "Mask stretched Image.\n",
      "Deleting file: ./woody_60_-149_stchdonly.tif\n",
      "Deleting file: ./woody_60_-149_stchdonlyOff.tif\n",
      "Deleting file: ./woody_60_-149_stchdmaskonly.tif\n",
      "Performing KMeans.\n"
     ]
    }
   ],
   "source": [
    "from rsgislib.segmentation import segutils\n",
    "\n",
    "inputImg = '/g/data/u46/users/dxr251/woody-v6/woody_60_-149.tif'\n",
    "outputClumps = '/g/data/u46/users/ck9738/Datasets/development-segment/test.tif'\n",
    "outputMeanImg = '/g/data/u46/users/ck9738/Datasets/development-segment/test_meanimg.tif'\n",
    "\n",
    "segutils.runShepherdSegmentation(inputImg, outputClumps, outputMeanImg, gdalformat='GTiff', minPxls=5)"
   ]
  },
  {
   "cell_type": "code",
   "execution_count": 6,
   "metadata": {},
   "outputs": [
    {
     "name": "stdout",
     "output_type": "stream",
     "text": [
      "Collecting rsgislib\n",
      "\u001b[31m  Could not find a version that satisfies the requirement rsgislib (from versions: )\u001b[0m\n",
      "\u001b[31mNo matching distribution found for rsgislib\u001b[0m\n"
     ]
    }
   ],
   "source": []
  },
  {
   "cell_type": "code",
   "execution_count": null,
   "metadata": {},
   "outputs": [],
   "source": []
  }
 ],
 "metadata": {
  "kernelspec": {
   "display_name": "Python 3",
   "language": "python",
   "name": "python3"
  },
  "language_info": {
   "codemirror_mode": {
    "name": "ipython",
    "version": 3
   },
   "file_extension": ".py",
   "mimetype": "text/x-python",
   "name": "python",
   "nbconvert_exporter": "python",
   "pygments_lexer": "ipython3",
   "version": "3.6.5"
  }
 },
 "nbformat": 4,
 "nbformat_minor": 2
}
