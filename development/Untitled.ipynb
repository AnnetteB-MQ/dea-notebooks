{
 "cells": [
  {
   "cell_type": "code",
   "execution_count": 2,
   "metadata": {},
   "outputs": [
    {
     "ename": "SyntaxError",
     "evalue": "invalid syntax (<ipython-input-2-03240efd984e>, line 1)",
     "output_type": "error",
     "traceback": [
      "\u001b[0;36m  File \u001b[0;32m\"<ipython-input-2-03240efd984e>\"\u001b[0;36m, line \u001b[0;32m1\u001b[0m\n\u001b[0;31m    module load tensorflow/1.3.1-cudnn6.0-python2.7\u001b[0m\n\u001b[0m              ^\u001b[0m\n\u001b[0;31mSyntaxError\u001b[0m\u001b[0;31m:\u001b[0m invalid syntax\n"
     ]
    }
   ],
   "source": [
    "\n",
    "import tensorflow as tf #importing the tensorflow library\n"
   ]
  },
  {
   "cell_type": "code",
   "execution_count": null,
   "metadata": {},
   "outputs": [],
   "source": []
  },
  {
   "cell_type": "code",
   "execution_count": null,
   "metadata": {},
   "outputs": [],
   "source": [
    "T, F = 1.0, -1.0   #True has the +1.0 value and False has -1.0, it's important to note that\n",
    "# you can assign any value to them\n",
    "bias = 1.0\n",
    "training_input = [\n",
    "    [T, T, bias],\n",
    "    [T, F, bias],\n",
    "    [F, T, bias],\n",
    "    [F, F, bias],\n",
    "]\n",
    "training_output = [\n",
    "    [T],\n",
    "    [F],\n",
    "    [F],\n",
    "    [F],\n",
    "]\n",
    "w = tf.Variable(tf.random_normal([3, 1]), dtype=tf.float32)\n",
    "# step(x) = { 1 if x > 0; -1 otherwise }\n",
    "def step(x):\n",
    "    is_greater = tf.greater(x, 0)\n",
    "    as_float = tf.to_float(is_greater)\n",
    "    doubled = tf.multiply(as_float, 2)\n",
    "    return tf.subtract(doubled, 1)\n",
    "\n",
    "output = step(tf.matmul(training_input, w))\n",
    "error = tf.subtract(training_output, output)\n",
    "mse = tf.reduce_mean(tf.square(error))\n",
    "\n",
    "delta = tf.matmul(training_input, error, transpose_a=True)\n",
    "train = tf.assign(w, tf.add(w, delta))\n",
    "\n",
    "sess = tf.Session()\n",
    "sess.run(tf.global_variables_initializer())\n",
    "\n",
    "err, target = 1, 0\n",
    "epoch, max_epochs = 0, 10\n",
    "\n",
    "while err > target and epoch < max_epochs:\n",
    "    epoch += 1\n",
    "    err, _ = sess.run([mse, train])\n",
    "print('epoch:', epoch, 'mse:', err)\n",
    "\n",
    "print(sess.run(w))\n",
    "view rawperceptron.py hosted with ? by GitHub"
   ]
  }
 ],
 "metadata": {
  "kernelspec": {
   "display_name": "Python 3",
   "language": "python",
   "name": "python3"
  },
  "language_info": {
   "codemirror_mode": {
    "name": "ipython",
    "version": 3
   },
   "file_extension": ".py",
   "mimetype": "text/x-python",
   "name": "python",
   "nbconvert_exporter": "python",
   "pygments_lexer": "ipython3",
   "version": "3.6.6"
  }
 },
 "nbformat": 4,
 "nbformat_minor": 2
}
