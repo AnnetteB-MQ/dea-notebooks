{
 "cells": [
  {
   "cell_type": "code",
   "execution_count": 23,
   "metadata": {},
   "outputs": [
    {
     "data": {
      "text/plain": [
       "'/home/jovyan'"
      ]
     },
     "execution_count": 23,
     "metadata": {},
     "output_type": "execute_result"
    }
   ],
   "source": [
    "pwd"
   ]
  },
  {
   "cell_type": "code",
   "execution_count": 28,
   "metadata": {},
   "outputs": [
    {
     "ename": "ModuleNotFoundError",
     "evalue": "No module named 'dea_datahandling'",
     "output_type": "error",
     "traceback": [
      "\u001b[0;31m---------------------------------------------------------------------------\u001b[0m",
      "\u001b[0;31mModuleNotFoundError\u001b[0m                       Traceback (most recent call last)",
      "\u001b[0;32m<ipython-input-28-b1ebc10dbc4b>\u001b[0m in \u001b[0;36m<module>\u001b[0;34m\u001b[0m\n\u001b[1;32m     10\u001b[0m \u001b[0msys\u001b[0m\u001b[0;34m.\u001b[0m\u001b[0mpath\u001b[0m\u001b[0;34m.\u001b[0m\u001b[0mappend\u001b[0m\u001b[0;34m(\u001b[0m\u001b[0;34m'/Scripts'\u001b[0m\u001b[0;34m)\u001b[0m\u001b[0;34m\u001b[0m\u001b[0;34m\u001b[0m\u001b[0m\n\u001b[1;32m     11\u001b[0m \u001b[0;32mfrom\u001b[0m \u001b[0mdatacube\u001b[0m\u001b[0;34m.\u001b[0m\u001b[0mhelpers\u001b[0m \u001b[0;32mimport\u001b[0m \u001b[0mwrite_geotiff\u001b[0m\u001b[0;34m\u001b[0m\u001b[0;34m\u001b[0m\u001b[0m\n\u001b[0;32m---> 12\u001b[0;31m \u001b[0;32mfrom\u001b[0m \u001b[0mdea_datahandling\u001b[0m \u001b[0;32mimport\u001b[0m \u001b[0mload_ard\u001b[0m\u001b[0;34m\u001b[0m\u001b[0;34m\u001b[0m\u001b[0m\n\u001b[0m\u001b[1;32m     13\u001b[0m \u001b[0;32mfrom\u001b[0m \u001b[0mdea_plotting\u001b[0m \u001b[0;32mimport\u001b[0m \u001b[0mdisplay_map\u001b[0m\u001b[0;34m\u001b[0m\u001b[0;34m\u001b[0m\u001b[0m\n\u001b[1;32m     14\u001b[0m \u001b[0;32mfrom\u001b[0m \u001b[0mdea_plotting\u001b[0m \u001b[0;32mimport\u001b[0m \u001b[0mrgb\u001b[0m\u001b[0;34m\u001b[0m\u001b[0;34m\u001b[0m\u001b[0m\n",
      "\u001b[0;31mModuleNotFoundError\u001b[0m: No module named 'dea_datahandling'"
     ]
    }
   ],
   "source": [
    "%matplotlib inline\n",
    "\n",
    "import sys\n",
    "import pandas as pd\n",
    "import datacube\n",
    "import matplotlib.pyplot as plt\n",
    "import numpy as np\n",
    "import xarray as xr\n",
    "\n",
    "sys.path.append('/Scripts')\n",
    "from datacube.helpers import write_geotiff\n",
    "from dea_datahandling import load_ard\n",
    "from dea_plotting import display_map\n",
    "from dea_plotting import rgb\n",
    "from dea_bandindices import calculate_indices"
   ]
  },
  {
   "cell_type": "markdown",
   "metadata": {},
   "source": [
    "### Choose location"
   ]
  },
  {
   "cell_type": "markdown",
   "metadata": {},
   "source": [
    "Use custom area of interest:"
   ]
  },
  {
   "cell_type": "code",
   "execution_count": null,
   "metadata": {},
   "outputs": [],
   "source": [
    "# location = 'Canberra'\n",
    "\n",
    "# # Set the central latitude and longitude\n",
    "# central_lat = -35.434967\n",
    "# central_lon = 149.002428\n",
    "\n",
    "# # Set the buffer to load around the central coordinates\n",
    "# buffer = 0.1\n",
    "\n",
    "# # Compute the bounding box for the study area\n",
    "# study_area_lat = (central_lat - buffer, central_lat + buffer)\n",
    "# study_area_lon = (central_lon - buffer, central_lon + buffer)\n",
    "\n",
    "# display_map(x=study_area_lon, y=study_area_lat, margin=-0.2)"
   ]
  },
  {
   "cell_type": "markdown",
   "metadata": {},
   "source": [
    "Use LCCS test areas:"
   ]
  },
  {
   "cell_type": "code",
   "execution_count": null,
   "metadata": {},
   "outputs": [],
   "source": [
    "location = 'Kakadu'\n",
    "min_x = 0\n",
    "max_x = 100000\n",
    "min_y = -1350000\n",
    "max_y = -1250000\n",
    "\n",
    "location = 'Murray Valley'\n",
    "min_x = 1100000\n",
    "max_x = 1200000\n",
    "min_y = -4000000\n",
    "max_y = -3900000\n",
    "\n",
    "location = 'Hobart'\n",
    "min_x = 1200000\n",
    "max_x = 1300000\n",
    "min_y = -4800000\n",
    "max_y = -4700000"
   ]
  },
  {
   "cell_type": "code",
   "execution_count": 2,
   "metadata": {},
   "outputs": [
    {
     "ename": "NameError",
     "evalue": "name 'display_map' is not defined",
     "output_type": "error",
     "traceback": [
      "\u001b[0;31m---------------------------------------------------------------------------\u001b[0m",
      "\u001b[0;31mNameError\u001b[0m                                 Traceback (most recent call last)",
      "\u001b[0;32m<ipython-input-2-8ec1a0d2edf0>\u001b[0m in \u001b[0;36m<module>\u001b[0;34m\u001b[0m\n\u001b[1;32m     13\u001b[0m \u001b[0;34m\u001b[0m\u001b[0m\n\u001b[1;32m     14\u001b[0m \u001b[0;31m# Display an interactive map\u001b[0m\u001b[0;34m\u001b[0m\u001b[0;34m\u001b[0m\u001b[0;34m\u001b[0m\u001b[0m\n\u001b[0;32m---> 15\u001b[0;31m \u001b[0mdisplay_map\u001b[0m\u001b[0;34m(\u001b[0m\u001b[0mx\u001b[0m\u001b[0;34m=\u001b[0m\u001b[0mx\u001b[0m\u001b[0;34m,\u001b[0m \u001b[0my\u001b[0m\u001b[0;34m=\u001b[0m\u001b[0my\u001b[0m\u001b[0;34m,\u001b[0m \u001b[0mcrs\u001b[0m\u001b[0;34m=\u001b[0m\u001b[0;34m'EPSG:3577'\u001b[0m\u001b[0;34m,\u001b[0m \u001b[0mmargin\u001b[0m\u001b[0;34m=\u001b[0m\u001b[0;34m-\u001b[0m\u001b[0;36m0.1\u001b[0m\u001b[0;34m)\u001b[0m\u001b[0;34m\u001b[0m\u001b[0;34m\u001b[0m\u001b[0m\n\u001b[0m",
      "\u001b[0;31mNameError\u001b[0m: name 'display_map' is not defined"
     ]
    }
   ],
   "source": [
    "# Make sure to change the location for in the save file\n",
    "location = 'Hobart'\n",
    "min_x = 1200000\n",
    "max_x = 1300000\n",
    "min_y = -4800000\n",
    "max_y = -4700000\n",
    "\n",
    "x = (min_x, max_x)\n",
    "y = (min_y, max_y)\n",
    "\n",
    "res_x = 25\n",
    "res_y = -25\n",
    "\n",
    "# Display an interactive map\n",
    "display_map(x=x, y=y, crs='EPSG:3577', margin=-0.1) "
   ]
  },
  {
   "cell_type": "markdown",
   "metadata": {},
   "source": [
    "### Load in image collection"
   ]
  },
  {
   "cell_type": "code",
   "execution_count": 49,
   "metadata": {},
   "outputs": [],
   "source": [
    "start_date = '2010'\n",
    "end_date = '2015' \n",
    "\n",
    "#Load all data in baseline period available from Near Real Time data\n",
    "\n",
    "i_col7 = dc.load(\n",
    "              product=['ls7_nbart_geomedian_annual'],\n",
    "              x=x, #study_area_lon or x\n",
    "              y=y, #study_area_lat or y\n",
    "              time=(start_date, end_date),\n",
    "              #measurements=['nbar_blue','nbar_green','nbar_red','nbar_nir_1', 'nbar_swir_3'],\n",
    "              output_crs='EPSG:3577',\n",
    "              crs='EPSG:3577',\n",
    "              resolution=(res_x,res_y)\n",
    "              #resolution=(-50, 50),\n",
    "              #group_by='solar_day'\n",
    ")\n",
    "\n",
    "i_col5 = dc.load(\n",
    "              product=['ls5_nbart_geomedian_annual'],\n",
    "              x=x, #study_area_lon or x\n",
    "              y=y, #study_area_lat or y\n",
    "              time=(start_date, end_date),\n",
    "              #measurements=['nbar_blue','nbar_green','nbar_red','nbar_nir_1', 'nbar_swir_3'],\n",
    "              output_crs='EPSG:3577',\n",
    "              crs='EPSG:3577',\n",
    "              resolution=(res_x,res_y)\n",
    "              #resolution=(-50, 50),\n",
    "              #group_by='solar_day'\n",
    ")"
   ]
  }
 ],
 "metadata": {
  "kernelspec": {
   "display_name": "Python 3",
   "language": "python",
   "name": "python3"
  },
  "language_info": {
   "codemirror_mode": {
    "name": "ipython",
    "version": 3
   },
   "file_extension": ".py",
   "mimetype": "text/x-python",
   "name": "python",
   "nbconvert_exporter": "python",
   "pygments_lexer": "ipython3",
   "version": "3.6.9"
  }
 },
 "nbformat": 4,
 "nbformat_minor": 4
}
