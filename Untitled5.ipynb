{
 "cells": [
  {
   "cell_type": "code",
   "execution_count": 1,
   "metadata": {},
   "outputs": [],
   "source": [
    "from osgeo import gdal\n"
   ]
  },
  {
   "cell_type": "code",
   "execution_count": 2,
   "metadata": {},
   "outputs": [
    {
     "data": {
      "text/plain": [
       "'2040000'"
      ]
     },
     "execution_count": 2,
     "metadata": {},
     "output_type": "execute_result"
    }
   ],
   "source": [
    "gdal.VersionInfo()"
   ]
  },
  {
   "cell_type": "code",
   "execution_count": 4,
   "metadata": {
    "scrolled": true
   },
   "outputs": [
    {
     "data": {
      "text/plain": [
       "environ{'CPLUS_INCLUDE_PATH': '/apps/udunits/2.1.24/include',\n",
       "        'MODULE_VERSION_STACK': '3.2.10',\n",
       "        'PROJ_LIB': '/g/data/v10/public/modules/dea-env/20190709/share/proj',\n",
       "        'ORBIT_SOCKETDIR': '/local/v10/zxh547/tmp/orbit-zxh547',\n",
       "        'MANPATH': '/apps/udunits/2.1.24/share/man:/opt/pbs/default/share/man:/usr/local/share/man:/usr/share/man:/usr/X11R6/man:/opt/man:/opt/puppetlabs/puppet/share/man',\n",
       "        'VNCDESKTOP': 'vdi-n15:3 (zxh547)',\n",
       "        'SSH_AGENT_PID': '11847',\n",
       "        'HOSTNAME': 'vdi-n15',\n",
       "        'GIO_LAUNCHED_DESKTOP_FILE_PID': '12224',\n",
       "        'NF_MODULES_LOADED': 'YES',\n",
       "        'TERM': 'xterm-color',\n",
       "        'SHELL': '/bin/bash',\n",
       "        'XDG_SESSION_COOKIE': '0e9a3103c2298d837c6d3724000000a1-1576207188.654117-1633190355',\n",
       "        'PROJECT': 'v10',\n",
       "        'TMPDIR': '/local/v10/zxh547/tmp',\n",
       "        'LIBRARY_PATH': '/apps/udunits/2.1.24/lib',\n",
       "        'GTK_RC_FILES': '/etc/gtk/gtkrc:/home/547/zxh547/.gtkrc-1.2-gnome2',\n",
       "        'WINDOWID': '44040195',\n",
       "        'FPATH': '/apps/udunits/2.1.24/include:/opt/Modules/krutsh/commands',\n",
       "        'OLDPWD': '/home/547/zxh547',\n",
       "        'SYSFONT': 'latarcyrheb-sun16',\n",
       "        'QTDIR': '/usr/lib64/qt-3.3',\n",
       "        'QTINC': '/usr/lib64/qt-3.3/include',\n",
       "        'LC_ALL': 'en_AU.utf8',\n",
       "        'PYTHONUSERBASE': '/home/547/zxh547/.digitalearthau/dea-env/20190709/local',\n",
       "        'USER': 'zxh547',\n",
       "        'LD_LIBRARY_PATH': '/apps/udunits/2.1.24/lib',\n",
       "        'LS_COLORS': 'rs=0:di=01;34:ln=01;36:mh=00:pi=40;33:so=01;35:do=01;35:bd=40;33;01:cd=40;33;01:or=40;31;01:mi=01;05;37;41:su=37;41:sg=30;43:ca=30;41:tw=30;42:ow=34;42:st=37;44:ex=01;32:*.tar=01;31:*.tgz=01;31:*.arj=01;31:*.taz=01;31:*.lzh=01;31:*.lzma=01;31:*.tlz=01;31:*.txz=01;31:*.zip=01;31:*.z=01;31:*.Z=01;31:*.dz=01;31:*.gz=01;31:*.lz=01;31:*.xz=01;31:*.bz2=01;31:*.tbz=01;31:*.tbz2=01;31:*.bz=01;31:*.tz=01;31:*.deb=01;31:*.rpm=01;31:*.jar=01;31:*.rar=01;31:*.ace=01;31:*.zoo=01;31:*.cpio=01;31:*.7z=01;31:*.rz=01;31:*.jpg=01;35:*.jpeg=01;35:*.gif=01;35:*.bmp=01;35:*.pbm=01;35:*.pgm=01;35:*.ppm=01;35:*.tga=01;35:*.xbm=01;35:*.xpm=01;35:*.tif=01;35:*.tiff=01;35:*.png=01;35:*.svg=01;35:*.svgz=01;35:*.mng=01;35:*.pcx=01;35:*.mov=01;35:*.mpg=01;35:*.mpeg=01;35:*.m2v=01;35:*.mkv=01;35:*.ogm=01;35:*.mp4=01;35:*.m4v=01;35:*.mp4v=01;35:*.vob=01;35:*.qt=01;35:*.nuv=01;35:*.wmv=01;35:*.asf=01;35:*.rm=01;35:*.rmvb=01;35:*.flc=01;35:*.avi=01;35:*.fli=01;35:*.flv=01;35:*.gl=01;35:*.dl=01;35:*.xcf=01;35:*.xwd=01;35:*.yuv=01;35:*.cgm=01;35:*.emf=01;35:*.axv=01;35:*.anx=01;35:*.ogv=01;35:*.ogx=01;35:*.aac=01;36:*.au=01;36:*.flac=01;36:*.mid=01;36:*.midi=01;36:*.mka=01;36:*.mp3=01;36:*.mpc=01;36:*.ogg=01;36:*.ra=01;36:*.wav=01;36:*.axa=01;36:*.oga=01;36:*.spx=01;36:*.xspf=01;36:',\n",
       "        'ENV': '/home/547/zxh547/.bashrc',\n",
       "        'CPATH': '/apps/udunits/2.1.24/include',\n",
       "        'GNOME_KEYRING_SOCKET': '/local/v10/zxh547/tmp/keyring-RLGMz4/socket',\n",
       "        'SSH_AUTH_SOCK': '/local/v10/zxh547/tmp/keyring-RLGMz4/socket.ssh',\n",
       "        'UDUNITS_ROOT': '/apps/udunits/2.1.24',\n",
       "        'SESSION_MANAGER': 'local/unix:@/tmp/.ICE-unix/11846,unix/unix:/tmp/.ICE-unix/11846',\n",
       "        'GIO_LAUNCHED_DESKTOP_FILE': '/usr/share/applications/gnome-terminal.desktop',\n",
       "        'UDUNITS_VERSION': '2.1.24',\n",
       "        'MODULE_VERSION': '3.2.10',\n",
       "        'PATH': '/g/data/v10/public/modules/dea-env/20190709/bin:/home/547/zxh547/.digitalearthau/dea-env/20190709/local/bin:/g/data/v10/public/modules/dea/20190805/bin:/g/data/v10/public/modules/dea-env/20190709/bin:/apps/udunits/2.1.24/bin:/usr/local/bin:/opt/bin:/bin:/usr/bin:/usr/X11R6/bin:/opt/pbs/default/bin:/opt/puppetlabs/bin',\n",
       "        'MAIL': '/var/spool/mail/zxh547',\n",
       "        'LD_RUN_PATH': '/apps/udunits/2.1.24/lib',\n",
       "        'C_INCLUDE_PATH': '/apps/udunits/2.1.24/include',\n",
       "        'INPUTRC': '/etc/inputrc',\n",
       "        'PWD': '/home/547/zxh547/dea-notebooks',\n",
       "        'PYTHONFAULTHANDLER': '1',\n",
       "        '_LMFILES_': '/opt/Modules/modulefiles/pbs:/apps/Modules/modulefiles/udunits/2.1.24:/g/data/v10/public/modules/modulefiles/dea-env/20190709:/g/data/v10/public/modules/modulefiles/dea/20190805',\n",
       "        'TCLLIBPATH': '/apps/modext/default/lib/tcl',\n",
       "        'LANG': 'C.UTF-8',\n",
       "        'MODULEPATH': '/g/data/v10/public/modules/modulefiles:/apps/Modules/cloud/all:/apps/.mf:/opt/Modules/modulefiles:/apps/Modules/modulefiles',\n",
       "        'LOADEDMODULES': 'pbs:udunits/2.1.24:dea-env/20190709:dea/20190805',\n",
       "        'GDAL_DATA': '/g/data/v10/public/modules/dea-env/20190709/share/gdal',\n",
       "        'SSH_ASKPASS': '/usr/libexec/openssh/gnome-ssh-askpass',\n",
       "        'HOME': '/home/547/zxh547',\n",
       "        'SHLVL': '2',\n",
       "        'GNOME_DESKTOP_SESSION_ID': 'this-is-deprecated',\n",
       "        'BASH_ENV': '/home/547/zxh547/.bashrc',\n",
       "        'PYTHONPATH': '/home/547/zxh547/.digitalearthau/dea-env/20190709/local/lib/python3.6/site-packages:/g/data/v10/public/modules/dea/20190805/lib/python3.6/site-packages/:/g/data/v10/public/modules/dea-env/20190709/share/qgis/python:/g/data/v10/public/modules/dea-env/20190709/lib/python3.7/site-packages/',\n",
       "        'MACHTYPE': 'x86_64-redhat-linux-gnu',\n",
       "        'LOGNAME': 'zxh547',\n",
       "        'QTLIB': '/usr/lib64/qt-3.3/lib',\n",
       "        'CVS_RSH': 'ssh',\n",
       "        'DBUS_SESSION_BUS_ADDRESS': 'unix:abstract=/tmp/dbus-GYmNSf1HfZ,guid=b6f2b045d5988a3d9f4dd90800712cba',\n",
       "        'MODULESHOME': '/opt/Modules/3.2.10',\n",
       "        'PKG_CONFIG_PATH': '/apps/udunits/2.1.24/lib/pkgconfig',\n",
       "        'LESSOPEN': '||/usr/bin/lesspipe.sh %s',\n",
       "        'UDUNITS_BASE': '/apps/udunits/2.1.24',\n",
       "        'DATACUBE_CONFIG_PATH': '/g/data/v10/public/modules/dea/20190805/datacube.conf',\n",
       "        'DISPLAY': ':3.0',\n",
       "        'G_BROKEN_FILENAMES': '1',\n",
       "        'COLORTERM': 'gnome-terminal',\n",
       "        'BASH_FUNC_module()': '() {  eval `/opt/Modules/$MODULE_VERSION/bin/modulecmd bash $*`\\n}',\n",
       "        '_': '/g/data/v10/public/modules/dea-env/20190709/bin/jupyter',\n",
       "        'GIT_PYTHON_REFRESH': 'quiet',\n",
       "        'JPY_PARENT_PID': '12371',\n",
       "        'CLICOLOR': '1',\n",
       "        'PAGER': 'cat',\n",
       "        'GIT_PAGER': 'cat',\n",
       "        'MPLBACKEND': 'module://ipykernel.pylab.backend_inline'}"
      ]
     },
     "execution_count": 4,
     "metadata": {},
     "output_type": "execute_result"
    }
   ],
   "source": [
    "import os\n",
    "os.environ"
   ]
  },
  {
   "cell_type": "code",
   "execution_count": 5,
   "metadata": {},
   "outputs": [],
   "source": [
    "from osgeo import gdal\n",
    "from osgeo import gdal_array\n",
    "from osgeo import osr\n",
    "from osgeo import ogr\n",
    "import matplotlib.pyplot as plt\n",
    "import numpy as np\n",
    "from scipy.interpolate import griddata\n",
    "from scipy.interpolate import NearestNDInterpolator\n",
    "import pandas as pd\n",
    "import subprocess\n",
    "import os\n",
    "from datetime import datetime"
   ]
  },
  {
   "cell_type": "code",
   "execution_count": 28,
   "metadata": {},
   "outputs": [
    {
     "name": "stdout",
     "output_type": "stream",
     "text": [
      "input csv file:  /home/547/zxh547/AusSeabed/testPoints.csv\n"
     ]
    }
   ],
   "source": [
    "dir_with_csvs = '/home/547/zxh547/AusSeabed'\n",
    "csvName = 'testPoints.csv'\n",
    "csvfile = dir_with_csvs + '/' + csvName\n",
    "print('input csv file: ',csvfile)\n",
    "# set cellsize, spatial reference: EPSG id\n",
    "cellsize = 2\n",
    "srID = 32755\n",
    "# read the csv file as a dataframe\n",
    "testDF = pd.read_csv(csvfile,sep=',',header=0)"
   ]
  },
  {
   "cell_type": "code",
   "execution_count": 29,
   "metadata": {},
   "outputs": [
    {
     "name": "stdout",
     "output_type": "stream",
     "text": [
      "the converted grid has 255 rows and 514 cols\n",
      "the vrt layer has 155366 features\n"
     ]
    }
   ],
   "source": [
    "# point coordinates and values\n",
    "x = testDF.Easting\n",
    "y = testDF.Northing\n",
    "z = testDF.Depth\n",
    "\n",
    "xMin = x.min()\n",
    "xMax = x.max()\n",
    "yMin = y.min()\n",
    "yMax = y.max()\n",
    "\n",
    "## convert points to raster\n",
    "\n",
    "# rows and cols for the converted grid\n",
    "ncols = int((xMax-xMin)/cellsize)\n",
    "nrows = int((yMax-yMin)/cellsize)\n",
    "print('the converted grid has',nrows,'rows and',ncols,'cols')\n",
    "# set up x and y for the topleft corner\n",
    "tlX = xMin + 1\n",
    "tlY = yMin + 1\n",
    "# wirting a vrt file for the creation of vrt layer (in this case a point featureclass)\n",
    "vrt_fn = csvfile.replace(\".csv\", \".vrt\")\n",
    "lyr_name = csvName.replace('.csv', '')\n",
    "\n",
    "with open(vrt_fn, 'w') as fn_vrt:\n",
    "    fn_vrt.write('<OGRVRTDataSource>\\n')\n",
    "    fn_vrt.write('\\t<OGRVRTLayer name=\"%s\">\\n' % lyr_name)\n",
    "    fn_vrt.write('\\t\\t<SrcDataSource>%s</SrcDataSource>\\n' % csvfile)\n",
    "    fn_vrt.write('\\t\\t<SrcLayer>%s</SrcLayer>\\n' % lyr_name)\n",
    "    fn_vrt.write('\\t\\t<GeometryType>wkbPoint</GeometryType>\\n')\n",
    "    fn_vrt.write('\\t\\t<GeometryField encoding=\"PointFromColumns\" x=\"Easting\" y=\"Northing\" z=\"Depth\"/>\\n')\n",
    "    fn_vrt.write('\\t</OGRVRTLayer>\\n')\n",
    "    fn_vrt.write('</OGRVRTDataSource>\\n')\n",
    "        \n",
    "in_ds = ogr.Open(vrt_fn)\n",
    "lyr = in_ds.GetLayer(lyr_name)\n",
    "print('the vrt layer has',lyr.GetFeatureCount(),'features')"
   ]
  },
  {
   "cell_type": "code",
   "execution_count": 30,
   "metadata": {},
   "outputs": [
    {
     "name": "stdout",
     "output_type": "stream",
     "text": [
      "<osgeo.gdal.Dataset; proxy of <Swig Object of type 'GDALDatasetShadow *' at 0x7fad44caee10> >\n",
      "The points (the depth values) in the XYZ file have been converted into a raster\n"
     ]
    }
   ],
   "source": [
    "geotransform=(tlX,cellsize,0,tlY,0,cellsize)\n",
    "convertedRas = '/home/547/zxh547/AusSeabed/' + str(cellsize) + 'm1.nc'\n",
    "output_raster1 = gdal.GetDriverByName('NetCDF').Create(convertedRas, ncols, nrows, 1, gdal.GDT_Float32)\n",
    "print(output_raster1)\n",
    "output_raster1.SetGeoTransform(geotransform)\n",
    "srs = osr.SpatialReference()\n",
    "srs.ImportFromEPSG(srID)\n",
    "output_raster1.SetProjection(srs.ExportToWkt())\n",
    "output_raster1.GetRasterBand(1).SetNoDataValue(-9999)\n",
    "# flush cache to write the data\n",
    "output_raster1.FlushCache()\n",
    "# rasterise the depth attribute\n",
    "options = ['ATTRIBUTE=Depth']\n",
    "\n",
    "gdal.RasterizeLayer(output_raster1, [1], lyr, options=options)\n",
    "(pMin,pMax,pMean,pSTD) = output_raster1.GetRasterBand(1).ComputeStatistics(False)\n",
    "\n",
    "output_raster1.GetRasterBand(1).SetStatistics(pMin,pMax,pMean,pSTD)\n",
    "output_raster1 = None\n",
    "print(\"The points (the depth values) in the XYZ file have been converted into a raster\")"
   ]
  },
  {
   "cell_type": "code",
   "execution_count": 33,
   "metadata": {
    "scrolled": true
   },
   "outputs": [
    {
     "name": "stdout",
     "output_type": "stream",
     "text": [
      "<osgeo.gdal.Dataset; proxy of <Swig Object of type 'GDALDatasetShadow *' at 0x7fad44caedb0> >\n",
      "The points (the depth values) in the XYZ file have been converted into a raster\n"
     ]
    }
   ],
   "source": [
    "geotransform=(tlX,cellsize,0,tlY,0,cellsize)\n",
    "convertedRas = '/home/547/zxh547/AusSeabed/' + str(cellsize) + 'm1.tif'\n",
    "options = ['COMPRESS=LZW']\n",
    "output_raster1 = gdal.GetDriverByName('GTiff').Create(convertedRas, ncols, nrows, 1, gdal.GDT_Float32)\n",
    "print(output_raster1)\n",
    "output_raster1.SetGeoTransform(geotransform)\n",
    "srs = osr.SpatialReference()\n",
    "srs.ImportFromEPSG(srID)\n",
    "output_raster1.SetProjection(srs.ExportToWkt())\n",
    "output_raster1.GetRasterBand(1).SetNoDataValue(-9999)\n",
    "# flush cache to write the data\n",
    "output_raster1.FlushCache()\n",
    "# rasterise the depth attribute\n",
    "options = ['ATTRIBUTE=Depth']\n",
    "\n",
    "gdal.RasterizeLayer(output_raster1, [1], lyr, options=options)\n",
    "(pMin,pMax,pMean,pSTD) = output_raster1.GetRasterBand(1).ComputeStatistics(False)\n",
    "\n",
    "output_raster1.GetRasterBand(1).SetStatistics(pMin,pMax,pMean,pSTD)\n",
    "output_raster1 = None\n",
    "print(\"The points (the depth values) in the XYZ file have been converted into a raster\")"
   ]
  },
  {
   "cell_type": "code",
   "execution_count": 34,
   "metadata": {},
   "outputs": [
    {
     "data": {
      "text/plain": [
       "'2040000'"
      ]
     },
     "execution_count": 34,
     "metadata": {},
     "output_type": "execute_result"
    }
   ],
   "source": [
    "gdal.VersionInfo()"
   ]
  },
  {
   "cell_type": "code",
   "execution_count": 116,
   "metadata": {
    "collapsed": true
   },
   "outputs": [
    {
     "data": {
      "text/plain": [
       "'Driver: BAG/Bathymetry Attributed Grid\\nFiles: /home/547/zxh547/AusSeabed/mnf_000.bag\\nSize is 4374, 3560\\nCoordinate System is:\\nPROJCS[\"WGS 84 / UTM zone 55S\",\\n    GEOGCS[\"WGS 84\",\\n        DATUM[\"WGS_1984\",\\n            SPHEROID[\"WGS 84\",6378137,298.2572235629972,\\n                AUTHORITY[\"EPSG\",\"7030\"]],\\n            TOWGS84[0,0,0,0,0,0,0],\\n            AUTHORITY[\"EPSG\",\"6326\"]],\\n        PRIMEM[\"Greenwich\",0,\\n            AUTHORITY[\"EPSG\",\"8901\"]],\\n        UNIT[\"degree (supplier to define representation)\",0.0174532925199433,\\n            AUTHORITY[\"EPSG\",\"9122\"]],\\n        EXTENSION[\"tx_authority\",\"WG84\"],\\n        EXTENSION[\"data_epoch\",2019.246575],\\n        AUTHORITY[\"EPSG\",\"4326\"]],\\n    PROJECTION[\"Transverse_Mercator\",\\n        AUTHORITY[\"EPSG\",\"16155\"]],\\n    PARAMETER[\"latitude_of_origin\",0],\\n    PARAMETER[\"central_meridian\",147],\\n    PARAMETER[\"scale_factor\",0.9996],\\n    PARAMETER[\"false_easting\",500000],\\n    PARAMETER[\"false_northing\",10000000],\\n    UNIT[\"metre\",1,\\n        AUTHORITY[\"EPSG\",\"9001\"]],\\n    AUTHORITY[\"EPSG\",\"32755\"]]\\nOrigin = (498150.999771324044559,5649965.000280978158116)\\nPixel Size = (2.000457351932312,-2.000561955605507)\\nMetadata:\\n  AREA_OR_POINT=Point\\n  BagVersion=1.6.0\\n  BAG_DATETIME=2019-12-10T03:58:22\\nImage Structure Metadata:\\n  COMPRESSION=DEFLATE\\nCorner Coordinates:\\nUpper Left  (  498151.000, 5649965.000) (146d58\\'42.80\"E, 39d17\\'58.90\"S)\\nLower Left  (  498151.000, 5642843.000) (146d58\\'42.73\"E, 39d21\\'49.93\"S)\\nUpper Right (  506901.000, 5649965.000) (147d 4\\'48.12\"E, 39d17\\'58.81\"S)\\nLower Right (  506901.000, 5642843.000) (147d 4\\'48.39\"E, 39d21\\'49.84\"S)\\nCenter      (  502526.000, 5646404.000) (147d 1\\'45.51\"E, 39d19\\'54.41\"S)\\nBand 1 Block=256x256 Type=Float32, ColorInterp=Undefined\\n  Description = elevation\\n  Min=-65.574 Max=-30.257 \\n  NoData Value=1000000\\nBand 2 Block=256x256 Type=Float32, ColorInterp=Undefined\\n  Description = uncertainty\\n  Min=0.000 Max=0.544 \\n  NoData Value=1000000\\n'"
      ]
     },
     "execution_count": 116,
     "metadata": {},
     "output_type": "execute_result"
    }
   ],
   "source": [
    "#bagF = '/home/547/zxh547/AusSeabed/grid0_ellipsoid_cube_ausseabed_02m.bag'\n",
    "bagF = '/home/547/zxh547/AusSeabed/mnf_000.bag'\n",
    "gdal.Info(bagF)"
   ]
  },
  {
   "cell_type": "code",
   "execution_count": 46,
   "metadata": {
    "collapsed": true
   },
   "outputs": [
    {
     "data": {
      "text/plain": [
       "'Driver: BAG/Bathymetry Attributed Grid\\nFiles: /home/547/zxh547/AusSeabed/mnf_000.bag\\nSize is 4374, 3560\\nCoordinate System is:\\nPROJCS[\"WGS 84 / UTM zone 55S\",\\n    GEOGCS[\"WGS 84\",\\n        DATUM[\"WGS_1984\",\\n            SPHEROID[\"WGS 84\",6378137,298.2572235629972,\\n                AUTHORITY[\"EPSG\",\"7030\"]],\\n            TOWGS84[0,0,0,0,0,0,0],\\n            AUTHORITY[\"EPSG\",\"6326\"]],\\n        PRIMEM[\"Greenwich\",0,\\n            AUTHORITY[\"EPSG\",\"8901\"]],\\n        UNIT[\"degree (supplier to define representation)\",0.0174532925199433,\\n            AUTHORITY[\"EPSG\",\"9122\"]],\\n        EXTENSION[\"tx_authority\",\"WG84\"],\\n        EXTENSION[\"data_epoch\",2019.246575],\\n        AUTHORITY[\"EPSG\",\"4326\"]],\\n    PROJECTION[\"Transverse_Mercator\",\\n        AUTHORITY[\"EPSG\",\"16155\"]],\\n    PARAMETER[\"latitude_of_origin\",0],\\n    PARAMETER[\"central_meridian\",147],\\n    PARAMETER[\"scale_factor\",0.9996],\\n    PARAMETER[\"false_easting\",500000],\\n    PARAMETER[\"false_northing\",10000000],\\n    UNIT[\"metre\",1,\\n        AUTHORITY[\"EPSG\",\"9001\"]],\\n    AUTHORITY[\"EPSG\",\"32755\"]]\\nOrigin = (498150.999771324044559,5649965.000280978158116)\\nPixel Size = (2.000457351932312,-2.000561955605507)\\nMetadata:\\n  AREA_OR_POINT=Point\\n  BagVersion=1.6.0\\n  BAG_DATETIME=2019-12-10T03:58:22\\nImage Structure Metadata:\\n  COMPRESSION=DEFLATE\\nCorner Coordinates:\\nUpper Left  (  498151.000, 5649965.000) (146d58\\'42.80\"E, 39d17\\'58.90\"S)\\nLower Left  (  498151.000, 5642843.000) (146d58\\'42.73\"E, 39d21\\'49.93\"S)\\nUpper Right (  506901.000, 5649965.000) (147d 4\\'48.12\"E, 39d17\\'58.81\"S)\\nLower Right (  506901.000, 5642843.000) (147d 4\\'48.39\"E, 39d21\\'49.84\"S)\\nCenter      (  502526.000, 5646404.000) (147d 1\\'45.51\"E, 39d19\\'54.41\"S)\\nBand 1 Block=256x256 Type=Float32, ColorInterp=Undefined\\n  Description = elevation\\n  Min=-65.574 Max=-30.257 \\n  NoData Value=1000000\\nBand 2 Block=256x256 Type=Float32, ColorInterp=Undefined\\n  Description = uncertainty\\n  Min=0.000 Max=0.544 \\n  NoData Value=1000000\\n'"
      ]
     },
     "execution_count": 46,
     "metadata": {},
     "output_type": "execute_result"
    }
   ],
   "source": [
    "options = ['MODE=LIST_SUPERGRIDS']\n",
    "gdal.Info(bagF, options=options)"
   ]
  },
  {
   "cell_type": "code",
   "execution_count": 173,
   "metadata": {},
   "outputs": [],
   "source": [
    "outRas = '/home/547/zxh547/AusSeabed/testBag1.tif'\n",
    "#options = ['COMPRESS=LZW']\n",
    "options = []\n",
    "#options.append('MODE=LOW_RES_GRID')\n",
    "test = gdal.Translate(outRas, bagF,format='GTiff',options=options)\n",
    "test.FlushCache()\n",
    "#(pMin,pMax,pMean,pSTD) = test.GetRasterBand(1).ComputeStatistics(False)\n",
    "#print(pMin,pMax,pMean,pSTD)\n",
    "#test.GetRasterBand(1).SetStatistics(pMin,pMax,pMean,pSTD)\n",
    "#(pMin,pMax,pMean,pSTD) = test.GetRasterBand(2).ComputeStatistics(False)\n",
    "#print(pMin,pMax,pMean,pSTD)\n",
    "#test.GetRasterBand(2).SetStatistics(pMin,pMax,pMean,pSTD)\n",
    "test = None"
   ]
  },
  {
   "cell_type": "code",
   "execution_count": 180,
   "metadata": {
    "scrolled": true
   },
   "outputs": [
    {
     "name": "stdout",
     "output_type": "stream",
     "text": [
      "['MODE=RESAMPLED_GRID', 'RESX=1', 'RESY=1']\n"
     ]
    },
    {
     "ename": "TypeError",
     "evalue": "in method 'TranslateInternal', argument 3 of type 'GDALTranslateOptions *'",
     "output_type": "error",
     "traceback": [
      "\u001b[0;31m---------------------------------------------------------------------------\u001b[0m",
      "\u001b[0;31mTypeError\u001b[0m                                 Traceback (most recent call last)",
      "\u001b[0;32m<ipython-input-180-10d25ad921d9>\u001b[0m in \u001b[0;36m<module>\u001b[0;34m\u001b[0m\n\u001b[1;32m      7\u001b[0m \u001b[0moptions\u001b[0m\u001b[0;34m.\u001b[0m\u001b[0mappend\u001b[0m\u001b[0;34m(\u001b[0m\u001b[0;34m'RESY=1'\u001b[0m\u001b[0;34m)\u001b[0m\u001b[0;34m\u001b[0m\u001b[0;34m\u001b[0m\u001b[0m\n\u001b[1;32m      8\u001b[0m \u001b[0mprint\u001b[0m\u001b[0;34m(\u001b[0m\u001b[0moptions\u001b[0m\u001b[0;34m)\u001b[0m\u001b[0;34m\u001b[0m\u001b[0;34m\u001b[0m\u001b[0m\n\u001b[0;32m----> 9\u001b[0;31m \u001b[0mtest\u001b[0m \u001b[0;34m=\u001b[0m \u001b[0mgdal\u001b[0m\u001b[0;34m.\u001b[0m\u001b[0mTranslate\u001b[0m\u001b[0;34m(\u001b[0m\u001b[0moutRas\u001b[0m\u001b[0;34m,\u001b[0m \u001b[0mbagF\u001b[0m\u001b[0;34m,\u001b[0m\u001b[0mformat\u001b[0m\u001b[0;34m=\u001b[0m\u001b[0;34m'GTiff'\u001b[0m\u001b[0;34m,\u001b[0m\u001b[0moptions\u001b[0m\u001b[0;34m=\u001b[0m\u001b[0moptions\u001b[0m\u001b[0;34m)\u001b[0m\u001b[0;34m\u001b[0m\u001b[0;34m\u001b[0m\u001b[0m\n\u001b[0m\u001b[1;32m     10\u001b[0m \u001b[0mtest\u001b[0m\u001b[0;34m.\u001b[0m\u001b[0mFlushCache\u001b[0m\u001b[0;34m(\u001b[0m\u001b[0;34m)\u001b[0m\u001b[0;34m\u001b[0m\u001b[0;34m\u001b[0m\u001b[0m\n\u001b[1;32m     11\u001b[0m \u001b[0;34m\u001b[0m\u001b[0m\n",
      "\u001b[0;32m/g/data/v10/public/modules/dea-env/20190709/lib/python3.6/site-packages/osgeo/gdal.py\u001b[0m in \u001b[0;36mTranslate\u001b[0;34m(destName, srcDS, **kwargs)\u001b[0m\n\u001b[1;32m    415\u001b[0m         \u001b[0msrcDS\u001b[0m \u001b[0;34m=\u001b[0m \u001b[0mOpen\u001b[0m\u001b[0;34m(\u001b[0m\u001b[0msrcDS\u001b[0m\u001b[0;34m)\u001b[0m\u001b[0;34m\u001b[0m\u001b[0;34m\u001b[0m\u001b[0m\n\u001b[1;32m    416\u001b[0m \u001b[0;34m\u001b[0m\u001b[0m\n\u001b[0;32m--> 417\u001b[0;31m     \u001b[0;32mreturn\u001b[0m \u001b[0mTranslateInternal\u001b[0m\u001b[0;34m(\u001b[0m\u001b[0mdestName\u001b[0m\u001b[0;34m,\u001b[0m \u001b[0msrcDS\u001b[0m\u001b[0;34m,\u001b[0m \u001b[0mopts\u001b[0m\u001b[0;34m,\u001b[0m \u001b[0mcallback\u001b[0m\u001b[0;34m,\u001b[0m \u001b[0mcallback_data\u001b[0m\u001b[0;34m)\u001b[0m\u001b[0;34m\u001b[0m\u001b[0;34m\u001b[0m\u001b[0m\n\u001b[0m\u001b[1;32m    418\u001b[0m \u001b[0;34m\u001b[0m\u001b[0m\n\u001b[1;32m    419\u001b[0m def WarpOptions(options=None, format=None,\n",
      "\u001b[0;32m/g/data/v10/public/modules/dea-env/20190709/lib/python3.6/site-packages/osgeo/gdal.py\u001b[0m in \u001b[0;36mTranslateInternal\u001b[0;34m(*args)\u001b[0m\n\u001b[1;32m   3322\u001b[0m \u001b[0;32mdef\u001b[0m \u001b[0mTranslateInternal\u001b[0m\u001b[0;34m(\u001b[0m\u001b[0;34m*\u001b[0m\u001b[0margs\u001b[0m\u001b[0;34m)\u001b[0m\u001b[0;34m:\u001b[0m\u001b[0;34m\u001b[0m\u001b[0;34m\u001b[0m\u001b[0m\n\u001b[1;32m   3323\u001b[0m     \u001b[0;34m\"\"\"TranslateInternal(char const * dest, Dataset dataset, GDALTranslateOptions translateOptions, GDALProgressFunc callback=0, void * callback_data=None) -> Dataset\"\"\"\u001b[0m\u001b[0;34m\u001b[0m\u001b[0;34m\u001b[0m\u001b[0m\n\u001b[0;32m-> 3324\u001b[0;31m     \u001b[0;32mreturn\u001b[0m \u001b[0m_gdal\u001b[0m\u001b[0;34m.\u001b[0m\u001b[0mTranslateInternal\u001b[0m\u001b[0;34m(\u001b[0m\u001b[0;34m*\u001b[0m\u001b[0margs\u001b[0m\u001b[0;34m)\u001b[0m\u001b[0;34m\u001b[0m\u001b[0;34m\u001b[0m\u001b[0m\n\u001b[0m\u001b[1;32m   3325\u001b[0m \u001b[0;32mclass\u001b[0m \u001b[0mGDALWarpAppOptions\u001b[0m\u001b[0;34m(\u001b[0m\u001b[0m_object\u001b[0m\u001b[0;34m)\u001b[0m\u001b[0;34m:\u001b[0m\u001b[0;34m\u001b[0m\u001b[0;34m\u001b[0m\u001b[0m\n\u001b[1;32m   3326\u001b[0m     \u001b[0;34m\"\"\"Proxy of C++ GDALWarpAppOptions class.\"\"\"\u001b[0m\u001b[0;34m\u001b[0m\u001b[0;34m\u001b[0m\u001b[0m\n",
      "\u001b[0;31mTypeError\u001b[0m: in method 'TranslateInternal', argument 3 of type 'GDALTranslateOptions *'"
     ]
    }
   ],
   "source": [
    "outRas = '/home/547/zxh547/AusSeabed/testBag2.tif'\n",
    "#options = ['COMPRESS=LZW']\n",
    "options = []\n",
    "#options.append('INTERPOLATION=INVDIST')\n",
    "options.append('MODE=RESAMPLED_GRID')\n",
    "options.append('RESX=1')\n",
    "options.append('RESY=1')\n",
    "print(options)\n",
    "test = gdal.Translate(outRas, bagF,format='GTiff',options=options)\n",
    "test.FlushCache()\n",
    "\n",
    "test = None"
   ]
  },
  {
   "cell_type": "code",
   "execution_count": 181,
   "metadata": {
    "scrolled": false
   },
   "outputs": [
    {
     "data": {
      "text/plain": [
       "'Driver: GTiff/GeoTIFF\\nFiles: /home/547/zxh547/AusSeabed/testBag2.tif\\nSize is 4374, 3560\\nCoordinate System is:\\nPROJCS[\"WGS 84 / UTM zone 55S\",\\n    GEOGCS[\"WGS 84\",\\n        DATUM[\"WGS_1984\",\\n            SPHEROID[\"WGS 84\",6378137,298.257223563,\\n                AUTHORITY[\"EPSG\",\"7030\"]],\\n            AUTHORITY[\"EPSG\",\"6326\"]],\\n        PRIMEM[\"Greenwich\",0,\\n            AUTHORITY[\"EPSG\",\"8901\"]],\\n        UNIT[\"degree\",0.0174532925199433,\\n            AUTHORITY[\"EPSG\",\"9122\"]],\\n        AUTHORITY[\"EPSG\",\"4326\"]],\\n    PROJECTION[\"Transverse_Mercator\"],\\n    PARAMETER[\"latitude_of_origin\",0],\\n    PARAMETER[\"central_meridian\",147],\\n    PARAMETER[\"scale_factor\",0.9996],\\n    PARAMETER[\"false_easting\",500000],\\n    PARAMETER[\"false_northing\",10000000],\\n    UNIT[\"metre\",1,\\n        AUTHORITY[\"EPSG\",\"9001\"]],\\n    AXIS[\"Easting\",EAST],\\n    AXIS[\"Northing\",NORTH],\\n    AUTHORITY[\"EPSG\",\"32755\"]]\\nOrigin = (498150.999771324044559,5649965.000280978158116)\\nPixel Size = (2.000457351932312,-2.000561955605507)\\nMetadata:\\n  AREA_OR_POINT=Point\\n  BagVersion=1.6.0\\n  BAG_DATETIME=2019-12-10T03:58:22\\nImage Structure Metadata:\\n  INTERLEAVE=PIXEL\\nCorner Coordinates:\\nUpper Left  (  498151.000, 5649965.000) (146d58\\'42.80\"E, 39d17\\'58.90\"S)\\nLower Left  (  498151.000, 5642843.000) (146d58\\'42.73\"E, 39d21\\'49.93\"S)\\nUpper Right (  506901.000, 5649965.000) (147d 4\\'48.12\"E, 39d17\\'58.81\"S)\\nLower Right (  506901.000, 5642843.000) (147d 4\\'48.39\"E, 39d21\\'49.84\"S)\\nCenter      (  502526.000, 5646404.000) (147d 1\\'45.51\"E, 39d19\\'54.41\"S)\\nBand 1 Block=4374x1 Type=Float32, ColorInterp=Gray\\n  Description = elevation\\n  NoData Value=1000000\\nBand 2 Block=4374x1 Type=Float32, ColorInterp=Undefined\\n  Description = uncertainty\\n  NoData Value=1000000\\n'"
      ]
     },
     "execution_count": 181,
     "metadata": {},
     "output_type": "execute_result"
    }
   ],
   "source": [
    "gdal.Info(outRas)"
   ]
  },
  {
   "cell_type": "code",
   "execution_count": 182,
   "metadata": {},
   "outputs": [],
   "source": [
    "inTif = '/home/547/zxh547/AusSeabed/2m1_lzw.tif'\n",
    "outBag = '/home/547/zxh547/AusSeabed/2m1_lzw.bag'\n",
    "options = []\n",
    "options.append('VAR_ABSTRACT=my abstract')\n",
    "test = gdal.Translate(outBag,inTif,format='BAG',options=options)\n",
    "#test = None\n",
    "test.FlushCache()"
   ]
  },
  {
   "cell_type": "code",
   "execution_count": 184,
   "metadata": {
    "scrolled": true
   },
   "outputs": [
    {
     "name": "stdout",
     "output_type": "stream",
     "text": [
      "21.062\n"
     ]
    },
    {
     "data": {
      "image/png": "[encoded data removed]",
      "text/plain": [
       "<Figure size 432x288 with 1 Axes>"
      ]
     },
     "metadata": {
      "needs_background": "light"
     },
     "output_type": "display_data"
    },
    {
     "data": {
      "text/plain": [
       "<matplotlib.axes._subplots.AxesSubplot at 0x7fad39167898>"
      ]
     },
     "execution_count": 184,
     "metadata": {},
     "output_type": "execute_result"
    }
   ],
   "source": [
    "import rasterio\n",
    "import rasterio.plot\n",
    "outRas = '/home/547/zxh547/AusSeabed/testBag1.tif'\n",
    "raster1 = rasterio.open(outBag)\n",
    "band1 = raster1.read(1)\n",
    "print(band1.min())\n",
    "rasterio.plot.show(band1)"
   ]
  },
  {
   "cell_type": "code",
   "execution_count": 183,
   "metadata": {
    "scrolled": true
   },
   "outputs": [
    {
     "data": {
      "text/plain": [
       "'Driver: BAG/Bathymetry Attributed Grid\\nFiles: /home/547/zxh547/AusSeabed/2m1_lzw.bag\\nSize is 514, 255\\nCoordinate System is:\\nPROJCS[\"WGS 84 / UTM zone 55S\",\\n    GEOGCS[\"WGS 84\",\\n        DATUM[\"WGS_1984\",\\n            SPHEROID[\"WGS 84\",6378137,298.257223563,\\n                AUTHORITY[\"EPSG\",\"7030\"]],\\n            AUTHORITY[\"EPSG\",\"6326\"]],\\n        PRIMEM[\"Greenwich\",0,\\n            AUTHORITY[\"EPSG\",\"8901\"]],\\n        UNIT[\"degree\",0.0174532925199433,\\n            AUTHORITY[\"EPSG\",\"9122\"]],\\n        AUTHORITY[\"EPSG\",\"4326\"]],\\n    PROJECTION[\"Transverse_Mercator\"],\\n    PARAMETER[\"latitude_of_origin\",0],\\n    PARAMETER[\"central_meridian\",147],\\n    PARAMETER[\"scale_factor\",0.9996],\\n    PARAMETER[\"false_easting\",500000],\\n    PARAMETER[\"false_northing\",10000000],\\n    UNIT[\"metre\",1,\\n        AUTHORITY[\"EPSG\",\"9001\"]],\\n    AXIS[\"Easting\",EAST],\\n    AXIS[\"Northing\",NORTH],\\n    AUTHORITY[\"EPSG\",\"32755\"]]\\nOrigin = (525532.783999999985099,5631282.969999999739230)\\nPixel Size = (2.000000000000000,-2.000000000000000)\\nMetadata:\\n  AREA_OR_POINT=Point\\n  BagVersion=1.6.2\\n  BAG_DATETIME=2019-12-17T03:26:52\\nImage Structure Metadata:\\n  COMPRESSION=DEFLATE\\nCorner Coordinates:\\nUpper Left  (  525532.784, 5631282.970) (147d17\\'48.58\"E, 39d28\\' 3.56\"S)\\nLower Left  (  525532.784, 5630772.970) (147d17\\'48.65\"E, 39d28\\'20.11\"S)\\nUpper Right (  526560.784, 5631282.970) (147d18\\'31.60\"E, 39d28\\' 3.45\"S)\\nLower Right (  526560.784, 5630772.970) (147d18\\'31.67\"E, 39d28\\'19.99\"S)\\nCenter      (  526046.784, 5631027.970) (147d18\\'10.13\"E, 39d28\\'11.78\"S)\\nBand 1 Block=100x100 Type=Float32, ColorInterp=Undefined\\n  Description = elevation\\n  Min=21.062 Max=59.514 \\n  NoData Value=1000000\\nBand 2 Block=100x100 Type=Float32, ColorInterp=Undefined\\n  Description = uncertainty\\n  Min=1000000.000 Max=1000000.000 \\n  NoData Value=1000000\\n'"
      ]
     },
     "execution_count": 183,
     "metadata": {},
     "output_type": "execute_result"
    }
   ],
   "source": [
    "gdal.Info(outBag)"
   ]
  },
  {
   "cell_type": "code",
   "execution_count": 186,
   "metadata": {},
   "outputs": [
    {
     "data": {
      "text/plain": [
       "'Driver: BAG/Bathymetry Attributed Grid\\nFiles: /home/547/zxh547/AusSeabed/mnf_overlap_variable_resolution_ranges_cube_ausseabed_for_zh.bag\\nSize is 64, 64\\nCoordinate System is:\\nPROJCS[\"WGS 84 / UTM zone 55S\",\\n    GEOGCS[\"WGS 84\",\\n        DATUM[\"World Geodetic System 1984\",\\n            SPHEROID[\"WGS 84\",6378137,298.2572235629972,\\n                AUTHORITY[\"EPSG\",\"7030\"]],\\n            TOWGS84[0,0,0,0,0,0,0],\\n            AUTHORITY[\"EPSG\",\"6326\"]],\\n        PRIMEM[\"Greenwich\",0,\\n            AUTHORITY[\"EPSG\",\"8901\"]],\\n        UNIT[\"degree (supplier to define representation)\",0.0174532925199433,\\n            AUTHORITY[\"EPSG\",\"9122\"]],\\n        EXTENSION[\"tx_authority\",\"WG84\"],\\n        AUTHORITY[\"EPSG\",\"4326\"]],\\n    PROJECTION[\"Transverse_Mercator\",\\n        AUTHORITY[\"EPSG\",\"16155\"]],\\n    PARAMETER[\"latitude_of_origin\",0],\\n    PARAMETER[\"central_meridian\",147],\\n    PARAMETER[\"scale_factor\",0.9996],\\n    PARAMETER[\"false_easting\",500000],\\n    PARAMETER[\"false_northing\",10000000],\\n    UNIT[\"metre\",1,\\n        AUTHORITY[\"EPSG\",\"9001\"]],\\n    AUTHORITY[\"EPSG\",\"32755\"]]\\nOrigin = (498151.880109341233037,5650776.170417658984661)\\nPixel Size = (136.702641317460120,-136.702641317458273)\\nMetadata:\\n  AREA_OR_POINT=Point\\n  BagVersion=1.6.0\\n  BAG_DATETIME=2019-12-17T22:07:24\\n  HAS_SUPERGRIDS=TRUE\\n  MAX_RESOLUTION_X=2.010333\\n  MAX_RESOLUTION_Y=2.010333\\n  MIN_RESOLUTION_X=2.010333\\n  MIN_RESOLUTION_Y=2.010333\\nImage Structure Metadata:\\n  COMPRESSION=DEFLATE\\nCorner Coordinates:\\nUpper Left  (  498151.880, 5650776.170) (146d58\\'42.85\"E, 39d17\\'32.58\"S)\\nLower Left  (  498151.880, 5642027.201) (146d58\\'42.76\"E, 39d22\\'16.39\"S)\\nUpper Right (  506900.849, 5650776.170) (147d 4\\'48.09\"E, 39d17\\'32.49\"S)\\nLower Right (  506900.849, 5642027.201) (147d 4\\'48.41\"E, 39d22\\'16.30\"S)\\nCenter      (  502526.365, 5646401.686) (147d 1\\'45.53\"E, 39d19\\'54.48\"S)\\nBand 1 Block=10x10 Type=Float32, ColorInterp=Undefined\\n  Description = elevation\\n  Min=-64.614 Max=-61.658 \\n  NoData Value=1000000\\nBand 2 Block=10x10 Type=Float32, ColorInterp=Undefined\\n  Description = uncertainty\\n  Min=0.038 Max=0.493 \\n  NoData Value=1000000\\n'"
      ]
     },
     "execution_count": 186,
     "metadata": {},
     "output_type": "execute_result"
    }
   ],
   "source": [
    "#bagF = '/home/547/zxh547/AusSeabed/grid0_ellipsoid_cube_ausseabed_02m.bag'\n",
    "vbagF = '/home/547/zxh547/AusSeabed/mnf_overlap_variable_resolution_ranges_cube_ausseabed_for_zh.bag'\n",
    "gdal.Info(vbagF)\n"
   ]
  },
  {
   "cell_type": "code",
   "execution_count": 190,
   "metadata": {},
   "outputs": [
    {
     "name": "stdout",
     "output_type": "stream",
     "text": [
      "['MODE=LIST_SUPERGRIDS']\n"
     ]
    },
    {
     "data": {
      "text/plain": [
       "'Driver: BAG/Bathymetry Attributed Grid\\nFiles: /home/547/zxh547/AusSeabed/mnf_overlap_variable_resolution_ranges_cube_ausseabed_for_zh.bag\\nSize is 64, 64\\nCoordinate System is:\\nPROJCS[\"WGS 84 / UTM zone 55S\",\\n    GEOGCS[\"WGS 84\",\\n        DATUM[\"World Geodetic System 1984\",\\n            SPHEROID[\"WGS 84\",6378137,298.2572235629972,\\n                AUTHORITY[\"EPSG\",\"7030\"]],\\n            TOWGS84[0,0,0,0,0,0,0],\\n            AUTHORITY[\"EPSG\",\"6326\"]],\\n        PRIMEM[\"Greenwich\",0,\\n            AUTHORITY[\"EPSG\",\"8901\"]],\\n        UNIT[\"degree (supplier to define representation)\",0.0174532925199433,\\n            AUTHORITY[\"EPSG\",\"9122\"]],\\n        EXTENSION[\"tx_authority\",\"WG84\"],\\n        AUTHORITY[\"EPSG\",\"4326\"]],\\n    PROJECTION[\"Transverse_Mercator\",\\n        AUTHORITY[\"EPSG\",\"16155\"]],\\n    PARAMETER[\"latitude_of_origin\",0],\\n    PARAMETER[\"central_meridian\",147],\\n    PARAMETER[\"scale_factor\",0.9996],\\n    PARAMETER[\"false_easting\",500000],\\n    PARAMETER[\"false_northing\",10000000],\\n    UNIT[\"metre\",1,\\n        AUTHORITY[\"EPSG\",\"9001\"]],\\n    AUTHORITY[\"EPSG\",\"32755\"]]\\nOrigin = (498151.880109341233037,5650776.170417658984661)\\nPixel Size = (136.702641317460120,-136.702641317458273)\\nMetadata:\\n  AREA_OR_POINT=Point\\n  BagVersion=1.6.0\\n  BAG_DATETIME=2019-12-17T22:07:24\\n  HAS_SUPERGRIDS=TRUE\\n  MAX_RESOLUTION_X=2.010333\\n  MAX_RESOLUTION_Y=2.010333\\n  MIN_RESOLUTION_X=2.010333\\n  MIN_RESOLUTION_Y=2.010333\\nImage Structure Metadata:\\n  COMPRESSION=DEFLATE\\nCorner Coordinates:\\nUpper Left  (  498151.880, 5650776.170) (146d58\\'42.85\"E, 39d17\\'32.58\"S)\\nLower Left  (  498151.880, 5642027.201) (146d58\\'42.76\"E, 39d22\\'16.39\"S)\\nUpper Right (  506900.849, 5650776.170) (147d 4\\'48.09\"E, 39d17\\'32.49\"S)\\nLower Right (  506900.849, 5642027.201) (147d 4\\'48.41\"E, 39d22\\'16.30\"S)\\nCenter      (  502526.365, 5646401.686) (147d 1\\'45.53\"E, 39d19\\'54.48\"S)\\nBand 1 Block=10x10 Type=Float32, ColorInterp=Undefined\\n  Description = elevation\\n  Min=-64.614 Max=-61.658 \\n  NoData Value=1000000\\nBand 2 Block=10x10 Type=Float32, ColorInterp=Undefined\\n  Description = uncertainty\\n  Min=0.038 Max=0.493 \\n  NoData Value=1000000\\n'"
      ]
     },
     "execution_count": 190,
     "metadata": {},
     "output_type": "execute_result"
    }
   ],
   "source": [
    "options = []\n",
    "options.append('MODE=LIST_SUPERGRIDS')\n",
    "print(options)\n",
    "gdal.Info(vbagF,options=options)"
   ]
  },
  {
   "cell_type": "code",
   "execution_count": 195,
   "metadata": {},
   "outputs": [
    {
     "name": "stdout",
     "output_type": "stream",
     "text": [
      "['MODE=RESAMPLED_GRID']\n"
     ]
    }
   ],
   "source": [
    "options = []\n",
    "options.append('MODE=RESAMPLED_GRID')\n",
    "print(options)\n",
    "outRas = '/home/547/zxh547/AusSeabed/out1.tif'\n",
    "test = gdal.Translate(outRas, vbagF, format='GTiff',options=options)\n",
    "test.FlushCache()"
   ]
  },
  {
   "cell_type": "code",
   "execution_count": 196,
   "metadata": {
    "scrolled": true
   },
   "outputs": [
    {
     "data": {
      "text/plain": [
       "'Driver: GTiff/GeoTIFF\\nFiles: /home/547/zxh547/AusSeabed/out1.tif\\nSize is 64, 64\\nCoordinate System is:\\nPROJCS[\"WGS 84 / UTM zone 55S\",\\n    GEOGCS[\"WGS 84\",\\n        DATUM[\"WGS_1984\",\\n            SPHEROID[\"WGS 84\",6378137,298.257223563,\\n                AUTHORITY[\"EPSG\",\"7030\"]],\\n            AUTHORITY[\"EPSG\",\"6326\"]],\\n        PRIMEM[\"Greenwich\",0,\\n            AUTHORITY[\"EPSG\",\"8901\"]],\\n        UNIT[\"degree\",0.0174532925199433,\\n            AUTHORITY[\"EPSG\",\"9122\"]],\\n        AUTHORITY[\"EPSG\",\"4326\"]],\\n    PROJECTION[\"Transverse_Mercator\"],\\n    PARAMETER[\"latitude_of_origin\",0],\\n    PARAMETER[\"central_meridian\",147],\\n    PARAMETER[\"scale_factor\",0.9996],\\n    PARAMETER[\"false_easting\",500000],\\n    PARAMETER[\"false_northing\",10000000],\\n    UNIT[\"metre\",1,\\n        AUTHORITY[\"EPSG\",\"9001\"]],\\n    AXIS[\"Easting\",EAST],\\n    AXIS[\"Northing\",NORTH],\\n    AUTHORITY[\"EPSG\",\"32755\"]]\\nOrigin = (498151.880109341233037,5650776.170417658984661)\\nPixel Size = (136.702641317460120,-136.702641317458273)\\nMetadata:\\n  AREA_OR_POINT=Point\\n  BagVersion=1.6.0\\n  BAG_DATETIME=2019-12-17T22:07:24\\n  HAS_SUPERGRIDS=TRUE\\n  MAX_RESOLUTION_X=2.010333\\n  MAX_RESOLUTION_Y=2.010333\\n  MIN_RESOLUTION_X=2.010333\\n  MIN_RESOLUTION_Y=2.010333\\nImage Structure Metadata:\\n  INTERLEAVE=PIXEL\\nCorner Coordinates:\\nUpper Left  (  498151.880, 5650776.170) (146d58\\'42.85\"E, 39d17\\'32.58\"S)\\nLower Left  (  498151.880, 5642027.201) (146d58\\'42.76\"E, 39d22\\'16.39\"S)\\nUpper Right (  506900.849, 5650776.170) (147d 4\\'48.09\"E, 39d17\\'32.49\"S)\\nLower Right (  506900.849, 5642027.201) (147d 4\\'48.41\"E, 39d22\\'16.30\"S)\\nCenter      (  502526.365, 5646401.686) (147d 1\\'45.53\"E, 39d19\\'54.48\"S)\\nBand 1 Block=64x16 Type=Float32, ColorInterp=Gray\\n  Description = elevation\\n  NoData Value=1000000\\nBand 2 Block=64x16 Type=Float32, ColorInterp=Undefined\\n  Description = uncertainty\\n  NoData Value=1000000\\n'"
      ]
     },
     "execution_count": 196,
     "metadata": {},
     "output_type": "execute_result"
    }
   ],
   "source": [
    "gdal.Info(outRas)"
   ]
  },
  {
   "cell_type": "code",
   "execution_count": 197,
   "metadata": {},
   "outputs": [
    {
     "data": {
      "text/plain": [
       "'2040000'"
      ]
     },
     "execution_count": 197,
     "metadata": {},
     "output_type": "execute_result"
    }
   ],
   "source": [
    "gdal.VersionInfo()"
   ]
  },
  {
   "cell_type": "code",
   "execution_count": 202,
   "metadata": {
    "scrolled": true
   },
   "outputs": [
    {
     "name": "stdout",
     "output_type": "stream",
     "text": [
      "python gdalinfo.py /home/547/zxh547/AusSeabed/mnf_overlap_variable_resolution_ranges_cube_ausseabed_for_zh.bag -oo MODE=LIST_SUPERGRIDS \n"
     ]
    }
   ],
   "source": [
    "cmd = \"python gdalinfo.py \" + vbagF + \" -oo MODE=LIST_SUPERGRIDS\"\n",
    "print(cmd)"
   ]
  },
  {
   "cell_type": "code",
   "execution_count": 210,
   "metadata": {},
   "outputs": [
    {
     "ename": "FileNotFoundError",
     "evalue": "[Errno 2] No such file or directory: 'python gdalinfo.py /home/547/zxh547/AusSeabed/mnf_overlap_variable_resolution_ranges_cube_ausseabed_for_zh.bag -oo MODE=LIST_SUPERGRIDS ': 'python gdalinfo.py /home/547/zxh547/AusSeabed/mnf_overlap_variable_resolution_ranges_cube_ausseabed_for_zh.bag -oo MODE=LIST_SUPERGRIDS '",
     "output_type": "error",
     "traceback": [
      "\u001b[0;31m---------------------------------------------------------------------------\u001b[0m",
      "\u001b[0;31mFileNotFoundError\u001b[0m                         Traceback (most recent call last)",
      "\u001b[0;32m<ipython-input-210-677aae19287b>\u001b[0m in \u001b[0;36m<module>\u001b[0;34m\u001b[0m\n\u001b[1;32m      1\u001b[0m \u001b[0;32mimport\u001b[0m \u001b[0msubprocess\u001b[0m\u001b[0;34m\u001b[0m\u001b[0;34m\u001b[0m\u001b[0m\n\u001b[0;32m----> 2\u001b[0;31m \u001b[0moutput\u001b[0m\u001b[0;34m=\u001b[0m\u001b[0msubprocess\u001b[0m\u001b[0;34m.\u001b[0m\u001b[0mcall\u001b[0m\u001b[0;34m(\u001b[0m\u001b[0mcmd\u001b[0m\u001b[0;34m,\u001b[0m\u001b[0mcwd\u001b[0m\u001b[0;34m=\u001b[0m\u001b[0;34m'/g/data/v10/public/modules/dea-env/20190709/share/qgis/python/plugins/processing/algs/gdal'\u001b[0m\u001b[0;34m)\u001b[0m\u001b[0;34m\u001b[0m\u001b[0;34m\u001b[0m\u001b[0m\n\u001b[0m",
      "\u001b[0;32m/g/data/v10/public/modules/dea-env/20190709/lib/python3.6/subprocess.py\u001b[0m in \u001b[0;36mcall\u001b[0;34m(timeout, *popenargs, **kwargs)\u001b[0m\n\u001b[1;32m    265\u001b[0m     \u001b[0mretcode\u001b[0m \u001b[0;34m=\u001b[0m \u001b[0mcall\u001b[0m\u001b[0;34m(\u001b[0m\u001b[0;34m[\u001b[0m\u001b[0;34m\"ls\"\u001b[0m\u001b[0;34m,\u001b[0m \u001b[0;34m\"-l\"\u001b[0m\u001b[0;34m]\u001b[0m\u001b[0;34m)\u001b[0m\u001b[0;34m\u001b[0m\u001b[0;34m\u001b[0m\u001b[0m\n\u001b[1;32m    266\u001b[0m     \"\"\"\n\u001b[0;32m--> 267\u001b[0;31m     \u001b[0;32mwith\u001b[0m \u001b[0mPopen\u001b[0m\u001b[0;34m(\u001b[0m\u001b[0;34m*\u001b[0m\u001b[0mpopenargs\u001b[0m\u001b[0;34m,\u001b[0m \u001b[0;34m**\u001b[0m\u001b[0mkwargs\u001b[0m\u001b[0;34m)\u001b[0m \u001b[0;32mas\u001b[0m \u001b[0mp\u001b[0m\u001b[0;34m:\u001b[0m\u001b[0;34m\u001b[0m\u001b[0;34m\u001b[0m\u001b[0m\n\u001b[0m\u001b[1;32m    268\u001b[0m         \u001b[0;32mtry\u001b[0m\u001b[0;34m:\u001b[0m\u001b[0;34m\u001b[0m\u001b[0;34m\u001b[0m\u001b[0m\n\u001b[1;32m    269\u001b[0m             \u001b[0;32mreturn\u001b[0m \u001b[0mp\u001b[0m\u001b[0;34m.\u001b[0m\u001b[0mwait\u001b[0m\u001b[0;34m(\u001b[0m\u001b[0mtimeout\u001b[0m\u001b[0;34m=\u001b[0m\u001b[0mtimeout\u001b[0m\u001b[0;34m)\u001b[0m\u001b[0;34m\u001b[0m\u001b[0;34m\u001b[0m\u001b[0m\n",
      "\u001b[0;32m/g/data/v10/public/modules/dea-env/20190709/lib/python3.6/subprocess.py\u001b[0m in \u001b[0;36m__init__\u001b[0;34m(self, args, bufsize, executable, stdin, stdout, stderr, preexec_fn, close_fds, shell, cwd, env, universal_newlines, startupinfo, creationflags, restore_signals, start_new_session, pass_fds, encoding, errors)\u001b[0m\n\u001b[1;32m    707\u001b[0m                                 \u001b[0mc2pread\u001b[0m\u001b[0;34m,\u001b[0m \u001b[0mc2pwrite\u001b[0m\u001b[0;34m,\u001b[0m\u001b[0;34m\u001b[0m\u001b[0;34m\u001b[0m\u001b[0m\n\u001b[1;32m    708\u001b[0m                                 \u001b[0merrread\u001b[0m\u001b[0;34m,\u001b[0m \u001b[0merrwrite\u001b[0m\u001b[0;34m,\u001b[0m\u001b[0;34m\u001b[0m\u001b[0;34m\u001b[0m\u001b[0m\n\u001b[0;32m--> 709\u001b[0;31m                                 restore_signals, start_new_session)\n\u001b[0m\u001b[1;32m    710\u001b[0m         \u001b[0;32mexcept\u001b[0m\u001b[0;34m:\u001b[0m\u001b[0;34m\u001b[0m\u001b[0;34m\u001b[0m\u001b[0m\n\u001b[1;32m    711\u001b[0m             \u001b[0;31m# Cleanup if the child failed starting.\u001b[0m\u001b[0;34m\u001b[0m\u001b[0;34m\u001b[0m\u001b[0;34m\u001b[0m\u001b[0m\n",
      "\u001b[0;32m/g/data/v10/public/modules/dea-env/20190709/lib/python3.6/subprocess.py\u001b[0m in \u001b[0;36m_execute_child\u001b[0;34m(self, args, executable, preexec_fn, close_fds, pass_fds, cwd, env, startupinfo, creationflags, shell, p2cread, p2cwrite, c2pread, c2pwrite, errread, errwrite, restore_signals, start_new_session)\u001b[0m\n\u001b[1;32m   1342\u001b[0m                         \u001b[0;32mif\u001b[0m \u001b[0merrno_num\u001b[0m \u001b[0;34m==\u001b[0m \u001b[0merrno\u001b[0m\u001b[0;34m.\u001b[0m\u001b[0mENOENT\u001b[0m\u001b[0;34m:\u001b[0m\u001b[0;34m\u001b[0m\u001b[0;34m\u001b[0m\u001b[0m\n\u001b[1;32m   1343\u001b[0m                             \u001b[0merr_msg\u001b[0m \u001b[0;34m+=\u001b[0m \u001b[0;34m': '\u001b[0m \u001b[0;34m+\u001b[0m \u001b[0mrepr\u001b[0m\u001b[0;34m(\u001b[0m\u001b[0merr_filename\u001b[0m\u001b[0;34m)\u001b[0m\u001b[0;34m\u001b[0m\u001b[0;34m\u001b[0m\u001b[0m\n\u001b[0;32m-> 1344\u001b[0;31m                     \u001b[0;32mraise\u001b[0m \u001b[0mchild_exception_type\u001b[0m\u001b[0;34m(\u001b[0m\u001b[0merrno_num\u001b[0m\u001b[0;34m,\u001b[0m \u001b[0merr_msg\u001b[0m\u001b[0;34m,\u001b[0m \u001b[0merr_filename\u001b[0m\u001b[0;34m)\u001b[0m\u001b[0;34m\u001b[0m\u001b[0;34m\u001b[0m\u001b[0m\n\u001b[0m\u001b[1;32m   1345\u001b[0m                 \u001b[0;32mraise\u001b[0m \u001b[0mchild_exception_type\u001b[0m\u001b[0;34m(\u001b[0m\u001b[0merr_msg\u001b[0m\u001b[0;34m)\u001b[0m\u001b[0;34m\u001b[0m\u001b[0;34m\u001b[0m\u001b[0m\n\u001b[1;32m   1346\u001b[0m \u001b[0;34m\u001b[0m\u001b[0m\n",
      "\u001b[0;31mFileNotFoundError\u001b[0m: [Errno 2] No such file or directory: 'python gdalinfo.py /home/547/zxh547/AusSeabed/mnf_overlap_variable_resolution_ranges_cube_ausseabed_for_zh.bag -oo MODE=LIST_SUPERGRIDS ': 'python gdalinfo.py /home/547/zxh547/AusSeabed/mnf_overlap_variable_resolution_ranges_cube_ausseabed_for_zh.bag -oo MODE=LIST_SUPERGRIDS '"
     ]
    }
   ],
   "source": [
    "import subprocess\n",
    "output=subprocess.call(cmd,cwd='/g/data/v10/public/modules/dea-env/20190709/share/qgis/python/plugins/processing/algs/gdal')"
   ]
  },
  {
   "cell_type": "code",
   "execution_count": 204,
   "metadata": {},
   "outputs": [
    {
     "data": {
      "text/plain": [
       "environ{'CPLUS_INCLUDE_PATH': '/apps/udunits/2.1.24/include',\n",
       "        'MODULE_VERSION_STACK': '3.2.10',\n",
       "        'PROJ_LIB': '/g/data/v10/public/modules/dea-env/20190709/share/proj',\n",
       "        'ORBIT_SOCKETDIR': '/local/v10/zxh547/tmp/orbit-zxh547',\n",
       "        'MANPATH': '/apps/udunits/2.1.24/share/man:/opt/pbs/default/share/man:/usr/local/share/man:/usr/share/man:/usr/X11R6/man:/opt/man:/opt/puppetlabs/puppet/share/man',\n",
       "        'VNCDESKTOP': 'vdi-n15:3 (zxh547)',\n",
       "        'SSH_AGENT_PID': '11847',\n",
       "        'HOSTNAME': 'vdi-n15',\n",
       "        'GIO_LAUNCHED_DESKTOP_FILE_PID': '12224',\n",
       "        'NF_MODULES_LOADED': 'YES',\n",
       "        'TERM': 'xterm-color',\n",
       "        'SHELL': '/bin/bash',\n",
       "        'XDG_SESSION_COOKIE': '0e9a3103c2298d837c6d3724000000a1-1576207188.654117-1633190355',\n",
       "        'PROJECT': 'v10',\n",
       "        'TMPDIR': '/local/v10/zxh547/tmp',\n",
       "        'LIBRARY_PATH': '/apps/udunits/2.1.24/lib',\n",
       "        'GTK_RC_FILES': '/etc/gtk/gtkrc:/home/547/zxh547/.gtkrc-1.2-gnome2',\n",
       "        'WINDOWID': '44040195',\n",
       "        'FPATH': '/apps/udunits/2.1.24/include:/opt/Modules/krutsh/commands',\n",
       "        'OLDPWD': '/home/547/zxh547',\n",
       "        'SYSFONT': 'latarcyrheb-sun16',\n",
       "        'QTDIR': '/usr/lib64/qt-3.3',\n",
       "        'QTINC': '/usr/lib64/qt-3.3/include',\n",
       "        'LC_ALL': 'en_AU.utf8',\n",
       "        'PYTHONUSERBASE': '/home/547/zxh547/.digitalearthau/dea-env/20190709/local',\n",
       "        'USER': 'zxh547',\n",
       "        'LD_LIBRARY_PATH': '/apps/udunits/2.1.24/lib',\n",
       "        'LS_COLORS': 'rs=0:di=01;34:ln=01;36:mh=00:pi=40;33:so=01;35:do=01;35:bd=40;33;01:cd=40;33;01:or=40;31;01:mi=01;05;37;41:su=37;41:sg=30;43:ca=30;41:tw=30;42:ow=34;42:st=37;44:ex=01;32:*.tar=01;31:*.tgz=01;31:*.arj=01;31:*.taz=01;31:*.lzh=01;31:*.lzma=01;31:*.tlz=01;31:*.txz=01;31:*.zip=01;31:*.z=01;31:*.Z=01;31:*.dz=01;31:*.gz=01;31:*.lz=01;31:*.xz=01;31:*.bz2=01;31:*.tbz=01;31:*.tbz2=01;31:*.bz=01;31:*.tz=01;31:*.deb=01;31:*.rpm=01;31:*.jar=01;31:*.rar=01;31:*.ace=01;31:*.zoo=01;31:*.cpio=01;31:*.7z=01;31:*.rz=01;31:*.jpg=01;35:*.jpeg=01;35:*.gif=01;35:*.bmp=01;35:*.pbm=01;35:*.pgm=01;35:*.ppm=01;35:*.tga=01;35:*.xbm=01;35:*.xpm=01;35:*.tif=01;35:*.tiff=01;35:*.png=01;35:*.svg=01;35:*.svgz=01;35:*.mng=01;35:*.pcx=01;35:*.mov=01;35:*.mpg=01;35:*.mpeg=01;35:*.m2v=01;35:*.mkv=01;35:*.ogm=01;35:*.mp4=01;35:*.m4v=01;35:*.mp4v=01;35:*.vob=01;35:*.qt=01;35:*.nuv=01;35:*.wmv=01;35:*.asf=01;35:*.rm=01;35:*.rmvb=01;35:*.flc=01;35:*.avi=01;35:*.fli=01;35:*.flv=01;35:*.gl=01;35:*.dl=01;35:*.xcf=01;35:*.xwd=01;35:*.yuv=01;35:*.cgm=01;35:*.emf=01;35:*.axv=01;35:*.anx=01;35:*.ogv=01;35:*.ogx=01;35:*.aac=01;36:*.au=01;36:*.flac=01;36:*.mid=01;36:*.midi=01;36:*.mka=01;36:*.mp3=01;36:*.mpc=01;36:*.ogg=01;36:*.ra=01;36:*.wav=01;36:*.axa=01;36:*.oga=01;36:*.spx=01;36:*.xspf=01;36:',\n",
       "        'ENV': '/home/547/zxh547/.bashrc',\n",
       "        'CPATH': '/apps/udunits/2.1.24/include',\n",
       "        'GNOME_KEYRING_SOCKET': '/local/v10/zxh547/tmp/keyring-RLGMz4/socket',\n",
       "        'SSH_AUTH_SOCK': '/local/v10/zxh547/tmp/keyring-RLGMz4/socket.ssh',\n",
       "        'UDUNITS_ROOT': '/apps/udunits/2.1.24',\n",
       "        'SESSION_MANAGER': 'local/unix:@/tmp/.ICE-unix/11846,unix/unix:/tmp/.ICE-unix/11846',\n",
       "        'GIO_LAUNCHED_DESKTOP_FILE': '/usr/share/applications/gnome-terminal.desktop',\n",
       "        'UDUNITS_VERSION': '2.1.24',\n",
       "        'MODULE_VERSION': '3.2.10',\n",
       "        'PATH': '/g/data/v10/public/modules/dea-env/20190709/bin:/home/547/zxh547/.digitalearthau/dea-env/20190709/local/bin:/g/data/v10/public/modules/dea/20190805/bin:/g/data/v10/public/modules/dea-env/20190709/bin:/apps/udunits/2.1.24/bin:/usr/local/bin:/opt/bin:/bin:/usr/bin:/usr/X11R6/bin:/opt/pbs/default/bin:/opt/puppetlabs/bin',\n",
       "        'MAIL': '/var/spool/mail/zxh547',\n",
       "        'LD_RUN_PATH': '/apps/udunits/2.1.24/lib',\n",
       "        'C_INCLUDE_PATH': '/apps/udunits/2.1.24/include',\n",
       "        'INPUTRC': '/etc/inputrc',\n",
       "        'PWD': '/home/547/zxh547/dea-notebooks',\n",
       "        'PYTHONFAULTHANDLER': '1',\n",
       "        '_LMFILES_': '/opt/Modules/modulefiles/pbs:/apps/Modules/modulefiles/udunits/2.1.24:/g/data/v10/public/modules/modulefiles/dea-env/20190709:/g/data/v10/public/modules/modulefiles/dea/20190805',\n",
       "        'TCLLIBPATH': '/apps/modext/default/lib/tcl',\n",
       "        'LANG': 'C.UTF-8',\n",
       "        'MODULEPATH': '/g/data/v10/public/modules/modulefiles:/apps/Modules/cloud/all:/apps/.mf:/opt/Modules/modulefiles:/apps/Modules/modulefiles',\n",
       "        'LOADEDMODULES': 'pbs:udunits/2.1.24:dea-env/20190709:dea/20190805',\n",
       "        'GDAL_DATA': '/g/data/v10/public/modules/dea-env/20190709/share/gdal',\n",
       "        'SSH_ASKPASS': '/usr/libexec/openssh/gnome-ssh-askpass',\n",
       "        'HOME': '/home/547/zxh547',\n",
       "        'SHLVL': '2',\n",
       "        'GNOME_DESKTOP_SESSION_ID': 'this-is-deprecated',\n",
       "        'BASH_ENV': '/home/547/zxh547/.bashrc',\n",
       "        'PYTHONPATH': '/home/547/zxh547/.digitalearthau/dea-env/20190709/local/lib/python3.6/site-packages:/g/data/v10/public/modules/dea/20190805/lib/python3.6/site-packages/:/g/data/v10/public/modules/dea-env/20190709/share/qgis/python:/g/data/v10/public/modules/dea-env/20190709/lib/python3.7/site-packages/',\n",
       "        'MACHTYPE': 'x86_64-redhat-linux-gnu',\n",
       "        'LOGNAME': 'zxh547',\n",
       "        'QTLIB': '/usr/lib64/qt-3.3/lib',\n",
       "        'CVS_RSH': 'ssh',\n",
       "        'DBUS_SESSION_BUS_ADDRESS': 'unix:abstract=/tmp/dbus-GYmNSf1HfZ,guid=b6f2b045d5988a3d9f4dd90800712cba',\n",
       "        'MODULESHOME': '/opt/Modules/3.2.10',\n",
       "        'PKG_CONFIG_PATH': '/apps/udunits/2.1.24/lib/pkgconfig',\n",
       "        'LESSOPEN': '||/usr/bin/lesspipe.sh %s',\n",
       "        'UDUNITS_BASE': '/apps/udunits/2.1.24',\n",
       "        'DATACUBE_CONFIG_PATH': '/g/data/v10/public/modules/dea/20190805/datacube.conf',\n",
       "        'DISPLAY': ':3.0',\n",
       "        'G_BROKEN_FILENAMES': '1',\n",
       "        'COLORTERM': 'gnome-terminal',\n",
       "        'BASH_FUNC_module()': '() {  eval `/opt/Modules/$MODULE_VERSION/bin/modulecmd bash $*`\\n}',\n",
       "        '_': '/g/data/v10/public/modules/dea-env/20190709/bin/jupyter',\n",
       "        'GIT_PYTHON_REFRESH': 'quiet',\n",
       "        'JPY_PARENT_PID': '12371',\n",
       "        'CLICOLOR': '1',\n",
       "        'PAGER': 'cat',\n",
       "        'GIT_PAGER': 'cat',\n",
       "        'MPLBACKEND': 'module://ipykernel.pylab.backend_inline'}"
      ]
     },
     "execution_count": 204,
     "metadata": {},
     "output_type": "execute_result"
    }
   ],
   "source": [
    "import os\n",
    "os.environ"
   ]
  },
  {
   "cell_type": "code",
   "execution_count": null,
   "metadata": {},
   "outputs": [],
   "source": []
  }
 ],
 "metadata": {
  "kernelspec": {
   "display_name": "Python 3",
   "language": "python",
   "name": "python3"
  },
  "language_info": {
   "codemirror_mode": {
    "name": "ipython",
    "version": 3
   },
   "file_extension": ".py",
   "mimetype": "text/x-python",
   "name": "python",
   "nbconvert_exporter": "python",
   "pygments_lexer": "ipython3",
   "version": "3.6.7"
  }
 },
 "nbformat": 4,
 "nbformat_minor": 2
}
