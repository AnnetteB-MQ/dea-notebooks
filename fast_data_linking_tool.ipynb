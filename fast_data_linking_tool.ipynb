{
 "cells": [
  {
   "cell_type": "markdown",
   "metadata": {},
   "source": [
    "# This is a data linking tool that is quicker to run than the marked down version. (If you want the marked down version it's on my github branch). It links stream gauge data to satellite data and generates images of water bodies at highflow to low flow."
   ]
  },
  {
   "cell_type": "code",
   "execution_count": 1,
   "metadata": {},
   "outputs": [],
   "source": [
    "#Just run this box once with 'Shift'+'Enter'. It loads all the things you need to work with the data. \n",
    "import sys\n",
    "import os\n",
    "import xarray as xr\n",
    "import numpy as np\n",
    "import pandas as pd\n",
    "import matplotlib.gridspec as gridspec\n",
    "import matplotlib.pyplot as plt\n",
    "import datacube\n",
    "from datacube.utils import geometry \n",
    "from datacube.utils.geometry import CRS\n",
    "from datacube.storage import masking\n",
    "from datacube.helpers import ga_pq_fuser, write_geotiff\n",
    "from digitalearthau.utils import wofs_fuser\n",
    "sys.path.append('../10_Scripts/')\n",
    "import DEAPlotting, DEADataHandling\n",
    "import warnings\n",
    "warnings.filterwarnings('ignore', module='datacube')\n",
    "%load_ext autoreload\n",
    "%autoreload 2"
   ]
  },
  {
   "cell_type": "markdown",
   "metadata": {},
   "source": [
    "Barmah choke: \n",
    "lat = -35.92\n",
    "lon = 145.00\n",
    "buffer = 10000\n",
    "\n",
    "Niemur:\n",
    "lat = -35.277\n",
    "lon = 144.3477\n",
    "buffer = 5500\n",
    "\n",
    "Macquarie Marshes:\n",
    "lat = -30.8072\n",
    "lon = 147.5149\n",
    "buffer = 10000\n",
    "\n",
    "Gunbower:\n",
    "lat = -35.942574\n",
    "lon = 144.46466\n",
    "buffer = 10000\n",
    "\n",
    "Walkool:\n",
    "lat = -35.1356\n",
    "lon = 143.6823\n",
    "buffer = 10000\n",
    "\n",
    "Murray River at Boundary Bend:\n",
    "lat = -34.71966901\n",
    "lon = 143.1698626\n",
    "buffer = 10000\n",
    "\n",
    "Wee Waa:\n",
    "lat = -30.2033\n",
    "lon = 149.4361\n",
    "buffer = 10000\n",
    "\n",
    "Yarrongbilly:\n",
    "lat = -35.79\n",
    "lon = 148.40138889\n",
    "buffer = 6000\n",
    "\n",
    "18 Mile Swamp:\n",
    "lat = -27.49561971\n",
    "lon = 153.50836409\n",
    "buffer = 6000\n",
    "\n",
    "Blue Lake QLD:\n",
    "lat = -27.535\n",
    "lon = 153.48916667\n",
    "buffer = 6000"
   ]
  },
  {
   "cell_type": "code",
   "execution_count": 3,
   "metadata": {},
   "outputs": [
    {
     "data": {
      "text/plain": [
       "<matplotlib.axes._subplots.AxesSubplot at 0x7f174a9df550>"
      ]
     },
     "execution_count": 3,
     "metadata": {},
     "output_type": "execute_result"
    },
    {
     "data": {
      "image/png": "[encoded data removed]",
      "text/plain": [
       "<Figure size 720x504 with 1 Axes>"
      ]
     },
     "metadata": {
      "needs_background": "light"
     },
     "output_type": "display_data"
    }
   ],
   "source": [
    "#What are the latitudes and longtitudes of the area you want to make a picture of?\n",
    "lat = -27.535\n",
    "lon = 153.48916667\n",
    "buffer = 2000\n",
    "#Where abouts is your csv file located on your computer?\n",
    "csv_file_location = '/g/data/r78/kd6095/dea-notebooks/Straddie/Blue_Lake_Discharge.csv'\n",
    "\n",
    "#Loading and organising guage data\n",
    "gauge_data = pd.read_csv(csv_file_location,\n",
    "                error_bad_lines = False, skiprows=9, escapechar='#', \n",
    "                         parse_dates=['Timestamp'], #Tells it this column is date format\n",
    "                         index_col=('Timestamp'),\n",
    "                        date_parser=lambda x: pd.to_datetime(x.rsplit('+', 1)[0]))\n",
    "gauge_data = gauge_data.dropna()\n",
    "gauge_data = gauge_data.sort_values('Value')\n",
    "gauge_data['rownumber'] = np.arange(len(gauge_data))\n",
    "gauge_data['Exceedence'] = (1-(gauge_data.rownumber/len(gauge_data)))*100\n",
    "gauge_data = gauge_data.drop(columns='Interpolation Type')\n",
    "gauge_data = gauge_data.drop(columns='Quality Code')\n",
    "\n",
    "gauge_data.plot(x='Exceedence', y='Value', figsize=(10,7))"
   ]
  },
  {
   "cell_type": "code",
   "execution_count": 4,
   "metadata": {},
   "outputs": [
    {
     "data": {
      "text/plain": [
       "<xarray.DataArray 'time' (time: 270)>\n",
       "array(['2002-01-31T23:30:55.500000000', '2002-02-16T23:30:58.500000000',\n",
       "       '2002-07-10T23:30:30.500000000', ..., '2019-07-25T23:30:09.500000000',\n",
       "       '2019-08-02T23:42:11.000000000', '2019-08-10T23:29:30.500000000'],\n",
       "      dtype='datetime64[ns]')\n",
       "Coordinates:\n",
       "    Timestamp  (time) datetime64[ns] 2002-01-31T23:30:55.500000 ... 2019-08-10T23:29:30.500000\n",
       "  * time       (time) datetime64[ns] 2002-01-31T23:30:55.500000 ... 2019-08-10T23:29:30.500000\n",
       "Attributes:\n",
       "    units:    seconds since 1970-01-01 00:00:00"
      ]
     },
     "execution_count": 4,
     "metadata": {},
     "output_type": "execute_result"
    }
   ],
   "source": [
    "#What part of the Flow Duration Curve do you want to look at?\n",
    "yaxis_lower_parameter = 0\n",
    "yaxis_higher_parameter = 0.11\n",
    "\n",
    "gauge_data_xr = gauge_data.to_xarray()\n",
    "\n",
    "#Dask loading wofs_albers data\n",
    "x, y = geometry.point(lon, lat, CRS('WGS84')).to_crs(CRS('EPSG:3577')).points[0]\n",
    "query = {'x': (x - buffer, x + buffer),\n",
    "         'y': (y - buffer, y + buffer),    \n",
    "         'time': ('1988-01-01', '2019-08-22'), \n",
    "         'crs': 'EPSG:3577'} \n",
    "dc = datacube.Datacube(app='dc-WOfS')\n",
    "wofs_albers= dc.load(product = 'wofs_albers', dask_chunks = {}, group_by='solar_day', **query)\n",
    "\n",
    "merged_data = gauge_data_xr.interp(Timestamp=wofs_albers.time)\n",
    "\n",
    "specified_level = merged_data.where((merged_data.Value > yaxis_lower_parameter) & \n",
    "                                    (merged_data.Value < yaxis_higher_parameter), drop=True)\n",
    "date_list = specified_level.time.values\n",
    "\n",
    "specified_level.time"
   ]
  },
  {
   "cell_type": "code",
   "execution_count": 5,
   "metadata": {},
   "outputs": [
    {
     "data": {
      "text/plain": [
       "<matplotlib.patches.Polygon at 0x7f1731a179b0>"
      ]
     },
     "execution_count": 5,
     "metadata": {},
     "output_type": "execute_result"
    },
    {
     "data": {
      "image/png": "[encoded data removed]",
      "text/plain": [
       "<Figure size 540x360 with 2 Axes>"
      ]
     },
     "metadata": {
      "needs_background": "light"
     },
     "output_type": "display_data"
    },
    {
     "data": {
      "image/png": "[encoded data removed]",
      "text/plain": [
       "<Figure size 432x288 with 1 Axes>"
      ]
     },
     "metadata": {
      "needs_background": "light"
     },
     "output_type": "display_data"
    }
   ],
   "source": [
    "x, y = geometry.point(lon, lat, CRS('WGS84')).to_crs(CRS('EPSG:3577')).points[0]\n",
    "query = {'x': (x - buffer, x + buffer),\n",
    "         'y': (y - buffer, y + buffer), \n",
    "         'crs': 'EPSG:3577'} \n",
    "\n",
    "#loop selecting data based on FDC parameters\n",
    "xr_list = []\n",
    "for date in date_list:\n",
    "    date = str(date)  \n",
    "    wofs_albers= dc.load(product = 'wofs_albers', time=date,  **query)\n",
    "    xr_list.append(wofs_albers)\n",
    "specified_passes = xr.concat(xr_list, dim='time')\n",
    "\n",
    "#Cloud Mask\n",
    "ClearTimesteps = []\n",
    "for ix, timestep in enumerate(specified_passes.time):\n",
    "    SingleTime = specified_passes.water.isel(time=ix)\n",
    "    IsItCloudy = masking.make_mask(SingleTime, cloud=True)\n",
    "    CountClouds = IsItCloudy.sum()   \n",
    "    PercentCloudy = CountClouds.values.item()/(len(specified_passes.x)*len(specified_passes*y))*100\n",
    "    IsItClearEnough = PercentCloudy <= 50  \n",
    "    if IsItClearEnough:\n",
    "        ClearTimesteps.append(ix)     \n",
    "clear_specified_passes = specified_passes.water.isel(time = ClearTimesteps)\n",
    "\n",
    "wet = (clear_specified_passes == 128).sum(dim='time')\n",
    "dry = (clear_specified_passes == 0).sum(dim='time')\n",
    "clear = wet + dry\n",
    "frequency = wet / clear\n",
    "frequency= frequency.fillna(0) #this is to get rid of the NAs that occur due to mountain shadows\n",
    "frequency = frequency.where(frequency!=0) #This is to tell it to make areas that were dry 100% of the time white\n",
    "\n",
    "frequency.plot(size=5)\n",
    "gauge_data.plot(x='Exceedence', y='Value', figsize=(6,4)) \n",
    "plt.axhspan(yaxis_lower_parameter, yaxis_higher_parameter, color='red', alpha=0.2)"
   ]
  },
  {
   "cell_type": "code",
   "execution_count": 6,
   "metadata": {},
   "outputs": [
    {
     "data": {
      "text/plain": [
       "<xarray.DataArray 'time' (time: 53)>\n",
       "array(['2003-04-08T23:30:52.500000000', '2003-05-10T23:30:51.500000000',\n",
       "       '2003-07-29T23:30:34.500000000', '2003-09-23T23:19:44.500000000',\n",
       "       '2003-11-26T23:20:35.500000000', '2003-12-20T23:30:57.500000000',\n",
       "       '2004-02-06T23:31:13.500000000', '2004-06-21T23:23:45.500000000',\n",
       "       '2004-06-29T23:31:07.500000000', '2004-07-07T23:24:14.000000000',\n",
       "       '2004-08-08T23:24:56.000000000', '2004-08-24T23:25:23.000000000',\n",
       "       '2004-09-09T23:25:48.500000000', '2004-09-17T23:30:44.500000000',\n",
       "       '2004-10-03T23:30:40.500000000', '2004-10-27T23:26:52.500000000',\n",
       "       '2004-11-12T23:27:08.500000000', '2004-11-28T23:27:28.000000000',\n",
       "       '2005-05-23T23:29:29.500000000', '2005-05-31T23:31:40.000000000',\n",
       "       '2005-07-26T23:29:59.500000000', '2005-08-19T23:31:24.500000000',\n",
       "       '2005-09-12T23:30:15.000000000', '2006-05-10T23:34:10.500000000',\n",
       "       '2006-06-03T23:32:09.500000000', '2006-08-22T23:31:45.500000000',\n",
       "       '2006-09-07T23:31:41.500000000', '2007-01-13T23:32:19.500000000',\n",
       "       '2007-02-06T23:37:05.000000000', '2007-04-11T23:36:56.000000000',\n",
       "       '2007-06-30T23:35:52.500000000', '2007-07-16T23:35:45.500000000',\n",
       "       '2007-08-01T23:35:37.500000000', '2007-08-09T23:32:11.000000000',\n",
       "       '2007-09-02T23:35:18.500000000', '2007-10-04T23:35:01.000000000',\n",
       "       '2008-08-11T23:31:17.500000000', '2008-09-20T23:26:59.500000000',\n",
       "       '2008-09-28T23:30:53.000000000', '2008-10-06T23:26:28.500000000',\n",
       "       '2008-11-23T23:25:41.000000000', '2008-12-17T23:31:37.500000000',\n",
       "       '2009-09-23T23:31:58.500000000', '2009-10-01T23:32:13.500000000',\n",
       "       '2010-01-13T23:32:54.500000000', '2010-09-10T23:32:20.000000000',\n",
       "       '2017-09-29T23:42:20.500000000', '2018-04-09T23:41:29.000000000',\n",
       "       '2018-07-30T23:41:24.000000000', '2018-08-07T23:40:49.500000000',\n",
       "       '2018-08-15T23:41:33.000000000', '2018-11-03T23:42:02.000000000',\n",
       "       '2019-08-10T23:29:30.500000000'], dtype='datetime64[ns]')\n",
       "Coordinates:\n",
       "  * time     (time) datetime64[ns] 2003-04-08T23:30:52.500000 ... 2019-08-10T23:29:30.500000\n",
       "Attributes:\n",
       "    units:    seconds since 1970-01-01 00:00:00"
      ]
     },
     "execution_count": 6,
     "metadata": {},
     "output_type": "execute_result"
    }
   ],
   "source": [
    "clear_specified_passes.time"
   ]
  },
  {
   "cell_type": "code",
   "execution_count": null,
   "metadata": {},
   "outputs": [],
   "source": []
  }
 ],
 "metadata": {
  "kernelspec": {
   "display_name": "Python 3",
   "language": "python",
   "name": "python3"
  },
  "language_info": {
   "codemirror_mode": {
    "name": "ipython",
    "version": 3
   },
   "file_extension": ".py",
   "mimetype": "text/x-python",
   "name": "python",
   "nbconvert_exporter": "python",
   "pygments_lexer": "ipython3",
   "version": "3.6.7"
  }
 },
 "nbformat": 4,
 "nbformat_minor": 2
}
