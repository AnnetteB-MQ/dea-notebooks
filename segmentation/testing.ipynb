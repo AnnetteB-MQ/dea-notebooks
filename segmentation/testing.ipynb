{
 "cells": [
  {
   "cell_type": "markdown",
   "metadata": {},
   "source": [
    "# Tiled, Parallel Image Segmentation \n",
    "\n",
    "Image segmentation at large scales can be both time and memory intensive. The function 'tiledSegThreaded.py' (https://github.com/GeoscienceAustralia/dea-notebooks/blob/chad/segmentation/src/tiledSegThreaded.py) builds upon the image segmentation algorithm developed by Shepherd et al. (2019) (implemented in the package RSGISlib) to run image segmentation across multiple cpus. A full description of the approach can be found in _Clewey et al. (2014) A Python-Based Open Source System for Geographic Object-Based Image Analysis (GEOBIA) Utilizing Raster Attribute Tables_. This script requires the installation of 'pathos.multiprocessing', a fork of python's Multiprocessing package that using Dill instead of Pickle for serializing.  \n",
    "\n",
    "    pip install --user pathos\n",
    "\n",
    "There are two major caveats to the use of this script.\n",
    "1. As the script uses the Multiprocessing library, it cannot be run across multiple nodes. If running on Raijin, then running on queues that have a large number of cpus per node would be best.\n",
    "2. The tiling approach is based on the bounding coordinates of the geotiff. If a geotiff is irregularly shaped such that a tile(s) contains _none_ of the input geotiff, then the segmentation will fail. If this occurs, it is important to check the ..._S1Tiles.shp_ file output during stage 1 of the algorithm. Overlay this file on top of your input geotiff to check if there are empty tiles. At the moment, the only solution is to change the extent of the geotiff to be more regularly shaped.  The 'validDataTileFraction' variable will handle tiles that contain a small fraction of the input geotiff, tiles containing less than the specified fraction are merged with a neighboring tile.  The image below shows an example of this:\n",
    "\n",
    "      ![Tiling Approach](tilingApproach.PNG)\n",
    "\n",
    "THINGS TO DO (25/6/2019):\n",
    "- Only the first stage is multiprocessed. Need to multiprocess 'performStage2TilesSegmentation' as its currently a bottle-neck\n",
    "\n",
    "\n",
    "This script was written by Chad Burton at Geoscience Australia, with advice from Pete Bunting, a co-author of RSGISlib.\n"
   ]
  },
  {
   "cell_type": "markdown",
   "metadata": {},
   "source": [
    "### User Inputs"
   ]
  },
  {
   "cell_type": "code",
   "execution_count": 1,
   "metadata": {},
   "outputs": [],
   "source": [
    "#Location string of the geotiff you wish to segment\n",
    "inputTiff = \"data/nmdb_Summer2017_18_NDVI_max.tif\"\n",
    "\n",
    "#Location string of the .KEA file the geotiff will be converted too\n",
    "InputKEA = \"data/nmdb_Summer2017_18_NDVI_max.kea\"\n",
    "\n",
    "#Location string of clumps mean .KEA file that will be output \n",
    "ClumpsFile = \"results/nmdb_Summer2017_18_NDVI_max_OutClumps.kea\"\n",
    "\n",
    "#Location string of the segments zonal means of input Tiff \n",
    "meanImageTiff = \"results/nmdb_Summer2017_18_NDVI_max_ClumpMean.tif\"\n",
    "\n",
    "#Location to a folder to store temporary files during segmentation\n",
    "temp = 'tmps/'\n",
    "\n",
    "#How many cpus will this run on?\n",
    "ncpus=6\n",
    "\n",
    "# what fraction of a tile should contain valid data? Below this threshold\n",
    "# a tile will be merged with its neighbour. \n",
    "validDataTileFraction = 0.3\n",
    "\n",
    "#enter the tile size parameters (in number of pixels)\n",
    "width = 8000\n",
    "height = 8000"
   ]
  },
  {
   "cell_type": "markdown",
   "metadata": {},
   "source": [
    "### Run the cells below to conduct the image segmentation"
   ]
  },
  {
   "cell_type": "code",
   "execution_count": 2,
   "metadata": {},
   "outputs": [],
   "source": [
    "from osgeo import gdal\n",
    "import os\n",
    "from rsgislib.segmentation import meanImage\n",
    "import rsgislib\n",
    "from pathos.multiprocessing import ProcessingPool as Pool\n",
    "import dill\n",
    "import xarray as xr\n",
    "import numpy as np\n",
    "#import custom functions\n",
    "import sys\n",
    "sys.path.append('src')\n",
    "import tiledSegThreaded\n",
    "from transform_tuple import transform_tuple\n",
    "from SpatialTools import array_to_geotiff"
   ]
  },
  {
   "cell_type": "code",
   "execution_count": null,
   "metadata": {},
   "outputs": [],
   "source": [
    "# Change the tiff to a kea file (only run this once!)\n",
    "# gdal.Translate(InputKEA, inputTiff, format='KEA', outputSRS='EPSG:3577')"
   ]
  },
  {
   "cell_type": "code",
   "execution_count": null,
   "metadata": {},
   "outputs": [
    {
     "name": "stdout",
     "output_type": "stream",
     "text": [
      "WARNING: tmpdir directory does not exist so creating it...\n",
      "Performing Stage 1 seg...multithreaded with 6 cpus\n",
      "tmps/s1tilessegs_d9af85/nmdb_Summer2017_18_NDVI_max_d9af85_S1TileC11_segs.kea\n",
      "tmps/s1tilessegs_d9af85/nmdb_Summer2017_18_NDVI_max_d9af85_S1TileC3_segs.kea\n",
      "tmps/s1tilessegs_d9af85/nmdb_Summer2017_18_NDVI_max_d9af85_S1TileC14_segs.kea\n",
      "tmps/s1tilessegs_d9af85/nmdb_Summer2017_18_NDVI_max_d9af85_S1TileC17_segs.kea\n",
      "tmps/s1tilessegs_d9af85/nmdb_Summer2017_18_NDVI_max_d9af85_S1TileC20_segs.kea\n",
      "tmps/s1tilessegs_d9af85/nmdb_Summer2017_18_NDVI_max_d9af85_S1TileC19_segs.kea\n",
      "Stretch Input Image\n",
      "Stretch Input Image\n",
      "Stretch Input Image\n",
      "Stretch Input Image\n",
      "Stretch Input Image\n",
      "Stretch Input Image\n",
      "Add 1 to stretched file to ensure there are no all zeros (i.e., no data) regions created.\n",
      "Add 1 to stretched file to ensure there are no all zeros (i.e., no data) regions created.\n",
      "Add 1 to stretched file to ensure there are no all zeros (i.e., no data) regions created.\n",
      "Add 1 to stretched file to ensure there are no all zeros (i.e., no data) regions created.\n",
      "Add 1 to stretched file to ensure there are no all zeros (i.e., no data) regions created.\n",
      "Create Input Image Mask.\n",
      "Add 1 to stretched file to ensure there are no all zeros (i.e., no data) regions created.\n",
      "Create Input Image Mask.\n",
      "Create Input Image Mask.\n",
      "Mask stretched Image.\n",
      "Create Input Image Mask.\n",
      "Create Input Image Mask.\n",
      "Mask stretched Image.\n",
      "Create Input Image Mask.\n",
      "Deleting file: tmps/S1TileC19_segstemp/nmdb_Summer2017_18_NDVI_max_d9af85_S1TileC19_stchdonly.kea\n",
      "Deleting file: tmps/S1TileC19_segstemp/nmdb_Summer2017_18_NDVI_max_d9af85_S1TileC19_stchdonlyOff.kea\n",
      "Deleting file: tmps/S1TileC19_segstemp/nmdb_Summer2017_18_NDVI_max_d9af85_S1TileC19_stchdmaskonly.kea\n",
      "Performing KMeans.\n",
      "Mask stretched Image.\n",
      "Deleting file: tmps/S1TileC3_segstemp/nmdb_Summer2017_18_NDVI_max_d9af85_S1TileC3_stchdonly.kea\n",
      "Deleting file: tmps/S1TileC3_segstemp/nmdb_Summer2017_18_NDVI_max_d9af85_S1TileC3_stchdonlyOff.kea\n",
      "Deleting file: tmps/S1TileC3_segstemp/nmdb_Summer2017_18_NDVI_max_d9af85_S1TileC3_stchdmaskonly.kea\n",
      "Performing KMeans.\n",
      "Mask stretched Image.\n",
      "Mask stretched Image.\n",
      "Apply KMeans to image.\n",
      "Apply KMeans to image.\n",
      "Deleting file: tmps/S1TileC11_segstemp/nmdb_Summer2017_18_NDVI_max_d9af85_S1TileC11_stchdonly.kea\n",
      "Deleting file: tmps/S1TileC11_segstemp/nmdb_Summer2017_18_NDVI_max_d9af85_S1TileC11_stchdonlyOff.kea\n",
      "Deleting file: tmps/S1TileC11_segstemp/nmdb_Summer2017_18_NDVI_max_d9af85_S1TileC11_stchdmaskonly.kea\n",
      "Performing KMeans.\n",
      "Deleting file: tmps/S1TileC20_segstemp/nmdb_Summer2017_18_NDVI_max_d9af85_S1TileC20_stchdonly.kea\n",
      "Deleting file: tmps/S1TileC20_segstemp/nmdb_Summer2017_18_NDVI_max_d9af85_S1TileC20_stchdonlyOff.kea\n",
      "Deleting file: tmps/S1TileC20_segstemp/nmdb_Summer2017_18_NDVI_max_d9af85_S1TileC20_stchdmaskonly.kea\n",
      "Performing KMeans.\n",
      "Deleting file: tmps/S1TileC17_segstemp/nmdb_Summer2017_18_NDVI_max_d9af85_S1TileC17_stchdonly.kea\n",
      "Deleting file: tmps/S1TileC17_segstemp/nmdb_Summer2017_18_NDVI_max_d9af85_S1TileC17_stchdonlyOff.kea\n",
      "Deleting file: tmps/S1TileC17_segstemp/nmdb_Summer2017_18_NDVI_max_d9af85_S1TileC17_stchdmaskonly.kea\n",
      "Performing KMeans.\n",
      "Mask stretched Image.\n"
     ]
    }
   ],
   "source": [
    "# MULITPLE PROCESSORS VERSION\n",
    "import time\n",
    "start = time.time()\n",
    "tiledSegThreaded.performTiledSegmentation(InputKEA, ClumpsFile, tmpDIR=temp, numClusters=20, validDataThreshold=validDataTileFraction,\n",
    "                                    tileWidth=width, tileHeight=height, minPxls=100, ncpus=ncpus)\n",
    "end = time.time()\n",
    "print(end - start)"
   ]
  },
  {
   "cell_type": "code",
   "execution_count": null,
   "metadata": {},
   "outputs": [],
   "source": [
    "# Attribute segments with zonal mean of input image\n",
    "meanImage(inputTiff, ClumpsFile, meanImageTiff, \"GTIFF\",rsgislib.TYPE_32FLOAT)"
   ]
  },
  {
   "cell_type": "code",
   "execution_count": null,
   "metadata": {},
   "outputs": [],
   "source": [
    "#convert segments result into geotiff (gdal.Translate is failing for some reason?)\n",
    "a = xr.open_rasterio(ClumpsFile).squeeze()\n",
    "transform, projection = transform_tuple(a, (a.x, a.y), epsg=3577)\n",
    "width,height = a.shape\n",
    "array_to_geotiff(ClumpsFile[:-4]+\".tif\",\n",
    "      a.values, geo_transform = transform, \n",
    "      projection = projection, \n",
    "      nodata_val=-999)"
   ]
  },
  {
   "cell_type": "code",
   "execution_count": null,
   "metadata": {},
   "outputs": [],
   "source": []
  }
 ],
 "metadata": {
  "kernelspec": {
   "display_name": "Python 3",
   "language": "python",
   "name": "python3"
  },
  "language_info": {
   "codemirror_mode": {
    "name": "ipython",
    "version": 3
   },
   "file_extension": ".py",
   "mimetype": "text/x-python",
   "name": "python",
   "nbconvert_exporter": "python",
   "pygments_lexer": "ipython3",
   "version": "3.6.7"
  }
 },
 "nbformat": 4,
 "nbformat_minor": 2
}
