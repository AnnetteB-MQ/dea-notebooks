{
 "cells": [
  {
   "cell_type": "markdown",
   "metadata": {},
   "source": [
    "# Multithreaded, Tiled Image Segmentation \n",
    "\n",
    "Image segmentation at large scales can be both time and memory intensive. The function 'tiledSegThreaded.py' (https://github.com/GeoscienceAustralia/dea-notebooks/blob/chad/segmentation/src/tiledSegThreaded.py) builds upon the image segmentation algorithm developed by Shepherd et al. (2019) (implemented in the package RSGISlib) to run image segmentation across multiple cpus. A full description of the approach can be found _Clewey et al. (2014) A Python-Based Open Source System for Geographic Object-Based Image Analysis (GEOBIA) Utilizing Raster Attribute Tables_. This script requires the installation of 'pathos.multiprocessing', a fork of python's Multiprocessing package that using Dill instead of Pickle for serializing.  \n",
    "\n",
    "    pip install --user pathos\n",
    "\n",
    "There are two major caveats to the use of this script.\n",
    "1. As the script uses the Multiprocessing library, it cannot be run across multiple nodes.\n",
    "2. The tiling approach is based on the bounding coordinates of the geotiff. If a geotiff is irregularly shaped such that a tile(s) contains none of the input geotiff, then the segmentation will fail. This will result in the script failing during the second stage of the algorithm.  If this occurs, it is important to check the ..._S1Tiles.shp_ file output during stage 1 of the algorithm. If you overlay this file on top of your input geotiff, you can check if there are tiles that don't contain any of the geotiff. At the moment, the only solution is to change the extent of the geotiff to be more regularly shaped.  \n",
    "\n",
    "\n",
    "THINGS TO DO (17/6/2019):\n",
    "- To run this at continental scale the code will need to be adjusted so that the input tiles are the Landsat Albers tiles. Might be best to seperate that into a different python file\n",
    "- Is it possible to multithread 'performStage2TilesSegmentation'? Defintely a bottle-neck so worth attempting\n"
   ]
  },
  {
   "cell_type": "markdown",
   "metadata": {},
   "source": [
    "### User Inputs"
   ]
  },
  {
   "cell_type": "code",
   "execution_count": null,
   "metadata": {},
   "outputs": [],
   "source": [
    "#Location string of the geotiff you wish to segment\n",
    "InputNDVIStats = \"data/nmdb_Summer2017_18_NDVI_max.tif\"\n",
    "\n",
    "#Location string of the .KEA file the geotiff will be converted too\n",
    "KEAFile = \"data/nmdb_Summer2017_18_NDVI_max.kea\"\n",
    "\n",
    "#Location string of clumps mean .KEA file that will be output \n",
    "meanImage = \"data/nmdb_Summer2017_18_ClumpMean.kea\"\n",
    "\n",
    "#Location to a folder to store temporary files during segmentation\n",
    "temp = 'tmps/'\n",
    "\n",
    "#How many cpus will this run on?\n",
    "ncpus=6\n",
    "\n",
    "# what fraction of a tile should contain valid data? Below this threshold\n",
    "# a tile will be merged with its neighbour. \n",
    "validDataTileFraction = 0.4\n",
    "\n",
    "#enter the tile size parameters (in number of pixels)\n",
    "width = 8000\n",
    "height = 8000"
   ]
  },
  {
   "cell_type": "markdown",
   "metadata": {},
   "source": [
    "### Run the cells below to conduct the image segmentation"
   ]
  },
  {
   "cell_type": "code",
   "execution_count": null,
   "metadata": {},
   "outputs": [],
   "source": [
    "from osgeo import gdal\n",
    "import os\n",
    "from rsgislib.segmentation import segutils\n",
    "from pathos.multiprocessing import ProcessingPool as Pool\n",
    "import dill\n",
    "#import custom functions\n",
    "import sys\n",
    "sys.path.append('src')\n",
    "import tiledSegThreaded"
   ]
  },
  {
   "cell_type": "code",
   "execution_count": null,
   "metadata": {},
   "outputs": [],
   "source": [
    "# Change the tiff to a kea file (only run this once!)\n",
    "gdal.Translate(KEAFile, InputNDVIStats, format='KEA', outputSRS='EPSG:3577')"
   ]
  },
  {
   "cell_type": "code",
   "execution_count": null,
   "metadata": {},
   "outputs": [],
   "source": [
    "# Run segmentation, without creation of clump means\n",
    "tiledSegThreaded.performTiledSegmentation(KEAFile, meanImage, tmpDIR=temp, numClusters=20, validDataThreshold=validDataTileFraction,\n",
    "                                    tileWidth=width, tileHeight=height, minPxls=100, ncpus=ncpus)"
   ]
  },
  {
   "cell_type": "code",
   "execution_count": null,
   "metadata": {},
   "outputs": [],
   "source": []
  },
  {
   "cell_type": "code",
   "execution_count": null,
   "metadata": {},
   "outputs": [],
   "source": []
  }
 ],
 "metadata": {
  "kernelspec": {
   "display_name": "Python 3",
   "language": "python",
   "name": "python3"
  },
  "language_info": {
   "codemirror_mode": {
    "name": "ipython",
    "version": 3
   },
   "file_extension": ".py",
   "mimetype": "text/x-python",
   "name": "python",
   "nbconvert_exporter": "python",
   "pygments_lexer": "ipython3",
   "version": "3.6.7"
  }
 },
 "nbformat": 4,
 "nbformat_minor": 2
}
