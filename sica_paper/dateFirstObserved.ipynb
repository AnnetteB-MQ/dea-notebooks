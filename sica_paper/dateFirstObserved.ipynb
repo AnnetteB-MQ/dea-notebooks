{
 "cells": [
  {
   "cell_type": "markdown",
   "metadata": {},
   "source": [
    "## Date First Observed"
   ]
  },
  {
   "cell_type": "code",
   "execution_count": null,
   "metadata": {},
   "outputs": [],
   "source": [
    "import sys\n",
    "import os\n",
    "import geopandas as gpd\n",
    "import pandas as pd\n",
    "import numpy as np\n",
    "import xarray as xr\n",
    "from rasterstats import zonal_stats\n",
    "from scipy.ndimage.morphology import binary_erosion\n",
    "from scipy.ndimage.morphology import binary_dilation\n",
    "from scipy import ndimage\n",
    "from scipy.stats import mode\n",
    "\n",
    "import sys\n",
    "sys.path.append('src')\n",
    "import DEAPlotting, SpatialTools"
   ]
  },
  {
   "cell_type": "markdown",
   "metadata": {},
   "source": [
    "### User Inputs"
   ]
  },
  {
   "cell_type": "code",
   "execution_count": 2,
   "metadata": {},
   "outputs": [],
   "source": [
    "firstyearshp = 'results/nmdb/nmdb_Summer1987_88/nmdb_Summer1987_88_Irrigated_OEHandLS_masked.shp'\n",
    "differenceFolder = 'results/nmdb_plots/shapes/difference_NMDB/'\n",
    "results = 'results/nmdb_plots/yearFirstObserved/'\n",
    "cumulative_all = \"results/nmdb_plots/shapes/interim_NMDB/NMDB_1987_2018.shp\""
   ]
  },
  {
   "cell_type": "markdown",
   "metadata": {},
   "source": [
    "### Part 1: Date First Observed\n",
    "This finds the date when the 'difference' polygon occured and assigns the date as an attribute. This approach is noisier as every commission error is preserved, but you get the highest fidelity of detail."
   ]
  },
  {
   "cell_type": "code",
   "execution_count": null,
   "metadata": {},
   "outputs": [],
   "source": [
    "firstyear = gpd.read_file(firstyearshp)\n",
    "firstyear['firstObser'] = 1987"
   ]
  },
  {
   "cell_type": "code",
   "execution_count": null,
   "metadata": {},
   "outputs": [],
   "source": [
    "#get list of NMDB difference files \n",
    "diff = []\n",
    "for file in os.listdir(differenceFolder):\n",
    "    if file.endswith(\".shp\"):\n",
    "        diff.append(os.path.join(differenceFolder, file))\n",
    "diff.sort()\n",
    "#create empty list for results\n",
    "diffwithDate = []\n",
    "#append the first year to the list\n",
    "diffwithDate.append(firstyear)\n",
    "#loop through the difference files and,\n",
    "#add a datefirstobserved column and append to lisy\n",
    "for file in diff:\n",
    "    gdf = gpd.read_file(file)\n",
    "    gdf['firstObser'] = int(file[47:51])\n",
    "    diffwithDate.append(gdf) \n",
    "#concatenate all polygons together\n",
    "x = pd.concat(diffwithDate, sort=True)\n",
    "#clean up dataframe\n",
    "x = x.reset_index()\n",
    "x = x.drop(['DN',  'index','area', 'year_range', 'catchment', 'area_diff'], axis=1)\n",
    "#export\n",
    "x.to_file(results + \"yearFirstObserved_prelim.shp\")"
   ]
  },
  {
   "cell_type": "markdown",
   "metadata": {},
   "source": [
    "### Part 2: Median (or Majority) Filter\n",
    "This uses the final cumulative irrigable area shapefile, and finds the Median date within each polygon and assigns it.  Cleaner to look at but you loose quite a bit of detail as the polygons are unions of whole farms/irrigation areas and only one (median) date is returned for the whole polygon"
   ]
  },
  {
   "cell_type": "code",
   "execution_count": null,
   "metadata": {},
   "outputs": [],
   "source": [
    "#grab any tiff to grab the dimensions \n",
    "tif = 'results/nmdb/nmdb_Summer1992_93/nmdb_Summer1992_93_multithreshold_65Thres.tif'\n",
    "a = xr.open_rasterio(tif).squeeze()\n",
    "transform, projection = SpatialTools.geotransform(a, (a.x, a.y), epsg=3577)\n",
    "width,height = a.shape\n",
    "\n",
    "#rasterize our shapefile and export as geotiff\n",
    "yfo_array = SpatialTools.rasterize_vector(results + \"yearFirstObserved_prelim.shp\",\n",
    "                                   height, width, transform, projection, field='firstObser',\n",
    "                                   raster_path=results +\"yearFirstObserved_prelim.tif\")"
   ]
  },
  {
   "cell_type": "code",
   "execution_count": null,
   "metadata": {},
   "outputs": [],
   "source": [
    "#import the final year of our cumulative union analysis, and explode\n",
    "#so we have individual polygons\n",
    "gdf = gpd.read_file(cumulative_all)\n",
    "gdf = gdf.explode()\n",
    "gdf = gdf.reset_index(drop=True)\n",
    "gdf = gdf.drop(['DN','area', 'year_range', 'catchment'], axis=1)\n",
    "gdf.to_file(results+'exploded_cumulativeAll.shp')"
   ]
  },
  {
   "cell_type": "code",
   "execution_count": 3,
   "metadata": {},
   "outputs": [],
   "source": [
    "#rasterize the exploded polygons\n",
    "tif = results +\"yearFirstObserved_prelim.tif\"\n",
    "a = xr.open_rasterio(tif).squeeze()\n",
    "transform, projection = SpatialTools.geotransform(a, (a.x, a.y), epsg=3577)\n",
    "width,height = a.shape\n",
    "\n",
    "#rasterize our shapefile and keep it as numpy array\n",
    "explodedGDF_raster = SpatialTools.rasterize_vector(results+'exploded_cumulativeAll.shp',\n",
    "                                   height, width, transform, projection)"
   ]
  },
  {
   "cell_type": "code",
   "execution_count": 4,
   "metadata": {},
   "outputs": [],
   "source": [
    "#erode, then dilate the numpy array to help seperate adjacent polygons\n",
    "eroded = binary_erosion(explodedGDF_raster, iterations=2)\n",
    "dilated = binary_dilation(eroded, iterations=1)\n",
    "#export\n",
    "SpatialTools.array_to_geotiff(results+'cumulativeAll_erodeDilate.tif',\n",
    "              dilated, geo_transform = transform, \n",
    "              projection = projection, \n",
    "              nodata_val=0)"
   ]
  },
  {
   "cell_type": "code",
   "execution_count": 5,
   "metadata": {},
   "outputs": [
    {
     "data": {
      "text/plain": [
       "0"
      ]
     },
     "execution_count": 5,
     "metadata": {},
     "output_type": "execute_result"
    }
   ],
   "source": [
    "#polygonize the raster\n",
    "os.system('gdal_polygonize.py ' + results+\"cumulativeAll_erodeDilate.tif\" + ' -f' + ' ' + '\"ESRI Shapefile\"' + ' ' + results+\"cumulativeAll_erodeDilate.shp\")"
   ]
  },
  {
   "cell_type": "code",
   "execution_count": 12,
   "metadata": {},
   "outputs": [
    {
     "name": "stderr",
     "output_type": "stream",
     "text": [
      "/g/data/v10/public/modules/dea-env/20190522/lib/python3.6/site-packages/rasterstats/io.py:300: UserWarning: Setting nodata to -999; specify nodata explicitly\n",
      "  warnings.warn(\"Setting nodata to -999; specify nodata explicitly\")\n",
      "/g/data/v10/public/modules/dea-env/20190522/lib/python3.6/site-packages/numpy/core/fromnumeric.py:734: UserWarning: Warning: 'partition' will ignore the 'mask' of the MaskedArray.\n",
      "  a.partition(kth, axis=axis, kind=kind, order=order)\n",
      "/g/data/v10/public/modules/dea-env/20190522/lib/python3.6/site-packages/ipykernel_launcher.py:22: UserWarning: Warning: converting a masked element to nan.\n"
     ]
    }
   ],
   "source": [
    "# examine each polygon and assign a datefirstobserved to the majority date inside the polygon  \n",
    "gdf_final = gpd.read_file(results+\"cumulativeAll_erodeDilate.shp\")\n",
    "\n",
    "def mymajority(x):\n",
    "    \"\"\"\n",
    "    A little function for the majority filter to\n",
    "    ignore zeros when deciding on the most common\n",
    "    yearfirstobserved. Passed to 'zonal_stats'\n",
    "    \"\"\"\n",
    "    try:\n",
    "        x = x[np.nonzero(x)]\n",
    "        (values,counts) = np.unique(x,return_counts=True)\n",
    "        ind=np.nanargmax(counts)\n",
    "        return float(values[ind])\n",
    "    except ValueError:\n",
    "        return -999\n",
    "\n",
    "def mymedian(x):\n",
    "    try:\n",
    "        x = x[np.nonzero(x)]\n",
    "        x = np.median(x)\n",
    "        return float(x)\n",
    "    except ValueError:\n",
    "        return -999\n",
    "\n",
    "# zonal stats\n",
    "gdf_final['firstObser'] = pd.DataFrame(zonal_stats(vectors=gdf_final['geometry'], \n",
    "                                        raster=results+\"yearFirstObserved_prelim.tif\",\n",
    "                                        add_stats={'mymedian':mymedian}))['mymedian']\n",
    "\n",
    "#clean and export\n",
    "gdf_final = gdf_final.drop('DN', axis=1)\n",
    "gdf_final.to_file(results + \"yearFirstObserved_filtered_cleaned_MEDIAN.shp\")"
   ]
  },
  {
   "cell_type": "code",
   "execution_count": 8,
   "metadata": {},
   "outputs": [
    {
     "name": "stderr",
     "output_type": "stream",
     "text": [
      "/g/data/v10/public/modules/dea-env/20190522/lib/python3.6/site-packages/matplotlib/colors.py:479: RuntimeWarning: invalid value encountered in less\n",
      "  xa[xa < 0] = -1\n"
     ]
    },
    {
     "data": {
      "text/plain": [
       "<matplotlib.axes._subplots.AxesSubplot at 0x7f8b39918198>"
      ]
     },
     "execution_count": 8,
     "metadata": {},
     "output_type": "execute_result"
    },
    {
     "data": {
      "image/png": "[encoded data removed]",
      "text/plain": [
       "<Figure size 864x864 with 1 Axes>"
      ]
     },
     "metadata": {
      "needs_background": "light"
     },
     "output_type": "display_data"
    }
   ],
   "source": [
    "gdf_final.plot(cmap='plasma', column='firstObser',figsize=(12,12))"
   ]
  },
  {
   "cell_type": "code",
   "execution_count": null,
   "metadata": {},
   "outputs": [],
   "source": []
  }
 ],
 "metadata": {
  "kernelspec": {
   "display_name": "Python 3",
   "language": "python",
   "name": "python3"
  },
  "language_info": {
   "codemirror_mode": {
    "name": "ipython",
    "version": 3
   },
   "file_extension": ".py",
   "mimetype": "text/x-python",
   "name": "python",
   "nbconvert_exporter": "python",
   "pygments_lexer": "ipython3",
   "version": "3.6.7"
  }
 },
 "nbformat": 4,
 "nbformat_minor": 2
}
