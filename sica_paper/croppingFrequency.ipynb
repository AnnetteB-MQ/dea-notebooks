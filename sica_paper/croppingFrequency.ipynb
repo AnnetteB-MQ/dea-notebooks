{
 "cells": [
  {
   "cell_type": "markdown",
   "metadata": {},
   "source": [
    "## Calculating the frequency of irrigated cropping as a proxy for intensity\n",
    "\n",
    "Script is divided into two sections:\n",
    "\n",
    "1. The first part creates a large rasterstack of all the irrigated area files and exports it as netcdf.\n",
    "2. The rasterstack is then loaded as an xarray object and per-pixel frequency is calculated.\n",
    "\n",
    "This script is for testing.  To run this at scale use croppingFrequency.py on hugemem\n",
    "\n",
    "A second part of this script creates a commission error mask using the results of the cropping frequency code"
   ]
  },
  {
   "cell_type": "code",
   "execution_count": null,
   "metadata": {},
   "outputs": [],
   "source": [
    "import sys\n",
    "import os\n",
    "import geopandas as gpd\n",
    "import pandas as pd\n",
    "import numpy as np\n",
    "import xarray as xr\n",
    "import matplotlib.pyplot as plt\n",
    "import sys\n",
    "# sys.path.append('src')\n",
    "# import DEAPlotting, SpatialTools"
   ]
  },
  {
   "cell_type": "markdown",
   "metadata": {},
   "source": [
    "### User Inputs"
   ]
  },
  {
   "cell_type": "code",
   "execution_count": null,
   "metadata": {},
   "outputs": [],
   "source": [
    "results = \"results/nmdb_plots/frequency/\""
   ]
  },
  {
   "cell_type": "markdown",
   "metadata": {},
   "source": [
    "### Part 1: Create rasterstack of irrigation \n",
    "\n",
    "Too large to run on the VDI"
   ]
  },
  {
   "cell_type": "code",
   "execution_count": null,
   "metadata": {},
   "outputs": [],
   "source": [
    "#list of years to help for-loop iterate through folders\n",
    "x = range(1987,2019,1)\n",
    "years = []\n",
    "for i in x:\n",
    "    nextyear = str(i + 1)[2:]\n",
    "    y = str(i) + \"_\" + nextyear\n",
    "    years.append(str(y))\n",
    "# removing years that didn't work\n",
    "years =  [e for e in years if e not in ('2011_12', '2012_13')]\n",
    "years.sort()\n",
    "\n",
    "#list of folders to help with loop\n",
    "folders = os.listdir(directory)\n",
    "folders.sort()\n",
    "\n",
    "# Convert our shapefiles into tiffs, add them to an giant xarray and \n",
    "# then export as netcdf \n",
    "def convertIrrShpToTiff(shp, year):  \n",
    "    #open a tif and get transform info\n",
    "    tif = shp[:77]+shp[77:95]+\"_multithreshold_65Thres\"+suffix[10:]+\".tif\"\n",
    "    ds = xr.open_rasterio(tif).squeeze()\n",
    "    transform, proj = geotransform(ds, (ds.x, ds.y), epsg=3577)\n",
    "    rows,cols = ds.shape\n",
    "    #turn vector into numpy array\n",
    "    shp_arr = rasterize_vector(shp, cols=cols, rows=rows, geo_transform=transform, projection=proj)\n",
    "    #convert numpy array into xarray\n",
    "    shp_xr = xr.DataArray(shp_arr, coords = [ds.y, ds.x], dims = ['y', 'x'])\n",
    "    #append xarray to list\n",
    "    da_list.append(shp_xr)\n",
    "\n",
    "da_list = []\n",
    "for year, folder in zip(years, folders): \n",
    "    print(\"\\r\", \"working on year: \" + year, end = '')\n",
    "    convertIrrShpToTiff(directory+folder+\"/\"+\"nmdb_Summer\"+ year + suffix+\".shp\", year)\n",
    "\n",
    "#generate date ranges to use as coordinates in xrray dataset\n",
    "dates = pd.date_range(start='1/1/1987', end='1/01/2019', freq='Y')\n",
    "dates = dates.drop([pd.Timestamp('2011-12-31'), pd.Timestamp('2012-12-31')])\n",
    "#concatenate all xarrays into a single multi-dim xarray with time ('dates') as coords.\n",
    "da = xr.concat(da_list, dim=dates).rename({'concat_dim':'time'}).rename('Irrigated_Area')\n",
    "#convert to dataset\n",
    "ds = da.to_dataset()\n",
    "#export as netcdf\n",
    "ds.to_netcdf(results + \"NMDB_irrigation.nc\")"
   ]
  },
  {
   "cell_type": "markdown",
   "metadata": {},
   "source": [
    "### Part 2: Calculate per pixel frequency et al.\n",
    "\n",
    "Testing the workflow on a small area then running on hugemem using the .py file of the same name"
   ]
  },
  {
   "cell_type": "code",
   "execution_count": 1,
   "metadata": {},
   "outputs": [
    {
     "name": "stdout",
     "output_type": "stream",
     "text": [
      "hfd\n"
     ]
    }
   ],
   "source": [
    "print(\"hfd\")"
   ]
  },
  {
   "cell_type": "code",
   "execution_count": 2,
   "metadata": {},
   "outputs": [],
   "source": [
    "import xarray as xr\n",
    "import numpy as np"
   ]
  },
  {
   "cell_type": "code",
   "execution_count": 3,
   "metadata": {},
   "outputs": [],
   "source": [
    "z = xr.open_dataset('results/NMDB_irrigation.nc').isel(x=range(26000,28000)).isel(y=range(18500,20000))"
   ]
  },
  {
   "cell_type": "code",
   "execution_count": 14,
   "metadata": {},
   "outputs": [
    {
     "data": {
      "text/plain": [
       "<xarray.Dataset>\n",
       "Dimensions:         (time: 30, x: 2000, y: 1500)\n",
       "Coordinates:\n",
       "  * time            (time) datetime64[ns] 1987-12-31 1988-12-31 ... 2018-12-31\n",
       "  * y               (y) float64 -3.205e+06 -3.205e+06 ... -3.243e+06 -3.243e+06\n",
       "  * x               (x) float64 1.504e+06 1.504e+06 ... 1.554e+06 1.554e+06\n",
       "Data variables:\n",
       "    Irrigated_Area  (time, y, x) int16 0 0 0 0 0 0 0 0 0 0 ... 0 0 0 0 0 0 0 0 0\n",
       "Attributes:\n",
       "    transform:   [ 2.5000e+01  0.0000e+00  8.5395e+05  0.0000e+00 -2.5000e+01...\n",
       "    crs:         +init=epsg:3577\n",
       "    res:         [25. 25.]\n",
       "    is_tiled:    1\n",
       "    nodatavals:  0.0\n",
       "    scales:      1.0\n",
       "    offsets:     0.0"
      ]
     },
     "execution_count": 14,
     "metadata": {},
     "output_type": "execute_result"
    }
   ],
   "source": [
    "z"
   ]
  },
  {
   "cell_type": "code",
   "execution_count": 6,
   "metadata": {},
   "outputs": [],
   "source": [
    "#create parallized function for calculating sum on the array\n",
    "def count_irrigation(x, dim):\n",
    "    return xr.apply_ufunc(np.sum, x, dask='parallelized',\n",
    "                          input_core_dims=[[dim]],\n",
    "                          kwargs={'axis': -1})\n",
    "\n",
    "count = count_irrigation(z.Irrigated_Area, dim='time')\n",
    "rawfrequency = count / len(z.time)"
   ]
  },
  {
   "cell_type": "code",
   "execution_count": 7,
   "metadata": {},
   "outputs": [],
   "source": [
    "def IrrigationFirstOccurs(x, dim):\n",
    "    \"\"\"\n",
    "    Calculating the time (indice) at which the first occurence of \n",
    "    Irrigation occurs (per-pixel). This works because np.nanargmax:\n",
    "    \"In cases of multiple occurrences of the maximum values,\n",
    "    the indices corresponding to the first occurrence are returned.\"\n",
    "    \"\"\"\n",
    "    return xr.apply_ufunc(np.nanargmax, x, dask='parallelized',\n",
    "                          input_core_dims=[[dim]],\n",
    "                          kwargs={'axis': -1})\n",
    "\n",
    "firstOccured = IrrigationFirstOccurs(z, dim='time')\n",
    "yearsIrrigated = len(z.time) - firstOccured \n",
    "normalisedFrequency = count / yearsIrrigated"
   ]
  },
  {
   "cell_type": "code",
   "execution_count": 13,
   "metadata": {},
   "outputs": [
    {
     "data": {
      "text/plain": [
       "<matplotlib.collections.QuadMesh at 0x7f0f71abe940>"
      ]
     },
     "execution_count": 13,
     "metadata": {},
     "output_type": "execute_result"
    },
    {
     "data": {
      "image/png": "[encoded data removed]",
      "text/plain": [
       "<Figure size 648x432 with 2 Axes>"
      ]
     },
     "metadata": {
      "needs_background": "light"
     },
     "output_type": "display_data"
    }
   ],
   "source": [
    "yearsIrrigated.Irrigated_Area.plot(size=6)"
   ]
  },
  {
   "cell_type": "code",
   "execution_count": 11,
   "metadata": {},
   "outputs": [],
   "source": [
    "#covert first observed to an array with the date (year)\n",
    "dates = [t for t in range(1987,2019,1)]\n",
    "dates =  [e for e in dates if e not in (2011, 2012)]\n",
    "dates = np.asarray(dates)\n",
    "\n",
    "def timey(ind, time):\n",
    "    func = time[ind]\n",
    "    return func\n",
    "\n",
    "firstOccuredDates = timey(firstOccured.Irrigated_Area, dates)"
   ]
  },
  {
   "cell_type": "code",
   "execution_count": 12,
   "metadata": {},
   "outputs": [
    {
     "ename": "AttributeError",
     "evalue": "'numpy.ndarray' object has no attribute 'plot'",
     "output_type": "error",
     "traceback": [
      "\u001b[0;31m---------------------------------------------------------------------------\u001b[0m",
      "\u001b[0;31mAttributeError\u001b[0m                            Traceback (most recent call last)",
      "\u001b[0;32m<ipython-input-12-a9e7812d5d21>\u001b[0m in \u001b[0;36m<module>\u001b[0;34m\u001b[0m\n\u001b[0;32m----> 1\u001b[0;31m \u001b[0mfirstOccuredDates\u001b[0m\u001b[0;34m.\u001b[0m\u001b[0mplot\u001b[0m\u001b[0;34m(\u001b[0m\u001b[0msize\u001b[0m\u001b[0;34m=\u001b[0m\u001b[0;36m6\u001b[0m\u001b[0;34m)\u001b[0m\u001b[0;34m\u001b[0m\u001b[0;34m\u001b[0m\u001b[0m\n\u001b[0m",
      "\u001b[0;31mAttributeError\u001b[0m: 'numpy.ndarray' object has no attribute 'plot'"
     ]
    }
   ],
   "source": [
    "firstOccuredDates.plot(size=6)"
   ]
  },
  {
   "cell_type": "code",
   "execution_count": null,
   "metadata": {},
   "outputs": [],
   "source": [
    "# rawfrequency.where(frequency >= 0.01).plot(figsize=(5,5), cmap='plasma')"
   ]
  },
  {
   "cell_type": "code",
   "execution_count": null,
   "metadata": {},
   "outputs": [],
   "source": [
    "# yearsIrrigated.Irrigated_Area.plot(figsize=(5,5), cmap='plasma')"
   ]
  },
  {
   "cell_type": "code",
   "execution_count": null,
   "metadata": {},
   "outputs": [],
   "source": [
    "# normalisedFrequency.Irrigated_Area.plot(figsize=(8,8), cmap='plasma')"
   ]
  },
  {
   "cell_type": "markdown",
   "metadata": {},
   "source": [
    "## Generate commission error mask\n",
    "\n",
    "Commission masking using per-pixel frequency maps:\n",
    "-\tIf normalised frequency (all_time) is <=0.125 (1 in 8 years) == commision error\n",
    "-\tRelax that threshold to account for recent commission errors (whose normalised frequency will look like higher frequency cropping.) If the count is equal to 1 and the normalised frequency is between 0.125 and 0.25, count as commission error.\n",
    "-\tCommission errors occurring for the first time in the last 3 years (since 2016) will be missed by this analysis. Regions converted to irrigation between 2010 and 2015 that were only irrigated once will be erroneously recorded as commission errors. \n",
    "-\tRegions that were irrigated for a short period of time (low count) at the start of the time-series, but then underwent land use change and were no longer irrigated, will be erroneously removed by the commission masks. Eg. Imagine a paddock first irrigated in 1988 and irrigated for 3 years before ceasing being irrigated",
    "its normalised frequency will be 3/29=0.103 and thus it will be removed by the commission error mask (set at 0.125)\n"
   ]
  },
  {
   "cell_type": "code",
   "execution_count": null,
   "metadata": {},
   "outputs": [],
   "source": [
    "#open files\n",
    "freq = xr.open_rasterio(results+'normalisedFrequency_alltime.tif').isel(x=range(26000,28000)).isel(y=range(18500,20000)).squeeze()\n",
    "count = xr.open_rasterio(results+'count_alltime.tif').isel(x=range(26000,28000)).isel(y=range(18500,20000)).squeeze()"
   ]
  },
  {
   "cell_type": "code",
   "execution_count": null,
   "metadata": {},
   "outputs": [],
   "source": [
    "freq_mask = np.where((freq.values <= 0.125) & (freq.values > 0), 1, 0)\n",
    "# plt.figure(figsize=(15,15))\n",
    "# plt.imshow(freq_mask)"
   ]
  },
  {
   "cell_type": "code",
   "execution_count": null,
   "metadata": {},
   "outputs": [],
   "source": [
    "count_mask = np.where((count.values == 1) & ((freq.values > 0.125) & (freq.values <= 0.25)), 1, 0)"
   ]
  },
  {
   "cell_type": "code",
   "execution_count": null,
   "metadata": {},
   "outputs": [],
   "source": [
    "combined_mask = np.where((freq_mask==1) | (count_mask==1), 1, 0)"
   ]
  },
  {
   "cell_type": "code",
   "execution_count": null,
   "metadata": {},
   "outputs": [],
   "source": [
    "transform, projection = SpatialTools.geotransform(freq, (freq.x, freq.y), epsg=3577)\n",
    "SpatialTools.array_to_geotiff(results+ \"commission_mask.tif\",\n",
    "              combined_mask, geo_transform = transform, \n",
    "              projection = projection, \n",
    "              nodata_val=0)"
   ]
  }
 ],
 "metadata": {
  "kernelspec": {
   "display_name": "Python 3",
   "language": "python",
   "name": "python3"
  },
  "language_info": {
   "codemirror_mode": {
    "name": "ipython",
    "version": 3
   },
   "file_extension": ".py",
   "mimetype": "text/x-python",
   "name": "python",
   "nbconvert_exporter": "python",
   "pygments_lexer": "ipython3",
   "version": "3.6.7"
  }
 },
 "nbformat": 4,
 "nbformat_minor": 4
}
