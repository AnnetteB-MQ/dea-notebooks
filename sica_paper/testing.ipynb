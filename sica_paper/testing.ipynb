{
 "cells": [
  {
   "cell_type": "markdown",
   "metadata": {},
   "source": [
    "## Notebook for testing code snippets"
   ]
  },
  {
   "cell_type": "code",
   "execution_count": null,
   "metadata": {},
   "outputs": [],
   "source": [
    "import numpy as np\n",
    "import xarray as xr\n",
    "import datacube\n",
    "from datacube.utils import geometry\n",
    "from datacube.utils.geometry import CRS\n",
    "from dask.distributed import Client\n",
    "from datacube.helpers import write_geotiff\n",
    "import fiona\n",
    "import rasterio.mask\n",
    "import rasterio.features\n",
    "from datacube.drivers.netcdf import write_dataset_to_netcdf"
   ]
  },
  {
   "cell_type": "code",
   "execution_count": null,
   "metadata": {},
   "outputs": [],
   "source": [
    "#delete old client if one still exists\n",
    "client = locals().get('client', None)\n",
    "if client is not None:\n",
    "    client.close()\n",
    "    del client\n",
    "    \n",
    "client = Client(n_workers=2, threads_per_worker=1, memory_limit='12GB')\n",
    "client"
   ]
  },
  {
   "cell_type": "code",
   "execution_count": null,
   "metadata": {},
   "outputs": [],
   "source": []
  },
  {
   "cell_type": "code",
   "execution_count": null,
   "metadata": {},
   "outputs": [],
   "source": []
  },
  {
   "cell_type": "code",
   "execution_count": null,
   "metadata": {},
   "outputs": [],
   "source": []
  },
  {
   "cell_type": "code",
   "execution_count": null,
   "metadata": {},
   "outputs": [],
   "source": []
  },
  {
   "cell_type": "code",
   "execution_count": null,
   "metadata": {},
   "outputs": [],
   "source": [
    "import sys\n",
    "import os\n",
    "import geopandas as gpd\n",
    "import pandas as pd\n",
    "import numpy as np\n",
    "import xarray as xr\n",
    "import rasterio.features\n",
    "\n",
    "results = \"results/\"\n",
    "directory = \"results/nmdb/\"\n",
    "suffix = \"_LSandOEH_masked\"\n",
    "\n",
    "#FUNCTIONS for SCRIPT\n",
    "def convertIrrShpToTiff(shp, year):  \n",
    "    #open a tif and get transform info\n",
    "    tif = directory+'/nmdb_'+year+\"/nmdb_Summer\"+year+\"_multithreshold_65Thres.tif\"\n",
    "    ds = xr.open_rasterio(tif).squeeze()\n",
    "    \n",
    "    #convert to tif\n",
    "    gdf = gpd.read_file(shp)\n",
    "    shapes = zip(gdf['geometry'], gdf['DN'])\n",
    "    transform = ds.transform\n",
    "    y, x = ds.values.shape\n",
    "\n",
    "    # Now convert the polgons into a numpy array\n",
    "    shp_arr = rasterio.features.rasterize(shapes=shapes,\n",
    "                                         out_shape=(y, x),\n",
    "                                         all_touched=False,\n",
    "                                         fill=np.nan,\n",
    "                                         transform=transform)\n",
    "\n",
    "    #convert numpy array into xarray\n",
    "    shp_xr = xr.DataArray(shp_arr, coords = [ds.y, ds.x], dims = ['y', 'x'])\n",
    "    #append xarray to list\n",
    "    da_list.append(shp_xr)\n",
    "\n",
    "\n",
    "#-----------SCRIPT-----------------\n",
    "#list of years to help for-loop iterate through folders\n",
    "x = range(1987,2019,1)\n",
    "years = []\n",
    "for i in x:\n",
    "    nextyear = str(i + 1)[2:]\n",
    "    y = str(i) + \"_\" + nextyear\n",
    "    years.append(str(y))\n",
    "# removing years that didn't work\n",
    "years =  [e for e in years if e not in ('2011_12', '2012_13')]\n",
    "years.sort()\n",
    "\n",
    "#list of folders to help with loop\n",
    "folders = os.listdir(directory)\n",
    "folders.sort()\n",
    "\n",
    "da_list = []\n",
    "for year, folder in zip(years, folders): \n",
    "    print(\"\\r\", \"working on year: \" + year, end = '')\n",
    "    convertIrrShpToTiff(directory+folder+\"/\"+\"nmdb_Summer\"+ year + \"_Irrigated\"+suffix+\".shp\", year)\n",
    "\n",
    "#generate date ranges to use as coordinates in xrray dataset\n",
    "dates = pd.date_range(start='1/1/1987', end='1/01/2019', freq='Y')\n",
    "dates = dates.drop([pd.Timestamp('2011-12-31'), pd.Timestamp('2012-12-31')])\n",
    "#concatenate all xarrays into a single multi-dim xarray with time ('dates') as coords.\n",
    "da = xr.concat(da_list, dim=dates).rename({'concat_dim':'time'}).rename('Irrigated_Area')\n",
    "#convert to dataset\n",
    "ds = da.to_dataset()\n",
    "#export as netcdf\n",
    "ds.to_netcdf(results + \"NMDB_irrigation.nc\")"
   ]
  },
  {
   "cell_type": "code",
   "execution_count": null,
   "metadata": {},
   "outputs": [],
   "source": [
    "results/nmdb/nmdb_1987_88/nmdb_Summer1987_88_multithreshold_65Thres.tif"
   ]
  },
  {
   "cell_type": "markdown",
   "metadata": {},
   "source": [
    "### this is some code for copying files that meet some string criteria"
   ]
  },
  {
   "cell_type": "code",
   "execution_count": null,
   "metadata": {},
   "outputs": [],
   "source": [
    "directory = \"/g/data/r78/cb3058/dea-notebooks/ICE_project/results/nmdb/\"\n",
    "suffix = \"_80polys_10ha\""
   ]
  },
  {
   "cell_type": "code",
   "execution_count": null,
   "metadata": {},
   "outputs": [],
   "source": [
    "#list of years to help for-loop iterate through folders\n",
    "x = range(1987,2019,1)\n",
    "years = []\n",
    "for i in x:\n",
    "    nextyear = str(i + 1)[2:]\n",
    "    y = str(i) + \"_\" + nextyear\n",
    "    years.append(str(y))\n",
    "# removing years that didn't work\n",
    "years =  [e for e in years if e not in ('2011_12', '2012_13')]\n",
    "years.sort()\n",
    "\n",
    "folders = os.listdir(directory)\n",
    "folders.sort()"
   ]
  },
  {
   "cell_type": "code",
   "execution_count": null,
   "metadata": {},
   "outputs": [],
   "source": [
    "import shutil\n",
    "import glob\n",
    "# source_dir = \"this/is/source/folder\"\n",
    "dest_dir = \"/g/data/r78/cb3058/dea-notebooks/sica_paper/data/\"\n",
    "\n",
    "for year, folder in zip(years, folders): \n",
    "#     os.mkdir(dest_dir+\"nmdb_\"+year)\n",
    "    os.chdir(directory+\"/\"+folder+\"/\")\n",
    "    for name in glob.glob(\"*multithreshold_65Thres.tif*\"):\n",
    "        shutil.copy(directory+folder+\"/\"+name, os.path.join(dest_dir+\"nmdb_\"+year, name))\n",
    "\n",
    "\n",
    "# for top, dirs, files in  os.walk(directory):\n",
    "#     for filename in files:\n",
    "#         file_path = os.path.join(top, filename)\n",
    "#         with open(file_path, 'r') as f:\n",
    "#             if suffix in f.read():\n",
    "#                 shutil.copy(file_path, os.path.join(dest_dir, filename))"
   ]
  },
  {
   "cell_type": "markdown",
   "metadata": {},
   "source": [
    "### TESTING GEOMTERIES OF POLYGONS TO REMOVE V. SKINNY POLYGONS. TRYNG TO REMOVE TRACTOR TREAD"
   ]
  },
  {
   "cell_type": "code",
   "execution_count": null,
   "metadata": {},
   "outputs": [],
   "source": [
    "z = x.envelope.bounds\n",
    "\n",
    "width = z.maxx - z.minx\n",
    "height = z.maxy - z.miny\n",
    "skinny = height/width\n",
    "\n",
    "x['skinniness'] = skinny\n",
    "x['height'] = height\n",
    "x['width'] = width\n",
    "\n",
    "x = x.drop('envelope', axis=1)\n",
    "x.to_file('../data/test_envelopes.shp')\n",
    "\n",
    "a = x[x.skinniness > 2]\n",
    "a = x[x.skinniness < 0.3]"
   ]
  },
  {
   "cell_type": "markdown",
   "metadata": {},
   "source": [
    "## function to identify the amount of winter irrigation miss-identified as summer irrigation"
   ]
  },
  {
   "cell_type": "code",
   "execution_count": null,
   "metadata": {},
   "outputs": [],
   "source": [
    "import numpy as np\n",
    "import xarray as xr\n",
    "import sys\n",
    "sys.path.append('src')\n",
    "import SpatialTools"
   ]
  },
  {
   "cell_type": "code",
   "execution_count": null,
   "metadata": {},
   "outputs": [],
   "source": [
    "irrigated = 'results/nmdb/nmdb_Summer2013_14/nmdb_Summer2013_14_Irrigated_OEHandLS_masked.shp'\n",
    "argmax = \"/g/data/r78/cb3058/dea-notebooks/dcStats/results/mdb_NSW/summer/ndviArgMaxMin/mosaics/ndviArgMaxMin_20131101_mosaic.tif\""
   ]
  },
  {
   "cell_type": "code",
   "execution_count": null,
   "metadata": {},
   "outputs": [],
   "source": [
    "def maxNDVIisinNovember(irrigated, argmax):\n",
    "    timeofmax = xr.open_rasterio(argmax)#.isel(x=range(50000, 60000)).isel(y=range(50000,60000)).squeeze()\n",
    "    print(timeofmax)\n",
    "    timeofmax = timeofmax.isel(band = 0)\n",
    "    print(\"--------------------------------\")\n",
    "    print(timeofmax)\n",
    "    nov = timeofmax.where(timeofmax == 11)\n",
    "    transform, projection = SpatialTools.geotransform(timeofmax, (timeofmax.x, timeofmax.y), epsg=3577)\n",
    "    width,height = timeofmax.shape\n",
    "    print(\"--------------------------------\")\n",
    "    print(\"rasterizing vector\")\n",
    "    mask = SpatialTools.rasterize_vector(irrigated, height, width,transform, projection, raster_path=None)\n",
    "    result = nov.where(mask)\n",
    "    print(\"--------------------------------\")\n",
    "    print('calculating counts')\n",
    "    unique,counts=np.unique(result.values, return_counts=True)\n",
    "    x = dict(zip(unique, counts))\n",
    "    print(x)\n",
    "    print(\"--------------------------------\")\n",
    "    print(\"area where max NDVI occurs in Novemeber is \"  + str(x['11'] * (25*25) / 10000) + ' ha')"
   ]
  },
  {
   "cell_type": "code",
   "execution_count": null,
   "metadata": {},
   "outputs": [],
   "source": [
    "maxNDVIisinNovember(irrigated, argmax)"
   ]
  },
  {
   "cell_type": "markdown",
   "metadata": {},
   "source": [
    "## Simplifying polygons"
   ]
  },
  {
   "cell_type": "code",
   "execution_count": null,
   "metadata": {},
   "outputs": [],
   "source": [
    "import sys\n",
    "import os\n",
    "import time\n",
    "import copy\n",
    "import geopandas as gpd\n",
    "\n",
    "from shapely.geometry import asShape\n",
    "from shapely.geometry import MultiLineString\n",
    "from shapely.geometry import asLineString\n",
    "from shapely.wkt import dumps\n",
    "#from pprint import pprint\n",
    "\n",
    "import shapefile\n",
    "import numpy as np\n",
    "\n",
    "sys.path.append('src/')\n",
    "import bezier\n",
    "import bendsimplify"
   ]
  },
  {
   "cell_type": "code",
   "execution_count": null,
   "metadata": {},
   "outputs": [],
   "source": [
    "shape = \"results/SICA/nmdb_Summer1998_99_Irrigated_OEHandLS_masked.shp\""
   ]
  },
  {
   "cell_type": "code",
   "execution_count": null,
   "metadata": {},
   "outputs": [],
   "source": [
    "#nothihng seems to happen...\n",
    "bendsimplify.bend_simplify(\"results/nmdb_Summer1998_99_Irrigated_OEHandLS_masked_objectID.shp\")"
   ]
  },
  {
   "cell_type": "code",
   "execution_count": null,
   "metadata": {},
   "outputs": [],
   "source": [
    "# This works but is not topologically aware so overlaps/slivers occur (if not\n",
    "# for important analysis then could use overlay to remove overlaps)\n",
    "gdf = gpd.read_file(shape)\n",
    "gdf_simplified = gdf.copy()\n",
    "gdf_simplified[\"geometry\"] = gdf.geometry.simplify(tolerance=50,preserve_topology=True)\n",
    "gdf.to_file(\"results/test_simplify_1998_99_tolerance50_shapely.shp\")"
   ]
  },
  {
   "cell_type": "code",
   "execution_count": null,
   "metadata": {},
   "outputs": [],
   "source": []
  },
  {
   "cell_type": "code",
   "execution_count": null,
   "metadata": {},
   "outputs": [],
   "source": []
  }
 ],
 "metadata": {
  "kernelspec": {
   "display_name": "Python 3",
   "language": "python",
   "name": "python3"
  },
  "language_info": {
   "codemirror_mode": {
    "name": "ipython",
    "version": 3
   },
   "file_extension": ".py",
   "mimetype": "text/x-python",
   "name": "python",
   "nbconvert_exporter": "python",
   "pygments_lexer": "ipython3",
   "version": "3.6.7"
  }
 },
 "nbformat": 4,
 "nbformat_minor": 4
}
