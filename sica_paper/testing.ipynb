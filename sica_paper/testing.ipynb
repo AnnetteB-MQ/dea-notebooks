{
 "cells": [
  {
   "cell_type": "markdown",
   "metadata": {},
   "source": [
    "## Notebook for testing code snippets"
   ]
  },
  {
   "cell_type": "code",
   "execution_count": null,
   "metadata": {},
   "outputs": [],
   "source": [
    "import numpy as np\n",
    "import xarray as xr\n",
    "import datacube\n",
    "from datacube.utils import geometry\n",
    "from datacube.utils.geometry import CRS\n",
    "from dask.distributed import Client\n",
    "from datacube.helpers import write_geotiff\n",
    "import fiona\n",
    "import rasterio.mask\n",
    "import rasterio.features\n",
    "from datacube.drivers.netcdf import write_dataset_to_netcdf"
   ]
  },
  {
   "cell_type": "code",
   "execution_count": null,
   "metadata": {},
   "outputs": [],
   "source": [
    "#delete old client if one still exists\n",
    "client = locals().get('client', None)\n",
    "if client is not None:\n",
    "    client.close()\n",
    "    del client\n",
    "    \n",
    "client = Client(n_workers=2, threads_per_worker=1, memory_limit='12GB')\n",
    "client"
   ]
  },
  {
   "cell_type": "code",
   "execution_count": 1,
   "metadata": {},
   "outputs": [
    {
     "name": "stdout",
     "output_type": "stream",
     "text": [
      "working on year: mdb_Summer1987_88_multithreshold_65Thres\n",
      "<xarray.DataArray (y: 42965, x: 44955)>\n",
      "[1931491575 values with dtype=float32]\n",
      "Coordinates:\n",
      "    band     int64 1\n",
      "  * y        (y) float64 -2.743e+06 -2.743e+06 ... -3.817e+06 -3.817e+06\n",
      "  * x        (x) float64 8.54e+05 8.54e+05 8.54e+05 ... 1.978e+06 1.978e+06\n",
      "Attributes:\n",
      "    transform:   (25.0, 0.0, 853950.0, 0.0, -25.0, -2742800.0)\n",
      "    crs:         +init=epsg:3577\n",
      "    res:         (25.0, 25.0)\n",
      "    is_tiled:    0\n",
      "    nodatavals:  (nan,)\n",
      "    scales:      (1.0,)\n",
      "    offsets:     (0.0,)\n",
      "<xarray.DataArray (y: 42966, x: 44956)>\n",
      "[1931579496 values with dtype=float64]\n",
      "Coordinates:\n",
      "    band     int64 1\n",
      "  * y        (y) float64 -2.743e+06 -2.743e+06 ... -3.817e+06 -3.817e+06\n",
      "  * x        (x) float64 8.539e+05 8.54e+05 8.54e+05 ... 1.978e+06 1.978e+06\n",
      "Attributes:\n",
      "    transform:   (25.0, 0.0, 853925.0, 0.0, -25.0, -2742800.0)\n",
      "    crs:         +init=epsg:3577\n",
      "    res:         (25.0, 25.0)\n",
      "    is_tiled:    1\n",
      "    nodatavals:  (0.0,)\n",
      "    scales:      (1.0,)\n",
      "    offsets:     (0.0,)\n",
      "results/nmdb/nmdb_1987_88/nmdb_Summer1987_88_multithreshold_65ThresLSandOEH_masked.tif\n"
     ]
    }
   ],
   "source": [
    "\n",
    "import xarray as xr\n",
    "from multiprocessing import Pool\n",
    "from datacube.helpers import write_geotiff\n",
    "\n",
    "#USER INPUTS\n",
    "cpus=5\n",
    "mask_dir = 'data/nmdb_LSandOEH_mask_clean.tif'\n",
    "directory = \"results/nmdb/\"\n",
    "input_suffix = \"_multithreshold_65Thres\"\n",
    "output_suffix = \"_LSandOEH_masked\"\n",
    "\n",
    "#file paths setup\n",
    "x = range(1987,2019,1)\n",
    "years = []\n",
    "for i in x:\n",
    "    nextyear = str(i + 1)[2:]\n",
    "    y = str(i) + \"_\" + nextyear\n",
    "    years.append(str(y))\n",
    "years =  [e for e in years if e not in ('2011_12', '2012_13')]\n",
    "years.sort()\n",
    "\n",
    "inputs=[]\n",
    "for year in years:\n",
    "    inputs.append(directory+\"nmdb_\"+year+\"/nmdb_Summer\" + year + input_suffix + \".tif\")\n",
    "\n",
    "# masking function\n",
    "def clip_tiff(tif):\n",
    "    print(\"working on year: \" + tif[26:-4])\n",
    "    \n",
    "    #open datasets\n",
    "    a = xr.open_rasterio(tif).squeeze()\n",
    "    mask = xr.open_rasterio(mask_dir).squeeze()\n",
    "    print(a)\n",
    "    print(mask)\n",
    "#     #mask with lsandoeh mask\n",
    "#     b = a.where(mask)\n",
    "#     #export result\n",
    "#     b = b.to_dataset()\n",
    "#     b.attrs = a.attrs\n",
    "#     print(b)\n",
    "    print(tif[:-4]+output_suffix+\".tif\")\n",
    "#     write_geotiff(tif[:-4]+output_suffix+\".tif\", b)\n",
    "#     mimom\n",
    "\n",
    "clip_tiff(inputs[0])\n",
    "\n",
    "# pool = Pool(cpus)    \n",
    "# pool.map(clip_tiff, inputs) \n",
    "    \n",
    "\n"
   ]
  },
  {
   "cell_type": "code",
   "execution_count": null,
   "metadata": {},
   "outputs": [],
   "source": []
  },
  {
   "cell_type": "markdown",
   "metadata": {},
   "source": [
    "### this is some code for copying files that meet some string criteria"
   ]
  },
  {
   "cell_type": "code",
   "execution_count": null,
   "metadata": {},
   "outputs": [],
   "source": [
    "directory = \"/g/data/r78/cb3058/dea-notebooks/ICE_project/results/nmdb/\"\n",
    "suffix = \"_80polys_10ha\""
   ]
  },
  {
   "cell_type": "code",
   "execution_count": null,
   "metadata": {},
   "outputs": [],
   "source": [
    "#list of years to help for-loop iterate through folders\n",
    "x = range(1987,2019,1)\n",
    "years = []\n",
    "for i in x:\n",
    "    nextyear = str(i + 1)[2:]\n",
    "    y = str(i) + \"_\" + nextyear\n",
    "    years.append(str(y))\n",
    "# removing years that didn't work\n",
    "years =  [e for e in years if e not in ('2011_12', '2012_13')]\n",
    "years.sort()\n",
    "\n",
    "folders = os.listdir(directory)\n",
    "folders.sort()"
   ]
  },
  {
   "cell_type": "code",
   "execution_count": null,
   "metadata": {},
   "outputs": [],
   "source": [
    "import shutil\n",
    "import glob\n",
    "# source_dir = \"this/is/source/folder\"\n",
    "dest_dir = \"/g/data/r78/cb3058/dea-notebooks/sica_paper/data/\"\n",
    "\n",
    "for year, folder in zip(years, folders): \n",
    "#     os.mkdir(dest_dir+\"nmdb_\"+year)\n",
    "    os.chdir(directory+\"/\"+folder+\"/\")\n",
    "    for name in glob.glob(\"*multithreshold_65Thres.tif*\"):\n",
    "        shutil.copy(directory+folder+\"/\"+name, os.path.join(dest_dir+\"nmdb_\"+year, name))\n",
    "\n",
    "\n",
    "# for top, dirs, files in  os.walk(directory):\n",
    "#     for filename in files:\n",
    "#         file_path = os.path.join(top, filename)\n",
    "#         with open(file_path, 'r') as f:\n",
    "#             if suffix in f.read():\n",
    "#                 shutil.copy(file_path, os.path.join(dest_dir, filename))"
   ]
  },
  {
   "cell_type": "markdown",
   "metadata": {},
   "source": [
    "### TESTING GEOMTERIES OF POLYGONS TO REMOVE V. SKINNY POLYGONS. TRYNG TO REMOVE TRACTOR TREAD"
   ]
  },
  {
   "cell_type": "code",
   "execution_count": null,
   "metadata": {},
   "outputs": [],
   "source": [
    "z = x.envelope.bounds\n",
    "\n",
    "width = z.maxx - z.minx\n",
    "height = z.maxy - z.miny\n",
    "skinny = height/width\n",
    "\n",
    "x['skinniness'] = skinny\n",
    "x['height'] = height\n",
    "x['width'] = width\n",
    "\n",
    "x = x.drop('envelope', axis=1)\n",
    "x.to_file('../data/test_envelopes.shp')\n",
    "\n",
    "a = x[x.skinniness > 2]\n",
    "a = x[x.skinniness < 0.3]"
   ]
  },
  {
   "cell_type": "markdown",
   "metadata": {},
   "source": [
    "## function to identify the amount of winter irrigation miss-identified as summer irrigation"
   ]
  },
  {
   "cell_type": "code",
   "execution_count": null,
   "metadata": {},
   "outputs": [],
   "source": [
    "import numpy as np\n",
    "import xarray as xr\n",
    "import sys\n",
    "sys.path.append('src')\n",
    "import SpatialTools"
   ]
  },
  {
   "cell_type": "code",
   "execution_count": null,
   "metadata": {},
   "outputs": [],
   "source": [
    "irrigated = 'results/nmdb/nmdb_Summer2013_14/nmdb_Summer2013_14_Irrigated_OEHandLS_masked.shp'\n",
    "argmax = \"/g/data/r78/cb3058/dea-notebooks/dcStats/results/mdb_NSW/summer/ndviArgMaxMin/mosaics/ndviArgMaxMin_20131101_mosaic.tif\""
   ]
  },
  {
   "cell_type": "code",
   "execution_count": null,
   "metadata": {},
   "outputs": [],
   "source": [
    "def maxNDVIisinNovember(irrigated, argmax):\n",
    "    timeofmax = xr.open_rasterio(argmax)#.isel(x=range(50000, 60000)).isel(y=range(50000,60000)).squeeze()\n",
    "    print(timeofmax)\n",
    "    timeofmax = timeofmax.isel(band = 0)\n",
    "    print(\"--------------------------------\")\n",
    "    print(timeofmax)\n",
    "    nov = timeofmax.where(timeofmax == 11)\n",
    "    transform, projection = SpatialTools.geotransform(timeofmax, (timeofmax.x, timeofmax.y), epsg=3577)\n",
    "    width,height = timeofmax.shape\n",
    "    print(\"--------------------------------\")\n",
    "    print(\"rasterizing vector\")\n",
    "    mask = SpatialTools.rasterize_vector(irrigated, height, width,transform, projection, raster_path=None)\n",
    "    result = nov.where(mask)\n",
    "    print(\"--------------------------------\")\n",
    "    print('calculating counts')\n",
    "    unique,counts=np.unique(result.values, return_counts=True)\n",
    "    x = dict(zip(unique, counts))\n",
    "    print(x)\n",
    "    print(\"--------------------------------\")\n",
    "    print(\"area where max NDVI occurs in Novemeber is \"  + str(x['11'] * (25*25) / 10000) + ' ha')"
   ]
  },
  {
   "cell_type": "code",
   "execution_count": null,
   "metadata": {},
   "outputs": [],
   "source": [
    "maxNDVIisinNovember(irrigated, argmax)"
   ]
  },
  {
   "cell_type": "markdown",
   "metadata": {},
   "source": [
    "## Simplifying polygons"
   ]
  },
  {
   "cell_type": "code",
   "execution_count": null,
   "metadata": {},
   "outputs": [],
   "source": [
    "import sys\n",
    "import os\n",
    "import time\n",
    "import copy\n",
    "import geopandas as gpd\n",
    "\n",
    "from shapely.geometry import asShape\n",
    "from shapely.geometry import MultiLineString\n",
    "from shapely.geometry import asLineString\n",
    "from shapely.wkt import dumps\n",
    "#from pprint import pprint\n",
    "\n",
    "import shapefile\n",
    "import numpy as np\n",
    "\n",
    "sys.path.append('src/')\n",
    "import bezier\n",
    "import bendsimplify"
   ]
  },
  {
   "cell_type": "code",
   "execution_count": null,
   "metadata": {},
   "outputs": [],
   "source": [
    "shape = \"results/SICA/nmdb_Summer1998_99_Irrigated_OEHandLS_masked.shp\""
   ]
  },
  {
   "cell_type": "code",
   "execution_count": null,
   "metadata": {},
   "outputs": [],
   "source": [
    "#nothihng seems to happen...\n",
    "bendsimplify.bend_simplify(\"results/nmdb_Summer1998_99_Irrigated_OEHandLS_masked_objectID.shp\")"
   ]
  },
  {
   "cell_type": "code",
   "execution_count": null,
   "metadata": {},
   "outputs": [],
   "source": [
    "# This works but is not topologically aware so overlaps/slivers occur (if not\n",
    "# for important analysis then could use overlay to remove overlaps)\n",
    "gdf = gpd.read_file(shape)\n",
    "gdf_simplified = gdf.copy()\n",
    "gdf_simplified[\"geometry\"] = gdf.geometry.simplify(tolerance=50,preserve_topology=True)\n",
    "gdf.to_file(\"results/test_simplify_1998_99_tolerance50_shapely.shp\")"
   ]
  },
  {
   "cell_type": "code",
   "execution_count": null,
   "metadata": {},
   "outputs": [],
   "source": []
  },
  {
   "cell_type": "code",
   "execution_count": null,
   "metadata": {},
   "outputs": [],
   "source": []
  }
 ],
 "metadata": {
  "kernelspec": {
   "display_name": "Python 3",
   "language": "python",
   "name": "python3"
  },
  "language_info": {
   "codemirror_mode": {
    "name": "ipython",
    "version": 3
   },
   "file_extension": ".py",
   "mimetype": "text/x-python",
   "name": "python",
   "nbconvert_exporter": "python",
   "pygments_lexer": "ipython3",
   "version": "3.6.7"
  }
 },
 "nbformat": 4,
 "nbformat_minor": 4
}
