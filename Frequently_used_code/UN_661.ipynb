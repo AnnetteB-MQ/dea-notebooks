{
 "cells": [
  {
   "cell_type": "code",
   "execution_count": null,
   "metadata": {},
   "outputs": [],
   "source": [
    "import glob, os, sys\n",
    "import subprocess\n",
    "import xarray as xr\n",
    "from dask.diagnostics import ProgressBar\n",
    "\n",
    "if len(sys.argv)>1:\n",
    "    threshold = int(sys.argv[1])\n",
    "else:\n",
    "    threshold = 75 #percent, more than 9 months\n",
    "\n",
    "csize = 4000\n",
    "\n",
    "# make a mask that matches wofs extent\n",
    "maskshape = '/g/data/u46/users/fxy120/sensor_data_maps/Australia/Australian_Coast_and_Islands_Albers.shp'\n",
    "masklayer = 'Australian_Coast_and_Islands_Albers'\n",
    "maskfile = 'mask.tif'\n",
    "if not os.path.exists(maskfile):\n",
    "    cmd = 'gdal_rasterize -burn 1 -a_srs EPSG:3577 -a_nodata 0 -tr 25 -25 -te -2000000. -5000000. 2500000. -1000000. -co COMPRESS=LZW -co TILED=YES -co BLOCKXSIZE=256 -co BLOCKYSIZE=256 -ot Byte -l %s %s %s'%(masklayer, maskshape, maskfile)\n",
    "    print(cmd)\n",
    "    subprocess.call(cmd, shell=True)\n",
    "    \n",
    "inputpath = '/g/data/u46/users/bt2744/work/data/wofs/output/prod/annualstats/'\n",
    "annual_vrts = glob.glob(inputpath + 'wofs_????_annual_summary.vrt')\n",
    "annual_vrts.sort()\n",
    "annual_vrts = annual_vrts[::-1]\n",
    "\n",
    "confidence_vrt = 'wofs_confidence.vrt'\n",
    "conf_thresh = 0.9\n",
    "\n",
    "print(\"Year, # of pixels with more than %d percent detections, extent (km^2)\"%threshold)\n",
    "\n",
    "for annual_vrt in annual_vrts:\n",
    "    \n",
    "    year = os.path.basename(annual_vrt).split('_')[1]\n",
    "    data=xr.open_rasterio(annual_vrt, chunks={'x':csize, 'y':csize})\n",
    "    mask=xr.open_rasterio('mask.tif', chunks={'x':csize, 'y':csize})\n",
    "    conf=xr.open_rasterio(confidence_vrt, chunks={'x':csize, 'y':csize})\n",
    "\n",
    "    thresh_float = threshold/100.\n",
    "    \n",
    "    with ProgressBar(dt=60):\n",
    "        masked=(mask*(data>thresh_float)*(conf>conf_thresh)).sum().values\n",
    "    print(year, masked, int(round(masked*25.*25./1e6)))"
   ]
  }
 ],
 "metadata": {
  "kernelspec": {
   "display_name": "Python 3",
   "language": "python",
   "name": "python3"
  },
  "language_info": {
   "codemirror_mode": {
    "name": "ipython",
    "version": 3
   },
   "file_extension": ".py",
   "mimetype": "text/x-python",
   "name": "python",
   "nbconvert_exporter": "python",
   "pygments_lexer": "ipython3",
   "version": "3.6.8"
  }
 },
 "nbformat": 4,
 "nbformat_minor": 4
}
