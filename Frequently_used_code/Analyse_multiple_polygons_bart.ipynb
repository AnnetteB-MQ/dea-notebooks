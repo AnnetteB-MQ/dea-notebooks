{
 "cells": [
  {
   "cell_type": "markdown",
   "metadata": {},
   "source": [
    "# Open and run analysis on multiple polygons <img align=\"right\" src=\"../Supplementary_data/dea_logo.jpg\">\n",
    "\n",
    "* **Compatability:** Notebook currently compatible with both the `NCI` and `DEA Sandbox` environments\n",
    "* **Products used:** \n",
    "[ga_ls8c_ard_3](https://explorer.sandbox.dea.ga.gov.au/ga_ls8c_ard_3)"
   ]
  },
  {
   "cell_type": "markdown",
   "metadata": {},
   "source": [
    "## Background\n",
    "Many users need to run analyses on their own areas of interest. \n",
    "A common use case involves running the same analysis across multiple polygons in a vector file (e.g. ESRI Shapefile or GeoJSON). \n",
    "This notebook will demonstrate how to use a vector file and the Open Data Cube to extract satellite data from Digital Earth Australia corresponding to individual polygon geometries."
   ]
  },
  {
   "cell_type": "markdown",
   "metadata": {},
   "source": [
    "## Description\n",
    "If we have a vector file containing multiple polygons, we can use the python package [geopandas](https://geopandas.org/) to open it as a `GeoDataFrame`. \n",
    "We can then iterate through each geometry and extract satellite data corresponding with the extent of each geometry. \n",
    "Further anlaysis can then be conducted on each resulting `xarray.Dataset`.\n",
    "\n",
    "We can retrieve data for each polygon, perform an analysis like calculating NDVI and plot the data.\n",
    "\n",
    "1. First we open the polygon using `geopandas`\n",
    "2. Iterate through  a geodatframe, extracting satellite data from DEA's ODC\n",
    "3. Calculate NDVI as an example analysis on one of the extracted satellite timeseries.\n",
    "4. Plot NDVI for the polygon extent\n",
    "\n",
    "***\n"
   ]
  },
  {
   "cell_type": "markdown",
   "metadata": {},
   "source": [
    "## Getting started\n",
    "To run this analysis, run all the cells in the notebook, starting with the \"Load packages\" cell. "
   ]
  },
  {
   "cell_type": "markdown",
   "metadata": {},
   "source": [
    "### Load packages\n",
    "Please note the use of `datacube.utils` package `geometry`: \n",
    "this is important for saving the coordinate reference system of the incoming shapefile in a format that the Digital Earth Australia query can understand."
   ]
  },
  {
   "cell_type": "code",
   "execution_count": 1,
   "metadata": {},
   "outputs": [
    {
     "name": "stderr",
     "output_type": "stream",
     "text": [
      "/env/lib/python3.6/site-packages/datacube/storage/masking.py:4: DeprecationWarning: datacube.storage.masking has moved to datacube.utils.masking\n",
      "  category=DeprecationWarning)\n"
     ]
    }
   ],
   "source": [
    "%matplotlib inline\n",
    "\n",
    "import datacube\n",
    "import rasterio.crs\n",
    "import geopandas as gpd\n",
    "import matplotlib.pyplot as plt\n",
    "from datacube.utils import geometry\n",
    "\n",
    "import sys\n",
    "sys.path.append('../Scripts')\n",
    "from dea_datahandling import load_ard\n",
    "from dea_bandindices import calculate_indices\n",
    "from dea_plotting import rgb, map_shapefile\n",
    "from dea_temporaltools import time_buffer\n",
    "from dea_spatialtools import xr_rasterize"
   ]
  },
  {
   "cell_type": "markdown",
   "metadata": {},
   "source": [
    "### Connect to the datacube\n",
    "Connect to the datacube database to enable loading Digital Earth Australia data."
   ]
  },
  {
   "cell_type": "code",
   "execution_count": 2,
   "metadata": {},
   "outputs": [],
   "source": [
    "# Temporary solution to account for Collection 3 data being in a different\n",
    "# database on the NCI\n",
    "try:\n",
    "    dc = datacube.Datacube(app='Analyse_multiple_polygons', env='c3-samples')\n",
    "except:\n",
    "    dc = datacube.Datacube(app='Analyse_multiple_polygons')"
   ]
  },
  {
   "cell_type": "markdown",
   "metadata": {},
   "source": [
    "## Analysis parameters\n",
    "\n",
    "* `time_of_interest` : Enter a time, in units YYYY-MM-DD, around which to load satellite data e.g. `'2019-01-01'`\n",
    "* `time_buff` : A buffer of a given duration (e.g. days) around the time_of_interest parameter, e.g. `'30 days'`\n",
    "* `vector_file` : A path to a vector file (ESRI Shapefile or GeoJSON)\n",
    "* `attribute_col` : A column in the vector file used to label the output `xarray` datasets containing satellite images. Each row of this column should have a unique identifier\n",
    "* `products` : A list of product names to load from the datacube e.g. `['ga_ls7e_ard_3', 'ga_ls8c_ard_3']`\n",
    "* `measurements` : A list of band names to load from the satellite product e.g. `['nbart_red', 'nbart_green']`\n",
    "* `resolution` : The spatial resolution of the loaded satellite data e.g. for Landsat, this is `(-30, 30)`\n",
    "* `output_crs` : The coordinate reference system/map projection to load data into, e.g. `'EPSG:3577'` to load data in the Albers Equal Area projection\n",
    "* `align` : How to align the x, y coordinates respect to each pixel. Landsat Collection 3 should be centre aligned `align = (15, 15)` if data is loaded in its native UTM zone projection, e.g. `'EPSG:32756'` "
   ]
  },
  {
   "cell_type": "code",
   "execution_count": 3,
   "metadata": {},
   "outputs": [],
   "source": [
    "time_of_interest = '2019-02-01'\n",
    "time_buff = '30 days'\n",
    "\n",
    "vector_file = '../Supplementary_data/FM_minga_veg_assess_polys_albers.shp'\n",
    "attribute_col = 'sites'\n",
    "\n",
    "products = ['ga_ls8c_ard_3']\n",
    "measurements = ['nbart_red', 'nbart_green', 'nbart_blue', 'nbart_nir']\n",
    "resolution = (-30, 30)\n",
    "output_crs = 'EPSG:3577'\n",
    "align = (0, 0)"
   ]
  },
  {
   "cell_type": "markdown",
   "metadata": {},
   "source": [
    "### Look at the structure of the vector file\n",
    "Import the file and take a look at how the file is structured so we understand what we are iterating through. \n",
    "There are two polygons in the file:"
   ]
  },
  {
   "cell_type": "code",
   "execution_count": 4,
   "metadata": {},
   "outputs": [
    {
     "data": {
      "text/html": [
       "<div>\n",
       "<style scoped>\n",
       "    .dataframe tbody tr th:only-of-type {\n",
       "        vertical-align: middle;\n",
       "    }\n",
       "\n",
       "    .dataframe tbody tr th {\n",
       "        vertical-align: top;\n",
       "    }\n",
       "\n",
       "    .dataframe thead th {\n",
       "        text-align: right;\n",
       "    }\n",
       "</style>\n",
       "<table border=\"1\" class=\"dataframe\">\n",
       "  <thead>\n",
       "    <tr style=\"text-align: right;\">\n",
       "      <th></th>\n",
       "      <th>sites</th>\n",
       "      <th>geometry</th>\n",
       "    </tr>\n",
       "  </thead>\n",
       "  <tbody>\n",
       "    <tr>\n",
       "      <th>0</th>\n",
       "      <td>1a_ja_d_0_9</td>\n",
       "      <td>POLYGON ((-1299056.074 -2467565.205, -1299006....</td>\n",
       "    </tr>\n",
       "    <tr>\n",
       "      <th>1</th>\n",
       "      <td>1a_ja_d_0_8</td>\n",
       "      <td>POLYGON ((-1298883.463 -2468035.661, -1298833....</td>\n",
       "    </tr>\n",
       "    <tr>\n",
       "      <th>2</th>\n",
       "      <td>1a_ja_s_1_7</td>\n",
       "      <td>POLYGON ((-1299890.013 -2468394.412, -1299840....</td>\n",
       "    </tr>\n",
       "    <tr>\n",
       "      <th>3</th>\n",
       "      <td>1a_ja_d_1_6</td>\n",
       "      <td>POLYGON ((-1300020.202 -2467772.277, -1299970....</td>\n",
       "    </tr>\n",
       "    <tr>\n",
       "      <th>4</th>\n",
       "      <td>2a_ja_s_0_9</td>\n",
       "      <td>POLYGON ((-1299265.197 -2467559.953, -1299215....</td>\n",
       "    </tr>\n",
       "  </tbody>\n",
       "</table>\n",
       "</div>"
      ],
      "text/plain": [
       "         sites                                           geometry\n",
       "0  1a_ja_d_0_9  POLYGON ((-1299056.074 -2467565.205, -1299006....\n",
       "1  1a_ja_d_0_8  POLYGON ((-1298883.463 -2468035.661, -1298833....\n",
       "2  1a_ja_s_1_7  POLYGON ((-1299890.013 -2468394.412, -1299840....\n",
       "3  1a_ja_d_1_6  POLYGON ((-1300020.202 -2467772.277, -1299970....\n",
       "4  2a_ja_s_0_9  POLYGON ((-1299265.197 -2467559.953, -1299215...."
      ]
     },
     "execution_count": 4,
     "metadata": {},
     "output_type": "execute_result"
    }
   ],
   "source": [
    "gdf = gpd.read_file(vector_file)\n",
    "gdf.head()"
   ]
  },
  {
   "cell_type": "markdown",
   "metadata": {},
   "source": [
    "We can then plot the `geopandas.GeoDataFrame` using the function `map_shapefile` to make sure it covers the area of interest we are concerned with:"
   ]
  },
  {
   "cell_type": "code",
   "execution_count": 5,
   "metadata": {},
   "outputs": [
    {
     "data": {
      "application/vnd.jupyter.widget-view+json": {
       "model_id": "3b5f556301bb469788c0f0383f73c996",
       "version_major": 2,
       "version_minor": 0
      },
      "text/plain": [
       "Label(value='')"
      ]
     },
     "metadata": {},
     "output_type": "display_data"
    },
    {
     "data": {
      "application/vnd.jupyter.widget-view+json": {
       "model_id": "c0bbd0bb493d4c13a391642c9dc5f55e",
       "version_major": 2,
       "version_minor": 0
      },
      "text/plain": [
       "Map(basemap={'url': 'http://server.arcgisonline.com/ArcGIS/rest/services/World_Imagery/MapServer/tile/{z}/{y}/…"
      ]
     },
     "metadata": {},
     "output_type": "display_data"
    }
   ],
   "source": [
    "map_shapefile(gdf, attribute='sites')"
   ]
  },
  {
   "cell_type": "markdown",
   "metadata": {},
   "source": [
    "### Create a datacube query object\n",
    "We then create a dictionary that will contain the parameters that will be used to load data from the DEA data cube:\n",
    "\n",
    "> **Note:** We do not include the usual `x` and `y` spatial query parameters here, as these will be taken directly from each of our vector polygon objects."
   ]
  },
  {
   "cell_type": "code",
   "execution_count": 6,
   "metadata": {},
   "outputs": [
    {
     "data": {
      "text/plain": [
       "{'time': ('2019-01-02', '2019-03-03'),\n",
       " 'measurements': ['nbart_red', 'nbart_green', 'nbart_blue', 'nbart_nir'],\n",
       " 'resolution': (-30, 30),\n",
       " 'output_crs': 'EPSG:3577',\n",
       " 'align': (0, 0)}"
      ]
     },
     "execution_count": 6,
     "metadata": {},
     "output_type": "execute_result"
    }
   ],
   "source": [
    "query = {'time': time_buffer(time_of_interest, buffer=time_buff),\n",
    "         'measurements': measurements,\n",
    "         'resolution': resolution,\n",
    "         'output_crs': output_crs,\n",
    "         'align': align,\n",
    "         }\n",
    "\n",
    "query"
   ]
  },
  {
   "cell_type": "markdown",
   "metadata": {},
   "source": [
    "## Loading satellite data\n",
    "\n",
    "Here we will iterate through each row of the `geopandas.GeoDataFrame` and load satellite data.  The results will be appended to a dictionary object which we can later inex to analyse each dataset."
   ]
  },
  {
   "cell_type": "markdown",
   "metadata": {},
   "source": [
    "---\n",
    "## Further analysis"
   ]
  },
  {
   "cell_type": "markdown",
   "metadata": {},
   "source": [
    "Our `results` dictionary will contain `xarray` objects labelled by the unique `attribute column` values we specified in the `Analysis parameters` section:"
   ]
  },
  {
   "cell_type": "code",
   "execution_count": 8,
   "metadata": {},
   "outputs": [
    {
     "data": {
      "text/plain": [
       "{'1a_ja_d_0_9': <xarray.Dataset>\n",
       " Dimensions:      (time: 4, x: 2, y: 2)\n",
       " Coordinates:\n",
       "     spatial_ref  int32 0\n",
       "   * x            (x) float64 -1.299e+06 -1.299e+06\n",
       "   * y            (y) float64 -2.468e+06 -2.468e+06\n",
       "   * time         (time) datetime64[ns] 2019-01-08T02:02:31.891863 ... 2019-02-25T02:02:22.478900\n",
       " Data variables:\n",
       "     nbart_red    (time, y, x) float32 964.0 834.0 839.0 ... 841.0 802.0 824.0\n",
       "     nbart_green  (time, y, x) float32 539.0 504.0 514.0 ... 509.0 510.0 521.0\n",
       "     nbart_blue   (time, y, x) float32 313.0 295.0 300.0 ... 308.0 317.0 319.0\n",
       "     nbart_nir    (time, y, x) float32 1568.0 1541.0 1567.0 ... 1511.0 1482.0\n",
       " Attributes:\n",
       "     crs:           EPSG:3577\n",
       "     grid_mapping:  spatial_ref,\n",
       " '1a_ja_d_0_8': <xarray.Dataset>\n",
       " Dimensions:      (time: 4, x: 3, y: 3)\n",
       " Coordinates:\n",
       "     spatial_ref  int32 0\n",
       "   * x            (x) float64 -1.299e+06 -1.299e+06 -1.299e+06\n",
       "   * y            (y) float64 -2.468e+06 -2.468e+06 -2.468e+06\n",
       "   * time         (time) datetime64[ns] 2019-01-08T02:02:31.891863 ... 2019-02-25T02:02:22.478900\n",
       " Data variables:\n",
       "     nbart_red    (time, y, x) float32 nan nan nan nan ... 952.0 nan 932.0 924.0\n",
       "     nbart_green  (time, y, x) float32 nan nan nan nan ... 558.0 nan 536.0 546.0\n",
       "     nbart_blue   (time, y, x) float32 nan nan nan nan ... 340.0 nan 330.0 337.0\n",
       "     nbart_nir    (time, y, x) float32 nan nan nan nan ... nan 1490.0 1537.0\n",
       " Attributes:\n",
       "     crs:           EPSG:3577\n",
       "     grid_mapping:  spatial_ref,\n",
       " '1a_ja_s_1_7': <xarray.Dataset>\n",
       " Dimensions:      (time: 4, x: 2, y: 3)\n",
       " Coordinates:\n",
       "     spatial_ref  int32 0\n",
       "   * x            (x) float64 -1.3e+06 -1.3e+06\n",
       "   * y            (y) float64 -2.468e+06 -2.468e+06 -2.468e+06\n",
       "   * time         (time) datetime64[ns] 2019-01-08T02:02:31.891863 ... 2019-02-25T02:02:22.478900\n",
       " Data variables:\n",
       "     nbart_red    (time, y, x) float32 nan nan 1090.0 1125.0 ... 1124.0 nan nan\n",
       "     nbart_green  (time, y, x) float32 nan nan 606.0 613.0 ... 621.0 nan nan\n",
       "     nbart_blue   (time, y, x) float32 nan nan 379.0 386.0 ... 390.0 nan nan\n",
       "     nbart_nir    (time, y, x) float32 nan nan 1462.0 1493.0 ... 1488.0 nan nan\n",
       " Attributes:\n",
       "     crs:           EPSG:3577\n",
       "     grid_mapping:  spatial_ref,\n",
       " '1a_ja_d_1_6': <xarray.Dataset>\n",
       " Dimensions:      (time: 4, x: 3, y: 2)\n",
       " Coordinates:\n",
       "     spatial_ref  int32 0\n",
       "   * x            (x) float64 -1.3e+06 -1.3e+06 -1.3e+06\n",
       "   * y            (y) float64 -2.468e+06 -2.468e+06\n",
       "   * time         (time) datetime64[ns] 2019-01-08T02:02:31.891863 ... 2019-02-25T02:02:22.478900\n",
       " Data variables:\n",
       "     nbart_red    (time, y, x) float32 nan 923.0 974.0 nan ... nan 945.0 940.0\n",
       "     nbart_green  (time, y, x) float32 nan 548.0 573.0 nan ... nan 545.0 555.0\n",
       "     nbart_blue   (time, y, x) float32 nan 337.0 360.0 nan ... nan 338.0 353.0\n",
       "     nbart_nir    (time, y, x) float32 nan 1499.0 1509.0 ... nan 1505.0 1529.0\n",
       " Attributes:\n",
       "     crs:           EPSG:3577\n",
       "     grid_mapping:  spatial_ref,\n",
       " '2a_ja_s_0_9': <xarray.Dataset>\n",
       " Dimensions:      (time: 4, x: 2, y: 3)\n",
       " Coordinates:\n",
       "     spatial_ref  int32 0\n",
       "   * x            (x) float64 -1.299e+06 -1.299e+06\n",
       "   * y            (y) float64 -2.468e+06 -2.468e+06 -2.468e+06\n",
       "   * time         (time) datetime64[ns] 2019-01-08T02:02:31.891863 ... 2019-02-25T02:02:22.478900\n",
       " Data variables:\n",
       "     nbart_red    (time, y, x) float32 nan nan 1269.0 ... 1268.0 1202.0 1216.0\n",
       "     nbart_green  (time, y, x) float32 nan nan 609.0 601.0 ... 606.0 602.0 600.0\n",
       "     nbart_blue   (time, y, x) float32 nan nan 365.0 357.0 ... 363.0 366.0 361.0\n",
       "     nbart_nir    (time, y, x) float32 nan nan 1603.0 ... 1619.0 1616.0 1597.0\n",
       " Attributes:\n",
       "     crs:           EPSG:3577\n",
       "     grid_mapping:  spatial_ref,\n",
       " '2a_ja_s_0_8': <xarray.Dataset>\n",
       " Dimensions:      (time: 4, x: 2, y: 3)\n",
       " Coordinates:\n",
       "     spatial_ref  int32 0\n",
       "   * x            (x) float64 -1.299e+06 -1.299e+06\n",
       "   * y            (y) float64 -2.468e+06 -2.468e+06 -2.468e+06\n",
       "   * time         (time) datetime64[ns] 2019-01-08T02:02:31.891863 ... 2019-02-25T02:02:22.478900\n",
       " Data variables:\n",
       "     nbart_red    (time, y, x) float32 nan nan 1027.0 977.0 ... 937.0 nan nan\n",
       "     nbart_green  (time, y, x) float32 nan nan 586.0 559.0 ... 553.0 nan nan\n",
       "     nbart_blue   (time, y, x) float32 nan nan 367.0 353.0 ... 350.0 nan nan\n",
       "     nbart_nir    (time, y, x) float32 nan nan 1509.0 1407.0 ... 1382.0 nan nan\n",
       " Attributes:\n",
       "     crs:           EPSG:3577\n",
       "     grid_mapping:  spatial_ref,\n",
       " '1a_ja_d_2_6': <xarray.Dataset>\n",
       " Dimensions:      (time: 4, x: 2, y: 3)\n",
       " Coordinates:\n",
       "     spatial_ref  int32 0\n",
       "   * x            (x) float64 -1.301e+06 -1.301e+06\n",
       "   * y            (y) float64 -2.468e+06 -2.468e+06 -2.468e+06\n",
       "   * time         (time) datetime64[ns] 2019-01-08T02:02:31.891863 ... 2019-02-25T02:02:22.478900\n",
       " Data variables:\n",
       "     nbart_red    (time, y, x) float32 1000.0 931.0 954.0 990.0 ... 955.0 nan nan\n",
       "     nbart_green  (time, y, x) float32 560.0 554.0 549.0 562.0 ... 549.0 nan nan\n",
       "     nbart_blue   (time, y, x) float32 353.0 342.0 344.0 343.0 ... 340.0 nan nan\n",
       "     nbart_nir    (time, y, x) float32 1486.0 1487.0 1465.0 ... 1498.0 nan nan\n",
       " Attributes:\n",
       "     crs:           EPSG:3577\n",
       "     grid_mapping:  spatial_ref,\n",
       " '2a_ja_d_2_6': <xarray.Dataset>\n",
       " Dimensions:      (time: 4, x: 2, y: 2)\n",
       " Coordinates:\n",
       "     spatial_ref  int32 0\n",
       "   * x            (x) float64 -1.301e+06 -1.301e+06\n",
       "   * y            (y) float64 -2.468e+06 -2.468e+06\n",
       "   * time         (time) datetime64[ns] 2019-01-08T02:02:31.891863 ... 2019-02-25T02:02:22.478900\n",
       " Data variables:\n",
       "     nbart_red    (time, y, x) float32 936.0 1029.0 1023.0 ... 982.0 960.0 1034.0\n",
       "     nbart_green  (time, y, x) float32 575.0 586.0 607.0 ... 575.0 584.0 590.0\n",
       "     nbart_blue   (time, y, x) float32 362.0 363.0 380.0 ... 358.0 373.0 370.0\n",
       "     nbart_nir    (time, y, x) float32 1574.0 1498.0 1527.0 ... 1529.0 1468.0\n",
       " Attributes:\n",
       "     crs:           EPSG:3577\n",
       "     grid_mapping:  spatial_ref,\n",
       " '1a_ja_d_1_4': <xarray.Dataset>\n",
       " Dimensions:      (time: 4, x: 3, y: 2)\n",
       " Coordinates:\n",
       "     spatial_ref  int32 0\n",
       "   * x            (x) float64 -1.297e+06 -1.297e+06 -1.297e+06\n",
       "   * y            (y) float64 -2.468e+06 -2.468e+06\n",
       "   * time         (time) datetime64[ns] 2019-01-08T02:02:31.891863 ... 2019-02-25T02:02:22.478900\n",
       " Data variables:\n",
       "     nbart_red    (time, y, x) float32 nan 991.0 1091.0 nan ... nan 1002.0 977.0\n",
       "     nbart_green  (time, y, x) float32 nan 593.0 626.0 nan ... nan 637.0 659.0\n",
       "     nbart_blue   (time, y, x) float32 nan 369.0 382.0 nan ... nan 394.0 411.0\n",
       "     nbart_nir    (time, y, x) float32 nan 1557.0 1590.0 ... nan 1704.0 1694.0\n",
       " Attributes:\n",
       "     crs:           EPSG:3577\n",
       "     grid_mapping:  spatial_ref,\n",
       " '2a_ja_d_1_4': <xarray.Dataset>\n",
       " Dimensions:      (time: 4, x: 3, y: 3)\n",
       " Coordinates:\n",
       "     spatial_ref  int32 0\n",
       "   * x            (x) float64 -1.297e+06 -1.297e+06 -1.297e+06\n",
       "   * y            (y) float64 -2.468e+06 -2.468e+06 -2.468e+06\n",
       "   * time         (time) datetime64[ns] 2019-01-08T02:02:31.891863 ... 2019-02-25T02:02:22.478900\n",
       " Data variables:\n",
       "     nbart_red    (time, y, x) float32 nan 1021.0 nan nan ... nan nan nan nan\n",
       "     nbart_green  (time, y, x) float32 nan 596.0 nan nan ... nan nan nan nan\n",
       "     nbart_blue   (time, y, x) float32 nan 377.0 nan nan ... nan nan nan nan\n",
       "     nbart_nir    (time, y, x) float32 nan 1500.0 nan nan ... nan nan nan nan\n",
       " Attributes:\n",
       "     crs:           EPSG:3577\n",
       "     grid_mapping:  spatial_ref,\n",
       " '1a_ja_s_3_2': <xarray.Dataset>\n",
       " Dimensions:      (time: 4, x: 3, y: 2)\n",
       " Coordinates:\n",
       "     spatial_ref  int32 0\n",
       "   * x            (x) float64 -1.296e+06 -1.296e+06 -1.296e+06\n",
       "   * y            (y) float64 -2.47e+06 -2.47e+06\n",
       "   * time         (time) datetime64[ns] 2019-01-08T02:02:31.891863 ... 2019-02-25T02:02:22.478900\n",
       " Data variables:\n",
       "     nbart_red    (time, y, x) float32 nan 1057.0 1068.0 ... nan 1054.0 1074.0\n",
       "     nbart_green  (time, y, x) float32 nan 624.0 627.0 nan ... nan 626.0 639.0\n",
       "     nbart_blue   (time, y, x) float32 nan 400.0 390.0 nan ... nan 403.0 398.0\n",
       "     nbart_nir    (time, y, x) float32 nan 1402.0 1465.0 ... nan 1421.0 1452.0\n",
       " Attributes:\n",
       "     crs:           EPSG:3577\n",
       "     grid_mapping:  spatial_ref,\n",
       " '2a_ja_s_3_2': <xarray.Dataset>\n",
       " Dimensions:      (time: 4, x: 3, y: 3)\n",
       " Coordinates:\n",
       "     spatial_ref  int32 0\n",
       "   * x            (x) float64 -1.296e+06 -1.296e+06 -1.296e+06\n",
       "   * y            (y) float64 -2.47e+06 -2.47e+06 -2.47e+06\n",
       "   * time         (time) datetime64[ns] 2019-01-08T02:02:31.891863 ... 2019-02-25T02:02:22.478900\n",
       " Data variables:\n",
       "     nbart_red    (time, y, x) float32 nan nan nan nan 1115.0 ... nan nan nan nan\n",
       "     nbart_green  (time, y, x) float32 nan nan nan nan 635.0 ... nan nan nan nan\n",
       "     nbart_blue   (time, y, x) float32 nan nan nan nan 405.0 ... nan nan nan nan\n",
       "     nbart_nir    (time, y, x) float32 nan nan nan nan 1468.0 ... nan nan nan nan\n",
       " Attributes:\n",
       "     crs:           EPSG:3577\n",
       "     grid_mapping:  spatial_ref,\n",
       " '1a_ja_s_4_1': <xarray.Dataset>\n",
       " Dimensions:      (time: 4, x: 2, y: 3)\n",
       " Coordinates:\n",
       "     spatial_ref  int32 0\n",
       "   * x            (x) float64 -1.295e+06 -1.295e+06\n",
       "   * y            (y) float64 -2.47e+06 -2.47e+06 -2.47e+06\n",
       "   * time         (time) datetime64[ns] 2019-01-08T02:02:31.891863 ... 2019-02-25T02:02:22.478900\n",
       " Data variables:\n",
       "     nbart_red    (time, y, x) float32 nan nan 1025.0 1071.0 ... 1057.0 nan nan\n",
       "     nbart_green  (time, y, x) float32 nan nan 605.0 616.0 ... 616.0 nan nan\n",
       "     nbart_blue   (time, y, x) float32 nan nan 376.0 398.0 ... 396.0 nan nan\n",
       "     nbart_nir    (time, y, x) float32 nan nan 1403.0 1443.0 ... 1419.0 nan nan\n",
       " Attributes:\n",
       "     crs:           EPSG:3577\n",
       "     grid_mapping:  spatial_ref,\n",
       " '2a_ja_d_4_1': <xarray.Dataset>\n",
       " Dimensions:      (time: 4, x: 3, y: 3)\n",
       " Coordinates:\n",
       "     spatial_ref  int32 0\n",
       "   * x            (x) float64 -1.295e+06 -1.295e+06 -1.295e+06\n",
       "   * y            (y) float64 -2.47e+06 -2.47e+06 -2.47e+06\n",
       "   * time         (time) datetime64[ns] 2019-01-08T02:02:31.891863 ... 2019-02-25T02:02:22.478900\n",
       " Data variables:\n",
       "     nbart_red    (time, y, x) float32 nan nan nan nan 978.0 ... nan nan nan nan\n",
       "     nbart_green  (time, y, x) float32 nan nan nan nan 599.0 ... nan nan nan nan\n",
       "     nbart_blue   (time, y, x) float32 nan nan nan nan 384.0 ... nan nan nan nan\n",
       "     nbart_nir    (time, y, x) float32 nan nan nan nan 1390.0 ... nan nan nan nan\n",
       " Attributes:\n",
       "     crs:           EPSG:3577\n",
       "     grid_mapping:  spatial_ref,\n",
       " '1a_ja_s_6_3': <xarray.Dataset>\n",
       " Dimensions:      (time: 4, x: 2, y: 3)\n",
       " Coordinates:\n",
       "     spatial_ref  int32 0\n",
       "   * x            (x) float64 -1.292e+06 -1.292e+06\n",
       "   * y            (y) float64 -2.47e+06 -2.47e+06 -2.47e+06\n",
       "   * time         (time) datetime64[ns] 2019-01-08T02:02:31.891863 ... 2019-02-25T02:02:22.478900\n",
       " Data variables:\n",
       "     nbart_red    (time, y, x) float32 nan nan 1058.0 1037.0 ... 1021.0 nan nan\n",
       "     nbart_green  (time, y, x) float32 nan nan 596.0 590.0 ... 592.0 nan nan\n",
       "     nbart_blue   (time, y, x) float32 nan nan 383.0 384.0 ... 384.0 nan nan\n",
       "     nbart_nir    (time, y, x) float32 nan nan 1393.0 1385.0 ... 1383.0 nan nan\n",
       " Attributes:\n",
       "     crs:           EPSG:3577\n",
       "     grid_mapping:  spatial_ref,\n",
       " '2a_ja_s_6_3': <xarray.Dataset>\n",
       " Dimensions:      (time: 4, x: 3, y: 2)\n",
       " Coordinates:\n",
       "     spatial_ref  int32 0\n",
       "   * x            (x) float64 -1.292e+06 -1.292e+06 -1.292e+06\n",
       "   * y            (y) float64 -2.47e+06 -2.47e+06\n",
       "   * time         (time) datetime64[ns] 2019-01-08T02:02:31.891863 ... 2019-02-25T02:02:22.478900\n",
       " Data variables:\n",
       "     nbart_red    (time, y, x) float32 nan 1027.0 nan nan ... nan nan 964.0 nan\n",
       "     nbart_green  (time, y, x) float32 nan 618.0 nan nan ... nan nan 584.0 nan\n",
       "     nbart_blue   (time, y, x) float32 nan 403.0 nan nan ... nan nan 370.0 nan\n",
       "     nbart_nir    (time, y, x) float32 nan 1430.0 nan nan ... nan nan 1394.0 nan\n",
       " Attributes:\n",
       "     crs:           EPSG:3577\n",
       "     grid_mapping:  spatial_ref,\n",
       " '1a_ja_s_9_0': <xarray.Dataset>\n",
       " Dimensions:      (time: 4, x: 2, y: 2)\n",
       " Coordinates:\n",
       "     spatial_ref  int32 0\n",
       "   * x            (x) float64 -1.29e+06 -1.29e+06\n",
       "   * y            (y) float64 -2.471e+06 -2.471e+06\n",
       "   * time         (time) datetime64[ns] 2019-01-08T02:02:31.891863 ... 2019-02-25T02:02:22.478900\n",
       " Data variables:\n",
       "     nbart_red    (time, y, x) float32 1019.0 1024.0 1012.0 ... 1010.0 969.0\n",
       "     nbart_green  (time, y, x) float32 576.0 574.0 575.0 ... 602.0 596.0 580.0\n",
       "     nbart_blue   (time, y, x) float32 359.0 355.0 359.0 ... 375.0 377.0 356.0\n",
       "     nbart_nir    (time, y, x) float32 1318.0 1359.0 1338.0 ... 1381.0 1464.0\n",
       " Attributes:\n",
       "     crs:           EPSG:3577\n",
       "     grid_mapping:  spatial_ref,\n",
       " '2a_ja_s_9_0': <xarray.Dataset>\n",
       " Dimensions:      (time: 4, x: 2, y: 2)\n",
       " Coordinates:\n",
       "     spatial_ref  int32 0\n",
       "   * x            (x) float64 -1.29e+06 -1.29e+06\n",
       "   * y            (y) float64 -2.471e+06 -2.471e+06\n",
       "   * time         (time) datetime64[ns] 2019-01-08T02:02:31.891863 ... 2019-02-25T02:02:22.478900\n",
       " Data variables:\n",
       "     nbart_red    (time, y, x) float32 1000.0 1037.0 1019.0 ... 1022.0 1037.0\n",
       "     nbart_green  (time, y, x) float32 563.0 579.0 573.0 ... 606.0 591.0 599.0\n",
       "     nbart_blue   (time, y, x) float32 345.0 358.0 361.0 ... 373.0 376.0 376.0\n",
       "     nbart_nir    (time, y, x) float32 1387.0 1415.0 1345.0 ... 1364.0 1401.0\n",
       " Attributes:\n",
       "     crs:           EPSG:3577\n",
       "     grid_mapping:  spatial_ref,\n",
       " '1a_k_s_4_3': <xarray.Dataset>\n",
       " Dimensions:      (time: 4, x: 2, y: 3)\n",
       " Coordinates:\n",
       "     spatial_ref  int32 0\n",
       "   * x            (x) float64 -1.295e+06 -1.295e+06\n",
       "   * y            (y) float64 -2.47e+06 -2.471e+06 -2.471e+06\n",
       "   * time         (time) datetime64[ns] 2019-01-08T02:02:31.891863 ... 2019-02-25T02:02:22.478900\n",
       " Data variables:\n",
       "     nbart_red    (time, y, x) float32 nan nan 1038.0 1045.0 ... 1019.0 nan nan\n",
       "     nbart_green  (time, y, x) float32 nan nan 751.0 759.0 ... 740.0 nan nan\n",
       "     nbart_blue   (time, y, x) float32 nan nan 472.0 467.0 ... 467.0 nan nan\n",
       "     nbart_nir    (time, y, x) float32 nan nan 1522.0 1529.0 ... 1577.0 nan nan\n",
       " Attributes:\n",
       "     crs:           EPSG:3577\n",
       "     grid_mapping:  spatial_ref,\n",
       " '2a_k_s_4_3': <xarray.Dataset>\n",
       " Dimensions:      (time: 4, x: 2, y: 3)\n",
       " Coordinates:\n",
       "     spatial_ref  int32 0\n",
       "   * x            (x) float64 -1.295e+06 -1.295e+06\n",
       "   * y            (y) float64 -2.47e+06 -2.471e+06 -2.471e+06\n",
       "   * time         (time) datetime64[ns] 2019-01-08T02:02:31.891863 ... 2019-02-25T02:02:22.478900\n",
       " Data variables:\n",
       "     nbart_red    (time, y, x) float32 nan nan 1101.0 ... 1034.0 1030.0 1014.0\n",
       "     nbart_green  (time, y, x) float32 nan nan 759.0 759.0 ... 735.0 730.0 733.0\n",
       "     nbart_blue   (time, y, x) float32 nan nan 471.0 470.0 ... 464.0 463.0 459.0\n",
       "     nbart_nir    (time, y, x) float32 nan nan 1565.0 ... 1574.0 1554.0 1585.0\n",
       " Attributes:\n",
       "     crs:           EPSG:3577\n",
       "     grid_mapping:  spatial_ref,\n",
       " '1a_k_s_6_2': <xarray.Dataset>\n",
       " Dimensions:      (time: 4, x: 3, y: 2)\n",
       " Coordinates:\n",
       "     spatial_ref  int32 0\n",
       "   * x            (x) float64 -1.293e+06 -1.293e+06 -1.293e+06\n",
       "   * y            (y) float64 -2.471e+06 -2.471e+06\n",
       "   * time         (time) datetime64[ns] 2019-01-08T02:02:31.891863 ... 2019-02-25T02:02:22.478900\n",
       " Data variables:\n",
       "     nbart_red    (time, y, x) float32 nan 1048.0 nan nan ... nan nan 1009.0 nan\n",
       "     nbart_green  (time, y, x) float32 nan 713.0 nan nan ... nan nan 692.0 nan\n",
       "     nbart_blue   (time, y, x) float32 nan 447.0 nan nan ... nan nan 439.0 nan\n",
       "     nbart_nir    (time, y, x) float32 nan 1544.0 nan nan ... nan nan 1581.0 nan\n",
       " Attributes:\n",
       "     crs:           EPSG:3577\n",
       "     grid_mapping:  spatial_ref,\n",
       " '2a_k_s_6_2': <xarray.Dataset>\n",
       " Dimensions:      (time: 4, x: 2, y: 3)\n",
       " Coordinates:\n",
       "     spatial_ref  int32 0\n",
       "   * x            (x) float64 -1.293e+06 -1.293e+06\n",
       "   * y            (y) float64 -2.471e+06 -2.471e+06 -2.471e+06\n",
       "   * time         (time) datetime64[ns] 2019-01-08T02:02:31.891863 ... 2019-02-25T02:02:22.478900\n",
       " Data variables:\n",
       "     nbart_red    (time, y, x) float32 1122.0 1139.0 1141.0 ... 1094.0 nan nan\n",
       "     nbart_green  (time, y, x) float32 731.0 751.0 749.0 769.0 ... 731.0 nan nan\n",
       "     nbart_blue   (time, y, x) float32 445.0 454.0 452.0 456.0 ... 455.0 nan nan\n",
       "     nbart_nir    (time, y, x) float32 1592.0 1693.0 1655.0 ... 1710.0 nan nan\n",
       " Attributes:\n",
       "     crs:           EPSG:3577\n",
       "     grid_mapping:  spatial_ref,\n",
       " '1a_k_s_3_4': <xarray.Dataset>\n",
       " Dimensions:      (time: 4, x: 3, y: 3)\n",
       " Coordinates:\n",
       "     spatial_ref  int32 0\n",
       "   * x            (x) float64 -1.296e+06 -1.296e+06 -1.296e+06\n",
       "   * y            (y) float64 -2.47e+06 -2.47e+06 -2.47e+06\n",
       "   * time         (time) datetime64[ns] 2019-01-08T02:02:31.891863 ... 2019-02-25T02:02:22.478900\n",
       " Data variables:\n",
       "     nbart_red    (time, y, x) float32 nan nan nan nan 1130.0 ... nan nan nan nan\n",
       "     nbart_green  (time, y, x) float32 nan nan nan nan 763.0 ... nan nan nan nan\n",
       "     nbart_blue   (time, y, x) float32 nan nan nan nan 482.0 ... nan nan nan nan\n",
       "     nbart_nir    (time, y, x) float32 nan nan nan nan 1606.0 ... nan nan nan nan\n",
       " Attributes:\n",
       "     crs:           EPSG:3577\n",
       "     grid_mapping:  spatial_ref,\n",
       " '2a_k_s_3_4': <xarray.Dataset>\n",
       " Dimensions:      (time: 4, x: 2, y: 3)\n",
       " Coordinates:\n",
       "     spatial_ref  int32 0\n",
       "   * x            (x) float64 -1.296e+06 -1.296e+06\n",
       "   * y            (y) float64 -2.47e+06 -2.47e+06 -2.47e+06\n",
       "   * time         (time) datetime64[ns] 2019-01-08T02:02:31.891863 ... 2019-02-25T02:02:22.478900\n",
       " Data variables:\n",
       "     nbart_red    (time, y, x) float32 nan nan 1115.0 ... 1068.0 1070.0 1068.0\n",
       "     nbart_green  (time, y, x) float32 nan nan 770.0 759.0 ... 737.0 728.0 724.0\n",
       "     nbart_blue   (time, y, x) float32 nan nan 481.0 464.0 ... 458.0 453.0 455.0\n",
       "     nbart_nir    (time, y, x) float32 nan nan 1682.0 ... 1664.0 1645.0 1646.0\n",
       " Attributes:\n",
       "     crs:           EPSG:3577\n",
       "     grid_mapping:  spatial_ref,\n",
       " '1a_k_s_1_9': <xarray.Dataset>\n",
       " Dimensions:      (time: 4, x: 2, y: 3)\n",
       " Coordinates:\n",
       "     spatial_ref  int32 0\n",
       "   * x            (x) float64 -1.297e+06 -1.297e+06\n",
       "   * y            (y) float64 -2.469e+06 -2.469e+06 -2.47e+06\n",
       "   * time         (time) datetime64[ns] 2019-01-08T02:02:31.891863 ... 2019-02-25T02:02:22.478900\n",
       " Data variables:\n",
       "     nbart_red    (time, y, x) float32 nan nan 1094.0 ... 1053.0 1034.0 1052.0\n",
       "     nbart_green  (time, y, x) float32 nan nan 760.0 756.0 ... 731.0 722.0 722.0\n",
       "     nbart_blue   (time, y, x) float32 nan nan 465.0 473.0 ... 460.0 457.0 458.0\n",
       "     nbart_nir    (time, y, x) float32 nan nan 1681.0 ... 1631.0 1623.0 1632.0\n",
       " Attributes:\n",
       "     crs:           EPSG:3577\n",
       "     grid_mapping:  spatial_ref,\n",
       " '2a_k_s_1_9': <xarray.Dataset>\n",
       " Dimensions:      (time: 4, x: 3, y: 3)\n",
       " Coordinates:\n",
       "     spatial_ref  int32 0\n",
       "   * x            (x) float64 -1.297e+06 -1.297e+06 -1.297e+06\n",
       "   * y            (y) float64 -2.469e+06 -2.469e+06 -2.469e+06\n",
       "   * time         (time) datetime64[ns] 2019-01-08T02:02:31.891863 ... 2019-02-25T02:02:22.478900\n",
       " Data variables:\n",
       "     nbart_red    (time, y, x) float32 nan nan nan nan ... nan 1065.0 1089.0\n",
       "     nbart_green  (time, y, x) float32 nan nan nan nan ... 741.0 nan 741.0 734.0\n",
       "     nbart_blue   (time, y, x) float32 nan nan nan nan ... 451.0 nan 465.0 456.0\n",
       "     nbart_nir    (time, y, x) float32 nan nan nan nan ... nan 1628.0 1632.0\n",
       " Attributes:\n",
       "     crs:           EPSG:3577\n",
       "     grid_mapping:  spatial_ref,\n",
       " '1a_k_s_1_5': <xarray.Dataset>\n",
       " Dimensions:      (time: 4, x: 2, y: 3)\n",
       " Coordinates:\n",
       "     spatial_ref  int32 0\n",
       "   * x            (x) float64 -1.299e+06 -1.299e+06\n",
       "   * y            (y) float64 -2.469e+06 -2.469e+06 -2.469e+06\n",
       "   * time         (time) datetime64[ns] 2019-01-08T02:02:31.891863 ... 2019-02-25T02:02:22.478900\n",
       " Data variables:\n",
       "     nbart_red    (time, y, x) float32 nan nan 1083.0 1100.0 ... 1017.0 nan nan\n",
       "     nbart_green  (time, y, x) float32 nan nan 731.0 770.0 ... 713.0 nan nan\n",
       "     nbart_blue   (time, y, x) float32 nan nan 448.0 474.0 ... 450.0 nan nan\n",
       "     nbart_nir    (time, y, x) float32 nan nan 1669.0 1685.0 ... 1634.0 nan nan\n",
       " Attributes:\n",
       "     crs:           EPSG:3577\n",
       "     grid_mapping:  spatial_ref,\n",
       " '2a_k_s_1_5': <xarray.Dataset>\n",
       " Dimensions:      (time: 4, x: 3, y: 3)\n",
       " Coordinates:\n",
       "     spatial_ref  int32 0\n",
       "   * x            (x) float64 -1.299e+06 -1.299e+06 -1.299e+06\n",
       "   * y            (y) float64 -2.469e+06 -2.469e+06 -2.469e+06\n",
       "   * time         (time) datetime64[ns] 2019-01-08T02:02:31.891863 ... 2019-02-25T02:02:22.478900\n",
       " Data variables:\n",
       "     nbart_red    (time, y, x) float32 nan 1087.0 nan nan ... nan nan nan nan\n",
       "     nbart_green  (time, y, x) float32 nan 740.0 nan nan ... nan nan nan nan\n",
       "     nbart_blue   (time, y, x) float32 nan 452.0 nan nan ... nan nan nan nan\n",
       "     nbart_nir    (time, y, x) float32 nan 1668.0 nan nan ... nan nan nan nan\n",
       " Attributes:\n",
       "     crs:           EPSG:3577\n",
       "     grid_mapping:  spatial_ref,\n",
       " '3a_ja_d_0_9': <xarray.Dataset>\n",
       " Dimensions:      (time: 4, x: 3, y: 2)\n",
       " Coordinates:\n",
       "     spatial_ref  int32 0\n",
       "   * x            (x) float64 -1.299e+06 -1.299e+06 -1.299e+06\n",
       "   * y            (y) float64 -2.468e+06 -2.468e+06\n",
       "   * time         (time) datetime64[ns] 2019-01-08T02:02:31.891863 ... 2019-02-25T02:02:22.478900\n",
       " Data variables:\n",
       "     nbart_red    (time, y, x) float32 841.0 891.0 nan 865.0 ... 868.0 905.0 nan\n",
       "     nbart_green  (time, y, x) float32 507.0 509.0 nan 512.0 ... 519.0 519.0 nan\n",
       "     nbart_blue   (time, y, x) float32 299.0 303.0 nan 300.0 ... 318.0 315.0 nan\n",
       "     nbart_nir    (time, y, x) float32 1460.0 1481.0 nan ... 1485.0 1528.0 nan\n",
       " Attributes:\n",
       "     crs:           EPSG:3577\n",
       "     grid_mapping:  spatial_ref,\n",
       " '4a_ja_s_0_9': <xarray.Dataset>\n",
       " Dimensions:      (time: 4, x: 3, y: 3)\n",
       " Coordinates:\n",
       "     spatial_ref  int32 0\n",
       "   * x            (x) float64 -1.299e+06 -1.299e+06 -1.299e+06\n",
       "   * y            (y) float64 -2.467e+06 -2.467e+06 -2.467e+06\n",
       "   * time         (time) datetime64[ns] 2019-01-08T02:02:31.891863 ... 2019-02-25T02:02:22.478900\n",
       " Data variables:\n",
       "     nbart_red    (time, y, x) float32 nan nan nan nan 1169.0 ... nan nan nan nan\n",
       "     nbart_green  (time, y, x) float32 nan nan nan nan 564.0 ... nan nan nan nan\n",
       "     nbart_blue   (time, y, x) float32 nan nan nan nan 331.0 ... nan nan nan nan\n",
       "     nbart_nir    (time, y, x) float32 nan nan nan nan 1563.0 ... nan nan nan nan\n",
       " Attributes:\n",
       "     crs:           EPSG:3577\n",
       "     grid_mapping:  spatial_ref,\n",
       " '3a_ja_d_0_8': <xarray.Dataset>\n",
       " Dimensions:      (time: 4, x: 2, y: 2)\n",
       " Coordinates:\n",
       "     spatial_ref  int32 0\n",
       "   * x            (x) float64 -1.299e+06 -1.299e+06\n",
       "   * y            (y) float64 -2.468e+06 -2.468e+06\n",
       "   * time         (time) datetime64[ns] 2019-01-08T02:02:31.891863 ... 2019-02-25T02:02:22.478900\n",
       " Data variables:\n",
       "     nbart_red    (time, y, x) float32 940.0 902.0 1005.0 ... 873.0 961.0 934.0\n",
       "     nbart_green  (time, y, x) float32 556.0 554.0 614.0 ... 542.0 596.0 563.0\n",
       "     nbart_blue   (time, y, x) float32 346.0 333.0 379.0 ... 340.0 367.0 347.0\n",
       "     nbart_nir    (time, y, x) float32 1457.0 1579.0 1718.0 ... 1638.0 1563.0\n",
       " Attributes:\n",
       "     crs:           EPSG:3577\n",
       "     grid_mapping:  spatial_ref,\n",
       " '4a_ja_s_0_8': <xarray.Dataset>\n",
       " Dimensions:      (time: 4, x: 3, y: 3)\n",
       " Coordinates:\n",
       "     spatial_ref  int32 0\n",
       "   * x            (x) float64 -1.299e+06 -1.299e+06 -1.299e+06\n",
       "   * y            (y) float64 -2.468e+06 -2.468e+06 -2.468e+06\n",
       "   * time         (time) datetime64[ns] 2019-01-08T02:02:31.891863 ... 2019-02-25T02:02:22.478900\n",
       " Data variables:\n",
       "     nbart_red    (time, y, x) float32 nan nan nan nan ... nan nan 1005.0 nan\n",
       "     nbart_green  (time, y, x) float32 nan nan nan nan ... nan nan 584.0 nan\n",
       "     nbart_blue   (time, y, x) float32 nan nan nan nan ... nan nan 376.0 nan\n",
       "     nbart_nir    (time, y, x) float32 nan nan nan nan ... nan nan 1352.0 nan\n",
       " Attributes:\n",
       "     crs:           EPSG:3577\n",
       "     grid_mapping:  spatial_ref,\n",
       " '2a_ja_d_1_6': <xarray.Dataset>\n",
       " Dimensions:      (time: 4, x: 2, y: 2)\n",
       " Coordinates:\n",
       "     spatial_ref  int32 0\n",
       "   * x            (x) float64 -1.3e+06 -1.3e+06\n",
       "   * y            (y) float64 -2.468e+06 -2.468e+06\n",
       "   * time         (time) datetime64[ns] 2019-01-08T02:02:31.891863 ... 2019-02-25T02:02:22.478900\n",
       " Data variables:\n",
       "     nbart_red    (time, y, x) float32 924.0 774.0 1156.0 ... 788.0 1094.0 865.0\n",
       "     nbart_green  (time, y, x) float32 547.0 527.0 584.0 ... 535.0 580.0 535.0\n",
       "     nbart_blue   (time, y, x) float32 342.0 323.0 351.0 ... 339.0 356.0 331.0\n",
       "     nbart_nir    (time, y, x) float32 1493.0 1518.0 1585.0 ... 1537.0 1474.0\n",
       " Attributes:\n",
       "     crs:           EPSG:3577\n",
       "     grid_mapping:  spatial_ref,\n",
       " '3a_ja_s_1_6': <xarray.Dataset>\n",
       " Dimensions:      (time: 4, x: 3, y: 2)\n",
       " Coordinates:\n",
       "     spatial_ref  int32 0\n",
       "   * x            (x) float64 -1.3e+06 -1.3e+06 -1.3e+06\n",
       "   * y            (y) float64 -2.468e+06 -2.468e+06\n",
       "   * time         (time) datetime64[ns] 2019-01-08T02:02:31.891863 ... 2019-02-25T02:02:22.478900\n",
       " Data variables:\n",
       "     nbart_red    (time, y, x) float32 nan 1151.0 1127.0 ... nan 1112.0 1116.0\n",
       "     nbart_green  (time, y, x) float32 nan 594.0 596.0 nan ... nan 594.0 603.0\n",
       "     nbart_blue   (time, y, x) float32 nan 373.0 376.0 nan ... nan 380.0 385.0\n",
       "     nbart_nir    (time, y, x) float32 nan 1472.0 1450.0 ... nan 1430.0 1439.0\n",
       " Attributes:\n",
       "     crs:           EPSG:3577\n",
       "     grid_mapping:  spatial_ref,\n",
       " '4a_ja_s_1_6': <xarray.Dataset>\n",
       " Dimensions:      (time: 4, x: 3, y: 3)\n",
       " Coordinates:\n",
       "     spatial_ref  int32 0\n",
       "   * x            (x) float64 -1.3e+06 -1.3e+06 -1.3e+06\n",
       "   * y            (y) float64 -2.468e+06 -2.468e+06 -2.468e+06\n",
       "   * time         (time) datetime64[ns] 2019-01-08T02:02:31.891863 ... 2019-02-25T02:02:22.478900\n",
       " Data variables:\n",
       "     nbart_red    (time, y, x) float32 nan 1153.0 1193.0 nan ... nan nan nan\n",
       "     nbart_green  (time, y, x) float32 nan 588.0 617.0 nan ... 593.0 nan nan nan\n",
       "     nbart_blue   (time, y, x) float32 nan 366.0 377.0 nan ... 377.0 nan nan nan\n",
       "     nbart_nir    (time, y, x) float32 nan 1436.0 1483.0 nan ... nan nan nan\n",
       " Attributes:\n",
       "     crs:           EPSG:3577\n",
       "     grid_mapping:  spatial_ref,\n",
       " '2a_ja_s_1_7': <xarray.Dataset>\n",
       " Dimensions:      (time: 4, x: 3, y: 3)\n",
       " Coordinates:\n",
       "     spatial_ref  int32 0\n",
       "   * x            (x) float64 -1.3e+06 -1.3e+06 -1.3e+06\n",
       "   * y            (y) float64 -2.469e+06 -2.469e+06 -2.469e+06\n",
       "   * time         (time) datetime64[ns] 2019-01-08T02:02:31.891863 ... 2019-02-25T02:02:22.478900\n",
       " Data variables:\n",
       "     nbart_red    (time, y, x) float32 nan nan nan nan ... 1125.0 nan nan nan\n",
       "     nbart_green  (time, y, x) float32 nan nan nan nan ... 629.0 nan nan nan\n",
       "     nbart_blue   (time, y, x) float32 nan nan nan nan ... 390.0 nan nan nan\n",
       "     nbart_nir    (time, y, x) float32 nan nan nan nan ... 1497.0 nan nan nan\n",
       " Attributes:\n",
       "     crs:           EPSG:3577\n",
       "     grid_mapping:  spatial_ref,\n",
       " '3a_ja_s_2_6': <xarray.Dataset>\n",
       " Dimensions:      (time: 4, x: 2, y: 3)\n",
       " Coordinates:\n",
       "     spatial_ref  int32 0\n",
       "   * x            (x) float64 -1.301e+06 -1.301e+06\n",
       "   * y            (y) float64 -2.468e+06 -2.468e+06 -2.468e+06\n",
       "   * time         (time) datetime64[ns] 2019-01-08T02:02:31.891863 ... 2019-02-25T02:02:22.478900\n",
       " Data variables:\n",
       "     nbart_red    (time, y, x) float32 nan nan 1009.0 ... 1026.0 1029.0 1009.0\n",
       "     nbart_green  (time, y, x) float32 nan nan 568.0 584.0 ... 578.0 579.0 575.0\n",
       "     nbart_blue   (time, y, x) float32 nan nan 367.0 379.0 ... 373.0 369.0 365.0\n",
       "     nbart_nir    (time, y, x) float32 nan nan 1373.0 ... 1394.0 1403.0 1424.0\n",
       " Attributes:\n",
       "     crs:           EPSG:3577\n",
       "     grid_mapping:  spatial_ref,\n",
       " '4a_ja_s_2_6': <xarray.Dataset>\n",
       " Dimensions:      (time: 4, x: 3, y: 3)\n",
       " Coordinates:\n",
       "     spatial_ref  int32 0\n",
       "   * x            (x) float64 -1.301e+06 -1.301e+06 -1.301e+06\n",
       "   * y            (y) float64 -2.468e+06 -2.468e+06 -2.468e+06\n",
       "   * time         (time) datetime64[ns] 2019-01-08T02:02:31.891863 ... 2019-02-25T02:02:22.478900\n",
       " Data variables:\n",
       "     nbart_red    (time, y, x) float32 nan nan nan nan ... nan 1031.0 1077.0\n",
       "     nbart_green  (time, y, x) float32 nan nan nan nan ... 596.0 nan 582.0 591.0\n",
       "     nbart_blue   (time, y, x) float32 nan nan nan nan ... 378.0 nan 374.0 376.0\n",
       "     nbart_nir    (time, y, x) float32 nan nan nan nan ... nan 1376.0 1397.0\n",
       " Attributes:\n",
       "     crs:           EPSG:3577\n",
       "     grid_mapping:  spatial_ref,\n",
       " '3a_ja_s_1_4': <xarray.Dataset>\n",
       " Dimensions:      (time: 4, x: 3, y: 3)\n",
       " Coordinates:\n",
       "     spatial_ref  int32 0\n",
       "   * x            (x) float64 -1.297e+06 -1.297e+06 -1.297e+06\n",
       "   * y            (y) float64 -2.468e+06 -2.468e+06 -2.468e+06\n",
       "   * time         (time) datetime64[ns] 2019-01-08T02:02:31.891863 ... 2019-02-25T02:02:22.478900\n",
       " Data variables:\n",
       "     nbart_red    (time, y, x) float32 nan nan nan nan 1008.0 ... nan nan nan nan\n",
       "     nbart_green  (time, y, x) float32 nan nan nan nan 578.0 ... nan nan nan nan\n",
       "     nbart_blue   (time, y, x) float32 nan nan nan nan 368.0 ... nan nan nan nan\n",
       "     nbart_nir    (time, y, x) float32 nan nan nan nan 1414.0 ... nan nan nan nan\n",
       " Attributes:\n",
       "     crs:           EPSG:3577\n",
       "     grid_mapping:  spatial_ref,\n",
       " '4a_ja_s_1_4': <xarray.Dataset>\n",
       " Dimensions:      (time: 4, x: 2, y: 3)\n",
       " Coordinates:\n",
       "     spatial_ref  int32 0\n",
       "   * x            (x) float64 -1.297e+06 -1.297e+06\n",
       "   * y            (y) float64 -2.468e+06 -2.468e+06 -2.468e+06\n",
       "   * time         (time) datetime64[ns] 2019-01-08T02:02:31.891863 ... 2019-02-25T02:02:22.478900\n",
       " Data variables:\n",
       "     nbart_red    (time, y, x) float32 nan nan 1036.0 ... 1006.0 948.0 1014.0\n",
       "     nbart_green  (time, y, x) float32 nan nan 573.0 564.0 ... 577.0 562.0 601.0\n",
       "     nbart_blue   (time, y, x) float32 nan nan 369.0 359.0 ... 369.0 355.0 375.0\n",
       "     nbart_nir    (time, y, x) float32 nan nan 1343.0 ... 1333.0 1403.0 1450.0\n",
       " Attributes:\n",
       "     crs:           EPSG:3577\n",
       "     grid_mapping:  spatial_ref,\n",
       " '3a_ja_s_4_1': <xarray.Dataset>\n",
       " Dimensions:      (time: 4, x: 3, y: 2)\n",
       " Coordinates:\n",
       "     spatial_ref  int32 0\n",
       "   * x            (x) float64 -1.295e+06 -1.295e+06 -1.295e+06\n",
       "   * y            (y) float64 -2.47e+06 -2.47e+06\n",
       "   * time         (time) datetime64[ns] 2019-01-08T02:02:31.891863 ... 2019-02-25T02:02:22.478900\n",
       " Data variables:\n",
       "     nbart_red    (time, y, x) float32 nan 1003.0 nan nan ... nan nan 981.0 nan\n",
       "     nbart_green  (time, y, x) float32 nan 584.0 nan nan ... nan nan 584.0 nan\n",
       "     nbart_blue   (time, y, x) float32 nan 375.0 nan nan ... nan nan 382.0 nan\n",
       "     nbart_nir    (time, y, x) float32 nan 1351.0 nan nan ... nan nan 1345.0 nan\n",
       " Attributes:\n",
       "     crs:           EPSG:3577\n",
       "     grid_mapping:  spatial_ref,\n",
       " '4a_ja_d_4_1': <xarray.Dataset>\n",
       " Dimensions:      (time: 4, x: 2, y: 2)\n",
       " Coordinates:\n",
       "     spatial_ref  int32 0\n",
       "   * x            (x) float64 -1.295e+06 -1.295e+06\n",
       "   * y            (y) float64 -2.47e+06 -2.47e+06\n",
       "   * time         (time) datetime64[ns] 2019-01-08T02:02:31.891863 ... 2019-02-25T02:02:22.478900\n",
       " Data variables:\n",
       "     nbart_red    (time, y, x) float32 976.0 980.0 1002.0 ... 944.0 974.0 964.0\n",
       "     nbart_green  (time, y, x) float32 586.0 588.0 602.0 ... 574.0 596.0 584.0\n",
       "     nbart_blue   (time, y, x) float32 384.0 379.0 387.0 ... 382.0 391.0 381.0\n",
       "     nbart_nir    (time, y, x) float32 1341.0 1360.0 1362.0 ... 1357.0 1376.0\n",
       " Attributes:\n",
       "     crs:           EPSG:3577\n",
       "     grid_mapping:  spatial_ref,\n",
       " '1a_k_s_4_9': <xarray.Dataset>\n",
       " Dimensions:      (time: 4, x: 2, y: 3)\n",
       " Coordinates:\n",
       "     spatial_ref  int32 0\n",
       "   * x            (x) float64 -1.294e+06 -1.294e+06\n",
       "   * y            (y) float64 -2.471e+06 -2.471e+06 -2.471e+06\n",
       "   * time         (time) datetime64[ns] 2019-01-08T02:02:31.891863 ... 2019-02-25T02:02:22.478900\n",
       " Data variables:\n",
       "     nbart_red    (time, y, x) float32 nan nan 1002.0 979.0 ... 944.0 nan nan\n",
       "     nbart_green  (time, y, x) float32 nan nan 722.0 723.0 ... 704.0 nan nan\n",
       "     nbart_blue   (time, y, x) float32 nan nan 451.0 458.0 ... 457.0 nan nan\n",
       "     nbart_nir    (time, y, x) float32 nan nan 1454.0 1441.0 ... 1467.0 nan nan\n",
       " Attributes:\n",
       "     crs:           EPSG:3577\n",
       "     grid_mapping:  spatial_ref,\n",
       " '2a_k_s_4_9': <xarray.Dataset>\n",
       " Dimensions:      (time: 4, x: 3, y: 2)\n",
       " Coordinates:\n",
       "     spatial_ref  int32 0\n",
       "   * x            (x) float64 -1.294e+06 -1.294e+06 -1.294e+06\n",
       "   * y            (y) float64 -2.471e+06 -2.471e+06\n",
       "   * time         (time) datetime64[ns] 2019-01-08T02:02:31.891863 ... 2019-02-25T02:02:22.478900\n",
       " Data variables:\n",
       "     nbart_red    (time, y, x) float32 nan 977.0 nan nan ... nan nan 935.0 nan\n",
       "     nbart_green  (time, y, x) float32 nan 715.0 nan nan ... nan nan 693.0 nan\n",
       "     nbart_blue   (time, y, x) float32 nan 449.0 nan nan ... nan nan 445.0 nan\n",
       "     nbart_nir    (time, y, x) float32 nan 1435.0 nan nan ... nan nan 1459.0 nan\n",
       " Attributes:\n",
       "     crs:           EPSG:3577\n",
       "     grid_mapping:  spatial_ref}"
      ]
     },
     "execution_count": 8,
     "metadata": {},
     "output_type": "execute_result"
    }
   ],
   "source": [
    "results"
   ]
  },
  {
   "cell_type": "markdown",
   "metadata": {},
   "source": [
    "Enter one of those values below to index our dictionary and conduct further analsyis on the satellite timeseries for that polygon."
   ]
  },
  {
   "cell_type": "code",
   "execution_count": 9,
   "metadata": {},
   "outputs": [],
   "source": [
    "key = '1a_ja_d_0_9'"
   ]
  },
  {
   "cell_type": "markdown",
   "metadata": {},
   "source": [
    "### Plot an RGB image\n",
    "We can now use the `dea_plotting.rgb` function to plot our loaded data as a three-band RGB plot:"
   ]
  },
  {
   "cell_type": "code",
   "execution_count": 10,
   "metadata": {},
   "outputs": [
    {
     "data": {
      "image/png": "[encoded data removed]",
      "text/plain": [
       "<Figure size 1224x288 with 4 Axes>"
      ]
     },
     "metadata": {
      "needs_background": "light"
     },
     "output_type": "display_data"
    }
   ],
   "source": [
    "rgb(results[key], col='time', size=4)"
   ]
  },
  {
   "cell_type": "markdown",
   "metadata": {},
   "source": [
    "### Calculate NDVI and plot\n",
    "We can also apply analyses to data loaded for each of our polygons.\n",
    "For example, we can calculate the Normalised Difference Vegetation Index (NDVI) to identify areas of growing vegetation:"
   ]
  },
  {
   "cell_type": "code",
   "execution_count": 11,
   "metadata": {},
   "outputs": [
    {
     "data": {
      "image/png": "[encoded data removed]",
      "text/plain": [
       "<Figure size 1296x288 with 5 Axes>"
      ]
     },
     "metadata": {
      "needs_background": "light"
     },
     "output_type": "display_data"
    }
   ],
   "source": [
    "# Calculate band index\n",
    "ndvi = calculate_indices(results[key], index='NDVI', collection='ga_ls_3')\n",
    "        \n",
    "# Plot NDVI for each polygon for the time query\n",
    "ndvi.NDVI.plot(col='time', cmap='YlGn', vmin=0, vmax=1, figsize=(18, 4))\n",
    "plt.show()"
   ]
  },
  {
   "cell_type": "markdown",
   "metadata": {},
   "source": [
    "***\n",
    "\n",
    "## Additional information\n",
    "\n",
    "**License:** The code in this notebook is licensed under the [Apache License, Version 2.0](https://www.apache.org/licenses/LICENSE-2.0). \n",
    "Digital Earth Australia data is licensed under the [Creative Commons by Attribution 4.0](https://creativecommons.org/licenses/by/4.0/) license.\n",
    "\n",
    "**Contact:** If you need assistance, please post a question on the [Open Data Cube Slack channel](http://slack.opendatacube.org/) or on the [GIS Stack Exchange](https://gis.stackexchange.com/questions/ask?tags=open-data-cube) using the `open-data-cube` tag (you can view previously asked questions [here](https://gis.stackexchange.com/questions/tagged/open-data-cube)).\n",
    "If you would like to report an issue with this notebook, you can file one on [Github](https://github.com/GeoscienceAustralia/dea-notebooks).\n",
    "\n",
    "**Last modified:** May 2020\n",
    "\n",
    "**Compatible datacube version:** "
   ]
  },
  {
   "cell_type": "code",
   "execution_count": 12,
   "metadata": {},
   "outputs": [
    {
     "name": "stdout",
     "output_type": "stream",
     "text": [
      "1.8.0b7.dev35+g5023dada\n"
     ]
    }
   ],
   "source": [
    "print(datacube.__version__)"
   ]
  },
  {
   "cell_type": "markdown",
   "metadata": {},
   "source": [
    "## Tags\n",
    "Browse all available tags on the DEA User Guide's [Tags Index](https://docs.dea.ga.gov.au/genindex.html)"
   ]
  },
  {
   "cell_type": "raw",
   "metadata": {
    "raw_mimetype": "text/restructuredtext"
   },
   "source": [
    "**Tags**: :index:`NCI compatible`, :index:`sandbox compatible`, :index:`landsat 8`, :index:`dea_plotting`, :index:`dea_datahandling`, :index:`xr_rasterize`, :index:`dea_bandindices`, :index:`dea_spatialtools`, :index:`dea_temporaltools`, :index:`time_buffer`, :index:`load_ard`, :index:`rgb`, :index:`calculate_indices`, :index:`NDVI`, :index:`GeoPandas`, :index:`shapefile`"
   ]
  }
 ],
 "metadata": {
  "kernelspec": {
   "display_name": "Python 3",
   "language": "python",
   "name": "python3"
  },
  "language_info": {
   "codemirror_mode": {
    "name": "ipython",
    "version": 3
   },
   "file_extension": ".py",
   "mimetype": "text/x-python",
   "name": "python",
   "nbconvert_exporter": "python",
   "pygments_lexer": "ipython3",
   "version": "3.6.9"
  },
  "widgets": {
   "application/vnd.jupyter.widget-state+json": {
    "state": {
     "049833b42ed7428bb39027695507c11a": {
      "model_module": "@jupyter-widgets/output",
      "model_module_version": "1.0.0",
      "model_name": "OutputModel",
      "state": {
       "layout": "IPY_MODEL_caeb0e3d54de47e4bdba42a30855188f"
      }
     },
     "1225409690aa4181a83453736a73fa9e": {
      "model_module": "jupyter-leaflet",
      "model_module_version": "^0.11.1",
      "model_name": "LeafletAttributionControlModel",
      "state": {
       "_model_module_version": "^0.11.1",
       "_view_count": null,
       "_view_module_version": "^0.11.1",
       "options": [
        "position",
        "prefix"
       ],
       "position": "bottomright",
       "prefix": "Leaflet"
      }
     },
     "1c74898f2f5a4414bda61a184466d7f4": {
      "model_module": "jupyter-leaflet",
      "model_module_version": "^0.11.1",
      "model_name": "LeafletMapStyleModel",
      "state": {
       "_model_module_version": "^0.11.1",
       "_view_count": null,
       "_view_module": "@jupyter-widgets/base",
       "_view_module_version": "1.2.0",
       "_view_name": "StyleView",
       "cursor": "grab"
      }
     },
     "3b5f556301bb469788c0f0383f73c996": {
      "model_module": "@jupyter-widgets/controls",
      "model_module_version": "1.5.0",
      "model_name": "LabelModel",
      "state": {
       "layout": "IPY_MODEL_941c5b7f8c4047f78f63ad5d7353298b",
       "style": "IPY_MODEL_ab499021f845479585c688998dcd93a0"
      }
     },
     "43d8ba22c1d84f769c5b748bdad8bcd9": {
      "model_module": "jupyter-leaflet",
      "model_module_version": "^0.11.1",
      "model_name": "LeafletGeoJSONModel",
      "state": {
       "_model_module_version": "^0.11.1",
       "_view_count": null,
       "_view_module_version": "^0.11.1",
       "data": {
        "bbox": [
         119.24256709736015,
         -22.361444110354203,
         119.34711150240342,
         -22.319070000229043
        ],
        "features": [
         {
          "bbox": [
           119.26089373875271,
           -22.3208792053389,
           119.26142954520485,
           -22.320389215873753
          ],
          "geometry": {
           "coordinates": [
            [
             [
              119.26094246892825,
              -22.320389215873753
             ],
             [
              119.26142954520485,
              -22.32043377820574
             ],
             [
              119.26138081686771,
              -22.3208792053389
             ],
             [
              119.26089373875271,
              -22.320834642867926
             ],
             [
              119.26094246892825,
              -22.320389215873753
             ]
            ]
           ],
           "type": "Polygon"
          },
          "id": "0",
          "properties": {
           "sites": "1a_ja_d_0_9",
           "style": {
            "color": "black",
            "fillColor": "#ffffcc",
            "fillOpacity": 0.8,
            "weight": 0.9
           }
          },
          "type": "Feature"
         },
         {
          "bbox": [
           119.26211677384441,
           -22.32522409755869,
           119.26265259602708,
           -22.32473411524734
          ],
          "geometry": {
           "coordinates": [
            [
             [
              119.2621655011692,
              -22.32473411524734
             ],
             [
              119.26265259602708,
              -22.324778673013636
             ],
             [
              119.26260387054084,
              -22.32522409755869
             ],
             [
              119.26211677384441,
              -22.325179539653465
             ],
             [
              119.2621655011692,
              -22.32473411524734
             ]
            ]
           ],
           "type": "Polygon"
          },
          "id": "1",
          "properties": {
           "sites": "1a_ja_d_0_8",
           "style": {
            "color": "black",
            "fillColor": "#fffcc4",
            "fillOpacity": 0.8,
            "weight": 0.9
           }
          },
          "type": "Feature"
         },
         {
          "bbox": [
           119.25196121157732,
           -22.327522671945644,
           119.25249707914834,
           -22.327032659523695
          ],
          "geometry": {
           "coordinates": [
            [
             [
              119.25200997858161,
              -22.327032659523695
             ],
             [
              119.25249707914834,
              -22.327077252537737
             ],
             [
              119.25244831398265,
              -22.327522671945644
             ],
             [
              119.25196121157732,
              -22.3274780787925
             ],
             [
              119.25200997858161,
              -22.327032659523695
             ]
            ]
           ],
           "type": "Polygon"
          },
          "id": "2",
          "properties": {
           "sites": "1a_ja_s_1_7",
           "style": {
            "color": "black",
            "fillColor": "#fff9bc",
            "fillOpacity": 0.8,
            "weight": 0.9
           }
          },
          "type": "Feature"
         },
         {
          "bbox": [
           119.25129973325974,
           -22.32186431687035,
           119.2518355771468,
           -22.321374298055247
          ],
          "geometry": {
           "coordinates": [
            [
             [
              119.25134850042404,
              -22.321374298055247
             ],
             [
              119.2518355771468,
              -22.321418893768506
             ],
             [
              119.2517868118209,
              -22.32186431687035
             ],
             [
              119.25129973325974,
              -22.32181972101793
             ],
             [
              119.25134850042404,
              -22.321374298055247
             ]
            ]
           ],
           "type": "Polygon"
          },
          "id": "3",
          "properties": {
           "sites": "1a_ja_d_1_6",
           "style": {
            "color": "black",
            "fillColor": "#fff5b4",
            "fillOpacity": 0.8,
            "weight": 0.9
           }
          },
          "type": "Feature"
         },
         {
          "bbox": [
           119.25886167610236,
           -22.320646021437405,
           119.25939748845724,
           -22.320156025418175
          ],
          "geometry": {
           "coordinates": [
            [
             [
              119.25891041392798,
              -22.320156025418175
             ],
             [
              119.25939748845724,
              -22.320200594851254
             ],
             [
              119.25934875247003,
              -22.320646021437405
             ],
             [
              119.25886167610236,
              -22.320601451865326
             ],
             [
              119.25891041392798,
              -22.320156025418175
             ]
            ]
           ],
           "type": "Polygon"
          },
          "id": "4",
          "properties": {
           "sites": "2a_ja_s_0_9",
           "style": {
            "color": "black",
            "fillColor": "#fff2ab",
            "fillOpacity": 0.8,
            "weight": 0.9
           }
          },
          "type": "Feature"
         },
         {
          "bbox": [
           119.25980869268709,
           -22.325233619020164,
           119.26034452283307,
           -22.324743629473957
          ],
          "geometry": {
           "coordinates": [
            [
             [
              119.2598574288159,
              -22.324743629473957
             ],
             [
              119.26034452283307,
              -22.324788195286658
             ],
             [
              119.26029578854285,
              -22.325233619020164
             ],
             [
              119.25980869268709,
              -22.325189053068424
             ],
             [
              119.2598574288159,
              -22.324743629473957
             ]
            ]
           ],
           "type": "Polygon"
          },
          "id": "5",
          "properties": {
           "sites": "2a_ja_s_0_8",
           "style": {
            "color": "black",
            "fillColor": "#ffefa3",
            "fillOpacity": 0.8,
            "weight": 0.9
           }
          },
          "type": "Feature"
         },
         {
          "bbox": [
           119.24256709736015,
           -22.32144078667155,
           119.24310296926362,
           -22.32095074013601
          ],
          "geometry": {
           "coordinates": [
            [
             [
              119.2426158976411,
              -22.32095074013601
             ],
             [
              119.24310296926362,
              -22.320995366325104
             ],
             [
              119.243054170821,
              -22.32144078667155
             ],
             [
              119.24256709736015,
              -22.321396160343276
             ],
             [
              119.2426158976411,
              -22.32095074013601
             ]
            ]
           ],
           "type": "Polygon"
          },
          "id": "6",
          "properties": {
           "sites": "1a_ja_d_2_6",
           "style": {
            "color": "black",
            "fillColor": "#ffeb9b",
            "fillOpacity": 0.8,
            "weight": 0.9
           }
          },
          "type": "Feature"
         },
         {
          "bbox": [
           119.24315243962691,
           -22.324120057823336,
           119.24368832181169,
           -22.32363001516937
          ],
          "geometry": {
           "coordinates": [
            [
             [
              119.24320123879535,
              -22.32363001516937
             ],
             [
              119.24368832181169,
              -22.32367463913138
             ],
             [
              119.24363952448171,
              -22.324120057823336
             ],
             [
              119.24315243962691,
              -22.324075433722097
             ],
             [
              119.24320123879535,
              -22.32363001516937
             ]
            ]
           ],
           "type": "Polygon"
          },
          "id": "7",
          "properties": {
           "sites": "2a_ja_d_2_6",
           "style": {
            "color": "black",
            "fillColor": "#ffe793",
            "fillOpacity": 0.8,
            "weight": 0.9
           }
          },
          "type": "Feature"
         },
         {
          "bbox": [
           119.28138091892356,
           -22.32708956404995,
           119.28191668355423,
           -22.326599643613104
          ],
          "geometry": {
           "coordinates": [
            [
             [
              119.28142957357633,
              -22.326599643613104
             ],
             [
              119.28191668355423,
              -22.32664413408483
             ],
             [
              119.28186803074023,
              -22.32708956404995
             ],
             [
              119.28138091892356,
              -22.32704507343948
             ],
             [
              119.28142957357633,
              -22.326599643613104
             ]
            ]
           ],
           "type": "Polygon"
          },
          "id": "8",
          "properties": {
           "sites": "1a_ja_d_1_4",
           "style": {
            "color": "black",
            "fillColor": "#ffe48c",
            "fillOpacity": 0.8,
            "weight": 0.9
           }
          },
          "type": "Feature"
         },
         {
          "bbox": [
           119.28083125873948,
           -22.32872425400021,
           119.28136703275352,
           -22.328234333084872
          ],
          "geometry": {
           "coordinates": [
            [
             [
              119.28087991616886,
              -22.328234333084872
             ],
             [
              119.28136703275352,
              -22.328278825359774
             ],
             [
              119.28131837716298,
              -22.32872425400021
             ],
             [
              119.28083125873948,
              -22.32867976158654
             ],
             [
              119.28087991616886,
              -22.328234333084872
             ]
            ]
           ],
           "type": "Polygon"
          },
          "id": "9",
          "properties": {
           "sites": "2a_ja_d_1_4",
           "style": {
            "color": "black",
            "fillColor": "#ffe084",
            "fillOpacity": 0.8,
            "weight": 0.9
           }
          },
          "type": "Feature"
         },
         {
          "bbox": [
           119.28976849815062,
           -22.34244420691176,
           119.290304304418,
           -22.34195432449277
          ],
          "geometry": {
           "coordinates": [
            [
             [
              119.28981712721453,
              -22.34195432449277
             ],
             [
              119.290304304418,
              -22.341998784659076
             ],
             [
              119.29025567719337,
              -22.34244420691176
             ],
             [
              119.28976849815062,
              -22.342399746606677
             ],
             [
              119.28981712721453,
              -22.34195432449277
             ]
            ]
           ],
           "type": "Polygon"
          },
          "id": "10",
          "properties": {
           "sites": "1a_ja_s_3_2",
           "style": {
            "color": "black",
            "fillColor": "#ffdc7c",
            "fillOpacity": 0.8,
            "weight": 0.9
           }
          },
          "type": "Feature"
         },
         {
          "bbox": [
           119.28998264476938,
           -22.34472848827279,
           119.29051846078023,
           -22.34423860826286
          ],
          "geometry": {
           "coordinates": [
            [
             [
              119.2900312739677,
              -22.34423860826286
             ],
             [
              119.29051846078023,
              -22.344283067524902
             ],
             [
              119.29046983342128,
              -22.34472848827279
             ],
             [
              119.28998264476938,
              -22.344684028871935
             ],
             [
              119.2900312739677,
              -22.34423860826286
             ]
            ]
           ],
           "type": "Polygon"
          },
          "id": "11",
          "properties": {
           "sites": "2a_ja_s_3_2",
           "style": {
            "color": "black",
            "fillColor": "#fed874",
            "fillOpacity": 0.8,
            "weight": 0.9
           }
          },
          "type": "Feature"
         },
         {
          "bbox": [
           119.29883425549399,
           -22.344471492690882,
           119.299370039939,
           -22.343981640267526
          ],
          "geometry": {
           "coordinates": [
            [
             [
              119.29888285083032,
              -22.343981640267526
             ],
             [
              119.299370039939,
              -22.344026068686077
             ],
             [
              119.29932144644206,
              -22.344471492690882
             ],
             [
              119.29883425549399,
              -22.34442706413363
             ],
             [
              119.29888285083032,
              -22.343981640267526
             ]
            ]
           ],
           "type": "Polygon"
          },
          "id": "12",
          "properties": {
           "sites": "1a_ja_s_4_1",
           "style": {
            "color": "black",
            "fillColor": "#fed06c",
            "fillOpacity": 0.8,
            "weight": 0.9
           }
          },
          "type": "Feature"
         },
         {
          "bbox": [
           119.2991697538829,
           -22.347169799919513,
           119.29970554955368,
           -22.346679950600144
          ],
          "geometry": {
           "coordinates": [
            [
             [
              119.29921834906244,
              -22.346679950600144
             ],
             [
              119.29970554955368,
              -22.346724377662955
             ],
             [
              119.29965695621361,
              -22.347169799919513
             ],
             [
              119.2991697538829,
              -22.347125372717937
             ],
             [
              119.29921834906244,
              -22.346679950600144
             ]
            ]
           ],
           "type": "Polygon"
          },
          "id": "13",
          "properties": {
           "sites": "2a_ja_d_4_1",
           "style": {
            "color": "black",
            "fillColor": "#fec964",
            "fillOpacity": 0.8,
            "weight": 0.9
           }
          },
          "type": "Feature"
         },
         {
          "bbox": [
           119.32251230277325,
           -22.348761622090333,
           119.32304802559764,
           -22.34827184725506
          ],
          "geometry": {
           "coordinates": [
            [
             [
              119.32256080959561,
              -22.34827184725506
             ],
             [
              119.32304802559764,
              -22.34831619282383
             ],
             [
              119.32299952061496,
              -22.348761622090333
             ],
             [
              119.32251230277325,
              -22.348717276383088
             ],
             [
              119.32256080959561,
              -22.34827184725506
             ]
            ]
           ],
           "type": "Polygon"
          },
          "id": "14",
          "properties": {
           "sites": "1a_ja_s_6_3",
           "style": {
            "color": "black",
            "fillColor": "#fec25c",
            "fillOpacity": 0.8,
            "weight": 0.9
           }
          },
          "type": "Feature"
         },
         {
          "bbox": [
           119.32284066108119,
           -22.352195182502665,
           119.32337639852726,
           -22.351705411305552
          ],
          "geometry": {
           "coordinates": [
            [
             [
              119.32288916807728,
              -22.351705411305552
             ],
             [
              119.32337639852726,
              -22.351749755493344
             ],
             [
              119.32332789337094,
              -22.352195182502665
             ],
             [
              119.32284066108119,
              -22.35215083817634
             ],
             [
              119.32288916807728,
              -22.351705411305552
             ]
            ]
           ],
           "type": "Polygon"
          },
          "id": "15",
          "properties": {
           "sites": "2a_ja_s_6_3",
           "style": {
            "color": "black",
            "fillColor": "#feba55",
            "fillOpacity": 0.8,
            "weight": 0.9
           }
          },
          "type": "Feature"
         },
         {
          "bbox": [
           119.34422489265044,
           -22.361444110354203,
           119.34476059907664,
           -22.360954413313358
          ],
          "geometry": {
           "coordinates": [
            [
             [
              119.34427332192662,
              -22.360954413313358
             ],
             [
              119.34476059907664,
              -22.36099868230933
             ],
             [
              119.34471217164064,
              -22.361444110354203
             ],
             [
              119.34422489265044,
              -22.36139984121991
             ],
             [
              119.34427332192662,
              -22.360954413313358
             ]
            ]
           ],
           "type": "Polygon"
          },
          "id": "16",
          "properties": {
           "sites": "1a_ja_s_9_0",
           "style": {
            "color": "black",
            "fillColor": "#feb34d",
            "fillOpacity": 0.8,
            "weight": 0.9
           }
          },
          "type": "Feature"
         },
         {
          "bbox": [
           119.34657580427117,
           -22.361396517461095,
           119.34711150240342,
           -22.360906827766236
          ],
          "geometry": {
           "coordinates": [
            [
             [
              119.34662422456091,
              -22.360906827766236
             ],
             [
              119.34711150240342,
              -22.36095108856888
             ],
             [
              119.34706308395384,
              -22.361396517461095
             ],
             [
              119.34657580427117,
              -22.361352256520156
             ],
             [
              119.34662422456091,
              -22.360906827766236
             ]
            ]
           ],
           "type": "Polygon"
          },
          "id": "17",
          "properties": {
           "sites": "2a_ja_s_9_0",
           "style": {
            "color": "black",
            "fillColor": "#feac49",
            "fillOpacity": 0.8,
            "weight": 0.9
           }
          },
          "type": "Feature"
         },
         {
          "bbox": [
           119.29694970524704,
           -22.35052960106758,
           119.29748552395259,
           -22.350039747332552
          ],
          "geometry": {
           "coordinates": [
            [
             [
              119.29699831029095,
              -22.350039747332552
             ],
             [
              119.29748552395259,
              -22.350084181904045
             ],
             [
              119.29743692074827,
              -22.35052960106758
             ],
             [
              119.29694970524704,
              -22.350485166357355
             ],
             [
              119.29699831029095,
              -22.350039747332552
             ]
            ]
           ],
           "type": "Polygon"
          },
          "id": "18",
          "properties": {
           "sites": "1a_k_s_4_3",
           "style": {
            "color": "black",
            "fillColor": "#fea546",
            "fillOpacity": 0.8,
            "weight": 0.9
           }
          },
          "type": "Feature"
         },
         {
          "bbox": [
           119.29837976341163,
           -22.350684263730024,
           119.29891557791701,
           -22.35019441460096
          ],
          "geometry": {
           "coordinates": [
            [
             [
              119.29842836306617,
              -22.35019441460096
             ],
             [
              119.29891557791701,
              -22.35023884417587
             ],
             [
              119.29886698010205,
              -22.350684263730024
             ],
             [
              119.29837976341163,
              -22.35063983401632
             ],
             [
              119.29842836306617,
              -22.35019441460096
             ]
            ]
           ],
           "type": "Polygon"
          },
          "id": "19",
          "properties": {
           "sites": "2a_k_s_4_3",
           "style": {
            "color": "black",
            "fillColor": "#fe9e43",
            "fillOpacity": 0.8,
            "weight": 0.9
           }
          },
          "type": "Feature"
         },
         {
          "bbox": [
           119.31821259685039,
           -22.354212971934437,
           119.31874835944534,
           -22.353723187739742
          ],
          "geometry": {
           "coordinates": [
            [
             [
              119.31826112233513,
              -22.353723187739742
             ],
             [
              119.31874835944534,
              -22.353767547924683
             ],
             [
              119.31869983580039,
              -22.354212971934437
             ],
             [
              119.31821259685039,
              -22.35416861161093
             ],
             [
              119.31826112233513,
              -22.353723187739742
             ]
            ]
           ],
           "type": "Polygon"
          },
          "id": "20",
          "properties": {
           "sites": "1a_k_s_6_2",
           "style": {
            "color": "black",
            "fillColor": "#fe9740",
            "fillOpacity": 0.8,
            "weight": 0.9
           }
          },
          "type": "Feature"
         },
         {
          "bbox": [
           119.31768316277024,
           -22.35556331637394,
           119.31821893337782,
           -22.35507353154185
          ],
          "geometry": {
           "coordinates": [
            [
             [
              119.31773169083525,
              -22.35507353154185
             ],
             [
              119.31821893337782,
              -22.355117893479882
             ],
             [
              119.31817040715268,
              -22.35556331637394
             ],
             [
              119.31768316277024,
              -22.355518954297402
             ],
             [
              119.31773169083525,
              -22.35507353154185
             ]
            ]
           ],
           "type": "Polygon"
          },
          "id": "21",
          "properties": {
           "sites": "2a_k_s_6_2",
           "style": {
            "color": "black",
            "fillColor": "#fe913d",
            "fillOpacity": 0.8,
            "weight": 0.9
           }
          },
          "type": "Feature"
         },
         {
          "bbox": [
           119.28933780129206,
           -22.348407134601818,
           119.28987363639234,
           -22.34791725536403
          ],
          "geometry": {
           "coordinates": [
            [
             [
              119.2893864344811,
              -22.34791725536403
             ],
             [
              119.28987363639234,
              -22.347961716620503
             ],
             [
              119.28982500504276,
              -22.348407134601818
             ],
             [
              119.28933780129206,
              -22.34836267320654
             ],
             [
              119.2893864344811,
              -22.34791725536403
             ]
            ]
           ],
           "type": "Polygon"
          },
          "id": "22",
          "properties": {
           "sites": "1a_k_s_3_4",
           "style": {
            "color": "black",
            "fillColor": "#fd873a",
            "fillOpacity": 0.8,
            "weight": 0.9
           }
          },
          "type": "Feature"
         },
         {
          "bbox": [
           119.28608983308172,
           -22.34769330166799,
           119.28662567605677,
           -22.347203411694277
          ],
          "geometry": {
           "coordinates": [
            [
             [
              119.28613847835966,
              -22.347203411694277
             ],
             [
              119.28662567605677,
              -22.347247884323945
             ],
             [
              119.28657703261823,
              -22.34769330166799
             ],
             [
              119.28608983308172,
              -22.347648828899473
             ],
             [
              119.28613847835966,
              -22.347203411694277
             ]
            ]
           ],
           "type": "Polygon"
          },
          "id": "23",
          "properties": {
           "sites": "2a_k_s_3_4",
           "style": {
            "color": "black",
            "fillColor": "#fd7b37",
            "fillOpacity": 0.8,
            "weight": 0.9
           }
          },
          "type": "Feature"
         },
         {
          "bbox": [
           119.27780931307223,
           -22.33962694491852,
           119.27834514746581,
           -22.33913702282426
          ],
          "geometry": {
           "coordinates": [
            [
             [
              119.27785798656645,
              -22.33913702282426
             ],
             [
              119.27834514746581,
              -22.33918152488083
             ],
             [
              119.27829647581072,
              -22.33962694491852
             ],
             [
              119.27780931307223,
              -22.33958244272304
             ],
             [
              119.27785798656645,
              -22.33913702282426
             ]
            ]
           ],
           "type": "Polygon"
          },
          "id": "24",
          "properties": {
           "sites": "1a_k_s_1_9",
           "style": {
            "color": "black",
            "fillColor": "#fd7033",
            "fillOpacity": 0.8,
            "weight": 0.9
           }
          },
          "type": "Feature"
         },
         {
          "bbox": [
           119.27749998509381,
           -22.338544291058213,
           119.27803581558271,
           -22.338054367169267
          ],
          "geometry": {
           "coordinates": [
            [
             [
              119.27754865931642,
              -22.338054367169267
             ],
             [
              119.27803581558271,
              -22.33809887037917
             ],
             [
              119.27798714319917,
              -22.338544291058213
             ],
             [
              119.27749998509381,
              -22.338499787709342
             ],
             [
              119.27754865931642,
              -22.338054367169267
             ]
            ]
           ],
           "type": "Polygon"
          },
          "id": "25",
          "properties": {
           "sites": "2a_k_s_1_9",
           "style": {
            "color": "black",
            "fillColor": "#fd6430",
            "fillOpacity": 0.8,
            "weight": 0.9
           }
          },
          "type": "Feature"
         },
         {
          "bbox": [
           119.25617999307114,
           -22.331929425430474,
           119.25671586638106,
           -22.331439429604607
          ],
          "geometry": {
           "coordinates": [
            [
             [
              119.25622874582926,
              -22.331439429604607
             ],
             [
              119.25671586638106,
              -22.33148400760423
             ],
             [
              119.25666711546168,
              -22.331929425430474
             ],
             [
              119.25617999307114,
              -22.331884847291708
             ],
             [
              119.25622874582926,
              -22.331439429604607
             ]
            ]
           ],
           "type": "Polygon"
          },
          "id": "26",
          "properties": {
           "sites": "1a_k_s_1_5",
           "style": {
            "color": "black",
            "fillColor": "#fd582d",
            "fillOpacity": 0.8,
            "weight": 0.9
           }
          },
          "type": "Feature"
         },
         {
          "bbox": [
           119.25775044046595,
           -22.331739066158814,
           119.25828630751397,
           -22.331249075115245
          ],
          "geometry": {
           "coordinates": [
            [
             [
              119.25779918715669,
              -22.331249075115245
             ],
             [
              119.25828630751397,
              -22.331293647652757
             ],
             [
              119.25823756266196,
              -22.331739066158814
             ],
             [
              119.25775044046595,
              -22.331694493482228
             ],
             [
              119.25779918715669,
              -22.331249075115245
             ]
            ]
           ],
           "type": "Polygon"
          },
          "id": "27",
          "properties": {
           "sites": "2a_k_s_1_5",
           "style": {
            "color": "black",
            "fillColor": "#fc4d29",
            "fillOpacity": 0.8,
            "weight": 0.9
           }
          },
          "type": "Feature"
         },
         {
          "bbox": [
           119.2614824561439,
           -22.3217205418481,
           119.26201826443457,
           -22.321230554872532
          ],
          "geometry": {
           "coordinates": [
            [
             [
              119.26153118442585,
              -22.321230554872532
             ],
             [
              119.26201826443457,
              -22.321275115093545
             ],
             [
              119.26196953799109,
              -22.3217205418481
             ],
             [
              119.2614824561439,
              -22.32167598148815
             ],
             [
              119.26153118442585,
              -22.321230554872532
             ]
            ]
           ],
           "type": "Polygon"
          },
          "id": "28",
          "properties": {
           "sites": "3a_ja_d_0_9",
           "style": {
            "color": "black",
            "fillColor": "#f74327",
            "fillOpacity": 0.8,
            "weight": 0.9
           }
          },
          "type": "Feature"
         },
         {
          "bbox": [
           119.25942660326226,
           -22.319559995304996,
           119.25996240869821,
           -22.319070000229043
          ],
          "geometry": {
           "coordinates": [
            [
             [
              119.25947533848104,
              -22.319070000229043
             ],
             [
              119.25996240869821,
              -22.319114567767937
             ],
             [
              119.25991367531779,
              -22.319559995304996
             ],
             [
              119.25942660326226,
              -22.319515427627163
             ],
             [
              119.25947533848104,
              -22.319070000229043
             ]
            ]
           ],
           "type": "Polygon"
          },
          "id": "29",
          "properties": {
           "sites": "4a_ja_s_0_9",
           "style": {
            "color": "black",
            "fillColor": "#f33924",
            "fillOpacity": 0.8,
            "weight": 0.9
           }
          },
          "type": "Feature"
         },
         {
          "bbox": [
           119.26097800022539,
           -22.32578466048676,
           119.26151382888658,
           -22.32529467502993
          ],
          "geometry": {
           "coordinates": [
            [
             [
              119.26102673212583,
              -22.32529467502993
             ],
             [
              119.26151382888658,
              -22.3253392367276
             ],
             [
              119.26146509882473,
              -22.32578466048676
             ],
             [
              119.26097800022539,
              -22.32574009865009
             ],
             [
              119.26102673212583,
              -22.32529467502993
             ]
            ]
           ],
           "type": "Polygon"
          },
          "id": "30",
          "properties": {
           "sites": "3a_ja_d_0_8",
           "style": {
            "color": "black",
            "fillColor": "#ee2f21",
            "fillOpacity": 0.8,
            "weight": 0.9
           }
          },
          "type": "Feature"
         },
         {
          "bbox": [
           119.25922671263272,
           -22.326346215817487,
           119.25976254987866,
           -22.32585622529396
          ],
          "geometry": {
           "coordinates": [
            [
             [
              119.2592754514446,
              -22.32585622529396
             ],
             [
              119.25976254987866,
              -22.325900793058615
             ],
             [
              119.25971381290537,
              -22.326346215817487
             ],
             [
              119.25922671263272,
              -22.32630164791386
             ],
             [
              119.2592754514446,
              -22.32585622529396
             ]
            ]
           ],
           "type": "Polygon"
          },
          "id": "31",
          "properties": {
           "sites": "4a_ja_s_0_8",
           "style": {
            "color": "black",
            "fillColor": "#e9261f",
            "fillOpacity": 0.8,
            "weight": 0.9
           }
          },
          "type": "Feature"
         },
         {
          "bbox": [
           119.2530781840079,
           -22.322350953328097,
           119.25361402402528,
           -22.321860940464283
          ],
          "geometry": {
           "coordinates": [
            [
             [
              119.25312694459485,
              -22.321860940464283
             ],
             [
              119.25361402402528,
              -22.321905529943233
             ],
             [
              119.25356526527678,
              -22.322350953328097
             ],
             [
              119.2530781840079,
              -22.322306363710084
             ],
             [
              119.25312694459485,
              -22.321860940464283
             ]
            ]
           ],
           "type": "Polygon"
          },
          "id": "32",
          "properties": {
           "sites": "2a_ja_d_1_6",
           "style": {
            "color": "black",
            "fillColor": "#e51c1c",
            "fillOpacity": 0.8,
            "weight": 0.9
           }
          },
          "type": "Feature"
         },
         {
          "bbox": [
           119.2530876980703,
           -22.324007057541166,
           119.25362354565091,
           -22.32351704597131
          ],
          "geometry": {
           "coordinates": [
            [
             [
              119.25313645931219,
              -22.32351704597131
             ],
             [
              119.25362354565091,
              -22.323561635302
             ],
             [
              119.25357478624748,
              -22.324007057541166
             ],
             [
              119.2530876980703,
              -22.323962468071404
             ],
             [
              119.25313645931219,
              -22.32351704597131
             ]
            ]
           ],
           "type": "Polygon"
          },
          "id": "33",
          "properties": {
           "sites": "3a_ja_s_1_6",
           "style": {
            "color": "black",
            "fillColor": "#de161d",
            "fillOpacity": 0.8,
            "weight": 0.9
           }
          },
          "type": "Feature"
         },
         {
          "bbox": [
           119.25010861330286,
           -22.32159904859569,
           119.25064446005977,
           -22.321109025840972
          ],
          "geometry": {
           "coordinates": [
            [
             [
              119.25015738489762,
              -22.321109025840972
             ],
             [
              119.25064446005977,
              -22.321153625725596
             ],
             [
              119.25059569030338,
              -22.32159904859569
             ],
             [
              119.25010861330286,
              -22.32155444857199
             ],
             [
              119.25015738489762,
              -22.321109025840972
             ]
            ]
           ],
           "type": "Polygon"
          },
          "id": "34",
          "properties": {
           "sites": "4a_ja_s_1_6",
           "style": {
            "color": "black",
            "fillColor": "#d7111f",
            "fillOpacity": 0.8,
            "weight": 0.9
           }
          },
          "type": "Feature"
         },
         {
          "bbox": [
           119.25228818723575,
           -22.328613693545623,
           119.25282405868941,
           -22.32812368298151
          ],
          "geometry": {
           "coordinates": [
            [
             [
              119.25233695344876,
              -22.32812368298151
             ],
             [
              119.25282405868941,
              -22.328168274779884
             ],
             [
              119.25277529431501,
              -22.328613693545623
             ],
             [
              119.25228818723575,
              -22.328569101608146
             ],
             [
              119.25233695344876,
              -22.32812368298151
             ]
            ]
           ],
           "type": "Polygon"
          },
          "id": "35",
          "properties": {
           "sites": "2a_ja_s_1_7",
           "style": {
            "color": "black",
            "fillColor": "#d00c21",
            "fillOpacity": 0.8,
            "weight": 0.9
           }
          },
          "type": "Feature"
         },
         {
          "bbox": [
           119.24399897833615,
           -22.32222473721224,
           119.2445348489232,
           -22.321734695767383
          ],
          "geometry": {
           "coordinates": [
            [
             [
              119.24404777348543,
              -22.321734695767383
             ],
             [
              119.2445348489232,
              -22.321779316909755
             ],
             [
              119.2444860556123,
              -22.32222473721224
             ],
             [
              119.24399897833615,
              -22.322180115930735
             ],
             [
              119.24404777348543,
              -22.321734695767383
             ]
            ]
           ],
           "type": "Polygon"
          },
          "id": "36",
          "properties": {
           "sites": "3a_ja_s_2_6",
           "style": {
            "color": "black",
            "fillColor": "#c90723",
            "fillOpacity": 0.8,
            "weight": 0.9
           }
          },
          "type": "Feature"
         },
         {
          "bbox": [
           119.24375151150045,
           -22.323300253564575,
           119.24428738786968,
           -22.32281021216437
          ],
          "geometry": {
           "coordinates": [
            [
             [
              119.24380030804245,
              -22.32281021216437
             ],
             [
              119.24428738786968,
              -22.322854834094745
             ],
             [
              119.2442385931661,
              -22.323300253564575
             ],
             [
              119.24375151150045,
              -22.32325563149505
             ],
             [
              119.24380030804245,
              -22.32281021216437
             ]
            ]
           ],
           "type": "Polygon"
          },
          "id": "37",
          "properties": {
           "sites": "4a_ja_s_2_6",
           "style": {
            "color": "black",
            "fillColor": "#c20324",
            "fillOpacity": 0.8,
            "weight": 0.9
           }
          },
          "type": "Feature"
         },
         {
          "bbox": [
           119.28049126153937,
           -22.32656424330175,
           119.28102702681416,
           -22.326074319672262
          ],
          "geometry": {
           "coordinates": [
            [
             [
              119.28053991936544,
              -22.326074319672262
             ],
             [
              119.28102702681416,
              -22.32611881328215
             ],
             [
              119.28097837082683,
              -22.32656424330175
             ],
             [
              119.28049126153937,
              -22.326519749553
             ],
             [
              119.28053991936544,
              -22.326074319672262
             ]
            ]
           ],
           "type": "Polygon"
          },
          "id": "38",
          "properties": {
           "sites": "3a_ja_s_1_4",
           "style": {
            "color": "black",
            "fillColor": "#b90026",
            "fillOpacity": 0.8,
            "weight": 0.9
           }
          },
          "type": "Feature"
         },
         {
          "bbox": [
           119.27964892773869,
           -22.327941952020502,
           119.28018470222266,
           -22.327452026798237
          ],
          "geometry": {
           "coordinates": [
            [
             [
              119.27969758935025,
              -22.327452026798237
             ],
             [
              119.28018470222266,
              -22.327496523249568
             ],
             [
              119.28013604244985,
              -22.327941952020502
             ],
             [
              119.27964892773869,
              -22.327897455430342
             ],
             [
              119.27969758935025,
              -22.327452026798237
             ]
            ]
           ],
           "type": "Polygon"
          },
          "id": "39",
          "properties": {
           "sites": "4a_ja_s_1_4",
           "style": {
            "color": "black",
            "fillColor": "#ae0026",
            "fillOpacity": 0.8,
            "weight": 0.9
           }
          },
          "type": "Feature"
         },
         {
          "bbox": [
           119.30031330232865,
           -22.345562069494182,
           119.30084908669852,
           -22.34507222254223
          ],
          "geometry": {
           "coordinates": [
            [
             [
              119.3003618924784,
              -22.34507222254223
             ],
             [
              119.30084908669852,
              -22.345116645728893
             ],
             [
              119.30080049838818,
              -22.345562069494182
             ],
             [
              119.30031330232865,
              -22.3455176461688
             ],
             [
              119.3003618924784,
              -22.34507222254223
             ]
            ]
           ],
           "type": "Polygon"
          },
          "id": "40",
          "properties": {
           "sites": "3a_ja_s_4_1",
           "style": {
            "color": "black",
            "fillColor": "#a20026",
            "fillOpacity": 0.8,
            "weight": 0.9
           }
          },
          "type": "Feature"
         },
         {
          "bbox": [
           119.30032043832807,
           -22.346606652467603,
           119.30085622746509,
           -22.346116806331963
          ],
          "geometry": {
           "coordinates": [
            [
             [
              119.30036902888519,
              -22.346116806331963
             ],
             [
              119.30085622746509,
              -22.346161229421757
             ],
             [
              119.30080763874746,
              -22.346606652467603
             ],
             [
              119.30032043832807,
              -22.346562229239105
             ],
             [
              119.30036902888519,
              -22.346116806331963
             ]
            ]
           ],
           "type": "Polygon"
          },
          "id": "41",
          "properties": {
           "sites": "4a_ja_d_4_1",
           "style": {
            "color": "black",
            "fillColor": "#970026",
            "fillOpacity": 0.8,
            "weight": 0.9
           }
          },
          "type": "Feature"
         },
         {
          "bbox": [
           119.3044861869823,
           -22.351464324187187,
           119.3050219841008,
           -22.35097449481746
          ],
          "geometry": {
           "coordinates": [
            [
             [
              119.30453476367354,
              -22.35097449481746
             ],
             [
              119.3050219841008,
              -22.35101890304868
             ],
             [
              119.30497340924923,
              -22.351464324187187
             ],
             [
              119.3044861869823,
              -22.351419915817274
             ],
             [
              119.30453476367354,
              -22.35097449481746
             ]
            ]
           ],
           "type": "Polygon"
          },
          "id": "42",
          "properties": {
           "sites": "1a_k_s_4_9",
           "style": {
            "color": "black",
            "fillColor": "#8b0026",
            "fillOpacity": 0.8,
            "weight": 0.9
           }
          },
          "type": "Feature"
         },
         {
          "bbox": [
           119.30390559372323,
           -22.353110911489402,
           119.30444140038897,
           -22.352621081547316
          ],
          "geometry": {
           "coordinates": [
            [
             [
              119.30395417331351,
              -22.352621081547316
             ],
             [
              119.30444140038897,
              -22.352665491689415
             ],
             [
              119.30439282263838,
              -22.353110911489402
             ],
             [
              119.30390559372323,
              -22.353066501208566
             ],
             [
              119.30395417331351,
              -22.352621081547316
             ]
            ]
           ],
           "type": "Polygon"
          },
          "id": "43",
          "properties": {
           "sites": "2a_k_s_4_9",
           "style": {
            "color": "black",
            "fillColor": "#800026",
            "fillOpacity": 0.8,
            "weight": 0.9
           }
          },
          "type": "Feature"
         }
        ],
        "type": "FeatureCollection"
       },
       "style": {
        "fillOpacity": 0.8
       }
      }
     },
     "45cb2898dda74d6d9ebc06998f526f79": {
      "model_module": "@jupyter-widgets/base",
      "model_module_version": "1.2.0",
      "model_name": "LayoutModel",
      "state": {
       "height": "600px",
       "width": "800px"
      }
     },
     "4faf8be1c4814d03a375aa3df93f7d81": {
      "model_module": "jupyter-leaflet",
      "model_module_version": "^0.11.1",
      "model_name": "LeafletMapStyleModel",
      "state": {
       "_model_module_version": "^0.11.1",
       "_view_count": null,
       "_view_module": "@jupyter-widgets/base",
       "_view_module_version": "1.2.0",
       "_view_name": "StyleView",
       "cursor": "move"
      }
     },
     "941c5b7f8c4047f78f63ad5d7353298b": {
      "model_module": "@jupyter-widgets/base",
      "model_module_version": "1.2.0",
      "model_name": "LayoutModel",
      "state": {}
     },
     "9a8e9362944c44e0b25f10eb7ef71ec2": {
      "model_module": "jupyter-leaflet",
      "model_module_version": "^0.11.1",
      "model_name": "LeafletZoomControlModel",
      "state": {
       "_model_module_version": "^0.11.1",
       "_view_count": null,
       "_view_module_version": "^0.11.1",
       "options": [
        "position",
        "zoom_in_text",
        "zoom_in_title",
        "zoom_out_text",
        "zoom_out_title"
       ]
      }
     },
     "ab499021f845479585c688998dcd93a0": {
      "model_module": "@jupyter-widgets/controls",
      "model_module_version": "1.5.0",
      "model_name": "DescriptionStyleModel",
      "state": {
       "description_width": ""
      }
     },
     "c0bbd0bb493d4c13a391642c9dc5f55e": {
      "model_module": "jupyter-leaflet",
      "model_module_version": "^0.11.1",
      "model_name": "LeafletMapModel",
      "state": {
       "_dom_classes": [],
       "_model_module_version": "^0.11.1",
       "_view_count": null,
       "_view_module_version": "^0.11.1",
       "basemap": {
        "attribution": "Tiles &copy; Esri &mdash; Source: Esri, i-cubed, USDA, USGS, AEX, GeoEye, Getmapping, Aerogrid, IGN, IGP, UPR-EGP, and the GIS User Community",
        "max_zoom": 20,
        "name": "Esri.WorldImagery",
        "url": "http://server.arcgisonline.com/ArcGIS/rest/services/World_Imagery/MapServer/tile/{z}/{y}/{x}"
       },
       "center": [
        -22.340257055291623,
        119.29483929988179
       ],
       "controls": [
        "IPY_MODEL_9a8e9362944c44e0b25f10eb7ef71ec2",
        "IPY_MODEL_1225409690aa4181a83453736a73fa9e"
       ],
       "default_style": "IPY_MODEL_1c74898f2f5a4414bda61a184466d7f4",
       "dragging_style": "IPY_MODEL_4faf8be1c4814d03a375aa3df93f7d81",
       "east": 119.32920455932619,
       "fullscreen": false,
       "interpolation": "bilinear",
       "layers": [
        "IPY_MODEL_ea8c0ccdcab144f7ba1be51909dcb8f8",
        "IPY_MODEL_43d8ba22c1d84f769c5b748bdad8bcd9"
       ],
       "layout": "IPY_MODEL_45cb2898dda74d6d9ebc06998f526f79",
       "modisdate": "yesterday",
       "north": -22.316413396812848,
       "options": [
        "basemap",
        "bounce_at_zoom_limits",
        "box_zoom",
        "center",
        "close_popup_on_click",
        "double_click_zoom",
        "dragging",
        "fullscreen",
        "inertia",
        "inertia_deceleration",
        "inertia_max_speed",
        "interpolation",
        "keyboard",
        "keyboard_pan_offset",
        "keyboard_zoom_offset",
        "max_zoom",
        "min_zoom",
        "scroll_wheel_zoom",
        "tap",
        "tap_tolerance",
        "touch_zoom",
        "world_copy_jump",
        "zoom",
        "zoom_animation_threshold",
        "zoom_start"
       ],
       "south": -22.364046494612833,
       "style": "IPY_MODEL_f950cbc1f19e48b79d29e4290776d480",
       "west": 119.26054000854494,
       "zoom": 14
      }
     },
     "caeb0e3d54de47e4bdba42a30855188f": {
      "model_module": "@jupyter-widgets/base",
      "model_module_version": "1.2.0",
      "model_name": "LayoutModel",
      "state": {}
     },
     "ea8c0ccdcab144f7ba1be51909dcb8f8": {
      "model_module": "jupyter-leaflet",
      "model_module_version": "^0.11.1",
      "model_name": "LeafletTileLayerModel",
      "state": {
       "_model_module_version": "^0.11.1",
       "_view_count": null,
       "_view_module_version": "^0.11.1",
       "attribution": "Tiles &copy; Esri &mdash; Source: Esri, i-cubed, USDA, USGS, AEX, GeoEye, Getmapping, Aerogrid, IGN, IGP, UPR-EGP, and the GIS User Community",
       "base": true,
       "max_native_zoom": 18,
       "max_zoom": 20,
       "min_native_zoom": 0,
       "min_zoom": 1,
       "name": "Esri.WorldImagery",
       "no_wrap": false,
       "options": [
        "attribution",
        "detect_retina",
        "max_native_zoom",
        "max_zoom",
        "min_native_zoom",
        "min_zoom",
        "no_wrap",
        "tile_size"
       ],
       "url": "http://server.arcgisonline.com/ArcGIS/rest/services/World_Imagery/MapServer/tile/{z}/{y}/{x}"
      }
     },
     "f950cbc1f19e48b79d29e4290776d480": {
      "model_module": "jupyter-leaflet",
      "model_module_version": "^0.11.1",
      "model_name": "LeafletMapStyleModel",
      "state": {
       "_model_module_version": "^0.11.1",
       "_view_count": null,
       "_view_module": "@jupyter-widgets/base",
       "_view_module_version": "1.2.0",
       "_view_name": "StyleView",
       "cursor": "grab"
      }
     }
    },
    "version_major": 2,
    "version_minor": 0
   }
  }
 },
 "nbformat": 4,
 "nbformat_minor": 4
}
