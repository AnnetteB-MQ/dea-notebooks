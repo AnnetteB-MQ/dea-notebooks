{
 "cells": [
  {
   "cell_type": "markdown",
   "metadata": {},
   "source": [
    "# Combining satellite data with tidal modelling <img align=\"right\" src=\"../Supplementary_data/dea_logo.jpg\">\n",
    "\n",
    "* **Compatability:** Notebook currently compatible with both the `NCI` and `DEA Sandbox` environments\n",
    "* **Products used:** \n",
    "[ga_ls5t_ard_3](https://explorer.sandbox.dea.ga.gov.au/ga_ls5t_ard_3),\n",
    "[ga_ls7e_ard_3](https://explorer.sandbox.dea.ga.gov.au/ga_ls7e_ard_3),\n",
    "[ga_ls8c_ard_3](https://explorer.sandbox.dea.ga.gov.au/ga_ls8c_ard_3),\n",
    "[s2a_ard_granule](https://explorer.sandbox.dea.ga.gov.au/s2a_ard_granule), \n",
    "[s2b_ard_granule](https://explorer.sandbox.dea.ga.gov.au/s2b_ard_granule)"
   ]
  },
  {
   "cell_type": "markdown",
   "metadata": {},
   "source": [
    "## Description\n",
    "\n",
    "\n",
    "***"
   ]
  },
  {
   "cell_type": "markdown",
   "metadata": {},
   "source": [
    "## Getting started\n",
    "To run this analysis, run all the cells in the notebook, starting with the \"Load packages\" cell. "
   ]
  },
  {
   "cell_type": "markdown",
   "metadata": {},
   "source": [
    "### Load packages\n"
   ]
  },
  {
   "cell_type": "code",
   "execution_count": 1,
   "metadata": {},
   "outputs": [],
   "source": [
    "%matplotlib inline\n",
    "\n",
    "import datacube\n",
    "import matplotlib.pyplot as plt\n",
    "import sys\n",
    "\n",
    "sys.path.append('../Scripts')\n",
    "from dea_datahandling import load_ard\n",
    "from dea_coastaltools import tidal_tag\n",
    "\n",
    "%load_ext autoreload\n",
    "%autoreload 2"
   ]
  },
  {
   "cell_type": "markdown",
   "metadata": {},
   "source": [
    "### Connect to the datacube\n"
   ]
  },
  {
   "cell_type": "code",
   "execution_count": 2,
   "metadata": {},
   "outputs": [],
   "source": [
    "# Temporary solution to account for Collection 3 data being in a different\n",
    "# database on the NCI\n",
    "try:\n",
    "    dc = datacube.Datacube(app='Tidal_modelling', env='c3-samples')\n",
    "except:\n",
    "    dc = datacube.Datacube(app='Tidal_modelling')\n"
   ]
  },
  {
   "cell_type": "markdown",
   "metadata": {},
   "source": [
    "## Loading multiple Landsat sensors\n",
    "The `load_ard` function can be used to load a single, combined timeseries of cloud-masked data from multiple `DEA` products or satellite sensors. \n",
    "At its simplest, you can use the function similarly to `dc.load` by passing a set of spatiotemporal query parameters (e.g. `x`, `y`, `time`, `measurements`, `output_crs`, `resolution`, `group_by` etc) directly into the function ([see the dc.load documentation for all possible options](https://datacube-core.readthedocs.io/en/latest/dev/api/generate/datacube.Datacube.load.html)). \n",
    "The key difference from `dc.load` is that `load_ard` also requires an existing `Datacube` object, which is passed using the `dc` parameter. \n",
    "This gives us the flexibilty to load data from development or experimental datacubes.\n",
    "\n",
    "In the examples below, we load a single band of data (`nbart_green`) from the three Landsat Collection 3 products (Landsat 5, 7 and 8) by specifying: `products=['ga_ls5t_ard_3', 'ga_ls7e_ard_3', 'ga_ls8c_ard_3']`.\n",
    "The function always outputs the number of observations for each product, and the total number loaded.\n",
    "For the following examples, the function output shows that 0 Landsat 5 observations, 11 Landsat 7 observations, and 12 Landsat 8 observations were loaded, for a combined total of 23 observations.\n",
    "\n",
    "### Explicit syntax\n",
    "The following example demonstrates how key parameters can be passed directly to `load_ard`."
   ]
  },
  {
   "cell_type": "code",
   "execution_count": 87,
   "metadata": {},
   "outputs": [
    {
     "name": "stdout",
     "output_type": "stream",
     "text": [
      "Loading ga_ls5t_ard_3 data\n",
      "    Applying pixel quality/cloud mask\n",
      "    Applying invalid data mask\n",
      "    Applying contiguity mask\n",
      "Loading ga_ls7e_ard_3 data\n",
      "    Applying pixel quality/cloud mask\n",
      "    Applying invalid data mask\n",
      "    Applying contiguity mask\n",
      "Loading ga_ls8c_ard_3 data\n",
      "    Applying pixel quality/cloud mask\n",
      "    Applying invalid data mask\n",
      "    Applying contiguity mask\n",
      "Combining and sorting data\n",
      "    Returning 868 observations as a dask array\n",
      "<xarray.Dataset>\n",
      "Dimensions:      (time: 868, x: 37, y: 39)\n",
      "Coordinates:\n",
      "  * y            (y) float64 7.726e+06 7.726e+06 ... 7.725e+06 7.725e+06\n",
      "  * x            (x) float64 -4.376e+04 -4.372e+04 ... -4.270e+04 -4.268e+04\n",
      "  * time         (time) datetime64[ns] 1988-01-10T01:37:25.304249 ... 2018-12-30T02:08:19.697351\n",
      "Data variables:\n",
      "    nbart_green  (time, y, x) float32 dask.array<chunksize=(1, 39, 37), meta=np.ndarray>\n",
      "Attributes:\n",
      "    crs:      EPSG:32751\n"
     ]
    },
    {
     "data": {
      "text/plain": [
       "''"
      ]
     },
     "execution_count": 87,
     "metadata": {},
     "output_type": "execute_result"
    }
   ],
   "source": [
    "# Load available data from all three Landsat satellites\n",
    "ds = load_ard(dc=dc,\n",
    "              products=['ga_ls5t_ard_3', 'ga_ls7e_ard_3', 'ga_ls8c_ard_3'],\n",
    "              x=(117.790868, 117.800868),\n",
    "              y=(-20.489549, -20.499549),\n",
    "              time=('1988', '2018'),\n",
    "              measurements=['nbart_green'],\n",
    "              output_crs='EPSG:32751',\n",
    "              resolution=(-30, 30),\n",
    "              group_by='solar_day',\n",
    "              dask_chunks={})\n",
    "\n",
    "# Print output data\n",
    "print(ds)\n",
    "\n"
   ]
  },
  {
   "cell_type": "markdown",
   "metadata": {},
   "source": [
    "### Modelling tide heights\n"
   ]
  },
  {
   "cell_type": "code",
   "execution_count": 88,
   "metadata": {},
   "outputs": [],
   "source": [
    "import numpy as np\n",
    "import pandas as pd\n",
    "from otps import TimePoint\n",
    "from otps import predict_tide\n",
    "import matplotlib.pyplot as plt\n",
    "from datacube.utils.geometry import CRS\n",
    "\n",
    "from pandas.plotting import register_matplotlib_converters\n",
    "register_matplotlib_converters()"
   ]
  },
  {
   "cell_type": "code",
   "execution_count": 89,
   "metadata": {},
   "outputs": [],
   "source": [
    "def tidal_eval(ds, \n",
    "               tidepost_lat=None,\n",
    "               tidepost_lon=None,\n",
    "               plain_english=True, \n",
    "               plot=True,\n",
    "               round_stats=2): \n",
    "    \"\"\"\n",
    "    Takes an xarray.Dataset and statistically compares the tides modelled \n",
    "    for each satellite observation against the full modelled tidal range.\n",
    "    This comparison can be used to evaluate whether the tides observed by\n",
    "    satellites (e.g. Landsat) are biased compared to the natural tidal range \n",
    "    (e.g. fail to observe either the highest or lowest tides etc).    \n",
    "       \n",
    "    By default, the function models tides for the centroid of the \n",
    "    dataset, but a custom tidal modelling location can be specified \n",
    "    using `tidepost_lat` and `tidepost_lon`.\n",
    "    \n",
    "    Tides are modelled using the OTPS tidal modelling software based on\n",
    "    the TPXO8 tidal model: http://volkov.oce.orst.edu/tides/tpxo8_atlas.html\n",
    "    \n",
    "    For more information about the tidal statistics computed by this function,\n",
    "    refer to Figure 8 in Bishop-Taylor et al. 2018:\n",
    "    https://www.sciencedirect.com/science/article/pii/S0272771418308783#fig8\n",
    "    \n",
    "    Parameters\n",
    "    ----------     \n",
    "    ds : xarray.Dataset\n",
    "        An xarray.Dataset object with x, y and time dimensions  \n",
    "    tidepost_lat, tidepost_lon : float or int, optional\n",
    "        Optional coordinates used to model tides. The default is None,\n",
    "        which uses the centroid of the dataset as the tide modelling \n",
    "        location.\n",
    "    plain_english : bool, optional\n",
    "        An optional boolean indicating whether to print a plain english \n",
    "        version of the tidal statistics to the screen. Defaults to True.\n",
    "    plot : bool, optional\n",
    "        An optional boolean indicating whether to plot how satellite-observed \n",
    "        tide heights compare against the full tidal range. Defaults to True.\n",
    "    round_stats : int, optional\n",
    "        The number of decimal places used to round the output statistics.\n",
    "        Defaults to 2.\n",
    "        \n",
    "    Returns\n",
    "    -------\n",
    "\n",
    "    \n",
    "    \"\"\"\n",
    "    \n",
    "    # Model tides for each observation in the supplied xarray object\n",
    "    print('Modelling observed tides')\n",
    "    ds_tides, tidepost_lon, tidepost_lat = tidal_tag(ds,\n",
    "                                                     tidepost_lat=tidepost_lat,\n",
    "                                                     tidepost_lon=tidepost_lon,\n",
    "                                                     return_tideposts=True)\n",
    "\n",
    "    # Generate range of times covering entire period of satellite record\n",
    "    print('Modelling full tidal range')\n",
    "    all_timerange = pd.date_range(start=ds_tides.time.min().item(),\n",
    "                                  end=ds_tides.time.max().item(),\n",
    "                                  freq='2h')\n",
    "    all_datetimes = all_timerange.values.astype('M8[s]').astype('O').tolist()  \n",
    "\n",
    "    # Use the tidal model to compute tide heights for each observation:  \n",
    "    all_timepoints = [TimePoint(tidepost_lon, tidepost_lat, dt) \n",
    "                      for dt in all_datetimes]\n",
    "    all_predictedtides = predict_tide(all_timepoints)   \n",
    "    all_tideheights = [predictedtide.tide_m for predictedtide \n",
    "                        in all_predictedtides]\n",
    "\n",
    "    # Get coarse statistics on all and observed tidal ranges\n",
    "    obs_min, obs_max = ds_tides.tide_height.quantile([0.0, 1.0]).values\n",
    "    all_min, all_max = np.quantile(all_tideheights, [0.0, 1.0])\n",
    "\n",
    "    # Calculate tidal range\n",
    "    obs_range = (obs_max - obs_min)\n",
    "    all_range = (all_max - all_min)\n",
    "\n",
    "    # Calculate Bishop-Taylor et al. 2018 tidal metrics\n",
    "    spread = obs_range / all_range\n",
    "    low_tide_offset = abs(all_min - obs_min) / all_range\n",
    "    high_tide_offset = abs(all_max - obs_max) / all_range    \n",
    "    \n",
    "    if plain_english:\n",
    "        print(f'\\n{spread:.0%} of the full {all_range:.2f} m modelled tidal '\n",
    "              f'range is observed at this location.\\nThe lowest '\n",
    "              f'{low_tide_offset:.0%} and highest {high_tide_offset:.0%} '\n",
    "              f'of tides are never observed. ')\n",
    "\n",
    "    if plot:\n",
    "        # Create plot and add all time and observed tide data\n",
    "        fig, ax = plt.subplots(figsize=(8, 4))\n",
    "        ax.plot(all_timerange, all_tideheights, alpha=0.4)\n",
    "        ds_tides.tide_height.plot.line(ax=ax, \n",
    "                                       marker='o',\n",
    "                                       linewidth=0.0, \n",
    "                                       color='black',\n",
    "                                       markersize=2)\n",
    "\n",
    "        # Add horizontal lines for spread/offsets\n",
    "        ax.axhline(obs_min, color='black', linestyle=':', linewidth=1)\n",
    "        ax.axhline(obs_max, color='black', linestyle=':', linewidth=1)\n",
    "        ax.axhline(all_min, color='black', linestyle=':', linewidth=1)\n",
    "        ax.axhline(all_max, color='black', linestyle=':', linewidth=1)\n",
    "\n",
    "        # Add text annotations for spread/offsets\n",
    "        ax.annotate('    High tide\\n    offset', \n",
    "                     xy=(all_timerange.max(), \n",
    "                         np.mean([all_max, obs_max])), \n",
    "                     va='center')\n",
    "        ax.annotate('    Spread', \n",
    "                     xy=(all_timerange.max(), \n",
    "                         np.mean([obs_min, obs_max])), \n",
    "                     va='center')\n",
    "        ax.annotate('    Low tide\\n    offset', \n",
    "                     xy=(all_timerange.max(), \n",
    "                         np.mean([all_min, obs_min])))\n",
    "\n",
    "        # Remove top right axes and add labels\n",
    "        ax.spines['right'].set_visible(False)\n",
    "        ax.spines['top'].set_visible(False)\n",
    "        ax.set_ylabel('Tide height (m)')\n",
    "        ax.set_xlabel('');\n",
    "        ax.margins(x=0.015)\n",
    "        \n",
    "    return all_timerange, all_tideheights, ds_tides, pd.Series({'tidepost_lat': tidepost_lat,\n",
    "                      'tidepost_lon': tidepost_lon,\n",
    "                      'observed_min_m': obs_min,\n",
    "                      'all_min_m': all_min,\n",
    "                      'observed_max_m': obs_max,\n",
    "                      'all_max_m': all_max,\n",
    "                      'observed_range_m': obs_range,\n",
    "                      'all_range_m': all_range,\n",
    "                      'spread': spread,\n",
    "                      'low_tide_offset': low_tide_offset,\n",
    "                      'high_tide_offset': high_tide_offset}).round(round_stats)\n"
   ]
  },
  {
   "cell_type": "code",
   "execution_count": 90,
   "metadata": {},
   "outputs": [
    {
     "name": "stdout",
     "output_type": "stream",
     "text": [
      "Modelling observed tides\n",
      "Setting tide modelling location from dataset centroid: 117.80, -20.49\n",
      "Modelling full tidal range\n",
      "\n",
      "67% of the full 6.18 m modelled tidal range is observed at this location.\n",
      "The lowest 21% and highest 12% of tides are never observed. \n"
     ]
    },
    {
     "data": {
      "image/png": "[encoded data removed]",
      "text/plain": [
       "<Figure size 576x288 with 1 Axes>"
      ]
     },
     "metadata": {
      "needs_background": "light"
     },
     "output_type": "display_data"
    }
   ],
   "source": [
    "tidal_stats = tidal_eval(ds)"
   ]
  },
  {
   "cell_type": "code",
   "execution_count": 91,
   "metadata": {},
   "outputs": [],
   "source": [
    "all_timerange, all_tideheights, ds_tides, stats_test = tidal_stats"
   ]
  },
  {
   "cell_type": "code",
   "execution_count": 121,
   "metadata": {},
   "outputs": [],
   "source": [
    "from scipy import stats\n",
    "\n",
    "# Extract x (time) and y (distance) values\n",
    "obs_x = (ds_tides.time.dt.year + \n",
    "         ((ds_tides.time.dt.dayofyear - 1) / 365) + \n",
    "         ((ds_tides.time.dt.hour - 1) / 24))\n",
    "obs_y = ds_tides.tide_height.values.astype(np.float)\n",
    "           \n",
    "# Compute linear regression\n",
    "obs_linreg = lin_reg = stats.linregress(x=obs_x, y=obs_y)  "
   ]
  },
  {
   "cell_type": "code",
   "execution_count": 150,
   "metadata": {},
   "outputs": [],
   "source": [
    "# Extract x (time) and y (distance) values\n",
    "all_x = (all_timerange.year + \n",
    "         ((all_timerange.dayofyear - 1) / 365) +\n",
    "         ((all_timerange.hour - 1) / 24))\n",
    "all_y = all_tideheights\n",
    "time_period = all_x.max() - all_x.min()\n",
    "           \n",
    "# Compute linear regression\n",
    "all_linreg = stats.linregress(x=all_x, y=all_y)"
   ]
  },
  {
   "cell_type": "code",
   "execution_count": 152,
   "metadata": {},
   "outputs": [
    {
     "name": "stdout",
     "output_type": "stream",
     "text": [
      "Observed tides increase significantly (p=0.011) over time by 0.011 m per year (i.e. a ~0.34 m increase over the 31.9 year period)\n",
      "All tides decrease significantly (p=0.033) over time by -0.001 m per year (i.e. a ~-0.03 m decrease over the 31.9 year period)\n"
     ]
    }
   ],
   "source": [
    "if obs_linreg.pvalue > 0.05:\n",
    "    print('Observed tides do not increase or decrease significantly over '\n",
    "          'the time period.')\n",
    "else:\n",
    "    obs_slope_desc = 'decrease' if obs_linreg.slope < 0 else 'increase'\n",
    "    print(f'Observed tides {obs_slope_desc} significantly '\n",
    "          f'(p={obs_linreg.pvalue:.3f}) over time by '\n",
    "          f'{obs_linreg.slope:.03f} m per year (i.e. a '\n",
    "          f'~{time_period * obs_linreg.slope:.2f} m '\n",
    "          f'{obs_slope_desc} over the {time_period:.1f} year period)')\n",
    "    \n",
    "if all_linreg.pvalue > 0.05:\n",
    "    print('All tides do not increase or decrease significantly over '\n",
    "          'the time period.')\n",
    "else:\n",
    "    all_slope_desc = 'decrease' if all_linreg.slope < 0 else 'increase'\n",
    "    print(f'All tides {all_slope_desc} significantly '\n",
    "          f'(p={all_linreg.pvalue:.3f}) over time by '\n",
    "          f'{all_linreg.slope:.03f} m per year (i.e. a '\n",
    "          f'~{time_period * all_linreg.slope:.2f} m '\n",
    "          f'{all_slope_desc} over the {time_period:.1f} year period)')"
   ]
  },
  {
   "cell_type": "markdown",
   "metadata": {},
   "source": [
    "---\n",
    "\n",
    "## Additional information\n",
    "\n",
    "**License:** The code in this notebook is licensed under the [Apache License, Version 2.0](https://www.apache.org/licenses/LICENSE-2.0). \n",
    "Digital Earth Australia data is licensed under the [Creative Commons by Attribution 4.0](https://creativecommons.org/licenses/by/4.0/) license.\n",
    "\n",
    "**Contact:** If you need assistance, please post a question on the [Open Data Cube Slack channel](http://slack.opendatacube.org/) or on the [GIS Stack Exchange](https://gis.stackexchange.com/questions/ask?tags=open-data-cube) using the `open-data-cube` tag (you can view previously asked questions [here](https://gis.stackexchange.com/questions/tagged/open-data-cube)).\n",
    "If you would like to report an issue with this notebook, you can file one on [Github](https://github.com/GeoscienceAustralia/dea-notebooks).\n",
    "\n",
    "**Last modified:** January 2020\n",
    "\n",
    "**Compatible datacube version:** "
   ]
  },
  {
   "cell_type": "code",
   "execution_count": null,
   "metadata": {},
   "outputs": [],
   "source": [
    "print(datacube.__version__)"
   ]
  },
  {
   "cell_type": "markdown",
   "metadata": {},
   "source": [
    "## Tags\n",
    "Browse all available tags on the DEA User Guide's [Tags Index](https://docs.dea.ga.gov.au/genindex.html)"
   ]
  },
  {
   "cell_type": "raw",
   "metadata": {
    "raw_mimetype": "text/restructuredtext"
   },
   "source": [
    "**Tags**: :index:`sandbox compatible`, :index:`NCI compatible`, :index:`load_ard`, :index:`time series analysis`, :index:`landsat 5`, :index:`landsat 7`, :index:`landsat 8`, :index:`sentinel 2`, :index:`cloud masking`, :index:`cloud filtering`, :index:`pixel quality`, :index:`Dask`"
   ]
  }
 ],
 "metadata": {
  "kernelspec": {
   "display_name": "Python 3",
   "language": "python",
   "name": "python3"
  },
  "language_info": {
   "codemirror_mode": {
    "name": "ipython",
    "version": 3
   },
   "file_extension": ".py",
   "mimetype": "text/x-python",
   "name": "python",
   "nbconvert_exporter": "python",
   "pygments_lexer": "ipython3",
   "version": "3.6.9"
  },
  "widgets": {
   "application/vnd.jupyter.widget-state+json": {
    "state": {},
    "version_major": 2,
    "version_minor": 0
   }
  }
 },
 "nbformat": 4,
 "nbformat_minor": 4
}
