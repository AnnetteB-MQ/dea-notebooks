{
 "cells": [
  {
   "cell_type": "markdown",
   "metadata": {},
   "source": [
    "## Initial Setup"
   ]
  },
  {
   "cell_type": "code",
   "execution_count": 9,
   "metadata": {},
   "outputs": [
    {
     "name": "stdout",
     "output_type": "stream",
     "text": [
      "The autoreload extension is already loaded. To reload it, use:\n",
      "  %reload_ext autoreload\n"
     ]
    }
   ],
   "source": [
    "%matplotlib inline\n",
    "from IPython.display import display\n",
    "import matplotlib.pyplot as plt\n",
    "import sys\n",
    "sys.path.append('../Scripts')\n",
    "import os\n",
    "import pickle\n",
    "from pathlib import Path\n",
    "import dea_bom\n",
    "import pandas as pd\n",
    "import numpy as np\n",
    "import xarray as xr\n",
    "import datacube\n",
    "from datacube.utils import geometry \n",
    "from datacube.utils.geometry import CRS\n",
    "from datacube.storage import masking\n",
    "from datacube.helpers import ga_pq_fuser, write_geotiff\n",
    "import warnings\n",
    "warnings.filterwarnings('ignore', module='datacube')\n",
    "%load_ext autoreload\n",
    "%autoreload 2"
   ]
  },
  {
   "cell_type": "markdown",
   "metadata": {},
   "source": [
    "## List of All Available Stations"
   ]
  },
  {
   "cell_type": "code",
   "execution_count": 10,
   "metadata": {},
   "outputs": [
    {
     "name": "stdout",
     "output_type": "stream",
     "text": [
      "Loading from cache\n",
      "CPU times: user 11.7 ms, sys: 5.64 ms, total: 17.3 ms\n",
      "Wall time: 13.8 ms\n"
     ]
    },
    {
     "data": {
      "text/plain": [
       "(6027,\n",
       " [namespace(name='15 MILE @ GRETA STH', pos=(-36.61945775, 146.24407214), url='http://bom.gov.au/waterdata/services/stations/403213'),\n",
       "  namespace(name='15 MILE @ WANGARATTA', pos=(-36.36666667, 146.2833333), url='http://bom.gov.au/waterdata/services/stations/403239'),\n",
       "  namespace(name='15 MILE CK GLENROWAN', pos=(-36.47080718, 146.246199), url='http://bom.gov.au/waterdata/services/stations/403251'),\n",
       "  namespace(name='16 Mile Waterhole', pos=(-18.876921, 139.360487), url='http://bom.gov.au/waterdata/services/stations/913010A'),\n",
       "  namespace(name='163 Clifton Rd', pos=(-32.97808, 115.90111), url='http://bom.gov.au/waterdata/services/stations/6131318')])"
      ]
     },
     "execution_count": 10,
     "metadata": {},
     "output_type": "execute_result"
    }
   ],
   "source": [
    "%%time\n",
    "stations_pkl = Path('stations.pkl')\n",
    "\n",
    "# if cache exists, get it from cache\n",
    "if stations_pkl.exists():\n",
    "    print('Loading from cache')\n",
    "    stations = pickle.load(open(str(stations_pkl), 'rb'))\n",
    "else:\n",
    "    print('Fetching from BoM')\n",
    "    stations = dea_bom.get_stations()\n",
    "    pickle.dump(stations, open(str(stations_pkl), 'wb'))\n",
    "    \n",
    "len(stations), stations[:5]"
   ]
  },
  {
   "cell_type": "markdown",
   "metadata": {},
   "source": [
    "## Prune list of station for faster plotting\n",
    "\n",
    "This step can be safely omited."
   ]
  },
  {
   "cell_type": "code",
   "execution_count": 11,
   "metadata": {},
   "outputs": [
    {
     "data": {
      "text/plain": [
       "3085"
      ]
     },
     "execution_count": 11,
     "metadata": {},
     "output_type": "execute_result"
    }
   ],
   "source": [
    "stations_all = [st for st in stations if st.pos is not None]\n",
    "stations = [st for st in stations_all if (-39 < st.pos[0] < -31) and (137  < st.pos[1] < 152)]\n",
    "len(stations)"
   ]
  },
  {
   "cell_type": "code",
   "execution_count": 13,
   "metadata": {},
   "outputs": [
    {
     "data": {
      "application/vnd.jupyter.widget-view+json": {
       "model_id": "01c23edfa22940beaba68e8c089940c4",
       "version_major": 2,
       "version_minor": 0
      },
      "text/plain": [
       "VBox(children=(HBox(children=(Map(basemap={'url': 'https://{s}.tile.openstreetmap.org/{z}/{x}/{y}.png', 'max_z…"
      ]
     },
     "metadata": {},
     "output_type": "display_data"
    }
   ],
   "source": [
    "gauge_data, station = dea_bom.ui_select_station(stations);"
   ]
  },
  {
   "cell_type": "code",
   "execution_count": null,
   "metadata": {},
   "outputs": [],
   "source": [
    "pos = station.pos\n",
    "pos, gauge_data.head(5)"
   ]
  },
  {
   "cell_type": "markdown",
   "metadata": {},
   "source": [
    "## Select a guage from the map\n",
    "Make sure it has data in it as some gauges are empty."
   ]
  },
  {
   "cell_type": "code",
   "execution_count": null,
   "metadata": {},
   "outputs": [],
   "source": [
    "lat, lon = pos\n",
    "buffer = 8000\n",
    "\n",
    "print(\"You have selected: lat = {}\".format(lat))\n",
    "print(\"You have selected: lon = {}\".format(lon))"
   ]
  },
  {
   "cell_type": "code",
   "execution_count": null,
   "metadata": {},
   "outputs": [],
   "source": [
    "#Rearranging data into a flow duration curve\n",
    "gauge_data = gauge_data.dropna()\n",
    "gauge_data = gauge_data.sort_values('Value')\n",
    "gauge_data['rownumber'] = np.arange(len(gauge_data))\n",
    "gauge_data['Exceedence'] = (1-(gauge_data.rownumber/len(gauge_data)))*100\n",
    "\n",
    "\n",
    "gauge_data.plot(x='Exceedence', y='Value', figsize=(11,7))\n",
    "plt.ylabel('cubic meters per second')\n",
    "plt.grid(True)\n",
    "plt.title('FDC');"
   ]
  },
  {
   "cell_type": "code",
   "execution_count": null,
   "metadata": {},
   "outputs": [],
   "source": [
    "#What part of the Flow Duration Curve do you want to look at?\n",
    "yaxis_lower_parameter = 200 #600\n",
    "yaxis_higher_parameter = 400 #1750\n",
    "\n",
    "#Let's look at it on a log scale\n",
    "ax2 = gauge_data.plot(x='Exceedence', y='Value', figsize=(11,7)) \n",
    "ax2 = plt.axhspan(yaxis_lower_parameter, yaxis_higher_parameter, color='red', alpha=0.2)\n",
    "ax2 = plt.title('This is the range you selected displayed as a log')\n",
    "ax2 = plt.ylabel('cubic meters per second (log)')\n",
    "ax2 = plt.xlabel('Exceedence')\n",
    "ax2 = plt.yscale('log')"
   ]
  },
  {
   "cell_type": "code",
   "execution_count": null,
   "metadata": {},
   "outputs": [],
   "source": [
    "gauge_data_xr = gauge_data.to_xarray()\n",
    "\n",
    "#Dask loading wofs_albers data (loading parameters only, not loading the actual satellite data since 1988)\n",
    "x, y = geometry.point(lon, lat, CRS('WGS84')).to_crs(CRS('EPSG:3577')).points[0]\n",
    "query = {'x': (x - buffer, x + buffer),\n",
    "         'y': (y - buffer, y + buffer),    \n",
    "         'time': ('1988-01-01', '2019-08-22'), # You might want to change the date to todays date\n",
    "         'crs': 'EPSG:3577'} \n",
    "dc = datacube.Datacube(app='dc-WOfS')\n",
    "wofs_albers= dc.load(product = 'wofs_albers', dask_chunks = {}, group_by='solar_day', **query)\n",
    "\n",
    "# Merging satellite data with gauge data by timestamp\n",
    "merged_data = gauge_data_xr.interp(Timestamp=wofs_albers.time)\n",
    "\n",
    "# Here is where it takes into account user input for the FDC\n",
    "specified_level = merged_data.where((merged_data.Value > yaxis_lower_parameter) & \n",
    "                                    (merged_data.Value < yaxis_higher_parameter), drop=True)\n",
    "date_list = specified_level.time.values\n",
    "\n",
    "print(\"WARNING: You are about to load satellite pass data from the Geoscience datacube.\\n\" \n",
    "      \"If you load more than 300 passes it will take a long time to load.\\n\"\n",
    "     \"To change the amount of passes, change the yaxis parameters.\\n\"\n",
    "      \"If you got 0 passes unexpectedly, check that you got the lower and higher yaxis parameters around the right way.\\n\"\n",
    "     \"You are about to load this many passes (check that it's under 300): {}\".format(specified_level.time.shape[0]))"
   ]
  },
  {
   "cell_type": "code",
   "execution_count": null,
   "metadata": {},
   "outputs": [],
   "source": [
    "%%time\n",
    "specified_passes = wofs_albers.sel(time=date_list).compute()"
   ]
  },
  {
   "cell_type": "code",
   "execution_count": null,
   "metadata": {},
   "outputs": [],
   "source": [
    "# prune out \"too cloudy\" passes\n",
    "cc = masking.make_mask(specified_passes.water, cloud=True)\n",
    "\n",
    "npixels_per_slice = specified_passes.water.shape[1]*specified_passes.water.shape[2]\n",
    "npixels_per_slice\n",
    "\n",
    "ncloud_pixels = cc.sum(dim='x').sum(dim='y')\n",
    "cloud_pixels_fraction = (ncloud_pixels/npixels_per_slice)\n",
    "\n",
    "clear_specified_passes = specified_passes.water.isel(time=cloud_pixels_fraction<0.5)\n",
    "clear_specified_passes.shape"
   ]
  },
  {
   "cell_type": "code",
   "execution_count": null,
   "metadata": {},
   "outputs": [],
   "source": [
    "wet = (clear_specified_passes == 128).sum(dim='time')\n",
    "dry = (clear_specified_passes == 0).sum(dim='time')\n",
    "clear = wet + dry\n",
    "frequency = wet / clear\n",
    "frequency= frequency.fillna(0) #this is to get rid of the NAs that occur due to mountain shadows\n",
    "frequency = frequency.where(frequency!=0) #This is to tell it to make areas that were dry 100% of the time white\n",
    "\n",
    "#Plotting the image\n",
    "frequency.plot(figsize = (16, 12))\n",
    "plt.axis('off')\n",
    "\n",
    "fig, ax = plt.subplots(ncols=2, figsize=(16, 6))\n",
    "\n",
    "ax1 = frequency.plot(ax=ax[0])\n",
    "\n",
    "ax2 = gauge_data.plot(x='Exceedence', y='Value', ax=ax[1]) \n",
    "ax2 = plt.axhspan(yaxis_lower_parameter, yaxis_higher_parameter, color='red', alpha=0.2)\n",
    "ax2 = plt.title('This was the specified range for which the image was generated (FDC log)')\n",
    "ax2 = plt.ylabel('cubic meters per second (log)')\n",
    "ax2 = plt.xlabel('Exceedence')\n",
    "ax2 = plt.yscale('log')\n",
    "\n",
    "plt.tight_layout()\n",
    "\n",
    "print(\"This image was made by layering this many images: {}\".format(clear_specified_passes.time.shape[0]))"
   ]
  },
  {
   "cell_type": "markdown",
   "metadata": {},
   "source": [
    "--------------------------------------------------------------"
   ]
  }
 ],
 "metadata": {
  "kernelspec": {
   "display_name": "Python 3",
   "language": "python",
   "name": "python3"
  },
  "language_info": {
   "codemirror_mode": {
    "name": "ipython",
    "version": 3
   },
   "file_extension": ".py",
   "mimetype": "text/x-python",
   "name": "python",
   "nbconvert_exporter": "python",
   "pygments_lexer": "ipython3",
   "version": "3.6.8"
  }
 },
 "nbformat": 4,
 "nbformat_minor": 4
}
