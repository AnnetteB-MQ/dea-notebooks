{
 "cells": [
  {
   "cell_type": "markdown",
   "metadata": {},
   "source": [
    "# Descriptive title that follows notebook filename <img align=\"right\" src=\"../Supplementary_data/dea_logo.jpg\">\n",
    "\n",
    "* **Compatability:** Notebook currently compatible with the `NCI`|`DEA Sandbox` environment only\n",
    "* **Products used:** \n",
    "[s2a_ard_granule](https://explorer.sandbox.dea.ga.gov.au/s2a_ard_granule), \n",
    "[s2b_ard_granule](https://explorer.sandbox.dea.ga.gov.au/s2b_ard_granule),\n",
    "[ga_ls5t_ard_3](https://explorer.sandbox.dea.ga.gov.au/ga_ls5t_ard_3),\n",
    "[ga_ls7e_ard_3](https://explorer.sandbox.dea.ga.gov.au/ga_ls7e_ard_3),\n",
    "[ga_ls8c_ard_3](https://explorer.sandbox.dea.ga.gov.au/ga_ls8c_ard_3)\n",
    "* **Special requirements:** An _optional_ description of any special requirements, e.g. If running on the [NCI](https://nci.org.au/), ensure that `module load otps` is run prior to launching this notebook\n",
    "* **Prerequisites:** An _optional_ list of any notebooks that should be run or content that should be understood prior to launching this notebook\n"
   ]
  },
  {
   "cell_type": "markdown",
   "metadata": {},
   "source": [
    "## Background\n",
    "An *optional* overview of the scientific, economic or environmental management issue or challenge being addressed by Digital Earth Australia. \n",
    "For `Beginners_Guide` or `Frequently_Used_Code` notebooks, this may include information about why the particular technique or approach is useful or required. \n",
    "If you need to cite a scientific paper or link to a website, use a persistent DOI link if possible and link in-text (e.g. [Dhu et al. 2017](https://doi.org/10.1080/20964471.2017.1402490))."
   ]
  },
  {
   "cell_type": "markdown",
   "metadata": {},
   "source": [
    "## Description\n",
    "A _compulsory_ description of the notebook, including a brief overview of how Digital Earth Australia helps to address the problem set out above.\n",
    "It can be good to include a run-down of the tools/methods that will be demonstrated in the notebook:\n",
    "\n",
    "1. First we do this\n",
    "2. Then we do this\n",
    "3. Finally we do this\n",
    "\n",
    "***"
   ]
  },
  {
   "cell_type": "markdown",
   "metadata": {},
   "source": [
    "## Getting started\n",
    "\n",
    "Provide any particular instructions that the user might need, e.g. To run this analysis, run all the cells in the notebook, starting with the \"Load packages\" cell. "
   ]
  },
  {
   "cell_type": "markdown",
   "metadata": {},
   "source": [
    "### Load packages\n",
    "Import Python packages used for the analysis."
   ]
  },
  {
   "cell_type": "code",
   "execution_count": 4,
   "metadata": {},
   "outputs": [
    {
     "name": "stdout",
     "output_type": "stream",
     "text": [
      "The autoreload extension is already loaded. To reload it, use:\n",
      "  %reload_ext autoreload\n"
     ]
    }
   ],
   "source": [
    "%matplotlib inline\n",
    "\n",
    "import sys\n",
    "\n",
    "sys.path.append('../Scripts')\n",
    "from notebookapp_changefilmstrips import run_filmstrip_app\n",
    "\n",
    "%load_ext autoreload\n",
    "%autoreload 2\n"
   ]
  },
  {
   "cell_type": "markdown",
   "metadata": {},
   "source": [
    "### Analysis parameters\n",
    "\n",
    "The following cell sets important required parameters for the analysis:\n",
    "\n",
    "* `time_range`: The date range to analyse (e.g. `('1988', '2018')`)\n",
    "* `time_step`: This parameter allows us to choose the length of the time periods we want to compare (e.g. `1Y` will generate one filmstrip plot for every year in the dataset; `5Y` will generate one plot for each five year period etc).\n",
    "\n",
    "Optional parameters:\n",
    "\n",
    "* `max_cloud`: This parameter allows you to exclude satellite images with excessive cloud. The fault is `50`, which will keep all images with less than 50% cloud.\n",
    "* `resolution`: The spatial resolution to load data. The fault is `(-30, 30)`, which will load data at 30 m pixel resolution. Increasing this (e.g. to `(-100, 100)`) can be useful for loading large spatial extents.\n",
    "\n",
    "**If running the notebook for the first time**, keep the default settings below. This will demonstrate how the analysis works and provide meaningful results. \n"
   ]
  },
  {
   "cell_type": "code",
   "execution_count": 5,
   "metadata": {},
   "outputs": [],
   "source": [
    "# Required parameters\n",
    "time_range = ('2000', '2019')\n",
    "time_step = '5Y'\n",
    "tide_range = (0.0, 0.2)\n",
    "\n",
    "# Optional parameters\n",
    "max_cloud = 80\n",
    "resolution = (-30, 30)"
   ]
  },
  {
   "cell_type": "markdown",
   "metadata": {},
   "source": [
    "## Select location and generate filmstrips\n",
    "Run the following cell to start the analysis. \n",
    "This will plot an interactive map that is used to select the area to load satellite data for.\n",
    "\n",
    "Select the `Draw a rectangle` or `Draw a polygon` tool on the left of the map, and draw a shape around the area you are interested in.\n",
    "\n",
    "When you are ready, press the green `done` button on the top right of the map. \n",
    "This will start loading the data, and then generate a filmstrips plot.\n",
    "\n",
    "> Depending on the size of the area you select, this step can take **several minutes to complete**.\n",
    "To keep load times reasonable, select an area **smaller than 100 square kilometres** in size (this limit can be overuled by supplying the `size_limit` parameter in the `run_filmstrip_app` function below).\n",
    "\n",
    "> To check the status of the data load, click the **Dashboard** link under **Client** below.\n"
   ]
  },
  {
   "cell_type": "code",
   "execution_count": 7,
   "metadata": {},
   "outputs": [
    {
     "data": {
      "text/html": [
       "<table style=\"border: 2px solid white;\">\n",
       "<tr>\n",
       "<td style=\"vertical-align: top; border: 0px solid white\">\n",
       "<h3>Client</h3>\n",
       "<ul>\n",
       "  <li><b>Scheduler: </b>tcp://127.0.0.1:40535\n",
       "  <li><b>Dashboard: </b><a href='/user/robbibt/proxy/8787/status' target='_blank'>/user/robbibt/proxy/8787/status</a>\n",
       "</ul>\n",
       "</td>\n",
       "<td style=\"vertical-align: top; border: 0px solid white\">\n",
       "<h3>Cluster</h3>\n",
       "<ul>\n",
       "  <li><b>Workers: </b>1</li>\n",
       "  <li><b>Cores: </b>8</li>\n",
       "  <li><b>Memory: </b>60.42 GB</li>\n",
       "</ul>\n",
       "</td>\n",
       "</tr>\n",
       "</table>"
      ],
      "text/plain": [
       "<Client: scheduler='tcp://127.0.0.1:40535' processes=1 cores=8>"
      ]
     },
     "metadata": {},
     "output_type": "display_data"
    },
    {
     "data": {
      "application/vnd.jupyter.widget-view+json": {
       "model_id": "6325cb39434b45fea502b1d185f21fc9",
       "version_major": 2,
       "version_minor": 0
      },
      "text/plain": [
       "Map(basemap={'url': 'https://{s}.tile.openstreetmap.org/{z}/{x}/{y}.png', 'max_zoom': 19, 'attribution': 'Map …"
      ]
     },
     "metadata": {},
     "output_type": "display_data"
    },
    {
     "name": "stdout",
     "output_type": "stream",
     "text": [
      "Loading ga_ls5t_ard_3 data\n",
      "    Applying pixel quality mask\n",
      "Loading ga_ls7e_ard_3 data\n",
      "    Applying pixel quality mask\n",
      "Loading ga_ls8c_ard_3 data\n",
      "    Applying pixel quality mask\n",
      "Combining and sorting data\n",
      "Masking out invalid values\n",
      "    Returning 446 observations as a dask array\n",
      "Setting tide modelling location from dataset centroid: 123.62, -17.25\n",
      "    Keeping 90 observations with tides between -5.99 and -4.05 m\n",
      "\n",
      "Generating filmstrip plot... (this may take several minutes)\n"
     ]
    },
    {
     "data": {
      "application/vnd.jupyter.widget-view+json": {
       "model_id": "f5a75181767f47449f740971b52ea266",
       "version_major": 2,
       "version_minor": 0
      },
      "text/plain": [
       "Canvas(toolbar=Toolbar(toolitems=[('Home', 'Reset original view', 'home', 'home'), ('Back', 'Back to previous …"
      ]
     },
     "metadata": {},
     "output_type": "display_data"
    }
   ],
   "source": [
    "output_data = run_filmstrip_app(time_range,\n",
    "                                time_step,\n",
    "                                tide_range,\n",
    "                                max_cloud,\n",
    "                                resolution)"
   ]
  },
  {
   "cell_type": "markdown",
   "metadata": {},
   "source": [
    "***\n",
    "\n",
    "## Additional information\n",
    "\n",
    "**License:** The code in this notebook is licensed under the [Apache License, Version 2.0](https://www.apache.org/licenses/LICENSE-2.0). \n",
    "Digital Earth Australia data is licensed under the [Creative Commons by Attribution 4.0](https://creativecommons.org/licenses/by/4.0/) license.\n",
    "\n",
    "**Contact:** If you need assistance, please post a question on the [Open Data Cube Slack channel](http://slack.opendatacube.org/) or on the [GIS Stack Exchange](https://gis.stackexchange.com/questions/ask?tags=open-data-cube) using the `open-data-cube` tag (you can view previously asked questions [here](https://gis.stackexchange.com/questions/tagged/open-data-cube)).\n",
    "If you would like to report an issue with this notebook, you can file one on [Github](https://github.com/GeoscienceAustralia/dea-notebooks).\n",
    "\n",
    "**Last modified:** December 2019\n",
    "\n",
    "**Compatible datacube version:** "
   ]
  },
  {
   "cell_type": "code",
   "execution_count": null,
   "metadata": {},
   "outputs": [],
   "source": [
    "print(datacube.__version__)"
   ]
  },
  {
   "cell_type": "markdown",
   "metadata": {},
   "source": [
    "## Tags\n",
    "Browse all available tags on the DEA User Guide's [Tags Index](https://docs.dea.ga.gov.au/genindex.html)"
   ]
  },
  {
   "cell_type": "raw",
   "metadata": {
    "raw_mimetype": "text/restructuredtext"
   },
   "source": [
    "**Tags**: :index:`NCI compatible`, :index:`sandbox compatible`, :index:`landsat 5`, :index:`landsat 7`, :index:`landsat 8`, :index:`dea_plotting`, :index:`rgb`, :index:`image compositing`, :index:`geomedian`, :index:`filmstrip plot`"
   ]
  }
 ],
 "metadata": {
  "kernelspec": {
   "display_name": "Python 3",
   "language": "python",
   "name": "python3"
  },
  "language_info": {
   "codemirror_mode": {
    "name": "ipython",
    "version": 3
   },
   "file_extension": ".py",
   "mimetype": "text/x-python",
   "name": "python",
   "nbconvert_exporter": "python",
   "pygments_lexer": "ipython3",
   "version": "3.6.8"
  },
  "widgets": {
   "application/vnd.jupyter.widget-state+json": {
    "state": {
     "09d38c006668425a9fc4043c97e6f67b": {
      "model_module": "@jupyter-widgets/controls",
      "model_module_version": "1.5.0",
      "model_name": "ButtonModel",
      "state": {
       "description": "done",
       "disabled": true,
       "layout": "IPY_MODEL_d84df6e1c8324817b4dee3e772ca74ce",
       "style": "IPY_MODEL_be093fce80e94a0583887ead652aaf8a"
      }
     },
     "1903160ee96a41bc84a5b4f400cefe88": {
      "model_module": "@jupyter-widgets/base",
      "model_module_version": "1.2.0",
      "model_name": "LayoutModel",
      "state": {}
     },
     "37bceb8352fc49498d7dd7198acda3e3": {
      "model_module": "@jupyter-widgets/base",
      "model_module_version": "1.2.0",
      "model_name": "LayoutModel",
      "state": {}
     },
     "4fde89ac5f4040a0b90ac99d86398727": {
      "model_module": "jupyter-leaflet",
      "model_module_version": "^0.11.1",
      "model_name": "LeafletWidgetControlModel",
      "state": {
       "_model_module_version": "^0.11.1",
       "_view_count": null,
       "_view_module_version": "^0.11.1",
       "options": [
        "position"
       ],
       "position": "topright",
       "widget": "IPY_MODEL_09d38c006668425a9fc4043c97e6f67b"
      }
     },
     "5047147745ba458ab04077987808315e": {
      "model_module": "jupyter-leaflet",
      "model_module_version": "^0.11.1",
      "model_name": "LeafletMapStyleModel",
      "state": {
       "_model_module_version": "^0.11.1",
       "_view_count": null,
       "_view_module": "@jupyter-widgets/base",
       "_view_module_version": "1.2.0",
       "_view_name": "StyleView",
       "cursor": "grab"
      }
     },
     "5369113fb2914b58a2c5ef3f2534ac2a": {
      "model_module": "jupyter-leaflet",
      "model_module_version": "^0.11.1",
      "model_name": "LeafletZoomControlModel",
      "state": {
       "_model_module_version": "^0.11.1",
       "_view_count": null,
       "_view_module_version": "^0.11.1",
       "options": [
        "position",
        "zoom_in_text",
        "zoom_in_title",
        "zoom_out_text",
        "zoom_out_title"
       ]
      }
     },
     "577f8f5e47fd41fab401592b57ed0c5a": {
      "model_module": "jupyter-leaflet",
      "model_module_version": "^0.11.1",
      "model_name": "LeafletDrawControlModel",
      "state": {
       "_model_module_version": "^0.11.1",
       "_view_count": null,
       "_view_module_version": "^0.11.1",
       "options": [
        "position"
       ],
       "polygon": {
        "shapeOptions": {
         "color": "#000000",
         "editing": {
          "color": "#000000",
          "fillColor": "#fca45d",
          "fillOpacity": 0.1
         },
         "fillColor": "#fca45d",
         "fillOpacity": 0.1,
         "original": {
          "color": "#000000",
          "fillColor": "#fca45d",
          "fillOpacity": 0.1
         }
        }
       },
       "polyline": {},
       "rectangle": {
        "shapeOptions": {
         "color": "#000000",
         "fillColor": "#fca45d",
         "fillOpacity": 0.1
        }
       }
      }
     },
     "6325cb39434b45fea502b1d185f21fc9": {
      "model_module": "jupyter-leaflet",
      "model_module_version": "^0.11.1",
      "model_name": "LeafletMapModel",
      "state": {
       "_dom_classes": [],
       "_model_module_version": "^0.11.1",
       "_view_count": null,
       "_view_module_version": "^0.11.1",
       "basemap": {
        "attribution": "Map data (c) <a href=\"https://openstreetmap.org\">OpenStreetMap</a> contributors",
        "max_zoom": 19,
        "url": "https://{s}.tile.openstreetmap.org/{z}/{x}/{y}.png"
       },
       "center": [
        -17.24836729047567,
        123.65857576818375
       ],
       "controls": [
        "IPY_MODEL_5369113fb2914b58a2c5ef3f2534ac2a",
        "IPY_MODEL_deacb8bd74b247abad26eb4ce9387ce2",
        "IPY_MODEL_f20d77fe41004a9ea4b72fd6af60ea0f"
       ],
       "default_style": "IPY_MODEL_5047147745ba458ab04077987808315e",
       "dragging_style": "IPY_MODEL_64fad0568d904ac5b6e8f4c8f5745ae4",
       "east": 123.98473238439469,
       "fullscreen": false,
       "interpolation": "bilinear",
       "layers": [
        "IPY_MODEL_f22c8d57b50249d0aaa8f646af8495a9"
       ],
       "layout": "IPY_MODEL_6adda61778c146b7ad8654a305708808",
       "modisdate": "yesterday",
       "north": -17.05153299148684,
       "options": [
        "basemap",
        "bounce_at_zoom_limits",
        "box_zoom",
        "center",
        "close_popup_on_click",
        "double_click_zoom",
        "dragging",
        "fullscreen",
        "inertia",
        "inertia_deceleration",
        "inertia_max_speed",
        "interpolation",
        "keyboard",
        "keyboard_pan_offset",
        "keyboard_zoom_offset",
        "max_zoom",
        "min_zoom",
        "scroll_wheel_zoom",
        "tap",
        "tap_tolerance",
        "touch_zoom",
        "world_copy_jump",
        "zoom",
        "zoom_animation_threshold",
        "zoom_start"
       ],
       "scroll_wheel_zoom": true,
       "south": -17.444991866993263,
       "style": "IPY_MODEL_5047147745ba458ab04077987808315e",
       "west": 123.33241915197281,
       "zoom": 11
      }
     },
     "64fad0568d904ac5b6e8f4c8f5745ae4": {
      "model_module": "jupyter-leaflet",
      "model_module_version": "^0.11.1",
      "model_name": "LeafletMapStyleModel",
      "state": {
       "_model_module_version": "^0.11.1",
       "_view_count": null,
       "_view_module": "@jupyter-widgets/base",
       "_view_module_version": "1.2.0",
       "_view_name": "StyleView",
       "cursor": "move"
      }
     },
     "66b133d56bee4242a37d6b8f551f61e3": {
      "model_module": "@jupyter-widgets/base",
      "model_module_version": "1.2.0",
      "model_name": "LayoutModel",
      "state": {
       "flex": "1 0 20em",
       "height": "3em",
       "width": "20em"
      }
     },
     "6adda61778c146b7ad8654a305708808": {
      "model_module": "@jupyter-widgets/base",
      "model_module_version": "1.2.0",
      "model_name": "LayoutModel",
      "state": {
       "height": "600px"
      }
     },
     "6b2311c9843f41ab82228027bae897b5": {
      "model_module": "@jupyter-widgets/base",
      "model_module_version": "1.2.0",
      "model_name": "LayoutModel",
      "state": {}
     },
     "6de5bef263694ca6a21db85ea042333f": {
      "model_module": "jupyter-leaflet",
      "model_module_version": "^0.11.1",
      "model_name": "LeafletWidgetControlModel",
      "state": {
       "_model_module_version": "^0.11.1",
       "_view_count": null,
       "_view_module_version": "^0.11.1",
       "options": [
        "position"
       ],
       "position": "bottomleft",
       "widget": "IPY_MODEL_fba1d5a782e24316bddd4b9b888da99c"
      }
     },
     "7c31fbd5fdc84395bfb7b2b6183173c6": {
      "model_module": "jupyter-leaflet",
      "model_module_version": "^0.11.1",
      "model_name": "LeafletMapStyleModel",
      "state": {
       "_model_module_version": "^0.11.1",
       "_view_count": null,
       "_view_module": "@jupyter-widgets/base",
       "_view_module_version": "1.2.0",
       "_view_name": "StyleView",
       "cursor": "grab"
      }
     },
     "9063ed29673a4a6398a526fd3819ab5e": {
      "model_module": "@jupyter-widgets/controls",
      "model_module_version": "1.5.0",
      "model_name": "DescriptionStyleModel",
      "state": {
       "description_width": ""
      }
     },
     "b8916bd739a2439cb33688634e4cfadb": {
      "model_module": "@jupyter-widgets/base",
      "model_module_version": "1.2.0",
      "model_name": "LayoutModel",
      "state": {}
     },
     "be093fce80e94a0583887ead652aaf8a": {
      "model_module": "@jupyter-widgets/controls",
      "model_module_version": "1.5.0",
      "model_name": "ButtonStyleModel",
      "state": {
       "button_color": "green"
      }
     },
     "d84df6e1c8324817b4dee3e772ca74ce": {
      "model_module": "@jupyter-widgets/base",
      "model_module_version": "1.2.0",
      "model_name": "LayoutModel",
      "state": {
       "width": "5em"
      }
     },
     "deacb8bd74b247abad26eb4ce9387ce2": {
      "model_module": "jupyter-leaflet",
      "model_module_version": "^0.11.1",
      "model_name": "LeafletAttributionControlModel",
      "state": {
       "_model_module_version": "^0.11.1",
       "_view_count": null,
       "_view_module_version": "^0.11.1",
       "options": [
        "position",
        "prefix"
       ],
       "position": "bottomright",
       "prefix": "Leaflet"
      }
     },
     "e3becd744526492093e97c3babaa6276": {
      "model_module": "jupyter-matplotlib",
      "model_module_version": "^0.4.2",
      "model_name": "ToolbarModel",
      "state": {
       "layout": "IPY_MODEL_1903160ee96a41bc84a5b4f400cefe88",
       "toolitems": [
        [
         "Home",
         "Reset original view",
         "home",
         "home"
        ],
        [
         "Back",
         "Back to previous view",
         "arrow-left",
         "back"
        ],
        [
         "Forward",
         "Forward to next view",
         "arrow-right",
         "forward"
        ],
        [
         "Pan",
         "Pan axes with left mouse, zoom with right",
         "arrows",
         "pan"
        ],
        [
         "Zoom",
         "Zoom to rectangle",
         "square-o",
         "zoom"
        ],
        [
         "Download",
         "Download plot",
         "floppy-o",
         "save_figure"
        ]
       ]
      }
     },
     "e5e97c6994d74d00ac75f6d097567085": {
      "model_module": "jupyter-matplotlib",
      "model_module_version": "^0.4.2",
      "model_name": "ToolbarModel",
      "state": {
       "layout": "IPY_MODEL_6b2311c9843f41ab82228027bae897b5",
       "toolitems": [
        [
         "Home",
         "Reset original view",
         "home",
         "home"
        ],
        [
         "Back",
         "Back to previous view",
         "arrow-left",
         "back"
        ],
        [
         "Forward",
         "Forward to next view",
         "arrow-right",
         "forward"
        ],
        [
         "Pan",
         "Pan axes with left mouse, zoom with right",
         "arrows",
         "pan"
        ],
        [
         "Zoom",
         "Zoom to rectangle",
         "square-o",
         "zoom"
        ],
        [
         "Download",
         "Download plot",
         "floppy-o",
         "save_figure"
        ]
       ]
      }
     },
     "f20d77fe41004a9ea4b72fd6af60ea0f": {
      "model_module": "jupyter-leaflet",
      "model_module_version": "^0.11.1",
      "model_name": "LeafletFullScreenControlModel",
      "state": {
       "_model_module_version": "^0.11.1",
       "_view_count": null,
       "_view_module_version": "^0.11.1",
       "options": [
        "position"
       ]
      }
     },
     "f22c8d57b50249d0aaa8f646af8495a9": {
      "model_module": "jupyter-leaflet",
      "model_module_version": "^0.11.1",
      "model_name": "LeafletTileLayerModel",
      "state": {
       "_model_module_version": "^0.11.1",
       "_view_count": null,
       "_view_module_version": "^0.11.1",
       "base": true,
       "max_native_zoom": 18,
       "max_zoom": 19,
       "min_native_zoom": 0,
       "min_zoom": 1,
       "no_wrap": false,
       "options": [
        "attribution",
        "detect_retina",
        "max_native_zoom",
        "max_zoom",
        "min_native_zoom",
        "min_zoom",
        "no_wrap",
        "tile_size"
       ]
      }
     },
     "f5a75181767f47449f740971b52ea266": {
      "model_module": "jupyter-matplotlib",
      "model_module_version": "^0.4.2",
      "model_name": "MPLCanvasModel",
      "state": {
       "layout": "IPY_MODEL_37bceb8352fc49498d7dd7198acda3e3",
       "toolbar": "IPY_MODEL_e5e97c6994d74d00ac75f6d097567085",
       "toolbar_position": "left"
      }
     },
     "fba1d5a782e24316bddd4b9b888da99c": {
      "model_module": "@jupyter-widgets/controls",
      "model_module_version": "1.5.0",
      "model_name": "HTMLModel",
      "state": {
       "layout": "IPY_MODEL_66b133d56bee4242a37d6b8f551f61e3",
       "style": "IPY_MODEL_9063ed29673a4a6398a526fd3819ab5e",
       "value": "<pre style=\"color:grey\">lat: [-17.4450, -17.0515]\nlon: [123.3324, 123.9847]</pre>"
      }
     }
    },
    "version_major": 2,
    "version_minor": 0
   }
  }
 },
 "nbformat": 4,
 "nbformat_minor": 4
}
