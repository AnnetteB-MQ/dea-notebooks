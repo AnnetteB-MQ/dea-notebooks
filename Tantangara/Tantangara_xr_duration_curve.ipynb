{
 "cells": [
  {
   "cell_type": "markdown",
   "metadata": {},
   "source": [
    "# Import modules"
   ]
  },
  {
   "cell_type": "code",
   "execution_count": 1,
   "metadata": {},
   "outputs": [],
   "source": [
    "import sys\n",
    "import os\n",
    "import xarray as xr\n",
    "import numpy as np\n",
    "import pandas as pd\n",
    "import matplotlib.gridspec as gridspec\n",
    "import matplotlib.pyplot as plt\n",
    "\n",
    "import datacube\n",
    "from datacube.utils import geometry \n",
    "from datacube.utils.geometry import CRS\n",
    "from datacube.storage import masking\n",
    "from datacube.helpers import ga_pq_fuser, write_geotiff\n",
    "from digitalearthau.utils import wofs_fuser\n",
    "\n",
    "#We have to add the plotting tools to the directory list with path.append\n",
    "sys.path.append('../10_Scripts/')\n",
    "import DEAPlotting, DEADataHandling\n",
    "\n",
    "#ignore datacube warnings (needs to be last import statement)\n",
    "import warnings\n",
    "warnings.filterwarnings('ignore', module='datacube')\n",
    "\n",
    "%load_ext autoreload\n",
    "\n",
    "%autoreload 2"
   ]
  },
  {
   "cell_type": "markdown",
   "metadata": {},
   "source": [
    "# Get stream gauge data "
   ]
  },
  {
   "cell_type": "code",
   "execution_count": 13,
   "metadata": {},
   "outputs": [],
   "source": [
    "#load csv file and skip data description lines.\n",
    "gauge_data = pd.read_csv('/g/data/r78/kd6095/dea-notebooks/Tantangara/Tantangara_water_level.csv',\n",
    "                error_bad_lines = False, skiprows=9, escapechar='#', \n",
    "                         parse_dates=['Timestamp'], #Tells it this column is dates\n",
    "                         index_col='Value', #sets the coordinate to Value (you don't plot duration curves by time, \n",
    "                         #you plot them by value)\n",
    "                        date_parser=lambda x: pd.to_datetime(x.rsplit('+', 1)[0]))\n",
    "\n",
    "#organise gauge data into a water-level duration curve\n",
    "gauge_data = gauge_data.dropna()\n",
    "gauge_data = gauge_data.sort_values('Value')\n",
    "gauge_data['rownumber'] = np.arange(len(gauge_data))\n",
    "gauge_data['Exceedence'] = (1-(gauge_data.rownumber/len(gauge_data)))*100\n",
    "\n",
    "gauge_data = gauge_data.drop(columns='Interpolation Type')\n",
    "gauge_data = gauge_data.drop(columns='Quality Code')"
   ]
  },
  {
   "cell_type": "code",
   "execution_count": 18,
   "metadata": {},
   "outputs": [
    {
     "data": {
      "text/html": [
       "<div>\n",
       "<style scoped>\n",
       "    .dataframe tbody tr th:only-of-type {\n",
       "        vertical-align: middle;\n",
       "    }\n",
       "\n",
       "    .dataframe tbody tr th {\n",
       "        vertical-align: top;\n",
       "    }\n",
       "\n",
       "    .dataframe thead th {\n",
       "        text-align: right;\n",
       "    }\n",
       "</style>\n",
       "<table border=\"1\" class=\"dataframe\">\n",
       "  <thead>\n",
       "    <tr style=\"text-align: right;\">\n",
       "      <th></th>\n",
       "      <th>Timestamp</th>\n",
       "      <th>rownumber</th>\n",
       "      <th>Exceedence</th>\n",
       "    </tr>\n",
       "    <tr>\n",
       "      <th>Value</th>\n",
       "      <th></th>\n",
       "      <th></th>\n",
       "      <th></th>\n",
       "    </tr>\n",
       "  </thead>\n",
       "  <tbody>\n",
       "    <tr>\n",
       "      <th>1205.383</th>\n",
       "      <td>2007-02-09</td>\n",
       "      <td>0</td>\n",
       "      <td>100.000000</td>\n",
       "    </tr>\n",
       "    <tr>\n",
       "      <th>1205.394</th>\n",
       "      <td>2007-02-10</td>\n",
       "      <td>1</td>\n",
       "      <td>99.989793</td>\n",
       "    </tr>\n",
       "    <tr>\n",
       "      <th>1205.402</th>\n",
       "      <td>2007-02-08</td>\n",
       "      <td>2</td>\n",
       "      <td>99.979586</td>\n",
       "    </tr>\n",
       "    <tr>\n",
       "      <th>1205.421</th>\n",
       "      <td>2007-02-07</td>\n",
       "      <td>3</td>\n",
       "      <td>99.969378</td>\n",
       "    </tr>\n",
       "    <tr>\n",
       "      <th>1205.433</th>\n",
       "      <td>2007-02-06</td>\n",
       "      <td>4</td>\n",
       "      <td>99.959171</td>\n",
       "    </tr>\n",
       "  </tbody>\n",
       "</table>\n",
       "</div>"
      ],
      "text/plain": [
       "          Timestamp  rownumber  Exceedence\n",
       "Value                                     \n",
       "1205.383 2007-02-09          0  100.000000\n",
       "1205.394 2007-02-10          1   99.989793\n",
       "1205.402 2007-02-08          2   99.979586\n",
       "1205.421 2007-02-07          3   99.969378\n",
       "1205.433 2007-02-06          4   99.959171"
      ]
     },
     "execution_count": 18,
     "metadata": {},
     "output_type": "execute_result"
    }
   ],
   "source": [
    "gauge_data.head()"
   ]
  },
  {
   "cell_type": "markdown",
   "metadata": {},
   "source": [
    "# Convert csv to xarray and make duration curve"
   ]
  },
  {
   "cell_type": "code",
   "execution_count": 19,
   "metadata": {},
   "outputs": [
    {
     "data": {
      "text/plain": [
       "[<matplotlib.lines.Line2D at 0x7f82f2343278>]"
      ]
     },
     "execution_count": 19,
     "metadata": {},
     "output_type": "execute_result"
    },
    {
     "data": {
      "image/png": "[encoded data removed]",
      "text/plain": [
       "<Figure size 720x504 with 1 Axes>"
      ]
     },
     "metadata": {
      "needs_background": "light"
     },
     "output_type": "display_data"
    }
   ],
   "source": [
    "gauge_data_xr = gauge_data.to_xarray()\n",
    "gauge_data_xr.Exceedence.plot(y='Value', color='red', figsize=(10,7)) #Value must be one of the coordinates because\n",
    "                                                                      # you set it as index_col. "
   ]
  },
  {
   "cell_type": "markdown",
   "metadata": {},
   "source": [
    "# Get WOfS data "
   ]
  },
  {
   "cell_type": "code",
   "execution_count": null,
   "metadata": {},
   "outputs": [],
   "source": [
    "#I would eventually like to be able to automate the lat lon selection depending on the selected gauge\n",
    "lat, lon, buffer = -35.75, 148.66, 6500\n",
    "\n",
    "x, y = geometry.point(lon, lat, CRS('WGS84')).to_crs(CRS('EPSG:3577')).points[0]\n",
    "query = {'x': (x - buffer, x + buffer),\n",
    "         'y': (y - buffer, y + buffer),    \n",
    "         'time': ('2018-01-01', '2019-01-01'),\n",
    "         'crs': 'EPSG:3577'} \n",
    "\n",
    "dc = datacube.Datacube(app='dc-WOfS')\n",
    "wofs_albers= dc.load(product = 'wofs_albers', **query)"
   ]
  },
  {
   "cell_type": "code",
   "execution_count": null,
   "metadata": {},
   "outputs": [],
   "source": [
    "wofs_albers"
   ]
  },
  {
   "cell_type": "markdown",
   "metadata": {},
   "source": [
    "# Cloud mask"
   ]
  },
  {
   "cell_type": "code",
   "execution_count": null,
   "metadata": {},
   "outputs": [],
   "source": [
    "ClearTimesteps = []\n",
    "#Make a for-loop\n",
    "for ix, timestep in enumerate(wofs_albers.time):\n",
    "    SingleTime = wofs_albers.water.isel(time=ix)\n",
    "    IsItCloudy = masking.make_mask(SingleTime, cloud=True)\n",
    "    CountClouds = IsItCloudy.sum()\n",
    "    \n",
    "#Here's the part that measures the percentage of bit flags that mean cloud in the satellite image\n",
    "    PercentCloudy = CountClouds.values.item()/(len(wofs_albers.x)*len(wofs_albers*y))*100\n",
    "#And here's the part where we select how much cloud we're willing to accept in our satellite images. try 20. \n",
    "    IsItClearEnough = PercentCloudy <= 20\n",
    "    \n",
    "#Then we say 'if IsItClearEnough = True, then append it to an index called ClearTimesteps'.\n",
    "    if IsItClearEnough:\n",
    "        ClearTimesteps.append(ix)\n",
    "#redefine wofs_albers so that it only returns useable data (ie clear passes)\n",
    "wofs_albers = wofs_albers.water.isel(time = ClearTimesteps)"
   ]
  },
  {
   "cell_type": "code",
   "execution_count": null,
   "metadata": {},
   "outputs": [],
   "source": [
    "wofs_albers_time = wofs_albers.time"
   ]
  },
  {
   "cell_type": "code",
   "execution_count": null,
   "metadata": {},
   "outputs": [],
   "source": [
    "wofs_albers_time"
   ]
  },
  {
   "cell_type": "markdown",
   "metadata": {},
   "source": [
    "# Merge data "
   ]
  }
 ],
 "metadata": {
  "kernelspec": {
   "display_name": "Python 3",
   "language": "python",
   "name": "python3"
  },
  "language_info": {
   "codemirror_mode": {
    "name": "ipython",
    "version": 3
   },
   "file_extension": ".py",
   "mimetype": "text/x-python",
   "name": "python",
   "nbconvert_exporter": "python",
   "pygments_lexer": "ipython3",
   "version": "3.6.7"
  }
 },
 "nbformat": 4,
 "nbformat_minor": 2
}
