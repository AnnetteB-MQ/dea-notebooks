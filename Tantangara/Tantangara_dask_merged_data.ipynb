{
 "cells": [
  {
   "cell_type": "markdown",
   "metadata": {},
   "source": [
    "# We're going to load WOfS data of Tantangara dam only for the days when the dam was really full"
   ]
  },
  {
   "cell_type": "code",
   "execution_count": 1,
   "metadata": {},
   "outputs": [],
   "source": [
    "import sys\n",
    "import os\n",
    "import xarray as xr\n",
    "import numpy as np\n",
    "import pandas as pd\n",
    "import matplotlib.gridspec as gridspec\n",
    "import matplotlib.pyplot as plt\n",
    "\n",
    "import datacube\n",
    "from datacube.utils import geometry \n",
    "from datacube.utils.geometry import CRS\n",
    "from datacube.storage import masking\n",
    "from datacube.helpers import ga_pq_fuser, write_geotiff\n",
    "from digitalearthau.utils import wofs_fuser\n",
    "\n",
    "#We have to add the plotting tools to the directory list with path.append\n",
    "sys.path.append('../10_Scripts/')\n",
    "import DEAPlotting, DEADataHandling\n",
    "\n",
    "#ignore datacube warnings (needs to be last import statement)\n",
    "import warnings\n",
    "warnings.filterwarnings('ignore', module='datacube')\n",
    "\n",
    "%load_ext autoreload\n",
    "\n",
    "%autoreload 2"
   ]
  },
  {
   "cell_type": "markdown",
   "metadata": {},
   "source": [
    "# Load water level data as an xarray"
   ]
  },
  {
   "cell_type": "code",
   "execution_count": 2,
   "metadata": {},
   "outputs": [],
   "source": [
    "gauge_data = pd.read_csv('/g/data/r78/kd6095/dea-notebooks/Tantangara/Tantangara_water_level.csv',\n",
    "                error_bad_lines = False, skiprows=9, escapechar='#', \n",
    "                         parse_dates=['Timestamp'], #Tells it this column is date format\n",
    "                         index_col=('Timestamp'),\n",
    "                        date_parser=lambda x: pd.to_datetime(x.rsplit('+', 1)[0]))\n",
    "\n",
    "gauge_data = gauge_data.dropna()\n",
    "gauge_data = gauge_data.sort_values('Value')\n",
    "gauge_data['rownumber'] = np.arange(len(gauge_data))\n",
    "gauge_data['Exceedence'] = (1-(gauge_data.rownumber/len(gauge_data)))*100\n",
    "\n",
    "gauge_data = gauge_data.drop(columns='Interpolation Type')\n",
    "gauge_data = gauge_data.drop(columns='Quality Code')\n",
    "\n",
    "gauge_data_xr = gauge_data.to_xarray()"
   ]
  },
  {
   "cell_type": "markdown",
   "metadata": {},
   "source": [
    "# Dask load WOfS data"
   ]
  },
  {
   "cell_type": "code",
   "execution_count": 3,
   "metadata": {},
   "outputs": [
    {
     "data": {
      "text/plain": [
       "<xarray.Dataset>\n",
       "Dimensions:  (time: 1179, x: 521, y: 521)\n",
       "Coordinates:\n",
       "  * time     (time) datetime64[ns] 2000-01-01T23:43:29.500000 ... 2018-12-28T23:50:34\n",
       "  * y        (y) float64 -3.997e+06 -3.997e+06 ... -4.01e+06 -4.01e+06\n",
       "  * x        (x) float64 1.495e+06 1.495e+06 1.495e+06 ... 1.508e+06 1.508e+06\n",
       "Data variables:\n",
       "    water    (time, y, x) int16 dask.array<shape=(1179, 521, 521), chunksize=(1, 521, 521)>\n",
       "Attributes:\n",
       "    crs:      EPSG:3577"
      ]
     },
     "execution_count": 3,
     "metadata": {},
     "output_type": "execute_result"
    }
   ],
   "source": [
    "lat, lon, buffer = -35.75, 148.66, 6500\n",
    "x, y = geometry.point(lon, lat, CRS('WGS84')).to_crs(CRS('EPSG:3577')).points[0]\n",
    "query = {'x': (x - buffer, x + buffer),\n",
    "         'y': (y - buffer, y + buffer),    \n",
    "         'time': ('2000-01-01', '2019-01-01'), \n",
    "         'crs': 'EPSG:3577'} \n",
    "\n",
    "dc = datacube.Datacube(app='dc-WOfS')\n",
    "wofs_albers= dc.load(product = 'wofs_albers', dask_chunks = {}, group_by='solar_day', **query)\n",
    "wofs_albers"
   ]
  },
  {
   "cell_type": "markdown",
   "metadata": {},
   "source": [
    "# Merge data"
   ]
  },
  {
   "cell_type": "code",
   "execution_count": 4,
   "metadata": {},
   "outputs": [
    {
     "data": {
      "text/plain": [
       "<xarray.Dataset>\n",
       "Dimensions:     (time: 1179)\n",
       "Coordinates:\n",
       "    Timestamp   (time) datetime64[ns] 2000-01-01T23:43:29.500000 ... 2018-12-28T23:50:34\n",
       "  * time        (time) datetime64[ns] 2000-01-01T23:43:29.500000 ... 2018-12-28T23:50:34\n",
       "Data variables:\n",
       "    Value       (time) float64 1.209e+03 1.209e+03 ... 1.221e+03 1.221e+03\n",
       "    rownumber   (time) float64 3.276e+03 3.013e+03 ... 7.258e+03 7.23e+03\n",
       "    Exceedence  (time) float64 56.25 59.77 63.18 72.42 ... 3.712 3.084 3.456"
      ]
     },
     "execution_count": 4,
     "metadata": {},
     "output_type": "execute_result"
    }
   ],
   "source": [
    "merged_data = gauge_data_xr.interp(Timestamp=wofs_albers.time)\n",
    "merged_data"
   ]
  },
  {
   "cell_type": "markdown",
   "metadata": {},
   "source": [
    "# Specify which satellite passes to load (for real this time) based on water level"
   ]
  },
  {
   "cell_type": "markdown",
   "metadata": {},
   "source": [
    "First, have a quick look at the duration curve to decide which level you want to look at. I'm going to choose above 1220"
   ]
  },
  {
   "cell_type": "code",
   "execution_count": 5,
   "metadata": {},
   "outputs": [
    {
     "data": {
      "text/plain": [
       "<matplotlib.axes._subplots.AxesSubplot at 0x7fd0a0edc588>"
      ]
     },
     "execution_count": 5,
     "metadata": {},
     "output_type": "execute_result"
    },
    {
     "data": {
      "image/png": "[encoded data removed]",
      "text/plain": [
       "<Figure size 504x360 with 1 Axes>"
      ]
     },
     "metadata": {
      "needs_background": "light"
     },
     "output_type": "display_data"
    }
   ],
   "source": [
    "gauge_data.plot(x='Exceedence', y='Value', figsize=(7, 5))"
   ]
  },
  {
   "cell_type": "code",
   "execution_count": 6,
   "metadata": {},
   "outputs": [
    {
     "data": {
      "text/plain": [
       "<xarray.Dataset>\n",
       "Dimensions:     (time: 73)\n",
       "Coordinates:\n",
       "    Timestamp   (time) datetime64[ns] 2010-12-13T23:46:42.500000 ... 2018-12-28T23:50:34\n",
       "  * time        (time) datetime64[ns] 2010-12-13T23:46:42.500000 ... 2018-12-28T23:50:34\n",
       "Data variables:\n",
       "    Value       (time) float64 1.22e+03 1.22e+03 ... 1.221e+03 1.221e+03\n",
       "    rownumber   (time) float64 7.114e+03 7.123e+03 ... 7.258e+03 7.23e+03\n",
       "    Exceedence  (time) float64 5.008 4.889 4.58 4.659 ... 3.712 3.084 3.456"
      ]
     },
     "execution_count": 6,
     "metadata": {},
     "output_type": "execute_result"
    }
   ],
   "source": [
    "specified_level = merged_data.where((merged_data.Value >1220) & (merged_data.Value < 1230), drop=True)\n",
    "specified_level"
   ]
  },
  {
   "cell_type": "markdown",
   "metadata": {},
   "source": [
    "Here's a list of all the time points you have satellite passes for at the specified level."
   ]
  },
  {
   "cell_type": "code",
   "execution_count": 7,
   "metadata": {},
   "outputs": [],
   "source": [
    "date_list = specified_level.time.values\n",
    "#date_list"
   ]
  },
  {
   "cell_type": "markdown",
   "metadata": {},
   "source": [
    "# Load the wofs data day by day with a for-loop"
   ]
  },
  {
   "cell_type": "markdown",
   "metadata": {},
   "source": [
    "NOTE: You must take the time category out of the query! We don't want to load a range of dates, we want to load our list of dates"
   ]
  },
  {
   "cell_type": "code",
   "execution_count": 8,
   "metadata": {},
   "outputs": [],
   "source": [
    "lat, lon, buffer = -35.75, 148.66, 6500\n",
    "x, y = geometry.point(lon, lat, CRS('WGS84')).to_crs(CRS('EPSG:3577')).points[0]\n",
    "query = {'x': (x - buffer, x + buffer),\n",
    "         'y': (y - buffer, y + buffer), \n",
    "         'crs': 'EPSG:3577'} "
   ]
  },
  {
   "cell_type": "markdown",
   "metadata": {},
   "source": [
    "OK, now we have to make a for-loop to load each pass individually:  \n",
    "for each date in this list of dates\n",
    "load data from the datacube,\n",
    "append the loaded data to a list of xarrays"
   ]
  },
  {
   "cell_type": "code",
   "execution_count": 13,
   "metadata": {},
   "outputs": [],
   "source": [
    "xr_list = []\n",
    "\n",
    "for date in date_list:\n",
    "    #print(date)\n",
    "    date = str(date)  \n",
    "    wofs_albers= dc.load(product = 'wofs_albers', time=date,  **query)\n",
    "    xr_list.append(wofs_albers)"
   ]
  },
  {
   "cell_type": "markdown",
   "metadata": {},
   "source": [
    "# Concatenate the passes into one dataset "
   ]
  },
  {
   "cell_type": "code",
   "execution_count": 14,
   "metadata": {
    "scrolled": true
   },
   "outputs": [
    {
     "data": {
      "text/plain": [
       "<xarray.Dataset>\n",
       "Dimensions:  (time: 73, x: 521, y: 521)\n",
       "Coordinates:\n",
       "  * y        (y) float64 -3.997e+06 -3.997e+06 ... -4.01e+06 -4.01e+06\n",
       "  * x        (x) float64 1.495e+06 1.495e+06 1.495e+06 ... 1.508e+06 1.508e+06\n",
       "  * time     (time) datetime64[ns] 2010-12-13T23:46:42.500000 ... 2018-12-28T23:50:34\n",
       "Data variables:\n",
       "    water    (time, y, x) int16 32 32 32 32 32 32 32 32 ... 80 80 80 80 80 80 80\n",
       "Attributes:\n",
       "    crs:      EPSG:3577"
      ]
     },
     "execution_count": 14,
     "metadata": {},
     "output_type": "execute_result"
    }
   ],
   "source": [
    "specified_passes = xr.concat(xr_list, dim='time')\n",
    "specified_passes"
   ]
  },
  {
   "cell_type": "markdown",
   "metadata": {},
   "source": [
    "# Cloud mask"
   ]
  },
  {
   "cell_type": "code",
   "execution_count": 15,
   "metadata": {},
   "outputs": [
    {
     "data": {
      "text/plain": [
       "<xarray.DataArray 'time' (time: 11)>\n",
       "array(['2010-12-21T23:49:56.000000000', '2010-12-22T23:40:34.500000000',\n",
       "       '2010-12-29T23:46:46.500000000', '2016-10-26T23:57:13.000000000',\n",
       "       '2016-11-03T23:59:30.500000000', '2016-11-19T23:59:24.000000000',\n",
       "       '2016-11-20T23:51:02.000000000', '2016-11-27T23:57:12.500000000',\n",
       "       '2016-12-06T23:51:00.000000000', '2018-09-22T23:54:36.500000000',\n",
       "       '2018-12-03T23:56:46.500000000'], dtype='datetime64[ns]')\n",
       "Coordinates:\n",
       "  * time     (time) datetime64[ns] 2010-12-21T23:49:56 ... 2018-12-03T23:56:46.500000\n",
       "Attributes:\n",
       "    units:    seconds since 1970-01-01 00:00:00"
      ]
     },
     "execution_count": 15,
     "metadata": {},
     "output_type": "execute_result"
    }
   ],
   "source": [
    "ClearTimesteps = []\n",
    "for ix, timestep in enumerate(specified_passes.time):\n",
    "    SingleTime = specified_passes.water.isel(time=ix)\n",
    "    IsItCloudy = masking.make_mask(SingleTime, cloud=True)\n",
    "    CountClouds = IsItCloudy.sum()\n",
    "    \n",
    "#Here's the part that measures the percentage of bit flags that mean cloud in the satellite image\n",
    "    PercentCloudy = CountClouds.values.item()/(len(specified_passes.x)*len(specified_passes*y))*100\n",
    "#And here's the part where we select how much cloud we're willing to accept in our satellite images. try 20. \n",
    "    IsItClearEnough = PercentCloudy <= 20\n",
    "    \n",
    "#Then we say 'if IsItClearEnough = True, then append it to an index called ClearTimesteps'.\n",
    "    if IsItClearEnough:\n",
    "        ClearTimesteps.append(ix)\n",
    "        \n",
    "        \n",
    "clear_specified_passes = specified_passes.water.isel(time = ClearTimesteps)\n",
    "clear_specified_passes.time"
   ]
  },
  {
   "cell_type": "markdown",
   "metadata": {},
   "source": [
    "# Now plot the specified passes as one WOfS summary image"
   ]
  },
  {
   "cell_type": "code",
   "execution_count": 59,
   "metadata": {},
   "outputs": [
    {
     "data": {
      "text/plain": [
       "<matplotlib.collections.QuadMesh at 0x7fd070d2a278>"
      ]
     },
     "execution_count": 59,
     "metadata": {},
     "output_type": "execute_result"
    },
    {
     "data": {
      "image/png": "[encoded data removed]",
      "text/plain": [
       "<Figure size 432x288 with 2 Axes>"
      ]
     },
     "metadata": {
      "needs_background": "light"
     },
     "output_type": "display_data"
    }
   ],
   "source": [
    "wet = (clear_specified_passes == 128).sum(dim='time')\n",
    "dry = (clear_specified_passes == 0).sum(dim='time')\n",
    "clear = wet + dry\n",
    "frequency = wet / clear\n",
    "frequency= frequency.fillna(0) #this is to get rid of the NAs that occur due to mountain shadows\n",
    "\n",
    "frequency.plot()"
   ]
  },
  {
   "cell_type": "markdown",
   "metadata": {},
   "source": [
    "Nice, now you have a picture of what the dam looks like when the water level is above 1220m (that's m above sea level btw). "
   ]
  }
 ],
 "metadata": {
  "kernelspec": {
   "display_name": "Python 3",
   "language": "python",
   "name": "python3"
  },
  "language_info": {
   "codemirror_mode": {
    "name": "ipython",
    "version": 3
   },
   "file_extension": ".py",
   "mimetype": "text/x-python",
   "name": "python",
   "nbconvert_exporter": "python",
   "pygments_lexer": "ipython3",
   "version": "3.6.7"
  }
 },
 "nbformat": 4,
 "nbformat_minor": 2
}
