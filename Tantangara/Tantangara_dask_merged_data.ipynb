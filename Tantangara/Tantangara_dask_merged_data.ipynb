{
 "cells": [
  {
   "cell_type": "code",
   "execution_count": 1,
   "metadata": {},
   "outputs": [],
   "source": [
    "import sys\n",
    "import os\n",
    "import xarray as xr\n",
    "import numpy as np\n",
    "import pandas as pd\n",
    "import matplotlib.gridspec as gridspec\n",
    "import matplotlib.pyplot as plt\n",
    "\n",
    "import datacube\n",
    "from datacube.utils import geometry \n",
    "from datacube.utils.geometry import CRS\n",
    "from datacube.storage import masking\n",
    "from datacube.helpers import ga_pq_fuser, write_geotiff\n",
    "from digitalearthau.utils import wofs_fuser\n",
    "\n",
    "#We have to add the plotting tools to the directory list with path.append\n",
    "sys.path.append('../10_Scripts/')\n",
    "import DEAPlotting, DEADataHandling\n",
    "\n",
    "#ignore datacube warnings (needs to be last import statement)\n",
    "import warnings\n",
    "warnings.filterwarnings('ignore', module='datacube')\n",
    "\n",
    "%load_ext autoreload\n",
    "\n",
    "%autoreload 2"
   ]
  },
  {
   "cell_type": "markdown",
   "metadata": {},
   "source": [
    "# Load water level data"
   ]
  },
  {
   "cell_type": "code",
   "execution_count": 21,
   "metadata": {},
   "outputs": [
    {
     "data": {
      "text/plain": [
       "<xarray.Dataset>\n",
       "Dimensions:     (Timestamp: 436)\n",
       "Coordinates:\n",
       "  * Timestamp   (Timestamp) datetime64[ns] 2018-08-24 2018-12-03 ... 1992-10-20\n",
       "Data variables:\n",
       "    Value       (Timestamp) float64 1.22e+03 1.22e+03 ... 1.229e+03 1.229e+03\n",
       "    rownumber   (Timestamp) float64 7.053e+03 7.054e+03 ... 7.487e+03 7.488e+03\n",
       "    Exceedence  (Timestamp) float64 5.822 5.809 5.795 ... 0.02671 0.01335"
      ]
     },
     "execution_count": 21,
     "metadata": {},
     "output_type": "execute_result"
    }
   ],
   "source": [
    "gauge_data = pd.read_csv('/g/data/r78/kd6095/dea-notebooks/Tantangara/Tantangara_water_level.csv',\n",
    "                error_bad_lines = False, skiprows=9, escapechar='#', \n",
    "                         parse_dates=['Timestamp'], #Tells it this column is date format\n",
    "                         index_col=('Timestamp'),\n",
    "                        date_parser=lambda x: pd.to_datetime(x.rsplit('+', 1)[0]))\n",
    "\n",
    "gauge_data = gauge_data.dropna()\n",
    "gauge_data = gauge_data.sort_values('Value')\n",
    "gauge_data['rownumber'] = np.arange(len(gauge_data))\n",
    "gauge_data['Exceedence'] = (1-(gauge_data.rownumber/len(gauge_data)))*100\n",
    "\n",
    "gauge_data = gauge_data.drop(columns='Interpolation Type')\n",
    "gauge_data = gauge_data.drop(columns='Quality Code')\n",
    "\n",
    "gauge_data_xr = gauge_data.to_xarray()"
   ]
  },
  {
   "cell_type": "markdown",
   "metadata": {},
   "source": [
    "# Dask load WOfS data"
   ]
  },
  {
   "cell_type": "code",
   "execution_count": 4,
   "metadata": {},
   "outputs": [
    {
     "data": {
      "text/plain": [
       "<xarray.Dataset>\n",
       "Dimensions:  (time: 1179, x: 521, y: 521)\n",
       "Coordinates:\n",
       "  * time     (time) datetime64[ns] 2000-01-01T23:43:29.500000 ... 2018-12-28T23:50:34\n",
       "  * y        (y) float64 -3.997e+06 -3.997e+06 ... -4.01e+06 -4.01e+06\n",
       "  * x        (x) float64 1.495e+06 1.495e+06 1.495e+06 ... 1.508e+06 1.508e+06\n",
       "Data variables:\n",
       "    water    (time, y, x) int16 dask.array<shape=(1179, 521, 521), chunksize=(1, 521, 521)>\n",
       "Attributes:\n",
       "    crs:      EPSG:3577"
      ]
     },
     "execution_count": 4,
     "metadata": {},
     "output_type": "execute_result"
    }
   ],
   "source": [
    "lat, lon, buffer = -35.75, 148.66, 6500\n",
    "x, y = geometry.point(lon, lat, CRS('WGS84')).to_crs(CRS('EPSG:3577')).points[0]\n",
    "query = {'x': (x - buffer, x + buffer),\n",
    "         'y': (y - buffer, y + buffer),    \n",
    "         'time': ('2000-01-01', '2019-01-01'), \n",
    "         'crs': 'EPSG:3577'} \n",
    "\n",
    "dc = datacube.Datacube(app='dc-WOfS')\n",
    "wofs_albers= dc.load(product = 'wofs_albers', dask_chunks = {}, group_by='solar_day', **query)\n",
    "wofs_albers"
   ]
  },
  {
   "cell_type": "markdown",
   "metadata": {},
   "source": [
    "# Merge data"
   ]
  },
  {
   "cell_type": "code",
   "execution_count": 27,
   "metadata": {},
   "outputs": [
    {
     "data": {
      "text/plain": [
       "<xarray.Dataset>\n",
       "Dimensions:     (time: 1179)\n",
       "Coordinates:\n",
       "    Timestamp   (time) datetime64[ns] 2000-01-01T23:43:29.500000 ... 2018-12-28T23:50:34\n",
       "  * time        (time) datetime64[ns] 2000-01-01T23:43:29.500000 ... 2018-12-28T23:50:34\n",
       "Data variables:\n",
       "    Value       (time) float64 1.209e+03 1.209e+03 ... 1.221e+03 1.221e+03\n",
       "    rownumber   (time) float64 3.276e+03 3.013e+03 ... 7.258e+03 7.23e+03\n",
       "    Exceedence  (time) float64 56.25 59.77 63.18 72.42 ... 3.712 3.084 3.456"
      ]
     },
     "execution_count": 27,
     "metadata": {},
     "output_type": "execute_result"
    }
   ],
   "source": [
    "merged_data = gauge_data_xr.interp(Timestamp=wofs_albers.time)\n",
    "merged_data"
   ]
  },
  {
   "cell_type": "markdown",
   "metadata": {},
   "source": [
    "# Specify which satellite passes to load based on water level"
   ]
  },
  {
   "cell_type": "markdown",
   "metadata": {},
   "source": [
    "First, have a look at the duration curve to decide which level you want to look at"
   ]
  },
  {
   "cell_type": "code",
   "execution_count": 37,
   "metadata": {},
   "outputs": [
    {
     "data": {
      "text/plain": [
       "<matplotlib.axes._subplots.AxesSubplot at 0x7fd3a707ada0>"
      ]
     },
     "execution_count": 37,
     "metadata": {},
     "output_type": "execute_result"
    },
    {
     "data": {
      "image/png": "[encoded data removed]",
      "text/plain": [
       "<Figure size 504x360 with 1 Axes>"
      ]
     },
     "metadata": {
      "needs_background": "light"
     },
     "output_type": "display_data"
    }
   ],
   "source": [
    "gauge_data.plot(x='Exceedence', y='Value', figsize=(7, 5))"
   ]
  },
  {
   "cell_type": "markdown",
   "metadata": {},
   "source": [
    "Now see how many passes there have been when the water has been at that level. This is how many time points you have in the the time dimension."
   ]
  },
  {
   "cell_type": "code",
   "execution_count": 29,
   "metadata": {},
   "outputs": [
    {
     "data": {
      "text/plain": [
       "<xarray.Dataset>\n",
       "Dimensions:     (time: 73)\n",
       "Coordinates:\n",
       "    Timestamp   (time) datetime64[ns] 2010-12-13T23:46:42.500000 ... 2018-12-28T23:50:34\n",
       "  * time        (time) datetime64[ns] 2010-12-13T23:46:42.500000 ... 2018-12-28T23:50:34\n",
       "Data variables:\n",
       "    Value       (time) float64 1.22e+03 1.22e+03 ... 1.221e+03 1.221e+03\n",
       "    rownumber   (time) float64 7.114e+03 7.123e+03 ... 7.258e+03 7.23e+03\n",
       "    Exceedence  (time) float64 5.008 4.889 4.58 4.659 ... 3.712 3.084 3.456"
      ]
     },
     "execution_count": 29,
     "metadata": {},
     "output_type": "execute_result"
    }
   ],
   "source": [
    "specified_level = merged_data.where((merged_data.Value >1220) & (merged_data.Value < 1230), drop=True)\n",
    "specified_level"
   ]
  },
  {
   "cell_type": "markdown",
   "metadata": {},
   "source": [
    "Here's a list of all the time points you have satellite passes for at the specified level."
   ]
  },
  {
   "cell_type": "code",
   "execution_count": 33,
   "metadata": {},
   "outputs": [
    {
     "data": {
      "text/plain": [
       "array(['2010-12-13T23:46:42.500000000', '2010-12-14T23:43:42.500000000',\n",
       "       '2010-12-21T23:49:56.000000000', '2010-12-22T23:40:34.500000000',\n",
       "       '2010-12-29T23:46:46.500000000', '2010-12-30T23:43:51.000000000',\n",
       "       '2012-03-13T23:50:58.500000000', '2012-03-22T23:44:49.000000000',\n",
       "       '2012-03-29T23:50:59.500000000', '2014-06-23T23:54:19.000000000',\n",
       "       '2014-06-24T23:50:24.000000000', '2014-07-01T23:56:39.000000000',\n",
       "       '2014-07-02T23:48:12.000000000', '2014-07-09T23:54:23.500000000',\n",
       "       '2014-07-10T23:50:33.000000000', '2014-07-17T23:56:45.000000000',\n",
       "       '2014-07-18T23:48:13.500000000', '2014-07-25T23:54:28.000000000',\n",
       "       '2014-07-26T23:50:36.000000000', '2014-08-02T23:56:51.500000000',\n",
       "       '2014-08-03T23:48:20.500000000', '2014-08-10T23:54:31.500000000',\n",
       "       '2014-08-11T23:50:44.500000000', '2014-08-18T23:56:56.500000000',\n",
       "       '2014-08-19T23:48:19.500000000', '2014-08-26T23:54:28.500000000',\n",
       "       '2014-08-27T23:50:46.000000000', '2014-09-03T23:56:59.000000000',\n",
       "       '2014-09-04T23:48:20.000000000', '2016-07-30T23:59:28.500000000',\n",
       "       '2016-07-31T23:50:42.500000000', '2016-08-07T23:56:54.000000000',\n",
       "       '2016-08-15T23:59:29.500000000', '2016-08-16T23:50:46.000000000',\n",
       "       '2016-08-23T23:57:00.000000000', '2016-08-24T23:53:21.000000000',\n",
       "       '2016-08-31T23:59:33.500000000', '2016-09-09T23:53:23.500000000',\n",
       "       '2016-09-16T23:59:35.000000000', '2016-09-25T23:53:26.000000000',\n",
       "       '2016-10-02T23:59:37.500000000', '2016-10-03T23:50:57.000000000',\n",
       "       '2016-10-10T23:57:11.000000000', '2016-10-11T23:53:26.500000000',\n",
       "       '2016-10-18T23:59:36.500000000', '2016-10-19T23:51:02.000000000',\n",
       "       '2016-10-26T23:57:13.000000000', '2016-10-27T23:53:22.500000000',\n",
       "       '2016-11-03T23:59:30.500000000', '2016-11-04T23:51:02.000000000',\n",
       "       '2016-11-11T23:57:12.000000000', '2016-11-12T23:53:15.000000000',\n",
       "       '2016-11-19T23:59:24.000000000', '2016-11-20T23:51:02.000000000',\n",
       "       '2016-11-27T23:57:12.500000000', '2016-11-28T23:53:12.500000000',\n",
       "       '2016-12-06T23:51:00.000000000', '2018-08-29T23:56:25.000000000',\n",
       "       '2018-09-06T23:54:58.500000000', '2018-09-07T23:50:17.000000000',\n",
       "       '2018-09-14T23:56:29.500000000', '2018-09-15T23:48:35.500000000',\n",
       "       '2018-09-22T23:54:36.500000000', '2018-09-23T23:50:22.000000000',\n",
       "       '2018-09-30T23:56:36.500000000', '2018-10-01T23:48:13.000000000',\n",
       "       '2018-10-08T23:54:13.500000000', '2018-12-03T23:56:46.500000000',\n",
       "       '2018-12-04T23:46:41.500000000', '2018-12-11T23:52:41.000000000',\n",
       "       '2018-12-19T23:56:45.000000000', '2018-12-27T23:52:13.500000000',\n",
       "       '2018-12-28T23:50:34.000000000'], dtype='datetime64[ns]')"
      ]
     },
     "execution_count": 33,
     "metadata": {},
     "output_type": "execute_result"
    }
   ],
   "source": [
    "date_list = specified_level.time.values\n",
    "date_list"
   ]
  },
  {
   "cell_type": "code",
   "execution_count": null,
   "metadata": {},
   "outputs": [],
   "source": []
  }
 ],
 "metadata": {
  "kernelspec": {
   "display_name": "Python 3",
   "language": "python",
   "name": "python3"
  },
  "language_info": {
   "codemirror_mode": {
    "name": "ipython",
    "version": 3
   },
   "file_extension": ".py",
   "mimetype": "text/x-python",
   "name": "python",
   "nbconvert_exporter": "python",
   "pygments_lexer": "ipython3",
   "version": "3.6.7"
  }
 },
 "nbformat": 4,
 "nbformat_minor": 2
}
