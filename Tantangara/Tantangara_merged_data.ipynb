{
 "cells": [
  {
   "cell_type": "markdown",
   "metadata": {},
   "source": [
    "# Import modules"
   ]
  },
  {
   "cell_type": "markdown",
   "metadata": {},
   "source": [
    "These are all the python modules and datacube modules that we need to work with both the guage data and the satellite data."
   ]
  },
  {
   "cell_type": "code",
   "execution_count": 1,
   "metadata": {},
   "outputs": [],
   "source": [
    "import sys\n",
    "import os\n",
    "import xarray as xr\n",
    "import numpy as np\n",
    "import pandas as pd\n",
    "import matplotlib.gridspec as gridspec\n",
    "import matplotlib.pyplot as plt\n",
    "\n",
    "import datacube\n",
    "from datacube.utils import geometry \n",
    "from datacube.utils.geometry import CRS\n",
    "from datacube.storage import masking\n",
    "from datacube.helpers import ga_pq_fuser, write_geotiff\n",
    "from digitalearthau.utils import wofs_fuser\n",
    "\n",
    "#We have to add the plotting tools to the directory list with path.append\n",
    "sys.path.append('../10_Scripts/')\n",
    "import DEAPlotting, DEADataHandling\n",
    "\n",
    "#ignore datacube warnings (needs to be last import statement)\n",
    "import warnings\n",
    "warnings.filterwarnings('ignore', module='datacube')\n",
    "\n",
    "%load_ext autoreload\n",
    "\n",
    "%autoreload 2"
   ]
  },
  {
   "cell_type": "markdown",
   "metadata": {},
   "source": [
    "# Get WOfS data"
   ]
  },
  {
   "cell_type": "markdown",
   "metadata": {},
   "source": [
    "The satellite data we will be using is the Water Observations from Space dataset, which is a Digital Earth Australia product that uses landsat data to highlight water bodies. The data is stored on the super computers at ANU, which you need approved access to. The dataset is called wofs_albers which is day by day satellite image data with water bodies highlighted. "
   ]
  },
  {
   "cell_type": "markdown",
   "metadata": {},
   "source": [
    "The code below calls the wofs_albers dataset from the Geoscience datacube. To tell it which satellite images to return, create a query, which is a dictionary for the data. Select the longtitude, latitude and the area around that point you want to return (buffer, in meters squared). The coordinate reference station (crs) for most of Australia will be EPSG 3577. Enter the timeframe over which you want to load the data in yyyy-mm-dd format. The longer the time period, the more memory you will use and it will take longer to load. \n",
    "\n",
    "Use the dc.load function to load your data query. This might take a while to run."
   ]
  },
  {
   "cell_type": "code",
   "execution_count": 7,
   "metadata": {},
   "outputs": [],
   "source": [
    "#I would eventually like to be able to automate the lat lon selection depending on the selected gauge\n",
    "lat, lon, buffer = -35.75, 148.66, 6500\n",
    "\n",
    "x, y = geometry.point(lon, lat, CRS('WGS84')).to_crs(CRS('EPSG:3577')).points[0]\n",
    "query = {'x': (x - buffer, x + buffer),\n",
    "         'y': (y - buffer, y + buffer),    \n",
    "         'time': ('2000-01-01', '2019-01-01'),\n",
    "         'crs': 'EPSG:3577'} \n",
    "\n",
    "dc = datacube.Datacube(app='dc-WOfS')\n",
    "wofs_albers= dc.load(product = 'wofs_albers', **query)"
   ]
  },
  {
   "cell_type": "markdown",
   "metadata": {},
   "source": [
    "# Cloud mask"
   ]
  },
  {
   "cell_type": "markdown",
   "metadata": {},
   "source": [
    "This code is a loop that runs through all the satellite data you have loaded and uses the masking tool we imported earlier to check each satellite pass for cloud, then either accepts or rejects the pass based on how much percentage cloud the user specifies as acceptable (it reads the bitflags to tell how much cloud there is). I chose 20% cloud as acceptable because you can still see the dam up until about 20% cloud coverage. After we run this code, the wofs_albers function will only return satellite data where you can actually see the dam, not data from cloudy days. "
   ]
  },
  {
   "cell_type": "code",
   "execution_count": 8,
   "metadata": {},
   "outputs": [],
   "source": [
    "ClearTimesteps = []\n",
    "#Make a for-loop\n",
    "for ix, timestep in enumerate(wofs_albers.time):\n",
    "    SingleTime = wofs_albers.water.isel(time=ix)\n",
    "    IsItCloudy = masking.make_mask(SingleTime, cloud=True)\n",
    "    CountClouds = IsItCloudy.sum()\n",
    "    \n",
    "#Here's the part that measures the percentage of bit flags that mean cloud in the satellite image\n",
    "    PercentCloudy = CountClouds.values.item()/(len(wofs_albers.x)*len(wofs_albers*y))*100\n",
    "#And here's the part where we select how much cloud we're willing to accept in our satellite images. try 20. \n",
    "    IsItClearEnough = PercentCloudy <= 20\n",
    "    \n",
    "#Then we say 'if IsItClearEnough = True, then append it to an index called ClearTimesteps'.\n",
    "    if IsItClearEnough:\n",
    "        ClearTimesteps.append(ix)\n",
    "#redefine wofs_albers so that it only returns useable data (ie clear passes)\n",
    "wofs_albers = wofs_albers.water.isel(time = ClearTimesteps)"
   ]
  },
  {
   "cell_type": "markdown",
   "metadata": {},
   "source": [
    "# Get gauge data as xarray"
   ]
  },
  {
   "cell_type": "markdown",
   "metadata": {},
   "source": [
    "Now we load the gauge data we got from the Water Data Online website. The data is in a csv file, which we can read with the pandas module using the pd.read_csv function. I had to give the function a lot of arguments so it could be converted to an xarray because the data was in kind of a weird format. the .to_xarray() function converts the csv file to an xarray. "
   ]
  },
  {
   "cell_type": "code",
   "execution_count": 9,
   "metadata": {},
   "outputs": [],
   "source": [
    "#load csv file and skip data description lines.\n",
    "gd = pd.read_csv('/g/data/r78/kd6095/dea-notebooks/Tantangara/Tantangara_water_level.csv',\n",
    "                error_bad_lines = False, skiprows=9, escapechar='#', \n",
    "                         parse_dates=['Timestamp'], #Tells it this column is dates\n",
    "                         index_col=('Timestamp'), \n",
    "                         date_parser=lambda x: pd.to_datetime(x.rsplit('+', 1)[0]))\n",
    "\n",
    "gd_xr = gd.to_xarray()"
   ]
  },
  {
   "cell_type": "markdown",
   "metadata": {},
   "source": [
    "# Merge"
   ]
  },
  {
   "cell_type": "markdown",
   "metadata": {},
   "source": [
    "OK this is the fun part where we get to link the gauge data to the satellite data by date! The .interp function matches data together based on the dimensions you give it. In this case we will ask it to match the time dimensions from each dataset. The Timestamp part is what the time dimension in the gauge data is called and we set that to equal the wofs_albers time dimension, which is just wofs_albers.time."
   ]
  },
  {
   "cell_type": "code",
   "execution_count": 10,
   "metadata": {},
   "outputs": [],
   "source": [
    "merged_data = gd_xr.interp(Timestamp=wofs_albers.time)"
   ]
  },
  {
   "cell_type": "markdown",
   "metadata": {},
   "source": [
    "We can plot the merged data set and it will show us the data as 'days that had clear satellite passes' plotted against the corresponding water level on that pass. "
   ]
  },
  {
   "cell_type": "code",
   "execution_count": 11,
   "metadata": {},
   "outputs": [
    {
     "data": {
      "text/plain": [
       "[<matplotlib.lines.Line2D at 0x7f10080fe390>]"
      ]
     },
     "execution_count": 11,
     "metadata": {},
     "output_type": "execute_result"
    },
    {
     "data": {
      "image/png": "[encoded data removed]",
      "text/plain": [
       "<Figure size 432x288 with 1 Axes>"
      ]
     },
     "metadata": {
      "needs_background": "light"
     },
     "output_type": "display_data"
    }
   ],
   "source": [
    "merged_data.Value.plot()"
   ]
  },
  {
   "cell_type": "markdown",
   "metadata": {},
   "source": [
    "Great, so this is a plot of what the water level was at each clear pass! Nice. "
   ]
  }
 ],
 "metadata": {
  "kernelspec": {
   "display_name": "Python 3",
   "language": "python",
   "name": "python3"
  },
  "language_info": {
   "codemirror_mode": {
    "name": "ipython",
    "version": 3
   },
   "file_extension": ".py",
   "mimetype": "text/x-python",
   "name": "python",
   "nbconvert_exporter": "python",
   "pygments_lexer": "ipython3",
   "version": "3.6.7"
  }
 },
 "nbformat": 4,
 "nbformat_minor": 2
}
