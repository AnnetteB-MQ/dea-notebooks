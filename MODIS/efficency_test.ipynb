{
 "cells": [
  {
   "cell_type": "markdown",
   "metadata": {},
   "source": [
    "# Introduction to MODIS Ocean Colour Dataset in DEA"
   ]
  },
  {
   "cell_type": "markdown",
   "metadata": {},
   "source": [
    "**What does this notebook do?** \n",
    "This notebook demonstrates how to import MODIS Ocean Colour data using DEA, plot the data, and generate and plot time-series for a location.\n",
    "\n",
    "**Requirements** \n",
    "You need to run the following commands from the command line prior to launching jupyter notebook from the same terminal so that the required libraries and paths are set.\n",
    "\n",
    "module use /g/data/v10/public/modules/modulefiles\n",
    "\n",
    "module load dea\n",
    "\n",
    "If you find an error or bug in this notebook, please either create an 'Issue' in the Github repository, or fix it yourself and create a 'Pull' request to contribute the updated notebook back into the repository (See the repository README for instructions on creating a Pull request).\n",
    "\n",
    "**Date:** last updated 16th, Jan, 2019\n",
    "\n",
    "**Author:** Ayers Damien, Zhi Huang"
   ]
  },
  {
   "cell_type": "markdown",
   "metadata": {},
   "source": [
    "**Import modules**"
   ]
  },
  {
   "cell_type": "code",
   "execution_count": 2,
   "metadata": {},
   "outputs": [],
   "source": [
    "from datacube import Datacube\n",
    "from datacube.storage.masking import mask_invalid_data\n",
    "%matplotlib inline\n",
    "import matplotlib.pyplot as plt\n"
   ]
  },
  {
   "cell_type": "markdown",
   "metadata": {},
   "source": [
    "**Specify a development database to connect to. It is on a different database server agdcstaging-db.nci.org.au, which means that your ~/.pgpass file will need to specify a password to connect to it as well.**"
   ]
  },
  {
   "cell_type": "code",
   "execution_count": 3,
   "metadata": {},
   "outputs": [],
   "source": [
    "dc = Datacube(config='/g/data/u46/users/dsg547/modis_oc.conf')"
   ]
  },
  {
   "cell_type": "markdown",
   "metadata": {},
   "source": [
    "**The only product in this database is the daily ocean colour data between 2002 and 2018.**"
   ]
  },
  {
   "cell_type": "code",
   "execution_count": 7,
   "metadata": {},
   "outputs": [
    {
     "data": {
      "text/html": [
       "<div>\n",
       "<style scoped>\n",
       "    .dataframe tbody tr th:only-of-type {\n",
       "        vertical-align: middle;\n",
       "    }\n",
       "\n",
       "    .dataframe tbody tr th {\n",
       "        vertical-align: top;\n",
       "    }\n",
       "\n",
       "    .dataframe thead th {\n",
       "        text-align: right;\n",
       "    }\n",
       "</style>\n",
       "<table border=\"1\" class=\"dataframe\">\n",
       "  <thead>\n",
       "    <tr style=\"text-align: right;\">\n",
       "      <th></th>\n",
       "      <th>name</th>\n",
       "      <th>description</th>\n",
       "      <th>label</th>\n",
       "      <th>platform</th>\n",
       "      <th>instrument</th>\n",
       "      <th>time</th>\n",
       "      <th>lon</th>\n",
       "      <th>creation_time</th>\n",
       "      <th>format</th>\n",
       "      <th>lat</th>\n",
       "      <th>product_type</th>\n",
       "      <th>crs</th>\n",
       "      <th>resolution</th>\n",
       "      <th>tile_size</th>\n",
       "      <th>spatial_dimensions</th>\n",
       "    </tr>\n",
       "    <tr>\n",
       "      <th>id</th>\n",
       "      <th></th>\n",
       "      <th></th>\n",
       "      <th></th>\n",
       "      <th></th>\n",
       "      <th></th>\n",
       "      <th></th>\n",
       "      <th></th>\n",
       "      <th></th>\n",
       "      <th></th>\n",
       "      <th></th>\n",
       "      <th></th>\n",
       "      <th></th>\n",
       "      <th></th>\n",
       "      <th></th>\n",
       "      <th></th>\n",
       "    </tr>\n",
       "  </thead>\n",
       "  <tbody>\n",
       "    <tr>\n",
       "      <th>5</th>\n",
       "      <td>modis_oc_1d</td>\n",
       "      <td>MODIS Ocean Cover Daily</td>\n",
       "      <td>None</td>\n",
       "      <td>MODIS</td>\n",
       "      <td>None</td>\n",
       "      <td>None</td>\n",
       "      <td>None</td>\n",
       "      <td>None</td>\n",
       "      <td>None</td>\n",
       "      <td>None</td>\n",
       "      <td>modis_oc_1d</td>\n",
       "      <td>EPSG:4326</td>\n",
       "      <td>(-0.01, 0.01)</td>\n",
       "      <td>None</td>\n",
       "      <td>(latitude, longitude)</td>\n",
       "    </tr>\n",
       "  </tbody>\n",
       "</table>\n",
       "</div>"
      ],
      "text/plain": [
       "           name              description label platform instrument  time  \\\n",
       "id                                                                         \n",
       "5   modis_oc_1d  MODIS Ocean Cover Daily  None    MODIS       None  None   \n",
       "\n",
       "     lon creation_time format   lat product_type        crs     resolution  \\\n",
       "id                                                                           \n",
       "5   None          None   None  None  modis_oc_1d  EPSG:4326  (-0.01, 0.01)   \n",
       "\n",
       "   tile_size     spatial_dimensions  \n",
       "id                                   \n",
       "5       None  (latitude, longitude)  "
      ]
     },
     "execution_count": 7,
     "metadata": {},
     "output_type": "execute_result"
    }
   ],
   "source": [
    "dc.list_products()"
   ]
  },
  {
   "cell_type": "markdown",
   "metadata": {},
   "source": [
    "**These are the available measurements**"
   ]
  },
  {
   "cell_type": "code",
   "execution_count": 8,
   "metadata": {
    "scrolled": true
   },
   "outputs": [
    {
     "data": {
      "text/html": [
       "<div>\n",
       "<style scoped>\n",
       "    .dataframe tbody tr th:only-of-type {\n",
       "        vertical-align: middle;\n",
       "    }\n",
       "\n",
       "    .dataframe tbody tr th {\n",
       "        vertical-align: top;\n",
       "    }\n",
       "\n",
       "    .dataframe thead th {\n",
       "        text-align: right;\n",
       "    }\n",
       "</style>\n",
       "<table border=\"1\" class=\"dataframe\">\n",
       "  <thead>\n",
       "    <tr style=\"text-align: right;\">\n",
       "      <th></th>\n",
       "      <th></th>\n",
       "      <th>dtype</th>\n",
       "      <th>name</th>\n",
       "      <th>nodata</th>\n",
       "      <th>units</th>\n",
       "    </tr>\n",
       "    <tr>\n",
       "      <th>product</th>\n",
       "      <th>measurement</th>\n",
       "      <th></th>\n",
       "      <th></th>\n",
       "      <th></th>\n",
       "      <th></th>\n",
       "    </tr>\n",
       "  </thead>\n",
       "  <tbody>\n",
       "    <tr>\n",
       "      <th rowspan=\"16\" valign=\"top\">modis_oc_1d</th>\n",
       "      <th>K_490</th>\n",
       "      <td>float32</td>\n",
       "      <td>K_490</td>\n",
       "      <td>-999.0</td>\n",
       "      <td>m^-1</td>\n",
       "    </tr>\n",
       "    <tr>\n",
       "      <th>chl_gsm</th>\n",
       "      <td>float32</td>\n",
       "      <td>chl_gsm</td>\n",
       "      <td>-999.0</td>\n",
       "      <td>mg/m^3</td>\n",
       "    </tr>\n",
       "    <tr>\n",
       "      <th>chl_oc3</th>\n",
       "      <td>float32</td>\n",
       "      <td>chl_oc3</td>\n",
       "      <td>-999.0</td>\n",
       "      <td>mg/m^3</td>\n",
       "    </tr>\n",
       "    <tr>\n",
       "      <th>dt</th>\n",
       "      <td>float32</td>\n",
       "      <td>dt</td>\n",
       "      <td>-999.0</td>\n",
       "      <td>days since 2016-01-01 00:00:00</td>\n",
       "    </tr>\n",
       "    <tr>\n",
       "      <th>ipar</th>\n",
       "      <td>float32</td>\n",
       "      <td>ipar</td>\n",
       "      <td>-999.0</td>\n",
       "      <td>Ein m^-2 s^-1</td>\n",
       "    </tr>\n",
       "    <tr>\n",
       "      <th>l2_flags</th>\n",
       "      <td>int32</td>\n",
       "      <td>l2_flags</td>\n",
       "      <td>-1.0</td>\n",
       "      <td>1</td>\n",
       "    </tr>\n",
       "    <tr>\n",
       "      <th>nanop_brewin2010at</th>\n",
       "      <td>float32</td>\n",
       "      <td>nanop_brewin2010at</td>\n",
       "      <td>-999.0</td>\n",
       "      <td>percent</td>\n",
       "    </tr>\n",
       "    <tr>\n",
       "      <th>nanop_brewin2012in</th>\n",
       "      <td>float32</td>\n",
       "      <td>nanop_brewin2012in</td>\n",
       "      <td>-999.0</td>\n",
       "      <td>percent</td>\n",
       "    </tr>\n",
       "    <tr>\n",
       "      <th>npp_vgpm_eppley_gsm</th>\n",
       "      <td>float32</td>\n",
       "      <td>npp_vgpm_eppley_gsm</td>\n",
       "      <td>-999.0</td>\n",
       "      <td>mg.m^-3.d^-1</td>\n",
       "    </tr>\n",
       "    <tr>\n",
       "      <th>npp_vgpm_eppley_oc3</th>\n",
       "      <td>float32</td>\n",
       "      <td>npp_vgpm_eppley_oc3</td>\n",
       "      <td>-999.0</td>\n",
       "      <td>mg.m^-3.d^-1</td>\n",
       "    </tr>\n",
       "    <tr>\n",
       "      <th>owtd</th>\n",
       "      <td>int8</td>\n",
       "      <td>owtd</td>\n",
       "      <td>-1.0</td>\n",
       "      <td>1</td>\n",
       "    </tr>\n",
       "    <tr>\n",
       "      <th>par</th>\n",
       "      <td>float32</td>\n",
       "      <td>par</td>\n",
       "      <td>-999.0</td>\n",
       "      <td>Ein m^-2 day^-1</td>\n",
       "    </tr>\n",
       "    <tr>\n",
       "      <th>picop_brewin2010at</th>\n",
       "      <td>float32</td>\n",
       "      <td>picop_brewin2010at</td>\n",
       "      <td>-999.0</td>\n",
       "      <td>percent</td>\n",
       "    </tr>\n",
       "    <tr>\n",
       "      <th>picop_brewin2012in</th>\n",
       "      <td>float32</td>\n",
       "      <td>picop_brewin2012in</td>\n",
       "      <td>-999.0</td>\n",
       "      <td>percent</td>\n",
       "    </tr>\n",
       "    <tr>\n",
       "      <th>sst</th>\n",
       "      <td>float32</td>\n",
       "      <td>sst</td>\n",
       "      <td>-999.0</td>\n",
       "      <td>Celsius</td>\n",
       "    </tr>\n",
       "    <tr>\n",
       "      <th>sst_quality</th>\n",
       "      <td>int16</td>\n",
       "      <td>sst_quality</td>\n",
       "      <td>-1.0</td>\n",
       "      <td>1</td>\n",
       "    </tr>\n",
       "  </tbody>\n",
       "</table>\n",
       "</div>"
      ],
      "text/plain": [
       "                                   dtype                 name  nodata  \\\n",
       "product     measurement                                                 \n",
       "modis_oc_1d K_490                float32                K_490  -999.0   \n",
       "            chl_gsm              float32              chl_gsm  -999.0   \n",
       "            chl_oc3              float32              chl_oc3  -999.0   \n",
       "            dt                   float32                   dt  -999.0   \n",
       "            ipar                 float32                 ipar  -999.0   \n",
       "            l2_flags               int32             l2_flags    -1.0   \n",
       "            nanop_brewin2010at   float32   nanop_brewin2010at  -999.0   \n",
       "            nanop_brewin2012in   float32   nanop_brewin2012in  -999.0   \n",
       "            npp_vgpm_eppley_gsm  float32  npp_vgpm_eppley_gsm  -999.0   \n",
       "            npp_vgpm_eppley_oc3  float32  npp_vgpm_eppley_oc3  -999.0   \n",
       "            owtd                    int8                 owtd    -1.0   \n",
       "            par                  float32                  par  -999.0   \n",
       "            picop_brewin2010at   float32   picop_brewin2010at  -999.0   \n",
       "            picop_brewin2012in   float32   picop_brewin2012in  -999.0   \n",
       "            sst                  float32                  sst  -999.0   \n",
       "            sst_quality            int16          sst_quality    -1.0   \n",
       "\n",
       "                                                          units  \n",
       "product     measurement                                          \n",
       "modis_oc_1d K_490                                          m^-1  \n",
       "            chl_gsm                                      mg/m^3  \n",
       "            chl_oc3                                      mg/m^3  \n",
       "            dt                   days since 2016-01-01 00:00:00  \n",
       "            ipar                                  Ein m^-2 s^-1  \n",
       "            l2_flags                                          1  \n",
       "            nanop_brewin2010at                          percent  \n",
       "            nanop_brewin2012in                          percent  \n",
       "            npp_vgpm_eppley_gsm                    mg.m^-3.d^-1  \n",
       "            npp_vgpm_eppley_oc3                    mg.m^-3.d^-1  \n",
       "            owtd                                              1  \n",
       "            par                                 Ein m^-2 day^-1  \n",
       "            picop_brewin2010at                          percent  \n",
       "            picop_brewin2012in                          percent  \n",
       "            sst                                         Celsius  \n",
       "            sst_quality                                       1  "
      ]
     },
     "execution_count": 8,
     "metadata": {},
     "output_type": "execute_result"
    }
   ],
   "source": [
    "dc.list_measurements()"
   ]
  },
  {
   "cell_type": "markdown",
   "metadata": {},
   "source": [
    "**Load 15 days of SST (Sea Surface Temperature) and CHL_GSM (Chlorophyll _a_) data from the start of 2016. Note that the resolution has been resampled from 0.01 dd to 0.1 dd to save memory usage.**"
   ]
  },
  {
   "cell_type": "code",
   "execution_count": 4,
   "metadata": {},
   "outputs": [
    {
     "name": "stdout",
     "output_type": "stream",
     "text": [
      "It took 1042.8214292526245 second\n"
     ]
    }
   ],
   "source": [
    "import time\n",
    "now = time.time()\n",
    "\n",
    "data = dc.load(product='modis_oc_1d', lat=(-27,-28), lon=(157,158), measurements=(['sst']))\n",
    "then = time.time()\n",
    "\n",
    "elapsed = then - now\n",
    "print(\"It took\", elapsed, \"second\")\n"
   ]
  },
  {
   "cell_type": "code",
   "execution_count": 5,
   "metadata": {
    "scrolled": true
   },
   "outputs": [
    {
     "data": {
      "text/plain": [
       "236000128"
      ]
     },
     "execution_count": 5,
     "metadata": {},
     "output_type": "execute_result"
    }
   ],
   "source": [
    "import sys\n",
    "sys.getsizeof(data.sst.data)"
   ]
  },
  {
   "cell_type": "code",
   "execution_count": 6,
   "metadata": {
    "scrolled": true
   },
   "outputs": [
    {
     "data": {
      "text/plain": [
       "<xarray.Dataset>\n",
       "Dimensions:    (latitude: 100, longitude: 100, time: 5900)\n",
       "Coordinates:\n",
       "  * time       (time) datetime64[ns] 2002-07-04T11:59:59.999999 ... 2018-10-12T11:59:59.999999\n",
       "  * latitude   (latitude) float64 -27.0 -27.02 -27.02 ... -27.97 -27.98 -27.99\n",
       "  * longitude  (longitude) float64 157.0 157.0 157.0 157.0 ... 158.0 158.0 158.0\n",
       "Data variables:\n",
       "    sst        (time, latitude, longitude) float32 -999.0 -999.0 ... -999.0\n",
       "Attributes:\n",
       "    crs:      EPSG:4326"
      ]
     },
     "execution_count": 6,
     "metadata": {},
     "output_type": "execute_result"
    }
   ],
   "source": [
    "data"
   ]
  },
  {
   "cell_type": "code",
   "execution_count": 7,
   "metadata": {},
   "outputs": [
    {
     "name": "stdout",
     "output_type": "stream",
     "text": [
      "It took 34.47221279144287 second\n"
     ]
    }
   ],
   "source": [
    "import time\n",
    "now = time.time()\n",
    "\n",
    "data1 = dc.load(product='modis_oc_1d', lat=(-27,-28), lon=(157,158), time=('2016-01-01', '2017-01-01'),measurements=(['sst']))\n",
    "then = time.time()\n",
    "\n",
    "elapsed = then - now\n",
    "print(\"It took\", elapsed, \"second\")\n"
   ]
  },
  {
   "cell_type": "code",
   "execution_count": 8,
   "metadata": {},
   "outputs": [
    {
     "data": {
      "text/plain": [
       "14640128"
      ]
     },
     "execution_count": 8,
     "metadata": {},
     "output_type": "execute_result"
    }
   ],
   "source": [
    "import sys\n",
    "sys.getsizeof(data1.sst.data)"
   ]
  },
  {
   "cell_type": "code",
   "execution_count": 9,
   "metadata": {},
   "outputs": [
    {
     "data": {
      "text/plain": [
       "<xarray.Dataset>\n",
       "Dimensions:    (latitude: 100, longitude: 100, time: 366)\n",
       "Coordinates:\n",
       "  * time       (time) datetime64[ns] 2016-01-01T11:59:59.999999 ... 2017-01-01T11:59:59.999999\n",
       "  * latitude   (latitude) float64 -27.0 -27.02 -27.02 ... -27.97 -27.98 -27.99\n",
       "  * longitude  (longitude) float64 157.0 157.0 157.0 157.0 ... 158.0 158.0 158.0\n",
       "Data variables:\n",
       "    sst        (time, latitude, longitude) float32 -999.0 -999.0 ... -999.0\n",
       "Attributes:\n",
       "    crs:      EPSG:4326"
      ]
     },
     "execution_count": 9,
     "metadata": {},
     "output_type": "execute_result"
    }
   ],
   "source": [
    "data1"
   ]
  },
  {
   "cell_type": "code",
   "execution_count": 10,
   "metadata": {},
   "outputs": [
    {
     "name": "stdout",
     "output_type": "stream",
     "text": [
      "It took 99.16870832443237 second\n"
     ]
    }
   ],
   "source": [
    "import time\n",
    "now = time.time()\n",
    "\n",
    "data2 = dc.load(product='modis_oc_1d', lat=(-27,-28), lon=(157,158), time=('2014-01-01', '2017-01-01'),measurements=(['sst']))\n",
    "then = time.time()\n",
    "\n",
    "elapsed = then - now\n",
    "print(\"It took\", elapsed, \"second\")"
   ]
  },
  {
   "cell_type": "code",
   "execution_count": 12,
   "metadata": {
    "scrolled": true
   },
   "outputs": [
    {
     "data": {
      "text/plain": [
       "1120544192"
      ]
     },
     "execution_count": 12,
     "metadata": {},
     "output_type": "execute_result"
    }
   ],
   "source": [
    "import sys\n",
    "sys.getsizeof(data2.sst.data)"
   ]
  },
  {
   "cell_type": "code",
   "execution_count": 13,
   "metadata": {},
   "outputs": [
    {
     "data": {
      "text/plain": [
       "<xarray.Dataset>\n",
       "Dimensions:    (latitude: 7002, longitude: 10002, time: 4)\n",
       "Coordinates:\n",
       "  * time       (time) datetime64[ns] 2016-03-17T11:59:59.999999 ... 2016-03-20T11:59:59.999999\n",
       "  * latitude   (latitude) float64 10.0 9.995 9.985 9.975 ... -59.98 -60.0 -60.01\n",
       "  * longitude  (longitude) float64 79.99 80.0 80.01 80.02 ... 180.0 180.0 180.0\n",
       "Data variables:\n",
       "    sst        (time, latitude, longitude) float32 -999.0 -999.0 ... -999.0\n",
       "Attributes:\n",
       "    crs:      EPSG:4326"
      ]
     },
     "execution_count": 13,
     "metadata": {},
     "output_type": "execute_result"
    }
   ],
   "source": [
    "data2"
   ]
  },
  {
   "cell_type": "code",
   "execution_count": 11,
   "metadata": {},
   "outputs": [
    {
     "name": "stdout",
     "output_type": "stream",
     "text": [
      "It took 245.02673935890198 second\n"
     ]
    }
   ],
   "source": [
    "import time\n",
    "now = time.time()\n",
    "\n",
    "data2 = dc.load(product='modis_oc_1d', lat=(-27,-28), lon=(157,158), time=('2010-01-01', '2017-01-01'),measurements=(['sst']))\n",
    "then = time.time()\n",
    "\n",
    "elapsed = then - now\n",
    "print(\"It took\", elapsed, \"second\")"
   ]
  },
  {
   "cell_type": "code",
   "execution_count": 12,
   "metadata": {},
   "outputs": [
    {
     "data": {
      "text/plain": [
       "<xarray.Dataset>\n",
       "Dimensions:    (latitude: 100, longitude: 100, time: 2557)\n",
       "Coordinates:\n",
       "  * time       (time) datetime64[ns] 2010-01-01T11:59:59.999999 ... 2017-01-01T11:59:59.999999\n",
       "  * latitude   (latitude) float64 -27.0 -27.02 -27.02 ... -27.97 -27.98 -27.99\n",
       "  * longitude  (longitude) float64 157.0 157.0 157.0 157.0 ... 158.0 158.0 158.0\n",
       "Data variables:\n",
       "    sst        (time, latitude, longitude) float32 -999.0 -999.0 ... -999.0\n",
       "Attributes:\n",
       "    crs:      EPSG:4326"
      ]
     },
     "execution_count": 12,
     "metadata": {},
     "output_type": "execute_result"
    }
   ],
   "source": [
    "data2"
   ]
  },
  {
   "cell_type": "code",
   "execution_count": 15,
   "metadata": {},
   "outputs": [
    {
     "data": {
      "text/plain": [
       "236000128"
      ]
     },
     "execution_count": 15,
     "metadata": {},
     "output_type": "execute_result"
    }
   ],
   "source": [
    "import sys\n",
    "sys.getsizeof(data3.sst.data)"
   ]
  },
  {
   "cell_type": "code",
   "execution_count": 13,
   "metadata": {},
   "outputs": [
    {
     "name": "stdout",
     "output_type": "stream",
     "text": [
      "It took 728.5271275043488 second\n"
     ]
    }
   ],
   "source": [
    "import time\n",
    "now = time.time()\n",
    "\n",
    "data3 = dc.load(product='modis_oc_1d', lat=(-27,-28), lon=(157,158), measurements=(['sst']))\n",
    "then = time.time()\n",
    "\n",
    "elapsed = then - now\n",
    "print(\"It took\", elapsed, \"second\")"
   ]
  },
  {
   "cell_type": "code",
   "execution_count": 14,
   "metadata": {},
   "outputs": [
    {
     "data": {
      "text/plain": [
       "<xarray.Dataset>\n",
       "Dimensions:    (latitude: 100, longitude: 100, time: 5900)\n",
       "Coordinates:\n",
       "  * time       (time) datetime64[ns] 2002-07-04T11:59:59.999999 ... 2018-10-12T11:59:59.999999\n",
       "  * latitude   (latitude) float64 -27.0 -27.02 -27.02 ... -27.97 -27.98 -27.99\n",
       "  * longitude  (longitude) float64 157.0 157.0 157.0 157.0 ... 158.0 158.0 158.0\n",
       "Data variables:\n",
       "    sst        (time, latitude, longitude) float32 -999.0 -999.0 ... -999.0\n",
       "Attributes:\n",
       "    crs:      EPSG:4326"
      ]
     },
     "execution_count": 14,
     "metadata": {},
     "output_type": "execute_result"
    }
   ],
   "source": [
    "data3"
   ]
  },
  {
   "cell_type": "code",
   "execution_count": 16,
   "metadata": {},
   "outputs": [
    {
     "name": "stdout",
     "output_type": "stream",
     "text": [
      "It took 700.966952085495 second\n"
     ]
    }
   ],
   "source": [
    "import time\n",
    "now = time.time()\n",
    "\n",
    "data4 = dc.load(product='modis_oc_1d', lat=-27, lon=157, measurements=(['sst']))\n",
    "then = time.time()\n",
    "\n",
    "elapsed = then - now\n",
    "print(\"It took\", elapsed, \"second\")"
   ]
  },
  {
   "cell_type": "code",
   "execution_count": 17,
   "metadata": {},
   "outputs": [
    {
     "data": {
      "text/plain": [
       "<xarray.Dataset>\n",
       "Dimensions:    (latitude: 1, longitude: 1, time: 5900)\n",
       "Coordinates:\n",
       "  * time       (time) datetime64[ns] 2002-07-04T11:59:59.999999 ... 2018-10-12T11:59:59.999999\n",
       "  * latitude   (latitude) float64 -27.0\n",
       "  * longitude  (longitude) float64 157.0\n",
       "Data variables:\n",
       "    sst        (time, latitude, longitude) float32 -999.0 21.48 ... -999.0\n",
       "Attributes:\n",
       "    crs:      EPSG:4326"
      ]
     },
     "execution_count": 17,
     "metadata": {},
     "output_type": "execute_result"
    }
   ],
   "source": [
    "data4"
   ]
  },
  {
   "cell_type": "code",
   "execution_count": 18,
   "metadata": {},
   "outputs": [
    {
     "name": "stdout",
     "output_type": "stream",
     "text": [
      "It took 228.1155514717102 second\n"
     ]
    }
   ],
   "source": [
    "import time\n",
    "now = time.time()\n",
    "\n",
    "data5 = dc.load(product='modis_oc_1d', lat=-27, lon=157, time=('2010-01-01', '2017-01-01'),measurements=(['sst']))\n",
    "then = time.time()\n",
    "\n",
    "elapsed = then - now\n",
    "print(\"It took\", elapsed, \"second\")"
   ]
  },
  {
   "cell_type": "code",
   "execution_count": 19,
   "metadata": {},
   "outputs": [
    {
     "name": "stdout",
     "output_type": "stream",
     "text": [
      "It took 91.6866672039032 second\n"
     ]
    }
   ],
   "source": [
    "import time\n",
    "now = time.time()\n",
    "\n",
    "data6 = dc.load(product='modis_oc_1d', lat=-27, lon=157, time=('2010-01-01', '2013-01-01'),measurements=(['sst']))\n",
    "then = time.time()\n",
    "\n",
    "elapsed = then - now\n",
    "print(\"It took\", elapsed, \"second\")"
   ]
  },
  {
   "cell_type": "code",
   "execution_count": 20,
   "metadata": {},
   "outputs": [
    {
     "name": "stdout",
     "output_type": "stream",
     "text": [
      "It took 31.612260103225708 second\n"
     ]
    }
   ],
   "source": [
    "import time\n",
    "now = time.time()\n",
    "\n",
    "data7 = dc.load(product='modis_oc_1d', lat=-27, lon=157, time=('2010-01-01', '2011-01-01'),measurements=(['sst']))\n",
    "then = time.time()\n",
    "\n",
    "elapsed = then - now\n",
    "print(\"It took\", elapsed, \"second\")"
   ]
  },
  {
   "cell_type": "code",
   "execution_count": 21,
   "metadata": {},
   "outputs": [
    {
     "name": "stdout",
     "output_type": "stream",
     "text": [
      "It took 49.61196231842041 second\n"
     ]
    }
   ],
   "source": [
    "import time\n",
    "now = time.time()\n",
    "\n",
    "data8 = dc.load(product='modis_oc_1d', lat=(-27,-35), lon=(157,161), time=('2010-01-01', '2011-01-01'),measurements=(['sst']))\n",
    "then = time.time()\n",
    "\n",
    "elapsed = then - now\n",
    "print(\"It took\", elapsed, \"second\")"
   ]
  },
  {
   "cell_type": "code",
   "execution_count": 22,
   "metadata": {},
   "outputs": [
    {
     "data": {
      "text/plain": [
       "<xarray.Dataset>\n",
       "Dimensions:    (latitude: 800, longitude: 400, time: 366)\n",
       "Coordinates:\n",
       "  * time       (time) datetime64[ns] 2010-01-01T11:59:59.999999 ... 2011-01-01T11:59:59.999999\n",
       "  * latitude   (latitude) float64 -27.0 -27.02 -27.02 ... -34.98 -34.98 -34.99\n",
       "  * longitude  (longitude) float64 157.0 157.0 157.0 157.0 ... 161.0 161.0 161.0\n",
       "Data variables:\n",
       "    sst        (time, latitude, longitude) float32 -999.0 -999.0 ... 22.305\n",
       "Attributes:\n",
       "    crs:      EPSG:4326"
      ]
     },
     "execution_count": 22,
     "metadata": {},
     "output_type": "execute_result"
    }
   ],
   "source": [
    "data8"
   ]
  },
  {
   "cell_type": "code",
   "execution_count": 23,
   "metadata": {},
   "outputs": [
    {
     "name": "stdout",
     "output_type": "stream",
     "text": [
      "It took 147.0663070678711 second\n"
     ]
    }
   ],
   "source": [
    "import time\n",
    "now = time.time()\n",
    "\n",
    "data9 = dc.load(product='modis_oc_1d', lat=(-27,-35), lon=(157,161), time=('2010-01-01', '2013-01-01'),measurements=(['sst']))\n",
    "then = time.time()\n",
    "\n",
    "elapsed = then - now\n",
    "print(\"It took\", elapsed, \"second\")"
   ]
  },
  {
   "cell_type": "code",
   "execution_count": 24,
   "metadata": {},
   "outputs": [
    {
     "name": "stdout",
     "output_type": "stream",
     "text": [
      "It took 341.4729437828064 second\n"
     ]
    }
   ],
   "source": [
    "import time\n",
    "now = time.time()\n",
    "\n",
    "data10 = dc.load(product='modis_oc_1d', lat=(-27,-35), lon=(157,161), time=('2010-01-01', '2017-01-01'),measurements=(['sst']))\n",
    "then = time.time()\n",
    "\n",
    "elapsed = then - now\n",
    "print(\"It took\", elapsed, \"second\")"
   ]
  },
  {
   "cell_type": "code",
   "execution_count": 25,
   "metadata": {},
   "outputs": [
    {
     "name": "stdout",
     "output_type": "stream",
     "text": [
      "It took 1094.365430355072 second\n"
     ]
    }
   ],
   "source": [
    "import time\n",
    "now = time.time()\n",
    "\n",
    "data11 = dc.load(product='modis_oc_1d', lat=(-27,-35), lon=(157,161), measurements=(['sst']))\n",
    "then = time.time()\n",
    "\n",
    "elapsed = then - now\n",
    "print(\"It took\", elapsed, \"second\")"
   ]
  },
  {
   "cell_type": "code",
   "execution_count": 26,
   "metadata": {},
   "outputs": [
    {
     "data": {
      "text/plain": [
       "<xarray.Dataset>\n",
       "Dimensions:    (latitude: 800, longitude: 400, time: 5900)\n",
       "Coordinates:\n",
       "  * time       (time) datetime64[ns] 2002-07-04T11:59:59.999999 ... 2018-10-12T11:59:59.999999\n",
       "  * latitude   (latitude) float64 -27.0 -27.02 -27.02 ... -34.98 -34.98 -34.99\n",
       "  * longitude  (longitude) float64 157.0 157.0 157.0 157.0 ... 161.0 161.0 161.0\n",
       "Data variables:\n",
       "    sst        (time, latitude, longitude) float32 -999.0 -999.0 ... -999.0\n",
       "Attributes:\n",
       "    crs:      EPSG:4326"
      ]
     },
     "execution_count": 26,
     "metadata": {},
     "output_type": "execute_result"
    }
   ],
   "source": [
    "data11"
   ]
  },
  {
   "cell_type": "code",
   "execution_count": 27,
   "metadata": {},
   "outputs": [
    {
     "data": {
      "text/plain": [
       "7552000128"
      ]
     },
     "execution_count": 27,
     "metadata": {},
     "output_type": "execute_result"
    }
   ],
   "source": [
    "import sys\n",
    "sys.getsizeof(data11.sst.data)"
   ]
  },
  {
   "cell_type": "code",
   "execution_count": 29,
   "metadata": {},
   "outputs": [
    {
     "data": {
      "text/plain": [
       "<matplotlib.collections.QuadMesh at 0x7fb8b0a91860>"
      ]
     },
     "execution_count": 29,
     "metadata": {},
     "output_type": "execute_result"
    },
    {
     "data": {
      "image/png": "[encoded data removed]",
      "text/plain": [
       "<Figure size 432x288 with 2 Axes>"
      ]
     },
     "metadata": {
      "needs_background": "light"
     },
     "output_type": "display_data"
    }
   ],
   "source": [
    "data11.sst[100].plot()"
   ]
  },
  {
   "cell_type": "code",
   "execution_count": null,
   "metadata": {},
   "outputs": [],
   "source": [
    "data11 = mask_invalid_data(data11)"
   ]
  },
  {
   "cell_type": "code",
   "execution_count": null,
   "metadata": {},
   "outputs": [],
   "source": []
  }
 ],
 "metadata": {
  "kernelspec": {
   "display_name": "Python 3",
   "language": "python",
   "name": "python3"
  },
  "language_info": {
   "codemirror_mode": {
    "name": "ipython",
    "version": 3
   },
   "file_extension": ".py",
   "mimetype": "text/x-python",
   "name": "python",
   "nbconvert_exporter": "python",
   "pygments_lexer": "ipython3",
   "version": "3.6.7"
  }
 },
 "nbformat": 4,
 "nbformat_minor": 2
}
