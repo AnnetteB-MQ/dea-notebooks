{
 "cells": [
  {
   "cell_type": "markdown",
   "metadata": {},
   "source": [
    "# Introduction to MODIS Ocean Colour Dataset in DEA"
   ]
  },
  {
   "cell_type": "markdown",
   "metadata": {},
   "source": [
    "**What does this notebook do?** \n",
    "This notebook demonstrates how to import MODIS Ocean Colour data using DEA,plot the data, and generate and plot time-series for a location.\n",
    "\n",
    "**Requirements** \n",
    "You need to run the following commands from the command line prior to launching jupyter notebook from the same terminal so that the required libraries and paths are set.\n",
    "\n",
    "module use /g/data/v10/public/modules/modulefiles\n",
    "\n",
    "module load dea\n",
    "\n",
    "If you find an error or bug in this notebook, please either create an 'Issue' in the Github repository, or fix it yourself and create a 'Pull' request to contribute the updated notebook back into the repository (See the repository README for instructions on creating a Pull request).\n",
    "\n",
    "**Date:** last updated 19th September, 2018\n",
    "\n",
    "**Author:** Ayers Damien, Zhi Huang"
   ]
  },
  {
   "cell_type": "markdown",
   "metadata": {},
   "source": [
    "**Import modules**"
   ]
  },
  {
   "cell_type": "code",
   "execution_count": 2,
   "metadata": {},
   "outputs": [],
   "source": [
    "from datacube import Datacube\n",
    "from datacube.storage.masking import mask_invalid_data\n",
    "%matplotlib inline\n",
    "import fiona\n",
    "from shapely import geometry\n",
    "from datacube.utils import geometry\n",
    "import matplotlib.pyplot as plt\n",
    "import geopandas as gpd\n",
    "from rasterstats import zonal_stats\n",
    "from affine import Affine\n",
    "from datacube.helpers import write_geotiff"
   ]
  },
  {
   "cell_type": "markdown",
   "metadata": {},
   "source": [
    "**Specify a development database to connect to. It is on a different database server agdcdev-db.nci.org.au, which means that your ~/.pgpass file will need to specify a password to connect to it as well.**"
   ]
  },
  {
   "cell_type": "code",
   "execution_count": 7,
   "metadata": {},
   "outputs": [],
   "source": [
    "dc = Datacube(config='/g/data/u46/users/dra547/modis_oc.conf')"
   ]
  },
  {
   "cell_type": "code",
   "execution_count": 11,
   "metadata": {},
   "outputs": [],
   "source": [
    "dc1 = Datacube(config='/g/data/u46/users/dsg547/modis_oc.conf')"
   ]
  },
  {
   "cell_type": "markdown",
   "metadata": {},
   "source": [
    "**The only product in this database is the daily ocean colour data between 2013 and 2016.**"
   ]
  },
  {
   "cell_type": "code",
   "execution_count": 14,
   "metadata": {},
   "outputs": [
    {
     "data": {
      "text/html": [
       "<div>\n",
       "<style scoped>\n",
       "    .dataframe tbody tr th:only-of-type {\n",
       "        vertical-align: middle;\n",
       "    }\n",
       "\n",
       "    .dataframe tbody tr th {\n",
       "        vertical-align: top;\n",
       "    }\n",
       "\n",
       "    .dataframe thead th {\n",
       "        text-align: right;\n",
       "    }\n",
       "</style>\n",
       "<table border=\"1\" class=\"dataframe\">\n",
       "  <thead>\n",
       "    <tr style=\"text-align: right;\">\n",
       "      <th></th>\n",
       "      <th>name</th>\n",
       "      <th>description</th>\n",
       "      <th>lat</th>\n",
       "      <th>platform</th>\n",
       "      <th>lon</th>\n",
       "      <th>format</th>\n",
       "      <th>time</th>\n",
       "      <th>product_type</th>\n",
       "      <th>label</th>\n",
       "      <th>instrument</th>\n",
       "      <th>creation_time</th>\n",
       "      <th>crs</th>\n",
       "      <th>resolution</th>\n",
       "      <th>tile_size</th>\n",
       "      <th>spatial_dimensions</th>\n",
       "    </tr>\n",
       "    <tr>\n",
       "      <th>id</th>\n",
       "      <th></th>\n",
       "      <th></th>\n",
       "      <th></th>\n",
       "      <th></th>\n",
       "      <th></th>\n",
       "      <th></th>\n",
       "      <th></th>\n",
       "      <th></th>\n",
       "      <th></th>\n",
       "      <th></th>\n",
       "      <th></th>\n",
       "      <th></th>\n",
       "      <th></th>\n",
       "      <th></th>\n",
       "      <th></th>\n",
       "    </tr>\n",
       "  </thead>\n",
       "  <tbody>\n",
       "    <tr>\n",
       "      <th>5</th>\n",
       "      <td>modis_oc_1d</td>\n",
       "      <td>MODIS Ocean Cover Daily</td>\n",
       "      <td>None</td>\n",
       "      <td>MODIS</td>\n",
       "      <td>None</td>\n",
       "      <td>None</td>\n",
       "      <td>None</td>\n",
       "      <td>modis_oc_1d</td>\n",
       "      <td>None</td>\n",
       "      <td>None</td>\n",
       "      <td>None</td>\n",
       "      <td>EPSG:4326</td>\n",
       "      <td>(-0.01, 0.01)</td>\n",
       "      <td>None</td>\n",
       "      <td>(latitude, longitude)</td>\n",
       "    </tr>\n",
       "  </tbody>\n",
       "</table>\n",
       "</div>"
      ],
      "text/plain": [
       "           name              description   lat platform   lon format  time  \\\n",
       "id                                                                           \n",
       "5   modis_oc_1d  MODIS Ocean Cover Daily  None    MODIS  None   None  None   \n",
       "\n",
       "   product_type label instrument creation_time        crs     resolution  \\\n",
       "id                                                                         \n",
       "5   modis_oc_1d  None       None          None  EPSG:4326  (-0.01, 0.01)   \n",
       "\n",
       "   tile_size     spatial_dimensions  \n",
       "id                                   \n",
       "5       None  (latitude, longitude)  "
      ]
     },
     "execution_count": 14,
     "metadata": {},
     "output_type": "execute_result"
    }
   ],
   "source": [
    "dc1.list_products()"
   ]
  },
  {
   "cell_type": "markdown",
   "metadata": {},
   "source": [
    "**These are the available measurements**"
   ]
  },
  {
   "cell_type": "code",
   "execution_count": 16,
   "metadata": {
    "scrolled": true
   },
   "outputs": [
    {
     "data": {
      "text/html": [
       "<div>\n",
       "<style scoped>\n",
       "    .dataframe tbody tr th:only-of-type {\n",
       "        vertical-align: middle;\n",
       "    }\n",
       "\n",
       "    .dataframe tbody tr th {\n",
       "        vertical-align: top;\n",
       "    }\n",
       "\n",
       "    .dataframe thead th {\n",
       "        text-align: right;\n",
       "    }\n",
       "</style>\n",
       "<table border=\"1\" class=\"dataframe\">\n",
       "  <thead>\n",
       "    <tr style=\"text-align: right;\">\n",
       "      <th></th>\n",
       "      <th></th>\n",
       "      <th>dtype</th>\n",
       "      <th>name</th>\n",
       "      <th>nodata</th>\n",
       "      <th>units</th>\n",
       "    </tr>\n",
       "    <tr>\n",
       "      <th>product</th>\n",
       "      <th>measurement</th>\n",
       "      <th></th>\n",
       "      <th></th>\n",
       "      <th></th>\n",
       "      <th></th>\n",
       "    </tr>\n",
       "  </thead>\n",
       "  <tbody>\n",
       "    <tr>\n",
       "      <th rowspan=\"16\" valign=\"top\">modis_oc_1d</th>\n",
       "      <th>K_490</th>\n",
       "      <td>float32</td>\n",
       "      <td>K_490</td>\n",
       "      <td>-999.0</td>\n",
       "      <td>m^-1</td>\n",
       "    </tr>\n",
       "    <tr>\n",
       "      <th>chl_gsm</th>\n",
       "      <td>float32</td>\n",
       "      <td>chl_gsm</td>\n",
       "      <td>-999.0</td>\n",
       "      <td>mg/m^3</td>\n",
       "    </tr>\n",
       "    <tr>\n",
       "      <th>chl_oc3</th>\n",
       "      <td>float32</td>\n",
       "      <td>chl_oc3</td>\n",
       "      <td>-999.0</td>\n",
       "      <td>mg/m^3</td>\n",
       "    </tr>\n",
       "    <tr>\n",
       "      <th>dt</th>\n",
       "      <td>float32</td>\n",
       "      <td>dt</td>\n",
       "      <td>-999.0</td>\n",
       "      <td>days since 2016-01-01 00:00:00</td>\n",
       "    </tr>\n",
       "    <tr>\n",
       "      <th>ipar</th>\n",
       "      <td>float32</td>\n",
       "      <td>ipar</td>\n",
       "      <td>-999.0</td>\n",
       "      <td>Ein m^-2 s^-1</td>\n",
       "    </tr>\n",
       "    <tr>\n",
       "      <th>l2_flags</th>\n",
       "      <td>int32</td>\n",
       "      <td>l2_flags</td>\n",
       "      <td>-1.0</td>\n",
       "      <td>1</td>\n",
       "    </tr>\n",
       "    <tr>\n",
       "      <th>nanop_brewin2010at</th>\n",
       "      <td>float32</td>\n",
       "      <td>nanop_brewin2010at</td>\n",
       "      <td>-999.0</td>\n",
       "      <td>percent</td>\n",
       "    </tr>\n",
       "    <tr>\n",
       "      <th>nanop_brewin2012in</th>\n",
       "      <td>float32</td>\n",
       "      <td>nanop_brewin2012in</td>\n",
       "      <td>-999.0</td>\n",
       "      <td>percent</td>\n",
       "    </tr>\n",
       "    <tr>\n",
       "      <th>npp_vgpm_eppley_gsm</th>\n",
       "      <td>float32</td>\n",
       "      <td>npp_vgpm_eppley_gsm</td>\n",
       "      <td>-999.0</td>\n",
       "      <td>mg.m^-3.d^-1</td>\n",
       "    </tr>\n",
       "    <tr>\n",
       "      <th>npp_vgpm_eppley_oc3</th>\n",
       "      <td>float32</td>\n",
       "      <td>npp_vgpm_eppley_oc3</td>\n",
       "      <td>-999.0</td>\n",
       "      <td>mg.m^-3.d^-1</td>\n",
       "    </tr>\n",
       "    <tr>\n",
       "      <th>owtd</th>\n",
       "      <td>int8</td>\n",
       "      <td>owtd</td>\n",
       "      <td>-1.0</td>\n",
       "      <td>1</td>\n",
       "    </tr>\n",
       "    <tr>\n",
       "      <th>par</th>\n",
       "      <td>float32</td>\n",
       "      <td>par</td>\n",
       "      <td>-999.0</td>\n",
       "      <td>Ein m^-2 day^-1</td>\n",
       "    </tr>\n",
       "    <tr>\n",
       "      <th>picop_brewin2010at</th>\n",
       "      <td>float32</td>\n",
       "      <td>picop_brewin2010at</td>\n",
       "      <td>-999.0</td>\n",
       "      <td>percent</td>\n",
       "    </tr>\n",
       "    <tr>\n",
       "      <th>picop_brewin2012in</th>\n",
       "      <td>float32</td>\n",
       "      <td>picop_brewin2012in</td>\n",
       "      <td>-999.0</td>\n",
       "      <td>percent</td>\n",
       "    </tr>\n",
       "    <tr>\n",
       "      <th>sst</th>\n",
       "      <td>float32</td>\n",
       "      <td>sst</td>\n",
       "      <td>-999.0</td>\n",
       "      <td>Celsius</td>\n",
       "    </tr>\n",
       "    <tr>\n",
       "      <th>sst_quality</th>\n",
       "      <td>int16</td>\n",
       "      <td>sst_quality</td>\n",
       "      <td>-1.0</td>\n",
       "      <td>1</td>\n",
       "    </tr>\n",
       "  </tbody>\n",
       "</table>\n",
       "</div>"
      ],
      "text/plain": [
       "                                   dtype                 name  nodata  \\\n",
       "product     measurement                                                 \n",
       "modis_oc_1d K_490                float32                K_490  -999.0   \n",
       "            chl_gsm              float32              chl_gsm  -999.0   \n",
       "            chl_oc3              float32              chl_oc3  -999.0   \n",
       "            dt                   float32                   dt  -999.0   \n",
       "            ipar                 float32                 ipar  -999.0   \n",
       "            l2_flags               int32             l2_flags    -1.0   \n",
       "            nanop_brewin2010at   float32   nanop_brewin2010at  -999.0   \n",
       "            nanop_brewin2012in   float32   nanop_brewin2012in  -999.0   \n",
       "            npp_vgpm_eppley_gsm  float32  npp_vgpm_eppley_gsm  -999.0   \n",
       "            npp_vgpm_eppley_oc3  float32  npp_vgpm_eppley_oc3  -999.0   \n",
       "            owtd                    int8                 owtd    -1.0   \n",
       "            par                  float32                  par  -999.0   \n",
       "            picop_brewin2010at   float32   picop_brewin2010at  -999.0   \n",
       "            picop_brewin2012in   float32   picop_brewin2012in  -999.0   \n",
       "            sst                  float32                  sst  -999.0   \n",
       "            sst_quality            int16          sst_quality    -1.0   \n",
       "\n",
       "                                                          units  \n",
       "product     measurement                                          \n",
       "modis_oc_1d K_490                                          m^-1  \n",
       "            chl_gsm                                      mg/m^3  \n",
       "            chl_oc3                                      mg/m^3  \n",
       "            dt                   days since 2016-01-01 00:00:00  \n",
       "            ipar                                  Ein m^-2 s^-1  \n",
       "            l2_flags                                          1  \n",
       "            nanop_brewin2010at                          percent  \n",
       "            nanop_brewin2012in                          percent  \n",
       "            npp_vgpm_eppley_gsm                    mg.m^-3.d^-1  \n",
       "            npp_vgpm_eppley_oc3                    mg.m^-3.d^-1  \n",
       "            owtd                                              1  \n",
       "            par                                 Ein m^-2 day^-1  \n",
       "            picop_brewin2010at                          percent  \n",
       "            picop_brewin2012in                          percent  \n",
       "            sst                                         Celsius  \n",
       "            sst_quality                                       1  "
      ]
     },
     "execution_count": 16,
     "metadata": {},
     "output_type": "execute_result"
    }
   ],
   "source": [
    "dc1.list_measurements()"
   ]
  },
  {
   "cell_type": "markdown",
   "metadata": {},
   "source": [
    "**Load 15 days of SST (Sea Surface Temperature) and CHL_GSM (Chlorophyll _a_) data from the start of 2016. Note that the resolution has been resampled from 0.01 dd to 0.1 dd to save memory usage.**"
   ]
  },
  {
   "cell_type": "code",
   "execution_count": 3,
   "metadata": {},
   "outputs": [],
   "source": [
    "data = dc.load(product='modis_oc_1d', time=('2016-01-01', '2016-01-15'), resolution=(-0.1, 0.1), measurements=('sst','chl_gsm'))"
   ]
  },
  {
   "cell_type": "markdown",
   "metadata": {},
   "source": [
    "**Mask the nodata (-999) as 'nan'**"
   ]
  },
  {
   "cell_type": "code",
   "execution_count": 5,
   "metadata": {},
   "outputs": [],
   "source": [
    "data = mask_invalid_data(data)"
   ]
  },
  {
   "cell_type": "code",
   "execution_count": 6,
   "metadata": {
    "scrolled": true
   },
   "outputs": [
    {
     "data": {
      "text/plain": [
       "<xarray.Dataset>\n",
       "Dimensions:    (latitude: 701, longitude: 1001, time: 15)\n",
       "Coordinates:\n",
       "  * time       (time) datetime64[ns] 2016-01-01T11:59:59.999999 ... 2016-01-15T11:59:59.999999\n",
       "  * latitude   (latitude) float64 10.05 9.95 9.85 9.75 ... -59.75 -59.85 -59.95\n",
       "  * longitude  (longitude) float64 79.95 80.05 80.15 80.25 ... 179.8 179.9 179.9\n",
       "Data variables:\n",
       "    sst        (time, latitude, longitude) float32 nan nan nan ... nan nan nan\n",
       "    chl_gsm    (time, latitude, longitude) float32 nan nan nan ... nan nan nan\n",
       "Attributes:\n",
       "    crs:      EPSG:4326"
      ]
     },
     "execution_count": 6,
     "metadata": {},
     "output_type": "execute_result"
    }
   ],
   "source": [
    "data"
   ]
  },
  {
   "cell_type": "markdown",
   "metadata": {},
   "source": [
    "**plot the daily SST and CHL_GSM imageries**"
   ]
  },
  {
   "cell_type": "markdown",
   "metadata": {},
   "source": [
    "**Try merging the data together every 5 days to fill in the gaps**"
   ]
  },
  {
   "cell_type": "markdown",
   "metadata": {},
   "source": [
    "**Plot the 5-days compsites**"
   ]
  },
  {
   "cell_type": "markdown",
   "metadata": {},
   "source": [
    "**Load time series of SST and CHL_GSM off the QLD coast for all available time**"
   ]
  },
  {
   "cell_type": "code",
   "execution_count": 18,
   "metadata": {},
   "outputs": [],
   "source": [
    "time_series = dc.load(product='modis_oc_1d', lat=-20, lon=153, measurements=['sst','chl_gsm'])"
   ]
  },
  {
   "cell_type": "code",
   "execution_count": 19,
   "metadata": {},
   "outputs": [],
   "source": [
    "time_series = mask_invalid_data(time_series)"
   ]
  },
  {
   "cell_type": "code",
   "execution_count": 85,
   "metadata": {},
   "outputs": [
    {
     "data": {
      "text/plain": [
       "array(['2013-01-01T11:59:59.999999000', '2013-01-02T11:59:59.999999000',\n",
       "       '2013-01-03T11:59:59.999999000', ...,\n",
       "       '2016-12-30T11:59:59.999999000', '2016-12-31T11:59:59.999999000',\n",
       "       '2017-01-01T11:59:59.999999000'], dtype='datetime64[ns]')"
      ]
     },
     "execution_count": 85,
     "metadata": {},
     "output_type": "execute_result"
    }
   ],
   "source": [
    "time_series['time'].data"
   ]
  },
  {
   "cell_type": "markdown",
   "metadata": {},
   "source": [
    "**Plot the SST time series**"
   ]
  },
  {
   "cell_type": "code",
   "execution_count": 21,
   "metadata": {
    "scrolled": true
   },
   "outputs": [
    {
     "data": {
      "text/plain": [
       "[<matplotlib.lines.Line2D at 0x7efd3a500358>]"
      ]
     },
     "execution_count": 21,
     "metadata": {},
     "output_type": "execute_result"
    },
    {
     "data": {
      "image/png": "[encoded data removed]",
      "text/plain": [
       "<Figure size 432x288 with 1 Axes>"
      ]
     },
     "metadata": {
      "needs_background": "light"
     },
     "output_type": "display_data"
    }
   ],
   "source": [
    "time_series.sst.plot()"
   ]
  },
  {
   "cell_type": "markdown",
   "metadata": {},
   "source": [
    "**Try out the interpolation features in xarray**"
   ]
  },
  {
   "cell_type": "code",
   "execution_count": 25,
   "metadata": {},
   "outputs": [
    {
     "data": {
      "text/plain": [
       "[<matplotlib.lines.Line2D at 0x7efd55ea1e48>]"
      ]
     },
     "execution_count": 25,
     "metadata": {},
     "output_type": "execute_result"
    },
    {
     "data": {
      "image/png": "[encoded data removed]",
      "text/plain": [
       "<Figure size 432x288 with 1 Axes>"
      ]
     },
     "metadata": {
      "needs_background": "light"
     },
     "output_type": "display_data"
    }
   ],
   "source": [
    "time_series.interpolate_na(dim='time').sst.plot()"
   ]
  },
  {
   "cell_type": "markdown",
   "metadata": {},
   "source": [
    "**Plot the CHL_GSM time series**"
   ]
  },
  {
   "cell_type": "code",
   "execution_count": 18,
   "metadata": {},
   "outputs": [
    {
     "data": {
      "text/plain": [
       "[<matplotlib.lines.Line2D at 0x7f6d7908c278>]"
      ]
     },
     "execution_count": 18,
     "metadata": {},
     "output_type": "execute_result"
    },
    {
     "data": {
      "image/png": "[encoded data removed]",
      "text/plain": [
       "<Figure size 432x288 with 1 Axes>"
      ]
     },
     "metadata": {
      "needs_background": "light"
     },
     "output_type": "display_data"
    }
   ],
   "source": [
    "time_series.chl_gsm.plot()"
   ]
  },
  {
   "cell_type": "code",
   "execution_count": 19,
   "metadata": {},
   "outputs": [
    {
     "data": {
      "text/plain": [
       "[<matplotlib.lines.Line2D at 0x7f6d79065da0>]"
      ]
     },
     "execution_count": 19,
     "metadata": {},
     "output_type": "execute_result"
    },
    {
     "data": {
      "image/png": "[encoded data removed]",
      "text/plain": [
       "<Figure size 432x288 with 1 Axes>"
      ]
     },
     "metadata": {
      "needs_background": "light"
     },
     "output_type": "display_data"
    }
   ],
   "source": [
    "time_series.interpolate_na(dim='time').chl_gsm.plot()"
   ]
  },
  {
   "cell_type": "code",
   "execution_count": 113,
   "metadata": {},
   "outputs": [],
   "source": [
    "time_series1 = dc1.load(product='modis_oc_1d', lat=-20, lon=153, time=('2010-01-01', '2011-01-01'), measurements=['sst','chl_gsm'])"
   ]
  },
  {
   "cell_type": "code",
   "execution_count": 114,
   "metadata": {},
   "outputs": [],
   "source": [
    "time_series1 = mask_invalid_data(time_series1)"
   ]
  },
  {
   "cell_type": "code",
   "execution_count": 115,
   "metadata": {},
   "outputs": [
    {
     "data": {
      "text/plain": [
       "<xarray.DataArray 'sst' (time: 366, latitude: 1, longitude: 1)>\n",
       "array([[[nan]],\n",
       "\n",
       "       [[nan]],\n",
       "\n",
       "       ...,\n",
       "\n",
       "       [[nan]],\n",
       "\n",
       "       [[nan]]], dtype=float32)\n",
       "Coordinates:\n",
       "  * time       (time) datetime64[ns] 2010-01-01T11:59:59.999999 ... 2011-01-01T11:59:59.999999\n",
       "  * latitude   (latitude) float64 -20.0\n",
       "  * longitude  (longitude) float64 153.0\n",
       "Attributes:\n",
       "    units:    Celsius\n",
       "    nodata:   -999.0\n",
       "    crs:      EPSG:4326"
      ]
     },
     "execution_count": 115,
     "metadata": {},
     "output_type": "execute_result"
    }
   ],
   "source": [
    "time_series1.sst"
   ]
  },
  {
   "cell_type": "code",
   "execution_count": 118,
   "metadata": {
    "scrolled": true
   },
   "outputs": [
    {
     "data": {
      "text/plain": [
       "[<matplotlib.lines.Line2D at 0x7efd38809860>]"
      ]
     },
     "execution_count": 118,
     "metadata": {},
     "output_type": "execute_result"
    },
    {
     "data": {
      "image/png": "[encoded data removed]",
      "text/plain": [
       "<Figure size 432x288 with 1 Axes>"
      ]
     },
     "metadata": {
      "needs_background": "light"
     },
     "output_type": "display_data"
    }
   ],
   "source": [
    "time_series1.sst.plot()"
   ]
  },
  {
   "cell_type": "code",
   "execution_count": 117,
   "metadata": {},
   "outputs": [
    {
     "data": {
      "text/plain": [
       "[<matplotlib.lines.Line2D at 0x7efd38ec15c0>]"
      ]
     },
     "execution_count": 117,
     "metadata": {},
     "output_type": "execute_result"
    },
    {
     "data": {
      "image/png": "[encoded data removed]",
      "text/plain": [
       "<Figure size 432x288 with 1 Axes>"
      ]
     },
     "metadata": {
      "needs_background": "light"
     },
     "output_type": "display_data"
    }
   ],
   "source": [
    "time_series1.interpolate_na(dim='time').sst.plot()"
   ]
  },
  {
   "cell_type": "code",
   "execution_count": 96,
   "metadata": {},
   "outputs": [],
   "source": [
    "sst_interpolated = time_series.interpolate_na(dim='time').sst\n",
    "chl_interpolated = time_series.interpolate_na(dim='time').chl_gsm"
   ]
  },
  {
   "cell_type": "code",
   "execution_count": 102,
   "metadata": {
    "scrolled": true
   },
   "outputs": [
    {
     "name": "stdout",
     "output_type": "stream",
     "text": [
      "                            OLS Regression Results                            \n",
      "==============================================================================\n",
      "Dep. Variable:                    chl   R-squared:                       0.072\n",
      "Model:                            OLS   Adj. R-squared:                  0.071\n",
      "Method:                 Least Squares   F-statistic:                     111.7\n",
      "Date:                Tue, 15 Jan 2019   Prob (F-statistic):           3.36e-25\n",
      "Time:                        16:35:11   Log-Likelihood:                 2950.9\n",
      "No. Observations:                1441   AIC:                            -5898.\n",
      "Df Residuals:                    1439   BIC:                            -5887.\n",
      "Df Model:                           1                                         \n",
      "Covariance Type:            nonrobust                                         \n",
      "==============================================================================\n",
      "                 coef    std err          t      P>|t|      [0.025      0.975]\n",
      "------------------------------------------------------------------------------\n",
      "Intercept      0.1795      0.002    107.222      0.000       0.176       0.183\n",
      "ind        -2.091e-05   1.98e-06    -10.570      0.000   -2.48e-05    -1.7e-05\n",
      "==============================================================================\n",
      "Omnibus:                      243.065   Durbin-Watson:                   0.117\n",
      "Prob(Omnibus):                  0.000   Jarque-Bera (JB):              384.415\n",
      "Skew:                           1.140   Prob(JB):                     3.35e-84\n",
      "Kurtosis:                       4.099   Cond. No.                     1.72e+03\n",
      "==============================================================================\n",
      "\n",
      "Warnings:\n",
      "[1] Standard Errors assume that the covariance matrix of the errors is correctly specified.\n",
      "[2] The condition number is large, 1.72e+03. This might indicate that there are\n",
      "strong multicollinearity or other numerical problems.\n"
     ]
    },
    {
     "data": {
      "image/png": "[encoded data removed]",
      "text/plain": [
       "<Figure size 864x432 with 1 Axes>"
      ]
     },
     "metadata": {
      "needs_background": "light"
     },
     "output_type": "display_data"
    }
   ],
   "source": [
    "import numpy as np\n",
    "import pandas as pd\n",
    "import matplotlib.ticker as ticker\n",
    "import seaborn as sns\n",
    "import statsmodels.formula.api as sm\n",
    "ind = np.arange(1,time_series['time'].size+1,1)\n",
    "sst = np.squeeze(sst_interpolated.data)\n",
    "chl = np.squeeze(chl_interpolated.data)\n",
    "df = pd.DataFrame(\n",
    "    ind,\n",
    "    columns=['ind'])\n",
    "\n",
    "times = np.datetime_as_string(time_series['time'].data)\n",
    "df['time']=times\n",
    "df['sst']=sst\n",
    "df['chl']=chl\n",
    "fit = sm.ols(formula='chl ~ ind', data=df).fit()\n",
    "print(fit.summary())\n",
    "\n",
    "predict = fit.predict(df)\n",
    "df['fitted'] = predict\n",
    "\n",
    "fig, ax = plt.subplots(figsize=(12,6))\n",
    "plt.xticks(rotation='vertical')\n",
    "#x = df.index[0]\n",
    "#y = df['chl'].max()\n",
    "#plt.text(x,y,'R-squared = ' +\"{0:.3f}\".format(fit.rsquared))\n",
    "ax.scatter(df.time, df.chl)\n",
    "ax.xaxis.set_major_locator(ticker.MultipleLocator(90))\n",
    "ax.plot(df.index, df.fitted, 'r')\n",
    "ax.set_ylabel('%')\n",
    "fig.suptitle('chl')\n",
    "\n",
    "plt.show()"
   ]
  },
  {
   "cell_type": "code",
   "execution_count": 100,
   "metadata": {},
   "outputs": [
    {
     "data": {
      "text/html": [
       "<div>\n",
       "<style scoped>\n",
       "    .dataframe tbody tr th:only-of-type {\n",
       "        vertical-align: middle;\n",
       "    }\n",
       "\n",
       "    .dataframe tbody tr th {\n",
       "        vertical-align: top;\n",
       "    }\n",
       "\n",
       "    .dataframe thead th {\n",
       "        text-align: right;\n",
       "    }\n",
       "</style>\n",
       "<table border=\"1\" class=\"dataframe\">\n",
       "  <thead>\n",
       "    <tr style=\"text-align: right;\">\n",
       "      <th></th>\n",
       "      <th>ind</th>\n",
       "      <th>time</th>\n",
       "      <th>sst</th>\n",
       "      <th>chl</th>\n",
       "      <th>fitted</th>\n",
       "    </tr>\n",
       "  </thead>\n",
       "  <tbody>\n",
       "    <tr>\n",
       "      <th>0</th>\n",
       "      <td>1</td>\n",
       "      <td>2013-01-01T11:59:59.999999000</td>\n",
       "      <td>NaN</td>\n",
       "      <td>NaN</td>\n",
       "      <td>0.179493</td>\n",
       "    </tr>\n",
       "    <tr>\n",
       "      <th>1</th>\n",
       "      <td>2</td>\n",
       "      <td>2013-01-02T11:59:59.999999000</td>\n",
       "      <td>NaN</td>\n",
       "      <td>NaN</td>\n",
       "      <td>0.179472</td>\n",
       "    </tr>\n",
       "    <tr>\n",
       "      <th>2</th>\n",
       "      <td>3</td>\n",
       "      <td>2013-01-03T11:59:59.999999000</td>\n",
       "      <td>NaN</td>\n",
       "      <td>NaN</td>\n",
       "      <td>0.179451</td>\n",
       "    </tr>\n",
       "    <tr>\n",
       "      <th>3</th>\n",
       "      <td>4</td>\n",
       "      <td>2013-01-04T11:59:59.999999000</td>\n",
       "      <td>NaN</td>\n",
       "      <td>NaN</td>\n",
       "      <td>0.179430</td>\n",
       "    </tr>\n",
       "    <tr>\n",
       "      <th>4</th>\n",
       "      <td>5</td>\n",
       "      <td>2013-01-05T11:59:59.999999000</td>\n",
       "      <td>NaN</td>\n",
       "      <td>NaN</td>\n",
       "      <td>0.179409</td>\n",
       "    </tr>\n",
       "    <tr>\n",
       "      <th>5</th>\n",
       "      <td>6</td>\n",
       "      <td>2013-01-06T11:59:59.999999000</td>\n",
       "      <td>NaN</td>\n",
       "      <td>NaN</td>\n",
       "      <td>0.179388</td>\n",
       "    </tr>\n",
       "    <tr>\n",
       "      <th>6</th>\n",
       "      <td>7</td>\n",
       "      <td>2013-01-07T11:59:59.999999000</td>\n",
       "      <td>NaN</td>\n",
       "      <td>NaN</td>\n",
       "      <td>0.179368</td>\n",
       "    </tr>\n",
       "    <tr>\n",
       "      <th>7</th>\n",
       "      <td>8</td>\n",
       "      <td>2013-01-08T11:59:59.999999000</td>\n",
       "      <td>NaN</td>\n",
       "      <td>NaN</td>\n",
       "      <td>0.179347</td>\n",
       "    </tr>\n",
       "    <tr>\n",
       "      <th>8</th>\n",
       "      <td>9</td>\n",
       "      <td>2013-01-09T11:59:59.999999000</td>\n",
       "      <td>NaN</td>\n",
       "      <td>NaN</td>\n",
       "      <td>0.179326</td>\n",
       "    </tr>\n",
       "    <tr>\n",
       "      <th>9</th>\n",
       "      <td>10</td>\n",
       "      <td>2013-01-10T11:59:59.999999000</td>\n",
       "      <td>NaN</td>\n",
       "      <td>NaN</td>\n",
       "      <td>0.179305</td>\n",
       "    </tr>\n",
       "    <tr>\n",
       "      <th>10</th>\n",
       "      <td>11</td>\n",
       "      <td>2013-01-11T11:59:59.999999000</td>\n",
       "      <td>NaN</td>\n",
       "      <td>NaN</td>\n",
       "      <td>0.179284</td>\n",
       "    </tr>\n",
       "    <tr>\n",
       "      <th>11</th>\n",
       "      <td>12</td>\n",
       "      <td>2013-01-12T11:59:59.999999000</td>\n",
       "      <td>NaN</td>\n",
       "      <td>NaN</td>\n",
       "      <td>0.179263</td>\n",
       "    </tr>\n",
       "    <tr>\n",
       "      <th>12</th>\n",
       "      <td>13</td>\n",
       "      <td>2013-01-13T11:59:59.999999000</td>\n",
       "      <td>NaN</td>\n",
       "      <td>NaN</td>\n",
       "      <td>0.179242</td>\n",
       "    </tr>\n",
       "    <tr>\n",
       "      <th>13</th>\n",
       "      <td>14</td>\n",
       "      <td>2013-01-14T11:59:59.999999000</td>\n",
       "      <td>NaN</td>\n",
       "      <td>NaN</td>\n",
       "      <td>0.179221</td>\n",
       "    </tr>\n",
       "    <tr>\n",
       "      <th>14</th>\n",
       "      <td>15</td>\n",
       "      <td>2013-01-15T11:59:59.999999000</td>\n",
       "      <td>NaN</td>\n",
       "      <td>NaN</td>\n",
       "      <td>0.179200</td>\n",
       "    </tr>\n",
       "    <tr>\n",
       "      <th>15</th>\n",
       "      <td>16</td>\n",
       "      <td>2013-01-16T11:59:59.999999000</td>\n",
       "      <td>NaN</td>\n",
       "      <td>NaN</td>\n",
       "      <td>0.179179</td>\n",
       "    </tr>\n",
       "    <tr>\n",
       "      <th>16</th>\n",
       "      <td>17</td>\n",
       "      <td>2013-01-17T11:59:59.999999000</td>\n",
       "      <td>29.094999</td>\n",
       "      <td>0.143793</td>\n",
       "      <td>0.179158</td>\n",
       "    </tr>\n",
       "    <tr>\n",
       "      <th>17</th>\n",
       "      <td>18</td>\n",
       "      <td>2013-01-18T11:59:59.999999000</td>\n",
       "      <td>28.410000</td>\n",
       "      <td>0.145502</td>\n",
       "      <td>0.179138</td>\n",
       "    </tr>\n",
       "    <tr>\n",
       "      <th>18</th>\n",
       "      <td>19</td>\n",
       "      <td>2013-01-19T11:59:59.999999000</td>\n",
       "      <td>28.360001</td>\n",
       "      <td>0.148870</td>\n",
       "      <td>0.179117</td>\n",
       "    </tr>\n",
       "    <tr>\n",
       "      <th>19</th>\n",
       "      <td>20</td>\n",
       "      <td>2013-01-20T11:59:59.999999000</td>\n",
       "      <td>28.309999</td>\n",
       "      <td>0.152239</td>\n",
       "      <td>0.179096</td>\n",
       "    </tr>\n",
       "    <tr>\n",
       "      <th>20</th>\n",
       "      <td>21</td>\n",
       "      <td>2013-01-21T11:59:59.999999000</td>\n",
       "      <td>28.426666</td>\n",
       "      <td>0.152296</td>\n",
       "      <td>0.179075</td>\n",
       "    </tr>\n",
       "    <tr>\n",
       "      <th>21</th>\n",
       "      <td>22</td>\n",
       "      <td>2013-01-22T11:59:59.999999000</td>\n",
       "      <td>28.543333</td>\n",
       "      <td>0.152353</td>\n",
       "      <td>0.179054</td>\n",
       "    </tr>\n",
       "    <tr>\n",
       "      <th>22</th>\n",
       "      <td>23</td>\n",
       "      <td>2013-01-23T11:59:59.999999000</td>\n",
       "      <td>28.660000</td>\n",
       "      <td>0.152410</td>\n",
       "      <td>0.179033</td>\n",
       "    </tr>\n",
       "    <tr>\n",
       "      <th>23</th>\n",
       "      <td>24</td>\n",
       "      <td>2013-01-24T11:59:59.999999000</td>\n",
       "      <td>28.776667</td>\n",
       "      <td>0.152467</td>\n",
       "      <td>0.179012</td>\n",
       "    </tr>\n",
       "    <tr>\n",
       "      <th>24</th>\n",
       "      <td>25</td>\n",
       "      <td>2013-01-25T11:59:59.999999000</td>\n",
       "      <td>28.893333</td>\n",
       "      <td>0.152524</td>\n",
       "      <td>0.178991</td>\n",
       "    </tr>\n",
       "    <tr>\n",
       "      <th>25</th>\n",
       "      <td>26</td>\n",
       "      <td>2013-01-26T11:59:59.999999000</td>\n",
       "      <td>29.009998</td>\n",
       "      <td>0.152581</td>\n",
       "      <td>0.178970</td>\n",
       "    </tr>\n",
       "    <tr>\n",
       "      <th>26</th>\n",
       "      <td>27</td>\n",
       "      <td>2013-01-27T11:59:59.999999000</td>\n",
       "      <td>29.126665</td>\n",
       "      <td>0.152638</td>\n",
       "      <td>0.178949</td>\n",
       "    </tr>\n",
       "    <tr>\n",
       "      <th>27</th>\n",
       "      <td>28</td>\n",
       "      <td>2013-01-28T11:59:59.999999000</td>\n",
       "      <td>29.243332</td>\n",
       "      <td>0.152695</td>\n",
       "      <td>0.178928</td>\n",
       "    </tr>\n",
       "    <tr>\n",
       "      <th>28</th>\n",
       "      <td>29</td>\n",
       "      <td>2013-01-29T11:59:59.999999000</td>\n",
       "      <td>29.359999</td>\n",
       "      <td>0.152752</td>\n",
       "      <td>0.178908</td>\n",
       "    </tr>\n",
       "    <tr>\n",
       "      <th>29</th>\n",
       "      <td>30</td>\n",
       "      <td>2013-01-30T11:59:59.999999000</td>\n",
       "      <td>29.476665</td>\n",
       "      <td>0.152809</td>\n",
       "      <td>0.178887</td>\n",
       "    </tr>\n",
       "    <tr>\n",
       "      <th>...</th>\n",
       "      <td>...</td>\n",
       "      <td>...</td>\n",
       "      <td>...</td>\n",
       "      <td>...</td>\n",
       "      <td>...</td>\n",
       "    </tr>\n",
       "    <tr>\n",
       "      <th>1429</th>\n",
       "      <td>1430</td>\n",
       "      <td>2016-12-01T11:59:59.999999000</td>\n",
       "      <td>26.606667</td>\n",
       "      <td>0.102405</td>\n",
       "      <td>0.149612</td>\n",
       "    </tr>\n",
       "    <tr>\n",
       "      <th>1430</th>\n",
       "      <td>1431</td>\n",
       "      <td>2016-12-02T11:59:59.999999000</td>\n",
       "      <td>26.593334</td>\n",
       "      <td>0.126654</td>\n",
       "      <td>0.149591</td>\n",
       "    </tr>\n",
       "    <tr>\n",
       "      <th>1431</th>\n",
       "      <td>1432</td>\n",
       "      <td>2016-12-03T11:59:59.999999000</td>\n",
       "      <td>26.580000</td>\n",
       "      <td>0.150903</td>\n",
       "      <td>0.149570</td>\n",
       "    </tr>\n",
       "    <tr>\n",
       "      <th>1432</th>\n",
       "      <td>1433</td>\n",
       "      <td>2016-12-04T11:59:59.999999000</td>\n",
       "      <td>26.969999</td>\n",
       "      <td>0.098259</td>\n",
       "      <td>0.149549</td>\n",
       "    </tr>\n",
       "    <tr>\n",
       "      <th>1433</th>\n",
       "      <td>1434</td>\n",
       "      <td>2016-12-05T11:59:59.999999000</td>\n",
       "      <td>26.620001</td>\n",
       "      <td>0.135945</td>\n",
       "      <td>0.149529</td>\n",
       "    </tr>\n",
       "    <tr>\n",
       "      <th>1434</th>\n",
       "      <td>1435</td>\n",
       "      <td>2016-12-06T11:59:59.999999000</td>\n",
       "      <td>26.820000</td>\n",
       "      <td>0.128837</td>\n",
       "      <td>0.149508</td>\n",
       "    </tr>\n",
       "    <tr>\n",
       "      <th>1435</th>\n",
       "      <td>1436</td>\n",
       "      <td>2016-12-07T11:59:59.999999000</td>\n",
       "      <td>27.020000</td>\n",
       "      <td>0.121730</td>\n",
       "      <td>0.149487</td>\n",
       "    </tr>\n",
       "    <tr>\n",
       "      <th>1436</th>\n",
       "      <td>1437</td>\n",
       "      <td>2016-12-08T11:59:59.999999000</td>\n",
       "      <td>27.025000</td>\n",
       "      <td>0.124486</td>\n",
       "      <td>0.149466</td>\n",
       "    </tr>\n",
       "    <tr>\n",
       "      <th>1437</th>\n",
       "      <td>1438</td>\n",
       "      <td>2016-12-09T11:59:59.999999000</td>\n",
       "      <td>27.030001</td>\n",
       "      <td>0.127243</td>\n",
       "      <td>0.149445</td>\n",
       "    </tr>\n",
       "    <tr>\n",
       "      <th>1438</th>\n",
       "      <td>1439</td>\n",
       "      <td>2016-12-10T11:59:59.999999000</td>\n",
       "      <td>27.035000</td>\n",
       "      <td>0.130000</td>\n",
       "      <td>0.149424</td>\n",
       "    </tr>\n",
       "    <tr>\n",
       "      <th>1439</th>\n",
       "      <td>1440</td>\n",
       "      <td>2016-12-11T11:59:59.999999000</td>\n",
       "      <td>27.040001</td>\n",
       "      <td>0.132756</td>\n",
       "      <td>0.149403</td>\n",
       "    </tr>\n",
       "    <tr>\n",
       "      <th>1440</th>\n",
       "      <td>1441</td>\n",
       "      <td>2016-12-12T11:59:59.999999000</td>\n",
       "      <td>27.045000</td>\n",
       "      <td>0.135513</td>\n",
       "      <td>0.149382</td>\n",
       "    </tr>\n",
       "    <tr>\n",
       "      <th>1441</th>\n",
       "      <td>1442</td>\n",
       "      <td>2016-12-13T11:59:59.999999000</td>\n",
       "      <td>27.050001</td>\n",
       "      <td>0.138270</td>\n",
       "      <td>0.149361</td>\n",
       "    </tr>\n",
       "    <tr>\n",
       "      <th>1442</th>\n",
       "      <td>1443</td>\n",
       "      <td>2016-12-14T11:59:59.999999000</td>\n",
       "      <td>27.055000</td>\n",
       "      <td>0.141027</td>\n",
       "      <td>0.149340</td>\n",
       "    </tr>\n",
       "    <tr>\n",
       "      <th>1443</th>\n",
       "      <td>1444</td>\n",
       "      <td>2016-12-15T11:59:59.999999000</td>\n",
       "      <td>27.154667</td>\n",
       "      <td>0.140738</td>\n",
       "      <td>0.149319</td>\n",
       "    </tr>\n",
       "    <tr>\n",
       "      <th>1444</th>\n",
       "      <td>1445</td>\n",
       "      <td>2016-12-16T11:59:59.999999000</td>\n",
       "      <td>27.254333</td>\n",
       "      <td>0.140450</td>\n",
       "      <td>0.149299</td>\n",
       "    </tr>\n",
       "    <tr>\n",
       "      <th>1445</th>\n",
       "      <td>1446</td>\n",
       "      <td>2016-12-17T11:59:59.999999000</td>\n",
       "      <td>27.354000</td>\n",
       "      <td>0.140161</td>\n",
       "      <td>0.149278</td>\n",
       "    </tr>\n",
       "    <tr>\n",
       "      <th>1446</th>\n",
       "      <td>1447</td>\n",
       "      <td>2016-12-18T11:59:59.999999000</td>\n",
       "      <td>27.453667</td>\n",
       "      <td>0.139872</td>\n",
       "      <td>0.149257</td>\n",
       "    </tr>\n",
       "    <tr>\n",
       "      <th>1447</th>\n",
       "      <td>1448</td>\n",
       "      <td>2016-12-21T11:59:59.999999000</td>\n",
       "      <td>27.752666</td>\n",
       "      <td>0.139007</td>\n",
       "      <td>0.149236</td>\n",
       "    </tr>\n",
       "    <tr>\n",
       "      <th>1448</th>\n",
       "      <td>1449</td>\n",
       "      <td>2016-12-22T11:59:59.999999000</td>\n",
       "      <td>27.852333</td>\n",
       "      <td>0.138718</td>\n",
       "      <td>0.149215</td>\n",
       "    </tr>\n",
       "    <tr>\n",
       "      <th>1449</th>\n",
       "      <td>1450</td>\n",
       "      <td>2016-12-23T11:59:59.999999000</td>\n",
       "      <td>27.952000</td>\n",
       "      <td>0.138430</td>\n",
       "      <td>0.149194</td>\n",
       "    </tr>\n",
       "    <tr>\n",
       "      <th>1450</th>\n",
       "      <td>1451</td>\n",
       "      <td>2016-12-24T11:59:59.999999000</td>\n",
       "      <td>28.051666</td>\n",
       "      <td>0.138141</td>\n",
       "      <td>0.149173</td>\n",
       "    </tr>\n",
       "    <tr>\n",
       "      <th>1451</th>\n",
       "      <td>1452</td>\n",
       "      <td>2016-12-25T11:59:59.999999000</td>\n",
       "      <td>28.151333</td>\n",
       "      <td>0.137853</td>\n",
       "      <td>0.149152</td>\n",
       "    </tr>\n",
       "    <tr>\n",
       "      <th>1452</th>\n",
       "      <td>1453</td>\n",
       "      <td>2016-12-26T11:59:59.999999000</td>\n",
       "      <td>28.250999</td>\n",
       "      <td>0.137564</td>\n",
       "      <td>0.149131</td>\n",
       "    </tr>\n",
       "    <tr>\n",
       "      <th>1453</th>\n",
       "      <td>1454</td>\n",
       "      <td>2016-12-27T11:59:59.999999000</td>\n",
       "      <td>28.350666</td>\n",
       "      <td>0.137276</td>\n",
       "      <td>0.149110</td>\n",
       "    </tr>\n",
       "    <tr>\n",
       "      <th>1454</th>\n",
       "      <td>1455</td>\n",
       "      <td>2016-12-28T11:59:59.999999000</td>\n",
       "      <td>28.450333</td>\n",
       "      <td>0.136987</td>\n",
       "      <td>0.149089</td>\n",
       "    </tr>\n",
       "    <tr>\n",
       "      <th>1455</th>\n",
       "      <td>1456</td>\n",
       "      <td>2016-12-29T11:59:59.999999000</td>\n",
       "      <td>28.549999</td>\n",
       "      <td>0.136699</td>\n",
       "      <td>0.149069</td>\n",
       "    </tr>\n",
       "    <tr>\n",
       "      <th>1456</th>\n",
       "      <td>1457</td>\n",
       "      <td>2016-12-30T11:59:59.999999000</td>\n",
       "      <td>26.930000</td>\n",
       "      <td>0.150492</td>\n",
       "      <td>0.149048</td>\n",
       "    </tr>\n",
       "    <tr>\n",
       "      <th>1457</th>\n",
       "      <td>1458</td>\n",
       "      <td>2016-12-31T11:59:59.999999000</td>\n",
       "      <td>NaN</td>\n",
       "      <td>NaN</td>\n",
       "      <td>0.149027</td>\n",
       "    </tr>\n",
       "    <tr>\n",
       "      <th>1458</th>\n",
       "      <td>1459</td>\n",
       "      <td>2017-01-01T11:59:59.999999000</td>\n",
       "      <td>NaN</td>\n",
       "      <td>NaN</td>\n",
       "      <td>0.149006</td>\n",
       "    </tr>\n",
       "  </tbody>\n",
       "</table>\n",
       "<p>1459 rows × 5 columns</p>\n",
       "</div>"
      ],
      "text/plain": [
       "       ind                           time        sst       chl    fitted\n",
       "0        1  2013-01-01T11:59:59.999999000        NaN       NaN  0.179493\n",
       "1        2  2013-01-02T11:59:59.999999000        NaN       NaN  0.179472\n",
       "2        3  2013-01-03T11:59:59.999999000        NaN       NaN  0.179451\n",
       "3        4  2013-01-04T11:59:59.999999000        NaN       NaN  0.179430\n",
       "4        5  2013-01-05T11:59:59.999999000        NaN       NaN  0.179409\n",
       "5        6  2013-01-06T11:59:59.999999000        NaN       NaN  0.179388\n",
       "6        7  2013-01-07T11:59:59.999999000        NaN       NaN  0.179368\n",
       "7        8  2013-01-08T11:59:59.999999000        NaN       NaN  0.179347\n",
       "8        9  2013-01-09T11:59:59.999999000        NaN       NaN  0.179326\n",
       "9       10  2013-01-10T11:59:59.999999000        NaN       NaN  0.179305\n",
       "10      11  2013-01-11T11:59:59.999999000        NaN       NaN  0.179284\n",
       "11      12  2013-01-12T11:59:59.999999000        NaN       NaN  0.179263\n",
       "12      13  2013-01-13T11:59:59.999999000        NaN       NaN  0.179242\n",
       "13      14  2013-01-14T11:59:59.999999000        NaN       NaN  0.179221\n",
       "14      15  2013-01-15T11:59:59.999999000        NaN       NaN  0.179200\n",
       "15      16  2013-01-16T11:59:59.999999000        NaN       NaN  0.179179\n",
       "16      17  2013-01-17T11:59:59.999999000  29.094999  0.143793  0.179158\n",
       "17      18  2013-01-18T11:59:59.999999000  28.410000  0.145502  0.179138\n",
       "18      19  2013-01-19T11:59:59.999999000  28.360001  0.148870  0.179117\n",
       "19      20  2013-01-20T11:59:59.999999000  28.309999  0.152239  0.179096\n",
       "20      21  2013-01-21T11:59:59.999999000  28.426666  0.152296  0.179075\n",
       "21      22  2013-01-22T11:59:59.999999000  28.543333  0.152353  0.179054\n",
       "22      23  2013-01-23T11:59:59.999999000  28.660000  0.152410  0.179033\n",
       "23      24  2013-01-24T11:59:59.999999000  28.776667  0.152467  0.179012\n",
       "24      25  2013-01-25T11:59:59.999999000  28.893333  0.152524  0.178991\n",
       "25      26  2013-01-26T11:59:59.999999000  29.009998  0.152581  0.178970\n",
       "26      27  2013-01-27T11:59:59.999999000  29.126665  0.152638  0.178949\n",
       "27      28  2013-01-28T11:59:59.999999000  29.243332  0.152695  0.178928\n",
       "28      29  2013-01-29T11:59:59.999999000  29.359999  0.152752  0.178908\n",
       "29      30  2013-01-30T11:59:59.999999000  29.476665  0.152809  0.178887\n",
       "...    ...                            ...        ...       ...       ...\n",
       "1429  1430  2016-12-01T11:59:59.999999000  26.606667  0.102405  0.149612\n",
       "1430  1431  2016-12-02T11:59:59.999999000  26.593334  0.126654  0.149591\n",
       "1431  1432  2016-12-03T11:59:59.999999000  26.580000  0.150903  0.149570\n",
       "1432  1433  2016-12-04T11:59:59.999999000  26.969999  0.098259  0.149549\n",
       "1433  1434  2016-12-05T11:59:59.999999000  26.620001  0.135945  0.149529\n",
       "1434  1435  2016-12-06T11:59:59.999999000  26.820000  0.128837  0.149508\n",
       "1435  1436  2016-12-07T11:59:59.999999000  27.020000  0.121730  0.149487\n",
       "1436  1437  2016-12-08T11:59:59.999999000  27.025000  0.124486  0.149466\n",
       "1437  1438  2016-12-09T11:59:59.999999000  27.030001  0.127243  0.149445\n",
       "1438  1439  2016-12-10T11:59:59.999999000  27.035000  0.130000  0.149424\n",
       "1439  1440  2016-12-11T11:59:59.999999000  27.040001  0.132756  0.149403\n",
       "1440  1441  2016-12-12T11:59:59.999999000  27.045000  0.135513  0.149382\n",
       "1441  1442  2016-12-13T11:59:59.999999000  27.050001  0.138270  0.149361\n",
       "1442  1443  2016-12-14T11:59:59.999999000  27.055000  0.141027  0.149340\n",
       "1443  1444  2016-12-15T11:59:59.999999000  27.154667  0.140738  0.149319\n",
       "1444  1445  2016-12-16T11:59:59.999999000  27.254333  0.140450  0.149299\n",
       "1445  1446  2016-12-17T11:59:59.999999000  27.354000  0.140161  0.149278\n",
       "1446  1447  2016-12-18T11:59:59.999999000  27.453667  0.139872  0.149257\n",
       "1447  1448  2016-12-21T11:59:59.999999000  27.752666  0.139007  0.149236\n",
       "1448  1449  2016-12-22T11:59:59.999999000  27.852333  0.138718  0.149215\n",
       "1449  1450  2016-12-23T11:59:59.999999000  27.952000  0.138430  0.149194\n",
       "1450  1451  2016-12-24T11:59:59.999999000  28.051666  0.138141  0.149173\n",
       "1451  1452  2016-12-25T11:59:59.999999000  28.151333  0.137853  0.149152\n",
       "1452  1453  2016-12-26T11:59:59.999999000  28.250999  0.137564  0.149131\n",
       "1453  1454  2016-12-27T11:59:59.999999000  28.350666  0.137276  0.149110\n",
       "1454  1455  2016-12-28T11:59:59.999999000  28.450333  0.136987  0.149089\n",
       "1455  1456  2016-12-29T11:59:59.999999000  28.549999  0.136699  0.149069\n",
       "1456  1457  2016-12-30T11:59:59.999999000  26.930000  0.150492  0.149048\n",
       "1457  1458  2016-12-31T11:59:59.999999000        NaN       NaN  0.149027\n",
       "1458  1459  2017-01-01T11:59:59.999999000        NaN       NaN  0.149006\n",
       "\n",
       "[1459 rows x 5 columns]"
      ]
     },
     "execution_count": 100,
     "metadata": {},
     "output_type": "execute_result"
    }
   ],
   "source": [
    "df"
   ]
  },
  {
   "cell_type": "code",
   "execution_count": null,
   "metadata": {},
   "outputs": [],
   "source": []
  }
 ],
 "metadata": {
  "kernelspec": {
   "display_name": "Python [default]",
   "language": "python",
   "name": "python3"
  },
  "language_info": {
   "codemirror_mode": {
    "name": "ipython",
    "version": 3
   },
   "file_extension": ".py",
   "mimetype": "text/x-python",
   "name": "python",
   "nbconvert_exporter": "python",
   "pygments_lexer": "ipython3",
   "version": "3.6.6"
  }
 },
 "nbformat": 4,
 "nbformat_minor": 2
}
