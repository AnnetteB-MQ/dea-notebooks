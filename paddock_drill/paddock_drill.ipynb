{
 "cells": [
  {
   "cell_type": "code",
   "execution_count": null,
   "metadata": {
    "ExecuteTime": {
     "end_time": "2019-03-24T21:43:37.782673Z",
     "start_time": "2019-03-24T21:42:55.013839Z"
    }
   },
   "outputs": [],
   "source": [
    "import numpy as np\n",
    "import xarray as xr\n",
    "import geopandas as gpd\n",
    "import pandas as pd\n",
    "from matplotlib import pyplot as plt\n",
    "from osgeo import gdal, ogr, gdal_array\n",
    "import dask\n",
    "import datacube \n",
    "from datacube.helpers import ga_pq_fuser\n",
    "from datacube.storage import masking\n",
    "from datacube.utils import geometry\n",
    "from multiprocessing import Pool, cpu_count\n",
    "#import custom functions\n",
    "import sys\n",
    "sys.path.append('src')\n",
    "import DEAPlotting, SpatialTools, BandIndices, DEADataHandling\n",
    "\n",
    "from query_from_shp import query_from_shp\n",
    "\n",
    "import fiona\n",
    "import rasterio.features\n",
    "\n",
    "import warnings\n",
    "warnings.filterwarnings('ignore')"
   ]
  },
  {
   "cell_type": "markdown",
   "metadata": {},
   "source": [
    "### user inputs"
   ]
  },
  {
   "cell_type": "code",
   "execution_count": null,
   "metadata": {},
   "outputs": [],
   "source": [
    "results = \"results/\"\n",
    "AOI = 'WaggaWagga'\n",
    "year= '2018'\n",
    "\n",
    "results = results + AOI + \"_\" + year + \"/\"\n",
    "\n",
    "time_period = ('1990-01-01', '2019-01-01')\n",
    "\n",
    "shp_path = results + 'quickshift_test/WaggaWagga_2018quickshift_segs_filtered5Ha_withID.shp'"
   ]
  },
  {
   "cell_type": "code",
   "execution_count": null,
   "metadata": {},
   "outputs": [],
   "source": [
    "# x = gpd.read_file(shp_path)\n",
    "# x = x[3452:]\n",
    "# x.to_file('results/remaining_polys.shp')"
   ]
  },
  {
   "cell_type": "code",
   "execution_count": null,
   "metadata": {},
   "outputs": [],
   "source": [
    "# x['id'] = list(range(1,(len(x.DN)+1))) #give each segment a unique ID\n",
    "# x.to_file(results + 'quickshift_test/WaggaWagga_2018quickshift_segs_filtered5Ha_withID.shp')"
   ]
  },
  {
   "cell_type": "markdown",
   "metadata": {},
   "source": [
    "### Paddock Drill"
   ]
  },
  {
   "cell_type": "code",
   "execution_count": null,
   "metadata": {},
   "outputs": [],
   "source": [
    "dc = datacube.Datacube(app='fc_fun')\n",
    "\n",
    "with fiona.open(shp_path) as input:\n",
    "    crs = geometry.CRS(input.crs_wkt)\n",
    "    \n",
    "def paddockDrill(feat, crs):\n",
    "    first_geom = feat['geometry']\n",
    "    poly_id = feat['properties']['id']\n",
    "    progress = round((poly_id/8412) * 100, 4)\n",
    "    print(\"\\r\", \"working on polygon: \" + str(poly_id) + \", \" + str(progress) + \"%\" + \" complete. \", end = '')\n",
    "    geom = geometry.Geometry(first_geom, crs=crs)\n",
    "\n",
    "    query = {'geopolygon': geom,\n",
    "             'time': time_period}\n",
    "\n",
    "    data = DEADataHandling.load_clearlandsat(dc, query,product='fc', ls7_slc_off =True, masked_prop=0.90)\n",
    "\n",
    "    mask = rasterio.features.geometry_mask([geom.to_crs(data.geobox.crs)for geoms in [geom]],\n",
    "                                       out_shape=data.geobox.shape,\n",
    "                                       transform=data.geobox.affine,\n",
    "                                       all_touched=False,\n",
    "                                       invert=False)\n",
    "\n",
    "    mask_xr = xr.DataArray(mask, dims = ('y','x'))\n",
    "    fc = data.where(mask_xr==False)\n",
    "\n",
    "    PV_mean = fc.PV.mean(dim=['x', 'y']).values\n",
    "    PV_std = fc.PV.std(dim=['x', 'y']).values\n",
    "    NPV_mean = fc.NPV.mean(dim=['x', 'y']).values\n",
    "    BS_mean = fc.BS.mean(dim=['x', 'y']).values        \n",
    "    time = fc.time.values\n",
    "\n",
    "    #export csv\n",
    "    statistics_df = pd.DataFrame({'dateTime': time, \n",
    "                                  'Mean PV (%)': PV_mean, \n",
    "                                  'Std. Dev. PV (%)':PV_std,\n",
    "                                  'Mean NPV (%)': NPV_mean,\n",
    "                                  'Mean BS (%)': BS_mean\n",
    "                                 })\n",
    "    statistics_df.to_csv(results + \"paddock_zonal_QS/\" + str(poly_id) + \".csv\")\n",
    "\n",
    "p = Pool(max(cpu_count()//2, 1)) #--> this will use half the processors on the computer\n",
    "for feat in fiona.open(shp_path):\n",
    "    p.apply_async(paddockDrill, [feat, crs])  "
   ]
  },
  {
   "cell_type": "code",
   "execution_count": null,
   "metadata": {},
   "outputs": [],
   "source": []
  }
 ],
 "metadata": {
  "kernelspec": {
   "display_name": "Python 3",
   "language": "python",
   "name": "python3"
  },
  "language_info": {
   "codemirror_mode": {
    "name": "ipython",
    "version": 3
   },
   "file_extension": ".py",
   "mimetype": "text/x-python",
   "name": "python",
   "nbconvert_exporter": "python",
   "pygments_lexer": "ipython3",
   "version": "3.6.7"
  },
  "toc": {
   "base_numbering": 1,
   "nav_menu": {},
   "number_sections": true,
   "sideBar": true,
   "skip_h1_title": false,
   "title_cell": "Table of Contents",
   "title_sidebar": "Contents",
   "toc_cell": false,
   "toc_position": {},
   "toc_section_display": true,
   "toc_window_display": true
  }
 },
 "nbformat": 4,
 "nbformat_minor": 2
}
