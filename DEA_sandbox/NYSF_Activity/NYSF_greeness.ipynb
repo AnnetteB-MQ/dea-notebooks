{
 "cells": [
  {
   "cell_type": "markdown",
   "metadata": {},
   "source": [
    "# NYSF 2020: Satellite detection of vegetation greenness in the landscape"
   ]
  },
  {
   "cell_type": "markdown",
   "metadata": {},
   "source": [
    "## Activity\n",
    "The second half of today's activity is to explore how satellites detect vegetation greenness in the landscape.\n",
    "Your task is to load some satellite data for the recent past over the Geoscience Australia grounds and compare your measurements of NDVI against the satellite data.\n",
    "## Introduction\n",
    "This digital platform that you are using is called a Jupyter Notebook.\n",
    "It is an environment that allows computer code (Python code in this case) to be written and run.\n",
    "The Jupyter Notebook is composed of individual cells, which are blocks of text or code.\n",
    "In this tutorial, all of the code has been written for you.\n",
    "Your job is to run each cell to see the results and insert your own data when prompted.\n",
    "\n",
    "To run a cell in a Jupyter Notebook, place the cursor in the cell and simultaneously, select `shift` and `enter` on the keyboard.\n",
    "When a cell of code is run, the results (if there are any) are output immediately below it.\n",
    "\n",
    "Try running the cell below."
   ]
  },
  {
   "cell_type": "code",
   "execution_count": 5,
   "metadata": {},
   "outputs": [
    {
     "name": "stdout",
     "output_type": "stream",
     "text": [
      "I ran a cell!\n"
     ]
    }
   ],
   "source": [
    "print (\"I ran a cell!\")"
   ]
  },
  {
   "cell_type": "markdown",
   "metadata": {},
   "source": [
    "## Load modules\n",
    "To complete the activities in this notebook, it is important that you do not change any of the code unless you are specifically instructed to do so.\n",
    "\n",
    "Many coding applications require the importation of modules to maximise the efficiency with which you can complete your coding task.\n",
    "The following cell imports the features required for this notebook to work.\n",
    "Once it has run, there will not be a visible output below the cell.\n",
    "Instead, this section of code loads the required modules into the background of this Jupyter Notebook session.\n",
    "\n",
    "You can determine whether a cell has run by the number in square brackets to the left of the code cells.\n",
    "These numbers represent the order in which cells have been run during this session using the notebook.\n",
    "Once a cell, such as the module import cell below, has been run, it typically will not need to be run again during a session.\n",
    "\n",
    "Run the cell below."
   ]
  },
  {
   "cell_type": "code",
   "execution_count": 1,
   "metadata": {},
   "outputs": [],
   "source": [
    "%matplotlib inline\n",
    "\n",
    "from utils.nysf_functions import load_agriculture_data, run_agriculture_app"
   ]
  },
  {
   "cell_type": "markdown",
   "metadata": {},
   "source": [
    "## Load some satellite data\n",
    "The command in the next cell will use a function from the module you imported above to load some satellite data into the background of this notebook.\n",
    "The function asks the program to load recent data from the Sentinel 2 suite of satellites.\n",
    "There are 2 Sentinel2 satellites, known as 2a and 2b and both of these satellites have a minimum pixel size (spatial resolution) of 10 m^2.\n",
    "The function outputs an update below the coding cell of what it has loaded.\n",
    "The data itself will be stored for later use.\n",
    "\n",
    "Some coding cells take some time to run.\n",
    "To determine whether the program is still running your command, look for an asterisk in the square brackets to the left of your coding cell.\n",
    "Alternately, look for the circle in the top right hand side of this notebook, just to the right of the text \"Python 3\".\n",
    "This circle is white, outlined in grey, when the notebook is dormant.\n",
    "When the notebook is processing you code command/s, the circle is filled in grey.\n",
    "\n",
    "Run the cell below"
   ]
  },
  {
   "cell_type": "code",
   "execution_count": 7,
   "metadata": {},
   "outputs": [
    {
     "name": "stdout",
     "output_type": "stream",
     "text": [
      "Loading s2a pixel quality\n",
      "    Loading 9 filtered s2a timesteps\n",
      "Loading s2b pixel quality\n",
      "    Loading 7 filtered s2b timesteps\n",
      "Combining and sorting s2a, s2b data\n",
      "    Replacing invalid -999 values with NaN (data will be coerced to float64)\n"
     ]
    }
   ],
   "source": [
    "dataset_sentinel2 = load_agriculture_data()"
   ]
  },
  {
   "cell_type": "markdown",
   "metadata": {},
   "source": [
    "## Load your field values of NDVI\n"
   ]
  },
  {
   "cell_type": "code",
   "execution_count": 3,
   "metadata": {},
   "outputs": [],
   "source": [
    "dry_ndvi = 0.4\n",
    "irrigated_ndvi = 0.6"
   ]
  },
  {
   "cell_type": "code",
   "execution_count": 4,
   "metadata": {},
   "outputs": [
    {
     "data": {
      "application/vnd.jupyter.widget-view+json": {
       "model_id": "9c36339cd07646cb949f14cac98d4a21",
       "version_major": 2,
       "version_minor": 0
      },
      "text/plain": [
       "VBox(children=(Output(layout=Layout(border='1px solid black')), HBox(children=(Map(basemap={'url': 'http://ser…"
      ]
     },
     "metadata": {},
     "output_type": "display_data"
    }
   ],
   "source": [
    "run_agriculture_app(dataset_sentinel2, dry_ndvi, irrigated_ndvi)"
   ]
  },
  {
   "cell_type": "code",
   "execution_count": null,
   "metadata": {},
   "outputs": [],
   "source": []
  }
 ],
 "metadata": {
  "kernelspec": {
   "display_name": "Python 3",
   "language": "python",
   "name": "python3"
  },
  "language_info": {
   "codemirror_mode": {
    "name": "ipython",
    "version": 3
   },
   "file_extension": ".py",
   "mimetype": "text/x-python",
   "name": "python",
   "nbconvert_exporter": "python",
   "pygments_lexer": "ipython3",
   "version": "3.6.8"
  },
  "widgets": {
   "application/vnd.jupyter.widget-state+json": {
    "state": {},
    "version_major": 2,
    "version_minor": 0
   }
  }
 },
 "nbformat": 4,
 "nbformat_minor": 4
}
