{
 "cells": [
  {
   "cell_type": "markdown",
   "metadata": {},
   "source": [
    "# Merge netCDF tiles and write out geotiff"
   ]
  },
  {
   "cell_type": "code",
   "execution_count": 1,
   "metadata": {},
   "outputs": [
    {
     "name": "stdout",
     "output_type": "stream",
     "text": [
      "Populating the interactive namespace from numpy and matplotlib\n"
     ]
    }
   ],
   "source": [
    "%pylab notebook\n",
    "\n",
    "from datacube.helpers import write_geotiff\n",
    "from datacube.utils.geometry import CRS\n",
    "import glob\n",
    "import xarray as xr"
   ]
  },
  {
   "cell_type": "markdown",
   "metadata": {},
   "source": [
    "## Read in the netCDF files created with datacube-stats"
   ]
  },
  {
   "cell_type": "markdown",
   "metadata": {},
   "source": [
    "### Point to the folder where datacube-stats wrote out the tiles"
   ]
  },
  {
   "cell_type": "code",
   "execution_count": 2,
   "metadata": {},
   "outputs": [],
   "source": [
    "statsoutputs = '/g/data/r78/cek156/datacube_stats/Border_WOFS/'"
   ]
  },
  {
   "cell_type": "markdown",
   "metadata": {},
   "source": [
    "### Find all the tiles"
   ]
  },
  {
   "cell_type": "code",
   "execution_count": 3,
   "metadata": {},
   "outputs": [
    {
     "data": {
      "text/plain": [
       "['/g/data/r78/cek156/datacube_stats/Border_WOFS/wofs_summary_18_-34_19990801.nc',\n",
       " '/g/data/r78/cek156/datacube_stats/Border_WOFS/wofs_summary_18_-35_19990801.nc',\n",
       " '/g/data/r78/cek156/datacube_stats/Border_WOFS/wofs_summary_19_-34_19990801.nc',\n",
       " '/g/data/r78/cek156/datacube_stats/Border_WOFS/wofs_summary_19_-33_19990801.nc',\n",
       " '/g/data/r78/cek156/datacube_stats/Border_WOFS/wofs_summary_17_-34_19990801.nc',\n",
       " '/g/data/r78/cek156/datacube_stats/Border_WOFS/wofs_summary_17_-33_19990801.nc',\n",
       " '/g/data/r78/cek156/datacube_stats/Border_WOFS/wofs_summary_16_-34_19990801.nc',\n",
       " '/g/data/r78/cek156/datacube_stats/Border_WOFS/wofs_summary_18_-33_19990801.nc',\n",
       " '/g/data/r78/cek156/datacube_stats/Border_WOFS/wofs_summary_16_-33_19990801.nc']"
      ]
     },
     "execution_count": 3,
     "metadata": {},
     "output_type": "execute_result"
    }
   ],
   "source": [
    "Alltiles = glob.glob('{0}*.nc'.format(statsoutputs))\n",
    "Alltiles"
   ]
  },
  {
   "cell_type": "markdown",
   "metadata": {},
   "source": [
    "### Iteratively open all of the files, and combine them into a single xarray"
   ]
  },
  {
   "cell_type": "code",
   "execution_count": 4,
   "metadata": {},
   "outputs": [
    {
     "name": "stdout",
     "output_type": "stream",
     "text": [
      "Input file size is 4000, 4000\n",
      "0...10...20...30...40...50...60...70...80...90...100 - done.\n",
      "Input file size is 4000, 4000\n",
      "0...10...20...30...40...50...60...70...80...90...100 - done.\n",
      "Input file size is 4000, 4000\n",
      "0...10...20...30...40...50...60...70...80...90...100 - done.\n",
      "Input file size is 4000, 4000\n",
      "0...10...20...30...40...50...60...70...80...90...100 - done.\n",
      "Input file size is 4000, 4000\n",
      "0...10...20...30...40...50...60...70...80...90...100 - done.\n",
      "Input file size is 4000, 4000\n",
      "0...10...20...30...40...50...60...70...80...90...100 - done.\n",
      "Input file size is 4000, 4000\n",
      "0...10...20...30...40...50...60...70...80...90...100 - done.\n",
      "Input file size is 4000, 4000\n",
      "0...10...20...30...40...50...60...70...80...90...100 - done.\n",
      "Input file size is 4000, 4000\n",
      "0...10...20...30...40...50...60...70...80...90...100 - done.\n"
     ]
    }
   ],
   "source": [
    "for ix, tiles in enumerate(Alltiles):\n",
    "    outputname = '{0}tif'.format(tiles[:-2])\n",
    "    !gdal_translate -of GTiff NETCDF:$tiles:frequency $outputname\n",
    "    Tile = xr.open_rasterio(outputname)\n",
    "    if ix == 0:\n",
    "        CombinedWOFS = Tile\n",
    "    else:\n",
    "        CombinedWOFS = CombinedWOFS.combine_first(Tile)"
   ]
  },
  {
   "cell_type": "code",
   "execution_count": 5,
   "metadata": {},
   "outputs": [],
   "source": [
    "CombinedWOFS = CombinedWOFS.where(CombinedWOFS != -1)"
   ]
  },
  {
   "cell_type": "markdown",
   "metadata": {},
   "source": [
    "## Write out our combined array wofs to GeoTiff\n",
    "(this way we can just read this file in straight away in the future and don't need to keep combining the tiles)"
   ]
  },
  {
   "cell_type": "code",
   "execution_count": 6,
   "metadata": {},
   "outputs": [],
   "source": [
    "wofsds = CombinedWOFS.to_dataset(name = 'frequency')\n",
    "wofsds.attrs['transform'] = CombinedWOFS.transform\n",
    "wofsds.attrs['crs'] = CRS(CombinedWOFS.crs)\n",
    "\n",
    "write_geotiff('{0}Combined.tif'.format(statsoutputs), wofsds.squeeze())"
   ]
  }
 ],
 "metadata": {
  "kernelspec": {
   "display_name": "Python 3",
   "language": "python",
   "name": "python3"
  },
  "language_info": {
   "codemirror_mode": {
    "name": "ipython",
    "version": 3
   },
   "file_extension": ".py",
   "mimetype": "text/x-python",
   "name": "python",
   "nbconvert_exporter": "python",
   "pygments_lexer": "ipython3",
   "version": "3.6.7"
  },
  "toc": {
   "base_numbering": 1,
   "nav_menu": {},
   "number_sections": true,
   "sideBar": true,
   "skip_h1_title": false,
   "title_cell": "Table of Contents",
   "title_sidebar": "Contents",
   "toc_cell": false,
   "toc_position": {},
   "toc_section_display": true,
   "toc_window_display": false
  }
 },
 "nbformat": 4,
 "nbformat_minor": 2
}
