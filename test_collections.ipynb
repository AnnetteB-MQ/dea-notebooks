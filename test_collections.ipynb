{
 "cells": [
  {
   "cell_type": "markdown",
   "metadata": {},
   "source": [
    "# Testing and Comparing USGS Collection 1 & Collection 2"
   ]
  },
  {
   "cell_type": "markdown",
   "metadata": {},
   "source": [
    "## Import modules"
   ]
  },
  {
   "cell_type": "code",
   "execution_count": null,
   "metadata": {},
   "outputs": [],
   "source": [
    "%matplotlib inline\n",
    "import datacube.utils.rio\n",
    "import datacube\n",
    "from odc.ui import DcViewer\n",
    "import matplotlib.pyplot as plt\n",
    "import numpy as np\n",
    "import xarray as xr\n",
    "from datacube.storage.masking import make_mask, describe_flags_def, describe_variable_flags\n",
    "from datacube_stats.statistics import GeoMedian\n",
    "from datacube.helpers import write_geotiff\n",
    "\n",
    "from Scripts import dea_plotting\n",
    "from Scripts import dea_datahandling\n",
    "from Scripts import dea_bandindices"
   ]
  },
  {
   "cell_type": "markdown",
   "metadata": {},
   "source": [
    "## Connect to the datacube"
   ]
  },
  {
   "cell_type": "code",
   "execution_count": null,
   "metadata": {},
   "outputs": [],
   "source": [
    "dc = datacube.Datacube(app='test_collections')\n",
    "\n",
    "#This will speed up loading data\n",
    "datacube.utils.rio.set_default_rio_config(aws='auto', cloud_defaults=True)\n"
   ]
  },
  {
   "cell_type": "markdown",
   "metadata": {},
   "source": [
    "### Inspect/view datasets"
   ]
  },
  {
   "cell_type": "code",
   "execution_count": null,
   "metadata": {},
   "outputs": [],
   "source": [
    "dc.list_products()"
   ]
  },
  {
   "cell_type": "code",
   "execution_count": null,
   "metadata": {},
   "outputs": [],
   "source": [
    "DcViewer(dc=dc,\n",
    "        time= '201', width='500px',\n",
    "        products=['usgs_ls8c_level2_2'],\n",
    "        zoom=3)"
   ]
  },
  {
   "cell_type": "markdown",
   "metadata": {},
   "source": [
    "## User inputs"
   ]
  },
  {
   "cell_type": "code",
   "execution_count": null,
   "metadata": {},
   "outputs": [],
   "source": [
    "lat = 24.50\n",
    "lon = 33.0\n",
    "buff = 0.15\n",
    "time = ('2013-01', '2019-06')\n",
    "res = (-30, 30)"
   ]
  },
  {
   "cell_type": "markdown",
   "metadata": {},
   "source": [
    "### View the selected location"
   ]
  },
  {
   "cell_type": "code",
   "execution_count": null,
   "metadata": {},
   "outputs": [],
   "source": [
    "dea_plotting.display_map(x=(lon-buff, lon+buff+0.275), y=(lat+buff, lat-buff))"
   ]
  },
  {
   "cell_type": "markdown",
   "metadata": {},
   "source": [
    "## Load data from both collections"
   ]
  },
  {
   "cell_type": "code",
   "execution_count": null,
   "metadata": {},
   "outputs": [],
   "source": [
    "# Create a query object\n",
    "queryC1 = {\n",
    "    'x': (lon-buff, lon+buff),\n",
    "    'y': (lat+buff, lat-buff),\n",
    "    'time': (time),\n",
    "    'resolution': res,\n",
    "    'group_by': 'solar_day'\n",
    "}\n",
    "\n",
    "queryC2 = {\n",
    "    'x': (lon-buff, lon+buff++0.275),\n",
    "    'y': (lat+buff, lat-buff),\n",
    "    'time': (time),\n",
    "    'resolution': res,\n",
    "    'group_by': 'solar_day'\n",
    "}"
   ]
  },
  {
   "cell_type": "code",
   "execution_count": null,
   "metadata": {},
   "outputs": [],
   "source": [
    "# find most common crs to allow\n",
    "# native loading with correct crs\n",
    "crs = dea_datahandling.mostcommon_crs(dc=dc,\n",
    "                                          product='usgs_ls8c_level2_2',\n",
    "                                          query=queryC2)\n",
    "\n",
    "print(crs)"
   ]
  },
  {
   "cell_type": "code",
   "execution_count": null,
   "metadata": {},
   "outputs": [],
   "source": [
    "# col1 = dc.load(product='ls8_usgs_sr_scene',\n",
    "#                **queryC1,\n",
    "#                output_crs=crs,\n",
    "#                align=(15, 15),\n",
    "#                dask_chunks={})\n",
    "\n",
    "col2 = dc.load(product='usgs_ls8c_level2_2',\n",
    "               **queryC2,\n",
    "               output_crs=crs,\n",
    "               align=(15, 15),\n",
    "               dask_chunks={})\n"
   ]
  },
  {
   "cell_type": "markdown",
   "metadata": {},
   "source": [
    "### Cloud mask"
   ]
  },
  {
   "cell_type": "code",
   "execution_count": null,
   "metadata": {},
   "outputs": [],
   "source": [
    "col2"
   ]
  },
  {
   "cell_type": "code",
   "execution_count": null,
   "metadata": {},
   "outputs": [],
   "source": [
    "# valid_data_C1 = make_mask(col1.pixel_qa,\n",
    "#                           cloud=\"no_cloud\",\n",
    "#                           cloud_shadow=\"no_cloud_shadow\",\n",
    "#                           nodata=False)\n",
    "\n",
    "valid_data_C2 = make_mask(col2[\"quality_l2_aerosol\"],\n",
    "                          cloud_shadow=\"not_cloud_shadow\",\n",
    "                          cloud_or_cirrus=\"not_cloud_or_cirrus\")\n",
    "\n",
    "col1 = col1.where(valid_data_C1)\n",
    "col2 = col2.where(valid_data_C2)\n",
    "\n",
    "#drop the variables we don't care about\n",
    "col1 = col1.drop(list(col1.data_vars)[7:])\n",
    "col2 = col2.drop(list(col2.data_vars)[7:])"
   ]
  },
  {
   "cell_type": "markdown",
   "metadata": {},
   "source": [
    "## Plot RGB"
   ]
  },
  {
   "cell_type": "code",
   "execution_count": null,
   "metadata": {},
   "outputs": [],
   "source": [
    "bands= ['red', 'green', 'blue']\n",
    "t = 3\n",
    "\n",
    "print(\"USGS Collection 1 left, USGS Collecton 2 right\")\n",
    "fig,ax=plt.subplots(1,2, figsize=(12,5))\n",
    "col1[bands].isel(time=t).squeeze().to_array().plot.imshow(robust=True, ax=ax[0])\n",
    "col2[bands].isel(time=t).squeeze().to_array().plot.imshow(robust=True, ax=ax[1])\n",
    "plt.show()\n"
   ]
  },
  {
   "cell_type": "markdown",
   "metadata": {},
   "source": [
    "## Scale Collection 2 values\n",
    "\n",
    "In order to match collection 1"
   ]
  },
  {
   "cell_type": "code",
   "execution_count": null,
   "metadata": {},
   "outputs": [],
   "source": [
    "scaled_blue = (col2['blue'] * 2.75e-5 - 0.2) * 10000\n",
    "scaled_green = (col2['green'] * 2.75e-5 - 0.2) * 10000\n",
    "scaled_red = (col2['red'] * 2.75e-5 - 0.2) * 10000\n",
    "scaled_nir = (col2['nir'] * 2.75e-5 - 0.2) * 10000\n",
    "scaled_swir_1 = (col2['swir_1'] * 2.75e-5 - 0.2) * 10000\n",
    "scaled_swir_2 = (col2['swir_2'] * 2.75e-5 - 0.2) * 10000\n",
    "\n",
    "col2_scaled = xr.Dataset({\n",
    "    'blue': scaled_blue,\n",
    "    'red': scaled_red,\n",
    "    'green': scaled_green, \n",
    "    'nir': scaled_nir, \n",
    "    'swir1': scaled_swir_1,\n",
    "    'swir2': scaled_swir_2\n",
    "                       }, coords={'time': col2.time, 'y': col2.y,'x': col2.x}, attrs = col2.attrs)"
   ]
  },
  {
   "cell_type": "markdown",
   "metadata": {},
   "source": [
    "## Calculate annual geomedian\n",
    "\n",
    "and then subtract C2 from C1"
   ]
  },
  {
   "cell_type": "markdown",
   "metadata": {},
   "source": [
    "#### Compute the geomedians\n",
    "\n",
    "This will be slow becasue the dask arrays are computed as well"
   ]
  },
  {
   "cell_type": "code",
   "execution_count": null,
   "metadata": {},
   "outputs": [],
   "source": [
    "geomedian_C1 = GeoMedian().compute(col1)\n",
    "geomedian_C2 = GeoMedian().compute(col2_scaled)"
   ]
  },
  {
   "cell_type": "markdown",
   "metadata": {},
   "source": [
    "### plot the C1 and C2 geomedians"
   ]
  },
  {
   "cell_type": "code",
   "execution_count": null,
   "metadata": {},
   "outputs": [],
   "source": [
    "bands= ['red', 'green', 'blue']\n",
    "t = 3\n",
    "\n",
    "print(\"USGS Collection 1 left, USGS Collecton 2 right\")\n",
    "fig,ax=plt.subplots(1,2, figsize=(12,5))\n",
    "geomedian_C1[bands].to_array().plot.imshow(robust=True, ax=ax[0])\n",
    "geomedian_C2[bands].to_array().plot.imshow(robust=True, ax=ax[1])\n",
    "plt.show()"
   ]
  },
  {
   "cell_type": "markdown",
   "metadata": {},
   "source": [
    "### subtract to find difference"
   ]
  },
  {
   "cell_type": "code",
   "execution_count": null,
   "metadata": {},
   "outputs": [],
   "source": [
    "#need to rename swir bands to match collection 1\n",
    "geomedian_difference = geomedian_C1 - geomedian_C2\n",
    "#add back in attributes because of xarray bug\n",
    "geomedian_difference.attrs = geomedian_C2.attrs"
   ]
  },
  {
   "cell_type": "markdown",
   "metadata": {},
   "source": [
    "#### write to geotiff\n",
    "\n",
    "Kernel often crashes and this is slow to load, so export for easy reloading"
   ]
  },
  {
   "cell_type": "code",
   "execution_count": null,
   "metadata": {},
   "outputs": [],
   "source": [
    "write_geotiff('geomedian_difference.tif',geomedian_difference)"
   ]
  },
  {
   "cell_type": "markdown",
   "metadata": {},
   "source": [
    "### plot the difference"
   ]
  },
  {
   "cell_type": "code",
   "execution_count": null,
   "metadata": {},
   "outputs": [],
   "source": [
    "fig, axes = plt.subplots(2,3,  figsize=(25,14))\n",
    "\n",
    "for band, ax in zip(list(geomedian_difference.data_vars), axes.flatten()):\n",
    "    geomedian_difference[band].plot(ax=ax, cmap='bwr', vmin=-750, vmax=750)\n",
    "    ax.set_title(band)"
   ]
  }
 ],
 "metadata": {
  "kernelspec": {
   "display_name": "Python 3",
   "language": "python",
   "name": "python3"
  },
  "language_info": {
   "codemirror_mode": {
    "name": "ipython",
    "version": 3
   },
   "file_extension": ".py",
   "mimetype": "text/x-python",
   "name": "python",
   "nbconvert_exporter": "python",
   "pygments_lexer": "ipython3",
   "version": "3.6.8"
  }
 },
 "nbformat": 4,
 "nbformat_minor": 4
}
