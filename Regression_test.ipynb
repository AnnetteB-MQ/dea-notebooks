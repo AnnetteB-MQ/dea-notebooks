{
 "cells": [
  {
   "cell_type": "code",
   "execution_count": 1,
   "metadata": {},
   "outputs": [],
   "source": [
    "%matplotlib inline\n",
    "\n",
    "import os\n",
    "import sys\n",
    "import datacube\n",
    "import numpy as np\n",
    "import matplotlib.pyplot as plt\n",
    "import rasterio\n",
    "from sklearn.linear_model import LinearRegression\n",
    "from sklearn.metrics import mean_squared_error, r2_score\n",
    "from sklearn.preprocessing import PolynomialFeatures\n",
    "\n",
    "sys.path.append(\"Scripts\")\n",
    "from dea_plotting import display_map\n",
    "from dea_datahandling import wofs_fuser\n",
    "from dea_plotting import rgb\n",
    "from dea_datahandling import load_ard\n",
    "from dea_bandindices import calculate_indices"
   ]
  },
  {
   "cell_type": "code",
   "execution_count": 4,
   "metadata": {},
   "outputs": [],
   "source": [
    "dc = datacube.Datacube(app=\"Regression_test\")"
   ]
  },
  {
   "cell_type": "code",
   "execution_count": 9,
   "metadata": {},
   "outputs": [],
   "source": [
    "# setting some appropriate variables\n",
    "\n",
    "lat = (-34,-34.5)\n",
    "lon = (145,145.5)\n",
    "time = (\"2015-01-17\",\"2015-02-22\")"
   ]
  },
  {
   "cell_type": "code",
   "execution_count": 10,
   "metadata": {},
   "outputs": [],
   "source": [
    "# querying for some data to test the regression against\n",
    "\n",
    "query = {'x':lon,\n",
    "        'y':lat,\n",
    "        'time':time,\n",
    "        'output_crs':'EPSG:3577',\n",
    "        'resolution':(-25,25),\n",
    "        'measurements':['nbart_swir_1','nbart_red','nbart_blue','nbart_green','nbart_swir_2','nbart_panchromatic','nbart_nir'],\n",
    "        'group_by':'solar_day'\n",
    "        }\n",
    "regress = dc.load(product='ga_ls8c_ard_3',**query)"
   ]
  },
  {
   "cell_type": "code",
   "execution_count": 11,
   "metadata": {},
   "outputs": [],
   "source": [
    "# NDVI indexing for use in the regreswsion comparison\n",
    "\n",
    "regress['NDVI'] = (regress.nbart_nir-regress.nbart_red)/(regress.nbart_nir+regress.nbart_red)"
   ]
  },
  {
   "cell_type": "code",
   "execution_count": 12,
   "metadata": {},
   "outputs": [],
   "source": [
    "# normalising the swir_1 (band 6) as an index relative to its maximum and minimum\n",
    "swir_1_max = regress.nbart_swir_1.max()\n",
    "swir_1_min = regress.nbart_swir_1.min()\n",
    "\n",
    "regress[\"NSWIR\"] = (regress.nbart_swir_1-swir_1_min)/(swir_1_max-swir_1_min)"
   ]
  },
  {
   "cell_type": "code",
   "execution_count": 13,
   "metadata": {},
   "outputs": [
    {
     "name": "stdout",
     "output_type": "stream",
     "text": [
      "<xarray.Dataset>\n",
      "Dimensions:             (time: 2, x: 2056, y: 2407)\n",
      "Coordinates:\n",
      "  * time                (time) datetime64[ns] 2015-01-24T00:08:23.004012 2015-02-09T00:08:19.307218\n",
      "  * y                   (y) float64 -3.771e+06 -3.772e+06 ... -3.832e+06\n",
      "  * x                   (x) float64 1.187e+06 1.187e+06 ... 1.238e+06 1.238e+06\n",
      "Data variables:\n",
      "    nbart_swir_1        (time, y, x) int16 2315 2271 2253 ... 2644 2588 2536\n",
      "    nbart_red           (time, y, x) int16 7589 7556 7547 ... 1373 1367 1390\n",
      "    nbart_blue          (time, y, x) int16 7635 7577 7568 7566 ... 719 705 701\n",
      "    nbart_green         (time, y, x) int16 7578 7566 7555 ... 1096 1067 1027\n",
      "    nbart_swir_2        (time, y, x) int16 2410 2393 2377 ... 1944 1949 1997\n",
      "    nbart_panchromatic  (time, y, x) int16 7576 7555 7533 ... 1111 1051 1029\n",
      "    nbart_nir           (time, y, x) int16 7399 7354 7343 ... 2065 2072 2036\n",
      "    NDVI                (time, y, x) float64 -0.01268 -0.01355 ... 0.205 0.1886\n",
      "    NSWIR               (time, y, x) float64 0.3355 0.3291 ... 0.375 0.3675\n",
      "Attributes:\n",
      "    crs:      EPSG:3577\n"
     ]
    }
   ],
   "source": [
    "print(regress)"
   ]
  },
  {
   "cell_type": "code",
   "execution_count": 14,
   "metadata": {},
   "outputs": [
    {
     "data": {
      "text/plain": [
       "<xarray.DataArray 'NSWIR' (time: 2, y: 2407, x: 2056)>\n",
       "array([[[0.33546 , 0.329081, ..., 0.73659 , 0.717309],\n",
       "        [0.342273, 0.335315, ..., 0.744129, 0.720644],\n",
       "        ...,\n",
       "        [0.300667, 0.301827, ..., 0.893302, 0.893302],\n",
       "        [0.298637, 0.302406, ..., 0.900551, 0.885474]],\n",
       "\n",
       "       [[0.484923, 0.475065, ..., 0.670049, 0.669035],\n",
       "        [0.491157, 0.487098, ..., 0.688895, 0.683242],\n",
       "        ...,\n",
       "        [0.639461, 0.649464, ..., 0.391563, 0.391563],\n",
       "        [0.635981, 0.64091 , ..., 0.375036, 0.367498]]])\n",
       "Coordinates:\n",
       "  * time     (time) datetime64[ns] 2015-01-24T00:08:23.004012 2015-02-09T00:08:19.307218\n",
       "  * y        (y) float64 -3.771e+06 -3.772e+06 ... -3.832e+06 -3.832e+06\n",
       "  * x        (x) float64 1.187e+06 1.187e+06 1.187e+06 ... 1.238e+06 1.238e+06"
      ]
     },
     "execution_count": 14,
     "metadata": {},
     "output_type": "execute_result"
    }
   ],
   "source": [
    "regress.NSWIR"
   ]
  },
  {
   "cell_type": "code",
   "execution_count": null,
   "metadata": {},
   "outputs": [],
   "source": []
  }
 ],
 "metadata": {
  "kernelspec": {
   "display_name": "Python 3",
   "language": "python",
   "name": "python3"
  },
  "language_info": {
   "codemirror_mode": {
    "name": "ipython",
    "version": 3
   },
   "file_extension": ".py",
   "mimetype": "text/x-python",
   "name": "python",
   "nbconvert_exporter": "python",
   "pygments_lexer": "ipython3",
   "version": "3.6.8"
  }
 },
 "nbformat": 4,
 "nbformat_minor": 4
}
