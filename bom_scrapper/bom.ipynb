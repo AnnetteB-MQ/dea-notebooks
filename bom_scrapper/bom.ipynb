{
 "cells": [
  {
   "cell_type": "markdown",
   "metadata": {},
   "source": [
    "## Initial Setup"
   ]
  },
  {
   "cell_type": "markdown",
   "metadata": {},
   "source": [
    "Download scraper module `dea_bom`:\n",
    "\n",
    "```\n",
    "!wget https://raw.githubusercontent.com/GeoscienceAustralia/dea-notebooks/kirill-bom-water/Scripts/dea_bom.py\n",
    "```\n",
    "\n",
    "Needs to be done once"
   ]
  },
  {
   "cell_type": "code",
   "execution_count": null,
   "metadata": {},
   "outputs": [],
   "source": [
    "%matplotlib inline\n",
    "import ipywidgets as W\n",
    "from IPython.display import display\n",
    "import matplotlib.pyplot as plt\n",
    "import sys\n",
    "sys.path.append('../Scripts')\n",
    "import dea_bom"
   ]
  },
  {
   "cell_type": "markdown",
   "metadata": {},
   "source": [
    "## List of All Available Stations"
   ]
  },
  {
   "cell_type": "code",
   "execution_count": null,
   "metadata": {},
   "outputs": [],
   "source": [
    "%%time\n",
    "stations = dea_bom.get_stations()\n",
    "len(stations), stations[:5]"
   ]
  },
  {
   "cell_type": "code",
   "execution_count": null,
   "metadata": {},
   "outputs": [],
   "source": [
    "dbg = W.Output()\n",
    "fig_display = W.Output()\n",
    "stt = []\n",
    "legends = []\n",
    "plt.ioff()\n",
    "fig, ax = plt.subplots(1, figsize=(14,4))\n",
    "    \n",
    "def on_clear():\n",
    "    dbg.clear_output(wait=True)\n",
    "    with dbg:\n",
    "        print('Clear')\n",
    "\n",
    "    ax.clear()\n",
    "    legends.clear()\n",
    "    fig_display.clear_output()\n",
    "    \n",
    "\n",
    "def on_select(st):\n",
    "    with dbg:\n",
    "        print(f'Fetching data for: {st.name}')\n",
    "    stt.append(st)\n",
    "    try:\n",
    "        xx = dea_bom.get_station_data(st).dropna()\n",
    "    except Exception:\n",
    "        with dbg:\n",
    "            print('Failed to read data')\n",
    "            return\n",
    "\n",
    "    with dbg:\n",
    "        print(f'Got {xx.shape[0]} observations')\n",
    "    \n",
    "    if xx.shape[0] == 0:\n",
    "        return\n",
    "    \n",
    "    xx.plot(ax=ax)\n",
    "    legends.append(st.name)\n",
    "    ax.legend(legends)\n",
    "    \n",
    "    fig_display.clear_output(wait=True)\n",
    "    with fig_display:\n",
    "        display(fig)"
   ]
  },
  {
   "cell_type": "code",
   "execution_count": null,
   "metadata": {},
   "outputs": [],
   "source": [
    "m, cluster = dea_bom.mk_station_selector(on_select,\n",
    "                                         stations,\n",
    "                                         center=(-24, 138),\n",
    "                                         zoom=3)"
   ]
  },
  {
   "cell_type": "code",
   "execution_count": null,
   "metadata": {},
   "outputs": [],
   "source": [
    "btn = W.Button(description=\"Clear\")\n",
    "btn.on_click(lambda b: on_clear())\n",
    "\n",
    "ui = W.VBox(\n",
    "    [W.HBox([m, W.VBox([btn, dbg], layout=W.Layout(width=\"30%\"))]), fig_display]\n",
    ")\n",
    "\n",
    "display(ui)"
   ]
  },
  {
   "cell_type": "markdown",
   "metadata": {},
   "source": [
    "----------------------------------------------------------------"
   ]
  }
 ],
 "metadata": {
  "kernelspec": {
   "display_name": "Python 3",
   "language": "python",
   "name": "python3"
  },
  "language_info": {
   "codemirror_mode": {
    "name": "ipython",
    "version": 3
   },
   "file_extension": ".py",
   "mimetype": "text/x-python",
   "name": "python",
   "nbconvert_exporter": "python",
   "pygments_lexer": "ipython3",
   "version": "3.6.8"
  }
 },
 "nbformat": 4,
 "nbformat_minor": 4
}
