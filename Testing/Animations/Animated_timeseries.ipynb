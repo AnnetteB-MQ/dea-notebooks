{
 "cells": [
  {
   "cell_type": "code",
   "execution_count": null,
   "metadata": {},
   "outputs": [],
   "source": [
    "# import os\n",
    "# import gdal\n",
    "# import zipfile\n",
    "# import numexpr\n",
    "# import datetime\n",
    "# import requests\n",
    "# import warnings\n",
    "# import odc.algo\n",
    "# import numpy as np\n",
    "# import pandas as pd\n",
    "# import xarray as xr\n",
    "# from collections import Counter\n",
    "# from scipy.ndimage import binary_dilation\n",
    "\n",
    "import sys\n",
    "import datacube    \n",
    "\n",
    "sys.path.append('../../Scripts')\n",
    "from dea_datahandling import load_ard\n",
    "from dea_datahandling import mostcommon_crs\n",
    "from dea_plotting import animated_timeseries\n",
    "from dea_coastaltools import tidal_tag\n",
    "from dea_dask import create_local_dask_cluster\n",
    "\n",
    "dc = datacube.Datacube(app='Animated timeseries', env='c3-samples')\n",
    "\n",
    "# Configure local dask cluster\n",
    "create_local_dask_cluster()\n",
    "   \n",
    "\n",
    "from skimage import exposure\n",
    "from skimage.color import rgb2hsv, hsv2rgb\n",
    "from skimage.filters import unsharp_mask\n",
    "\n",
    "def hsv_image_processing(rgb_array,\n",
    "                         hue_mult=1, sat_mult=1.035, val_mult=1.035,\n",
    "                         unsharp_radius1=20, unsharp_amount1=2.5, \n",
    "                         unsharp_radius2=1, unsharp_amount2=1.0):   \n",
    "    \n",
    "    # Convert to HSV and multiply bands\n",
    "    hsv_array = rgb2hsv(rgb_array)\n",
    "    hsv_array[:, :, 0] = hsv_array[:, :, 0] * hue_mult\n",
    "    hsv_array[:, :, 1] = hsv_array[:, :, 1] * sat_mult\n",
    "    hsv_array[:, :, 2] = hsv_array[:, :, 2] * val_mult\n",
    "    \n",
    "    # Apply unsharp mask and take average\n",
    "    a = unsharp_mask(hsv_array[:, :, 2], radius=unsharp_radius1, amount=unsharp_amount1)\n",
    "    b = unsharp_mask(hsv_array[:, :, 2], radius=unsharp_radius2, amount=unsharp_amount2)\n",
    "    hsv_array[:, :, 2] = np.mean(np.array([a, b]), axis=0)\n",
    "    \n",
    "    # Convert back to RGB\n",
    "    return hsv2rgb(hsv_array.clip(0, 1))\n",
    "\n",
    "\n",
    "# %load_ext autoreload\n",
    "# %autoreload 2"
   ]
  },
  {
   "cell_type": "code",
   "execution_count": null,
   "metadata": {},
   "outputs": [],
   "source": [
    "from odc.ui import select_on_a_map\n",
    "    \n",
    "# Plot interactive map to select area\n",
    "geopolygon = select_on_a_map(height='600px', \n",
    "                             center=(-26, 135), \n",
    "                             zoom=4)"
   ]
  },
  {
   "cell_type": "code",
   "execution_count": null,
   "metadata": {},
   "outputs": [],
   "source": [
    "\n",
    "\n",
    "# Obtain native CRS \n",
    "crs = mostcommon_crs(dc=dc, \n",
    "                     product='ga_ls5t_ard_3', \n",
    "                     query={'time': '1990', \n",
    "                            'geopolygon': geopolygon})\n",
    "\n",
    "query = {\n",
    "    'geopolygon': geopolygon,\n",
    "    'time': ('1988', '2018'),\n",
    "    'measurements': ['nbart_red', 'nbart_green', 'nbart_blue'],\n",
    "    'resampling': {'fmask': 'nearest', \n",
    "                   'oa_fmask': 'nearest', \n",
    "                   '*': 'average'},\n",
    "    'output_crs': crs,\n",
    "    'resolution': (-30, 30),\n",
    "    'group_by': 'solar_day',\n",
    "    'dask_chunks': {'time': 1, 'x': 1000, 'y': 1000}\n",
    "}\n",
    "\n",
    "ds = load_ard(dc=dc,\n",
    "              products=['ga_ls5t_ard_3', 'ga_ls7e_ard_3', 'ga_ls8c_ard_3'],\n",
    "              min_gooddata=0.60,\n",
    "              ls7_slc_off=False,\n",
    "              mask_contiguity=False,\n",
    "              mask_pixel_quality=False,\n",
    "              **query)\n",
    "\n"
   ]
  },
  {
   "cell_type": "code",
   "execution_count": null,
   "metadata": {},
   "outputs": [],
   "source": [
    "ds = tidal_tag(ds)\n",
    "ds = ds.sel(time = ds.tide_height < 1)\n",
    "ds = ds.compute()\n",
    "ds"
   ]
  },
  {
   "cell_type": "code",
   "execution_count": 6,
   "metadata": {},
   "outputs": [
    {
     "data": {
      "text/plain": [
       "<matplotlib.axes._subplots.AxesSubplot at 0x7f1653d9ffd0>"
      ]
     },
     "execution_count": 6,
     "metadata": {},
     "output_type": "execute_result"
    },
    {
     "data": {
      "image/png": "[encoded data removed]",
      "text/plain": [
       "<Figure size 432x288 with 1 Axes>"
      ]
     },
     "metadata": {
      "needs_background": "light"
     },
     "output_type": "display_data"
    }
   ],
   "source": [
    "import numpy as np\n",
    "import geopandas as gpd\n",
    "import rasterio.features\n",
    "from shapely.geometry import shape\n",
    "\n",
    "# Input array to segment and vectorise\n",
    "input_array = np.random.rand(5, 5)\n",
    "input_transform = (30, 0, 0, 0, -30, 0)\n",
    "input_crs = 'EPSG:4326'\n",
    "\n",
    "# Create array with a unique value per cell\n",
    "unique_pixels = np.arange(input_array.size).reshape(input_array.shape)\n",
    "\n",
    "# Vectorise each unique feature in array\n",
    "vectors = rasterio.features.shapes(source=unique_pixels.astype(np.int16), \n",
    "                                     transform=input_transform)\n",
    "\n",
    "# Convert the generator into a list\n",
    "vectors = list(vectors)\n",
    "\n",
    "# Extract the polygon coordinates and values from the list\n",
    "polygons = [polygon for polygon, value in vectors]\n",
    "values = [value for polygon, value in vectors]\n",
    "\n",
    "# Convert polygon coordinates into polygon shapes\n",
    "polygons = [shape(polygon) for polygon in polygons]\n",
    "\n",
    "# Create a geopandas dataframe populated with the polygon shapes\n",
    "gdf = gpd.GeoDataFrame(data={'attribute_col': values},\n",
    "                       geometry=polygons,\n",
    "                       crs=input_crs)\n",
    "\n",
    "# Plot vectors by attribute\n",
    "gdf.plot(column='attribute_col', edgecolor='black')"
   ]
  },
  {
   "cell_type": "code",
   "execution_count": 7,
   "metadata": {},
   "outputs": [
    {
     "data": {
      "text/plain": [
       "<matplotlib.axes._subplots.AxesSubplot at 0x7f165887b2e8>"
      ]
     },
     "execution_count": 7,
     "metadata": {},
     "output_type": "execute_result"
    },
    {
     "data": {
      "image/png": "[encoded data removed]",
      "text/plain": [
       "<Figure size 432x288 with 1 Axes>"
      ]
     },
     "metadata": {
      "needs_background": "light"
     },
     "output_type": "display_data"
    }
   ],
   "source": [
    "import numpy as np\n",
    "import geopandas as gpd\n",
    "import rasterio.features\n",
    "from shapely.geometry import shape\n",
    "\n",
    "# Input array to segment and vectorise\n",
    "input_array = np.random.rand(5, 5)\n",
    "input_transform = (30, 0, 0, 0, -30, 0)  # replace with xarray transform\n",
    "input_crs = 'EPSG:4326'  # replace with xarray CRS\n",
    "\n",
    "# Create array with a unique value per cell\n",
    "unique_pixels = np.arange(input_array.size).reshape(input_array.shape)\n",
    "\n",
    "# Vectorise each unique feature in array\n",
    "vectors = rasterio.features.shapes(source=unique_pixels.astype(np.int16), \n",
    "                                     transform=input_transform)\n",
    "\n",
    "# Extract polygons and values from generator\n",
    "vectors = list(vectors)\n",
    "values = [value for polygon, value in vectors]\n",
    "polygons = [shape(polygon) for polygon, value in vectors]\n",
    "\n",
    "# Create a geopandas dataframe populated with the polygon shapes\n",
    "gdf = gpd.GeoDataFrame(data={'id': values},\n",
    "                       geometry=polygons,\n",
    "                       crs=input_crs)\n",
    "\n",
    "# Plot vectors by attribute\n",
    "gdf.plot(column='id', edgecolor='black')"
   ]
  },
  {
   "cell_type": "code",
   "execution_count": 9,
   "metadata": {},
   "outputs": [
    {
     "data": {
      "text/plain": [
       "<matplotlib.image.AxesImage at 0x7f163bb8fb70>"
      ]
     },
     "execution_count": 9,
     "metadata": {},
     "output_type": "execute_result"
    },
    {
     "data": {
      "image/png": "[encoded data removed]",
      "text/plain": [
       "<Figure size 432x288 with 1 Axes>"
      ]
     },
     "metadata": {
      "needs_background": "light"
     },
     "output_type": "display_data"
    }
   ],
   "source": [
    "\n",
    "plt.imshow(input_array)"
   ]
  },
  {
   "cell_type": "code",
   "execution_count": null,
   "metadata": {},
   "outputs": [],
   "source": [
    "# Compute rolling median\n",
    "ds_rolling = ds.rolling(time=19, center=True, min_periods=1).median()"
   ]
  },
  {
   "cell_type": "code",
   "execution_count": null,
   "metadata": {},
   "outputs": [],
   "source": [
    "from functools import partial\n",
    "image_proc_func = partial(hsv_image_processing, val_mult=1.0, sat_mult=1.3, \n",
    "                          unsharp_radius1=75, unsharp_amount1=0.6,\n",
    "                          unsharp_radius2=4, unsharp_amount2=0.8)\n",
    "\n",
    "\n",
    "# Produce time series animation of red, green and blue bands\n",
    "animated_timeseries(ds=ds_rolling ** 0.8, \n",
    "                    output_path='animated_timeseries.mp4',  \n",
    "                    bands=['nbart_red', 'nbart_green', 'nbart_blue'],\n",
    "                    interval=40, \n",
    "                    width_pixels=700,\n",
    "#                     title='Time-series animation',\n",
    "                    percentile_stretch=[0.005, 0.99],\n",
    "                    annotation_kwargs={'fontsize': 20},\n",
    "                    onebandplot_kwargs={'interpolation': 'nearest'},\n",
    "                    image_proc_func=image_proc_func) "
   ]
  },
  {
   "cell_type": "code",
   "execution_count": null,
   "metadata": {},
   "outputs": [],
   "source": []
  }
 ],
 "metadata": {
  "kernelspec": {
   "display_name": "Python 3",
   "language": "python",
   "name": "python3"
  },
  "language_info": {
   "codemirror_mode": {
    "name": "ipython",
    "version": 3
   },
   "file_extension": ".py",
   "mimetype": "text/x-python",
   "name": "python",
   "nbconvert_exporter": "python",
   "pygments_lexer": "ipython3",
   "version": "3.6.10"
  },
  "widgets": {
   "application/vnd.jupyter.widget-state+json": {
    "state": {},
    "version_major": 2,
    "version_minor": 0
   }
  }
 },
 "nbformat": 4,
 "nbformat_minor": 4
}
