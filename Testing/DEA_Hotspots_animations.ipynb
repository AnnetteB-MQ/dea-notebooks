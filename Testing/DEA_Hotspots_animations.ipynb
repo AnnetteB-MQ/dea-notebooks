{
 "cells": [
  {
   "cell_type": "markdown",
   "metadata": {},
   "source": [
    "# Generate DEA Hotspots animations <img align=\"right\" src=\"../Supplementary_data/dea_logo.jpg\">\n",
    "\n",
    "* **Compatability:** Notebook currently compatible with both the `NCI` and `DEA Sandbox` environments\n",
    "* **Products used:** \n",
    "[ls8_nbart_geomedian_annual](https://explorer.sandbox.dea.ga.gov.au/ls8_nbart_geomedian_annual)\n"
   ]
  },
  {
   "cell_type": "markdown",
   "metadata": {},
   "source": [
    "## Description\n",
    "This notebook loads DEA Hotspots data for a given time and location, and animates the data over a 2018 Geomedian underlay with fading colours that represent the age of the hotspot.\n",
    "\n",
    "***"
   ]
  },
  {
   "cell_type": "markdown",
   "metadata": {},
   "source": [
    "## Getting started\n",
    "\n",
    "To run this analysis, run all the cells in the notebook, starting with the \"Load packages\" cell. "
   ]
  },
  {
   "cell_type": "markdown",
   "metadata": {},
   "source": [
    "### Load packages"
   ]
  },
  {
   "cell_type": "code",
   "execution_count": 17,
   "metadata": {},
   "outputs": [],
   "source": [
    "import os\n",
    "import datacube\n",
    "import pandas as pd\n",
    "import geopandas as gpd\n",
    "import datetime as dt\n",
    "import matplotlib.pyplot as plt\n",
    "from matplotlib.cm import get_cmap\n",
    "\n",
    "# # Create custom cmap with dark grey at end \n",
    "fires_cmap = get_cmap('YlOrRd')\n",
    "fires_cmap.set_over('#111211')\n",
    "\n",
    "dc = datacube.Datacube(app=\"DEA_hotspots\")\n"
   ]
  },
  {
   "cell_type": "markdown",
   "metadata": {},
   "source": [
    "## Parameters\n",
    "\n",
    "Set parameters used to load and visualise DEA Hotspots data"
   ]
  },
  {
   "cell_type": "code",
   "execution_count": 5,
   "metadata": {},
   "outputs": [],
   "source": [
    "# Setup params\n",
    "name = 'vicfires'  # name used for output files\n",
    "time_period = 28  # days from current date to include in animation (e.g. a month or week of data)\n",
    "y_max, x_min = -34.505141, 146.652687  # top left coordinates of bbox\n",
    "y_min, x_max = -38.062278, 151.305470  # bottom right coordinates of bbox\n",
    "min_confidence = 20  # minimum confidence value of hotspots to include in animation\n",
    "max_features = 500000  # maximum features to load from WFS\n",
    "\n",
    "# Visualisation params\n",
    "frame_freq = '3H'  # frequency used to generate animation frames (e.g. one frame every 3 hours). Smaller numbers create longer, smoother animations but take longer to render\n",
    "hotspots_markersize = 4  # size to plot hotspots on map\n",
    "hotspots_alpha = 0.5  # transperancy to plot hotspots on map\n",
    "fade_hours = 72  # hours used to fade hotspots from yellow to black\n",
    "geomedian_res = 0.005  # resolution in degrees to load geomedian underlay (smaller = slower rendering)"
   ]
  },
  {
   "cell_type": "markdown",
   "metadata": {},
   "source": [
    "## Load and clean hotspots data"
   ]
  },
  {
   "cell_type": "code",
   "execution_count": 10,
   "metadata": {},
   "outputs": [
    {
     "data": {
      "text/plain": [
       "<matplotlib.axes._subplots.AxesSubplot at 0x7eff44de5f60>"
      ]
     },
     "execution_count": 10,
     "metadata": {},
     "output_type": "execute_result"
    },
    {
     "data": {
      "image/png": "[encoded data removed]",
      "text/plain": [
       "<Figure size 432x288 with 1 Axes>"
      ]
     },
     "metadata": {
      "needs_background": "light"
     },
     "output_type": "display_data"
    }
   ],
   "source": [
    "# Load WFS query data\n",
    "to_date = dt.datetime.today().strftime('%Y-%m-%d')  \n",
    "from_date = (dt.datetime.today() - dt.timedelta(days=time_period)).strftime('%Y-%m-%d')\n",
    "url = f\"https://hotspots.dea.ga.gov.au/geoserver/public/wfs?service=WFS&version=1.1.0&request=GetFeature&typeName=public:hotspots&outputFormat=application/json&CQL_FILTER=((sensor=%27AVHRR%27%20AND%20(product=%27SRSS%27))%20OR%20(sensor=%27MODIS%27%20AND%20(product=%27MOD14%27))%20OR%20(sensor=%27VIIRS%27%20AND%20(product=%27AFMOD%27%20OR%20product=%27EDR%27)))%20AND%20datetime%20%3E%20%27{from_date}%27%20AND%20datetime%20%3C%20%27{to_date}%27%20AND%20INTERSECTS(location,%20POLYGON(({y_min}%20{x_min},%20{y_min}%20{x_max},%20{y_max}%20{x_max},%20{y_max}%20{x_min},%20{y_min}%20{x_min})))&maxFeatures={max_features}&startIndex=0&sortBy=sensor%20A\"\n",
    "hotspots_gdf = gpd.read_file(url)\n",
    "\n",
    "# Filter by confidence\n",
    "hotspots_gdf = hotspots_gdf.loc[hotspots_gdf.confidence >= min_confidence]\n",
    "\n",
    "# Fix datetime\n",
    "hotspots_gdf['datetime'] = pd.to_datetime(hotspots_gdf['start_dt'])\n",
    "\n",
    "# Extract required columns\n",
    "hotspots_gdf = hotspots_gdf.loc[:, [\n",
    "    'datetime', 'latitude', 'longitude', 'confidence', 'geometry'\n",
    "]]\n",
    "hotspots_gdf.sort_values('datetime', ascending=True, inplace=True)\n",
    "hotspots_gdf.plot()"
   ]
  },
  {
   "cell_type": "markdown",
   "metadata": {},
   "source": [
    "## Load 2018 geomedian underlay"
   ]
  },
  {
   "cell_type": "code",
   "execution_count": 11,
   "metadata": {},
   "outputs": [
    {
     "data": {
      "text/plain": [
       "<xarray.Dataset>\n",
       "Dimensions:    (latitude: 712, longitude: 931, time: 1)\n",
       "Coordinates:\n",
       "  * time       (time) datetime64[ns] 2018-01-01\n",
       "  * latitude   (latitude) float64 -34.51 -34.51 -34.52 ... -38.05 -38.06 -38.06\n",
       "  * longitude  (longitude) float64 146.7 146.7 146.7 146.7 ... 151.3 151.3 151.3\n",
       "Data variables:\n",
       "    red        (time, latitude, longitude) int16 534 575 618 636 ... 234 254 223\n",
       "    green      (time, latitude, longitude) int16 463 480 495 521 ... 286 310 283\n",
       "    blue       (time, latitude, longitude) int16 301 311 318 352 ... 439 464 434\n",
       "Attributes:\n",
       "    crs:      EPSG:4326"
      ]
     },
     "execution_count": 11,
     "metadata": {},
     "output_type": "execute_result"
    }
   ],
   "source": [
    "# Create a query object\n",
    "query = {\n",
    "    \"time\": '2018',\n",
    "    \"x\": (x_min, x_max),\n",
    "    \"y\": (y_max, y_min),\n",
    "    \"measurements\": [\"red\", \"green\", \"blue\"],\n",
    "    \"output_crs\": \"EPSG:4326\",\n",
    "    \"resolution\": (-geomedian_res, geomedian_res),\n",
    "}\n",
    "\n",
    "ds = dc.load(product=\"ls8_nbart_geomedian_annual\", **query)\n",
    "ds"
   ]
  },
  {
   "cell_type": "markdown",
   "metadata": {},
   "source": [
    "## Generate animation frames"
   ]
  },
  {
   "cell_type": "code",
   "execution_count": 19,
   "metadata": {},
   "outputs": [],
   "source": [
    "# If output folder doesn't exist, create it\n",
    "output_dir = f'frames_{name}'\n",
    "os.makedirs(output_dir, exist_ok=True)\n",
    "\n",
    "# Get date/times to iterate through (1 per frame)\n",
    "comp_dates = pd.date_range(hotspots_gdf.datetime.min(), \n",
    "                           hotspots_gdf.datetime.max(), \n",
    "                           freq=frame_freq)\n",
    "\n",
    "fig, ax = plt.subplots(1, 1, figsize=(10, 10))\n",
    "for i, comp_date in enumerate(comp_dates):\n",
    "    \n",
    "    print(comp_date)\n",
    "\n",
    "    # Extract only hotspots occuring prior to frame date/time\n",
    "    hotspots_prev = hotspots_gdf.loc[\n",
    "        hotspots_gdf['datetime'] < comp_date].copy()\n",
    "    \n",
    "    # Calculate hours between frame date and hotspot and sort\n",
    "    hotspots_prev['hours_before'] = ((\n",
    "        (comp_date - hotspots_prev['datetime'])).astype('timedelta64[m]') / 60)\n",
    "    hotspots_prev.sort_values('hours_before', inplace=True, ascending=False)\n",
    "\n",
    "    # Plot Geomedian as underlay\n",
    "    ds[['red', 'green', 'blue']].isel(time=0).to_array().plot.imshow(ax=ax, \n",
    "                                                                     vmax=2500)\n",
    "    \n",
    "    # Plot hotspots\n",
    "    hotspots_prev.plot(ax=ax,\n",
    "                       column='hours_before',\n",
    "                       cmap=fires_cmap,\n",
    "                       markersize=hotspots_markersize,\n",
    "                       alpha=hotspots_alpha,\n",
    "                       vmin=0,\n",
    "                       vmax=fade_hours)\n",
    "    \n",
    "    # Customise plot and add title\n",
    "    ax.set_facecolor('black')\n",
    "    ax.set_xlim([x_min, x_max])\n",
    "    ax.set_ylim([y_min, y_max])\n",
    "    ax.get_xaxis().set_visible(False)\n",
    "    ax.get_yaxis().set_visible(False)\n",
    "    ax.set_title('');\n",
    "    ax.text(0.03, 0.95,\n",
    "            f\"{comp_date.tz_localize(tz='UTC').tz_convert('Australia/Sydney'):%Y-%m-%d}\",\n",
    "            ha='left', \n",
    "            va='center', \n",
    "            transform=ax.transAxes,\n",
    "           fontdict={'fontsize': 20, \n",
    "                     'color': 'white', \n",
    "                     'fontname':'Liberation Sans'})\n",
    "    \n",
    "    # Export frame to file\n",
    "    fig.savefig(f'{output_dir}/hotspots_{i}.jpeg', \n",
    "                bbox_inches='tight',\n",
    "                dpi=100,\n",
    "                pad_inches=0)\n",
    "    plt.cla()\n"
   ]
  },
  {
   "cell_type": "markdown",
   "metadata": {},
   "source": [
    "## Combine into MP4 animation using FFMPEG"
   ]
  },
  {
   "cell_type": "code",
   "execution_count": null,
   "metadata": {},
   "outputs": [],
   "source": [
    "!ffmpeg -y -r 12 -i $output_dir/hotspots_%d.jpeg -c:v libx264 -vf crop=in_w-15:in_h-15 -pix_fmt yuv420p $output_dir/hotspots_animation.mp4"
   ]
  },
  {
   "cell_type": "markdown",
   "metadata": {},
   "source": [
    "***\n",
    "\n",
    "## Additional information\n",
    "\n",
    "**License:** The code in this notebook is licensed under the [Apache License, Version 2.0](https://www.apache.org/licenses/LICENSE-2.0). \n",
    "Digital Earth Australia data is licensed under the [Creative Commons by Attribution 4.0](https://creativecommons.org/licenses/by/4.0/) license.\n",
    "\n",
    "**Contact:** If you need assistance, please post a question on the [Open Data Cube Slack channel](http://slack.opendatacube.org/) or on the [GIS Stack Exchange](https://gis.stackexchange.com/questions/ask?tags=open-data-cube) using the `open-data-cube` tag (you can view previously asked questions [here](https://gis.stackexchange.com/questions/tagged/open-data-cube)).\n",
    "If you would like to report an issue with this notebook, you can file one on [Github](https://github.com/GeoscienceAustralia/dea-notebooks).\n",
    "\n",
    "**Last modified:** January 2020\n",
    "\n",
    "**Compatible datacube version:** "
   ]
  },
  {
   "cell_type": "code",
   "execution_count": null,
   "metadata": {},
   "outputs": [],
   "source": [
    "print(datacube.__version__)"
   ]
  },
  {
   "cell_type": "markdown",
   "metadata": {},
   "source": [
    "## Tags\n",
    "Browse all available tags on the DEA User Guide's [Tags Index](https://docs.dea.ga.gov.au/genindex.html)"
   ]
  },
  {
   "cell_type": "raw",
   "metadata": {
    "raw_mimetype": "text/restructuredtext"
   },
   "source": [
    "**Tags**: :index:`NCI compatible`, :index:`sandbox compatible`, :index:`annual geomedian`, :index:`DEA Hotspots`, :index:`time series`, :index:`animation`, :index:`fire`"
   ]
  }
 ],
 "metadata": {
  "kernelspec": {
   "display_name": "Python 3",
   "language": "python",
   "name": "python3"
  },
  "language_info": {
   "codemirror_mode": {
    "name": "ipython",
    "version": 3
   },
   "file_extension": ".py",
   "mimetype": "text/x-python",
   "name": "python",
   "nbconvert_exporter": "python",
   "pygments_lexer": "ipython3",
   "version": "3.6.8"
  },
  "widgets": {
   "application/vnd.jupyter.widget-state+json": {
    "state": {},
    "version_major": 2,
    "version_minor": 0
   }
  }
 },
 "nbformat": 4,
 "nbformat_minor": 4
}
