{
 "cells": [
  {
   "cell_type": "markdown",
   "metadata": {},
   "source": [
    "# MAHTS generation"
   ]
  },
  {
   "cell_type": "markdown",
   "metadata": {},
   "source": [
    "## Background\n"
   ]
  },
  {
   "cell_type": "markdown",
   "metadata": {},
   "source": [
    "## Description\n",
    "\n",
    "* Take full time series of NDWI in dask\n",
    "* Compute 2D tides for every timestep\n",
    "* Compute median of tides from entire tide timeseries\n",
    "* For each year in dask NDWI timeseries:\n",
    "    * Mask pixels where tide > overall median\n",
    "    * `.compute()` and take median \n",
    "    \n",
    "***\n"
   ]
  },
  {
   "cell_type": "markdown",
   "metadata": {},
   "source": [
    "## Getting started\n"
   ]
  },
  {
   "cell_type": "markdown",
   "metadata": {},
   "source": [
    "### Load packages\n",
    "\n",
    "First we import the required Python packages, then we connect to the database, and load the catalog of virtual products."
   ]
  },
  {
   "cell_type": "code",
   "execution_count": null,
   "metadata": {},
   "outputs": [],
   "source": [
    "%matplotlib inline\n",
    "%load_ext line_profiler\n",
    "%load_ext autoreload\n",
    "%autoreload 2\n",
    "\n",
    "import deacoastlines_generation as dcl_gen\n",
    "\n",
    "import os\n",
    "import sys\n",
    "import datacube\n",
    "import geopandas as gpd\n",
    "import multiprocessing\n",
    "import xarray as xr\n",
    "from functools import partial\n",
    "\n",
    "sys.path.append('../Scripts')\n",
    "from dea_plotting import display_map\n",
    "\n",
    "dc = datacube.Datacube(app='MAHTS_testing', env='c3-samples')\n",
    "\n",
    "from datacube.utils.dask import start_local_dask\n",
    "client = start_local_dask(mem_safety_margin='3gb')\n",
    "display(client)\n",
    "\n",
    "import datetime\n",
    "start_time = datetime.datetime.now()"
   ]
  },
  {
   "cell_type": "markdown",
   "metadata": {},
   "source": [
    "### Load supplementary data"
   ]
  },
  {
   "cell_type": "code",
   "execution_count": null,
   "metadata": {},
   "outputs": [],
   "source": [
    "# Tide points are used to model tides across the extent of the satellite data\n",
    "points_gdf = gpd.read_file('input_data/tide_points_coastal.geojson')\n",
    "\n",
    "# Albers grid cells used to process the analysis\n",
    "gridcell_gdf = (gpd.read_file('input_data/50km_albers_grid_clipped.shp')\n",
    "            .to_crs(epsg=4326)\n",
    "            .set_index('id'))"
   ]
  },
  {
   "cell_type": "markdown",
   "metadata": {},
   "source": [
    "## Loading data\n",
    "### Create query\n"
   ]
  },
  {
   "cell_type": "code",
   "execution_count": null,
   "metadata": {},
   "outputs": [],
   "source": [
    "study_area = 2523\n",
    "output_name = 'test'\n",
    "\n",
    "# If output folder doesn't exist, create it\n",
    "output_dir = f'output_data/{study_area}_{output_name}'\n",
    "os.makedirs(output_dir, exist_ok=True)\n",
    "    \n",
    "study_area_geopoly = dcl_gen.get_geopoly(study_area, gridcell_gdf)\n",
    "query = {'geopolygon': study_area_geopoly,\n",
    "         'time': ('2015', '2019'),\n",
    "         'cloud_cover': [0, 90],\n",
    "         'dask_chunks': {'time': 1, 'x': 1000, 'y': 1000}}\n",
    "\n",
    "# Preview study area\n",
    "display_map(x=(query['geopolygon'].envelope.left, \n",
    "               query['geopolygon'].envelope.right), \n",
    "            y=(query['geopolygon'].envelope.top, \n",
    "               query['geopolygon'].envelope.bottom))\n"
   ]
  },
  {
   "cell_type": "markdown",
   "metadata": {},
   "source": [
    "### Load virtual product"
   ]
  },
  {
   "cell_type": "code",
   "execution_count": null,
   "metadata": {},
   "outputs": [],
   "source": [
    "# Load virtual product    \n",
    "ds = dcl_gen.load_mndwi(dc, \n",
    "                        query, \n",
    "                        yaml_path='deacoastlines_virtual_products.yaml',\n",
    "                        virtual_products=False)\n",
    "ds"
   ]
  },
  {
   "cell_type": "code",
   "execution_count": null,
   "metadata": {},
   "outputs": [],
   "source": [
    "ds.isel(time=317).tcb.plot()"
   ]
  },
  {
   "cell_type": "markdown",
   "metadata": {},
   "source": [
    "## Tidal modelling\n",
    "### Model tides at point locations"
   ]
  },
  {
   "cell_type": "code",
   "execution_count": null,
   "metadata": {},
   "outputs": [],
   "source": [
    "tidepoints_gdf = dcl_gen.model_tides(ds, points_gdf)"
   ]
  },
  {
   "cell_type": "markdown",
   "metadata": {},
   "source": [
    "### Interpolate tides into each satellite timestep"
   ]
  },
  {
   "cell_type": "code",
   "execution_count": null,
   "metadata": {},
   "outputs": [],
   "source": [
    "pool = multiprocessing.Pool(multiprocessing.cpu_count() - 1)\n",
    "print(f'Parallelising {multiprocessing.cpu_count() - 1} processes')\n",
    "out_list = pool.map(partial(dcl_gen.interpolate_tide,\n",
    "                      tidepoints_gdf=tidepoints_gdf,\n",
    "                      factor=50), \n",
    "                    iterable=[(group.x.values, \n",
    "                               group.y.values, \n",
    "                               group.time.values) \n",
    "                              for (i, group) in ds.groupby('time')])\n",
    "\n",
    "# Combine to match the original dataset\n",
    "ds['tide_m'] = xr.concat(out_list, dim=ds['time'])"
   ]
  },
  {
   "cell_type": "code",
   "execution_count": null,
   "metadata": {},
   "outputs": [],
   "source": [
    "import matplotlib.pyplot as plt\n",
    "\n",
    "# Plot \n",
    "ds_i = ds['tide_m'].isel(time=18).compute()\n",
    "ds_i.plot.imshow(robust=True, \n",
    "                 cmap='viridis', \n",
    "                 size=12, \n",
    "                 vmin=ds_i.min().item(), \n",
    "                 vmax=ds_i.max().item())\n",
    "tidepoints_gdf.loc[str(ds_i.time.values)[0:10]].plot(ax=plt.gca(), \n",
    "                                                     column='tide_m', \n",
    "                                                     cmap='viridis', \n",
    "                                                     markersize=100,\n",
    "                                                     edgecolor='black',\n",
    "                                                     vmin=ds_i.min().item(),\n",
    "                                                     vmax=ds_i.max().item())\n"
   ]
  },
  {
   "cell_type": "code",
   "execution_count": null,
   "metadata": {},
   "outputs": [],
   "source": [
    "# Determine tide cutoff\n",
    "tide_cutoff_buff = (\n",
    "    (ds['tide_m'].max(dim='time') - ds['tide_m'].min(dim='time')) * 0.25)\n",
    "tide_cutoff_min = 0.0 - tide_cutoff_buff\n",
    "tide_cutoff_max = 0.0 + tide_cutoff_buff"
   ]
  },
  {
   "cell_type": "markdown",
   "metadata": {},
   "source": [
    "## Generate yearly composites"
   ]
  },
  {
   "cell_type": "code",
   "execution_count": null,
   "metadata": {},
   "outputs": [],
   "source": [
    "# Iterate through each year and export annual and 3-year gapfill composites\n",
    "dcl_gen.export_annual_gapfill(ds, \n",
    "                              output_dir, \n",
    "                              tide_cutoff_min, \n",
    "                              tide_cutoff_max)"
   ]
  },
  {
   "cell_type": "code",
   "execution_count": null,
   "metadata": {},
   "outputs": [],
   "source": [
    "output_dir"
   ]
  },
  {
   "cell_type": "code",
   "execution_count": null,
   "metadata": {},
   "outputs": [],
   "source": [
    "print(f'{(datetime.datetime.now() - start_time).seconds / 60:.1f} minutes')"
   ]
  },
  {
   "cell_type": "markdown",
   "metadata": {},
   "source": [
    "***\n",
    "\n",
    "## Additional information"
   ]
  },
  {
   "cell_type": "markdown",
   "metadata": {},
   "source": [
    "**License:** The code in this notebook is licensed under the [Apache License, Version 2.0](https://www.apache.org/licenses/LICENSE-2.0). \n",
    "Digital Earth Australia data is licensed under the [Creative Commons by Attribution 4.0](https://creativecommons.org/licenses/by/4.0/) license.\n",
    "\n",
    "**Contact:** If you need assistance, please post a question on the [Open Data Cube Slack channel](http://slack.opendatacube.org/) or on the [GIS Stack Exchange](https://gis.stackexchange.com/questions/ask?tags=open-data-cube) using the `open-data-cube` tag (you can view previously asked questions [here](https://gis.stackexchange.com/questions/tagged/open-data-cube)).\n",
    "If you would like to report an issue with this notebook, you can file one on [Github](https://github.com/GeoscienceAustralia/dea-notebooks).\n",
    "\n",
    "**Last modified:** March 2020"
   ]
  }
 ],
 "metadata": {
  "kernelspec": {
   "display_name": "Python 3",
   "language": "python",
   "name": "python3"
  },
  "language_info": {
   "codemirror_mode": {
    "name": "ipython",
    "version": 3
   },
   "file_extension": ".py",
   "mimetype": "text/x-python",
   "name": "python",
   "nbconvert_exporter": "python",
   "pygments_lexer": "ipython3",
   "version": "3.6.7"
  },
  "widgets": {
   "application/vnd.jupyter.widget-state+json": {
    "state": {},
    "version_major": 2,
    "version_minor": 0
   }
  }
 },
 "nbformat": 4,
 "nbformat_minor": 4
}
