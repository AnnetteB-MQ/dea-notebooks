{
 "cells": [
  {
   "cell_type": "markdown",
   "metadata": {},
   "source": [
    "# DEA CoastLines validation\n",
    "\n",
    "To do:\n",
    "* [ ] Change output CRS to Australian Albers"
   ]
  },
  {
   "cell_type": "code",
   "execution_count": 24,
   "metadata": {},
   "outputs": [],
   "source": [
    "# import xarray as xr\n",
    "# from shapely.geometry import Point, LineString\n"
   ]
  },
  {
   "cell_type": "markdown",
   "metadata": {},
   "source": [
    "## Load modules/functions\n"
   ]
  },
  {
   "cell_type": "code",
   "execution_count": 66,
   "metadata": {},
   "outputs": [
    {
     "name": "stdout",
     "output_type": "stream",
     "text": [
      "The line_profiler extension is already loaded. To reload it, use:\n",
      "  %reload_ext line_profiler\n",
      "The autoreload extension is already loaded. To reload it, use:\n",
      "  %reload_ext autoreload\n"
     ]
    }
   ],
   "source": [
    "%matplotlib inline\n",
    "%load_ext line_profiler\n",
    "%load_ext autoreload\n",
    "%autoreload 2\n",
    "\n",
    "import glob\n",
    "import matplotlib.pyplot as plt\n",
    "\n",
    "import pandas as pd\n",
    "import numpy as np\n",
    "from shapely.geometry import box\n",
    "import geopandas as gpd\n",
    "\n",
    "import deacoastlines_validation as deacl_val\n",
    "\n",
    "import sys\n",
    "sys.path.append(\"/g/data/r78/rt1527/dea-notebooks/MAHTS/\")\n",
    "import deacoastlines_statistics as deacl_stats\n",
    "\n",
    "def to_vector(df, fname='test.shp', x='x', y='y', crs='EPSG:28356'):\n",
    "    \n",
    "    # Convert datetimes to strings\n",
    "    is_datetime = df.dtypes == 'datetime64[ns]'\n",
    "    df.loc[:, is_datetime] = df.loc[:, is_datetime].astype(str) \n",
    "    \n",
    "    # Export to file\n",
    "    gpd.GeoDataFrame(data=df.loc[:, df.dtypes != 'datetime64[ns]'],\n",
    "                     geometry=gpd.points_from_xy(x=df[x], y=df[y]),\n",
    "                     crs=crs).to_file(fname)"
   ]
  },
  {
   "cell_type": "markdown",
   "metadata": {},
   "source": [
    "## Pre-processing\n"
   ]
  },
  {
   "cell_type": "markdown",
   "metadata": {},
   "source": [
    "### WRL Narrabeen \n",
    "* [X] Renovated"
   ]
  },
  {
   "cell_type": "code",
   "execution_count": 99,
   "metadata": {},
   "outputs": [
    {
     "name": "stdout",
     "output_type": "stream",
     "text": [
      "Processing output_data/wrl_narrabeen.csv                                                   \r"
     ]
    }
   ],
   "source": [
    "deacl_val.preprocess_narrabeen(fname='input_data/wrl/Narrabeen_Profiles_2018.csv',\n",
    "                               overwrite=True)\n"
   ]
  },
  {
   "cell_type": "markdown",
   "metadata": {},
   "source": [
    "### NSW Beach Profile Database"
   ]
  },
  {
   "cell_type": "code",
   "execution_count": null,
   "metadata": {},
   "outputs": [],
   "source": [
    "for fname in glob.glob('input_data/nswbpd/*Stockton*.csv'):\n",
    "    deacl_val.preprocess_nswbpd(fname, datum=0.5, overwrite=True)     \n"
   ]
  },
  {
   "cell_type": "markdown",
   "metadata": {},
   "source": [
    "### City of Gold Coast"
   ]
  },
  {
   "cell_type": "code",
   "execution_count": null,
   "metadata": {},
   "outputs": [],
   "source": [
    "# List of sites to iterate over\n",
    "all_profiles = glob.glob(f'input_data/cityofgoldcoast/*.txt')\n",
    "sites = np.unique([i.split(' - ')[0].split('/')[-1] for i in all_profiles])\n",
    "# sites = ['SOUTH STRADBROKE']\n",
    "\n",
    "for site in sites:\n",
    "    deacl_val.preprocess_cgc(site=site, overwrite=True)"
   ]
  },
  {
   "cell_type": "markdown",
   "metadata": {},
   "source": [
    "## TASMARC"
   ]
  },
  {
   "cell_type": "code",
   "execution_count": null,
   "metadata": {},
   "outputs": [],
   "source": [
    "# List of sites to iterate over\n",
    "sites = [i.split('/')[2] for i in glob.glob('input_data/tasmarc/*/')]\n",
    "\n",
    "for site in sites:\n",
    "    deacl_val.preprocess_tasmarc(site, overwrite=True) \n"
   ]
  },
  {
   "cell_type": "markdown",
   "metadata": {},
   "source": [
    "## SA Department of Environment and Water"
   ]
  },
  {
   "cell_type": "code",
   "execution_count": null,
   "metadata": {},
   "outputs": [],
   "source": [
    "import math\n",
    "from pyproj import Transformer\n",
    "\n",
    "# Load data and set nodata values to NaN\n",
    "wide_df = pd.read_csv('input_data/sadew/200011.CSV', na_values=[-9999])\n",
    "\n",
    "# Reproject coords to Albers and create geodataframe\n",
    "trans = Transformer.from_crs(\"EPSG:28354\", \"EPSG:28356\", always_xy=True)\n",
    "wide_df['EASTING'], wide_df['NORTHING'] = trans.transform(\n",
    "    wide_df.EASTING.values, wide_df.NORTHING.values)\n",
    "\n",
    "# Reshape into long format with each observation on a new row\n",
    "profile_df = pd.melt(wide_df.drop('SAMPLE_NO', axis=1), \n",
    "                     id_vars=['EASTING', 'NORTHING', 'PROFILE'],\n",
    "                     value_name='elevation').dropna()\n",
    "\n",
    "# Set column names to lower case\n",
    "profile_df.columns = profile_df.columns.str.lower()\n",
    "\n",
    "# Extract date info\n",
    "profile_df['date'] = profile_df['variable'].str[1:].str.strip()\n",
    "profile_df['date'] = pd.to_datetime(profile_df['date'], format='%d%m%Y')\n",
    "\n",
    "# Restrict to post 1987\n",
    "profile_df = profile_df[(profile_df.date.dt.year > 1987)]\n",
    "\n",
    "# Add unique ID column\n",
    "profile_df['beach'] = 'sadew'\n",
    "profile_df['section'] = 'all'\n",
    "profile_df['profile'] = profile_df['profile'].astype(str)\n",
    "profile_df['site'] = profile_df[['beach', 'section', 'profile']].apply('_'.join, 1)\n",
    "profile_df['source'] = 'sadew'\n",
    "\n",
    "# Compute origin points for each profile\n",
    "profile_df = profile_df.assign(start_x=wide_df.iloc[0, 2], \n",
    "                               start_y=wide_df.iloc[0, 3],\n",
    "                               end_x=wide_df.iloc[-1, 2],\n",
    "                               end_y=wide_df.iloc[-1, 3])\n",
    "\n",
    "# Compute chainage\n",
    "profile_df['chainage'] = profile_df.apply(\n",
    "    lambda x: math.hypot(x.easting - x.start_x, x.northing - x.start_y), axis=1)"
   ]
  },
  {
   "cell_type": "code",
   "execution_count": null,
   "metadata": {},
   "outputs": [],
   "source": [
    "# Find location and distance to water for datum height (0 m AHD)\n",
    "out = profile_df.groupby(['site', 'date']).apply(deacl_val.waterline_intercept, \n",
    "                                                  dist_col='chainage',\n",
    "                                                  x_col='easting', \n",
    "                                                  y_col='northing', \n",
    "                                                  z_col='elevation', \n",
    "                                                  z_val=0).dropna()\n",
    "\n",
    "# If the output contains data\n",
    "if len(out.index):\n",
    "\n",
    "    # Join into dataframe\n",
    "    shoreline_dist = out.join(\n",
    "        profile_df.groupby(['site', 'date']).first())\n",
    "\n",
    "    # Keep required columns\n",
    "    shoreline_dist = shoreline_dist[['beach', 'section', 'profile',  \n",
    "                                     'source', 'start_x', 'start_y', \n",
    "                                     'end_x', 'end_y', '0_dist', \n",
    "                                     '0_x', '0_y']]\n",
    "\n",
    "    # Export to file\n",
    "    shoreline_dist.to_csv(f'output_data/satest.csv')"
   ]
  },
  {
   "cell_type": "markdown",
   "metadata": {},
   "source": [
    "## WA DoT"
   ]
  },
  {
   "cell_type": "markdown",
   "metadata": {},
   "source": [
    "### Perth transects"
   ]
  },
  {
   "cell_type": "code",
   "execution_count": 26,
   "metadata": {},
   "outputs": [],
   "source": [
    "from shapely.geometry import Point, LineString\n",
    "\n",
    "# util functions\n",
    "def perpendicular_line(l1, length):\n",
    "    \"\"\"Create a new LineString perpendicular to <l1> with length <length>.\"\"\"\n",
    "    dx = l1.coords[1][0] - l1.coords[0][0]\n",
    "    dy = l1.coords[1][1] - l1.coords[0][1]\n",
    "\n",
    "    p = Point(l1.coords[0][0] + 0.5 * dx, l1.coords[0][1] + 0.5 * dy)\n",
    "    x, y = p.coords[0][0], p.coords[0][1]\n",
    "\n",
    "    if (dy == 0) or (dx == 0):\n",
    "        a = length / l1.length\n",
    "        l2 = LineString([(x - 0.5 * a * dy, y - 0.5 * a * dx),\n",
    "                         (x + 0.5 * a * dy, y + 0.5 * a * dx)])\n",
    "\n",
    "    else:\n",
    "        s = -dx / dy\n",
    "        a = ((length * 0.5) ** 2 / (1 + s ** 2)) ** 0.5\n",
    "        l2 = LineString([(x + a, y + s * a),\n",
    "                         (x - a, y - s * a)])\n",
    "\n",
    "    return l2\n",
    "\n",
    "def transect_at_reg_intervals(line, interval, trans_length, res):\n",
    "    \"\"\"get perpendicular lines (transects) at regular <interval> along line\n",
    "    (shapely LineString/MultiLineString)\"\"\"\n",
    "    dl = max(res/2., 0.5) # res argument required to determin length of tangent lines\n",
    "    intervals = np.arange(dl, line.length, interval)\n",
    "    tangent_lines = [LineString(line.interpolate(dist-dl).coords[:] + line.interpolate(dist+dl).coords[:])\n",
    "                      for dist in intervals+dl]\n",
    "    return intervals, [perpendicular_line(l1, trans_length) for l1 in tangent_lines]\n",
    "\n",
    "\n"
   ]
  },
  {
   "cell_type": "code",
   "execution_count": 34,
   "metadata": {},
   "outputs": [
    {
     "name": "stdout",
     "output_type": "stream",
     "text": [
      "0 Cape Bougainville\n",
      "1 Un-named Head\n",
      "2 Cape Rulhieres\n",
      "3 Cape Bernier\n",
      "4 Davidsons Point\n",
      "5 Augereau Island\n",
      "6 Swift Bay\n",
      "7 Elsie Island N\n",
      "8 Cape Londonderry\n",
      "9 Cape Talbot\n",
      "10 Low Island Point\n",
      "11 Anjo\n",
      "12 Drysdale River\n",
      "13 Crystal Head\n",
      "14 Marnebulorgne Community N point\n",
      "15 Packer Island\n",
      "16 Swan Island\n",
      "17 Point Usborne\n",
      "18 Meda River mouth spit SW\n",
      "19 Chimney Rocks\n",
      "20 Helpman Island\n",
      "21 Red Bluff\n",
      "22 Malaburra Spring\n",
      "23 Cornambie Point\n",
      "24 Point Torment\n",
      "25 Combe Hill Point\n",
      "26 East Cape Domett\n",
      "27 Bare Hill\n",
      "28 Thurburn Bluff\n",
      "29 Cape Wellington\n",
      "30 Aunty Islet\n",
      "31 Cape Torrens\n",
      "32 High Bluff\n",
      "33 Battery Point\n",
      "34 Raft Point\n",
      "35 Anderdon Islands Point\n",
      "36 Un-named Promontory\n",
      "37 Shale Island\n",
      "38 Nares Point\n",
      "39 Conilurus Island\n",
      "40 Sir Richard Island\n",
      "41 Un-named Peninsular\n",
      "42 Saddle Hill\n",
      "43 Cape Gourdon\n",
      "44 Cooraidegel Well coast\n",
      "45 Yan Well coast\n",
      "46 Shoonta Well\n",
      "47 Wattle Well coast\n",
      "48 Condini Landing\n",
      "49 Cape Keraudren\n",
      "50 Beebingara Creek coast E\n",
      "51 Dorre Island and Bernier Island\n",
      "52 Rottnest Island, Carnac Island, Garden Island\n",
      "53 False Cape  Bossut\n",
      "54 Tryon Point\n",
      "55 Cape Jaubert\n",
      "56 Samphire bore coast\n",
      "57 Eighty Mile Beach Caravan Park NE\n",
      "58 Jangerie\n",
      "59 Coulomb Point\n",
      "60 Cape Boileau\n",
      "61 Entrance Point\n",
      "62 Cape Villaret\n",
      "63 Mulla Mulla Creek\n",
      "64 Turner River NE foreland\n",
      "65 Cape Thouin\n",
      "66 Cape Cossigny\n",
      "67 Sherlock coast\n",
      "68 Barrow Island and Montebello Islands\n",
      "69 West Intercourse Island\n",
      "70 Cape Lambert\n",
      "71 Dolphin Island N point\n",
      "72 Clearville coast\n",
      "73 Cinders Rd coast\n",
      "74 Karratha Back Beach\n",
      "75 Pelican Point\n",
      "76 Cape Preston\n",
      "77 James Point\n",
      "78 Mount Salt coast W\n",
      "79 Peter Creek coast E\n",
      "80 Weld Island coast S\n",
      "81 Yardie Landing\n",
      "82 Coolgra Point W\n",
      "83 Hope Point\n",
      "84 Vlamingh Head\n",
      "85 Low Point\n",
      "86 Bundegi\n",
      "87 Coast Hill\n",
      "88 Point Maud\n",
      "89 Alison Point\n",
      "90 Gnarraloo Bay\n",
      "91 Shothole Canyon N\n",
      "92 Osprey Bay\n",
      "93 Learmonth\n",
      "94 Giralia\n",
      "95 Point Lefroy\n",
      "96 Winderabandi Point\n",
      "97 Point Cloates\n",
      "98 Entrance Point E\n",
      "99 Baresand Point\n",
      "100 Locker Point\n",
      "101 Muiron Islands\n",
      "102 North West Cape\n",
      "103 Goulet Bluff\n",
      "104 Monkey Mia\n",
      "105 Taillefer Spit\n",
      "106 Petit Point\n",
      "107 Steep Point\n",
      "108 Herald Bay N\n",
      "109 Cape Bellefin\n",
      "110 Cape Heirisson\n",
      "111 Yaringa Point\n",
      "112 Tumbledown Point\n",
      "113 Cararang Peninsular N point\n",
      "114 Goat Point\n",
      "115 Zuytdorp Point\n",
      "116 Fording Point\n",
      "117 Giraud Point\n",
      "118 Booldah well\n",
      "119 Nilemah coast E\n",
      "120 Kakura Dunes coast\n",
      "121 Red Bluff\n",
      "122 Cape Cuvier\n",
      "123 Point Quobba\n",
      "124 South Bejaling Hill\n",
      "125 West Side Creek\n",
      "126 Middle Bluff\n",
      "127 Grey Point\n",
      "128 Wooramel coast\n",
      "129 Cape Peron North\n",
      "130 Cape Inscription\n",
      "131 Quoin Head\n",
      "132 Kopke Point S\n",
      "133 Broken Anchor Bay\n",
      "134 Little Bay\n",
      "135 9 Mile Beach\n",
      "136 Leander Point\n",
      "137 White Point\n",
      "138 Cliff Head\n",
      "139 Bowes River\n",
      "140 Coronation Beach\n",
      "141 Glenfield Beach\n",
      "142 Point Moore\n",
      "143 Cape Burney\n",
      "144 Phillips Rd coast\n",
      "145 Head Butts\n",
      "146 Nunginjay Spring coast N\n",
      "147 Murchison River mouth\n",
      "148 Bluff Point\n",
      "149 Shoal Point\n",
      "150 Wreck Point\n",
      "151 Quinns Rocks\n",
      "152 Pinnaroo Point\n",
      "153 Rous Head\n",
      "154 Swanbourne\n",
      "155 Challenger Beach\n",
      "156 WA-SA Border\n",
      "157 Cape Peron\n",
      "158 Robert Point\n",
      "159 Scorpion Bight\n",
      "160 Twilight Cove\n",
      "161 Cape Bouvard\n",
      "162 Illawong\n",
      "163 Coolimba\n",
      "164 Leeman\n",
      "165 Green Head\n",
      "166 Sandy Point\n",
      "167 Island Point\n",
      "168 North Head\n",
      "169 Booker Valley\n",
      "170 Thirsty Point\n",
      "171 Grey\n",
      "172 Wedge Island point\n",
      "173 Narrow Neck\n",
      "174 Edward Island\n",
      "175 Ledge Point\n",
      "176 Seabird\n",
      "177 Guilderton\n",
      "178 Point Casuarina\n",
      "179 Point Daking\n",
      "180 Israelite Bay N\n",
      "181 Cowaramup Point\n",
      "182 Coomalbidgup\n",
      "183 Capel River mouth\n",
      "184 Wattle Camp\n",
      "185 Bussleton\n",
      "186 Cape Naturaliste\n",
      "187 Cape Clairault\n",
      "188 Red Rocks Point\n",
      "189 Binningup\n",
      "190 Point Dover\n",
      "191 Point Culver\n",
      "192 Cape Arid\n",
      "193 Tagon Point\n",
      "194 Point Malcolm\n",
      "195 Ben Island\n",
      "196 Hammer Head\n",
      "197 Cape Pasley\n",
      "198 Shoal Cape\n",
      "199 Observatory Point\n",
      "200 Wylie Head\n",
      "201 Munglinup Point\n",
      "202 Cape Le Grand\n",
      "203 Mary Ann Point\n",
      "204 Cape Freycinet\n",
      "205 Mason Bay\n",
      "206 Dempster Head\n",
      "207 Edwards Point\n",
      "208 Knobby Head\n",
      "209 Point Ann\n",
      "210 Cape Knob\n",
      "211 Point Henry\n",
      "212 Point D'Entrecasteaux\n",
      "213 Groper Bluff\n",
      "214 Black Point\n",
      "215 Cape Leeuwin\n",
      "216 Point Hood\n",
      "217 Donnelly River mouth SE\n",
      "218 Fern Creek\n",
      "219 Red Island\n",
      "220 Ledge Point\n",
      "221 Mississippi Point\n",
      "222 Cape Vancouver\n",
      "223 Point Nuyts\n",
      "224 Stanley Island/Point Hillier\n",
      "225 Wilson Head\n",
      "226 Mutton Bird promontory\n",
      "227 Herald Point E\n",
      "228 Point Irwin\n",
      "229 Rocky Head\n",
      "230 Torbay Head\n",
      "231 King Point\n",
      "232 Possession Point W\n",
      "233 Family Rocks\n",
      "234 Bald Head\n",
      "235 Cape Riche\n",
      "236 Hassell Beach NE\n",
      "237 Granite Bar\n",
      "238 West Cliff Point\n",
      "239 Cliffy Head\n",
      "240 Cheyne Head\n",
      "241 Bald Island\n",
      "242 Normans Beach E\n",
      "243 Knapp Head\n",
      "244 Blue Holes\n",
      "245 Quarram Beach head E\n"
     ]
    }
   ],
   "source": [
    "tertiary_gdf = gpd.read_file('input_data/WA_tertiaryCC.shp').to_crs('EPSG:3577')\n",
    "\n",
    "for i, compartment in tertiary_gdf.iloc[:].iterrows():\n",
    "    print(i, compartment.FROM_)"
   ]
  },
  {
   "cell_type": "code",
   "execution_count": 120,
   "metadata": {},
   "outputs": [
    {
     "name": "stdout",
     "output_type": "stream",
     "text": [
      "quarrambeachheade 2016                                                                                        \r"
     ]
    }
   ],
   "source": [
    "for i, _ in tertiary_gdf.iloc[:].iterrows():\n",
    "    \n",
    "    # Extract compartment as a GeoDataFrame so it can be used to clip other data\n",
    "    compartment = tertiary_gdf.iloc[[i]]\n",
    "    beach = compartment.FROM_.str.replace(' ', '').str.replace('/', '').str.lower().iloc[0]\n",
    "    print(f'{beach:<80}', end='\\r')\n",
    "    \n",
    "    # Read file and filter to AHD 0 shorelines\n",
    "    val_gdf = gpd.read_file('input_data/wadot/Coastline_Movements_20190819.gdb', \n",
    "                            bbox=compartment).to_crs('EPSG:3577')\n",
    "    val_gdf = val_gdf[(val_gdf.TYPE == 'AHD 0m') | (val_gdf.TYPE == 'AHD 0m ')]\n",
    "\n",
    "    # Filter to post 1987 shorelines and set index to year\n",
    "    val_gdf = val_gdf[val_gdf.PHOTO_YEAR > 1987]\n",
    "#     val_gdf = val_gdf[val_gdf.PHOTO_YEAR != 2000]\n",
    "#     val_gdf = val_gdf[val_gdf.PHOTO_YEAR != 2007]\n",
    "    val_gdf = val_gdf.set_index('PHOTO_YEAR')\n",
    "\n",
    "    # If no data is returned, skip this iteration\n",
    "    if len(val_gdf.index) == 0:\n",
    "        print(f'Failed: {beach:<80}', end='\\r')\n",
    "        continue\n",
    "\n",
    "    ######################\n",
    "    # Generate transects #\n",
    "    ######################\n",
    "\n",
    "    # Load smartline\n",
    "    smartline_gdf = gpd.read_file('../input_data/Smartline.gdb',\n",
    "                                  bbox=compartment).to_crs('EPSG:3577')\n",
    "    comp_contour = smartline_gdf.geometry.unary_union.simplify(200)\n",
    "\n",
    "    # Load Australian land water polygon\n",
    "    land_gdf = gpd.read_file('/g/data/r78/rt1527/shapefiles/australia/australia/cstauscd_r.shp', \n",
    "                             bbox=compartment).to_crs('EPSG:3577')\n",
    "    land_gdf = land_gdf.loc[land_gdf.FEAT_CODE.isin([\"mainland\", \"island\"])]\n",
    "    land_shapely = gpd.overlay(df1=land_gdf, \n",
    "                               df2=compartment).unary_union\n",
    "\n",
    "    # Extract transects along line\n",
    "    values, geoms = transect_at_reg_intervals(line=comp_contour, \n",
    "                                              interval=200,\n",
    "                                              trans_length=500, \n",
    "                                              res=30)\n",
    "\n",
    "    # Test if end points of transects fall in water or land\n",
    "    p1 = gpd.GeoSeries([Point(i.coords[0]) for i in geoms])\n",
    "    p2 = gpd.GeoSeries([Point(i.coords[1]) for i in geoms])\n",
    "    p1_within_land = p1.within(land_shapely)\n",
    "    p2_within_land = p2.within(land_shapely)\n",
    "\n",
    "    # Create geodataframe and remove invalid transects (land-land or water-water)\n",
    "    transect_gdf = gpd.GeoDataFrame(data={'p1': p1_within_land, \n",
    "                                          'p2': p2_within_land}, \n",
    "                                    geometry=geoms, \n",
    "                                    crs=val_gdf.crs)\n",
    "    transect_gdf = transect_gdf[~(transect_gdf.p1 == transect_gdf.p2)]\n",
    "\n",
    "    # Reverse transects so all point away from land\n",
    "    transect_gdf['geometry'] = transect_gdf.apply(\n",
    "        lambda i: LineString([i.geometry.coords[1], \n",
    "                              i.geometry.coords[0]]) if i.p1 < i.p2 else i.geometry, axis=1)  \n",
    "\n",
    "\n",
    "    ################################\n",
    "    # Identify 0 MSL intersections #\n",
    "    ################################\n",
    "\n",
    "    output_list = []\n",
    "\n",
    "    # Select one year\n",
    "    for year in val_gdf.index.unique().sort_values(): \n",
    "\n",
    "        # Extract validation contour\n",
    "        print(f'{beach} {year}', end='\\r')\n",
    "        val_contour = val_gdf.loc[[year]].geometry.unary_union\n",
    "\n",
    "        # Copy transect data, and find intersects between transects and contour\n",
    "        intersect_gdf = transect_gdf.copy()\n",
    "        intersect_gdf['val_point'] = transect_gdf.intersection(val_contour)\n",
    "        to_keep = gpd.GeoSeries(intersect_gdf['val_point']).geom_type == 'Point'\n",
    "        intersect_gdf = intersect_gdf.loc[to_keep]\n",
    "        \n",
    "        # If no data is returned, skip this iteration\n",
    "        if len(intersect_gdf.index) == 0:\n",
    "            print(f'Failed: {beach} {year:<80}', end='\\r')\n",
    "            continue\n",
    "\n",
    "        # Add generic metadata\n",
    "        intersect_gdf['date'] = pd.to_datetime(str(year))\n",
    "        intersect_gdf['beach'] = beach\n",
    "        intersect_gdf['section'] = 'all'\n",
    "        intersect_gdf['profile'] = list(map(str, range(0, len(intersect_gdf.index))))\n",
    "        intersect_gdf['source'] = 'photogrammetry' \n",
    "        intersect_gdf['site'] = intersect_gdf[['beach', 'section', 'profile']].apply('_'.join, 1)\n",
    "\n",
    "        # Add measurement metadata\n",
    "        intersect_gdf[['start_x', 'start_y']] = intersect_gdf.apply(\n",
    "            lambda x: pd.Series(x.geometry.coords[0]), axis=1)\n",
    "        intersect_gdf[['end_x', 'end_y']] = intersect_gdf.apply(\n",
    "            lambda x: pd.Series(x.geometry.coords[1]), axis=1)\n",
    "        intersect_gdf['0_dist'] = intersect_gdf.apply(\n",
    "            lambda x: Point(x.start_x, x.start_y).distance(x['val_point']), axis=1)\n",
    "        intersect_gdf[['0_x', '0_y']] = intersect_gdf.apply(\n",
    "            lambda x: pd.Series(x.val_point.coords[0]), axis=1)\n",
    "\n",
    "        # Keep required columns\n",
    "        intersect_gdf = intersect_gdf[['site', 'date', 'beach', 'section', 'profile',  \n",
    "                                       'source', 'start_x', 'start_y', \n",
    "                                       'end_x', 'end_y', '0_dist', \n",
    "                                       '0_x', '0_y']]\n",
    "\n",
    "        # Append to file\n",
    "        output_list.append(intersect_gdf)\n",
    "\n",
    "    # Combine all year data and export to file\n",
    "    if len(output_list) > 0:\n",
    "        shoreline_df = pd.concat(output_list)\n",
    "        shoreline_df.to_csv(f'output_data/wadot_{beach}.csv', index=False)\n"
   ]
  },
  {
   "cell_type": "code",
   "execution_count": 241,
   "metadata": {},
   "outputs": [],
   "source": [
    "# Read data\n",
    "profiles_df = pd.read_csv('input_data/vicdeakin/z_data_10cm_VIC.csv').dropna()\n",
    "\n",
    "# Optionally restrict to profile\n",
    "profiles_df = profiles_df.loc[profiles_df.location == 'leo'].reset_index(drop=True)"
   ]
  },
  {
   "cell_type": "code",
   "execution_count": 242,
   "metadata": {},
   "outputs": [],
   "source": [
    "profiles_df.to_csv('test.csv')"
   ]
  },
  {
   "cell_type": "markdown",
   "metadata": {},
   "source": [
    "## Victoria/Deakin\n",
    "* [X] Renovated"
   ]
  },
  {
   "cell_type": "code",
   "execution_count": 86,
   "metadata": {},
   "outputs": [
    {
     "name": "stdout",
     "output_type": "stream",
     "text": [
      "output_data/vicdeakin_apo.csv\n",
      "output_data/vicdeakin_cow.csv\n",
      "output_data/vicdeakin_inv.csv\n",
      "output_data/vicdeakin_leo.csv\n",
      "output_data/vicdeakin_mar.csv\n",
      "output_data/vicdeakin_pfa.csv\n",
      "output_data/vicdeakin_por.csv\n",
      "output_data/vicdeakin_prd.csv\n",
      "output_data/vicdeakin_sea.csv\n",
      "output_data/vicdeakin_wbl.csv\n"
     ]
    }
   ],
   "source": [
    "deacl_val.preprocess_vicdeakin(fname='input_data/vicdeakin/z_data_10cm_VIC.csv',\n",
    "                               datum=0)"
   ]
  },
  {
   "cell_type": "markdown",
   "metadata": {},
   "source": [
    "## Analysis\n",
    "To investigate:\n",
    "* [ ] Outlier in Bermagui (Horseshoe Bay)\n",
    "* [ ] Multiple outliers in Boambee Beach\n",
    "* [ ] Single remaining outlier in Bogangar to Kingscliff\n",
    "* [ ] **Cluster of outliers in Burgess Beach: caused by one year of channel profiles**\n",
    "* [ ] Sporadic outliers in Byron Bay\n",
    "* [ ] Two remaining outlier in Corindi Beach\n",
    "* [ ] **Major outliers at Crowdy Head**\n",
    "* [ ] **String of outliers in opposite direction at Cullendulla**\n",
    "* [ ] One remaining outlier at Diamond Beach\n",
    "* [ ] One remaining outlier at Eurobadalla Beaches North\n",
    "* [ ] **Cluster of outliers at Evans Head and Broadwater**\n",
    "* [ ] Two outliers in Fern Bay\n",
    "* [ ] **Extreme outliers at Flynn's Beach**\n",
    "* [ ] **Skewed result at Gerringong Harbour**\n",
    "* [ ] Outliers in Hargrave's Beach\n",
    "* [ ] Remaining outliers at Jimmy's Beach\n",
    "* [ ] **Remaining major outlier at Lake Illawarra**\n",
    "* [ ] **Outliers in Manly Beach**\n",
    "* [ ] Outliers at Mooney Beach\n",
    "* [ ] **Major issues with offset shorelines at Narrabeen/Collory**\n",
    "* [ ] **Outliers in opposite direction at Park's Beach**\n",
    "* [ ] Cluster of outliers at Patch's Beach\n",
    "* [ ] Port Hacking currently excluded from DEACL by estuary mask\n",
    "* [ ] **Weird line of points at Rainbow Beach**\n",
    "* [ ] **No relationship at Sandbar Beach**\n",
    "* [ ] One remaining outlier at Stuart's Point\n",
    "* [ ] **Several remaining outliers at Swansea Belmont**\n",
    "* [ ] **Cluster of outliers at The Entrance**\n",
    "* [ ] Single outlier at Warrain"
   ]
  },
  {
   "cell_type": "code",
   "execution_count": 100,
   "metadata": {},
   "outputs": [
    {
     "name": "stdout",
     "output_type": "stream",
     "text": [
      "output_data/wrl_narrabeen.csv                                                   \r"
     ]
    },
    {
     "data": {
      "text/html": [
       "<div>\n",
       "<style scoped>\n",
       "    .dataframe tbody tr th:only-of-type {\n",
       "        vertical-align: middle;\n",
       "    }\n",
       "\n",
       "    .dataframe tbody tr th {\n",
       "        vertical-align: top;\n",
       "    }\n",
       "\n",
       "    .dataframe thead th {\n",
       "        text-align: right;\n",
       "    }\n",
       "</style>\n",
       "<table border=\"1\" class=\"dataframe\">\n",
       "  <thead>\n",
       "    <tr style=\"text-align: right;\">\n",
       "      <th></th>\n",
       "      <th>id</th>\n",
       "      <th>rmse</th>\n",
       "      <th>mae</th>\n",
       "      <th>r2</th>\n",
       "      <th>cor</th>\n",
       "    </tr>\n",
       "  </thead>\n",
       "  <tbody>\n",
       "    <tr>\n",
       "      <th>0</th>\n",
       "      <td>wrl_narrabeen</td>\n",
       "      <td>7.29214</td>\n",
       "      <td>5.777798</td>\n",
       "      <td>0.907312</td>\n",
       "      <td>0.969674</td>\n",
       "    </tr>\n",
       "  </tbody>\n",
       "</table>\n",
       "</div>"
      ],
      "text/plain": [
       "              id     rmse       mae        r2       cor\n",
       "0  wrl_narrabeen  7.29214  5.777798  0.907312  0.969674"
      ]
     },
     "execution_count": 100,
     "metadata": {},
     "output_type": "execute_result"
    },
    {
     "data": {
      "image/png": "[encoded data removed]",
      "text/plain": [
       "<Figure size 612x504 with 2 Axes>"
      ]
     },
     "metadata": {
      "needs_background": "light"
     },
     "output_type": "display_data"
    }
   ],
   "source": [
    "val_paths = glob.glob('output_data/wrl_*.csv')\n",
    "deacl_path = '../packages/DEACoastLines_v0.2.0/DEACoastLines_coastlines_v0.2.0.shp'\n",
    "# deacl_path = '../DEACoastLines_coastlines_v0.2.0_0.20.shp'\n",
    "\n",
    "stats_list = []\n",
    "\n",
    "for val_path in val_paths:\n",
    "    \n",
    "    # Run analysis and close resulting figure\n",
    "    print(f'{val_path:<80}', end='\\r')\n",
    "    output_stats = deacl_val.deacl_validation(val_path, \n",
    "                                              deacl_path,\n",
    "                                              datum=0,\n",
    "                                              sat_offset=0, \n",
    "                                              return_df=False,\n",
    "                                              eval_shapes=True)\n",
    "    # Close figure if plotting over 10\n",
    "    if len(stats_list) > 10: plt.close()\n",
    "    \n",
    "    # Append stats to list\n",
    "    stats_list.append(output_stats)\n",
    "    \n",
    "# Combine stats into a dataframe\n",
    "stats_df = pd.DataFrame([stats for stats in stats_list if stats])\n",
    "stats_df.head()\n"
   ]
  },
  {
   "cell_type": "code",
   "execution_count": 95,
   "metadata": {},
   "outputs": [],
   "source": [
    "output_stats"
   ]
  },
  {
   "cell_type": "code",
   "execution_count": 11,
   "metadata": {},
   "outputs": [],
   "source": [
    "test = gpd.read_file('/g/data/r78/rt1527/dea-notebooks/MAHTS/validation/figures/eval/vicdeakin_apo_val_points.geojson')"
   ]
  },
  {
   "cell_type": "code",
   "execution_count": 150,
   "metadata": {},
   "outputs": [
    {
     "data": {
      "text/html": [
       "<div>\n",
       "<style scoped>\n",
       "    .dataframe tbody tr th:only-of-type {\n",
       "        vertical-align: middle;\n",
       "    }\n",
       "\n",
       "    .dataframe tbody tr th {\n",
       "        vertical-align: top;\n",
       "    }\n",
       "\n",
       "    .dataframe thead th {\n",
       "        text-align: right;\n",
       "    }\n",
       "</style>\n",
       "<table border=\"1\" class=\"dataframe\">\n",
       "  <thead>\n",
       "    <tr style=\"text-align: right;\">\n",
       "      <th></th>\n",
       "      <th>site</th>\n",
       "      <th>year</th>\n",
       "      <th>0_x</th>\n",
       "      <th>0_y</th>\n",
       "      <th>Validation beach width (m)</th>\n",
       "      <th>DEA CoastLines beach width (m)</th>\n",
       "      <th>geometry</th>\n",
       "    </tr>\n",
       "  </thead>\n",
       "  <tbody>\n",
       "    <tr>\n",
       "      <th>0</th>\n",
       "      <td>apo_all_0</td>\n",
       "      <td>2018</td>\n",
       "      <td>1.023339e+06</td>\n",
       "      <td>-4.284704e+06</td>\n",
       "      <td>29.436746</td>\n",
       "      <td>17.822739</td>\n",
       "      <td>POINT (143.67440 -38.75807)</td>\n",
       "    </tr>\n",
       "    <tr>\n",
       "      <th>1</th>\n",
       "      <td>apo_all_1</td>\n",
       "      <td>2018</td>\n",
       "      <td>1.023320e+06</td>\n",
       "      <td>-4.284697e+06</td>\n",
       "      <td>16.878029</td>\n",
       "      <td>10.880968</td>\n",
       "      <td>POINT (143.67417 -38.75802)</td>\n",
       "    </tr>\n",
       "    <tr>\n",
       "      <th>2</th>\n",
       "      <td>apo_all_10</td>\n",
       "      <td>2018</td>\n",
       "      <td>1.023168e+06</td>\n",
       "      <td>-4.284645e+06</td>\n",
       "      <td>24.617659</td>\n",
       "      <td>21.042505</td>\n",
       "      <td>POINT (143.67240 -38.75768)</td>\n",
       "    </tr>\n",
       "    <tr>\n",
       "      <th>3</th>\n",
       "      <td>apo_all_100</td>\n",
       "      <td>2018</td>\n",
       "      <td>1.023543e+06</td>\n",
       "      <td>-4.283061e+06</td>\n",
       "      <td>14.711952</td>\n",
       "      <td>20.204567</td>\n",
       "      <td>POINT (143.67501 -38.74302)</td>\n",
       "    </tr>\n",
       "    <tr>\n",
       "      <th>4</th>\n",
       "      <td>apo_all_101</td>\n",
       "      <td>2018</td>\n",
       "      <td>1.023558e+06</td>\n",
       "      <td>-4.283047e+06</td>\n",
       "      <td>11.975408</td>\n",
       "      <td>20.594622</td>\n",
       "      <td>POINT (143.67516 -38.74288)</td>\n",
       "    </tr>\n",
       "    <tr>\n",
       "      <th>...</th>\n",
       "      <td>...</td>\n",
       "      <td>...</td>\n",
       "      <td>...</td>\n",
       "      <td>...</td>\n",
       "      <td>...</td>\n",
       "      <td>...</td>\n",
       "      <td>...</td>\n",
       "    </tr>\n",
       "    <tr>\n",
       "      <th>96</th>\n",
       "      <td>apo_all_95</td>\n",
       "      <td>2018</td>\n",
       "      <td>1.023479e+06</td>\n",
       "      <td>-4.283138e+06</td>\n",
       "      <td>15.034278</td>\n",
       "      <td>26.871595</td>\n",
       "      <td>POINT (143.67437 -38.74377)</td>\n",
       "    </tr>\n",
       "    <tr>\n",
       "      <th>97</th>\n",
       "      <td>apo_all_96</td>\n",
       "      <td>2018</td>\n",
       "      <td>1.023492e+06</td>\n",
       "      <td>-4.283122e+06</td>\n",
       "      <td>15.294211</td>\n",
       "      <td>27.953968</td>\n",
       "      <td>POINT (143.67449 -38.74362)</td>\n",
       "    </tr>\n",
       "    <tr>\n",
       "      <th>98</th>\n",
       "      <td>apo_all_97</td>\n",
       "      <td>2018</td>\n",
       "      <td>1.023504e+06</td>\n",
       "      <td>-4.283107e+06</td>\n",
       "      <td>16.030286</td>\n",
       "      <td>32.724323</td>\n",
       "      <td>POINT (143.67461 -38.74346)</td>\n",
       "    </tr>\n",
       "    <tr>\n",
       "      <th>99</th>\n",
       "      <td>apo_all_98</td>\n",
       "      <td>2018</td>\n",
       "      <td>1.023519e+06</td>\n",
       "      <td>-4.283093e+06</td>\n",
       "      <td>12.596683</td>\n",
       "      <td>19.132199</td>\n",
       "      <td>POINT (143.67477 -38.74333)</td>\n",
       "    </tr>\n",
       "    <tr>\n",
       "      <th>100</th>\n",
       "      <td>apo_all_99</td>\n",
       "      <td>2018</td>\n",
       "      <td>1.023531e+06</td>\n",
       "      <td>-4.283078e+06</td>\n",
       "      <td>13.294907</td>\n",
       "      <td>25.586003</td>\n",
       "      <td>POINT (143.67489 -38.74318)</td>\n",
       "    </tr>\n",
       "  </tbody>\n",
       "</table>\n",
       "<p>101 rows × 7 columns</p>\n",
       "</div>"
      ],
      "text/plain": [
       "            site  year           0_x           0_y  \\\n",
       "0      apo_all_0  2018  1.023339e+06 -4.284704e+06   \n",
       "1      apo_all_1  2018  1.023320e+06 -4.284697e+06   \n",
       "2     apo_all_10  2018  1.023168e+06 -4.284645e+06   \n",
       "3    apo_all_100  2018  1.023543e+06 -4.283061e+06   \n",
       "4    apo_all_101  2018  1.023558e+06 -4.283047e+06   \n",
       "..           ...   ...           ...           ...   \n",
       "96    apo_all_95  2018  1.023479e+06 -4.283138e+06   \n",
       "97    apo_all_96  2018  1.023492e+06 -4.283122e+06   \n",
       "98    apo_all_97  2018  1.023504e+06 -4.283107e+06   \n",
       "99    apo_all_98  2018  1.023519e+06 -4.283093e+06   \n",
       "100   apo_all_99  2018  1.023531e+06 -4.283078e+06   \n",
       "\n",
       "     Validation beach width (m)  DEA CoastLines beach width (m)  \\\n",
       "0                     29.436746                       17.822739   \n",
       "1                     16.878029                       10.880968   \n",
       "2                     24.617659                       21.042505   \n",
       "3                     14.711952                       20.204567   \n",
       "4                     11.975408                       20.594622   \n",
       "..                          ...                             ...   \n",
       "96                    15.034278                       26.871595   \n",
       "97                    15.294211                       27.953968   \n",
       "98                    16.030286                       32.724323   \n",
       "99                    12.596683                       19.132199   \n",
       "100                   13.294907                       25.586003   \n",
       "\n",
       "                        geometry  \n",
       "0    POINT (143.67440 -38.75807)  \n",
       "1    POINT (143.67417 -38.75802)  \n",
       "2    POINT (143.67240 -38.75768)  \n",
       "3    POINT (143.67501 -38.74302)  \n",
       "4    POINT (143.67516 -38.74288)  \n",
       "..                           ...  \n",
       "96   POINT (143.67437 -38.74377)  \n",
       "97   POINT (143.67449 -38.74362)  \n",
       "98   POINT (143.67461 -38.74346)  \n",
       "99   POINT (143.67477 -38.74333)  \n",
       "100  POINT (143.67489 -38.74318)  \n",
       "\n",
       "[101 rows x 7 columns]"
      ]
     },
     "execution_count": 150,
     "metadata": {},
     "output_type": "execute_result"
    }
   ],
   "source": [
    "pd.DataFrame(test)"
   ]
  },
  {
   "cell_type": "code",
   "execution_count": 12,
   "metadata": {},
   "outputs": [
    {
     "data": {
      "text/plain": [
       "<matplotlib.axes._subplots.AxesSubplot at 0x7f5620a067b8>"
      ]
     },
     "execution_count": 12,
     "metadata": {},
     "output_type": "execute_result"
    },
    {
     "data": {
      "image/png": "[encoded data removed]",
      "text/plain": [
       "<Figure size 432x288 with 1 Axes>"
      ]
     },
     "metadata": {
      "needs_background": "light"
     },
     "output_type": "display_data"
    }
   ],
   "source": [
    "pd.DataFrame(test).plot.scatter(x='Validation beach width (m)', y='DEA CoastLines beach width (m)')"
   ]
  },
  {
   "cell_type": "code",
   "execution_count": 7,
   "metadata": {},
   "outputs": [
    {
     "data": {
      "text/plain": [
       "<matplotlib.axes._subplots.AxesSubplot at 0x7f5620dcdcf8>"
      ]
     },
     "execution_count": 7,
     "metadata": {},
     "output_type": "execute_result"
    },
    {
     "data": {
      "image/png": "[encoded data removed]",
      "text/plain": [
       "<Figure size 720x360 with 1 Axes>"
      ]
     },
     "metadata": {
      "needs_background": "light"
     },
     "output_type": "display_data"
    }
   ],
   "source": [
    "stats_df['cor'].plot.hist(bins=30, figsize=(10, 5))  #, range=(0, 100))"
   ]
  },
  {
   "cell_type": "code",
   "execution_count": 8,
   "metadata": {},
   "outputs": [
    {
     "data": {
      "text/plain": [
       "<matplotlib.axes._subplots.AxesSubplot at 0x7f562089d4a8>"
      ]
     },
     "execution_count": 8,
     "metadata": {},
     "output_type": "execute_result"
    },
    {
     "data": {
      "image/png": "[encoded data removed]",
      "text/plain": [
       "<Figure size 720x360 with 1 Axes>"
      ]
     },
     "metadata": {
      "needs_background": "light"
     },
     "output_type": "display_data"
    }
   ],
   "source": [
    "stats_df['rmse'].plot.hist(bins=30, figsize=(10, 5))  #, range=(0, 100))"
   ]
  },
  {
   "cell_type": "code",
   "execution_count": 10,
   "metadata": {},
   "outputs": [
    {
     "data": {
      "text/plain": [
       "13.471810132890639"
      ]
     },
     "execution_count": 10,
     "metadata": {},
     "output_type": "execute_result"
    }
   ],
   "source": [
    "stats_df['rmse'].median()"
   ]
  },
  {
   "cell_type": "markdown",
   "metadata": {},
   "source": [
    "## Testing NSWBPD"
   ]
  },
  {
   "cell_type": "code",
   "execution_count": null,
   "metadata": {},
   "outputs": [],
   "source": [
    "fname = 'input_data/nswbpd/photogrammetry_Xsections_Burril Lake and Racecourse Beach.csv'\n",
    "\n",
    "# Get output filename\n",
    "name = Path(fname).stem.split('_')[-1].lower().replace(' ', '')\n",
    "fname_out = f'output_data/nswbpd_{name}.csv'\n",
    "\n",
    "# Read in data\n",
    "print(f'Processing {fname_out}             ', end='\\r')            \n",
    "profiles_df = pd.read_csv(fname, skiprows=5)\n",
    "profiles_df['Year/Date'] = pd.to_datetime(profiles_df['Year/Date'],\n",
    "                                          dayfirst=True,\n",
    "                                          errors='coerce')\n",
    "\n",
    "# Restrict to post 1987\n",
    "profiles_df = profiles_df[profiles_df['Year/Date'] > '1987']\n",
    "\n",
    "# Convert columns to strings and add unique ID column\n",
    "profiles_df['Beach'] = profiles_df['Beach'].str.lower().str.replace(' ', '')\n",
    "profiles_df['Block'] = profiles_df['Block'].astype(str).str.lower()\n",
    "profiles_df['Profile'] = profiles_df['Profile'].astype(str).str.lower()\n",
    "profiles_df['site'] = profiles_df[['Beach', 'Block',\n",
    "                                   'Profile']].apply('_'.join, 1)\n",
    "\n",
    "# Rename columns\n",
    "profiles_df.columns = ['beach', 'section', 'profile', 'date', 'chainage', \n",
    "                       'elevation', 'easting', 'northing', 'source', 'site']\n",
    "\n",
    "# # Compute origin points for each profile\n",
    "# start_xy = profiles_df.loc[profiles_df.groupby(['site']).chainage.idxmin(), \n",
    "#                             ['site', 'easting', 'northing']]\n",
    "# start_xy = start_xy.rename({'easting': 'start_x', \n",
    "#                             'northing': 'start_y'}, axis=1)\n",
    "# start_xy = start_xy.reset_index(drop=True)\n",
    "\n",
    "# # Compute end points for each profile\n",
    "# end_xy = profiles_df.loc[profiles_df.groupby(['site']).chainage.idxmax(), \n",
    "#                          ['site', 'easting', 'northing']]\n",
    "# end_xy = end_xy.rename({'easting': 'end_x', \n",
    "#                         'northing': 'end_y'}, axis=1)\n",
    "# end_xy = end_xy.reset_index(drop=True)\n",
    "\n",
    "# # Join origin and end points into dataframe\n",
    "# profiles_df = pd.merge(left=profiles_df, right=start_xy)\n",
    "# profiles_df = pd.merge(left=profiles_df, right=end_xy)\n",
    "\n",
    "# # Find location and distance to water for datum height (0 m AHD)\n",
    "# out = profiles_df.groupby(['site', 'date']).apply(deacl_val.waterline_intercept, \n",
    "#                                                   dist_col='chainage',\n",
    "#                                                   x_col='easting', \n",
    "#                                                   y_col='northing', \n",
    "#                                                   z_col='elevation', \n",
    "#                                                   z_val=0).dropna()"
   ]
  },
  {
   "cell_type": "code",
   "execution_count": null,
   "metadata": {},
   "outputs": [],
   "source": [
    "profiles_sub = profiles_df[(profiles_df.site == 'burrillakeandracecoursebeach_1_5') & (profiles_df.date == '1993-05-14') ]  "
   ]
  },
  {
   "cell_type": "code",
   "execution_count": null,
   "metadata": {},
   "outputs": [],
   "source": [
    "burrillakeandracecoursebeach_1_5"
   ]
  },
  {
   "cell_type": "code",
   "execution_count": null,
   "metadata": {},
   "outputs": [],
   "source": [
    "to_vector(profiles_df, x='easting', y='northing', fname='test6.shp')"
   ]
  },
  {
   "cell_type": "markdown",
   "metadata": {},
   "source": [
    "## Testing GCC"
   ]
  },
  {
   "cell_type": "code",
   "execution_count": null,
   "metadata": {},
   "outputs": [],
   "source": [
    "results_df\n",
    "\n",
    "\n",
    "results_df[(results_df.site == 'broadbeach_eta_59') ]"
   ]
  },
  {
   "cell_type": "code",
   "execution_count": null,
   "metadata": {},
   "outputs": [],
   "source": []
  },
  {
   "cell_type": "code",
   "execution_count": null,
   "metadata": {},
   "outputs": [],
   "source": [
    "pd.read_csv(val_paths[0], parse_dates=['date'], index_col='site').loc['broadbeach_eta_58.50']"
   ]
  },
  {
   "cell_type": "code",
   "execution_count": null,
   "metadata": {},
   "outputs": [],
   "source": [
    " x.geometry_val.intersection(x.geometry_deacl)\n",
    "            .hausdorff_distance(Point(x.start_x, x.start_y)), axis=1)\n"
   ]
  },
  {
   "cell_type": "code",
   "execution_count": null,
   "metadata": {},
   "outputs": [],
   "source": [
    "gpd.GeoSeries(results_df.loc[results_df.site == 'broadbeach_eta_59'].iloc[0].geometry_val).plot()\n",
    "\n",
    "\n",
    "gpd.GeoSeries(results_df.loc[results_df.site == 'broadbeach_eta_59'].iloc[0].geometry_val.interpolate(219)).plot(ax=plt.gca())"
   ]
  },
  {
   "cell_type": "code",
   "execution_count": null,
   "metadata": {},
   "outputs": [],
   "source": [
    "results_df.loc[results_df.site == 'broadbeach_eta_59'].iloc[0].geometry_val.length"
   ]
  },
  {
   "cell_type": "code",
   "execution_count": null,
   "metadata": {},
   "outputs": [],
   "source": [
    "profile_i = '/g/data/r78/rt1527/dea-notebooks/MAHTS/validation/input_data/cityofgoldcoast/BROADBEACH - ETA 59 - (13474) 1996-06-05.txt'\n",
    "\n",
    "\n",
    "pd.read_csv(profile_i,\n",
    "                                 usecols=[1, 2, 3],\n",
    "                                 delim_whitespace=True, \n",
    "                                 names=['x', 'y', 'z']).plot.scatter(x='x', y='z')"
   ]
  },
  {
   "cell_type": "code",
   "execution_count": null,
   "metadata": {},
   "outputs": [],
   "source": [
    "profile_list "
   ]
  },
  {
   "cell_type": "code",
   "execution_count": null,
   "metadata": {},
   "outputs": [],
   "source": [
    "profile_list = glob.glob(f'input_data/cityofgoldcoast/SOUTH STRADBROKE - SSI 09 *.txt')\n",
    "\n",
    "# Output list to hold data\n",
    "site_profiles = []\n",
    "\n",
    "for profile_i in profile_list:\n",
    "\n",
    "    # Identify unique field values from file string\n",
    "    profile_string = os.path.basename(profile_i)\n",
    "\n",
    "    # Treat data file string differently depending on format\n",
    "    if len(profile_string.split(' - ')) > 3:\n",
    "        beach, section, profile, id_date = profile_string.split(' - ')            \n",
    "\n",
    "    else:\n",
    "        beach, section_profile, id_date = profile_string.split(' - ')\n",
    "\n",
    "        if len(section_profile.split(' ')) == 2:\n",
    "            section, profile = section_profile.split(' ')\n",
    "\n",
    "        else:\n",
    "            section, profile = 'none', section_profile\n",
    "\n",
    "    # If beach name is in the list of problematic names, replace\n",
    "    beach = manual_rename[beach] if beach in manual_rename.keys() else beach\n",
    "\n",
    "    # Remove any special characters from beach/section/profile names and create ID \n",
    "    profile_df = pd.read_csv(profile_i,\n",
    "                             usecols=[1, 2, 3],\n",
    "                             delim_whitespace=True, \n",
    "                             names=['x', 'y', 'z'])\n",
    "    profile_df['date'] = pd.to_datetime(id_date[-14:-4]) \n",
    "    profile_df['source'] = 'hydrographic survey'\n",
    "    profile_df['profile'] = profile.lower()\n",
    "    profile_df['section'] = section.lower()\n",
    "    profile_df['beach'] = beach.replace(' ', '').lower()\n",
    "    profile_df['site'] = profile_df[['beach', 'section', 'profile']].apply('_'.join, 1)\n",
    "\n",
    "    # Filter to drop pre-1987 and deep water samples, add to list if any \n",
    "    # data is available above 0 MSL\n",
    "    profile_df = profile_df[profile_df.z > -3.0]\n",
    "    profile_df = profile_df[profile_df.date > '1987']    \n",
    "    if profile_df.z.max() > 0:\n",
    "        site_profiles.append(profile_df)\n",
    "\n",
    "# Combine into a single dataframe\n",
    "profiles_df = pd.concat(site_profiles)\n",
    "\n",
    "# Compute origin and end points for each profile\n",
    "start_xy = profiles_df.groupby(['site'], as_index=False).first()[['site', 'x', 'y']]\n",
    "end_xy = profiles_df.groupby(['site'], as_index=False).last()[['site', 'x', 'y']]\n",
    "start_xy = start_xy.rename({'x': 'start_x', 'y': 'start_y'}, axis=1)\n",
    "end_xy = end_xy.rename({'x': 'end_x', 'y': 'end_y'}, axis=1)\n",
    "\n",
    "# Join origin and end points into dataframe\n",
    "profiles_df = pd.merge(left=profiles_df, right=start_xy)\n",
    "profiles_df = pd.merge(left=profiles_df, right=end_xy)\n",
    "\n",
    "# # Compute chainage\n",
    "# profiles_df['chainage'] = profiles_df.apply(\n",
    "#     lambda x: math.hypot(x.x - x.start_x, x.y - x.start_y), axis = 1)\n",
    "\n",
    "# # Find location and distance to water for datum height (0 m AHD)\n",
    "# out = profiles_df.groupby(['site', 'date']).apply(deacl_val.waterline_intercept, \n",
    "#                                                   dist_col='chainage',\n",
    "#                                                   x_col='x', \n",
    "#                                                   y_col='y', \n",
    "#                                                   z_col='z', \n",
    "#                                                   z_val=0).dropna()"
   ]
  },
  {
   "cell_type": "code",
   "execution_count": null,
   "metadata": {},
   "outputs": [],
   "source": [
    "profiles_subset = profiles_df.loc[profiles_df.date.dt.year == 2013]\n",
    "profiles_subset.plot(x='x', y='z')"
   ]
  },
  {
   "cell_type": "code",
   "execution_count": null,
   "metadata": {},
   "outputs": [],
   "source": [
    "to_vector(profiles_df.loc[profiles_df.date.dt.year == 2013], fname='test4.shp')\n",
    "\n",
    "\n",
    "\n",
    "    "
   ]
  },
  {
   "cell_type": "code",
   "execution_count": null,
   "metadata": {},
   "outputs": [],
   "source": []
  },
  {
   "cell_type": "code",
   "execution_count": null,
   "metadata": {},
   "outputs": [],
   "source": [
    "merge_test.groupby('year').median().reset_index().plot(x='year', y='DEA CoastLines beach width (m)')\n",
    "merge_test.groupby('year').median().reset_index().plot(x='year', y='Validation beach width (m)', ax=plt.gca())"
   ]
  },
  {
   "cell_type": "markdown",
   "metadata": {},
   "source": [
    "***\n",
    "\n",
    "## Additional information"
   ]
  },
  {
   "cell_type": "markdown",
   "metadata": {},
   "source": [
    "**License:** The code in this notebook is licensed under the [Apache License, Version 2.0](https://www.apache.org/licenses/LICENSE-2.0). \n",
    "Digital Earth Australia data is licensed under the [Creative Commons by Attribution 4.0](https://creativecommons.org/licenses/by/4.0/) license.\n",
    "\n",
    "**Contact:** If you need assistance, please post a question on the [Open Data Cube Slack channel](http://slack.opendatacube.org/) or on the [GIS Stack Exchange](https://gis.stackexchange.com/questions/ask?tags=open-data-cube) using the `open-data-cube` tag (you can view previously asked questions [here](https://gis.stackexchange.com/questions/tagged/open-data-cube)).\n",
    "If you would like to report an issue with this notebook, you can file one on [Github](https://github.com/GeoscienceAustralia/dea-notebooks).\n",
    "\n",
    "**Last modified:** May 2020"
   ]
  }
 ],
 "metadata": {
  "kernelspec": {
   "display_name": "Python 3",
   "language": "python",
   "name": "python3"
  },
  "language_info": {
   "codemirror_mode": {
    "name": "ipython",
    "version": 3
   },
   "file_extension": ".py",
   "mimetype": "text/x-python",
   "name": "python",
   "nbconvert_exporter": "python",
   "pygments_lexer": "ipython3",
   "version": "3.6.10"
  },
  "widgets": {
   "application/vnd.jupyter.widget-state+json": {
    "state": {},
    "version_major": 2,
    "version_minor": 0
   }
  }
 },
 "nbformat": 4,
 "nbformat_minor": 4
}
