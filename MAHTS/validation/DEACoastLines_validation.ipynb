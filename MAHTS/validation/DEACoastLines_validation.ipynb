{
 "cells": [
  {
   "cell_type": "markdown",
   "metadata": {},
   "source": [
    "# DEA CoastLines validation\n",
    "\n",
    "To do:\n",
    "* [ ] Change output CRS to Australian Albers"
   ]
  },
  {
   "cell_type": "code",
   "execution_count": 77,
   "metadata": {},
   "outputs": [],
   "source": [
    "import xarray as xr\n",
    "from shapely.geometry import Point, LineString\n",
    "\n",
    "transects_ds = xr.open_dataset('/g/data/r78/rt1527/dea-notebooks/MAHTS/validation/input_data/globalCoastalMorphodynamicsDb.nc')\n",
    "transects_ds = transects_ds[['lon', 'lat', 'firstlandlat', 'firstlandlon', \"lonsea\", \"latsea\", \n",
    "                             'activezonetoland', 'activezonetosea', 'landtoactivezone', 'landtosea', 'seatoactivezone', 'seatoland']]\n",
    "transects_df = transects_ds.to_dataframe()\n",
    "transects_df = transects_df.loc[transects_df.lon.between(110, 154) & transects_df.lat.between(-50, -10)]"
   ]
  },
  {
   "cell_type": "code",
   "execution_count": 65,
   "metadata": {},
   "outputs": [
    {
     "data": {
      "text/plain": [
       "<matplotlib.axes._subplots.AxesSubplot at 0x7f3f5ea68240>"
      ]
     },
     "execution_count": 65,
     "metadata": {},
     "output_type": "execute_result"
    },
    {
     "data": {
      "image/png": "[encoded data removed]",
      "text/plain": [
       "<Figure size 432x288 with 1 Axes>"
      ]
     },
     "metadata": {
      "needs_background": "light"
     },
     "output_type": "display_data"
    }
   ],
   "source": [
    "transects_df.plot.scatter(x='lon', y='lat')"
   ]
  },
  {
   "cell_type": "code",
   "execution_count": 66,
   "metadata": {},
   "outputs": [],
   "source": [
    "transects_geom = transects_df.apply(\n",
    "    lambda x: LineString([(x.firstlandlon, x.firstlandlat), \n",
    "                          (x.lonsea, x.latsea)]), axis=1)"
   ]
  },
  {
   "cell_type": "code",
   "execution_count": 78,
   "metadata": {},
   "outputs": [],
   "source": [
    "gpd.GeoDataFrame(data=transects_df, \n",
    "                 geometry=transects_geom,\n",
    "                 crs='EPSG:4326').to_file('transects_data.geojson', driver='GeoJSON')"
   ]
  },
  {
   "cell_type": "markdown",
   "metadata": {},
   "source": [
    "## Load modules/functions\n"
   ]
  },
  {
   "cell_type": "code",
   "execution_count": 16,
   "metadata": {},
   "outputs": [],
   "source": [
    "%matplotlib inline\n",
    "%load_ext line_profiler\n",
    "%load_ext autoreload\n",
    "%autoreload 2\n",
    "\n",
    "import glob\n",
    "import matplotlib.pyplot as plt\n",
    "\n",
    "import pandas as pd\n",
    "import numpy as np\n",
    "from shapely.geometry import box\n",
    "import geopandas as gpd\n",
    "\n",
    "import deacoastlines_validation as deacl_val\n",
    "\n",
    "import sys\n",
    "sys.path.append(\"/g/data/r78/rt1527/dea-notebooks/MAHTS/\")\n",
    "import deacoastlines_statistics as deacl_stats\n",
    "\n",
    "def to_vector(df, fname='test.shp', x='x', y='y', crs='EPSG:28356'):\n",
    "    \n",
    "    # Convert datetimes to strings\n",
    "    is_datetime = df.dtypes == 'datetime64[ns]'\n",
    "    df.loc[:, is_datetime] = df.loc[:, is_datetime].astype(str) \n",
    "    \n",
    "    # Export to file\n",
    "    gpd.GeoDataFrame(data=df.loc[:, df.dtypes != 'datetime64[ns]'],\n",
    "                     geometry=gpd.points_from_xy(x=df[x], y=df[y]),\n",
    "                     crs=crs).to_file(fname)"
   ]
  },
  {
   "cell_type": "markdown",
   "metadata": {},
   "source": [
    "## Pre-processing\n",
    "\n",
    "### NSW Beach Profile Database\n",
    "\n"
   ]
  },
  {
   "cell_type": "code",
   "execution_count": 94,
   "metadata": {},
   "outputs": [
    {
     "name": "stdout",
     "output_type": "stream",
     "text": [
      "Processing output_data/nswbpd_stockton.csv             \r"
     ]
    }
   ],
   "source": [
    "for fname in glob.glob('input_data/nswbpd/*Stockton*.csv'):\n",
    "    deacl_val.preprocess_nswbpd(fname, datum=0.5, overwrite=True)     \n"
   ]
  },
  {
   "cell_type": "markdown",
   "metadata": {},
   "source": [
    "## WRL Narrabeen "
   ]
  },
  {
   "cell_type": "code",
   "execution_count": null,
   "metadata": {},
   "outputs": [],
   "source": [
    "deacl_val.preprocess_narrabeen(fname='input_data/wrl/Narrabeen_Profiles_2018.csv',\n",
    "                               overwrite=True)\n"
   ]
  },
  {
   "cell_type": "markdown",
   "metadata": {},
   "source": [
    "## City of Gold Coast"
   ]
  },
  {
   "cell_type": "code",
   "execution_count": null,
   "metadata": {},
   "outputs": [],
   "source": [
    "# List of sites to iterate over\n",
    "all_profiles = glob.glob(f'input_data/cityofgoldcoast/*.txt')\n",
    "sites = np.unique([i.split(' - ')[0].split('/')[-1] for i in all_profiles])\n",
    "# sites = ['SOUTH STRADBROKE']\n",
    "\n",
    "for site in sites:\n",
    "    deacl_val.preprocess_cgc(site=site, overwrite=True)"
   ]
  },
  {
   "cell_type": "markdown",
   "metadata": {},
   "source": [
    "## TASMARC"
   ]
  },
  {
   "cell_type": "code",
   "execution_count": null,
   "metadata": {},
   "outputs": [],
   "source": [
    "# List of sites to iterate over\n",
    "sites = [i.split('/')[2] for i in glob.glob('input_data/tasmarc/*/')]\n",
    "\n",
    "for site in sites:\n",
    "    deacl_val.preprocess_tasmarc(site, overwrite=True) \n"
   ]
  },
  {
   "cell_type": "markdown",
   "metadata": {},
   "source": [
    "## WA DoT"
   ]
  },
  {
   "cell_type": "code",
   "execution_count": 79,
   "metadata": {},
   "outputs": [
    {
     "data": {
      "text/plain": [
       "<matplotlib.axes._subplots.AxesSubplot at 0x7f3f57be0f28>"
      ]
     },
     "execution_count": 79,
     "metadata": {},
     "output_type": "execute_result"
    },
    {
     "data": {
      "image/png": "[encoded data removed]",
      "text/plain": [
       "<Figure size 432x288 with 1 Axes>"
      ]
     },
     "metadata": {
      "needs_background": "light"
     },
     "output_type": "display_data"
    }
   ],
   "source": [
    "# Read file and filter to AHD 0 shorelines\n",
    "val_gdf = gpd.read_file('input_data/wadot/test.geojson').to_crs('EPSG:3577')\n",
    "val_gdf = val_gdf[(val_gdf.TYPE == 'AHD 0m') | (val_gdf.TYPE == 'AHD 0m ')]\n",
    "\n",
    "# Filter to post 1987 shorelines and set index to year\n",
    "val_gdf = val_gdf[val_gdf.PHOTO_YEAR > 1987]\n",
    "val_gdf = val_gdf.set_index('PHOTO_YEAR')\n",
    "val_gdf.plot()"
   ]
  },
  {
   "cell_type": "code",
   "execution_count": 80,
   "metadata": {},
   "outputs": [],
   "source": [
    "deacl_gdf = gpd.read_file('../packages/DEACoastLines_v0.2.0/DEACoastLines_coastlines_v0.2.0.shp', bbox=val_gdf).to_crs('EPSG:3577')\n",
    "deacl_gdf['year'] = deacl_gdf.year.astype(int)\n",
    "deacl_gdf = deacl_gdf.set_index('year')"
   ]
  },
  {
   "cell_type": "code",
   "execution_count": 81,
   "metadata": {},
   "outputs": [
    {
     "name": "stdout",
     "output_type": "stream",
     "text": [
      "1990\n",
      "1995\n",
      "2000\n",
      "2004\n",
      "2008\n",
      "2016\n"
     ]
    }
   ],
   "source": [
    "output_list = []\n",
    "\n",
    "# Select one year\n",
    "for year in val_gdf.index.unique().sort_values(): \n",
    "    \n",
    "    # Extract measurement points\n",
    "    print(year)\n",
    "    points_gdf = deacl_stats.stats_points(val_gdf, year, distance=100)\n",
    "\n",
    "    # # Set comparison contour\n",
    "    comp_contour = deacl_gdf.loc[[year]].geometry.unary_union\n",
    "\n",
    "    # Find nearest point on comparison contour, and add these to points dataset\n",
    "    from shapely.ops import nearest_points\n",
    "    points_gdf['nearest'] = points_gdf.apply(lambda x: \n",
    "                                                    nearest_points(x.geometry, \n",
    "                                                                   comp_contour)[1], \n",
    "                                                    axis=1)\n",
    "\n",
    "    #         Compute distance between baseline and comparison year points and add\n",
    "    #         this distance as a new field named by the current year being analysed\n",
    "    points_gdf['distance'] = points_gdf.apply(lambda x: \n",
    "                                                  x.geometry.distance(x['nearest']), \n",
    "                                                  axis=1)\n",
    "    \n",
    "    # Add year column\n",
    "    points_gdf['year'] = year\n",
    "    \n",
    "    # Append to file\n",
    "    output_list.append(points_gdf[['year', 'distance', 'geometry']])\n",
    "\n",
    "\n",
    "all_points_gdf = pd.concat(output_list).sort_values('distance', ascending=False)\n",
    "all_points_gdf = all_points_gdf[all_points_gdf['distance'] < 500]"
   ]
  },
  {
   "cell_type": "markdown",
   "metadata": {},
   "source": [
    "## Perth transects"
   ]
  },
  {
   "cell_type": "code",
   "execution_count": 245,
   "metadata": {},
   "outputs": [
    {
     "data": {
      "text/plain": [
       "<matplotlib.axes._subplots.AxesSubplot at 0x7f3f57b921d0>"
      ]
     },
     "execution_count": 245,
     "metadata": {},
     "output_type": "execute_result"
    },
    {
     "data": {
      "image/png": "[encoded data removed]",
      "text/plain": [
       "<Figure size 432x288 with 1 Axes>"
      ]
     },
     "metadata": {
      "needs_background": "light"
     },
     "output_type": "display_data"
    }
   ],
   "source": [
    "# Read file and filter to AHD 0 shorelines\n",
    "val_gdf = gpd.read_file('input_data/wadot/test.geojson').to_crs('EPSG:3577')\n",
    "val_gdf = val_gdf[(val_gdf.TYPE == 'AHD 0m') | (val_gdf.TYPE == 'AHD 0m ')]\n",
    "\n",
    "# Filter to post 1987 shorelines and set index to year\n",
    "val_gdf = val_gdf[val_gdf.PHOTO_YEAR > 1987]\n",
    "val_gdf = val_gdf.set_index('PHOTO_YEAR')\n",
    "\n",
    "# Get extent \n",
    "bbox = gpd.GeoDataFrame(geometry=[box(*val_gdf.total_bounds).buffer(1000)], crs=val_gdf.crs)\n",
    "val_gdf.plot()"
   ]
  },
  {
   "cell_type": "code",
   "execution_count": 246,
   "metadata": {},
   "outputs": [],
   "source": [
    "# Load smartline\n",
    "smartline_gdf = gpd.read_file('../input_data/Smartline.gdb', bbox=bbox).to_crs('EPSG:3577')\n",
    "comp_contour = smartline_gdf.geometry.unary_union.simplify(100)\n",
    "\n",
    "# Load Australian land water polygon\n",
    "land_gdf = gpd.read_file('/g/data/r78/rt1527/shapefiles/australia/australia/cstauscd_r.shp', bbox=bbox).to_crs('EPSG:3577')\n",
    "land_gdf = land_gdf.loc[land_gdf.FEAT_CODE.isin([\"mainland\", \"island\"])]\n",
    "land_shapely = gpd.overlay(land_gdf, bbox).unary_union"
   ]
  },
  {
   "cell_type": "code",
   "execution_count": 247,
   "metadata": {},
   "outputs": [],
   "source": [
    "from shapely.geometry import Point, LineString\n",
    "\n",
    "# util functions\n",
    "def perpendicular_line(l1, length):\n",
    "    \"\"\"Create a new LineString perpendicular to <l1> with length <length>.\"\"\"\n",
    "    dx = l1.coords[1][0] - l1.coords[0][0]\n",
    "    dy = l1.coords[1][1] - l1.coords[0][1]\n",
    "\n",
    "    p = Point(l1.coords[0][0] + 0.5*dx, l1.coords[0][1] + 0.5*dy)\n",
    "    x, y = p.coords[0][0],  p.coords[0][1]\n",
    "\n",
    "    if (dy == 0) or (dx == 0):\n",
    "        a = length / l1.length\n",
    "        l2 = LineString([(x - 0.5*a*dy, y - 0.5*a*dx),\n",
    "                         (x + 0.5*a*dy, y + 0.5*a*dx)])\n",
    "\n",
    "    else:\n",
    "        s = -dx/dy\n",
    "        a = ((length * 0.5)**2 / (1 + s**2))**0.5\n",
    "        l2 = LineString([(x + a, y + s*a),\n",
    "                         (x - a, y - s*a)])\n",
    "\n",
    "    return l2\n",
    "\n",
    "def transect_at_reg_intervals(line, interval, trans_length, res):\n",
    "    \"\"\"get perpendicular lines (transects) at regular <interval> along line\n",
    "    (shapely LineString/MultiLineString)\"\"\"\n",
    "    dl = max(res/2., 0.5) # res argument required to determin length of tangent lines\n",
    "    intervals = np.arange(dl, line.length, interval)\n",
    "    tangent_lines = [LineString(line.interpolate(dist-dl).coords[:] + line.interpolate(dist+dl).coords[:])\n",
    "                      for dist in intervals+dl]\n",
    "    return intervals, [perpendicular_line(l1, trans_length) for l1 in tangent_lines]\n",
    "\n",
    "\n"
   ]
  },
  {
   "cell_type": "code",
   "execution_count": 248,
   "metadata": {},
   "outputs": [
    {
     "data": {
      "text/plain": [
       "<matplotlib.axes._subplots.AxesSubplot at 0x7f3f57f2dc88>"
      ]
     },
     "execution_count": 248,
     "metadata": {},
     "output_type": "execute_result"
    },
    {
     "data": {
      "image/png": "[encoded data removed]",
      "text/plain": [
       "<Figure size 432x288 with 1 Axes>"
      ]
     },
     "metadata": {
      "needs_background": "light"
     },
     "output_type": "display_data"
    }
   ],
   "source": [
    "# Extract transects along line\n",
    "values, geoms = transect_at_reg_intervals(line=comp_contour, \n",
    "                                          interval=100,\n",
    "                                          trans_length=300, \n",
    "                                          res=30)\n",
    "\n",
    "# Test if end points of transects fall in water or land\n",
    "p1 = gpd.GeoSeries([Point(i.coords[0]) for i in geoms])\n",
    "p2 = gpd.GeoSeries([Point(i.coords[1]) for i in geoms])\n",
    "p1_within_land = p1.within(land_shapely)\n",
    "p2_within_land = p2.within(land_shapely)\n",
    "\n",
    "# Create geodataframe and remove invalid transects (land-land or water-water)\n",
    "transect_gdf = gpd.GeoDataFrame(data={'p1': p1_within_land, \n",
    "                                      'p2': p2_within_land}, \n",
    "                              geometry=geoms, \n",
    "                              crs=deacl_gdf.crs)\n",
    "transect_gdf = transect_gdf[~(transect_gdf.p1 == transect_gdf.p2)]\n",
    "\n",
    "# Reverse transects so all point away from land\n",
    "transect_gdf['geometry'] = transect_gdf.apply(\n",
    "    lambda i: LineString([i.geometry.coords[1], i.geometry.coords[0]]) if i.p1 < i.p2 else i.geometry, axis=1)  \n",
    "transect_gdf.plot()\n",
    "# output_gdf.to_file('perth_transects.shp')\n",
    "\n"
   ]
  },
  {
   "cell_type": "code",
   "execution_count": 283,
   "metadata": {},
   "outputs": [],
   "source": [
    "year=1990\n",
    "\n",
    "# Extract validation contour\n",
    "val_contour = val_gdf.loc[[year]].geometry.unary_union\n",
    "\n",
    "# Copy transect data, and find intersects between transects and contour\n",
    "intersect_gdf = transect_gdf.copy()\n",
    "intersect_geom = transect_gdf.intersection(val_contour)\n",
    "to_keep = intersect_geom.geom_type == 'Point'\n",
    "intersect_gdf.loc[to_keep, 'val_point'] = intersect_geom[to_keep]\n",
    "intersect_gdf = intersect_gdf.dropna()\n",
    "\n",
    "# Add generic metadata\n",
    "intersect_gdf['date'] = pd.to_datetime(str(year))\n",
    "intersect_gdf['beach'] = 'wa'\n",
    "intersect_gdf['section'] = '0msl'\n",
    "intersect_gdf['profile'] = list(map(str, range(0, len(intersect_gdf.index))))\n",
    "intersect_gdf['source'] = 'photogrammetry' \n",
    "intersect_gdf['site'] = intersect_gdf[['beach', 'section', 'profile']].apply('_'.join, 1)\n",
    "\n",
    "# Add measurement metadata\n",
    "intersect_gdf[['start_x', 'start_y']] = intersect_gdf.apply(lambda x: pd.Series(x.geometry.coords[0]), axis=1)\n",
    "intersect_gdf[['end_x', 'end_y']] = intersect_gdf.apply(lambda x: pd.Series(x.geometry.coords[1]), axis=1)\n",
    "intersect_gdf['0_dist'] = intersect_gdf.apply(lambda x: Point(x.start_x, x.start_y).distance(x['val_point']), axis=1)\n",
    "intersect_gdf[['0_x', '0_y']] = intersect_gdf.apply(lambda x: pd.Series(x.val_point.coords[0]), axis=1)\n",
    "\n",
    "# Keep required columns\n",
    "intersect_gdf = intersect_gdf[['site', 'date', 'beach', 'section', 'profile',  \n",
    "                               'source', 'start_x', 'start_y', \n",
    "                               'end_x', 'end_y', '0_dist', \n",
    "                               '0_x', '0_y']]"
   ]
  },
  {
   "cell_type": "code",
   "execution_count": 284,
   "metadata": {},
   "outputs": [],
   "source": [
    "# Export to file\n",
    "intersect_gdf.to_csv(f'output_data/wa_test2.csv', index=False)"
   ]
  },
  {
   "cell_type": "code",
   "execution_count": null,
   "metadata": {},
   "outputs": [],
   "source": []
  },
  {
   "cell_type": "code",
   "execution_count": 333,
   "metadata": {},
   "outputs": [
    {
     "data": {
      "image/png": "[encoded data removed]",
      "text/plain": [
       "<Figure size 720x504 with 1 Axes>"
      ]
     },
     "metadata": {},
     "output_type": "display_data"
    }
   ],
   "source": [
    "import seaborn as sns\n",
    "sns.set(style=\"whitegrid\", palette=\"pastel\", color_codes=True)\n",
    "\n",
    "# Load the example tips dataset\n",
    "tips = sns.load_dataset(\"tips\")\n",
    "\n",
    "# Draw a nested violinplot and split the violins for easier comparison\n",
    "\n",
    "plt.figure(figsize=(10,7))\n",
    "sns.boxplot(x=\"year\", y=\"distance\", \n",
    "#                hue=\"smoker\",\n",
    "#                split=True, \n",
    "#                inner=\"quart\",\n",
    "#                palette={\"Yes\": \"y\", \"No\": \"b\"},\n",
    "                showfliers = False,\n",
    "               data=all_points_gdf)\n",
    "sns.despine(left=True)"
   ]
  },
  {
   "cell_type": "code",
   "execution_count": 327,
   "metadata": {},
   "outputs": [
    {
     "data": {
      "text/html": [
       "<div>\n",
       "<style scoped>\n",
       "    .dataframe tbody tr th:only-of-type {\n",
       "        vertical-align: middle;\n",
       "    }\n",
       "\n",
       "    .dataframe tbody tr th {\n",
       "        vertical-align: top;\n",
       "    }\n",
       "\n",
       "    .dataframe thead th {\n",
       "        text-align: right;\n",
       "    }\n",
       "</style>\n",
       "<table border=\"1\" class=\"dataframe\">\n",
       "  <thead>\n",
       "    <tr style=\"text-align: right;\">\n",
       "      <th></th>\n",
       "      <th>distance</th>\n",
       "    </tr>\n",
       "  </thead>\n",
       "  <tbody>\n",
       "    <tr>\n",
       "      <th>&lt;lambda&gt;</th>\n",
       "      <td>33.119275</td>\n",
       "    </tr>\n",
       "    <tr>\n",
       "      <th>&lt;lambda&gt;</th>\n",
       "      <td>11.338005</td>\n",
       "    </tr>\n",
       "  </tbody>\n",
       "</table>\n",
       "</div>"
      ],
      "text/plain": [
       "           distance\n",
       "<lambda>  33.119275\n",
       "<lambda>  11.338005"
      ]
     },
     "execution_count": 327,
     "metadata": {},
     "output_type": "execute_result"
    }
   ],
   "source": [
    "all_points_gdf[['distance']].agg([lambda x: mean_squared_error(np.zeros(len(x)), x) ** 0.5,\n",
    "                    lambda x: mean_absolute_error(np.zeros(len(x)), x)])"
   ]
  },
  {
   "cell_type": "markdown",
   "metadata": {},
   "source": [
    "## SA Department of Environment and Water"
   ]
  },
  {
   "cell_type": "code",
   "execution_count": 59,
   "metadata": {},
   "outputs": [],
   "source": [
    "import math\n",
    "from pyproj import Transformer\n",
    "\n",
    "# Load data and set nodata values to NaN\n",
    "wide_df = pd.read_csv('input_data/sadew/200011.CSV', na_values=[-9999])\n",
    "\n",
    "# Reproject coords to Albers and create geodataframe\n",
    "trans = Transformer.from_crs(\"EPSG:28354\", \"EPSG:28356\", always_xy=True)\n",
    "wide_df['EASTING'], wide_df['NORTHING'] = trans.transform(\n",
    "    wide_df.EASTING.values, wide_df.NORTHING.values)\n",
    "\n",
    "# Reshape into long format with each observation on a new row\n",
    "profile_df = pd.melt(wide_df.drop('SAMPLE_NO', axis=1), \n",
    "                     id_vars=['EASTING', 'NORTHING', 'PROFILE'],\n",
    "                     value_name='elevation').dropna()\n",
    "\n",
    "# Set column names to lower case\n",
    "profile_df.columns = profile_df.columns.str.lower()\n",
    "\n",
    "# Extract date info\n",
    "profile_df['date'] = profile_df['variable'].str[1:].str.strip()\n",
    "profile_df['date'] = pd.to_datetime(profile_df['date'], format='%d%m%Y')\n",
    "\n",
    "# Restrict to post 1987\n",
    "profile_df = profile_df[(profile_df.date.dt.year > 1987)]\n",
    "\n",
    "# Add unique ID column\n",
    "profile_df['beach'] = 'sadew'\n",
    "profile_df['section'] = 'all'\n",
    "profile_df['profile'] = profile_df['profile'].astype(str)\n",
    "profile_df['site'] = profile_df[['beach', 'section', 'profile']].apply('_'.join, 1)\n",
    "profile_df['source'] = 'sadew'\n",
    "\n",
    "# Compute origin points for each profile\n",
    "profile_df = profile_df.assign(start_x=wide_df.iloc[0, 2], \n",
    "                               start_y=wide_df.iloc[0, 3],\n",
    "                               end_x=wide_df.iloc[-1, 2],\n",
    "                               end_y=wide_df.iloc[-1, 3])\n",
    "\n",
    "# Compute chainage\n",
    "profile_df['chainage'] = profile_df.apply(\n",
    "    lambda x: math.hypot(x.easting - x.start_x, x.northing - x.start_y), axis=1)"
   ]
  },
  {
   "cell_type": "code",
   "execution_count": 60,
   "metadata": {},
   "outputs": [],
   "source": [
    "# Find location and distance to water for datum height (0 m AHD)\n",
    "out = profile_df.groupby(['site', 'date']).apply(deacl_val.waterline_intercept, \n",
    "                                                  dist_col='chainage',\n",
    "                                                  x_col='easting', \n",
    "                                                  y_col='northing', \n",
    "                                                  z_col='elevation', \n",
    "                                                  z_val=0).dropna()\n",
    "\n",
    "# If the output contains data\n",
    "if len(out.index):\n",
    "\n",
    "    # Join into dataframe\n",
    "    shoreline_dist = out.join(\n",
    "        profile_df.groupby(['site', 'date']).first())\n",
    "\n",
    "    # Keep required columns\n",
    "    shoreline_dist = shoreline_dist[['beach', 'section', 'profile',  \n",
    "                                     'source', 'start_x', 'start_y', \n",
    "                                     'end_x', 'end_y', '0_dist', \n",
    "                                     '0_x', '0_y']]\n",
    "\n",
    "    # Export to file\n",
    "    shoreline_dist.to_csv(f'output_data/satest.csv')"
   ]
  },
  {
   "cell_type": "markdown",
   "metadata": {},
   "source": [
    "## Analysis\n",
    "To investigate:\n",
    "* [ ] Outlier in Bermagui (Horseshoe Bay)\n",
    "* [ ] Multiple outliers in Boambee Beach\n",
    "* [ ] Single remaining outlier in Bogangar to Kingscliff\n",
    "* [ ] **Cluster of outliers in Burgess Beach: caused by one year of channel profiles**\n",
    "* [ ] Sporadic outliers in Byron Bay\n",
    "* [ ] Two remaining outlier in Corindi Beach\n",
    "* [ ] **Major outliers at Crowdy Head**\n",
    "* [ ] **String of outliers in opposite direction at Cullendulla**\n",
    "* [ ] One remaining outlier at Diamond Beach\n",
    "* [ ] One remaining outlier at Eurobadalla Beaches North\n",
    "* [ ] **Cluster of outliers at Evans Head and Broadwater**\n",
    "* [ ] Two outliers in Fern Bay\n",
    "* [ ] **Extreme outliers at Flynn's Beach**\n",
    "* [ ] **Skewed result at Gerringong Harbour**\n",
    "* [ ] Outliers in Hargrave's Beach\n",
    "* [ ] Remaining outliers at Jimmy's Beach\n",
    "* [ ] **Remaining major outlier at Lake Illawarra**\n",
    "* [ ] **Outliers in Manly Beach**\n",
    "* [ ] Outliers at Mooney Beach\n",
    "* [ ] **Major issues with offset shorelines at Narrabeen/Collory**\n",
    "* [ ] **Outliers in opposite direction at Park's Beach**\n",
    "* [ ] Cluster of outliers at Patch's Beach\n",
    "* [ ] Port Hacking currently excluded from DEACL by estuary mask\n",
    "* [ ] **Weird line of points at Rainbow Beach**\n",
    "* [ ] **No relationship at Sandbar Beach**\n",
    "* [ ] One remaining outlier at Stuart's Point\n",
    "* [ ] **Several remaining outliers at Swansea Belmont**\n",
    "* [ ] **Cluster of outliers at The Entrance**\n",
    "* [ ] Single outlier at Warrain"
   ]
  },
  {
   "cell_type": "code",
   "execution_count": null,
   "metadata": {},
   "outputs": [
    {
     "name": "stdout",
     "output_type": "stream",
     "text": [
      "output_data/wa_test2.csv\r"
     ]
    }
   ],
   "source": [
    "val_paths = glob.glob('output_data/wa_test2.csv')\n",
    "# val_paths = ['output_data/cgc_surfers paradise.csv']\n",
    "deacl_path = '../packages/DEACoastLines_v0.2.0/DEACoastLines_coastlines_v0.2.0.shp'\n",
    "# deacl_path = '../DEACoastLines_coastlines_v0.2.0_0.20.shp'\n",
    "\n",
    "stats_list = []\n",
    "\n",
    "for val_path in val_paths:\n",
    "    \n",
    "    # Run analysis and close resulting figure\n",
    "    print(val_path, end='\\r')\n",
    "    output_stats = deacl_val.deacl_validation(val_path, \n",
    "                                              deacl_path,\n",
    "                                              datum=0,\n",
    "                                              sat_offset=0, \n",
    "                                              return_df=False,\n",
    "                                              eval_shapes=True)\n",
    "    # Close figure if plotting over 10\n",
    "    if len(stats_list) > 10: plt.close()\n",
    "    \n",
    "    # Append stats to list\n",
    "    stats_list.append(output_stats)\n",
    "    \n",
    "# Combine stats into a dataframe\n",
    "stats_df = pd.DataFrame([stats for stats in stats_list if stats])\n",
    "stats_df.head()\n"
   ]
  },
  {
   "cell_type": "code",
   "execution_count": 271,
   "metadata": {},
   "outputs": [],
   "source": [
    "val_path = val_paths[0]\n",
    "datum=0\n",
    "\n",
    "\n",
    "# Load validation data\n",
    "val_df = pd.read_csv(val_path, parse_dates=['date'])\n",
    "\n",
    "# Get title for plot\n",
    "title = val_df.beach.iloc[0].capitalize()\n",
    "\n",
    "# Get bounding box to load data for\n",
    "minx, maxy = val_df.min().loc[[f'{datum}_x', f'{datum}_y']]\n",
    "maxx, miny = val_df.max().loc[[f'{datum}_x', f'{datum}_y']]\n",
    "bbox = gpd.GeoSeries(box(minx, miny, maxx, maxy), crs='EPSG:3577')\n",
    "\n",
    "# Generate waterbody mask\n",
    "waterbody_gdf = deacl_val.waterbody_mask(\n",
    "    input_data='../input_data/SurfaceHydrologyPolygonsRegional.gdb',\n",
    "    modification_data='../input_data/estuary_mask_modifications.geojson',\n",
    "    bbox=bbox)\n",
    "\n",
    "# Buffer by 100m and test what points fall within buffer\n",
    "# TODO: simplify using pandas geographic indexing e.g. .ix\n",
    "buffered_mask = waterbody_gdf.buffer(100).unary_union\n",
    "in_buffer = val_df.apply(\n",
    "    lambda x: buffered_mask.contains(Point(x[f'{datum}_x'], \n",
    "                                           x[f'{datum}_y'])), axis=1)\n",
    "\n",
    "# Remove points that fall within buffer\n",
    "val_df = val_df.loc[~in_buffer]\n",
    "\n",
    "deacl_gdf = gpd.read_file(deacl_path, bbox=bbox.buffer(100)).to_crs('EPSG:3577')"
   ]
  },
  {
   "cell_type": "code",
   "execution_count": 272,
   "metadata": {},
   "outputs": [],
   "source": [
    "if len(deacl_gdf.index) > 0:\n",
    "\n",
    "    # Set year dtype to allow merging\n",
    "    deacl_gdf['year'] = deacl_gdf.year.astype('int64')\n",
    "\n",
    "    # Add year column\n",
    "    val_df['year'] = val_df.date.dt.year\n",
    "\n",
    "    # Aggregate by year and save count number and source\n",
    "    source = val_df.groupby(['year', 'site']).source.agg(lambda x: pd.Series.mode(x).iloc[0])\n",
    "    counts = val_df.groupby(['year', 'site']).date.count()\n",
    "    val_df = val_df.groupby(['year', 'site']).median()\n",
    "    val_df['n'] = counts\n",
    "    val_df['source'] = source\n",
    "    val_df = val_df.reset_index()"
   ]
  },
  {
   "cell_type": "code",
   "execution_count": 273,
   "metadata": {},
   "outputs": [
    {
     "data": {
      "text/html": [
       "<div>\n",
       "<style scoped>\n",
       "    .dataframe tbody tr th:only-of-type {\n",
       "        vertical-align: middle;\n",
       "    }\n",
       "\n",
       "    .dataframe tbody tr th {\n",
       "        vertical-align: top;\n",
       "    }\n",
       "\n",
       "    .dataframe thead th {\n",
       "        text-align: right;\n",
       "    }\n",
       "</style>\n",
       "<table border=\"1\" class=\"dataframe\">\n",
       "  <thead>\n",
       "    <tr style=\"text-align: right;\">\n",
       "      <th></th>\n",
       "      <th>year</th>\n",
       "      <th>site</th>\n",
       "      <th>start_x</th>\n",
       "      <th>start_y</th>\n",
       "      <th>end_x</th>\n",
       "      <th>end_y</th>\n",
       "      <th>0_dist</th>\n",
       "      <th>0_x</th>\n",
       "      <th>0_y</th>\n",
       "      <th>n</th>\n",
       "      <th>source</th>\n",
       "    </tr>\n",
       "  </thead>\n",
       "  <tbody>\n",
       "    <tr>\n",
       "      <th>0</th>\n",
       "      <td>1995</td>\n",
       "      <td>wa_0msl_test</td>\n",
       "      <td>-1.516183e+06</td>\n",
       "      <td>-3.617055e+06</td>\n",
       "      <td>-1.516305e+06</td>\n",
       "      <td>-3.617019e+06</td>\n",
       "      <td>136.396242</td>\n",
       "      <td>-1.516239e+06</td>\n",
       "      <td>-3.617048e+06</td>\n",
       "      <td>199</td>\n",
       "      <td>photogrammetry</td>\n",
       "    </tr>\n",
       "  </tbody>\n",
       "</table>\n",
       "</div>"
      ],
      "text/plain": [
       "   year          site       start_x       start_y         end_x         end_y  \\\n",
       "0  1995  wa_0msl_test -1.516183e+06 -3.617055e+06 -1.516305e+06 -3.617019e+06   \n",
       "\n",
       "       0_dist           0_x           0_y    n          source  \n",
       "0  136.396242 -1.516239e+06 -3.617048e+06  199  photogrammetry  "
      ]
     },
     "execution_count": 273,
     "metadata": {},
     "output_type": "execute_result"
    }
   ],
   "source": [
    "val_df"
   ]
  },
  {
   "cell_type": "code",
   "execution_count": null,
   "metadata": {},
   "outputs": [],
   "source": [
    "stats_df['cor'].plot.hist(bins=30, figsize=(10, 5))  #, range=(0, 100))"
   ]
  },
  {
   "cell_type": "code",
   "execution_count": null,
   "metadata": {},
   "outputs": [],
   "source": [
    "stats_df['rmse'].mean()"
   ]
  },
  {
   "cell_type": "markdown",
   "metadata": {},
   "source": [
    "## Testing NSWBPD"
   ]
  },
  {
   "cell_type": "code",
   "execution_count": null,
   "metadata": {},
   "outputs": [],
   "source": [
    "fname = 'input_data/nswbpd/photogrammetry_Xsections_Burril Lake and Racecourse Beach.csv'\n",
    "\n",
    "# Get output filename\n",
    "name = Path(fname).stem.split('_')[-1].lower().replace(' ', '')\n",
    "fname_out = f'output_data/nswbpd_{name}.csv'\n",
    "\n",
    "# Read in data\n",
    "print(f'Processing {fname_out}             ', end='\\r')            \n",
    "profiles_df = pd.read_csv(fname, skiprows=5)\n",
    "profiles_df['Year/Date'] = pd.to_datetime(profiles_df['Year/Date'],\n",
    "                                          dayfirst=True,\n",
    "                                          errors='coerce')\n",
    "\n",
    "# Restrict to post 1987\n",
    "profiles_df = profiles_df[profiles_df['Year/Date'] > '1987']\n",
    "\n",
    "# Convert columns to strings and add unique ID column\n",
    "profiles_df['Beach'] = profiles_df['Beach'].str.lower().str.replace(' ', '')\n",
    "profiles_df['Block'] = profiles_df['Block'].astype(str).str.lower()\n",
    "profiles_df['Profile'] = profiles_df['Profile'].astype(str).str.lower()\n",
    "profiles_df['site'] = profiles_df[['Beach', 'Block',\n",
    "                                   'Profile']].apply('_'.join, 1)\n",
    "\n",
    "# Rename columns\n",
    "profiles_df.columns = ['beach', 'section', 'profile', 'date', 'chainage', \n",
    "                       'elevation', 'easting', 'northing', 'source', 'site']\n",
    "\n",
    "# # Compute origin points for each profile\n",
    "# start_xy = profiles_df.loc[profiles_df.groupby(['site']).chainage.idxmin(), \n",
    "#                             ['site', 'easting', 'northing']]\n",
    "# start_xy = start_xy.rename({'easting': 'start_x', \n",
    "#                             'northing': 'start_y'}, axis=1)\n",
    "# start_xy = start_xy.reset_index(drop=True)\n",
    "\n",
    "# # Compute end points for each profile\n",
    "# end_xy = profiles_df.loc[profiles_df.groupby(['site']).chainage.idxmax(), \n",
    "#                          ['site', 'easting', 'northing']]\n",
    "# end_xy = end_xy.rename({'easting': 'end_x', \n",
    "#                         'northing': 'end_y'}, axis=1)\n",
    "# end_xy = end_xy.reset_index(drop=True)\n",
    "\n",
    "# # Join origin and end points into dataframe\n",
    "# profiles_df = pd.merge(left=profiles_df, right=start_xy)\n",
    "# profiles_df = pd.merge(left=profiles_df, right=end_xy)\n",
    "\n",
    "# # Find location and distance to water for datum height (0 m AHD)\n",
    "# out = profiles_df.groupby(['site', 'date']).apply(deacl_val.waterline_intercept, \n",
    "#                                                   dist_col='chainage',\n",
    "#                                                   x_col='easting', \n",
    "#                                                   y_col='northing', \n",
    "#                                                   z_col='elevation', \n",
    "#                                                   z_val=0).dropna()"
   ]
  },
  {
   "cell_type": "code",
   "execution_count": null,
   "metadata": {},
   "outputs": [],
   "source": [
    "profiles_sub = profiles_df[(profiles_df.site == 'burrillakeandracecoursebeach_1_5') & (profiles_df.date == '1993-05-14') ]  "
   ]
  },
  {
   "cell_type": "code",
   "execution_count": null,
   "metadata": {},
   "outputs": [],
   "source": [
    "burrillakeandracecoursebeach_1_5"
   ]
  },
  {
   "cell_type": "code",
   "execution_count": null,
   "metadata": {},
   "outputs": [],
   "source": [
    "to_vector(profiles_df, x='easting', y='northing', fname='test6.shp')"
   ]
  },
  {
   "cell_type": "markdown",
   "metadata": {},
   "source": [
    "## Testing GCC"
   ]
  },
  {
   "cell_type": "code",
   "execution_count": null,
   "metadata": {},
   "outputs": [],
   "source": [
    "results_df\n",
    "\n",
    "\n",
    "results_df[(results_df.site == 'broadbeach_eta_59') ]"
   ]
  },
  {
   "cell_type": "code",
   "execution_count": null,
   "metadata": {},
   "outputs": [],
   "source": []
  },
  {
   "cell_type": "code",
   "execution_count": null,
   "metadata": {},
   "outputs": [],
   "source": [
    "pd.read_csv(val_paths[0], parse_dates=['date'], index_col='site').loc['broadbeach_eta_58.50']"
   ]
  },
  {
   "cell_type": "code",
   "execution_count": null,
   "metadata": {},
   "outputs": [],
   "source": [
    " x.geometry_val.intersection(x.geometry_deacl)\n",
    "            .hausdorff_distance(Point(x.start_x, x.start_y)), axis=1)\n"
   ]
  },
  {
   "cell_type": "code",
   "execution_count": null,
   "metadata": {},
   "outputs": [],
   "source": [
    "gpd.GeoSeries(results_df.loc[results_df.site == 'broadbeach_eta_59'].iloc[0].geometry_val).plot()\n",
    "\n",
    "\n",
    "gpd.GeoSeries(results_df.loc[results_df.site == 'broadbeach_eta_59'].iloc[0].geometry_val.interpolate(219)).plot(ax=plt.gca())"
   ]
  },
  {
   "cell_type": "code",
   "execution_count": null,
   "metadata": {},
   "outputs": [],
   "source": [
    "results_df.loc[results_df.site == 'broadbeach_eta_59'].iloc[0].geometry_val.length"
   ]
  },
  {
   "cell_type": "code",
   "execution_count": null,
   "metadata": {},
   "outputs": [],
   "source": [
    "profile_i = '/g/data/r78/rt1527/dea-notebooks/MAHTS/validation/input_data/cityofgoldcoast/BROADBEACH - ETA 59 - (13474) 1996-06-05.txt'\n",
    "\n",
    "\n",
    "pd.read_csv(profile_i,\n",
    "                                 usecols=[1, 2, 3],\n",
    "                                 delim_whitespace=True, \n",
    "                                 names=['x', 'y', 'z']).plot.scatter(x='x', y='z')"
   ]
  },
  {
   "cell_type": "code",
   "execution_count": null,
   "metadata": {},
   "outputs": [],
   "source": [
    "profile_list "
   ]
  },
  {
   "cell_type": "code",
   "execution_count": null,
   "metadata": {},
   "outputs": [],
   "source": [
    "profile_list = glob.glob(f'input_data/cityofgoldcoast/SOUTH STRADBROKE - SSI 09 *.txt')\n",
    "\n",
    "# Output list to hold data\n",
    "site_profiles = []\n",
    "\n",
    "for profile_i in profile_list:\n",
    "\n",
    "    # Identify unique field values from file string\n",
    "    profile_string = os.path.basename(profile_i)\n",
    "\n",
    "    # Treat data file string differently depending on format\n",
    "    if len(profile_string.split(' - ')) > 3:\n",
    "        beach, section, profile, id_date = profile_string.split(' - ')            \n",
    "\n",
    "    else:\n",
    "        beach, section_profile, id_date = profile_string.split(' - ')\n",
    "\n",
    "        if len(section_profile.split(' ')) == 2:\n",
    "            section, profile = section_profile.split(' ')\n",
    "\n",
    "        else:\n",
    "            section, profile = 'none', section_profile\n",
    "\n",
    "    # If beach name is in the list of problematic names, replace\n",
    "    beach = manual_rename[beach] if beach in manual_rename.keys() else beach\n",
    "\n",
    "    # Remove any special characters from beach/section/profile names and create ID \n",
    "    profile_df = pd.read_csv(profile_i,\n",
    "                             usecols=[1, 2, 3],\n",
    "                             delim_whitespace=True, \n",
    "                             names=['x', 'y', 'z'])\n",
    "    profile_df['date'] = pd.to_datetime(id_date[-14:-4]) \n",
    "    profile_df['source'] = 'hydrographic survey'\n",
    "    profile_df['profile'] = profile.lower()\n",
    "    profile_df['section'] = section.lower()\n",
    "    profile_df['beach'] = beach.replace(' ', '').lower()\n",
    "    profile_df['site'] = profile_df[['beach', 'section', 'profile']].apply('_'.join, 1)\n",
    "\n",
    "    # Filter to drop pre-1987 and deep water samples, add to list if any \n",
    "    # data is available above 0 MSL\n",
    "    profile_df = profile_df[profile_df.z > -3.0]\n",
    "    profile_df = profile_df[profile_df.date > '1987']    \n",
    "    if profile_df.z.max() > 0:\n",
    "        site_profiles.append(profile_df)\n",
    "\n",
    "# Combine into a single dataframe\n",
    "profiles_df = pd.concat(site_profiles)\n",
    "\n",
    "# Compute origin and end points for each profile\n",
    "start_xy = profiles_df.groupby(['site'], as_index=False).first()[['site', 'x', 'y']]\n",
    "end_xy = profiles_df.groupby(['site'], as_index=False).last()[['site', 'x', 'y']]\n",
    "start_xy = start_xy.rename({'x': 'start_x', 'y': 'start_y'}, axis=1)\n",
    "end_xy = end_xy.rename({'x': 'end_x', 'y': 'end_y'}, axis=1)\n",
    "\n",
    "# Join origin and end points into dataframe\n",
    "profiles_df = pd.merge(left=profiles_df, right=start_xy)\n",
    "profiles_df = pd.merge(left=profiles_df, right=end_xy)\n",
    "\n",
    "# # Compute chainage\n",
    "# profiles_df['chainage'] = profiles_df.apply(\n",
    "#     lambda x: math.hypot(x.x - x.start_x, x.y - x.start_y), axis = 1)\n",
    "\n",
    "# # Find location and distance to water for datum height (0 m AHD)\n",
    "# out = profiles_df.groupby(['site', 'date']).apply(deacl_val.waterline_intercept, \n",
    "#                                                   dist_col='chainage',\n",
    "#                                                   x_col='x', \n",
    "#                                                   y_col='y', \n",
    "#                                                   z_col='z', \n",
    "#                                                   z_val=0).dropna()"
   ]
  },
  {
   "cell_type": "code",
   "execution_count": null,
   "metadata": {},
   "outputs": [],
   "source": [
    "profiles_subset = profiles_df.loc[profiles_df.date.dt.year == 2013]\n",
    "profiles_subset.plot(x='x', y='z')"
   ]
  },
  {
   "cell_type": "code",
   "execution_count": null,
   "metadata": {},
   "outputs": [],
   "source": [
    "to_vector(profiles_df.loc[profiles_df.date.dt.year == 2013], fname='test4.shp')\n",
    "\n",
    "\n",
    "\n",
    "    "
   ]
  },
  {
   "cell_type": "code",
   "execution_count": null,
   "metadata": {},
   "outputs": [],
   "source": []
  },
  {
   "cell_type": "code",
   "execution_count": null,
   "metadata": {},
   "outputs": [],
   "source": [
    "merge_test.groupby('year').median().reset_index().plot(x='year', y='DEA CoastLines beach width (m)')\n",
    "merge_test.groupby('year').median().reset_index().plot(x='year', y='Validation beach width (m)', ax=plt.gca())"
   ]
  },
  {
   "cell_type": "markdown",
   "metadata": {},
   "source": [
    "***\n",
    "\n",
    "## Additional information"
   ]
  },
  {
   "cell_type": "markdown",
   "metadata": {},
   "source": [
    "**License:** The code in this notebook is licensed under the [Apache License, Version 2.0](https://www.apache.org/licenses/LICENSE-2.0). \n",
    "Digital Earth Australia data is licensed under the [Creative Commons by Attribution 4.0](https://creativecommons.org/licenses/by/4.0/) license.\n",
    "\n",
    "**Contact:** If you need assistance, please post a question on the [Open Data Cube Slack channel](http://slack.opendatacube.org/) or on the [GIS Stack Exchange](https://gis.stackexchange.com/questions/ask?tags=open-data-cube) using the `open-data-cube` tag (you can view previously asked questions [here](https://gis.stackexchange.com/questions/tagged/open-data-cube)).\n",
    "If you would like to report an issue with this notebook, you can file one on [Github](https://github.com/GeoscienceAustralia/dea-notebooks).\n",
    "\n",
    "**Last modified:** May 2020"
   ]
  }
 ],
 "metadata": {
  "kernelspec": {
   "display_name": "Python 3",
   "language": "python",
   "name": "python3"
  },
  "language_info": {
   "codemirror_mode": {
    "name": "ipython",
    "version": 3
   },
   "file_extension": ".py",
   "mimetype": "text/x-python",
   "name": "python",
   "nbconvert_exporter": "python",
   "pygments_lexer": "ipython3",
   "version": "3.6.10"
  },
  "widgets": {
   "application/vnd.jupyter.widget-state+json": {
    "state": {},
    "version_major": 2,
    "version_minor": 0
   }
  }
 },
 "nbformat": 4,
 "nbformat_minor": 4
}
