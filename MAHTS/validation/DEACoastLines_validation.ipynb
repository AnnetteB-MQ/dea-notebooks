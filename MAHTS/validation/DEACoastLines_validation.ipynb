{
 "cells": [
  {
   "cell_type": "markdown",
   "metadata": {},
   "source": [
    "# DEA CoastLines validation"
   ]
  },
  {
   "cell_type": "markdown",
   "metadata": {},
   "source": [
    "## Load modules/functions\n"
   ]
  },
  {
   "cell_type": "code",
   "execution_count": 187,
   "metadata": {},
   "outputs": [],
   "source": [
    "import glob\n",
    "import pandas as pd\n",
    "import numpy as np\n",
    "import matplotlib.pyplot as plt\n",
    "\n",
    "\n",
    "def interp_intercept(x, y1, y2, reverse=True):\n",
    "    \"\"\"Find the intercept of two curves, given by the same x data\"\"\"\n",
    "    \n",
    "    def intercept(point1, point2, point3, point4):\n",
    "        \"\"\"find the intersection between two lines\n",
    "        the first line is defined by the line between point1 and point2\n",
    "        the first line is defined by the line between point3 and point4\n",
    "        each point is an (x,y) tuple.\n",
    "\n",
    "        So, for example, you can find the intersection between\n",
    "        intercept((0,0), (1,1), (0,1), (1,0)) = (0.5, 0.5)\n",
    "\n",
    "        Returns: the intercept, in (x,y) format\n",
    "        \"\"\"    \n",
    "\n",
    "        def line(p1, p2):\n",
    "            A = (p1[1] - p2[1])\n",
    "            B = (p2[0] - p1[0])\n",
    "            C = (p1[0]*p2[1] - p2[0]*p1[1])\n",
    "            return A, B, -C\n",
    "\n",
    "        def intersection(L1, L2):\n",
    "            D  = L1[0] * L2[1] - L1[1] * L2[0]\n",
    "            Dx = L1[2] * L2[1] - L1[1] * L2[2]\n",
    "            Dy = L1[0] * L2[2] - L1[2] * L2[0]\n",
    "\n",
    "            x = Dx / D\n",
    "            y = Dy / D\n",
    "            return x,y\n",
    "\n",
    "        L1 = line([point1[0],point1[1]], [point2[0],point2[1]])\n",
    "        L2 = line([point3[0],point3[1]], [point4[0],point4[1]])\n",
    "\n",
    "        R = intersection(L1, L2)\n",
    "\n",
    "        return R\n",
    "\n",
    "    try:\n",
    "        \n",
    "        if isinstance(y2, (int, float)):\n",
    "\n",
    "            y2 = np.array([y2] * len(x))\n",
    "\n",
    "        if reverse:\n",
    "\n",
    "            x = x[::-1]\n",
    "            y1 = y1[::-1]\n",
    "            y2 = y2[::-1]\n",
    "\n",
    "        idx = np.argwhere(np.diff(np.sign(y1 - y2)) != 0)\n",
    "        xc, yc = intercept((x[idx], y1[idx]),((x[idx+1], y1[idx+1])), \n",
    "                           ((x[idx], y2[idx])), ((x[idx+1], y2[idx+1])))\n",
    "\n",
    "        return xc[0][0]\n",
    "    \n",
    "    except: \n",
    "        \n",
    "        return np.nan"
   ]
  },
  {
   "cell_type": "markdown",
   "metadata": {},
   "source": [
    "## Pre-processing\n",
    "\n",
    "### NSW Beach Profile Database\n",
    "\n"
   ]
  },
  {
   "cell_type": "code",
   "execution_count": 201,
   "metadata": {},
   "outputs": [
    {
     "data": {
      "text/html": [
       "<div>\n",
       "<style scoped>\n",
       "    .dataframe tbody tr th:only-of-type {\n",
       "        vertical-align: middle;\n",
       "    }\n",
       "\n",
       "    .dataframe tbody tr th {\n",
       "        vertical-align: top;\n",
       "    }\n",
       "\n",
       "    .dataframe thead th {\n",
       "        text-align: right;\n",
       "    }\n",
       "</style>\n",
       "<table border=\"1\" class=\"dataframe\">\n",
       "  <thead>\n",
       "    <tr style=\"text-align: right;\">\n",
       "      <th></th>\n",
       "      <th>site</th>\n",
       "      <th>beach</th>\n",
       "      <th>section</th>\n",
       "      <th>profile</th>\n",
       "      <th>date</th>\n",
       "      <th>source</th>\n",
       "      <th>start_x</th>\n",
       "      <th>start_y</th>\n",
       "      <th>end_x</th>\n",
       "      <th>end_y</th>\n",
       "      <th>0_dist</th>\n",
       "      <th>0_x</th>\n",
       "      <th>0_y</th>\n",
       "    </tr>\n",
       "  </thead>\n",
       "  <tbody>\n",
       "    <tr>\n",
       "      <th>0</th>\n",
       "      <td>stockton_a_1</td>\n",
       "      <td>stockton</td>\n",
       "      <td>a</td>\n",
       "      <td>1</td>\n",
       "      <td>1991-08-11</td>\n",
       "      <td>Stereo photogrammtery</td>\n",
       "      <td>386897.94</td>\n",
       "      <td>6357305.07</td>\n",
       "      <td>387142.46</td>\n",
       "      <td>6357432.08</td>\n",
       "      <td>253.394807</td>\n",
       "      <td>387122.744020</td>\n",
       "      <td>6.357422e+06</td>\n",
       "    </tr>\n",
       "    <tr>\n",
       "      <th>1</th>\n",
       "      <td>stockton_a_1</td>\n",
       "      <td>stockton</td>\n",
       "      <td>a</td>\n",
       "      <td>1</td>\n",
       "      <td>1994-06-21</td>\n",
       "      <td>Stereo photogrammtery</td>\n",
       "      <td>386897.94</td>\n",
       "      <td>6357305.07</td>\n",
       "      <td>387142.46</td>\n",
       "      <td>6357432.08</td>\n",
       "      <td>253.605887</td>\n",
       "      <td>387122.939481</td>\n",
       "      <td>6.357422e+06</td>\n",
       "    </tr>\n",
       "    <tr>\n",
       "      <th>2</th>\n",
       "      <td>stockton_a_1</td>\n",
       "      <td>stockton</td>\n",
       "      <td>a</td>\n",
       "      <td>1</td>\n",
       "      <td>1996-12-01</td>\n",
       "      <td>Stereo photogrammtery</td>\n",
       "      <td>386897.94</td>\n",
       "      <td>6357305.07</td>\n",
       "      <td>387142.46</td>\n",
       "      <td>6357432.08</td>\n",
       "      <td>251.360833</td>\n",
       "      <td>387120.939015</td>\n",
       "      <td>6.357421e+06</td>\n",
       "    </tr>\n",
       "    <tr>\n",
       "      <th>3</th>\n",
       "      <td>stockton_a_1</td>\n",
       "      <td>stockton</td>\n",
       "      <td>a</td>\n",
       "      <td>1</td>\n",
       "      <td>1999-09-19</td>\n",
       "      <td>Stereo photogrammtery</td>\n",
       "      <td>386897.94</td>\n",
       "      <td>6357305.07</td>\n",
       "      <td>387142.46</td>\n",
       "      <td>6357432.08</td>\n",
       "      <td>256.948318</td>\n",
       "      <td>387125.897131</td>\n",
       "      <td>6.357423e+06</td>\n",
       "    </tr>\n",
       "    <tr>\n",
       "      <th>4</th>\n",
       "      <td>stockton_a_1</td>\n",
       "      <td>stockton</td>\n",
       "      <td>a</td>\n",
       "      <td>1</td>\n",
       "      <td>2001-01-03</td>\n",
       "      <td>Stereo photogrammtery</td>\n",
       "      <td>386897.94</td>\n",
       "      <td>6357305.07</td>\n",
       "      <td>387142.46</td>\n",
       "      <td>6357432.08</td>\n",
       "      <td>257.812178</td>\n",
       "      <td>387126.673135</td>\n",
       "      <td>6.357424e+06</td>\n",
       "    </tr>\n",
       "  </tbody>\n",
       "</table>\n",
       "</div>"
      ],
      "text/plain": [
       "           site     beach section profile       date                 source  \\\n",
       "0  stockton_a_1  stockton       a       1 1991-08-11  Stereo photogrammtery   \n",
       "1  stockton_a_1  stockton       a       1 1994-06-21  Stereo photogrammtery   \n",
       "2  stockton_a_1  stockton       a       1 1996-12-01  Stereo photogrammtery   \n",
       "3  stockton_a_1  stockton       a       1 1999-09-19  Stereo photogrammtery   \n",
       "4  stockton_a_1  stockton       a       1 2001-01-03  Stereo photogrammtery   \n",
       "\n",
       "     start_x     start_y      end_x       end_y      0_dist            0_x  \\\n",
       "0  386897.94  6357305.07  387142.46  6357432.08  253.394807  387122.744020   \n",
       "1  386897.94  6357305.07  387142.46  6357432.08  253.605887  387122.939481   \n",
       "2  386897.94  6357305.07  387142.46  6357432.08  251.360833  387120.939015   \n",
       "3  386897.94  6357305.07  387142.46  6357432.08  256.948318  387125.897131   \n",
       "4  386897.94  6357305.07  387142.46  6357432.08  257.812178  387126.673135   \n",
       "\n",
       "            0_y  \n",
       "0  6.357422e+06  \n",
       "1  6.357422e+06  \n",
       "2  6.357421e+06  \n",
       "3  6.357423e+06  \n",
       "4  6.357424e+06  "
      ]
     },
     "execution_count": 201,
     "metadata": {},
     "output_type": "execute_result"
    }
   ],
   "source": [
    "# Select file\n",
    "fname = glob.glob('/g/data/r78/rt1527/dea-notebooks/MAHTS/validation/input_data/nswbpd/*.csv')[34]\n",
    "\n",
    "# Read in data\n",
    "profiles_df = pd.read_csv(fname, skiprows=5)\n",
    "profiles_df['Year/Date'] = pd.to_datetime(profiles_df['Year/Date'],\n",
    "                                          dayfirst=True,\n",
    "                                          errors='coerce')\n",
    "\n",
    "# Restrict to post 1987\n",
    "profiles_df = profiles_df[profiles_df['Year/Date'] > '1987']\n",
    "\n",
    "# Convert columns to strings and add unique ID column\n",
    "profiles_df['Beach'] = profiles_df['Beach'].str.lower().str.replace(' ', '')\n",
    "profiles_df['Block'] = profiles_df['Block'].astype(str).str.lower()\n",
    "profiles_df['Profile'] = profiles_df['Profile'].astype(str).str.lower()\n",
    "profiles_df['site'] = profiles_df[['Beach', 'Block',\n",
    "                                   'Profile']].apply('_'.join, 1)\n",
    "\n",
    "# Rename columns\n",
    "profiles_df.columns = ['beach', 'section', 'profile', 'date', 'chainage', \n",
    "                       'elevation', 'easting', 'northing', 'source', 'site']\n",
    "\n",
    "# Compute origin points for each profile\n",
    "start_xy = profiles_df.loc[profiles_df.groupby(['site']).chainage.idxmin(), \n",
    "                            ['site', 'easting', 'northing']]\n",
    "start_xy = start_xy.rename({'easting': 'start_x', 'northing': 'start_y'}, axis=1)\n",
    "start_xy = start_xy.reset_index(drop=True)\n",
    "\n",
    "# Compute end points for each profile\n",
    "end_xy = profiles_df.loc[profiles_df.groupby(['site']).chainage.idxmax(), \n",
    "                         ['site', 'easting', 'northing']]\n",
    "end_xy = end_xy.rename({'easting': 'end_x', 'northing': 'end_y'}, axis=1)\n",
    "end_xy = end_xy.reset_index(drop=True)\n",
    "\n",
    "# Join origin and end points into dataframe\n",
    "profiles_df = pd.merge(left=profiles_df, right=start_xy)\n",
    "profiles_df = pd.merge(left=profiles_df, right=end_xy)\n",
    "\n",
    "# Find location and distance to water for datum height (0 m AHD)\n",
    "out = (profiles_df.groupby(['site', 'date']).apply(lambda x: pd.Series({\n",
    "          '0_dist': interp_intercept(x.chainage.values, x.elevation.values, 0),\n",
    "          '0_x': interp_intercept(x.easting.values, x.elevation.values, 0,),\n",
    "          '0_y': interp_intercept(x.northing.values, x.elevation.values, 0)})))\n",
    "\n",
    "# Join into dataframe\n",
    "shoreline_dist = profiles_df.groupby(['site', 'date']).first().join(out)\n",
    "\n",
    "# Drop null rows and keep required columns\n",
    "shoreline_dist = shoreline_dist.reset_index().dropna()\n",
    "shoreline_dist = shoreline_dist[['site', 'beach', 'section', 'profile', 'date', \n",
    "                                 'source', 'start_x', 'start_y', 'end_x', \n",
    "                                 'end_y', '0_dist', '0_x', '0_y']]\n",
    "\n",
    "# Export to file\n",
    "shoreline_dist.to_csv(f'output_data/nswbpd_{shoreline_dist.beach.iloc[0]}.csv', index=False)\n",
    "\n",
    "# Print output\n",
    "shoreline_dist.head()"
   ]
  },
  {
   "cell_type": "markdown",
   "metadata": {},
   "source": [
    "## Analysis"
   ]
  },
  {
   "cell_type": "code",
   "execution_count": 234,
   "metadata": {},
   "outputs": [
    {
     "data": {
      "text/plain": [
       "<matplotlib.axes._subplots.AxesSubplot at 0x7ff0a1fed7b8>"
      ]
     },
     "execution_count": 234,
     "metadata": {},
     "output_type": "execute_result"
    },
    {
     "data": {
      "image/png": "[encoded data removed]",
      "text/plain": [
       "<Figure size 432x288 with 1 Axes>"
      ]
     },
     "metadata": {
      "needs_background": "light"
     },
     "output_type": "display_data"
    }
   ],
   "source": [
    "from shapely.geometry import box\n",
    "import geopandas as gpd\n",
    "\n",
    "# Load validation data\n",
    "shoreline_dist = pd.read_csv(f'output_data/nswbpd_stockton.csv', parse_dates=['date'])\n",
    "\n",
    "# Get bounding box to load data for\n",
    "minx, maxy = shoreline_dist.min().loc[['0_x', '0_y']]\n",
    "maxx, miny = shoreline_dist.max().loc[['0_x', '0_y']]\n",
    "bbox = gpd.GeoSeries(box(minx, miny, maxx, maxy), crs='EPSG:28356')\n",
    "\n",
    "# Import corresponding waterline contours\n",
    "contours_gdf = gpd.read_file(f'../packages/DEACoastLines_v0.2.0/DEACoastLines_coastlines_v0.2.0.shp', \n",
    "                             bbox=bbox).to_crs(epsg=28356) \n",
    "contours_gdf['year'] = contours_gdf.year.astype('int64')\n",
    "\n",
    "# Plot data\n",
    "contours_gdf.plot()\n",
    "test.plot(ax=plt.gca(), c='orange')"
   ]
  },
  {
   "cell_type": "code",
   "execution_count": 233,
   "metadata": {},
   "outputs": [
    {
     "data": {
      "text/plain": [
       "0     1988\n",
       "1     1989\n",
       "2     1990\n",
       "3     1991\n",
       "4     1992\n",
       "5     1993\n",
       "6     1994\n",
       "7     1995\n",
       "8     1996\n",
       "9     1997\n",
       "10    1998\n",
       "11    1999\n",
       "12    2000\n",
       "13    2001\n",
       "14    2002\n",
       "15    2003\n",
       "16    2004\n",
       "17    2005\n",
       "18    2006\n",
       "19    2007\n",
       "20    2008\n",
       "21    2009\n",
       "22    2010\n",
       "23    2011\n",
       "24    2012\n",
       "25    2013\n",
       "26    2014\n",
       "27    2015\n",
       "28    2016\n",
       "29    2017\n",
       "30    2018\n",
       "Name: year, dtype: int64"
      ]
     },
     "execution_count": 233,
     "metadata": {},
     "output_type": "execute_result"
    }
   ],
   "source": []
  },
  {
   "cell_type": "code",
   "execution_count": 217,
   "metadata": {
    "jupyter": {
     "source_hidden": true
    }
   },
   "outputs": [],
   "source": [
    "# test = gpd.GeoDataFrame(data=shoreline_dist, \n",
    "#                  geometry=gpd.points_from_xy(x=shoreline_dist['0_x'], y=shoreline_dist['0_y']),\n",
    "#                  crs='EPSG:28356')\n",
    "# bbox.to_file('test_bbox.shp')\n",
    "# test.to_file('test.shp')"
   ]
  },
  {
   "cell_type": "code",
   "execution_count": 235,
   "metadata": {},
   "outputs": [],
   "source": [
    "# Add year column\n",
    "shoreline_dist['year'] = shoreline_dist.date.dt.year\n",
    "\n",
    "# Aggregate by year and save count number\n",
    "counts = shoreline_dist.groupby(['year', 'site']).count().date\n",
    "shoreline_dist = shoreline_dist.groupby(['year', 'site']).median()\n",
    "shoreline_dist['n'] = counts\n",
    "shoreline_dist = shoreline_dist.reset_index()"
   ]
  },
  {
   "cell_type": "code",
   "execution_count": 236,
   "metadata": {},
   "outputs": [],
   "source": [
    "from shapely.geometry import Point, LineString\n",
    "\n",
    "shoreline_geometry = shoreline_dist.apply(lambda x: \n",
    "                                           LineString([Point(x.start_x, x.start_y), \n",
    "                                                       Point(x.end_x, x.end_y)]), axis=1)\n",
    "\n",
    "shoreline_gdf = gpd.GeoDataFrame(shoreline_dist, \n",
    "                                 geometry=shoreline_geometry, \n",
    "                                 crs='EPSG:28356').reset_index()\n",
    "# shoreline_gdf.to_file('transects.shp')\n"
   ]
  },
  {
   "cell_type": "code",
   "execution_count": 251,
   "metadata": {},
   "outputs": [],
   "source": [
    "# Combine to match each shoreline contour to each date in validation data\n",
    "merge_test = shoreline_gdf.merge(contours_gdf, on='year', suffixes=('_val', '_deacl'))"
   ]
  },
  {
   "cell_type": "code",
   "execution_count": 252,
   "metadata": {},
   "outputs": [],
   "source": [
    "# For each row, compute distance between origin and location where profile intersects with waterline contour\n",
    "merge_test['Landsat beach width (m)'] = merge_test.apply(lambda x: x.geometry_val.intersection(x.geometry_deacl).hausdorff_distance(Point(x.start_x, x.start_y)), axis=1)\n",
    "merge_test = merge_test.rename({'0_dist': 'Validation beach width (m)'}, axis=1)\n",
    "merge_test = merge_test[merge_test['Landsat beach width (m)'] > 0]\n",
    "merge_test = merge_test[merge_test['Validation beach width (m)'] > 0]"
   ]
  },
  {
   "cell_type": "code",
   "execution_count": 249,
   "metadata": {},
   "outputs": [
    {
     "ename": "NameError",
     "evalue": "name 'collection' is not defined",
     "output_type": "error",
     "traceback": [
      "\u001b[0;31m---------------------------------------------------------------------------\u001b[0m",
      "\u001b[0;31mNameError\u001b[0m                                 Traceback (most recent call last)",
      "\u001b[0;32m<ipython-input-249-06cbd30c2b85>\u001b[0m in \u001b[0;36m<module>\u001b[0;34m\u001b[0m\n\u001b[1;32m     10\u001b[0m                                                                                    c=merge_test.year, s=10, cmap='viridis_r', figsize=(8, 8))  \n\u001b[1;32m     11\u001b[0m \u001b[0mplt\u001b[0m\u001b[0;34m.\u001b[0m\u001b[0mplot\u001b[0m\u001b[0;34m(\u001b[0m\u001b[0mnp\u001b[0m\u001b[0;34m.\u001b[0m\u001b[0mlinspace\u001b[0m\u001b[0;34m(\u001b[0m\u001b[0;36m0\u001b[0m\u001b[0;34m,\u001b[0m \u001b[0mdist_lim\u001b[0m\u001b[0;34m)\u001b[0m\u001b[0;34m,\u001b[0m \u001b[0mnp\u001b[0m\u001b[0;34m.\u001b[0m\u001b[0mlinspace\u001b[0m\u001b[0;34m(\u001b[0m\u001b[0;36m0\u001b[0m\u001b[0;34m,\u001b[0m \u001b[0mdist_lim\u001b[0m\u001b[0;34m)\u001b[0m\u001b[0;34m,\u001b[0m \u001b[0;34m'black'\u001b[0m\u001b[0;34m,\u001b[0m \u001b[0mlinestyle\u001b[0m\u001b[0;34m=\u001b[0m\u001b[0;34m'dashed'\u001b[0m\u001b[0;34m)\u001b[0m\u001b[0;34m\u001b[0m\u001b[0;34m\u001b[0m\u001b[0m\n\u001b[0;32m---> 12\u001b[0;31m \u001b[0mplt\u001b[0m\u001b[0;34m.\u001b[0m\u001b[0mtitle\u001b[0m\u001b[0;34m(\u001b[0m\u001b[0;34mf'{collection}, {metric} = {metric_thresh} \\nRMSE: {rmse} m\\nCorrelation: {cor}'\u001b[0m\u001b[0;34m)\u001b[0m\u001b[0;34m\u001b[0m\u001b[0;34m\u001b[0m\u001b[0m\n\u001b[0m\u001b[1;32m     13\u001b[0m \u001b[0;31m# plt.savefig(f\"{site}_{collection.lower().replace(' ', '')}_{metric}_{metric_thresh}.png\")\u001b[0m\u001b[0;34m\u001b[0m\u001b[0;34m\u001b[0m\u001b[0;34m\u001b[0m\u001b[0m\n",
      "\u001b[0;31mNameError\u001b[0m: name 'collection' is not defined"
     ]
    },
    {
     "data": {
      "image/png": "[encoded data removed]",
      "text/plain": [
       "<Figure size 576x576 with 2 Axes>"
      ]
     },
     "metadata": {
      "needs_background": "light"
     },
     "output_type": "display_data"
    }
   ],
   "source": [
    "from sklearn.metrics import mean_squared_error\n",
    "\n",
    "# # Plot\n",
    "# # merge_test['Landsat beach width (m)'] = merge_test['Landsat beach width (m)'] + 25\n",
    "# rmse = np.round(mean_squared_error(merge_test['Validation beach width (m)'], merge_test['Landsat beach width (m)'])**0.5, 2)\n",
    "# cor = np.round(merge_test[['Validation beach width (m)', 'Landsat beach width (m)']].corr().iloc[0, 1], 2)\n",
    "# dist_lim = merge_test[['Validation beach width (m)', 'Landsat beach width (m)']].max(axis=0).max()\n",
    "# merge_test[['Validation beach width (m)', 'Landsat beach width (m)']].plot.scatter(x='Validation beach width (m)', \n",
    "#                                                                                    y='Landsat beach width (m)', \n",
    "#                                                                                    c=merge_test.year, s=10, cmap='viridis_r', figsize=(8, 8))  \n",
    "# plt.plot(np.linspace(0, dist_lim), np.linspace(0, dist_lim), 'black', linestyle='dashed')\n",
    "# plt.title(f'{collection}, {metric} = {metric_thresh} \\nRMSE: {rmse} m\\nCorrelation: {cor}')\n",
    "# # plt.savefig(f\"{site}_{collection.lower().replace(' ', '')}_{metric}_{metric_thresh}.png\")"
   ]
  },
  {
   "cell_type": "code",
   "execution_count": null,
   "metadata": {},
   "outputs": [],
   "source": [
    "\n",
    "\n",
    "# Create geometry for shoreline transects\n",
    "# shoreline_ahd0_geometry  = shoreline_ahd0.apply(lambda x: LineString([Point(x.origin_x, x.origin_y), Point(x.end_x, x.end_y)]), axis = 1)\n",
    "shoreline_ahd0_geometry  = shoreline_ahd0.apply(lambda x: LineString([Point(x.foredune_x, x.foredune_y), \n",
    "                                                                      Point(x.end_x, x.end_y)]), axis = 1)\n",
    "shoreline_ahd0_gdf = gpd.GeoDataFrame(shoreline_ahd0, geometry=shoreline_ahd0_geometry).reset_index()\n",
    "shoreline_ahd0_gdf.crs = 'EPSG:28356'\n",
    "\n",
    "# Combine to match each shoreline contour to each date in validation data\n",
    "merge_test = shoreline_ahd0_gdf.merge(contours_gdf, on='year')\n",
    "\n",
    "# For each row, compute distance between origin and location where profile intersects with waterline contour\n",
    "merge_test['Landsat beach width (m)'] = merge_test.apply(lambda x: x.geometry_x.intersection(x.geometry_y).hausdorff_distance(Point(x.origin_x, x.origin_y)), axis=1)\n",
    "merge_test = merge_test.rename({'ahd0.5_dist': 'Validation beach width (m)'}, axis=1)\n",
    "merge_test = merge_test[merge_test['Landsat beach width (m)'] > 0]\n",
    "merge_test = merge_test[merge_test['Validation beach width (m)'] > 0]\n",
    "\n",
    "# Optional adjustment for tides\n",
    "# merge_test['Landsat beach width (m)'] = merge_test['Landsat beach width (m)'] + merge_test['adj_0.10'] \n",
    "\n",
    "# Compute difference\n",
    "merge_test['Difference'] = merge_test['Validation beach width (m)'] - merge_test['Landsat beach width (m)'] \n",
    "\n",
    "merge_test = merge_test[merge_test['Landsat beach width (m)'] < 200]\n",
    "merge_test = merge_test[merge_test['Validation beach width (m)'] < 200]\n",
    "merge_test = merge_test[merge_test.n > 0]\n",
    "merge_test.head()\n",
    "\n",
    "\n",
    "# Plot\n",
    "# merge_test['Landsat beach width (m)'] = merge_test['Landsat beach width (m)'] + 25\n",
    "rmse = np.round(mean_squared_error(merge_test['Validation beach width (m)'], merge_test['Landsat beach width (m)'])**0.5, 2)\n",
    "cor = np.round(merge_test[['Validation beach width (m)', 'Landsat beach width (m)']].corr().iloc[0, 1], 2)\n",
    "dist_lim = merge_test[['Validation beach width (m)', 'Landsat beach width (m)']].max(axis=0).max()\n",
    "merge_test[['Validation beach width (m)', 'Landsat beach width (m)']].plot.scatter(x='Validation beach width (m)', \n",
    "                                                                                   y='Landsat beach width (m)', \n",
    "                                                                                   c=merge_test.year, s=10, cmap='viridis_r', figsize=(8, 8))  \n",
    "plt.plot(np.linspace(0, dist_lim), np.linspace(0, dist_lim), 'black', linestyle='dashed')\n",
    "plt.title(f'{collection}, {metric} = {metric_thresh} \\nRMSE: {rmse} m\\nCorrelation: {cor}')\n",
    "plt.savefig(f\"{site}_{collection.lower().replace(' ', '')}_{metric}_{metric_thresh}.png\")"
   ]
  },
  {
   "cell_type": "markdown",
   "metadata": {},
   "source": [
    "***\n",
    "\n",
    "## Additional information"
   ]
  },
  {
   "cell_type": "markdown",
   "metadata": {},
   "source": [
    "**License:** The code in this notebook is licensed under the [Apache License, Version 2.0](https://www.apache.org/licenses/LICENSE-2.0). \n",
    "Digital Earth Australia data is licensed under the [Creative Commons by Attribution 4.0](https://creativecommons.org/licenses/by/4.0/) license.\n",
    "\n",
    "**Contact:** If you need assistance, please post a question on the [Open Data Cube Slack channel](http://slack.opendatacube.org/) or on the [GIS Stack Exchange](https://gis.stackexchange.com/questions/ask?tags=open-data-cube) using the `open-data-cube` tag (you can view previously asked questions [here](https://gis.stackexchange.com/questions/tagged/open-data-cube)).\n",
    "If you would like to report an issue with this notebook, you can file one on [Github](https://github.com/GeoscienceAustralia/dea-notebooks).\n",
    "\n",
    "**Last modified:** March 2020"
   ]
  }
 ],
 "metadata": {
  "kernelspec": {
   "display_name": "Python 3",
   "language": "python",
   "name": "python3"
  },
  "language_info": {
   "codemirror_mode": {
    "name": "ipython",
    "version": 3
   },
   "file_extension": ".py",
   "mimetype": "text/x-python",
   "name": "python",
   "nbconvert_exporter": "python",
   "pygments_lexer": "ipython3",
   "version": "3.6.10"
  },
  "widgets": {
   "application/vnd.jupyter.widget-state+json": {
    "state": {},
    "version_major": 2,
    "version_minor": 0
   }
  }
 },
 "nbformat": 4,
 "nbformat_minor": 4
}
