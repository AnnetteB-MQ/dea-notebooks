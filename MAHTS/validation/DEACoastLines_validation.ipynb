{
 "cells": [
  {
   "cell_type": "markdown",
   "metadata": {},
   "source": [
    "# DEA CoastLines validation\n",
    "\n",
    "To do:\n",
    "* [ ] Change output CRS to Australian Albers"
   ]
  },
  {
   "cell_type": "code",
   "execution_count": 24,
   "metadata": {},
   "outputs": [],
   "source": [
    "# import xarray as xr\n",
    "# from shapely.geometry import Point, LineString\n"
   ]
  },
  {
   "cell_type": "markdown",
   "metadata": {},
   "source": [
    "## Load modules/functions\n"
   ]
  },
  {
   "cell_type": "code",
   "execution_count": 66,
   "metadata": {},
   "outputs": [
    {
     "name": "stdout",
     "output_type": "stream",
     "text": [
      "The line_profiler extension is already loaded. To reload it, use:\n",
      "  %reload_ext line_profiler\n",
      "The autoreload extension is already loaded. To reload it, use:\n",
      "  %reload_ext autoreload\n"
     ]
    }
   ],
   "source": [
    "%matplotlib inline\n",
    "%load_ext line_profiler\n",
    "%load_ext autoreload\n",
    "%autoreload 2\n",
    "\n",
    "import glob\n",
    "import matplotlib.pyplot as plt\n",
    "\n",
    "import pandas as pd\n",
    "import numpy as np\n",
    "from shapely.geometry import box\n",
    "import geopandas as gpd\n",
    "\n",
    "import deacoastlines_validation as deacl_val\n",
    "\n",
    "import sys\n",
    "sys.path.append(\"/g/data/r78/rt1527/dea-notebooks/MAHTS/\")\n",
    "import deacoastlines_statistics as deacl_stats\n",
    "\n",
    "def to_vector(df, fname='test.shp', x='x', y='y', crs='EPSG:28356'):\n",
    "    \n",
    "    # Convert datetimes to strings\n",
    "    is_datetime = df.dtypes == 'datetime64[ns]'\n",
    "    df.loc[:, is_datetime] = df.loc[:, is_datetime].astype(str) \n",
    "    \n",
    "    # Export to file\n",
    "    gpd.GeoDataFrame(data=df.loc[:, df.dtypes != 'datetime64[ns]'],\n",
    "                     geometry=gpd.points_from_xy(x=df[x], y=df[y]),\n",
    "                     crs=crs).to_file(fname)"
   ]
  },
  {
   "cell_type": "markdown",
   "metadata": {},
   "source": [
    "## Pre-processing\n"
   ]
  },
  {
   "cell_type": "markdown",
   "metadata": {},
   "source": [
    "### WRL Narrabeen \n",
    "* [X] Renovated"
   ]
  },
  {
   "cell_type": "code",
   "execution_count": 99,
   "metadata": {},
   "outputs": [
    {
     "name": "stdout",
     "output_type": "stream",
     "text": [
      "Processing output_data/wrl_narrabeen.csv                                                   \r"
     ]
    }
   ],
   "source": [
    "deacl_val.preprocess_narrabeen(fname='input_data/wrl/Narrabeen_Profiles_2018.csv',\n",
    "                               overwrite=True)\n"
   ]
  },
  {
   "cell_type": "markdown",
   "metadata": {},
   "source": [
    "### NSW Beach Profile Database\n",
    "* [X] Renovated"
   ]
  },
  {
   "cell_type": "code",
   "execution_count": 108,
   "metadata": {},
   "outputs": [
    {
     "name": "stdout",
     "output_type": "stream",
     "text": [
      "Processing output_data/nswbpd_stockton.csv                                                 \r"
     ]
    }
   ],
   "source": [
    "for fname in glob.glob('input_data/nswbpd/*Stockton*.csv'):\n",
    "    profiles_df = deacl_val.preprocess_nswbpd(fname, datum=0, overwrite=True)     \n"
   ]
  },
  {
   "cell_type": "code",
   "execution_count": 107,
   "metadata": {},
   "outputs": [
    {
     "data": {
      "text/html": [
       "<div>\n",
       "<style scoped>\n",
       "    .dataframe tbody tr th:only-of-type {\n",
       "        vertical-align: middle;\n",
       "    }\n",
       "\n",
       "    .dataframe tbody tr th {\n",
       "        vertical-align: top;\n",
       "    }\n",
       "\n",
       "    .dataframe thead th {\n",
       "        text-align: right;\n",
       "    }\n",
       "</style>\n",
       "<table border=\"1\" class=\"dataframe\">\n",
       "  <thead>\n",
       "    <tr style=\"text-align: right;\">\n",
       "      <th></th>\n",
       "      <th>Beach</th>\n",
       "      <th>Block</th>\n",
       "      <th>Profile</th>\n",
       "      <th>Year/Date</th>\n",
       "      <th>Chainage</th>\n",
       "      <th>Elevation</th>\n",
       "      <th>Easting</th>\n",
       "      <th>Northing</th>\n",
       "      <th>Survey Type</th>\n",
       "    </tr>\n",
       "  </thead>\n",
       "  <tbody>\n",
       "    <tr>\n",
       "      <th>44</th>\n",
       "      <td>Stockton</td>\n",
       "      <td>A</td>\n",
       "      <td>1</td>\n",
       "      <td>1991-08-11</td>\n",
       "      <td>0.000</td>\n",
       "      <td>0.017</td>\n",
       "      <td>386897.94</td>\n",
       "      <td>6357305.07</td>\n",
       "      <td>Stereo photogrammtery</td>\n",
       "    </tr>\n",
       "    <tr>\n",
       "      <th>45</th>\n",
       "      <td>Stockton</td>\n",
       "      <td>A</td>\n",
       "      <td>1</td>\n",
       "      <td>1991-08-11</td>\n",
       "      <td>215.414</td>\n",
       "      <td>0.017</td>\n",
       "      <td>387089.05</td>\n",
       "      <td>6357404.34</td>\n",
       "      <td>Stereo photogrammtery</td>\n",
       "    </tr>\n",
       "    <tr>\n",
       "      <th>46</th>\n",
       "      <td>Stockton</td>\n",
       "      <td>A</td>\n",
       "      <td>1</td>\n",
       "      <td>1991-08-11</td>\n",
       "      <td>229.195</td>\n",
       "      <td>3.966</td>\n",
       "      <td>387101.28</td>\n",
       "      <td>6357410.69</td>\n",
       "      <td>Stereo photogrammtery</td>\n",
       "    </tr>\n",
       "    <tr>\n",
       "      <th>47</th>\n",
       "      <td>Stockton</td>\n",
       "      <td>A</td>\n",
       "      <td>1</td>\n",
       "      <td>1991-08-11</td>\n",
       "      <td>238.574</td>\n",
       "      <td>3.784</td>\n",
       "      <td>387109.60</td>\n",
       "      <td>6357415.01</td>\n",
       "      <td>Stereo photogrammtery</td>\n",
       "    </tr>\n",
       "    <tr>\n",
       "      <th>48</th>\n",
       "      <td>Stockton</td>\n",
       "      <td>A</td>\n",
       "      <td>1</td>\n",
       "      <td>1991-08-11</td>\n",
       "      <td>246.498</td>\n",
       "      <td>1.710</td>\n",
       "      <td>387116.63</td>\n",
       "      <td>6357418.66</td>\n",
       "      <td>Stereo photogrammtery</td>\n",
       "    </tr>\n",
       "    <tr>\n",
       "      <th>...</th>\n",
       "      <td>...</td>\n",
       "      <td>...</td>\n",
       "      <td>...</td>\n",
       "      <td>...</td>\n",
       "      <td>...</td>\n",
       "      <td>...</td>\n",
       "      <td>...</td>\n",
       "      <td>...</td>\n",
       "      <td>...</td>\n",
       "    </tr>\n",
       "    <tr>\n",
       "      <th>62555</th>\n",
       "      <td>Stockton</td>\n",
       "      <td>C</td>\n",
       "      <td>18</td>\n",
       "      <td>2018-08-03</td>\n",
       "      <td>145.094</td>\n",
       "      <td>0.630</td>\n",
       "      <td>387023.60</td>\n",
       "      <td>6359693.78</td>\n",
       "      <td>LiDar</td>\n",
       "    </tr>\n",
       "    <tr>\n",
       "      <th>62556</th>\n",
       "      <td>Stockton</td>\n",
       "      <td>C</td>\n",
       "      <td>18</td>\n",
       "      <td>2018-08-03</td>\n",
       "      <td>145.538</td>\n",
       "      <td>0.618</td>\n",
       "      <td>387024.01</td>\n",
       "      <td>6359693.61</td>\n",
       "      <td>LiDar</td>\n",
       "    </tr>\n",
       "    <tr>\n",
       "      <th>62557</th>\n",
       "      <td>Stockton</td>\n",
       "      <td>C</td>\n",
       "      <td>18</td>\n",
       "      <td>2018-08-03</td>\n",
       "      <td>145.957</td>\n",
       "      <td>0.611</td>\n",
       "      <td>387024.40</td>\n",
       "      <td>6359693.45</td>\n",
       "      <td>LiDar</td>\n",
       "    </tr>\n",
       "    <tr>\n",
       "      <th>62558</th>\n",
       "      <td>Stockton</td>\n",
       "      <td>C</td>\n",
       "      <td>18</td>\n",
       "      <td>2018-08-03</td>\n",
       "      <td>146.152</td>\n",
       "      <td>0.610</td>\n",
       "      <td>387024.58</td>\n",
       "      <td>6359693.38</td>\n",
       "      <td>LiDar</td>\n",
       "    </tr>\n",
       "    <tr>\n",
       "      <th>62559</th>\n",
       "      <td>Stockton</td>\n",
       "      <td>C</td>\n",
       "      <td>18</td>\n",
       "      <td>2018-08-03</td>\n",
       "      <td>146.508</td>\n",
       "      <td>0.608</td>\n",
       "      <td>387024.91</td>\n",
       "      <td>6359693.25</td>\n",
       "      <td>LiDar</td>\n",
       "    </tr>\n",
       "  </tbody>\n",
       "</table>\n",
       "<p>50696 rows × 9 columns</p>\n",
       "</div>"
      ],
      "text/plain": [
       "          Beach Block  Profile  Year/Date  Chainage  Elevation    Easting  \\\n",
       "44     Stockton     A        1 1991-08-11     0.000      0.017  386897.94   \n",
       "45     Stockton     A        1 1991-08-11   215.414      0.017  387089.05   \n",
       "46     Stockton     A        1 1991-08-11   229.195      3.966  387101.28   \n",
       "47     Stockton     A        1 1991-08-11   238.574      3.784  387109.60   \n",
       "48     Stockton     A        1 1991-08-11   246.498      1.710  387116.63   \n",
       "...         ...   ...      ...        ...       ...        ...        ...   \n",
       "62555  Stockton     C       18 2018-08-03   145.094      0.630  387023.60   \n",
       "62556  Stockton     C       18 2018-08-03   145.538      0.618  387024.01   \n",
       "62557  Stockton     C       18 2018-08-03   145.957      0.611  387024.40   \n",
       "62558  Stockton     C       18 2018-08-03   146.152      0.610  387024.58   \n",
       "62559  Stockton     C       18 2018-08-03   146.508      0.608  387024.91   \n",
       "\n",
       "         Northing            Survey Type  \n",
       "44     6357305.07  Stereo photogrammtery  \n",
       "45     6357404.34  Stereo photogrammtery  \n",
       "46     6357410.69  Stereo photogrammtery  \n",
       "47     6357415.01  Stereo photogrammtery  \n",
       "48     6357418.66  Stereo photogrammtery  \n",
       "...           ...                    ...  \n",
       "62555  6359693.78                  LiDar  \n",
       "62556  6359693.61                  LiDar  \n",
       "62557  6359693.45                  LiDar  \n",
       "62558  6359693.38                  LiDar  \n",
       "62559  6359693.25                  LiDar  \n",
       "\n",
       "[50696 rows x 9 columns]"
      ]
     },
     "execution_count": 107,
     "metadata": {},
     "output_type": "execute_result"
    }
   ],
   "source": [
    "profiles_df"
   ]
  },
  {
   "cell_type": "markdown",
   "metadata": {},
   "source": [
    "### City of Gold Coast"
   ]
  },
  {
   "cell_type": "code",
   "execution_count": null,
   "metadata": {},
   "outputs": [],
   "source": [
    "# List of sites to iterate over\n",
    "all_profiles = glob.glob(f'input_data/cityofgoldcoast/*.txt')\n",
    "sites = np.unique([i.split(' - ')[0].split('/')[-1] for i in all_profiles])\n",
    "# sites = ['SOUTH STRADBROKE']\n",
    "\n",
    "for site in sites:\n",
    "    deacl_val.preprocess_cgc(site=site, overwrite=True)"
   ]
  },
  {
   "cell_type": "markdown",
   "metadata": {},
   "source": [
    "## TASMARC"
   ]
  },
  {
   "cell_type": "code",
   "execution_count": null,
   "metadata": {},
   "outputs": [],
   "source": [
    "# List of sites to iterate over\n",
    "sites = [i.split('/')[2] for i in glob.glob('input_data/tasmarc/*/')]\n",
    "\n",
    "for site in sites:\n",
    "    deacl_val.preprocess_tasmarc(site, overwrite=True) \n"
   ]
  },
  {
   "cell_type": "markdown",
   "metadata": {},
   "source": [
    "## SA Department of Environment and Water"
   ]
  },
  {
   "cell_type": "code",
   "execution_count": null,
   "metadata": {},
   "outputs": [],
   "source": [
    "import math\n",
    "from pyproj import Transformer\n",
    "\n",
    "# Load data and set nodata values to NaN\n",
    "wide_df = pd.read_csv('input_data/sadew/200011.CSV', na_values=[-9999])\n",
    "\n",
    "# Reproject coords to Albers and create geodataframe\n",
    "trans = Transformer.from_crs(\"EPSG:28354\", \"EPSG:28356\", always_xy=True)\n",
    "wide_df['EASTING'], wide_df['NORTHING'] = trans.transform(\n",
    "    wide_df.EASTING.values, wide_df.NORTHING.values)\n",
    "\n",
    "# Reshape into long format with each observation on a new row\n",
    "profile_df = pd.melt(wide_df.drop('SAMPLE_NO', axis=1), \n",
    "                     id_vars=['EASTING', 'NORTHING', 'PROFILE'],\n",
    "                     value_name='elevation').dropna()\n",
    "\n",
    "# Set column names to lower case\n",
    "profile_df.columns = profile_df.columns.str.lower()\n",
    "\n",
    "# Extract date info\n",
    "profile_df['date'] = profile_df['variable'].str[1:].str.strip()\n",
    "profile_df['date'] = pd.to_datetime(profile_df['date'], format='%d%m%Y')\n",
    "\n",
    "# Restrict to post 1987\n",
    "profile_df = profile_df[(profile_df.date.dt.year > 1987)]\n",
    "\n",
    "# Add unique ID column\n",
    "profile_df['beach'] = 'sadew'\n",
    "profile_df['section'] = 'all'\n",
    "profile_df['profile'] = profile_df['profile'].astype(str)\n",
    "profile_df['site'] = profile_df[['beach', 'section', 'profile']].apply('_'.join, 1)\n",
    "profile_df['source'] = 'sadew'\n",
    "\n",
    "# Compute origin points for each profile\n",
    "profile_df = profile_df.assign(start_x=wide_df.iloc[0, 2], \n",
    "                               start_y=wide_df.iloc[0, 3],\n",
    "                               end_x=wide_df.iloc[-1, 2],\n",
    "                               end_y=wide_df.iloc[-1, 3])\n",
    "\n",
    "# Compute chainage\n",
    "profile_df['chainage'] = profile_df.apply(\n",
    "    lambda x: math.hypot(x.easting - x.start_x, x.northing - x.start_y), axis=1)"
   ]
  },
  {
   "cell_type": "code",
   "execution_count": null,
   "metadata": {},
   "outputs": [],
   "source": [
    "# Find location and distance to water for datum height (0 m AHD)\n",
    "out = profile_df.groupby(['site', 'date']).apply(deacl_val.waterline_intercept, \n",
    "                                                  dist_col='chainage',\n",
    "                                                  x_col='easting', \n",
    "                                                  y_col='northing', \n",
    "                                                  z_col='elevation', \n",
    "                                                  z_val=0).dropna()\n",
    "\n",
    "# If the output contains data\n",
    "if len(out.index):\n",
    "\n",
    "    # Join into dataframe\n",
    "    shoreline_dist = out.join(\n",
    "        profile_df.groupby(['site', 'date']).first())\n",
    "\n",
    "    # Keep required columns\n",
    "    shoreline_dist = shoreline_dist[['beach', 'section', 'profile',  \n",
    "                                     'source', 'start_x', 'start_y', \n",
    "                                     'end_x', 'end_y', '0_dist', \n",
    "                                     '0_x', '0_y']]\n",
    "\n",
    "    # Export to file\n",
    "    shoreline_dist.to_csv(f'output_data/satest.csv')"
   ]
  },
  {
   "cell_type": "markdown",
   "metadata": {},
   "source": [
    "## WA DoT"
   ]
  },
  {
   "cell_type": "markdown",
   "metadata": {},
   "source": [
    "### Perth transects"
   ]
  },
  {
   "cell_type": "code",
   "execution_count": 26,
   "metadata": {},
   "outputs": [],
   "source": [
    "from shapely.geometry import Point, LineString\n",
    "\n",
    "# util functions\n",
    "def perpendicular_line(l1, length):\n",
    "    \"\"\"Create a new LineString perpendicular to <l1> with length <length>.\"\"\"\n",
    "    dx = l1.coords[1][0] - l1.coords[0][0]\n",
    "    dy = l1.coords[1][1] - l1.coords[0][1]\n",
    "\n",
    "    p = Point(l1.coords[0][0] + 0.5 * dx, l1.coords[0][1] + 0.5 * dy)\n",
    "    x, y = p.coords[0][0], p.coords[0][1]\n",
    "\n",
    "    if (dy == 0) or (dx == 0):\n",
    "        a = length / l1.length\n",
    "        l2 = LineString([(x - 0.5 * a * dy, y - 0.5 * a * dx),\n",
    "                         (x + 0.5 * a * dy, y + 0.5 * a * dx)])\n",
    "\n",
    "    else:\n",
    "        s = -dx / dy\n",
    "        a = ((length * 0.5) ** 2 / (1 + s ** 2)) ** 0.5\n",
    "        l2 = LineString([(x + a, y + s * a),\n",
    "                         (x - a, y - s * a)])\n",
    "\n",
    "    return l2\n",
    "\n",
    "def transect_at_reg_intervals(line, interval, trans_length, res):\n",
    "    \"\"\"get perpendicular lines (transects) at regular <interval> along line\n",
    "    (shapely LineString/MultiLineString)\"\"\"\n",
    "    dl = max(res/2., 0.5) # res argument required to determin length of tangent lines\n",
    "    intervals = np.arange(dl, line.length, interval)\n",
    "    tangent_lines = [LineString(line.interpolate(dist-dl).coords[:] + line.interpolate(dist+dl).coords[:])\n",
    "                      for dist in intervals+dl]\n",
    "    return intervals, [perpendicular_line(l1, trans_length) for l1 in tangent_lines]\n",
    "\n",
    "\n"
   ]
  },
  {
   "cell_type": "code",
   "execution_count": 109,
   "metadata": {},
   "outputs": [],
   "source": [
    "tertiary_gdf = gpd.read_file('input_data/WA_tertiaryCC.shp').to_crs('EPSG:3577')\n",
    "\n",
    "for i, compartment in tertiary_gdf.iloc[:].iterrows():\n",
    "    print(i, compartment.FROM_)"
   ]
  },
  {
   "cell_type": "code",
   "execution_count": 120,
   "metadata": {},
   "outputs": [
    {
     "name": "stdout",
     "output_type": "stream",
     "text": [
      "quarrambeachheade 2016                                                                                        \r"
     ]
    }
   ],
   "source": [
    "for i, _ in tertiary_gdf.iloc[:].iterrows():\n",
    "    \n",
    "    # Extract compartment as a GeoDataFrame so it can be used to clip other data\n",
    "    compartment = tertiary_gdf.iloc[[i]]\n",
    "    beach = compartment.FROM_.str.replace(' ', '').str.replace('/', '').str.lower().iloc[0]\n",
    "    print(f'{beach:<80}', end='\\r')\n",
    "    \n",
    "    # Read file and filter to AHD 0 shorelines\n",
    "    val_gdf = gpd.read_file('input_data/wadot/Coastline_Movements_20190819.gdb', \n",
    "                            bbox=compartment).to_crs('EPSG:3577')\n",
    "    val_gdf = val_gdf[(val_gdf.TYPE == 'AHD 0m') | (val_gdf.TYPE == 'AHD 0m ')]\n",
    "\n",
    "    # Filter to post 1987 shorelines and set index to year\n",
    "    val_gdf = val_gdf[val_gdf.PHOTO_YEAR > 1987]\n",
    "#     val_gdf = val_gdf[val_gdf.PHOTO_YEAR != 2000]\n",
    "#     val_gdf = val_gdf[val_gdf.PHOTO_YEAR != 2007]\n",
    "    val_gdf = val_gdf.set_index('PHOTO_YEAR')\n",
    "\n",
    "    # If no data is returned, skip this iteration\n",
    "    if len(val_gdf.index) == 0:\n",
    "        print(f'Failed: {beach:<80}', end='\\r')\n",
    "        continue\n",
    "\n",
    "    ######################\n",
    "    # Generate transects #\n",
    "    ######################\n",
    "\n",
    "    # Load smartline\n",
    "    smartline_gdf = gpd.read_file('../input_data/Smartline.gdb',\n",
    "                                  bbox=compartment).to_crs('EPSG:3577')\n",
    "    comp_contour = smartline_gdf.geometry.unary_union.simplify(200)\n",
    "\n",
    "    # Load Australian land water polygon\n",
    "    land_gdf = gpd.read_file('/g/data/r78/rt1527/shapefiles/australia/australia/cstauscd_r.shp', \n",
    "                             bbox=compartment).to_crs('EPSG:3577')\n",
    "    land_gdf = land_gdf.loc[land_gdf.FEAT_CODE.isin([\"mainland\", \"island\"])]\n",
    "    land_shapely = gpd.overlay(df1=land_gdf, \n",
    "                               df2=compartment).unary_union\n",
    "\n",
    "    # Extract transects along line\n",
    "    values, geoms = transect_at_reg_intervals(line=comp_contour, \n",
    "                                              interval=200,\n",
    "                                              trans_length=500, \n",
    "                                              res=30)\n",
    "\n",
    "    # Test if end points of transects fall in water or land\n",
    "    p1 = gpd.GeoSeries([Point(i.coords[0]) for i in geoms])\n",
    "    p2 = gpd.GeoSeries([Point(i.coords[1]) for i in geoms])\n",
    "    p1_within_land = p1.within(land_shapely)\n",
    "    p2_within_land = p2.within(land_shapely)\n",
    "\n",
    "    # Create geodataframe and remove invalid transects (land-land or water-water)\n",
    "    transect_gdf = gpd.GeoDataFrame(data={'p1': p1_within_land, \n",
    "                                          'p2': p2_within_land}, \n",
    "                                    geometry=geoms, \n",
    "                                    crs=val_gdf.crs)\n",
    "    transect_gdf = transect_gdf[~(transect_gdf.p1 == transect_gdf.p2)]\n",
    "\n",
    "    # Reverse transects so all point away from land\n",
    "    transect_gdf['geometry'] = transect_gdf.apply(\n",
    "        lambda i: LineString([i.geometry.coords[1], \n",
    "                              i.geometry.coords[0]]) if i.p1 < i.p2 else i.geometry, axis=1)  \n",
    "\n",
    "\n",
    "    ################################\n",
    "    # Identify 0 MSL intersections #\n",
    "    ################################\n",
    "\n",
    "    output_list = []\n",
    "\n",
    "    # Select one year\n",
    "    for year in val_gdf.index.unique().sort_values(): \n",
    "\n",
    "        # Extract validation contour\n",
    "        print(f'{beach} {year}', end='\\r')\n",
    "        val_contour = val_gdf.loc[[year]].geometry.unary_union\n",
    "\n",
    "        # Copy transect data, and find intersects between transects and contour\n",
    "        intersect_gdf = transect_gdf.copy()\n",
    "        intersect_gdf['val_point'] = transect_gdf.intersection(val_contour)\n",
    "        to_keep = gpd.GeoSeries(intersect_gdf['val_point']).geom_type == 'Point'\n",
    "        intersect_gdf = intersect_gdf.loc[to_keep]\n",
    "        \n",
    "        # If no data is returned, skip this iteration\n",
    "        if len(intersect_gdf.index) == 0:\n",
    "            print(f'Failed: {beach} {year:<80}', end='\\r')\n",
    "            continue\n",
    "\n",
    "        # Add generic metadata\n",
    "        intersect_gdf['date'] = pd.to_datetime(str(year))\n",
    "        intersect_gdf['beach'] = beach\n",
    "        intersect_gdf['section'] = 'all'\n",
    "        intersect_gdf['profile'] = list(map(str, range(0, len(intersect_gdf.index))))\n",
    "        intersect_gdf['source'] = 'photogrammetry' \n",
    "        intersect_gdf['site'] = intersect_gdf[['beach', 'section', 'profile']].apply('_'.join, 1)\n",
    "\n",
    "        # Add measurement metadata\n",
    "        intersect_gdf[['start_x', 'start_y']] = intersect_gdf.apply(\n",
    "            lambda x: pd.Series(x.geometry.coords[0]), axis=1)\n",
    "        intersect_gdf[['end_x', 'end_y']] = intersect_gdf.apply(\n",
    "            lambda x: pd.Series(x.geometry.coords[1]), axis=1)\n",
    "        intersect_gdf['0_dist'] = intersect_gdf.apply(\n",
    "            lambda x: Point(x.start_x, x.start_y).distance(x['val_point']), axis=1)\n",
    "        intersect_gdf[['0_x', '0_y']] = intersect_gdf.apply(\n",
    "            lambda x: pd.Series(x.val_point.coords[0]), axis=1)\n",
    "\n",
    "        # Keep required columns\n",
    "        intersect_gdf = intersect_gdf[['site', 'date', 'beach', 'section', 'profile',  \n",
    "                                       'source', 'start_x', 'start_y', \n",
    "                                       'end_x', 'end_y', '0_dist', \n",
    "                                       '0_x', '0_y']]\n",
    "\n",
    "        # Append to file\n",
    "        output_list.append(intersect_gdf)\n",
    "\n",
    "    # Combine all year data and export to file\n",
    "    if len(output_list) > 0:\n",
    "        shoreline_df = pd.concat(output_list)\n",
    "        shoreline_df.to_csv(f'output_data/wadot_{beach}.csv', index=False)\n"
   ]
  },
  {
   "cell_type": "code",
   "execution_count": 241,
   "metadata": {},
   "outputs": [],
   "source": [
    "# Read data\n",
    "profiles_df = pd.read_csv('input_data/vicdeakin/z_data_10cm_VIC.csv').dropna()\n",
    "\n",
    "# Optionally restrict to profile\n",
    "profiles_df = profiles_df.loc[profiles_df.location == 'leo'].reset_index(drop=True)"
   ]
  },
  {
   "cell_type": "code",
   "execution_count": 242,
   "metadata": {},
   "outputs": [],
   "source": [
    "profiles_df.to_csv('test.csv')"
   ]
  },
  {
   "cell_type": "markdown",
   "metadata": {},
   "source": [
    "## Victoria/Deakin\n",
    "* [X] Renovated"
   ]
  },
  {
   "cell_type": "code",
   "execution_count": 86,
   "metadata": {},
   "outputs": [
    {
     "name": "stdout",
     "output_type": "stream",
     "text": [
      "output_data/vicdeakin_apo.csv\n",
      "output_data/vicdeakin_cow.csv\n",
      "output_data/vicdeakin_inv.csv\n",
      "output_data/vicdeakin_leo.csv\n",
      "output_data/vicdeakin_mar.csv\n",
      "output_data/vicdeakin_pfa.csv\n",
      "output_data/vicdeakin_por.csv\n",
      "output_data/vicdeakin_prd.csv\n",
      "output_data/vicdeakin_sea.csv\n",
      "output_data/vicdeakin_wbl.csv\n"
     ]
    }
   ],
   "source": [
    "deacl_val.preprocess_vicdeakin(fname='input_data/vicdeakin/z_data_10cm_VIC.csv',\n",
    "                               datum=0)"
   ]
  },
  {
   "cell_type": "markdown",
   "metadata": {},
   "source": [
    "## Analysis\n",
    "To investigate:\n",
    "* [ ] Outlier in Bermagui (Horseshoe Bay)\n",
    "* [ ] Multiple outliers in Boambee Beach\n",
    "* [ ] Single remaining outlier in Bogangar to Kingscliff\n",
    "* [ ] **Cluster of outliers in Burgess Beach: caused by one year of channel profiles**\n",
    "* [ ] Sporadic outliers in Byron Bay\n",
    "* [ ] Two remaining outlier in Corindi Beach\n",
    "* [ ] **Major outliers at Crowdy Head**\n",
    "* [ ] **String of outliers in opposite direction at Cullendulla**\n",
    "* [ ] One remaining outlier at Diamond Beach\n",
    "* [ ] One remaining outlier at Eurobadalla Beaches North\n",
    "* [ ] **Cluster of outliers at Evans Head and Broadwater**\n",
    "* [ ] Two outliers in Fern Bay\n",
    "* [ ] **Extreme outliers at Flynn's Beach**\n",
    "* [ ] **Skewed result at Gerringong Harbour**\n",
    "* [ ] Outliers in Hargrave's Beach\n",
    "* [ ] Remaining outliers at Jimmy's Beach\n",
    "* [ ] **Remaining major outlier at Lake Illawarra**\n",
    "* [ ] **Outliers in Manly Beach**\n",
    "* [ ] Outliers at Mooney Beach\n",
    "* [ ] **Major issues with offset shorelines at Narrabeen/Collory**\n",
    "* [ ] **Outliers in opposite direction at Park's Beach**\n",
    "* [ ] Cluster of outliers at Patch's Beach\n",
    "* [ ] Port Hacking currently excluded from DEACL by estuary mask\n",
    "* [ ] **Weird line of points at Rainbow Beach**\n",
    "* [ ] **No relationship at Sandbar Beach**\n",
    "* [ ] One remaining outlier at Stuart's Point\n",
    "* [ ] **Several remaining outliers at Swansea Belmont**\n",
    "* [ ] **Cluster of outliers at The Entrance**\n",
    "* [ ] Single outlier at Warrain"
   ]
  },
  {
   "cell_type": "code",
   "execution_count": 112,
   "metadata": {},
   "outputs": [
    {
     "name": "stdout",
     "output_type": "stream",
     "text": [
      "output_data/nswbpd_stockton.csv                                                 \r"
     ]
    },
    {
     "data": {
      "text/html": [
       "<div>\n",
       "<style scoped>\n",
       "    .dataframe tbody tr th:only-of-type {\n",
       "        vertical-align: middle;\n",
       "    }\n",
       "\n",
       "    .dataframe tbody tr th {\n",
       "        vertical-align: top;\n",
       "    }\n",
       "\n",
       "    .dataframe thead th {\n",
       "        text-align: right;\n",
       "    }\n",
       "</style>\n",
       "<table border=\"1\" class=\"dataframe\">\n",
       "  <thead>\n",
       "    <tr style=\"text-align: right;\">\n",
       "      <th></th>\n",
       "      <th>id</th>\n",
       "      <th>rmse</th>\n",
       "      <th>mae</th>\n",
       "      <th>r2</th>\n",
       "      <th>cor</th>\n",
       "    </tr>\n",
       "  </thead>\n",
       "  <tbody>\n",
       "    <tr>\n",
       "      <th>0</th>\n",
       "      <td>nswbpd_stockton</td>\n",
       "      <td>10.326217</td>\n",
       "      <td>8.840766</td>\n",
       "      <td>0.920228</td>\n",
       "      <td>0.989721</td>\n",
       "    </tr>\n",
       "  </tbody>\n",
       "</table>\n",
       "</div>"
      ],
      "text/plain": [
       "                id       rmse       mae        r2       cor\n",
       "0  nswbpd_stockton  10.326217  8.840766  0.920228  0.989721"
      ]
     },
     "execution_count": 112,
     "metadata": {},
     "output_type": "execute_result"
    },
    {
     "data": {
      "image/png": "[encoded data removed]",
      "text/plain": [
       "<Figure size 612x504 with 2 Axes>"
      ]
     },
     "metadata": {
      "needs_background": "light"
     },
     "output_type": "display_data"
    }
   ],
   "source": [
    "val_paths = glob.glob('output_data/nswbpd_stock*.csv')\n",
    "deacl_path = '../packages/DEACoastLines_v0.2.0/DEACoastLines_coastlines_v0.2.0.shp'\n",
    "# deacl_path = '../DEACoastLines_coastlines_v0.2.0_0.20.shp'\n",
    "\n",
    "stats_list = []\n",
    "\n",
    "for val_path in val_paths:\n",
    "    \n",
    "    # Run analysis and close resulting figure\n",
    "    print(f'{val_path:<80}', end='\\r')\n",
    "    output_stats = deacl_val.deacl_validation(val_path, \n",
    "                                              deacl_path,\n",
    "                                              datum=0,\n",
    "                                              sat_offset=0, \n",
    "                                              return_df=False,\n",
    "                                              eval_shapes=True)\n",
    "    # Close figure if plotting over 10\n",
    "    if len(stats_list) > 10: plt.close()\n",
    "    \n",
    "    # Append stats to list\n",
    "    stats_list.append(output_stats)\n",
    "    \n",
    "# Combine stats into a dataframe\n",
    "stats_df = pd.DataFrame([stats for stats in stats_list if stats])\n",
    "stats_df.head()\n"
   ]
  },
  {
   "cell_type": "code",
   "execution_count": 95,
   "metadata": {},
   "outputs": [],
   "source": [
    "output_stats"
   ]
  },
  {
   "cell_type": "code",
   "execution_count": 11,
   "metadata": {},
   "outputs": [],
   "source": [
    "test = gpd.read_file('/g/data/r78/rt1527/dea-notebooks/MAHTS/validation/figures/eval/vicdeakin_apo_val_points.geojson')"
   ]
  },
  {
   "cell_type": "code",
   "execution_count": 150,
   "metadata": {},
   "outputs": [
    {
     "data": {
      "text/html": [
       "<div>\n",
       "<style scoped>\n",
       "    .dataframe tbody tr th:only-of-type {\n",
       "        vertical-align: middle;\n",
       "    }\n",
       "\n",
       "    .dataframe tbody tr th {\n",
       "        vertical-align: top;\n",
       "    }\n",
       "\n",
       "    .dataframe thead th {\n",
       "        text-align: right;\n",
       "    }\n",
       "</style>\n",
       "<table border=\"1\" class=\"dataframe\">\n",
       "  <thead>\n",
       "    <tr style=\"text-align: right;\">\n",
       "      <th></th>\n",
       "      <th>site</th>\n",
       "      <th>year</th>\n",
       "      <th>0_x</th>\n",
       "      <th>0_y</th>\n",
       "      <th>Validation beach width (m)</th>\n",
       "      <th>DEA CoastLines beach width (m)</th>\n",
       "      <th>geometry</th>\n",
       "    </tr>\n",
       "  </thead>\n",
       "  <tbody>\n",
       "    <tr>\n",
       "      <th>0</th>\n",
       "      <td>apo_all_0</td>\n",
       "      <td>2018</td>\n",
       "      <td>1.023339e+06</td>\n",
       "      <td>-4.284704e+06</td>\n",
       "      <td>29.436746</td>\n",
       "      <td>17.822739</td>\n",
       "      <td>POINT (143.67440 -38.75807)</td>\n",
       "    </tr>\n",
       "    <tr>\n",
       "      <th>1</th>\n",
       "      <td>apo_all_1</td>\n",
       "      <td>2018</td>\n",
       "      <td>1.023320e+06</td>\n",
       "      <td>-4.284697e+06</td>\n",
       "      <td>16.878029</td>\n",
       "      <td>10.880968</td>\n",
       "      <td>POINT (143.67417 -38.75802)</td>\n",
       "    </tr>\n",
       "    <tr>\n",
       "      <th>2</th>\n",
       "      <td>apo_all_10</td>\n",
       "      <td>2018</td>\n",
       "      <td>1.023168e+06</td>\n",
       "      <td>-4.284645e+06</td>\n",
       "      <td>24.617659</td>\n",
       "      <td>21.042505</td>\n",
       "      <td>POINT (143.67240 -38.75768)</td>\n",
       "    </tr>\n",
       "    <tr>\n",
       "      <th>3</th>\n",
       "      <td>apo_all_100</td>\n",
       "      <td>2018</td>\n",
       "      <td>1.023543e+06</td>\n",
       "      <td>-4.283061e+06</td>\n",
       "      <td>14.711952</td>\n",
       "      <td>20.204567</td>\n",
       "      <td>POINT (143.67501 -38.74302)</td>\n",
       "    </tr>\n",
       "    <tr>\n",
       "      <th>4</th>\n",
       "      <td>apo_all_101</td>\n",
       "      <td>2018</td>\n",
       "      <td>1.023558e+06</td>\n",
       "      <td>-4.283047e+06</td>\n",
       "      <td>11.975408</td>\n",
       "      <td>20.594622</td>\n",
       "      <td>POINT (143.67516 -38.74288)</td>\n",
       "    </tr>\n",
       "    <tr>\n",
       "      <th>...</th>\n",
       "      <td>...</td>\n",
       "      <td>...</td>\n",
       "      <td>...</td>\n",
       "      <td>...</td>\n",
       "      <td>...</td>\n",
       "      <td>...</td>\n",
       "      <td>...</td>\n",
       "    </tr>\n",
       "    <tr>\n",
       "      <th>96</th>\n",
       "      <td>apo_all_95</td>\n",
       "      <td>2018</td>\n",
       "      <td>1.023479e+06</td>\n",
       "      <td>-4.283138e+06</td>\n",
       "      <td>15.034278</td>\n",
       "      <td>26.871595</td>\n",
       "      <td>POINT (143.67437 -38.74377)</td>\n",
       "    </tr>\n",
       "    <tr>\n",
       "      <th>97</th>\n",
       "      <td>apo_all_96</td>\n",
       "      <td>2018</td>\n",
       "      <td>1.023492e+06</td>\n",
       "      <td>-4.283122e+06</td>\n",
       "      <td>15.294211</td>\n",
       "      <td>27.953968</td>\n",
       "      <td>POINT (143.67449 -38.74362)</td>\n",
       "    </tr>\n",
       "    <tr>\n",
       "      <th>98</th>\n",
       "      <td>apo_all_97</td>\n",
       "      <td>2018</td>\n",
       "      <td>1.023504e+06</td>\n",
       "      <td>-4.283107e+06</td>\n",
       "      <td>16.030286</td>\n",
       "      <td>32.724323</td>\n",
       "      <td>POINT (143.67461 -38.74346)</td>\n",
       "    </tr>\n",
       "    <tr>\n",
       "      <th>99</th>\n",
       "      <td>apo_all_98</td>\n",
       "      <td>2018</td>\n",
       "      <td>1.023519e+06</td>\n",
       "      <td>-4.283093e+06</td>\n",
       "      <td>12.596683</td>\n",
       "      <td>19.132199</td>\n",
       "      <td>POINT (143.67477 -38.74333)</td>\n",
       "    </tr>\n",
       "    <tr>\n",
       "      <th>100</th>\n",
       "      <td>apo_all_99</td>\n",
       "      <td>2018</td>\n",
       "      <td>1.023531e+06</td>\n",
       "      <td>-4.283078e+06</td>\n",
       "      <td>13.294907</td>\n",
       "      <td>25.586003</td>\n",
       "      <td>POINT (143.67489 -38.74318)</td>\n",
       "    </tr>\n",
       "  </tbody>\n",
       "</table>\n",
       "<p>101 rows × 7 columns</p>\n",
       "</div>"
      ],
      "text/plain": [
       "            site  year           0_x           0_y  \\\n",
       "0      apo_all_0  2018  1.023339e+06 -4.284704e+06   \n",
       "1      apo_all_1  2018  1.023320e+06 -4.284697e+06   \n",
       "2     apo_all_10  2018  1.023168e+06 -4.284645e+06   \n",
       "3    apo_all_100  2018  1.023543e+06 -4.283061e+06   \n",
       "4    apo_all_101  2018  1.023558e+06 -4.283047e+06   \n",
       "..           ...   ...           ...           ...   \n",
       "96    apo_all_95  2018  1.023479e+06 -4.283138e+06   \n",
       "97    apo_all_96  2018  1.023492e+06 -4.283122e+06   \n",
       "98    apo_all_97  2018  1.023504e+06 -4.283107e+06   \n",
       "99    apo_all_98  2018  1.023519e+06 -4.283093e+06   \n",
       "100   apo_all_99  2018  1.023531e+06 -4.283078e+06   \n",
       "\n",
       "     Validation beach width (m)  DEA CoastLines beach width (m)  \\\n",
       "0                     29.436746                       17.822739   \n",
       "1                     16.878029                       10.880968   \n",
       "2                     24.617659                       21.042505   \n",
       "3                     14.711952                       20.204567   \n",
       "4                     11.975408                       20.594622   \n",
       "..                          ...                             ...   \n",
       "96                    15.034278                       26.871595   \n",
       "97                    15.294211                       27.953968   \n",
       "98                    16.030286                       32.724323   \n",
       "99                    12.596683                       19.132199   \n",
       "100                   13.294907                       25.586003   \n",
       "\n",
       "                        geometry  \n",
       "0    POINT (143.67440 -38.75807)  \n",
       "1    POINT (143.67417 -38.75802)  \n",
       "2    POINT (143.67240 -38.75768)  \n",
       "3    POINT (143.67501 -38.74302)  \n",
       "4    POINT (143.67516 -38.74288)  \n",
       "..                           ...  \n",
       "96   POINT (143.67437 -38.74377)  \n",
       "97   POINT (143.67449 -38.74362)  \n",
       "98   POINT (143.67461 -38.74346)  \n",
       "99   POINT (143.67477 -38.74333)  \n",
       "100  POINT (143.67489 -38.74318)  \n",
       "\n",
       "[101 rows x 7 columns]"
      ]
     },
     "execution_count": 150,
     "metadata": {},
     "output_type": "execute_result"
    }
   ],
   "source": [
    "pd.DataFrame(test)"
   ]
  },
  {
   "cell_type": "code",
   "execution_count": 12,
   "metadata": {},
   "outputs": [
    {
     "data": {
      "text/plain": [
       "<matplotlib.axes._subplots.AxesSubplot at 0x7f5620a067b8>"
      ]
     },
     "execution_count": 12,
     "metadata": {},
     "output_type": "execute_result"
    },
    {
     "data": {
      "image/png": "[encoded data removed]",
      "text/plain": [
       "<Figure size 432x288 with 1 Axes>"
      ]
     },
     "metadata": {
      "needs_background": "light"
     },
     "output_type": "display_data"
    }
   ],
   "source": [
    "pd.DataFrame(test).plot.scatter(x='Validation beach width (m)', y='DEA CoastLines beach width (m)')"
   ]
  },
  {
   "cell_type": "code",
   "execution_count": 7,
   "metadata": {},
   "outputs": [
    {
     "data": {
      "text/plain": [
       "<matplotlib.axes._subplots.AxesSubplot at 0x7f5620dcdcf8>"
      ]
     },
     "execution_count": 7,
     "metadata": {},
     "output_type": "execute_result"
    },
    {
     "data": {
      "image/png": "[encoded data removed]",
      "text/plain": [
       "<Figure size 720x360 with 1 Axes>"
      ]
     },
     "metadata": {
      "needs_background": "light"
     },
     "output_type": "display_data"
    }
   ],
   "source": [
    "stats_df['cor'].plot.hist(bins=30, figsize=(10, 5))  #, range=(0, 100))"
   ]
  },
  {
   "cell_type": "code",
   "execution_count": 8,
   "metadata": {},
   "outputs": [
    {
     "data": {
      "text/plain": [
       "<matplotlib.axes._subplots.AxesSubplot at 0x7f562089d4a8>"
      ]
     },
     "execution_count": 8,
     "metadata": {},
     "output_type": "execute_result"
    },
    {
     "data": {
      "image/png": "[encoded data removed]",
      "text/plain": [
       "<Figure size 720x360 with 1 Axes>"
      ]
     },
     "metadata": {
      "needs_background": "light"
     },
     "output_type": "display_data"
    }
   ],
   "source": [
    "stats_df['rmse'].plot.hist(bins=30, figsize=(10, 5))  #, range=(0, 100))"
   ]
  },
  {
   "cell_type": "code",
   "execution_count": 10,
   "metadata": {},
   "outputs": [
    {
     "data": {
      "text/plain": [
       "13.471810132890639"
      ]
     },
     "execution_count": 10,
     "metadata": {},
     "output_type": "execute_result"
    }
   ],
   "source": [
    "stats_df['rmse'].median()"
   ]
  },
  {
   "cell_type": "markdown",
   "metadata": {},
   "source": [
    "## Testing NSWBPD"
   ]
  },
  {
   "cell_type": "code",
   "execution_count": null,
   "metadata": {},
   "outputs": [],
   "source": [
    "fname = 'input_data/nswbpd/photogrammetry_Xsections_Burril Lake and Racecourse Beach.csv'\n",
    "\n",
    "# Get output filename\n",
    "name = Path(fname).stem.split('_')[-1].lower().replace(' ', '')\n",
    "fname_out = f'output_data/nswbpd_{name}.csv'\n",
    "\n",
    "# Read in data\n",
    "print(f'Processing {fname_out}             ', end='\\r')            \n",
    "profiles_df = pd.read_csv(fname, skiprows=5)\n",
    "profiles_df['Year/Date'] = pd.to_datetime(profiles_df['Year/Date'],\n",
    "                                          dayfirst=True,\n",
    "                                          errors='coerce')\n",
    "\n",
    "# Restrict to post 1987\n",
    "profiles_df = profiles_df[profiles_df['Year/Date'] > '1987']\n",
    "\n",
    "# Convert columns to strings and add unique ID column\n",
    "profiles_df['Beach'] = profiles_df['Beach'].str.lower().str.replace(' ', '')\n",
    "profiles_df['Block'] = profiles_df['Block'].astype(str).str.lower()\n",
    "profiles_df['Profile'] = profiles_df['Profile'].astype(str).str.lower()\n",
    "profiles_df['site'] = profiles_df[['Beach', 'Block',\n",
    "                                   'Profile']].apply('_'.join, 1)\n",
    "\n",
    "# Rename columns\n",
    "profiles_df.columns = ['beach', 'section', 'profile', 'date', 'chainage', \n",
    "                       'elevation', 'easting', 'northing', 'source', 'site']\n",
    "\n",
    "# # Compute origin points for each profile\n",
    "# start_xy = profiles_df.loc[profiles_df.groupby(['site']).chainage.idxmin(), \n",
    "#                             ['site', 'easting', 'northing']]\n",
    "# start_xy = start_xy.rename({'easting': 'start_x', \n",
    "#                             'northing': 'start_y'}, axis=1)\n",
    "# start_xy = start_xy.reset_index(drop=True)\n",
    "\n",
    "# # Compute end points for each profile\n",
    "# end_xy = profiles_df.loc[profiles_df.groupby(['site']).chainage.idxmax(), \n",
    "#                          ['site', 'easting', 'northing']]\n",
    "# end_xy = end_xy.rename({'easting': 'end_x', \n",
    "#                         'northing': 'end_y'}, axis=1)\n",
    "# end_xy = end_xy.reset_index(drop=True)\n",
    "\n",
    "# # Join origin and end points into dataframe\n",
    "# profiles_df = pd.merge(left=profiles_df, right=start_xy)\n",
    "# profiles_df = pd.merge(left=profiles_df, right=end_xy)\n",
    "\n",
    "# # Find location and distance to water for datum height (0 m AHD)\n",
    "# out = profiles_df.groupby(['site', 'date']).apply(deacl_val.waterline_intercept, \n",
    "#                                                   dist_col='chainage',\n",
    "#                                                   x_col='easting', \n",
    "#                                                   y_col='northing', \n",
    "#                                                   z_col='elevation', \n",
    "#                                                   z_val=0).dropna()"
   ]
  },
  {
   "cell_type": "code",
   "execution_count": null,
   "metadata": {},
   "outputs": [],
   "source": [
    "profiles_sub = profiles_df[(profiles_df.site == 'burrillakeandracecoursebeach_1_5') & (profiles_df.date == '1993-05-14') ]  "
   ]
  },
  {
   "cell_type": "code",
   "execution_count": null,
   "metadata": {},
   "outputs": [],
   "source": [
    "burrillakeandracecoursebeach_1_5"
   ]
  },
  {
   "cell_type": "code",
   "execution_count": null,
   "metadata": {},
   "outputs": [],
   "source": [
    "to_vector(profiles_df, x='easting', y='northing', fname='test6.shp')"
   ]
  },
  {
   "cell_type": "markdown",
   "metadata": {},
   "source": [
    "## Testing GCC"
   ]
  },
  {
   "cell_type": "code",
   "execution_count": null,
   "metadata": {},
   "outputs": [],
   "source": [
    "results_df\n",
    "\n",
    "\n",
    "results_df[(results_df.site == 'broadbeach_eta_59') ]"
   ]
  },
  {
   "cell_type": "code",
   "execution_count": null,
   "metadata": {},
   "outputs": [],
   "source": []
  },
  {
   "cell_type": "code",
   "execution_count": null,
   "metadata": {},
   "outputs": [],
   "source": [
    "pd.read_csv(val_paths[0], parse_dates=['date'], index_col='site').loc['broadbeach_eta_58.50']"
   ]
  },
  {
   "cell_type": "code",
   "execution_count": null,
   "metadata": {},
   "outputs": [],
   "source": [
    " x.geometry_val.intersection(x.geometry_deacl)\n",
    "            .hausdorff_distance(Point(x.start_x, x.start_y)), axis=1)\n"
   ]
  },
  {
   "cell_type": "code",
   "execution_count": null,
   "metadata": {},
   "outputs": [],
   "source": [
    "gpd.GeoSeries(results_df.loc[results_df.site == 'broadbeach_eta_59'].iloc[0].geometry_val).plot()\n",
    "\n",
    "\n",
    "gpd.GeoSeries(results_df.loc[results_df.site == 'broadbeach_eta_59'].iloc[0].geometry_val.interpolate(219)).plot(ax=plt.gca())"
   ]
  },
  {
   "cell_type": "code",
   "execution_count": null,
   "metadata": {},
   "outputs": [],
   "source": [
    "results_df.loc[results_df.site == 'broadbeach_eta_59'].iloc[0].geometry_val.length"
   ]
  },
  {
   "cell_type": "code",
   "execution_count": null,
   "metadata": {},
   "outputs": [],
   "source": [
    "profile_i = '/g/data/r78/rt1527/dea-notebooks/MAHTS/validation/input_data/cityofgoldcoast/BROADBEACH - ETA 59 - (13474) 1996-06-05.txt'\n",
    "\n",
    "\n",
    "pd.read_csv(profile_i,\n",
    "                                 usecols=[1, 2, 3],\n",
    "                                 delim_whitespace=True, \n",
    "                                 names=['x', 'y', 'z']).plot.scatter(x='x', y='z')"
   ]
  },
  {
   "cell_type": "code",
   "execution_count": null,
   "metadata": {},
   "outputs": [],
   "source": [
    "profile_list "
   ]
  },
  {
   "cell_type": "code",
   "execution_count": null,
   "metadata": {},
   "outputs": [],
   "source": [
    "profile_list = glob.glob(f'input_data/cityofgoldcoast/SOUTH STRADBROKE - SSI 09 *.txt')\n",
    "\n",
    "# Output list to hold data\n",
    "site_profiles = []\n",
    "\n",
    "for profile_i in profile_list:\n",
    "\n",
    "    # Identify unique field values from file string\n",
    "    profile_string = os.path.basename(profile_i)\n",
    "\n",
    "    # Treat data file string differently depending on format\n",
    "    if len(profile_string.split(' - ')) > 3:\n",
    "        beach, section, profile, id_date = profile_string.split(' - ')            \n",
    "\n",
    "    else:\n",
    "        beach, section_profile, id_date = profile_string.split(' - ')\n",
    "\n",
    "        if len(section_profile.split(' ')) == 2:\n",
    "            section, profile = section_profile.split(' ')\n",
    "\n",
    "        else:\n",
    "            section, profile = 'none', section_profile\n",
    "\n",
    "    # If beach name is in the list of problematic names, replace\n",
    "    beach = manual_rename[beach] if beach in manual_rename.keys() else beach\n",
    "\n",
    "    # Remove any special characters from beach/section/profile names and create ID \n",
    "    profile_df = pd.read_csv(profile_i,\n",
    "                             usecols=[1, 2, 3],\n",
    "                             delim_whitespace=True, \n",
    "                             names=['x', 'y', 'z'])\n",
    "    profile_df['date'] = pd.to_datetime(id_date[-14:-4]) \n",
    "    profile_df['source'] = 'hydrographic survey'\n",
    "    profile_df['profile'] = profile.lower()\n",
    "    profile_df['section'] = section.lower()\n",
    "    profile_df['beach'] = beach.replace(' ', '').lower()\n",
    "    profile_df['site'] = profile_df[['beach', 'section', 'profile']].apply('_'.join, 1)\n",
    "\n",
    "    # Filter to drop pre-1987 and deep water samples, add to list if any \n",
    "    # data is available above 0 MSL\n",
    "    profile_df = profile_df[profile_df.z > -3.0]\n",
    "    profile_df = profile_df[profile_df.date > '1987']    \n",
    "    if profile_df.z.max() > 0:\n",
    "        site_profiles.append(profile_df)\n",
    "\n",
    "# Combine into a single dataframe\n",
    "profiles_df = pd.concat(site_profiles)\n",
    "\n",
    "# Compute origin and end points for each profile\n",
    "start_xy = profiles_df.groupby(['site'], as_index=False).first()[['site', 'x', 'y']]\n",
    "end_xy = profiles_df.groupby(['site'], as_index=False).last()[['site', 'x', 'y']]\n",
    "start_xy = start_xy.rename({'x': 'start_x', 'y': 'start_y'}, axis=1)\n",
    "end_xy = end_xy.rename({'x': 'end_x', 'y': 'end_y'}, axis=1)\n",
    "\n",
    "# Join origin and end points into dataframe\n",
    "profiles_df = pd.merge(left=profiles_df, right=start_xy)\n",
    "profiles_df = pd.merge(left=profiles_df, right=end_xy)\n",
    "\n",
    "# # Compute chainage\n",
    "# profiles_df['chainage'] = profiles_df.apply(\n",
    "#     lambda x: math.hypot(x.x - x.start_x, x.y - x.start_y), axis = 1)\n",
    "\n",
    "# # Find location and distance to water for datum height (0 m AHD)\n",
    "# out = profiles_df.groupby(['site', 'date']).apply(deacl_val.waterline_intercept, \n",
    "#                                                   dist_col='chainage',\n",
    "#                                                   x_col='x', \n",
    "#                                                   y_col='y', \n",
    "#                                                   z_col='z', \n",
    "#                                                   z_val=0).dropna()"
   ]
  },
  {
   "cell_type": "code",
   "execution_count": null,
   "metadata": {},
   "outputs": [],
   "source": [
    "profiles_subset = profiles_df.loc[profiles_df.date.dt.year == 2013]\n",
    "profiles_subset.plot(x='x', y='z')"
   ]
  },
  {
   "cell_type": "code",
   "execution_count": null,
   "metadata": {},
   "outputs": [],
   "source": [
    "to_vector(profiles_df.loc[profiles_df.date.dt.year == 2013], fname='test4.shp')\n",
    "\n",
    "\n",
    "\n",
    "    "
   ]
  },
  {
   "cell_type": "code",
   "execution_count": null,
   "metadata": {},
   "outputs": [],
   "source": []
  },
  {
   "cell_type": "code",
   "execution_count": null,
   "metadata": {},
   "outputs": [],
   "source": [
    "merge_test.groupby('year').median().reset_index().plot(x='year', y='DEA CoastLines beach width (m)')\n",
    "merge_test.groupby('year').median().reset_index().plot(x='year', y='Validation beach width (m)', ax=plt.gca())"
   ]
  },
  {
   "cell_type": "markdown",
   "metadata": {},
   "source": [
    "***\n",
    "\n",
    "## Additional information"
   ]
  },
  {
   "cell_type": "markdown",
   "metadata": {},
   "source": [
    "**License:** The code in this notebook is licensed under the [Apache License, Version 2.0](https://www.apache.org/licenses/LICENSE-2.0). \n",
    "Digital Earth Australia data is licensed under the [Creative Commons by Attribution 4.0](https://creativecommons.org/licenses/by/4.0/) license.\n",
    "\n",
    "**Contact:** If you need assistance, please post a question on the [Open Data Cube Slack channel](http://slack.opendatacube.org/) or on the [GIS Stack Exchange](https://gis.stackexchange.com/questions/ask?tags=open-data-cube) using the `open-data-cube` tag (you can view previously asked questions [here](https://gis.stackexchange.com/questions/tagged/open-data-cube)).\n",
    "If you would like to report an issue with this notebook, you can file one on [Github](https://github.com/GeoscienceAustralia/dea-notebooks).\n",
    "\n",
    "**Last modified:** May 2020"
   ]
  }
 ],
 "metadata": {
  "kernelspec": {
   "display_name": "Python 3",
   "language": "python",
   "name": "python3"
  },
  "language_info": {
   "codemirror_mode": {
    "name": "ipython",
    "version": 3
   },
   "file_extension": ".py",
   "mimetype": "text/x-python",
   "name": "python",
   "nbconvert_exporter": "python",
   "pygments_lexer": "ipython3",
   "version": "3.6.10"
  },
  "widgets": {
   "application/vnd.jupyter.widget-state+json": {
    "state": {},
    "version_major": 2,
    "version_minor": 0
   }
  }
 },
 "nbformat": 4,
 "nbformat_minor": 4
}
