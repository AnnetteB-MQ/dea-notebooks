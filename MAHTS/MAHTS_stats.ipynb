{
 "cells": [
  {
   "cell_type": "markdown",
   "metadata": {},
   "source": [
    "# MAHTS stats"
   ]
  },
  {
   "cell_type": "code",
   "execution_count": 37,
   "metadata": {},
   "outputs": [
    {
     "name": "stdout",
     "output_type": "stream",
     "text": [
      "Filesystem      Size  Used Avail Use% Mounted on\n",
      "overlay         108G   29G   80G  27% /\n",
      "tmpfs            68M     0   68M   0% /dev\n",
      "tmpfs            67G     0   67G   0% /sys/fs/cgroup\n",
      "/dev/nvme0n1p1  108G   29G   80G  27% /notebooks\n",
      "/dev/nvme4n1     11G  9.2G  1.3G  89% /home/jovyan\n",
      "shm              68M     0   68M   0% /dev/shm\n",
      "tmpfs            67G     0   67G   0% /proc/acpi\n",
      "tmpfs            67G     0   67G   0% /sys/firmware\n"
     ]
    }
   ],
   "source": [
    "!df -H"
   ]
  },
  {
   "cell_type": "markdown",
   "metadata": {},
   "source": [
    "## Background\n"
   ]
  },
  {
   "cell_type": "markdown",
   "metadata": {},
   "source": [
    "## Description\n",
    "\n"
   ]
  },
  {
   "cell_type": "markdown",
   "metadata": {},
   "source": [
    "## Getting started\n"
   ]
  },
  {
   "cell_type": "markdown",
   "metadata": {},
   "source": [
    "### Load packages\n",
    "\n",
    "First we import the required Python packages, then we connect to the database, and load the catalog of virtual products."
   ]
  },
  {
   "cell_type": "code",
   "execution_count": 285,
   "metadata": {},
   "outputs": [
    {
     "name": "stdout",
     "output_type": "stream",
     "text": [
      "The line_profiler extension is already loaded. To reload it, use:\n",
      "  %reload_ext line_profiler\n",
      "The autoreload extension is already loaded. To reload it, use:\n",
      "  %reload_ext autoreload\n"
     ]
    }
   ],
   "source": [
    "%matplotlib inline\n",
    "%load_ext line_profiler\n",
    "%load_ext autoreload\n",
    "%autoreload 2\n",
    "\n",
    "# pip install --user ruptures\n",
    "\n",
    "import numpy as np\n",
    "import xarray as xr\n",
    "from scipy import stats\n",
    "import pandas as pd\n",
    "import geopandas as gpd\n",
    "import ruptures as rpt\n",
    "from shapely.ops import nearest_points\n",
    "\n",
    "def change_regress(row, \n",
    "                   x_vals, \n",
    "                   x_labels, \n",
    "                   std_dev=3, \n",
    "                   detrend_params=None,\n",
    "                   slope_var='slope', \n",
    "                   interc_var='intercept',\n",
    "                   pvalue_var='pvalue', \n",
    "                   outliers_var='outliers'):\n",
    "    \n",
    "    # Extract x (time) and y (distance) values\n",
    "    x = x_vals\n",
    "    y = row.values.astype(np.float)\n",
    "    \n",
    "    # Drop NAN rows\n",
    "    xy_df = np.vstack([x, y]).T\n",
    "    is_valid = ~np.isnan(xy_df).any(axis=1)\n",
    "    xy_df = xy_df[is_valid]\n",
    "    valid_labels = x_labels[is_valid]\n",
    "    \n",
    "    # If detrending parameters are provided, apply these to the data to\n",
    "    # remove the trend prior to running the regression\n",
    "    if detrend_params:\n",
    "        xy_df[:,1] = xy_df[:,1]-(detrend_params[0]*xy_df[:,0]+detrend_params[1])    \n",
    "    \n",
    "    # Remove outliers\n",
    "    outlier_bool = (np.abs(stats.zscore(xy_df)) < float(std_dev)).all(axis=1)\n",
    "    xy_df = xy_df[outlier_bool]\n",
    "        \n",
    "    # Compute linear regression\n",
    "    lin_reg = stats.linregress(x=xy_df[:,0], \n",
    "                               y=xy_df[:,1])  \n",
    "       \n",
    "    # Return slope, p-values and list of outlier years excluded from regression   \n",
    "    return pd.Series({slope_var: np.round(lin_reg.slope, 3), \n",
    "                      interc_var: np.round(lin_reg.intercept, 3),\n",
    "                      pvalue_var: np.round(lin_reg.pvalue, 3),\n",
    "                      outliers_var: ' '.join(map(str, valid_labels[~outlier_bool]))})\n",
    "\n",
    "\n",
    "def breakpoints(x, model='rbf', pen=10):\n",
    "    signal = x.values\n",
    "    algo = rpt.Pelt(model=\"rbf\").fit(signal)\n",
    "    result = algo.predict(pen=pen)\n",
    "    if len(result) > 1:\n",
    "        return [x_years[i] for i in result[0:-1]][0]\n",
    "    else:\n",
    "        return None\n",
    "\n",
    "# This will speed up loading data\n",
    "import datacube.utils.rio\n",
    "datacube.utils.rio.configure_s3_access(aws_unsigned=True)\n"
   ]
  },
  {
   "cell_type": "code",
   "execution_count": 292,
   "metadata": {},
   "outputs": [],
   "source": [
    "# Read in contours\n",
    "study_area = 'stradbroke'\n",
    "water_index = 'mndwi'\n",
    "index_threshold = '0.00'\n",
    "\n",
    "# Get array of water index values for baseline time period \n",
    "baseline_array = xr.open_rasterio(filename=f'output_data/{study_area}/{water_index}_1990.tif').squeeze(dim='band')\n",
    "\n",
    "# Import contours and project to local CRS\n",
    "contours_gdf = gpd.read_file(f'output_data/{study_area}/contours_{water_index}_{index_threshold}.geojson').to_crs(baseline_array.crs).set_index('year')\n",
    "\n",
    "# Set annual shoreline to use as a baseline\n",
    "baseline_year = '1990'\n",
    "baseline_contour = contours_gdf.loc[[baseline_year]].geometry\n",
    "\n",
    "# Generate points along line and convert to geopandas.GeoDataFrame\n",
    "points_line = [baseline_contour.iloc[0].interpolate(i) \n",
    "               for i in range(0, int(baseline_contour.length), 30)]\n",
    "points_gdf = gpd.GeoDataFrame(geometry=points_line, crs=baseline_array.crs)\n",
    "\n",
    "# Copy geometry to baseline point\n",
    "points_gdf['p_baseline'] = points_gdf.geometry\n",
    "baseline_x_vals = points_gdf.geometry.x\n",
    "baseline_y_vals = points_gdf.geometry.y\n"
   ]
  },
  {
   "cell_type": "code",
   "execution_count": 293,
   "metadata": {},
   "outputs": [
    {
     "name": "stdout",
     "output_type": "stream",
     "text": [
      "1987\n",
      "1988\n",
      "1989\n",
      "1990\n",
      "1991\n",
      "1992\n",
      "1993\n",
      "1994\n",
      "1995\n",
      "1996\n",
      "1997\n",
      "1998\n",
      "1999\n",
      "2000\n",
      "2001\n",
      "2002\n",
      "2003\n",
      "2004\n",
      "2005\n",
      "2006\n",
      "2007\n",
      "2008\n",
      "2009\n",
      "2010\n",
      "2011\n",
      "2012\n",
      "2013\n",
      "2014\n",
      "2015\n",
      "2016\n",
      "2017\n",
      "2018\n"
     ]
    }
   ],
   "source": [
    "# Iterate through all comparison years in contour gdf\n",
    "for comp_year in contours_gdf.index.unique().values:\n",
    "\n",
    "    print(comp_year)\n",
    "\n",
    "    # Set comparison contour\n",
    "    comp_contour = contours_gdf.loc[[comp_year]].geometry.iloc[0]\n",
    "\n",
    "    # Find nearest point on comparison contour\n",
    "    points_gdf[f'p_{comp_year}'] = points_gdf.apply(lambda x: \n",
    "                                                    nearest_points(x.p_baseline, comp_contour)[1], axis=1)\n",
    "\n",
    "    # Compute distance between baseline and comparison year points\n",
    "    points_gdf[f'{comp_year}'] = points_gdf.apply(lambda x: \n",
    "                                                  x.geometry.distance(x[f'p_{comp_year}']), axis=1)\n",
    "\n",
    "    # Extract comparison array\n",
    "    comp_array = xr.open_rasterio(filename=f'output_data/{study_area}/{water_index}_{comp_year}.tif').squeeze(dim='band')\n",
    "\n",
    "    # Convert baseline and comparison year points to geoseries to allow easy access to x and y coords\n",
    "    comp_x_vals = gpd.GeoSeries(points_gdf[f'p_{comp_year}']).x\n",
    "    comp_y_vals = gpd.GeoSeries(points_gdf[f'p_{comp_year}']).y\n",
    "\n",
    "    # Sample NDWI values from arrays based on baseline and comparison points\n",
    "    baseline_x_vals = xr.DataArray(baseline_x_vals, dims='z')\n",
    "    baseline_y_vals = xr.DataArray(baseline_y_vals, dims='z')\n",
    "    comp_x_vals = xr.DataArray(comp_x_vals, dims='z')\n",
    "    comp_y_vals = xr.DataArray(comp_y_vals, dims='z')   \n",
    "    points_gdf['index_comp_p1'] = comp_array.interp(x=baseline_x_vals, y=baseline_y_vals)\n",
    "    points_gdf['index_baseline_p2'] = baseline_array.interp(x=comp_x_vals, y=comp_y_vals)\n",
    "\n",
    "    # Compute directionality of change (negative = erosion, positive = accretion)    \n",
    "    points_gdf['loss_gain'] = (points_gdf.index_baseline_p2 > points_gdf.index_comp_p1).astype(int).replace(to_replace=0, value=-1)\n",
    "    points_gdf[f'{comp_year}'] = points_gdf[f'{comp_year}'] * points_gdf.loss_gain\n",
    "    \n",
    "# Keep required columns\n",
    "points_gdf = points_gdf[['geometry'] + contours_gdf.index.unique().values.tolist()]\n",
    "points_gdf = points_gdf.round(2)\n",
    "\n",
    "# Identify dates for regression\n",
    "x_years = np.array([int(i[:4]) for i in points_gdf.columns[1:]])"
   ]
  },
  {
   "cell_type": "code",
   "execution_count": 300,
   "metadata": {},
   "outputs": [],
   "source": [
    "# Identify SOI values for regression\n",
    "climate_df = pd.read_csv('input_data/climate_indices.csv', index_col='year')\n",
    "climate_df = climate_df.loc[:,['SOI']]\n",
    "\n",
    "# Compute change rates\n",
    "rate_out = points_gdf.apply(lambda x: change_regress(row=x[1:33], \n",
    "                                                     x_vals = x_years, \n",
    "                                                     x_labels = x_years, \n",
    "                                                     std_dev=3), axis=1)\n",
    "points_gdf[['rate_time', 'incpt_time', 'sig_time', 'outl_time']] = rate_out\n",
    "# points_gdf.loc[points_gdf.sig_time > 0.05, 'rate_time'] = np.nan\n",
    "\n",
    "# Compute stats for each index\n",
    "for ci in climate_df:\n",
    "    \n",
    "    # Compute stats for each row\n",
    "    ci_out = points_gdf.apply(lambda x: change_regress(row=x[1:33],\n",
    "                                                       x_vals = climate_df[ci].values, \n",
    "                                                       x_labels = x_years, \n",
    "                                                       detrend_params=[x.rate_time, x.incpt_time],\n",
    "                                                       std_dev=3), axis=1)\n",
    "    \n",
    "    # Add data as columns  \n",
    "    points_gdf[[f'rate_{ci}', f'incpt_{ci}', f'sig_{ci}', f'outl_{ci}']] = ci_out\n",
    "    \n",
    "    # Set non-significant rates to NaN\n",
    "#     points_gdf.loc[points_gdf[f'sig_{ci}'] > 0.05, f'rate_{ci}'] = np.nan\n",
    "\n",
    "# Set CRS\n",
    "points_gdf.crs = baseline_array.crs\n",
    "\n",
    "# # Custom sorting\n",
    "# points_gdf_sorted = points_gdf.loc[:, [\n",
    "#     'rate_time', 'rate_SOI', 'rate_IOD', 'rate_SAM', 'rate_IPO', 'rate_PDO',\n",
    "#     'sig_time', 'sig_SOI', 'sig_IOD', 'sig_SAM', 'sig_IPO', 'sig_PDO',\n",
    "#     'outl_time', 'outl_SOI', 'outl_IOD', 'outl_SAM', 'outl_IPO', 'outl_PDO',\n",
    "#     *contours_gdf.index.to_list(), 'geometry'\n",
    "# ]]\n",
    "\n",
    "# Insert ID for bug finding\n",
    "# points_gdf_sorted.insert(0, 'id', range(0, len(points_gdf_sorted)))\n"
   ]
  },
  {
   "cell_type": "code",
   "execution_count": 437,
   "metadata": {},
   "outputs": [],
   "source": []
  },
  {
   "cell_type": "code",
   "execution_count": 126,
   "metadata": {},
   "outputs": [],
   "source": [
    "# points_gdf_sorted = points_gdf.filter(regex='geometry|sig')"
   ]
  },
  {
   "cell_type": "code",
   "execution_count": 127,
   "metadata": {},
   "outputs": [],
   "source": [
    "# points_gdf_sorted['best_sig'] = points_gdf_sorted.drop('geometry', axis=1).idxmin(axis=1)"
   ]
  },
  {
   "cell_type": "code",
   "execution_count": 124,
   "metadata": {},
   "outputs": [],
   "source": [
    "# has_sig = points_gdf_sorted.drop('geometry', axis=1).min(axis=1) < 0.05"
   ]
  },
  {
   "cell_type": "code",
   "execution_count": 123,
   "metadata": {},
   "outputs": [],
   "source": [
    "# # Custom sorting\n",
    "# points_gdf_sorted = points_gdf.loc[:, [\n",
    "#     'rate_SOI', 'rate_SOIapril',\n",
    "#     'sig_SOI', 'sig_SOIapril', \n",
    "#     'outl_SOI', 'outl_SOIapril', 'geometry'\n",
    "# ]]\n",
    "\n",
    "# # Insert ID for bug finding\n",
    "# points_gdf_sorted.insert(0, 'id', range(0, len(points_gdf_sorted)))\n",
    "\n",
    "# points_gdf_sorted[has_sig].shape"
   ]
  },
  {
   "cell_type": "code",
   "execution_count": 122,
   "metadata": {},
   "outputs": [],
   "source": [
    "# points_gdf_sorted.mean(axis=0).plot(figsize=(10, 8), title='Average p-value')"
   ]
  },
  {
   "cell_type": "code",
   "execution_count": 125,
   "metadata": {},
   "outputs": [],
   "source": [
    "# ((points_gdf_sorted[has_sig].drop(['geometry', 'best_sig'], axis=1) < 0.05).sum(axis=0) / points_gdf_sorted[has_sig].shape[0]).plot(figsize=(10, 8), title='Number of significant results')"
   ]
  },
  {
   "cell_type": "code",
   "execution_count": 120,
   "metadata": {},
   "outputs": [
    {
     "data": {
      "text/plain": [
       "4097"
      ]
     },
     "execution_count": 120,
     "metadata": {},
     "output_type": "execute_result"
    }
   ],
   "source": [
    "# points_gdf_sorted[has_sig].shape[0]"
   ]
  },
  {
   "cell_type": "code",
   "execution_count": 27,
   "metadata": {},
   "outputs": [],
   "source": [
    "points_gdf_sorted['diff'] = points_gdf_sorted['sig_SOI'] - points_gdf_sorted['sig_SOIapril']"
   ]
  },
  {
   "cell_type": "markdown",
   "metadata": {},
   "source": [
    "## Output file"
   ]
  },
  {
   "cell_type": "code",
   "execution_count": 386,
   "metadata": {},
   "outputs": [],
   "source": [
    "output_filename = f'output_data/{study_area}/{study_area}_stats_{water_index}_{index_threshold}_breakpoints.geojson'\n",
    "points_gdf_sorted[has_sig].to_file(output_filename, driver='GeoJSON')\n"
   ]
  },
  {
   "cell_type": "markdown",
   "metadata": {},
   "source": [
    "## Plot scatters"
   ]
  },
  {
   "cell_type": "code",
   "execution_count": 388,
   "metadata": {},
   "outputs": [
    {
     "data": {
      "text/plain": [
       "<matplotlib.axes._subplots.AxesSubplot at 0x7efdc9a9f860>"
      ]
     },
     "execution_count": 388,
     "metadata": {},
     "output_type": "execute_result"
    },
    {
     "data": {
      "image/png": "[encoded data removed]",
      "text/plain": [
       "<Figure size 432x288 with 2 Axes>"
      ]
     },
     "metadata": {
      "needs_background": "light"
     },
     "output_type": "display_data"
    }
   ],
   "source": [
    "# pd.DataFrame({'x': points_gdf_sorted.loc[points_gdf_sorted.id==1056,contours_gdf.index.to_list()].values[0],\n",
    "#               'y': climate_df['IPO'].values}).plot.scatter(x='x', y='y')\n",
    "\n",
    "pd.DataFrame({'y': points_gdf.loc[3392,contours_gdf.index.to_list()].values.astype(float),\n",
    "              'x': x_years,\n",
    "              'c': climate_df['SOI'].values}).plot.scatter(x='x', y='y', c='c', cmap='viridis')"
   ]
  },
  {
   "cell_type": "code",
   "execution_count": 311,
   "metadata": {},
   "outputs": [
    {
     "data": {
      "text/plain": [
       "<matplotlib.axes._subplots.AxesSubplot at 0x7efdcc37d9e8>"
      ]
     },
     "execution_count": 311,
     "metadata": {},
     "output_type": "execute_result"
    },
    {
     "data": {
      "image/png": "[encoded data removed]",
      "text/plain": [
       "<Figure size 432x288 with 2 Axes>"
      ]
     },
     "metadata": {
      "needs_background": "light"
     },
     "output_type": "display_data"
    }
   ],
   "source": [
    "pd.DataFrame({'y': points_gdf.loc[3292,contours_gdf.index.to_list()].values.astype(float),\n",
    "              'x': climate_df['SOI'].values,\n",
    "              'c': climate_df['SOI'].values}).plot.scatter(x='x', y='y', c='c', cmap='viridis')"
   ]
  },
  {
   "cell_type": "code",
   "execution_count": 325,
   "metadata": {},
   "outputs": [
    {
     "name": "stdout",
     "output_type": "stream",
     "text": [
      "Collecting ruptures\n",
      "\u001b[?25l  Downloading https://files.pythonhosted.org/packages/f2/cf/90aaa36504fef08ac7fd91bd543c99e27e27ff0ba961516b05289333aeb8/ruptures-1.0.1-py3-none-any.whl (54kB)\n",
      "\u001b[K     |████████████████████████████████| 61kB 13.5MB/s eta 0:00:01\n",
      "\u001b[?25hRequirement already satisfied: scipy in /usr/local/lib/python3.6/dist-packages (from ruptures) (1.3.1)\n",
      "Requirement already satisfied: numpy in /usr/local/lib/python3.6/dist-packages (from ruptures) (1.16.2)\n",
      "Installing collected packages: ruptures\n",
      "Successfully installed ruptures-1.0.1\n",
      "Note: you may need to restart the kernel to use updated packages.\n"
     ]
    }
   ],
   "source": []
  },
  {
   "cell_type": "code",
   "execution_count": 335,
   "metadata": {},
   "outputs": [
    {
     "data": {
      "image/png": "[encoded data removed]",
      "text/plain": [
       "<Figure size 720x144 with 1 Axes>"
      ]
     },
     "metadata": {
      "needs_background": "light"
     },
     "output_type": "display_data"
    }
   ],
   "source": [
    "import matplotlib.pyplot as plt\n",
    "\n",
    "\n",
    "# generate signal\n",
    "n_samples, dim, sigma = 1000, 1, 4\n",
    "n_bkps = 4  # number of breakpoints\n",
    "signal, bkps = rpt.pw_constant(n_samples, dim, n_bkps, noise_std=sigma)\n",
    "\n",
    "# detection\n",
    "algo = rpt.Pelt(model=\"rbf\").fit(signal)\n",
    "result = algo.predict(pen=10)\n",
    "\n",
    "# display\n",
    "rpt.display(signal, [2013], result)\n",
    "plt.show()"
   ]
  },
  {
   "cell_type": "code",
   "execution_count": 455,
   "metadata": {},
   "outputs": [
    {
     "name": "stdout",
     "output_type": "stream",
     "text": [
      "1997\n"
     ]
    },
    {
     "data": {
      "text/plain": [
       "(<Figure size 720x144 with 1 Axes>,\n",
       " [<matplotlib.axes._subplots.AxesSubplot at 0x7efdca4999e8>])"
      ]
     },
     "execution_count": 455,
     "metadata": {},
     "output_type": "execute_result"
    },
    {
     "data": {
      "image/png": "[encoded data removed]",
      "text/plain": [
       "<Figure size 720x144 with 1 Axes>"
      ]
     },
     "metadata": {
      "needs_background": "light"
     },
     "output_type": "display_data"
    }
   ],
   "source": [
    "signal = points_gdf.loc[136,contours_gdf.index.to_list()].values\n",
    "\n",
    "# detection\n",
    "algo = rpt.Pelt(model=\"rbf\").fit(signal)\n",
    "result = algo.predict(pen=8)\n",
    "print(contours_gdf.index.to_list()[result[0]])\n",
    "rpt.display(signal, [15], result)\n"
   ]
  },
  {
   "cell_type": "code",
   "execution_count": 453,
   "metadata": {},
   "outputs": [],
   "source": [
    "\n",
    "    \n",
    "# points_gdf['breakpoints'] = points_gdf.apply(lambda x: breakpoints(x=x[1:33], pen=8), axis=1)"
   ]
  },
  {
   "cell_type": "code",
   "execution_count": 454,
   "metadata": {},
   "outputs": [],
   "source": [
    "output_filename = f'output_data/{study_area}/{study_area}_stats_{water_index}_{index_threshold}_breakpoints.geojson'\n",
    "points_gdf.to_file(output_filename, driver='GeoJSON')\n"
   ]
  },
  {
   "cell_type": "code",
   "execution_count": 110,
   "metadata": {},
   "outputs": [
    {
     "data": {
      "text/html": [
       "<style  type=\"text/css\" >\n",
       "    #T_0eb4c4be_0410_11ea_ae69_66b034817c26row0_col0 {\n",
       "            background-color:  #053061;\n",
       "            color:  #f1f1f1;\n",
       "        }    #T_0eb4c4be_0410_11ea_ae69_66b034817c26row0_col1 {\n",
       "            background-color:  #67001f;\n",
       "            color:  #f1f1f1;\n",
       "        }    #T_0eb4c4be_0410_11ea_ae69_66b034817c26row0_col2 {\n",
       "            background-color:  #fcd7c2;\n",
       "            color:  #000000;\n",
       "        }    #T_0eb4c4be_0410_11ea_ae69_66b034817c26row0_col3 {\n",
       "            background-color:  #67001f;\n",
       "            color:  #f1f1f1;\n",
       "        }    #T_0eb4c4be_0410_11ea_ae69_66b034817c26row0_col4 {\n",
       "            background-color:  #67001f;\n",
       "            color:  #f1f1f1;\n",
       "        }    #T_0eb4c4be_0410_11ea_ae69_66b034817c26row1_col0 {\n",
       "            background-color:  #fddcc9;\n",
       "            color:  #000000;\n",
       "        }    #T_0eb4c4be_0410_11ea_ae69_66b034817c26row1_col1 {\n",
       "            background-color:  #053061;\n",
       "            color:  #f1f1f1;\n",
       "        }    #T_0eb4c4be_0410_11ea_ae69_66b034817c26row1_col2 {\n",
       "            background-color:  #e58368;\n",
       "            color:  #000000;\n",
       "        }    #T_0eb4c4be_0410_11ea_ae69_66b034817c26row1_col3 {\n",
       "            background-color:  #e4eef4;\n",
       "            color:  #000000;\n",
       "        }    #T_0eb4c4be_0410_11ea_ae69_66b034817c26row1_col4 {\n",
       "            background-color:  #f5ac8b;\n",
       "            color:  #000000;\n",
       "        }    #T_0eb4c4be_0410_11ea_ae69_66b034817c26row2_col0 {\n",
       "            background-color:  #c7e0ed;\n",
       "            color:  #000000;\n",
       "        }    #T_0eb4c4be_0410_11ea_ae69_66b034817c26row2_col1 {\n",
       "            background-color:  #d7634f;\n",
       "            color:  #000000;\n",
       "        }    #T_0eb4c4be_0410_11ea_ae69_66b034817c26row2_col2 {\n",
       "            background-color:  #053061;\n",
       "            color:  #f1f1f1;\n",
       "        }    #T_0eb4c4be_0410_11ea_ae69_66b034817c26row2_col3 {\n",
       "            background-color:  #facab1;\n",
       "            color:  #000000;\n",
       "        }    #T_0eb4c4be_0410_11ea_ae69_66b034817c26row2_col4 {\n",
       "            background-color:  #f8bb9e;\n",
       "            color:  #000000;\n",
       "        }    #T_0eb4c4be_0410_11ea_ae69_66b034817c26row3_col0 {\n",
       "            background-color:  #67001f;\n",
       "            color:  #f1f1f1;\n",
       "        }    #T_0eb4c4be_0410_11ea_ae69_66b034817c26row3_col1 {\n",
       "            background-color:  #e17860;\n",
       "            color:  #000000;\n",
       "        }    #T_0eb4c4be_0410_11ea_ae69_66b034817c26row3_col2 {\n",
       "            background-color:  #67001f;\n",
       "            color:  #f1f1f1;\n",
       "        }    #T_0eb4c4be_0410_11ea_ae69_66b034817c26row3_col3 {\n",
       "            background-color:  #053061;\n",
       "            color:  #f1f1f1;\n",
       "        }    #T_0eb4c4be_0410_11ea_ae69_66b034817c26row3_col4 {\n",
       "            background-color:  #2870b1;\n",
       "            color:  #f1f1f1;\n",
       "        }    #T_0eb4c4be_0410_11ea_ae69_66b034817c26row4_col0 {\n",
       "            background-color:  #c13639;\n",
       "            color:  #f1f1f1;\n",
       "        }    #T_0eb4c4be_0410_11ea_ae69_66b034817c26row4_col1 {\n",
       "            background-color:  #6d0220;\n",
       "            color:  #f1f1f1;\n",
       "        }    #T_0eb4c4be_0410_11ea_ae69_66b034817c26row4_col2 {\n",
       "            background-color:  #b41c2d;\n",
       "            color:  #f1f1f1;\n",
       "        }    #T_0eb4c4be_0410_11ea_ae69_66b034817c26row4_col3 {\n",
       "            background-color:  #2369ad;\n",
       "            color:  #f1f1f1;\n",
       "        }    #T_0eb4c4be_0410_11ea_ae69_66b034817c26row4_col4 {\n",
       "            background-color:  #053061;\n",
       "            color:  #f1f1f1;\n",
       "        }</style><table id=\"T_0eb4c4be_0410_11ea_ae69_66b034817c26\" ><thead>    <tr>        <th class=\"blank level0\" ></th>        <th class=\"col_heading level0 col0\" >SOI</th>        <th class=\"col_heading level0 col1\" >IOD</th>        <th class=\"col_heading level0 col2\" >SAM</th>        <th class=\"col_heading level0 col3\" >IPO</th>        <th class=\"col_heading level0 col4\" >PDO</th>    </tr></thead><tbody>\n",
       "                <tr>\n",
       "                        <th id=\"T_0eb4c4be_0410_11ea_ae69_66b034817c26level0_row0\" class=\"row_heading level0 row0\" >SOI</th>\n",
       "                        <td id=\"T_0eb4c4be_0410_11ea_ae69_66b034817c26row0_col0\" class=\"data row0 col0\" >1</td>\n",
       "                        <td id=\"T_0eb4c4be_0410_11ea_ae69_66b034817c26row0_col1\" class=\"data row0 col1\" >-0.149045</td>\n",
       "                        <td id=\"T_0eb4c4be_0410_11ea_ae69_66b034817c26row0_col2\" class=\"data row0 col2\" >0.257043</td>\n",
       "                        <td id=\"T_0eb4c4be_0410_11ea_ae69_66b034817c26row0_col3\" class=\"data row0 col3\" >-0.934444</td>\n",
       "                        <td id=\"T_0eb4c4be_0410_11ea_ae69_66b034817c26row0_col4\" class=\"data row0 col4\" >-0.660468</td>\n",
       "            </tr>\n",
       "            <tr>\n",
       "                        <th id=\"T_0eb4c4be_0410_11ea_ae69_66b034817c26level0_row1\" class=\"row_heading level0 row1\" >IOD</th>\n",
       "                        <td id=\"T_0eb4c4be_0410_11ea_ae69_66b034817c26row1_col0\" class=\"data row1 col0\" >-0.149045</td>\n",
       "                        <td id=\"T_0eb4c4be_0410_11ea_ae69_66b034817c26row1_col1\" class=\"data row1 col1\" >1</td>\n",
       "                        <td id=\"T_0eb4c4be_0410_11ea_ae69_66b034817c26row1_col2\" class=\"data row1 col2\" >0.0852707</td>\n",
       "                        <td id=\"T_0eb4c4be_0410_11ea_ae69_66b034817c26row1_col3\" class=\"data row1 col3\" >0.124374</td>\n",
       "                        <td id=\"T_0eb4c4be_0410_11ea_ae69_66b034817c26row1_col4\" class=\"data row1 col4\" >-0.137683</td>\n",
       "            </tr>\n",
       "            <tr>\n",
       "                        <th id=\"T_0eb4c4be_0410_11ea_ae69_66b034817c26level0_row2\" class=\"row_heading level0 row2\" >SAM</th>\n",
       "                        <td id=\"T_0eb4c4be_0410_11ea_ae69_66b034817c26row2_col0\" class=\"data row2 col0\" >0.257043</td>\n",
       "                        <td id=\"T_0eb4c4be_0410_11ea_ae69_66b034817c26row2_col1\" class=\"data row2 col1\" >0.0852707</td>\n",
       "                        <td id=\"T_0eb4c4be_0410_11ea_ae69_66b034817c26row2_col2\" class=\"data row2 col2\" >1</td>\n",
       "                        <td id=\"T_0eb4c4be_0410_11ea_ae69_66b034817c26row2_col3\" class=\"data row2 col3\" >-0.222815</td>\n",
       "                        <td id=\"T_0eb4c4be_0410_11ea_ae69_66b034817c26row2_col4\" class=\"data row2 col4\" >-0.0916079</td>\n",
       "            </tr>\n",
       "            <tr>\n",
       "                        <th id=\"T_0eb4c4be_0410_11ea_ae69_66b034817c26level0_row3\" class=\"row_heading level0 row3\" >IPO</th>\n",
       "                        <td id=\"T_0eb4c4be_0410_11ea_ae69_66b034817c26row3_col0\" class=\"data row3 col0\" >-0.934444</td>\n",
       "                        <td id=\"T_0eb4c4be_0410_11ea_ae69_66b034817c26row3_col1\" class=\"data row3 col1\" >0.124374</td>\n",
       "                        <td id=\"T_0eb4c4be_0410_11ea_ae69_66b034817c26row3_col2\" class=\"data row3 col2\" >-0.222815</td>\n",
       "                        <td id=\"T_0eb4c4be_0410_11ea_ae69_66b034817c26row3_col3\" class=\"data row3 col3\" >1</td>\n",
       "                        <td id=\"T_0eb4c4be_0410_11ea_ae69_66b034817c26row3_col4\" class=\"data row3 col4\" >0.792527</td>\n",
       "            </tr>\n",
       "            <tr>\n",
       "                        <th id=\"T_0eb4c4be_0410_11ea_ae69_66b034817c26level0_row4\" class=\"row_heading level0 row4\" >PDO</th>\n",
       "                        <td id=\"T_0eb4c4be_0410_11ea_ae69_66b034817c26row4_col0\" class=\"data row4 col0\" >-0.660468</td>\n",
       "                        <td id=\"T_0eb4c4be_0410_11ea_ae69_66b034817c26row4_col1\" class=\"data row4 col1\" >-0.137683</td>\n",
       "                        <td id=\"T_0eb4c4be_0410_11ea_ae69_66b034817c26row4_col2\" class=\"data row4 col2\" >-0.0916079</td>\n",
       "                        <td id=\"T_0eb4c4be_0410_11ea_ae69_66b034817c26row4_col3\" class=\"data row4 col3\" >0.792527</td>\n",
       "                        <td id=\"T_0eb4c4be_0410_11ea_ae69_66b034817c26row4_col4\" class=\"data row4 col4\" >1</td>\n",
       "            </tr>\n",
       "    </tbody></table>"
      ],
      "text/plain": [
       "<pandas.io.formats.style.Styler at 0x7fe86292d3c8>"
      ]
     },
     "execution_count": 110,
     "metadata": {},
     "output_type": "execute_result"
    }
   ],
   "source": [
    "corr = climate_df.corr()\n",
    "corr.style.background_gradient(cmap='RdBu')"
   ]
  },
  {
   "cell_type": "markdown",
   "metadata": {},
   "source": [
    "***\n",
    "\n",
    "## Additional information"
   ]
  },
  {
   "cell_type": "markdown",
   "metadata": {},
   "source": [
    "**License:** The code in this notebook is licensed under the [Apache License, Version 2.0](https://www.apache.org/licenses/LICENSE-2.0). \n",
    "Digital Earth Australia data is licensed under the [Creative Commons by Attribution 4.0](https://creativecommons.org/licenses/by/4.0/) license.\n",
    "\n",
    "**Contact:** If you need assistance, please post a question on the [Open Data Cube Slack channel](http://slack.opendatacube.org/) or on the [GIS Stack Exchange](https://gis.stackexchange.com/questions/ask?tags=open-data-cube) using the `open-data-cube` tag (you can view previously asked questions [here](https://gis.stackexchange.com/questions/tagged/open-data-cube)).\n",
    "If you would like to report an issue with this notebook, you can file one on [Github](https://github.com/GeoscienceAustralia/dea-notebooks).\n",
    "\n",
    "**Last modified:** October 2019\n",
    "\n",
    "**Compatible datacube version:** "
   ]
  },
  {
   "cell_type": "code",
   "execution_count": null,
   "metadata": {},
   "outputs": [],
   "source": [
    "print(datacube.__version__)"
   ]
  },
  {
   "cell_type": "markdown",
   "metadata": {},
   "source": [
    "## Tags\n",
    "Browse all available tags on the DEA User Guide's [Tags Index](https://docs.dea.ga.gov.au/genindex.html)"
   ]
  },
  {
   "cell_type": "raw",
   "metadata": {
    "raw_mimetype": "text/restructuredtext"
   },
   "source": [
    "**Tags**: :index:`NCI compatible`, :index:`sandbox compatible`, :index:`sentinel 2`, :index:`dea_plotting`, :index:`rgb`, :index:`virtual products`, :index:`NDVI`, :index:`tasseled cap`, :index:`cloud masking`, :index:`dask`, :index:`image compositing`, :index:`statistics`, :index:`pixel quality`, :index:`combining data`, :index:`native load`, :index:`reprojecting`"
   ]
  }
 ],
 "metadata": {
  "kernelspec": {
   "display_name": "Python 3",
   "language": "python",
   "name": "python3"
  },
  "language_info": {
   "codemirror_mode": {
    "name": "ipython",
    "version": 3
   },
   "file_extension": ".py",
   "mimetype": "text/x-python",
   "name": "python",
   "nbconvert_exporter": "python",
   "pygments_lexer": "ipython3",
   "version": "3.6.8"
  },
  "widgets": {
   "application/vnd.jupyter.widget-state+json": {
    "state": {},
    "version_major": 2,
    "version_minor": 0
   }
  }
 },
 "nbformat": 4,
 "nbformat_minor": 4
}
