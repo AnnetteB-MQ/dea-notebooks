{
 "cells": [
  {
   "cell_type": "markdown",
   "metadata": {},
   "source": [
    "# MAHTS stats"
   ]
  },
  {
   "cell_type": "code",
   "execution_count": 44,
   "metadata": {},
   "outputs": [
    {
     "name": "stdout",
     "output_type": "stream",
     "text": [
      "Filesystem      Size  Used Avail Use% Mounted on\n",
      "overlay         108G   12G   96G  11% /\n",
      "tmpfs            68M     0   68M   0% /dev\n",
      "tmpfs            67G     0   67G   0% /sys/fs/cgroup\n",
      "/dev/nvme0n1p1  108G   12G   96G  11% /notebooks\n",
      "/dev/nvme1n1     11G  9.5G  933M  92% /home/jovyan\n",
      "shm              68M   50k   68M   1% /dev/shm\n",
      "tmpfs            67G     0   67G   0% /proc/acpi\n",
      "tmpfs            67G     0   67G   0% /sys/firmware\n"
     ]
    }
   ],
   "source": [
    "!df -H"
   ]
  },
  {
   "cell_type": "markdown",
   "metadata": {},
   "source": [
    "## Background\n"
   ]
  },
  {
   "cell_type": "markdown",
   "metadata": {},
   "source": [
    "## Description\n",
    "\n"
   ]
  },
  {
   "cell_type": "markdown",
   "metadata": {},
   "source": [
    "## Getting started\n"
   ]
  },
  {
   "cell_type": "markdown",
   "metadata": {},
   "source": [
    "### Load packages\n",
    "\n",
    "First we import the required Python packages, then we connect to the database, and load the catalog of virtual products."
   ]
  },
  {
   "cell_type": "code",
   "execution_count": 370,
   "metadata": {},
   "outputs": [
    {
     "name": "stdout",
     "output_type": "stream",
     "text": [
      "The line_profiler extension is already loaded. To reload it, use:\n",
      "  %reload_ext line_profiler\n",
      "The autoreload extension is already loaded. To reload it, use:\n",
      "  %reload_ext autoreload\n"
     ]
    }
   ],
   "source": [
    "%matplotlib inline\n",
    "%load_ext line_profiler\n",
    "%load_ext autoreload\n",
    "%autoreload 2\n",
    "\n",
    "# pip install --user ruptures\n",
    "\n",
    "import sys\n",
    "import glob\n",
    "import numpy as np\n",
    "import xarray as xr\n",
    "import pandas as pd\n",
    "import geopandas as gpd\n",
    "import ruptures as rpt\n",
    "from scipy import stats\n",
    "from shapely.wkt import loads\n",
    "from shapely.ops import nearest_points\n",
    "from rasterio.features import rasterize\n",
    "from skimage.morphology import disk\n",
    "from skimage.morphology import square\n",
    "from skimage.morphology import binary_opening\n",
    "from skimage.morphology import binary_dilation\n",
    "\n",
    "sys.path.append('../Scripts')\n",
    "from dea_spatialtools import largest_region\n",
    "from dea_spatialtools import subpixel_contours\n",
    "from dea_spatialtools import largest_region\n",
    "from dea_plotting import map_shapefile\n",
    "\n",
    "def change_regress(row, \n",
    "                   x_vals, \n",
    "                   x_labels, \n",
    "                   std_dev=3, \n",
    "                   detrend_params=None,\n",
    "                   slope_var='slope', \n",
    "                   interc_var='intercept',\n",
    "                   pvalue_var='pvalue', \n",
    "                   outliers_var='outliers'):\n",
    "    \n",
    "    # Extract x (time) and y (distance) values\n",
    "    x = x_vals\n",
    "    y = row.values.astype(np.float)\n",
    "    \n",
    "    # Drop NAN rows\n",
    "    xy_df = np.vstack([x, y]).T\n",
    "    is_valid = ~np.isnan(xy_df).any(axis=1)\n",
    "    xy_df = xy_df[is_valid]\n",
    "    valid_labels = x_labels[is_valid]\n",
    "    \n",
    "    # If detrending parameters are provided, apply these to the data to\n",
    "    # remove the trend prior to running the regression\n",
    "    if detrend_params:\n",
    "        xy_df[:,1] = xy_df[:,1]-(detrend_params[0]*xy_df[:,0]+detrend_params[1])    \n",
    "    \n",
    "    # Remove outliers\n",
    "    outlier_bool = (np.abs(stats.zscore(xy_df)) < float(std_dev)).all(axis=1)\n",
    "    xy_df = xy_df[outlier_bool]\n",
    "        \n",
    "    # Compute linear regression\n",
    "    lin_reg = stats.linregress(x=xy_df[:,0], \n",
    "                               y=xy_df[:,1])  \n",
    "       \n",
    "    # Return slope, p-values and list of outlier years excluded from regression   \n",
    "    return pd.Series({slope_var: np.round(lin_reg.slope, 3), \n",
    "                      interc_var: np.round(lin_reg.intercept, 3),\n",
    "                      pvalue_var: np.round(lin_reg.pvalue, 3),\n",
    "                      outliers_var: ' '.join(map(str, valid_labels[~outlier_bool]))})\n",
    "\n",
    "\n",
    "def breakpoints(x, model='rbf', pen=10, min_size=2, jump=1):\n",
    "    signal = x.values\n",
    "    algo = rpt.Pelt(model=model, min_size=min_size, jump=jump).fit(signal)\n",
    "    result = algo.predict(pen=pen)\n",
    "    if len(result) > 1:\n",
    "        return [x_years[i] for i in result[0:-1]][0]\n",
    "    else:\n",
    "        return None\n",
    "\n",
    "    \n",
    "def mask_ocean(bool_array, connectivity=1):\n",
    "    '''\n",
    "    Identifies ocean by selecting the largest connected area of water\n",
    "    pixels, then dilating this region by 1 pixel to include mixed pixels\n",
    "    '''\n",
    "    \n",
    "    ocean_mask = largest_region(bool_array, connectivity=connectivity)\n",
    "    ocean_mask = binary_dilation(ocean_mask, selem=square(3))\n",
    "\n",
    "    return ocean_mask\n",
    "\n",
    "\n",
    "# # This will speed up loading data\n",
    "# import datacube.utils.rio\n",
    "# datacube.utils.rio.configure_s3_access(aws_unsigned=True)\n"
   ]
  },
  {
   "cell_type": "code",
   "execution_count": 425,
   "metadata": {},
   "outputs": [
    {
     "data": {
      "text/html": [
       "<div>\n",
       "<style scoped>\n",
       "    .dataframe tbody tr th:only-of-type {\n",
       "        vertical-align: middle;\n",
       "    }\n",
       "\n",
       "    .dataframe tbody tr th {\n",
       "        vertical-align: top;\n",
       "    }\n",
       "\n",
       "    .dataframe thead th {\n",
       "        text-align: right;\n",
       "    }\n",
       "</style>\n",
       "<table border=\"1\" class=\"dataframe\">\n",
       "  <thead>\n",
       "    <tr style=\"text-align: right;\">\n",
       "      <th></th>\n",
       "      <th>-2_feb</th>\n",
       "      <th>-2_mar</th>\n",
       "      <th>-2_apr</th>\n",
       "      <th>-2_may</th>\n",
       "      <th>-2_jun</th>\n",
       "      <th>-2_jul</th>\n",
       "      <th>-2_aug</th>\n",
       "      <th>-2_sep</th>\n",
       "      <th>-2_oct</th>\n",
       "      <th>-2_nov</th>\n",
       "      <th>...</th>\n",
       "      <th>0_apr</th>\n",
       "      <th>0_may</th>\n",
       "      <th>0_jun</th>\n",
       "      <th>0_jul</th>\n",
       "      <th>0_aug</th>\n",
       "      <th>0_sep</th>\n",
       "      <th>0_oct</th>\n",
       "      <th>0_nov</th>\n",
       "      <th>0_dec</th>\n",
       "      <th>1_jan</th>\n",
       "    </tr>\n",
       "    <tr>\n",
       "      <th>year</th>\n",
       "      <th></th>\n",
       "      <th></th>\n",
       "      <th></th>\n",
       "      <th></th>\n",
       "      <th></th>\n",
       "      <th></th>\n",
       "      <th></th>\n",
       "      <th></th>\n",
       "      <th></th>\n",
       "      <th></th>\n",
       "      <th></th>\n",
       "      <th></th>\n",
       "      <th></th>\n",
       "      <th></th>\n",
       "      <th></th>\n",
       "      <th></th>\n",
       "      <th></th>\n",
       "      <th></th>\n",
       "      <th></th>\n",
       "      <th></th>\n",
       "      <th></th>\n",
       "    </tr>\n",
       "  </thead>\n",
       "  <tbody>\n",
       "    <tr>\n",
       "      <th>1987</th>\n",
       "      <td>1.816667</td>\n",
       "      <td>0.366667</td>\n",
       "      <td>0.600000</td>\n",
       "      <td>-0.500000</td>\n",
       "      <td>-1.283333</td>\n",
       "      <td>0.408333</td>\n",
       "      <td>0.783333</td>\n",
       "      <td>-0.558333</td>\n",
       "      <td>-1.008333</td>\n",
       "      <td>-0.033333</td>\n",
       "      <td>...</td>\n",
       "      <td>-10.425000</td>\n",
       "      <td>-8.500000</td>\n",
       "      <td>-5.866667</td>\n",
       "      <td>-4.516667</td>\n",
       "      <td>-2.025000</td>\n",
       "      <td>0.383333</td>\n",
       "      <td>2.991667</td>\n",
       "      <td>4.675000</td>\n",
       "      <td>6.541667</td>\n",
       "      <td>7.816667</td>\n",
       "    </tr>\n",
       "    <tr>\n",
       "      <th>1988</th>\n",
       "      <td>-3.575000</td>\n",
       "      <td>-3.733333</td>\n",
       "      <td>-5.183333</td>\n",
       "      <td>-7.316667</td>\n",
       "      <td>-8.566667</td>\n",
       "      <td>-11.133333</td>\n",
       "      <td>-12.866667</td>\n",
       "      <td>-13.400000</td>\n",
       "      <td>-13.900000</td>\n",
       "      <td>-14.875000</td>\n",
       "      <td>...</td>\n",
       "      <td>10.541667</td>\n",
       "      <td>12.400000</td>\n",
       "      <td>12.791667</td>\n",
       "      <td>13.733333</td>\n",
       "      <td>13.575000</td>\n",
       "      <td>11.808333</td>\n",
       "      <td>10.608333</td>\n",
       "      <td>10.000000</td>\n",
       "      <td>8.083333</td>\n",
       "      <td>6.766667</td>\n",
       "    </tr>\n",
       "    <tr>\n",
       "      <th>1989</th>\n",
       "      <td>-12.641667</td>\n",
       "      <td>-12.008333</td>\n",
       "      <td>-10.425000</td>\n",
       "      <td>-8.500000</td>\n",
       "      <td>-5.866667</td>\n",
       "      <td>-4.516667</td>\n",
       "      <td>-2.025000</td>\n",
       "      <td>0.383333</td>\n",
       "      <td>2.991667</td>\n",
       "      <td>4.675000</td>\n",
       "      <td>...</td>\n",
       "      <td>2.108333</td>\n",
       "      <td>0.316667</td>\n",
       "      <td>0.183333</td>\n",
       "      <td>-0.350000</td>\n",
       "      <td>-0.675000</td>\n",
       "      <td>-0.566667</td>\n",
       "      <td>-1.675000</td>\n",
       "      <td>-2.133333</td>\n",
       "      <td>-2.408333</td>\n",
       "      <td>-2.191667</td>\n",
       "    </tr>\n",
       "    <tr>\n",
       "      <th>1990</th>\n",
       "      <td>9.008333</td>\n",
       "      <td>10.183333</td>\n",
       "      <td>10.541667</td>\n",
       "      <td>12.400000</td>\n",
       "      <td>12.791667</td>\n",
       "      <td>13.733333</td>\n",
       "      <td>13.575000</td>\n",
       "      <td>11.808333</td>\n",
       "      <td>10.608333</td>\n",
       "      <td>10.000000</td>\n",
       "      <td>...</td>\n",
       "      <td>-0.358333</td>\n",
       "      <td>-1.391667</td>\n",
       "      <td>-4.091667</td>\n",
       "      <td>-4.633333</td>\n",
       "      <td>-5.233333</td>\n",
       "      <td>-5.450000</td>\n",
       "      <td>-6.200000</td>\n",
       "      <td>-7.425000</td>\n",
       "      <td>-7.591667</td>\n",
       "      <td>-8.783333</td>\n",
       "    </tr>\n",
       "    <tr>\n",
       "      <th>1991</th>\n",
       "      <td>5.575000</td>\n",
       "      <td>3.375000</td>\n",
       "      <td>2.108333</td>\n",
       "      <td>0.316667</td>\n",
       "      <td>0.183333</td>\n",
       "      <td>-0.350000</td>\n",
       "      <td>-0.675000</td>\n",
       "      <td>-0.566667</td>\n",
       "      <td>-1.675000</td>\n",
       "      <td>-2.133333</td>\n",
       "      <td>...</td>\n",
       "      <td>-13.283333</td>\n",
       "      <td>-13.766667</td>\n",
       "      <td>-12.116667</td>\n",
       "      <td>-12.725000</td>\n",
       "      <td>-13.158333</td>\n",
       "      <td>-12.408333</td>\n",
       "      <td>-10.958333</td>\n",
       "      <td>-11.316667</td>\n",
       "      <td>-11.316667</td>\n",
       "      <td>-10.383333</td>\n",
       "    </tr>\n",
       "  </tbody>\n",
       "</table>\n",
       "<p>5 rows × 36 columns</p>\n",
       "</div>"
      ],
      "text/plain": [
       "         -2_feb     -2_mar     -2_apr     -2_may     -2_jun     -2_jul  \\\n",
       "year                                                                     \n",
       "1987   1.816667   0.366667   0.600000  -0.500000  -1.283333   0.408333   \n",
       "1988  -3.575000  -3.733333  -5.183333  -7.316667  -8.566667 -11.133333   \n",
       "1989 -12.641667 -12.008333 -10.425000  -8.500000  -5.866667  -4.516667   \n",
       "1990   9.008333  10.183333  10.541667  12.400000  12.791667  13.733333   \n",
       "1991   5.575000   3.375000   2.108333   0.316667   0.183333  -0.350000   \n",
       "\n",
       "         -2_aug     -2_sep     -2_oct     -2_nov  ...      0_apr      0_may  \\\n",
       "year                                              ...                         \n",
       "1987   0.783333  -0.558333  -1.008333  -0.033333  ... -10.425000  -8.500000   \n",
       "1988 -12.866667 -13.400000 -13.900000 -14.875000  ...  10.541667  12.400000   \n",
       "1989  -2.025000   0.383333   2.991667   4.675000  ...   2.108333   0.316667   \n",
       "1990  13.575000  11.808333  10.608333  10.000000  ...  -0.358333  -1.391667   \n",
       "1991  -0.675000  -0.566667  -1.675000  -2.133333  ... -13.283333 -13.766667   \n",
       "\n",
       "          0_jun      0_jul      0_aug      0_sep      0_oct      0_nov  \\\n",
       "year                                                                     \n",
       "1987  -5.866667  -4.516667  -2.025000   0.383333   2.991667   4.675000   \n",
       "1988  12.791667  13.733333  13.575000  11.808333  10.608333  10.000000   \n",
       "1989   0.183333  -0.350000  -0.675000  -0.566667  -1.675000  -2.133333   \n",
       "1990  -4.091667  -4.633333  -5.233333  -5.450000  -6.200000  -7.425000   \n",
       "1991 -12.116667 -12.725000 -13.158333 -12.408333 -10.958333 -11.316667   \n",
       "\n",
       "          0_dec      1_jan  \n",
       "year                        \n",
       "1987   6.541667   7.816667  \n",
       "1988   8.083333   6.766667  \n",
       "1989  -2.408333  -2.191667  \n",
       "1990  -7.591667  -8.783333  \n",
       "1991 -11.316667 -10.383333  \n",
       "\n",
       "[5 rows x 36 columns]"
      ]
     },
     "execution_count": 425,
     "metadata": {},
     "output_type": "execute_result"
    }
   ],
   "source": [
    "# df = pd.read_csv('input_data/soi_all.csv')\n",
    "# df_long = pd.melt(df, id_vars=['year'], var_name='month')\n",
    "# df_long['month'] = df_long.month.astype(int)\n",
    "# df_long = df_long.sort_values(['year', 'month'])\n",
    "# df_long.head()\n",
    "\n",
    "# df_long['yearly_ave'] = df_long.value.rolling(window=12).mean()\n",
    "\n",
    "# names_dict = {-12: 'feb', -11: 'mar', -10: 'apr', -9: 'may', \n",
    "#               -8: 'jun', -7: 'jul', -6: 'aug', -5: 'sep', \n",
    "#               -4: 'oct', -3: 'nov', -2: 'dec', -1: 'jan'}\n",
    "\n",
    "# out = {}\n",
    "# for i in [-12, -11, -10, -9, -8, -7, -6, -5, -4, -3, -2, -1]:\n",
    "#     out[names_dict[i]] = df_long.groupby('year').nth(i).yearly_ave\n",
    "# prev_year = pd.concat(out, axis=1).loc[:,list(names_dict.values())].add_prefix('-1_')\n",
    "# prev_year = prev_year.rename({'-1_jan': '0_jan'}, axis=1)\n",
    "# prev_year.tail()\n",
    "\n",
    "# df_shifted = df_long.shift(-12)\n",
    "# df_shifted['year'] = df_shifted.year.fillna(2020)\n",
    "# df_shifted['yearly_ave'] = df_shifted.value.rolling(window=12).mean()\n",
    "\n",
    "# out = {}\n",
    "# for i in [-12, -11, -10, -9, -8, -7, -6, -5, -4, -3, -2, -1]:\n",
    "#     out[names_dict[i]] = df_shifted.groupby('year').nth(i).yearly_ave\n",
    "# current_year = pd.concat(out, axis=1).loc[:,list(names_dict.values())].add_prefix('0_')\n",
    "# current_year = current_year.rename({'0_jan': '1_jan'}, axis=1)\n",
    "# current_year.index = current_year.index - 1\n",
    "# current_year.tail()\n",
    "\n",
    "# df_shifted = df_long.shift(12)\n",
    "# df_shifted['year'] = df_shifted.year.fillna(1984)\n",
    "# df_shifted['yearly_ave'] = df_shifted.value.rolling(window=12).mean()\n",
    "\n",
    "# out = {}\n",
    "# for i in [-12, -11, -10, -9, -8, -7, -6, -5, -4, -3, -2, -1]:\n",
    "#     out[names_dict[i]] = df_shifted.groupby('year').nth(i).yearly_ave\n",
    "# prevprev_year = pd.concat(out, axis=1).loc[:,list(names_dict.values())].add_prefix('-2_')\n",
    "# prevprev_year = prevprev_year.rename({'-2_jan': '-1_jan'}, axis=1)\n",
    "# prevprev_year.index = prevprev_year.index + 1\n",
    "# prevprev_year.tail()\n",
    "\n",
    "# climate_df = pd.concat([prevprev_year, prev_year, current_year], axis=1).loc[range(1987, 2019)]\n",
    "# climate_df.head()"
   ]
  },
  {
   "cell_type": "markdown",
   "metadata": {},
   "source": [
    "## Load in data"
   ]
  },
  {
   "cell_type": "code",
   "execution_count": 378,
   "metadata": {},
   "outputs": [
    {
     "data": {
      "text/plain": [
       "<xarray.Dataset>\n",
       "Dimensions:  (x: 314, y: 2581, year: 33)\n",
       "Coordinates:\n",
       "  * y        (y) float64 6.881e+06 6.880e+06 6.88e+06 ... 6.803e+06 6.803e+06\n",
       "  * x        (x) float64 5.536e+05 5.536e+05 5.537e+05 ... 5.63e+05 5.63e+05\n",
       "  * year     (year) int64 1987 1988 1989 1990 1991 ... 2015 2016 2017 2018 2019\n",
       "Data variables:\n",
       "    mndwi    (year, y, x) float32 -0.13962284 -0.16169216 ... 0.18139905\n",
       "    stdev    (year, y, x) float32 0.043762274 0.031229421 ... 0.034875028\n",
       "    count    (year, y, x) int16 2 2 2 2 2 2 2 2 2 2 2 ... 3 3 3 3 3 3 3 3 2 2 2\n",
       "Attributes:\n",
       "    crs:        +init=epsg:32756\n",
       "    transform:  | 30.00, 0.00, 553605.00|\\n| 0.00,-30.00, 6880545.00|\\n| 0.00..."
      ]
     },
     "execution_count": 378,
     "metadata": {},
     "output_type": "execute_result"
    }
   ],
   "source": [
    "# Read in contours\n",
    "study_area = 'goldcoast_test'\n",
    "water_index = 'mndwi'\n",
    "index_threshold = 0.00\n",
    "\n",
    "# Get file paths\n",
    "index_files = sorted(glob.glob(f'output_data/{study_area}/{water_index}_*.tif'))\n",
    "stdev_files = sorted(glob.glob(f'output_data/{study_area}/stdev_*.tif'))\n",
    "count_files = sorted(glob.glob(f'output_data/{study_area}/count_*.tif'))\n",
    "\n",
    "# Create variable used for time axis\n",
    "time_var = xr.Variable('year', [int(i[-8:-4]) for i in index_files])\n",
    "\n",
    "# Import data\n",
    "index_da = xr.concat([xr.open_rasterio(i) for i in index_files], dim=time_var)\n",
    "stdev_da = xr.concat([xr.open_rasterio(i) for i in stdev_files], dim=time_var)\n",
    "count_da = xr.concat([xr.open_rasterio(i) for i in count_files], dim=time_var)\n",
    "\n",
    "# Assign names to allow merge\n",
    "index_da.name = water_index\n",
    "stdev_da.name = 'stdev'\n",
    "count_da.name = 'count'\n",
    "\n",
    "# Combine into a single dataset and set CRS\n",
    "yearly_ds = xr.merge([index_da, stdev_da, count_da]).squeeze('band', drop=True)\n",
    "yearly_ds.attrs['crs'] = index_da.crs\n",
    "from affine import Affine\n",
    "yearly_ds.attrs['transform'] = Affine(*index_da.transform)\n",
    "\n",
    "# Print\n",
    "yearly_ds"
   ]
  },
  {
   "cell_type": "markdown",
   "metadata": {},
   "source": [
    "## Extract shoreline contours\n",
    "\n",
    "### Extract ocean-masked contours"
   ]
  },
  {
   "cell_type": "code",
   "execution_count": 379,
   "metadata": {},
   "outputs": [
    {
     "name": "stdout",
     "output_type": "stream",
     "text": [
      "Operating in single z-value, multiple arrays mode\n",
      "Writing contours to output_data/goldcoast_test_3m/goldcoast_test_3m_contours_mndwi_0.00.geojson\n"
     ]
    },
    {
     "data": {
      "text/plain": [
       "<matplotlib.axes._subplots.AxesSubplot at 0x7fefe1627e80>"
      ]
     },
     "execution_count": 379,
     "metadata": {},
     "output_type": "execute_result"
    },
    {
     "data": {
      "image/png": "[encoded data removed]",
      "text/plain": [
       "<Figure size 432x288 with 1 Axes>"
      ]
     },
     "metadata": {
      "needs_background": "light"
     },
     "output_type": "display_data"
    }
   ],
   "source": [
    "# Apply index and threshold\n",
    "thresholded_ds = (yearly_ds[water_index] > index_threshold)\n",
    "\n",
    "# Load estuary mask\n",
    "# bbox = gpd.GeoSeries(loads(yearly_ds.geobox.extent.wkt), crs=yearly_ds.crs)\n",
    "from shapely.geometry import box\n",
    "bbox = gpd.GeoSeries(box(yearly_ds.x.min().item(), \n",
    "                         yearly_ds.y.min().item(), \n",
    "                         yearly_ds.x.max().item(), \n",
    "                         yearly_ds.y.max().item()), crs=yearly_ds.crs)\n",
    "estuary_gdf = (gpd.read_file('./input_data/estuary_mask.shp', bbox=bbox)\n",
    "               .to_crs(yearly_ds.crs))\n",
    "\n",
    "# Rasterize estuary polygons into a numpy mask\n",
    "estuary_mask = rasterize(shapes=estuary_gdf['geometry'],\n",
    "                         out_shape=yearly_ds[water_index].shape[1:],\n",
    "                         transform=yearly_ds.transform,\n",
    "                         all_touched=True).astype(bool)\n",
    "\n",
    "# Drop empty timesteps and apply estuary mask\n",
    "thresholded_ds = (thresholded_ds\n",
    "                  .sel(year=thresholded_ds.sum(dim=['x', 'y']) > 0)\n",
    "                  .where(~estuary_mask, 0))\n",
    "\n",
    "# Identify ocean by identifying the largest connected area of water pixels\n",
    "# in a median composite of the entire stack of thresholded water index results\n",
    "# all_time_median = thresholded_ds.median(dim='year')\n",
    "all_time_median = (thresholded_ds.sum(dim='year') > (32 * 0.9))\n",
    "full_sea_mask = mask_ocean(binary_opening(all_time_median, disk(3)))\n",
    "\n",
    "# Generate all time 600 m buffer from ocean-land boundary\n",
    "buffer_ocean = binary_dilation(full_sea_mask, disk(25))\n",
    "buffer_land = binary_dilation(~full_sea_mask, disk(25))\n",
    "coastal_buffer = buffer_ocean & buffer_land\n",
    "\n",
    "# Generate sea mask for each timestep\n",
    "yearly_sea_mask = thresholded_ds.groupby('year').apply(mask_ocean)\n",
    "\n",
    "# Keep only pixels that are within 600 m of the ocean in the\n",
    "# full stack, and directly connected to ocean in each yearly timestep\n",
    "masked_ds = yearly_ds[water_index].where(yearly_sea_mask & coastal_buffer)\n",
    "\n",
    "# Set CRS and trasnform from input data\n",
    "masked_ds.attrs['crs'] = yearly_ds.crs[6:]\n",
    "masked_ds.attrs['transform'] = yearly_ds.transform\n",
    "\n",
    "# Extract contours\n",
    "output_path = f'output_data/{study_area}/{study_area}_contours_{water_index}_{index_threshold:.2f}'\n",
    "contours_gdf = subpixel_contours(da=masked_ds,\n",
    "                                 z_values=index_threshold,\n",
    "                                 output_path=f'{output_path}.geojson',\n",
    "                                 dim='year')\n",
    "\n",
    "# Plot\n",
    "contours_gdf.plot(column='year', cmap='YlOrRd')"
   ]
  },
  {
   "cell_type": "markdown",
   "metadata": {},
   "source": [
    "### Extract cleaned contours"
   ]
  },
  {
   "cell_type": "code",
   "execution_count": 380,
   "metadata": {},
   "outputs": [
    {
     "name": "stdout",
     "output_type": "stream",
     "text": [
      "Operating in single z-value, multiple arrays mode\n",
      "Writing contours to output_data/goldcoast_test_3m/goldcoast_test_3m_contours_mndwi_0.00_cleaned.geojson\n"
     ]
    },
    {
     "data": {
      "text/plain": [
       "<matplotlib.axes._subplots.AxesSubplot at 0x7fefe0be80f0>"
      ]
     },
     "execution_count": 380,
     "metadata": {},
     "output_type": "execute_result"
    },
    {
     "data": {
      "image/png": "[encoded data removed]",
      "text/plain": [
       "<Figure size 432x288 with 1 Axes>"
      ]
     },
     "metadata": {
      "needs_background": "light"
     },
     "output_type": "display_data"
    }
   ],
   "source": [
    "# Keep only pixels that are within 600 m of the ocean in the\n",
    "# full stack, and directly connected to ocean in each yearly timestep\n",
    "cleaned_ds = masked_ds.where((yearly_ds['count'] >= 5) & (yearly_ds['stdev'] < 0.5))\n",
    "\n",
    "# Extract contours\n",
    "contours_clean_gdf = subpixel_contours(da=cleaned_ds.isel(year=range(1, 32)),\n",
    "                                 z_values=index_threshold,\n",
    "                                 output_path=f'{output_path}_cleaned.geojson',\n",
    "                                 dim='year')\n",
    "\n",
    "# Plot\n",
    "contours_clean_gdf.plot(column='year', cmap='YlOrRd')"
   ]
  },
  {
   "cell_type": "code",
   "execution_count": 365,
   "metadata": {},
   "outputs": [],
   "source": [
    "# Plot\n",
    "# map_shapefile(gdf=contours_gdf, hover_col='year')"
   ]
  },
  {
   "cell_type": "markdown",
   "metadata": {},
   "source": [
    "## Compute statistics\n",
    "### Measure distances from baseline"
   ]
  },
  {
   "cell_type": "code",
   "execution_count": 381,
   "metadata": {},
   "outputs": [
    {
     "name": "stdout",
     "output_type": "stream",
     "text": [
      "1987\n",
      "1988\n",
      "1989\n",
      "1990\n",
      "1991\n",
      "1992\n",
      "1993\n",
      "1994\n",
      "1995\n",
      "1996\n",
      "1997\n",
      "1998\n",
      "1999\n",
      "2000\n",
      "2001\n",
      "2002\n",
      "2003\n",
      "2004\n",
      "2005\n",
      "2006\n",
      "2007\n",
      "2008\n",
      "2009\n",
      "2010\n",
      "2011\n",
      "2012\n",
      "2013\n",
      "2014\n",
      "2015\n",
      "2016\n",
      "2017\n",
      "2018\n"
     ]
    }
   ],
   "source": [
    "# Get array of water index values for baseline time period \n",
    "baseline_year = '1990'\n",
    "baseline_array = yearly_ds[water_index].sel(year=int(baseline_year))\n",
    "\n",
    "# Import contours and project to local CRS\n",
    "contours_index_gdf = contours_gdf.set_index('year')\n",
    "\n",
    "# Set annual shoreline to use as a baseline\n",
    "baseline_contour = contours_index_gdf.loc[[baseline_year]].geometry\n",
    "\n",
    "# Generate points along line and convert to geopandas.GeoDataFrame\n",
    "points_line = [baseline_contour.iloc[0].interpolate(i) \n",
    "               for i in range(0, int(baseline_contour.length), 30)]\n",
    "points_gdf = gpd.GeoDataFrame(geometry=points_line, crs=baseline_array.crs)\n",
    "\n",
    "# Copy geometry to baseline point\n",
    "points_gdf['p_baseline'] = points_gdf.geometry\n",
    "baseline_x_vals = points_gdf.geometry.x\n",
    "baseline_y_vals = points_gdf.geometry.y\n",
    "\n",
    "# Iterate through all comparison years in contour gdf\n",
    "for comp_year in contours_index_gdf.index.unique().values[0:32]:\n",
    "\n",
    "    print(comp_year)\n",
    "\n",
    "    # Set comparison contour\n",
    "    comp_contour = contours_index_gdf.loc[[comp_year]].geometry.iloc[0]\n",
    "\n",
    "    # Find nearest point on comparison contour\n",
    "    points_gdf[f'p_{comp_year}'] = points_gdf.apply(lambda x: \n",
    "                                                    nearest_points(x.p_baseline, comp_contour)[1], axis=1)\n",
    "\n",
    "    # Compute distance between baseline and comparison year points\n",
    "    points_gdf[f'{comp_year}'] = points_gdf.apply(lambda x: \n",
    "                                                  x.geometry.distance(x[f'p_{comp_year}']), axis=1)\n",
    "\n",
    "    # Extract comparison array\n",
    "    comp_array = yearly_ds[water_index].sel(year=int(comp_year))\n",
    "\n",
    "    # Convert baseline and comparison year points to geoseries to allow easy access to x and y coords\n",
    "    comp_x_vals = gpd.GeoSeries(points_gdf[f'p_{comp_year}']).x\n",
    "    comp_y_vals = gpd.GeoSeries(points_gdf[f'p_{comp_year}']).y\n",
    "\n",
    "    # Sample NDWI values from arrays based on baseline and comparison points\n",
    "    baseline_x_vals = xr.DataArray(baseline_x_vals, dims='z')\n",
    "    baseline_y_vals = xr.DataArray(baseline_y_vals, dims='z')\n",
    "    comp_x_vals = xr.DataArray(comp_x_vals, dims='z')\n",
    "    comp_y_vals = xr.DataArray(comp_y_vals, dims='z')   \n",
    "    points_gdf['index_comp_p1'] = comp_array.interp(x=baseline_x_vals, y=baseline_y_vals)\n",
    "    points_gdf['index_baseline_p2'] = baseline_array.interp(x=comp_x_vals, y=comp_y_vals)\n",
    "\n",
    "    # Compute directionality of change (negative = erosion, positive = accretion)    \n",
    "    points_gdf['loss_gain'] = np.where(points_gdf.index_baseline_p2 > \n",
    "                                       points_gdf.index_comp_p1, 1, -1)\n",
    "    points_gdf[f'{comp_year}'] = points_gdf[f'{comp_year}'] * points_gdf.loss_gain\n",
    "    \n",
    "# Keep required columns\n",
    "points_gdf = points_gdf[['geometry'] + \n",
    "                        contours_index_gdf.index.unique().values.tolist()[0:32]]\n",
    "points_gdf = points_gdf.round(2)\n",
    "\n",
    "# Identify dates for regression\n",
    "x_years = np.array([int(i[:4]) for i in points_gdf.columns[1:]])"
   ]
  },
  {
   "cell_type": "markdown",
   "metadata": {},
   "source": [
    "### Calculate regressions"
   ]
  },
  {
   "cell_type": "code",
   "execution_count": 382,
   "metadata": {},
   "outputs": [
    {
     "name": "stdout",
     "output_type": "stream",
     "text": [
      "-2_feb\n",
      "-2_mar\n",
      "-2_apr\n",
      "-2_may\n",
      "-2_jun\n",
      "-2_jul\n",
      "-2_aug\n",
      "-2_sep\n",
      "-2_oct\n",
      "-2_nov\n",
      "-2_dec\n",
      "-1_jan\n",
      "-1_feb\n",
      "-1_mar\n",
      "-1_apr\n",
      "-1_may\n",
      "-1_jun\n",
      "-1_jul\n",
      "-1_aug\n",
      "-1_sep\n",
      "-1_oct\n",
      "-1_nov\n",
      "-1_dec\n",
      "0_jan\n",
      "0_feb\n",
      "0_mar\n",
      "0_apr\n",
      "0_may\n",
      "0_jun\n",
      "0_jul\n",
      "0_aug\n",
      "0_sep\n",
      "0_oct\n",
      "0_nov\n",
      "0_dec\n",
      "1_jan\n"
     ]
    }
   ],
   "source": [
    "# Identify SOI values for regression\n",
    "climate_df = pd.read_csv('input_data/climate_indices.csv', index_col='year')\n",
    "climate_df = climate_df.loc[:,['SOI']]\n",
    "\n",
    "# Compute change rates\n",
    "rate_out = points_gdf.apply(lambda x: change_regress(row=x[1:33], \n",
    "                                                     x_vals = x_years, \n",
    "                                                     x_labels = x_years, \n",
    "                                                     std_dev=3), axis=1)\n",
    "points_gdf[['rate_time', 'incpt_time', 'sig_time', 'outl_time']] = rate_out\n",
    "\n",
    "# Compute stats for each index\n",
    "for ci in climate_df:\n",
    "    \n",
    "    print(ci)\n",
    "    \n",
    "    # Compute stats for each row\n",
    "    ci_out = points_gdf.apply(lambda x: change_regress(row=x[1:33],\n",
    "                                                       x_vals = climate_df[ci].values, \n",
    "                                                       x_labels = x_years, \n",
    "                                                       detrend_params=[x.rate_time, x.incpt_time],\n",
    "                                                       std_dev=3), axis=1)\n",
    "    \n",
    "    # Add data as columns  \n",
    "    points_gdf[[f'rate_{ci}', f'incpt_{ci}', f'sig_{ci}', f'outl_{ci}']] = ci_out\n",
    "\n",
    "\n",
    "# Add breakpoints\n",
    "points_gdf['breakpoints'] = points_gdf.apply(lambda x: breakpoints(x=x[1:33], pen=10), axis=1)\n",
    "\n",
    "# Set CRS\n",
    "points_gdf.crs = baseline_array.crs\n"
   ]
  },
  {
   "cell_type": "markdown",
   "metadata": {},
   "source": [
    "## Output file"
   ]
  },
  {
   "cell_type": "code",
   "execution_count": 368,
   "metadata": {},
   "outputs": [],
   "source": [
    "# output_filename = f'output_data/{study_area}/{study_area}_stats_{water_index}_{index_threshold}.geojson'\n",
    "# points_gdf.to_file(output_filename, driver='GeoJSON')\n"
   ]
  },
  {
   "cell_type": "markdown",
   "metadata": {},
   "source": [
    "## Test lags"
   ]
  },
  {
   "cell_type": "code",
   "execution_count": 383,
   "metadata": {},
   "outputs": [],
   "source": [
    "# points_gdf_filtered = points_gdf.drop('sig_time', axis=1).filter(regex='sig')\n",
    "# output_filename = f'output_data/{study_area}/{study_area}_stats_{water_index}_{index_threshold}_offsets.csv'\n",
    "# points_gdf_filtered.to_csv(output_filename, index=False)"
   ]
  },
  {
   "cell_type": "code",
   "execution_count": 423,
   "metadata": {},
   "outputs": [],
   "source": [
    "# output_filename"
   ]
  },
  {
   "cell_type": "code",
   "execution_count": 384,
   "metadata": {},
   "outputs": [],
   "source": [
    "# import pandas as pd\n",
    "# points_gdf_filtered_minus6m = pd.read_csv('output_data/goldcoast_test_-6m/goldcoast_test_-6m_stats_mndwi_0.0_offsets.csv')\n",
    "# points_gdf_filtered_minus3m = pd.read_csv('output_data/goldcoast_test_-3m/goldcoast_test_-3m_stats_mndwi_0.0_offsets.csv')\n",
    "# points_gdf_filtered = pd.read_csv('output_data/goldcoast_test/goldcoast_test_stats_mndwi_0.0_offsets.csv')\n",
    "# points_gdf_filtered_3m = pd.read_csv('output_data/goldcoast_test_3m/goldcoast_test_3m_stats_mndwi_0.0_offsets.csv')\n",
    "# points_gdf_filtered_6m = pd.read_csv('output_data/goldcoast_test_6m/goldcoast_test_6m_stats_mndwi_0.0_offsets.csv')"
   ]
  },
  {
   "cell_type": "code",
   "execution_count": 422,
   "metadata": {},
   "outputs": [],
   "source": [
    "# import matplotlib as mpl\n",
    "# mpl.rc('image', cmap='YlOrRd')\n",
    "\n",
    "# (points_gdf_filtered_minus6m < 0.05).sum(axis=0).plot(figsize=(10, 8), title='Number of significant results', label='July same year (+6 m)', c=mpl.cm.YlOrRd(70), linewidth=2.2)\n",
    "# (points_gdf_filtered_minus3m < 0.05).sum(axis=0).plot(label='April same year (+3 m)', c=mpl.cm.YlOrRd(130), linewidth=2.2)\n",
    "# (points_gdf_filtered < 0.05).sum(axis=0).plot(label='Calendar year (0 m)', c=mpl.cm.YlOrRd(180), linewidth=2.2)\n",
    "# (points_gdf_filtered_3m < 0.05).sum(axis=0).plot(label='Oct prev year (-3 m)', c=mpl.cm.YlOrRd(250), linewidth=2.2)\n",
    "# (points_gdf_filtered_6m < 0.05).sum(axis=0).plot(label='July prev year (-6 m)', c='black', linewidth=2.2)\n",
    "# import matplotlib.pyplot as plt\n",
    "# plt.legend(loc='upper left')\n",
    "# plt.axvline(x=23, color='grey')"
   ]
  },
  {
   "cell_type": "code",
   "execution_count": 424,
   "metadata": {},
   "outputs": [],
   "source": [
    "# (points_gdf_filtered < 0.05).sum(axis=0).plot(figsize=(10, 8), title='Number of significant results')\n",
    "# (points_gdf_filtered_3m < 0.05).sum(axis=0).plot()\n",
    "# # (points_gdf_filtered_6m < 0.05).sum(axis=0).plot()\n"
   ]
  },
  {
   "cell_type": "code",
   "execution_count": 55,
   "metadata": {},
   "outputs": [],
   "source": [
    "# has_sig = points_gdf_sorted.drop('geometry', axis=1).min(axis=1) < 0.05"
   ]
  },
  {
   "cell_type": "code",
   "execution_count": 56,
   "metadata": {},
   "outputs": [],
   "source": [
    "# # Custom sorting\n",
    "# points_gdf_sorted = points_gdf.loc[:, [\n",
    "#     'rate_SOI', 'rate_SOIapril',\n",
    "#     'sig_SOI', 'sig_SOIapril', \n",
    "#     'outl_SOI', 'outl_SOIapril', 'geometry'\n",
    "# ]]\n",
    "\n",
    "# # Insert ID for bug finding\n",
    "# points_gdf_sorted.insert(0, 'id', range(0, len(points_gdf_sorted)))\n",
    "\n",
    "# points_gdf_sorted[has_sig].shape"
   ]
  },
  {
   "cell_type": "code",
   "execution_count": 57,
   "metadata": {},
   "outputs": [],
   "source": [
    "# points_gdf_sorted.mean(axis=0).plot(figsize=(10, 8), title='Average p-value')"
   ]
  },
  {
   "cell_type": "code",
   "execution_count": 58,
   "metadata": {},
   "outputs": [],
   "source": [
    "# ((points_gdf_sorted[has_sig].drop(['geometry', 'best_sig'], axis=1) < 0.05).sum(axis=0) / points_gdf_sorted[has_sig].shape[0]).plot(figsize=(10, 8), title='Number of significant results')"
   ]
  },
  {
   "cell_type": "code",
   "execution_count": 59,
   "metadata": {},
   "outputs": [],
   "source": [
    "# points_gdf_sorted[has_sig].shape[0]"
   ]
  },
  {
   "cell_type": "code",
   "execution_count": 60,
   "metadata": {},
   "outputs": [],
   "source": [
    "# points_gdf_sorted['diff'] = points_gdf_sorted['sig_SOI'] - points_gdf_sorted['sig_SOIapril']"
   ]
  },
  {
   "cell_type": "markdown",
   "metadata": {},
   "source": [
    "## Evaluation\n",
    "\n",
    "### Time history"
   ]
  },
  {
   "cell_type": "code",
   "execution_count": 61,
   "metadata": {},
   "outputs": [],
   "source": [
    "# id_val = 6118\n",
    "# plot_df = pd.DataFrame({\n",
    "#     'mov': points_gdf.loc[id_val, contours_gdf.index.to_list()].values.astype(float),\n",
    "#     'time': x_years,\n",
    "#     'soi': climate_df['SOI'].values\n",
    "# })\n",
    "\n",
    "# plot_df.plot.scatter(x='time',\n",
    "#                      y='mov',\n",
    "#                      c='soi',\n",
    "#                      cmap='RdYlBu',\n",
    "#                      s=50,\n",
    "#                      edgecolors=\"black\")\n",
    "\n",
    "# plot_df.plot.scatter(x='soi',\n",
    "#                      y='mov',\n",
    "#                      c='soi',\n",
    "#                      cmap='RdYlBu',\n",
    "#                      s=50,\n",
    "#                      edgecolors=\"black\")\n"
   ]
  },
  {
   "cell_type": "markdown",
   "metadata": {},
   "source": [
    "### Test breakpoints"
   ]
  },
  {
   "cell_type": "code",
   "execution_count": 62,
   "metadata": {},
   "outputs": [],
   "source": [
    "# id_val = 6015\n",
    "# signal = points_gdf.loc[id_val,contours_gdf.index.to_list()].values\n",
    "\n",
    "# # detection\n",
    "# algo = rpt.Pelt(model=\"rbf\", min_size=2, jump=1).fit(signal)\n",
    "# result = algo.predict(pen=8)\n",
    "# print(contours_gdf.index.to_list()[result[0]])\n",
    "# rpt.display(signal, [32], result)\n"
   ]
  },
  {
   "cell_type": "markdown",
   "metadata": {},
   "source": [
    "### Index correlation"
   ]
  },
  {
   "cell_type": "code",
   "execution_count": 63,
   "metadata": {},
   "outputs": [],
   "source": [
    "# corr = climate_df.corr()\n",
    "# corr.style.background_gradient(cmap='RdBu')"
   ]
  },
  {
   "cell_type": "markdown",
   "metadata": {},
   "source": [
    "***\n",
    "\n",
    "## Additional information"
   ]
  },
  {
   "cell_type": "markdown",
   "metadata": {},
   "source": [
    "**License:** The code in this notebook is licensed under the [Apache License, Version 2.0](https://www.apache.org/licenses/LICENSE-2.0). \n",
    "Digital Earth Australia data is licensed under the [Creative Commons by Attribution 4.0](https://creativecommons.org/licenses/by/4.0/) license.\n",
    "\n",
    "**Contact:** If you need assistance, please post a question on the [Open Data Cube Slack channel](http://slack.opendatacube.org/) or on the [GIS Stack Exchange](https://gis.stackexchange.com/questions/ask?tags=open-data-cube) using the `open-data-cube` tag (you can view previously asked questions [here](https://gis.stackexchange.com/questions/tagged/open-data-cube)).\n",
    "If you would like to report an issue with this notebook, you can file one on [Github](https://github.com/GeoscienceAustralia/dea-notebooks).\n",
    "\n",
    "**Last modified:** October 2019\n",
    "\n",
    "**Compatible datacube version:** "
   ]
  },
  {
   "cell_type": "code",
   "execution_count": 64,
   "metadata": {},
   "outputs": [
    {
     "name": "stdout",
     "output_type": "stream",
     "text": [
      "1.7+130.g81bed714.dirty\n"
     ]
    }
   ],
   "source": [
    "print(datacube.__version__)"
   ]
  },
  {
   "cell_type": "markdown",
   "metadata": {},
   "source": [
    "## Tags\n",
    "Browse all available tags on the DEA User Guide's [Tags Index](https://docs.dea.ga.gov.au/genindex.html)"
   ]
  },
  {
   "cell_type": "raw",
   "metadata": {
    "raw_mimetype": "text/restructuredtext"
   },
   "source": [
    "**Tags**: :index:`NCI compatible`, :index:`sandbox compatible`, :index:`sentinel 2`, :index:`dea_plotting`, :index:`rgb`, :index:`virtual products`, :index:`NDVI`, :index:`tasseled cap`, :index:`cloud masking`, :index:`dask`, :index:`image compositing`, :index:`statistics`, :index:`pixel quality`, :index:`combining data`, :index:`native load`, :index:`reprojecting`"
   ]
  }
 ],
 "metadata": {
  "kernelspec": {
   "display_name": "Python 3",
   "language": "python",
   "name": "python3"
  },
  "language_info": {
   "codemirror_mode": {
    "name": "ipython",
    "version": 3
   },
   "file_extension": ".py",
   "mimetype": "text/x-python",
   "name": "python",
   "nbconvert_exporter": "python",
   "pygments_lexer": "ipython3",
   "version": "3.6.8"
  },
  "widgets": {
   "application/vnd.jupyter.widget-state+json": {
    "state": {},
    "version_major": 2,
    "version_minor": 0
   }
  }
 },
 "nbformat": 4,
 "nbformat_minor": 4
}
