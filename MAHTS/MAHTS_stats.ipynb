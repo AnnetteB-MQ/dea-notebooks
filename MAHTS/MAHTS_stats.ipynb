{
 "cells": [
  {
   "cell_type": "markdown",
   "metadata": {},
   "source": [
    "# MAHTS stats"
   ]
  },
  {
   "cell_type": "code",
   "execution_count": 1,
   "metadata": {},
   "outputs": [
    {
     "name": "stdout",
     "output_type": "stream",
     "text": [
      "Filesystem      Size  Used Avail Use% Mounted on\n",
      "overlay         108G   18G   90G  17% /\n",
      "tmpfs            68M     0   68M   0% /dev\n",
      "tmpfs            67G     0   67G   0% /sys/fs/cgroup\n",
      "/dev/nvme0n1p1  108G   18G   90G  17% /notebooks\n",
      "/dev/nvme2n1    106G   17G   90G  16% /home/jovyan\n",
      "shm              68M   25k   68M   1% /dev/shm\n",
      "tmpfs            67G     0   67G   0% /proc/acpi\n",
      "tmpfs            67G     0   67G   0% /sys/firmware\n"
     ]
    }
   ],
   "source": [
    "!df -H"
   ]
  },
  {
   "cell_type": "markdown",
   "metadata": {},
   "source": [
    "## Background\n"
   ]
  },
  {
   "cell_type": "markdown",
   "metadata": {},
   "source": [
    "## Description\n",
    "\n"
   ]
  },
  {
   "cell_type": "markdown",
   "metadata": {},
   "source": [
    "## Getting started\n"
   ]
  },
  {
   "cell_type": "markdown",
   "metadata": {},
   "source": [
    "### Load packages\n",
    "\n",
    "First we import the required Python packages, then we connect to the database, and load the catalog of virtual products."
   ]
  },
  {
   "cell_type": "code",
   "execution_count": 2,
   "metadata": {},
   "outputs": [],
   "source": [
    "%matplotlib inline\n",
    "%load_ext line_profiler\n",
    "%load_ext autoreload\n",
    "%autoreload 2\n",
    "\n",
    "# pip install --user ruptures\n",
    "\n",
    "import sys\n",
    "import glob\n",
    "import numpy as np\n",
    "import xarray as xr\n",
    "import pandas as pd\n",
    "import geopandas as gpd\n",
    "import ruptures as rpt\n",
    "from scipy import stats\n",
    "from shapely.wkt import loads\n",
    "from shapely.ops import nearest_points\n",
    "from rasterio.features import rasterize\n",
    "from skimage.morphology import disk\n",
    "from skimage.morphology import square\n",
    "from skimage.morphology import binary_opening\n",
    "from skimage.morphology import binary_dilation\n",
    "\n",
    "sys.path.append('../Scripts')\n",
    "from dea_spatialtools import largest_region\n",
    "from dea_spatialtools import subpixel_contours\n",
    "from dea_spatialtools import largest_region\n",
    "from dea_plotting import map_shapefile\n",
    "\n",
    "def change_regress(row, \n",
    "                   x_vals, \n",
    "                   x_labels, \n",
    "                   std_dev=3, \n",
    "                   detrend_params=None,\n",
    "                   slope_var='slope', \n",
    "                   interc_var='intercept',\n",
    "                   pvalue_var='pvalue', \n",
    "                   outliers_var='outliers'):\n",
    "    \n",
    "    # Extract x (time) and y (distance) values\n",
    "    x = x_vals\n",
    "    y = row.values.astype(np.float)\n",
    "    \n",
    "    # Drop NAN rows\n",
    "    xy_df = np.vstack([x, y]).T\n",
    "    is_valid = ~np.isnan(xy_df).any(axis=1)\n",
    "    xy_df = xy_df[is_valid]\n",
    "    valid_labels = x_labels[is_valid]\n",
    "    \n",
    "    # If detrending parameters are provided, apply these to the data to\n",
    "    # remove the trend prior to running the regression\n",
    "    if detrend_params:\n",
    "        xy_df[:,1] = xy_df[:,1]-(detrend_params[0]*xy_df[:,0]+detrend_params[1])    \n",
    "    \n",
    "    # Remove outliers\n",
    "    outlier_bool = (np.abs(stats.zscore(xy_df)) < float(std_dev)).all(axis=1)\n",
    "    xy_df = xy_df[outlier_bool]\n",
    "        \n",
    "    # Compute linear regression\n",
    "    lin_reg = stats.linregress(x=xy_df[:,0], \n",
    "                               y=xy_df[:,1])  \n",
    "       \n",
    "    # Return slope, p-values and list of outlier years excluded from regression   \n",
    "    return pd.Series({slope_var: np.round(lin_reg.slope, 3), \n",
    "                      interc_var: np.round(lin_reg.intercept, 3),\n",
    "                      pvalue_var: np.round(lin_reg.pvalue, 3),\n",
    "                      outliers_var: ' '.join(map(str, valid_labels[~outlier_bool]))})\n",
    "\n",
    "\n",
    "def breakpoints(x, model='rbf', pen=10, min_size=2, jump=1):\n",
    "    signal = x.values\n",
    "    algo = rpt.Pelt(model=model, min_size=min_size, jump=jump).fit(signal)\n",
    "    result = algo.predict(pen=pen)\n",
    "    if len(result) > 1:\n",
    "        return [x_years[i] for i in result[0:-1]][0]\n",
    "    else:\n",
    "        return None\n",
    "\n",
    "    \n",
    "def mask_ocean(bool_array, connectivity=1):\n",
    "    '''\n",
    "    Identifies ocean by selecting the largest connected area of water\n",
    "    pixels, then dilating this region by 1 pixel to include mixed pixels\n",
    "    '''\n",
    "    \n",
    "    ocean_mask = largest_region(bool_array, connectivity=connectivity)\n",
    "    ocean_mask = binary_dilation(ocean_mask, selem=square(3))\n",
    "\n",
    "    return ocean_mask\n",
    "\n",
    "\n",
    "# # This will speed up loading data\n",
    "# import datacube.utils.rio\n",
    "# datacube.utils.rio.configure_s3_access(aws_unsigned=True)\n"
   ]
  },
  {
   "cell_type": "markdown",
   "metadata": {},
   "source": [
    "## Load in data"
   ]
  },
  {
   "cell_type": "code",
   "execution_count": 3,
   "metadata": {},
   "outputs": [
    {
     "data": {
      "text/plain": [
       "<xarray.Dataset>\n",
       "Dimensions:  (x: 1028, y: 1131, year: 31)\n",
       "Coordinates:\n",
       "  * y        (y) float64 6.805e+06 6.805e+06 6.805e+06 ... 6.771e+06 6.771e+06\n",
       "  * x        (x) float64 5.371e+05 5.371e+05 5.372e+05 ... 5.679e+05 5.679e+05\n",
       "  * year     (year) int64 1988 1989 1990 1991 1992 ... 2014 2015 2016 2017 2018\n",
       "Data variables:\n",
       "    mndwi    (year, y, x) float32 -0.4952988 -0.49983656 ... 0.36756533\n",
       "    gapfill  (year, y, x) float32 -0.4952988 -0.4869443 ... 0.3810938 0.33975327\n",
       "    stdev    (year, y, x) float32 0.025210943 0.02179324 ... 0.27901036\n",
       "    count    (year, y, x) int16 5 5 5 5 5 5 5 6 6 ... 12 12 12 12 12 12 12 12 12\n",
       "Attributes:\n",
       "    crs:        +init=epsg:32756\n",
       "    transform:  | 30.00, 0.00, 537075.00|\\n| 0.00,-30.00, 6805215.00|\\n| 0.00..."
      ]
     },
     "execution_count": 3,
     "metadata": {},
     "output_type": "execute_result"
    }
   ],
   "source": [
    "# Read in contours\n",
    "study_area = 'NSW01.03'\n",
    "water_index = 'mndwi'\n",
    "index_threshold = 0.00\n",
    "\n",
    "# Get file paths\n",
    "index_files = sorted(glob.glob(f'output_data/{study_area}/{water_index}_*.tif'))[1:]\n",
    "gapfill_files = sorted(glob.glob(f'output_data/{study_area}/gapfill_{water_index}_*.tif'))\n",
    "stdev_files = sorted(glob.glob(f'output_data/{study_area}/stdev_*.tif'))[1:]\n",
    "count_files = sorted(glob.glob(f'output_data/{study_area}/count_*.tif'))[1:]\n",
    "\n",
    "# Create variable used for time axis\n",
    "time_var = xr.Variable('year', [int(i[-8:-4]) for i in index_files])\n",
    "\n",
    "# Import data\n",
    "index_da = xr.concat([xr.open_rasterio(i) for i in index_files], dim=time_var)\n",
    "gapfill_da = xr.concat([xr.open_rasterio(i) for i in gapfill_files], dim=time_var)\n",
    "stdev_da = xr.concat([xr.open_rasterio(i) for i in stdev_files], dim=time_var)\n",
    "count_da = xr.concat([xr.open_rasterio(i) for i in count_files], dim=time_var)\n",
    "\n",
    "# Assign names to allow merge\n",
    "index_da.name = water_index\n",
    "gapfill_da.name = 'gapfill'\n",
    "stdev_da.name = 'stdev'\n",
    "count_da.name = 'count'\n",
    "\n",
    "# Combine into a single dataset and set CRS\n",
    "yearly_ds = xr.merge([index_da, gapfill_da, stdev_da, count_da]).squeeze('band', drop=True)\n",
    "yearly_ds.attrs['crs'] = index_da.crs\n",
    "from affine import Affine\n",
    "yearly_ds.attrs['transform'] = Affine(*index_da.transform)\n",
    "\n",
    "# Print\n",
    "yearly_ds"
   ]
  },
  {
   "cell_type": "markdown",
   "metadata": {},
   "source": [
    "## Extract shoreline contours\n",
    "\n",
    "### Extract ocean-masked contours"
   ]
  },
  {
   "cell_type": "code",
   "execution_count": 5,
   "metadata": {},
   "outputs": [
    {
     "name": "stdout",
     "output_type": "stream",
     "text": [
      "Operating in single z-value, multiple arrays mode\n",
      "Writing contours to output_data/NSW01.03/NSW01.03_contours_mndwi_0.00.geojson\n"
     ]
    },
    {
     "data": {
      "text/plain": [
       "<matplotlib.axes._subplots.AxesSubplot at 0x7f56348971d0>"
      ]
     },
     "execution_count": 5,
     "metadata": {},
     "output_type": "execute_result"
    },
    {
     "data": {
      "image/png": "[encoded data removed]",
      "text/plain": [
       "<Figure size 432x288 with 1 Axes>"
      ]
     },
     "metadata": {
      "needs_background": "light"
     },
     "output_type": "display_data"
    }
   ],
   "source": [
    "# Apply index and threshold\n",
    "thresholded_ds = (yearly_ds[water_index] > index_threshold)\n",
    "\n",
    "# Load estuary mask\n",
    "# bbox = gpd.GeoSeries(loads(yearly_ds.geobox.extent.wkt), crs=yearly_ds.crs)\n",
    "from shapely.geometry import box\n",
    "bbox = gpd.GeoSeries(box(yearly_ds.x.min().item(), \n",
    "                         yearly_ds.y.min().item(), \n",
    "                         yearly_ds.x.max().item(), \n",
    "                         yearly_ds.y.max().item()), crs=yearly_ds.crs)\n",
    "estuary_gdf = (gpd.read_file('./input_data/estuary_mask.shp', bbox=bbox)\n",
    "               .to_crs(yearly_ds.crs))\n",
    "\n",
    "# Rasterize estuary polygons into a numpy mask\n",
    "estuary_mask = rasterize(shapes=estuary_gdf['geometry'],\n",
    "                         out_shape=yearly_ds[water_index].shape[1:],\n",
    "                         transform=yearly_ds.transform,\n",
    "                         all_touched=True).astype(bool)\n",
    "\n",
    "# Drop empty timesteps and apply estuary mask\n",
    "thresholded_ds = (thresholded_ds\n",
    "                  .sel(year=thresholded_ds.sum(dim=['x', 'y']) > 0)\n",
    "                  .where(~estuary_mask, 0))\n",
    "\n",
    "# Identify ocean by identifying the largest connected area of water pixels\n",
    "# in a median composite of the entire stack of thresholded water index results\n",
    "# all_time_median = thresholded_ds.median(dim='year')\n",
    "all_time_median = (thresholded_ds.sum(dim='year') > (len(thresholded_ds.year) * 0.9))\n",
    "full_sea_mask = mask_ocean(binary_opening(all_time_median, disk(3)))\n",
    "\n",
    "# Generate all time 750 m buffer from ocean-land boundary\n",
    "buffer_ocean = binary_dilation(full_sea_mask, disk(25))\n",
    "buffer_land = binary_dilation(~full_sea_mask, disk(25))\n",
    "coastal_buffer = buffer_ocean & buffer_land\n",
    "\n",
    "# Generate sea mask for each timestep\n",
    "yearly_sea_mask = thresholded_ds.groupby('year').apply(mask_ocean)\n",
    "\n",
    "# Keep only pixels that are within 750 m of the ocean in the\n",
    "# full stack, and directly connected to ocean in each yearly timestep\n",
    "masked_ds = yearly_ds[water_index].where(yearly_sea_mask & coastal_buffer)  \n",
    "\n",
    "# Set CRS and trasnform from input data\n",
    "masked_ds.attrs['crs'] = yearly_ds.crs[6:]\n",
    "masked_ds.attrs['transform'] = yearly_ds.transform\n",
    "\n",
    "# Extract contours\n",
    "output_path = f'output_data/{study_area}/{study_area}_contours_{water_index}_{index_threshold:.2f}'\n",
    "contours_gdf = subpixel_contours(da=masked_ds,\n",
    "                                 z_values=index_threshold,\n",
    "                                 output_path=f'{output_path}.geojson',\n",
    "                                 dim='year')\n",
    "\n",
    "# Plot\n",
    "contours_gdf.plot(column='year', cmap='YlOrRd')"
   ]
  },
  {
   "cell_type": "code",
   "execution_count": null,
   "metadata": {},
   "outputs": [],
   "source": []
  },
  {
   "cell_type": "markdown",
   "metadata": {},
   "source": [
    "### Extract cleaned contours"
   ]
  },
  {
   "cell_type": "code",
   "execution_count": 6,
   "metadata": {},
   "outputs": [
    {
     "name": "stdout",
     "output_type": "stream",
     "text": [
      "Operating in single z-value, multiple arrays mode\n",
      "Writing contours to output_data/NSW01.03/NSW01.03_contours_mndwi_0.00_cleaned.geojson\n"
     ]
    },
    {
     "data": {
      "text/plain": [
       "<matplotlib.axes._subplots.AxesSubplot at 0x7f56025e2390>"
      ]
     },
     "execution_count": 6,
     "metadata": {},
     "output_type": "execute_result"
    },
    {
     "data": {
      "image/png": "[encoded data removed]",
      "text/plain": [
       "<Figure size 432x288 with 1 Axes>"
      ]
     },
     "metadata": {
      "needs_background": "light"
     },
     "output_type": "display_data"
    }
   ],
   "source": [
    "# Remove low obs and high variance pixels and replace with 3-year gapfill\n",
    "cleaned_ds = masked_ds.where((yearly_ds['count'] >= 5) & (yearly_ds['stdev'] < 0.5), other=yearly_ds.gapfill)\n",
    "cleaned_ds = cleaned_ds.where(~masked_ds.isnull())\n",
    "\n",
    "# Extract contours\n",
    "contours_clean_gdf = subpixel_contours(da=cleaned_ds,\n",
    "                                 z_values=index_threshold,\n",
    "                                 output_path=f'{output_path}_cleaned.geojson',\n",
    "                                 dim='year')\n",
    "\n",
    "# Plot\n",
    "contours_clean_gdf.plot(column='year', cmap='YlOrRd')"
   ]
  },
  {
   "cell_type": "code",
   "execution_count": 7,
   "metadata": {},
   "outputs": [],
   "source": [
    "# Plot\n",
    "# map_shapefile(gdf=contours_clean_gdf, hover_col='year')"
   ]
  },
  {
   "cell_type": "markdown",
   "metadata": {},
   "source": [
    "## Compute statistics\n",
    "### Measure distances from baseline"
   ]
  },
  {
   "cell_type": "code",
   "execution_count": 8,
   "metadata": {},
   "outputs": [
    {
     "name": "stdout",
     "output_type": "stream",
     "text": [
      "1988\n",
      "1989\n",
      "1990\n",
      "1991\n",
      "1992\n",
      "1993\n",
      "1994\n",
      "1995\n",
      "1996\n",
      "1997\n",
      "1998\n",
      "1999\n",
      "2000\n",
      "2001\n",
      "2002\n",
      "2003\n",
      "2004\n",
      "2005\n",
      "2006\n",
      "2007\n",
      "2008\n",
      "2009\n",
      "2010\n",
      "2011\n",
      "2012\n",
      "2013\n",
      "2014\n",
      "2015\n",
      "2016\n",
      "2017\n",
      "2018\n"
     ]
    }
   ],
   "source": [
    "# Get array of water index values for baseline time period \n",
    "baseline_year = '1990'\n",
    "baseline_array = yearly_ds[water_index].sel(year=int(baseline_year))\n",
    "\n",
    "# Import contours and project to local CRS\n",
    "contours_gdf = contours_clean_gdf\n",
    "contours_index_gdf = contours_gdf.set_index('year')\n",
    "\n",
    "# Set annual shoreline to use as a baseline\n",
    "baseline_contour = contours_index_gdf.loc[[baseline_year]].geometry\n",
    "\n",
    "# Generate points along line and convert to geopandas.GeoDataFrame\n",
    "points_line = [baseline_contour.iloc[0].interpolate(i) \n",
    "               for i in range(0, int(baseline_contour.length), 30)]\n",
    "points_gdf = gpd.GeoDataFrame(geometry=points_line, crs=baseline_array.crs)\n",
    "\n",
    "# Copy geometry to baseline point\n",
    "points_gdf['p_baseline'] = points_gdf.geometry\n",
    "baseline_x_vals = points_gdf.geometry.x\n",
    "baseline_y_vals = points_gdf.geometry.y\n",
    "\n",
    "# Iterate through all comparison years in contour gdf\n",
    "for comp_year in contours_index_gdf.index.unique().values[0:32]:\n",
    "\n",
    "    print(comp_year)\n",
    "\n",
    "    # Set comparison contour\n",
    "    comp_contour = contours_index_gdf.loc[[comp_year]].geometry.iloc[0]\n",
    "\n",
    "    # Find nearest point on comparison contour\n",
    "    points_gdf[f'p_{comp_year}'] = points_gdf.apply(lambda x: \n",
    "                                                    nearest_points(x.p_baseline, comp_contour)[1], axis=1)\n",
    "\n",
    "    # Compute distance between baseline and comparison year points\n",
    "    points_gdf[f'{comp_year}'] = points_gdf.apply(lambda x: \n",
    "                                                  x.geometry.distance(x[f'p_{comp_year}']), axis=1)\n",
    "\n",
    "    # Extract comparison array\n",
    "    comp_array = yearly_ds[water_index].sel(year=int(comp_year))\n",
    "\n",
    "    # Convert baseline and comparison year points to geoseries to allow easy access to x and y coords\n",
    "    comp_x_vals = gpd.GeoSeries(points_gdf[f'p_{comp_year}']).x\n",
    "    comp_y_vals = gpd.GeoSeries(points_gdf[f'p_{comp_year}']).y\n",
    "\n",
    "    # Sample NDWI values from arrays based on baseline and comparison points\n",
    "    baseline_x_vals = xr.DataArray(baseline_x_vals, dims='z')\n",
    "    baseline_y_vals = xr.DataArray(baseline_y_vals, dims='z')\n",
    "    comp_x_vals = xr.DataArray(comp_x_vals, dims='z')\n",
    "    comp_y_vals = xr.DataArray(comp_y_vals, dims='z')   \n",
    "    points_gdf['index_comp_p1'] = comp_array.interp(x=baseline_x_vals, y=baseline_y_vals)\n",
    "    points_gdf['index_baseline_p2'] = baseline_array.interp(x=comp_x_vals, y=comp_y_vals)\n",
    "\n",
    "    # Compute directionality of change (negative = erosion, positive = accretion)    \n",
    "    points_gdf['loss_gain'] = np.where(points_gdf.index_baseline_p2 > \n",
    "                                       points_gdf.index_comp_p1, 1, -1)\n",
    "    points_gdf[f'{comp_year}'] = points_gdf[f'{comp_year}'] * points_gdf.loss_gain\n",
    "    \n",
    "# Keep required columns\n",
    "points_gdf = points_gdf[['geometry'] + \n",
    "                        contours_index_gdf.index.unique().values.tolist()[0:32]]\n",
    "points_gdf = points_gdf.round(2)\n",
    "\n",
    "# Identify dates for regression\n",
    "x_years = np.array([int(i[:4]) for i in points_gdf.columns[1:]])"
   ]
  },
  {
   "cell_type": "markdown",
   "metadata": {},
   "source": [
    "### Calculate regressions"
   ]
  },
  {
   "cell_type": "code",
   "execution_count": 9,
   "metadata": {},
   "outputs": [
    {
     "name": "stdout",
     "output_type": "stream",
     "text": [
      "SOI\n",
      "IOD\n",
      "SAM\n",
      "IPO\n",
      "PDO\n"
     ]
    }
   ],
   "source": [
    "# Identify SOI values for regression\n",
    "climate_df = pd.read_csv('input_data/climate_indices.csv', index_col='year')\n",
    "climate_df = climate_df.loc[x_years,:]\n",
    "\n",
    "# Compute change rates\n",
    "rate_out = points_gdf.apply(lambda x: change_regress(row=x[x_years.astype(str)], \n",
    "                                                     x_vals = x_years, \n",
    "                                                     x_labels = x_years, \n",
    "                                                     std_dev=3), axis=1)\n",
    "points_gdf[['rate_time', 'incpt_time', 'sig_time', 'outl_time']] = rate_out\n",
    "\n",
    "# Compute stats for each index\n",
    "for ci in climate_df:\n",
    "    \n",
    "    print(ci)\n",
    "    \n",
    "    # Compute stats for each row\n",
    "    ci_out = points_gdf.apply(lambda x: change_regress(row=x[x_years.astype(str)],\n",
    "                                                       x_vals = climate_df[ci].values, \n",
    "                                                       x_labels = x_years, \n",
    "                                                       detrend_params=[x.rate_time, x.incpt_time],\n",
    "                                                       std_dev=3), axis=1)\n",
    "    \n",
    "    # Add data as columns  \n",
    "    points_gdf[[f'rate_{ci}', f'incpt_{ci}', f'sig_{ci}', f'outl_{ci}']] = ci_out\n",
    "\n",
    "\n",
    "# Add breakpoints\n",
    "points_gdf['breakpoints'] = points_gdf.apply(lambda x: breakpoints(x=x[x_years.astype(str)], pen=10), axis=1)\n",
    "\n",
    "# Set CRS\n",
    "points_gdf.crs = baseline_array.crs\n",
    "\n",
    "# Custom sorting\n",
    "points_towrite = points_gdf.loc[:, [\n",
    "    'rate_time', 'rate_SOI', 'rate_IOD', 'rate_SAM', 'rate_IPO', 'rate_PDO',\n",
    "    'sig_time', 'sig_SOI', 'sig_IOD', 'sig_SAM', 'sig_IPO', 'sig_PDO',\n",
    "    'outl_time', 'outl_SOI', 'outl_IOD', 'outl_SAM', 'outl_IPO', 'outl_PDO',\n",
    "    *x_years.astype(str).tolist(), 'geometry'\n",
    "]].drop('1990', axis=1)\n",
    "\n",
    "# Export\n",
    "output_filename = f'output_data/{study_area}/{study_area}_stats_{water_index}_{index_threshold}_clean.geojson'\n",
    "points_towrite.to_file(output_filename, driver='GeoJSON')\n",
    "\n"
   ]
  },
  {
   "cell_type": "code",
   "execution_count": null,
   "metadata": {},
   "outputs": [],
   "source": []
  },
  {
   "cell_type": "markdown",
   "metadata": {},
   "source": [
    "## Evaluation\n",
    "\n",
    "### Time history"
   ]
  },
  {
   "cell_type": "code",
   "execution_count": 10,
   "metadata": {},
   "outputs": [],
   "source": [
    "# id_val = 6118\n",
    "# plot_df = pd.DataFrame({\n",
    "#     'mov': points_gdf.loc[id_val, contours_gdf.index.to_list()].values.astype(float),\n",
    "#     'time': x_years,\n",
    "#     'soi': climate_df['SOI'].values\n",
    "# })\n",
    "\n",
    "# plot_df.plot.scatter(x='time',\n",
    "#                      y='mov',\n",
    "#                      c='soi',\n",
    "#                      cmap='RdYlBu',\n",
    "#                      s=50,\n",
    "#                      edgecolors=\"black\")\n",
    "\n",
    "# plot_df.plot.scatter(x='soi',\n",
    "#                      y='mov',\n",
    "#                      c='soi',\n",
    "#                      cmap='RdYlBu',\n",
    "#                      s=50,\n",
    "#                      edgecolors=\"black\")\n"
   ]
  },
  {
   "cell_type": "markdown",
   "metadata": {},
   "source": [
    "### Test breakpoints"
   ]
  },
  {
   "cell_type": "code",
   "execution_count": 11,
   "metadata": {},
   "outputs": [],
   "source": [
    "# id_val = 6015\n",
    "# signal = points_gdf.loc[id_val,contours_gdf.index.to_list()].values\n",
    "\n",
    "# # detection\n",
    "# algo = rpt.Pelt(model=\"rbf\", min_size=2, jump=1).fit(signal)\n",
    "# result = algo.predict(pen=8)\n",
    "# print(contours_gdf.index.to_list()[result[0]])\n",
    "# rpt.display(signal, [32], result)\n"
   ]
  },
  {
   "cell_type": "markdown",
   "metadata": {},
   "source": [
    "### Index correlation"
   ]
  },
  {
   "cell_type": "code",
   "execution_count": 12,
   "metadata": {},
   "outputs": [],
   "source": [
    "# corr = climate_df.corr()\n",
    "# corr.style.background_gradient(cmap='RdBu')"
   ]
  },
  {
   "cell_type": "markdown",
   "metadata": {},
   "source": [
    "***\n",
    "\n",
    "## Additional information"
   ]
  },
  {
   "cell_type": "markdown",
   "metadata": {},
   "source": [
    "**License:** The code in this notebook is licensed under the [Apache License, Version 2.0](https://www.apache.org/licenses/LICENSE-2.0). \n",
    "Digital Earth Australia data is licensed under the [Creative Commons by Attribution 4.0](https://creativecommons.org/licenses/by/4.0/) license.\n",
    "\n",
    "**Contact:** If you need assistance, please post a question on the [Open Data Cube Slack channel](http://slack.opendatacube.org/) or on the [GIS Stack Exchange](https://gis.stackexchange.com/questions/ask?tags=open-data-cube) using the `open-data-cube` tag (you can view previously asked questions [here](https://gis.stackexchange.com/questions/tagged/open-data-cube)).\n",
    "If you would like to report an issue with this notebook, you can file one on [Github](https://github.com/GeoscienceAustralia/dea-notebooks).\n",
    "\n",
    "**Last modified:** October 2019\n",
    "\n",
    "**Compatible datacube version:** "
   ]
  },
  {
   "cell_type": "code",
   "execution_count": 13,
   "metadata": {},
   "outputs": [
    {
     "ename": "NameError",
     "evalue": "name 'datacube' is not defined",
     "output_type": "error",
     "traceback": [
      "\u001b[0;31m---------------------------------------------------------------------------\u001b[0m",
      "\u001b[0;31mNameError\u001b[0m                                 Traceback (most recent call last)",
      "\u001b[0;32m<ipython-input-13-5aa4275d8fe3>\u001b[0m in \u001b[0;36m<module>\u001b[0;34m\u001b[0m\n\u001b[0;32m----> 1\u001b[0;31m \u001b[0mprint\u001b[0m\u001b[0;34m(\u001b[0m\u001b[0mdatacube\u001b[0m\u001b[0;34m.\u001b[0m\u001b[0m__version__\u001b[0m\u001b[0;34m)\u001b[0m\u001b[0;34m\u001b[0m\u001b[0;34m\u001b[0m\u001b[0m\n\u001b[0m",
      "\u001b[0;31mNameError\u001b[0m: name 'datacube' is not defined"
     ]
    }
   ],
   "source": [
    "print(datacube.__version__)"
   ]
  },
  {
   "cell_type": "markdown",
   "metadata": {},
   "source": [
    "## Tags\n",
    "Browse all available tags on the DEA User Guide's [Tags Index](https://docs.dea.ga.gov.au/genindex.html)"
   ]
  },
  {
   "cell_type": "raw",
   "metadata": {
    "raw_mimetype": "text/restructuredtext"
   },
   "source": [
    "**Tags**: :index:`NCI compatible`, :index:`sandbox compatible`, :index:`sentinel 2`, :index:`dea_plotting`, :index:`rgb`, :index:`virtual products`, :index:`NDVI`, :index:`tasseled cap`, :index:`cloud masking`, :index:`dask`, :index:`image compositing`, :index:`statistics`, :index:`pixel quality`, :index:`combining data`, :index:`native load`, :index:`reprojecting`"
   ]
  }
 ],
 "metadata": {
  "kernelspec": {
   "display_name": "Python 3",
   "language": "python",
   "name": "python3"
  },
  "language_info": {
   "codemirror_mode": {
    "name": "ipython",
    "version": 3
   },
   "file_extension": ".py",
   "mimetype": "text/x-python",
   "name": "python",
   "nbconvert_exporter": "python",
   "pygments_lexer": "ipython3",
   "version": "3.6.8"
  },
  "widgets": {
   "application/vnd.jupyter.widget-state+json": {
    "state": {},
    "version_major": 2,
    "version_minor": 0
   }
  }
 },
 "nbformat": 4,
 "nbformat_minor": 4
}
