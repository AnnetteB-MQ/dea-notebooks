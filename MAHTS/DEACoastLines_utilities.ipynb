{
 "cells": [
  {
   "cell_type": "markdown",
   "metadata": {},
   "source": [
    "# DEA CoastLines utility functions"
   ]
  },
  {
   "cell_type": "markdown",
   "metadata": {},
   "source": [
    "## Load modules/functions\n"
   ]
  },
  {
   "cell_type": "code",
   "execution_count": 7,
   "metadata": {},
   "outputs": [],
   "source": [
    "import matplotlib.pyplot as plt\n",
    "import geopandas as gpd \n",
    "from odc.ui import select_on_a_map\n",
    "from ipyleaflet import basemaps, basemap_to_tiles\n",
    "from shapely.geometry import box\n",
    "import matplotlib.colors as colors\n",
    "\n",
    "def rates_hist(stats_path, \n",
    "               extent_path=None,\n",
    "               cmap='RdBu',\n",
    "               hist_log=True, \n",
    "               hist_bins=60, \n",
    "               hist_range=(-30, 30)):\n",
    "    \"\"\"\n",
    "    Function for analysing DEACoastLines statistics point data, plotting \n",
    "    resules as histograms to compare rates of change.\n",
    "    \n",
    "    Parameters\n",
    "    ----------\n",
    "    stats_path : string\n",
    "        Path to DEACoastLines statistics point vector file (e.g. \n",
    "        DEACoastLines_statistics_ntwa.shp')\n",
    "    extent_path : string, optional\n",
    "        An optional path to a shapefile or other vector file that will be used\n",
    "        to extract a subset of DEACoastLines statistics. The default is None,\n",
    "        which will select a subset of data using an interactive map.\n",
    "    hist_log : boolean, optional\n",
    "        An optional boolean indicating whether to plot histograms with a log \n",
    "        y-axis. If True, all non-significant statistics points will be assigned\n",
    "        a rate of 0 metres / year. If False, all non-significant points will \n",
    "        be removed from the dataset, and plotted with a linear y-axis.    \n",
    "    \"\"\"\n",
    "    \n",
    "    if extent_path:\n",
    "        extent = gpd.read_file(extent_path)\n",
    "\n",
    "    else:\n",
    "        # Plot interactive map to select area\n",
    "        basemap = basemap_to_tiles(basemaps.Esri.WorldImagery)\n",
    "        geopolygon = select_on_a_map(height='600px',\n",
    "                                     layers=(basemap,),\n",
    "                                     center=(-26, 135), \n",
    "                                     zoom=4) \n",
    "\n",
    "        # Covert extent object to geopandas.GeoSeries object with CRS\n",
    "        extent = box(*geopolygon.boundingbox)\n",
    "        extent = gpd.GeoSeries(extent, crs='EPSG:4326')\n",
    "\n",
    "    # Extract corresponding portion of stats file\n",
    "    stats_subset = gpd.read_file(stats_path, bbox=extent)\n",
    "    \n",
    "    # Raise exception if no points are returned\n",
    "    if len(stats_subset.index) == 0:\n",
    "        raise ValueError('No statistics points were returned for the supplied '\n",
    "                         'extent. Please select another area, or specify a '\n",
    "                         'points statistics file that covers the area you are '\n",
    "                         'interested in.')\n",
    "\n",
    "    if hist_log:\n",
    "\n",
    "        print('Plotting data with log axis after setting non-significant points to 0 m / year')\n",
    "        stats_subset.loc[stats_subset.sig_time > 0.01, 'rate_time'] = 0\n",
    "\n",
    "    else:\n",
    "        print('Plotting data with linear axis after filtering to significant values')\n",
    "        stats_subset = stats_subset.loc[stats_subset.sig_time < 0.01]\n",
    "\n",
    "    # Select colormap\n",
    "    cm = plt.cm.get_cmap(cmap)\n",
    "\n",
    "    # Create figure\n",
    "    fig = plt.figure(figsize=(10, 6))\n",
    "    plt.grid(True, which=\"both\", axis='y', color='0.9')\n",
    "    plt.gca().set_axisbelow(True)\n",
    "\n",
    "    # Plot histogram\n",
    "    bin_offset = (hist_range[1] - hist_range[0]) / (hist_bins / 0.5)\n",
    "    n, bins, patches = plt.hist(stats_subset.rate_time, \n",
    "                                bins=hist_bins, \n",
    "                                range=[(a + bin_offset) for a in hist_range], \n",
    "                                log=hist_log,\n",
    "                                edgecolor='black')\n",
    "\n",
    "    # Scale values to interval [0,1]\n",
    "    bin_centers = 0.5 * (bins[:-1] + bins[1:])\n",
    "    norm = colors.SymLogNorm(linthresh=0.5, \n",
    "                             linscale=0.05,\n",
    "                             vmin=hist_range[0], \n",
    "                             vmax=hist_range[1], \n",
    "                             base=10)\n",
    "    col = norm(bin_centers)  \n",
    "\n",
    "    # Apply colors to bars\n",
    "    for c, p in zip(col, patches):\n",
    "        plt.setp(p, 'facecolor', cm(c))\n",
    "\n",
    "    plt.title(f'Mean rate: {stats_subset.rate_time.mean():.2f} m / year')\n",
    "    plt.xlabel('Rate of change (m / year)')\n",
    "    plt.ylabel('Frequency')\n",
    "    plt.show()"
   ]
  },
  {
   "cell_type": "markdown",
   "metadata": {},
   "source": [
    "## Histogram analysis\n",
    "\n"
   ]
  },
  {
   "cell_type": "code",
   "execution_count": 10,
   "metadata": {},
   "outputs": [
    {
     "data": {
      "application/vnd.jupyter.widget-view+json": {
       "model_id": "83bd945fdd7f4e35b9134302ac7cf6b2",
       "version_major": 2,
       "version_minor": 0
      },
      "text/plain": [
       "Map(center=[-26, 135], controls=(ZoomControl(options=['position', 'zoom_in_text', 'zoom_in_title', 'zoom_out_t…"
      ]
     },
     "metadata": {},
     "output_type": "display_data"
    },
    {
     "name": "stdout",
     "output_type": "stream",
     "text": [
      "Plotting data with log axis after setting non-significant points to 0 m / year\n"
     ]
    },
    {
     "data": {
      "image/png": "[encoded data removed]",
      "text/plain": [
       "<Figure size 720x432 with 1 Axes>"
      ]
     },
     "metadata": {
      "needs_background": "light"
     },
     "output_type": "display_data"
    }
   ],
   "source": [
    "stats_path='/g/data/r78/rt1527/dea-notebooks/MAHTS/DEACoastLines_statistics_ntwa.shp'\n",
    "# stats_path='/g/data/r78/rt1527/dea-notebooks/MAHTS/DEACoastLines_statistics_nsqqld.shp'\n",
    "# stats_path='/g/data/r78/rt1527/dea-notebooks/MAHTS/DEACoastLines_statistics_tasvicsa.shp'\n",
    "\n",
    "rates_hist(stats_path=stats_path, hist_log=True)"
   ]
  },
  {
   "cell_type": "markdown",
   "metadata": {},
   "source": [
    "***\n",
    "\n",
    "## Additional information"
   ]
  },
  {
   "cell_type": "markdown",
   "metadata": {},
   "source": [
    "**License:** The code in this notebook is licensed under the [Apache License, Version 2.0](https://www.apache.org/licenses/LICENSE-2.0). \n",
    "Digital Earth Australia data is licensed under the [Creative Commons by Attribution 4.0](https://creativecommons.org/licenses/by/4.0/) license.\n",
    "\n",
    "**Contact:** If you need assistance, please post a question on the [Open Data Cube Slack channel](http://slack.opendatacube.org/) or on the [GIS Stack Exchange](https://gis.stackexchange.com/questions/ask?tags=open-data-cube) using the `open-data-cube` tag (you can view previously asked questions [here](https://gis.stackexchange.com/questions/tagged/open-data-cube)).\n",
    "If you would like to report an issue with this notebook, you can file one on [Github](https://github.com/GeoscienceAustralia/dea-notebooks).\n",
    "\n",
    "**Last modified:** March 2020"
   ]
  }
 ],
 "metadata": {
  "kernelspec": {
   "display_name": "Python 3",
   "language": "python",
   "name": "python3"
  },
  "language_info": {
   "codemirror_mode": {
    "name": "ipython",
    "version": 3
   },
   "file_extension": ".py",
   "mimetype": "text/x-python",
   "name": "python",
   "nbconvert_exporter": "python",
   "pygments_lexer": "ipython3",
   "version": "3.6.10"
  },
  "widgets": {
   "application/vnd.jupyter.widget-state+json": {
    "state": {},
    "version_major": 2,
    "version_minor": 0
   }
  }
 },
 "nbformat": 4,
 "nbformat_minor": 4
}
