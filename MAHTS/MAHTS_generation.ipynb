{
 "cells": [
  {
   "cell_type": "markdown",
   "metadata": {},
   "source": [
    "# MAHTS generation"
   ]
  },
  {
   "cell_type": "markdown",
   "metadata": {},
   "source": [
    "## Background\n"
   ]
  },
  {
   "cell_type": "markdown",
   "metadata": {},
   "source": [
    "## Description\n",
    "\n",
    "* Take full time series of NDWI in dask\n",
    "* Compute 2D tides for every timestep\n",
    "* Compute median of tides from entire tide timeseries\n",
    "* For each year in dask NDWI timeseries:\n",
    "    * Mask pixels where tide > overall median\n",
    "    * `.compute()` and take median \n",
    "    \n",
    "***\n"
   ]
  },
  {
   "cell_type": "markdown",
   "metadata": {},
   "source": [
    "## Getting started\n"
   ]
  },
  {
   "cell_type": "markdown",
   "metadata": {},
   "source": [
    "### Load packages\n",
    "\n",
    "First we import the required Python packages, then we connect to the database, and load the catalog of virtual products."
   ]
  },
  {
   "cell_type": "code",
   "execution_count": 1,
   "metadata": {},
   "outputs": [],
   "source": [
    "%matplotlib inline\n",
    "%load_ext line_profiler\n",
    "%load_ext autoreload\n",
    "%autoreload 2\n",
    "\n",
    "import os\n",
    "import sys\n",
    "import otps\n",
    "import datacube\n",
    "import shapely.wkt\n",
    "import numpy as np\n",
    "import pandas as pd\n",
    "import xarray as xr\n",
    "import geopandas as gpd\n",
    "import matplotlib.pyplot as plt\n",
    "from datacube.utils.geometry import Geometry, CRS\n",
    "from datacube.helpers import write_geotiff\n",
    "from datacube.virtual import catalog_from_file\n",
    "\n",
    "sys.path.append('../Scripts')\n",
    "from dea_plotting import rgb\n",
    "from dea_plotting import display_map\n",
    "from dea_spatialtools import interpolate_2d\n",
    "\n",
    "\n",
    "def get_geopoly(index, gdf):\n",
    "    '''\n",
    "    Selects a row from a geopandas.GeoDataFrame, and converts this\n",
    "    into a geopolygon feature as an input to dc.load\n",
    "    '''\n",
    "    return Geometry(geo=gdf.loc[index].geometry.__geo_interface__, \n",
    "                    crs=CRS(gdf.crs['init']))\n",
    "\n",
    "\n",
    "def interpolate_tide(timestep_ds, tidepoints_gdf, method='rbf', factor=20):    \n",
    "    '''\n",
    "    Extract a subset of tide modelling point data for a given time-step,\n",
    "    then interpolate these tides into the extent of the xarray dataset.\n",
    "    '''    \n",
    "  \n",
    "    # Extract subset of observations based on timestamp of imagery\n",
    "    time_string = str(timestep_ds.time.values)[0:19].replace('T', ' ')\n",
    "    tidepoints_subset = tidepoints_gdf.loc[time_string]\n",
    "    print(time_string, end='\\r')\n",
    "    \n",
    "    # Get lists of x, y and z (tide height) data to interpolate\n",
    "    x_coords = tidepoints_subset.geometry.x,\n",
    "    y_coords = tidepoints_subset.geometry.y,\n",
    "    z_coords = tidepoints_subset.tide_m\n",
    "    \n",
    "    # Interpolate tides into the extent of the satellite timestep\n",
    "    out_tide = interpolate_2d(ds=timestep_ds,\n",
    "                              x_coords=x_coords,\n",
    "                              y_coords=y_coords,\n",
    "                              z_coords=z_coords,\n",
    "                              method=method,\n",
    "                              factor=factor)\n",
    "    \n",
    "    # Return data as a Float32 to conserve memory\n",
    "    return out_tide.astype(np.float32)\n",
    "\n",
    "\n",
    "def tidal_composite(year_ds, tide_cutoff, output_dir, export_geotiff=False):\n",
    "    '''\n",
    "    Loads data for a time period into memory, masks to keep only\n",
    "    pixels observed at > median tide, takes median and counts of valid \n",
    "    water index results, and optionally writes each water index, tide \n",
    "    height and valid pixel counts for the time period to file\n",
    "    '''\n",
    "    \n",
    "    # Print status\n",
    "    year = year_ds.time[0].dt.year.item()\n",
    "    print(f'Processing {year}', end='\\r')\n",
    "    \n",
    "    # Determine what pixels were acquired above median tide, and drop\n",
    "    # time-steps without any pixels above median tide to reduce data to load\n",
    "    high_tide_bool = year_ds.tide_m >= tide_cutoff\n",
    "    year_ds = year_ds.sel(time=high_tide_bool.sum(dim=['x', 'y']) > 0)\n",
    "    \n",
    "    # Apply mask, and load in corresponding high tide data\n",
    "    year_ds = year_ds.where(high_tide_bool)\n",
    "    year_ds = year_ds.compute()\n",
    "    \n",
    "    # Compute median water indices and counts of valid pixels\n",
    "    median_ds = year_ds.median(dim='time', keep_attrs=True)\n",
    "    median_ds['count'] = (year_ds.mndwi\n",
    "                          .count(dim='time', keep_attrs=True)\n",
    "                          .astype('int16'))\n",
    "    median_ds['stdev'] = year_ds.mndwi.std(dim='time', keep_attrs=True)\n",
    "    \n",
    "    # Write each variable to file\n",
    "    geotiff_profile = {'blockxsize': 1024, \n",
    "                       'blockysize': 1024, \n",
    "                       'compress': 'deflate', \n",
    "                       'zlevel': 9}\n",
    "    \n",
    "    if export_geotiff:\n",
    "        for i in median_ds:\n",
    "            write_geotiff(filename=f'{output_dir}/{i}_{str(year)}.tif', \n",
    "                          dataset=median_ds[[i]],\n",
    "                          profile_override=geotiff_profile)\n",
    "        \n",
    "    return median_ds\n"
   ]
  },
  {
   "cell_type": "markdown",
   "metadata": {},
   "source": [
    "### Set up Dask"
   ]
  },
  {
   "cell_type": "code",
   "execution_count": 2,
   "metadata": {},
   "outputs": [
    {
     "data": {
      "text/html": [
       "<table style=\"border: 2px solid white;\">\n",
       "<tr>\n",
       "<td style=\"vertical-align: top; border: 0px solid white\">\n",
       "<h3 style=\"text-align: left;\">Client</h3>\n",
       "<ul style=\"text-align: left; list-style: none; margin: 0; padding: 0;\">\n",
       "  <li><b>Scheduler: </b>tcp://127.0.0.1:35431</li>\n",
       "  <li><b>Dashboard: </b><a href='/proxy/8787/status' target='_blank'>/proxy/8787/status</a>\n",
       "</ul>\n",
       "</td>\n",
       "<td style=\"vertical-align: top; border: 0px solid white\">\n",
       "<h3 style=\"text-align: left;\">Cluster</h3>\n",
       "<ul style=\"text-align: left; list-style:none; margin: 0; padding: 0;\">\n",
       "  <li><b>Workers: </b>1</li>\n",
       "  <li><b>Cores: </b>4</li>\n",
       "  <li><b>Memory: </b>4.00 GB</li>\n",
       "</ul>\n",
       "</td>\n",
       "</tr>\n",
       "</table>"
      ],
      "text/plain": [
       "<Client: 'tcp://127.0.0.1:35431' processes=1 threads=4, memory=4.00 GB>"
      ]
     },
     "metadata": {},
     "output_type": "display_data"
    }
   ],
   "source": [
    "from datacube.utils.rio import configure_s3_access\n",
    "from datacube.utils.dask import start_local_dask\n",
    "import os\n",
    "import dask\n",
    "from dask.utils import parse_bytes\n",
    "\n",
    "# configure dashboard link to go over proxy\n",
    "dask.config.set({\"distributed.dashboard.link\":\n",
    "                 os.environ.get('JUPYTERHUB_SERVICE_PREFIX', '/')+\"proxy/{port}/status\"});\n",
    "\n",
    "# Figure out how much memory/cpu we really have (those are set by jupyterhub)\n",
    "mem_limit = int(os.environ.get('MEM_LIMIT', '0'))\n",
    "cpu_limit = float(os.environ.get('CPU_LIMIT', '0'))\n",
    "cpu_limit = int(cpu_limit) if cpu_limit > 0 else 4\n",
    "mem_limit = mem_limit if mem_limit > 0 else parse_bytes('8Gb')\n",
    "\n",
    "# leave 4Gb for notebook itself\n",
    "mem_limit -= parse_bytes('4Gb')\n",
    "\n",
    "# close previous client if any, so that one can re-run this cell without issues\n",
    "client = locals().get('client', None)\n",
    "if client is not None:\n",
    "    client.close()\n",
    "    del client\n",
    "    \n",
    "client = start_local_dask(n_workers=1,\n",
    "                          threads_per_worker=cpu_limit, \n",
    "                          memory_limit=mem_limit)\n",
    "display(client)\n",
    "\n",
    "# Configure GDAL for s3 access \n",
    "configure_s3_access(aws_unsigned=True,  # works only when reading public resources\n",
    "                    client=client);"
   ]
  },
  {
   "cell_type": "markdown",
   "metadata": {},
   "source": [
    "### Connect to the datacube"
   ]
  },
  {
   "cell_type": "code",
   "execution_count": 3,
   "metadata": {},
   "outputs": [],
   "source": [
    "# dc = datacube.Datacube(app='MAHTS_testing', env='c3-samples')\n",
    "dc = datacube.Datacube(app='MAHTS_testing')"
   ]
  },
  {
   "cell_type": "markdown",
   "metadata": {},
   "source": [
    "### Load virtual products catalogue\n"
   ]
  },
  {
   "cell_type": "code",
   "execution_count": 4,
   "metadata": {},
   "outputs": [],
   "source": [
    "catalog = catalog_from_file('MAHTS_virtual_products.yaml')"
   ]
  },
  {
   "cell_type": "markdown",
   "metadata": {},
   "source": [
    "### Load tidal points\n"
   ]
  },
  {
   "cell_type": "code",
   "execution_count": 5,
   "metadata": {},
   "outputs": [
    {
     "ename": "DriverError",
     "evalue": "input_data/Secondary_compartments.shp: No such file or directory",
     "output_type": "error",
     "traceback": [
      "\u001b[0;31m---------------------------------------------------------------------------\u001b[0m",
      "\u001b[0;31mCPLE_OpenFailedError\u001b[0m                      Traceback (most recent call last)",
      "\u001b[0;32mfiona/_shim.pyx\u001b[0m in \u001b[0;36mfiona._shim.gdal_open_vector\u001b[0;34m()\u001b[0m\n",
      "\u001b[0;32mfiona/_err.pyx\u001b[0m in \u001b[0;36mfiona._err.exc_wrap_pointer\u001b[0;34m()\u001b[0m\n",
      "\u001b[0;31mCPLE_OpenFailedError\u001b[0m: input_data/Secondary_compartments.shp: No such file or directory",
      "\nDuring handling of the above exception, another exception occurred:\n",
      "\u001b[0;31mDriverError\u001b[0m                               Traceback (most recent call last)",
      "\u001b[0;32m<ipython-input-5-f622832f087f>\u001b[0m in \u001b[0;36m<module>\u001b[0;34m\u001b[0m\n\u001b[1;32m      1\u001b[0m \u001b[0mpoints_gdf\u001b[0m \u001b[0;34m=\u001b[0m \u001b[0mgpd\u001b[0m\u001b[0;34m.\u001b[0m\u001b[0mread_file\u001b[0m\u001b[0;34m(\u001b[0m\u001b[0;34m'input_data/tide_points_coastal.geojson'\u001b[0m\u001b[0;34m)\u001b[0m\u001b[0;34m\u001b[0m\u001b[0;34m\u001b[0m\u001b[0m\n\u001b[0;32m----> 2\u001b[0;31m \u001b[0mcomp_gdf\u001b[0m \u001b[0;34m=\u001b[0m \u001b[0mgpd\u001b[0m\u001b[0;34m.\u001b[0m\u001b[0mread_file\u001b[0m\u001b[0;34m(\u001b[0m\u001b[0;34m'input_data/Secondary_compartments.shp'\u001b[0m\u001b[0;34m)\u001b[0m\u001b[0;34m.\u001b[0m\u001b[0mset_index\u001b[0m\u001b[0;34m(\u001b[0m\u001b[0;34m'ID_Seconda'\u001b[0m\u001b[0;34m)\u001b[0m\u001b[0;34m\u001b[0m\u001b[0;34m\u001b[0m\u001b[0m\n\u001b[0m",
      "\u001b[0;32m/g/data/v10/public/modules/dea-env/20191127/lib/python3.6/site-packages/geopandas/io/file.py\u001b[0m in \u001b[0;36mread_file\u001b[0;34m(filename, bbox, **kwargs)\u001b[0m\n\u001b[1;32m     74\u001b[0m \u001b[0;34m\u001b[0m\u001b[0m\n\u001b[1;32m     75\u001b[0m     \u001b[0;32mwith\u001b[0m \u001b[0mfiona_env\u001b[0m\u001b[0;34m(\u001b[0m\u001b[0;34m)\u001b[0m\u001b[0;34m:\u001b[0m\u001b[0;34m\u001b[0m\u001b[0;34m\u001b[0m\u001b[0m\n\u001b[0;32m---> 76\u001b[0;31m         \u001b[0;32mwith\u001b[0m \u001b[0mreader\u001b[0m\u001b[0;34m(\u001b[0m\u001b[0mpath_or_bytes\u001b[0m\u001b[0;34m,\u001b[0m \u001b[0;34m**\u001b[0m\u001b[0mkwargs\u001b[0m\u001b[0;34m)\u001b[0m \u001b[0;32mas\u001b[0m \u001b[0mfeatures\u001b[0m\u001b[0;34m:\u001b[0m\u001b[0;34m\u001b[0m\u001b[0;34m\u001b[0m\u001b[0m\n\u001b[0m\u001b[1;32m     77\u001b[0m \u001b[0;34m\u001b[0m\u001b[0m\n\u001b[1;32m     78\u001b[0m             \u001b[0;31m# In a future Fiona release the crs attribute of features will\u001b[0m\u001b[0;34m\u001b[0m\u001b[0;34m\u001b[0m\u001b[0;34m\u001b[0m\u001b[0m\n",
      "\u001b[0;32m/g/data/v10/public/modules/dea-env/20191127/lib/python3.6/site-packages/fiona/env.py\u001b[0m in \u001b[0;36mwrapper\u001b[0;34m(*args, **kwargs)\u001b[0m\n\u001b[1;32m    395\u001b[0m     \u001b[0;32mdef\u001b[0m \u001b[0mwrapper\u001b[0m\u001b[0;34m(\u001b[0m\u001b[0;34m*\u001b[0m\u001b[0margs\u001b[0m\u001b[0;34m,\u001b[0m \u001b[0;34m**\u001b[0m\u001b[0mkwargs\u001b[0m\u001b[0;34m)\u001b[0m\u001b[0;34m:\u001b[0m\u001b[0;34m\u001b[0m\u001b[0;34m\u001b[0m\u001b[0m\n\u001b[1;32m    396\u001b[0m         \u001b[0;32mif\u001b[0m \u001b[0mlocal\u001b[0m\u001b[0;34m.\u001b[0m\u001b[0m_env\u001b[0m\u001b[0;34m:\u001b[0m\u001b[0;34m\u001b[0m\u001b[0;34m\u001b[0m\u001b[0m\n\u001b[0;32m--> 397\u001b[0;31m             \u001b[0;32mreturn\u001b[0m \u001b[0mf\u001b[0m\u001b[0;34m(\u001b[0m\u001b[0;34m*\u001b[0m\u001b[0margs\u001b[0m\u001b[0;34m,\u001b[0m \u001b[0;34m**\u001b[0m\u001b[0mkwargs\u001b[0m\u001b[0;34m)\u001b[0m\u001b[0;34m\u001b[0m\u001b[0;34m\u001b[0m\u001b[0m\n\u001b[0m\u001b[1;32m    398\u001b[0m         \u001b[0;32melse\u001b[0m\u001b[0;34m:\u001b[0m\u001b[0;34m\u001b[0m\u001b[0;34m\u001b[0m\u001b[0m\n\u001b[1;32m    399\u001b[0m             \u001b[0;32mif\u001b[0m \u001b[0misinstance\u001b[0m\u001b[0;34m(\u001b[0m\u001b[0margs\u001b[0m\u001b[0;34m[\u001b[0m\u001b[0;36m0\u001b[0m\u001b[0;34m]\u001b[0m\u001b[0;34m,\u001b[0m \u001b[0mstr\u001b[0m\u001b[0;34m)\u001b[0m\u001b[0;34m:\u001b[0m\u001b[0;34m\u001b[0m\u001b[0;34m\u001b[0m\u001b[0m\n",
      "\u001b[0;32m/g/data/v10/public/modules/dea-env/20191127/lib/python3.6/site-packages/fiona/__init__.py\u001b[0m in \u001b[0;36mopen\u001b[0;34m(fp, mode, driver, schema, crs, encoding, layer, vfs, enabled_drivers, crs_wkt, **kwargs)\u001b[0m\n\u001b[1;32m    251\u001b[0m         \u001b[0;32mif\u001b[0m \u001b[0mmode\u001b[0m \u001b[0;32min\u001b[0m \u001b[0;34m(\u001b[0m\u001b[0;34m'a'\u001b[0m\u001b[0;34m,\u001b[0m \u001b[0;34m'r'\u001b[0m\u001b[0;34m)\u001b[0m\u001b[0;34m:\u001b[0m\u001b[0;34m\u001b[0m\u001b[0;34m\u001b[0m\u001b[0m\n\u001b[1;32m    252\u001b[0m             c = Collection(path, mode, driver=driver, encoding=encoding,\n\u001b[0;32m--> 253\u001b[0;31m                            layer=layer, enabled_drivers=enabled_drivers, **kwargs)\n\u001b[0m\u001b[1;32m    254\u001b[0m         \u001b[0;32melif\u001b[0m \u001b[0mmode\u001b[0m \u001b[0;34m==\u001b[0m \u001b[0;34m'w'\u001b[0m\u001b[0;34m:\u001b[0m\u001b[0;34m\u001b[0m\u001b[0;34m\u001b[0m\u001b[0m\n\u001b[1;32m    255\u001b[0m             \u001b[0;32mif\u001b[0m \u001b[0mschema\u001b[0m\u001b[0;34m:\u001b[0m\u001b[0;34m\u001b[0m\u001b[0;34m\u001b[0m\u001b[0m\n",
      "\u001b[0;32m/g/data/v10/public/modules/dea-env/20191127/lib/python3.6/site-packages/fiona/collection.py\u001b[0m in \u001b[0;36m__init__\u001b[0;34m(self, path, mode, driver, schema, crs, encoding, layer, vsi, archive, enabled_drivers, crs_wkt, ignore_fields, ignore_geometry, **kwargs)\u001b[0m\n\u001b[1;32m    157\u001b[0m             \u001b[0;32mif\u001b[0m \u001b[0mself\u001b[0m\u001b[0;34m.\u001b[0m\u001b[0mmode\u001b[0m \u001b[0;34m==\u001b[0m \u001b[0;34m'r'\u001b[0m\u001b[0;34m:\u001b[0m\u001b[0;34m\u001b[0m\u001b[0;34m\u001b[0m\u001b[0m\n\u001b[1;32m    158\u001b[0m                 \u001b[0mself\u001b[0m\u001b[0;34m.\u001b[0m\u001b[0msession\u001b[0m \u001b[0;34m=\u001b[0m \u001b[0mSession\u001b[0m\u001b[0;34m(\u001b[0m\u001b[0;34m)\u001b[0m\u001b[0;34m\u001b[0m\u001b[0;34m\u001b[0m\u001b[0m\n\u001b[0;32m--> 159\u001b[0;31m                 \u001b[0mself\u001b[0m\u001b[0;34m.\u001b[0m\u001b[0msession\u001b[0m\u001b[0;34m.\u001b[0m\u001b[0mstart\u001b[0m\u001b[0;34m(\u001b[0m\u001b[0mself\u001b[0m\u001b[0;34m,\u001b[0m \u001b[0;34m**\u001b[0m\u001b[0mkwargs\u001b[0m\u001b[0;34m)\u001b[0m\u001b[0;34m\u001b[0m\u001b[0;34m\u001b[0m\u001b[0m\n\u001b[0m\u001b[1;32m    160\u001b[0m             \u001b[0;32melif\u001b[0m \u001b[0mself\u001b[0m\u001b[0;34m.\u001b[0m\u001b[0mmode\u001b[0m \u001b[0;32min\u001b[0m \u001b[0;34m(\u001b[0m\u001b[0;34m'a'\u001b[0m\u001b[0;34m,\u001b[0m \u001b[0;34m'w'\u001b[0m\u001b[0;34m)\u001b[0m\u001b[0;34m:\u001b[0m\u001b[0;34m\u001b[0m\u001b[0;34m\u001b[0m\u001b[0m\n\u001b[1;32m    161\u001b[0m                 \u001b[0mself\u001b[0m\u001b[0;34m.\u001b[0m\u001b[0msession\u001b[0m \u001b[0;34m=\u001b[0m \u001b[0mWritingSession\u001b[0m\u001b[0;34m(\u001b[0m\u001b[0;34m)\u001b[0m\u001b[0;34m\u001b[0m\u001b[0;34m\u001b[0m\u001b[0m\n",
      "\u001b[0;32mfiona/ogrext.pyx\u001b[0m in \u001b[0;36mfiona.ogrext.Session.start\u001b[0;34m()\u001b[0m\n",
      "\u001b[0;32mfiona/_shim.pyx\u001b[0m in \u001b[0;36mfiona._shim.gdal_open_vector\u001b[0;34m()\u001b[0m\n",
      "\u001b[0;31mDriverError\u001b[0m: input_data/Secondary_compartments.shp: No such file or directory"
     ]
    }
   ],
   "source": [
    "points_gdf = gpd.read_file('input_data/tide_points_coastal.geojson')\n",
    "comp_gdf = gpd.read_file('input_data/Secondary_compartments.shp').set_index('ID_Seconda')"
   ]
  },
  {
   "cell_type": "code",
   "execution_count": 7,
   "metadata": {},
   "outputs": [
    {
     "ename": "NameError",
     "evalue": "name 'comp_gdf' is not defined",
     "output_type": "error",
     "traceback": [
      "\u001b[0;31m---------------------------------------------------------------------------\u001b[0m",
      "\u001b[0;31mNameError\u001b[0m                                 Traceback (most recent call last)",
      "\u001b[0;32m<ipython-input-7-66bdefb2bc35>\u001b[0m in \u001b[0;36m<module>\u001b[0;34m\u001b[0m\n\u001b[1;32m    130\u001b[0m \u001b[0;34m\u001b[0m\u001b[0m\n\u001b[1;32m    131\u001b[0m \u001b[0mstudy_area\u001b[0m \u001b[0;34m=\u001b[0m \u001b[0;34m'SA05.04'\u001b[0m\u001b[0;34m\u001b[0m\u001b[0;34m\u001b[0m\u001b[0m\n\u001b[0;32m--> 132\u001b[0;31m query = {'geopolygon': get_geopoly(study_area, comp_gdf),\n\u001b[0m\u001b[1;32m    133\u001b[0m          \u001b[0;34m'time'\u001b[0m\u001b[0;34m:\u001b[0m \u001b[0;34m(\u001b[0m\u001b[0;34m'1987'\u001b[0m\u001b[0;34m,\u001b[0m \u001b[0;34m'2018'\u001b[0m\u001b[0;34m)\u001b[0m\u001b[0;34m,\u001b[0m\u001b[0;34m\u001b[0m\u001b[0;34m\u001b[0m\u001b[0m\n\u001b[1;32m    134\u001b[0m          \u001b[0;34m'dask_chunks'\u001b[0m\u001b[0;34m:\u001b[0m \u001b[0;34m{\u001b[0m\u001b[0;34m'time'\u001b[0m\u001b[0;34m:\u001b[0m \u001b[0;36m1\u001b[0m\u001b[0;34m,\u001b[0m \u001b[0;34m'x'\u001b[0m\u001b[0;34m:\u001b[0m \u001b[0;36m1000\u001b[0m\u001b[0;34m,\u001b[0m \u001b[0;34m'y'\u001b[0m\u001b[0;34m:\u001b[0m \u001b[0;36m1000\u001b[0m\u001b[0;34m}\u001b[0m\u001b[0;34m,\u001b[0m\u001b[0;34m\u001b[0m\u001b[0;34m\u001b[0m\u001b[0m\n",
      "\u001b[0;31mNameError\u001b[0m: name 'comp_gdf' is not defined"
     ]
    }
   ],
   "source": [
    "# study_area = 'stradbroke'\n",
    "# query = {'x': (153.42, 153.61),\n",
    "#          'y': (-27.35, -28.4919),\n",
    "#          'time': ('1987', '2018'),\n",
    "#          'dask_chunks': {'time': 1},\n",
    "#          'cloud_cover': [0, 80],\n",
    "#         }\n",
    "\n",
    "\n",
    "# study_area = 'goldcoast_test_3m'\n",
    "# query = {'x': (153.55, 153.642),\n",
    "#          'y': (-28.20,  -28.8982),\n",
    "#          'time': ('1987', '2018'),\n",
    "#          'dask_chunks': {'time': 1},\n",
    "#          'cloud_cover': [0, 80],\n",
    "#         }\n",
    "\n",
    "\n",
    "# # Gold Coast\n",
    "# study_area = 'brisbane'\n",
    "# query = {'x': (153.00, 153.50),\n",
    "#          'y': (-26.6499,  -27.6495),\n",
    "#          'time': ('1987', '2018'),\n",
    "#          'dask_chunks': {'time': 1},\n",
    "#          'cloud_cover': [0, 80],\n",
    "#         }\n",
    "\n",
    "\n",
    "# study_area = 'fraser'\n",
    "# query = {'x': (152.9819, 153.20),\n",
    "#          'y': (-25.60,  -26.67),\n",
    "#          'time': ('1987', '2018'),\n",
    "#          'dask_chunks': {'time': 1},\n",
    "#          'cloud_cover': [0, 80],\n",
    "#         }\n",
    "\n",
    "\n",
    "# study_area = 'yamba'\n",
    "# query = {'x': (153.29,  153.4735  ),\n",
    "#          'y': (-29.0994,  -29.7381),\n",
    "#          'time': ('1987', '2018'),\n",
    "#          'dask_chunks': {'time': 1},\n",
    "#          'cloud_cover': [0, 80],\n",
    "#         }\n",
    "\n",
    "    \n",
    "# study_area = 'byron'\n",
    "# query = {'x': (153.42, 153.645),\n",
    "#          'y': (-28.46, -29.17),\n",
    "#          'time': ('1987', '2018'),\n",
    "#          'dask_chunks': {'x': 1000, 'y': 1000},\n",
    "#          'cloud_cover': [0, 80]}\n",
    "\n",
    "\n",
    "# # Moreton Bay\n",
    "# study_area = 'moretonbay'\n",
    "# query = {'x': (153.00, 153.25),\n",
    "#          'y': (-26.81, -27.44),\n",
    "#          'time': ('2008', '2008'),\n",
    "#          'cloud_cover': [0, 80]}\n",
    "\n",
    "# # Moreton Bay seam test\n",
    "# study_area = 'moretonbay'\n",
    "# query = {'x': (153.10, 153.18),\n",
    "#          'y': (-26.70, -26.83),\n",
    "#          'time': ('2000', '2010'),\n",
    "#          'dask_chunks': {'time': 1},\n",
    "#          'cloud_cover': [0, 80]}\n",
    "\n",
    "# # Moreton Bay small\n",
    "# name = 'moretonbay'\n",
    "# query = {'x': (153.16, 153.2840),\n",
    "#          'y': (-27.315, -27.4416),\n",
    "#          'time': ('2000', '2010'),\n",
    "#          'dask_chunks': {'time': 1, 'x': 1000, 'y': 1000},\n",
    "#          'cloud_cover': [0, 80]}\n",
    "\n",
    "# study_area = 'perthsmall'\n",
    "# query = {'x': (115.71,  115.7777),\n",
    "#          'y': (-31.7363, -31.8787),\n",
    "#          'time': ('1987', '2018'),\n",
    "#          'dask_chunks': {'x': 1000, 'y': 1000},\n",
    "#          'cloud_cover': [0, 80]}\n",
    "\n",
    "\n",
    "# study_area = 'fremantle'\n",
    "# query = {'x': (115.7199,  115.7650),\n",
    "#          'y': (-31.9944, -32.0786),\n",
    "#          'time': ('1987', '2018'),\n",
    "#          'dask_chunks': {'x': 1000, 'y': 1000},\n",
    "#          'cloud_cover': [0, 80]}\n",
    "\n",
    "# study_area = 'fremantle2'\n",
    "# query = {'x': (115.7312,  115.7726),\n",
    "#          'y': ( -32.0692, -32.1451),\n",
    "#          'time': ('1987', '2018'),\n",
    "#          'dask_chunks': {'x': 1000, 'y': 1000},\n",
    "#          'cloud_cover': [0, 80]}\n",
    "\n",
    "# study_area = 'portlonsdale'\n",
    "# query = {'x': (144.471801,  144.7868),\n",
    "#          'y': (-38.0816, -38.35),\n",
    "#          'time': ('1987', '2018'),\n",
    "#          'dask_chunks': {'x': 1000, 'y': 1000},\n",
    "#          'cloud_cover': [0, 80]}\n",
    "\n",
    "\n",
    "# study_area = 'cornerinlet'\n",
    "# query = {'x': (146.4381,  146.93),\n",
    "#          'y': (-38.58, -38.8253),\n",
    "#          'time': ('1987', '2018'),\n",
    "#          'dask_chunks': {'x': 1000, 'y': 1000},\n",
    "#          'cloud_cover': [0, 80]}\n",
    "\n",
    "# study_area = 'cornerinletsmall'\n",
    "# query = {'x': (146.6431, 146.78),\n",
    "#          'y': (-38.6541, -38.7562),\n",
    "#          'time': ('1987', '2018'),\n",
    "#          'dask_chunks': {'x': 1000, 'y': 1000},\n",
    "#          'cloud_cover': [0, 80]}\n",
    "   \n",
    "# # Moreton Bay small\n",
    "# study_area = 'QLD18.02'\n",
    "# query = {'x': (153.16, 153.2840),\n",
    "#          'y': (-27.315, -27.4416),\n",
    "#          'time': ('2000', '2010'),\n",
    "#          'dask_chunks': {'time': 1, 'x': 1000, 'y': 1000},\n",
    "#          'cloud_cover': [0, 80]}\n",
    "\n",
    "\n",
    "study_area = 'SA05.04'\n",
    "query = {'geopolygon': get_geopoly(study_area, comp_gdf),\n",
    "         'time': ('1987', '2018'),\n",
    "         'dask_chunks': {'time': 1, 'x': 1000, 'y': 1000},\n",
    "         'cloud_cover': [0, 80]}\n",
    "\n",
    "# Preview study area\n",
    "display_map(x=(query['geopolygon'].envelope.left, \n",
    "               query['geopolygon'].envelope.right), \n",
    "            y=(query['geopolygon'].envelope.top, \n",
    "               query['geopolygon'].envelope.bottom))\n",
    "\n",
    "# # Preview study area\n",
    "# display_map(x=query['x'], y=query['y'])"
   ]
  },
  {
   "cell_type": "markdown",
   "metadata": {},
   "source": [
    "## Load virtual product"
   ]
  },
  {
   "cell_type": "code",
   "execution_count": 6,
   "metadata": {},
   "outputs": [
    {
     "ename": "NameError",
     "evalue": "name 'query' is not defined",
     "output_type": "error",
     "traceback": [
      "\u001b[0;31m---------------------------------------------------------------------------\u001b[0m",
      "\u001b[0;31mNameError\u001b[0m                                 Traceback (most recent call last)",
      "\u001b[0;32m<ipython-input-6-e2edcad7358a>\u001b[0m in \u001b[0;36m<module>\u001b[0;34m\u001b[0m\n\u001b[1;32m     17\u001b[0m               \u001b[0mlazy_load\u001b[0m\u001b[0;34m=\u001b[0m\u001b[0;32mTrue\u001b[0m\u001b[0;34m,\u001b[0m\u001b[0;34m\u001b[0m\u001b[0;34m\u001b[0m\u001b[0m\n\u001b[1;32m     18\u001b[0m               \u001b[0mgroup_by\u001b[0m\u001b[0;34m=\u001b[0m\u001b[0;34m'solar_day'\u001b[0m\u001b[0;34m,\u001b[0m\u001b[0;34m\u001b[0m\u001b[0;34m\u001b[0m\u001b[0m\n\u001b[0;32m---> 19\u001b[0;31m               **query)\n\u001b[0m\u001b[1;32m     20\u001b[0m \u001b[0;34m\u001b[0m\u001b[0m\n\u001b[1;32m     21\u001b[0m ds = (calculate_indices(ds, index=['NDWI', 'MNDWI', 'AWEI_ns', 'AWEI_sh'], \n",
      "\u001b[0;31mNameError\u001b[0m: name 'query' is not defined"
     ]
    }
   ],
   "source": [
    "# product = catalog['ls_nbart_indices']\n",
    "# ds = product.load(dc, **query)\n",
    "# ds\n",
    "\n",
    "from dea_datahandling import load_ard\n",
    "from dea_bandindices import calculate_indices\n",
    "\n",
    "ds = load_ard(dc=dc, \n",
    "              measurements=['nbart_blue', 'nbart_green', 'nbart_red', 'nbart_nir', 'nbart_swir_1', 'nbart_swir_2'], \n",
    "              min_gooddata=0.0,\n",
    "              products=['ga_ls5t_ard_3', 'ga_ls7e_ard_3', 'ga_ls8c_ard_3'], \n",
    "              output_crs='epsg:32756',\n",
    "              resampling={'*': 'average', 'fmask': 'nearest', 'oa_fmask': 'nearest'},\n",
    "              resolution=(-30, 30),  \n",
    "              gqa_iterative_mean_xy=[0, 1],\n",
    "              align=(15, 15),\n",
    "              lazy_load=True,\n",
    "              group_by='solar_day',\n",
    "              **query)\n",
    "\n",
    "ds = (calculate_indices(ds, index=['NDWI', 'MNDWI', 'AWEI_ns', 'AWEI_sh'], \n",
    "                        collection='ga_ls_3', \n",
    "                        drop=True)\n",
    "      .rename({'NDWI': 'ndwi', 'MNDWI': 'mndwi', 'AWEI_ns': 'awei_ns', 'AWEI_sh': 'awei_sh'}))\n"
   ]
  },
  {
   "cell_type": "markdown",
   "metadata": {},
   "source": [
    "## Model tides"
   ]
  },
  {
   "cell_type": "code",
   "execution_count": 8,
   "metadata": {},
   "outputs": [
    {
     "data": {
      "text/plain": [
       "<matplotlib.axes._subplots.AxesSubplot at 0x7f24bcaaefd0>"
      ]
     },
     "execution_count": 8,
     "metadata": {},
     "output_type": "execute_result"
    },
    {
     "data": {
      "image/png": "[encoded data removed]",
      "text/plain": [
       "<Figure size 432x288 with 2 Axes>"
      ]
     },
     "metadata": {
      "needs_background": "light"
     },
     "output_type": "display_data"
    }
   ],
   "source": [
    "# Pull out subset of modelling points for region around satellite data\n",
    "# bounds = shapely.wkt.loads(ds.geobox.geographic_extent.buffer(0.05).wkt)\n",
    "bounds = comp_gdf.loc[study_area].geometry.buffer(0.05)\n",
    "subset_gdf = points_gdf[points_gdf.geometry.intersects(bounds)]\n",
    "\n",
    "# Extract lon, lat from tides, and time from satellite data\n",
    "x_vals = subset_gdf.geometry.centroid.x\n",
    "y_vals = subset_gdf.geometry.centroid.y\n",
    "observed_datetimes = ds.time.data.astype('M8[s]').astype('O').tolist()\n",
    "\n",
    "# Create list of lat/lon/time scenarios to model\n",
    "observed_timepoints = [otps.TimePoint(lon, lat, date) \n",
    "                       for date in observed_datetimes\n",
    "                       for lon, lat in zip(x_vals, y_vals)]\n",
    "\n",
    "# Model tides for each scenario\n",
    "observed_predictedtides = otps.predict_tide(observed_timepoints)\n",
    "\n",
    "# Output results into pandas.DataFrame\n",
    "tidepoints_df = pd.DataFrame([(i.timepoint.timestamp, \n",
    "                               i.timepoint.lon, \n",
    "                               i.timepoint.lat, \n",
    "                               i.tide_m) for i in observed_predictedtides], \n",
    "                             columns=['time', 'lon', 'lat', 'tide_m']) \n",
    "\n",
    "# Convert data to spatial geopandas.GeoDataFrame\n",
    "tidepoints_gdf = gpd.GeoDataFrame(data={'time': tidepoints_df.time, \n",
    "                                        'tide_m': tidepoints_df.tide_m}, \n",
    "                                  geometry=gpd.points_from_xy(tidepoints_df.lon, \n",
    "                                                              tidepoints_df.lat), \n",
    "                                  crs={'init': 'EPSG:4326'})\n",
    "\n",
    "# Reproject to satellite data CRS\n",
    "tidepoints_gdf = tidepoints_gdf.to_crs(epsg=ds.crs.epsg)\n",
    "\n",
    "# Fix time and set to index\n",
    "tidepoints_gdf['time'] = pd.to_datetime(tidepoints_gdf['time'], utc=True)\n",
    "tidepoints_gdf = tidepoints_gdf.set_index('time')\n",
    "\n",
    "# Plot a sample timestep\n",
    "ds.isel(time=0).mndwi.plot()\n",
    "tidepoints_gdf.plot(ax=plt.gca())"
   ]
  },
  {
   "cell_type": "markdown",
   "metadata": {},
   "source": [
    "### Interpolate tides into each satellite timestep"
   ]
  },
  {
   "cell_type": "code",
   "execution_count": 9,
   "metadata": {},
   "outputs": [
    {
     "name": "stdout",
     "output_type": "stream",
     "text": [
      "2018-12-29 23:37:24\r"
     ]
    }
   ],
   "source": [
    "# Interpolate tides for each timestep into the spatial extent of the data\n",
    "tide_da = ds.groupby('time').apply(interpolate_tide, \n",
    "                                   tidepoints_gdf=tidepoints_gdf,\n",
    "                                   factor=48)\n",
    "\n",
    "# Determine tide cutoff\n",
    "tide_cutoff = tide_da.median(dim='time')\n",
    "\n",
    "# Add interpolated tides as measurement in satellite dataset\n",
    "ds['tide_m'] = tide_da"
   ]
  },
  {
   "cell_type": "code",
   "execution_count": 10,
   "metadata": {},
   "outputs": [
    {
     "data": {
      "text/plain": [
       "<matplotlib.axes._subplots.AxesSubplot at 0x7f24bc8966a0>"
      ]
     },
     "execution_count": 10,
     "metadata": {},
     "output_type": "execute_result"
    },
    {
     "data": {
      "image/png": "[encoded data removed]",
      "text/plain": [
       "<Figure size 1296x864 with 2 Axes>"
      ]
     },
     "metadata": {
      "needs_background": "light"
     },
     "output_type": "display_data"
    }
   ],
   "source": [
    "# Plot \n",
    "ds_i = ds['tide_m'].isel(time=10)\n",
    "ds_i.plot.imshow(robust=True, \n",
    "                 cmap='viridis', \n",
    "                 size=12, \n",
    "                 vmin=ds_i.min().item(), \n",
    "                 vmax=ds_i.max().item())\n",
    "tidepoints_gdf.loc[str(ds_i.time.values)[0:10]].plot(ax=plt.gca(), \n",
    "                                                     column='tide_m', \n",
    "                                                     cmap='viridis', \n",
    "                                                     markersize=100,\n",
    "                                                     edgecolor='black',\n",
    "                                                     vmin=ds_i.min().item(), \n",
    "                                                     vmax=ds_i.max().item())"
   ]
  },
  {
   "cell_type": "markdown",
   "metadata": {},
   "source": [
    "## Generate yearly composites"
   ]
  },
  {
   "cell_type": "code",
   "execution_count": 11,
   "metadata": {},
   "outputs": [
    {
     "name": "stdout",
     "output_type": "stream",
     "text": [
      "Processing 1987\r"
     ]
    },
    {
     "name": "stderr",
     "output_type": "stream",
     "text": [
      "/usr/local/lib/python3.6/dist-packages/numpy/lib/function_base.py:3405: RuntimeWarning: All-NaN slice encountered\n",
      "  r = func(a, **kwargs)\n",
      "/usr/local/lib/python3.6/dist-packages/numpy/lib/nanfunctions.py:1628: RuntimeWarning: Degrees of freedom <= 0 for slice.\n",
      "  keepdims=keepdims)\n"
     ]
    },
    {
     "name": "stdout",
     "output_type": "stream",
     "text": [
      "Processing 1990\r"
     ]
    },
    {
     "name": "stderr",
     "output_type": "stream",
     "text": [
      "/usr/local/lib/python3.6/dist-packages/numpy/lib/function_base.py:3405: RuntimeWarning: All-NaN slice encountered\n",
      "  r = func(a, **kwargs)\n",
      "/usr/local/lib/python3.6/dist-packages/numpy/lib/nanfunctions.py:1628: RuntimeWarning: Degrees of freedom <= 0 for slice.\n",
      "  keepdims=keepdims)\n"
     ]
    },
    {
     "name": "stdout",
     "output_type": "stream",
     "text": [
      "Processing 2000\r"
     ]
    },
    {
     "name": "stderr",
     "output_type": "stream",
     "text": [
      "/usr/local/lib/python3.6/dist-packages/numpy/lib/function_base.py:3405: RuntimeWarning: All-NaN slice encountered\n",
      "  r = func(a, **kwargs)\n",
      "/usr/local/lib/python3.6/dist-packages/numpy/lib/nanfunctions.py:1628: RuntimeWarning: Degrees of freedom <= 0 for slice.\n",
      "  keepdims=keepdims)\n"
     ]
    },
    {
     "name": "stdout",
     "output_type": "stream",
     "text": [
      "Processing 2006\r"
     ]
    },
    {
     "name": "stderr",
     "output_type": "stream",
     "text": [
      "/usr/local/lib/python3.6/dist-packages/numpy/lib/function_base.py:3405: RuntimeWarning: All-NaN slice encountered\n",
      "  r = func(a, **kwargs)\n",
      "/usr/local/lib/python3.6/dist-packages/numpy/lib/nanfunctions.py:1628: RuntimeWarning: Degrees of freedom <= 0 for slice.\n",
      "  keepdims=keepdims)\n"
     ]
    },
    {
     "name": "stdout",
     "output_type": "stream",
     "text": [
      "Processing 2008\r"
     ]
    },
    {
     "name": "stderr",
     "output_type": "stream",
     "text": [
      "/usr/local/lib/python3.6/dist-packages/numpy/lib/function_base.py:3405: RuntimeWarning: All-NaN slice encountered\n",
      "  r = func(a, **kwargs)\n",
      "/usr/local/lib/python3.6/dist-packages/numpy/lib/nanfunctions.py:1628: RuntimeWarning: Degrees of freedom <= 0 for slice.\n",
      "  keepdims=keepdims)\n"
     ]
    },
    {
     "name": "stdout",
     "output_type": "stream",
     "text": [
      "Processing 2019\r"
     ]
    },
    {
     "name": "stderr",
     "output_type": "stream",
     "text": [
      "/usr/local/lib/python3.6/dist-packages/numpy/lib/function_base.py:3405: RuntimeWarning: All-NaN slice encountered\n",
      "  r = func(a, **kwargs)\n",
      "/usr/local/lib/python3.6/dist-packages/numpy/lib/nanfunctions.py:1628: RuntimeWarning: Degrees of freedom <= 0 for slice.\n",
      "  keepdims=keepdims)\n"
     ]
    }
   ],
   "source": [
    "# If output folder doesn't exist, create it\n",
    "output_dir = f'output_data/{study_area}'\n",
    "os.makedirs(output_dir, exist_ok=True)\n",
    "\n",
    "# Generate yearly high tide median water indices\n",
    "yearly_ds = ds.groupby('time.year').apply(tidal_composite, \n",
    "                                          tide_cutoff=tide_cutoff, \n",
    "                                          output_dir=output_dir,\n",
    "                                          export_geotiff=True)\n"
   ]
  },
  {
   "cell_type": "code",
   "execution_count": 12,
   "metadata": {},
   "outputs": [],
   "source": [
    "# year_ds = ds.sel(time='2005')"
   ]
  },
  {
   "cell_type": "code",
   "execution_count": 13,
   "metadata": {},
   "outputs": [],
   "source": [
    "# '_get_index_and_items',\n",
    "#  '_group',\n",
    "#  '_group_dim',\n",
    "#  '_group_indices',\n",
    "#  '_groups',\n",
    "\n",
    "# dir(ds.groupby('time.year'))\n",
    "# i, year = 0, np.unique(ds.time.dt.year)[0]"
   ]
  },
  {
   "cell_type": "code",
   "execution_count": 14,
   "metadata": {},
   "outputs": [],
   "source": [
    "# previous_ds = []\n",
    "# current_ds = []\n",
    "# future_ds = []"
   ]
  },
  {
   "cell_type": "code",
   "execution_count": 15,
   "metadata": {},
   "outputs": [],
   "source": [
    "# Plot\n",
    "# yearly_ds['count'].sum(dim='year').plot(size=10, robust=True)"
   ]
  },
  {
   "cell_type": "code",
   "execution_count": 16,
   "metadata": {},
   "outputs": [],
   "source": [
    "# yearly_ds.geobox.transform"
   ]
  },
  {
   "cell_type": "markdown",
   "metadata": {},
   "source": [
    "***\n",
    "\n",
    "## Additional information"
   ]
  },
  {
   "cell_type": "markdown",
   "metadata": {},
   "source": [
    "**License:** The code in this notebook is licensed under the [Apache License, Version 2.0](https://www.apache.org/licenses/LICENSE-2.0). \n",
    "Digital Earth Australia data is licensed under the [Creative Commons by Attribution 4.0](https://creativecommons.org/licenses/by/4.0/) license.\n",
    "\n",
    "**Contact:** If you need assistance, please post a question on the [Open Data Cube Slack channel](http://slack.opendatacube.org/) or on the [GIS Stack Exchange](https://gis.stackexchange.com/questions/ask?tags=open-data-cube) using the `open-data-cube` tag (you can view previously asked questions [here](https://gis.stackexchange.com/questions/tagged/open-data-cube)).\n",
    "If you would like to report an issue with this notebook, you can file one on [Github](https://github.com/GeoscienceAustralia/dea-notebooks).\n",
    "\n",
    "**Last modified:** October 2019\n",
    "\n",
    "**Compatible datacube version:** "
   ]
  },
  {
   "cell_type": "code",
   "execution_count": 17,
   "metadata": {},
   "outputs": [
    {
     "name": "stdout",
     "output_type": "stream",
     "text": [
      "1.7+130.g81bed714.dirty\n"
     ]
    }
   ],
   "source": [
    "print(datacube.__version__)"
   ]
  }
 ],
 "metadata": {
  "kernelspec": {
   "display_name": "Python 3",
   "language": "python",
   "name": "python3"
  },
  "language_info": {
   "codemirror_mode": {
    "name": "ipython",
    "version": 3
   },
   "file_extension": ".py",
   "mimetype": "text/x-python",
   "name": "python",
   "nbconvert_exporter": "python",
   "pygments_lexer": "ipython3",
   "version": "3.6.7"
  },
  "widgets": {
   "application/vnd.jupyter.widget-state+json": {
    "state": {},
    "version_major": 2,
    "version_minor": 0
   }
  }
 },
 "nbformat": 4,
 "nbformat_minor": 4
}
