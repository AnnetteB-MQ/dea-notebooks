{
 "cells": [
  {
   "cell_type": "markdown",
   "metadata": {},
   "source": [
    "## Notebook Description\n",
    "This notebook modifies the `ndvi_3m_composite.yaml` file located in `/g/data/r78/jbw156/dea-notebooks/vegetation_anomalies_jbw/dcstats/`\n",
    "Currently, only the date range is modified using the three months prior to the current date.\n",
    "\n",
    "yaml file still needs to be properly configured for monthly runs.\n",
    "\n",
    "### To do\n",
    "3. Reconfigure yaml composite file.\n",
    "1. Rename anomaly files to **3m_comp** as only composite will be run in dcstats (Anomaly will be calculated as part of local/post-processing).\n",
    "2. Write the `ndvi_3m_comp` dcstats function."
   ]
  },
  {
   "cell_type": "code",
   "execution_count": 37,
   "metadata": {},
   "outputs": [],
   "source": [
    "import yaml\n",
    "from datetime import date,datetime,timedelta\n",
    "from dateutil.relativedelta import relativedelta"
   ]
  },
  {
   "cell_type": "code",
   "execution_count": 38,
   "metadata": {},
   "outputs": [
    {
     "data": {
      "text/plain": [
       "(datetime.date(2019, 10, 1), datetime.date(2019, 12, 31))"
      ]
     },
     "execution_count": 38,
     "metadata": {},
     "output_type": "execute_result"
    }
   ],
   "source": [
    "# Generate 3-month time frame relative to today.\n",
    "lastday=date.today().replace(day=1)-timedelta(1)\n",
    "\n",
    "firstday=lastday + relativedelta(months=-2)\n",
    "firstday=firstday.replace(day=1)  # Use last 3 months starting from firt of month\n",
    "firstday,lastday\n",
    "\n",
    "# time=(firstday.strftime('%Y-%m'),lastday.strftime('%Y-%m'))\n",
    "# time"
   ]
  },
  {
   "cell_type": "code",
   "execution_count": 49,
   "metadata": {},
   "outputs": [
    {
     "data": {
      "text/plain": [
       "{'start_date': datetime.date(1987, 12, 1),\n",
       " 'end_date': datetime.date(2011, 2, 28)}"
      ]
     },
     "execution_count": 49,
     "metadata": {},
     "output_type": "execute_result"
    }
   ],
   "source": [
    "with open(\"ndvi_3m_composite.yaml\") as f:\n",
    "    list_doc = yaml.safe_load(f)\n",
    "    \n",
    "list_doc['date_ranges']"
   ]
  },
  {
   "cell_type": "code",
   "execution_count": 51,
   "metadata": {},
   "outputs": [
    {
     "data": {
      "text/plain": [
       "{'start_date': datetime.date(2019, 10, 1),\n",
       " 'end_date': datetime.date(2019, 12, 31)}"
      ]
     },
     "execution_count": 51,
     "metadata": {},
     "output_type": "execute_result"
    }
   ],
   "source": [
    "list_doc['date_ranges']['start_date'] = firstday\n",
    "list_doc['date_ranges']['end_date'] = lastday\n",
    "list_doc['date_ranges']"
   ]
  },
  {
   "cell_type": "code",
   "execution_count": 48,
   "metadata": {},
   "outputs": [],
   "source": [
    "#write back to yaml\n",
    "with open('ndvi_3m_composite.yaml', 'w') as f:\n",
    "        yaml.dump(list_doc, f,sort_keys=False,indent=4)"
   ]
  },
  {
   "cell_type": "code",
   "execution_count": null,
   "metadata": {},
   "outputs": [],
   "source": []
  }
 ],
 "metadata": {
  "kernelspec": {
   "display_name": "Python 3",
   "language": "python",
   "name": "python3"
  },
  "language_info": {
   "codemirror_mode": {
    "name": "ipython",
    "version": 3
   },
   "file_extension": ".py",
   "mimetype": "text/x-python",
   "name": "python",
   "nbconvert_exporter": "python",
   "pygments_lexer": "ipython3",
   "version": "3.6.7"
  }
 },
 "nbformat": 4,
 "nbformat_minor": 4
}
