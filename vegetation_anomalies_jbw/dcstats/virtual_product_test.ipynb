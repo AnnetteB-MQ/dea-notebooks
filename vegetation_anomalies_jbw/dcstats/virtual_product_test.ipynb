{
 "cells": [
  {
   "cell_type": "markdown",
   "metadata": {},
   "source": [
    "## Virtual Product creation to test C3 datacube stats"
   ]
  },
  {
   "cell_type": "code",
   "execution_count": null,
   "metadata": {},
   "outputs": [],
   "source": [
    "# export PYTHONPATH=/g/data/r78/cb3058/dea-notebooks/vegetation_anomalies/dc_refactor/datacube-stats/:$PYTHONPATH"
   ]
  },
  {
   "cell_type": "code",
   "execution_count": 32,
   "metadata": {},
   "outputs": [],
   "source": [
    "from datacube.virtual import construct_from_yaml\n",
    "from datacube import Datacube\n",
    "from datacube.drivers.netcdf import create_netcdf_storage_unit, write_dataset_to_netcdf\n",
    "from dask.distributed import LocalCluster, Client\n",
    "import sys\n",
    "sys.path.append('../../Scripts')\n",
    "from dea_datahandling import load_ard\n",
    "import numpy as np\n",
    "import xarray as xr"
   ]
  },
  {
   "cell_type": "code",
   "execution_count": null,
   "metadata": {},
   "outputs": [],
   "source": [
    "client = locals().get('client', None)\n",
    "if client is not None:\n",
    "    client.close()\n",
    "    del client\n",
    "    \n",
    "# client = Client(n_workers=6, threads_per_worker=1, memory_limit='4GB')\n",
    "# client"
   ]
  },
  {
   "cell_type": "code",
   "execution_count": 2,
   "metadata": {},
   "outputs": [],
   "source": [
    "dc = Datacube(env='c3-samples')"
   ]
  },
  {
   "cell_type": "code",
   "execution_count": 4,
   "metadata": {},
   "outputs": [],
   "source": [
    "# dc.list_products()"
   ]
  },
  {
   "cell_type": "code",
   "execution_count": 20,
   "metadata": {},
   "outputs": [],
   "source": [
    "lat, lon = -33.2, 149.1\n",
    "buffer = 0.05\n",
    "\n",
    "time = ('1987', '1999')\n",
    "\n",
    "query = {'lon': (lon - buffer, lon + buffer),\n",
    "         'lat': (lat - buffer, lat + buffer),\n",
    "         'time': time,\n",
    "         'measurements':['nbart_red', 'nbart_nir', 'fmask', 'oa_nbart_contiguity'],\n",
    "         'output_crs' :'EPSG:3577',\n",
    "         'resolution' : (-30, 30),\n",
    "          'group_by' :'solar_day',\n",
    "        'dask_chunks': {'x': 250, 'y':250}}\n",
    "    "
   ]
  },
  {
   "cell_type": "code",
   "execution_count": 21,
   "metadata": {},
   "outputs": [],
   "source": [
    "ds = dc.load(product= 'ga_ls5t_ard_3', **query)"
   ]
  },
  {
   "cell_type": "code",
   "execution_count": 76,
   "metadata": {},
   "outputs": [],
   "source": [
    "\n",
    "    \n",
    "quarter= {'JFM': [1,2,3],\n",
    "                       'FMA': [2,3,4],\n",
    "                       'MAM': [3,4,5],\n",
    "                       'AMJ': [4,5,6],\n",
    "                       'MJJ': [5,6,7],\n",
    "                       'JJA': [6,7,8],\n",
    "                       'JAS': [7,8,9],\n",
    "                       'ASO': [8,9,10],\n",
    "                       'SON': [9,10,11],\n",
    "                       'OND': [10,11,12],\n",
    "                       'NDJ': [11,12,1],\n",
    "                       'DJF': [12,1,2],\n",
    "                      }\n",
    "\n",
    "def compute(data):\n",
    "\n",
    "    def attrs_reassign(da, dtype=np.float32):\n",
    "        da_attr = data.attrs\n",
    "        da = da.assign_attrs(**da_attr)\n",
    "        return da\n",
    "\n",
    "    ndvi = xr.Dataset(data_vars={'ndvi': (data.nbart_nir - data.nbart_red) / (data.nbart_nir + data.nbart_red)},\n",
    "                          coords=data.coords,\n",
    "                          attrs=dict(crs=data.crs))\n",
    "    \n",
    "    ndvi_var = []\n",
    "    for q in quarter:\n",
    "        ix=ndvi['time.month'].isin(quarter[q])\n",
    "        ndvi_clim_mean=ndvi.where(ix,drop = True).mean(dim='time')   \n",
    "        ndvi_clim_mean=ndvi_clim_mean.to_array(name='ndvi_clim_mean_'+q).drop('variable').squeeze()\n",
    "        ndvi_var.append(ndvi_clim_mean)\n",
    "\n",
    "    q_clim_mean = xr.merge(ndvi_var)   \n",
    "\n",
    "    #assign back attributes\n",
    "    q_clim_mean.attrs = data.attrs \n",
    "    q_clim_mean = q_clim_mean.apply(attrs_reassign, keep_attrs=True)  \n",
    "\n",
    "    return q_clim_mean"
   ]
  },
  {
   "cell_type": "code",
   "execution_count": 77,
   "metadata": {},
   "outputs": [
    {
     "data": {
      "text/html": [
       "<pre>&lt;xarray.Dataset&gt;\n",
       "Dimensions:            (x: 356, y: 411)\n",
       "Coordinates:\n",
       "  * y                  (y) float64 -3.721e+06 -3.721e+06 ... -3.733e+06\n",
       "  * x                  (x) float64 1.573e+06 1.574e+06 ... 1.584e+06 1.584e+06\n",
       "Data variables:\n",
       "    ndvi_clim_meanJFM  (y, x) float64 dask.array&lt;chunksize=(250, 250), meta=np.ndarray&gt;\n",
       "    ndvi_clim_meanFMA  (y, x) float64 dask.array&lt;chunksize=(250, 250), meta=np.ndarray&gt;\n",
       "    ndvi_clim_meanMAM  (y, x) float64 dask.array&lt;chunksize=(250, 250), meta=np.ndarray&gt;\n",
       "    ndvi_clim_meanAMJ  (y, x) float64 dask.array&lt;chunksize=(250, 250), meta=np.ndarray&gt;\n",
       "    ndvi_clim_meanMJJ  (y, x) float64 dask.array&lt;chunksize=(250, 250), meta=np.ndarray&gt;\n",
       "    ndvi_clim_meanJJA  (y, x) float64 dask.array&lt;chunksize=(250, 250), meta=np.ndarray&gt;\n",
       "    ndvi_clim_meanJAS  (y, x) float64 dask.array&lt;chunksize=(250, 250), meta=np.ndarray&gt;\n",
       "    ndvi_clim_meanASO  (y, x) float64 dask.array&lt;chunksize=(250, 250), meta=np.ndarray&gt;\n",
       "    ndvi_clim_meanSON  (y, x) float64 dask.array&lt;chunksize=(250, 250), meta=np.ndarray&gt;\n",
       "    ndvi_clim_meanOND  (y, x) float64 dask.array&lt;chunksize=(250, 250), meta=np.ndarray&gt;\n",
       "    ndvi_clim_meanNDJ  (y, x) float64 dask.array&lt;chunksize=(250, 250), meta=np.ndarray&gt;\n",
       "    ndvi_clim_meanDJF  (y, x) float64 dask.array&lt;chunksize=(250, 250), meta=np.ndarray&gt;\n",
       "Attributes:\n",
       "    crs:      EPSG:3577</pre>"
      ],
      "text/plain": [
       "<xarray.Dataset>\n",
       "Dimensions:            (x: 356, y: 411)\n",
       "Coordinates:\n",
       "  * y                  (y) float64 -3.721e+06 -3.721e+06 ... -3.733e+06\n",
       "  * x                  (x) float64 1.573e+06 1.574e+06 ... 1.584e+06 1.584e+06\n",
       "Data variables:\n",
       "    ndvi_clim_meanJFM  (y, x) float64 dask.array<chunksize=(250, 250), meta=np.ndarray>\n",
       "    ndvi_clim_meanFMA  (y, x) float64 dask.array<chunksize=(250, 250), meta=np.ndarray>\n",
       "    ndvi_clim_meanMAM  (y, x) float64 dask.array<chunksize=(250, 250), meta=np.ndarray>\n",
       "    ndvi_clim_meanAMJ  (y, x) float64 dask.array<chunksize=(250, 250), meta=np.ndarray>\n",
       "    ndvi_clim_meanMJJ  (y, x) float64 dask.array<chunksize=(250, 250), meta=np.ndarray>\n",
       "    ndvi_clim_meanJJA  (y, x) float64 dask.array<chunksize=(250, 250), meta=np.ndarray>\n",
       "    ndvi_clim_meanJAS  (y, x) float64 dask.array<chunksize=(250, 250), meta=np.ndarray>\n",
       "    ndvi_clim_meanASO  (y, x) float64 dask.array<chunksize=(250, 250), meta=np.ndarray>\n",
       "    ndvi_clim_meanSON  (y, x) float64 dask.array<chunksize=(250, 250), meta=np.ndarray>\n",
       "    ndvi_clim_meanOND  (y, x) float64 dask.array<chunksize=(250, 250), meta=np.ndarray>\n",
       "    ndvi_clim_meanNDJ  (y, x) float64 dask.array<chunksize=(250, 250), meta=np.ndarray>\n",
       "    ndvi_clim_meanDJF  (y, x) float64 dask.array<chunksize=(250, 250), meta=np.ndarray>\n",
       "Attributes:\n",
       "    crs:      EPSG:3577"
      ]
     },
     "execution_count": 77,
     "metadata": {},
     "output_type": "execute_result"
    }
   ],
   "source": [
    "compute(ds)"
   ]
  },
  {
   "cell_type": "code",
   "execution_count": null,
   "metadata": {},
   "outputs": [],
   "source": [
    "ndvi_clim_mean = construct_from_yaml(\"\"\"\n",
    "        aggregate: datacube_stats.external.ndvi_clim_mean\n",
    "        input:\n",
    "          reproject:\n",
    "            output_crs: EPSG:3577\n",
    "            resolution: [-30, 30]\n",
    "            resampling: average\n",
    "          input:\n",
    "            collate:\n",
    "              - transform: apply_mask\n",
    "                mask_measurement_name: fmask\n",
    "                dilation: 3\n",
    "                input:\n",
    "                  transform: expressions\n",
    "                  output: \n",
    "                    fmask:\n",
    "                        formula: (fmask != 2) & (fmask != 3) & (fmask != 0) & (oa_nbart_contiguity == 1)\n",
    "                        nodata: False\n",
    "                    nbart_red: nbart_red\n",
    "                    nbart_nir: nbart_nir\n",
    "                  input:\n",
    "                    product: ga_ls8c_ard_3\n",
    "                    measurements: [nbart_red, nbart_nir, fmask, oa_nbart_contiguity]\n",
    "                    gqa_iterative_mean_xy: [0, 1]\n",
    "                    dataset_predicate: datacube_stats.main.ls8_on\n",
    "              - transform: apply_mask\n",
    "                mask_measurement_name: fmask\n",
    "                dilation: 3\n",
    "                input:\n",
    "                  transform: expressions\n",
    "                  output: \n",
    "                    fmask:\n",
    "                        formula: (fmask != 2) & (fmask != 3) & (fmask != 0) & (oa_nbart_contiguity == 1)\n",
    "                        nodata: False\n",
    "                    nbart_red: nbart_red\n",
    "                    nbart_nir: nbart_nir\n",
    "                  input:\n",
    "                    product: ga_ls7c_ard_3\n",
    "                    measurements: [nbart_red, nbart_nir, fmask, oa_nbart_contiguity]\n",
    "                    gqa_iterative_mean_xy: [0, 1]\n",
    "                    dataset_predicate: datacube_stats.main.ls7_on\n",
    "              - transform: apply_mask\n",
    "                mask_measurement_name: fmask\n",
    "                dilation: 3\n",
    "                input:\n",
    "                  transform: expressions\n",
    "                  output: \n",
    "                    fmask:\n",
    "                        formula: (fmask != 2) & (fmask != 3) & (fmask != 0) & (oa_nbart_contiguity == 1)\n",
    "                        nodata: False\n",
    "                    nbart_red: nbart_red\n",
    "                    nbart_nir: nbart_nir\n",
    "                  input:\n",
    "                    product: ga_ls5c_ard_3\n",
    "                    measurements: [nbart_red, nbart_nir,fmask, oa_nbart_contiguity]\n",
    "                    gqa_iterative_mean_xy: [0, 1]\n",
    "                    dataset_predicate: datacube_stats.main.ls5_on\n",
    "    \"\"\")"
   ]
  },
  {
   "cell_type": "code",
   "execution_count": null,
   "metadata": {},
   "outputs": [],
   "source": [
    "datasets = ndvi_clim_mean.query(dc, **query)\n",
    "grouped = ndvi_clim_mean.group(datasets, **query)\n",
    "results = ndvi_clim_mean.fetch(grouped, **query, dask_chunks={'time':-1, 'x':250, 'y':250})\n",
    "results.load()\n"
   ]
  },
  {
   "cell_type": "code",
   "execution_count": null,
   "metadata": {},
   "outputs": [],
   "source": []
  },
  {
   "cell_type": "code",
   "execution_count": null,
   "metadata": {},
   "outputs": [],
   "source": []
  },
  {
   "cell_type": "code",
   "execution_count": null,
   "metadata": {},
   "outputs": [],
   "source": []
  },
  {
   "cell_type": "code",
   "execution_count": null,
   "metadata": {},
   "outputs": [],
   "source": []
  }
 ],
 "metadata": {
  "kernelspec": {
   "display_name": "Python 3",
   "language": "python",
   "name": "python3"
  },
  "language_info": {
   "codemirror_mode": {
    "name": "ipython",
    "version": 3
   },
   "file_extension": ".py",
   "mimetype": "text/x-python",
   "name": "python",
   "nbconvert_exporter": "python",
   "pygments_lexer": "ipython3",
   "version": "3.6.7"
  }
 },
 "nbformat": 4,
 "nbformat_minor": 4
}
