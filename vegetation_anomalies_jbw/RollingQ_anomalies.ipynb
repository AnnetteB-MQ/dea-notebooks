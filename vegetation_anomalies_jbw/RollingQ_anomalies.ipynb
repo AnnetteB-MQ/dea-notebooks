{
 "cells": [
  {
   "cell_type": "markdown",
   "metadata": {},
   "source": [
    "# Rolling Quarterly NDVI Anomalies\n",
    "\n",
    "JBW version\n",
    "\n",
    "Notebook is only compatible on the `NCI` as it uses Landsat Collection 2"
   ]
  },
  {
   "cell_type": "markdown",
   "metadata": {},
   "source": [
    "## Background\n",
    "\n",
    "Understanding how the vegetated landscape responds to longer-term environmental drivers such as the El Nino Southern Oscillation (ENSO) or climate change, requires the calculation of seasonal anomalies. Seasonal anomalies subtract the long-term seasonal mean from a time-series, thus removing seasonal variability and highlighting change related to longer-term drivers. "
   ]
  },
  {
   "cell_type": "markdown",
   "metadata": {},
   "source": [
    "## Description\n",
    "\n",
    "This notebook will calculate the previous 3 month standardized anomaly relative to the current date.  The long-term seasonal climatologies for the vegetation index `NDVI` have been pre-calculated and are stored on disk. Given an AOI (NSW or subset), the script will calculate the previous 3-month mean NDVI and subtract the mean from the long-term climatology, resulting in a map of vegetation anomalies for your AOI.  Optionally, the script will output a geotiff of the result. \n",
    "\n",
    "**IMPORTANT NOTES:** \n",
    "\n",
    "* It is a convention to establish climatologies based on a 30-year time range to account for inter-annual and inter-decadal modes of climate variability (often 1980-2010). As the landsat archive only goes back to 1987, the climatologies here have been calculated using the date-range `1992 - 2008` (inclusive).  This is in line with BoM's AVHRR climatology but could be extended.  \n",
    "* Currently, the pre-computed climatologies are only `NDVI mean` and `NDVI Standard Deviation` \n",
    "* The pre-computed climatologies do not include LS7 after the SLC failure (2003).\n",
    "\n",
    "-------------------------------------\n",
    "\n",
    "* `.yaml` files for running datacube stats to calculate vegetation climatologies are located here: ~~`'/g/data/r78/cb3058/dea-notebooks/vegetation_anomlies/dcstats'`. There is a different .yaml file for each season, and a corresponding custom datacube-statistics python file for each season; these are located here: `'/g/data/r78/datacube_stats/custom_stats'` ~~\n",
    "* The pre-computed climatologies are stored here: `/g/data/r78/jbw156/dea-notebooks/vegetation_anomalies_jbw/results`.  The script below will use this string location to grab the data, so shifting the climatology mosaics to another location will require editing the ~~`anomalies.py` script in the `src` folder. ~~~~\n",
    "* 'results/NSW_ndvi_clim_std_'+season+ '.nc' e.g. season ='MAM'\n",
    "~~* So far, climatolgies have been produced for the `Northern Murray-Darling Basin` for the `SON` and `JJA` seasons; the `DJF` season has a mosaic that is 2/3 complete (59 out of 90 albers tiles). The `NW Queensland` region has mosaicked climatologies for `JJA` and `DJF`, but these are also only 2/3 complete (60 out of 90 albers tiles processed). ~~"
   ]
  },
  {
   "cell_type": "markdown",
   "metadata": {},
   "source": [
    "## Technical details\n",
    "\n",
    "* **Products used:** ls5_nbart_albers, ls7_nbart_albers, ls8_nbart_albers\n",
    "* **Analyses used:** NDVI, seasonal anomalies"
   ]
  },
  {
   "cell_type": "markdown",
   "metadata": {},
   "source": [
    "## Getting Started\n",
    "\n",
    "To run this analysis, go to the `Analysis Parameters` section and enter the relevant details, then run all the cells in the notebook. If running the analysis multiple times, only run the `Set up dask cluster` and `import libraries` cells once."
   ]
  },
  {
   "cell_type": "markdown",
   "metadata": {},
   "source": [
    "## Import libraries"
   ]
  },
  {
   "cell_type": "code",
   "execution_count": 15,
   "metadata": {},
   "outputs": [
    {
     "name": "stdout",
     "output_type": "stream",
     "text": [
      "The autoreload extension is already loaded. To reload it, use:\n",
      "  %reload_ext autoreload\n"
     ]
    }
   ],
   "source": [
    "import xarray as xr\n",
    "from datacube.helpers import write_geotiff\n",
    "import datacube\n",
    "import matplotlib.pyplot as plt\n",
    "from dask.distributed import Client\n",
    "from datetime import date,datetime,timedelta\n",
    "from dateutil.relativedelta import relativedelta\n",
    "import datetime as dt\n",
    "import geopandas as gpd\n",
    "import sys\n",
    "import os\n",
    "sys.path.append('src')\n",
    "from anomalies import calculate_anomalies, load_landsat, display_map, map_shapefile\n",
    "%load_ext autoreload\n",
    "%autoreload 2"
   ]
  },
  {
   "cell_type": "markdown",
   "metadata": {},
   "source": [
    "# To Do\n",
    "1. Generate NSW-wide climatologies (mean and std) using algorithm in rollingQ_ndvi_climatologies Notebook\n",
    "    1. Needs to be adapted for running on Gadi (dcstats and .yaml?)\n",
    "2. Mosaic tiles into geotiffs.  (24 in total)"
   ]
  },
  {
   "cell_type": "markdown",
   "metadata": {},
   "source": [
    "### Set up local dask cluster\n",
    "\n",
    "Dask will create a local cluster of cpus for running this analysis in parallel. If you'd like to see what the dask cluster is doing, click on the hyperlink that prints after you run the cell and you can watch the cluster run."
   ]
  },
  {
   "cell_type": "code",
   "execution_count": null,
   "metadata": {},
   "outputs": [],
   "source": [
    "#delete old client if one still exists\n",
    "client = locals().get('client', None)\n",
    "if client is not None:\n",
    "    client.close()\n",
    "    del client\n",
    "    \n",
    "client = Client(n_workers=3, threads_per_worker=1, memory_limit='9GB')\n",
    "client"
   ]
  },
  {
   "cell_type": "markdown",
   "metadata": {},
   "source": [
    "## Analysis Parameters\n",
    "\n",
    "The following cell sets the parameters, which define the area of interest and the season to conduct the analysis over. The parameters are:\n",
    "\n",
    "* `veg_index`: 'ndvi'\n",
    "* `from_shape`: If providing a shapefile to the define the area of interest, set this parameter to `True`, otherwise set to `False`.\n",
    "* `shp_fpath`: If you set `from_shape` to True, provide a filepath to the shapefile.\n",
    "* `lat`, `lon`: If not using a shapefile to define the AOI, then use a latitide and longitude point. This point will be the centre point of your AOI.  *fixme-JBW- convert to bounding box (min lat, max lat) etc*\n",
    "* `buffer`: The length, in decimal degrees, either side of the `lat` and `lon` point that will define the AOI box. Keep this below `0.5` to avoid long load times\n",
    "* `time`:  time will be automatically generated as the three months prior to the current date.  (e.g., If currently Jan, time range will be Oct-Nov-Dec)\n",
    "* `season`: season will be a three letter seasonal quarter (e.g., 'MAM, 'ASO') automatically generated from the first month of the `time` variable"
   ]
  },
  {
   "cell_type": "code",
   "execution_count": 22,
   "metadata": {},
   "outputs": [],
   "source": [
    "#input parameters\n",
    "veg_index='ndvi'\n",
    "from_shape = False\n",
    "shp_fpath = \"data/nmdb_individual_catchments/CONDAMINE-CULGOA RIVERS.shp\"\n",
    "lat, lon = -33.2, 149.1\n",
    "buffer = 0.15\n",
    "\n",
    "#orange bounding box\n",
    "# latitude_range = (-37.53, -28.15)\n",
    "# longitude_range = (140.99, 153.66)\n",
    "#nsw bounding box\n",
    "# latitude_range = (-37.53, -28.15)\n",
    "# longitude_range = (140.99, 153.66)\n",
    "\n",
    "#dask chunk size, shouldn't need to change\n",
    "chunk_size = 750"
   ]
  },
  {
   "cell_type": "code",
   "execution_count": 7,
   "metadata": {},
   "outputs": [],
   "source": [
    "# Generate 3-month time frame relative to today.\n",
    "lastday=date.today().replace(day=1)-timedelta(1)\n",
    "\n",
    "firstday=lastday + relativedelta(months=-2)\n",
    "firstday=firstday.replace(day=1)  # Use last 3 months starting from firt of month\n",
    "firstday,lastday\n",
    "\n",
    "time=(firstday.strftime('%Y-%m'),lastday.strftime('%Y-%m'))\n",
    "time"
   ]
  },
  {
   "cell_type": "code",
   "execution_count": 20,
   "metadata": {},
   "outputs": [
    {
     "data": {
      "text/plain": [
       "(2019, 'OND')"
      ]
     },
     "execution_count": 20,
     "metadata": {},
     "output_type": "execute_result"
    }
   ],
   "source": [
    "#  use for reading in relevant climatology files\n",
    "firstmonth=firstday.month\n",
    "\n",
    "quarter_dict= {1:'JFM',\n",
    "               2:'FMA',\n",
    "               3:'MAM',\n",
    "               4:'AMJ',\n",
    "               5:'MJJ',\n",
    "               6:'JJA',\n",
    "               7:'JAS',\n",
    "               8:'ASO',\n",
    "               9:'SON',\n",
    "               10:'OND',\n",
    "               11:'NDJ',\n",
    "               12:'DJF',\n",
    "              }\n",
    "season=quarter_dict[firstmonth]\n",
    "year=firstmonth.year\n",
    "year,season # for writing file"
   ]
  },
  {
   "cell_type": "markdown",
   "metadata": {},
   "source": [
    "### Examine your area of interest"
   ]
  },
  {
   "cell_type": "code",
   "execution_count": null,
   "metadata": {},
   "outputs": [],
   "source": [
    "# If you're using a shapefile, run this cell\n",
    "map_shapefile(gpd.read_file(shp_fpath))"
   ]
  },
  {
   "cell_type": "code",
   "execution_count": 10,
   "metadata": {
    "collapsed": true
   },
   "outputs": [
    {
     "data": {
      "text/html": [
       "<div style=\"width:100%;\"><div style=\"position:relative;width:100%;height:0;padding-bottom:60%;\"><iframe src=\"data:text/html;charset=utf-8;base64,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\" style=\"position:absolute;width:100%;height:100%;left:0;top:0;border:none !important;\" allowfullscreen webkitallowfullscreen mozallowfullscreen></iframe></div></div>"
      ],
      "text/plain": [
       "<folium.folium.Map at 0x7fe077630400>"
      ]
     },
     "execution_count": 10,
     "metadata": {},
     "output_type": "execute_result"
    }
   ],
   "source": [
    "# If your specifying a lat, lon and buffer, run this cell\n",
    "display_map(y=(lat-buffer, lat + buffer), x=(lon-buffer, lon + buffer))"
   ]
  },
  {
   "cell_type": "code",
   "execution_count": 17,
   "metadata": {
    "collapsed": true
   },
   "outputs": [
    {
     "name": "stdout",
     "output_type": "stream",
     "text": [
      "Loading ls8\n"
     ]
    },
    {
     "data": {
      "text/html": [
       "<pre>&lt;xarray.Dataset&gt;\n",
       "Dimensions:  (time: 9, x: 1281, y: 1477)\n",
       "Coordinates:\n",
       "  * time     (time) datetime64[ns] 2019-10-03T23:56:26 ... 2019-12-06T23:56:23\n",
       "  * y        (y) float64 -3.709e+06 -3.709e+06 ... -3.746e+06 -3.746e+06\n",
       "  * x        (x) float64 1.563e+06 1.563e+06 1.563e+06 ... 1.595e+06 1.595e+06\n",
       "Data variables:\n",
       "    nir      (time, y, x) float32 dask.array&lt;chunksize=(1, 750, 750), meta=np.ndarray&gt;\n",
       "    red      (time, y, x) float32 dask.array&lt;chunksize=(1, 750, 750), meta=np.ndarray&gt;\n",
       "Attributes:\n",
       "    crs:      EPSG:3577</pre>"
      ],
      "text/plain": [
       "<xarray.Dataset>\n",
       "Dimensions:  (time: 9, x: 1281, y: 1477)\n",
       "Coordinates:\n",
       "  * time     (time) datetime64[ns] 2019-10-03T23:56:26 ... 2019-12-06T23:56:23\n",
       "  * y        (y) float64 -3.709e+06 -3.709e+06 ... -3.746e+06 -3.746e+06\n",
       "  * x        (x) float64 1.563e+06 1.563e+06 1.563e+06 ... 1.595e+06 1.595e+06\n",
       "Data variables:\n",
       "    nir      (time, y, x) float32 dask.array<chunksize=(1, 750, 750), meta=np.ndarray>\n",
       "    red      (time, y, x) float32 dask.array<chunksize=(1, 750, 750), meta=np.ndarray>\n",
       "Attributes:\n",
       "    crs:      EPSG:3577"
      ]
     },
     "execution_count": 17,
     "metadata": {},
     "output_type": "execute_result"
    }
   ],
   "source": [
    "# this cell for test purposes only, load will be done within anomalies function\n",
    "\n",
    "# dc = datacube.Datacube(app='ndvi-anomaly')\n",
    "\n",
    "# query = {'lon': (lon - buffer, lon + buffer),\n",
    "#                  'lat': (lat - buffer, lat + buffer),\n",
    "#                  'time': time}\n",
    "\n",
    "# ds = load_landsat(dc=dc, query=query, sensors=['ls8'], \n",
    "#                   bands_of_interest=['nir', 'red'], lazy_load=True,\n",
    "#                   dask_chunks = {'x': chunk_size, 'y': chunk_size})\n",
    "# ds"
   ]
  },
  {
   "cell_type": "markdown",
   "metadata": {},
   "source": [
    "## Calculate the anomaly for the AOI\n",
    "\n",
    "For large queries (e.g > 4000 x 4000 pixels), the code will take several minutes to run.  Queries much larger than ~15,000 x 15,000 pixels will start to fail due to memory limitations (that said, a 19,000 x 15,000 pixel catchment has been successfully run on the VDI). Check the x,y dimensions in the lazily loaded output to get idea of how big your result will be before you run  the `.compute()` cell."
   ]
  },
  {
   "cell_type": "code",
   "execution_count": null,
   "metadata": {},
   "outputs": [],
   "source": [
    "#Lazily run calculations, this will check for errors before\n",
    "# we actually compute the results\n",
    "std_anomalies = calculate_anomalies(veg_index=veg_index, #ndvi\n",
    "                                from_shape=from_shape, #not using (but leave in for future?)\n",
    "                                shp_fpath=shp_fpath, #not using\n",
    "                                lat=lat, #AOI NSW - use bounding box in future\n",
    "                                lon=lon, #AOI NSW - use bounding box in future\n",
    "                                buffer=buffer, # use bounding box in future\n",
    "                                time=time, # time of extraction (last 3 months)\n",
    "                                season=season, # clim season based on extraction (move into func?)\n",
    "                                chunk_size=chunk_size)\n",
    "\n",
    "print(std_anomalies)"
   ]
  },
  {
   "cell_type": "code",
   "execution_count": null,
   "metadata": {},
   "outputs": [],
   "source": [
    "#this cell will actually compute the above calculations\n",
    "std_anomalies = std_anomalies.compute()"
   ]
  },
  {
   "cell_type": "markdown",
   "metadata": {},
   "source": [
    "## Export geotiff"
   ]
  },
  {
   "cell_type": "code",
   "execution_count": 36,
   "metadata": {},
   "outputs": [
    {
     "name": "stdout",
     "output_type": "stream",
     "text": [
      "NSW_2019_OND_ndvi_anomalies.tif\n"
     ]
    }
   ],
   "source": [
    "# Write geotiff to a location\n",
    "year=str(firstday.year)\n",
    "print('NSW_'+year+'_'+season+'_'+veg_index+ '_anomalies.tif')\n",
    "# write_geotiff(veg_index+\"_\"+year+\"_\"+season+ '_anomalies.tif', anomalies)"
   ]
  },
  {
   "cell_type": "markdown",
   "metadata": {},
   "source": [
    "## Plot the result\n",
    "\n",
    "If your AOI is very large, plotting the result can crash the notebook. In this case, its better to export the geotiff and view it in QGIS or ArcGIS"
   ]
  },
  {
   "cell_type": "code",
   "execution_count": null,
   "metadata": {},
   "outputs": [],
   "source": [
    "if veg_index == 'msavi':\n",
    "    std_anomalies.msavi_anomalies.plot(figsize=(15,15), vmin=-0.25, vmax=0.25, cmap='BrBG')\n",
    "if veg_index == 'ndvi':\n",
    "    std_anomalies.ndvi_anomalies.plot(figsize=(15,15), vmin=-0.25, vmax=0.25, cmap='BrBG')\n",
    "\n",
    "plt.title(season+ \", \" +year)\n",
    "plt.show()"
   ]
  },
  {
   "cell_type": "code",
   "execution_count": null,
   "metadata": {},
   "outputs": [],
   "source": []
  }
 ],
 "metadata": {
  "kernelspec": {
   "display_name": "Python 3",
   "language": "python",
   "name": "python3"
  },
  "language_info": {
   "codemirror_mode": {
    "name": "ipython",
    "version": 3
   },
   "file_extension": ".py",
   "mimetype": "text/x-python",
   "name": "python",
   "nbconvert_exporter": "python",
   "pygments_lexer": "ipython3",
   "version": "3.6.7"
  }
 },
 "nbformat": 4,
 "nbformat_minor": 4
}
