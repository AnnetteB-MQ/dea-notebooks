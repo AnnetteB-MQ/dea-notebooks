{
 "cells": [
  {
   "cell_type": "code",
   "execution_count": null,
   "metadata": {},
   "outputs": [],
   "source": [
    "## remove output before conversion to .py"
   ]
  },
  {
   "cell_type": "code",
   "execution_count": 1,
   "metadata": {},
   "outputs": [],
   "source": [
    "import xarray as xr\n",
    "from datacube.helpers import write_geotiff\n",
    "import datacube\n",
    "from datetime import date,datetime,timedelta\n",
    "from dateutil.relativedelta import relativedelta\n",
    "from dask.distributed import Client\n",
    "import matplotlib.pyplot as plt\n",
    "%matplotlib widget\n",
    "import sys\n",
    "import os\n",
    "sys.path.append('src')\n",
    "from anomalies import load_landsat, display_map, map_shapefile"
   ]
  },
  {
   "cell_type": "code",
   "execution_count": 2,
   "metadata": {},
   "outputs": [
    {
     "data": {
      "text/html": [
       "<table style=\"border: 2px solid white;\">\n",
       "<tr>\n",
       "<td style=\"vertical-align: top; border: 0px solid white\">\n",
       "<h3 style=\"text-align: left;\">Client</h3>\n",
       "<ul style=\"text-align: left; list-style: none; margin: 0; padding: 0;\">\n",
       "  <li><b>Scheduler: </b>tcp://127.0.0.1:42359</li>\n",
       "  <li><b>Dashboard: </b><a href='http://127.0.0.1:8787/status' target='_blank'>http://127.0.0.1:8787/status</a>\n",
       "</ul>\n",
       "</td>\n",
       "<td style=\"vertical-align: top; border: 0px solid white\">\n",
       "<h3 style=\"text-align: left;\">Cluster</h3>\n",
       "<ul style=\"text-align: left; list-style:none; margin: 0; padding: 0;\">\n",
       "  <li><b>Workers: </b>3</li>\n",
       "  <li><b>Cores: </b>3</li>\n",
       "  <li><b>Memory: </b>27.00 GB</li>\n",
       "</ul>\n",
       "</td>\n",
       "</tr>\n",
       "</table>"
      ],
      "text/plain": [
       "<Client: 'tcp://127.0.0.1:42359' processes=3 threads=3, memory=27.00 GB>"
      ]
     },
     "execution_count": 2,
     "metadata": {},
     "output_type": "execute_result"
    }
   ],
   "source": [
    "#delete old client if one still exists\n",
    "client = locals().get('client', None)\n",
    "if client is not None:\n",
    "    client.close()\n",
    "    del client\n",
    "    \n",
    "client = Client(n_workers=3, threads_per_worker=1, memory_limit='9GB')\n",
    "client"
   ]
  },
  {
   "cell_type": "code",
   "execution_count": 15,
   "metadata": {},
   "outputs": [],
   "source": [
    "#input parameters\n",
    "veg_index='ndvi'\n",
    "from_shape = False\n",
    "shp_fpath = \"_\"\n",
    "chunk_size = 750\n",
    "latitude_range = ( -33.5, -33)\n",
    "longitude_range = (146.5, 150)\n",
    "#nsw bounding box\n",
    "# latitude_range = (-37.53, -28.15)\n",
    "# longitude_range = (140.99, 153.66)\n"
   ]
  },
  {
   "cell_type": "code",
   "execution_count": 16,
   "metadata": {},
   "outputs": [
    {
     "data": {
      "text/html": [
       "<div style=\"width:100%;\"><div style=\"position:relative;width:100%;height:0;padding-bottom:60%;\"><iframe src=\"data:text/html;charset=utf-8;base64,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\" style=\"position:absolute;width:100%;height:100%;left:0;top:0;border:none !important;\" allowfullscreen webkitallowfullscreen mozallowfullscreen></iframe></div></div>"
      ],
      "text/plain": [
       "<folium.folium.Map at 0x7f8a8b55ea58>"
      ]
     },
     "execution_count": 16,
     "metadata": {},
     "output_type": "execute_result"
    }
   ],
   "source": [
    "# If your specifying a lat, lon and buffer, run this cell\n",
    "display_map(y=(latitude_range), x=(longitude_range))"
   ]
  },
  {
   "cell_type": "code",
   "execution_count": 17,
   "metadata": {},
   "outputs": [
    {
     "data": {
      "text/plain": [
       "('2019-10', '2019-12')"
      ]
     },
     "execution_count": 17,
     "metadata": {},
     "output_type": "execute_result"
    }
   ],
   "source": [
    "# Generate 3-month time frame relative to today.\n",
    "lastday=date.today().replace(day=1)-timedelta(1)\n",
    "\n",
    "firstday=lastday + relativedelta(months=-2)\n",
    "firstday=firstday.replace(day=1)  # Use last 3 months starting from firt of month\n",
    "firstday,lastday\n",
    "\n",
    "time=(firstday.strftime('%Y-%m'),lastday.strftime('%Y-%m'))\n",
    "time"
   ]
  },
  {
   "cell_type": "code",
   "execution_count": 18,
   "metadata": {},
   "outputs": [
    {
     "data": {
      "text/plain": [
       "('2019', 'OND')"
      ]
     },
     "execution_count": 18,
     "metadata": {},
     "output_type": "execute_result"
    }
   ],
   "source": [
    "#  use for reading in relevant climatology files\n",
    "firstmonth=firstday.month\n",
    "\n",
    "quarter_dict= {1:'JFM',\n",
    "               2:'FMA',\n",
    "               3:'MAM',\n",
    "               4:'AMJ',\n",
    "               5:'MJJ',\n",
    "               6:'JJA',\n",
    "               7:'JAS',\n",
    "               8:'ASO',\n",
    "               9:'SON',\n",
    "               10:'OND',\n",
    "               11:'NDJ',\n",
    "               12:'DJF',\n",
    "              }\n",
    "season=quarter_dict[firstmonth]\n",
    "year=str(firstday.year)\n",
    "year,season # for writing file"
   ]
  },
  {
   "cell_type": "code",
   "execution_count": 19,
   "metadata": {},
   "outputs": [],
   "source": [
    "def calculate_anomalies(veg_index, from_shape, shp_fpath,\n",
    "                        time, season, latitude_range, longitude_range,chunk_size):\n",
    "    \n",
    "    #error messaging for important inputs\n",
    "    if veg_index not in ('msavi', 'ndvi'):\n",
    "        raise ValueError(\"Veg_index must be either 'msavi' or 'ndvi'\")\n",
    "    \n",
    "\n",
    "    if from_shape:\n",
    "        if len(fiona.open(shp_fpath)) > 1:\n",
    "            warnings.warn(\"This script can only accept shapefiles with a single polygon feature; \"\n",
    "                          \"seasonal anomalies will be calculated for the extent of the \"\n",
    "                          \"first geometry in the shapefile only.\")\n",
    "        \n",
    "    #connect to datacube\n",
    "    dc = datacube.Datacube(app='load_clearlandsat')\n",
    "    \n",
    "    #get data from shapefile extent and mask\n",
    "    if from_shape:\n",
    "        print(\"extracting data based on shapefile extent\")\n",
    "        \n",
    "        with fiona.open(shp_fpath) as input:\n",
    "            crs = geometry.CRS(input.crs_wkt)\n",
    "        \n",
    "        feat = fiona.open(shp_fpath)[0]\n",
    "        first_geom = feat['geometry']\n",
    "        geom = geometry.Geometry(first_geom, crs=crs)\n",
    "\n",
    "        query = {'geopolygon': geom,\n",
    "                 'time': time}\n",
    "        \n",
    "        ds = load_landsat(dc=dc, query=query, sensors=['ls5','ls7','ls8'], \n",
    "                           bands_of_interest=['nir', 'red'], lazy_load=True,\n",
    "                           dask_chunks = {'x': chunk_size, 'y': chunk_size})\n",
    "        \n",
    "        mask = rasterio.features.geometry_mask([geom.to_crs(ds.geobox.crs)for geoms in [geom]],\n",
    "                                       out_shape=ds.geobox.shape,\n",
    "                                       transform=ds.geobox.affine,\n",
    "                                       all_touched=False,\n",
    "                                       invert=False)\n",
    "        \n",
    "        mask_xr = xr.DataArray(mask, dims = ('y','x'))\n",
    "        ds = ds.where(mask_xr==False)\n",
    "        \n",
    "    else: \n",
    "        print('Extracting data based on lat, lon coords')\n",
    "        # todo - change to bounding box\n",
    "        query = {'lon': longitude_range,\n",
    "                 'lat': latitude_range,\n",
    "                 'time': time}\n",
    "        \n",
    "        ds = load_landsat(dc=dc, query=query, sensors=['ls5','ls7','ls8'], \n",
    "                           bands_of_interest=['nir', 'red'], lazy_load=True,\n",
    "                           dask_chunks = {'x': chunk_size, 'y': chunk_size})\n",
    "\n",
    "    \n",
    "    print('calculating vegetation indice')\n",
    "    \n",
    "    if veg_index == 'ndvi':\n",
    "        vegIndex = (ds.nir - ds.red) / (ds.nir + ds.red)\n",
    "        vegIndex = vegIndex.astype('float32')\n",
    "        vegIndex = vegIndex.mean('time').rename(veg_index+'_mean')\n",
    "        \n",
    "    #get the bounding coords of the input ds to help with indexing the climatology\n",
    "    xmin, xmax = vegIndex.x.values[0], vegIndex.x.values[-1]\n",
    "    ymin,ymax = vegIndex.y.values[0], vegIndex.y.values[-1]\n",
    "    x_slice = [i+0.5 for i in range(int(xmin),int(xmax+25),25)]\n",
    "    y_slice = [i-0.5 for i in range(int(ymin),int(ymax-25),-25)]\n",
    "    \n",
    "    return vegIndex\n",
    "\n",
    "## uncomment after climatologies generated\n",
    "    \n",
    "#     #index the climatology dataset to the location of our AOI\n",
    "#     #fixme - what are the filenames going to be?\n",
    "#     print('Opening mean climatology for: NSW ' + veg_index +' '+ season)\n",
    "#     mean_climatology = xr.open_rasterio('results/NSW_' + veg_index + \"_clim_mean_\"+ season +'_mosaic.tif',\n",
    "#                                   chunks=chunk_size).sel(x=x_slice, y=y_slice, method='nearest').squeeze()\n",
    "#     print('Opening standard deviation climatology for: NSW ' + veg_index +' '+ season)\n",
    "#     stdev_climatology = xr.open_rasterio('results/NSW_' + veg_index + \"_clim_stdev_\"+ season +'_mosaic.tif',\n",
    "#                                   chunks=chunk_size).sel(x=x_slice, y=y_slice, method='nearest')\n",
    "    \n",
    "#     #test if the arrays match before we calculate the anomalies\n",
    "#     np.testing.assert_allclose(vegIndex.x.values, climatology.x.values,\n",
    "#                               err_msg=\"The X coordinates on the AOI dataset do not match \"\n",
    "#                                       \"the X coordinates on the climatology dataset. \"\n",
    "#                                        \"You're AOI may be beyond the extent of the pre-computed \"\n",
    "#                                        \"climatology dataset.\")\n",
    "    \n",
    "#     np.testing.assert_allclose(vegIndex.y.values, climatology.y.values,\n",
    "#                           err_msg=\"The Y coordinates on the AOI dataset do not match \"\n",
    "#                                   \"the Y coordinates on the climatology dataset. \"\n",
    "#                                    \"You're AOI may be beyond the extent of the pre-computed \"\n",
    "#                                    \"climatology dataset.\")\n",
    "    \n",
    "#     print('calculating anomalies')\n",
    "#     #calculate anomalies\n",
    "#     anomalies = (vegIndex - mean_climatology)/stdev_climatology\n",
    "\n",
    "    \n",
    "#     #add back metadata\n",
    "#     anomalies = anomalies.rename(veg_index + '_anomalies').to_dataset()\n",
    "#     anomalies.attrs = ds.attrs\n",
    "#     anomalies.attrs['units'] = 1\n",
    "\n",
    "#     return anomalies\n"
   ]
  },
  {
   "cell_type": "code",
   "execution_count": 20,
   "metadata": {},
   "outputs": [
    {
     "name": "stdout",
     "output_type": "stream",
     "text": [
      "Extracting data based on lat, lon coords\n",
      "Loading ls5\n",
      "    Skipping ls5; no valid data for query\n",
      "Loading ls7\n",
      "    Skipping ls7; no valid data for query\n",
      "Loading ls8\n",
      "calculating vegetation indice\n",
      "<xarray.Dataset>\n",
      "Dimensions:         (x: 13137, y: 3860)\n",
      "Coordinates:\n",
      "  * y               (y) float64 -3.675e+06 -3.675e+06 ... -3.772e+06 -3.772e+06\n",
      "  * x               (x) float64 1.336e+06 1.336e+06 ... 1.664e+06 1.664e+06\n",
      "Data variables:\n",
      "    ndvi_anomalies  (y, x) float32 dask.array<chunksize=(750, 750), meta=np.ndarray>\n"
     ]
    }
   ],
   "source": [
    "#Lazily run calculations, this will check for errors before\n",
    "# we actually compute the results\n",
    "std_anomalies = calculate_anomalies(veg_index=veg_index, #ndvi     \n",
    "                                from_shape=from_shape,\n",
    "                                shp_fpath=shp_fpath,\n",
    "                                latitude_range=latitude_range, #AOI NSW - use bounding box in future\n",
    "                                longitude_range=longitude_range, #AOI NSW - use bounding box in future                             \n",
    "                            time=time, # time of extraction (last 3 months)\n",
    "                            season=season, # clim season based on extraction (move into func?)\n",
    "                            chunk_size=chunk_size)\n",
    "std_anomalies = std_anomalies.rename(veg_index + '_anomalies').to_dataset()\n",
    "\n",
    "print(std_anomalies)"
   ]
  },
  {
   "cell_type": "code",
   "execution_count": 21,
   "metadata": {},
   "outputs": [
    {
     "name": "stderr",
     "output_type": "stream",
     "text": [
      "/g/data/v10/public/modules/dea-env/20191127/lib/python3.6/site-packages/dask/array/numpy_compat.py:40: RuntimeWarning: invalid value encountered in true_divide\n",
      "  x = np.divide(x1, x2, out)\n"
     ]
    },
    {
     "name": "stdout",
     "output_type": "stream",
     "text": [
      "CPU times: user 1min 32s, sys: 1min 20s, total: 2min 53s\n",
      "Wall time: 1min 42s\n"
     ]
    }
   ],
   "source": [
    "%%time\n",
    "std_anomalies=std_anomalies.compute()"
   ]
  },
  {
   "cell_type": "code",
   "execution_count": 23,
   "metadata": {},
   "outputs": [
    {
     "data": {
      "text/plain": [
       "<matplotlib.collections.QuadMesh at 0x7f8a3b9a5c88>"
      ]
     },
     "execution_count": 23,
     "metadata": {},
     "output_type": "execute_result"
    },
    {
     "data": {
      "image/png": "[encoded data removed]",
      "text/plain": [
       "<Figure size 432x288 with 2 Axes>"
      ]
     },
     "metadata": {
      "needs_background": "light"
     },
     "output_type": "display_data"
    }
   ],
   "source": [
    "## don't do if too large\n",
    "#currently is only compositve NDVI (not anomaly)\n",
    "std_anomalies.ndvi_anomalies.plot(vmin=0, vmax=1, cmap='YlGnBu')\n",
    "\n",
    "plt.title(season+ \", \" +str(year))\n",
    "# plt.show()"
   ]
  },
  {
   "cell_type": "code",
   "execution_count": 25,
   "metadata": {},
   "outputs": [
    {
     "name": "stdout",
     "output_type": "stream",
     "text": [
      "NSW_2019_OND_ndvi_anomalies.tif\n"
     ]
    },
    {
     "ename": "ValueError",
     "evalue": "Can only write datasets with specified `crs` attribute",
     "output_type": "error",
     "traceback": [
      "\u001b[0;31m---------------------------------------------------------------------------\u001b[0m",
      "\u001b[0;31mValueError\u001b[0m                                Traceback (most recent call last)",
      "\u001b[0;32m<ipython-input-25-7b7e27412704>\u001b[0m in \u001b[0;36m<module>\u001b[0;34m\u001b[0m\n\u001b[1;32m      2\u001b[0m \u001b[0myear\u001b[0m\u001b[0;34m=\u001b[0m\u001b[0mstr\u001b[0m\u001b[0;34m(\u001b[0m\u001b[0mfirstday\u001b[0m\u001b[0;34m.\u001b[0m\u001b[0myear\u001b[0m\u001b[0;34m)\u001b[0m\u001b[0;34m\u001b[0m\u001b[0;34m\u001b[0m\u001b[0m\n\u001b[1;32m      3\u001b[0m \u001b[0mprint\u001b[0m\u001b[0;34m(\u001b[0m\u001b[0;34m'NSW_'\u001b[0m\u001b[0;34m+\u001b[0m\u001b[0myear\u001b[0m\u001b[0;34m+\u001b[0m\u001b[0;34m'_'\u001b[0m\u001b[0;34m+\u001b[0m\u001b[0mseason\u001b[0m\u001b[0;34m+\u001b[0m\u001b[0;34m'_'\u001b[0m\u001b[0;34m+\u001b[0m\u001b[0mveg_index\u001b[0m\u001b[0;34m+\u001b[0m \u001b[0;34m'_anomalies.tif'\u001b[0m\u001b[0;34m)\u001b[0m\u001b[0;34m\u001b[0m\u001b[0;34m\u001b[0m\u001b[0m\n\u001b[0;32m----> 4\u001b[0;31m \u001b[0mwrite_geotiff\u001b[0m\u001b[0;34m(\u001b[0m\u001b[0mveg_index\u001b[0m\u001b[0;34m+\u001b[0m\u001b[0;34m\"_\"\u001b[0m\u001b[0;34m+\u001b[0m\u001b[0myear\u001b[0m\u001b[0;34m+\u001b[0m\u001b[0;34m\"_\"\u001b[0m\u001b[0;34m+\u001b[0m\u001b[0mseason\u001b[0m\u001b[0;34m+\u001b[0m \u001b[0;34m'_anomalies.tif'\u001b[0m\u001b[0;34m,\u001b[0m \u001b[0mstd_anomalies\u001b[0m\u001b[0;34m)\u001b[0m\u001b[0;34m\u001b[0m\u001b[0;34m\u001b[0m\u001b[0m\n\u001b[0m",
      "\u001b[0;32m/g/data/v10/public/modules/dea/20191127/lib/python3.6/site-packages/datacube/helpers.py\u001b[0m in \u001b[0;36mwrite_geotiff\u001b[0;34m(filename, dataset, profile_override, time_index)\u001b[0m\n\u001b[1;32m     37\u001b[0m \u001b[0;34m\u001b[0m\u001b[0m\n\u001b[1;32m     38\u001b[0m     \u001b[0;32mif\u001b[0m \u001b[0mgeobox\u001b[0m \u001b[0;32mis\u001b[0m \u001b[0;32mNone\u001b[0m\u001b[0;34m:\u001b[0m\u001b[0;34m\u001b[0m\u001b[0;34m\u001b[0m\u001b[0m\n\u001b[0;32m---> 39\u001b[0;31m         \u001b[0;32mraise\u001b[0m \u001b[0mValueError\u001b[0m\u001b[0;34m(\u001b[0m\u001b[0;34m'Can only write datasets with specified `crs` attribute'\u001b[0m\u001b[0;34m)\u001b[0m\u001b[0;34m\u001b[0m\u001b[0;34m\u001b[0m\u001b[0m\n\u001b[0m\u001b[1;32m     40\u001b[0m \u001b[0;34m\u001b[0m\u001b[0m\n\u001b[1;32m     41\u001b[0m     \u001b[0;32mtry\u001b[0m\u001b[0;34m:\u001b[0m\u001b[0;34m\u001b[0m\u001b[0;34m\u001b[0m\u001b[0m\n",
      "\u001b[0;31mValueError\u001b[0m: Can only write datasets with specified `crs` attribute"
     ]
    }
   ],
   "source": [
    "# Write geotiff to a location\n",
    "year=str(firstday.year)\n",
    "print('NSW_'+year+'_'+season+'_'+veg_index+ '_anomalies.tif')\n",
    "write_geotiff(veg_index+\"_\"+year+\"_\"+season+ '_anomalies.tif', std_anomalies)"
   ]
  },
  {
   "cell_type": "code",
   "execution_count": null,
   "metadata": {},
   "outputs": [],
   "source": []
  }
 ],
 "metadata": {
  "kernelspec": {
   "display_name": "Python 3",
   "language": "python",
   "name": "python3"
  },
  "language_info": {
   "codemirror_mode": {
    "name": "ipython",
    "version": 3
   },
   "file_extension": ".py",
   "mimetype": "text/x-python",
   "name": "python",
   "nbconvert_exporter": "python",
   "pygments_lexer": "ipython3",
   "version": "3.6.7"
  }
 },
 "nbformat": 4,
 "nbformat_minor": 4
}
