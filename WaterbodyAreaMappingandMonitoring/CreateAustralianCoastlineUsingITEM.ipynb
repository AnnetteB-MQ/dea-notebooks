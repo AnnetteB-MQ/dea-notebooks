{
 "cells": [
  {
   "cell_type": "markdown",
   "metadata": {},
   "source": [
    "# Create an Australian coastline using ITEM\n",
    "\n",
    "**What does this notebook do?** This notebook uses the [Intertidal Extents Model (ITEM) v2](http://pid.geoscience.gov.au/dataset/ga/113842) dataset to generate a high tide coastline for all of Australia. This coastline is derived from Landsat-based data, and is therefore useful for masking out the land/ocean in Landsat data.\n",
    "\n",
    "**Requirements:** Specific running requirements have been documented within the code and markdown below. \n",
    "\n",
    "**Please note that for the all of Australia coastline analysis, this code was run on an interactive megamem node on raijin, as there is not enough memory to run here (or on a normal raijin node).**\n",
    "\n",
    "` qsub -I -l walltime=24:00:00,mem=3TB,ncpus=32 -P r78 -q megamem -l wd`\n",
    "\n",
    "**Date:** July 2019\n",
    "\n",
    "**Author:** Claire Krause, Robbi Bishop-Taylor"
   ]
  },
  {
   "cell_type": "code",
   "execution_count": null,
   "metadata": {},
   "outputs": [],
   "source": [
    "%pylab notebook\n",
    "\n",
    "from skimage import measure\n",
    "import xarray as xr\n",
    "\n",
    "sys.path.append('../10_Scripts')\n",
    "import SpatialTools"
   ]
  },
  {
   "cell_type": "markdown",
   "metadata": {},
   "source": [
    "## Preprocessing the ITEM data\n",
    "\n",
    "The coastline layer was generated from the [Intertidal Extents Model (ITEM) v2](http://pid.geoscience.gov.au/dataset/ga/113842). The data was accessed via [THREDDS](http://dap.nci.org.au/thredds/remoteCatalogService?catalog=http://dapds00.nci.org.au/thredds/catalogs/fk4/item_2_0.xml), using the link provided in the data record. \n",
    "\n",
    "The data are stored in three formats: geotiff, netcdf and shapefile. The shapefile represents the coastal compartments used for the ITEM analysis, and so do not contain the actual ITEM data needed for this analysis. \n",
    "\n",
    "We used the geotiff files to generate a virtual raster, to allow us to visualise and interrogate the data. The commands below were run from a terminal window on the VDI, with the dea environment loaded.\n",
    "\n",
    "```\n",
    "cd /g/data/fk4/datacube/002/ITEM/ITEM_2_0/\n",
    "\n",
    "gdalbuildvrt -srcnodata \"-6666\" /g/data/r78/cek156/ITEM.vrt geotiff/ITEM_REL_*.tif\n",
    "```\n",
    "\n",
    "## Selecting relevant data in QGIS\n",
    "\n",
    "For the creation of a high tide coastline, we chose to select areas equal to 9 within the ITEM dataset, which represent pixels ['exposed at highest 80-100% of the observed tidal range (land)'](https://d28rz98at9flks.cloudfront.net/113842/ITEM_Product_Description.pdf).\n",
    "\n",
    "The virtual raster was opened in QGIS, and the raster calculator was used to create a new geotiff file where; `ITEM == 9`. This boolean geotiff was written out as `ITEM9.tif`. "
   ]
  },
  {
   "cell_type": "markdown",
   "metadata": {},
   "source": [
    "## Label raster pixels by 'blobs'\n",
    "\n",
    "The scikit-image python library was used to perform the raster analysis. The `skimage.measure.label` function labels connected regions of an array with a unique identifier. For example, see the image below. The image on the left shows a random collection of white blobs on a black background. The `skimage.measure.label` function labels each of those blobs separately, labeling connected blobs with the same identifier (see middle panel). This allows you to then select a single blob (here the largest), using the unique identifier. \n",
    "\n",
    "![skimage.measure.label function example](skimageMeasureLabelBlobs.PNG)"
   ]
  },
  {
   "cell_type": "code",
   "execution_count": null,
   "metadata": {},
   "outputs": [],
   "source": [
    "# Open the ITEM9 raster\n",
    "ITEM9 = xr.open_rasterio('/g/data/r78/cek156/ShapeFiles/ITEMv2Coastline/ITEM9.tif')"
   ]
  },
  {
   "cell_type": "code",
   "execution_count": null,
   "metadata": {},
   "outputs": [],
   "source": [
    "# Compute a unique ID for each discrete region of connected pixels\n",
    "blobs_labels = measure.label(ITEM9, background=1)"
   ]
  },
  {
   "cell_type": "markdown",
   "metadata": {},
   "source": [
    "Once each 'blob' has a unique ID, you can count the number of pixels assigned to each blob to return the largest one. \n",
    "\n",
    "```\n",
    "ids, counts = np.unique(blobs_labels[blobs_labels > 0], return_counts=True) #>0 to exclude background pixels\n",
    "largest_region_id = ids[np.argmax(counts)]\n",
    "largest_region = blobs_labels == largest_region_id\n",
    "```\n",
    "\n",
    "In our workflow, we have determined that the ocean was not the largest blob, but actually the third largest blob. (In ITEM, the no data area in the center of Australia made up the largest blob, with the land portion of each coastal compartment the second largest). This determination was made by exporting the `blobs_labels` variable to geotiff and identifying the ocean blob in QGIS. \n",
    "\n",
    "```\n",
    "blobs_labels = blobs_labels.squeeze()\n",
    "transform, projection = geotransform(ITEM9, (ITEM9.x, ITEM9.y), epsg=3577)\n",
    "SpatialTools.array_to_geotiff('/g/data/r78/cek156/ShapeFiles/ITEMCoastlineAll.tif', Coastline, \n",
    "                              geo_transform = transform, \n",
    "                              projection = projection, \n",
    "                              nodata_val = -999)\n",
    "```"
   ]
  },
  {
   "cell_type": "markdown",
   "metadata": {},
   "source": [
    "## Select just the ocean 'blob' and write out to geotiff"
   ]
  },
  {
   "cell_type": "code",
   "execution_count": null,
   "metadata": {},
   "outputs": [],
   "source": [
    "# The ocean blob was given an ID of 2\n",
    "Coastline = blobs_labels == 2"
   ]
  },
  {
   "cell_type": "code",
   "execution_count": null,
   "metadata": {},
   "outputs": [],
   "source": [
    "# Grab the transform and projection from the ITEM9 dataset we read in earlier\n",
    "# This is a cheat to write out to geotiff. Since the spatial extent and resolution hasn't\n",
    "# changed, we can just apply the spatial information from ITEM9 to the new boolean array\n",
    "transform, projection = SpatialTools.geotransform(ITEM9, (ITEM9.x, ITEM9.y), epsg=3577)\n",
    "SpatialTools.array_to_geotiff('/g/data/r78/cek156/ShapeFiles/ITEMCoastlineID2.tif', Coastline, \n",
    "                              geo_transform = transform, \n",
    "                              projection = projection, \n",
    "                              nodata_val = -999)"
   ]
  },
  {
   "cell_type": "markdown",
   "metadata": {},
   "source": [
    "## Optimise the final geotiff\n",
    "\n",
    "The Australia-wide coastal raster is ~92 GB in size, which is way too large to be easy to use. We use `gdal_translate` to optimise the geotiff and compress it to a much more reasonable ~100 MB. "
   ]
  },
  {
   "cell_type": "code",
   "execution_count": null,
   "metadata": {},
   "outputs": [],
   "source": [
    "!gdal_translate \\\n",
    "   -co COMPRESS=DEFLATE \\\n",
    "   -co ZLEVEL=9 \\\n",
    "   -co PREDICTOR=1 \\\n",
    "   -co TILED=YES \\\n",
    "   -co BLOCKXSIZE=1024 \\\n",
    "   -co BLOCKYSIZE=1024 \\\n",
    "   /g/data/r78/cek156/ShapeFiles/ITEMCoastlineID2.tif /g/data/r78/cek156/ShapeFiles/ITEMCoastlineID2Optimised.tif"
   ]
  },
  {
   "cell_type": "markdown",
   "metadata": {},
   "source": [
    "## Final product!\n",
    "\n",
    "![Australian high tide coastline](HighTideCoastline.JPG)\n",
    "\n",
    "Some of the known limitations of ITEM, related to data quality and quantity, have been transferred to this coastline dataset, the most notable of which is an error in the coastline to the south of WA.\n",
    "\n",
    "![Poor data quality issues in WA coastline](WACoastlineNoise.JPG)"
   ]
  },
  {
   "cell_type": "code",
   "execution_count": null,
   "metadata": {},
   "outputs": [],
   "source": []
  }
 ],
 "metadata": {
  "kernelspec": {
   "display_name": "Python 3",
   "language": "python",
   "name": "python3"
  },
  "language_info": {
   "codemirror_mode": {
    "name": "ipython",
    "version": 3
   },
   "file_extension": ".py",
   "mimetype": "text/x-python",
   "name": "python",
   "nbconvert_exporter": "python",
   "pygments_lexer": "ipython3",
   "version": "3.6.7"
  }
 },
 "nbformat": 4,
 "nbformat_minor": 2
}
