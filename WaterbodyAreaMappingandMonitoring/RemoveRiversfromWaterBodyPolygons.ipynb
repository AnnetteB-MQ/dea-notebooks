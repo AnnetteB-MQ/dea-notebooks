{
 "cells": [
  {
   "cell_type": "markdown",
   "metadata": {},
   "source": [
    "# Remove Rivers from Water Body Polygons\n",
    "\n",
    "**What does this notebook do?** This notebook applies the `FilterRivers` filter from the `GenerateWaterBodyPolygons.ipynb` notebook. This allows this filtering step to be applied to the final Water Body Polygon dataset, in order to produce a further refined version in which the polygon IDs still match up with the all encompassing version.\n",
    "\n",
    "**Required inputs:** \n",
    "* River line dataset for filtering out polygons comprised of river segments.\n",
    "    * Variable name: `MajorRiversDataset`\n",
    "    * Here we use the [Bureau of Meteorology's Geofabric v 3.0.5 Beta (Suface Hydrology Network)](ftp://ftp.bom.gov.au/anon/home/geofabric/), filtered to only keep features tagged as `major rivers`. \n",
    "    * There are some identified issues with this data layer that make the filtering using this data inconsistent (see [the discussion below](#rivers))\n",
    "    * We therefore turn this off during the production of the water bodies shapefile.   \n",
    "\n",
    "**Code history**\n",
    "This notebook takes just the `FilterRivers` code from the `GenerateWaterBodyPolygons.ipynb` notebook.\n",
    "\n",
    "**Date:** March 2019\n",
    "\n",
    "**Author:** Claire Krause\n",
    "\n",
    "**DEA module and environment version used**: `/dea-env/20181015`, `/dea/20181015` (See the accompanying [GenerateWaterBodyPolygonsRequirements.txt](files/GenerateWaterBodyPolygonsRequirements.txt) for a complete list of python libraries loaded into the environment)."
   ]
  },
  {
   "cell_type": "code",
   "execution_count": 1,
   "metadata": {},
   "outputs": [],
   "source": [
    "import geopandas as gp"
   ]
  },
  {
   "cell_type": "code",
   "execution_count": 2,
   "metadata": {},
   "outputs": [],
   "source": [
    "def Filter_shapefile_by_intersection(gpdData, gpdFilter, filtertype = 'intersects', invertMask = True, \n",
    "                                     returnInverse = False):\n",
    "    '''\n",
    "    Filter out polygons that intersect with another polygon shapefile. \n",
    "    \n",
    "    Function copied from GenerateWaterBodyPolygons.ipynb.\n",
    "    \n",
    "    Parameters\n",
    "    ----------\n",
    "    \n",
    "    gpdData: geopandas dataframe\n",
    "        Polygon data that you wish to filter\n",
    "    gpdFilter: geopandas dataframe\n",
    "        Dataset you are using as a filter\n",
    "    \n",
    "    Optional\n",
    "    --------\n",
    "    filtertype: default = 'intersects'\n",
    "        Options = ['intersects', 'contains', 'within']\n",
    "    invertMask: boolean\n",
    "        Default = 'True'. This determines whether you want areas that DO ( = 'False') or DON'T ( = 'True')\n",
    "        intersect with the filter shapefile.\n",
    "    returnInnverse: boolean\n",
    "        Default = 'False'. If true, then return both parts of the intersection - those that intersect AND \n",
    "        those that don't as two dataframes.\n",
    "    \n",
    "    Returns\n",
    "    -------\n",
    "    gpdDataFiltered: geopandas dataframe\n",
    "        Filtered polygon set, with polygons that intersect with gpdFilter removed.\n",
    "    \n",
    "    Optional\n",
    "    --------\n",
    "    if 'returnInverse = True'\n",
    "    gpdDataFiltered, gpdDataInverse: two geopandas dataframes\n",
    "        Filtered polygon set, with polygons that DON'T intersect with gpdFilter removed.\n",
    "    '''    \n",
    "    \n",
    "    # Check that the coordinate reference systems of both dataframes are the same\n",
    "    \n",
    "    assert gpdData.crs == gpdFilter.crs, 'Make sure the the coordinate reference systems of the two provided dataframes are the same'\n",
    "    \n",
    "    Intersections = gp.sjoin(gpdFilter, gpdData, how=\"inner\", op=filtertype)\n",
    "    \n",
    "    # Find the index of all the polygons that intersect with a river\n",
    "    IntersectIndex = sorted(set(Intersections['index_right']))\n",
    "    \n",
    "    # Grab only the polygons NOT in the IntersectIndex\n",
    "    # i.e. that don't intersect with a river\n",
    "    if invertMask:\n",
    "        gpdDataFiltered = gpdData.loc[~gpdData.index.isin(IntersectIndex)]\n",
    "    else:\n",
    "        gpdDataFiltered = gpdData.loc[gpdData.index.isin(IntersectIndex)]\n",
    "    \n",
    "    if returnInverse:\n",
    "        # We need to use the indices from IntersectIndex to find the inverse dataset, so we\n",
    "        # will just swap the '~'.\n",
    "        \n",
    "        if invertMask:\n",
    "            gpdDataInverse = gpdData.loc[gpdData.index.isin(IntersectIndex)]\n",
    "        else:\n",
    "            gpdDataInverse = gpdData.loc[~gpdData.index.isin(IntersectIndex)]\n",
    "            \n",
    "        return gpdDataFiltered, gpdDataInverse\n",
    "    else:    \n",
    "        \n",
    "        return gpdDataFiltered"
   ]
  },
  {
   "cell_type": "markdown",
   "metadata": {},
   "source": [
    "## Load in the rivers dataset\n",
    "\n",
    "We use the [Bureau of Meteorology's Geofabric v 3.0.5 Beta (Suface Hydrology Network)](ftp://ftp.bom.gov.au/anon/home/geofabric/) to filter out polygons that intersect with major rivers. This is done to remove river segments from the polygon dataset. We use the `SH_Network AHGFNetworkStream any` layer within the `SH_Network_GDB_V2_1_1.zip` geodatabase, and filter the dataset to only keep rivers tagged as `major`. It is this filtered dataset we use here.\n",
    "\n",
    "Note that we reproject this dataset to `epsg 3577`, Australian Albers coordinate reference system. If this is not correct for your analysis, you can change this in the cell below.\n",
    "\n",
    "### Note when using the Geofabric to filter out rivers\n",
    "\n",
    "The option to filter out rivers was switched off for the production of our water bodies dataset. During testing, the Geofabric dataset was shown to lead to inconsistencies in what was removed, and what remained within the dataset. \n",
    "\n",
    "* The Geofabric continues the streamline through on-river dams, which means these polygons are filtered out. This may not be the desired result. \n",
    "\n",
    "![Stream and Dam intersection](OnRiverDam.JPG \"An in-river dam that would be removed by the river filter, but may not be the desired result\")\n"
   ]
  },
  {
   "cell_type": "code",
   "execution_count": 3,
   "metadata": {},
   "outputs": [],
   "source": [
    "# Where is this file located?\n",
    "MajorRiversDataset = '/g/data/r78/cek156/ShapeFiles/SH_Network_GDB_National_V3_0_5_Beta/SH_Network_GDB_National_V3_0_5_Beta_MajorFiltered.shp'\n",
    "\n",
    "# Read in the major rivers dataset (if you are using it)\n",
    "MajorRivers = gp.GeoDataFrame.from_file(MajorRiversDataset) \n",
    "MajorRivers = MajorRivers.to_crs({'init':'epsg:3577'})"
   ]
  },
  {
   "cell_type": "markdown",
   "metadata": {},
   "source": [
    "## Read in the Water Bodies dataset"
   ]
  },
  {
   "cell_type": "code",
   "execution_count": 4,
   "metadata": {},
   "outputs": [],
   "source": [
    "WaterPolygons = gp.read_file(f'/g/data/r78/cek156/dea-notebooks/WaterbodyAreaMappingandMonitoring/MDBANSWAllTime01-005HybridWaterbodies/NSWMDBWaterBodies.shp')\n",
    "WaterPolygons = WaterPolygons.to_crs({'init':'epsg:3577'})"
   ]
  },
  {
   "cell_type": "markdown",
   "metadata": {},
   "source": [
    "## Filter out polygons that intersect with a major river"
   ]
  },
  {
   "cell_type": "code",
   "execution_count": 5,
   "metadata": {},
   "outputs": [],
   "source": [
    "WaterBodiesBigRiverFiltered = Filter_shapefile_by_intersection(WaterPolygons, MajorRivers)"
   ]
  },
  {
   "cell_type": "markdown",
   "metadata": {},
   "source": [
    "## Write out the amended shapefile"
   ]
  },
  {
   "cell_type": "code",
   "execution_count": 6,
   "metadata": {},
   "outputs": [],
   "source": [
    "WaterBodiesBigRiverFiltered.crs = {'init': 'epsg:3577'}\n",
    "WaterBodiesBigRiverFiltered.to_file('/g/data/r78/cek156/dea-notebooks/WaterbodyAreaMappingandMonitoring/MDBANSWAllTime01-005HybridWaterbodies/NSWMDBWaterBodiesRiverFiltered.shp', driver='ESRI Shapefile')"
   ]
  },
  {
   "cell_type": "code",
   "execution_count": null,
   "metadata": {},
   "outputs": [],
   "source": []
  }
 ],
 "metadata": {
  "kernelspec": {
   "display_name": "Python 3",
   "language": "python",
   "name": "python3"
  },
  "language_info": {
   "codemirror_mode": {
    "name": "ipython",
    "version": 3
   },
   "file_extension": ".py",
   "mimetype": "text/x-python",
   "name": "python",
   "nbconvert_exporter": "python",
   "pygments_lexer": "ipython3",
   "version": "3.6.7"
  }
 },
 "nbformat": 4,
 "nbformat_minor": 2
}
