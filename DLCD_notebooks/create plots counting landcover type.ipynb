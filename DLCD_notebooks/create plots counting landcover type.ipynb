{
 "cells": [
  {
   "cell_type": "code",
   "execution_count": 1,
   "metadata": {},
   "outputs": [
    {
     "data": {
      "text/plain": [
       "'\\nlandcover classification legend\\n\\nnumber \\tlandcover type \\n0\\tno data\\n1\\tExtraction Sites\\n3\\tInland Waterbodies\\n4\\tSalt Lakes\\n5\\tIrrigated Cropping\\n6\\tIrrigated Pasture\\n7\\tIrrigated Sugar\\n8\\tRainfed Cropping\\n9\\tRainfed Pasutre\\n10\\tRainfed Sugar\\n11\\tWetlands\\n14\\tTussock Grasses - Closed\\n15\\tAlpine Grasses - Open\\n16\\tHummock Grasses - Open\\n18\\tTussock Grasses - Open\\n19\\tShrubs and Grasses - Sparse-Scattered\\n24\\tShrubs - Closed\\n25\\tShrubs - Open\\n31\\tTrees - Closed\\n32\\tTrees - Open\\n33\\tTrees - Scattered\\n34\\tTrees - Sparse\\n35\\tBuilt up area '"
      ]
     },
     "execution_count": 1,
     "metadata": {},
     "output_type": "execute_result"
    }
   ],
   "source": [
    "'''\n",
    "landcover classification legend\n",
    "\n",
    "number \tlandcover type \n",
    "0\tno data\n",
    "1\tExtraction Sites\n",
    "3\tInland Waterbodies\n",
    "4\tSalt Lakes\n",
    "5\tIrrigated Cropping\n",
    "6\tIrrigated Pasture\n",
    "7\tIrrigated Sugar\n",
    "8\tRainfed Cropping\n",
    "9\tRainfed Pasutre\n",
    "10\tRainfed Sugar\n",
    "11\tWetlands\n",
    "14\tTussock Grasses - Closed\n",
    "15\tAlpine Grasses - Open\n",
    "16\tHummock Grasses - Open\n",
    "18\tTussock Grasses - Open\n",
    "19\tShrubs and Grasses - Sparse-Scattered\n",
    "24\tShrubs - Closed\n",
    "25\tShrubs - Open\n",
    "31\tTrees - Closed\n",
    "32\tTrees - Open\n",
    "33\tTrees - Scattered\n",
    "34\tTrees - Sparse\n",
    "35\tBuilt up area '''\n"
   ]
  },
  {
   "cell_type": "code",
   "execution_count": 2,
   "metadata": {},
   "outputs": [],
   "source": [
    "#load requiered modules \n",
    "import numpy as np\n",
    "import rasterio\n",
    "#from matplotlib import pyplot as plt #don't need unless want to plot\n",
    "import xarray as xr\n",
    "import pandas as pd\n",
    "from matplotlib import pyplot as plt\n",
    "import os\n",
    "import gdal\n",
    "from osgeo import osr"
   ]
  },
  {
   "cell_type": "code",
   "execution_count": 3,
   "metadata": {},
   "outputs": [],
   "source": [
    "\n",
    "#set up filepath due to folder re-arrangement \n",
    "os.chdir('/g/data/r78/ck9738/')"
   ]
  },
  {
   "cell_type": "code",
   "execution_count": 4,
   "metadata": {},
   "outputs": [],
   "source": [
    "#load in geotifs using rasterio, trun into an xarray :\n",
    "#enter filename as a string, include subfolders!!\n",
    "#previous_version DLCD found in old_DLCD, new in new_DLCD.\n",
    "\n",
    "#use this command to print a list of all file in respective folder : \n",
    "\n",
    "def load_gfif(file_name, x):\n",
    "    #file_string = 'old_DLCD/'+file_name+'.tif'\n",
    "\n",
    "    dataset = rasterio.open(file_name) #open using Raterio\n",
    "    {i: dtype for i, dtype in zip(dataset.indexes, dataset.dtypes)}\n",
    "    data_array = dataset.read(x) #read selected band into np array\n",
    "    #year_xr = xr.DataArray(data_array) #turn into Xr array for fuctionality #Now don't need xr yet\n",
    "    return(data_array) #return np array into program \n",
    "    \n",
    "\n",
    "\n",
    "#old_version = load_gfif('old_DLCD/DLCDv2_2009_20101.tif',1)#for old dlcd files all only have ONE band (are single year)\n",
    "\n"
   ]
  },
  {
   "cell_type": "code",
   "execution_count": 5,
   "metadata": {},
   "outputs": [
    {
     "data": {
      "text/plain": [
       "array([ 0,  3,  4,  5,  6,  7,  8,  9, 11, 14, 16, 18, 19, 24, 25, 31, 32,\n",
       "       33, 34, 35], dtype=uint8)"
      ]
     },
     "execution_count": 5,
     "metadata": {},
     "output_type": "execute_result"
    }
   ],
   "source": [
    "gtif_bear = gdal.Open('old_DLCD/DLCDv2_2009_20101.tif')\n"
   ]
  },
  {
   "cell_type": "code",
   "execution_count": 10,
   "metadata": {},
   "outputs": [],
   "source": [
    "# define function to return the number of pixles which are class A \n",
    "#fuction returns an array, int: array with 1= occurance of class overlap and 0= everything else.\n",
    "\n",
    "\n",
    "def count_type(in_xr, X):\n",
    "    raw_np = np.ones_like(in_xr)\n",
    "    raw_xr = xr.DataArray(raw_np)\n",
    "    count_name = raw_xr.where(in_xr==X) #makes a xarray with just the selected class an nan values\n",
    "    count_name = count_name.fillna(0) #replaces all the nan with 0\n",
    "    howmuch_name = np.count_nonzero(count_name) #counts the number of non 0 in the xaray\n",
    "    count_class = np.array(count_name)\n",
    "    return(count_class, howmuch_name) #returns a np array with only contains pixles of the specified LC class "
   ]
  },
  {
   "cell_type": "code",
   "execution_count": 16,
   "metadata": {},
   "outputs": [],
   "source": []
  },
  {
   "cell_type": "code",
   "execution_count": 17,
   "metadata": {},
   "outputs": [
    {
     "data": {
      "text/plain": [
       "<matplotlib.image.AxesImage at 0x7f8dbe8ac2b0>"
      ]
     },
     "execution_count": 17,
     "metadata": {},
     "output_type": "execute_result"
    },
    {
     "data": {
      "image/png": "[encoded data removed]",
      "text/plain": [
       "<matplotlib.figure.Figure at 0x7f8dbe9d9ba8>"
      ]
     },
     "metadata": {},
     "output_type": "display_data"
    }
   ],
   "source": [
    "fig, ax = plt.subplots(figsize=(10,10))\n",
    "plt.title('land cover 2014')\n",
    "#plt.legend(handles=handle_list, bbox_to_anchor=(1.05, 1), loc=2, borderaxespad=0.)\n",
    "\n",
    "ax.imshow(small_water, cmap='spring', interpolation='nearest')\n"
   ]
  },
  {
   "cell_type": "code",
   "execution_count": 18,
   "metadata": {},
   "outputs": [
    {
     "data": {
      "text/plain": [
       "0"
      ]
     },
     "execution_count": 18,
     "metadata": {},
     "output_type": "execute_result"
    }
   ],
   "source": [
    "dst_filename = 'ripe_veg_random.tiff'\n",
    "x_pixles = 19161 #number of pixles on x axis\n",
    "y_pixles = 14902 #number of pixles on y axis\n",
    "driver = gdal.GetDriverByName('GTiff')\n",
    "outgoing_data = driver.Create(dst_filename, x_pixles, y_pixles, 1,gdal.GDT_Float32)\n",
    "\n",
    "outgoing_data.SetGeoTransform([444720, 30, 0, 3751320, 0, -30])\n",
    "srs = osr.SpatialReference()\n",
    "srs.SetUTM(11,1)\n",
    "srs.SetWellKnownGeogCS(\"GDA2020\")\n",
    "outgoing_data.SetProjection(srs.ExportToWkt())\n",
    "\n",
    "outgoing_data.GetRasterBand(1).WriteArray(new_water)\n",
    "\n",
    "\n",
    "\n"
   ]
  },
  {
   "cell_type": "code",
   "execution_count": 19,
   "metadata": {},
   "outputs": [],
   "source": [
    "outgoing_data = None "
   ]
  },
  {
   "cell_type": "code",
   "execution_count": null,
   "metadata": {},
   "outputs": [],
   "source": []
  },
  {
   "cell_type": "code",
   "execution_count": null,
   "metadata": {},
   "outputs": [],
   "source": []
  }
 ],
 "metadata": {
  "kernelspec": {
   "display_name": "Python 3",
   "language": "python",
   "name": "python3"
  },
  "language_info": {
   "codemirror_mode": {
    "name": "ipython",
    "version": 3
   },
   "file_extension": ".py",
   "mimetype": "text/x-python",
   "name": "python",
   "nbconvert_exporter": "python",
   "pygments_lexer": "ipython3",
   "version": "3.6.5"
  }
 },
 "nbformat": 4,
 "nbformat_minor": 2
}
