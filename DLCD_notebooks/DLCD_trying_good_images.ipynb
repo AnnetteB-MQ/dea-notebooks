{
 "cells": [
  {
   "cell_type": "code",
   "execution_count": 1,
   "metadata": {},
   "outputs": [],
   "source": [
    "import numpy as np\n",
    "import rasterio\n",
    "import matplotlib as mpl\n",
    "from matplotlib import pyplot as plt\n",
    "import matplotlib.patches as mpatches\n",
    "import xarray as xr\n",
    "import os"
   ]
  },
  {
   "cell_type": "code",
   "execution_count": 2,
   "metadata": {},
   "outputs": [],
   "source": [
    "#set up filepath due to folder re-arrangement \n",
    "os.chdir('/g/data/r78/ck9738')"
   ]
  },
  {
   "cell_type": "code",
   "execution_count": 3,
   "metadata": {},
   "outputs": [
    {
     "data": {
      "text/plain": [
       "{1: 'uint16',\n",
       " 2: 'uint16',\n",
       " 3: 'uint16',\n",
       " 4: 'uint16',\n",
       " 5: 'uint16',\n",
       " 6: 'uint16',\n",
       " 7: 'uint16',\n",
       " 8: 'uint16',\n",
       " 9: 'uint16',\n",
       " 10: 'uint16',\n",
       " 11: 'uint16',\n",
       " 12: 'uint16',\n",
       " 13: 'uint16',\n",
       " 14: 'uint16',\n",
       " 15: 'uint16'}"
      ]
     },
     "execution_count": 3,
     "metadata": {},
     "output_type": "execute_result"
    }
   ],
   "source": [
    "old_dataset = rasterio.open('new_DLCD/DLCDv2_2016_new.tif')\n",
    "{i: dtype for i, dtype in zip(old_dataset.indexes, old_dataset.dtypes)}"
   ]
  },
  {
   "cell_type": "code",
   "execution_count": 4,
   "metadata": {},
   "outputs": [],
   "source": [
    "### i would like to bring in the geotif then convert it to a Numpy data array\n",
    "\n",
    "\n"
   ]
  },
  {
   "cell_type": "code",
   "execution_count": 5,
   "metadata": {},
   "outputs": [],
   "source": [
    "year_2001 = old_dataset.read(1)\n",
    "small_2001 = year_2001[1::200,1::200]"
   ]
  },
  {
   "cell_type": "code",
   "execution_count": 6,
   "metadata": {},
   "outputs": [
    {
     "ename": "SyntaxError",
     "evalue": "invalid syntax (<ipython-input-6-35c1ad0b1e4b>, line 2)",
     "output_type": "error",
     "traceback": [
      "\u001b[0;36m  File \u001b[0;32m\"<ipython-input-6-35c1ad0b1e4b>\"\u001b[0;36m, line \u001b[0;32m2\u001b[0m\n\u001b[0;31m    35], dtype=uint8)\u001b[0m\n\u001b[0m                    ^\u001b[0m\n\u001b[0;31mSyntaxError\u001b[0m\u001b[0;31m:\u001b[0m invalid syntax\n"
     ]
    }
   ],
   "source": [
    "[ 3,  4,  5,  6,  8,  9, 11, 14, 16, 18, 19, 24, 25, 31, 32, 33, 34,\n",
    "       35], dtype=uint8)"
   ]
  },
  {
   "cell_type": "code",
   "execution_count": 7,
   "metadata": {},
   "outputs": [
    {
     "data": {
      "text/plain": [
       "array([ 0,  1,  3,  4,  5,  6,  7,  8,  9, 10, 11, 14, 15, 16, 18, 19, 24,\n",
       "       25, 31, 32, 33, 34, 35], dtype=uint16)"
      ]
     },
     "execution_count": 7,
     "metadata": {},
     "output_type": "execute_result"
    }
   ],
   "source": [
    "values_please = np.unique(year_2001)\n",
    "values_please"
   ]
  },
  {
   "cell_type": "code",
   "execution_count": 8,
   "metadata": {
    "scrolled": true
   },
   "outputs": [
    {
     "name": "stdout",
     "output_type": "stream",
     "text": [
      "0,\n",
      "1,\n",
      "2,\n",
      "3,\n",
      "4,\n",
      "5,\n",
      "6,\n",
      "7,\n",
      "8,\n",
      "9,\n",
      "10,\n",
      "11,\n",
      "12,\n",
      "13,\n",
      "14,\n",
      "15,\n",
      "16,\n",
      "17,\n",
      "18,\n",
      "19,\n",
      "20,\n",
      "21,\n",
      "22,\n",
      "23,\n",
      "24,\n",
      "25,\n",
      "26,\n",
      "27,\n",
      "28,\n",
      "29,\n",
      "30,\n",
      "31,\n",
      "32,\n",
      "33,\n",
      "34,\n",
      "35,\n"
     ]
    }
   ],
   "source": [
    "for i in range(0,36):\n",
    "    a=str(i)+','\n",
    "    print(a)"
   ]
  },
  {
   "cell_type": "code",
   "execution_count": 9,
   "metadata": {},
   "outputs": [],
   "source": [
    "vals=[0,\n",
    "1,\n",
    "2,\n",
    "3,\n",
    "4,\n",
    "5,\n",
    "6,\n",
    "7,\n",
    "8,\n",
    "9,\n",
    "10,\n",
    "11,\n",
    "12,\n",
    "13,\n",
    "14,\n",
    "15,\n",
    "16,\n",
    "17,\n",
    "18,\n",
    "19,\n",
    "20,\n",
    "21,\n",
    "22,\n",
    "23,\n",
    "24,\n",
    "25,\n",
    "26,\n",
    "27,\n",
    "28,\n",
    "29,\n",
    "30,\n",
    "31,\n",
    "32,\n",
    "33,\n",
    "34,\n",
    "35]\n"
   ]
  },
  {
   "cell_type": "code",
   "execution_count": null,
   "metadata": {},
   "outputs": [],
   "source": []
  },
  {
   "cell_type": "code",
   "execution_count": 13,
   "metadata": {},
   "outputs": [
    {
     "ename": "NameError",
     "evalue": "name 'cmapo' is not defined",
     "output_type": "error",
     "traceback": [
      "\u001b[0;31m---------------------------------------------------------------------------\u001b[0m",
      "\u001b[0;31mNameError\u001b[0m                                 Traceback (most recent call last)",
      "\u001b[0;32m<ipython-input-13-5ac45b8ada30>\u001b[0m in \u001b[0;36m<module>\u001b[0;34m()\u001b[0m\n\u001b[1;32m     37\u001b[0m \u001b[0;34m\u001b[0m\u001b[0m\n\u001b[1;32m     38\u001b[0m \u001b[0mcmap\u001b[0m \u001b[0;34m=\u001b[0m \u001b[0mmpl\u001b[0m\u001b[0;34m.\u001b[0m\u001b[0mcolors\u001b[0m\u001b[0;34m.\u001b[0m\u001b[0mListedColormap\u001b[0m\u001b[0;34m(\u001b[0m\u001b[0;34m[\u001b[0m\u001b[0;34m'xkcd:pale peach'\u001b[0m\u001b[0;34m,\u001b[0m \u001b[0;34m'xkcd:plum purple'\u001b[0m\u001b[0;34m,\u001b[0m \u001b[0;34m'xkcd:black'\u001b[0m\u001b[0;34m,\u001b[0m \u001b[0;34m'xkcd:grey'\u001b[0m\u001b[0;34m,\u001b[0m \u001b[0;34m'xkcd:medium blue'\u001b[0m\u001b[0;34m]\u001b[0m\u001b[0;34m)\u001b[0m\u001b[0;34m\u001b[0m\u001b[0m\n\u001b[0;32m---> 39\u001b[0;31m \u001b[0mcmap\u001b[0m \u001b[0;34m=\u001b[0m \u001b[0mmpl\u001b[0m\u001b[0;34m.\u001b[0m\u001b[0mcolors\u001b[0m\u001b[0;34m.\u001b[0m\u001b[0mBoundaryNorm\u001b[0m\u001b[0;34m(\u001b[0m\u001b[0mvals\u001b[0m\u001b[0;34m,\u001b[0m \u001b[0mcmapo\u001b[0m\u001b[0;34m.\u001b[0m\u001b[0mN\u001b[0m\u001b[0;34m)\u001b[0m\u001b[0;34m\u001b[0m\u001b[0m\n\u001b[0m",
      "\u001b[0;31mNameError\u001b[0m: name 'cmapo' is not defined"
     ]
    }
   ],
   "source": [
    "DLCD_cmap = mpl.colors.ListedColormap(['xkcd:black',\n",
    "'xkcd:grey',\n",
    "'xkcd:black',\n",
    "'xkcd:medium blue',\n",
    "'xkcd:robin egg blue',\n",
    "'xkcd:plum',\n",
    "'xkcd:pink purple',\n",
    "'xkcd:raspberry',\n",
    "'xkcd:old pink',\n",
    "'xkcd:pale pink',\n",
    "'xkcd:warm pink',\n",
    "'xkcd:tealish',\n",
    "'xkcd:black',\n",
    "'xkcd:black',\n",
    "'xkcd:pumpkin orange',\n",
    "'xkcd:white',\n",
    "'xkcd:yellow',\n",
    "'xkcd:black',\n",
    "'xkcd:apricot',\n",
    "'xkcd:eggshell',\n",
    "'xkcd:black',\n",
    "'xkcd:black',\n",
    "'xkcd:black',\n",
    "'xkcd:black',\n",
    "'xkcd:umber',\n",
    "'xkcd:tan',\n",
    "'xkcd:black',\n",
    "'xkcd:black',\n",
    "'xkcd:black',\n",
    "'xkcd:black',\n",
    "'xkcd:black',\n",
    "'xkcd:deep green', \n",
    "'xkcd:medium green',\n",
    "'xkcd:light sage',\n",
    "'xkcd:slime green',\n",
    "'xkcd:light grey'])\n",
    "\n",
    "#cmap = mpl.colors.ListedColormap(['xkcd:pale peach', 'xkcd:plum purple', 'xkcd:black', 'xkcd:grey', 'xkcd:medium blue'])\n",
    "#cmap = mpl.colors.BoundaryNorm(vals, cmapo.N)                          "
   ]
  },
  {
   "cell_type": "code",
   "execution_count": null,
   "metadata": {},
   "outputs": [],
   "source": []
  },
  {
   "cell_type": "code",
   "execution_count": null,
   "metadata": {},
   "outputs": [],
   "source": [
    "\n"
   ]
  },
  {
   "cell_type": "code",
   "execution_count": 11,
   "metadata": {},
   "outputs": [],
   "source": [
    "no_data_patch = mpatches.Patch(color='xkcd:black', label='no data')\n",
    "extraction_sites_patch = mpatches.Patch(color='xkcd:grey',label='Extraction Sites')\n",
    "inland_waterbodies_patch = mpatches.Patch(color='xkcd:medium blue',label='Inland Waterbodies')\n",
    "salt_lakes_patch = mpatches.Patch(color='xkcd:robin egg blue',label='Salt Lakes')\n",
    "irrigated_cropping_patch = mpatches.Patch(color='xkcd:plum',label='Irrigated Cropping')\n",
    "irrigated_pasture_patch = mpatches.Patch(color='xkcd:pink purple',label='Irrigated Pasture')\n",
    "irrigated_sugar_patch = mpatches.Patch(color='xkcd:raspberry',label='Irrigated Sugar')\n",
    "rainfed_cropping_patch = mpatches.Patch(color='xkcd:old pink',label='Rainfed Cropping')\n",
    "rainfed_pasutre_patch = mpatches.Patch(color='xkcd:pale pink',label='Rainfed Pasutre')\n",
    "rainfed_sugar_patch = mpatches.Patch(color='xkcd:warm pink',label='Rainfed Sugar')\n",
    "wetlands_patch = mpatches.Patch(color='xkcd:tealish',label='Wetlands')\n",
    "tussock_grasses_closed_patch = mpatches.Patch(color='xkcd:pumpkin orange',label='Tussock Grasses - Closed')\n",
    "alpine_grasses_open_patch = mpatches.Patch(color='xkcd:white',label='Alpine Grasses - Open')\n",
    "hummock_grasses_open_patch = mpatches.Patch(color='xkcd:yellow',label='Hummock Grasses - Open')\n",
    "tussock_grasses_open_patch = mpatches.Patch(color='xkcd:apricot',label='Tussock Grasses - Open')\n",
    "shrubs_and_grasses_sparse_patch = mpatches.Patch(color='xkcd:eggshell',label='Shrubs and Grasses - Sparse-Scattered')\n",
    "shrubs_closed_patch = mpatches.Patch(color='xkcd:umber',label='Shrubs - Closed')\n",
    "shrubs_open_patch = mpatches.Patch(color='xkcd:tan',label='Shrubs - Open')\n",
    "trees_closed_patch = mpatches.Patch(color='xkcd:deep green', label='Trees - Closed')\n",
    "trees_open_patch = mpatches.Patch(color='xkcd:medium green',label='Trees - Open')\n",
    "trees_scattered_patch = mpatches.Patch(color='xkcd:light sage',label='Trees - Scattered')\n",
    "trees_sparse_patch = mpatches.Patch(color='xkcd:slime green',label='Trees - Sparse')\n",
    "built_up_area_patch = mpatches.Patch(color='xkcd:light grey',label='Built up area')\n",
    "\n",
    "handle_list = [no_data_patch,\n",
    "extraction_sites_patch,\n",
    "inland_waterbodies_patch,\n",
    "salt_lakes_patch,\n",
    "irrigated_cropping_patch,\n",
    "irrigated_pasture_patch,\n",
    "irrigated_sugar_patch,\n",
    "rainfed_cropping_patch,\n",
    "rainfed_pasutre_patch,\n",
    "rainfed_sugar_patch,\n",
    "wetlands_patch,\n",
    "tussock_grasses_closed_patch,\n",
    "alpine_grasses_open_patch,\n",
    "hummock_grasses_open_patch,\n",
    "tussock_grasses_open_patch,\n",
    "shrubs_and_grasses_sparse_patch,\n",
    "shrubs_closed_patch,\n",
    "shrubs_open_patch,\n",
    "trees_closed_patch,\n",
    "trees_open_patch,\n",
    "trees_scattered_patch,\n",
    "trees_sparse_patch,\n",
    "built_up_area_patch,]"
   ]
  },
  {
   "cell_type": "code",
   "execution_count": 14,
   "metadata": {
    "scrolled": false
   },
   "outputs": [
    {
     "data": {
      "text/plain": [
       "<matplotlib.image.AxesImage at 0x7ff75f7c7f98>"
      ]
     },
     "execution_count": 14,
     "metadata": {},
     "output_type": "execute_result"
    },
    {
     "data": {
      "image/png": "[encoded data removed]",
      "text/plain": [
       "<Figure size 720x720 with 1 Axes>"
      ]
     },
     "metadata": {},
     "output_type": "display_data"
    }
   ],
   "source": [
    "fig, ax = plt.subplots(figsize=(10,10))\n",
    "plt.title('land cover 2014')\n",
    "plt.legend(handles=handle_list, bbox_to_anchor=(1.05, 1), loc=2, borderaxespad=0.)\n",
    "\n",
    "ax.imshow(small_2001, cmap=DLCD_cmap, interpolation='nearest')\n"
   ]
  },
  {
   "cell_type": "code",
   "execution_count": null,
   "metadata": {
    "scrolled": true
   },
   "outputs": [],
   "source": []
  },
  {
   "cell_type": "code",
   "execution_count": null,
   "metadata": {},
   "outputs": [],
   "source": [
    "\n",
    "fig, ax = plt.subplots(figsize=(20,20))\n",
    "plt.title('data but limited')\n",
    "ax.imshow(count_saltlake, cmap='terrain', interpolation='nearest')"
   ]
  },
  {
   "cell_type": "code",
   "execution_count": null,
   "metadata": {},
   "outputs": [],
   "source": [
    "howmuch_water = np.count_nonzero(data_darry2, axis=1)\n",
    "howmuch_water"
   ]
  },
  {
   "cell_type": "code",
   "execution_count": null,
   "metadata": {},
   "outputs": [],
   "source": [
    "count_saltlake"
   ]
  },
  {
   "cell_type": "code",
   "execution_count": null,
   "metadata": {},
   "outputs": [],
   "source": [
    "howmuch_saltlake = np.count_nonzero(count_saltlake, axis=1)\n",
    "howmuch_saltlake"
   ]
  },
  {
   "cell_type": "code",
   "execution_count": null,
   "metadata": {},
   "outputs": [],
   "source": [
    "{i: dtype for i, dtype in zip(old_dataset.indexes, old_dataset.dtypes)}"
   ]
  },
  {
   "cell_type": "code",
   "execution_count": null,
   "metadata": {},
   "outputs": [],
   "source": []
  }
 ],
 "metadata": {
  "kernelspec": {
   "display_name": "Python 3",
   "language": "python",
   "name": "python3"
  },
  "language_info": {
   "codemirror_mode": {
    "name": "ipython",
    "version": 3
   },
   "file_extension": ".py",
   "mimetype": "text/x-python",
   "name": "python",
   "nbconvert_exporter": "python",
   "pygments_lexer": "ipython3",
   "version": "3.6.7"
  }
 },
 "nbformat": 4,
 "nbformat_minor": 2
}
