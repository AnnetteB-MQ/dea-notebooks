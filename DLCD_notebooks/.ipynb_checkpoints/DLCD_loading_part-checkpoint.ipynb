{
 "cells": [
  {
   "cell_type": "code",
   "execution_count": 2,
   "metadata": {},
   "outputs": [],
   "source": [
    "#import modules\n",
    "import rasterio\n",
    "import os\n",
    "from matplotlib import pyplot as plt\n",
    "import xarray as xr"
   ]
  },
  {
   "cell_type": "code",
   "execution_count": 3,
   "metadata": {},
   "outputs": [],
   "source": [
    "import datacube\n",
    "from datacube.storage import masking\n",
    "from datacube import Datacube\n",
    "from datetime import datetime\n",
    "from skimage import exposure\n",
    "\n",
    "#from datacube_stats.statistics import GeoMedian\n",
    "import matplotlib as mpl\n",
    "from matplotlib import pyplot as plt\n",
    "import numpy as np\n",
    "import pandas as pd\n",
    "import xarray as xr\n",
    "import random\n",
    "\n",
    "#import datacube_stats\n",
    "\n",
    "# Replace '156' and 'cek156' with the path to your own home directory on the VDI\n",
    "#s2aws = Datacube(config='/home/547/ck9738/datacube-s2.conf')"
   ]
  },
  {
   "cell_type": "code",
   "execution_count": 4,
   "metadata": {},
   "outputs": [],
   "source": [
    "# set working folder\n",
    "os.chdir('/g/data/r78/ck9738')"
   ]
  },
  {
   "cell_type": "code",
   "execution_count": 5,
   "metadata": {},
   "outputs": [],
   "source": [
    "#define DLCD colour map\n",
    "\n",
    "DLCD_cmap = mpl.colors.ListedColormap([\n",
    "'xkcd:black',\n",
    "'xkcd:grey',\n",
    "'xkcd:black',\n",
    "'xkcd:medium blue',\n",
    "'xkcd:robin egg blue',\n",
    "'xkcd:plum',\n",
    "'xkcd:pink purple',\n",
    "'xkcd:raspberry',\n",
    "'xkcd:old pink',\n",
    "'xkcd:pale pink',\n",
    "'xkcd:warm pink',\n",
    "'xkcd:tealish',\n",
    "'xkcd:black',\n",
    "'xkcd:black',\n",
    "'xkcd:pumpkin orange',\n",
    "'xkcd:white',\n",
    "'xkcd:yellow',\n",
    "'xkcd:black',\n",
    "'xkcd:apricot',\n",
    "'xkcd:eggshell',\n",
    "'xkcd:black',\n",
    "'xkcd:black',\n",
    "'xkcd:black',\n",
    "'xkcd:black',\n",
    "'xkcd:umber',\n",
    "'xkcd:tan',\n",
    "'xkcd:black',\n",
    "'xkcd:black',\n",
    "'xkcd:black',\n",
    "'xkcd:black',\n",
    "'xkcd:black',\n",
    "'xkcd:deep green', \n",
    "'xkcd:medium green',\n",
    "'xkcd:light sage',\n",
    "'xkcd:slime green',\n",
    "'xkcd:light grey'])\n",
    "\n",
    "#cmap = mpl.colors.ListedColormap(['xkcd:pale peach', 'xkcd:plum purple', 'xkcd:black', 'xkcd:grey', 'xkcd:medium blue'])\n",
    "#cmap = mpl.colors.BoundaryNorm(vals, cmapo.N)                          \n"
   ]
  },
  {
   "cell_type": "code",
   "execution_count": 6,
   "metadata": {},
   "outputs": [],
   "source": [
    "#import datacube\n",
    "dc = datacube.Datacube()"
   ]
  },
  {
   "cell_type": "code",
   "execution_count": 7,
   "metadata": {},
   "outputs": [
    {
     "data": {
      "text/plain": [
       "<matplotlib.collections.QuadMesh at 0x7f8a43cdd3c8>"
      ]
     },
     "execution_count": 7,
     "metadata": {},
     "output_type": "execute_result"
    },
    {
     "data": {
      "image/png": "[encoded data removed]",
      "text/plain": [
       "<Figure size 432x288 with 2 Axes>"
      ]
     },
     "metadata": {
      "needs_background": "light"
     },
     "output_type": "display_data"
    }
   ],
   "source": [
    "dsm = dc.load(product='dsm1sv10', lon=(141.00, 142.00), lat=(-28.0, -30.0))\n",
    "\n",
    "dsm.elevation.plot()"
   ]
  },
  {
   "cell_type": "code",
   "execution_count": 8,
   "metadata": {},
   "outputs": [],
   "source": [
    "import xarray, rasterio, numpy as np\n",
    "def numpy_to_xarray(array, geobox, name=None):\n",
    "    \"\"\"Utility to convert ndarray to DataArray, using a datacube.model.GeoBox\"\"\"\n",
    "    coords=[xarray.Coordinate(x, geobox.coords[x].values, attrs=dict(units=geobox.coords[x].units)) \n",
    "            for x in geobox.dims]\n",
    "    return xarray.DataArray(array, coords=coords, attrs=dict(crs=geobox.crs), name=name)\n",
    "\n",
    "def geopandas_to_xarray(table, geobox, name=None):\n",
    "    \"\"\"Rasterise (with reprojection)\"\"\"\n",
    "    array = rasterio.features.rasterize(shapes=table.to_crs(geobox.crs._crs.ExportToProj4()).geometry,\n",
    "                                        out_shape=(geobox.height, geobox.width),\n",
    "                                        transform=geobox.affine)\n",
    "    return numpy_to_xarray(array, geobox, name)\n",
    "\n",
    "def rasterfile_to_xarray(file, geobox, name=None, nodata=True, num_bands=(1), X_band= 1):\n",
    "    \"\"\"Blit like\n",
    "    \"\"\"\n",
    "    with rasterio.open(file) as src:\n",
    "\n",
    "        assert src.indexes == num_bands # assume single band\n",
    "        band = rasterio.band(src, X_band) # do not attempt to read entire extent into memory\n",
    "        array = np.empty((geobox.height, geobox.width), dtype=band.dtype)\n",
    "        rasterio.warp.reproject(source=band,\n",
    "                                destination=array,\n",
    "                                dst_crs=geobox.crs.crs_str,\n",
    "                                dst_transform=geobox.affine,\n",
    "                                dst_nodata=nodata)\n",
    "    return numpy_to_xarray(array, geobox, name)\n",
    "\n",
    "def load_gfif_full(file_name, x=1):\n",
    "\n",
    "\n",
    "    dataset = rasterio.open(file_name) #open using Raterio\n",
    "    {i: dtype for i, dtype in zip(dataset.indexes, dataset.dtypes)}\n",
    "    data_array = dataset.read(x) #read selected band into np array\n",
    "    data_xr = xr.DataArray(data_array) #turn into Xr array for fuctionality #Now don't need xr yet\n",
    "    return(data_xr) #return np array into program "
   ]
  },
  {
   "cell_type": "code",
   "execution_count": 9,
   "metadata": {},
   "outputs": [
    {
     "data": {
      "text/plain": [
       "GeoBox(3601, 7201, Affine(0.00027777777777999627, 0.0, 140.99972222335023,\n",
       "       0.0, -0.0002777777777800002, -27.99972222244622), EPSG:4326)"
      ]
     },
     "execution_count": 9,
     "metadata": {},
     "output_type": "execute_result"
    }
   ],
   "source": [
    "dsm.geobox"
   ]
  },
  {
   "cell_type": "code",
   "execution_count": null,
   "metadata": {},
   "outputs": [
    {
     "name": "stderr",
     "output_type": "stream",
     "text": [
      "/g/data/v10/public/modules/dea-env/20190329/lib/python3.6/site-packages/ipykernel_launcher.py:5: FutureWarning: Coordinate has been deprecated. Use IndexVariable instead.\n",
      "  \"\"\"\n"
     ]
    }
   ],
   "source": [
    "old_DLCD_stack = {}\n",
    "band_list = (1, 2, 3, 4, 5, 6, 7, 8, 9, 10, 11, 12, 13, 14)\n",
    "for i in band_list:\n",
    "    dataset = rasterfile_to_xarray(\"old_DLCD/DLCDv2_Comp_old.tif\", dsm.geobox,\n",
    "                                   num_bands=(1, 2, 3, 4, 5, 6, 7, 8, 9, 10, 11, 12, 13, 14), X_band= i)\n",
    "    dataset.coords['year'] = i \n",
    "    name = 'band '+str(i)\n",
    "    \n",
    "    old_DLCD_stack[name] = dataset\n",
    "    \n",
    "old_DLCD_ord = xr.concat(old_DLCD_stack.values(), 'year')\n",
    "old_DLCD_ord = old_DLCD_ord.sortby('year')"
   ]
  },
  {
   "cell_type": "code",
   "execution_count": null,
   "metadata": {},
   "outputs": [],
   "source": [
    "new_DLCD_stack = {}\n",
    "band_list = (1, 2, 3, 4, 5, 6, 7, 8, 9, 10, 11, 12, 13, 14)\n",
    "for i in band_list:\n",
    "    dataset = rasterfile_to_xarray(\"new_DLCD/DLCDv2_2016_new.tif\", dsm.geobox,\n",
    "                                   num_bands=(1, 2, 3, 4, 5, 6, 7, 8, 9, 10, 11, 12, 13, 14, 15), X_band=i)\n",
    "    dataset.coords['year'] = i\n",
    "    name = 'band '+str(i)\n",
    "    \n",
    "    new_DLCD_stack[name] = dataset\n",
    "    \n",
    "new_DLCD_ord = xr.concat(new_DLCD_stack.values(), 'year')\n",
    "new_DLCD_ord = new_DLCD_ord.sortby('year')"
   ]
  },
  {
   "cell_type": "code",
   "execution_count": null,
   "metadata": {},
   "outputs": [],
   "source": [
    "values_please = np.unique(old_DLCD_ord)\n",
    "values_please"
   ]
  },
  {
   "cell_type": "code",
   "execution_count": null,
   "metadata": {},
   "outputs": [],
   "source": [
    "new_DLCD_ord.shape[1]"
   ]
  },
  {
   "cell_type": "code",
   "execution_count": null,
   "metadata": {},
   "outputs": [],
   "source": [
    "new_DLCD_2001 = new_DLCD_ord.isel(year = 0)\n"
   ]
  },
  {
   "cell_type": "code",
   "execution_count": null,
   "metadata": {},
   "outputs": [],
   "source": [
    "fig, ax = plt.subplots(figsize = (20,20))\n",
    "cax = ax.imshow(new_DLCD_2001, cmap = DLCD_cmap)\n",
    "cax.set_clim(0, 35)\n",
    "#plt.show()"
   ]
  },
  {
   "cell_type": "code",
   "execution_count": null,
   "metadata": {},
   "outputs": [],
   "source": [
    "new_DLCD_2001"
   ]
  },
  {
   "cell_type": "markdown",
   "metadata": {},
   "source": [
    "def count_overlap_array(old_np,A,new_np,B):\n",
    "    raw_np = np.ones_like(old_np) #generate a np with the same size as the dlcd but full of 1 values\n",
    "    raw_xr = xr.DataArray(raw_np) #turn to xarray for it's useful fuctionality\n",
    "    count_old = raw_xr.where(old_np==A) # make an xr where 1= presance of class A, 0= absence \n",
    "    count_new = count_old.where(new_np==B) # make an xr where 1= overlap of classes A&B\n",
    "    count_class = count_new.fillna(0) #replaces all the nan with 0\n",
    "    howmuch_name = np.count_nonzero(count_class) #counts the number of non 0 in the xaray\n",
    "\n",
    "\n",
    "    return(count_class) #returns an array"
   ]
  },
  {
   "cell_type": "markdown",
   "metadata": {},
   "source": [
    "test_array= count_overlap_array(new_DLCD_2001,8,old_DLCD_2001,33)"
   ]
  },
  {
   "cell_type": "code",
   "execution_count": null,
   "metadata": {},
   "outputs": [],
   "source": []
  },
  {
   "cell_type": "code",
   "execution_count": null,
   "metadata": {},
   "outputs": [],
   "source": []
  },
  {
   "cell_type": "code",
   "execution_count": null,
   "metadata": {},
   "outputs": [],
   "source": [
    "rand_point_list = []\n",
    "\n",
    "rise=new_DLCD_ord.shape[1]-1\n",
    "run=new_DLCD_ord.shape[2]-1\n",
    "\n",
    "for x in range(1000):\n",
    "    tup=(random.randint(1,run),random.randint(1,rise))\n",
    "    \n",
    "    rand_point_list.append(tup)\n",
    "print(rand_point_list)"
   ]
  },
  {
   "cell_type": "code",
   "execution_count": null,
   "metadata": {},
   "outputs": [],
   "source": [
    "fig, ax = plt.subplots(figsize = (20,20))\n",
    "cax = ax.imshow(new_DLCD_2001, cmap = DLCD_cmap)\n",
    "plt.scatter(*zip(*rand_point_list),c='B', s=80)\n",
    "cax.set_clim(0, 35)\n",
    "#plt.show()"
   ]
  },
  {
   "cell_type": "code",
   "execution_count": null,
   "metadata": {
    "scrolled": true
   },
   "outputs": [],
   "source": [
    "#final_table =dict()\n",
    "\n",
    "New_DLCD_dit = dict()\n",
    "Old_DLCD_dit = dict()\n",
    "\n",
    "count = 0\n",
    "\n",
    "for x,y in rand_point_list:\n",
    "\n",
    "    \n",
    "    if x > 0:\n",
    "        #set up lat-long for ndwi/redlight rill to cycle through pot/landslide events lits\n",
    "        tup_x = int(x)\n",
    "        tup_y = int(y)\n",
    "        #set up stuff for file output nameing\n",
    "        x_string = str(tup_x)\n",
    "        y_string = str(tup_y)\n",
    "        count = count+1\n",
    "        #count_val = str(count)\n",
    "        #name_val = 'point # '+count_val\n",
    "        title_string = 'x= ' + x_string + ', y= '+ y_string\n",
    "\n",
    "        #prepare ndwi7 vis light record for single point over epoc\n",
    "        pd_new = new_DLCD_ord.isel(latitude=tup_y,longitude=tup_x)\n",
    "        pd_old = old_DLCD_ord.isel(latitude=tup_y,longitude=tup_x)\n",
    "        new_np = np.array(pd_new)\n",
    "        old_np = np.array(pd_old)\n",
    "\n",
    "        New_DLCD_dit[count] = new_np\n",
    "        Old_DLCD_dit[count] = old_np\n",
    "        \n",
    "        #pd_new.plot.line('r-^')\n",
    "        #pd_old.plot.line('b-^')\n",
    "        #plt.show()\n",
    "        #plt.close()\n",
    "        \n",
    "        "
   ]
  },
  {
   "cell_type": "code",
   "execution_count": null,
   "metadata": {},
   "outputs": [],
   "source": []
  },
  {
   "cell_type": "code",
   "execution_count": null,
   "metadata": {},
   "outputs": [],
   "source": []
  },
  {
   "cell_type": "code",
   "execution_count": null,
   "metadata": {},
   "outputs": [],
   "source": [
    "new_years=[2001, 2002 ,2003, 2004, 2005, 2006, 2007, 2008, 2009, 2010, 2011, 2012, 2013, 2014]\n",
    "old_years=[2001, 2002 ,2003, 2004, 2005, 2006, 2007, 2008, 2009, 2010, 2011, 2012, 2013, 2014]\n",
    "\n",
    "new_DLCD_panda = pd.DataFrame(New_DLCD_dit, index = new_years)\n",
    "old_DLCD_panda = pd.DataFrame(Old_DLCD_dit, index = old_years)\n",
    "new_DLCD_panda"
   ]
  },
  {
   "cell_type": "code",
   "execution_count": null,
   "metadata": {},
   "outputs": [],
   "source": [
    "old_DLCD_panda"
   ]
  },
  {
   "cell_type": "code",
   "execution_count": null,
   "metadata": {
    "scrolled": true
   },
   "outputs": [],
   "source": [
    "#new_DLCD_panda.to_csv('/g/data/r78/ck9738/DLCD_rand_samples/new_panda.csv')\n",
    "#old_DLCD_panda.to_csv('/g/data/r78/ck9738/DLCD_rand_samples/old_panda.csv')"
   ]
  },
  {
   "cell_type": "code",
   "execution_count": null,
   "metadata": {},
   "outputs": [],
   "source": []
  },
  {
   "cell_type": "code",
   "execution_count": null,
   "metadata": {},
   "outputs": [],
   "source": []
  }
 ],
 "metadata": {
  "kernelspec": {
   "display_name": "Python 3",
   "language": "python",
   "name": "python3"
  },
  "language_info": {
   "codemirror_mode": {
    "name": "ipython",
    "version": 3
   },
   "file_extension": ".py",
   "mimetype": "text/x-python",
   "name": "python",
   "nbconvert_exporter": "python",
   "pygments_lexer": "ipython3",
   "version": "3.6.7"
  }
 },
 "nbformat": 4,
 "nbformat_minor": 2
}
