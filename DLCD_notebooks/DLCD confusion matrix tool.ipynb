{
 "cells": [
  {
   "cell_type": "markdown",
   "metadata": {},
   "source": [
    "# DLCD itteration comparison tool "
   ]
  },
  {
   "cell_type": "markdown",
   "metadata": {},
   "source": [
    "This notebook is designed to detect change between different itterations of the DLCD, \n",
    "using as little compute power as posible.\n",
    "\n",
    "as a result, this notebook dosn't have any images, however they can be easily generated from the xarrays found within. To run this notebook you will need acess to the DLCD itterations in the form of geotifs. The out put is a confusion matrix in CSV file format, see the end of the notebook to set the location that the CSV file is saved. \n",
    "\n",
    "In the output CSV file the landcover types for the old itteration are along the X axis, (across the top of the file in the first row) the landcover types for the new itteration run down the Y axis (in the first collum of the file) ie:\n",
    "\n",
    "    old old old old old old old ...\n",
    "new 100   0   0   2  31   0  12 ...\n",
    "new   0 200   0   0   1   1   0 ...\n",
    "new   1   0 150   1   4   0   0 ...\n",
    "...\n",
    "\n",
    "\n"
   ]
  },
  {
   "cell_type": "code",
   "execution_count": 1,
   "metadata": {},
   "outputs": [
    {
     "data": {
      "text/plain": [
       "'\\nlandcover classification legend\\n\\nnumber \\tlandcover type \\n0\\tno data\\n1\\tExtraction Sites\\n3\\tInland Waterbodies\\n4\\tSalt Lakes\\n5\\tIrrigated Cropping\\n6\\tIrrigated Pasture\\n7\\tIrrigated Sugar\\n8\\tRainfed Cropping\\n9\\tRainfed Pasutre\\n10\\tRainfed Sugar\\n11\\tWetlands\\n14\\tTussock Grasses - Closed\\n15\\tAlpine Grasses - Open\\n16\\tHummock Grasses - Open\\n18\\tTussock Grasses - Open\\n19\\tShrubs and Grasses - Sparse-Scattered\\n24\\tShrubs - Closed\\n25\\tShrubs - Open\\n31\\tTrees - Closed\\n32\\tTrees - Open\\n33\\tTrees - Scattered\\n34\\tTrees - Sparse\\n35\\tBuilt up area '"
      ]
     },
     "execution_count": 1,
     "metadata": {},
     "output_type": "execute_result"
    }
   ],
   "source": [
    "'''\n",
    "landcover classification legend\n",
    "\n",
    "number \tlandcover type \n",
    "0\tno data\n",
    "1\tExtraction Sites\n",
    "3\tInland Waterbodies\n",
    "4\tSalt Lakes\n",
    "5\tIrrigated Cropping\n",
    "6\tIrrigated Pasture\n",
    "7\tIrrigated Sugar\n",
    "8\tRainfed Cropping\n",
    "9\tRainfed Pasutre\n",
    "10\tRainfed Sugar\n",
    "11\tWetlands\n",
    "14\tTussock Grasses - Closed\n",
    "15\tAlpine Grasses - Open\n",
    "16\tHummock Grasses - Open\n",
    "18\tTussock Grasses - Open\n",
    "19\tShrubs and Grasses - Sparse-Scattered\n",
    "24\tShrubs - Closed\n",
    "25\tShrubs - Open\n",
    "31\tTrees - Closed\n",
    "32\tTrees - Open\n",
    "33\tTrees - Scattered\n",
    "34\tTrees - Sparse\n",
    "35\tBuilt up area '''\n"
   ]
  },
  {
   "cell_type": "code",
   "execution_count": 2,
   "metadata": {},
   "outputs": [],
   "source": [
    "#load requiered modules \n",
    "import numpy as np\n",
    "import rasterio\n",
    "#from matplotlib import pyplot as plt #don't need unless want to plot\n",
    "import xarray as xr\n",
    "import pandas as pd"
   ]
  },
  {
   "cell_type": "code",
   "execution_count": 3,
   "metadata": {},
   "outputs": [],
   "source": [
    "#load in geotifs using rasterio, trun into an xarray :\n",
    "#enter filename as a string, include subfolders!!\n",
    "#previous_version DLCD found in old_DLCD, new in new_DLCD.\n",
    "\n",
    "#use this command to print a list of all file in respective folder : \n",
    "\n",
    "def load_gfif_full(file_name, x):\n",
    "    #file_string = 'old_DLCD/'+file_name+'.tif'\n",
    "\n",
    "    dataset = rasterio.open(file_name) #open using Raterio\n",
    "    {i: dtype for i, dtype in zip(dataset.indexes, dataset.dtypes)}\n",
    "    data_array = dataset.read(x) #read selected band into np array\n",
    "    data_xr = xr.DataArray(data_array) #turn into Xr array for fuctionality #Now don't need xr yet\n",
    "    return(data_xr) #return np array into program \n",
    "    \n",
    "\n",
    "\n",
    "old_version = load_gfif('old_DLCD/DLCDv2_2002_20031.tif',1)#for old dlcd files all only have ONE band (are single year)\n",
    "\n",
    "new_version = load_gfif('new_DLCD/DLCDv2_2016_new.tif',2)#for new DLCD band number corrosponds to year in following table"
   ]
  },
  {
   "cell_type": "markdown",
   "metadata": {},
   "source": [
    "band number  year:\n",
    "\n",
    "1   = 2001-2002\n",
    "\n",
    "2   = 2002-2003\n",
    "\n",
    "3   = 2003-2004\n",
    "\n",
    "ect...\n",
    "\n",
    "15  = 2015-2016\n"
   ]
  },
  {
   "cell_type": "code",
   "execution_count": 4,
   "metadata": {},
   "outputs": [],
   "source": [
    "#this is potential usefull in the future, but not needed here\n",
    "'''\n",
    "# define function to return the number of pixles occupied by the selected landcover type. \n",
    "\n",
    "def count_type(in_xr, X):\n",
    "    raw_np = ones_like(old_np)\n",
    "    raw_xr = xr.DataArray(raw_np)\n",
    "    count_name = raw_xr.where(in_xr==X) #makes a xarray with just the selected class an nan values\n",
    "    count_name = count_name.fillna(0) #replaces all the nan with 0\n",
    "    howmuch_name = np.count_nonzero(count_name) #counts the number of non 0 in the xaray\n",
    "    return(howmuch_name) #returns an int which is the number of pixles that exist of the specified LC class \n",
    "    '''"
   ]
  },
  {
   "cell_type": "code",
   "execution_count": 5,
   "metadata": {},
   "outputs": [],
   "source": [
    "# define function to return the number of pixles which are class A in old and class B in new: \n",
    "\n",
    "def count_overlap(old_np,new_np,A,B):\n",
    "    raw_np = np.ones_like(old_np) #generate a np with the same size as the dlcd but full of 1 values\n",
    "    raw_xr = xr.DataArray(raw_np) #turn to xarray for it's useful fuctionality\n",
    "    count_old = raw_xr.where(old_np==A) # make an xr where 1= presance of class A, 0= absence \n",
    "    count_new = count_old.where(new_np==B) # make an xr where 1= overlap of classes A&B\n",
    "    count_class = count_new.fillna(0) #replaces all the nan with 0\n",
    "    howmuch_name = np.count_nonzero(count_class) #counts the number of non 0 in the xaray\n",
    "\n",
    "\n",
    "    return(howmuch_name) #returns an int which is the number of pixles that are A in old and B in new "
   ]
  },
  {
   "cell_type": "code",
   "execution_count": null,
   "metadata": {},
   "outputs": [],
   "source": []
  },
  {
   "cell_type": "code",
   "execution_count": 6,
   "metadata": {},
   "outputs": [
    {
     "data": {
      "text/plain": [
       "'\\n7,\\n8,\\n9,\\n10,\\n11,\\n14,\\n15,\\n16,\\n18,\\n19,\\n22,    \\n24,\\n25,\\n31,\\n32,\\n33,\\n34,\\n35\\n]'"
      ]
     },
     "execution_count": 6,
     "metadata": {},
     "output_type": "execute_result"
    }
   ],
   "source": [
    "#create a list of class values (1-35) to compair in old v new. \n",
    "\n",
    "class_values = [\n",
    "1,\n",
    "3,\n",
    "4,\n",
    "5,\n",
    "6,\n",
    "7,\n",
    "8,\n",
    "9,\n",
    "10,\n",
    "11,\n",
    "14,\n",
    "15,\n",
    "16,\n",
    "18,\n",
    "19,    \n",
    "24,\n",
    "25,\n",
    "31,\n",
    "32,\n",
    "33,\n",
    "34,\n",
    "35]"
   ]
  },
  {
   "cell_type": "code",
   "execution_count": 7,
   "metadata": {
    "scrolled": true
   },
   "outputs": [],
   "source": [
    "#define a dictionary to enter all of the comparison scores in. this will become a dict or nested dicts, \n",
    "#the structure will be like this:\n",
    "#{class 1: {class 1 : 44765, class 3: 0, class 4: 0, class 5: 0, class 6: 0, ...ect},\n",
    "#class 3: {class 1: 0, class 3: 426732, class 4: 1771, class 5: 0, class 6: 0, ...ect},\n",
    "#class 4: {class 1: 0, class 3: 961, class 4: 1450161, class 5: 0, class 6: 0, ...ect},\n",
    "#ect...\n",
    "#where each sub-dict records overlap values of a single class in the old DLCD against each class in the new DLCD\n",
    "\n",
    "matrix_d = dict()\n",
    "\n",
    "#create loop to populate matrix dict\n",
    "for i in class_values:\n",
    "    i_lable = int(i) #class names have to be integer so pandas will sort into numerical order\n",
    "    d = dict() #mini dict to be nested in larger\n",
    "    for x in class_values:\n",
    "        x_lable =int(x)\n",
    "        change = count_overlap(old_version,new_version,i,x) #use fuction defined above\n",
    "        d[x_lable] = change\n",
    "        #print(i,x,change)\n",
    "    matrix_d[i_lable] = d #add nested dicts to master dict\n",
    "    #print('added')\n",
    "\n",
    "matrix_dataframe = pd.DataFrame(matrix_d) #turn large dict to pandas dataframe "
   ]
  },
  {
   "cell_type": "code",
   "execution_count": 8,
   "metadata": {
    "scrolled": false
   },
   "outputs": [
    {
     "data": {
      "text/plain": [
       "{1: {1: 44765, 3: 0, 4: 0, 5: 0, 6: 0},\n",
       " 3: {1: 0, 3: 426732, 4: 1771, 5: 0, 6: 0},\n",
       " 4: {1: 0, 3: 961, 4: 1450161, 5: 0, 6: 0},\n",
       " 5: {1: 0, 3: 0, 4: 0, 5: 308603, 6: 79},\n",
       " 6: {1: 0, 3: 0, 4: 0, 5: 74, 6: 42964}}"
      ]
     },
     "execution_count": 8,
     "metadata": {},
     "output_type": "execute_result"
    }
   ],
   "source": [
    "#this dataframe will become the CSV file.\n",
    "\n",
    "matrix_dataframe"
   ]
  },
  {
   "cell_type": "code",
   "execution_count": 9,
   "metadata": {
    "scrolled": false
   },
   "outputs": [],
   "source": []
  },
  {
   "cell_type": "code",
   "execution_count": 10,
   "metadata": {},
   "outputs": [],
   "source": [
    "matrix_dataframe.to_csv('Matrixes/confustion_matrix_for_2002.csv')#save the panda dataframe to a CSV file"
   ]
  },
  {
   "cell_type": "code",
   "execution_count": 11,
   "metadata": {},
   "outputs": [],
   "source": []
  },
  {
   "cell_type": "code",
   "execution_count": 12,
   "metadata": {},
   "outputs": [],
   "source": []
  },
  {
   "cell_type": "code",
   "execution_count": 13,
   "metadata": {},
   "outputs": [],
   "source": []
  },
  {
   "cell_type": "code",
   "execution_count": null,
   "metadata": {},
   "outputs": [],
   "source": []
  }
 ],
 "metadata": {
  "kernelspec": {
   "display_name": "Python 3",
   "language": "python",
   "name": "python3"
  },
  "language_info": {
   "codemirror_mode": {
    "name": "ipython",
    "version": 3
   },
   "file_extension": ".py",
   "mimetype": "text/x-python",
   "name": "python",
   "nbconvert_exporter": "python",
   "pygments_lexer": "ipython3",
   "version": "3.6.5"
  }
 },
 "nbformat": 4,
 "nbformat_minor": 2
}
