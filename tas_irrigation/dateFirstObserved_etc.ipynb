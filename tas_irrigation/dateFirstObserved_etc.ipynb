{
 "cells": [
  {
   "cell_type": "markdown",
   "metadata": {},
   "source": [
    "## Calculating the date first observed and frequency of irrigated cropping\n",
    "\n",
    "Script is divided into two sections:\n",
    "\n",
    "1. The first part creates a large rasterstack of all the irrigated area files and exports it as netcdf.\n",
    "2. The rasterstack is then loaded as an xarray object and per-pixel frequency and date first observed is calculated."
   ]
  },
  {
   "cell_type": "code",
   "execution_count": 4,
   "metadata": {},
   "outputs": [],
   "source": [
    "import sys\n",
    "import os\n",
    "import pandas as pd\n",
    "import matplotlib.pyplot as plt\n",
    "import fiona\n",
    "import xarray as xr\n",
    "import pandas as pd\n",
    "import numpy as np\n",
    "import matplotlib.pyplot as plt\n",
    "from osgeo import gdal, ogr\n",
    "sys.path.append('src/')\n",
    "import SpatialTools"
   ]
  },
  {
   "cell_type": "markdown",
   "metadata": {},
   "source": [
    "### User Inputs"
   ]
  },
  {
   "cell_type": "code",
   "execution_count": 8,
   "metadata": {},
   "outputs": [],
   "source": [
    "directory = \"results/NE/\"\n",
    "suffix = \"_Irrigated_LS_masked\"\n",
    "prefix = \"Tasmania_Summer\"\n",
    "results = \"results/frequency_etal_NE/\""
   ]
  },
  {
   "cell_type": "markdown",
   "metadata": {},
   "source": [
    "### Part 1: Create rasterstack of irrigation \n"
   ]
  },
  {
   "cell_type": "code",
   "execution_count": 23,
   "metadata": {},
   "outputs": [
    {
     "name": "stdout",
     "output_type": "stream",
     "text": [
      " working on year: 2018_19"
     ]
    }
   ],
   "source": [
    "#list of years to help for-loop iterate through folders\n",
    "x = range(2000,2019,1)\n",
    "years = []\n",
    "for i in x:\n",
    "    nextyear = str(i + 1)[2:]\n",
    "    y = str(i) + \"_\" + nextyear\n",
    "    years.append(str(y))\n",
    "# removing years that didn't work\n",
    "years =  [e for e in years if e not in ('2011_12', '2012_13')]\n",
    "years.sort()\n",
    "\n",
    "#list of folders to help with loop\n",
    "folders = os.listdir(directory)\n",
    "folders.sort()\n",
    "\n",
    "# Convert our shapefiles into tiffs, add them to an xarray and \n",
    "# then export as netcdf\n",
    "def convertIrrShpToTiff(shp, year):  \n",
    "    #open a tif and get transform info\n",
    "    tif = shp[:-23]+\"multithreshold_65Thres\"+suffix[10:]+\".tif\"\n",
    "    ds = xr.open_rasterio(tif).squeeze()\n",
    "    transform, proj = SpatialTools.geotransform(ds, (ds.x, ds.y), epsg=3577)\n",
    "    rows,cols = ds.shape\n",
    "    #turn vector in numpy array\n",
    "    shp_arr = SpatialTools.rasterize_vector(shp, cols=cols, rows=rows, geo_transform=transform, projection=proj)\n",
    "    #convert numpy array inot xarray\n",
    "    shp_xr = xr.DataArray(shp_arr, coords = [ds.y, ds.x], dims = ['y', 'x'])\n",
    "    #append xarray to list\n",
    "    da_list.append(shp_xr)\n",
    "\n",
    "da_list = []\n",
    "for year, folder in zip(years, folders): \n",
    "    print(\"\\r\", \"working on year: \" + year, end = '')\n",
    "    convertIrrShpToTiff(directory+folder+\"/\"+prefix+ year + suffix+\".shp\", year)\n",
    "\n",
    "#generate date ranges to use as cooridnates in xrray dataset\n",
    "dates = pd.date_range(start='1/1/2000', end='1/01/2019', freq='Y')\n",
    "dates = dates.drop([pd.Timestamp('2011-12-31'), pd.Timestamp('2012-12-31')])\n",
    "#concatenate all xarrays in list to a single multi-dim xarray with time ('dates') as coords.\n",
    "da = xr.concat(da_list, dim=dates).rename({'concat_dim':'time'}).rename('Irrigated_Area')\n",
    "#convert to dataset\n",
    "ds = da.to_dataset()\n",
    "#export netcdf\n",
    "ds.to_netcdf(results + \"annual_irrigation.nc\")"
   ]
  },
  {
   "cell_type": "markdown",
   "metadata": {},
   "source": [
    "### Part 2: Calculate per pixel frequency et al.\n",
    "\n"
   ]
  },
  {
   "cell_type": "code",
   "execution_count": 29,
   "metadata": {},
   "outputs": [],
   "source": [
    "#create parallized functions for calculting sum and nanargmax\n",
    "def count_irrigation(x, dim):\n",
    "    return xr.apply_ufunc(np.sum, x, dask='parallelized',\n",
    "                          input_core_dims=[[dim]],\n",
    "                          kwargs={'axis': -1})\n",
    "\n",
    "def IrrigationFirstOccurs(x, dim):\n",
    "    \"\"\"\n",
    "    Calculating the time (indice) at which the first occurence of \n",
    "    Irrigation occurs (per-pixel). This works because np.nanargmax:\n",
    "    \"In cases of multiple occurrences of the maximum values,\n",
    "    the indices corresponding to the first occurrence are returned.\"\n",
    "    \"\"\"\n",
    "    return xr.apply_ufunc(np.nanargmax, x, dask='parallelized',\n",
    "                          input_core_dims=[[dim]],\n",
    "                          kwargs={'axis': -1})\n"
   ]
  },
  {
   "cell_type": "code",
   "execution_count": 46,
   "metadata": {},
   "outputs": [],
   "source": [
    "count = count_irrigation(ds.Irrigated_Area, dim='time')\n",
    "frequency = count / len(ds.time)\n",
    "firstOccured = IrrigationFirstOccurs(ds.Irrigated_Area, dim='time')\n",
    "yearsIrrigated = len(ds.time)-firstOccured \n",
    "normalisedFrequency = count / yearsIrrigated\n",
    "\n",
    "#convert first observed to an array with the date (year)\n",
    "dates = [t for t in range(2000,2019,1)]\n",
    "dates =  [e for e in dates if e not in (2011, 2012)]\n",
    "dates = np.asarray(dates)\n",
    "\n",
    "def timey(ind, time):\n",
    "    func = time[ind]\n",
    "    return func\n",
    "\n",
    "firstOccuredDates = timey(firstOccured, dates)"
   ]
  },
  {
   "cell_type": "code",
   "execution_count": 49,
   "metadata": {},
   "outputs": [],
   "source": [
    "#mask out areas that return non-sensical values using the normalised frequency xarray\n",
    "firstOccuredDates = np.where(normalisedFrequency.values > 0, firstOccuredDates, np.nan)\n",
    "yearsIrrigated = yearsIrrigated.where(normalisedFrequency.values >0)"
   ]
  },
  {
   "cell_type": "code",
   "execution_count": 52,
   "metadata": {},
   "outputs": [],
   "source": [
    "#export geotiffs\n",
    "transform, projection = SpatialTools.geotransform(ds, (ds.x, ds.y), epsg=3577)\n",
    "\n",
    "SpatialTools.array_to_geotiff(results+'firstOccuredDates_alltime.tif',\n",
    "              firstOccuredDates, geo_transform = transform, \n",
    "              projection = projection, \n",
    "              nodata_val=0)\n"
   ]
  },
  {
   "cell_type": "code",
   "execution_count": null,
   "metadata": {},
   "outputs": [],
   "source": [
    "# SpatialTools.array_to_geotiff(results+'rawFrequency_alltime.tif',\n",
    "#               frequency.values, geo_transform = transform, \n",
    "#               projection = projection, \n",
    "#               nodata_val=0)\n",
    "\n",
    "# SpatialTools.array_to_geotiff(results+'count_alltime.tif',\n",
    "#               count.values, geo_transform = transform, \n",
    "#               projection = projection, \n",
    "#               nodata_val=0)\n",
    "\n",
    "# SpatialTools.array_to_geotiff(results+'firstOccured_alltime.tif',\n",
    "#               firstOccured.values, geo_transform = transform, \n",
    "#               projection = projection, \n",
    "#               nodata_val=0)\n",
    "\n",
    "# SpatialTools.array_to_geotiff(results+'yearsIrrigated_alltime.tif',\n",
    "#               yearsIrrigated.values, geo_transform = transform, \n",
    "#               projection = projection, \n",
    "#               nodata_val=0)\n",
    "\n",
    "# SpatialTools.array_to_geotiff(results+'normalisedFrequency_alltime.tif',\n",
    "#               normalisedFrequency.values, geo_transform = transform, \n",
    "#               projection = projection, \n",
    "#               nodata_val=0)"
   ]
  }
 ],
 "metadata": {
  "kernelspec": {
   "display_name": "Python 3",
   "language": "python",
   "name": "python3"
  },
  "language_info": {
   "codemirror_mode": {
    "name": "ipython",
    "version": 3
   },
   "file_extension": ".py",
   "mimetype": "text/x-python",
   "name": "python",
   "nbconvert_exporter": "python",
   "pygments_lexer": "ipython3",
   "version": "3.6.7"
  }
 },
 "nbformat": 4,
 "nbformat_minor": 4
}
