{
 "cells": [
  {
   "cell_type": "markdown",
   "metadata": {},
   "source": [
    "## Processing Summer irrigated area results\n",
    "\n",
    "This script will produce timeseries plots of annual summer irrigated area, and annual newly developed irrigated area.\n",
    "\n",
    "`Each sub-section has its own user inputs`"
   ]
  },
  {
   "cell_type": "code",
   "execution_count": null,
   "metadata": {
    "ExecuteTime": {
     "end_time": "2019-05-10T03:47:05.175970Z",
     "start_time": "2019-05-10T03:47:02.046178Z"
    }
   },
   "outputs": [],
   "source": [
    "import numpy as np\n",
    "import xarray as xr\n",
    "import geopandas as gpd\n",
    "import pandas as pd\n",
    "from osgeo import gdal, ogr\n",
    "import os\n",
    "import warnings\n",
    "import matplotlib.pyplot as plt\n",
    "import matplotlib.ticker as ticker\n",
    "from pathlib import Path\n",
    "from shapely.geometry import Polygon, MultiPolygon\n",
    "from multiprocessing import Pool\n",
    "import sys"
   ]
  },
  {
   "cell_type": "markdown",
   "metadata": {},
   "source": [
    "### Annual summer irrigated area plot"
   ]
  },
  {
   "cell_type": "code",
   "execution_count": null,
   "metadata": {
    "ExecuteTime": {
     "end_time": "2019-05-10T03:47:06.408560Z",
     "start_time": "2019-05-10T03:47:06.401314Z"
    }
   },
   "outputs": [],
   "source": [
    "#------------\n",
    "# User inputs\n",
    "#------------\n",
    "\n",
    "#path to the annual summer irrigated area shapefiles\n",
    "directory = \"results/NE/\"\n",
    "\n",
    "#suffix on the summer irriigated area shapefiles\n",
    "suffix = \"_Irrigated_LS_masked\"\n",
    "\n",
    "#name of area of interest\n",
    "AOI = \"Tasmania_Summer\"\n",
    "\n",
    "#results path for exported csv\n",
    "results_csv = \"results/plots/NE_annual_area.csv\""
   ]
  },
  {
   "cell_type": "code",
   "execution_count": null,
   "metadata": {
    "ExecuteTime": {
     "end_time": "2019-05-10T03:49:33.543082Z",
     "start_time": "2019-05-10T03:47:11.186019Z"
    }
   },
   "outputs": [],
   "source": [
    "#list of years to help for-loop iterate through folders\n",
    "x = range(2000,2019,1)\n",
    "years = []\n",
    "for i in x:\n",
    "    nextyear = str(i + 1)[2:]\n",
    "    y = str(i) + \"_\" + nextyear\n",
    "    years.append(str(y))\n",
    "# removing years that didn't work\n",
    "years =  [e for e in years if e not in ('2011_12', '2012_13')]\n",
    "years.sort()\n",
    "\n",
    "#setting up filepaths\n",
    "folders = os.listdir(directory)\n",
    "folders.sort()\n",
    "\n",
    "#little function to calculate area\n",
    "def getIrrigatedArea(shp):\n",
    "    irr = gpd.read_file(shp)\n",
    "    area_a.append(irr.area.sum() / 10000)\n",
    "\n",
    "#grab sum of irrigated area for each each and add to list\n",
    "area_a = []\n",
    "for year, folder in zip(years, folders): \n",
    "    #progress indicator\n",
    "    print(\"\\r\", \"working on year: \" + year, end = '')\n",
    "    getIrrigatedArea(directory+folder+\"/\"+AOI+ year + suffix+\".shp\")\n",
    "\n",
    "#convert years back into integers for plot\n",
    "years_dt = []\n",
    "for i in years:\n",
    "    x = int(i[:-3])\n",
    "    years_dt.append(x)\n",
    "    \n",
    "#create results to pandas dataframe and export csv\n",
    "df = pd.DataFrame.from_dict({'year':years_dt, 'irrigated area':area_a})#, '0.75+0.8':area_b, '0.70+0.75+0.8':area_c})\n",
    "df = df.set_index('year')\n",
    "df.to_csv(results_csv, header=True)"
   ]
  },
  {
   "cell_type": "code",
   "execution_count": null,
   "metadata": {},
   "outputs": [],
   "source": [
    "#plot annual irrigated area\n",
    "fontsize = 17\n",
    "title = \"Tasmania NE Annual Summer Irrigated Area\"\n",
    "figsave = \"results/plots/tasNE_annual_irrigated_area.pdf\"\n",
    "\n",
    "df = pd.read_csv(results_csv, index_col=0)\n",
    "ax = df.plot(colormap='jet', linestyle='--', marker='o', legend=False,figsize=(20,8))\n",
    "ax.xaxis.set_major_locator(ticker.MultipleLocator(2))\n",
    "ax.set_xlabel('Year (Summer Nov-Mar)', fontsize=fontsize)\n",
    "ax.set_ylabel('Area under Irrigation ($10^4$ Ha)', fontsize=fontsize)\n",
    "ax.set_ylim(bottom=-int((df['irrigated area'].max()*0.05)), top=(df['irrigated area'].max()+(df['irrigated area'].max()*0.1)))\n",
    "ax.ticklabel_format(axis='y', style='sci', scilimits=(0, 3), useMathText=True)\n",
    "plt.tick_params(labelsize=fontsize)\n",
    "ax.grid(True, linestyle='--', alpha=0.75, color=\"gray\")\n",
    "ax.axvspan(2010, 2013, alpha=0.4, color='grey')\n",
    "ax.set_facecolor('cornsilk')\n",
    "ax.set_title(title, fontsize=fontsize)\n",
    "#     plt.tight_layout()\n",
    "plt.savefig(figsave,\n",
    "           orientation='landscape')"
   ]
  },
  {
   "cell_type": "markdown",
   "metadata": {},
   "source": [
    "### Annual new irrigation regions"
   ]
  },
  {
   "cell_type": "code",
   "execution_count": null,
   "metadata": {},
   "outputs": [],
   "source": [
    "#-----------\n",
    "#user inputs\n",
    "#-----------\n",
    "\n",
    "#where are the irrigated area shapefiles\n",
    "directory = \"results/NE/\"\n",
    "\n",
    "#name of area of interest\n",
    "AOI = \"Tasmania_Summer\"\n",
    "\n",
    "#path to a folder to store interim results\n",
    "interim_results = \"results/interim_NE/\"\n",
    "\n",
    "#path to a folder to store difference shapefiles\n",
    "diff_results = \"results/difference_NE/\"\n",
    "\n",
    "#path and name of csv file for results\n",
    "newArea_csv = \"results/plots/tasNE_new_area_added_each_year.csv\"\n",
    "\n",
    "#suffix on the summer irriigated area shapefiles\n",
    "suffix = \"_Irrigated_LS_masked\"\n",
    "\n",
    "#catchment name\n",
    "catchment = 'NE'\n",
    "\n",
    "#first year in the IA timeseries\n",
    "firstyear = '2000'"
   ]
  },
  {
   "cell_type": "code",
   "execution_count": null,
   "metadata": {},
   "outputs": [],
   "source": [
    "# create list of time strings for function\n",
    "timerangelist = [str(t) for t in range(int(firstyear),2019,1)]\n",
    "timerangelist = [e for e in timerangelist if e not in ('2011', '2012')]"
   ]
  },
  {
   "cell_type": "code",
   "execution_count": null,
   "metadata": {},
   "outputs": [],
   "source": [
    "#Function to cumulatively union the IA shapefiles\n",
    "def cumulativelyUnion(timerangelist, shapes):\n",
    "    for t in timerangelist:\n",
    "        print(\"\\r\", \"working on \"+t, end = '')\n",
    "        #open the year and add it to a list\n",
    "        nextyear= str(int(t)+1)[2:]\n",
    "        irr = gpd.read_file(directory+AOI+t+\"_\"+nextyear+\"/\"+AOI+t+\"_\"+nextyear+suffix+\".shp\")\n",
    "        shapes.append(irr)\n",
    "        \n",
    "        print(\"..length of [shapes] = \"+str(len(shapes)))\n",
    "        \n",
    "        #now do the concatentation & dissolve\n",
    "        x = pd.concat(shapes)\n",
    "        x['DISS_ID'] = 1\n",
    "        x = x.dissolve(by='DISS_ID', aggfunc='sum')\n",
    "        x['year_range'] = firstyear+ \"_\" + t\n",
    "        x['catchment'] = catchment\n",
    "        #export to interim folder\n",
    "        x.to_file(interim_results+AOI+\"_\"+catchment+\"_\"+firstyear+\"_\"+t+\".shp\")\n",
    "\n",
    "#run the function\n",
    "shapes=[]\n",
    "cumulativelyUnion(timerangelist,shapes)"
   ]
  },
  {
   "cell_type": "code",
   "execution_count": null,
   "metadata": {},
   "outputs": [],
   "source": [
    "# series of functions to find the 'new' area each year\n",
    "def areaofFirstYear(area_list):\n",
    "    #open the first timerange\n",
    "    firstyeararea = gpd.read_file(interim_results+AOI+\"_\"+catchment+\"_\"+firstyear+\"_\"+firstyear+\".shp\")\n",
    "    area_list.append((firstyeararea.area.sum()/ 10000))\n",
    "        \n",
    "def getdifferenceAreas(yr1, yr2, area_list):\n",
    "    df1 = gpd.read_file(interim_results+AOI+\"_\"+catchment+\"_\"+firstyear+\"_\"+ yr1 + \".shp\")\n",
    "    df2 = gpd.read_file(interim_results+AOI+\"_\"+catchment+\"_\"+firstyear+\"_\"+ yr2 + \".shp\")\n",
    "    diff = gpd.overlay(df2, df1, how='difference')\n",
    "    diff = diff.explode() #need to explode to filter for small areas\n",
    "    diff['area_diff'] = diff['geometry'].area\n",
    "    toosmall = diff['area_diff'] >= 100000 #less than 10ha\n",
    "    diff = diff[toosmall]\n",
    "    print(\"...exporting \"+yr2+\"_minus_\"+yr1)\n",
    "    diff.to_file(diff_results+ AOI+\"_\"+catchment+\"_\"+yr2+\"_minus_\"+yr1+\".shp\")\n",
    "    area_list.append(float(diff.area.sum() / 10000))\n",
    "        \n",
    "def runpart2(area_list):\n",
    "    areaofFirstYear(area_list)\n",
    "    for i in range(1, len(timerangelist)):\n",
    "        print(\"\\r\", \"working on \"+ timerangelist[i], end = '')\n",
    "        getdifferenceAreas(timerangelist[i-1],timerangelist[i], area_list)\n",
    "\n",
    "#run the functions\n",
    "area_list = []\n",
    "runpart2(area_list)"
   ]
  },
  {
   "cell_type": "code",
   "execution_count": null,
   "metadata": {},
   "outputs": [],
   "source": [
    "# grab the 'difference' files, calculate area and export results as csv\n",
    "diff = []\n",
    "for file in os.listdir(diff_results):\n",
    "    if file.endswith(\".shp\"):\n",
    "        diff.append(os.path.join(diff_results, file))\n",
    "diff.sort()\n",
    "\n",
    "area_list = []\n",
    "for i in diff:\n",
    "    x = gpd.read_file(i)\n",
    "    area_list.append((x.area.sum()/ 10000))\n",
    "    \n",
    "df = pd.DataFrame(index=timerangelist[1:])\n",
    "df[AOI+\"_\"+catchment] = area_list\n",
    "df.to_csv(newArea_csv, header=True)"
   ]
  },
  {
   "cell_type": "markdown",
   "metadata": {},
   "source": [
    "### plotting new area added each year\n",
    "\n",
    "First 3 years are removed to account for paddock rotations"
   ]
  },
  {
   "cell_type": "code",
   "execution_count": null,
   "metadata": {},
   "outputs": [],
   "source": [
    "fontsize = 17\n",
    "title = \"Tasmania NE New Irrigated Areas\"\n",
    "figsave = \"results/plots/tasNE_newAreaAdded.pdf\"\n",
    "\n",
    "\n",
    "df = pd.read_csv(newArea_csv, index_col=0)\n",
    "df=df[2:]\n",
    "ax = df.plot(colormap='jet', linestyle='--', marker='o', legend=False,figsize=(20,8))\n",
    "# ax.xaxis.set_major_locator(ticker.MultipleLocator(5))\n",
    "ax.set_xlabel('Year Range', fontsize=fontsize)\n",
    "ax.set_ylabel('Irrigatable Area ($10^3$ Ha)', fontsize=fontsize)\n",
    "ax.ticklabel_format(axis='y', style='sci', scilimits=(0, 3), useMathText=True)\n",
    "# ax.set_ylim(bottom=int((df['NMDB'].max()*0.35)), top=(df['NMDB'].max()+(df['NMDB'].max()*0.05)))\n",
    "plt.tick_params(labelsize=fontsize)\n",
    "ax.grid(True, linestyle='--', alpha=0.75, color=\"gray\")\n",
    "ax.axvspan(2010, 2013, alpha=0.4, color='grey')\n",
    "ax.set_facecolor('cornsilk')\n",
    "ax.set_title(title, fontsize=fontsize)\n",
    "# plt.tight_layout()\n",
    "plt.savefig(figsave,\n",
    "           orientation='landscape')"
   ]
  },
  {
   "cell_type": "code",
   "execution_count": null,
   "metadata": {},
   "outputs": [],
   "source": []
  }
 ],
 "metadata": {
  "kernelspec": {
   "display_name": "Python 3",
   "language": "python",
   "name": "python3"
  },
  "language_info": {
   "codemirror_mode": {
    "name": "ipython",
    "version": 3
   },
   "file_extension": ".py",
   "mimetype": "text/x-python",
   "name": "python",
   "nbconvert_exporter": "python",
   "pygments_lexer": "ipython3",
   "version": "3.6.7"
  },
  "toc": {
   "base_numbering": 1,
   "nav_menu": {},
   "number_sections": true,
   "sideBar": true,
   "skip_h1_title": false,
   "title_cell": "Table of Contents",
   "title_sidebar": "Contents",
   "toc_cell": false,
   "toc_position": {
    "height": "calc(100% - 180px)",
    "left": "10px",
    "top": "150px",
    "width": "165px"
   },
   "toc_section_display": true,
   "toc_window_display": true
  }
 },
 "nbformat": 4,
 "nbformat_minor": 4
}
