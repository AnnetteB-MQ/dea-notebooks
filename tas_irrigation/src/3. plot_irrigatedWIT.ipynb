{
 "cells": [
  {
   "cell_type": "markdown",
   "metadata": {},
   "source": [
    "## 3. Plot the results of IrrigatedWIT\n",
    "\n",
    "Load the shapefile that's output from preprocess_irrigatedWIT.ipynb into a GIS and label the polygons by the 'uniqueID' column, this allows for searching for polygons of interest.\n",
    "Enter the name of a polygon of interest and a stack plot is produced. Set export_plot=True for the plots to be saved as .png files"
   ]
  },
  {
   "cell_type": "markdown",
   "metadata": {},
   "source": [
    "## User Inputs"
   ]
  },
  {
   "cell_type": "code",
   "execution_count": 1,
   "metadata": {},
   "outputs": [],
   "source": [
    "# Enter the Name of the polygon you want to check:\n",
    "# i.e., the 'UniqueID' column in the shapefile\n",
    "polyName = ''"
   ]
  },
  {
   "cell_type": "code",
   "execution_count": 33,
   "metadata": {},
   "outputs": [],
   "source": [
    "# Where are the .csv files stored?\n",
    "filepath = \"results/GWYDIR/2018/csvs/\"\n",
    "\n",
    "# do you want to export the plot?\n",
    "export_plot = False\n",
    "\n",
    "# If so, where?\n",
    "output_dir = \"results/GWYDIR/2018/plots/\""
   ]
  },
  {
   "cell_type": "markdown",
   "metadata": {},
   "source": [
    "### Run the cells below to produce a stack plot of the polygon"
   ]
  },
  {
   "cell_type": "code",
   "execution_count": 3,
   "metadata": {},
   "outputs": [],
   "source": [
    "import pandas as pd\n",
    "import seaborn as sns\n",
    "import matplotlib.pyplot as plt\n",
    "import warnings"
   ]
  },
  {
   "cell_type": "code",
   "execution_count": null,
   "metadata": {},
   "outputs": [],
   "source": [
    "#import the csv and prepare dataframe\n",
    "df = pd.read_csv(filepath + polyName + \".csv\")\n",
    "df['Datetime'] = pd.to_datetime(df.Datetime)\n",
    "df['Datetime'] = df.Datetime.dt.normalize()\n",
    "df = df.set_index('Datetime')"
   ]
  },
  {
   "cell_type": "code",
   "execution_count": null,
   "metadata": {},
   "outputs": [],
   "source": [
    "# generate plot\n",
    "warnings.filterwarnings(\"ignore\")\n",
    "#set up color palette\n",
    "pal = [sns.xkcd_rgb[\"cobalt blue\"],\n",
    "       sns.xkcd_rgb[\"neon blue\"],\n",
    "       sns.xkcd_rgb[\"grass\"],\n",
    "       sns.xkcd_rgb[\"beige\"],\n",
    "       sns.xkcd_rgb[\"brown\"]]       \n",
    "\n",
    "#make a stacked area plot\n",
    "plt.clf()\n",
    "fig= plt.figure(figsize = (22,6))\n",
    "plt.stackplot(df.index, \n",
    "              df.wofs_area_percent, \n",
    "              df.wet_percent, \n",
    "              df.green_veg_percent, \n",
    "              df.dry_veg_percent,\n",
    "              df.bare_soil_percent,\n",
    "              labels=['open water',\n",
    "                      'wet',\n",
    "                      'green veg',\n",
    "                      'dry veg',\n",
    "                      'bare soil',\n",
    "                     ], colors=pal, alpha = 0.6)\n",
    "\n",
    "#set axis limits to the min and max\n",
    "plt.axis(xmin = df.index[0], xmax = df.index[-1], ymin = 0, ymax = 100)\n",
    "\n",
    "#add a legend and a tight plot box\n",
    "plt.legend(loc='lower left', framealpha=0.6)\n",
    "plt.title('Fractional Cover, Wetness, and Water for '+polyName)\n",
    "plt.tight_layout()\n",
    "if export_plot:\n",
    "    #save the figure\n",
    "    plt.savefig(f'{output_dir}{polyName}.png')#, transparent=True)\n"
   ]
  },
  {
   "cell_type": "code",
   "execution_count": null,
   "metadata": {},
   "outputs": [],
   "source": []
  },
  {
   "cell_type": "markdown",
   "metadata": {},
   "source": [
    "### Multiproccesing to generate all plots at once (terria-cube workflow)"
   ]
  },
  {
   "cell_type": "code",
   "execution_count": 2,
   "metadata": {},
   "outputs": [],
   "source": [
    "import os\n",
    "from multiprocessing import Pool"
   ]
  },
  {
   "cell_type": "code",
   "execution_count": 34,
   "metadata": {},
   "outputs": [
    {
     "data": {
      "text/plain": [
       "'GWYDIR_2018_1.csv'"
      ]
     },
     "execution_count": 34,
     "metadata": {},
     "output_type": "execute_result"
    }
   ],
   "source": [
    "csvs = os.listdir(filepath)\n",
    "csvs.sort()\n",
    "csvs[1]"
   ]
  },
  {
   "cell_type": "code",
   "execution_count": 35,
   "metadata": {},
   "outputs": [],
   "source": [
    "def generate_plots(file):\n",
    "    #import the csv and prepare dataframe\n",
    "    df = pd.read_csv(filepath + file)\n",
    "    polyName = file[:-4]\n",
    "    df['Datetime'] = pd.to_datetime(df.Datetime)\n",
    "    df['Datetime'] = df.Datetime.dt.normalize()\n",
    "    df = df.set_index('Datetime')\n",
    "\n",
    "    # generate plot\n",
    "    warnings.filterwarnings(\"ignore\")\n",
    "    #set up color palette\n",
    "    pal = [sns.xkcd_rgb[\"cobalt blue\"],\n",
    "           sns.xkcd_rgb[\"neon blue\"],\n",
    "           sns.xkcd_rgb[\"grass\"],\n",
    "           sns.xkcd_rgb[\"beige\"],\n",
    "           sns.xkcd_rgb[\"brown\"]]       \n",
    "\n",
    "    #make a stacked area plot\n",
    "    plt.clf()\n",
    "    fig= plt.figure(figsize = (22,6))\n",
    "    plt.stackplot(df.index, \n",
    "                  df.wofs_area_percent, \n",
    "                  df.wet_percent, \n",
    "                  df.green_veg_percent, \n",
    "                  df.dry_veg_percent,\n",
    "                  df.bare_soil_percent,\n",
    "                  labels=['open water',\n",
    "                          'wet',\n",
    "                          'green veg',\n",
    "                          'dry veg',\n",
    "                          'bare soil',\n",
    "                         ], colors=pal, alpha = 0.6)\n",
    "\n",
    "    #set axis limits to the min and max\n",
    "    plt.axis(xmin = df.index[0], xmax = df.index[-1], ymin = 0, ymax = 100)\n",
    "\n",
    "    #add a legend and a tight plot box\n",
    "    plt.legend(loc='lower left', framealpha=0.6)\n",
    "    plt.title('Fractional Cover, Wetness, and Water for '+polyName)\n",
    "    plt.tight_layout()\n",
    "\n",
    "    #save the figure\n",
    "    plt.savefig(output_dir + file[:-4] + '.png')#, transparent=True)"
   ]
  },
  {
   "cell_type": "code",
   "execution_count": 37,
   "metadata": {},
   "outputs": [],
   "source": [
    "pool = Pool(6)    \n",
    "pool.map(generate_plots, csvs)"
   ]
  },
  {
   "cell_type": "code",
   "execution_count": null,
   "metadata": {},
   "outputs": [],
   "source": []
  }
 ],
 "metadata": {
  "kernelspec": {
   "display_name": "Python 3",
   "language": "python",
   "name": "python3"
  },
  "language_info": {
   "codemirror_mode": {
    "name": "ipython",
    "version": 3
   },
   "file_extension": ".py",
   "mimetype": "text/x-python",
   "name": "python",
   "nbconvert_exporter": "python",
   "pygments_lexer": "ipython3",
   "version": "3.6.7"
  }
 },
 "nbformat": 4,
 "nbformat_minor": 4
}
