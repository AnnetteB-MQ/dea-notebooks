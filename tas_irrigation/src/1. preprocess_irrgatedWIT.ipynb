{
 "cells": [
  {
   "cell_type": "markdown",
   "metadata": {},
   "source": [
    "## 1. Pre-processing\n",
    "\n",
    "This script ingests an 'irrigated_area' shapefile (AKA \"nmdb_Summer2013_14_Irrigated_OEHandLS_masked.shp\") from a given year and adds a uniqueID column to allow the 'irrigatedWIT.ipynb' script to run.\n",
    "\n",
    "It outputs a processed shapefile that's ready to be used by 'irrigatedWIT.ipynb'."
   ]
  },
  {
   "cell_type": "markdown",
   "metadata": {},
   "source": [
    "### User Inputs"
   ]
  },
  {
   "cell_type": "code",
   "execution_count": 9,
   "metadata": {},
   "outputs": [],
   "source": [
    "catchmentName = 'GWYDIR'\n",
    "year = \"2018\"\n",
    "nmdb_shp = \"data/SICA_nmdb/nmdb_Summer2018_19_Irrigated_OEHandLS_masked.shp\"\n",
    "catchment = 'data/nmdb_individual_catchments/GWYDIR RIVER.shp'"
   ]
  },
  {
   "cell_type": "markdown",
   "metadata": {},
   "source": [
    "Run the follwoing cells to process the shapefile"
   ]
  },
  {
   "cell_type": "code",
   "execution_count": 10,
   "metadata": {},
   "outputs": [],
   "source": [
    "import geopandas as gpd"
   ]
  },
  {
   "cell_type": "code",
   "execution_count": 11,
   "metadata": {},
   "outputs": [],
   "source": [
    "#import files and clip to catchment\n",
    "nmdb_irr = gpd.read_file(nmdb_shp)\n",
    "catch = gpd.read_file(catchment)\n",
    "subcath_irr = gpd.overlay(nmdb_irr, catch, how='intersection')"
   ]
  },
  {
   "cell_type": "code",
   "execution_count": 12,
   "metadata": {},
   "outputs": [
    {
     "data": {
      "text/plain": [
       "<matplotlib.axes._subplots.AxesSubplot at 0x7fb6b7bdbfd0>"
      ]
     },
     "execution_count": 12,
     "metadata": {},
     "output_type": "execute_result"
    },
    {
     "data": {
      "image/png": "[encoded data removed]",
      "text/plain": [
       "<Figure size 432x432 with 1 Axes>"
      ]
     },
     "metadata": {
      "needs_background": "light"
     },
     "output_type": "display_data"
    }
   ],
   "source": [
    "#plot to make sure the clip-to-catchment looks right\n",
    "subcath_irr.plot(figsize=(6,6))"
   ]
  },
  {
   "cell_type": "code",
   "execution_count": 13,
   "metadata": {},
   "outputs": [],
   "source": [
    "#add a unique ID\n",
    "subcath_irr['UniqueID'] = [catchmentName+\"_\"+year+\"_\"+str(i) for i in subcath_irr.index]"
   ]
  },
  {
   "cell_type": "code",
   "execution_count": 14,
   "metadata": {},
   "outputs": [
    {
     "data": {
      "text/html": [
       "<div>\n",
       "<style scoped>\n",
       "    .dataframe tbody tr th:only-of-type {\n",
       "        vertical-align: middle;\n",
       "    }\n",
       "\n",
       "    .dataframe tbody tr th {\n",
       "        vertical-align: top;\n",
       "    }\n",
       "\n",
       "    .dataframe thead th {\n",
       "        text-align: right;\n",
       "    }\n",
       "</style>\n",
       "<table border=\"1\" class=\"dataframe\">\n",
       "  <thead>\n",
       "    <tr style=\"text-align: right;\">\n",
       "      <th></th>\n",
       "      <th>DN</th>\n",
       "      <th>area</th>\n",
       "      <th>AREA</th>\n",
       "      <th>PERIMETER</th>\n",
       "      <th>AUS_</th>\n",
       "      <th>AUS_ID</th>\n",
       "      <th>F_CODE</th>\n",
       "      <th>BNAME</th>\n",
       "      <th>BNUM</th>\n",
       "      <th>RNAME</th>\n",
       "      <th>RNUM</th>\n",
       "      <th>DNAME</th>\n",
       "      <th>DNUM</th>\n",
       "      <th>CENTROID_Y</th>\n",
       "      <th>CENTROID_X</th>\n",
       "      <th>geometry</th>\n",
       "      <th>UniqueID</th>\n",
       "    </tr>\n",
       "  </thead>\n",
       "  <tbody>\n",
       "    <tr>\n",
       "      <th>79</th>\n",
       "      <td>80</td>\n",
       "      <td>1076250.0</td>\n",
       "      <td>2.481013</td>\n",
       "      <td>10.41124</td>\n",
       "      <td>1310</td>\n",
       "      <td>1019</td>\n",
       "      <td>dbasin_cent</td>\n",
       "      <td>GWYDIR RIVER</td>\n",
       "      <td>18</td>\n",
       "      <td>NAMOI-GWYDIR</td>\n",
       "      <td>I</td>\n",
       "      <td>MURRAY-DARLING</td>\n",
       "      <td>IV</td>\n",
       "      <td>-29.809893</td>\n",
       "      <td>150.104732</td>\n",
       "      <td>POLYGON ((1669475 -3386825, 1669525 -3386825, ...</td>\n",
       "      <td>GWYDIR_2018_79</td>\n",
       "    </tr>\n",
       "    <tr>\n",
       "      <th>80</th>\n",
       "      <td>80</td>\n",
       "      <td>510625.0</td>\n",
       "      <td>2.481013</td>\n",
       "      <td>10.41124</td>\n",
       "      <td>1310</td>\n",
       "      <td>1019</td>\n",
       "      <td>dbasin_cent</td>\n",
       "      <td>GWYDIR RIVER</td>\n",
       "      <td>18</td>\n",
       "      <td>NAMOI-GWYDIR</td>\n",
       "      <td>I</td>\n",
       "      <td>MURRAY-DARLING</td>\n",
       "      <td>IV</td>\n",
       "      <td>-29.809893</td>\n",
       "      <td>150.104732</td>\n",
       "      <td>POLYGON ((1660800 -3388950, 1660825 -3388950, ...</td>\n",
       "      <td>GWYDIR_2018_80</td>\n",
       "    </tr>\n",
       "    <tr>\n",
       "      <th>81</th>\n",
       "      <td>80</td>\n",
       "      <td>5392500.0</td>\n",
       "      <td>2.481013</td>\n",
       "      <td>10.41124</td>\n",
       "      <td>1310</td>\n",
       "      <td>1019</td>\n",
       "      <td>dbasin_cent</td>\n",
       "      <td>GWYDIR RIVER</td>\n",
       "      <td>18</td>\n",
       "      <td>NAMOI-GWYDIR</td>\n",
       "      <td>I</td>\n",
       "      <td>MURRAY-DARLING</td>\n",
       "      <td>IV</td>\n",
       "      <td>-29.809893</td>\n",
       "      <td>150.104732</td>\n",
       "      <td>POLYGON ((1668150 -3387550, 1668275 -3387550, ...</td>\n",
       "      <td>GWYDIR_2018_81</td>\n",
       "    </tr>\n",
       "    <tr>\n",
       "      <th>82</th>\n",
       "      <td>80</td>\n",
       "      <td>3897500.0</td>\n",
       "      <td>2.481013</td>\n",
       "      <td>10.41124</td>\n",
       "      <td>1310</td>\n",
       "      <td>1019</td>\n",
       "      <td>dbasin_cent</td>\n",
       "      <td>GWYDIR RIVER</td>\n",
       "      <td>18</td>\n",
       "      <td>NAMOI-GWYDIR</td>\n",
       "      <td>I</td>\n",
       "      <td>MURRAY-DARLING</td>\n",
       "      <td>IV</td>\n",
       "      <td>-29.809893</td>\n",
       "      <td>150.104732</td>\n",
       "      <td>POLYGON ((1663650 -3388400, 1663725 -3388400, ...</td>\n",
       "      <td>GWYDIR_2018_82</td>\n",
       "    </tr>\n",
       "    <tr>\n",
       "      <th>83</th>\n",
       "      <td>80</td>\n",
       "      <td>2318750.0</td>\n",
       "      <td>2.481013</td>\n",
       "      <td>10.41124</td>\n",
       "      <td>1310</td>\n",
       "      <td>1019</td>\n",
       "      <td>dbasin_cent</td>\n",
       "      <td>GWYDIR RIVER</td>\n",
       "      <td>18</td>\n",
       "      <td>NAMOI-GWYDIR</td>\n",
       "      <td>I</td>\n",
       "      <td>MURRAY-DARLING</td>\n",
       "      <td>IV</td>\n",
       "      <td>-29.809893</td>\n",
       "      <td>150.104732</td>\n",
       "      <td>POLYGON ((1671200 -3393425, 1671275 -3393425, ...</td>\n",
       "      <td>GWYDIR_2018_83</td>\n",
       "    </tr>\n",
       "  </tbody>\n",
       "</table>\n",
       "</div>"
      ],
      "text/plain": [
       "    DN       area      AREA  PERIMETER  AUS_  AUS_ID       F_CODE  \\\n",
       "79  80  1076250.0  2.481013   10.41124  1310    1019  dbasin_cent   \n",
       "80  80   510625.0  2.481013   10.41124  1310    1019  dbasin_cent   \n",
       "81  80  5392500.0  2.481013   10.41124  1310    1019  dbasin_cent   \n",
       "82  80  3897500.0  2.481013   10.41124  1310    1019  dbasin_cent   \n",
       "83  80  2318750.0  2.481013   10.41124  1310    1019  dbasin_cent   \n",
       "\n",
       "           BNAME BNUM         RNAME RNUM           DNAME DNUM  CENTROID_Y  \\\n",
       "79  GWYDIR RIVER   18  NAMOI-GWYDIR    I  MURRAY-DARLING   IV  -29.809893   \n",
       "80  GWYDIR RIVER   18  NAMOI-GWYDIR    I  MURRAY-DARLING   IV  -29.809893   \n",
       "81  GWYDIR RIVER   18  NAMOI-GWYDIR    I  MURRAY-DARLING   IV  -29.809893   \n",
       "82  GWYDIR RIVER   18  NAMOI-GWYDIR    I  MURRAY-DARLING   IV  -29.809893   \n",
       "83  GWYDIR RIVER   18  NAMOI-GWYDIR    I  MURRAY-DARLING   IV  -29.809893   \n",
       "\n",
       "    CENTROID_X                                           geometry  \\\n",
       "79  150.104732  POLYGON ((1669475 -3386825, 1669525 -3386825, ...   \n",
       "80  150.104732  POLYGON ((1660800 -3388950, 1660825 -3388950, ...   \n",
       "81  150.104732  POLYGON ((1668150 -3387550, 1668275 -3387550, ...   \n",
       "82  150.104732  POLYGON ((1663650 -3388400, 1663725 -3388400, ...   \n",
       "83  150.104732  POLYGON ((1671200 -3393425, 1671275 -3393425, ...   \n",
       "\n",
       "          UniqueID  \n",
       "79  GWYDIR_2018_79  \n",
       "80  GWYDIR_2018_80  \n",
       "81  GWYDIR_2018_81  \n",
       "82  GWYDIR_2018_82  \n",
       "83  GWYDIR_2018_83  "
      ]
     },
     "execution_count": 14,
     "metadata": {},
     "output_type": "execute_result"
    }
   ],
   "source": [
    "#check the id looks right\n",
    "subcath_irr.tail()"
   ]
  },
  {
   "cell_type": "code",
   "execution_count": 15,
   "metadata": {},
   "outputs": [],
   "source": [
    "#export to file for use in WIT analysis\n",
    "subcath_irr.to_file('data/shapes_WIT_ready/'+catchmentName+\"_\"+year+\"_WIT.shp\")"
   ]
  },
  {
   "cell_type": "code",
   "execution_count": null,
   "metadata": {},
   "outputs": [],
   "source": []
  }
 ],
 "metadata": {
  "kernelspec": {
   "display_name": "Python 3",
   "language": "python",
   "name": "python3"
  },
  "language_info": {
   "codemirror_mode": {
    "name": "ipython",
    "version": 3
   },
   "file_extension": ".py",
   "mimetype": "text/x-python",
   "name": "python",
   "nbconvert_exporter": "python",
   "pygments_lexer": "ipython3",
   "version": "3.6.7"
  }
 },
 "nbformat": 4,
 "nbformat_minor": 4
}
