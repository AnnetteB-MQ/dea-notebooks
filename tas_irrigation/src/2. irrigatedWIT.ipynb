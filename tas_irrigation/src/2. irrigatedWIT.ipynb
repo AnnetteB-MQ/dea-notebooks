{
 "cells": [
  {
   "cell_type": "markdown",
   "metadata": {},
   "source": [
    "## 2. Irrigation Insight Tool\n",
    "\n",
    "This script uses the wetlands insight tool to query the polygons from the irrigated area analysis. The input is the processed shapefile from running 'preprocess_irrigatedWIT.ipynb', the output is a .csv file for every unique polygon in the input shapefile.\n",
    "\n",
    "Make sure to create the output directory before running the script. The code is multiprocessed."
   ]
  },
  {
   "cell_type": "markdown",
   "metadata": {},
   "source": [
    "### User Inputs"
   ]
  },
  {
   "cell_type": "code",
   "execution_count": 7,
   "metadata": {},
   "outputs": [],
   "source": [
    "shp_path = 'data/shapes_WIT_ready/GWYDIR_2018_WIT.shp'\n",
    "year = '2018'\n",
    "ncpus = 6\n",
    "Output_dir = 'results/GWYDIR/2018/csvs/'\n",
    "columnName= 'UniqueID'"
   ]
  },
  {
   "cell_type": "markdown",
   "metadata": {},
   "source": [
    "#### Run the cells below to generate a csv for each polygon in the shapefile"
   ]
  },
  {
   "cell_type": "code",
   "execution_count": 8,
   "metadata": {},
   "outputs": [],
   "source": [
    "from datacube.utils import geometry\n",
    "import fiona\n",
    "from multiprocessing import Pool\n",
    "import warnings\n",
    "import sys\n",
    "\n",
    "sys.path.append('src/')\n",
    "from WITdrill import WITdrill\n",
    "\n",
    "warnings.filterwarnings(\"ignore\")"
   ]
  },
  {
   "cell_type": "code",
   "execution_count": 9,
   "metadata": {},
   "outputs": [],
   "source": [
    "#get time period for function\n",
    "start = year+'-06-01'\n",
    "end = str(int(year)+1)+'-06-01'\n",
    "time_period = (start, end)"
   ]
  },
  {
   "cell_type": "code",
   "execution_count": 10,
   "metadata": {},
   "outputs": [],
   "source": [
    "with fiona.open(shp_path) as input:\n",
    "    crs = geometry.CRS(input.crs_wkt)"
   ]
  },
  {
   "cell_type": "code",
   "execution_count": 11,
   "metadata": {},
   "outputs": [],
   "source": [
    "p = Pool(ncpus)\n",
    "for feat in fiona.open(shp_path):\n",
    "#     WITdrill(feat,crs, time_period, Output_dir, columnName) # single-cpu\n",
    "    p.apply_async(WITdrill, [feat, crs, time_period, Output_dir, columnName]) # MULTIPROCESS"
   ]
  },
  {
   "cell_type": "code",
   "execution_count": null,
   "metadata": {},
   "outputs": [],
   "source": []
  },
  {
   "cell_type": "markdown",
   "metadata": {},
   "source": [
    "### Converting shapes to geojson for uploading on Terria-Cube"
   ]
  },
  {
   "cell_type": "code",
   "execution_count": 13,
   "metadata": {},
   "outputs": [],
   "source": [
    "import geopandas as gpd\n",
    "shp_path = 'data/shapes_WIT_ready/GWYDIR_2018_WIT.shp'\n",
    "\n",
    "x = gpd.read_file(shp_path)\n",
    "x84 = x.to_crs({'init': 'epsg:4326'})\n",
    "x84.to_file(\"results/GWYDIR/GWYDIR_2018_WIT.geojson\", driver='GeoJSON')"
   ]
  },
  {
   "cell_type": "code",
   "execution_count": null,
   "metadata": {},
   "outputs": [],
   "source": []
  }
 ],
 "metadata": {
  "kernelspec": {
   "display_name": "Python 3",
   "language": "python",
   "name": "python3"
  },
  "language_info": {
   "codemirror_mode": {
    "name": "ipython",
    "version": 3
   },
   "file_extension": ".py",
   "mimetype": "text/x-python",
   "name": "python",
   "nbconvert_exporter": "python",
   "pygments_lexer": "ipython3",
   "version": "3.6.7"
  }
 },
 "nbformat": 4,
 "nbformat_minor": 4
}
