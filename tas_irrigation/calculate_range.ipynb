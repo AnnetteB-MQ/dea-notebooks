{
 "cells": [
  {
   "cell_type": "code",
   "execution_count": null,
   "metadata": {},
   "outputs": [],
   "source": [
    "import xarray as xr\n",
    "import datacube\n",
    "from datacube.helpers import ga_pq_fuser\n",
    "from datacube.storage import masking\n",
    "import numpy as np\n",
    "import dask\n",
    "from datacube.drivers.netcdf import write_dataset_to_netcdf\n",
    "from datacube.helpers import write_geotiff\n",
    "from dask.distributed import Client\n",
    "from src import DEADataHandling\n",
    "from multiprocessing import Pool\n",
    "\n",
    "import warnings\n",
    "warnings.filterwarnings(\"ignore\")"
   ]
  },
  {
   "cell_type": "code",
   "execution_count": null,
   "metadata": {},
   "outputs": [],
   "source": [
    "# client = Client(n_workers=6, threads_per_worker=1, memory_limit='4GB')\n",
    "# client"
   ]
  },
  {
   "cell_type": "code",
   "execution_count": null,
   "metadata": {},
   "outputs": [],
   "source": [
    "dc = datacube.Datacube(app='ndvi_range')"
   ]
  },
  {
   "cell_type": "code",
   "execution_count": null,
   "metadata": {},
   "outputs": [],
   "source": [
    "lat, lon = -42.096, 147.403\n",
    "latLon_adjust = 0.10\n",
    "ncpus=4 #19"
   ]
  },
  {
   "cell_type": "code",
   "execution_count": null,
   "metadata": {},
   "outputs": [],
   "source": [
    "def compute_range(time):\n",
    "    query = {'lon': (lon - latLon_adjust, lon + latLon_adjust),\n",
    "         'lat': (lat - latLon_adjust, lat + latLon_adjust),\n",
    "        'time': time}\n",
    "    \n",
    "    ds = DEADataHandling.load_clearlandsat(dc=dc, query=query, sensors=['ls5','ls7','ls8'],  product='nbart',\n",
    "                                       bands_of_interest=['nir', 'red'],mask_pixel_quality=True,\n",
    "                                       mask_invalid_data=True)\n",
    "   \n",
    "    ndvi = ((ds.nir - ds.red)/(ds.nir + ds.red))\n",
    "    min_ndvi = ndvi.min('time')\n",
    "    max_ndvi = ndvi.max('time')\n",
    "    range_ndvi = max_ndvi - min_ndvi\n",
    "\n",
    "    range_ndvi = range_ndvi.rename('ndvi_range').to_dataset()\n",
    "    range_ndvi.attrs = ds.attrs\n",
    "    range_ndvi.attrs['units'] = 1\n",
    "    range_ndvi.ndvi_range.attrs = ds.attrs\n",
    "    range_ndvi.ndvi_range.attrs['units'] = 1\n",
    "\n",
    "    write_geotiff(\"data/ndvi_range/ndvi_range_\" + time[0][:-3] +'.tif', range_ndvi)\n",
    "\n",
    "    "
   ]
  },
  {
   "cell_type": "code",
   "execution_count": null,
   "metadata": {},
   "outputs": [],
   "source": [
    "x = []\n",
    "for i in range(2000, 2019):\n",
    "    x.append((str(i)+'-01', str(i)+'-12'))"
   ]
  },
  {
   "cell_type": "code",
   "execution_count": null,
   "metadata": {},
   "outputs": [],
   "source": [
    "p = Pool(ncpus)\n",
    "p.map(compute_range, x) # MULTIPROCESS"
   ]
  },
  {
   "cell_type": "code",
   "execution_count": null,
   "metadata": {},
   "outputs": [],
   "source": []
  },
  {
   "cell_type": "code",
   "execution_count": null,
   "metadata": {},
   "outputs": [],
   "source": [
    "xr.open_rasterio(\"data/ndvi_range/ndvi_range_2004.tif\")"
   ]
  },
  {
   "cell_type": "code",
   "execution_count": null,
   "metadata": {},
   "outputs": [],
   "source": []
  }
 ],
 "metadata": {
  "kernelspec": {
   "display_name": "Python 3",
   "language": "python",
   "name": "python3"
  },
  "language_info": {
   "codemirror_mode": {
    "name": "ipython",
    "version": 3
   },
   "file_extension": ".py",
   "mimetype": "text/x-python",
   "name": "python",
   "nbconvert_exporter": "python",
   "pygments_lexer": "ipython3",
   "version": "3.6.7"
  }
 },
 "nbformat": 4,
 "nbformat_minor": 4
}
