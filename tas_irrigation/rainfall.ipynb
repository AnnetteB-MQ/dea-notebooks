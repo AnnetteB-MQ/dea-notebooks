{
 "cells": [
  {
   "cell_type": "markdown",
   "metadata": {},
   "source": [
    "## Extracting seasonal rainfall anomalies\n",
    "\n",
    "This script takes as an input a `shapefile` with n number uniquely indentifiable polygons and exports a netcdf of per-pixel seasonal rainfall anomalies, and a csv of zonally averaged seasonal rainfall anomalies. Go to the `user inputs` section and enter the relevant information, then run the script.  The code is multiprocessed.\n",
    "\n"
   ]
  },
  {
   "cell_type": "code",
   "execution_count": null,
   "metadata": {},
   "outputs": [],
   "source": [
    "import datacube\n",
    "from datacube.utils import geometry\n",
    "from datacube.utils.geometry import CRS\n",
    "import fiona\n",
    "import rasterio.mask\n",
    "import rasterio.features\n",
    "import xarray as xr\n",
    "import os\n",
    "import pandas\n",
    "import warnings\n",
    "from multiprocessing import Pool\n",
    "\n",
    "# you will need a datacube confing:\n",
    "config = {\n",
    "    'db_hostname': 'agdcdev-db.nci.org.au',\n",
    "    'db_port': 6432,\n",
    "    'db_database': 'dg6911'\n",
    "}\n",
    "\n",
    "dc = datacube.Datacube(config=config)"
   ]
  },
  {
   "cell_type": "markdown",
   "metadata": {},
   "source": [
    "### User Inputs"
   ]
  },
  {
   "cell_type": "code",
   "execution_count": null,
   "metadata": {},
   "outputs": [],
   "source": [
    "#path to shapefile\n",
    "shp_path = 'data/IrrigationDistrict.shp'\n",
    "#time-range to extract from datacube\n",
    "time_range = ('1988-12-01', '2019-02-28')\n",
    "#Attribute column in the shapefile that identified the polygon\n",
    "columnName = 'Scheme'\n",
    "#projection the output should be in\n",
    "projection = 'EPSG:3577'\n",
    "#resolution of the output\n",
    "resolution = (-500,500)\n",
    "#where should the results be stored\n",
    "output_dir = 'data/rainfall/tas_irrigation_'\n",
    "#how many cpus should the analysis run on?\n",
    "ncpus = 4"
   ]
  },
  {
   "cell_type": "markdown",
   "metadata": {},
   "source": [
    "### extract data and export to disk"
   ]
  },
  {
   "cell_type": "code",
   "execution_count": null,
   "metadata": {},
   "outputs": [],
   "source": [
    "def RainfallFromShape(feat, crs, time_range, colummName, output_dir):\n",
    "    \n",
    "    first_geom = feat['geometry']\n",
    "    poly_name = feat['properties'][columnName]\n",
    "    geom = geometry.Geometry(first_geom, crs=crs)\n",
    "\n",
    "    #generate query object\n",
    "    query = {'geopolygon': geom}\n",
    "    query['time'] = time_range\n",
    "    query['output_crs'] = CRS(projection)\n",
    "    query['resolution'] = resolution\n",
    "\n",
    "    #get rainfall data\n",
    "    print('Working on polygon: ' + poly_name)\n",
    "\n",
    "    accum_prcp = dc.load(product='accum_prcp_monthly', **query)\n",
    "\n",
    "    #using plygon to mask extracted rainfall data\n",
    "    mask = rasterio.features.geometry_mask([geom.to_crs(accum_prcp.geobox.crs)for geoms in [geom]],\n",
    "                                                   out_shape=accum_prcp.geobox.shape,\n",
    "                                                   transform=accum_prcp.geobox.affine,\n",
    "                                                   all_touched=False,\n",
    "                                                   invert=False)\n",
    "\n",
    "    mask_xr = xr.DataArray(mask, dims = ('y','x'))\n",
    "    accum_prcp = accum_prcp.where(mask_xr==False)\n",
    "\n",
    "    #resample to quarterly and groupby seasons\n",
    "    prcp_seasonal = accum_prcp.resample(time='QS-DEC').mean('time')\n",
    "    prcp_seasonal = prcp_seasonal.groupby('time.season')\n",
    "    #calculate climatologies\n",
    "    climatology_mean = accum_prcp.groupby('time.season').mean('time')\n",
    "    #calculate standardised anomalies\n",
    "    standardised_anomalies = xr.apply_ufunc(lambda x, m: x - m,\n",
    "                                 prcp_seasonal, climatology_mean,\n",
    "                                 dask='allowed')\n",
    "    #export\n",
    "    standardised_anomalies.to_netcdf(output_dir + poly_name + \"_rainfall_anomaly.nc\")\n",
    "    df = standardised_anomalies.accum_prcp.mean(['x', 'y']).to_pandas()\n",
    "    df.to_csv(output_dir + poly_name + \"_rainfall_anomaly.csv\")\n"
   ]
  },
  {
   "cell_type": "code",
   "execution_count": null,
   "metadata": {},
   "outputs": [],
   "source": [
    "with fiona.open(shp_path) as input:\n",
    "    crs = geometry.CRS(input.crs_wkt)"
   ]
  },
  {
   "cell_type": "code",
   "execution_count": null,
   "metadata": {},
   "outputs": [],
   "source": [
    "warnings.filterwarnings(\"ignore\")\n",
    "p = Pool(ncpus)\n",
    "for feat in fiona.open(shp_path):\n",
    "    #     RainfallFromShape(feat, crs, time_range, columnName, output_dir) # single-cpu\n",
    "    p.apply_async(RainfallFromShape, [feat, crs, time_range, columnName, output_dir]) # MULTIPROCESS"
   ]
  }
 ],
 "metadata": {
  "kernelspec": {
   "display_name": "Python 3",
   "language": "python",
   "name": "python3"
  },
  "language_info": {
   "codemirror_mode": {
    "name": "ipython",
    "version": 3
   },
   "file_extension": ".py",
   "mimetype": "text/x-python",
   "name": "python",
   "nbconvert_exporter": "python",
   "pygments_lexer": "ipython3",
   "version": "3.6.7"
  }
 },
 "nbformat": 4,
 "nbformat_minor": 4
}
