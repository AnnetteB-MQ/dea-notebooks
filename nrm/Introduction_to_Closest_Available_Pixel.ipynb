{
 "cells": [
  {
   "cell_type": "markdown",
   "metadata": {},
   "source": [
    "# Introduction to Fractional Cover Data  \n",
    "\n",
    "| Authors:  | Bex Dunn, Claire Krause, Arapaut Sivaprasad|\n",
    "|----------|----------------|\n",
    "| Created: | May 14, 2018 |\n",
    "| Last edited: | August 29, 2018 |\n",
    "\n",
    "**Requirements:**\n",
    "\n",
    "You need to run the following commands from the command line prior to launching jupyter notebooks from the same terminal so that the required libraries and paths are set:\n",
    "\n",
    "`module use /g/data/v10/public/modules/modulefiles` \n",
    "\n",
    "`module load dea`\n",
    "\n",
    "This notebook assumes you have cloned the dea-notebooks repository by following the instructions on [DEA notebooks using command line git](https://github.com/GeoscienceAustralia/dea-notebooks#dea-notebooks-using-command-line-git). If you didn't, you will need to download any scripts that fail in the first cell into your relative directory so that the notebook will have access to those scripts. \n",
    "\n",
    "If you find an error or bug in this notebook, please either create an 'Issue' in the Github repository, or fix it yourself and create a 'Pull' request to contribute the updated notebook back into the repository (See the repository [README](https://github.com/GeoscienceAustralia/dea-notebooks/blob/master/README.rst) for instructions on creating a Pull request).\n",
    "\n",
    "__Background:__ Data from the [Landsat](https://landsat.usgs.gov/about-landsat) 5,7 and 8 satellite missions are accessible through [Digital Earth Australia](http://www.ga.gov.au/about/projects/geographic/digital-earth-australia) (DEA). The code snippets in this notebook will let you retrieve and plot the [Fractional Cover](https://d28rz98at9flks.cloudfront.net/79676/Fractional_Cover_FC25_v1_5.PDF) (FC25) data stored in DEA.\n",
    "\n",
    "__What does this notebook do?:__ This notebook introduces Fractional Cover and demonstrates how to load and filter Fractional Cover data using the DEA datacube. The data is then saved to NetCDF and GeoTIFF for analysis elsewhere.\n",
    "\n",
    "__How to use this notebook:__\n",
    "\n",
    "A basic understanding of any programming language is desirable but one doesn't have to be an expert Python programmer to manipulate the code to get and display the data.This doc applies to the following Landsat satellites, Fractional Cover bands and the WOfS dataset:\n",
    "\n",
    "- Landsat 5\n",
    "- Landsat 7\n",
    "- Landsat 8\n",
    "- PV - Photosythetic vegetation\n",
    "- NPV - Non-Photosythetic vegetation\n",
    "- BS - Bare Soil\n",
    "- UE - Unmixing Error\n",
    "- Water Observations from Space (WOFs)\n",
    "- WOfS Feature Layer (WOFL)\n"
   ]
  },
  {
   "cell_type": "markdown",
   "metadata": {},
   "source": [
    "## What is Fractional Cover? [[1, 2](#References)]\n",
    "\n",
    "The Landsat Fractional Cover product stored in DEA is at 25m x 25m resolution (the same as the Landsat surface reflectance products).\n",
    "\n",
    "Fractional Cover represents the proportion of the land surface\n",
    "that is bare (BS), covered by photosynthetic vegetation (PV), or non-photosynthetic vegetation (NPV). \n",
    "\n",
    "The Fractional Cover product was generated using the spectral unmixing algorithm developed by the Joint Remote Sensing Research Program (JRSRP) [[2](#References)] which used the spectral signature for each pixel to break it up into three fractions, based on field work that determined the spectral characteristics of these fractions. [[1](#References)]The fractions were retrieved by inverting multiple linear regression estimates and using synthetic endmembers in a constrained non-negative least squares unmixing model.[[1](#References)]\n",
    "\n",
    "The green (PV) fraction includes leaves and grass, the non-photosynthetic fraction (NPV) includes branches, dry grass and dead leaf litter, and the bare soil (BS) fraction includes bare soil or rock.[[1](#References)]\n",
    "\n",
    "\n",
    "\n",
    "### Fractional Cover Bands: [[1](#References)]\n",
    "\n",
    "- **Bare Soil (bare ground, rock, disturbed) (BS):**  - Bare Ground (bare soil, rock) percentage; Digital Number 10000 = 100%\n",
    "\n",
    "- **Photosythetic Vegetation. (green grass, trees, etc.) (PV):**  - Photosynthetic Vegetation: Green Vegetation percentage;Digital Number 10000 = 100%\n",
    "\n",
    "- **Non-Photosythetic vegetation (litter, dead leaf and branches) (NPV):** - Non-Photosynthetic Vegetation (litter, dead leaves andbranches) percentage; Digital Number 10000 = 100%\n",
    "\n",
    "- **Unmixing Error (UE):**  - Unmixing Error. The residual error, defined as the Euclidean Norm of the Residual Vector. High values express less confidence in the fractional components.\n",
    "    \n",
    "__No Data Values:__ Fractional cover contains no data values (-1)\n",
    "we use the datacube storage function \"masking.mask_invalid_data\" to remove these from our data before using the data\n",
    "\n",
    "### Limitations, Errors and Uncertainty:\n",
    "\n",
    "__Water and soil moisture:__\n",
    "Pixels over water may show incorrect values for Photosynthetic Vegetation. [[1](#References)] Water should be masked out, maybe by using WOfS or a water index. Soil moisture may affect the accuracy of the product [[1](#References)]. \n",
    "\n",
    "__Sums greater than 100%:__\n",
    "\"Occasionally the sum of the three components is not equal to 100%. Differences are usually small and are not rounded in order to preserve what may be useful seasonal indicators. \"[[1](#References)]\n",
    "\n",
    "__Similarity between Bare Soil and NPV:__\n",
    "Model can perform badly on pixels where bare soil and NPV endmembers are similar. [[1](#References)]\n",
    "\n",
    "__Compared to field data:__\n",
    "\"Based on the comparison with the field data the FC25 product has an overall Root Mean Squared Error (RMSE) of 11.8%. The error margins vary for the three different layers: green RMSE: 11.0%, non-green RMSE: 17.4% and bare RMSE: 12.5%\" [[1](#References)]\n",
    "\n",
    "\n"
   ]
  },
  {
   "cell_type": "raw",
   "metadata": {
    "raw_mimetype": "text/restructuredtext"
   },
   "source": [
    "**Tags:** :index:`Landsats 5,7,8`, :index:`products`, :index:`Fractional Cover`, :index:`WOfS`, :index:`WOFL`,:index:`dc.list_products`, :index:`dc.load`, :index:`query`, :index:`plot`, :index:`image`, :index:`Plot Multiple Images`, index:`NetCDF`, index:`GeoTIFF`"
   ]
  },
  {
   "cell_type": "markdown",
   "metadata": {},
   "source": [
    "## How to retrieve and plot the data\n",
    "Let us go through the process step by step. This is a Python program or a HTML page derived from one.  Given below are code snippets that you can execute to perform various actions such as retrieve, display and plot the data. These snippets or 'cells' can be copied to other notebooks and reused."
   ]
  },
  {
   "cell_type": "markdown",
   "metadata": {
    "ExecuteTime": {
     "end_time": "2018-05-30T04:09:33.649054Z",
     "start_time": "2018-05-30T04:09:33.644747Z"
    }
   },
   "source": [
    "## Import modules from standard libraries, datacube and files\n",
    "Select 'Trust this notebook' to import these modules."
   ]
  },
  {
   "cell_type": "code",
   "execution_count": 2,
   "metadata": {
    "ExecuteTime": {
     "end_time": "2019-05-06T06:33:33.690982Z",
     "start_time": "2019-05-06T06:33:12.971972Z"
    },
    "init_cell": true,
    "scrolled": true
   },
   "outputs": [],
   "source": [
    "%matplotlib inline\n",
    "\n",
    "import matplotlib.gridspec as gridspec\n",
    "import matplotlib.pyplot as plt\n",
    "import numpy as np\n",
    "import xarray as xr\n",
    "import os\n",
    "import sys\n",
    "from datetime import datetime\n",
    "import pandas as pd\n",
    "#modules for datacube\n",
    "import datacube\n",
    "from datacube.storage import masking\n",
    "try:   \n",
    "    from datacube.storage.storage import write_dataset_to_netcdf\n",
    "except ImportError:\n",
    "    from datacube.drivers.netcdf import write_dataset_to_netcdf\n",
    "    \n",
    "from datacube.helpers import ga_pq_fuser, write_geotiff\n",
    "\n",
    "# Import external functions from dea-notebooks\n",
    "sys.path.append('../10_Scripts/')\n",
    "\n",
    "import DEAPlotting, DEADataHandling\n",
    "\n",
    "#ignore datacube warnings (needs to be last import statement)\n",
    "import warnings\n",
    "warnings.filterwarnings('ignore', module='datacube')"
   ]
  },
  {
   "cell_type": "markdown",
   "metadata": {},
   "source": [
    "### See what products are currently available\n",
    "The **list_products** method in the Datacube class displays the names and details of all available products. For example, **ls8_fc_albers**, is a set of data collected by Landsat 8, processed with the Fractional Cover algorithm and stored in the Australian Albers projected coordinate system. \n",
    "\n",
    "Given below are the products that are of interest to us in the context of this document. The code given below the list will let you see ALL products in the datacube."
   ]
  },
  {
   "cell_type": "markdown",
   "metadata": {},
   "source": [
    "|id \t| name \t| description|\n",
    "|-|-|-|\n",
    "|69 \t\t| ls5_fc_albers \t| Landsat 5 Fractional Cover 25 metre, 100km til...|\n",
    "|70 \t| ls7_fc_albers \t| Landsat 7 Fractional Cover 25 metre, 100km til...|\n",
    "|71 \t| ls8_fc_albers \t| Landsat 8 Fractional Cover 25 metre, 100km til...|\n"
   ]
  },
  {
   "cell_type": "markdown",
   "metadata": {},
   "source": [
    "#### Code to display the products"
   ]
  },
  {
   "cell_type": "code",
   "execution_count": 3,
   "metadata": {
    "ExecuteTime": {
     "end_time": "2019-05-06T06:33:34.712788Z",
     "start_time": "2019-05-06T06:33:33.694601Z"
    },
    "init_cell": true
   },
   "outputs": [],
   "source": [
    "# set datacube alias (just a string with what you're doing)\n",
    "dc = datacube.Datacube(app='dc-FC')\n",
    "products = dc.list_products()\n",
    "display_columns = ['name', 'description']\n",
    "display_rows = [1]\n",
    "dc_products = products[display_columns]\n",
    "#dc_products #Uncomment this line to see all products"
   ]
  },
  {
   "cell_type": "markdown",
   "metadata": {},
   "source": [
    "### Specify the *query* with the coordinates and date range\n",
    "\n",
    "The *query* is what you are asking the datacube to return.\n",
    "\n",
    "- **lat/lon:** Latitude and longitude of the area. e.g. Canberra = 'lat': (-35.25, -35.35), 'lon': (149.05, 149.17)\n",
    "- **time:** Date range to fetch the scenes. The approximate time between two scenes is 16 days. If there is a location near a swath boundary, it may be captured in two passes and so there could be two images within the 16 day period.\n",
    "    - You must know [the date(s) for which data is available](https://data.dea.gadevs.ga/ls7_nbar_scene) for each satellite/product, so that the query can be specified correctly. \n",
    "- **scene:** The index of the scene to be plotted. If the date range is < 16 days there may only be one scene, and the index must be specified as 0."
   ]
  },
  {
   "cell_type": "code",
   "execution_count": 4,
   "metadata": {
    "ExecuteTime": {
     "end_time": "2019-05-06T06:33:34.722412Z",
     "start_time": "2019-05-06T06:33:34.716276Z"
    },
    "init_cell": true
   },
   "outputs": [],
   "source": [
    "#the query is a dictionary where the keys are the spatio-temporal specs\n",
    "\n",
    "lat, lon = -43.312039, 146.354005\n",
    "query = {'lon': (lon - 0.05, lon + 0.05),\n",
    "         'lat': (lat - 0.03, lat + 0.03)}\n",
    "\n",
    "from dateutil import relativedelta, parser\n",
    "#import xarray as xr\n",
    "strBestDate = '2018-02-05'\n",
    "fillRangeLimitDays = 30\n",
    "DateToExtract = parser.parse(strBestDate)\n",
    "DateFilterA = DateToExtract + relativedelta.relativedelta(days=-fillRangeLimitDays)\n",
    "DateFilterB = DateToExtract + relativedelta.relativedelta(days=fillRangeLimitDays)\n",
    "time_period = (DateFilterA.strftime('%Y/%m/%d'), DateFilterB.strftime('%Y/%m/%d'))\n",
    "query['time'] = time_period\n",
    "#2018 - Jerramungup - West River\n",
    "query = {\n",
    "       'lat': (-33.3212, -34.3251),\n",
    "       'lon': (118.6639, 119.8340),\n",
    "       'time':('2019-03-01', '2019-05-03')\n",
    "       }\n",
    "query = {\n",
    "       'lat': (-32.6, -33.2),\n",
    "       'lon': (116.8, 118.1),\n",
    "       'time':('2018-03-01', '2018-05-31')\n",
    "       }\n"
   ]
  },
  {
   "cell_type": "markdown",
   "metadata": {},
   "source": [
    "### Now we load and look at some data\n",
    "We will focus on data from the Landsats (5,7 and 8) for this demonstration. Multiple scenes are sometimes acquired by the satellite on the same day. We want to group these together, and will use **group_by='solar_day'** to do this. To load in the data, we need only to provide the geo-coordinates and time range."
   ]
  },
  {
   "cell_type": "markdown",
   "metadata": {},
   "source": [
    "### Create a data scene object\n",
    "The return value from the load command below is an **xarray** object, which has two core data structures:\n",
    "\n",
    "- **DataArray** is a labeled, N-dimensional array. \n",
    "- **Dataset** is a multi-dimensional, in-memory array database. It is a dict-like container of DataArray objects aligned along any number of shared dimensions, and serves a similar purpose in xarray to the **pandas.DataFrame**.\n",
    "\n"
   ]
  },
  {
   "cell_type": "code",
   "execution_count": 5,
   "metadata": {
    "ExecuteTime": {
     "end_time": "2019-04-23T02:10:41.263790Z",
     "start_time": "2019-04-23T02:10:32.691785Z"
    }
   },
   "outputs": [
    {
     "name": "stdout",
     "output_type": "stream",
     "text": [
      "Loading ls5\n",
      "    Skipping ls5; no valid data for query\n",
      "Loading ls7\n",
      "    Ignoring SLC-off observations for ls7\n",
      "    Skipping ls7; no valid data for query\n",
      "Loading ls8\n",
      "<xarray.DataArray 'data_perc' (time: 12)>\n",
      "array([0.913205, 0.224875, 0.911335, 0.      , 0.358066, 0.265165, 0.704565,\n",
      "       0.306336, 0.221163, 0.      , 0.924136, 0.432553])\n",
      "Coordinates:\n",
      "  * time     (time) datetime64[ns] 2018-03-03T01:58:58 ... 2018-05-29T02:04:17\n",
      "    Loading 10 filtered ls8 timesteps\n",
      "Combining and sorting ls8 data\n"
     ]
    }
   ],
   "source": [
    "#load the data according to our query\n",
    "#choose a mask proportion to look for a clear timestep\n",
    "ds = DEADataHandling.load_clearlandsat(dc, query,product='fc', mask_invalid_data=True, mask_pixel_quality=True, masked_prop=0.10)"
   ]
  },
  {
   "cell_type": "code",
   "execution_count": 8,
   "metadata": {},
   "outputs": [
    {
     "data": {
      "text/plain": [
       "<xarray.DataArray 'BS' (time: 10, y: 3214, x: 5103)>\n",
       "array([[[nan, nan, ..., 43., 38.],\n",
       "        [nan, nan, ..., 43., 39.],\n",
       "        ...,\n",
       "        [nan, nan, ..., nan, nan],\n",
       "        [nan, nan, ..., nan, nan]],\n",
       "\n",
       "       [[29., 23., ..., nan, nan],\n",
       "        [36., 20., ..., nan, nan],\n",
       "        ...,\n",
       "        [nan, nan, ..., nan, nan],\n",
       "        [nan, nan, ..., nan, nan]],\n",
       "\n",
       "       ...,\n",
       "\n",
       "       [[nan, nan, ..., 49., 41.],\n",
       "        [nan, nan, ..., 51., 45.],\n",
       "        ...,\n",
       "        [nan, nan, ..., nan, nan],\n",
       "        [nan, nan, ..., nan, nan]],\n",
       "\n",
       "       [[29., 14., ..., nan, nan],\n",
       "        [21., 10., ..., nan, nan],\n",
       "        ...,\n",
       "        [nan, nan, ..., nan, nan],\n",
       "        [nan, nan, ..., nan, nan]]])\n",
       "Coordinates:\n",
       "  * time     (time) datetime64[ns] 2018-03-03T01:58:58 ... 2018-05-29T02:04:17\n",
       "  * y        (y) float64 -3.625e+06 -3.625e+06 ... -3.705e+06 -3.705e+06\n",
       "  * x        (x) float64 -1.412e+06 -1.412e+06 ... -1.285e+06 -1.285e+06\n",
       "Attributes:\n",
       "    units:    percent\n",
       "    nodata:   -1\n",
       "    crs:      EPSG:3577"
      ]
     },
     "execution_count": 8,
     "metadata": {},
     "output_type": "execute_result"
    }
   ],
   "source": [
    "ds.BS"
   ]
  },
  {
   "cell_type": "markdown",
   "metadata": {},
   "source": [
    "### Plot Fractional Cover and Unmixing Error Bands\n",
    "Note that Unmixing Error is high over water"
   ]
  },
  {
   "cell_type": "code",
   "execution_count": 10,
   "metadata": {
    "ExecuteTime": {
     "end_time": "2019-04-23T02:10:41.272760Z",
     "start_time": "2019-04-23T02:10:41.268650Z"
    }
   },
   "outputs": [],
   "source": [
    "#just a scene we want to plot - this can be done other ways\n",
    "scene =3"
   ]
  },
  {
   "cell_type": "code",
   "execution_count": 11,
   "metadata": {
    "ExecuteTime": {
     "end_time": "2019-04-23T02:10:43.136789Z",
     "start_time": "2019-04-23T02:10:41.276634Z"
    }
   },
   "outputs": [
    {
     "data": {
      "image/png": "[encoded data removed]",
      "text/plain": [
       "<Figure size 864x576 with 8 Axes>"
      ]
     },
     "metadata": {
      "needs_background": "light"
     },
     "output_type": "display_data"
    }
   ],
   "source": [
    "#set up our images on a grid using gridspec\n",
    "plt.figure(figsize=(12,8))\n",
    "gs = gridspec.GridSpec(2,2) # set up a 2 x 2 grid of 4 images for better presentation\n",
    "\n",
    "ax1=plt.subplot(gs[0,0])\n",
    "ds.PV.isel(time=scene).plot(cmap='gist_earth_r')\n",
    "\n",
    "\n",
    "ax2=plt.subplot(gs[1,0])\n",
    "ds.BS.isel(time=scene).plot(cmap='Oranges')\n",
    "\n",
    "\n",
    "ax3=plt.subplot(gs[0,1])\n",
    "ds.NPV.isel(time=scene).plot(cmap='copper')\n",
    "\n",
    "\n",
    "ax4=plt.subplot(gs[1,1])\n",
    "ds.UE.isel(time=scene).plot(cmap='magma')\n",
    "\n",
    "\n",
    "plt.tight_layout()\n",
    "plt.show()"
   ]
  },
  {
   "cell_type": "code",
   "execution_count": null,
   "metadata": {},
   "outputs": [],
   "source": [
    "# get a list of the dates of the timeslices and turn them into ints so they can be interpolated and exported in the geotif.\n",
    "dates = [int(pd.to_datetime(time).strftime('%Y%m%d')) for time in ds.time.values]\n",
    "\n",
    "for var in ds.data_vars:\n",
    "    nodata = getattr(ds[var], 'nodata', -1)\n",
    "    ds[var] = ds[var].where(ds[var] > nodata)\n",
    "    \n",
    "nodata = getattr(ds.PV, 'nodata', -1)\n",
    "#create and add a data array \n",
    "ds['actual_date'] = xr.DataArray(np.broadcast_to(dates,(ds.dims['y'],ds.dims['x'],len(ds.time))),dims = ('y','x','time'))\n",
    "ds['actual_date']=ds['actual_date'].where(~np.isnan(ds['PV']))\n",
    "dates = [int(pd.to_datetime(time).strftime('%Y%m%d')) for time in ds.time.values]\n",
    "ds3 = ds.interpolate_na(dim='time', method ='nearest', limit=None)\n"
   ]
  },
  {
   "cell_type": "code",
   "execution_count": null,
   "metadata": {},
   "outputs": [],
   "source": [
    "ds3 = ds.interpolate_na(dim='time', method ='nearest', limit=None)"
   ]
  },
  {
   "cell_type": "code",
   "execution_count": null,
   "metadata": {},
   "outputs": [],
   "source": [
    "ds3.actual_date.isel(time=2).max()\n"
   ]
  },
  {
   "cell_type": "code",
   "execution_count": null,
   "metadata": {},
   "outputs": [],
   "source": [
    "(ds3-ds).min()\n"
   ]
  },
  {
   "cell_type": "code",
   "execution_count": null,
   "metadata": {
    "ExecuteTime": {
     "end_time": "2019-04-15T05:15:36.984505Z",
     "start_time": "2019-04-15T05:15:35.121414Z"
    }
   },
   "outputs": [],
   "source": [
    "scene =0\n",
    "#set up our images on a grid using gridspec\n",
    "plt.figure(figsize=(12,8))\n",
    "gs = gridspec.GridSpec(2,2) # set up a 2 x 2 grid of 4 images for better presentation\n",
    "\n",
    "ax1=plt.subplot(gs[0,0])\n",
    "ds.PV.isel(time=scene).plot()\n",
    "#ax1.set_title(f'PV {}')\n",
    "\n",
    "ax2=plt.subplot(gs[1,0])\n",
    "ds.PV.isel(time=scene+1).plot()\n",
    "#ax2.set_title('BS')\n",
    "\n",
    "ax3=plt.subplot(gs[0,1])\n",
    "ds.PV.isel(time=scene+2).plot()\n",
    "#ax3.set_title('NPV')\n",
    "\n",
    "ax4=plt.subplot(gs[1,1])\n",
    "ds.PV.isel(time=scene+3).plot()\n",
    "#ax4.set_title('UE')\n",
    "\n",
    "plt.tight_layout()\n",
    "plt.show()"
   ]
  },
  {
   "cell_type": "code",
   "execution_count": null,
   "metadata": {
    "ExecuteTime": {
     "end_time": "2019-04-15T06:03:05.787086Z",
     "start_time": "2019-04-15T06:03:04.019594Z"
    }
   },
   "outputs": [],
   "source": [
    "scene =0\n",
    "#set up our images on a grid using gridspec\n",
    "plt.figure(figsize=(12,8))\n",
    "gs = gridspec.GridSpec(2,2) # set up a 2 x 2 grid of 4 images for better presentation\n",
    "\n",
    "ax1=plt.subplot(gs[0,0])\n",
    "ds3.PV.isel(time=scene).plot()\n",
    "#ax1.set_title(f'PV {}')\n",
    "\n",
    "ax2=plt.subplot(gs[1,0])\n",
    "ds3.PV.isel(time=scene+1).plot()\n",
    "#ax2.set_title('BS')\n",
    "\n",
    "ax3=plt.subplot(gs[0,1])\n",
    "ds3.PV.isel(time=scene+2).plot()\n",
    "#ax3.set_title('NPV')\n",
    "\n",
    "ax4=plt.subplot(gs[1,1])\n",
    "ds3.PV.isel(time=scene+3).plot()\n",
    "#ax4.set_title('UE')\n",
    "\n",
    "plt.tight_layout()\n",
    "plt.show()"
   ]
  },
  {
   "cell_type": "code",
   "execution_count": null,
   "metadata": {
    "ExecuteTime": {
     "end_time": "2019-04-03T09:04:11.324605Z",
     "start_time": "2019-04-03T09:04:11.298645Z"
    }
   },
   "outputs": [],
   "source": [
    "ds.PV.loc[ds.time.values[3]]"
   ]
  },
  {
   "cell_type": "code",
   "execution_count": null,
   "metadata": {
    "ExecuteTime": {
     "end_time": "2019-04-15T05:20:06.325262Z",
     "start_time": "2019-04-15T05:20:04.633193Z"
    }
   },
   "outputs": [],
   "source": [
    "scene =0\n",
    "#set up our images on a grid using gridspec\n",
    "plt.figure(figsize=(12,8))\n",
    "gs = gridspec.GridSpec(2,2) # set up a 2 x 2 grid of 4 images for better presentation\n",
    "\n",
    "ax1=plt.subplot(gs[0,0])\n",
    "ds4.PV.isel(time=scene).plot(cmap='gist_earth_r')\n",
    "\n",
    "\n",
    "ax2=plt.subplot(gs[1,0])\n",
    "ds4.PV.isel(time=scene+1).plot(cmap='gist_earth_r')\n",
    "\n",
    "\n",
    "ax3=plt.subplot(gs[0,1])\n",
    "ds4.PV.isel(time=scene+2).plot(cmap='gist_earth_r')\n",
    "\n",
    "\n",
    "ax4=plt.subplot(gs[1,1])\n",
    "ds4.PV.isel(time=scene+3).plot(cmap='gist_earth_r')\n",
    "\n",
    "\n",
    "plt.tight_layout()\n",
    "plt.show()"
   ]
  },
  {
   "cell_type": "markdown",
   "metadata": {},
   "source": [
    "### We could filter using the unmixing error, but using WOfS is more robust."
   ]
  },
  {
   "cell_type": "code",
   "execution_count": null,
   "metadata": {
    "ExecuteTime": {
     "end_time": "2018-08-29T07:01:30.719893Z",
     "start_time": "2018-08-29T07:01:29.669510Z"
    }
   },
   "outputs": [],
   "source": [
    "#this image shows that you can filter using unmixing error if you wish\n",
    "plt.figure(figsize=(12,8))\n",
    "ds.UE.where(ds.UE<=20.0).isel(time=scene).plot(cmap='gist_earth_r')\n",
    "ax1.set_title('UE filtered')"
   ]
  },
  {
   "cell_type": "markdown",
   "metadata": {},
   "source": [
    "## Filter fractional cover scenes using WOfS feature layers (WOFLs) \n",
    "- Use the wofs dataset to create scene-by-scene masks to remove areas of water\n",
    "- For more information on WOfS, see the [DEA WOfS and Water Classifier Notebook](https://github.com/GeoscienceAustralia/dea-notebooks/blob/master/Image_classification/DEA_WOfS_and_water_classifier.ipynb)\n",
    "- There may be errors in the WOfS tiles until WOfS is finished "
   ]
  },
  {
   "cell_type": "markdown",
   "metadata": {
    "ExecuteTime": {
     "end_time": "2018-06-01T05:15:29.826195Z",
     "start_time": "2018-06-01T05:15:29.821682Z"
    }
   },
   "source": [
    "### load the wofs feature layers (wofls) within the same query as Fractional cover, using 'like'"
   ]
  },
  {
   "cell_type": "code",
   "execution_count": null,
   "metadata": {
    "ExecuteTime": {
     "end_time": "2018-08-29T07:01:31.538521Z",
     "start_time": "2018-08-29T07:01:30.722567Z"
    }
   },
   "outputs": [],
   "source": [
    "#load the wofs feature layers (wofls) within the same query as Fractional cover, using 'like'\n",
    "wofls = dc.load(product = 'wofs_albers', like=ds)"
   ]
  },
  {
   "cell_type": "markdown",
   "metadata": {
    "ExecuteTime": {
     "end_time": "2018-06-01T02:37:16.665404Z",
     "start_time": "2018-06-01T02:37:16.661016Z"
    }
   },
   "source": [
    "### Two ways of displaying what the values in the wofs data mean:\n",
    "WOfS uses [bit flags](http://datacube-core.readthedocs.io/en/latest/dev/api/masking.html) to flag pixels as 'wet' or otherwise"
   ]
  },
  {
   "cell_type": "code",
   "execution_count": null,
   "metadata": {
    "ExecuteTime": {
     "end_time": "2018-08-29T07:01:31.585722Z",
     "start_time": "2018-08-29T07:01:31.541493Z"
    }
   },
   "outputs": [],
   "source": [
    "masking.describe_variable_flags(wofls, with_pandas=True)"
   ]
  },
  {
   "cell_type": "code",
   "execution_count": null,
   "metadata": {
    "ExecuteTime": {
     "end_time": "2018-08-29T07:01:31.601000Z",
     "start_time": "2018-08-29T07:01:31.588854Z"
    }
   },
   "outputs": [],
   "source": [
    "for key in wofls.water.flags_definition.keys():\n",
    "    print('{}  {}'.format(key, wofls.water.flags_definition[key]))"
   ]
  },
  {
   "cell_type": "markdown",
   "metadata": {},
   "source": [
    "### Here is what the WOFL mask looks like on one timestep:"
   ]
  },
  {
   "cell_type": "code",
   "execution_count": null,
   "metadata": {
    "ExecuteTime": {
     "end_time": "2018-08-29T07:01:32.246147Z",
     "start_time": "2018-08-29T07:01:31.603853Z"
    }
   },
   "outputs": [],
   "source": [
    "wetwofl = masking.make_mask(wofls, wet=True)\n",
    "wetwofl.water.isel(time=0).plot()\n",
    "#drywofl = masking.make_mask(wofls, dry=True)\n",
    "#drywofl.water.isel(time=0).plot()"
   ]
  },
  {
   "cell_type": "code",
   "execution_count": null,
   "metadata": {
    "ExecuteTime": {
     "end_time": "2018-08-29T07:01:32.295049Z",
     "start_time": "2018-08-29T07:01:32.249312Z"
    }
   },
   "outputs": [],
   "source": [
    "#match WOFL times to our fractional cover times\n",
    "unwofld = ds.where(ds.time == wetwofl.time)\n",
    "#mask out water from fractional cover\n",
    "unwofld = unwofld.where(wetwofl.water==False)"
   ]
  },
  {
   "cell_type": "markdown",
   "metadata": {
    "ExecuteTime": {
     "end_time": "2018-06-01T05:18:43.451679Z",
     "start_time": "2018-06-01T05:18:43.448726Z"
    }
   },
   "source": [
    "### Here is what Fractional Cover looks like with WOFL removed:"
   ]
  },
  {
   "cell_type": "code",
   "execution_count": null,
   "metadata": {
    "ExecuteTime": {
     "end_time": "2018-08-29T07:01:33.098597Z",
     "start_time": "2018-08-29T07:01:32.298271Z"
    }
   },
   "outputs": [],
   "source": [
    "unwofld.PV.isel(time=0).plot()"
   ]
  },
  {
   "cell_type": "markdown",
   "metadata": {},
   "source": [
    "### Edit save file path to choose where to save your output files"
   ]
  },
  {
   "cell_type": "code",
   "execution_count": null,
   "metadata": {
    "ExecuteTime": {
     "end_time": "2018-08-29T07:01:33.103869Z",
     "start_time": "2018-08-29T07:01:33.100853Z"
    }
   },
   "outputs": [],
   "source": [
    "#save files to your home directory (add your outpath here if you want to change it)\n",
    "savefilepath = os.path.expanduser('~/')"
   ]
  },
  {
   "cell_type": "markdown",
   "metadata": {
    "ExecuteTime": {
     "end_time": "2018-05-31T00:34:17.482879Z",
     "start_time": "2018-05-31T00:34:17.479632Z"
    }
   },
   "source": [
    "## Save Fractional Cover scenes to NetCDF\n"
   ]
  },
  {
   "cell_type": "code",
   "execution_count": null,
   "metadata": {
    "ExecuteTime": {
     "end_time": "2018-08-29T07:01:33.113708Z",
     "start_time": "2018-08-29T07:01:33.106119Z"
    }
   },
   "outputs": [],
   "source": [
    "try:\n",
    "    DEADataHandling.write_your_netcdf(unwofld, 'FC25', savefilepath+'FC25'+'.nc', crs = ds.crs)\n",
    "#complain if the file already exists but don't fail    \n",
    "except RuntimeError as err:\n",
    "    print(\"RuntimeError: {0}\".format(err))\n",
    "print('wrote to netCDF' )"
   ]
  },
  {
   "cell_type": "markdown",
   "metadata": {},
   "source": [
    "## Save Fractional Cover scenes to GeoTIFF\n"
   ]
  },
  {
   "cell_type": "code",
   "execution_count": null,
   "metadata": {
    "ExecuteTime": {
     "end_time": "2018-08-29T07:01:33.489908Z",
     "start_time": "2018-08-29T07:01:33.116695Z"
    }
   },
   "outputs": [],
   "source": [
    "ds = unwofld\n",
    "#write a geotiff to file for each timestep\n",
    "if len(ds.time)==1:\n",
    "    print('one timestep')\n",
    "    #drop the time dimension for only one timestep\n",
    "    #write the dataset without the data percentage to file\n",
    "    ds1 = ds.squeeze()\n",
    "    ds1 = ds1.drop('data_perc')\n",
    "    write_geotiff(savefilepath+'FC25_'+'.tif', ds1)\n",
    "\n",
    "elif len(ds.time)>1:\n",
    "    print('multiple timesteps') \n",
    "    #remove data percentage as it breaks the geotiff writer\n",
    "    ds = ds.drop('data_perc')\n",
    "    for timestep in range(len(ds.time)):\n",
    "        try:\n",
    "            write_geotiff(savefilepath+'FC25_'+str(timestep)+'.tif', ds.isel(time =timestep))\n",
    "            #complain if the file already exists but don't fail    \n",
    "            print('wrote to GeoTIFF' )\n",
    "        except RuntimeError as err:\n",
    "            print(\"RuntimeError: {0}\".format(err))"
   ]
  },
  {
   "cell_type": "code",
   "execution_count": null,
   "metadata": {
    "ExecuteTime": {
     "end_time": "2019-05-03T07:21:08.913020Z",
     "start_time": "2019-05-03T07:21:08.907159Z"
    }
   },
   "outputs": [],
   "source": [
    "import warnings\n",
    "import click\n",
    "from numpy import logical_and\n",
    "import numpy\n",
    "from xarray import open_dataset"
   ]
  },
  {
   "cell_type": "code",
   "execution_count": null,
   "metadata": {
    "ExecuteTime": {
     "end_time": "2019-05-06T04:17:07.836357Z",
     "start_time": "2019-05-06T02:26:13.952192Z"
    }
   },
   "outputs": [],
   "source": [
    "import glob\n",
    "nc_files = glob.glob(f'/g/data/r78/datacube_stats/ls_tcw_percentiles/*.nc',recursive=True)\n",
    "\n",
    "for file_name in nc_files:\n",
    "    try:\n",
    "        ds = open_dataset(file_name)\n",
    "        ds = ds.fillna(-999)\n",
    "        #print(file_name)\n",
    "        for var in ['TCW_PC_10','TCW_PC_50','TCW_PC_90']:\n",
    "            #print(getattr(ds[var], 'nodata'))\n",
    "            #print(ds[var].data)\n",
    "            \n",
    "            if numpy.any(ds[var].data == -999):\n",
    "                print(f'{file_name}_{var}')\n",
    "    except:\n",
    "        print(f'bad file {file_name}')"
   ]
  },
  {
   "cell_type": "markdown",
   "metadata": {},
   "source": [
    "## References\n",
    "1. GA, 2015. *Fractional Cover (FC25) Product Description.* https://d28rz98at9flks.cloudfront.net/79676/Fractional_Cover_FC25_v1_5.PDF\n",
    "\n",
    "2. TERN Auscover, 2012. *Fractional cover - Landsat, Joint Remote Sensing Research Program algorithm, Australia coverage.* Last modified by Peter Scarth on 2017/03/24 09:53. http://data.auscover.org.au/xwiki/bin/view/Product+pages/Landsat+Fractional+Cover"
   ]
  }
 ],
 "metadata": {
  "celltoolbar": "Raw Cell Format",
  "kernelspec": {
   "display_name": "Python 3",
   "language": "python",
   "name": "python3"
  },
  "language_info": {
   "codemirror_mode": {
    "name": "ipython",
    "version": 3
   },
   "file_extension": ".py",
   "mimetype": "text/x-python",
   "name": "python",
   "nbconvert_exporter": "python",
   "pygments_lexer": "ipython3",
   "version": "3.6.7"
  },
  "toc": {
   "base_numbering": 1,
   "nav_menu": {},
   "number_sections": true,
   "sideBar": true,
   "skip_h1_title": false,
   "title_cell": "Table of Contents",
   "title_sidebar": "Contents",
   "toc_cell": false,
   "toc_position": {},
   "toc_section_display": true,
   "toc_window_display": false
  }
 },
 "nbformat": 4,
 "nbformat_minor": 2
}
