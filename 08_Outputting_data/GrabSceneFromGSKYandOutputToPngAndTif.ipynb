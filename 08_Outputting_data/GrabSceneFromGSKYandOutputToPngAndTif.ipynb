{
 "cells": [
  {
   "cell_type": "markdown",
   "metadata": {},
   "source": [
    "# Grab scene from GSKY and output to .png and .tif"
   ]
  },
  {
   "cell_type": "code",
   "execution_count": null,
   "metadata": {},
   "outputs": [],
   "source": [
    "%matplotlib inline\n",
    "\n",
    "from matplotlib.pyplot import imshow, imsave\n",
    "import requests\n",
    "from PIL import Image\n",
    "from io import BytesIO\n",
    "import numpy as np\n",
    "import math"
   ]
  },
  {
   "cell_type": "markdown",
   "metadata": {},
   "source": [
    "## User inputs!"
   ]
  },
  {
   "cell_type": "code",
   "execution_count": null,
   "metadata": {},
   "outputs": [],
   "source": [
    "# URL to grab data from\n",
    "url = 'http://gsky.nci.org.au/ows?time=2017-09-04T00%3A00%3A00.000Z&srs=EPSG%3A3857&transparent=true&format=image%2Ftif&exceptions=application%2Fvnd.ogc.se_xml&styles=&tiled=true&feature_count=101&service=WMS&version=1.1.1&request=GetMap&layers=LS8%3ANBART%3AFALSE&width=256&height=256&bbox={}%2C{}%2C{}%2C{}'\n",
    "\n",
    "# EPSG 3857 BBox (Use http://epsg.io)\n",
    "x = [14122668, 14578448]\n",
    "y = [-1583412, -1944009]\n",
    "\n",
    "# Output file names\n",
    "output_png = 'poster.png'\n",
    "output_tif = 'poster.tif'"
   ]
  },
  {
   "cell_type": "markdown",
   "metadata": {},
   "source": [
    "## Do the work...\n",
    "\n",
    "Nothing to change here"
   ]
  },
  {
   "cell_type": "code",
   "execution_count": 48,
   "metadata": {
    "scrolled": true
   },
   "outputs": [
    {
     "name": "stdout",
     "output_type": "stream",
     "text": [
      "18231.2 wide\n",
      "14423.88 high\n",
      "(14592, 18432, 3)\n",
      "0 of 72 ...\n",
      "1 of 72 ...\n",
      "2 of 72 ...\n",
      "3 of 72 ...\n",
      "4 of 72 ...\n",
      "5 of 72 ...\n",
      "6 of 72 ...\n",
      "7 of 72 ...\n",
      "8 of 72 ...\n",
      "9 of 72 ...\n",
      "10 of 72 ...\n",
      "11 of 72 ...\n",
      "12 of 72 ...\n",
      "13 of 72 ...\n",
      "14 of 72 ...\n",
      "15 of 72 ...\n",
      "16 of 72 ...\n",
      "17 of 72 ...\n",
      "18 of 72 ...\n",
      "19 of 72 ...\n",
      "20 of 72 ...\n",
      "21 of 72 ...\n",
      "22 of 72 ...\n",
      "23 of 72 ...\n",
      "24 of 72 ...\n",
      "25 of 72 ...\n",
      "26 of 72 ...\n",
      "27 of 72 ...\n",
      "28 of 72 ...\n",
      "29 of 72 ...\n",
      "30 of 72 ...\n",
      "31 of 72 ...\n",
      "32 of 72 ...\n",
      "33 of 72 ...\n",
      "34 of 72 ...\n",
      "35 of 72 ...\n",
      "36 of 72 ...\n",
      "37 of 72 ...\n",
      "38 of 72 ...\n",
      "39 of 72 ...\n",
      "40 of 72 ...\n",
      "41 of 72 ...\n",
      "42 of 72 ...\n",
      "43 of 72 ...\n",
      "44 of 72 ...\n",
      "45 of 72 ...\n",
      "46 of 72 ...\n",
      "47 of 72 ...\n",
      "48 of 72 ...\n",
      "49 of 72 ...\n",
      "50 of 72 ...\n",
      "51 of 72 ...\n",
      "52 of 72 ...\n",
      "53 of 72 ...\n",
      "54 of 72 ...\n",
      "55 of 72 ...\n",
      "56 of 72 ...\n",
      "57 of 72 ...\n",
      "58 of 72 ...\n",
      "59 of 72 ...\n",
      "60 of 72 ...\n",
      "61 of 72 ...\n",
      "62 of 72 ...\n",
      "63 of 72 ...\n",
      "64 of 72 ...\n",
      "65 of 72 ...\n",
      "66 of 72 ...\n",
      "67 of 72 ...\n",
      "68 of 72 ...\n",
      "69 of 72 ...\n",
      "70 of 72 ...\n",
      "71 of 72 ...\n",
      "(256, 256, 3) uint8\n",
      "(14592, 18432, 3) uint8\n"
     ]
    }
   ],
   "source": [
    "pix_size = 25 # metres\n",
    "tile_size = 256 # pixels\n",
    "\n",
    "# Print image size in pixels\n",
    "print((x[1]-x[0])/pix_size, \"wide\")\n",
    "print((y[0]-y[1])/pix_size, \"high\")\n",
    "\n",
    "x_tiles = int(math.ceil(float((x[1]-x[0])/pix_size)/tile_size))\n",
    "y_tiles = int(math.ceil(float((y[0]-y[1])/pix_size)/tile_size))\n",
    "\n",
    "canvas = np.zeros((y_tiles*tile_size, x_tiles*tile_size, 3), dtype='uint8')\n",
    "print(canvas.shape)\n",
    "\n",
    "for i in range(x_tiles):\n",
    "    print(i, \"of\", x_tiles, \"...\")\n",
    "    for j in range(y_tiles):\n",
    "        x0 = x[0] + i*tile_size*pix_size\n",
    "        x1 = x[0] + (i+1)*tile_size*pix_size\n",
    "        y0 = y[0] - j*tile_size*pix_size\n",
    "        y1 = y[0] - (j+1)*tile_size*pix_size\n",
    "        \n",
    "        r = requests.get(url.format(x0,y1,x1,y0))\n",
    "        \n",
    "        im = Image.open(BytesIO(r.content))\n",
    "        arr = np.asarray(im)\n",
    "        \n",
    "        canvas[j*tile_size:(j+1)*tile_size, i*tile_size:(i+1)*tile_size, :] = arr[:, :, :3]\n",
    "\n",
    "print(arr.shape, arr.dtype)\n",
    "print(canvas.shape, canvas.dtype)\n",
    "\n",
    "print('Saving png image')\n",
    "imsave(output_png, canvas)"
   ]
  },
  {
   "cell_type": "markdown",
   "metadata": {},
   "source": [
    "## Cheat to create Geotiff\n",
    "\n",
    "Make sure gdal module is loaded in the command window environment\n",
    "\n",
    "`module load gdal`"
   ]
  },
  {
   "cell_type": "code",
   "execution_count": 51,
   "metadata": {},
   "outputs": [
    {
     "name": "stdout",
     "output_type": "stream",
     "text": [
      "Input file size is 18432, 14592\n",
      "0...10...20...30...40...50...60...70...80...90...100 - done.\n"
     ]
    }
   ],
   "source": [
    "!gdal_translate -of Gtiff -a_ullr {x[0]}, {y[0]}, {x[1]}, {y[1]} -a_srs EPSG:3857 {output_png} {output_tif}"
   ]
  },
  {
   "cell_type": "code",
   "execution_count": null,
   "metadata": {},
   "outputs": [],
   "source": []
  }
 ],
 "metadata": {
  "kernelspec": {
   "display_name": "Python 3",
   "language": "python",
   "name": "python3"
  },
  "language_info": {
   "codemirror_mode": {
    "name": "ipython",
    "version": 3
   },
   "file_extension": ".py",
   "mimetype": "text/x-python",
   "name": "python",
   "nbconvert_exporter": "python",
   "pygments_lexer": "ipython3",
   "version": "3.6.5"
  },
  "toc": {
   "base_numbering": 1,
   "nav_menu": {},
   "number_sections": true,
   "sideBar": true,
   "skip_h1_title": false,
   "title_cell": "Table of Contents",
   "title_sidebar": "Contents",
   "toc_cell": false,
   "toc_position": {},
   "toc_section_display": true,
   "toc_window_display": false
  }
 },
 "nbformat": 4,
 "nbformat_minor": 2
}
