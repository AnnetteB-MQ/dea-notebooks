{
 "cells": [
  {
   "cell_type": "markdown",
   "metadata": {},
   "source": [
    "TASK\n",
    "\n",
    "- Import NMDB shapefiles\n",
    "- Clip to a catchment to use as our test area\n",
    "- Give each polygon a unique ID, something like catchment_1, catchment_2 etc\n",
    "- export shapefile for use in irrigatedWIT"
   ]
  },
  {
   "cell_type": "code",
   "execution_count": 4,
   "metadata": {},
   "outputs": [],
   "source": [
    "import numpy as np\n",
    "import xarray as xr\n",
    "import geopandas as gpd\n",
    "import pandas as pd"
   ]
  },
  {
   "cell_type": "code",
   "execution_count": 5,
   "metadata": {},
   "outputs": [],
   "source": [
    "catchmentName = 'CONDAMINE-CULGOA'\n",
    "year = \"2013\"\n",
    "nmdb_shp = \"results/nmdb/nmdb_Summer2013_14/nmdb_Summer2013_14_Irrigated_OEHandLS_masked.shp\"\n",
    "catchment = 'data/spatial/nmdb_individual_catchments/CONDAMINE-CULGOA RIVERS.shp'"
   ]
  },
  {
   "cell_type": "code",
   "execution_count": 6,
   "metadata": {},
   "outputs": [],
   "source": [
    "#import files and clip\n",
    "nmdb_irr = gpd.read_file(nmdb_shp)\n",
    "catch = gpd.read_file(catchment)\n",
    "subcath_irr = gpd.overlay(nmdb_irr, catch, how='intersection')"
   ]
  },
  {
   "cell_type": "code",
   "execution_count": 7,
   "metadata": {},
   "outputs": [],
   "source": [
    "#add a unique ID\n",
    "subcath_irr['UniqueID'] = [catchmentName+\"_\"+year+\"_\"+str(i) for i in subcath_irr.index]"
   ]
  },
  {
   "cell_type": "code",
   "execution_count": 8,
   "metadata": {},
   "outputs": [
    {
     "data": {
      "text/html": [
       "<div>\n",
       "<style scoped>\n",
       "    .dataframe tbody tr th:only-of-type {\n",
       "        vertical-align: middle;\n",
       "    }\n",
       "\n",
       "    .dataframe tbody tr th {\n",
       "        vertical-align: top;\n",
       "    }\n",
       "\n",
       "    .dataframe thead th {\n",
       "        text-align: right;\n",
       "    }\n",
       "</style>\n",
       "<table border=\"1\" class=\"dataframe\">\n",
       "  <thead>\n",
       "    <tr style=\"text-align: right;\">\n",
       "      <th></th>\n",
       "      <th>DN</th>\n",
       "      <th>area</th>\n",
       "      <th>AREA</th>\n",
       "      <th>PERIMETER</th>\n",
       "      <th>AUS_</th>\n",
       "      <th>AUS_ID</th>\n",
       "      <th>F_CODE</th>\n",
       "      <th>BNAME</th>\n",
       "      <th>BNUM</th>\n",
       "      <th>RNAME</th>\n",
       "      <th>RNUM</th>\n",
       "      <th>DNAME</th>\n",
       "      <th>DNUM</th>\n",
       "      <th>CENTROID_Y</th>\n",
       "      <th>CENTROID_X</th>\n",
       "      <th>geometry</th>\n",
       "      <th>UniqueID</th>\n",
       "    </tr>\n",
       "  </thead>\n",
       "  <tbody>\n",
       "    <tr>\n",
       "      <th>804</th>\n",
       "      <td>80</td>\n",
       "      <td>1655000.0</td>\n",
       "      <td>12.463765</td>\n",
       "      <td>25.092594</td>\n",
       "      <td>1304</td>\n",
       "      <td>876</td>\n",
       "      <td>dbasin_cent</td>\n",
       "      <td>CONDAMINE-CULGOA RIVERS</td>\n",
       "      <td>22</td>\n",
       "      <td>CONDAMINE</td>\n",
       "      <td>K</td>\n",
       "      <td>MURRAY-DARLING</td>\n",
       "      <td>IV</td>\n",
       "      <td>-27.337341</td>\n",
       "      <td>148.558049</td>\n",
       "      <td>POLYGON ((1540625 -3348650, 1540700 -3348650, ...</td>\n",
       "      <td>CONDAMINE-CULGOA_2013_804</td>\n",
       "    </tr>\n",
       "    <tr>\n",
       "      <th>805</th>\n",
       "      <td>70</td>\n",
       "      <td>195000.0</td>\n",
       "      <td>12.463765</td>\n",
       "      <td>25.092594</td>\n",
       "      <td>1304</td>\n",
       "      <td>876</td>\n",
       "      <td>dbasin_cent</td>\n",
       "      <td>CONDAMINE-CULGOA RIVERS</td>\n",
       "      <td>22</td>\n",
       "      <td>CONDAMINE</td>\n",
       "      <td>K</td>\n",
       "      <td>MURRAY-DARLING</td>\n",
       "      <td>IV</td>\n",
       "      <td>-27.337341</td>\n",
       "      <td>148.558049</td>\n",
       "      <td>POLYGON ((1504925 -3360275, 1505100 -3360275, ...</td>\n",
       "      <td>CONDAMINE-CULGOA_2013_805</td>\n",
       "    </tr>\n",
       "    <tr>\n",
       "      <th>806</th>\n",
       "      <td>70</td>\n",
       "      <td>247500.0</td>\n",
       "      <td>12.463765</td>\n",
       "      <td>25.092594</td>\n",
       "      <td>1304</td>\n",
       "      <td>876</td>\n",
       "      <td>dbasin_cent</td>\n",
       "      <td>CONDAMINE-CULGOA RIVERS</td>\n",
       "      <td>22</td>\n",
       "      <td>CONDAMINE</td>\n",
       "      <td>K</td>\n",
       "      <td>MURRAY-DARLING</td>\n",
       "      <td>IV</td>\n",
       "      <td>-27.337341</td>\n",
       "      <td>148.558049</td>\n",
       "      <td>POLYGON ((1507100 -3361300, 1507125 -3361300, ...</td>\n",
       "      <td>CONDAMINE-CULGOA_2013_806</td>\n",
       "    </tr>\n",
       "    <tr>\n",
       "      <th>807</th>\n",
       "      <td>70</td>\n",
       "      <td>527500.0</td>\n",
       "      <td>12.463765</td>\n",
       "      <td>25.092594</td>\n",
       "      <td>1304</td>\n",
       "      <td>876</td>\n",
       "      <td>dbasin_cent</td>\n",
       "      <td>CONDAMINE-CULGOA RIVERS</td>\n",
       "      <td>22</td>\n",
       "      <td>CONDAMINE</td>\n",
       "      <td>K</td>\n",
       "      <td>MURRAY-DARLING</td>\n",
       "      <td>IV</td>\n",
       "      <td>-27.337341</td>\n",
       "      <td>148.558049</td>\n",
       "      <td>POLYGON ((1486250 -3361350, 1486300 -3361350, ...</td>\n",
       "      <td>CONDAMINE-CULGOA_2013_807</td>\n",
       "    </tr>\n",
       "    <tr>\n",
       "      <th>808</th>\n",
       "      <td>75</td>\n",
       "      <td>903125.0</td>\n",
       "      <td>12.463765</td>\n",
       "      <td>25.092594</td>\n",
       "      <td>1304</td>\n",
       "      <td>876</td>\n",
       "      <td>dbasin_cent</td>\n",
       "      <td>CONDAMINE-CULGOA RIVERS</td>\n",
       "      <td>22</td>\n",
       "      <td>CONDAMINE</td>\n",
       "      <td>K</td>\n",
       "      <td>MURRAY-DARLING</td>\n",
       "      <td>IV</td>\n",
       "      <td>-27.337341</td>\n",
       "      <td>148.558049</td>\n",
       "      <td>POLYGON ((1483375 -3362625, 1483425 -3362625, ...</td>\n",
       "      <td>CONDAMINE-CULGOA_2013_808</td>\n",
       "    </tr>\n",
       "  </tbody>\n",
       "</table>\n",
       "</div>"
      ],
      "text/plain": [
       "     DN       area       AREA  PERIMETER  AUS_  AUS_ID       F_CODE  \\\n",
       "804  80  1655000.0  12.463765  25.092594  1304     876  dbasin_cent   \n",
       "805  70   195000.0  12.463765  25.092594  1304     876  dbasin_cent   \n",
       "806  70   247500.0  12.463765  25.092594  1304     876  dbasin_cent   \n",
       "807  70   527500.0  12.463765  25.092594  1304     876  dbasin_cent   \n",
       "808  75   903125.0  12.463765  25.092594  1304     876  dbasin_cent   \n",
       "\n",
       "                       BNAME BNUM      RNAME RNUM           DNAME DNUM  \\\n",
       "804  CONDAMINE-CULGOA RIVERS   22  CONDAMINE    K  MURRAY-DARLING   IV   \n",
       "805  CONDAMINE-CULGOA RIVERS   22  CONDAMINE    K  MURRAY-DARLING   IV   \n",
       "806  CONDAMINE-CULGOA RIVERS   22  CONDAMINE    K  MURRAY-DARLING   IV   \n",
       "807  CONDAMINE-CULGOA RIVERS   22  CONDAMINE    K  MURRAY-DARLING   IV   \n",
       "808  CONDAMINE-CULGOA RIVERS   22  CONDAMINE    K  MURRAY-DARLING   IV   \n",
       "\n",
       "     CENTROID_Y  CENTROID_X  \\\n",
       "804  -27.337341  148.558049   \n",
       "805  -27.337341  148.558049   \n",
       "806  -27.337341  148.558049   \n",
       "807  -27.337341  148.558049   \n",
       "808  -27.337341  148.558049   \n",
       "\n",
       "                                              geometry  \\\n",
       "804  POLYGON ((1540625 -3348650, 1540700 -3348650, ...   \n",
       "805  POLYGON ((1504925 -3360275, 1505100 -3360275, ...   \n",
       "806  POLYGON ((1507100 -3361300, 1507125 -3361300, ...   \n",
       "807  POLYGON ((1486250 -3361350, 1486300 -3361350, ...   \n",
       "808  POLYGON ((1483375 -3362625, 1483425 -3362625, ...   \n",
       "\n",
       "                      UniqueID  \n",
       "804  CONDAMINE-CULGOA_2013_804  \n",
       "805  CONDAMINE-CULGOA_2013_805  \n",
       "806  CONDAMINE-CULGOA_2013_806  \n",
       "807  CONDAMINE-CULGOA_2013_807  \n",
       "808  CONDAMINE-CULGOA_2013_808  "
      ]
     },
     "execution_count": 8,
     "metadata": {},
     "output_type": "execute_result"
    }
   ],
   "source": [
    "subcath_irr.tail()"
   ]
  },
  {
   "cell_type": "code",
   "execution_count": 9,
   "metadata": {},
   "outputs": [],
   "source": [
    "#export to file for use in WIT analysis\n",
    "subcath_irr.to_file('results/irrigatedWIT/shapes/'+catchmentName+\"_\"+year+\"_WIT.shp\")"
   ]
  },
  {
   "cell_type": "code",
   "execution_count": 11,
   "metadata": {},
   "outputs": [
    {
     "data": {
      "text/plain": [
       "<matplotlib.axes._subplots.AxesSubplot at 0x7f3bc5edb358>"
      ]
     },
     "execution_count": 11,
     "metadata": {},
     "output_type": "execute_result"
    },
    {
     "data": {
      "image/png": "[encoded data removed]",
      "text/plain": [
       "<Figure size 1080x1080 with 1 Axes>"
      ]
     },
     "metadata": {
      "needs_background": "light"
     },
     "output_type": "display_data"
    }
   ],
   "source": [
    "subcath_irr.plot(figsize=(15,15))"
   ]
  },
  {
   "cell_type": "code",
   "execution_count": null,
   "metadata": {},
   "outputs": [],
   "source": []
  },
  {
   "cell_type": "code",
   "execution_count": null,
   "metadata": {},
   "outputs": [],
   "source": []
  },
  {
   "cell_type": "code",
   "execution_count": null,
   "metadata": {},
   "outputs": [],
   "source": []
  },
  {
   "cell_type": "code",
   "execution_count": null,
   "metadata": {},
   "outputs": [],
   "source": []
  }
 ],
 "metadata": {
  "kernelspec": {
   "display_name": "Python 3",
   "language": "python",
   "name": "python3"
  },
  "language_info": {
   "codemirror_mode": {
    "name": "ipython",
    "version": 3
   },
   "file_extension": ".py",
   "mimetype": "text/x-python",
   "name": "python",
   "nbconvert_exporter": "python",
   "pygments_lexer": "ipython3",
   "version": "3.6.7"
  }
 },
 "nbformat": 4,
 "nbformat_minor": 2
}
