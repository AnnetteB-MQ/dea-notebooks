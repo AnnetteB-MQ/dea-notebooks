{
 "cells": [
  {
   "cell_type": "markdown",
   "metadata": {},
   "source": [
    "TASK\n",
    "\n",
    "- Import NMDB shapefiles\n",
    "- Clip to a catchment to use as our test area\n",
    "- Give each polygon a unique ID, something like catchment_1, catchment_2 etc\n",
    "- export shapefile for use in irrigatedWIT"
   ]
  },
  {
   "cell_type": "code",
   "execution_count": 32,
   "metadata": {},
   "outputs": [],
   "source": [
    "import numpy as np\n",
    "import xarray as xr\n",
    "import geopandas as gpd\n",
    "import pandas as pd"
   ]
  },
  {
   "cell_type": "code",
   "execution_count": 33,
   "metadata": {},
   "outputs": [],
   "source": [
    "catchmentName = 'Namoi'\n",
    "nmdb_shp = \"results/nmdb/nmdb_Summer2017_18/nmdb_Summer2017_18_multithreshold_65Thres_OEHandLS_masked.shp\"\n",
    "catchment = 'data/spatial/nmdb_individual_catchments/NAMOI RIVER.shp'"
   ]
  },
  {
   "cell_type": "code",
   "execution_count": 34,
   "metadata": {},
   "outputs": [],
   "source": [
    "#import files and clip\n",
    "nmdb_irr = gpd.read_file(nmdb_shp)\n",
    "catch = gpd.read_file(catchment)\n",
    "subcath_irr = gpd.overlay(nmdb_irr, catch, how='intersection')"
   ]
  },
  {
   "cell_type": "code",
   "execution_count": 35,
   "metadata": {},
   "outputs": [],
   "source": [
    "#add a unique ID\n",
    "subcath_irr['UniqueID'] = [catchmentName+\"_\"+str(i) for i in subcath_irr.index]"
   ]
  },
  {
   "cell_type": "code",
   "execution_count": 39,
   "metadata": {},
   "outputs": [
    {
     "data": {
      "text/html": [
       "<div>\n",
       "<style scoped>\n",
       "    .dataframe tbody tr th:only-of-type {\n",
       "        vertical-align: middle;\n",
       "    }\n",
       "\n",
       "    .dataframe tbody tr th {\n",
       "        vertical-align: top;\n",
       "    }\n",
       "\n",
       "    .dataframe thead th {\n",
       "        text-align: right;\n",
       "    }\n",
       "</style>\n",
       "<table border=\"1\" class=\"dataframe\">\n",
       "  <thead>\n",
       "    <tr style=\"text-align: right;\">\n",
       "      <th></th>\n",
       "      <th>DN</th>\n",
       "      <th>AREA</th>\n",
       "      <th>PERIMETER</th>\n",
       "      <th>AUS_</th>\n",
       "      <th>AUS_ID</th>\n",
       "      <th>F_CODE</th>\n",
       "      <th>BNAME</th>\n",
       "      <th>BNUM</th>\n",
       "      <th>RNAME</th>\n",
       "      <th>RNUM</th>\n",
       "      <th>DNAME</th>\n",
       "      <th>DNUM</th>\n",
       "      <th>CENTROID_Y</th>\n",
       "      <th>CENTROID_X</th>\n",
       "      <th>geometry</th>\n",
       "      <th>UniqueID</th>\n",
       "    </tr>\n",
       "  </thead>\n",
       "  <tbody>\n",
       "    <tr>\n",
       "      <th>0</th>\n",
       "      <td>80</td>\n",
       "      <td>3.958256</td>\n",
       "      <td>13.559824</td>\n",
       "      <td>994</td>\n",
       "      <td>1025</td>\n",
       "      <td>dbasin_cent</td>\n",
       "      <td>NAMOI RIVER</td>\n",
       "      <td>19</td>\n",
       "      <td>NAMOI-GWYDIR</td>\n",
       "      <td>I</td>\n",
       "      <td>MURRAY-DARLING</td>\n",
       "      <td>IV</td>\n",
       "      <td>-30.792882</td>\n",
       "      <td>149.912109</td>\n",
       "      <td>(POLYGON ((1564693.727287573 -3341025, 1564675...</td>\n",
       "      <td>Namoi_0</td>\n",
       "    </tr>\n",
       "    <tr>\n",
       "      <th>1</th>\n",
       "      <td>80</td>\n",
       "      <td>3.958256</td>\n",
       "      <td>13.559824</td>\n",
       "      <td>994</td>\n",
       "      <td>1025</td>\n",
       "      <td>dbasin_cent</td>\n",
       "      <td>NAMOI RIVER</td>\n",
       "      <td>19</td>\n",
       "      <td>NAMOI-GWYDIR</td>\n",
       "      <td>I</td>\n",
       "      <td>MURRAY-DARLING</td>\n",
       "      <td>IV</td>\n",
       "      <td>-30.792882</td>\n",
       "      <td>149.912109</td>\n",
       "      <td>POLYGON ((1566525 -3341737.934112479, 1566525 ...</td>\n",
       "      <td>Namoi_1</td>\n",
       "    </tr>\n",
       "    <tr>\n",
       "      <th>2</th>\n",
       "      <td>80</td>\n",
       "      <td>3.958256</td>\n",
       "      <td>13.559824</td>\n",
       "      <td>994</td>\n",
       "      <td>1025</td>\n",
       "      <td>dbasin_cent</td>\n",
       "      <td>NAMOI RIVER</td>\n",
       "      <td>19</td>\n",
       "      <td>NAMOI-GWYDIR</td>\n",
       "      <td>I</td>\n",
       "      <td>MURRAY-DARLING</td>\n",
       "      <td>IV</td>\n",
       "      <td>-30.792882</td>\n",
       "      <td>149.912109</td>\n",
       "      <td>POLYGON ((1556850 -3347625, 1556900 -3347625, ...</td>\n",
       "      <td>Namoi_2</td>\n",
       "    </tr>\n",
       "    <tr>\n",
       "      <th>3</th>\n",
       "      <td>80</td>\n",
       "      <td>3.958256</td>\n",
       "      <td>13.559824</td>\n",
       "      <td>994</td>\n",
       "      <td>1025</td>\n",
       "      <td>dbasin_cent</td>\n",
       "      <td>NAMOI RIVER</td>\n",
       "      <td>19</td>\n",
       "      <td>NAMOI-GWYDIR</td>\n",
       "      <td>I</td>\n",
       "      <td>MURRAY-DARLING</td>\n",
       "      <td>IV</td>\n",
       "      <td>-30.792882</td>\n",
       "      <td>149.912109</td>\n",
       "      <td>POLYGON ((1603050 -3353900, 1603125 -3353900, ...</td>\n",
       "      <td>Namoi_3</td>\n",
       "    </tr>\n",
       "    <tr>\n",
       "      <th>4</th>\n",
       "      <td>80</td>\n",
       "      <td>3.958256</td>\n",
       "      <td>13.559824</td>\n",
       "      <td>994</td>\n",
       "      <td>1025</td>\n",
       "      <td>dbasin_cent</td>\n",
       "      <td>NAMOI RIVER</td>\n",
       "      <td>19</td>\n",
       "      <td>NAMOI-GWYDIR</td>\n",
       "      <td>I</td>\n",
       "      <td>MURRAY-DARLING</td>\n",
       "      <td>IV</td>\n",
       "      <td>-30.792882</td>\n",
       "      <td>149.912109</td>\n",
       "      <td>POLYGON ((1599350 -3356400, 1599475 -3356400, ...</td>\n",
       "      <td>Namoi_4</td>\n",
       "    </tr>\n",
       "  </tbody>\n",
       "</table>\n",
       "</div>"
      ],
      "text/plain": [
       "   DN      AREA  PERIMETER  AUS_  AUS_ID       F_CODE        BNAME BNUM  \\\n",
       "0  80  3.958256  13.559824   994    1025  dbasin_cent  NAMOI RIVER   19   \n",
       "1  80  3.958256  13.559824   994    1025  dbasin_cent  NAMOI RIVER   19   \n",
       "2  80  3.958256  13.559824   994    1025  dbasin_cent  NAMOI RIVER   19   \n",
       "3  80  3.958256  13.559824   994    1025  dbasin_cent  NAMOI RIVER   19   \n",
       "4  80  3.958256  13.559824   994    1025  dbasin_cent  NAMOI RIVER   19   \n",
       "\n",
       "          RNAME RNUM           DNAME DNUM  CENTROID_Y  CENTROID_X  \\\n",
       "0  NAMOI-GWYDIR    I  MURRAY-DARLING   IV  -30.792882  149.912109   \n",
       "1  NAMOI-GWYDIR    I  MURRAY-DARLING   IV  -30.792882  149.912109   \n",
       "2  NAMOI-GWYDIR    I  MURRAY-DARLING   IV  -30.792882  149.912109   \n",
       "3  NAMOI-GWYDIR    I  MURRAY-DARLING   IV  -30.792882  149.912109   \n",
       "4  NAMOI-GWYDIR    I  MURRAY-DARLING   IV  -30.792882  149.912109   \n",
       "\n",
       "                                            geometry UniqueID  \n",
       "0  (POLYGON ((1564693.727287573 -3341025, 1564675...  Namoi_0  \n",
       "1  POLYGON ((1566525 -3341737.934112479, 1566525 ...  Namoi_1  \n",
       "2  POLYGON ((1556850 -3347625, 1556900 -3347625, ...  Namoi_2  \n",
       "3  POLYGON ((1603050 -3353900, 1603125 -3353900, ...  Namoi_3  \n",
       "4  POLYGON ((1599350 -3356400, 1599475 -3356400, ...  Namoi_4  "
      ]
     },
     "execution_count": 39,
     "metadata": {},
     "output_type": "execute_result"
    }
   ],
   "source": [
    "subcath_irr.head()"
   ]
  },
  {
   "cell_type": "code",
   "execution_count": 41,
   "metadata": {},
   "outputs": [],
   "source": [
    "#export to file for use in WIT analysis\n",
    "subcath_irr.to_file('results/irrigatedWIT/'+catchmentName+\"_WIT_ready.shp\")"
   ]
  },
  {
   "cell_type": "code",
   "execution_count": null,
   "metadata": {},
   "outputs": [],
   "source": []
  },
  {
   "cell_type": "code",
   "execution_count": null,
   "metadata": {},
   "outputs": [],
   "source": []
  },
  {
   "cell_type": "code",
   "execution_count": null,
   "metadata": {},
   "outputs": [],
   "source": []
  },
  {
   "cell_type": "code",
   "execution_count": null,
   "metadata": {},
   "outputs": [],
   "source": []
  },
  {
   "cell_type": "code",
   "execution_count": null,
   "metadata": {},
   "outputs": [],
   "source": []
  }
 ],
 "metadata": {
  "kernelspec": {
   "display_name": "Python 3",
   "language": "python",
   "name": "python3"
  },
  "language_info": {
   "codemirror_mode": {
    "name": "ipython",
    "version": 3
   },
   "file_extension": ".py",
   "mimetype": "text/x-python",
   "name": "python",
   "nbconvert_exporter": "python",
   "pygments_lexer": "ipython3",
   "version": "3.6.7"
  }
 },
 "nbformat": 4,
 "nbformat_minor": 2
}
