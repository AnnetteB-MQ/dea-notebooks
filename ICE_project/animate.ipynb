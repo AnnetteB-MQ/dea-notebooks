{
 "cells": [
  {
   "cell_type": "markdown",
   "metadata": {},
   "source": [
    "## Animating the irrigated area shapefiles\n",
    "\n",
    "The animation will include a lineplot with irrigated area anomalies and winter rainfall anomalies alongside.\n",
    "\n",
    "The animation uses a small subset of the NMDB because the files are too large otherwise. \n"
   ]
  },
  {
   "cell_type": "code",
   "execution_count": null,
   "metadata": {},
   "outputs": [],
   "source": [
    "# Import modules\n",
    "import sys\n",
    "import os\n",
    "import pandas as pd\n",
    "import geopandas as gpd\n",
    "from IPython.display import Image\n",
    "import matplotlib.pyplot as plt\n",
    "import xarray as xr\n",
    "import pandas as pd\n",
    "import numpy as np\n",
    "import matplotlib.pyplot as plt\n",
    "import seaborn\n",
    "from osgeo import gdal, ogr\n",
    "\n",
    "# Import external dea-notebooks functions using relative link to Scripts directory\n",
    "sys.path.append('src/')\n",
    "import DEADataHandling\n",
    "import DEAPlotting\n",
    "from SpatialTools import geotransform\n",
    "from SpatialTools import array_to_geotiff\n",
    "from SpatialTools import rasterize_vector"
   ]
  },
  {
   "cell_type": "markdown",
   "metadata": {},
   "source": [
    "### User Inputs"
   ]
  },
  {
   "cell_type": "code",
   "execution_count": null,
   "metadata": {},
   "outputs": [],
   "source": [
    "#Pandas plot files\n",
    "irr_file = 'results/nmdb_plots/csvs/NMDB_annual_area.csv'\n",
    "rain_file = 'data/mdb_rainfall.csv'\n",
    "\n",
    "#Animation files\n",
    "# data = \"results/animations/NMDB_irrigation.nc\"\n",
    "data = \"results/animations/threeRivers_irrigation.nc\"\n",
    "\n",
    "directory = \"/g/data/r78/cb3058/dea-notebooks/ICE_project/results/nmdb/\"\n",
    "suffix = \"_Irrigated_OEHandLS_masked\"\n",
    "\n",
    "nmdb_shape = \"data/spatial/northern_basins.shp\"\n",
    "threeRivers = 'data/spatial/ThreeRivers.shp'"
   ]
  },
  {
   "cell_type": "markdown",
   "metadata": {},
   "source": [
    "### Firstly, lets get our pandas dataframe sorted"
   ]
  },
  {
   "cell_type": "code",
   "execution_count": null,
   "metadata": {},
   "outputs": [],
   "source": [
    "#get our irrigated area data, and scale it so numbers are similar to rainfall anomalies\n",
    "irr_area = pd.read_csv(irr_file)['irrigated area']\n",
    "mean_area = irr_area.mean()\n",
    "irr_anom = irr_area - mean_area\n",
    "scaledIrrAreaAnom = irr_anom / 1000\n",
    "\n",
    "#load in rainfall anomaly data\n",
    "rain = pd.read_csv(rain_file)\n",
    "rain = rain.drop([24,25])\n",
    "\n",
    "dates = pd.date_range(start='1/1/1987', end='1/01/2019', freq='Y')\n",
    "dates = dates.drop([pd.Timestamp('2011-12-31'), pd.Timestamp('2012-12-31')])"
   ]
  },
  {
   "cell_type": "code",
   "execution_count": null,
   "metadata": {},
   "outputs": [],
   "source": [
    "df = pd.DataFrame({\"Rainfall (mm)\": list(rain.rain_anomaly_winter),\n",
    "                   \"Irrigation (10^3 Ha)\": list(scaledIrrAreaAnom)}, \n",
    "                    index =dates)"
   ]
  },
  {
   "cell_type": "code",
   "execution_count": null,
   "metadata": {},
   "outputs": [],
   "source": [
    "df.plot(figsize=(15,6),ylim=(-200,200), style='o--')\n",
    "plt.axhline(y=0,c= 'grey', linestyle='-')"
   ]
  },
  {
   "cell_type": "markdown",
   "metadata": {},
   "source": [
    "### Now, lets get the irrigated area shapefiles into an xarray"
   ]
  },
  {
   "cell_type": "code",
   "execution_count": null,
   "metadata": {},
   "outputs": [],
   "source": [
    "#list of years to help for-loop iterate through folders\n",
    "x = range(1987,2019,1)\n",
    "years = []\n",
    "for i in x:\n",
    "    nextyear = str(i + 1)[2:]\n",
    "    y = str(i) + \"_\" + nextyear\n",
    "    years.append(str(y))\n",
    "# removing years that didn't work\n",
    "years =  [e for e in years if e not in ('2011_12', '2012_13')]\n",
    "years.sort()\n",
    "\n",
    "#list of folders to help with loop\n",
    "folders = os.listdir(directory)\n",
    "folders.sort()"
   ]
  },
  {
   "cell_type": "code",
   "execution_count": null,
   "metadata": {},
   "outputs": [],
   "source": [
    "# Convert our shapefiles into tiffs, add them to an giant xarray and \n",
    "# then export as netcdf so we don't have to keep loading them while we\n",
    "# work out the animation code.\n",
    "def convertIrrShpToTiff(shp, year):  \n",
    "    #open a tif and get transform info\n",
    "    tif = shp[:77]+shp[77:95]+\"_multithreshold_65Thres\"+suffix[10:]+\".tif\"\n",
    "    ds = xr.open_rasterio(tif).squeeze()\n",
    "    transform, proj = geotransform(ds, (ds.x, ds.y), epsg=3577, alignment='centre')\n",
    "    rows,cols = ds.shape\n",
    "    #turn vector in numpy array\n",
    "    shp_arr = rasterize_vector(shp, cols=cols, rows=rows, geo_transform=transform, projection=proj)\n",
    "    #convert numpy array inot xarray\n",
    "    shp_xr = xr.DataArray(shp_arr, coords = [ds.y, ds.x], dims = ['y', 'x'])\n",
    "    #append xarray to list\n",
    "    da_list.append(shp_xr)\n",
    "\n",
    "da_list = []\n",
    "for year, folder in zip(years, folders): \n",
    "    print(\"\\r\", \"working on year: \" + year, end = '')\n",
    "    convertIrrShpToTiff(directory+folder+\"/\"+\"nmdb_Summer\"+ year + suffix+\".shp\", year)\n",
    "\n",
    "#generate date ranges to use as cooridnates in xrray dataset\n",
    "dates = pd.date_range(start='1/1/1987', end='1/01/2019', freq='Y')\n",
    "dates = dates.drop([pd.Timestamp('2011-12-31'), pd.Timestamp('2012-12-31')])\n",
    "#concatenate all xarrays in list to a single multi-dim xarray with time ('dates') as coords.\n",
    "da = xr.concat(da_list, dim=dates).rename({'concat_dim':'time'}).rename('Irrigated_Area')\n",
    "#convert to dataset\n",
    "ds = da.to_dataset()\n",
    "#export netcdf\n",
    "ds.to_netcdf(\"results/animations/NMDB_irrigation.nc\")"
   ]
  },
  {
   "cell_type": "markdown",
   "metadata": {},
   "source": [
    "### Now, load in xarray dataset of the irrigated areas and animate with lineplot"
   ]
  },
  {
   "cell_type": "code",
   "execution_count": null,
   "metadata": {},
   "outputs": [],
   "source": [
    "ds = xr.open_dataset(data).isel(time=1)#.isel(x=range(5000,13000)).isel(y=range(5000,13000))\n",
    "ds = ds.fillna(0)"
   ]
  },
  {
   "cell_type": "code",
   "execution_count": null,
   "metadata": {},
   "outputs": [],
   "source": [
    "# ds.Irrigated_Area.plot(figsize=(15,15))"
   ]
  },
  {
   "cell_type": "code",
   "execution_count": null,
   "metadata": {},
   "outputs": [],
   "source": [
    "#NOTE: can't have nans in the dataset or the animnation will be blank\n",
    "ds = ds.Irrigated_Area.fillna(0)"
   ]
  },
  {
   "cell_type": "code",
   "execution_count": null,
   "metadata": {},
   "outputs": [],
   "source": [
    "DEAPlotting.animated_timeseriesline(ds, df, \"results/animations/threeRivers_lineplot.gif\", \n",
    "                                    width_pixels=1000, interval=300, bands=['Irrigated_Area'],onebandplot_cbar=False,\n",
    "                                    show_date=True, shapefile_path=threeRivers,title= \"Summer Irrigated Area\",\n",
    "                                    onebandplot_kwargs={'cmap':'plasma'},\n",
    "                                    pandasplot_kwargs={'ylim': (-200,200), 'style':'o--'}, \n",
    "                                    shapefile_kwargs={'linewidth':1, 'edgecolor':'black', 'facecolor':\"#00000000\"})"
   ]
  },
  {
   "cell_type": "code",
   "execution_count": null,
   "metadata": {},
   "outputs": [],
   "source": []
  },
  {
   "cell_type": "code",
   "execution_count": null,
   "metadata": {},
   "outputs": [],
   "source": []
  }
 ],
 "metadata": {
  "kernelspec": {
   "display_name": "Python 3",
   "language": "python",
   "name": "python3"
  },
  "language_info": {
   "codemirror_mode": {
    "name": "ipython",
    "version": 3
   },
   "file_extension": ".py",
   "mimetype": "text/x-python",
   "name": "python",
   "nbconvert_exporter": "python",
   "pygments_lexer": "ipython3",
   "version": "3.6.7"
  }
 },
 "nbformat": 4,
 "nbformat_minor": 2
}
