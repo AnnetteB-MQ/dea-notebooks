{
 "cells": [
  {
   "cell_type": "markdown",
   "metadata": {},
   "source": [
    "Task: animate the irrigated area shapefiles, and include alongside an animated timeseries of the winter rainfall (and irrigated area?). Scaling between the winter rainfall totals and irrigated area could be a problem (divide irrigation by 10^4).  \n",
    "Need to rasterize the irrigated shapefiles\n",
    "stack them into a timestamped xarray\n",
    "match the timestamp on the winter rainfal\n",
    "build a pandas array with irigated area and winter rainfall and timestamped index matching the xarray\n",
    "add a shapefile with the NMDB boundaries to animation\n"
   ]
  },
  {
   "cell_type": "code",
   "execution_count": 2,
   "metadata": {},
   "outputs": [],
   "source": [
    "# Import modules\n",
    "import datacube \n",
    "from datacube.utils import geometry\n",
    "import sys\n",
    "import os\n",
    "import pandas as pd\n",
    "from IPython.display import Image\n",
    "import matplotlib.pyplot as plt\n",
    "import fiona\n",
    "\n",
    "import pandas as pd\n",
    "import numpy as np\n",
    "import matplotlib.pyplot as plt\n",
    "import seaborn\n",
    "\n",
    "# Import external dea-notebooks functions using relative link to Scripts directory\n",
    "sys.path.append('src/')\n",
    "import DEADataHandling\n",
    "import DEAPlotting"
   ]
  },
  {
   "cell_type": "markdown",
   "metadata": {},
   "source": [
    "Firstly, lets get our pamdas dataframe sorted"
   ]
  },
  {
   "cell_type": "code",
   "execution_count": 26,
   "metadata": {},
   "outputs": [],
   "source": [
    "#get our irrigated area data, and scale it so numbers are similar to rainfall anomalies\n",
    "irr_area = pd.read_csv('results/nmdb_plots/csvs/NMDB_annual_area.csv')['irrigated area']\n",
    "scaledIrrArea = irr_area / 10000\n",
    "\n",
    "#load in rainfall anomaly data\n",
    "rain = pd.read_csv('data/mdb_rainfall.csv')\n",
    "rain = rain.drop([24,25])\n",
    "\n",
    "dates = pd.date_range(start='1/1/1987', end='1/01/2019', freq='Y')\n",
    "dates = dates.drop([pd.Timestamp('2011-12-31'), pd.Timestamp('2012-12-31')])"
   ]
  },
  {
   "cell_type": "code",
   "execution_count": 27,
   "metadata": {},
   "outputs": [
    {
     "data": {
      "text/plain": [
       "30"
      ]
     },
     "execution_count": 27,
     "metadata": {},
     "output_type": "execute_result"
    }
   ],
   "source": [
    "len(rain)#.head()"
   ]
  },
  {
   "cell_type": "code",
   "execution_count": 28,
   "metadata": {},
   "outputs": [
    {
     "data": {
      "text/plain": [
       "30"
      ]
     },
     "execution_count": 28,
     "metadata": {},
     "output_type": "execute_result"
    }
   ],
   "source": [
    "len(scaledIrrArea)#.head()"
   ]
  },
  {
   "cell_type": "code",
   "execution_count": 30,
   "metadata": {},
   "outputs": [
    {
     "data": {
      "text/plain": [
       "DatetimeIndex(['1987-12-31', '1988-12-31', '1989-12-31', '1990-12-31',\n",
       "               '1991-12-31', '1992-12-31', '1993-12-31', '1994-12-31',\n",
       "               '1995-12-31', '1996-12-31', '1997-12-31', '1998-12-31',\n",
       "               '1999-12-31', '2000-12-31', '2001-12-31', '2002-12-31',\n",
       "               '2003-12-31', '2004-12-31', '2005-12-31', '2006-12-31',\n",
       "               '2007-12-31', '2008-12-31', '2009-12-31', '2010-12-31',\n",
       "               '2013-12-31', '2014-12-31', '2015-12-31', '2016-12-31',\n",
       "               '2017-12-31', '2018-12-31'],\n",
       "              dtype='datetime64[ns]', freq=None)"
      ]
     },
     "execution_count": 30,
     "metadata": {},
     "output_type": "execute_result"
    }
   ],
   "source": [
    "dates"
   ]
  },
  {
   "cell_type": "code",
   "execution_count": 34,
   "metadata": {},
   "outputs": [],
   "source": [
    "df = pd.DataFrame({'RainWint': list(rain.rain_anomaly_winter),\n",
    "                   'Irr_area': list(scaledIrrArea)}, \n",
    "                    index =dates)"
   ]
  },
  {
   "cell_type": "code",
   "execution_count": 36,
   "metadata": {},
   "outputs": [
    {
     "data": {
      "text/plain": [
       "<matplotlib.axes._subplots.AxesSubplot at 0x7f9c2ddc0630>"
      ]
     },
     "execution_count": 36,
     "metadata": {},
     "output_type": "execute_result"
    },
    {
     "data": {
      "image/png": "[encoded data removed]",
      "text/plain": [
       "<Figure size 432x288 with 1 Axes>"
      ]
     },
     "metadata": {
      "needs_background": "light"
     },
     "output_type": "display_data"
    }
   ],
   "source": [
    "df.plot()"
   ]
  },
  {
   "cell_type": "code",
   "execution_count": null,
   "metadata": {},
   "outputs": [],
   "source": []
  },
  {
   "cell_type": "code",
   "execution_count": null,
   "metadata": {},
   "outputs": [],
   "source": []
  },
  {
   "cell_type": "code",
   "execution_count": null,
   "metadata": {},
   "outputs": [],
   "source": []
  },
  {
   "cell_type": "code",
   "execution_count": 4,
   "metadata": {},
   "outputs": [],
   "source": [
    "with fiona.open(shape_file) as shapes:\n",
    "    crs = geometry.CRS(shapes.crs_wkt) \n",
    "    ShapesList = list(shapes)\n",
    "\n",
    "first_geometry = ShapesList[polygon_Num]['geometry']\n",
    "poly_name =ShapesList[polygon_Num]['properties']['name'].replace(' ','_')\n",
    "\n",
    "geom = geometry.Geometry(first_geometry, crs=crs)"
   ]
  },
  {
   "cell_type": "code",
   "execution_count": null,
   "metadata": {},
   "outputs": [],
   "source": [
    "# Set up datacube instance\n",
    "dc = datacube.Datacube(app='Time series animation')\n",
    "\n",
    "# Set up spatial and temporal query.\n",
    "query1987_97 = {'geopolygon': geom,\n",
    "         'time': ('1987-01-01', '1997-12-31')\n",
    "         }\n",
    "\n",
    "query1998_08 = {'geopolygon': geom,\n",
    "         'time': ('1998-01-01', '2008-12-31')\n",
    "         }\n",
    "\n",
    "query2009_19 = {'geopolygon': geom,\n",
    "         'time': ('2009-01-01', '2019-04-30')\n",
    "         }\n",
    "\n",
    "queryAllTime = {'geopolygon': geom,\n",
    "         'time': ('1987-01-01', '2019-04-30')\n",
    "         }\n",
    "\n",
    "# querysentinel = {'geopolygon': geom,\n",
    "#          'time': ('2015-01-01', '2019-05-30')\n",
    "#          }\n",
    "# querysentinel['resolution'] = (-10,10)\n",
    "# querysentinel['output_crs'] = ('epsg:3577')"
   ]
  },
  {
   "cell_type": "code",
   "execution_count": null,
   "metadata": {},
   "outputs": [],
   "source": [
    "#loading sentinel 2\n",
    "# ds_sentinel = DEADataHandling.load_clearsentinel2(dc=dc, query=querysentinel, \n",
    "#                                        bands_of_interest=['nbart_red', 'nbart_green', 'nbart_blue'], \n",
    "#                                        masked_prop=0.9, mask_pixel_quality=True) "
   ]
  },
  {
   "cell_type": "code",
   "execution_count": null,
   "metadata": {},
   "outputs": [],
   "source": [
    "# Set the minimum proportion of clear pixels (pixels with no clouds or other nodata)\n",
    "masked_prop=0.90\n",
    "# Load in only clear Landsat observations with < 1% unclear values\n",
    "ds_1987_97 = DEADataHandling.load_clearlandsat(dc=dc, query=query1987_97, \n",
    "                                       bands_of_interest=['red', 'green', 'blue'], \n",
    "                                       masked_prop=masked_prop) \n",
    "\n",
    "ds_1998_08 = DEADataHandling.load_clearlandsat(dc=dc, query=query1998_08, \n",
    "                                       bands_of_interest=['red', 'green', 'blue'], \n",
    "                                       masked_prop=masked_prop) \n",
    "\n",
    "ds_2009_19 = DEADataHandling.load_clearlandsat(dc=dc, query=query2009_19, \n",
    "                                       bands_of_interest=['red', 'green', 'blue'], \n",
    "                                       masked_prop=masked_prop) \n",
    "\n",
    "ds_allTime = DEADataHandling.load_clearlandsat(dc=dc, query=queryAllTime, \n",
    "                                       bands_of_interest=['red', 'green', 'blue'], \n",
    "                                       masked_prop=masked_prop) "
   ]
  },
  {
   "cell_type": "code",
   "execution_count": null,
   "metadata": {},
   "outputs": [],
   "source": [
    "# #sentinel animation\n",
    "# DEAPlotting.animated_timeseries(ds=ds_sentinel, bands=['nbart_red', 'nbart_green', 'nbart_blue'],\n",
    "#                                 output_path=\"results/\" + f'{poly_name}_sentinel_animated_timeseries.gif', \n",
    "#                                 interval=500)"
   ]
  },
  {
   "cell_type": "code",
   "execution_count": null,
   "metadata": {},
   "outputs": [],
   "source": [
    "# Produce time series animation of red, green and blue bands\n",
    "DEAPlotting.animated_timeseries(ds=ds_1987_97, \n",
    "                                output_path=\"results/\" + f'{poly_name}_1987_97_animated_timeseries.gif', \n",
    "                                interval=500) "
   ]
  },
  {
   "cell_type": "code",
   "execution_count": null,
   "metadata": {},
   "outputs": [],
   "source": [
    "# Produce time series animation of red, green and blue bands\n",
    "DEAPlotting.animated_timeseries(ds=ds_1998_08,\n",
    "                                output_path=\"results/\" + f'{poly_name}_1998_08_animated_timeseries.gif', \n",
    "                                interval=500) "
   ]
  },
  {
   "cell_type": "code",
   "execution_count": null,
   "metadata": {},
   "outputs": [],
   "source": [
    "# Produce time series animation of red, green and blue bands\n",
    "DEAPlotting.animated_timeseries(ds=ds_2009_19,\n",
    "                                output_path=\"results/\"+ f'{poly_name}_2009_19_animated_timeseries.gif', \n",
    "                                interval=500) "
   ]
  },
  {
   "cell_type": "code",
   "execution_count": null,
   "metadata": {},
   "outputs": [],
   "source": [
    "DEAPlotting.animated_timeseries(ds=ds_allTime,\n",
    "                                output_path=\"results/\"+ f'{poly_name}_allTime_animated_timeseries.gif', \n",
    "                                interval=500) "
   ]
  },
  {
   "cell_type": "code",
   "execution_count": null,
   "metadata": {},
   "outputs": [],
   "source": []
  }
 ],
 "metadata": {
  "kernelspec": {
   "display_name": "Python 3",
   "language": "python",
   "name": "python3"
  },
  "language_info": {
   "codemirror_mode": {
    "name": "ipython",
    "version": 3
   },
   "file_extension": ".py",
   "mimetype": "text/x-python",
   "name": "python",
   "nbconvert_exporter": "python",
   "pygments_lexer": "ipython3",
   "version": "3.6.7"
  }
 },
 "nbformat": 4,
 "nbformat_minor": 2
}
