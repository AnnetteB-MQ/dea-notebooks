{
 "cells": [
  {
   "cell_type": "markdown",
   "metadata": {},
   "source": [
    "## Results for the Annual Summer Irrigated Cropping Area (SICA) project"
   ]
  },
  {
   "cell_type": "code",
   "execution_count": null,
   "metadata": {
    "ExecuteTime": {
     "end_time": "2019-05-10T03:47:05.175970Z",
     "start_time": "2019-05-10T03:47:02.046178Z"
    }
   },
   "outputs": [],
   "source": [
    "import numpy as np\n",
    "import xarray as xr\n",
    "import geopandas as gpd\n",
    "import pandas as pd\n",
    "from osgeo import gdal, ogr\n",
    "import os\n",
    "import matplotlib.pyplot as plt\n",
    "import matplotlib.ticker as ticker\n",
    "from pathlib import Path\n",
    "from shapely.geometry import Polygon, MultiPolygon"
   ]
  },
  {
   "cell_type": "markdown",
   "metadata": {},
   "source": [
    "### Entire catchment plot\n",
    "\n",
    "This code will produce a timeseries of irrigated area aggregated acrosss the entire Northern Murray Darling Basin"
   ]
  },
  {
   "cell_type": "code",
   "execution_count": null,
   "metadata": {
    "ExecuteTime": {
     "end_time": "2019-05-10T03:47:06.408560Z",
     "start_time": "2019-05-10T03:47:06.401314Z"
    }
   },
   "outputs": [],
   "source": [
    "directory = \"/g/data/r78/cb3058/dea-notebooks/ICE_project/results/nmdb/\""
   ]
  },
  {
   "cell_type": "code",
   "execution_count": null,
   "metadata": {
    "ExecuteTime": {
     "end_time": "2019-05-10T03:49:33.543082Z",
     "start_time": "2019-05-10T03:47:11.186019Z"
    }
   },
   "outputs": [],
   "source": [
    "#list of years to help for-loop iterate through folders\n",
    "x = range(1987,2019,1)\n",
    "years = []\n",
    "for i in x:\n",
    "    nextyear = str(i + 1)[2:]\n",
    "    y = str(i) + \"_\" + nextyear\n",
    "    years.append(str(y))\n",
    "# removing years that didn't work\n",
    "years =  [e for e in years if e not in ('2011_12', '2012_13')]\n",
    "years.sort()\n",
    "\n",
    "folders = os.listdir(directory)\n",
    "folders.sort()\n",
    "\n",
    "area_a = []\n",
    "# area_b = []\n",
    "# area_c = []\n",
    "\n",
    "def getIrrigatedArea(shp):\n",
    "    irr = gpd.read_file(shp)\n",
    "#     a = irr[irr.DN==80]\n",
    "#     b = irr[(irr.DN==80) | (irr.DN==75)]\n",
    "    a = irr[(irr.DN==80) | (irr.DN==75) | (irr.DN==70)]\n",
    "    area_a.append(a.area.sum() / 10000)\n",
    "#     area_b.append(b.area.sum() / 10000)\n",
    "#     area_c.append(c.area.sum() / 10000)\n",
    "        \n",
    "#grab sum of irrigated area for each each and add to dataframe\n",
    "for year, folder in zip(years, folders): \n",
    "    #progress indicator\n",
    "    print(\"\\r\", \"working on year: \" + year, end = '')\n",
    "    getIrrigatedArea(directory+folder+\"/\"+\"nmdb_Summer\"+ year + \"_IrrigatedMasked.shp\")\n",
    "\n",
    "#convert years back into integers for plot\n",
    "years_dt = []\n",
    "for i in years:\n",
    "    x = int(i[:-3])\n",
    "    years_dt.append(x)\n",
    "#create pandas dataframe\n",
    "df = pd.DataFrame.from_dict({'year':years_dt, 'irrigated area':area_a})#, '0.75+0.8':area_b, '0.70+0.75+0.8':area_c})\n",
    "df = df.set_index('year')"
   ]
  },
  {
   "cell_type": "code",
   "execution_count": null,
   "metadata": {},
   "outputs": [],
   "source": [
    "#plot\n",
    "plot_rainfall = True\n",
    "\n",
    "if plot_rainfall == True:\n",
    "    rainfall = pd.read_csv(\"data/mdb_rainfall.csv\", index_col=0)\n",
    "    ax = df.plot(colormap='jet', linestyle='--', marker='o', figsize=(16,8))\n",
    "    ax.xaxis.set_major_locator(ticker.MultipleLocator(2))\n",
    "    ax.set_xlabel('Year (Summer Nov-Mar)')\n",
    "    ax.set_ylabel('Area under Irrigation (Ha)')\n",
    "    ax.grid(True, linestyle='--', alpha=0.75)\n",
    "    ax.axvspan(2010, 2013, alpha=0.4, color='grey')\n",
    "    \n",
    "    ax2 = ax.twinx()\n",
    "    color='red'\n",
    "    ax2.set_ylabel('summer rainfall anomalies(mm)', color=color)\n",
    "    ax2.plot(rainfall, color=color, marker='o', linestyle='--', label='rainfall anomaly')\n",
    "    ax2.legend(loc=2)\n",
    "    ax2.tick_params(axis='y', labelcolor=color)\n",
    "    ax2.set_ylim(bottom=-150, top=150)\n",
    "    ax2.axhline(y=0, color='red')\n",
    "    \n",
    "    plt.tight_layout()\n",
    "    \n",
    "else:\n",
    "    ax = df.plot(colormap='jet', linestyle='--', marker='o', figsize=(20,8))\n",
    "    ax.xaxis.set_major_locator(ticker.MultipleLocator(2))\n",
    "    ax.set_xlabel('Year (Summer Nov-Mar)')\n",
    "    ax.set_ylabel('Area under Irrigation (Ha)')\n",
    "    ax.grid(True, linestyle='--', alpha=0.75)\n",
    "    ax.axvspan(2010, 2013, alpha=0.4, color='grey')\n",
    "    ax.set_title(\"Northern MDB Annual Summer Irrigated Area\")\n",
    "    plt.tight_layout()\n",
    "    plt.savefig(\"/g/data1a/r78/cb3058/dea-notebooks/ICE_project/results/nmdb_plots/nmdb_irrigated_ts.pdf\",\n",
    "               orientation='landscape')"
   ]
  },
  {
   "cell_type": "code",
   "execution_count": null,
   "metadata": {},
   "outputs": [],
   "source": [
    "# rainfall = pd.read_csv(\"data/mdb_rainfall.csv\", index_col=0)\n",
    "# ax = rainfall.plot(figsize=(21,8))\n",
    "# ax.set_ylim(bottom=-150, top=150)\n",
    "# ax.axhline(0, color='black', linestyle='--', alpha=0.5)\n",
    "# plt.tight_layout"
   ]
  },
  {
   "cell_type": "markdown",
   "metadata": {},
   "source": [
    "### Sub-catchment plots\n",
    "\n",
    "This script will produce a timeseries of irrigated area for each subcatchment in the directory.  This script is slow to run beacause the geopandas overlay functions are cumbersome (this is true of other libraries as well). To improve speed R-tree spatial indexing is used. This is where a bounding box is used to clip the AOI before the overlay function is run.  This workaround is only useful where the bounding box of the subcatchment is significantly smaller than the extent of the shapefile being clipped, so be wary if re-using this code elsewhere."
   ]
  },
  {
   "cell_type": "code",
   "execution_count": null,
   "metadata": {},
   "outputs": [],
   "source": [
    "directory = \"/g/data/r78/cb3058/dea-notebooks/ICE_project/results/nmdb/\"\n",
    "individual_catchments_dir =\"/g/data/r78/cb3058/dea-notebooks/ICE_project/data/spatial/nmdb_individual_catchments/\""
   ]
  },
  {
   "cell_type": "code",
   "execution_count": null,
   "metadata": {},
   "outputs": [],
   "source": [
    "#generate all the filenames we need for the loops\n",
    "catchments = []\n",
    "for file in os.listdir(individual_catchments_dir):\n",
    "    if file.endswith(\".shp\"):\n",
    "        catchments.append(os.path.join(individual_catchments_dir, file))\n",
    "\n",
    "x = range(1987,2019,1)\n",
    "years = []\n",
    "for i in x:\n",
    "    nextyear = str(i + 1)[2:]\n",
    "    y = str(i) + \"_\" + nextyear\n",
    "    years.append(str(y))\n",
    "# removing years that didn't work\n",
    "years =  [e for e in years if e not in ('2011_12', '2012_13')]\n",
    "years.sort()\n",
    "\n",
    "years_dt = []\n",
    "for i in years:\n",
    "    x = int(i[:-3])\n",
    "    years_dt.append(x)\n",
    "\n",
    "folders = os.listdir(directory)\n",
    "folders.sort()"
   ]
  },
  {
   "cell_type": "code",
   "execution_count": null,
   "metadata": {},
   "outputs": [],
   "source": [
    "for catchment in catchments:\n",
    "    area_a = []\n",
    "    for year, folder in zip(years, folders): \n",
    "        #progress indicator\n",
    "        print(\"\\r\", \"working on \"+ catchment[85:-4] + \": \" + year, end = '')\n",
    "        #get the irrigated area shapefile\n",
    "        irr = gpd.read_file(directory+folder+\"/\"+\"nmdb_Summer\"+ year + \"_IrrigatedMasked.shp\")\n",
    "        #get a subcatchment shapefile\n",
    "        catch = gpd.read_file(catchment)\n",
    "        geometry = catch['geometry'].iloc[0]\n",
    "        if isinstance(geometry, Polygon):\n",
    "            geometry = MultiPolygon([geometry])\n",
    "        #clip irr to catchment area (using R-tree spatial indexing)\n",
    "        sindex = irr.sindex\n",
    "        possible_matches_index = list(sindex.intersection(geometry.bounds))\n",
    "        possible_matches = irr.iloc[possible_matches_index]\n",
    "        irr_clip = possible_matches[possible_matches.intersects(geometry)]\n",
    "#         irr_clip = gpd.overlay(irr, catch, how='intersection') #works but v.v. slow\n",
    "        area_a.append(irr_clip.area.sum() / 10000)\n",
    "    #create pandas dataframe\n",
    "    df = pd.DataFrame.from_dict({'year':years_dt, 'irr_area':area_a})\n",
    "    df = df.set_index('year')\n",
    "    #create plot and save\n",
    "    ax = df.plot(colormap='jet', linestyle='--', marker='o', figsize=(20,8))\n",
    "    ax.xaxis.set_major_locator(ticker.MultipleLocator(2))\n",
    "    ax.set_xlabel('Year (Summer Nov-Mar)')\n",
    "    ax.set_ylabel('Area under Irrigation (Ha)')\n",
    "    ax.grid(True, linestyle='--', alpha=0.75)\n",
    "    ax.axvspan(2010, 2013, alpha=0.4, color='grey')\n",
    "    ax.set_title(catchment[85:-4])\n",
    "    plt.tight_layout()\n",
    "    plt.savefig(\"/g/data1a/r78/cb3058/dea-notebooks/ICE_project/results/nmdb_plots/\"+ catchment[85:-4]+\".pdf\",\n",
    "               orientation='landscape')       "
   ]
  },
  {
   "cell_type": "markdown",
   "metadata": {},
   "source": [
    "### Cumulative Irrigatable area\n",
    "\n",
    "What am I trying to do....show all area thats undergone irrigation during a time interval...show it every 5? years.  So I'd need to union the irrigated polygons from eg 1988-1990, 1990-1995, 1995-2000, 2000-2005, 2005-2010,2010-2015, 2015-2019\n",
    "For each time adjacent saved file\n",
    "    find the difference between them ---> this might be best accommplished in Arc...Rather than generate more files just use coloramps to show\n",
    "    \n",
    "    "
   ]
  },
  {
   "cell_type": "code",
   "execution_count": null,
   "metadata": {},
   "outputs": [],
   "source": [
    "directory = \"/g/data/r78/cb3058/dea-notebooks/ICE_project/results/nmdb/\"\n",
    "individual_catchments_dir =\"/g/data/r78/cb3058/dea-notebooks/ICE_project/data/spatial/nmdb_individual_catchments/\"\n",
    "AOI = \"nmdb_Summer\""
   ]
  },
  {
   "cell_type": "code",
   "execution_count": null,
   "metadata": {},
   "outputs": [],
   "source": [
    "#create list of catchment shapefiles\n",
    "catchments = []\n",
    "for file in os.listdir(individual_catchments_dir):\n",
    "    if file.endswith(\".shp\"):\n",
    "        catchments.append(os.path.join(individual_catchments_dir, file))\n",
    "#time ranges\n",
    "t1 = [str(t) for t in range(1987,1991,1)]\n",
    "t2 = [str(t) for t in range(1991,1996,1)]\n",
    "t3 = [str(t) for t in range(1996,2001,1)]\n",
    "t4 = [str(t) for t in range(2001,2012,1)]\n",
    "t4 =  [e for e in t4 if e not in ('2011_12', '2012_13')]\n",
    "t5 = [str(t) for t in range(2012,2019,1)]\n",
    "\n",
    "#list for putting results in\n",
    "gdfs_t1=[]\n",
    "gdfs_t2=[]\n",
    "gdfs_t3=[]\n",
    "gdfs_t4=[]\n",
    "gdfs_t5=[]"
   ]
  },
  {
   "cell_type": "code",
   "execution_count": null,
   "metadata": {},
   "outputs": [],
   "source": [
    "def cliptocatchment(t):\n",
    "    #progress indicator\n",
    "    print(\"\\r\", \"working on \"+ catchment[85:-4] + \": \" + t, end = '')\n",
    "    nextyear= str(int(t)+1)[2:]\n",
    "    irr = gpd.read_file(directory + AOI + t + \"_\" + nextyear + \"/\"+ AOI + t + \"_\" + nextyear+\"_IrrigatedMasked.shp\")\n",
    "    catch = gpd.read_file(catchment)\n",
    "    geometry = catch['geometry'].iloc[0]\n",
    "    if isinstance(geometry, Polygon):\n",
    "        geometry = MultiPolygon([geometry])\n",
    "    #clip irr to catchment area (using R-tree spatial indexing)\n",
    "    sindex = irr.sindex\n",
    "    possible_matches_index = list(sindex.intersection(geometry.bounds))\n",
    "    possible_matches = irr.iloc[possible_matches_index]\n",
    "    irr = possible_matches[possible_matches.intersects(geometry)]\n",
    "    shapes.append(irr)\n",
    "\n",
    "def unionyears(timelist, gdf_list):\n",
    "    shapes = []\n",
    "    for t in timelist:\n",
    "        cliptocatchment(t)\n",
    "    x = pd.concat(shapes)\n",
    "    x['year_range'] = timelist[0]+ \"_\"+timelist[-1]\n",
    "    x = x.unary_union\n",
    "    gdf_list.append(x)    "
   ]
  },
  {
   "cell_type": "code",
   "execution_count": null,
   "metadata": {},
   "outputs": [],
   "source": [
    "for catchment in catchments:\n",
    "    unionyears(t1, gdfs_t1)"
   ]
  },
  {
   "cell_type": "code",
   "execution_count": null,
   "metadata": {},
   "outputs": [],
   "source": [
    "for catchment in catchments:\n",
    "    unionyears(t2, gdfs_t2)"
   ]
  },
  {
   "cell_type": "code",
   "execution_count": null,
   "metadata": {},
   "outputs": [],
   "source": [
    "for catchment in catchments:\n",
    "    unionyears(t3, gdfs_t3)"
   ]
  },
  {
   "cell_type": "code",
   "execution_count": null,
   "metadata": {},
   "outputs": [],
   "source": [
    "for catchment in catchments:\n",
    "    unionyears(t4, gdfs_t4)"
   ]
  },
  {
   "cell_type": "code",
   "execution_count": null,
   "metadata": {},
   "outputs": [],
   "source": [
    "for catchment in catchments:\n",
    "    unionyears(t5, gdfs_t5)"
   ]
  }
 ],
 "metadata": {
  "kernelspec": {
   "display_name": "Python 3",
   "language": "python",
   "name": "python3"
  },
  "language_info": {
   "codemirror_mode": {
    "name": "ipython",
    "version": 3
   },
   "file_extension": ".py",
   "mimetype": "text/x-python",
   "name": "python",
   "nbconvert_exporter": "python",
   "pygments_lexer": "ipython3",
   "version": "3.6.7"
  },
  "toc": {
   "base_numbering": 1,
   "nav_menu": {},
   "number_sections": true,
   "sideBar": true,
   "skip_h1_title": false,
   "title_cell": "Table of Contents",
   "title_sidebar": "Contents",
   "toc_cell": false,
   "toc_position": {
    "height": "calc(100% - 180px)",
    "left": "10px",
    "top": "150px",
    "width": "165px"
   },
   "toc_section_display": true,
   "toc_window_display": true
  }
 },
 "nbformat": 4,
 "nbformat_minor": 2
}
