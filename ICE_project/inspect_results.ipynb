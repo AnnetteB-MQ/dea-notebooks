{
 "cells": [
  {
   "cell_type": "markdown",
   "metadata": {},
   "source": [
    "## Results for the Annual Summer Irrigated Cropping Area (SICA) project\n"
   ]
  },
  {
   "cell_type": "code",
   "execution_count": null,
   "metadata": {
    "ExecuteTime": {
     "end_time": "2019-05-10T03:47:05.175970Z",
     "start_time": "2019-05-10T03:47:02.046178Z"
    }
   },
   "outputs": [],
   "source": [
    "import numpy as np\n",
    "import xarray as xr\n",
    "import geopandas as gpd\n",
    "import pandas as pd\n",
    "from osgeo import gdal, ogr\n",
    "import os\n",
    "import matplotlib.pyplot as plt\n",
    "import matplotlib.ticker as ticker\n",
    "from pathlib import Path\n",
    "from shapely.geometry import Polygon, MultiPolygon\n",
    "import warnings\n",
    "from multiprocessing import Pool"
   ]
  },
  {
   "cell_type": "markdown",
   "metadata": {},
   "source": [
    "### Entire catchment plot\n",
    "\n",
    "This code will produce a timeseries of annual irrigated area aggregated acrosss the entire Northern Murray Darling Basin"
   ]
  },
  {
   "cell_type": "code",
   "execution_count": null,
   "metadata": {
    "ExecuteTime": {
     "end_time": "2019-05-10T03:47:06.408560Z",
     "start_time": "2019-05-10T03:47:06.401314Z"
    }
   },
   "outputs": [],
   "source": [
    "directory = \"/g/data/r78/cb3058/dea-notebooks/ICE_project/results/nmdb/\"\n",
    "suffix = \"_Irrigated_OEHandLS_masked\""
   ]
  },
  {
   "cell_type": "code",
   "execution_count": null,
   "metadata": {
    "ExecuteTime": {
     "end_time": "2019-05-10T03:49:33.543082Z",
     "start_time": "2019-05-10T03:47:11.186019Z"
    }
   },
   "outputs": [],
   "source": [
    "#list of years to help for-loop iterate through folders\n",
    "x = range(1987,2019,1)\n",
    "years = []\n",
    "for i in x:\n",
    "    nextyear = str(i + 1)[2:]\n",
    "    y = str(i) + \"_\" + nextyear\n",
    "    years.append(str(y))\n",
    "# removing years that didn't work\n",
    "years =  [e for e in years if e not in ('2011_12', '2012_13')]\n",
    "years.sort()\n",
    "\n",
    "folders = os.listdir(directory)\n",
    "folders.sort()\n",
    "\n",
    "area_a = []\n",
    "def getIrrigatedArea(shp):\n",
    "    irr = gpd.read_file(shp)\n",
    "    area_a.append(irr.area.sum() / 10000)\n",
    "\n",
    "#grab sum of irrigated area for each each and add to dataframe\n",
    "for year, folder in zip(years, folders): \n",
    "    #progress indicator\n",
    "    print(\"\\r\", \"working on year: \" + year, end = '')\n",
    "    getIrrigatedArea(directory+folder+\"/\"+\"nmdb_Summer\"+ year + suffix+\".shp\")\n",
    "\n",
    "#convert years back into integers for plot\n",
    "years_dt = []\n",
    "for i in years:\n",
    "    x = int(i[:-3])\n",
    "    years_dt.append(x)\n",
    "#create pandas dataframe\n",
    "df = pd.DataFrame.from_dict({'year':years_dt, 'irrigated area':area_a})#, '0.75+0.8':area_b, '0.70+0.75+0.8':area_c})\n",
    "df = df.set_index('year')\n",
    "df.to_csv(\"results/nmdb_plots/csvs/NMDB_annual_area.csv\", header=True)"
   ]
  },
  {
   "cell_type": "code",
   "execution_count": null,
   "metadata": {},
   "outputs": [],
   "source": [
    "#plot annual irrigated area\n",
    "fontsize = 15\n",
    "df = pd.read_csv(\"results/nmdb_plots/csvs/NMDB_annual_area.csv\", index_col=0)\n",
    "ax = df.plot(colormap='jet', linestyle='--', marker='o', legend=False,figsize=(20,8))\n",
    "ax.xaxis.set_major_locator(ticker.MultipleLocator(5))\n",
    "ax.set_xlabel('Year (Summer Nov-Mar)', fontsize=fontsize)\n",
    "ax.set_ylabel('Area under Irrigation (Ha)', fontsize=fontsize)\n",
    "ax.set_ylim(bottom=-int((df['irrigated area'].max()*0.05)), top=(df['irrigated area'].max()+(df['irrigated area'].max()*0.1)))\n",
    "ax.ticklabel_format(axis='y', style='sci', scilimits=(0, 3), useMathText=True)\n",
    "plt.tick_params(labelsize=fontsize)\n",
    "ax.grid(True, linestyle='--', alpha=0.75, color=\"gray\")\n",
    "ax.axvspan(2010, 2013, alpha=0.4, color='grey')\n",
    "ax.set_facecolor('cornsilk')\n",
    "ax.set_title(\"Northern MDB Annual Summer Irrigated Area\", fontsize=fontsize)\n",
    "#     plt.tight_layout()\n",
    "plt.savefig(\"results/nmdb_plots/plots/NMDB_annual_irrigated_area.pdf\",\n",
    "           orientation='landscape')"
   ]
  },
  {
   "cell_type": "markdown",
   "metadata": {},
   "source": [
    "#### Cumulative whole-of-catchment plot\n",
    "\n",
    "Create the csvs for this plot with the cumulative area section at the bottom"
   ]
  },
  {
   "cell_type": "code",
   "execution_count": null,
   "metadata": {},
   "outputs": [],
   "source": [
    "fontsize = 15\n",
    "df = pd.read_csv(\"results/nmdb_plots/csvs/NMDB_cumulative_area.csv\", index_col=0)\n",
    "ax = df.plot(colormap='jet', linestyle='--', marker='o', legend=False,figsize=(20,8))\n",
    "# ax.xaxis.set_major_locator(ticker.MultipleLocator(5))\n",
    "ax.set_xlabel('Year Range', fontsize=fontsize)\n",
    "ax.set_ylabel('Irrigatable Area (Ha)', fontsize=fontsize)\n",
    "ax.ticklabel_format(axis='y', style='sci', scilimits=(0, 3), useMathText=True)\n",
    "ax.set_ylim(bottom=int((df['NMDB'].max()*0.50)), top=(df['NMDB'].max()+(df['NMDB'].max()*0.05)))\n",
    "plt.tick_params(labelsize=fontsize)\n",
    "ax.grid(True, linestyle='--', alpha=0.75, color=\"gray\")\n",
    "ax.set_facecolor('cornsilk')\n",
    "ax.set_title(\"Northern MDB Cumulative Irrigatable area\", fontsize=fontsize)\n",
    "# plt.tight_layout()\n",
    "plt.savefig(\"results/nmdb_plots/plots/NMDB_cumulative_area.pdf\",\n",
    "           orientation='landscape')"
   ]
  },
  {
   "cell_type": "markdown",
   "metadata": {},
   "source": [
    "### Sub-catchment plots\n",
    "\n",
    "This script will produce a timeseries of irrigated area for each subcatchment in the directory.  This script is slow to run beacause the geopandas overlay functions are cumbersome (this is true of other libraries as well). R-tree spatial indexing is NOT used as it is imprecise with the clip boundaries."
   ]
  },
  {
   "cell_type": "code",
   "execution_count": null,
   "metadata": {},
   "outputs": [],
   "source": [
    "directory = \"/g/data/r78/cb3058/dea-notebooks/ICE_project/results/nmdb/\"\n",
    "individual_catchments_dir =\"/g/data/r78/cb3058/dea-notebooks/ICE_project/data/spatial/nmdb_individual_catchments/\"\n",
    "suffix = \"_Irrigated_OEHandLS_masked\""
   ]
  },
  {
   "cell_type": "code",
   "execution_count": null,
   "metadata": {},
   "outputs": [],
   "source": [
    "#generate all the filenames we need for the loops\n",
    "catchments = []\n",
    "for file in os.listdir(individual_catchments_dir):\n",
    "    if file.endswith(\".shp\"):\n",
    "        catchments.append(os.path.join(individual_catchments_dir, file))\n",
    "\n",
    "x = range(1987,2019,1)\n",
    "years = []\n",
    "for i in x:\n",
    "    nextyear = str(i + 1)[2:]\n",
    "    y = str(i) + \"_\" + nextyear\n",
    "    years.append(str(y))\n",
    "# removing years that didn't work due to bad satellite coverage\n",
    "years =  [e for e in years if e not in ('2011_12', '2012_13')]\n",
    "years.sort()\n",
    "\n",
    "years_dt = []\n",
    "for i in years:\n",
    "    x = int(i[:-3])\n",
    "    years_dt.append(x)\n",
    "\n",
    "folders = os.listdir(directory)\n",
    "folders.sort()"
   ]
  },
  {
   "cell_type": "code",
   "execution_count": null,
   "metadata": {},
   "outputs": [],
   "source": [
    "#multithreaded version\n",
    "def subcatchmentarea(catchment):\n",
    "    print(\"working on \"+ catchment[85:-4])\n",
    "    area_a = []\n",
    "    for year, folder in zip(years, folders): \n",
    "        #progress indicator\n",
    "        print(\"\\r\", \"working on \"+ catchment[85:-4] + \": \" + year, end = '')\n",
    "        #get the irrigated area shapefile\n",
    "        irr = gpd.read_file(directory+folder+\"/\"+\"nmdb_Summer\"+ year + suffix+\".shp\")\n",
    "        catch = gpd.read_file(catchment)\n",
    "        irr_clip = gpd.overlay(irr, catch, how='intersection')\n",
    "        area_a.append(irr_clip.area.sum() / 10000) \n",
    "    #create pandas dataframe\n",
    "    df = pd.DataFrame.from_dict({'year':years_dt, 'irr_area':area_a})\n",
    "    df = df.set_index('year')\n",
    "    df.to_csv(\"results/nmdb_plots/csvs/annual_area/\" + catchment[85:-4] + \"_annual_area.csv\", header=True)\n",
    "    print(\"finished \"+ catchment[85:-4])\n",
    "\n",
    "#singlethreaded version\n",
    "# for i in catchments:\n",
    "#     subcatchmentarea(i)\n",
    "\n",
    "# multithreaded version\n",
    "pool = Pool(4)    \n",
    "pool.map(subcatchmentarea, catchments)"
   ]
  },
  {
   "cell_type": "code",
   "execution_count": null,
   "metadata": {},
   "outputs": [],
   "source": [
    "#create plot and save\n",
    "folder = \"/g/data/r78/cb3058/dea-notebooks/ICE_project/results/nmdb_plots/csvs/annual_area/\"\n",
    "\n",
    "fig, axs = plt.subplots(5,2, figsize=(25, 30), facecolor='w', edgecolor='k')\n",
    "files = os.listdir(folder)\n",
    "files.sort()\n",
    "\n",
    "for ax,file in zip(axs.ravel(), files):\n",
    "    fontsize = 23\n",
    "    df = pd.read_csv(folder+file, index_col=0)\n",
    "    df.plot(ax=ax,colormap='jet', linestyle='--', marker='o', legend = False)\n",
    "    col_name = 'irr_area'\n",
    "    if file[:-16] == 'PAROO RIVER':\n",
    "        t = [200]\n",
    "        bottom = -10\n",
    "        top = 225\n",
    "        ax.set_ylim(bottom=bottom, top=top)\n",
    "        ax.set_yticks(t)\n",
    "        ax.set_yticklabels([str(i)+\" ha\" for i in t])\n",
    "        ax.tick_params(axis='y', direction='in', pad=-95)\n",
    "    elif file[:-16] == 'MOONIE RIVER':\n",
    "        t = [round(int(df[col_name].max()), -2)]\n",
    "        bottom = -100\n",
    "        top = df[col_name].max()+(df[col_name].max()*0.05)\n",
    "        ax.set_ylim(bottom=bottom, top=top)\n",
    "        ax.set_yticks(t)\n",
    "        ax.set_yticklabels([format(i,\",\")+\" ha\" for i in t])\n",
    "        ax.tick_params(axis='y', direction='in', pad=-110)\n",
    "    elif file[:-16] == 'CASTLEREAGH RIVER':\n",
    "        t = [round(int(df[col_name].max()), -2)]\n",
    "        bottom = -250\n",
    "        top = df[col_name].max()+(df[col_name].max()*0.05)\n",
    "        ax.set_ylim(bottom=bottom, top=top)\n",
    "        ax.set_yticks(t)\n",
    "        ax.set_yticklabels([format(i,\",\")+\" ha\" for i in t])\n",
    "        ax.tick_params(axis='y', direction='in', pad=-110)\n",
    "    elif file[:-16] == 'DARLING RIVER' or file[:-16] == 'WARREGO RIVER':\n",
    "        t = [round(int(df[col_name].max()), -2)]\n",
    "        bottom = -750\n",
    "        top = df[col_name].max()+(df[col_name].max()*0.05)\n",
    "        ax.set_ylim(bottom=bottom, top=top)\n",
    "        ax.set_yticks(t)\n",
    "        ax.set_yticklabels([format(i,\",\")+\" ha\" for i in t])\n",
    "        ax.tick_params(axis='y', direction='in', pad=-130)\n",
    "    else:\n",
    "        t = [round(int(df[col_name].max()), -3)]\n",
    "        bottom = -3000\n",
    "        top = df[col_name].max()+(df[col_name].max()*0.05)\n",
    "        ax.set_ylim(bottom=bottom, top=top)\n",
    "        ax.set_yticks(t)\n",
    "        ax.set_yticklabels([format(i,\",\")+\" ha\" for i in t])\n",
    "        ax.tick_params(axis='y', direction='in', pad=-145)\n",
    "    ax.xaxis.set_major_locator(ticker.MultipleLocator(5))\n",
    "    ax.xaxis.set_label_text(\"\")\n",
    "#     ax.grid(True, linestyle='--', alpha=0.75, axis='y', color=\"gray\")\n",
    "    ax.axvspan(2010, 2013, alpha=0.4, color='k')\n",
    "    ax.tick_params(length=8, width=4,labelsize=fontsize)\n",
    "    ax.set_title(file[:-16], fontsize=fontsize)\n",
    "    ax.set_facecolor('cornsilk')\n",
    "\n",
    "plt.tight_layout()\n",
    "plt.savefig(\"results/nmdb_plots/plots/NMDB_annual_area_subcatchment.pdf\",\n",
    "   orientation='portrait', dpi=300)"
   ]
  },
  {
   "cell_type": "markdown",
   "metadata": {},
   "source": [
    "### Epochal Change in Irrigated Area"
   ]
  },
  {
   "cell_type": "markdown",
   "metadata": {},
   "source": [
    "### Cumulative sum timeseries\n",
    "\n",
    "The script is divided into four sections: \n",
    "\n",
    "1. The first section clips the analysis to sub-catchments and then unions three concurrent years of irrigation together successively. ie. years 1987-1990 are unioned, then 1991-1994 etc. These unioned shapefiles are exported to a folder called 'interim'.  This code will take a long time to run. (I should consider multithreading it).\n",
    "\n",
    "2. The second part of the script finds the difference in irrigated area between adjacent time ranges (for each sub-catchment) ie. difference between '1987-1990' and '1991-1994' etc.  The cumulative sum is then computed on these areal differences, and the result is added to a dataframe and exported as a csv file. This section has been multithreaded but will still take a long time to complete.\n",
    "\n",
    "3. The 3rd part of the script creates pdf plots of the subcatchment cumulative timeseries in the exported csv.\n",
    "\n",
    "4. The fourth section creates a cumulative time-series plot for the entire NMDB\n",
    "\n",
    "N.B.  A shortcoming of this approach: if a paddock is irrigated in the period of 1987-1990, but then is not irrigated in 1991-1994, and then is again irrigated in 1995-1998, it will be double counted in the 'cumulative new-area' timeseries.  Ideally this script would union all subsequent years before comparing it to a new time-range, but then the unions would become very very large later in the timeseries and therefore take prohibitively long to run (script already takes hours to compute).  I checked this approach on two catchments (Namoi and Border Rivers) and nowhere did the double accounting occur.\n",
    "\n"
   ]
  },
  {
   "cell_type": "code",
   "execution_count": null,
   "metadata": {},
   "outputs": [],
   "source": [
    "directory = \"/g/data/r78/cb3058/dea-notebooks/ICE_project/results/nmdb/\"\n",
    "individual_catchments_dir =\"/g/data/r78/cb3058/dea-notebooks/ICE_project/data/spatial/nmdb/\"\n",
    "AOI = \"nmdb_Summer\"\n",
    "interim_results = \"/g/data/r78/cb3058/dea-notebooks/ICE_project/results/nmdb_plots/shapes/interim_NMDB/\"\n",
    "suffix = \"_Irrigated_OEHandLS_masked\""
   ]
  },
  {
   "cell_type": "markdown",
   "metadata": {},
   "source": [
    "#### Part 1.\n",
    "\n",
    "Creating the 3-yearly unioned files"
   ]
  },
  {
   "cell_type": "code",
   "execution_count": null,
   "metadata": {},
   "outputs": [],
   "source": [
    "#create list of catchment shapefiles\n",
    "catchments = []\n",
    "for file in os.listdir(individual_catchments_dir):\n",
    "    if file.endswith(\".shp\"):\n",
    "        catchments.append(os.path.join(individual_catchments_dir, file))\n",
    "\n",
    "#time ranges\n",
    "t1 = [str(t) for t in range(1987,1990,1)]\n",
    "t2 = [str(t) for t in range(1990,1993,1)]\n",
    "t3 = [str(t) for t in range(1993,1996,1)]\n",
    "t4 = [str(t) for t in range(1996,1999,1)]\n",
    "t5 = [str(t) for t in range(1999,2002,1)]\n",
    "t6 = [str(t) for t in range(2002,2005,1)]\n",
    "t7 = [str(t) for t in range(2005,2008,1)]\n",
    "t8 = [str(t) for t in range(2008,2011,1)]\n",
    "t9 = [str(t) for t in range(2013,2016,1)]\n",
    "t10 = [str(t) for t in range(2016,2019,1)]\n",
    "\n",
    "timerangelist=[t1,t2,t3,t4,t5,t6,t7,t8,t9,t10]"
   ]
  },
  {
   "cell_type": "code",
   "execution_count": null,
   "metadata": {},
   "outputs": [],
   "source": [
    "for i in timerangelist:\n",
    "    if not os.path.exists(interim_results+i[0]+\"_\"+i[-1]):\n",
    "        os.mkdir(interim_results+i[0]+\"_\"+i[-1])"
   ]
  },
  {
   "cell_type": "code",
   "execution_count": null,
   "metadata": {},
   "outputs": [],
   "source": [
    "def cliptocatchment(t, shapes, catchment):\n",
    "    #progress indicator\n",
    "    try:\n",
    "        nextyear= str(int(t)+1)[2:]\n",
    "        irr = gpd.read_file(directory+AOI+t+\"_\"+nextyear+\"/\"+AOI+t+\"_\"+nextyear+suffix+\".shp\")\n",
    "        catch = gpd.read_file(catchment)\n",
    "        irr = gpd.overlay(irr, catch, how='intersection')\n",
    "        shapes.append(irr)\n",
    "    except:\n",
    "        pass\n",
    "\n",
    "def unionyears(timerangelist, shapes, catchment):\n",
    "    for timerange in timerangelist:\n",
    "        for t in timerange:\n",
    "            warnings.filterwarnings(\"ignore\")\n",
    "            cliptocatchment(t, shapes, catchment)\n",
    "        try:\n",
    "            warnings.filterwarnings(\"ignore\")\n",
    "            x = pd.concat(shapes)\n",
    "            x['DISS_ID'] = 1\n",
    "            x = x.dissolve(by='DISS_ID', aggfunc='sum')\n",
    "            x['year_range'] = timerange[0]+ \"_\"+timerange[-1]\n",
    "            x['catchment'] = catchment[63:-4]\n",
    "            x.to_file(interim_results +timerange[0]+\"_\"+timerange[-1]+\"/\"+catchment[63:-4]+\"_\"+timerange[0]+ \"_\"+timerange[-1]+\".shp\")\n",
    "        except:\n",
    "            print(\" Failed to export \"+ catchment[63:-4] +\" \"+ timerange[0]+\"_\"+timerange[-1])\n",
    "            pass"
   ]
  },
  {
   "cell_type": "code",
   "execution_count": null,
   "metadata": {},
   "outputs": [],
   "source": [
    "# This will generate all of our time-range unioned shapefiles\n",
    "#--single thread----NEED TO ALTER FUNCTIONS FOR THIS\n",
    "# for catchment in catchments:\n",
    "#     print(\"\\r\", \"working on \"+catchment[85:-4] + \"...\", end = '')\n",
    "#     shapes=[]\n",
    "#     unionyears(timerangelist)\n",
    "\n",
    "#--multithreaded version---\n",
    "def runFunc(catchment):\n",
    "    print(\"working on \"+catchment[63:-4] + \"...\")\n",
    "    shapes=[]\n",
    "    unionyears(timerangelist, shapes, catchment)\n",
    "    \n",
    "pool = Pool(1)    \n",
    "pool.map(runFunc, catchments)"
   ]
  },
  {
   "cell_type": "markdown",
   "metadata": {},
   "source": [
    "#### Part 2.  \n",
    "\n",
    "Multithreaded to speed up v. slow union operations"
   ]
  },
  {
   "cell_type": "code",
   "execution_count": null,
   "metadata": {},
   "outputs": [],
   "source": [
    "from shapely.geometry import JOIN_STYLE\n",
    "def areaofFirstYear(catchment, area_list):\n",
    "    #open the first timerange\n",
    "    try:\n",
    "        firstyear = gpd.read_file(interim_results+ \"1987_1989/\" + catchment + \"_1987_1989.shp\")\n",
    "        #add area to list\n",
    "        area_list.append((firstyear.area.sum()/ 10000))\n",
    "    except:\n",
    "        area_list.append(0)\n",
    "        \n",
    "def getdifferenceAreas(yr1, yr2, catchment, area_list):\n",
    "    df1 = gpd.read_file(interim_results+ yr1+ \"/\"+ catchment + \"_\" + yr1 + \".shp\")\n",
    "    df2 = gpd.read_file(interim_results+ yr2+ \"/\"+ catchment + \"_\"+ yr2 + \".shp\")\n",
    "    try:\n",
    "        diff = gpd.overlay(df2, df1, how='difference')\n",
    "        area_list.append(float(diff.area / 10000))\n",
    "    except (TopologicalError, TopologyException):\n",
    "        print('encountered topology error...passing')\n",
    "        pass\n",
    "\n",
    "def getcumulativeNewAreas(catchment, area_list):\n",
    "    areaofFirstYear(catchment, area_list)\n",
    "    for i in range(1, len(yearstrings)):\n",
    "        print(\"\\r\", \" : \"+ yearstrings[i], end = '')\n",
    "        try:\n",
    "            getdifferenceAreas(yearstrings[i-1],yearstrings[i], catchment, area_list)\n",
    "        except:\n",
    "            print(\". Didn't find shapefile.\")\n",
    "            area_list.append(0) #adding area = zero for years when catchment has no irrigation   "
   ]
  },
  {
   "cell_type": "code",
   "execution_count": null,
   "metadata": {},
   "outputs": [],
   "source": [
    "#get a list of catchment names as input to functions\n",
    "catchments = []\n",
    "for file in os.listdir(individual_catchments_dir):\n",
    "    if file.endswith(\".shp\"):\n",
    "        catchments.append(file[:-4])\n",
    "\n",
    "# #--Single Threaded version-------\n",
    "# yearstrings = ['1987_1989','1990_1992', '1993_1995',\n",
    "#                 '1996_1998', '1999_2001', '2002_2004',\n",
    "#                 '2005_2007', '2008_2010', '2013_2015', '2016_2018']        \n",
    "# #create empty dataframe to add results too\n",
    "# df = pd.DataFrame(index=yearstrings)\n",
    "\n",
    "# for catch in catchments:\n",
    "#     print(\" ...working on \"+ catch)\n",
    "#     area_list = []\n",
    "#     getcumulativeNewAreas(catch, area_list)\n",
    "#     df[catch] = area_list\n",
    "\n",
    "# df = df.cumsum(axis = 0)\n",
    "# df.to_csv('results/nmdb_plots/csvs/NMDB_cumulative_area.csv', header=True)   \n",
    "\n",
    "#--Multithreaded version-----------\n",
    "\n",
    "yearstrings = ['1987_1989','1990_1992', '1993_1995',\n",
    "                '1996_1998', '1999_2001', '2002_2004',\n",
    "                '2005_2007', '2008_2010', '2013_2015', '2016_2018'] \n",
    "def runPart2(catch):\n",
    "    print(\" ...working on \"+ catch)\n",
    "    area_list = []\n",
    "    getcumulativeNewAreas(catch, area_list)\n",
    "    #create empty dataframe to add results too\n",
    "    df = pd.DataFrame(index=yearstrings)\n",
    "    df[catch] = area_list\n",
    "    df = df.cumsum(axis = 0)\n",
    "    df.to_csv(\"results/nmdb_plots/csvs/cumulative/\" + catch + \"_cumulative_area.csv\", header=True)\n",
    "\n",
    "pool = Pool(1)    \n",
    "pool.map(runPart2, catchments)"
   ]
  },
  {
   "cell_type": "markdown",
   "metadata": {},
   "source": [
    "#### Part 3 \n",
    "\n",
    "plotting of sub-catchment cumulative area"
   ]
  },
  {
   "cell_type": "code",
   "execution_count": null,
   "metadata": {},
   "outputs": [],
   "source": [
    "#create plot and save\n",
    "folder = \"/g/data/r78/cb3058/dea-notebooks/ICE_project/results/nmdb_plots/csvs/cumulative/\"\n",
    "\n",
    "fig, axs = plt.subplots(5,2, figsize=(25, 30), edgecolor='k')\n",
    "files = os.listdir(folder)\n",
    "files.sort()\n",
    "for ax,file in zip(axs.ravel(), files):\n",
    "    fontsize = 23\n",
    "    df = pd.read_csv(folder+file, index_col=0)\n",
    "    df.plot(ax=ax,colormap='jet', linestyle='--', marker='o', legend = False)\n",
    "    if file[:-20] == 'PAROO RIVER':\n",
    "        t = [10, 200]\n",
    "        bottom = -10\n",
    "        top = 225\n",
    "        ax.set_ylim(bottom=bottom, top=top)\n",
    "        ax.set_yticks(t)\n",
    "        ax.set_yticklabels([str(i)+\" ha\" for i in t])\n",
    "        ax.tick_params(axis='y', direction='in', pad=-100)\n",
    "    elif file[:-20] == 'MOONIE RIVER':\n",
    "        t = [750, round(int(df[file[:-20]].max()), -2)]\n",
    "        bottom = df[file[:-20]].min() - df[file[:-20]].min()*0.05\n",
    "        top = df[file[:-20]].max()+(df[file[:-20]].max()*0.05)\n",
    "        ax.set_ylim(bottom=bottom, top=top)\n",
    "        ax.set_yticks(t)\n",
    "        ax.set_yticklabels([format(i,\",\")+\" ha\" for i in t])\n",
    "        ax.tick_params(axis='y', direction='in', pad=-115)\n",
    "    elif file[:-20] == 'CASTLEREAGH RIVER':\n",
    "        t = [round(int(df[file[:-20]].min()), -2) , round(int(df[file[:-20]].max()), -3)]\n",
    "        bottom = df[file[:-20]].min() - df[file[:-20]].min()*0.15\n",
    "        top = df[file[:-20]].max()+(df[file[:-20]].max()*0.1)\n",
    "        ax.set_ylim(bottom=bottom, top=top)\n",
    "        ax.set_yticks(t)\n",
    "        ax.set_yticklabels([format(i,\",\")+\" ha\" for i in t])\n",
    "        ax.tick_params(axis='y', direction='in', pad=-120)\n",
    "    else:\n",
    "        t = [round(int(df[file[:-20]].min()), -3) , round(int(df[file[:-20]].max()), -3)]\n",
    "        bottom = df[file[:-20]].min() - df[file[:-20]].min()*0.05\n",
    "        top = df[file[:-20]].max()+(df[file[:-20]].max()*0.075)\n",
    "        ax.set_ylim(bottom=bottom, top=top)\n",
    "        ax.set_yticks(t)\n",
    "        ax.set_yticklabels([format(i,\",\")+\" ha\" for i in t])\n",
    "        ax.tick_params(axis='y', direction='in', pad=-145)\n",
    "    ax.xaxis.set_label_text(\"\")\n",
    "    ax.set_xticklabels([\"87-89\",\"90-92\",\"93-95\",\"96-98\",\"99-01\",\"02-04\", \"05-07\",\n",
    "                       \"08-10\", \"13-15\", \"16-18\"])\n",
    "#     for tick in ax.xaxis.get_major_ticks()[1::2]: #This offsets X-axis labels\n",
    "#         tick.set_pad(15)\n",
    "    ax.tick_params(length=10, width=3, labelsize=fontsize)\n",
    "    ax.set_title(file[:-20], fontsize=fontsize)\n",
    "    ax.set_facecolor('cornsilk')\n",
    "plt.tight_layout()\n",
    "plt.savefig(\"results/nmdb_plots/plots/NMDB_cumulative_area_subcatchment.pdf\",\n",
    "   orientation='portarait', dpi=300)\n"
   ]
  },
  {
   "cell_type": "code",
   "execution_count": null,
   "metadata": {},
   "outputs": [],
   "source": []
  }
 ],
 "metadata": {
  "kernelspec": {
   "display_name": "Python 3",
   "language": "python",
   "name": "python3"
  },
  "language_info": {
   "codemirror_mode": {
    "name": "ipython",
    "version": 3
   },
   "file_extension": ".py",
   "mimetype": "text/x-python",
   "name": "python",
   "nbconvert_exporter": "python",
   "pygments_lexer": "ipython3",
   "version": "3.6.7"
  },
  "toc": {
   "base_numbering": 1,
   "nav_menu": {},
   "number_sections": true,
   "sideBar": true,
   "skip_h1_title": false,
   "title_cell": "Table of Contents",
   "title_sidebar": "Contents",
   "toc_cell": false,
   "toc_position": {
    "height": "calc(100% - 180px)",
    "left": "10px",
    "top": "150px",
    "width": "165px"
   },
   "toc_section_display": true,
   "toc_window_display": true
  }
 },
 "nbformat": 4,
 "nbformat_minor": 2
}
