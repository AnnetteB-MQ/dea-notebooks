{
 "cells": [
  {
   "cell_type": "code",
   "execution_count": null,
   "metadata": {
    "ExecuteTime": {
     "end_time": "2019-05-10T03:47:05.175970Z",
     "start_time": "2019-05-10T03:47:02.046178Z"
    }
   },
   "outputs": [],
   "source": [
    "import numpy as np\n",
    "import xarray as xr\n",
    "import geopandas as gpd\n",
    "import pandas as pd\n",
    "from osgeo import gdal, ogr\n",
    "import os\n",
    "import matplotlib.pyplot as plt\n",
    "from pathlib import Path"
   ]
  },
  {
   "cell_type": "code",
   "execution_count": null,
   "metadata": {
    "ExecuteTime": {
     "end_time": "2019-05-10T03:47:06.408560Z",
     "start_time": "2019-05-10T03:47:06.401314Z"
    }
   },
   "outputs": [],
   "source": [
    "directory = \"/g/data/r78/cb3058/dea-notebooks/ICE_project/results/nmdb_test/\""
   ]
  },
  {
   "cell_type": "code",
   "execution_count": null,
   "metadata": {
    "ExecuteTime": {
     "end_time": "2019-05-10T03:49:33.543082Z",
     "start_time": "2019-05-10T03:47:11.186019Z"
    }
   },
   "outputs": [],
   "source": [
    "#lits of years to help for loop iterate through folders\n",
    "x = range(1987,2019,1)\n",
    "years = []\n",
    "for i in x:\n",
    "    nextyear = str(i + 1)[2:]\n",
    "    y = str(i) + \"_\" + nextyear\n",
    "    years.append(str(y))\n",
    "# removing years that didn't work\n",
    "years =  [e for e in years if e not in ('1988_89', '1991_92', '1993_94', '2015_16', '2011_12', '2012_13')]\n",
    "years.sort()\n",
    "\n",
    "folders = os.listdir(directory)\n",
    "folders.sort()\n",
    "\n",
    "area_a = []\n",
    "area_b = []\n",
    "\n",
    "#grab sum of irragted area for each each and add to dataframe\n",
    "for year, folder in zip(years, folders): \n",
    "    #progress indicator\n",
    "    print(\"\\r\", \"working on year: \" + year, end = '')\n",
    "    def getIrrigatedArea(shp):\n",
    "        irr = gpd.read_file(shp)\n",
    "        a = irr[irr.DN==80]\n",
    "        b = irr[(irr.DN==80) | (irr.DN==75)]\n",
    "        area_a.append(a.area.sum() / 10000)\n",
    "        area_b.append(b.area.sum() / 10000)\n",
    "\n",
    "    getIrrigatedArea(directory+folder+\"/\"+\"nmdb_Summer\"+ year + \"_Irrigated.shp\")\n",
    "\n",
    "#convert years back into integers for plot\n",
    "years_dt = []\n",
    "for i in years:\n",
    "    x = int(i[:-3])\n",
    "    years_dt.append(x)\n",
    "#create pandas dataframe\n",
    "df = pd.DataFrame.from_dict({'year':years_dt, '0.8':area_a, '0.75+0.8':area_b})\n",
    "df = df.set_index('year')\n",
    "\n",
    "#plot\n",
    "ax = df.plot(colormap='jet', linestyle='--', marker='o', figsize=(10,10))\n",
    "ax.set_xlabel('Year (Summer Nov-Mar)')\n",
    "ax.set_ylabel('Area under Irrigation (Ha)')"
   ]
  },
  {
   "cell_type": "code",
   "execution_count": null,
   "metadata": {},
   "outputs": [],
   "source": []
  },
  {
   "cell_type": "markdown",
   "metadata": {},
   "source": [
    "### Create an 'irrigatable area' mask by unioning all '0.8' polygons\n",
    "    "
   ]
  },
  {
   "cell_type": "code",
   "execution_count": null,
   "metadata": {
    "ExecuteTime": {
     "end_time": "2019-05-10T03:51:56.101730Z",
     "start_time": "2019-05-10T03:51:54.837495Z"
    }
   },
   "outputs": [],
   "source": [
    "# shp1= \"/g/data/r78/cb3058/dea-notebooks/ICE_project/results/nmdb_test/nmdb_Summer1987_88/nmdb_Summer1987_88_Irrigated.shp\"\n",
    "# shp2= \"/g/data/r78/cb3058/dea-notebooks/ICE_project/results/nmdb_test/nmdb_Summer1989_90/nmdb_Summer1989_90_Irrigated.shp\"\n",
    "\n",
    "# irr1 = gpd.read_file(shp1)\n",
    "# irr2 = gpd.read_file(shp2)\n",
    "# irr3 = gpd.read_file(shp3)\n",
    "\n",
    "# a = irr1[irr1.DN==80]\n",
    "# b = irr2[irr2.DN==80]\n",
    "\n",
    "# test = gpd.overlay(a,b, how='union')\n",
    "# len(test)\n",
    "# # test.plot(figsize=(20,20))"
   ]
  },
  {
   "cell_type": "code",
   "execution_count": null,
   "metadata": {
    "ExecuteTime": {
     "end_time": "2019-05-10T03:52:03.424049Z",
     "start_time": "2019-05-10T03:52:03.363860Z"
    }
   },
   "outputs": [],
   "source": [
    "x = range(1987,2019,1)\n",
    "years = []\n",
    "for i in x:\n",
    "    nextyear = str(i + 1)[2:]\n",
    "    y = str(i) + \"_\" + nextyear\n",
    "    years.append(str(y))\n",
    "\n",
    "years =  [e for e in years if e not in ('1988_89', '1991_92', '1993_94', '2015_16', '2011_12', '2012_13')]\n",
    "years.sort()\n",
    "    \n",
    "directory = \"/g/data/r78/cb3058/dea-notebooks/ICE_project/results/nmdb_test/\"    \n",
    "folders = os.listdir(directory)\n",
    "folders.sort()\n",
    "# shapes= []\n",
    "\n",
    "#go through shapes, index for 0.8 threshold and export to shapefiles\n",
    "for year, folder in zip(years, folders): \n",
    "    def select80polys(shp):\n",
    "        print(\"\\r\", \"working on year: \" + year, end = '')\n",
    "        irr = gpd.read_file(shp)\n",
    "        a = irr[irr.DN==80]\n",
    "        a.to_file('results/nmdb_union/80/'+year+\".shp\")\n",
    "    \n",
    "    select80polys(directory+folder+\"/\"+\"nmdb_Summer\"+ year + \"_Irrigated.shp\")    "
   ]
  },
  {
   "cell_type": "code",
   "execution_count": null,
   "metadata": {},
   "outputs": [],
   "source": [
    "#union all of the filtered shapefiles\n",
    "folder = Path(\"results/nmdb_union/80/\")\n",
    "shapes = folder.glob(\"*.shp\")\n",
    "gdf = pd.concat([\n",
    "    gpd.read_file(shp)\n",
    "    for shp in shapes\n",
    "]).pipe(gpd.GeoDataFrame)\n",
    "gdf.to_file(\"results/nmdb_union/union.shp\")"
   ]
  },
  {
   "cell_type": "code",
   "execution_count": null,
   "metadata": {},
   "outputs": [],
   "source": [
    "shp = \"results/nmdb_union/union.shp\"\n",
    "union = gpd.read_file(shp)"
   ]
  },
  {
   "cell_type": "code",
   "execution_count": null,
   "metadata": {},
   "outputs": [],
   "source": [
    "diss = union.dissolve(by='DN', aggfunc='sum')"
   ]
  },
  {
   "cell_type": "code",
   "execution_count": null,
   "metadata": {},
   "outputs": [],
   "source": [
    "diss.head()"
   ]
  },
  {
   "cell_type": "code",
   "execution_count": null,
   "metadata": {},
   "outputs": [],
   "source": [
    "diss.to_file('results/ndmb_union/dissolve.shp')\n"
   ]
  }
 ],
 "metadata": {
  "kernelspec": {
   "display_name": "Python 3",
   "language": "python",
   "name": "python3"
  },
  "language_info": {
   "codemirror_mode": {
    "name": "ipython",
    "version": 3
   },
   "file_extension": ".py",
   "mimetype": "text/x-python",
   "name": "python",
   "nbconvert_exporter": "python",
   "pygments_lexer": "ipython3",
   "version": "3.6.7"
  },
  "toc": {
   "base_numbering": 1,
   "nav_menu": {},
   "number_sections": true,
   "sideBar": true,
   "skip_h1_title": false,
   "title_cell": "Table of Contents",
   "title_sidebar": "Contents",
   "toc_cell": false,
   "toc_position": {
    "height": "calc(100% - 180px)",
    "left": "10px",
    "top": "150px",
    "width": "165px"
   },
   "toc_section_display": true,
   "toc_window_display": true
  }
 },
 "nbformat": 4,
 "nbformat_minor": 2
}
