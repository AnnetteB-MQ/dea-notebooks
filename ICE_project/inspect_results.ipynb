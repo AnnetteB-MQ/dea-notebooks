{
 "cells": [
  {
   "cell_type": "markdown",
   "metadata": {},
   "source": [
    "## Results for the Annual Summer Irrigated Cropping Area (SICA) project"
   ]
  },
  {
   "cell_type": "code",
   "execution_count": null,
   "metadata": {
    "ExecuteTime": {
     "end_time": "2019-05-10T03:47:05.175970Z",
     "start_time": "2019-05-10T03:47:02.046178Z"
    }
   },
   "outputs": [],
   "source": [
    "import numpy as np\n",
    "import xarray as xr\n",
    "import geopandas as gpd\n",
    "import pandas as pd\n",
    "from osgeo import gdal, ogr\n",
    "import os\n",
    "import matplotlib.pyplot as plt\n",
    "import matplotlib.ticker as ticker\n",
    "from pathlib import Path\n",
    "from shapely.geometry import Polygon, MultiPolygon\n",
    "import warnings"
   ]
  },
  {
   "cell_type": "markdown",
   "metadata": {},
   "source": [
    "### Entire catchment plot\n",
    "\n",
    "This code will produce a timeseries of irrigated area aggregated acrosss the entire Northern Murray Darling Basin"
   ]
  },
  {
   "cell_type": "code",
   "execution_count": null,
   "metadata": {
    "ExecuteTime": {
     "end_time": "2019-05-10T03:47:06.408560Z",
     "start_time": "2019-05-10T03:47:06.401314Z"
    }
   },
   "outputs": [],
   "source": [
    "directory = \"/g/data/r78/cb3058/dea-notebooks/ICE_project/results/nmdb/\"\n",
    "suffix = \"_multith_65Thres_IrrigatedMasked65\""
   ]
  },
  {
   "cell_type": "code",
   "execution_count": null,
   "metadata": {
    "ExecuteTime": {
     "end_time": "2019-05-10T03:49:33.543082Z",
     "start_time": "2019-05-10T03:47:11.186019Z"
    }
   },
   "outputs": [],
   "source": [
    "#list of years to help for-loop iterate through folders\n",
    "x = range(1987,2019,1)\n",
    "years = []\n",
    "for i in x:\n",
    "    nextyear = str(i + 1)[2:]\n",
    "    y = str(i) + \"_\" + nextyear\n",
    "    years.append(str(y))\n",
    "# removing years that didn't work\n",
    "years =  [e for e in years if e not in ('2011_12', '2012_13')]\n",
    "years.sort()\n",
    "\n",
    "folders = os.listdir(directory)\n",
    "folders.sort()\n",
    "\n",
    "area_a = []\n",
    "\n",
    "def getIrrigatedArea(shp):\n",
    "    irr = gpd.read_file(shp)\n",
    "    a = irr[(irr.DN==80) | (irr.DN==75) | (irr.DN==70)]\n",
    "    area_a.append(a.area.sum() / 10000)\n",
    "\n",
    "        \n",
    "#grab sum of irrigated area for each each and add to dataframe\n",
    "for year, folder in zip(years, folders): \n",
    "    #progress indicator\n",
    "    print(\"\\r\", \"working on year: \" + year, end = '')\n",
    "    getIrrigatedArea(directory+folder+\"/\"+\"nmdb_Summer\"+ year + suffix+\".shp\")\n",
    "\n",
    "#convert years back into integers for plot\n",
    "years_dt = []\n",
    "for i in years:\n",
    "    x = int(i[:-3])\n",
    "    years_dt.append(x)\n",
    "#create pandas dataframe\n",
    "df = pd.DataFrame.from_dict({'year':years_dt, 'irrigated area':area_a})#, '0.75+0.8':area_b, '0.70+0.75+0.8':area_c})\n",
    "df = df.set_index('year')"
   ]
  },
  {
   "cell_type": "code",
   "execution_count": null,
   "metadata": {},
   "outputs": [],
   "source": [
    "#plot\n",
    "plot_rainfall = True\n",
    "\n",
    "if plot_rainfall == True:\n",
    "    rainfall = pd.read_csv(\"data/mdb_rainfall.csv\", index_col=0)\n",
    "    ax = df.plot(colormap='jet', linestyle='--', marker='o', figsize=(16,8))\n",
    "    ax.xaxis.set_major_locator(ticker.MultipleLocator(2))\n",
    "    ax.set_xlabel('Year (Summer Nov-Mar)')\n",
    "    ax.set_ylabel('Area under Irrigation (Ha)')\n",
    "    ax.grid(True, linestyle='--', alpha=0.75)\n",
    "    ax.axvspan(2010, 2013, alpha=0.4, color='grey')\n",
    "    \n",
    "    ax2 = ax.twinx()\n",
    "    color='red'\n",
    "    ax2.set_ylabel('summer rainfall anomalies(mm)', color=color)\n",
    "    ax2.plot(rainfall, color=color, marker='o', linestyle='--', label='rainfall anomaly')\n",
    "    ax2.legend(loc=2)\n",
    "    ax2.tick_params(axis='y', labelcolor=color)\n",
    "    ax2.set_ylim(bottom=-150, top=150)\n",
    "    ax2.axhline(y=0, color='red')\n",
    "    \n",
    "    plt.tight_layout()\n",
    "    \n",
    "else:\n",
    "    ax = df.plot(colormap='jet', linestyle='--', marker='o', figsize=(20,8))\n",
    "    ax.xaxis.set_major_locator(ticker.MultipleLocator(2))\n",
    "    ax.set_xlabel('Year (Summer Nov-Mar)')\n",
    "    ax.set_ylabel('Area under Irrigation (Ha)')\n",
    "    ax.grid(True, linestyle='--', alpha=0.75)\n",
    "    ax.axvspan(2010, 2013, alpha=0.4, color='grey')\n",
    "    ax.set_title(\"Northern MDB Annual Summer Irrigated Area\")\n",
    "    plt.tight_layout()\n",
    "    plt.savefig(\"/g/data1a/r78/cb3058/dea-notebooks/ICE_project/results/nmdb_plots/nmdb_irrigated_ts.pdf\",\n",
    "               orientation='landscape')"
   ]
  },
  {
   "cell_type": "code",
   "execution_count": null,
   "metadata": {},
   "outputs": [],
   "source": [
    "# rainfall = pd.read_csv(\"data/mdb_rainfall.csv\", index_col=0)\n",
    "# ax = rainfall.plot(figsize=(21,8))\n",
    "# ax.set_ylim(bottom=-150, top=150)\n",
    "# ax.axhline(0, color='black', linestyle='--', alpha=0.5)\n",
    "# plt.tight_layout"
   ]
  },
  {
   "cell_type": "markdown",
   "metadata": {},
   "source": [
    "### Sub-catchment plots\n",
    "\n",
    "This script will produce a timeseries of irrigated area for each subcatchment in the directory.  This script is slow to run beacause the geopandas overlay functions are cumbersome (this is true of other libraries as well). R-tree spatial indexing is NOT used as it is inaccurate with the clip boundaries."
   ]
  },
  {
   "cell_type": "code",
   "execution_count": null,
   "metadata": {},
   "outputs": [],
   "source": [
    "directory = \"/g/data/r78/cb3058/dea-notebooks/ICE_project/results/nmdb/\"\n",
    "individual_catchments_dir =\"/g/data/r78/cb3058/dea-notebooks/ICE_project/data/spatial/nmdb_individual_catchments/\"\n",
    "suffix = \"_multith_65Thres_IrrigatedMasked65\""
   ]
  },
  {
   "cell_type": "code",
   "execution_count": null,
   "metadata": {},
   "outputs": [],
   "source": [
    "#generate all the filenames we need for the loops\n",
    "catchments = []\n",
    "for file in os.listdir(individual_catchments_dir):\n",
    "    if file.endswith(\".shp\"):\n",
    "        catchments.append(os.path.join(individual_catchments_dir, file))\n",
    "\n",
    "x = range(1987,2019,1)\n",
    "years = []\n",
    "for i in x:\n",
    "    nextyear = str(i + 1)[2:]\n",
    "    y = str(i) + \"_\" + nextyear\n",
    "    years.append(str(y))\n",
    "# removing years that didn't work\n",
    "years =  [e for e in years if e not in ('2011_12', '2012_13')]\n",
    "years.sort()\n",
    "\n",
    "years_dt = []\n",
    "for i in years:\n",
    "    x = int(i[:-3])\n",
    "    years_dt.append(x)\n",
    "\n",
    "folders = os.listdir(directory)\n",
    "folders.sort()"
   ]
  },
  {
   "cell_type": "code",
   "execution_count": null,
   "metadata": {},
   "outputs": [],
   "source": [
    "for catchment in catchments:\n",
    "    area_a = []\n",
    "    for year, folder in zip(years, folders): \n",
    "        #progress indicator\n",
    "        print(\"\\r\", \"working on \"+ catchment[85:-4] + \": \" + year, end = '')\n",
    "        #get the irrigated area shapefile\n",
    "        irr = gpd.read_file(directory+folder+\"/\"+\"nmdb_Summer\"+ year + suffix+\".shp\")\n",
    "        #get a subcatchment shapefile\n",
    "        catch = gpd.read_file(catchment)\n",
    "        geometry = catch['geometry'].iloc[0]\n",
    "        if isinstance(geometry, Polygon):\n",
    "            geometry = MultiPolygon([geometry])\n",
    "        #clip irr to catchment area (using R-tree spatial indexing)\n",
    "        sindex = irr.sindex\n",
    "        possible_matches_index = list(sindex.intersection(geometry.bounds))\n",
    "        possible_matches = irr.iloc[possible_matches_index]\n",
    "        irr_clip = possible_matches[possible_matches.intersects(geometry)]\n",
    "#         irr_clip = gpd.overlay(irr, catch, how='intersection') #works but v.v. slow\n",
    "        area_a.append(irr_clip.area.sum() / 10000)\n",
    "    #create pandas dataframe\n",
    "    df = pd.DataFrame.from_dict({'year':years_dt, 'irr_area':area_a})\n",
    "    df = df.set_index('year')\n",
    "    #create plot and save\n",
    "    ax = df.plot(colormap='jet', linestyle='--', marker='o', figsize=(20,8))\n",
    "    ax.xaxis.set_major_locator(ticker.MultipleLocator(2))\n",
    "    ax.set_xlabel('Year (Summer Nov-Mar)')\n",
    "    ax.set_ylabel('Area under Irrigation (Ha)')\n",
    "    ax.grid(True, linestyle='--', alpha=0.75)\n",
    "    ax.axvspan(2010, 2013, alpha=0.4, color='grey')\n",
    "    ax.set_title(catchment[85:-4])\n",
    "    plt.tight_layout()\n",
    "    plt.savefig(\"/g/data1a/r78/cb3058/dea-notebooks/ICE_project/results/nmdb_plots/\"+ catchment[85:-4]+\".pdf\",\n",
    "               orientation='landscape')       "
   ]
  },
  {
   "cell_type": "markdown",
   "metadata": {},
   "source": [
    "### Cumulative Irrigatable area"
   ]
  },
  {
   "cell_type": "markdown",
   "metadata": {},
   "source": [
    "#### Epochal change in spatial extent of irrigation\n",
    "\n",
    "This section divides the analysis into distinct epochs: 1987-1995, 1996-2012, and 2013-2019\n",
    "and finds the region under irrigation during each epoch.  This allows for spatially showing the growth in irrigation in a simple overlay plot."
   ]
  },
  {
   "cell_type": "code",
   "execution_count": null,
   "metadata": {},
   "outputs": [],
   "source": [
    "directory = \"/g/data/r78/cb3058/dea-notebooks/ICE_project/results/nmdb_misaligned/\"\n",
    "individual_catchments_dir =\"/g/data/r78/cb3058/dea-notebooks/ICE_project/data/spatial/nmdb_individual_catchments/\"\n",
    "AOI = \"nmdb_Summer\"\n",
    "suffix = \"_multith_65Thres_IrrigatedMasked65\""
   ]
  },
  {
   "cell_type": "code",
   "execution_count": null,
   "metadata": {},
   "outputs": [],
   "source": [
    "#create list of catchment shapefiles\n",
    "catchments = []\n",
    "for file in os.listdir(individual_catchments_dir):\n",
    "    if file.endswith(\".shp\"):\n",
    "        catchments.append(os.path.join(individual_catchments_dir, file))\n",
    "\n",
    "#time ranges\n",
    "t1 = [str(t) for t in range(1987,1996,1)]\n",
    "t2 = [str(t) for t in range(1996,2012,1)]\n",
    "t2 = [e for e in t2 if e not in ('2011')]\n",
    "t3 = [str(t) for t in range(2012,2019,1)]\n",
    "t3 = [e for e in t3 if e not in ('2012')]"
   ]
  },
  {
   "cell_type": "code",
   "execution_count": null,
   "metadata": {},
   "outputs": [],
   "source": [
    "def cliptocatchment(t):\n",
    "    \"\"\"\n",
    "    This function will open a shapefile from \n",
    "    \"\"\"\n",
    "    #progress indicator\n",
    "    print(\"\\r\", \"working on \"+catchment[85:-4]+\": \"+t+\".\", end = '')\n",
    "    nextyear= str(int(t)+1)[2:]\n",
    "    irr = gpd.read_file(directory+AOI+t+\"_\"+nextyear+\"/\"+AOI+t+\"_\"+nextyear+suffix+\".shp\")\n",
    "    catch = gpd.read_file(catchment)\n",
    "#     geometry = catch['geometry'].iloc[0]\n",
    "#     if isinstance(geometry, Polygon):\n",
    "#         geometry = MultiPolygon([geometry])\n",
    "    #clip irr to catchment area (using R-tree spatial indexing)\n",
    "#     sindex = irr.sindex\n",
    "#     possible_matches_index = list(sindex.intersection(geometry.bounds))\n",
    "#     possible_matches = irr.iloc[possible_matches_index]\n",
    "#     irr = possible_matches[possible_matches.intersects(geometry)]\n",
    "    irr = gpd.overlay(irr, catch, how='intersection') #doing it this way because its more accurate.\n",
    "    shapes.append(irr)\n",
    "\n",
    "def unionyears(timelist):\n",
    "    for t in timelist:\n",
    "        warnings.filterwarnings(\"ignore\")\n",
    "        cliptocatchment(t)\n",
    "    try:\n",
    "        warnings.filterwarnings(\"ignore\")\n",
    "        x = pd.concat(shapes)\n",
    "        x = x.dissolve(by='DN', aggfunc='sum')\n",
    "        x['year_range'] = timelist[0]+ \"_\"+timelist[-1]\n",
    "        x['catchment'] = catchment[85:-4]\n",
    "        x.to_file(directory[:-12] + \"_plots/shapes/\"+timelist[0]+\"_\"+timelist[-1]+\"/\"+catchment[85:-4]+\"_\"+timelist[0]+ \"_\"+timelist[-1]+\".shp\")\n",
    "    except:\n",
    "        print(\" Failed to export \"+ catchment[85:-4])\n",
    "        pass "
   ]
  },
  {
   "cell_type": "code",
   "execution_count": null,
   "metadata": {},
   "outputs": [],
   "source": [
    "for catchment in catchments:\n",
    "    shapes=[]\n",
    "    unionyears(t1)"
   ]
  },
  {
   "cell_type": "code",
   "execution_count": null,
   "metadata": {},
   "outputs": [],
   "source": [
    "for catchment in catchments:\n",
    "    shapes=[]\n",
    "    unionyears(t2)"
   ]
  },
  {
   "cell_type": "code",
   "execution_count": null,
   "metadata": {},
   "outputs": [],
   "source": [
    "for catchment in catchments:\n",
    "    shapes=[]\n",
    "    unionyears(t3)"
   ]
  },
  {
   "cell_type": "code",
   "execution_count": null,
   "metadata": {},
   "outputs": [],
   "source": []
  },
  {
   "cell_type": "markdown",
   "metadata": {},
   "source": [
    "#### Cumulative sum timeseries\n",
    "\n",
    "Need to generate smaller ranges than above, say every 3 years and union shapefiles\n",
    "then subtract (gpd.difference?) the unioned files from the previous epoch to find the difference\n",
    "then calculate area on the difference (except for first range which is starting point)\n",
    "then add that to a dataframe with the date range as the index\n",
    "then plot\n",
    "\n"
   ]
  },
  {
   "cell_type": "code",
   "execution_count": null,
   "metadata": {},
   "outputs": [],
   "source": [
    "directory = \"/g/data/r78/cb3058/dea-notebooks/ICE_project/results/nmdb_misaligned/\"\n",
    "individual_catchments_dir =\"/g/data/r78/cb3058/dea-notebooks/ICE_project/data/spatial/nmdb_individual_catchments/\"\n",
    "AOI = \"nmdb_Summer\"\n",
    "interim_results = \"/g/data/r78/cb3058/dea-notebooks/ICE_project/results/nmdb_plots/shapes/interim/\"\n",
    "suffix = \"_multith_65Thres_IrrigatedMasked65\""
   ]
  },
  {
   "cell_type": "code",
   "execution_count": null,
   "metadata": {},
   "outputs": [],
   "source": [
    "#create list of catchment shapefiles\n",
    "catchments = []\n",
    "for file in os.listdir(individual_catchments_dir):\n",
    "    if file.endswith(\".shp\"):\n",
    "        catchments.append(os.path.join(individual_catchments_dir, file))\n",
    "\n",
    "#time ranges\n",
    "t1 = [str(t) for t in range(1987,1990,1)]\n",
    "t2 = [str(t) for t in range(1990,1993,1)]\n",
    "t3 = [str(t) for t in range(1993,1996,1)]\n",
    "t4 = [str(t) for t in range(1996,1999,1)]\n",
    "t5 = [str(t) for t in range(1999,2002,1)]\n",
    "t6 = [str(t) for t in range(2002,2005,1)]\n",
    "t7 = [str(t) for t in range(2005,2008,1)]\n",
    "t8 = [str(t) for t in range(2008,2011,1)]\n",
    "t9 = [str(t) for t in range(2013,2016,1)]\n",
    "t10 = [str(t) for t in range(2016,2019,1)]\n",
    "\n",
    "timerangelist=[t1,t2,t3,t4,t5,t6,t7,t8,t9,t10]"
   ]
  },
  {
   "cell_type": "code",
   "execution_count": null,
   "metadata": {},
   "outputs": [],
   "source": [
    "for i in timerangelist:\n",
    "    os.mkdir(interim_results+i[0]+\"_\"+i[-1])"
   ]
  },
  {
   "cell_type": "code",
   "execution_count": null,
   "metadata": {},
   "outputs": [],
   "source": [
    "def cliptocatchment(t):\n",
    "    #progress indicator\n",
    "    print(\"\\r\", \"working on \"+catchment[85:-4]+\": \"+t+\".\", end = '')\n",
    "    nextyear= str(int(t)+1)[2:]\n",
    "    irr = gpd.read_file(directory+AOI+t+\"_\"+nextyear+\"/\"+AOI+t+\"_\"+nextyear+suffix+\".shp\")\n",
    "    catch = gpd.read_file(catchment)\n",
    "    irr = gpd.overlay(irr, catch, how='intersection') #doing it this way because its more accurate.\n",
    "    shapes.append(irr)\n",
    "\n",
    "def unionyears(timerangelist):\n",
    "    for timerange in timerangelist:\n",
    "        for t in timerange:\n",
    "            warnings.filterwarnings(\"ignore\")\n",
    "            cliptocatchment(t)\n",
    "        try:\n",
    "            warnings.filterwarnings(\"ignore\")\n",
    "            x = pd.concat(shapes)\n",
    "            x = x.dissolve(by='DN', aggfunc='sum')\n",
    "            x['year_range'] = timerange[0]+ \"_\"+timerange[-1]\n",
    "            x['catchment'] = catchment[85:-4]\n",
    "            x.to_file(interim_results +timerange[0]+\"_\"+timerange[-1]+\"/\"+catchment[85:-4]+\"_\"+timerange[0]+ \"_\"+timerange[-1]+\".shp\")\n",
    "        except:\n",
    "            print(\" Failed to export \"+ catchment[85:-4])\n",
    "            pass "
   ]
  },
  {
   "cell_type": "code",
   "execution_count": null,
   "metadata": {},
   "outputs": [],
   "source": [
    "# This will generate all of our time-range unioned shapefiles\n",
    "for catchment in catchments:\n",
    "    shapes=[]\n",
    "    unionyears(timerangelist)"
   ]
  },
  {
   "cell_type": "code",
   "execution_count": null,
   "metadata": {},
   "outputs": [],
   "source": [
    "# Now we need to find the difference between time-adjacent files"
   ]
  },
  {
   "cell_type": "code",
   "execution_count": null,
   "metadata": {},
   "outputs": [],
   "source": [
    "obtain the geometries that are part of df1 but are not contained in df2\n",
    "gpd.overlay(df1, df2, how='difference')"
   ]
  },
  {
   "cell_type": "code",
   "execution_count": null,
   "metadata": {},
   "outputs": [],
   "source": [
    "conda_87_89 = gpd.read_file(\"results/nmdb_plots/shapes/interim/1987_1989/CONDAMINE-CULGOA RIVERS_1987_1989.shp\")\n",
    "conda_90_92 = gpd.read_file(\"results/nmdb_plots/shapes/interim/1990_1992/CONDAMINE-CULGOA RIVERS_1990_1992.shp\")\n",
    "conda_93_95 = gpd.read_file(\"results/nmdb_plots/shapes/interim/1993_1995/CONDAMINE-CULGOA RIVERS_1993_1995.shp\")\n",
    "conda_96_98 = gpd.read_file(\"results/nmdb_plots/shapes/interim/1996_1998/CONDAMINE-CULGOA RIVERS_1996_1998.shp\")"
   ]
  },
  {
   "cell_type": "code",
   "execution_count": null,
   "metadata": {},
   "outputs": [],
   "source": [
    "conda_96_98"
   ]
  },
  {
   "cell_type": "code",
   "execution_count": null,
   "metadata": {},
   "outputs": [],
   "source": [
    "areas = []"
   ]
  },
  {
   "cell_type": "code",
   "execution_count": null,
   "metadata": {},
   "outputs": [],
   "source": [
    "conda_87_89.area.sum() / 10000"
   ]
  },
  {
   "cell_type": "code",
   "execution_count": null,
   "metadata": {},
   "outputs": [],
   "source": [
    "diff = gpd.overlay(conda_90_92, conda_87_89, how='difference')\n"
   ]
  },
  {
   "cell_type": "code",
   "execution_count": null,
   "metadata": {},
   "outputs": [],
   "source": [
    "diff.area.sum() / 10000"
   ]
  },
  {
   "cell_type": "code",
   "execution_count": null,
   "metadata": {},
   "outputs": [],
   "source": [
    "\n",
    "def areaofFirstYear(catchment):\n",
    "    #open the first timerange\n",
    "    _87_89 = gpd.read_file(\"results/nmdb_plots/shapes/interim/1987_1989/\"+ catchment + \"_1987_1989.shp\")\n",
    "    #add area to list\n",
    "    area.append((_87_89.area.sum()/ 10000))\n",
    "    \n",
    "def getdifferenceAreas(yr1, yr2, catchment):\n",
    "    area = []\n",
    "    #open the first timerange\n",
    "    df1 = gpd.read_file(\"results/nmdb_plots/shapes/interim/\"+ yr1+ \"/\"+ catchment + yr1 + \".shp\")\n",
    "    df2 = gpd.read_file(\"results/nmdb_plots/shapes/interim/\"+ yr2+ \"/\"+ catchment + yr2 + \".shp\")\n",
    "    diff = gpd.overlay(yr2, yr1, how='difference')\n",
    "    area.append(diff.area.sum() / 10000)"
   ]
  },
  {
   "cell_type": "code",
   "execution_count": null,
   "metadata": {},
   "outputs": [],
   "source": [
    "def getcumulativeNewAreas(catchment):\n",
    "    areaofFirstYear(catchment)\n",
    "    for i in range(1, len(yearstrings)):\n",
    "        getdifferenceAreas(yearstrings[i],yearstrings[i-1], catchment)\n",
    "    "
   ]
  },
  {
   "cell_type": "code",
   "execution_count": null,
   "metadata": {},
   "outputs": [],
   "source": [
    "area = []\n",
    "yearstrings = ['1987_1989','1990_1992', '1993_1995', '1996_1998', '1999_2001', '2002_2004', '2005_2007', '2008_2010', '2013_2015', '2016_2018']"
   ]
  },
  {
   "cell_type": "code",
   "execution_count": null,
   "metadata": {},
   "outputs": [],
   "source": [
    "\"BORDER RIVERS\""
   ]
  },
  {
   "cell_type": "code",
   "execution_count": null,
   "metadata": {},
   "outputs": [],
   "source": [
    "for i in range(1, len(yearstrings)):\n",
    "    v = yearstrings[i]\n",
    "    v2 = yearstrings[i-1]\n",
    "    print(\"v1\",v,\"v2\", v2)"
   ]
  },
  {
   "cell_type": "code",
   "execution_count": null,
   "metadata": {},
   "outputs": [],
   "source": []
  }
 ],
 "metadata": {
  "kernelspec": {
   "display_name": "Python 3",
   "language": "python",
   "name": "python3"
  },
  "language_info": {
   "codemirror_mode": {
    "name": "ipython",
    "version": 3
   },
   "file_extension": ".py",
   "mimetype": "text/x-python",
   "name": "python",
   "nbconvert_exporter": "python",
   "pygments_lexer": "ipython3",
   "version": "3.6.7"
  },
  "toc": {
   "base_numbering": 1,
   "nav_menu": {},
   "number_sections": true,
   "sideBar": true,
   "skip_h1_title": false,
   "title_cell": "Table of Contents",
   "title_sidebar": "Contents",
   "toc_cell": false,
   "toc_position": {
    "height": "calc(100% - 180px)",
    "left": "10px",
    "top": "150px",
    "width": "165px"
   },
   "toc_section_display": true,
   "toc_window_display": true
  }
 },
 "nbformat": 4,
 "nbformat_minor": 2
}
