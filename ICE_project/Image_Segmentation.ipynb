{
 "cells": [
  {
   "cell_type": "markdown",
   "metadata": {},
   "source": [
    "Exploring Image segmentation to inculde in workflow for delineating growing season irrigated areas"
   ]
  },
  {
   "cell_type": "markdown",
   "metadata": {},
   "source": [
    "### libraries"
   ]
  },
  {
   "cell_type": "code",
   "execution_count": 1,
   "metadata": {
    "ExecuteTime": {
     "end_time": "2019-02-19T23:35:33.336852Z",
     "start_time": "2019-02-19T23:35:33.310183Z"
    }
   },
   "outputs": [],
   "source": [
    "from osgeo import gdal, ogr\n",
    "import os\n",
    "import gdal\n",
    "import rsgislib\n",
    "from rsgislib.segmentation import segutils\n",
    "from rsgislib.rastergis import ratutils\n",
    "from rasterstats import zonal_stats\n",
    "from descartes import PolygonPatch\n",
    "import matplotlib.cm as cm\n",
    "import matplotlib.colors as colors\n",
    "import fiona\n",
    "import json\n",
    "from fiona.crs import from_epsg\n",
    "from shapely.geometry import Polygon, shape"
   ]
  },
  {
   "cell_type": "markdown",
   "metadata": {},
   "source": [
    "## User inputs"
   ]
  },
  {
   "cell_type": "code",
   "execution_count": 79,
   "metadata": {},
   "outputs": [],
   "source": [
    "year = '2017'\n",
    "\n",
    "AOI = 'tamworth'\n",
    "\n",
    "# This is the .tif file to be segmented\n",
    "InputNDVIStats = 'data/' + AOI + '_201601_201712_MaxGNDVI.tif'\n",
    "\n",
    "# These are interim outputs for this workflow\n",
    "KEAFile = 'results/imageSeg/' + AOI + '_' + year + '.kea'\n",
    "SegmentedKEAFile = 'results/imageSeg/' + AOI + '_' + year + '_sheperdSEG.kea'\n",
    "SegmentedTiffFile = 'results/imageSeg/' + AOI + '_' + year + '_sheperdSEG.tif'\n",
    "SegmentedPolygons = 'results/imageSeg/' + AOI + '_' + year + '_polygons.shp'"
   ]
  },
  {
   "cell_type": "markdown",
   "metadata": {},
   "source": [
    "## image segmentation and format conversions"
   ]
  },
  {
   "cell_type": "code",
   "execution_count": 4,
   "metadata": {},
   "outputs": [
    {
     "data": {
      "text/plain": [
       "<osgeo.gdal.Dataset; proxy of <Swig Object of type 'GDALDatasetShadow *' at 0x7f92b2b86f00> >"
      ]
     },
     "execution_count": 4,
     "metadata": {},
     "output_type": "execute_result"
    }
   ],
   "source": [
    "#convert tiff to .kea using gdal\n",
    "os.system(\"gdal_translate -of KEA -a_srs EPSG:3577 \" + InputNDVIStats + \" \" + KEAFile)"
   ]
  },
  {
   "cell_type": "code",
   "execution_count": 56,
   "metadata": {},
   "outputs": [
    {
     "name": "stdout",
     "output_type": "stream",
     "text": [
      "Stretch Input Image\n",
      "Add 1 to stretched file to ensure there are no all zeros (i.e., no data) regions created.\n",
      "Create Input Image Mask.\n",
      "Mask stretched Image.\n",
      "Deleting file: ./tamworth_2017_stchdonly.kea\n",
      "Deleting file: ./tamworth_2017_stchdonlyOff.kea\n",
      "Deleting file: ./tamworth_2017_stchdmaskonly.kea\n",
      "Performing KMeans.\n",
      "Apply KMeans to image.\n",
      "Eliminate Single Pixels.\n",
      "Perform clump.\n",
      "Eliminate small pixels.\n",
      "Relabel clumps.\n",
      "Calculate image statistics and build pyramids.\n",
      "Deleting file: ./tamworth_2017_kmeansclusters.gmtxt\n",
      "Deleting file: ./tamworth_2017_kmeans.kea\n",
      "Deleting file: ./tamworth_2017_kmeans.kea.aux.xml\n",
      "Deleting file: ./tamworth_2017_kmeans_nosgl.kea\n",
      "Deleting file: ./tamworth_2017_kmeans_nosglTMP.kea\n",
      "Deleting file: ./tamworth_2017_clumps.kea\n",
      "Deleting file: ./tamworth_2017_clumps_elim.kea\n",
      "Deleting file: ./tamworth_2017_stchd.kea\n"
     ]
    }
   ],
   "source": [
    "#run the image segmentation code\n",
    "segutils.runShepherdSegmentation(KEAFile, SegmentedKEAFile, numClusters=20, minPxls = 200)"
   ]
  },
  {
   "cell_type": "code",
   "execution_count": 58,
   "metadata": {},
   "outputs": [
    {
     "data": {
      "text/plain": [
       "0"
      ]
     },
     "execution_count": 58,
     "metadata": {},
     "output_type": "execute_result"
    }
   ],
   "source": [
    "#convert imageSeg.kea file back into tiff\n",
    "os.system(\"gdal_translate -of GTIFF -a_srs EPSG:3577 \" + SegmentedKEAFile + \" \" + SegmentedTiffFile)"
   ]
  },
  {
   "cell_type": "code",
   "execution_count": 80,
   "metadata": {},
   "outputs": [
    {
     "data": {
      "text/plain": [
       "0"
      ]
     },
     "execution_count": 80,
     "metadata": {},
     "output_type": "execute_result"
    }
   ],
   "source": [
    "#turn tiff into a polygon set\n",
    "os.system('gdal_polygonize.py ' + SegmentedTiffFile + ' -f' + ' ' + '\"ESRI Shapefile\"' + ' ' + SegmentedPolygons)"
   ]
  },
  {
   "cell_type": "code",
   "execution_count": null,
   "metadata": {},
   "outputs": [],
   "source": []
  },
  {
   "cell_type": "code",
   "execution_count": null,
   "metadata": {},
   "outputs": [],
   "source": []
  },
  {
   "cell_type": "code",
   "execution_count": null,
   "metadata": {},
   "outputs": [],
   "source": []
  },
  {
   "cell_type": "code",
   "execution_count": null,
   "metadata": {},
   "outputs": [],
   "source": []
  },
  {
   "cell_type": "code",
   "execution_count": null,
   "metadata": {},
   "outputs": [],
   "source": []
  },
  {
   "cell_type": "code",
   "execution_count": null,
   "metadata": {},
   "outputs": [],
   "source": []
  },
  {
   "cell_type": "code",
   "execution_count": null,
   "metadata": {},
   "outputs": [],
   "source": [
    "# gdal.Translate(KEAFile, srcDS=InputNDVIStats, format=\"KEA\", outputSRS = 'EPSG:3577')\n",
    "\n",
    "# gdal.Translate(SegmentedTiffFile, srcDS=SegmentedKEAFile, format=\"GTiff\", outputSRS = 'EPSG:3577')\n",
    "\n",
    "# #  get raster datasource\n",
    "# src_ds = gdal.Open(SegmentedTiffFile)\n",
    "# src_band = src_ds.GetRasterBand(1)\n",
    "\n",
    "# #  create output datasource\n",
    "# dst_layername = SegmentedPolygons\n",
    "# drv = ogr.GetDriverByName(\"ESRI Shapefile\")\n",
    "# dst_ds = drv.CreateDataSource(dst_layername)\n",
    "# dst_layer = dst_ds.CreateLayer(dst_layername, srs = 'EPSG:3577' )\n",
    "\n",
    "# gdal.Polygonize(src_band, None, dst_layer, -1, [])"
   ]
  },
  {
   "cell_type": "code",
   "execution_count": null,
   "metadata": {},
   "outputs": [],
   "source": []
  },
  {
   "cell_type": "code",
   "execution_count": null,
   "metadata": {},
   "outputs": [],
   "source": []
  },
  {
   "cell_type": "code",
   "execution_count": null,
   "metadata": {},
   "outputs": [],
   "source": []
  },
  {
   "cell_type": "code",
   "execution_count": null,
   "metadata": {},
   "outputs": [],
   "source": []
  },
  {
   "cell_type": "code",
   "execution_count": null,
   "metadata": {},
   "outputs": [],
   "source": []
  },
  {
   "cell_type": "code",
   "execution_count": null,
   "metadata": {},
   "outputs": [],
   "source": []
  },
  {
   "cell_type": "code",
   "execution_count": null,
   "metadata": {},
   "outputs": [],
   "source": []
  }
 ],
 "metadata": {
  "kernelspec": {
   "display_name": "Python [default]",
   "language": "python",
   "name": "python3"
  },
  "language_info": {
   "codemirror_mode": {
    "name": "ipython",
    "version": 3
   },
   "file_extension": ".py",
   "mimetype": "text/x-python",
   "name": "python",
   "nbconvert_exporter": "python",
   "pygments_lexer": "ipython3",
   "version": "3.6.6"
  },
  "toc": {
   "nav_menu": {},
   "number_sections": true,
   "sideBar": true,
   "skip_h1_title": false,
   "toc_cell": false,
   "toc_position": {},
   "toc_section_display": "block",
   "toc_window_display": true
  }
 },
 "nbformat": 4,
 "nbformat_minor": 2
}
