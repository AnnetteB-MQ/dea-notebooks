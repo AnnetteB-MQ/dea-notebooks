{
 "cells": [
  {
   "cell_type": "markdown",
   "metadata": {},
   "source": [
    "## Irrigation Insight Tool\n",
    "\n",
    "Using the Wetlands insight tool to query the polygons from the Irrigated area analysis\n",
    "\n",
    "Will generate results from May of the year of interst to the following May."
   ]
  },
  {
   "cell_type": "markdown",
   "metadata": {},
   "source": [
    "### User Inputs"
   ]
  },
  {
   "cell_type": "code",
   "execution_count": 6,
   "metadata": {},
   "outputs": [],
   "source": [
    "shp_path = 'data/spatial/leaucaena.shp'\n",
    "# shp_path = 'results/irrigatedWIT/shapes/CONDAMINE-CULGOA_2013_WIT.shp'\n",
    "# year = '2013'\n",
    "ncpus = 5\n",
    "Output_dir = 'results/irrigatedWIT/leaucaena/all_time/csvs/'\n",
    "columnName = 'Name'"
   ]
  },
  {
   "cell_type": "markdown",
   "metadata": {},
   "source": [
    "### Run the cells below to generate WIT csv for polygons in shapefile"
   ]
  },
  {
   "cell_type": "code",
   "execution_count": 7,
   "metadata": {},
   "outputs": [],
   "source": [
    "from datacube.utils import geometry\n",
    "import fiona\n",
    "from multiprocessing import Pool\n",
    "import sys\n",
    "sys.path.append('src')\n",
    "from WITdrill import WITdrill\n",
    "import warnings\n",
    "warnings.filterwarnings(\"ignore\")"
   ]
  },
  {
   "cell_type": "code",
   "execution_count": 8,
   "metadata": {},
   "outputs": [],
   "source": [
    "#get time period for function\n",
    "# start = year +'-06-01'\n",
    "# end = str(int(year)+1)+'-06-01'\n",
    "# time_period = (start, end)\n",
    "time_period = ('1987-01-01', '2019-05-01')"
   ]
  },
  {
   "cell_type": "code",
   "execution_count": 9,
   "metadata": {},
   "outputs": [],
   "source": [
    "with fiona.open(shp_path) as input:\n",
    "    crs = geometry.CRS(input.crs_wkt)"
   ]
  },
  {
   "cell_type": "code",
   "execution_count": 10,
   "metadata": {},
   "outputs": [],
   "source": [
    "p = Pool(ncpus)\n",
    "for feat in fiona.open(shp_path):\n",
    "#     WITdrill(feat, crs, time_period, Output_dir, columnName) # single-cpu\n",
    "    p.apply_async(WITdrill, [feat, crs, time_period, Output_dir, columnName]) # MULTIPROCESS"
   ]
  },
  {
   "cell_type": "code",
   "execution_count": null,
   "metadata": {},
   "outputs": [],
   "source": []
  }
 ],
 "metadata": {
  "kernelspec": {
   "display_name": "Python 3",
   "language": "python",
   "name": "python3"
  },
  "language_info": {
   "codemirror_mode": {
    "name": "ipython",
    "version": 3
   },
   "file_extension": ".py",
   "mimetype": "text/x-python",
   "name": "python",
   "nbconvert_exporter": "python",
   "pygments_lexer": "ipython3",
   "version": "3.6.7"
  }
 },
 "nbformat": 4,
 "nbformat_minor": 2
}
