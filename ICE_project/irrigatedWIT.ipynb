{
 "cells": [
  {
   "cell_type": "markdown",
   "metadata": {},
   "source": [
    "## Irrigation Insight Tool\n",
    "\n",
    "Using the Wetlands insight tool to query the polygons from the Irrigated area analysis\n",
    "\n",
    "Will generate results from May of the year of interst to the following May."
   ]
  },
  {
   "cell_type": "markdown",
   "metadata": {},
   "source": [
    "### User Inputs"
   ]
  },
  {
   "cell_type": "code",
   "execution_count": 1,
   "metadata": {},
   "outputs": [],
   "source": [
    "shp_path = 'results/irrigatedWIT/shapes/Namoi_2013_WIT.shp'\n",
    "year = '2013'\n",
    "ncpus = 6\n",
    "Output_dir = 'results/irrigatedWIT/namoi/csvs/2013/'"
   ]
  },
  {
   "cell_type": "markdown",
   "metadata": {},
   "source": [
    "### Run the cells below to generate WIT csv for polygons in shapefile"
   ]
  },
  {
   "cell_type": "code",
   "execution_count": 2,
   "metadata": {},
   "outputs": [],
   "source": [
    "from datacube.utils import geometry\n",
    "import fiona\n",
    "from multiprocessing import Pool\n",
    "import sys\n",
    "sys.path.append('src')\n",
    "from WITdrill import WITdrill\n",
    "import warnings\n",
    "warnings.filterwarnings(\"ignore\")"
   ]
  },
  {
   "cell_type": "code",
   "execution_count": 3,
   "metadata": {},
   "outputs": [],
   "source": [
    "#get time period for function\n",
    "start = year+'-06-01'\n",
    "end = str(int(year)+1)+'-06-01'\n",
    "time_period = (start, end)"
   ]
  },
  {
   "cell_type": "code",
   "execution_count": 4,
   "metadata": {},
   "outputs": [],
   "source": [
    "with fiona.open(shp_path) as input:\n",
    "    crs = geometry.CRS(input.crs_wkt)"
   ]
  },
  {
   "cell_type": "code",
   "execution_count": 5,
   "metadata": {},
   "outputs": [],
   "source": [
    "p = Pool(ncpus)\n",
    "for feat in fiona.open(shp_path):\n",
    "#     WITdrill(feat, crs) # single-cpu\n",
    "    p.apply_async(WITdrill, [feat, crs, time_period, Output_dir]) # MULTIPROCESS"
   ]
  },
  {
   "cell_type": "code",
   "execution_count": null,
   "metadata": {},
   "outputs": [],
   "source": []
  }
 ],
 "metadata": {
  "kernelspec": {
   "display_name": "Python 3",
   "language": "python",
   "name": "python3"
  },
  "language_info": {
   "codemirror_mode": {
    "name": "ipython",
    "version": 3
   },
   "file_extension": ".py",
   "mimetype": "text/x-python",
   "name": "python",
   "nbconvert_exporter": "python",
   "pygments_lexer": "ipython3",
   "version": "3.6.7"
  }
 },
 "nbformat": 4,
 "nbformat_minor": 2
}
