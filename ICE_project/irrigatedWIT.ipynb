{
 "cells": [
  {
   "cell_type": "markdown",
   "metadata": {},
   "source": [
    "## Irrigation Insight Tool\n",
    "\n",
    "Using the Wetlands insight tool to query the polygons from the Irrigated area analysis\n",
    "\n",
    "Will generate results from May of the year of interst to the following May."
   ]
  },
  {
   "cell_type": "markdown",
   "metadata": {},
   "source": [
    "### User Inputs"
   ]
  },
  {
   "cell_type": "code",
   "execution_count": 2,
   "metadata": {},
   "outputs": [],
   "source": [
    "shp_path = 'results/irrigatedWIT/Namoi_WIT_ready.shp'\n",
    "year = '2017'\n",
    "ncpus = 5\n",
    "Output_dir = 'results/irrigatedWIT/namoi/csvs/'"
   ]
  },
  {
   "cell_type": "markdown",
   "metadata": {},
   "source": [
    "### Run the cells below to generate WIT csv for polygons in shapefile"
   ]
  },
  {
   "cell_type": "code",
   "execution_count": 3,
   "metadata": {},
   "outputs": [],
   "source": [
    "import datacube\n",
    "import fiona\n",
    "import geopandas as gpd\n",
    "import numpy as np\n",
    "import pandas as pd\n",
    "import rasterio.mask\n",
    "import rasterio.features\n",
    "from shapely import geometry\n",
    "import sys\n",
    "import xarray as xr\n",
    "from multiprocessing import Pool\n",
    "\n",
    "from datacube.storage import masking\n",
    "from datacube.utils import geometry\n",
    "from digitalearthau.utils import wofs_fuser\n",
    "\n",
    "sys.path.append('src')\n",
    "import DEADataHandling, DEAPlotting, TasseledCapTools\n",
    "from WITdrill import WITdrill"
   ]
  },
  {
   "cell_type": "code",
   "execution_count": 4,
   "metadata": {},
   "outputs": [],
   "source": [
    "#get time period for fucntion\n",
    "start= year+'-05-01'\n",
    "end = str(int(year)+1)+'-05-01'\n",
    "time_period = (start, end)"
   ]
  },
  {
   "cell_type": "code",
   "execution_count": 5,
   "metadata": {},
   "outputs": [],
   "source": [
    "with fiona.open(shp_path) as input:\n",
    "    crs = geometry.CRS(input.crs_wkt)"
   ]
  },
  {
   "cell_type": "code",
   "execution_count": 6,
   "metadata": {},
   "outputs": [
    {
     "name": "stderr",
     "output_type": "stream",
     "text": [
      "/g/data/v10/public/modules/dea/20190524/lib/python3.6/site-packages/datacube/utils/math.py:105: RuntimeWarning: invalid value encountered in double_scalars\n",
      "  res = (data[data.size - 1] - data[0]) / (data.size - 1.0)\n"
     ]
    }
   ],
   "source": [
    "p = Pool(ncpus)\n",
    "for feat in fiona.open(shp_path):\n",
    "#     WITdrill(feat, crs) # single-cpu\n",
    "    p.apply_async(WITdrill, [feat, crs, time_period, Output_dir]) # MULTIPROCESS"
   ]
  },
  {
   "cell_type": "code",
   "execution_count": null,
   "metadata": {},
   "outputs": [],
   "source": []
  }
 ],
 "metadata": {
  "kernelspec": {
   "display_name": "Python 3",
   "language": "python",
   "name": "python3"
  },
  "language_info": {
   "codemirror_mode": {
    "name": "ipython",
    "version": 3
   },
   "file_extension": ".py",
   "mimetype": "text/x-python",
   "name": "python",
   "nbconvert_exporter": "python",
   "pygments_lexer": "ipython3",
   "version": "3.6.7"
  }
 },
 "nbformat": 4,
 "nbformat_minor": 2
}
