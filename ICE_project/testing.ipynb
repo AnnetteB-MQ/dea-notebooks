{
 "cells": [
  {
   "cell_type": "markdown",
   "metadata": {},
   "source": [
    "## Notebook for testing code snippets"
   ]
  },
  {
   "cell_type": "code",
   "execution_count": null,
   "metadata": {},
   "outputs": [],
   "source": [
    "#testing uncertainty calculation on area estimates following Olofsson et al. 2013 Making better use of accuracy data in land change studies."
   ]
  },
  {
   "cell_type": "code",
   "execution_count": 1,
   "metadata": {},
   "outputs": [],
   "source": [
    "import numpy as np\n",
    "import pandas as pd"
   ]
  },
  {
   "cell_type": "code",
   "execution_count": 139,
   "metadata": {},
   "outputs": [],
   "source": [
    "confusion_matrix = 'results/nmdb_plots/uncertainty/test_uncertainty.csv'\n",
    "year = '1989-90'"
   ]
  },
  {
   "cell_type": "code",
   "execution_count": 112,
   "metadata": {},
   "outputs": [
    {
     "data": {
      "text/html": [
       "<div>\n",
       "<style scoped>\n",
       "    .dataframe tbody tr th:only-of-type {\n",
       "        vertical-align: middle;\n",
       "    }\n",
       "\n",
       "    .dataframe tbody tr th {\n",
       "        vertical-align: top;\n",
       "    }\n",
       "\n",
       "    .dataframe thead th {\n",
       "        text-align: right;\n",
       "    }\n",
       "</style>\n",
       "<table border=\"1\" class=\"dataframe\">\n",
       "  <thead>\n",
       "    <tr style=\"text-align: right;\">\n",
       "      <th></th>\n",
       "      <th>irrigated</th>\n",
       "      <th>non_irrigated</th>\n",
       "      <th>total</th>\n",
       "      <th>map_area</th>\n",
       "      <th>Wi</th>\n",
       "    </tr>\n",
       "    <tr>\n",
       "      <th>Class</th>\n",
       "      <th></th>\n",
       "      <th></th>\n",
       "      <th></th>\n",
       "      <th></th>\n",
       "      <th></th>\n",
       "    </tr>\n",
       "  </thead>\n",
       "  <tbody>\n",
       "    <tr>\n",
       "      <th>irrigated</th>\n",
       "      <td>245</td>\n",
       "      <td>5</td>\n",
       "      <td>250</td>\n",
       "      <td>5.353589e+04</td>\n",
       "      <td>0.020548</td>\n",
       "    </tr>\n",
       "    <tr>\n",
       "      <th>non_irrigated</th>\n",
       "      <td>1</td>\n",
       "      <td>249</td>\n",
       "      <td>250</td>\n",
       "      <td>2.551910e+06</td>\n",
       "      <td>0.979452</td>\n",
       "    </tr>\n",
       "    <tr>\n",
       "      <th>total</th>\n",
       "      <td>246</td>\n",
       "      <td>254</td>\n",
       "      <td>500</td>\n",
       "      <td>2.605446e+06</td>\n",
       "      <td>1.000000</td>\n",
       "    </tr>\n",
       "  </tbody>\n",
       "</table>\n",
       "</div>"
      ],
      "text/plain": [
       "               irrigated  non_irrigated  total      map_area        Wi\n",
       "Class                                                                 \n",
       "irrigated            245              5    250  5.353589e+04  0.020548\n",
       "non_irrigated          1            249    250  2.551910e+06  0.979452\n",
       "total                246            254    500  2.605446e+06  1.000000"
      ]
     },
     "execution_count": 112,
     "metadata": {},
     "output_type": "execute_result"
    }
   ],
   "source": [
    "a = pd.read_csv(confusion_matrix, index_col='Class')\n",
    "a['map_area'] = a['map_area']*(5*5) / 10000\n",
    "a"
   ]
  },
  {
   "cell_type": "code",
   "execution_count": 134,
   "metadata": {},
   "outputs": [],
   "source": [
    "def areaUncertainty(df):\n",
    "    stratified_estimate = a['Wi'][0]*(a['irrigated'][0]/a['total'][0])+a['Wi'][1]*(a['irrigated'][1]/a['total'][1])\n",
    "    adjusted_area = a['map_area'][-1] * stratified_estimate\n",
    "    #standard error\n",
    "    i = round(a['Wi'][0], 6)**2 * (a['irrigated'][0]/a['total'][0] * (1-a['irrigated'][0]/a['total'][0]) / int(a['total'][0]-1))\n",
    "    j = round(a['Wi'][1], 6)**2 * (a['irrigated'][1]/a['total'][1] * (1-a['irrigated'][1]/a['total'][1]) / int(a['total'][1]-1))\n",
    "    standard_error = (i + j)**(0.5)\n",
    "    SE_of_adjustedArea = a['map_area'][-1] * standard_error\n",
    "    CI = 2 * SE_of_adjustedArea\n",
    "    return adjusted_area, CI\n",
    "    "
   ]
  },
  {
   "cell_type": "code",
   "execution_count": 136,
   "metadata": {},
   "outputs": [],
   "source": [
    "adjusted_area, CI = areaUncertainty(a)"
   ]
  },
  {
   "cell_type": "code",
   "execution_count": 141,
   "metadata": {},
   "outputs": [
    {
     "name": "stdout",
     "output_type": "stream",
     "text": [
      "Irrigated area estimate for 1989-90, with 95% confidence interval: 62672.81 +- 20437.36 Ha\n"
     ]
    }
   ],
   "source": [
    "print(\"Irrigated area estimate for \" +year +\", with 95% confidence interval: \" + str(round(adjusted_area, 2)) + \" +- \" + str(round(CI,2)) + \" Ha\")"
   ]
  },
  {
   "cell_type": "code",
   "execution_count": null,
   "metadata": {},
   "outputs": [],
   "source": []
  },
  {
   "cell_type": "code",
   "execution_count": null,
   "metadata": {},
   "outputs": [],
   "source": []
  },
  {
   "cell_type": "code",
   "execution_count": null,
   "metadata": {},
   "outputs": [],
   "source": [
    "# simplifying polygons"
   ]
  },
  {
   "cell_type": "code",
   "execution_count": null,
   "metadata": {},
   "outputs": [],
   "source": [
    "import sys\n",
    "import os\n",
    "import time\n",
    "import copy\n",
    "import geopandas as gpd\n",
    "\n",
    "from shapely.geometry import asShape\n",
    "from shapely.geometry import MultiLineString\n",
    "from shapely.geometry import asLineString\n",
    "from shapely.wkt import dumps\n",
    "#from pprint import pprint\n",
    "\n",
    "import shapefile\n",
    "import numpy as np\n",
    "\n",
    "sys.path.append('src/')\n",
    "import bezier\n",
    "import bendsimplify"
   ]
  },
  {
   "cell_type": "code",
   "execution_count": null,
   "metadata": {},
   "outputs": [],
   "source": [
    "shape = \"results/SICA/nmdb_Summer1998_99_Irrigated_OEHandLS_masked.shp\""
   ]
  },
  {
   "cell_type": "code",
   "execution_count": null,
   "metadata": {},
   "outputs": [],
   "source": [
    "#nothihng seems to happen...\n",
    "bendsimplify.bend_simplify(\"results/nmdb_Summer1998_99_Irrigated_OEHandLS_masked_objectID.shp\")"
   ]
  },
  {
   "cell_type": "code",
   "execution_count": null,
   "metadata": {},
   "outputs": [],
   "source": [
    "# This works but is not topologically aware so overlaps/slivers occur (if not\n",
    "# for important analysis then could use overlay to remove overlaps)\n",
    "gdf = gpd.read_file(shape)\n",
    "gdf_simplified = gdf.copy()\n",
    "gdf_simplified[\"geometry\"] = gdf.geometry.simplify(tolerance=50,preserve_topology=True)\n",
    "gdf.to_file(\"results/test_simplify_1998_99_tolerance50_shapely.shp\")"
   ]
  },
  {
   "cell_type": "code",
   "execution_count": null,
   "metadata": {},
   "outputs": [],
   "source": []
  },
  {
   "cell_type": "code",
   "execution_count": null,
   "metadata": {},
   "outputs": [],
   "source": []
  },
  {
   "cell_type": "code",
   "execution_count": null,
   "metadata": {},
   "outputs": [],
   "source": []
  },
  {
   "cell_type": "code",
   "execution_count": null,
   "metadata": {},
   "outputs": [],
   "source": []
  },
  {
   "cell_type": "code",
   "execution_count": null,
   "metadata": {},
   "outputs": [],
   "source": []
  },
  {
   "cell_type": "code",
   "execution_count": null,
   "metadata": {},
   "outputs": [],
   "source": []
  },
  {
   "cell_type": "code",
   "execution_count": null,
   "metadata": {},
   "outputs": [],
   "source": []
  },
  {
   "cell_type": "code",
   "execution_count": null,
   "metadata": {},
   "outputs": [],
   "source": []
  },
  {
   "cell_type": "code",
   "execution_count": null,
   "metadata": {},
   "outputs": [],
   "source": []
  },
  {
   "cell_type": "code",
   "execution_count": null,
   "metadata": {},
   "outputs": [],
   "source": []
  },
  {
   "cell_type": "code",
   "execution_count": null,
   "metadata": {},
   "outputs": [],
   "source": []
  },
  {
   "cell_type": "code",
   "execution_count": null,
   "metadata": {},
   "outputs": [],
   "source": []
  },
  {
   "cell_type": "code",
   "execution_count": null,
   "metadata": {},
   "outputs": [],
   "source": []
  }
 ],
 "metadata": {
  "kernelspec": {
   "display_name": "Python 3",
   "language": "python",
   "name": "python3"
  },
  "language_info": {
   "codemirror_mode": {
    "name": "ipython",
    "version": 3
   },
   "file_extension": ".py",
   "mimetype": "text/x-python",
   "name": "python",
   "nbconvert_exporter": "python",
   "pygments_lexer": "ipython3",
   "version": "3.6.7"
  }
 },
 "nbformat": 4,
 "nbformat_minor": 2
}
