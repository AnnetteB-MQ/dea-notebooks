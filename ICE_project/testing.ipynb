{
 "cells": [
  {
   "cell_type": "markdown",
   "metadata": {},
   "source": [
    "## Notebook for testing code snippets"
   ]
  },
  {
   "cell_type": "code",
   "execution_count": 1,
   "metadata": {},
   "outputs": [],
   "source": [
    "from datacube_stats.statistics import GeoMedian"
   ]
  },
  {
   "cell_type": "code",
   "execution_count": 3,
   "metadata": {},
   "outputs": [],
   "source": [
    "import datacube_stats"
   ]
  },
  {
   "cell_type": "code",
   "execution_count": null,
   "metadata": {},
   "outputs": [],
   "source": [
    "GeoMedian()"
   ]
  },
  {
   "cell_type": "code",
   "execution_count": null,
   "metadata": {},
   "outputs": [],
   "source": [
    "im"
   ]
  },
  {
   "cell_type": "code",
   "execution_count": null,
   "metadata": {},
   "outputs": [],
   "source": []
  },
  {
   "cell_type": "markdown",
   "metadata": {},
   "source": [
    "## function to identify the amount of winter irrigation miss-identified as summer irrigation"
   ]
  },
  {
   "cell_type": "code",
   "execution_count": null,
   "metadata": {},
   "outputs": [],
   "source": [
    "import numpy as np\n",
    "import xarray as xr\n",
    "import sys\n",
    "sys.path.append('src')\n",
    "import SpatialTools"
   ]
  },
  {
   "cell_type": "code",
   "execution_count": null,
   "metadata": {},
   "outputs": [],
   "source": [
    "irrigated = 'results/nmdb/nmdb_Summer2013_14/nmdb_Summer2013_14_Irrigated_OEHandLS_masked.shp'\n",
    "argmax = \"/g/data/r78/cb3058/dea-notebooks/dcStats/results/mdb_NSW/summer/ndviArgMaxMin/mosaics/ndviArgMaxMin_20131101_mosaic.tif\""
   ]
  },
  {
   "cell_type": "code",
   "execution_count": null,
   "metadata": {},
   "outputs": [],
   "source": [
    "def maxNDVIisinNovember(irrigated, argmax):\n",
    "    timeofmax = xr.open_rasterio(argmax)#.isel(x=range(50000, 60000)).isel(y=range(50000,60000)).squeeze()\n",
    "    print(timeofmax)\n",
    "    timeofmax = timeofmax.isel(band = 0)\n",
    "    print(\"--------------------------------\")\n",
    "    print(timeofmax)\n",
    "    nov = timeofmax.where(timeofmax == 11)\n",
    "    transform, projection = SpatialTools.geotransform(timeofmax, (timeofmax.x, timeofmax.y), epsg=3577)\n",
    "    width,height = timeofmax.shape\n",
    "    print(\"--------------------------------\")\n",
    "    print(\"rasterizing vector\")\n",
    "    mask = SpatialTools.rasterize_vector(irrigated, height, width,transform, projection, raster_path=None)\n",
    "    result = nov.where(mask)\n",
    "    print(\"--------------------------------\")\n",
    "    print('calculating counts')\n",
    "    unique,counts=np.unique(result.values, return_counts=True)\n",
    "    x = dict(zip(unique, counts))\n",
    "    print(x)\n",
    "    print(\"--------------------------------\")\n",
    "    print(\"area where max NDVI occurs in Novemeber is \"  + str(x['11'] * (25*25) / 10000) + ' ha')"
   ]
  },
  {
   "cell_type": "code",
   "execution_count": null,
   "metadata": {},
   "outputs": [],
   "source": [
    "maxNDVIisinNovember(irrigated, argmax)"
   ]
  },
  {
   "cell_type": "markdown",
   "metadata": {},
   "source": [
    "## Simplifying polygons"
   ]
  },
  {
   "cell_type": "code",
   "execution_count": null,
   "metadata": {},
   "outputs": [],
   "source": [
    "import sys\n",
    "import os\n",
    "import time\n",
    "import copy\n",
    "import geopandas as gpd\n",
    "\n",
    "from shapely.geometry import asShape\n",
    "from shapely.geometry import MultiLineString\n",
    "from shapely.geometry import asLineString\n",
    "from shapely.wkt import dumps\n",
    "#from pprint import pprint\n",
    "\n",
    "import shapefile\n",
    "import numpy as np\n",
    "\n",
    "sys.path.append('src/')\n",
    "import bezier\n",
    "import bendsimplify"
   ]
  },
  {
   "cell_type": "code",
   "execution_count": null,
   "metadata": {},
   "outputs": [],
   "source": [
    "shape = \"results/SICA/nmdb_Summer1998_99_Irrigated_OEHandLS_masked.shp\""
   ]
  },
  {
   "cell_type": "code",
   "execution_count": null,
   "metadata": {},
   "outputs": [],
   "source": [
    "#nothihng seems to happen...\n",
    "bendsimplify.bend_simplify(\"results/nmdb_Summer1998_99_Irrigated_OEHandLS_masked_objectID.shp\")"
   ]
  },
  {
   "cell_type": "code",
   "execution_count": null,
   "metadata": {},
   "outputs": [],
   "source": [
    "# This works but is not topologically aware so overlaps/slivers occur (if not\n",
    "# for important analysis then could use overlay to remove overlaps)\n",
    "gdf = gpd.read_file(shape)\n",
    "gdf_simplified = gdf.copy()\n",
    "gdf_simplified[\"geometry\"] = gdf.geometry.simplify(tolerance=50,preserve_topology=True)\n",
    "gdf.to_file(\"results/test_simplify_1998_99_tolerance50_shapely.shp\")"
   ]
  },
  {
   "cell_type": "code",
   "execution_count": null,
   "metadata": {},
   "outputs": [],
   "source": []
  },
  {
   "cell_type": "code",
   "execution_count": null,
   "metadata": {},
   "outputs": [],
   "source": []
  }
 ],
 "metadata": {
  "kernelspec": {
   "display_name": "Python 3",
   "language": "python",
   "name": "python3"
  },
  "language_info": {
   "codemirror_mode": {
    "name": "ipython",
    "version": 3
   },
   "file_extension": ".py",
   "mimetype": "text/x-python",
   "name": "python",
   "nbconvert_exporter": "python",
   "pygments_lexer": "ipython3",
   "version": "3.6.7"
  }
 },
 "nbformat": 4,
 "nbformat_minor": 4
}
