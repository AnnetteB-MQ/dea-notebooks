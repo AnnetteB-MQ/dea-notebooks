{
 "cells": [
  {
   "cell_type": "code",
   "execution_count": 1,
   "metadata": {},
   "outputs": [],
   "source": [
    "import sys\n",
    "import os\n",
    "import geopandas as gpd\n",
    "import pandas as pd\n",
    "import numpy as np\n",
    "import xarray as xr\n",
    "\n",
    "import sys\n",
    "sys.path.append('src')\n",
    "import DEAPlotting, SpatialTools"
   ]
  },
  {
   "cell_type": "code",
   "execution_count": 2,
   "metadata": {},
   "outputs": [],
   "source": [
    "results = \"results/nmdb_plots/frequency/\""
   ]
  },
  {
   "cell_type": "markdown",
   "metadata": {},
   "source": [
    "### Part 1: Create rasterstack of irrigation "
   ]
  },
  {
   "cell_type": "code",
   "execution_count": null,
   "metadata": {},
   "outputs": [],
   "source": [
    "#list of years to help for-loop iterate through folders\n",
    "x = range(1987,2019,1)\n",
    "years = []\n",
    "for i in x:\n",
    "    nextyear = str(i + 1)[2:]\n",
    "    y = str(i) + \"_\" + nextyear\n",
    "    years.append(str(y))\n",
    "# removing years that didn't work\n",
    "years =  [e for e in years if e not in ('2011_12', '2012_13')]\n",
    "years.sort()\n",
    "\n",
    "#list of folders to help with loop\n",
    "folders = os.listdir(directory)\n",
    "folders.sort()\n",
    "\n",
    "# Convert our shapefiles into tiffs, add them to an giant xarray and \n",
    "# then export as netcdf so we don't have to keep loading them while we\n",
    "# work out the animation code.\n",
    "def convertIrrShpToTiff(shp, year):  \n",
    "    #open a tif and get transform info\n",
    "    tif = shp[:77]+shp[77:95]+\"_multithreshold_65Thres\"+suffix[10:]+\".tif\"\n",
    "    ds = xr.open_rasterio(tif).squeeze()\n",
    "    transform, proj = geotransform(ds, (ds.x, ds.y), epsg=3577)\n",
    "    rows,cols = ds.shape\n",
    "    #turn vector in numpy array\n",
    "    shp_arr = rasterize_vector(shp, cols=cols, rows=rows, geo_transform=transform, projection=proj)\n",
    "    #convert numpy array inot xarray\n",
    "    shp_xr = xr.DataArray(shp_arr, coords = [ds.y, ds.x], dims = ['y', 'x'])\n",
    "    #append xarray to list\n",
    "    da_list.append(shp_xr)\n",
    "\n",
    "da_list = []\n",
    "for year, folder in zip(years, folders): \n",
    "    print(\"\\r\", \"working on year: \" + year, end = '')\n",
    "    convertIrrShpToTiff(directory+folder+\"/\"+\"nmdb_Summer\"+ year + suffix+\".shp\", year)\n",
    "\n",
    "#generate date ranges to use as coordinates in xrray dataset\n",
    "dates = pd.date_range(start='1/1/1987', end='1/01/2019', freq='Y')\n",
    "dates = dates.drop([pd.Timestamp('2011-12-31'), pd.Timestamp('2012-12-31')])\n",
    "#concatenate all xarrays in list to a single multi-dim xarray with time ('dates') as coords.\n",
    "da = xr.concat(da_list, dim=dates).rename({'concat_dim':'time'}).rename('Irrigated_Area')\n",
    "#convert to dataset\n",
    "ds = da.to_dataset()\n",
    "#export netcdf\n",
    "ds.to_netcdf(results + \"NMDB_irrigation.nc\")"
   ]
  },
  {
   "cell_type": "markdown",
   "metadata": {},
   "source": [
    "### Part 2: Calculate per pixel frequency"
   ]
  },
  {
   "cell_type": "code",
   "execution_count": 54,
   "metadata": {},
   "outputs": [],
   "source": [
    "irr_alltime = xr.open_dataset(results+'NMDB_irrigation.nc').astype(bool) #.isel(time=range(0,10)).isel(x=range(26000,28000)).isel(y=range(18000,20000))\n",
    "# irr_90s = xr.open_dataset(results+'NMDB_irrigation.nc').astype(bool).isel(time=range(0,13))\n",
    "# irr_00s = xr.open_dataset(results+'NMDB_irrigation.nc').astype(bool).isel(time=range(13,23))\n",
    "# irr_10s = xr.open_dataset(results+'NMDB_irrigation.nc').astype(bool).isel(time=range(23,31))"
   ]
  },
  {
   "cell_type": "code",
   "execution_count": 67,
   "metadata": {},
   "outputs": [],
   "source": [
    "frequency_alltime = irr_alltime.Irrigated_Area.sum('time', skipna=True) / len(irr_alltime.Irrigated_Area.time)\n",
    "frequency_alltime = frequency_alltime.rename('freqency of cropping')"
   ]
  },
  {
   "cell_type": "code",
   "execution_count": null,
   "metadata": {},
   "outputs": [],
   "source": [
    "transform, projection = SpatialTools.geotransform(frequency_alltime, (frequency_alltime.x, frequency_alltime.y), epsg=3577)\n",
    "width,height = frequency_alltime.shape\n",
    "SpatialTools.array_to_geotiff(results+'frequency_alltime.tif',\n",
    "              frequency_alltime.values, geo_transform = transform, \n",
    "              projection = projection, \n",
    "              nodata_val=np.nan)"
   ]
  },
  {
   "cell_type": "code",
   "execution_count": null,
   "metadata": {},
   "outputs": [],
   "source": []
  },
  {
   "cell_type": "code",
   "execution_count": null,
   "metadata": {},
   "outputs": [],
   "source": [
    "# test.Irrigated_Area.sum('time', skipna=True)"
   ]
  },
  {
   "cell_type": "code",
   "execution_count": 83,
   "metadata": {},
   "outputs": [
    {
     "data": {
      "text/plain": [
       "Timestamp('2018-12-31 00:00:00', freq='A-DEC')"
      ]
     },
     "execution_count": 83,
     "metadata": {},
     "output_type": "execute_result"
    }
   ],
   "source": [
    "pd.date_range(start='1/1/1987', end='1/01/2019', freq='Y')[31]"
   ]
  },
  {
   "cell_type": "code",
   "execution_count": 85,
   "metadata": {},
   "outputs": [
    {
     "name": "stdout",
     "output_type": "stream",
     "text": [
      "23\n",
      "24\n",
      "25\n",
      "26\n",
      "27\n",
      "28\n",
      "29\n",
      "30\n"
     ]
    }
   ],
   "source": [
    "for i in range(23,31):\n",
    "    print(i)"
   ]
  },
  {
   "cell_type": "code",
   "execution_count": null,
   "metadata": {},
   "outputs": [],
   "source": []
  }
 ],
 "metadata": {
  "kernelspec": {
   "display_name": "Python 3",
   "language": "python",
   "name": "python3"
  },
  "language_info": {
   "codemirror_mode": {
    "name": "ipython",
    "version": 3
   },
   "file_extension": ".py",
   "mimetype": "text/x-python",
   "name": "python",
   "nbconvert_exporter": "python",
   "pygments_lexer": "ipython3",
   "version": "3.6.7"
  }
 },
 "nbformat": 4,
 "nbformat_minor": 2
}
