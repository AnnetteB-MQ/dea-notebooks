{
 "cells": [
  {
   "cell_type": "markdown",
   "metadata": {},
   "source": [
    "## Calculating the frequency of irrigated cropping as a proxy for intensity\n",
    "\n",
    "Script is divided into two sections:\n",
    "\n",
    "1. The first part creates a large rasterstack of all the irrigated area files and exports it as netcdf.\n",
    "2. The rasterstack is then loaded as an xarray object and per-pixel frequency is calculated.\n",
    "\n",
    "This script is for testing.  To run this at scale use croppingFrequency.py on hugemem"
   ]
  },
  {
   "cell_type": "code",
   "execution_count": 121,
   "metadata": {},
   "outputs": [],
   "source": [
    "import sys\n",
    "import os\n",
    "import geopandas as gpd\n",
    "import pandas as pd\n",
    "import numpy as np\n",
    "import xarray as xr\n",
    "\n",
    "import sys\n",
    "sys.path.append('src')\n",
    "import DEAPlotting, SpatialTools"
   ]
  },
  {
   "cell_type": "markdown",
   "metadata": {},
   "source": [
    "### User Inputs"
   ]
  },
  {
   "cell_type": "code",
   "execution_count": 122,
   "metadata": {},
   "outputs": [],
   "source": [
    "results = \"results/nmdb_plots/frequency/\""
   ]
  },
  {
   "cell_type": "markdown",
   "metadata": {},
   "source": [
    "### Part 1: Create rasterstack of irrigation \n",
    "\n",
    "Too large to run on the VDI"
   ]
  },
  {
   "cell_type": "code",
   "execution_count": null,
   "metadata": {},
   "outputs": [],
   "source": [
    "#list of years to help for-loop iterate through folders\n",
    "x = range(1987,2019,1)\n",
    "years = []\n",
    "for i in x:\n",
    "    nextyear = str(i + 1)[2:]\n",
    "    y = str(i) + \"_\" + nextyear\n",
    "    years.append(str(y))\n",
    "# removing years that didn't work\n",
    "years =  [e for e in years if e not in ('2011_12', '2012_13')]\n",
    "years.sort()\n",
    "\n",
    "#list of folders to help with loop\n",
    "folders = os.listdir(directory)\n",
    "folders.sort()\n",
    "\n",
    "# Convert our shapefiles into tiffs, add them to an giant xarray and \n",
    "# then export as netcdf \n",
    "def convertIrrShpToTiff(shp, year):  \n",
    "    #open a tif and get transform info\n",
    "    tif = shp[:77]+shp[77:95]+\"_multithreshold_65Thres\"+suffix[10:]+\".tif\"\n",
    "    ds = xr.open_rasterio(tif).squeeze()\n",
    "    transform, proj = geotransform(ds, (ds.x, ds.y), epsg=3577)\n",
    "    rows,cols = ds.shape\n",
    "    #turn vector into numpy array\n",
    "    shp_arr = rasterize_vector(shp, cols=cols, rows=rows, geo_transform=transform, projection=proj)\n",
    "    #convert numpy array into xarray\n",
    "    shp_xr = xr.DataArray(shp_arr, coords = [ds.y, ds.x], dims = ['y', 'x'])\n",
    "    #append xarray to list\n",
    "    da_list.append(shp_xr)\n",
    "\n",
    "da_list = []\n",
    "for year, folder in zip(years, folders): \n",
    "    print(\"\\r\", \"working on year: \" + year, end = '')\n",
    "    convertIrrShpToTiff(directory+folder+\"/\"+\"nmdb_Summer\"+ year + suffix+\".shp\", year)\n",
    "\n",
    "#generate date ranges to use as coordinates in xrray dataset\n",
    "dates = pd.date_range(start='1/1/1987', end='1/01/2019', freq='Y')\n",
    "dates = dates.drop([pd.Timestamp('2011-12-31'), pd.Timestamp('2012-12-31')])\n",
    "#concatenate all xarrays into a single multi-dim xarray with time ('dates') as coords.\n",
    "da = xr.concat(da_list, dim=dates).rename({'concat_dim':'time'}).rename('Irrigated_Area')\n",
    "#convert to dataset\n",
    "ds = da.to_dataset()\n",
    "#export as netcdf\n",
    "ds.to_netcdf(results + \"NMDB_irrigation.nc\")"
   ]
  },
  {
   "cell_type": "markdown",
   "metadata": {},
   "source": [
    "### Part 2: Calculate per pixel frequency et al.\n",
    "\n",
    "Testing the workflow on a small area then running on hugemem using the .py file of the same name"
   ]
  },
  {
   "cell_type": "code",
   "execution_count": 123,
   "metadata": {},
   "outputs": [],
   "source": [
    "z = xr.open_dataset(results+'NMDB_irrigation.nc').isel(x=range(26000,28000)).isel(y=range(18500,20000)).astype(bool)"
   ]
  },
  {
   "cell_type": "code",
   "execution_count": 124,
   "metadata": {},
   "outputs": [],
   "source": [
    "#create parallized function for calculating sum on the array\n",
    "def count_irrigation(x, dim):\n",
    "    return xr.apply_ufunc(np.sum, x, dask='parallelized',\n",
    "                          input_core_dims=[[dim]],\n",
    "                          kwargs={'axis': -1})\n",
    "\n",
    "count = count_irrigation(z.Irrigated_Area, dim='time')\n",
    "rawfrequency = count / len(z.time)"
   ]
  },
  {
   "cell_type": "code",
   "execution_count": 128,
   "metadata": {},
   "outputs": [],
   "source": [
    "def IrrigationFirstOccurs(x, dim):\n",
    "    \"\"\"\n",
    "    Calculating the time (indice) at which the first occurence of \n",
    "    Irrigation occurs (per-pixel). This works because np.nanargmax:\n",
    "    \"In cases of multiple occurrences of the maximum values,\n",
    "    the indices corresponding to the first occurrence are returned.\"\n",
    "    \"\"\"\n",
    "    return xr.apply_ufunc(np.nanargmax, x, dask='parallelized',\n",
    "                          input_core_dims=[[dim]],\n",
    "                          kwargs={'axis': -1})\n",
    "\n",
    "firstOccured = IrrigationFirstOccurs(z, dim='time')\n",
    "yearsIrrigated = len(z.time) - firstOccured \n",
    "normalisedFrequency = count / yearsIrrigated"
   ]
  },
  {
   "cell_type": "code",
   "execution_count": 126,
   "metadata": {},
   "outputs": [],
   "source": [
    "#covert first observed to an array with the date (year)\n",
    "dates = [t for t in range(1987,2019,1)]\n",
    "dates =  [e for e in dates if e not in (2011, 2012)]\n",
    "dates = np.asarray(dates)\n",
    "\n",
    "def timey(ind, time):\n",
    "    func = time[ind]\n",
    "    return func\n",
    "\n",
    "firstOccuredDates = timey(firstOccured.Irrigated_Area, dates)"
   ]
  },
  {
   "cell_type": "code",
   "execution_count": null,
   "metadata": {},
   "outputs": [],
   "source": [
    "# rawfrequency.where(frequency >= 0.01).plot(figsize=(5,5), cmap='plasma')"
   ]
  },
  {
   "cell_type": "code",
   "execution_count": 132,
   "metadata": {},
   "outputs": [],
   "source": [
    "# yearsIrrigated.Irrigated_Area.plot(figsize=(5,5), cmap='plasma')"
   ]
  },
  {
   "cell_type": "code",
   "execution_count": 133,
   "metadata": {},
   "outputs": [],
   "source": [
    "# normalisedFrequency.Irrigated_Area.plot(figsize=(8,8), cmap='plasma')"
   ]
  },
  {
   "cell_type": "code",
   "execution_count": null,
   "metadata": {},
   "outputs": [],
   "source": []
  }
 ],
 "metadata": {
  "kernelspec": {
   "display_name": "Python 3",
   "language": "python",
   "name": "python3"
  },
  "language_info": {
   "codemirror_mode": {
    "name": "ipython",
    "version": 3
   },
   "file_extension": ".py",
   "mimetype": "text/x-python",
   "name": "python",
   "nbconvert_exporter": "python",
   "pygments_lexer": "ipython3",
   "version": "3.6.7"
  }
 },
 "nbformat": 4,
 "nbformat_minor": 2
}
