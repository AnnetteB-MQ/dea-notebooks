{
 "cells": [
  {
   "cell_type": "markdown",
   "metadata": {},
   "source": [
    "## Correlation Analysis\n",
    "\n",
    "Irrigated area vs Nino 3.4 index and seasonal rainfall anomalies.  Plots a correlation matrix"
   ]
  },
  {
   "cell_type": "code",
   "execution_count": 2,
   "metadata": {},
   "outputs": [],
   "source": [
    "import pandas as pd\n",
    "import numpy as np\n",
    "import matplotlib.pyplot as plt\n",
    "import seaborn"
   ]
  },
  {
   "cell_type": "code",
   "execution_count": null,
   "metadata": {},
   "outputs": [],
   "source": [
    "#load in Nino 3.4 data and rearrange so its in the right format\n",
    "nino34_monthly = pd.read_csv('data/NINO34ANOMS.csv', header=None, usecols=list(range(1,13)))\n",
    "nino34_monthly = nino34_monthly.transpose()\n",
    "nino34_monthly = pd.Series(nino34_monthly.values.ravel('F'))\n",
    "dates = pd.date_range(start='1/1/1987', end='1/01/2020', freq='M')\n",
    "nino34_monthly = pd.DataFrame({\"date\":dates, 'nino34_monthly': nino34_monthly}).set_index('date')\n",
    "\n",
    "#get our irrigated area data, and geerate an anomaly timeseries from it\n",
    "irr_area = pd.read_csv('results/nmdb_plots/csvs/NMDB_annual_area.csv')['irrigated area']\n",
    "mean_area = irr_area.mean()\n",
    "irr_anom = irr_area - mean_area\n",
    "\n",
    "#load in rainfall anomaly data\n",
    "rain = pd.read_csv('data/mdb_rainfall.csv')\n",
    "rain = rain.drop([24,25])"
   ]
  },
  {
   "cell_type": "code",
   "execution_count": null,
   "metadata": {},
   "outputs": [],
   "source": [
    "#resample the data to yearly means\n",
    "nino34_yearly = nino34_monthly.resample('Y').mean()\n",
    "nino34_yearly = nino34_yearly.drop(pd.DatetimeIndex(['2011-12-31', '2012-12-31']))\n",
    "nino34_yearly = nino34_yearly.drop(nino34_yearly.index[[0]])\n",
    "\n",
    "#resample the data to a custom length season\n",
    "def group_customSummer(df, monthsInSeason = [11,12,1,2,3]):\n",
    "    df['month'] = df.index.month\n",
    "    summer = df['month'].isin(monthsInSeason)\n",
    "    df = df.where(summer)\n",
    "    df = df.dropna(axis=0, how=\"all\")\n",
    "    df = df.drop('month', axis=1)\n",
    "    df = df.drop(df.index[[0,1]])\n",
    "    df = df.rolling(5).mean()[::5]\n",
    "    df = df.dropna(axis=0, how=\"all\")\n",
    "    return df\n",
    "\n",
    "def group_customWinter(df, monthsInSeason = [11,12,1,2,3]):\n",
    "    df['month'] = df.index.month\n",
    "    summer = df['month'].isin(monthsInSeason)\n",
    "    df = df.where(summer)\n",
    "    df = df.dropna(axis=0, how=\"all\")\n",
    "    df = df.drop('month', axis=1)\n",
    "    df = df.rolling(5).mean()[4::5]\n",
    "    df = df.drop(df.index[[-1]])\n",
    "#     df = df.dropna(axis=0, how=\"all\")\n",
    "    return df\n",
    "\n",
    "nino34_winter = group_customWinter(nino34_monthly, monthsInSeason=[5,6,7,8,9])\n",
    "nino34_summer = group_customSummer(nino34_monthly)\n",
    "nino34_summer = nino34_summer.drop([pd.Timestamp('2012-03-31'), pd.Timestamp('2011-03-31')])\n",
    "nino34_winter = nino34_winter.drop([pd.Timestamp('2012-09-30'), pd.Timestamp('2011-09-30')])"
   ]
  },
  {
   "cell_type": "code",
   "execution_count": null,
   "metadata": {},
   "outputs": [],
   "source": [
    "#create one large dataframe with all possible independent variable\n",
    "df = pd.DataFrame({'ninoSumm':list(nino34_summer.nino34_monthly),\n",
    "                   'ninoWint':list(nino34_winter.nino34_monthly),\n",
    "                   'ninoYear': list(nino34_yearly.nino34_monthly),\n",
    "                   'RainSumm': list(rain.rain_anomaly_summer),\n",
    "                   'RainWint': list(rain.rain_anomaly_winter),\n",
    "                   'Irr_area': list(irr_area)\n",
    "                  })\n",
    "# df[0:23]"
   ]
  },
  {
   "cell_type": "code",
   "execution_count": 12,
   "metadata": {},
   "outputs": [
    {
     "data": {
      "text/plain": [
       "<matplotlib.axes._subplots.AxesSubplot at 0x7f02f9d47cf8>"
      ]
     },
     "execution_count": 12,
     "metadata": {},
     "output_type": "execute_result"
    },
    {
     "data": {
      "image/png": "[encoded data removed]",
      "text/plain": [
       "<Figure size 864x864 with 2 Axes>"
      ]
     },
     "metadata": {
      "needs_background": "light"
     },
     "output_type": "display_data"
    }
   ],
   "source": [
    "# Compute the correlation matrix using just the last 10 years (when MDB water allocations used)\n",
    "corr_recent = df[23:].corr()\n",
    "\n",
    "# Generate a mask for the upper triangle\n",
    "mask = np.zeros_like(corr_recent, dtype=np.bool)\n",
    "mask[np.triu_indices_from(mask)] = True\n",
    "\n",
    "# Set up the matplotlib figure\n",
    "f, ax = plt.subplots(figsize=(10,10))\n",
    "\n",
    "# Draw the heatmap with the mask and correct aspect ratio\n",
    "seaborn.heatmap(corr_recent, mask=mask, cmap='RdBu', vmin=-.75,vmax=.75, center=0,\n",
    "            square=True, annot=True, linewidths=.5, cbar_kws={\"shrink\": .5})"
   ]
  },
  {
   "cell_type": "code",
   "execution_count": null,
   "metadata": {},
   "outputs": [],
   "source": [
    "corr_early = df[0:23].corr()\n",
    "\n",
    "# Generate a mask for the upper triangle\n",
    "mask = np.zeros_like(corr_early, dtype=np.bool)\n",
    "mask[np.triu_indices_from(mask)] = True\n",
    "\n",
    "# Set up the matplotlib figure\n",
    "f, ax = plt.subplots(figsize=(10,10))\n",
    "\n",
    "# Draw the heatmap with the mask and correct aspect ratio\n",
    "seaborn.heatmap(corr_early, mask=mask, cmap='RdBu', vmin=-.75,vmax=.75, center=0,\n",
    "            square=True, annot=True, linewidths=.5, cbar_kws={\"shrink\": .5})"
   ]
  },
  {
   "cell_type": "code",
   "execution_count": null,
   "metadata": {},
   "outputs": [],
   "source": []
  },
  {
   "cell_type": "code",
   "execution_count": null,
   "metadata": {},
   "outputs": [],
   "source": []
  }
 ],
 "metadata": {
  "kernelspec": {
   "display_name": "Python 3",
   "language": "python",
   "name": "python3"
  },
  "language_info": {
   "codemirror_mode": {
    "name": "ipython",
    "version": 3
   },
   "file_extension": ".py",
   "mimetype": "text/x-python",
   "name": "python",
   "nbconvert_exporter": "python",
   "pygments_lexer": "ipython3",
   "version": "3.6.7"
  }
 },
 "nbformat": 4,
 "nbformat_minor": 2
}
