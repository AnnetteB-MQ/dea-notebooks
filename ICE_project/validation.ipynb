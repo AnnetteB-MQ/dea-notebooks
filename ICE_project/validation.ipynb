{
 "cells": [
  {
   "cell_type": "markdown",
   "metadata": {},
   "source": [
    "## Validation of Annual Summer Irrigated Cropping Area (SICA)\n",
    "Using a variety of measures. Firstly, compare the overall area between the validation dataset and the prediction dataset, secondly calculate a Jaccard Similarity Score to test how similar the two datasets are, then generate confusion matrix with a number of measures describing the precion, omission, commission, accuracy etc.\n",
    "\n",
    "Relying on Claire Kraus's notebook for guidance:\n",
    "\n",
    "https://github.com/GeoscienceAustralia/dea-notebooks/blob/ClaireK/Crop_mapping/NamoiPilotProjectWorkflow/ValidateAutomaticIrrigatedCropAreaGeotiffs.ipynb"
   ]
  },
  {
   "cell_type": "code",
   "execution_count": null,
   "metadata": {},
   "outputs": [],
   "source": [
    "t = [round(df['irr_area'].min(), 1), round(df['irr_area'].max(), -3)]\n",
    "t"
   ]
  },
  {
   "cell_type": "code",
   "execution_count": null,
   "metadata": {},
   "outputs": [],
   "source": [
    "roundup(int(df['irr_area'].max()))"
   ]
  },
  {
   "cell_type": "code",
   "execution_count": null,
   "metadata": {},
   "outputs": [],
   "source": [
    "t = [format(int(df['irr_area'].min()), ','), format(int(df['irr_area'].max()), ',')]\n",
    "t"
   ]
  },
  {
   "cell_type": "code",
   "execution_count": null,
   "metadata": {},
   "outputs": [],
   "source": [
    "import os\n",
    "import pandas as pd\n",
    "import matplotlib.ticker as ticker"
   ]
  },
  {
   "cell_type": "code",
   "execution_count": null,
   "metadata": {},
   "outputs": [],
   "source": [
    "year = [1987, 1988, 1989, 1990, 1991, 1992, 1993, 1994, 1995, 1996, 1997,\n",
    "            1998, 1999, 2000, 2001, 2002, 2003, 2004, 2005, 2006, 2007, 2008,\n",
    "            2009, 2010, 2013, 2014, 2015, 2016, 2017, 2018]"
   ]
  },
  {
   "cell_type": "code",
   "execution_count": null,
   "metadata": {},
   "outputs": [],
   "source": [
    "DF = pd.DataFrame(index=year)\n",
    "titles = []\n",
    "for file in os.listdir(folder):\n",
    "    df = pd.read_csv(folder+file, index_col=0)\n",
    "    name = file[:-16]\n",
    "    titles.append(name)\n",
    "    DF[name] = list(df.irr_area)"
   ]
  },
  {
   "cell_type": "code",
   "execution_count": null,
   "metadata": {},
   "outputs": [],
   "source": [
    "fig, ax = plt.subplots(nrows=5, ncol=2, figsize=(25,30))\n",
    ".plot(ax=ax[0,0] DF, linestyle='--', marker='o', legend = False, ylim=(0))\n",
    "\n",
    "# ax.xaxis.set_major_locator(ticker.MultipleLocator(5))\n",
    "ax.xaxis.set_label_text(\"\")\n",
    "t = [0, round(int(df['irr_area'].max()), -3)]\n",
    "plt.yticks(t,t)\n",
    "ax.get_yaxis().set_major_formatter(plt.FuncFormatter(lambda x, loc: \"{:,}\".format(int(x))))\n",
    "ax.grid(True, linestyle='--', alpha=0.75, axis='both')\n",
    "ax.axvspan(2010, 2013, alpha=0.4, color='k')\n",
    "plt.tick_params(labelsize=fontsize)\n",
    "ax.set_facecolor('cornsilk')"
   ]
  },
  {
   "cell_type": "code",
   "execution_count": null,
   "metadata": {},
   "outputs": [],
   "source": [
    "# ax = plt.plot(DF, linestyle='--', marker='o', legend = False, figsize=(25,30), \n",
    "#         subplots=True, layout=(5,2), title=titles, grid=True, ylim=(0))\n",
    "# # ax.xaxis.set_major_locator(ticker.MultipleLocator(5))\n",
    "# ax.xaxis.set_label_text(\"\")\n",
    "# t = [0, round(int(df['irr_area'].max()), -3)]\n",
    "# plt.yticks(t,t)\n",
    "# ax.get_yaxis().set_major_formatter(plt.FuncFormatter(lambda x, loc: \"{:,}\".format(int(x))))\n",
    "# ax.grid(True, linestyle='--', alpha=0.75, axis='both')\n",
    "# ax.axvspan(2010, 2013, alpha=0.4, color='k')\n",
    "# plt.tick_params(labelsize=fontsize)\n",
    "# ax.set_facecolor('cornsilk')"
   ]
  },
  {
   "cell_type": "code",
   "execution_count": null,
   "metadata": {},
   "outputs": [],
   "source": [
    "#create plot and save\n",
    "folder = \"/g/data/r78/cb3058/dea-notebooks/ICE_project/results/nmdb_plots/csvs/annual_area/\"\n",
    "\n",
    "fig, axs = plt.subplots(5,2, figsize=(25, 30))\n",
    "\n",
    "for ax,file in zip(axs.ravel(), os.listdir(folder)):\n",
    "    fontsize = 20\n",
    "    df = pd.read_csv(folder+file, index_col=0)\n",
    "    df.plot(ax=ax,colormap='jet', linestyle='--', marker='o', legend = False)\n",
    "    ax.xaxis.set_major_locator(ticker.MultipleLocator(5))\n",
    "    ax.xaxis.set_label_text(\"\")\n",
    "    if file[:-16] == ('PAROO RIVER') or file[:-16]==('MOONIE RIVER'):\n",
    "        t = [round(int(df['irr_area'].max()), -2)]\n",
    "    else:\n",
    "        t = [round(int(df['irr_area'].max()), -3)]\n",
    "    for tick in ax.yaxis.get_major_ticks():\n",
    "        tick.set_pad(50)\n",
    "    ax.set_yticks(t)\n",
    "    ax.set_ylim(bottom=-int((df['irr_area'].max()*0.05)), top=(df['irr_area'].max()+(df['irr_area'].max()*0.1)))\n",
    "    ax.set_yticklabels([format(i,\",\")+\" ha\" for i in t])\n",
    "    ax.grid(True, linestyle='--', alpha=0.5, axis='y', color=\"gray\")\n",
    "    ax.axvspan(2010, 2013, alpha=0.4, color='k')\n",
    "    ax.tick_params(labelsize=fontsize)\n",
    "    ax.tick_params(axis='y', direction='in', pad=-125)\n",
    "    ax.set_title(file[:-16], fontsize=fontsize)\n",
    "    ax.set_facecolor('cornsilk')\n",
    "\n",
    "plt.tight_layout()\n",
    "plt.savefig(\"results/nmdb_plots/plots/NMDB_annual_area_subcatchment.pdf\",\n",
    "   orientation='portarait', dpi=300)"
   ]
  },
  {
   "cell_type": "code",
   "execution_count": null,
   "metadata": {},
   "outputs": [],
   "source": []
  },
  {
   "cell_type": "code",
   "execution_count": null,
   "metadata": {},
   "outputs": [],
   "source": []
  },
  {
   "cell_type": "code",
   "execution_count": null,
   "metadata": {},
   "outputs": [],
   "source": []
  },
  {
   "cell_type": "code",
   "execution_count": null,
   "metadata": {},
   "outputs": [],
   "source": []
  },
  {
   "cell_type": "code",
   "execution_count": null,
   "metadata": {},
   "outputs": [],
   "source": []
  },
  {
   "cell_type": "code",
   "execution_count": null,
   "metadata": {},
   "outputs": [],
   "source": []
  },
  {
   "cell_type": "code",
   "execution_count": null,
   "metadata": {},
   "outputs": [],
   "source": []
  },
  {
   "cell_type": "code",
   "execution_count": null,
   "metadata": {},
   "outputs": [],
   "source": []
  },
  {
   "cell_type": "code",
   "execution_count": null,
   "metadata": {},
   "outputs": [],
   "source": []
  },
  {
   "cell_type": "code",
   "execution_count": null,
   "metadata": {},
   "outputs": [],
   "source": [
    "import numpy as np\n",
    "import xarray as xr\n",
    "import geopandas as gpd\n",
    "import matplotlib.pyplot as plt\n",
    "\n",
    "#import custom functions\n",
    "import sys\n",
    "sys.path.append('src')\n",
    "import DEAPlotting, SpatialTools\n",
    "from transform_tuple import transform_tuple"
   ]
  },
  {
   "cell_type": "code",
   "execution_count": null,
   "metadata": {},
   "outputs": [],
   "source": [
    "import os\n",
    "mask_dir = \"/g/data/r78/cb3058/dea-notebooks/ICE_project/data/spatial/NSWmask_and_LSmask.shp\"\n",
    "directory = \"/g/data/r78/cb3058/dea-notebooks/ICE_project/results/nmdb/\"\n",
    "input_suffix = \"_multithreshold_70Thres\"\n",
    "output_suffix = \"_70Thres_OEHandLS_masked\"\n",
    "\n",
    "x = range(1999,2000,1)\n",
    "years = []\n",
    "for i in x:\n",
    "    nextyear = str(i + 1)[2:]\n",
    "    y = str(i) + \"_\" + nextyear\n",
    "    years.append(str(y))\n",
    "years =  [e for e in years if e not in ('2011_12', '2012_13')]\n",
    "years.sort()\n",
    "     \n",
    "folders = os.listdir(directory)\n",
    "folders.sort()"
   ]
  },
  {
   "cell_type": "code",
   "execution_count": null,
   "metadata": {},
   "outputs": [],
   "source": [
    "folders = folders[12]"
   ]
  },
  {
   "cell_type": "code",
   "execution_count": null,
   "metadata": {},
   "outputs": [],
   "source": [
    "directory+folder"
   ]
  },
  {
   "cell_type": "code",
   "execution_count": null,
   "metadata": {},
   "outputs": [],
   "source": [
    "directory+\"nmdb_Summer\"+year+\"/nmdb_Summer\" + year + input_suffix + \".tif\""
   ]
  },
  {
   "cell_type": "code",
   "execution_count": null,
   "metadata": {},
   "outputs": [],
   "source": [
    "inputs=[]\n",
    "for year, folder in zip(years, folders):\n",
    "    inputs.append(directory+\"nmdb_Summer\" + year + input_suffix + \".tif\")\n",
    "inputs"
   ]
  },
  {
   "cell_type": "markdown",
   "metadata": {},
   "source": [
    "### User Inputs"
   ]
  },
  {
   "cell_type": "code",
   "execution_count": null,
   "metadata": {},
   "outputs": [],
   "source": [
    "#provide the filepaths to the irrigated cropping extent tif and the validation shapefile\n",
    "irrigated = \"/g/data/r78/cb3058/dea-notebooks/ICE_project/data/NSW_mdb_mask.tif\" \n",
    "\n",
    "# validation = \"/g/data/r78/cb3058/dea-notebooks/ICE_project/data/spatial/nmdb_OEH2017_irrigated.shp\"\n",
    "validation = \"/g/data1a/r78/cb3058/dea-notebooks/ICE_project/data/nmdb_OEH2017_irrigated.tif\"\n",
    "# clip_shp = \"/g/data/r78/cb3058/dea-notebooks/ICE_project/data/spatial/nmdb_individual_catchments/NAMOI RIVER.shp\"\n",
    "\n",
    "#what year are we validating\n",
    "year = '1999-00'"
   ]
  },
  {
   "cell_type": "markdown",
   "metadata": {},
   "source": [
    "### Prepare the datasets"
   ]
  },
  {
   "cell_type": "code",
   "execution_count": null,
   "metadata": {},
   "outputs": [],
   "source": [
    "#open the irrigatation tif\n",
    "irr  = xr.open_rasterio(irrigated).drop('band').squeeze()\n",
    "#grab some transform info from it\n",
    "# transform, projection = transform_tuple(irr, (irr.x, irr.y), epsg=3577)\n",
    "width,height = irr.shape\n",
    "#rasterize the catchment boundaries that encompass our validation area\n",
    "# boundary = SpatialTools.rasterize_vector(clip_shp, height, width,\n",
    "#                                          transform, projection, raster_path=None)\n",
    "#clip extent to the catchment boundaries\n",
    "# irr = irr.where(boundary)\n",
    "#count number of nans\n",
    "# num_of_nans_pred = np.isnan(irr.values).sum()\n",
    "#convert to a boolean array of irr/not-irr\n",
    "AutomaticCropBoolean  = irr.values"
   ]
  },
  {
   "cell_type": "code",
   "execution_count": null,
   "metadata": {},
   "outputs": [],
   "source": [
    "ValidationMaskBoolean = xr.open_rasterio(validation).drop('band').squeeze()\n",
    "ValidationMaskBoolean = ValidationMaskBoolean.values.astype(bool)"
   ]
  },
  {
   "cell_type": "code",
   "execution_count": null,
   "metadata": {},
   "outputs": [],
   "source": [
    "#convert validation shapefile to array first\n",
    "transform, projection = transform_tuple(irr, (irr.x, irr.y), epsg=3577)\n",
    "width,height = irr.shape\n",
    "\n",
    "ValidationMaskBoolean  = SpatialTools.rasterize_vector(validation, height, width,\n",
    "                                            transform, projection, raster_path=None)\n",
    "\n",
    "# ValidationMaskBoolean = np.where(boundary, ValidationMaskBoolean, 0\n",
    "ValidationMaskBoolean = ValidationMaskBoolean.astype(bool)"
   ]
  },
  {
   "cell_type": "code",
   "execution_count": null,
   "metadata": {},
   "outputs": [],
   "source": [
    "SpatialTools.array_to_geotiff(\"/g/data1a/r78/cb3058/dea-notebooks/ICE_project/data/nmdb_OEH2017_irrigated.tif\",\n",
    "          ValidationMaskBoolean,\n",
    "          geo_transform = transform, \n",
    "          projection = projection, \n",
    "          nodata_val = 0)"
   ]
  },
  {
   "cell_type": "code",
   "execution_count": null,
   "metadata": {},
   "outputs": [],
   "source": [
    "# plt.figure(figsize=(10,10))\n",
    "# plt.imshow(ValidationMaskBoolean)"
   ]
  },
  {
   "cell_type": "markdown",
   "metadata": {},
   "source": [
    "### Non-site specific accuracy (compare areas)"
   ]
  },
  {
   "cell_type": "code",
   "execution_count": null,
   "metadata": {},
   "outputs": [],
   "source": [
    "validation_area = np.count_nonzero(ValidationMaskBoolean) *(25*25) / 10000\n",
    "irrigated_area = np.count_nonzero(AutomaticCropBoolean)*(25*25) / 10000\n",
    "print(\"The area under irrigation in the validation dataset is: \" + str(validation_area) + \" ha\")\n",
    "print(\"The area under irrigation in the irrigated area dataset is: \" + str(irrigated_area) + \" ha\")\n",
    "print(\"irrigated vs validation % is : \" + str(round((irrigated_area/validation_area*100), 1)))"
   ]
  },
  {
   "cell_type": "markdown",
   "metadata": {},
   "source": [
    "### Jaccard Similarity index"
   ]
  },
  {
   "cell_type": "code",
   "execution_count": null,
   "metadata": {},
   "outputs": [],
   "source": [
    "from sklearn.metrics import accuracy_score, jaccard_similarity_score"
   ]
  },
  {
   "cell_type": "code",
   "execution_count": null,
   "metadata": {},
   "outputs": [],
   "source": [
    "jss = jaccard_similarity_score(ValidationMaskBoolean, AutomaticCropBoolean, normalize=True)\n",
    "ac = accuracy_score(ValidationMaskBoolean, AutomaticCropBoolean, normalize=True)"
   ]
  },
  {
   "cell_type": "code",
   "execution_count": null,
   "metadata": {},
   "outputs": [],
   "source": [
    "print(\"The Normalised Jaccard Similarity Score is: \"+ str(round(jss, 2)))\n",
    "print(\"The Normalised Accuracy Score is: \"+ str(round(ac, 2)))"
   ]
  },
  {
   "cell_type": "markdown",
   "metadata": {},
   "source": [
    "### Confusion matrix"
   ]
  },
  {
   "cell_type": "code",
   "execution_count": null,
   "metadata": {},
   "outputs": [],
   "source": [
    "YesRealYesAuto = np.logical_and(AutomaticCropBoolean, ValidationMaskBoolean)\n",
    "NoRealNoAuto = np.logical_and(~AutomaticCropBoolean, ~ValidationMaskBoolean)\n",
    "\n",
    "YesRealNoAuto = np.logical_and(AutomaticCropBoolean, ~ValidationMaskBoolean)\n",
    "NoRealYesAuto = np.logical_and(~AutomaticCropBoolean, ValidationMaskBoolean)"
   ]
  },
  {
   "cell_type": "code",
   "execution_count": null,
   "metadata": {},
   "outputs": [],
   "source": [
    "Correct_positives = YesRealYesAuto.sum()\n",
    "Incorrect_positives = NoRealYesAuto.sum()\n",
    "Correct_negatives = NoRealNoAuto.sum()\n",
    "Incorrect_negatives = YesRealNoAuto.sum()\n",
    "\n",
    "Totalpixels = (width * height)\n",
    "\n",
    "Accuracy = (Correct_positives + Correct_negatives) / Totalpixels\n",
    "Misclassification_rate = (Incorrect_positives + Incorrect_negatives) / Totalpixels\n",
    "True_Positive_Rate = Correct_positives / ValidationMaskBoolean.sum()\n",
    "False_Positive_Rate = Correct_positives / ((~ValidationMaskBoolean).sum())\n",
    "Specificity = Correct_negatives / ((~ValidationMaskBoolean).sum())\n",
    "Precision = Correct_positives / AutomaticCropBoolean.sum()\n",
    "Prevalence = (ValidationMaskBoolean.sum() ) / Totalpixels"
   ]
  },
  {
   "cell_type": "code",
   "execution_count": null,
   "metadata": {},
   "outputs": [],
   "source": [
    "print('\\033[1m' + '{0} Automatic Irrigated Crop Extent'.format(year) + '\\033[0m')\n",
    "print('Accuracy = %.5f' % Accuracy)\n",
    "print('Misclassification_rate = %.5f' % Misclassification_rate)\n",
    "print('True_Positive_Rate = %.5f' % True_Positive_Rate)\n",
    "print('False_Positive_Rate = %.5f' % False_Positive_Rate)\n",
    "print('Specificity = %.5f' % Specificity)\n",
    "print('Precision = %.5f' % Precision)\n",
    "print('Prevalence = %.5f' % Prevalence)\n",
    "print(\"#################\")\n",
    "print(\"The area of incorrect positives is\" + str(Incorrect_positives * (25*25)/10000))\n",
    "print(\"The area of correct positives is\" + str(Correct_positives * (25*25)/10000))\n",
    "print(\"The area of incorrect negatives is\" + str(Incorrect_negatives * (25*25)/10000))"
   ]
  },
  {
   "cell_type": "code",
   "execution_count": null,
   "metadata": {},
   "outputs": [],
   "source": []
  }
 ],
 "metadata": {
  "kernelspec": {
   "display_name": "Python 3",
   "language": "python",
   "name": "python3"
  },
  "language_info": {
   "codemirror_mode": {
    "name": "ipython",
    "version": 3
   },
   "file_extension": ".py",
   "mimetype": "text/x-python",
   "name": "python",
   "nbconvert_exporter": "python",
   "pygments_lexer": "ipython3",
   "version": "3.6.7"
  }
 },
 "nbformat": 4,
 "nbformat_minor": 2
}
