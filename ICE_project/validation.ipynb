{
 "cells": [
  {
   "cell_type": "markdown",
   "metadata": {},
   "source": [
    "## Validation of irrigated extent\n",
    "Generating a confusion matrix\n",
    "\n",
    "Relying on Claire Kraus's notebook for guidance:\n",
    "\n",
    "https://github.com/GeoscienceAustralia/dea-notebooks/blob/ClaireK/Crop_mapping/NamoiPilotProjectWorkflow/ValidateAutomaticIrrigatedCropAreaGeotiffs.ipynb"
   ]
  },
  {
   "cell_type": "code",
   "execution_count": 68,
   "metadata": {},
   "outputs": [],
   "source": [
    "import numpy as np\n",
    "import xarray as xr\n",
    "import matplotlib.pyplot as plt\n",
    "\n",
    "#import custom functions\n",
    "import sys\n",
    "sys.path.append('src')\n",
    "import DEAPlotting, SpatialTools\n",
    "from transform_tuple import transform_tuple"
   ]
  },
  {
   "cell_type": "markdown",
   "metadata": {},
   "source": [
    "### User Inputs"
   ]
  },
  {
   "cell_type": "code",
   "execution_count": 65,
   "metadata": {},
   "outputs": [],
   "source": [
    "#provide the filepaths to the irrigated cropping extent tif and the validation shapefile\n",
    "irrigated = \"/g/data1a/r78/cb3058/dea-notebooks/ICE_project/results/Peel_s2_Summer2018-19/Peel_s2_Summer2018-19_10m_600pixels_Irrigated.tif\"\n",
    "\n",
    "validation = \"/g/data1a/r78/cb3058/dea-notebooks/ICE_project/results/Peel_s2_Summer2018-19/namoi_validation.shp\"\n",
    "\n",
    "#what year are we validating\n",
    "year = '2018-19'"
   ]
  },
  {
   "cell_type": "markdown",
   "metadata": {},
   "source": [
    "#### Open data and convert to boolean arrays"
   ]
  },
  {
   "cell_type": "code",
   "execution_count": 48,
   "metadata": {},
   "outputs": [],
   "source": [
    "AutomaticCropBoolean  = xr.open_rasterio(irrigated)\n",
    "AutomaticCropBoolean  = AutomaticCropBoolean.drop('band').squeeze()\n",
    "AutomaticCropBoolean  = np.isfinite(AutomaticCropBoolean.values)"
   ]
  },
  {
   "cell_type": "code",
   "execution_count": 57,
   "metadata": {},
   "outputs": [],
   "source": [
    "#need to convert validation shapefile to array first\n",
    "transform, projection = transform_tuple(test, (test.x, test.y), epsg=3577)\n",
    "width,height = test.shape\n",
    "\n",
    "ValidationMaskBoolean  = SpatialTools.rasterize_vector(validation, height, width,\n",
    "                                            transform, projection, raster_path=None)\n",
    "\n",
    "ValidationMaskBoolean  = control.astype(bool)"
   ]
  },
  {
   "cell_type": "markdown",
   "metadata": {},
   "source": [
    "#### Compare the boolean arrays to create a confusion matrix"
   ]
  },
  {
   "cell_type": "code",
   "execution_count": 50,
   "metadata": {},
   "outputs": [],
   "source": [
    "YesRealYesAuto = np.logical_and(AutomaticCropBoolean, ValidationMaskBoolean)\n",
    "NoRealNoAuto = np.logical_and(~AutomaticCropBoolean, ~ValidationMaskBoolean)\n",
    "\n",
    "YesRealNoAuto = np.logical_and(AutomaticCropBoolean, ~ValidationMaskBoolean)\n",
    "NoRealYesAuto = np.logical_and(~AutomaticCropBoolean, ValidationMaskBoolean)"
   ]
  },
  {
   "cell_type": "code",
   "execution_count": 59,
   "metadata": {},
   "outputs": [],
   "source": [
    "Correct_positives = YesRealYesAuto.sum()\n",
    "Incorrect_positives = NoRealYesAuto.sum()\n",
    "Correct_negatives = NoRealNoAuto.sum()\n",
    "Incorrect_negatives = YesRealNoAuto.sum()\n",
    "\n",
    "Totalpixels = (width * height)\n",
    "\n",
    "Accuracy = (Correct_positives + Correct_negatives) / Totalpixels\n",
    "Misclassification_rate = (Incorrect_positives + Incorrect_negatives) / Totalpixels\n",
    "True_Positive_Rate = Correct_positives / ValidationMaskBoolean.sum()\n",
    "False_Positive_Rate = Correct_positives / ((~ValidationMaskBoolean).sum())\n",
    "Specificity = Correct_negatives / ((~ValidationMaskBoolean).sum())\n",
    "Precision = Correct_positives / AutomaticCropBoolean.sum()\n",
    "Prevalence = (ValidationMaskBoolean.sum() ) / Totalpixels"
   ]
  },
  {
   "cell_type": "code",
   "execution_count": 66,
   "metadata": {},
   "outputs": [
    {
     "name": "stdout",
     "output_type": "stream",
     "text": [
      "\u001b[1m2018-19 Automatic Irrigated Crop Extent\u001b[0m\n",
      "Accuracy = 0.98\n",
      "Misclassification_rate = 0.02\n",
      "True_Positive_Rate = 0.16\n",
      "False_Positive_Rate = 0.00\n",
      "Specificity = 0.99\n",
      "Precision = 0.32\n",
      "Prevalence = 0.02\n"
     ]
    }
   ],
   "source": [
    "print('\\033[1m' + '{0} Automatic Irrigated Crop Extent'.format(year) + '\\033[0m')\n",
    "print('Accuracy = %.2f' % Accuracy)\n",
    "print('Misclassification_rate = %.2f' % Misclassification_rate)\n",
    "print('True_Positive_Rate = %.2f' % True_Positive_Rate)\n",
    "print('False_Positive_Rate = %.2f' % False_Positive_Rate)\n",
    "print('Specificity = %.2f' % Specificity)\n",
    "print('Precision = %.2f' % Precision)\n",
    "print('Prevalence = %.2f' % Prevalence)"
   ]
  },
  {
   "cell_type": "code",
   "execution_count": 64,
   "metadata": {},
   "outputs": [
    {
     "data": {
      "image/png": "[encoded data removed]",
      "text/plain": [
       "<Figure size 432x288 with 1 Axes>"
      ]
     },
     "metadata": {
      "needs_background": "light"
     },
     "output_type": "display_data"
    }
   ],
   "source": [
    "plt.figure()\n",
    "plt.scatter(False_Positive_Rate, True_Positive_Rate)\n",
    "plt.xlim ([0, 1]);\n",
    "plt.ylim ([0, 1]);\n",
    "plt.xlabel('False Positive Rate');\n",
    "plt.ylabel('True Positive Rate');"
   ]
  }
 ],
 "metadata": {
  "kernelspec": {
   "display_name": "Python 3",
   "language": "python",
   "name": "python3"
  },
  "language_info": {
   "codemirror_mode": {
    "name": "ipython",
    "version": 3
   },
   "file_extension": ".py",
   "mimetype": "text/x-python",
   "name": "python",
   "nbconvert_exporter": "python",
   "pygments_lexer": "ipython3",
   "version": "3.6.7"
  }
 },
 "nbformat": 4,
 "nbformat_minor": 2
}
