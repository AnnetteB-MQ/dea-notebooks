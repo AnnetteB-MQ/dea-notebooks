{
 "cells": [
  {
   "cell_type": "code",
   "execution_count": 1,
   "metadata": {},
   "outputs": [],
   "source": [
    "import numpy as np\n",
    "import xarray as xr\n",
    "import geopandas as gpd\n",
    "import pandas as pd\n",
    "from matplotlib import pyplot as plt\n",
    "from osgeo import gdal, ogr, gdal_array\n",
    "import dask\n",
    "import datacube \n",
    "from datacube.helpers import ga_pq_fuser\n",
    "from datacube.storage import masking\n",
    "from datacube.utils import geometry\n",
    "import os\n",
    "#import custom functions\n",
    "import sys\n",
    "sys.path.append('src')\n",
    "import DEAPlotting, SpatialTools, BandIndices, DEADataHandling\n",
    "from load_data import load_data\n",
    "from transform_tuple import transform_tuple\n",
    "from query_from_shp import query_from_shp\n",
    "from rsgislib.segmentation import segutils\n",
    "from rasterstats import zonal_stats\n",
    "from imageSeg import imageSeg\n",
    "import fiona\n",
    "import rasterio.features"
   ]
  },
  {
   "cell_type": "code",
   "execution_count": 7,
   "metadata": {},
   "outputs": [],
   "source": [
    "# where is your data and results folder?\n",
    "results = \"results/\"\n",
    "data = 'data/'\n",
    "\n",
    "sensors = ['ls5','ls7','ls8']\n",
    "\n",
    "#are we using a polygon to mask the AOI?\n",
    "shp_fpath = 'data/spatial/murrumbidgee_boundingbox.shp'\n",
    "\n",
    "#Input your area of interest's name, coords, and \n",
    "#the year you're interested in?\n",
    "AOI = 'Murrum_randomForest'\n",
    "year = 'Winter2013'\n",
    "\n",
    "time_period = ('2016-04-15', '2016-10-10')\n",
    "\n",
    "#What thresholds should I use?\n",
    "threshold = 0.8\n",
    "wofs_theshold = 0.15\n",
    "#-----------------------------------------"
   ]
  },
  {
   "cell_type": "code",
   "execution_count": 8,
   "metadata": {},
   "outputs": [],
   "source": [
    "#Creating a folder to keep things neat\n",
    "directory = results + AOI + \"_\" + year\n",
    "if not os.path.exists(directory):\n",
    "    os.mkdir(directory)\n",
    "\n",
    "results = results + AOI + \"_\" + year + \"/\""
   ]
  },
  {
   "cell_type": "code",
   "execution_count": 9,
   "metadata": {},
   "outputs": [
    {
     "name": "stdout",
     "output_type": "stream",
     "text": [
      "ls5_loading...\n",
      "ls5_loaded\n",
      "ls7_loading...\n"
     ]
    },
    {
     "name": "stderr",
     "output_type": "stream",
     "text": [
      "src/load_data.py:24: FutureWarning: casting an xarray.Dataset to a boolean will change in xarray v0.11 to only include data variables, not coordinates. Cast the Dataset.variables property instead to preserve existing behavior in a forwards compatible manner.\n",
      "  if not landsat_ds:\n"
     ]
    },
    {
     "name": "stdout",
     "output_type": "stream",
     "text": [
      "ls7_loaded\n",
      "ls8_loading...\n"
     ]
    },
    {
     "name": "stderr",
     "output_type": "stream",
     "text": [
      "src/load_data.py:24: FutureWarning: casting an xarray.Dataset to a boolean will change in xarray v0.11 to only include data variables, not coordinates. Cast the Dataset.variables property instead to preserve existing behavior in a forwards compatible manner.\n",
      "  if not landsat_ds:\n"
     ]
    },
    {
     "name": "stdout",
     "output_type": "stream",
     "text": [
      "ls8_loaded\n"
     ]
    },
    {
     "name": "stderr",
     "output_type": "stream",
     "text": [
      "src/load_data.py:24: FutureWarning: casting an xarray.Dataset to a boolean will change in xarray v0.11 to only include data variables, not coordinates. Cast the Dataset.variables property instead to preserve existing behavior in a forwards compatible manner.\n",
      "  if not landsat_ds:\n",
      "/g/data/v10/public/modules/dea-env/20181015/lib/python3.6/site-packages/xarray/core/indexing.py:1199: PerformanceWarning: Slicing with an out-of-order index is generating 11 times more chunks\n",
      "  return self.array[key]\n"
     ]
    }
   ],
   "source": [
    "#set up query\n",
    "query = query_from_shp(shp_fpath, time_period[0], time_period[1], dask_chunks = 1000)\n",
    "#landsat\n",
    "# dc = datacube.Datacube(app='dc_name')\n",
    "# landsat = DEADataHandling.load_clearlandsat(dc,query=query, sensors=sensors, product='nbart',\n",
    "#                        masked_prop=0.75)\n",
    "\n",
    "landsat = load_data(dc_name = 'irrigated_areas', sensors=sensors,\n",
    "          export_name = data + AOI + \"_\" + year + '.nc', query=query)\n",
    "#wofs\n",
    "# dc = datacube.Datacube(app='wofs')\n",
    "# del query['time'] \n",
    "# wofs_alltime = dc.load(product = 'wofs_summary', **query)\n",
    "\n",
    "#masking the returned array to the polygon area\n",
    "with fiona.open(shp_fpath) as shapes:\n",
    "        crs = geometry.CRS(shapes.crs_wkt)\n",
    "        first_geometry = next(iter(shapes))['geometry']\n",
    "        geom = geometry.Geometry(first_geometry, crs=crs)\n",
    "\n",
    "mask = rasterio.features.geometry_mask([geom.to_crs(landsat.geobox.crs) for geoms in [geom]],\n",
    "                                           out_shape=landsat.geobox.shape,\n",
    "                                           transform=landsat.geobox.affine,\n",
    "                                           all_touched=False,\n",
    "                                           invert=True)\n",
    "# Mask the xarrays\n",
    "landsat = landsat.where(mask)\n",
    "#wofs_alltime = wofs_alltime.where(mask)\n",
    "#datacube.storage.storage.write_dataset_to_netcdf(landsat, results + AOI \"_\" + year + '.nc')"
   ]
  },
  {
   "cell_type": "code",
   "execution_count": 12,
   "metadata": {},
   "outputs": [
    {
     "name": "stdout",
     "output_type": "stream",
     "text": [
      "The formula we are using is (nir - swir1)/(nir + swir1)\n",
      "calculating NDVI & NDMI stats\n",
      "calculating birghtness stats\n",
      "resampling timeseries\n",
      "calculating argmax stats\n"
     ]
    },
    {
     "name": "stderr",
     "output_type": "stream",
     "text": [
      "/g/data/v10/public/modules/dea-env/20181015/lib/python3.6/site-packages/dask/array/numpy_compat.py:28: RuntimeWarning: invalid value encountered in true_divide\n",
      "  x = np.divide(x1, x2, out)\n"
     ]
    }
   ],
   "source": [
    "#band indices calculation\n",
    "def ndvi_ufunc(ds):\n",
    "    def ndvi_func(nir, red):\n",
    "        return ((nir - red)/(nir + red))\n",
    "    \n",
    "    return xr.apply_ufunc(\n",
    "        ndvi_func, ds.nir, ds.red,\n",
    "        dask='parallelized',\n",
    "        output_dtypes=[float])\n",
    "\n",
    "def brightness_ufunc(ds):\n",
    "    def brightness_func(g,r,nir,swir):\n",
    "        return (g**2 + r**2 + nir**2 + swir**2)**(1/2.0)\n",
    "    \n",
    "    return xr.apply_ufunc(\n",
    "        brightness_func, ds.green,ds.red, ds.nir, ds.swir1,\n",
    "        dask='parallelized',\n",
    "        output_dtypes=[float])\n",
    "\n",
    "NDVI_landsat = ndvi_ufunc(landsat)\n",
    "brightness_landsat = brightness_ufunc(landsat)\n",
    "NDMI_landsat = BandIndices.calculate_indices(landsat, index='NDMI-nir')\n",
    "\n",
    "#calculate per pixel summary stats\n",
    "print('calculating NDVI & NDMI stats')\n",
    "NDVI_max = NDVI_landsat.max('time').rename('NDVI_max')\n",
    "NDVI_mean = NDVI_landsat.mean('time').rename('NDVI_mean')\n",
    "NDVI_std = NDVI_landsat.std('time').rename('NDVI_std')\n",
    "NDVI_min = NDVI_landsat.min('time').rename('NDVI_min')\n",
    "NDVI_range = NDVI_max - NDVI_min\n",
    "NDVI_range = NDVI_range.rename('NDVI_range')\n",
    "\n",
    "NDMI_max = NDMI_landsat.max('time').rename('NDMI_max')\n",
    "NDMI_mean = NDMI_landsat.mean('time').rename('NDMI_mean')\n",
    "NDMI_std = NDMI_landsat.std('time').rename('NDMI_std')\n",
    "NDMI_min = NDMI_landsat.min('time').rename('NDMI_min')\n",
    "\n",
    "print('calculating birghtness stats')\n",
    "brightness_max = brightness_landsat.max('time').rename('brightness_max')\n",
    "brightness_mean = brightness_landsat.mean('time').rename('brightness_mean')\n",
    "brightness_std = brightness_landsat.std('time').rename('brightness_std')\n",
    "brightness_min = brightness_landsat.min('time').rename('brightness_min')\n",
    "\n",
    "print('resampling timeseries')\n",
    "NDVI_landsat_resample = NDVI_landsat.resample(time='M').mean('time')\n",
    "y = NDVI_landsat.coords['y']\n",
    "x = NDVI_landsat.coords['x']\n",
    "\n",
    "print('calculating argmax stats') #SLOW BECAUSE DASK ARRAYS COMPUTED\n",
    "timeofmax = NDVI_landsat_resample.values.argmax(axis=0)\n",
    "timeofmax = xr.DataArray(timeofmax, coords = [y, x], dims = ['y', 'x'], name='time_of_max')\n",
    "timeofmin = NDVI_landsat_resample.values.argmin(axis=0)\n",
    "timeofmin = xr.DataArray(timeofmin, coords = [y, x], dims = ['y', 'x'], name='time_of_min')\n",
    "\n",
    "rate = (NDVI_max-NDVI_min)/(timeofmax - timeofmin)\n",
    "rate = rate.where(rate<3, other=3)"
   ]
  },
  {
   "cell_type": "code",
   "execution_count": 13,
   "metadata": {},
   "outputs": [],
   "source": [
    "xray_list = [NDVI_max, NDVI_mean, NDVI_std, NDVI_min, NDVI_range,\n",
    "             NDMI_max, NDMI_mean, NDMI_std, NDMI_min,timeofmax, timeofmin, rate,\n",
    "             brightness_max, brightness_mean, brightness_std, brightness_std]\n",
    "names = ['NDVI_max', 'NDVI_mean', 'NDVI_std', 'NDVI_min', 'NDVI_range',\n",
    "         'NDMI_max', 'NDMI_mean', 'NDMI_std', 'NDMI_min','timeofmax', 'timeofmin','rate',\n",
    "            'brightness_max', 'brightness_mean', 'brightness_std', 'brightness_std']"
   ]
  },
  {
   "cell_type": "markdown",
   "metadata": {},
   "source": [
    "### Image segmentation for use in masking AFTER the RF classifier"
   ]
  },
  {
   "cell_type": "code",
   "execution_count": 14,
   "metadata": {},
   "outputs": [
    {
     "name": "stderr",
     "output_type": "stream",
     "text": [
      "/g/data/v10/public/modules/dea-env/20181015/lib/python3.6/site-packages/dask/compatibility.py:93: RuntimeWarning: All-NaN slice encountered\n",
      "  return func(*args, **kwargs)\n",
      "/g/data/v10/public/modules/dea-env/20181015/lib/python3.6/site-packages/toolz/functoolz.py:468: RuntimeWarning: All-NaN slice encountered\n",
      "  ret = f(ret)\n"
     ]
    }
   ],
   "source": [
    "#export Gtiff for use in Image segmentation\n",
    "transform, projection = transform_tuple(NDVI_max, (NDVI_max.x, NDVI_max.y), epsg=3577)\n",
    "SpatialTools.array_to_geotiff(results + AOI + \"_\" + year + \"_NDVI_max.tif\",\n",
    "              NDVI_max.values, geo_transform = transform, \n",
    "              projection = projection, nodata_val=np.nan)\n",
    "\n",
    "# #export all GTiffs for catchment so I don't have to keep loading them.\n",
    "# for l, n in zip(xray_list, names):\n",
    "#     SpatialTools.array_to_geotiff(results + AOI + \"_\" + year + \"_\" + n + \".tif\",\n",
    "#               l.values, geo_transform = transform, \n",
    "#               projection = projection, nodata_val=np.nan)"
   ]
  },
  {
   "cell_type": "code",
   "execution_count": 15,
   "metadata": {},
   "outputs": [
    {
     "name": "stdout",
     "output_type": "stream",
     "text": [
      "Stretch Input Image\n",
      "Add 1 to stretched file to ensure there are no all zeros (i.e., no data) regions created.\n",
      "Create Input Image Mask.\n",
      "Mask stretched Image.\n",
      "Deleting file: ./Murrum_randomForest_Winter2013_stchdonly.kea\n",
      "Deleting file: ./Murrum_randomForest_Winter2013_stchdonlyOff.kea\n",
      "Deleting file: ./Murrum_randomForest_Winter2013_stchdmaskonly.kea\n",
      "Performing KMeans.\n",
      "Apply KMeans to image.\n",
      "Eliminate Single Pixels.\n",
      "Perform clump.\n",
      "Eliminate small pixels.\n",
      "Relabel clumps.\n",
      "Calculate image statistics and build pyramids.\n",
      "Deleting file: ./Murrum_randomForest_Winter2013_kmeansclusters.gmtxt\n",
      "Deleting file: ./Murrum_randomForest_Winter2013_kmeans.kea.aux.xml\n",
      "Deleting file: ./Murrum_randomForest_Winter2013_kmeans.kea\n",
      "Deleting file: ./Murrum_randomForest_Winter2013_kmeans_nosgl.kea\n",
      "Deleting file: ./Murrum_randomForest_Winter2013_kmeans_nosglTMP.kea\n",
      "Deleting file: ./Murrum_randomForest_Winter2013_clumps.kea\n",
      "Deleting file: ./Murrum_randomForest_Winter2013_clumps_elim.kea\n",
      "Deleting file: ./Murrum_randomForest_Winter2013_stchd.kea\n"
     ]
    }
   ],
   "source": [
    "InputNDVIStats = results + AOI + \"_\" + year + \"_NDVI_max.tif\"\n",
    "KEAFile = results + AOI + '_' + year + '.kea'\n",
    "SegmentedKEAFile = results + AOI + '_' + year + '_sheperdSEG.kea'\n",
    "SegmentedTiffFile = results + AOI + '_' + year + '_sheperdSEG.tif'\n",
    "SegmentedPolygons = results + AOI + '_' + year + '_SEGpolygons.shp'\n",
    "imageSeg(InputNDVIStats, KEAFile, SegmentedKEAFile, SegmentedTiffFile, SegmentedPolygons, minPxls = 100)"
   ]
  },
  {
   "cell_type": "markdown",
   "metadata": {},
   "source": [
    "### Generate a training dataset\n",
    "\n",
    "I was generating the training dataset in the code below that is now commented out,\n",
    "\n",
    "have since moved to generating a random dataset using R.  10,000 points extracted\n",
    "\n",
    "per class across the Murrumbidgee. Rasterizing this file directly.\n"
   ]
  },
  {
   "cell_type": "code",
   "execution_count": null,
   "metadata": {},
   "outputs": [],
   "source": [
    "# #rasterize the training dataset\n",
    "# NDVI_max = xr.open_rasterio(results + AOI + \"_\" + year + \"_NDVI_max.tif\")\n",
    "# NDVI_max = NDVI_max.squeeze()\n",
    "# #get the transform and projection of our gtiff\n",
    "# transform, projection = transform_tuple(NDVI_max, (NDVI_max.x, NDVI_max.y), epsg=3577)\n",
    "# #find the width and height of the xarray dataset we want to mask\n",
    "# width,height = NDVI_max.shape\n",
    "# # rasterize vector\n",
    "# training_set = SpatialTools.rasterize_vector(results + \"murrumbidgee_training_samples.shp\",\n",
    "#                height, width, transform, projection, field='id',raster_path= results + AOI + \"_\" + year +'training_raster.tif')\n",
    "# #xr.DataArray(training_set, coords = [NDVI_max.y, NDVI_max.x], dims = ['y', 'x'], name='training areas').plot(figsize=(10,10))"
   ]
  },
  {
   "cell_type": "code",
   "execution_count": 16,
   "metadata": {},
   "outputs": [
    {
     "name": "stdout",
     "output_type": "stream",
     "text": [
      "Exporting raster to results/Murrum_randomForest_Winter2013/Murrum_randomForest_Winter2013training_raster.tif\n"
     ]
    }
   ],
   "source": [
    "# peel_landuse = gpd.read_file('results/Murrum_randomForest_Winter2013/hand_trainingSet.shp')\n",
    "# peel_landuse = peel_landuse.to_crs(epsg=3577)\n",
    "\n",
    "# peel_trainset = peel_landuse[(peel_landuse.Id == 430) | #irrigated cropping\n",
    "#                         (peel_landuse.Id == 330) |      #cropping\n",
    "#                         (peel_landuse.Id == 133) |      #native cover (bushland)\n",
    "#                         (peel_landuse.Id == 541)]       #urban\n",
    "\n",
    "# peel_trainset = peel_trainset[['Id', 'geometry']]\n",
    "# # peel_trainset.columns = ['id', 'class', 'geometry']\n",
    "# peel_trainset.to_file(results + \"waggaHAND_trainset.shp\")\n",
    "# peel_trainset.plot(column = 'Id', legend=True, figsize=(7,7))\n",
    "\n",
    "# #rasterize the training dataset\n",
    "NDVI_max = xr.open_rasterio(results + AOI + \"_\" + year + \"_NDVI_max.tif\")\n",
    "NDVI_max = NDVI_max.squeeze()\n",
    "#get the transform and projection of our gtiff\n",
    "transform, projection = transform_tuple(NDVI_max, (NDVI_max.x, NDVI_max.y), epsg=3577)\n",
    "#find the width and height of the xarray dataset we want to mask\n",
    "width,height = NDVI_max.shape\n",
    "# rasterize vector\n",
    "training_set = SpatialTools.rasterize_vector(results + \"waggaHAND_trainset.shp\",\n",
    "               height, width, transform, projection, field='Id',raster_path= results + AOI + \"_\" + year +'training_raster.tif')\n",
    "# xr.DataArray(training_set, coords = [NDVI_max.y, NDVI_max.x], dims = ['y', 'x'], name='training areas').plot(figsize=(10,10))"
   ]
  },
  {
   "cell_type": "code",
   "execution_count": 17,
   "metadata": {},
   "outputs": [
    {
     "name": "stdout",
     "output_type": "stream",
     "text": [
      "Class 0 contains 11133494 pixels\n",
      "Class 133 contains 49965 pixels\n",
      "Class 330 contains 72871 pixels\n",
      "Class 430 contains 4761 pixels\n",
      "Class 541 contains 1052 pixels\n"
     ]
    }
   ],
   "source": [
    "k = xr.open_rasterio(results + AOI + \"_\" + year +'training_raster.tif')\n",
    "k = k.squeeze()\n",
    "classes = np.unique(k)\n",
    "for c in classes:\n",
    "    print('Class {c} contains {n} pixels'.format(c=c,n=(training_set == c).sum()))"
   ]
  },
  {
   "cell_type": "markdown",
   "metadata": {},
   "source": [
    "### Create a Random Forest Model"
   ]
  },
  {
   "cell_type": "code",
   "execution_count": null,
   "metadata": {},
   "outputs": [],
   "source": [
    "# NDMI_max = NDMI_max.values\n",
    "# NDMI_mean = NDMI_mean.values\n",
    "# NDMI_std = NDMI_std.values\n",
    "# NDMI_min = NDMI_min.values\n",
    "# nplist = [NDMI_max, NDMI_mean, NDMI_std, NDMI_min]\n",
    "# ndmi_stack = np.stack(nplist, axis =2)\n",
    "# ndmi_stack.shape\n",
    "\n",
    "# img_noNaNs = np.concatenate((ndmi_stack, img_noNaNs), axis=2)"
   ]
  },
  {
   "cell_type": "code",
   "execution_count": 18,
   "metadata": {},
   "outputs": [
    {
     "name": "stdout",
     "output_type": "stream",
     "text": [
      "adding slice to array...\n"
     ]
    },
    {
     "name": "stderr",
     "output_type": "stream",
     "text": [
      "/g/data/v10/public/modules/dea-env/20181015/lib/python3.6/site-packages/dask/compatibility.py:93: RuntimeWarning: All-NaN slice encountered\n",
      "  return func(*args, **kwargs)\n",
      "/g/data/v10/public/modules/dea-env/20181015/lib/python3.6/site-packages/toolz/functoolz.py:468: RuntimeWarning: All-NaN slice encountered\n",
      "  ret = f(ret)\n"
     ]
    },
    {
     "name": "stdout",
     "output_type": "stream",
     "text": [
      "adding slice to array...\n"
     ]
    },
    {
     "name": "stderr",
     "output_type": "stream",
     "text": [
      "/g/data/v10/public/modules/dea-env/20181015/lib/python3.6/site-packages/dask/array/numpy_compat.py:28: RuntimeWarning: invalid value encountered in true_divide\n",
      "  x = np.divide(x1, x2, out)\n"
     ]
    },
    {
     "name": "stdout",
     "output_type": "stream",
     "text": [
      "adding slice to array...\n"
     ]
    },
    {
     "name": "stderr",
     "output_type": "stream",
     "text": [
      "/g/data/v10/public/modules/dea-env/20181015/lib/python3.6/site-packages/dask/array/reductions.py:381: RuntimeWarning: invalid value encountered in true_divide\n",
      "  u = total / n\n"
     ]
    },
    {
     "name": "stdout",
     "output_type": "stream",
     "text": [
      "adding slice to array...\n",
      "adding slice to array...\n",
      "adding slice to array...\n",
      "adding slice to array...\n",
      "adding slice to array...\n",
      "adding slice to array...\n",
      "adding slice to array...\n",
      "adding slice to array...\n",
      "adding slice to array...\n"
     ]
    },
    {
     "name": "stderr",
     "output_type": "stream",
     "text": [
      "/g/data/v10/public/modules/dea-env/20181015/lib/python3.6/site-packages/dask/local.py:253: RuntimeWarning: divide by zero encountered in true_divide\n",
      "  return func(*args2)\n",
      "/g/data/v10/public/modules/dea-env/20181015/lib/python3.6/site-packages/dask/local.py:253: RuntimeWarning: invalid value encountered in less\n",
      "  return func(*args2)\n",
      "/g/data/v10/public/modules/dea-env/20181015/lib/python3.6/site-packages/dask/local.py:253: RuntimeWarning: invalid value encountered in true_divide\n",
      "  return func(*args2)\n"
     ]
    },
    {
     "name": "stdout",
     "output_type": "stream",
     "text": [
      "adding slice to array...\n",
      "adding slice to array...\n",
      "adding slice to array...\n",
      "adding slice to array...\n"
     ]
    }
   ],
   "source": [
    "# Read in our training data\n",
    "roi_ds = gdal.Open(results + AOI + \"_\" + year +'training_raster.tif', gdal.GA_ReadOnly)\n",
    "roi = roi_ds.GetRasterBand(1).ReadAsArray().astype(np.uint16)\n",
    "\n",
    "#convert to numpy arrays (SLOW BECAUSE DASK ARRAYS ARE COMPUTED)\n",
    "x,y = NDVI_max.shape\n",
    "z = len(xray_list)\n",
    "img = np.zeros((x,y,z))\n",
    "for b,c in zip(xray_list, range(img.shape[2])):\n",
    "    print('adding slice to array...')\n",
    "    img[:, :, c] = b.values \n",
    "    \n",
    "img_noNaNs = np.nan_to_num(img) #remove nans as they f/w classifier\n",
    "np.save(results + 'img_noNaNs.npy', img_noNaNs) #save it as binary"
   ]
  },
  {
   "cell_type": "code",
   "execution_count": null,
   "metadata": {},
   "outputs": [],
   "source": [
    "# use this cell if importing .npy file\n",
    "# img_noNaNs = np.load(results + 'img_noNaNs.npy')"
   ]
  },
  {
   "cell_type": "code",
   "execution_count": 19,
   "metadata": {},
   "outputs": [
    {
     "data": {
      "text/plain": [
       "Text(0.5, 1.0, 'AOI Training Data')"
      ]
     },
     "execution_count": 19,
     "metadata": {},
     "output_type": "execute_result"
    },
    {
     "data": {
      "image/png": "[encoded data removed]",
      "text/plain": [
       "<Figure size 432x288 with 2 Axes>"
      ]
     },
     "metadata": {
      "needs_background": "light"
     },
     "output_type": "display_data"
    }
   ],
   "source": [
    "# # Display them\n",
    "plt.subplot(121)\n",
    "plt.imshow(img_noNaNs[:, :, 1])\n",
    "plt.title('NDVI')\n",
    "\n",
    "plt.subplot(122)\n",
    "plt.imshow(roi, cmap=plt.cm.Spectral)\n",
    "plt.title('AOI Training Data')"
   ]
  },
  {
   "cell_type": "code",
   "execution_count": 20,
   "metadata": {},
   "outputs": [
    {
     "name": "stdout",
     "output_type": "stream",
     "text": [
      "We have 128649 samples\n",
      "The training data include 4 classes: [133 330 430 541]\n",
      "Our x matrix is sized: (128649, 16)\n",
      "Our y array is sized: (128649,)\n"
     ]
    }
   ],
   "source": [
    "# Find how many non-zero entries we have -- i.e. how many training data samples?\n",
    "n_samples = (roi > 0).sum()\n",
    "print('We have {n} samples'.format(n=n_samples))\n",
    "\n",
    "# What are our classification labels?\n",
    "labels = np.unique(roi[roi > 0])\n",
    "print('The training data include {n} classes: {classes}'.format(n=labels.size, \n",
    "                                                                classes=labels))\n",
    "x = img_noNaNs[roi > 0,:]\n",
    "y = roi[roi > 0]\n",
    "\n",
    "print('Our x matrix is sized: {sz}'.format(sz=x.shape))\n",
    "print('Our y array is sized: {sz}'.format(sz=y.shape))"
   ]
  },
  {
   "cell_type": "code",
   "execution_count": 21,
   "metadata": {},
   "outputs": [
    {
     "name": "stderr",
     "output_type": "stream",
     "text": [
      "[Parallel(n_jobs=4)]: Using backend ThreadingBackend with 4 concurrent workers.\n",
      "[Parallel(n_jobs=4)]: Done  42 tasks      | elapsed:    6.5s\n",
      "[Parallel(n_jobs=4)]: Done 192 tasks      | elapsed:   29.1s\n",
      "[Parallel(n_jobs=4)]: Done 300 out of 300 | elapsed:   44.8s finished\n"
     ]
    }
   ],
   "source": [
    "from sklearn.ensemble import RandomForestClassifier\n",
    "# Initialize our model with 300 trees, and use 4 cpus\n",
    "rf = RandomForestClassifier(n_estimators=300, oob_score=True, verbose=True,\n",
    "                            n_jobs=4, max_features=\"auto\") #auto = sqrt(n_features)\n",
    "\n",
    "# Fit our model to training data\n",
    "rf = rf.fit(x, y)"
   ]
  },
  {
   "cell_type": "code",
   "execution_count": 22,
   "metadata": {},
   "outputs": [
    {
     "data": {
      "text/plain": [
       "['results/Murrum_randomForest_Winter2013/murrumbidgee_rfModel.joblib']"
      ]
     },
     "execution_count": 22,
     "metadata": {},
     "output_type": "execute_result"
    }
   ],
   "source": [
    "#save the model\n",
    "from joblib import dump, load\n",
    "dump(rf, results + 'murrumbidgee_rfModel.joblib')"
   ]
  },
  {
   "cell_type": "code",
   "execution_count": 23,
   "metadata": {},
   "outputs": [
    {
     "name": "stdout",
     "output_type": "stream",
     "text": [
      "Our OOB prediction of accuracy is: 99.75437041873624%\n"
     ]
    }
   ],
   "source": [
    "print('Our OOB prediction of accuracy is: {oob}%'.format(oob=rf.oob_score_ * 100))"
   ]
  },
  {
   "cell_type": "code",
   "execution_count": 24,
   "metadata": {},
   "outputs": [
    {
     "name": "stdout",
     "output_type": "stream",
     "text": [
      "Band NDVI_max importance: 0.025050530882433808\n",
      "Band NDVI_mean importance: 0.03251962849657795\n",
      "Band NDVI_std importance: 0.06546217821780881\n",
      "Band NDVI_min importance: 0.13566048544350223\n",
      "Band NDVI_range importance: 0.05244627150291563\n",
      "Band NDMI_max importance: 0.011309241701995017\n",
      "Band NDMI_mean importance: 0.015264327059215906\n",
      "Band NDMI_std importance: 0.046468200622704306\n",
      "Band NDMI_min importance: 0.22550838628083952\n",
      "Band timeofmax importance: 0.008693793016614472\n",
      "Band timeofmin importance: 0.005953976095119059\n",
      "Band rate importance: 0.0062017194368069834\n",
      "Band brightness_max importance: 0.09789534252018575\n",
      "Band brightness_mean importance: 0.23828573440705283\n",
      "Band brightness_std importance: 0.011624786114720145\n",
      "Band brightness_std importance: 0.02165539820150765\n"
     ]
    }
   ],
   "source": [
    "#disaply the importance of the individual bands\n",
    "for b, imp in zip(names, rf.feature_importances_):\n",
    "    print('Band {b} importance: {imp}'.format(b=b, imp=imp))"
   ]
  },
  {
   "cell_type": "code",
   "execution_count": 25,
   "metadata": {},
   "outputs": [
    {
     "name": "stderr",
     "output_type": "stream",
     "text": [
      "[Parallel(n_jobs=4)]: Using backend ThreadingBackend with 4 concurrent workers.\n",
      "[Parallel(n_jobs=4)]: Done  42 tasks      | elapsed:    0.2s\n",
      "[Parallel(n_jobs=4)]: Done 192 tasks      | elapsed:    0.8s\n"
     ]
    },
    {
     "name": "stdout",
     "output_type": "stream",
     "text": [
      "predict    133    330   430   541     All\n",
      "truth                                    \n",
      "133      49932      0    33     0   49965\n",
      "330          0  72871     0     0   72871\n",
      "430          0      0  4761     0    4761\n",
      "541          0      0     0  1052    1052\n",
      "All      49932  72871  4794  1052  128649\n"
     ]
    },
    {
     "name": "stderr",
     "output_type": "stream",
     "text": [
      "[Parallel(n_jobs=4)]: Done 300 out of 300 | elapsed:    1.2s finished\n"
     ]
    }
   ],
   "source": [
    "# Create a cross-tabulation dataframe to check out how each class performs\n",
    "df = pd.DataFrame()\n",
    "df['truth'] = y\n",
    "df['predict'] = rf.predict(x)\n",
    "\n",
    "# Cross-tabulate predictions\n",
    "print(pd.crosstab(df['truth'], df['predict'], margins=True))"
   ]
  },
  {
   "cell_type": "markdown",
   "metadata": {},
   "source": [
    "### Classify our image"
   ]
  },
  {
   "cell_type": "code",
   "execution_count": 26,
   "metadata": {},
   "outputs": [
    {
     "name": "stdout",
     "output_type": "stream",
     "text": [
      "Reshaped from (3043, 3701, 16) to (11262143, 16)\n",
      "generating prediction\n"
     ]
    },
    {
     "name": "stderr",
     "output_type": "stream",
     "text": [
      "[Parallel(n_jobs=4)]: Using backend ThreadingBackend with 4 concurrent workers.\n",
      "[Parallel(n_jobs=4)]: Done  42 tasks      | elapsed:   14.8s\n",
      "[Parallel(n_jobs=4)]: Done 192 tasks      | elapsed:  1.1min\n",
      "[Parallel(n_jobs=4)]: Done 300 out of 300 | elapsed:  1.7min finished\n"
     ]
    }
   ],
   "source": [
    "# If we need to load back in the trained RF model:\n",
    "# rf = load(results + 'murrumbidgee_rfModel.joblib')\n",
    "\n",
    "# Take our full image, and reshape into long 2d array (nrow * ncol, nband) for classification\n",
    "new_shape = (img_noNaNs.shape[0] * img_noNaNs.shape[1], img_noNaNs.shape[2])\n",
    "\n",
    "img_as_array = img_noNaNs[:, :, :z].reshape(new_shape)\n",
    "print('Reshaped from {o} to {n}'.format(o=img_noNaNs.shape,\n",
    "                                        n=img_as_array.shape))\n",
    "\n",
    "# Now predict for each pixel\n",
    "print('generating prediction')\n",
    "class_prediction = rf.predict(img_as_array)\n",
    "\n",
    "# Reshape our classification map\n",
    "class_prediction = class_prediction.reshape(img_noNaNs[:, :, 0].shape)"
   ]
  },
  {
   "cell_type": "code",
   "execution_count": 27,
   "metadata": {},
   "outputs": [
    {
     "data": {
      "text/plain": [
       "Text(0.5, 1.0, 'Irrigation Pixels Only')"
      ]
     },
     "execution_count": 27,
     "metadata": {},
     "output_type": "execute_result"
    },
    {
     "data": {
      "image/png": "[encoded data removed]",
      "text/plain": [
       "<Figure size 1080x1080 with 2 Axes>"
      ]
     },
     "metadata": {
      "needs_background": "light"
     },
     "output_type": "display_data"
    }
   ],
   "source": [
    "#generate a plot of the predictions\n",
    "import matplotlib.patches as mpatches\n",
    "values = np.unique(class_prediction.ravel())\n",
    "\n",
    "plt.figure(figsize=(15,15))\n",
    "plt.subplot(121)\n",
    "im = plt.imshow(class_prediction, interpolation='none')\n",
    "# colors = [im.cmap(im.norm(value)) for value in values]\n",
    "# patches = [ mpatches.Patch(color=colors[i], label=\"Level {l}\".format(l=values[i]) ) for i in range(len(values)) ]\n",
    "# plt.legend(handles=patches, bbox_to_anchor=(1.05, 1), loc=2, borderaxespad=0. )\n",
    "\n",
    "plt.subplot(122)\n",
    "irr = np.where(class_prediction==430, 1, 0)\n",
    "plt.imshow(irr)\n",
    "plt.title('Irrigation Pixels Only')"
   ]
  },
  {
   "cell_type": "code",
   "execution_count": 28,
   "metadata": {},
   "outputs": [],
   "source": [
    "#export out the results\n",
    "transform, projection = transform_tuple(NDVI_max, (NDVI_max.x, NDVI_max.y), epsg=3577)\n",
    "SpatialTools.array_to_geotiff(results + AOI + \"_\" + year + \"classpredict_handtrain.tif\",\n",
    "              class_prediction, geo_transform = transform, \n",
    "              projection = projection, nodata_val=0)"
   ]
  },
  {
   "cell_type": "markdown",
   "metadata": {},
   "source": [
    "### use image segmentation polygons to filter results of RF"
   ]
  },
  {
   "cell_type": "code",
   "execution_count": 29,
   "metadata": {},
   "outputs": [
    {
     "name": "stdout",
     "output_type": "stream",
     "text": [
      "Exporting raster to results/Murrum_randomForest_Winter2013/Murrum_randomForest_Winter2013_Irrigated.tif\n"
     ]
    }
   ],
   "source": [
    "class_predict = xr.open_rasterio(results + AOI + \"_\" + year + \"classpredict_handtrain.tif\")\n",
    "class_predict = class_predict.squeeze()\n",
    "\n",
    "gdf = gpd.read_file(results + AOI + '_' + year + '_SEGpolygons.shp')\n",
    "#calculate majority values inside segments\n",
    "gdf['majority'] = pd.DataFrame(zonal_stats(vectors=gdf['geometry'], raster=results + AOI + \"_\" + year + \"classpredict_handtrain.tif\", stats='majority'))['majority']\n",
    "#calculate area of polygons\n",
    "gdf['area'] = gdf['geometry'].area\n",
    "#filter by area and majority values\n",
    "smallArea = gdf['area'] <= 5500000\n",
    "irrigated = gdf['majority'] == 430.0 #filtering for irrigated areas only\n",
    "gdf = gdf[smallArea&irrigated]\n",
    "#export shapefile\n",
    "gdf.to_file(results + AOI + \"_\" + year + \"_Irrigated.shp\")\n",
    "\n",
    "#get the transform and projection of our gtiff\n",
    "transform, projection = transform_tuple(class_predict, (class_predict.x, class_predict.y), epsg=3577)\n",
    "#find the width and height of the xarray dataset we want to mask\n",
    "width,height = class_predict.shape\n",
    "# rasterize vector\n",
    "gdf_raster = SpatialTools.rasterize_vector(results + AOI + \"_\" + year + \"_Irrigated.shp\",\n",
    "                                           height, width, transform, projection, raster_path=results + AOI + \"_\" + year + \"_Irrigated.tif\")"
   ]
  },
  {
   "cell_type": "code",
   "execution_count": 30,
   "metadata": {},
   "outputs": [
    {
     "data": {
      "text/plain": [
       "<matplotlib.image.AxesImage at 0x7f03f4c8efd0>"
      ]
     },
     "execution_count": 30,
     "metadata": {},
     "output_type": "execute_result"
    },
    {
     "data": {
      "image/png": "[encoded data removed]",
      "text/plain": [
       "<Figure size 720x720 with 1 Axes>"
      ]
     },
     "metadata": {
      "needs_background": "light"
     },
     "output_type": "display_data"
    }
   ],
   "source": [
    "plt.figure(figsize=(10,10))\n",
    "plt.imshow(gdf_raster, interpolation='none')"
   ]
  },
  {
   "cell_type": "code",
   "execution_count": null,
   "metadata": {},
   "outputs": [],
   "source": []
  },
  {
   "cell_type": "code",
   "execution_count": null,
   "metadata": {},
   "outputs": [],
   "source": []
  }
 ],
 "metadata": {
  "kernelspec": {
   "display_name": "Python [default]",
   "language": "python",
   "name": "python3"
  },
  "language_info": {
   "codemirror_mode": {
    "name": "ipython",
    "version": 3
   },
   "file_extension": ".py",
   "mimetype": "text/x-python",
   "name": "python",
   "nbconvert_exporter": "python",
   "pygments_lexer": "ipython3",
   "version": "3.6.6"
  }
 },
 "nbformat": 4,
 "nbformat_minor": 2
}
