{
 "cells": [
  {
   "cell_type": "markdown",
   "metadata": {},
   "source": [
    "### User Inputs"
   ]
  },
  {
   "cell_type": "code",
   "execution_count": 1,
   "metadata": {},
   "outputs": [],
   "source": [
    "shape_file = 'data/SA_aois2.shp'\n",
    "masked_prop=0.90\n",
    "polygon_Num = 1"
   ]
  },
  {
   "cell_type": "code",
   "execution_count": 3,
   "metadata": {},
   "outputs": [],
   "source": [
    "# Import modules\n",
    "import datacube \n",
    "from datacube.utils import geometry\n",
    "import sys\n",
    "import os\n",
    "import pandas as pd\n",
    "from IPython.display import Image\n",
    "import matplotlib.pyplot as plt\n",
    "import fiona\n",
    "\n",
    "# Import external dea-notebooks functions using relative link to Scripts directory\n",
    "sys.path.append('src/')\n",
    "import DEADataHandling\n",
    "import DEAPlotting"
   ]
  },
  {
   "cell_type": "code",
   "execution_count": 4,
   "metadata": {},
   "outputs": [],
   "source": [
    "with fiona.open(shape_file) as shapes:\n",
    "    crs = geometry.CRS(shapes.crs_wkt) \n",
    "    ShapesList = list(shapes)\n",
    "\n",
    "first_geometry = ShapesList[polygon_Num]['geometry']\n",
    "poly_name =ShapesList[polygon_Num]['properties']['name'].replace(' ','_')\n",
    "\n",
    "geom = geometry.Geometry(first_geometry, crs=crs)"
   ]
  },
  {
   "cell_type": "code",
   "execution_count": null,
   "metadata": {},
   "outputs": [],
   "source": [
    "# Set up datacube instance\n",
    "dc = datacube.Datacube(app='Time series animation')\n",
    "\n",
    "# Set up spatial and temporal query.\n",
    "query1987_97 = {'geopolygon': geom,\n",
    "         'time': ('1987-01-01', '1997-12-31')\n",
    "         }\n",
    "\n",
    "query1998_08 = {'geopolygon': geom,\n",
    "         'time': ('1998-01-01', '2008-12-31')\n",
    "         }\n",
    "\n",
    "query2009_19 = {'geopolygon': geom,\n",
    "         'time': ('2009-01-01', '2019-04-30')\n",
    "         }\n",
    "\n",
    "queryAllTime = {'geopolygon': geom,\n",
    "         'time': ('1987-01-01', '2019-04-30')\n",
    "         }\n",
    "\n",
    "# querysentinel = {'geopolygon': geom,\n",
    "#          'time': ('2015-01-01', '2019-05-30')\n",
    "#          }\n",
    "# querysentinel['resolution'] = (-10,10)\n",
    "# querysentinel['output_crs'] = ('epsg:3577')"
   ]
  },
  {
   "cell_type": "code",
   "execution_count": null,
   "metadata": {},
   "outputs": [],
   "source": [
    "#loading sentinel 2\n",
    "# ds_sentinel = DEADataHandling.load_clearsentinel2(dc=dc, query=querysentinel, \n",
    "#                                        bands_of_interest=['nbart_red', 'nbart_green', 'nbart_blue'], \n",
    "#                                        masked_prop=0.9, mask_pixel_quality=True) "
   ]
  },
  {
   "cell_type": "code",
   "execution_count": null,
   "metadata": {},
   "outputs": [],
   "source": [
    "# Set the minimum proportion of clear pixels (pixels with no clouds or other nodata)\n",
    "masked_prop=0.90\n",
    "# Load in only clear Landsat observations with < 1% unclear values\n",
    "ds_1987_97 = DEADataHandling.load_clearlandsat(dc=dc, query=query1987_97, \n",
    "                                       bands_of_interest=['red', 'green', 'blue'], \n",
    "                                       masked_prop=masked_prop) \n",
    "\n",
    "ds_1998_08 = DEADataHandling.load_clearlandsat(dc=dc, query=query1998_08, \n",
    "                                       bands_of_interest=['red', 'green', 'blue'], \n",
    "                                       masked_prop=masked_prop) \n",
    "\n",
    "ds_2009_19 = DEADataHandling.load_clearlandsat(dc=dc, query=query2009_19, \n",
    "                                       bands_of_interest=['red', 'green', 'blue'], \n",
    "                                       masked_prop=masked_prop) \n",
    "\n",
    "ds_allTime = DEADataHandling.load_clearlandsat(dc=dc, query=queryAllTime, \n",
    "                                       bands_of_interest=['red', 'green', 'blue'], \n",
    "                                       masked_prop=masked_prop) "
   ]
  },
  {
   "cell_type": "code",
   "execution_count": null,
   "metadata": {},
   "outputs": [],
   "source": [
    "# #sentinel animation\n",
    "# DEAPlotting.animated_timeseries(ds=ds_sentinel, bands=['nbart_red', 'nbart_green', 'nbart_blue'],\n",
    "#                                 output_path=\"results/\" + f'{poly_name}_sentinel_animated_timeseries.gif', \n",
    "#                                 interval=500)"
   ]
  },
  {
   "cell_type": "code",
   "execution_count": null,
   "metadata": {},
   "outputs": [],
   "source": [
    "# Produce time series animation of red, green and blue bands\n",
    "DEAPlotting.animated_timeseries(ds=ds_1987_97, \n",
    "                                output_path=\"results/\" + f'{poly_name}_1987_97_animated_timeseries.gif', \n",
    "                                interval=500) "
   ]
  },
  {
   "cell_type": "code",
   "execution_count": null,
   "metadata": {},
   "outputs": [],
   "source": [
    "# Produce time series animation of red, green and blue bands\n",
    "DEAPlotting.animated_timeseries(ds=ds_1998_08,\n",
    "                                output_path=\"results/\" + f'{poly_name}_1998_08_animated_timeseries.gif', \n",
    "                                interval=500) "
   ]
  },
  {
   "cell_type": "code",
   "execution_count": null,
   "metadata": {},
   "outputs": [],
   "source": [
    "# Produce time series animation of red, green and blue bands\n",
    "DEAPlotting.animated_timeseries(ds=ds_2009_19,\n",
    "                                output_path=\"results/\"+ f'{poly_name}_2009_19_animated_timeseries.gif', \n",
    "                                interval=500) "
   ]
  },
  {
   "cell_type": "code",
   "execution_count": null,
   "metadata": {},
   "outputs": [],
   "source": [
    "DEAPlotting.animated_timeseries(ds=ds_allTime,\n",
    "                                output_path=\"results/\"+ f'{poly_name}_allTime_animated_timeseries.gif', \n",
    "                                interval=500) "
   ]
  },
  {
   "cell_type": "code",
   "execution_count": null,
   "metadata": {},
   "outputs": [],
   "source": []
  }
 ],
 "metadata": {
  "kernelspec": {
   "display_name": "Python 3",
   "language": "python",
   "name": "python3"
  },
  "language_info": {
   "codemirror_mode": {
    "name": "ipython",
    "version": 3
   },
   "file_extension": ".py",
   "mimetype": "text/x-python",
   "name": "python",
   "nbconvert_exporter": "python",
   "pygments_lexer": "ipython3",
   "version": "3.6.7"
  }
 },
 "nbformat": 4,
 "nbformat_minor": 2
}
