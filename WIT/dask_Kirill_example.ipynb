{
 "cells": [
  {
   "cell_type": "code",
   "execution_count": null,
   "metadata": {},
   "outputs": [],
   "source": [
    "import xarray as xr\n",
    "import numpy as np\n",
    "import dask\n",
    "import dask.array as da\n",
    "import distributed\n",
    "from dask.distributed import wait as dask_wait\n",
    "import os\n",
    "from IPython.display import display\n",
    "from IPython.display import Image"
   ]
  },
  {
   "cell_type": "code",
   "execution_count": null,
   "metadata": {},
   "outputs": [],
   "source": [
    "from datacube.utils.rio import (\n",
    "    configure_s3_access,\n",
    ")\n",
    "\n",
    "from kk.gmc2 import (\n",
    "    keep_good_only, \n",
    "    xr_geomedian, \n",
    "    to_f32,\n",
    "    from_float,\n",
    "    reshape_for_geomedian,\n",
    "    c2_geomedian,\n",
    "    get_paths,\n",
    "    mk_yaml,\n",
    "    chunked_persist,\n",
    "    save_to_s3,\n",
    ")\n",
    "from odc.index import bin_dataset_stream\n"
   ]
  },
  {
   "cell_type": "code",
   "execution_count": null,
   "metadata": {},
   "outputs": [],
   "source": [
    "client = distributed.Client('tcp://10.0.5.26:8786', direct_to_workers=False)\n",
    "display(client)\n",
    "\n",
    "if False:\n",
    "    creds = configure_s3_access(region_name='auto', client=client)\n",
    "    creds.access_key\n",
    "\n",
    "creds = configure_s3_access(region_name='auto', \n",
    "                            client=None)\n",
    "creds.access_key"
   ]
  },
  {
   "cell_type": "code",
   "execution_count": null,
   "metadata": {},
   "outputs": [],
   "source": [
    "from datacube.utils.cog import write_cog, to_cog\n",
    "from datacube.utils.dask import save_blob_to_s3\n",
    "s3_upload_prefix='s3://deafrica-staging-west/kk-temp/gm-2018/'\n",
    "output_product = 'ga_ls8c_gm_2_annual'\n",
    "\n",
    "cog_opts = dict(overview_levels=[4,8,16], \n",
    "                overview_resampling='average', \n",
    "                zlevel=9)\n"
   ]
  },
  {
   "cell_type": "code",
   "execution_count": null,
   "metadata": {},
   "outputs": [],
   "source": [
    "from datacube.storage import measurement_paths\n",
    "import datacube\n",
    "from datacube.storage import masking\n",
    "from kk.wofs_summary import mk_africa_albers_gs\n",
    "\n",
    "gs = mk_africa_albers_gs()\n",
    "\n",
    "scale, offset = (2.75e-5, -0.2)\n",
    "year = 2018\n",
    "chunk_sz = 5000//2\n",
    "\n",
    "dc = datacube.Datacube()"
   ]
  },
  {
   "cell_type": "code",
   "execution_count": null,
   "metadata": {},
   "outputs": [],
   "source": [
    "%%time\n",
    "dss_all = dc.find_datasets_lazy(product='usgs_ls8c_level2_2', \n",
    "                                time=str(year))\n",
    "\n",
    "bins = bin_dataset_stream(gs, dss_all, persist=lambda ds: ds)\n",
    "tasks = sorted(bins.values(), key=lambda s: s.idx[::-1])"
   ]
  },
  {
   "cell_type": "code",
   "execution_count": null,
   "metadata": {},
   "outputs": [],
   "source": [
    "task = tasks[0]\n",
    "task.idx, len(task.dss), task.geobox"
   ]
  },
  {
   "cell_type": "code",
   "execution_count": null,
   "metadata": {},
   "outputs": [],
   "source": [
    "def task_proc(tasks):\n",
    "    for task in tasks:\n",
    "        ss = c2_geomedian(dc, task.dss, \n",
    "                          chunk_sz=chunk_sz, \n",
    "                          geobox=task.geobox,\n",
    "                          min_good_obs=3)\n",
    "        gm = ss.gm\n",
    "        yaml_fut = save_to_s3(gm, task.idx, year,\n",
    "                              grid=gs, \n",
    "                              prefix=s3_upload_prefix, \n",
    "                              dst_product=output_product, \n",
    "                              cog_params=cog_opts, creds=creds)\n",
    "        yield yaml_fut\n",
    "        "
   ]
  },
  {
   "cell_type": "markdown",
   "metadata": {},
   "source": [
    "```python\n",
    "ss = c2_geomedian(dc, dss, chunk_sz=chunk_sz, geobox=geobox,\n",
    "                  min_good_obs=3)\n",
    "gm, gm_array, ok_pix = ss.gm, ss.gm_array, ss.ok_pix\n",
    "yaml_fut = save_to_s3(gm, tidx, year,\n",
    "                      grid=gs, \n",
    "                      prefix=s3_upload_prefix, \n",
    "                      dst_product=output_product, \n",
    "                      cog_params=cog_opts, creds=creds)\n",
    "```"
   ]
  },
  {
   "cell_type": "code",
   "execution_count": null,
   "metadata": {},
   "outputs": [],
   "source": [
    "import time\n",
    "failures = []\n",
    "\n",
    "t0 = time.time()\n",
    "\n",
    "for i, f in enumerate(task_proc(tasks)):\n",
    "    t_start = time.time()\n",
    "    try:\n",
    "        print(f\"Processing {i} {tasks[i].idx} \", end='')\n",
    "        path, ok = client.compute(f).result()\n",
    "        t_finish = time.time()\n",
    "        if ok:\n",
    "            print(f\"OK {t_finish-t_start:.3f} {t_finish-t0:.2f}\")\n",
    "            print(path)\n",
    "        else:\n",
    "            raise ValueError(\"not ok save\")\n",
    "    except:\n",
    "        print(f\"Failed: {i} {tasks[i].idx}\")\n",
    "        failures.append(tasks[i])"
   ]
  },
  {
   "cell_type": "code",
   "execution_count": null,
   "metadata": {},
   "outputs": [],
   "source": []
  }
 ],
 "metadata": {
  "kernelspec": {
   "display_name": "Python 3",
   "language": "python",
   "name": "python3"
  },
  "language_info": {
   "codemirror_mode": {
    "name": "ipython",
    "version": 3
   },
   "file_extension": ".py",
   "mimetype": "text/x-python",
   "name": "python",
   "nbconvert_exporter": "python",
   "pygments_lexer": "ipython3",
   "version": "3.6.8"
  }
 },
 "nbformat": 4,
 "nbformat_minor": 4
}