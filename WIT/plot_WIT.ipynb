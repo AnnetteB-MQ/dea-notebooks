{
 "cells": [
  {
   "cell_type": "markdown",
   "metadata": {},
   "source": [
    "# Plot the results of WIT\n"
   ]
  },
  {
   "cell_type": "markdown",
   "metadata": {},
   "source": [
    "## User Inputs"
   ]
  },
  {
   "cell_type": "code",
   "execution_count": null,
   "metadata": {},
   "outputs": [],
   "source": [
    "# Enter the Name of the polygon you want to check:\n",
    "# i.e., the 'UniqueID' column in the shapefile\n",
    "polyName = 'Lake_Fitri'"
   ]
  },
  {
   "cell_type": "code",
   "execution_count": null,
   "metadata": {},
   "outputs": [],
   "source": [
    "# Where are the .csv files stored?\n",
    "filepath = \"results/\"\n",
    "\n",
    "# do you want to export the plot?\n",
    "export_plot = False\n",
    "\n",
    "# If so, where?\n",
    "output_dir = \"results/\""
   ]
  },
  {
   "cell_type": "markdown",
   "metadata": {},
   "source": [
    "### Run the cells below to produce a stack plot of the polygon"
   ]
  },
  {
   "cell_type": "code",
   "execution_count": null,
   "metadata": {},
   "outputs": [],
   "source": [
    "import pandas as pd\n",
    "import seaborn as sns\n",
    "import matplotlib.pyplot as plt\n",
    "import warnings"
   ]
  },
  {
   "cell_type": "code",
   "execution_count": null,
   "metadata": {},
   "outputs": [],
   "source": [
    "#import the csv and prepare dataframe\n",
    "df = pd.read_csv(filepath + polyName + \".csv\")\n",
    "df['Datetime'] = pd.to_datetime(df.Datetime)\n",
    "df['Datetime'] = df.Datetime.dt.normalize()\n",
    "df = df.set_index('Datetime')"
   ]
  },
  {
   "cell_type": "code",
   "execution_count": null,
   "metadata": {},
   "outputs": [],
   "source": [
    "# generate plot\n",
    "warnings.filterwarnings(\"ignore\")\n",
    "#set up color palette\n",
    "pal = [sns.xkcd_rgb[\"cobalt blue\"],\n",
    "       sns.xkcd_rgb[\"neon blue\"],\n",
    "       sns.xkcd_rgb[\"grass\"],\n",
    "       sns.xkcd_rgb[\"beige\"],\n",
    "       sns.xkcd_rgb[\"brown\"]]       \n",
    "\n",
    "#make a stacked area plot\n",
    "plt.clf()\n",
    "fig= plt.figure(figsize = (22,6))\n",
    "plt.stackplot(df.index, \n",
    "              df.wofs_area_percent, \n",
    "              df.wet_percent, \n",
    "              df.green_veg_percent, \n",
    "              df.dry_veg_percent,\n",
    "              df.bare_soil_percent,\n",
    "              labels=['open water',\n",
    "                      'wet',\n",
    "                      'green veg',\n",
    "                      'dry veg',\n",
    "                      'bare soil',\n",
    "                     ], colors=pal, alpha = 0.6)\n",
    "\n",
    "#set axis limits to the min and max\n",
    "plt.axis(xmin = df.index[0], xmax = df.index[-1], ymin = 0, ymax = 100)\n",
    "\n",
    "#add a legend and a tight plot box\n",
    "plt.legend(loc='lower left', framealpha=0.6)\n",
    "plt.title('Fractional Cover, Wetness, and Water')\n",
    "plt.tight_layout()\n",
    "if export_plot:\n",
    "    #save the figure\n",
    "    plt.savefig(f'{output_dir}{polyName}.png')#, transparent=True)\n"
   ]
  },
  {
   "cell_type": "markdown",
   "metadata": {},
   "source": [
    "## Animating WIT with true colour"
   ]
  },
  {
   "cell_type": "code",
   "execution_count": null,
   "metadata": {},
   "outputs": [],
   "source": [
    "import datacube.utils.rio\n",
    "import datacube\n",
    "import fiona\n",
    "from datacube.utils import geometry\n",
    "from datacube.utils.dask import start_local_dask\n",
    "from datacube.utils.rio import configure_s3_access\n",
    "import dask\n",
    "import os\n",
    "import WITdrill\n",
    "import sys\n",
    "sys.path.append('../../../examples/Scripts')\n",
    "import deafrica_plotting\n",
    "import deafrica_datahandling\n",
    "%load_ext autoreload\n",
    "%autoreload 2\n",
    "\n",
    "dc = datacube.Datacube(app='rgb_animation')\n",
    "\n",
    "#This will speed up loading data\n",
    "datacube.utils.rio.set_default_rio_config(aws='auto', cloud_defaults=True)"
   ]
  },
  {
   "cell_type": "code",
   "execution_count": null,
   "metadata": {},
   "outputs": [],
   "source": [
    "# dask.config.set({\"distributed.dashboard.link\": \n",
    "#         os.environ.get('JUPYTERHUB_SERVICE_PREFIX', '/')+\"proxy/{port}/status\"})\n",
    "\n",
    "# client = start_local_dask(threads_per_worker=2, memory_limit='4G')\n",
    "# display(client)\n",
    "\n",
    "# creds = configure_s3_access(client=client, \n",
    "#                             region_name='auto')"
   ]
  },
  {
   "cell_type": "code",
   "execution_count": null,
   "metadata": {},
   "outputs": [],
   "source": [
    "shp_path = 'shapes/test_africa_wetland.shp'\n",
    "time = ('2013-04', '2019-06')\n",
    "res = (-30, 30)"
   ]
  },
  {
   "cell_type": "code",
   "execution_count": null,
   "metadata": {},
   "outputs": [],
   "source": [
    "with fiona.open(shp_path) as input:\n",
    "    crs = geometry.CRS(input.crs_wkt)\n",
    "\n",
    "x = fiona.open(shp_path)\n",
    "feat = x[0]\n",
    "# print(feat)\n",
    "first_geom = feat['geometry']\n",
    "geom = geometry.Geometry(first_geom, crs=crs)"
   ]
  },
  {
   "cell_type": "code",
   "execution_count": null,
   "metadata": {},
   "outputs": [],
   "source": [
    "# deafrica_plotting.display_map(x=(lon-buff, lon+buff), y=(lat+buff, lat-buff))"
   ]
  },
  {
   "cell_type": "code",
   "execution_count": null,
   "metadata": {},
   "outputs": [],
   "source": [
    "# Create a query object\n",
    "queryC2 = {\n",
    "    'geopolygon': geom,\n",
    "    'time': (time),\n",
    "    'resolution': res,\n",
    "    'group_by': 'solar_day'\n",
    "}"
   ]
  },
  {
   "cell_type": "code",
   "execution_count": null,
   "metadata": {},
   "outputs": [],
   "source": [
    "crs = deafrica_datahandling.mostcommon_crs(dc=dc,\n",
    "                                          product='usgs_ls8c_level2_2',\n",
    "                                          query=queryC2)\n",
    "\n",
    "col2 = deafrica_datahandling.load_masked_usgs(dc=dc, min_gooddata=0.9,\n",
    "                                            products=['usgs_ls8c_level2_2'],\n",
    "                                            output_crs=crs,\n",
    "                                            measurements=['red', 'green', 'blue'],\n",
    "                                            align=(15, 15),\n",
    "                                            **queryC2)"
   ]
  },
  {
   "cell_type": "code",
   "execution_count": null,
   "metadata": {},
   "outputs": [],
   "source": [
    "col2"
   ]
  },
  {
   "cell_type": "code",
   "execution_count": null,
   "metadata": {},
   "outputs": [],
   "source": [
    "WITdrill.animated_timeseries_WIT(\n",
    "    col2.rolling(time=3, center=True, min_periods=1).mean(),\n",
    "    df.rolling(window=3, center=True, min_periods=1).mean(),\n",
    "    output_dir+polyName+ \"_WIT.gif\",\n",
    "    width_pixels=1000,\n",
    "    interval=300,\n",
    "    show_date=True,\n",
    "    annotation_kwargs={'fontsize': 15},\n",
    "    title= \"Lake Fitri, Chad\",\n",
    ")"
   ]
  },
  {
   "cell_type": "markdown",
   "metadata": {},
   "source": [
    "## generating lots of plots"
   ]
  },
  {
   "cell_type": "code",
   "execution_count": null,
   "metadata": {},
   "outputs": [],
   "source": [
    "import os\n",
    "import pandas as pd\n",
    "import seaborn as sns\n",
    "import matplotlib.pyplot as plt\n",
    "import warnings"
   ]
  },
  {
   "cell_type": "code",
   "execution_count": null,
   "metadata": {},
   "outputs": [],
   "source": [
    "# Where are the .csv files stored?\n",
    "filepath = \"results/tanzania/\"\n",
    "\n",
    "# If so, where?\n",
    "output_dir = \"results/tanzania_plots/\""
   ]
  },
  {
   "cell_type": "code",
   "execution_count": null,
   "metadata": {},
   "outputs": [],
   "source": [
    "csvs = os.listdir(filepath)\n",
    "csvs.sort()\n"
   ]
  },
  {
   "cell_type": "code",
   "execution_count": null,
   "metadata": {},
   "outputs": [],
   "source": [
    "def generate_plots(file):\n",
    "    #import the csv and prepare dataframe\n",
    "    df = pd.read_csv(filepath + file)\n",
    "    polyName = file[:-4]\n",
    "    df['Datetime'] = pd.to_datetime(df.Datetime)\n",
    "    df['Datetime'] = df.Datetime.dt.normalize()\n",
    "    df = df.set_index('Datetime')\n",
    "\n",
    "    # generate plot\n",
    "    warnings.filterwarnings(\"ignore\")\n",
    "    #set up color palette\n",
    "    pal = [sns.xkcd_rgb[\"cobalt blue\"],\n",
    "           sns.xkcd_rgb[\"neon blue\"],\n",
    "           sns.xkcd_rgb[\"grass\"],\n",
    "           sns.xkcd_rgb[\"beige\"],\n",
    "           sns.xkcd_rgb[\"brown\"]]       \n",
    "\n",
    "    #make a stacked area plot\n",
    "    plt.clf()\n",
    "    fig= plt.figure(figsize = (22,6))\n",
    "    plt.stackplot(df.index, \n",
    "                  df.wofs_area_percent, \n",
    "                  df.wet_percent, \n",
    "                  df.green_veg_percent, \n",
    "                  df.dry_veg_percent,\n",
    "                  df.bare_soil_percent,\n",
    "                  labels=['open water',\n",
    "                          'wet',\n",
    "                          'green veg',\n",
    "                          'dry veg',\n",
    "                          'bare soil',\n",
    "                         ], colors=pal, alpha = 0.6)\n",
    "\n",
    "    #set axis limits to the min and max\n",
    "    plt.axis(xmin = df.index[0], xmax = df.index[-1], ymin = 0, ymax = 100)\n",
    "\n",
    "    #add a legend and a tight plot box\n",
    "    plt.legend(loc='lower left', framealpha=0.6)\n",
    "    plt.title('Fractional Cover, Wetness, and Water')\n",
    "    plt.tight_layout()\n",
    "\n",
    "    #save the figure\n",
    "    plt.savefig(output_dir + file[:-4] + '.png')#, transparent=True)"
   ]
  },
  {
   "cell_type": "code",
   "execution_count": null,
   "metadata": {},
   "outputs": [],
   "source": [
    "for i in csvs[1:]:\n",
    "    generate_plots(i)\n"
   ]
  },
  {
   "cell_type": "code",
   "execution_count": null,
   "metadata": {},
   "outputs": [],
   "source": []
  }
 ],
 "metadata": {
  "kernelspec": {
   "display_name": "Python 3",
   "language": "python",
   "name": "python3"
  },
  "language_info": {
   "codemirror_mode": {
    "name": "ipython",
    "version": 3
   },
   "file_extension": ".py",
   "mimetype": "text/x-python",
   "name": "python",
   "nbconvert_exporter": "python",
   "pygments_lexer": "ipython3",
   "version": "3.6.8"
  }
 },
 "nbformat": 4,
 "nbformat_minor": 4
}
