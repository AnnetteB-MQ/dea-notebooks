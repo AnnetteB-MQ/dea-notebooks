{
 "cells": [
  {
   "cell_type": "code",
   "execution_count": 1,
   "metadata": {},
   "outputs": [],
   "source": [
    "from datacube import Datacube\n",
    "from datacube.storage.masking import mask_invalid_data\n",
    "%matplotlib inline\n",
    "import fiona\n",
    "#from shapely import geometry\n",
    "from datacube.utils import geometry\n",
    "import matplotlib.pyplot as plt\n",
    "import geopandas as gpd\n",
    "from rasterstats import zonal_stats\n",
    "from affine import Affine\n",
    "from datacube.helpers import write_geotiff\n",
    "import pandas as pd\n",
    "from datetime import datetime"
   ]
  },
  {
   "cell_type": "code",
   "execution_count": 7,
   "metadata": {
    "collapsed": true
   },
   "outputs": [
    {
     "name": "stdout",
     "output_type": "stream",
     "text": [
      "Lord Howe_1\n",
      "Lord Howe_2\n",
      "Lord Howe_3\n",
      "Lord Howe_4\n",
      "Lord Howe_5\n",
      "Lord Howe_6\n",
      "Lord Howe_7\n",
      "Lord Howe_8\n",
      "Lord Howe_9\n",
      "Lord Howe_10\n",
      "Lord Howe_11\n",
      "Lord Howe_12\n",
      "Lord Howe_13\n",
      "Lord Howe_14\n",
      "Lord Howe_15\n",
      "Lord Howe_16\n",
      "Lord Howe_17\n",
      "Lord Howe_18\n",
      "Lord Howe_19\n",
      "Lord Howe_20\n",
      "Lord Howe_21\n",
      "Lord Howe_22\n",
      "Lord Howe_23\n",
      "Lord Howe_24\n",
      "Lord Howe_25\n",
      "Lord Howe_26\n",
      "Lord Howe_27\n",
      "Lord Howe_28\n",
      "Lord Howe_29\n",
      "Lord Howe_30\n",
      "Lord Howe_31\n",
      "Lord Howe_32\n",
      "Lord Howe_33\n",
      "Lord Howe_34\n",
      "Lord Howe_35\n",
      "Lord Howe_36\n",
      "Lord Howe_37\n",
      "Lord Howe_38\n",
      "Lord Howe_39\n",
      "Lord Howe_40\n",
      "Lord Howe_41\n",
      "Lord Howe_42\n",
      "Lord Howe_43\n",
      "Lord Howe_44\n",
      "Lord Howe_45\n",
      "Lord Howe_46\n",
      "Lord Howe_47\n",
      "Lord Howe_48\n"
     ]
    },
    {
     "data": {
      "text/plain": [
       "<Figure size 432x288 with 0 Axes>"
      ]
     },
     "metadata": {},
     "output_type": "display_data"
    },
    {
     "data": {
      "image/png": "[encoded data removed]",
      "text/plain": [
       "<Figure size 432x288 with 1 Axes>"
      ]
     },
     "metadata": {
      "needs_background": "light"
     },
     "output_type": "display_data"
    }
   ],
   "source": [
    "poly_path = '/home/547/zxh547/dea-notebooks/shapefiles/lord_howe_multiparts.shp'\n",
    "\n",
    "#open the polygon\n",
    "with fiona.open(poly_path) as shapes:\n",
    "        crs = geometry.CRS(shapes.crs_wkt)\n",
    "        shapeList = list(shapes)\n",
    "        for shape in shapeList:\n",
    "            geom = shape['geometry']\n",
    "            print(shape['properties']['new_id'])\n",
    "\n",
    "\n",
    "#plot polygon to check it looks ok\n",
    "plt.clf()\n",
    "shape_plot = gpd.read_file(poly_path)\n",
    "shape_plot.plot()\n",
    "\n",
    "plt.show()"
   ]
  },
  {
   "cell_type": "code",
   "execution_count": 8,
   "metadata": {},
   "outputs": [],
   "source": [
    "dc = Datacube(config='/g/data/u46/users/dsg547/modis_oc.conf')"
   ]
  },
  {
   "cell_type": "code",
   "execution_count": 9,
   "metadata": {},
   "outputs": [
    {
     "name": "stdout",
     "output_type": "stream",
     "text": [
      "took 0:14:38.484518 to finish loading Lord Howe_1\n",
      "took 0:09:16.569651 to finish loading Lord Howe_2\n",
      "took 0:07:05.547004 to finish loading Lord Howe_3\n",
      "took 0:07:10.538376 to finish loading Lord Howe_4\n",
      "took 0:07:09.383879 to finish loading Lord Howe_5\n",
      "took 0:07:12.138603 to finish loading Lord Howe_6\n",
      "took 0:06:59.794315 to finish loading Lord Howe_7\n",
      "took 0:07:10.026981 to finish loading Lord Howe_8\n",
      "took 0:07:19.225345 to finish loading Lord Howe_9\n",
      "took 0:07:12.128596 to finish loading Lord Howe_10\n",
      "took 0:07:24.280675 to finish loading Lord Howe_11\n",
      "took 0:07:31.445419 to finish loading Lord Howe_12\n",
      "took 0:07:35.744598 to finish loading Lord Howe_13\n",
      "took 0:07:19.563121 to finish loading Lord Howe_14\n",
      "took 0:07:14.506751 to finish loading Lord Howe_15\n",
      "took 0:10:36.304358 to finish loading Lord Howe_16\n",
      "took 0:11:16.206385 to finish loading Lord Howe_17\n",
      "took 0:10:43.959636 to finish loading Lord Howe_18\n",
      "took 0:11:50.696935 to finish loading Lord Howe_19\n",
      "took 0:10:37.949089 to finish loading Lord Howe_20\n",
      "took 0:07:38.454227 to finish loading Lord Howe_21\n",
      "took 0:07:21.474677 to finish loading Lord Howe_22\n",
      "took 0:07:36.432231 to finish loading Lord Howe_23\n",
      "took 0:07:31.965359 to finish loading Lord Howe_24\n",
      "took 0:07:43.794036 to finish loading Lord Howe_25\n",
      "took 0:08:29.061110 to finish loading Lord Howe_26\n",
      "took 0:07:43.042208 to finish loading Lord Howe_27\n",
      "took 0:07:44.332630 to finish loading Lord Howe_28\n",
      "took 0:07:50.452331 to finish loading Lord Howe_29\n",
      "took 0:07:41.213220 to finish loading Lord Howe_30\n",
      "took 0:07:30.874015 to finish loading Lord Howe_31\n",
      "took 0:08:20.830731 to finish loading Lord Howe_32\n",
      "took 0:07:53.846142 to finish loading Lord Howe_33\n",
      "took 0:07:36.134685 to finish loading Lord Howe_34\n",
      "took 0:08:05.341412 to finish loading Lord Howe_35\n",
      "took 0:07:31.329350 to finish loading Lord Howe_36\n",
      "took 0:07:37.704260 to finish loading Lord Howe_37\n",
      "took 0:12:50.413464 to finish loading Lord Howe_38\n",
      "took 0:08:03.046390 to finish loading Lord Howe_39\n",
      "took 0:08:25.264850 to finish loading Lord Howe_40\n",
      "took 0:08:23.619024 to finish loading Lord Howe_41\n",
      "took 0:08:15.727685 to finish loading Lord Howe_42\n",
      "took 0:07:57.519426 to finish loading Lord Howe_43\n",
      "took 0:07:37.215708 to finish loading Lord Howe_44\n",
      "took 0:09:38.559358 to finish loading Lord Howe_45\n",
      "took 0:08:11.800737 to finish loading Lord Howe_46\n",
      "took 0:07:31.498763 to finish loading Lord Howe_47\n",
      "took 0:07:45.219911 to finish loading Lord Howe_48\n"
     ]
    }
   ],
   "source": [
    "for shape in shapeList:\n",
    "    crs = geometry.CRS(shapes.crs_wkt)\n",
    "    first_geom = shape['geometry']\n",
    "    geom = geometry.Geometry(first_geom, crs=crs)\n",
    "    query = {'geopolygon': geom\n",
    "             }\n",
    "    time1 = datetime.now()\n",
    "    data = dc.load(product='modis_oc_1d', measurements=(['sst']), **query)\n",
    "    time2 = datetime.now()\n",
    "    diff = time2 - time1\n",
    "    print('took',diff, 'to finish loading',shape['properties']['new_id'])"
   ]
  },
  {
   "cell_type": "code",
   "execution_count": null,
   "metadata": {},
   "outputs": [],
   "source": [
    "time1 = datetime.now()\n",
    "data = dc.load(product='modis_oc_1d', measurements=(['sst']), **query)\n",
    "time2 = datetime.now()\n",
    "diff = time2 - time1\n",
    "print('took',diff, 'to finish')"
   ]
  }
 ],
 "metadata": {
  "kernelspec": {
   "display_name": "Python 3",
   "language": "python",
   "name": "python3"
  },
  "language_info": {
   "codemirror_mode": {
    "name": "ipython",
    "version": 3
   },
   "file_extension": ".py",
   "mimetype": "text/x-python",
   "name": "python",
   "nbconvert_exporter": "python",
   "pygments_lexer": "ipython3",
   "version": "3.6.7"
  }
 },
 "nbformat": 4,
 "nbformat_minor": 2
}
