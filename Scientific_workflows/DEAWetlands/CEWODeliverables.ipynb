{
 "cells": [
  {
   "cell_type": "markdown",
   "metadata": {},
   "source": [
    "# Wetland water depth visualisation <img align=\"right\" src=\"../../Supplementary_data/dea_logo.jpg\">\n",
    "\n",
    "* **Compatability:** Notebook currently compatible with the `NCI` and `DEA Sandbox` environment \n",
    "* **Products used:** \n",
    "* **Special requirements:** \n",
    "* **Prerequisites:** This notebook assumes you have previously run the [WetlandWaterDepthAnalyses.ipynb](./WetlandWaterDepthAnalyses.ipynb) notebook and saved out a netCDF file containing all the variables at the end of the notebook."
   ]
  },
  {
   "cell_type": "markdown",
   "metadata": {},
   "source": [
    "## Background\n",
    "The Commonwealth Environmental Water Office (CEWO) is obliged to act in accordance with the Water Act and the Basin Plan.  This requires Basin water resources to be managed in a way that gives effect to relevant international agreements (to the extent to which those agreements are relevant to the use and management of the Basin water resources). The Basin Plan has a specific objective to protect and restore a subset of all water-dependent ecosystems of the Murray-Darling Bain including by ensuring that: \n",
    "* Declared Ramsar wetlands that depend on Basin water resources maintain their ecological character. "
   ]
  },
  {
   "cell_type": "markdown",
   "metadata": {},
   "source": [
    "## Description\n",
    "This notebook produces the following deliverables for each Ramsar site for each 10 year time period: \n",
    "\n",
    "* Maps in the form of .jpg, polygons and rasters showing: (these maps should also include key vegetation types, including open water, as provided by the CEWO and also the Ramsar site boundary.)\n",
    "    * Inundation extent for each month across the time period. (This could be presented so that you can slide along a hydrograph and see the resultant inundation extent on a map below. This should also identify key vegetation types. \n",
    "    * Inundation extent for each vegetation type for each event (an event comprises the time between commencement of inundation of the vegetation type and conclusion of inundation of the vegetation type i.e. vegetation type completely dry) across the period event for critical durations (1, 3, 5, 7, >9 months)(these inundation extents are critical for different types of vegetation) \n",
    "        * Derived from remote sensing <img align='right' src=\"./InputData/TOR-AttachmentA.png\" style=\"width: 400px;\"/>\n",
    "        * Comparison of remotely sensed data with ground-truthed data and OEH datasets (NSW only). \n",
    "    * Maps of depth for critical durations, only if DEM data is available within GA or supplied by CEWO (1, 3, 5, 7, >9 months)  \n",
    "    * Vegetation condition over the entire four year period. \n",
    "* Graph and .csv file of inundation duration for each different vegetation type, for all natural and environmental flows, as per image to the right\n",
    "* Table identifying: \n",
    "    * % of different vegetation classes inundated for each specified time period for each event and maximum and average depth of inundation.\n",
    "    * Time between each inundation event for 10%, 25%, 50%, 75% and 100% of each vegetation type \n",
    "e.g. \n",
    "\n",
    "| Site | Sub-site | Decade | Vegetation Type | % inundated 1 month | % inundated 3 months | % inundated 5 months | % inundated 7 months | % inundated > 9 months | Max depth | Average depth |\n",
    "|-----|----|----|----|----|----|----|----|----|----|----|\n",
    "|Banrock Station | | |River redgum | | | | | | |\n",
    "| | | |Black box | | | | | | |\n",
    "| | | |Lignum| | | | | | |\n",
    "| | | |Saltmarsh| | | | | | |\n",
    "| | | |Tall emergent aquatics| | | | | | |\n",
    "| | | |Grass/forb | | | | | | |\n",
    "\n",
    "\n",
    "* Annual vegetation condition for each Ramsar site for the whole archive period\n",
    "***"
   ]
  },
  {
   "cell_type": "markdown",
   "metadata": {},
   "source": [
    "## (Progress tracking)\n",
    "\n",
    "| Wetland | LiDAR DEM | Vegetation shapefile | NetCDF created? | \n",
    "|---------|-----------|----------------------|-----------------|\n",
    "| Narran Lake | <ul><li>Data are a combination of [GA's aggregated 5m DEM product](https://ecat.ga.gov.au/geonetwork/srv/eng/catalog.search#/metadata/89644), and NSW Spatial Services 5m DEM scenes from the couple of bits of the eastern edge of the Ramsar polygon that are cut out of the GA product</li><li>The combination happened by clipping the GA and required additional NSW scenes to the extent of the Ramsar polygon.</li><li> These were then merged together using the `mosaic` tool in ArcGIS, where the GA scene was given preference over the NSW scenes where data existed in both</li></ul>  | `VegShapeFileVegNameColumn = 'AggCOMM'` `VegShapeFileVegNameUIDColumn = None` | Yes |\n"
   ]
  },
  {
   "cell_type": "markdown",
   "metadata": {},
   "source": [
    "## Getting started\n",
    "\n",
    "Provide any particular instructions that the user might need, e.g. To run this analysis, run all the cells in the notebook, starting with the \"Load packages\" cell. "
   ]
  },
  {
   "cell_type": "markdown",
   "metadata": {},
   "source": [
    "### Load packages\n",
    "Import Python packages that are used for the analysis.\n",
    "\n",
    "Use standard import commands; some are shown below. \n",
    "Begin with any `iPython` magic commands, followed by standard Python packages, then any additional functionality you need from the `Scripts` directory."
   ]
  },
  {
   "cell_type": "code",
   "execution_count": 1,
   "metadata": {},
   "outputs": [],
   "source": [
    "%matplotlib inline\n",
    "import matplotlib.pyplot as plt\n",
    "import seaborn as sns\n",
    "\n",
    "import sys\n",
    "import xarray as xr\n",
    "import numpy as np\n",
    "import pandas as pd\n",
    "from rasterio import features\n",
    "import geopandas as gpd\n",
    "from shapely.geometry import shape"
   ]
  },
  {
   "cell_type": "markdown",
   "metadata": {},
   "source": [
    "### Analysis parameters\n",
    "\n",
    "* `AnalysisLocation`: A string descriptor of the analysis region used to label graphs.\n",
    "\n",
    "#### Files to analyse\n",
    "* `DatasetToLoad` : The filename of the netCDF written out by the [first notebook](./WetlandWaterDepthAnalyses.ipynb) to read in here. Note that this file must have been written out by the first notebook, as we assume the variables created in that notebook exist here. If you try to read in something else, this code will fail.\n",
    "* `SpeciesDictToLoad` : The filename of the text file written out by the [first notebook](./WetlandWaterDepthAnalyses.ipynb) that contains the species dictionary of vegetation type and numerical ID. This is used to label plots.\n",
    "\n",
    "#### Analysis options\n",
    "* `Decades` : e.g. `{'1990s':('1990-01-01', '1999-12-31'), '2000s':('2000-01-01', '2009-12-31'), '2010s':('2010-01-01', '2019-12-31')}`. A dictionary of decades over which to analyse some of our results. If you want this to be a different time period other than decades, just change that here and include an appropriate descriptive dictionary key for each time period. \n",
    "* `PercentilesToCalc`: e.g. `['1', '25', '50', '75', '99']`. In the code below we do some analysis using percentiles. Include the percentiles you want to calculate as a list of strings here. We turn them into integers below to do the calculation, but use these strings for labelling."
   ]
  },
  {
   "cell_type": "code",
   "execution_count": 23,
   "metadata": {},
   "outputs": [],
   "source": [
    "# Note, if your `AnalysisLocation` contains special characters other than spaces, you will\n",
    "# need to modify the `replace` function used to generate the output file names.\n",
    "AnalysisLocation = 'Narran Lake'\n",
    "\n",
    "DatasetToLoad = f'OutputData/AllDataCombined{AnalysisLocation.replace(\" \", \"\")}.nc'\n",
    "SpeciesDictToLoad = f'OutputData/SpeciesDict{AnalysisLocation.replace(\" \", \"\")}.txt'\n",
    "\n",
    "EventThreshold = 5\n",
    "Decades = {'1990s':('1990-01-01', '1999-12-31'), '2000s':('2000-01-01', '2009-12-31'), '2010s':('2010-01-01', '2019-12-31')}\n",
    "PercentilesToCalc = ['1', '5', '10', '25', '50', '75', '99']\n",
    "\n",
    "EventListFileName = f'OutputData/WetEventsIn{AnalysisLocation.replace(\" \", \"\")}With{str(EventThreshold)}%AreaThreshold.txt'\n",
    "EventInundationTableFileName = f'OutputData/EventInundationMetricsFor{AnalysisLocation.replace(\" \", \"\")}.txt'\n",
    "\n",
    "InundationPctPerVegFigFileName = f'OutputData/InundationPctPerVeg{AnalysisLocation.replace(\" \", \"\")}.jpg'\n",
    "InundationPctPerVegDataFileName = f'OutputData/InundationPctPerVeg{AnalysisLocation.replace(\" \", \"\")}.txt'"
   ]
  },
  {
   "cell_type": "markdown",
   "metadata": {},
   "source": [
    "## Load in our pre-analysed datasets"
   ]
  },
  {
   "cell_type": "code",
   "execution_count": 3,
   "metadata": {},
   "outputs": [],
   "source": [
    "AllDataCombined = xr.open_dataset(DatasetToLoad)"
   ]
  },
  {
   "cell_type": "markdown",
   "metadata": {},
   "source": [
    "We also need to load in the species dictionary we saved out"
   ]
  },
  {
   "cell_type": "code",
   "execution_count": 4,
   "metadata": {},
   "outputs": [],
   "source": [
    "with open(SpeciesDictToLoad, 'r') as f: \n",
    "    content = f.read()\n",
    "    SpeciesDict = eval(content)"
   ]
  },
  {
   "cell_type": "markdown",
   "metadata": {},
   "source": [
    "We need to regenerate the order of vegetation communities by mean HAND, and then match up that order with the `SpeciesDict` to get the tick labels."
   ]
  },
  {
   "cell_type": "code",
   "execution_count": 5,
   "metadata": {},
   "outputs": [],
   "source": [
    "# Now recalculate our median HAND values and sort the data based on this\n",
    "MedianHAND = AllDataCombined.HAND.groupby(AllDataCombined['veg_randomUID']).median()\n",
    "myorder = MedianHAND.sortby(MedianHAND)['veg_randomUID'].values"
   ]
  },
  {
   "cell_type": "code",
   "execution_count": 6,
   "metadata": {},
   "outputs": [],
   "source": [
    "# Grab the correct vegetation labels in the right order\n",
    "XTickNames = []\n",
    "for vegvalue in myorder:\n",
    "    VegName = SpeciesDict[int(vegvalue)]\n",
    "    # Check how long the veg name is and if it's longer than 20 char, shorten.\n",
    "    if len(VegName) > 20:\n",
    "        XTickNames.append(VegName[:20])\n",
    "    else:\n",
    "        XTickNames.append(VegName)"
   ]
  },
  {
   "cell_type": "code",
   "execution_count": 7,
   "metadata": {},
   "outputs": [
    {
     "data": {
      "text/plain": [
       "{'crs': '+proj=aea +lat_0=0 +lon_0=132 +lat_1=-18 +lat_2=-36 +x_0=0 +y_0=0 +ellps=GRS80 +units=m +no_defs',\n",
       " 'grid_mapping': 'spatial_ref'}"
      ]
     },
     "execution_count": 7,
     "metadata": {},
     "output_type": "execute_result"
    }
   ],
   "source": [
    "AllDataCombined.attrs"
   ]
  },
  {
   "cell_type": "markdown",
   "metadata": {},
   "source": [
    "## Break up the vegetation data into discrete communities\n",
    "\n",
    "While we can subset our area of interest according to vegetation type, there is likely to be a spatial component to the inundation characteristics of different sub communities within a vegetation class. \n",
    "\n",
    "We therefore polygonise the vegetation data (you could just read in the original polygon shapefile, but since the data are already here and mapped to Landsat pixels, we'll polygonise the raster), and remove any very small vegetation communites (smaller than 10 landsat pixels). These different polygons will allow us to explore the spatial heterogeneities in the vegetation wetness characteristics. "
   ]
  },
  {
   "cell_type": "code",
   "execution_count": 8,
   "metadata": {},
   "outputs": [
    {
     "ename": "AttributeError",
     "evalue": "'Dataset' object has no attribute 'geobox'",
     "output_type": "error",
     "traceback": [
      "\u001b[0;31m---------------------------------------------------------------------------\u001b[0m",
      "\u001b[0;31mAttributeError\u001b[0m                            Traceback (most recent call last)",
      "\u001b[0;32m<ipython-input-8-f77f8d39a694>\u001b[0m in \u001b[0;36m<module>\u001b[0;34m\u001b[0m\n\u001b[1;32m      1\u001b[0m VegPolygons = features.shapes(AllDataCombined['veg_randomUID'].data.astype('float32'),\n\u001b[0;32m----> 2\u001b[0;31m                               transform=AllDataCombined.geobox.transform)\n\u001b[0m\u001b[1;32m      3\u001b[0m \u001b[0;34m\u001b[0m\u001b[0m\n\u001b[1;32m      4\u001b[0m \u001b[0mPolygonGP\u001b[0m \u001b[0;34m=\u001b[0m \u001b[0mgpd\u001b[0m\u001b[0;34m.\u001b[0m\u001b[0mGeoDataFrame\u001b[0m\u001b[0;34m(\u001b[0m\u001b[0mVegPolygons\u001b[0m\u001b[0;34m,\u001b[0m \u001b[0mcolumns\u001b[0m \u001b[0;34m=\u001b[0m\u001b[0;34m[\u001b[0m\u001b[0;34m'stringgeom'\u001b[0m\u001b[0;34m,\u001b[0m \u001b[0;34m'vegUID'\u001b[0m\u001b[0;34m]\u001b[0m\u001b[0;34m)\u001b[0m\u001b[0;34m\u001b[0m\u001b[0;34m\u001b[0m\u001b[0m\n\u001b[1;32m      5\u001b[0m \u001b[0;34m\u001b[0m\u001b[0m\n",
      "\u001b[0;32m/env/lib/python3.6/site-packages/xarray/core/common.py\u001b[0m in \u001b[0;36m__getattr__\u001b[0;34m(self, name)\u001b[0m\n\u001b[1;32m    231\u001b[0m                     \u001b[0;32mreturn\u001b[0m \u001b[0msource\u001b[0m\u001b[0;34m[\u001b[0m\u001b[0mname\u001b[0m\u001b[0;34m]\u001b[0m\u001b[0;34m\u001b[0m\u001b[0;34m\u001b[0m\u001b[0m\n\u001b[1;32m    232\u001b[0m         raise AttributeError(\n\u001b[0;32m--> 233\u001b[0;31m             \u001b[0;34m\"{!r} object has no attribute {!r}\"\u001b[0m\u001b[0;34m.\u001b[0m\u001b[0mformat\u001b[0m\u001b[0;34m(\u001b[0m\u001b[0mtype\u001b[0m\u001b[0;34m(\u001b[0m\u001b[0mself\u001b[0m\u001b[0;34m)\u001b[0m\u001b[0;34m.\u001b[0m\u001b[0m__name__\u001b[0m\u001b[0;34m,\u001b[0m \u001b[0mname\u001b[0m\u001b[0;34m)\u001b[0m\u001b[0;34m\u001b[0m\u001b[0;34m\u001b[0m\u001b[0m\n\u001b[0m\u001b[1;32m    234\u001b[0m         )\n\u001b[1;32m    235\u001b[0m \u001b[0;34m\u001b[0m\u001b[0m\n",
      "\u001b[0;31mAttributeError\u001b[0m: 'Dataset' object has no attribute 'geobox'"
     ]
    }
   ],
   "source": [
    "VegPolygons = features.shapes(AllDataCombined['veg_randomUID'].data.astype('float32'),\n",
    "                              transform=AllDataCombined.geobox.transform)\n",
    "\n",
    "PolygonGP = gpd.GeoDataFrame(VegPolygons, columns =['stringgeom', 'vegUID'])\n",
    "\n",
    "PolygonGP['geometry'] = None\n",
    "for ix, poly in PolygonGP.iterrows():\n",
    "    PolygonGP.loc[ix,'geometry'] = shape(poly[0])\n",
    "    \n",
    "# Set the geometry of the dataframe to be the shapely geometry we just created\n",
    "PolygonGP = PolygonGP.set_geometry('geometry')\n",
    "# We need to add the crs back onto the dataframe\n",
    "PolygonGP.crs = 'EPSG:3577'\n",
    "\n",
    "# Drop the nan polygon created from the nan values\n",
    "PolygonGP = PolygonGP.loc[~np.isnan(PolygonGP['vegUID'])]\n",
    "\n",
    "# And drop the stringgeom\n",
    "PolygonGP.drop('stringgeom', axis=1, inplace=True)"
   ]
  },
  {
   "cell_type": "code",
   "execution_count": 200,
   "metadata": {},
   "outputs": [
    {
     "data": {
      "image/png": "[encoded data removed]",
      "text/plain": [
       "<Figure size 432x288 with 1 Axes>"
      ]
     },
     "metadata": {
      "needs_background": "light"
     },
     "output_type": "display_data"
    }
   ],
   "source": [
    "PolygonGP.plot(column='vegUID');"
   ]
  },
  {
   "cell_type": "markdown",
   "metadata": {},
   "source": [
    "### Drop small vegetation polygons\n",
    "\n",
    "We want to limit the number of small polygons in the analysis, so we calculate the area of each polygon and drop polygons smaller than 10 Landsat pixels `(25 * 25 * 10) = 6250`. "
   ]
  },
  {
   "cell_type": "code",
   "execution_count": 175,
   "metadata": {},
   "outputs": [],
   "source": [
    "PolygonGP['area'] = PolygonGP['geometry'].area"
   ]
  },
  {
   "cell_type": "code",
   "execution_count": 194,
   "metadata": {},
   "outputs": [
    {
     "name": "stdout",
     "output_type": "stream",
     "text": [
      "Number of original polygons = 96\n",
      "Number of filtered polygons = 47\n"
     ]
    }
   ],
   "source": [
    "# Drop small polygons\n",
    "print(f'Number of original polygons = {len(PolygonGP)}')\n",
    "PolygonGPfiltered = PolygonGP.loc[PolygonGP['area'] >= 6250].reset_index()\n",
    "print(f'Number of filtered polygons = {len(PolygonGPfiltered)}')"
   ]
  },
  {
   "cell_type": "markdown",
   "metadata": {},
   "source": [
    "## 1. Maps of inundation extent across the time period 2014-2019\n",
    "\n",
    "**to start, annual max inundation for 2014-2020**\n",
    "\n",
    "Inundation extent for each month across the time period. (This could be presented so that you can slide along a hydrograph and see the resultant inundation extent on a map below. This should also identify key vegetation types). These maps should also include key vegetation types, including open water"
   ]
  },
  {
   "cell_type": "markdown",
   "metadata": {},
   "source": [
    "## 2. Maps of inundation extent for each vegetation type for each event \n",
    "\n",
    "An event comprises the time between commencement of inundation of the vegetation type and conclusion of inundation of the vegetation type i.e. vegetation type completely dry. Sort by events for critical durations: 1, 3, 5, 7, > 9 months."
   ]
  },
  {
   "cell_type": "markdown",
   "metadata": {},
   "source": [
    "### 2.a. Comparison of remotely sensed data maps with ground-truthed data and OEH datasets \n",
    "\n",
    "(NSW only)"
   ]
  },
  {
   "cell_type": "markdown",
   "metadata": {},
   "source": [
    "## 3. Maps of depth for critical durations\n",
    "\n",
    "Only if DEM data is available within GA or supplied by CEWO (1, 3, 5, 7, >9 months)"
   ]
  },
  {
   "cell_type": "markdown",
   "metadata": {},
   "source": [
    "## 4. Vegetation condition over the entire four year period"
   ]
  },
  {
   "cell_type": "markdown",
   "metadata": {},
   "source": [
    "## 5. Graph and .csv file of inundation duration for each different vegetation type\n",
    "For all natural and environmental flows"
   ]
  },
  {
   "cell_type": "code",
   "execution_count": 9,
   "metadata": {},
   "outputs": [],
   "source": [
    "# Create a dataframe to put our results into, starting with the time\n",
    "InundationPctPerVeg = pd.DataFrame({'Date': AllDataCombined.time})\n",
    "# Make the time the index for the dataframe\n",
    "InundationPctPerVeg.set_index('Date', inplace=True)\n",
    "\n",
    "# Loop through all the vegetation communities\n",
    "for items in SpeciesDict:\n",
    "    # Grab just the pixels containing our veg community\n",
    "    WetVeg = AllDataCombined['wetCount'].where(AllDataCombined['veg_randomUID'] == items)\n",
    "    # Count the number of wet observations per time step\n",
    "    WetVegCount = WetVeg.sum(dim=['x', 'y'])\n",
    "    # Convert the count to a percentage of the total community that's wet\n",
    "    WetVegPct = (WetVegCount / (AllDataCombined['veg_randomUID'] == items).sum()) * 100\n",
    "    InundationPctPerVeg[SpeciesDict[items]] = WetVegPct"
   ]
  },
  {
   "cell_type": "code",
   "execution_count": 10,
   "metadata": {},
   "outputs": [
    {
     "data": {
      "image/png": "[encoded data removed]",
      "text/plain": [
       "<Figure size 1080x360 with 1 Axes>"
      ]
     },
     "metadata": {
      "needs_background": "light"
     },
     "output_type": "display_data"
    }
   ],
   "source": [
    "InundationPctPerVeg.plot(figsize=[15,5]);\n",
    "plt.ylabel(f'% of total community inundated', fontsize = 12);\n",
    "plt.title(f'Time history of vegetation inundation for {AnalysisLocation}', fontsize = 14, fontweight = 'bold');\n",
    "plt.savefig(InundationPctPerVegFigFileName, bbox_inches='tight')"
   ]
  },
  {
   "cell_type": "markdown",
   "metadata": {},
   "source": [
    "### Save out the data as a csv file"
   ]
  },
  {
   "cell_type": "code",
   "execution_count": 13,
   "metadata": {},
   "outputs": [],
   "source": [
    "InundationPctPerVeg.to_csv(InundationPctPerVegDataFileName)"
   ]
  },
  {
   "cell_type": "markdown",
   "metadata": {},
   "source": [
    "## 6. Table identifying: \n",
    "* % of different vegetation classes inundated for each specified time period for each event and maximum and average depth of inundation.\n",
    "* Time between each inundation event for 10%, 25%, 50%, 75% and 100% of each vegetation type \n",
    "e.g. \n",
    "\n",
    "| Site | Sub-site | Decade | Vegetation Type | % inundated 1 month | % inundated 3 months | % inundated 5 months | % inundated 7 months | % inundated > 9 months | Max depth | Average depth |\n",
    "|-----|----|----|----|----|----|----|----|----|----|----|"
   ]
  },
  {
   "cell_type": "markdown",
   "metadata": {},
   "source": [
    "### Identify 'events' within the wetland\n",
    "\n",
    "Here an 'event' starts when 5% of the total wetland area seen as wet, and ends when no more than 5% of the wetland remains 'wet'. "
   ]
  },
  {
   "cell_type": "code",
   "execution_count": 11,
   "metadata": {},
   "outputs": [],
   "source": [
    "# Count the wet pixels per time step, and find where at least 5% of the wetland is 'wet'\n",
    "AnyPartWet = AllDataCombined['wetCount'].sum(dim=['x', 'y']) > ((len(AllDataCombined.x) * len(AllDataCombined.y)) / 100 * EventThreshold)"
   ]
  },
  {
   "cell_type": "markdown",
   "metadata": {},
   "source": [
    "Find where the wetland switches above/below 5% inundation. We can do this by looking for changes in the boolean operators"
   ]
  },
  {
   "cell_type": "code",
   "execution_count": 12,
   "metadata": {},
   "outputs": [],
   "source": [
    "# Subtract subsequent value from first value\n",
    "Testforchange = AnyPartWet[1:].values.astype(int) - AnyPartWet[:-1].values.astype(int)\n",
    "# if it equals 1, then the array has moved from False to True\n",
    "StartofEvent = AnyPartWet[1:].where(Testforchange == 1).dropna(dim='time')\n",
    "# if it equals -1, then the array has moved from True to False\n",
    "EndofEvent = AnyPartWet[1:].where(Testforchange == -1).dropna(dim='time')"
   ]
  },
  {
   "cell_type": "markdown",
   "metadata": {},
   "source": [
    "Make use of pandas datetime operators to calculate the length of time between each start and end date. \n",
    "\n",
    "*TO DO: this is not yet coded for times when we have a final start date but no end date i.e. the event hasn't been observed to end yet.*"
   ]
  },
  {
   "cell_type": "code",
   "execution_count": 13,
   "metadata": {},
   "outputs": [],
   "source": [
    "# We need to check whether the wetland is first observed during a wet event. \n",
    "# If it is, then the first value we actually find is an end date, which throws off our calculation.\n",
    "# Code notation notes:\n",
    "#`astype('timedelta64[D]')` converts the timedelta from `ns` to `days`. \n",
    "#`/ np.timedelta64(1, 'D')` removes the timedelta information and just returns the number of days as a float.\n",
    "if (EndofEvent.time.values[0] - StartofEvent.time.values[0]).astype('timedelta64[D]') / np.timedelta64(1, 'D') < 0:\n",
    "    # Skip the first EndofEvent, since we didn't capture the start\n",
    "    EventDuration = (EndofEvent.time.values[1:] - StartofEvent.time.values).astype('timedelta64[D]') / np.timedelta64(1, 'D')\n",
    "else:\n",
    "    EventDuration = (EndofEvent.time.values - StartofEvent.time.values).astype('timedelta64[D]') / np.timedelta64(1, 'D')"
   ]
  },
  {
   "cell_type": "markdown",
   "metadata": {},
   "source": [
    "Convert the results into a dataframe so we can export to csv"
   ]
  },
  {
   "cell_type": "code",
   "execution_count": 14,
   "metadata": {},
   "outputs": [],
   "source": [
    "EventList = pd.DataFrame(EventDuration.astype(int),  \n",
    "                         columns = ['days-in-event'])\n",
    "EventList['event-start-date'] = StartofEvent.time.dt.strftime('%Y-%m-%d').values.astype(str)\n",
    "EventList['event-end-date'] = EndofEvent.time.dt.strftime('%Y-%m-%d').values.astype(str)\n",
    "\n",
    "EventList.to_csv(EventListFileName)"
   ]
  },
  {
   "cell_type": "markdown",
   "metadata": {},
   "source": [
    "### We need to set up a dataframe to put the results into"
   ]
  },
  {
   "cell_type": "code",
   "execution_count": 15,
   "metadata": {},
   "outputs": [],
   "source": [
    "# Create a dataframe to put our results into, starting with the time\n",
    "EventInundationTable = pd.concat([EventList]*len(SpeciesDict)).sort_values(by='event-start-date', ignore_index=True)\n",
    "EventInundationTable['vegType'] = list(SpeciesDict.values())* len(EventList)\n",
    "EventInundationTable['PctInundated>=30days'] = np.nan\n",
    "EventInundationTable['PctInundated>=90days'] = np.nan\n",
    "EventInundationTable['PctInundated>=150days'] = np.nan\n",
    "EventInundationTable['PctInundated>=210days'] = np.nan\n",
    "EventInundationTable['PctInundated>=270days'] = np.nan"
   ]
  },
  {
   "cell_type": "code",
   "execution_count": 16,
   "metadata": {},
   "outputs": [
    {
     "data": {
      "text/html": [
       "<div>\n",
       "<style scoped>\n",
       "    .dataframe tbody tr th:only-of-type {\n",
       "        vertical-align: middle;\n",
       "    }\n",
       "\n",
       "    .dataframe tbody tr th {\n",
       "        vertical-align: top;\n",
       "    }\n",
       "\n",
       "    .dataframe thead th {\n",
       "        text-align: right;\n",
       "    }\n",
       "</style>\n",
       "<table border=\"1\" class=\"dataframe\">\n",
       "  <thead>\n",
       "    <tr style=\"text-align: right;\">\n",
       "      <th></th>\n",
       "      <th>days-in-event</th>\n",
       "      <th>event-start-date</th>\n",
       "      <th>event-end-date</th>\n",
       "      <th>vegType</th>\n",
       "      <th>PctInundated&gt;=30days</th>\n",
       "      <th>PctInundated&gt;=90days</th>\n",
       "      <th>PctInundated&gt;=150days</th>\n",
       "      <th>PctInundated&gt;=210days</th>\n",
       "      <th>PctInundated&gt;=270days</th>\n",
       "    </tr>\n",
       "  </thead>\n",
       "  <tbody>\n",
       "    <tr>\n",
       "      <th>0</th>\n",
       "      <td>231</td>\n",
       "      <td>1988-03-10</td>\n",
       "      <td>1988-10-27</td>\n",
       "      <td>riperian open forest</td>\n",
       "      <td>NaN</td>\n",
       "      <td>NaN</td>\n",
       "      <td>NaN</td>\n",
       "      <td>NaN</td>\n",
       "      <td>NaN</td>\n",
       "    </tr>\n",
       "    <tr>\n",
       "      <th>1</th>\n",
       "      <td>231</td>\n",
       "      <td>1988-03-10</td>\n",
       "      <td>1988-10-27</td>\n",
       "      <td>terrestrial woodland</td>\n",
       "      <td>NaN</td>\n",
       "      <td>NaN</td>\n",
       "      <td>NaN</td>\n",
       "      <td>NaN</td>\n",
       "      <td>NaN</td>\n",
       "    </tr>\n",
       "    <tr>\n",
       "      <th>2</th>\n",
       "      <td>231</td>\n",
       "      <td>1988-03-10</td>\n",
       "      <td>1988-10-27</td>\n",
       "      <td>ephemeral herbfields</td>\n",
       "      <td>NaN</td>\n",
       "      <td>NaN</td>\n",
       "      <td>NaN</td>\n",
       "      <td>NaN</td>\n",
       "      <td>NaN</td>\n",
       "    </tr>\n",
       "    <tr>\n",
       "      <th>3</th>\n",
       "      <td>231</td>\n",
       "      <td>1988-03-10</td>\n",
       "      <td>1988-10-27</td>\n",
       "      <td>lignum</td>\n",
       "      <td>NaN</td>\n",
       "      <td>NaN</td>\n",
       "      <td>NaN</td>\n",
       "      <td>NaN</td>\n",
       "      <td>NaN</td>\n",
       "    </tr>\n",
       "    <tr>\n",
       "      <th>4</th>\n",
       "      <td>231</td>\n",
       "      <td>1988-03-10</td>\n",
       "      <td>1988-10-27</td>\n",
       "      <td>cannonball - copperb</td>\n",
       "      <td>NaN</td>\n",
       "      <td>NaN</td>\n",
       "      <td>NaN</td>\n",
       "      <td>NaN</td>\n",
       "      <td>NaN</td>\n",
       "    </tr>\n",
       "    <tr>\n",
       "      <th>5</th>\n",
       "      <td>167</td>\n",
       "      <td>1989-04-30</td>\n",
       "      <td>1989-10-14</td>\n",
       "      <td>riperian open forest</td>\n",
       "      <td>NaN</td>\n",
       "      <td>NaN</td>\n",
       "      <td>NaN</td>\n",
       "      <td>NaN</td>\n",
       "      <td>NaN</td>\n",
       "    </tr>\n",
       "  </tbody>\n",
       "</table>\n",
       "</div>"
      ],
      "text/plain": [
       "   days-in-event event-start-date event-end-date               vegType  \\\n",
       "0            231       1988-03-10     1988-10-27  riperian open forest   \n",
       "1            231       1988-03-10     1988-10-27  terrestrial woodland   \n",
       "2            231       1988-03-10     1988-10-27  ephemeral herbfields   \n",
       "3            231       1988-03-10     1988-10-27                lignum   \n",
       "4            231       1988-03-10     1988-10-27  cannonball - copperb   \n",
       "5            167       1989-04-30     1989-10-14  riperian open forest   \n",
       "\n",
       "   PctInundated>=30days  PctInundated>=90days  PctInundated>=150days  \\\n",
       "0                   NaN                   NaN                    NaN   \n",
       "1                   NaN                   NaN                    NaN   \n",
       "2                   NaN                   NaN                    NaN   \n",
       "3                   NaN                   NaN                    NaN   \n",
       "4                   NaN                   NaN                    NaN   \n",
       "5                   NaN                   NaN                    NaN   \n",
       "\n",
       "   PctInundated>=210days  PctInundated>=270days  \n",
       "0                    NaN                    NaN  \n",
       "1                    NaN                    NaN  \n",
       "2                    NaN                    NaN  \n",
       "3                    NaN                    NaN  \n",
       "4                    NaN                    NaN  \n",
       "5                    NaN                    NaN  "
      ]
     },
     "execution_count": 16,
     "metadata": {},
     "output_type": "execute_result"
    }
   ],
   "source": [
    "EventInundationTable.head(6)"
   ]
  },
  {
   "cell_type": "markdown",
   "metadata": {},
   "source": [
    "### Now calculate the % inundation of each vegetation category per event\n",
    "\n",
    "Here, the analysis is done on a per event basis. This means that we assume that if a single pixels wets, dries, wets etc more than once, it's all related to the same wetland-wide event (which is defined above). \n",
    "\n",
    "The code below loops through each species type within the wetland, and calculates the percentage of that species' area that is inundated for more than 30, 90, 150, 210 and 270 days during the whole event. If a single pixel records a wetting history of e.g. 5 days wet, then is dry for 5 days, then wet for 45 days, then we consider this pixel to have been wet for 50 days during this event. \n",
    "\n",
    "Metrics for wet percentage for the 30, 90, 150, 210 and 270 day periods are calculated using >= each period. For example, a pixel that was wet for 110 days during an event will be counted in the 30 and 90 day metrics, but not the 150 day metric. "
   ]
  },
  {
   "cell_type": "code",
   "execution_count": 17,
   "metadata": {
    "collapsed": true,
    "jupyter": {
     "outputs_hidden": true
    }
   },
   "outputs": [
    {
     "name": "stderr",
     "output_type": "stream",
     "text": [
      "/env/lib/python3.6/site-packages/ipykernel_launcher.py:41: RuntimeWarning: invalid value encountered in greater_equal\n",
      "/env/lib/python3.6/site-packages/ipykernel_launcher.py:42: RuntimeWarning: invalid value encountered in greater_equal\n",
      "/env/lib/python3.6/site-packages/ipykernel_launcher.py:43: RuntimeWarning: invalid value encountered in greater_equal\n",
      "/env/lib/python3.6/site-packages/ipykernel_launcher.py:44: RuntimeWarning: invalid value encountered in greater_equal\n",
      "/env/lib/python3.6/site-packages/ipykernel_launcher.py:45: RuntimeWarning: invalid value encountered in greater_equal\n"
     ]
    },
    {
     "ename": "KeyboardInterrupt",
     "evalue": "",
     "output_type": "error",
     "traceback": [
      "\u001b[0;31m---------------------------------------------------------------------------\u001b[0m",
      "\u001b[0;31mKeyboardInterrupt\u001b[0m                         Traceback (most recent call last)",
      "\u001b[0;32m<ipython-input-17-53271d3ea3f2>\u001b[0m in \u001b[0;36m<module>\u001b[0;34m\u001b[0m\n\u001b[1;32m     12\u001b[0m         \u001b[0;32mfor\u001b[0m \u001b[0mx\u001b[0m \u001b[0;32min\u001b[0m \u001b[0mrange\u001b[0m\u001b[0;34m(\u001b[0m\u001b[0mlen\u001b[0m\u001b[0;34m(\u001b[0m\u001b[0mEventData\u001b[0m\u001b[0;34m.\u001b[0m\u001b[0mx\u001b[0m\u001b[0;34m)\u001b[0m\u001b[0;34m)\u001b[0m\u001b[0;34m:\u001b[0m\u001b[0;34m\u001b[0m\u001b[0;34m\u001b[0m\u001b[0m\n\u001b[1;32m     13\u001b[0m             \u001b[0;32mfor\u001b[0m \u001b[0my\u001b[0m \u001b[0;32min\u001b[0m \u001b[0mrange\u001b[0m\u001b[0;34m(\u001b[0m\u001b[0mlen\u001b[0m\u001b[0;34m(\u001b[0m\u001b[0mEventData\u001b[0m\u001b[0;34m.\u001b[0m\u001b[0my\u001b[0m\u001b[0;34m)\u001b[0m\u001b[0;34m)\u001b[0m\u001b[0;34m:\u001b[0m\u001b[0;34m\u001b[0m\u001b[0;34m\u001b[0m\u001b[0m\n\u001b[0;32m---> 14\u001b[0;31m                 \u001b[0mpixelArray\u001b[0m\u001b[0;34m=\u001b[0m\u001b[0mEventData\u001b[0m\u001b[0;34m[\u001b[0m\u001b[0;34m:\u001b[0m\u001b[0;34m,\u001b[0m\u001b[0my\u001b[0m\u001b[0;34m,\u001b[0m\u001b[0mx\u001b[0m\u001b[0;34m]\u001b[0m\u001b[0;34m\u001b[0m\u001b[0;34m\u001b[0m\u001b[0m\n\u001b[0m\u001b[1;32m     15\u001b[0m                 \u001b[0;31m# test whether this pixel is just all NaN - if it is, we don't need to analyse it\u001b[0m\u001b[0;34m\u001b[0m\u001b[0;34m\u001b[0m\u001b[0;34m\u001b[0m\u001b[0m\n\u001b[1;32m     16\u001b[0m                 \u001b[0;32mif\u001b[0m \u001b[0mpixelArray\u001b[0m\u001b[0;34m.\u001b[0m\u001b[0msum\u001b[0m\u001b[0;34m(\u001b[0m\u001b[0;34m)\u001b[0m \u001b[0;34m>\u001b[0m \u001b[0;36m0\u001b[0m\u001b[0;34m:\u001b[0m\u001b[0;34m\u001b[0m\u001b[0;34m\u001b[0m\u001b[0m\n",
      "\u001b[0;32m/env/lib/python3.6/site-packages/xarray/core/dataarray.py\u001b[0m in \u001b[0;36m__getitem__\u001b[0;34m(self, key)\u001b[0m\n\u001b[1;32m    629\u001b[0m         \u001b[0;32melse\u001b[0m\u001b[0;34m:\u001b[0m\u001b[0;34m\u001b[0m\u001b[0;34m\u001b[0m\u001b[0m\n\u001b[1;32m    630\u001b[0m             \u001b[0;31m# xarray-style array indexing\u001b[0m\u001b[0;34m\u001b[0m\u001b[0;34m\u001b[0m\u001b[0;34m\u001b[0m\u001b[0m\n\u001b[0;32m--> 631\u001b[0;31m             \u001b[0;32mreturn\u001b[0m \u001b[0mself\u001b[0m\u001b[0;34m.\u001b[0m\u001b[0misel\u001b[0m\u001b[0;34m(\u001b[0m\u001b[0mindexers\u001b[0m\u001b[0;34m=\u001b[0m\u001b[0mself\u001b[0m\u001b[0;34m.\u001b[0m\u001b[0m_item_key_to_dict\u001b[0m\u001b[0;34m(\u001b[0m\u001b[0mkey\u001b[0m\u001b[0;34m)\u001b[0m\u001b[0;34m)\u001b[0m\u001b[0;34m\u001b[0m\u001b[0;34m\u001b[0m\u001b[0m\n\u001b[0m\u001b[1;32m    632\u001b[0m \u001b[0;34m\u001b[0m\u001b[0m\n\u001b[1;32m    633\u001b[0m     \u001b[0;32mdef\u001b[0m \u001b[0m__setitem__\u001b[0m\u001b[0;34m(\u001b[0m\u001b[0mself\u001b[0m\u001b[0;34m,\u001b[0m \u001b[0mkey\u001b[0m\u001b[0;34m:\u001b[0m \u001b[0mAny\u001b[0m\u001b[0;34m,\u001b[0m \u001b[0mvalue\u001b[0m\u001b[0;34m:\u001b[0m \u001b[0mAny\u001b[0m\u001b[0;34m)\u001b[0m \u001b[0;34m->\u001b[0m \u001b[0;32mNone\u001b[0m\u001b[0;34m:\u001b[0m\u001b[0;34m\u001b[0m\u001b[0;34m\u001b[0m\u001b[0m\n",
      "\u001b[0;32m/env/lib/python3.6/site-packages/xarray/core/dataarray.py\u001b[0m in \u001b[0;36misel\u001b[0;34m(self, indexers, drop, **indexers_kwargs)\u001b[0m\n\u001b[1;32m   1003\u001b[0m         \"\"\"\n\u001b[1;32m   1004\u001b[0m         \u001b[0mindexers\u001b[0m \u001b[0;34m=\u001b[0m \u001b[0meither_dict_or_kwargs\u001b[0m\u001b[0;34m(\u001b[0m\u001b[0mindexers\u001b[0m\u001b[0;34m,\u001b[0m \u001b[0mindexers_kwargs\u001b[0m\u001b[0;34m,\u001b[0m \u001b[0;34m\"isel\"\u001b[0m\u001b[0;34m)\u001b[0m\u001b[0;34m\u001b[0m\u001b[0;34m\u001b[0m\u001b[0m\n\u001b[0;32m-> 1005\u001b[0;31m         \u001b[0;32mif\u001b[0m \u001b[0many\u001b[0m\u001b[0;34m(\u001b[0m\u001b[0mis_fancy_indexer\u001b[0m\u001b[0;34m(\u001b[0m\u001b[0midx\u001b[0m\u001b[0;34m)\u001b[0m \u001b[0;32mfor\u001b[0m \u001b[0midx\u001b[0m \u001b[0;32min\u001b[0m \u001b[0mindexers\u001b[0m\u001b[0;34m.\u001b[0m\u001b[0mvalues\u001b[0m\u001b[0;34m(\u001b[0m\u001b[0;34m)\u001b[0m\u001b[0;34m)\u001b[0m\u001b[0;34m:\u001b[0m\u001b[0;34m\u001b[0m\u001b[0;34m\u001b[0m\u001b[0m\n\u001b[0m\u001b[1;32m   1006\u001b[0m             \u001b[0mds\u001b[0m \u001b[0;34m=\u001b[0m \u001b[0mself\u001b[0m\u001b[0;34m.\u001b[0m\u001b[0m_to_temp_dataset\u001b[0m\u001b[0;34m(\u001b[0m\u001b[0;34m)\u001b[0m\u001b[0;34m.\u001b[0m\u001b[0m_isel_fancy\u001b[0m\u001b[0;34m(\u001b[0m\u001b[0mindexers\u001b[0m\u001b[0;34m,\u001b[0m \u001b[0mdrop\u001b[0m\u001b[0;34m=\u001b[0m\u001b[0mdrop\u001b[0m\u001b[0;34m)\u001b[0m\u001b[0;34m\u001b[0m\u001b[0;34m\u001b[0m\u001b[0m\n\u001b[1;32m   1007\u001b[0m             \u001b[0;32mreturn\u001b[0m \u001b[0mself\u001b[0m\u001b[0;34m.\u001b[0m\u001b[0m_from_temp_dataset\u001b[0m\u001b[0;34m(\u001b[0m\u001b[0mds\u001b[0m\u001b[0;34m)\u001b[0m\u001b[0;34m\u001b[0m\u001b[0;34m\u001b[0m\u001b[0m\n",
      "\u001b[0;32m/env/lib/python3.6/site-packages/xarray/core/dataarray.py\u001b[0m in \u001b[0;36m<genexpr>\u001b[0;34m(.0)\u001b[0m\n\u001b[1;32m   1003\u001b[0m         \"\"\"\n\u001b[1;32m   1004\u001b[0m         \u001b[0mindexers\u001b[0m \u001b[0;34m=\u001b[0m \u001b[0meither_dict_or_kwargs\u001b[0m\u001b[0;34m(\u001b[0m\u001b[0mindexers\u001b[0m\u001b[0;34m,\u001b[0m \u001b[0mindexers_kwargs\u001b[0m\u001b[0;34m,\u001b[0m \u001b[0;34m\"isel\"\u001b[0m\u001b[0;34m)\u001b[0m\u001b[0;34m\u001b[0m\u001b[0;34m\u001b[0m\u001b[0m\n\u001b[0;32m-> 1005\u001b[0;31m         \u001b[0;32mif\u001b[0m \u001b[0many\u001b[0m\u001b[0;34m(\u001b[0m\u001b[0mis_fancy_indexer\u001b[0m\u001b[0;34m(\u001b[0m\u001b[0midx\u001b[0m\u001b[0;34m)\u001b[0m \u001b[0;32mfor\u001b[0m \u001b[0midx\u001b[0m \u001b[0;32min\u001b[0m \u001b[0mindexers\u001b[0m\u001b[0;34m.\u001b[0m\u001b[0mvalues\u001b[0m\u001b[0;34m(\u001b[0m\u001b[0;34m)\u001b[0m\u001b[0;34m)\u001b[0m\u001b[0;34m:\u001b[0m\u001b[0;34m\u001b[0m\u001b[0;34m\u001b[0m\u001b[0m\n\u001b[0m\u001b[1;32m   1006\u001b[0m             \u001b[0mds\u001b[0m \u001b[0;34m=\u001b[0m \u001b[0mself\u001b[0m\u001b[0;34m.\u001b[0m\u001b[0m_to_temp_dataset\u001b[0m\u001b[0;34m(\u001b[0m\u001b[0;34m)\u001b[0m\u001b[0;34m.\u001b[0m\u001b[0m_isel_fancy\u001b[0m\u001b[0;34m(\u001b[0m\u001b[0mindexers\u001b[0m\u001b[0;34m,\u001b[0m \u001b[0mdrop\u001b[0m\u001b[0;34m=\u001b[0m\u001b[0mdrop\u001b[0m\u001b[0;34m)\u001b[0m\u001b[0;34m\u001b[0m\u001b[0;34m\u001b[0m\u001b[0m\n\u001b[1;32m   1007\u001b[0m             \u001b[0;32mreturn\u001b[0m \u001b[0mself\u001b[0m\u001b[0;34m.\u001b[0m\u001b[0m_from_temp_dataset\u001b[0m\u001b[0;34m(\u001b[0m\u001b[0mds\u001b[0m\u001b[0;34m)\u001b[0m\u001b[0;34m\u001b[0m\u001b[0;34m\u001b[0m\u001b[0m\n",
      "\u001b[0;31mKeyboardInterrupt\u001b[0m: "
     ]
    }
   ],
   "source": [
    "# Make an empty array to put the event results in to\n",
    "EventResults = np.empty((len(AllDataCombined.y), len(AllDataCombined.x)))\n",
    "EventResults[:] = np.nan\n",
    "\n",
    "# Loop through all the vegetation communities\n",
    "for items in SpeciesDict:\n",
    "    # Loop through all the individual wetting events\n",
    "    for ix, row in EventList.iterrows():\n",
    "        # Grab just the wet pixels that intersect with our veg type (boolean)\n",
    "        JustOneVegTypeWet = AllDataCombined['wetCount'].where(AllDataCombined['veg_randomUID'] == items)\n",
    "        # Grab just the time slices that coincide with the event we're now analysing\n",
    "        EventData = JustOneVegTypeWet.loc[slice(row['event-start-date'], row['event-end-date'])]\n",
    "        # Now loop through each pixel and work out how long it was inundated for during the event\n",
    "        for x in range(len(EventData.x)):\n",
    "            for y in range(len(EventData.y)):\n",
    "                pixelArray=EventData[:,y,x]\n",
    "                # test whether this pixel is just all NaN - if it is, we don't need to analyse it\n",
    "                if pixelArray.sum() > 0:\n",
    "                    # Subtract subsequent value from first value\n",
    "                    Testforchange = pixelArray[1:].values.astype(int) - pixelArray[:-1].values.astype(int)\n",
    "                    # if it equals 1, then the array has moved from False to True\n",
    "                    StartofEvent = pixelArray[:-1].where(Testforchange == 1).dropna(dim='time')\n",
    "                    # if it equals -1, then the array has moved from True to False\n",
    "                    EndofEvent = pixelArray[1:].where(Testforchange == -1).dropna(dim='time')\n",
    "                    # We need to check whether we've captured the start of the event properly\n",
    "                    # If the event starts as wet at time zero, we wont capture this in the code below\n",
    "                    # Because we know that time 0 of this event is the start of the wetland-wide event,\n",
    "                    # we can just add time 0 as the first start date.\n",
    "                    if pixelArray[0] == 1:\n",
    "                        # Grab the first time step of the event and add it to the StartofEvent array\n",
    "                        StartofEvent = np.hstack((pixelArray.time.values[0], StartofEvent.time.values))\n",
    "                    else:\n",
    "                        # If not, just change the format of the StartofEvent variable to match the changed one\n",
    "                        StartofEvent = StartofEvent.time.values\n",
    "                    # Also need to check if we've captured the end of the event properly\n",
    "                    # If the event ends with a wet observation, we wont capture this in the code below\n",
    "                    # Because we know that time -1 of this event is the end of the wetland-wide event,\n",
    "                    # we can just add time -1 as the last end date.\n",
    "                    if pixelArray[-1] == 1:\n",
    "                        # Then the event wont 'end' since it wont have flipped\n",
    "                        EndofEvent = np.hstack((pixelArray.time.values[-1], EndofEvent.time.values))\n",
    "                    else:\n",
    "                        # If not, just change the format of the EndofEvent variable to match the changed one\n",
    "                        EndofEvent = EndofEvent.time.values\n",
    "                    # Now calculate the length of time between the inundation events within the overall wetland event\n",
    "                    EventDuration = (EndofEvent - StartofEvent).astype('timedelta64[D]') / np.timedelta64(1, 'D')\n",
    "                    # Sum the total inundation time\n",
    "                    EventResults[y,x] = EventDuration.sum()\n",
    "    # Now sum up the number of pixels inundated for each time period\n",
    "    # Get the index of the row we need to put the results into\n",
    "    indexofrow = EventInundationTable.loc[(EventInundationTable['event-start-date'] == row['event-start-date']) \n",
    "                         & (EventInundationTable['vegType'] == SpeciesDict[items])].index.item()\n",
    "    # Calculate the percent of each vegetation community inundated for the various lengths of time\n",
    "    EventInundationTable.at[indexofrow,'PctInundated>=30days'] = ((EventResults >=30).sum() / \n",
    "                                                                  (AllDataCombined['veg_randomUID'] == items).sum().item()) * 100\n",
    "    EventInundationTable.at[indexofrow,'PctInundated>=90days'] = ((EventResults >=90).sum() / \n",
    "                                                                  (AllDataCombined['veg_randomUID'] == items).sum().item()) * 100\n",
    "    EventInundationTable.at[indexofrow,'PctInundated>=150days'] = ((EventResults >=150).sum() / \n",
    "                                                                   (AllDataCombined['veg_randomUID'] == items).sum().item()) * 100\n",
    "    EventInundationTable.at[indexofrow,'PctInundated>=210days'] = ((EventResults >=210).sum() / \n",
    "                                                                   (AllDataCombined['veg_randomUID'] == items).sum().item()) * 100\n",
    "    EventInundationTable.at[indexofrow,'PctInundated>=270days'] = ((EventResults >=270).sum() / \n",
    "                                                                   (AllDataCombined['veg_randomUID'] == items).sum().item()) * 100"
   ]
  },
  {
   "cell_type": "code",
   "execution_count": 30,
   "metadata": {},
   "outputs": [
    {
     "data": {
      "text/html": [
       "<div>\n",
       "<style scoped>\n",
       "    .dataframe tbody tr th:only-of-type {\n",
       "        vertical-align: middle;\n",
       "    }\n",
       "\n",
       "    .dataframe tbody tr th {\n",
       "        vertical-align: top;\n",
       "    }\n",
       "\n",
       "    .dataframe thead th {\n",
       "        text-align: right;\n",
       "    }\n",
       "</style>\n",
       "<table border=\"1\" class=\"dataframe\">\n",
       "  <thead>\n",
       "    <tr style=\"text-align: right;\">\n",
       "      <th></th>\n",
       "      <th>days-in-event</th>\n",
       "      <th>event-start-date</th>\n",
       "      <th>event-end-date</th>\n",
       "      <th>vegType</th>\n",
       "      <th>PctInundated&gt;=30days</th>\n",
       "      <th>PctInundated&gt;=90days</th>\n",
       "      <th>PctInundated&gt;=150days</th>\n",
       "      <th>PctInundated&gt;=210days</th>\n",
       "      <th>PctInundated&gt;=270days</th>\n",
       "    </tr>\n",
       "  </thead>\n",
       "  <tbody>\n",
       "    <tr>\n",
       "      <th>0</th>\n",
       "      <td>231</td>\n",
       "      <td>1988-03-10</td>\n",
       "      <td>1988-10-27</td>\n",
       "      <td>riperian open forest</td>\n",
       "      <td>NaN</td>\n",
       "      <td>NaN</td>\n",
       "      <td>NaN</td>\n",
       "      <td>NaN</td>\n",
       "      <td>NaN</td>\n",
       "    </tr>\n",
       "    <tr>\n",
       "      <th>1</th>\n",
       "      <td>231</td>\n",
       "      <td>1988-03-10</td>\n",
       "      <td>1988-10-27</td>\n",
       "      <td>terrestrial woodland</td>\n",
       "      <td>NaN</td>\n",
       "      <td>NaN</td>\n",
       "      <td>NaN</td>\n",
       "      <td>NaN</td>\n",
       "      <td>NaN</td>\n",
       "    </tr>\n",
       "    <tr>\n",
       "      <th>2</th>\n",
       "      <td>231</td>\n",
       "      <td>1988-03-10</td>\n",
       "      <td>1988-10-27</td>\n",
       "      <td>ephemeral herbfields</td>\n",
       "      <td>NaN</td>\n",
       "      <td>NaN</td>\n",
       "      <td>NaN</td>\n",
       "      <td>NaN</td>\n",
       "      <td>NaN</td>\n",
       "    </tr>\n",
       "    <tr>\n",
       "      <th>3</th>\n",
       "      <td>231</td>\n",
       "      <td>1988-03-10</td>\n",
       "      <td>1988-10-27</td>\n",
       "      <td>lignum</td>\n",
       "      <td>NaN</td>\n",
       "      <td>NaN</td>\n",
       "      <td>NaN</td>\n",
       "      <td>NaN</td>\n",
       "      <td>NaN</td>\n",
       "    </tr>\n",
       "    <tr>\n",
       "      <th>4</th>\n",
       "      <td>231</td>\n",
       "      <td>1988-03-10</td>\n",
       "      <td>1988-10-27</td>\n",
       "      <td>cannonball - copperb</td>\n",
       "      <td>NaN</td>\n",
       "      <td>NaN</td>\n",
       "      <td>NaN</td>\n",
       "      <td>NaN</td>\n",
       "      <td>NaN</td>\n",
       "    </tr>\n",
       "    <tr>\n",
       "      <th>5</th>\n",
       "      <td>167</td>\n",
       "      <td>1989-04-30</td>\n",
       "      <td>1989-10-14</td>\n",
       "      <td>riperian open forest</td>\n",
       "      <td>NaN</td>\n",
       "      <td>NaN</td>\n",
       "      <td>NaN</td>\n",
       "      <td>NaN</td>\n",
       "      <td>NaN</td>\n",
       "    </tr>\n",
       "  </tbody>\n",
       "</table>\n",
       "</div>"
      ],
      "text/plain": [
       "   days-in-event event-start-date event-end-date               vegType  \\\n",
       "0            231       1988-03-10     1988-10-27  riperian open forest   \n",
       "1            231       1988-03-10     1988-10-27  terrestrial woodland   \n",
       "2            231       1988-03-10     1988-10-27  ephemeral herbfields   \n",
       "3            231       1988-03-10     1988-10-27                lignum   \n",
       "4            231       1988-03-10     1988-10-27  cannonball - copperb   \n",
       "5            167       1989-04-30     1989-10-14  riperian open forest   \n",
       "\n",
       "   PctInundated>=30days  PctInundated>=90days  PctInundated>=150days  \\\n",
       "0                   NaN                   NaN                    NaN   \n",
       "1                   NaN                   NaN                    NaN   \n",
       "2                   NaN                   NaN                    NaN   \n",
       "3                   NaN                   NaN                    NaN   \n",
       "4                   NaN                   NaN                    NaN   \n",
       "5                   NaN                   NaN                    NaN   \n",
       "\n",
       "   PctInundated>=210days  PctInundated>=270days  \n",
       "0                    NaN                    NaN  \n",
       "1                    NaN                    NaN  \n",
       "2                    NaN                    NaN  \n",
       "3                    NaN                    NaN  \n",
       "4                    NaN                    NaN  \n",
       "5                    NaN                    NaN  "
      ]
     },
     "execution_count": 30,
     "metadata": {},
     "output_type": "execute_result"
    }
   ],
   "source": [
    "EventInundationTable.head(6)"
   ]
  },
  {
   "cell_type": "code",
   "execution_count": 24,
   "metadata": {},
   "outputs": [],
   "source": [
    "EventInundationTable.to_csv(EventInundationTableFileName)"
   ]
  },
  {
   "cell_type": "markdown",
   "metadata": {},
   "source": [
    "## 7. Annual vegetation condition for each Ramsar site for the whole archive period"
   ]
  },
  {
   "cell_type": "code",
   "execution_count": null,
   "metadata": {},
   "outputs": [],
   "source": []
  }
 ],
 "metadata": {
  "kernelspec": {
   "display_name": "Python 3",
   "language": "python",
   "name": "python3"
  },
  "language_info": {
   "codemirror_mode": {
    "name": "ipython",
    "version": 3
   },
   "file_extension": ".py",
   "mimetype": "text/x-python",
   "name": "python",
   "nbconvert_exporter": "python",
   "pygments_lexer": "ipython3",
   "version": "3.6.9"
  }
 },
 "nbformat": 4,
 "nbformat_minor": 4
}
