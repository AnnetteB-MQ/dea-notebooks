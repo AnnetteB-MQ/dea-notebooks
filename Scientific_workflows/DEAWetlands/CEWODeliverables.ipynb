{
 "cells": [
  {
   "cell_type": "markdown",
   "metadata": {},
   "source": [
    "# Wetland water depth visualisation <img align=\"right\" src=\"../../Supplementary_data/dea_logo.jpg\">\n",
    "\n",
    "* **Compatability:** Notebook currently compatible with the `NCI` and `DEA Sandbox` environment \n",
    "* **Products used:** \n",
    "* **Special requirements:** \n",
    "* **Prerequisites:** This notebook assumes you have previously run the [WetlandWaterDepthAnalyses.ipynb](./WetlandWaterDepthAnalyses.ipynb) notebook and saved out a netCDF file containing all the variables at the end of the notebook. A csv file containing the daily maximum water discharge of a relevant stream gauge is also required. The gauge data can be downloaded via the Bureau of Meteorology's [Water Data Online](http://www.bom.gov.au/waterdata/) portal."
   ]
  },
  {
   "cell_type": "markdown",
   "metadata": {},
   "source": [
    "## Background\n",
    "The Commonwealth Environmental Water Office (CEWO) is obliged to act in accordance with the Water Act and the Basin Plan.  This requires Basin water resources to be managed in a way that gives effect to relevant international agreements (to the extent to which those agreements are relevant to the use and management of the Basin water resources). The Basin Plan has a specific objective to protect and restore a subset of all water-dependent ecosystems of the Murray-Darling Bain including by ensuring that: \n",
    "* Declared Ramsar wetlands that depend on Basin water resources maintain their ecological character. "
   ]
  },
  {
   "cell_type": "markdown",
   "metadata": {},
   "source": [
    "## Description\n",
    "This notebook produces the following deliverables for each Ramsar site for each 10 year time period: \n",
    "\n",
    "* Maps in the form of .jpg, polygons and rasters showing: (these maps should also include key vegetation types, including open water, as provided by the CEWO and also the Ramsar site boundary.)\n",
    "    1. Inundation extent for each month across the time period. (This could be presented so that you can slide along a hydrograph and see the resultant inundation extent on a map below. This should also identify key vegetation types. \n",
    "    2. Inundation extent for each vegetation type for each event (an event comprises the time between commencement of inundation of the vegetation type and conclusion of inundation of the vegetation type i.e. vegetation type completely dry) across the period event for critical durations (1, 3, 5, 7, >9 months)(these inundation extents are critical for different types of vegetation) \n",
    "        * Derived from remote sensing <img align='right' src=\"./InputData/TOR-AttachmentA.png\" style=\"width: 400px;\"/>\n",
    "        2.a. Comparison of remotely sensed data with ground-truthed data and OEH datasets (NSW only). \n",
    "    3. Maps of depth for critical durations, only if DEM data is available within GA or supplied by CEWO (1, 3, 5, 7, >9 months)  \n",
    "    4. Vegetation condition over the entire four year period. \n",
    "5. Graph and .csv file of inundation duration for each different vegetation type, for all natural and environmental flows, as per image to the right\n",
    "6. Table identifying: \n",
    "    * % of different vegetation classes inundated for each specified time period for each event and maximum and average depth of inundation.\n",
    "    * Time between each inundation event for 10%, 25%, 50%, 75% and 100% of each vegetation type \n",
    "e.g. \n",
    "\n",
    "| Site | Sub-site | Decade | Vegetation Type | % inundated 1 month | % inundated 3 months | % inundated 5 months | % inundated 7 months | % inundated > 9 months | Max depth | Average depth |\n",
    "|-----|----|----|----|----|----|----|----|----|----|----|\n",
    "|Banrock Station | | |River redgum | | | | | | |\n",
    "| | | |Black box | | | | | | |\n",
    "| | | |Lignum| | | | | | |\n",
    "| | | |Saltmarsh| | | | | | |\n",
    "| | | |Tall emergent aquatics| | | | | | |\n",
    "| | | |Grass/forb | | | | | | |\n",
    "\n",
    "\n",
    "7. Annual vegetation condition for each Ramsar site for the whole archive period\n",
    "***"
   ]
  },
  {
   "cell_type": "markdown",
   "metadata": {},
   "source": [
    "## Code assumptions\n",
    "\n",
    "A few assumptions and decisions were made within the code that affect the outcome of the results:\n",
    "1. Maps of inundation extent across the time period 2014-2019\n",
    "2. Maps of inundation extent for each vegetation type for each event\n",
    "    a. Comparison of remotely sensed data maps with ground-truthed data and OEH datasets \n",
    "3. Maps of depth for critical durations\n",
    "4. Vegetation condition over the entire four year period\n",
    "5. Graph and .csv file of inundation duration for each different vegetation type\n",
    "6. Table identifying % of different vegetation classes inundated for each specified time period for each event and maximum and average depth of inundation and Time between each inundation event for 10%, 25%, 50%, 75% and 100% of each vegetation type\n",
    "    - Events were defined as starting when at least `EventThreshold`(defined below)% of the total wetland area is seen as wet, and ends when no more than `EventThreshold`% of the wetland remains 'wet'. \n",
    "    - If the first time a wetland is observed by Landsat 5 (1986/7), the wetland meets the event threshold, we choose NOT to include this event in the list of events\n",
    "        - We don't know how long the wetland was wet before we first observed it, and so can't provide uncertainties on event duration, so we do not include it in the results\n",
    "    - For analysis of inundation WITHIN an event, we assume that if a single pixels wets, dries, wets etc more than once, it's all related to the same wetland-wide event (which is defined above). e.g. If a pixel has a within event inundation history of 5 days wet, then is dry for 5 days, then wet for 45 days, then we consider this pixel to have been wet for 50 days during this event. \n",
    "    - We use days to define the requested metric periods, so 1 month = 30 days, 3 months = 90 days etc.\n",
    "    - Metrics for wet percentage for the 30, 90, 150, 210 and 270 day periods are calculated using >= each period. For example, a pixel that was wet for 110 days during an event will be counted in the 30 and 90 day metrics, but not the 150 day metric. \n",
    "    - The 90th, 75th, 50th, 25th and 1st percentiles are used to determine the duration of inundation of at least 10/25/50/75/100% of the wetland vegetation community. \n",
    "    - The percentiles function uses a 'nearest' filter for determining the percentiles. e.g. If the 10th percentile is 50, but the values in the array are only 49 and 53, then the 10th percentile is returned as 49, since it's closer to 50. This way we make sure the percentiles reflect a real, observed value. \n",
    "    - Results for the duration of different percentages of inundation are presented in days. \n",
    "7. Annual vegetation condition for each Ramsar site for the whole archive period"
   ]
  },
  {
   "cell_type": "markdown",
   "metadata": {},
   "source": [
    "## (Progress tracking)\n",
    "\n",
    "| Wetland | LiDAR DEM | Vegetation shapefile | NetCDF created? | \n",
    "|---------|-----------|----------------------|-----------------|\n",
    "| Narran Lake | <ul><li>Data are a combination of [GA's aggregated 5m DEM product](https://ecat.ga.gov.au/geonetwork/srv/eng/catalog.search#/metadata/89644), and NSW Spatial Services 5m DEM scenes from the couple of bits of the eastern edge of the Ramsar polygon that are cut out of the GA product</li><li>The combination happened by clipping the GA and required additional NSW scenes to the extent of the Ramsar polygon.</li><li> These were then merged together using the `mosaic` tool in ArcGIS, where the GA scene was given preference over the NSW scenes where data existed in both</li></ul>  | `VegShapeFileVegNameColumn = 'AggCOMM'` `VegShapeFileVegNameUIDColumn = None` | Yes |\n",
    "\n",
    "***"
   ]
  },
  {
   "cell_type": "markdown",
   "metadata": {},
   "source": [
    "## Getting started\n",
    "\n",
    "Provide any particular instructions that the user might need, e.g. To run this analysis, run all the cells in the notebook, starting with the \"Load packages\" cell. "
   ]
  },
  {
   "cell_type": "markdown",
   "metadata": {},
   "source": [
    "### Load packages\n",
    "Import Python packages that are used for the analysis.\n",
    "\n",
    "Use standard import commands; some are shown below. \n",
    "Begin with any `iPython` magic commands, followed by standard Python packages, then any additional functionality you need from the `Scripts` directory."
   ]
  },
  {
   "cell_type": "code",
   "execution_count": 1,
   "metadata": {},
   "outputs": [],
   "source": [
    "%matplotlib inline\n",
    "import matplotlib.pyplot as plt\n",
    "import seaborn as sns\n",
    "\n",
    "import sys\n",
    "import xarray as xr\n",
    "import numpy as np\n",
    "import pandas as pd\n",
    "from rasterio import features, transform\n",
    "import geopandas as gpd\n",
    "from shapely.geometry import shape"
   ]
  },
  {
   "cell_type": "markdown",
   "metadata": {},
   "source": [
    "### Analysis parameters\n",
    "\n",
    "* `AnalysisLocation`: A string descriptor of the analysis region used to label graphs.\n",
    "* `StreamGaugeName`: A string name of the stream gauge used in the analysis, used to label graphs.\n",
    "\n",
    "#### Files to analyse\n",
    "* `DatasetToLoad`: The filename of the netCDF written out by the [first notebook](./WetlandWaterDepthAnalyses.ipynb) to read in here. Note that this file must have been written out by the first notebook, as we assume the variables created in that notebook exist here. If you try to read in something else, this code will fail.\n",
    "* `SpeciesDictToLoad`: The filename of the text file written out by the [first notebook](./WetlandWaterDepthAnalyses.ipynb) that contains the species dictionary of vegetation type and numerical ID. This is used to label plots.\n",
    "* `StreamGaugeToLoad`: The filename of a csv file containing the daily maximum water discharge of a relevant stream gauge. The gauge data can be downloaded via the Bureau of Meteorology's [Water Data Online](http://www.bom.gov.au/waterdata/) portal. The code below assumes that commented lines begin with `#`. \n",
    "\n",
    "#### Analysis options\n",
    "* `EventThreshold`: e.g. 5. Used to determine the threshold for starting/ending a watering event. Watering events are defined as starting when at least `EventThreshold`(defined below)% of the total wetland area is seen as wet, and ends when no more than `EventThreshold`% of the wetland remains 'wet'. If the wetland completely dries out between events, set this threshold low e.g. 5. If the wetland contains refugial pools that rarely dry out, a wet event may need to be defined using a higher threshold. \n",
    "* `AreasToCalc`: e.g. [0.1, 0.25, 0.50, 0.75, 0.100]. A list of numbers of the decimal vegetation area thresholds to calculate. E.g. 0.1 will calculate a value for 10% of the vegetation area. These are used in section 6 below.\n",
    "\n",
    "#### Output filenames\n",
    "\n",
    "##### Section 5\n",
    "* `InundationPctPerVegFigFileName`: e.g. string.jpg Output file name for the all time vegetation community based inundation plot.\n",
    "* `InundationPctPerVegDataFileName`: e.g. string.txt Output file name for the all time vegetation community based inundation csv.\n",
    "\n",
    "##### Section 6\n",
    "* `EventListFileName`: e.g. string.txt Output file name for the start and end dates and duration of each defined watering event.\n",
    "* `EventInundationTableFileName`: e.g. string.txt Output file name for the event-based inundation % metrics for each vegetation community.\n",
    "* `EventDurationTableFileName` : e.g. string.txt Output file name for the event-based duration metrics for each vegetation community."
   ]
  },
  {
   "cell_type": "code",
   "execution_count": 30,
   "metadata": {},
   "outputs": [],
   "source": [
    "# Note, if your `AnalysisLocation` contains special characters other than spaces, you will\n",
    "# need to modify the `replace` function used to generate the output file names.\n",
    "AnalysisLocation = 'Narran Lake'\n",
    "StreamGaugeName = 'Wilby Wilby'\n",
    "\n",
    "DatasetToLoad = f'OutputData/Narran/AllDataCombined{AnalysisLocation.replace(\" \", \"\")}.nc'\n",
    "SpeciesDictToLoad = f'OutputData/Narran/SpeciesDict{AnalysisLocation.replace(\" \", \"\")}.txt'\n",
    "StreamGaugeToLoad = 'InputData/NarranLake/Narran_WilbyWilby_422016DailyMax.csv'\n",
    "RamsarBoundaryFile = 'InputData/NarranLake/NarranRamsarBoundary.shp'\n",
    "\n",
    "EventThreshold = 5\n",
    "AreasToCalc = [0.1, 0.25, 0.50, 0.75, 1]\n",
    "\n",
    "OutSaveLocation = 'OutputData/Narran/'\n",
    "# Outputs for section 5\n",
    "InundationPctPerVegFigFileName = f'{OutSaveLocation}InundationPctPerVeg{AnalysisLocation.replace(\" \", \"\")}.jpg'\n",
    "InundationPctPerVegDataFileName = f'{OutSaveLocation}InundationPctPerVeg{AnalysisLocation.replace(\" \", \"\")}.txt'\n",
    "# Outputs for section 6\n",
    "EventListFileName = f'{OutSaveLocation}WetEventsIn{AnalysisLocation.replace(\" \", \"\")}With{str(EventThreshold)}%AreaThreshold.txt'\n",
    "EventInundationTableFileName = f'{OutSaveLocation}EventInundationMetricsFor{AnalysisLocation.replace(\" \", \"\")}.txt'\n",
    "EventDurationTableFileName = f'{OutSaveLocation}EventDurationMetricsFor{AnalysisLocation.replace(\" \", \"\")}.txt'"
   ]
  },
  {
   "cell_type": "markdown",
   "metadata": {},
   "source": [
    "## Load in our pre-analysed datasets"
   ]
  },
  {
   "cell_type": "code",
   "execution_count": 3,
   "metadata": {},
   "outputs": [],
   "source": [
    "AllDataCombined = xr.open_dataset(DatasetToLoad)"
   ]
  },
  {
   "cell_type": "markdown",
   "metadata": {},
   "source": [
    "We need to create a transform object from our dataset so that we can do some of the code calculations later on."
   ]
  },
  {
   "cell_type": "code",
   "execution_count": 4,
   "metadata": {},
   "outputs": [],
   "source": [
    "AllDataCombined.attrs['transform'] = transform.from_bounds(AllDataCombined.x.min().item(),\n",
    "                                                           AllDataCombined.y.min().item(), \n",
    "                                                           AllDataCombined.x.max().item(), \n",
    "                                                           AllDataCombined.y.max().item(),\n",
    "                                                           len(AllDataCombined.x),\n",
    "                                                           len(AllDataCombined.y)\n",
    "                                                          )"
   ]
  },
  {
   "cell_type": "markdown",
   "metadata": {},
   "source": [
    "We also need to load in the species dictionary we saved out"
   ]
  },
  {
   "cell_type": "code",
   "execution_count": 5,
   "metadata": {},
   "outputs": [],
   "source": [
    "with open(SpeciesDictToLoad, 'r') as f: \n",
    "    content = f.read()\n",
    "    SpeciesDict = eval(content)"
   ]
  },
  {
   "cell_type": "markdown",
   "metadata": {},
   "source": [
    "We need to regenerate the order of vegetation communities by mean HAND, and then match up that order with the `SpeciesDict` to get the tick labels."
   ]
  },
  {
   "cell_type": "code",
   "execution_count": 6,
   "metadata": {},
   "outputs": [],
   "source": [
    "# Now recalculate our median HAND values and sort the data based on this\n",
    "MedianHAND = AllDataCombined.HAND.groupby(AllDataCombined['veg_randomUID']).median()\n",
    "myorder = MedianHAND.sortby(MedianHAND)['veg_randomUID'].values"
   ]
  },
  {
   "cell_type": "code",
   "execution_count": 7,
   "metadata": {},
   "outputs": [],
   "source": [
    "# Grab the correct vegetation labels in the right order\n",
    "XTickNames = []\n",
    "for vegvalue in myorder:\n",
    "    VegName = SpeciesDict[int(vegvalue)]\n",
    "    # Check how long the veg name is and if it's longer than 20 char, shorten.\n",
    "    if len(VegName) > 20:\n",
    "        XTickNames.append(VegName[:20])\n",
    "    else:\n",
    "        XTickNames.append(VegName)"
   ]
  },
  {
   "cell_type": "markdown",
   "metadata": {},
   "source": [
    "Read in the Ramsar boundary shapefile"
   ]
  },
  {
   "cell_type": "code",
   "execution_count": 8,
   "metadata": {},
   "outputs": [],
   "source": [
    "RamsarBoundary = gpd.read_file(RamsarBoundaryFile)\n",
    "RamsarBoundary = RamsarBoundary.to_crs(AllDataCombined.crs)"
   ]
  },
  {
   "cell_type": "code",
   "execution_count": 9,
   "metadata": {},
   "outputs": [
    {
     "data": {
      "image/png": "[encoded data removed]",
      "text/plain": [
       "<Figure size 432x288 with 1 Axes>"
      ]
     },
     "metadata": {
      "needs_background": "light"
     },
     "output_type": "display_data"
    }
   ],
   "source": [
    "RamsarBoundary.geometry.boundary.plot(color=None,edgecolor='k',linewidth = 2);"
   ]
  },
  {
   "cell_type": "markdown",
   "metadata": {},
   "source": [
    "## Break up the vegetation data into discrete communities\n",
    "\n",
    "While we can subset our area of interest according to vegetation type, there is likely to be a spatial component to the inundation characteristics of different sub communities within a vegetation class. \n",
    "\n",
    "We therefore polygonise the vegetation data (you could just read in the original polygon shapefile, but since the data are already here and mapped to Landsat pixels, we'll polygonise the raster), and remove any very small vegetation communites (smaller than 10 landsat pixels). These different polygons will allow us to explore the spatial heterogeneities in the vegetation wetness characteristics. "
   ]
  },
  {
   "cell_type": "code",
   "execution_count": 10,
   "metadata": {},
   "outputs": [],
   "source": [
    "VegPolygons = features.shapes(AllDataCombined['veg_randomUID'].data.astype('float32'),\n",
    "                              transform=AllDataCombined.attrs['transform'])\n",
    "\n",
    "PolygonGP = gpd.GeoDataFrame(VegPolygons, columns =['stringgeom', 'vegUID'])\n",
    "\n",
    "PolygonGP['geometry'] = None\n",
    "for ix, poly in PolygonGP.iterrows():\n",
    "    PolygonGP.loc[ix,'geometry'] = shape(poly[0])\n",
    "    \n",
    "# Set the geometry of the dataframe to be the shapely geometry we just created\n",
    "PolygonGP = PolygonGP.set_geometry('geometry')\n",
    "# We need to add the crs back onto the dataframe\n",
    "PolygonGP.crs = 'EPSG:3577'\n",
    "\n",
    "# Drop the nan polygon created from the nan values\n",
    "PolygonGP = PolygonGP.loc[~np.isnan(PolygonGP['vegUID'])]\n",
    "\n",
    "# And drop the stringgeom\n",
    "PolygonGP.drop('stringgeom', axis=1, inplace=True)"
   ]
  },
  {
   "cell_type": "code",
   "execution_count": 11,
   "metadata": {},
   "outputs": [
    {
     "data": {
      "image/png": "[encoded data removed]",
      "text/plain": [
       "<Figure size 432x288 with 1 Axes>"
      ]
     },
     "metadata": {
      "needs_background": "light"
     },
     "output_type": "display_data"
    }
   ],
   "source": [
    "PolygonGP.plot(column='vegUID');"
   ]
  },
  {
   "cell_type": "markdown",
   "metadata": {},
   "source": [
    "### Drop small vegetation polygons\n",
    "\n",
    "We want to limit the number of small polygons in the analysis, so we calculate the area of each polygon and drop polygons smaller than 10 Landsat pixels `(25 * 25 * 10) = 6250`. "
   ]
  },
  {
   "cell_type": "code",
   "execution_count": 12,
   "metadata": {},
   "outputs": [],
   "source": [
    "PolygonGP['area'] = PolygonGP['geometry'].area"
   ]
  },
  {
   "cell_type": "code",
   "execution_count": 13,
   "metadata": {},
   "outputs": [
    {
     "name": "stdout",
     "output_type": "stream",
     "text": [
      "Number of original polygons = 96\n",
      "Number of filtered polygons = 47\n"
     ]
    }
   ],
   "source": [
    "# Drop small polygons\n",
    "print(f'Number of original polygons = {len(PolygonGP)}')\n",
    "PolygonGPfiltered = PolygonGP.loc[PolygonGP['area'] >= 6250].reset_index()\n",
    "print(f'Number of filtered polygons = {len(PolygonGPfiltered)}')"
   ]
  },
  {
   "cell_type": "markdown",
   "metadata": {},
   "source": [
    "### Identify 'events' within the wetland\n",
    "\n",
    "Here an 'event' starts when `EventThreshold`% of the total wetland area seen as wet, and ends when no more than `EventThreshold`% of the wetland remains 'wet'. "
   ]
  },
  {
   "cell_type": "code",
   "execution_count": 14,
   "metadata": {},
   "outputs": [],
   "source": [
    "# Count the wet pixels per time step, and find where at least 5% of the wetland is 'wet'\n",
    "AnyPartWet = AllDataCombined['wetCount'].sum(dim=['x', 'y']) > ((len(AllDataCombined.x) * len(AllDataCombined.y)) / 100 * EventThreshold)"
   ]
  },
  {
   "cell_type": "markdown",
   "metadata": {},
   "source": [
    "Find where the wetland switches above/below `EventThreshold`% inundation. We can do this by looking for changes in the boolean operators"
   ]
  },
  {
   "cell_type": "code",
   "execution_count": 15,
   "metadata": {},
   "outputs": [],
   "source": [
    "# Subtract subsequent value from first value\n",
    "Testforchange = AnyPartWet[1:].values.astype(int) - AnyPartWet[:-1].values.astype(int)\n",
    "# if it equals 1, then the array has moved from False to True\n",
    "StartofEvent = AnyPartWet[1:].where(Testforchange == 1).dropna(dim='time')\n",
    "# if it equals -1, then the array has moved from True to False\n",
    "EndofEvent = AnyPartWet[1:].where(Testforchange == -1).dropna(dim='time')"
   ]
  },
  {
   "cell_type": "markdown",
   "metadata": {},
   "source": [
    "### Check whether the wetland was wet when it was first observed (1986/7), and when it was last observed (most recent observation)\n",
    "\n",
    "If the first time a wetland is observed by Landsat 5 (1986/7), the wetland meets the event threshold, we choose NOT to include this event in the list of events. We don't know for how long the wetland was wet before we first observed it, and so can't provide uncertainties on event duration, so we do not include it in the results.\n",
    "\n",
    "If the wetland has been wet up until the most recent observation, we DO include this event, and for the sake of calculating the event duration, we set the most recent observation as the end date. This will change as the code is run over new data and eventually the event will be observed to end itself."
   ]
  },
  {
   "cell_type": "code",
   "execution_count": 16,
   "metadata": {},
   "outputs": [],
   "source": [
    "# We need to check whether the wetland is first observed during a wet event. \n",
    "# If it is, then the first value we actually find is an end date, which throws off our calculation.\n",
    "if AnyPartWet[0] == 1:\n",
    "    # Skip the first EndofEvent, since we didn't capture the start and so can't say \n",
    "    EndofEvent = EndofEvent[1:]\n",
    "\n",
    "# Also need to check if we've captured the end of the event properly\n",
    "# If the event ends with a wet observation, we wont capture this in the code below\n",
    "# Because we know that time -1 of this event is the end of the wetland-wide event,\n",
    "# we can just add time -1 as the last end date.\n",
    "if AnyPartWet[-1] == 1:\n",
    "    # Then the event wont 'end' since it wont have flipped\n",
    "    EndofEvent = np.hstack((AnyPartWet[-1], EndofEvent))"
   ]
  },
  {
   "cell_type": "markdown",
   "metadata": {},
   "source": [
    "Make use of pandas datetime operators to calculate the length of time between each start and end date. "
   ]
  },
  {
   "cell_type": "code",
   "execution_count": 17,
   "metadata": {},
   "outputs": [],
   "source": [
    "# Now calculate the length of time between the inundation events within the overall wetland event\n",
    "# Code notation notes:\n",
    "#`astype('timedelta64[D]')` converts the timedelta from `ns` to `days`. \n",
    "#`/ np.timedelta64(1, 'D')` removes the timedelta information and just returns the number of days as a float.\n",
    "EventDuration = (EndofEvent.time.values - StartofEvent.time.values).astype('timedelta64[D]') / np.timedelta64(1, 'D')"
   ]
  },
  {
   "cell_type": "markdown",
   "metadata": {},
   "source": [
    "Convert the results into a dataframe so we can export to csv"
   ]
  },
  {
   "cell_type": "code",
   "execution_count": 18,
   "metadata": {},
   "outputs": [],
   "source": [
    "EventList = pd.DataFrame(EventDuration.astype(int),  \n",
    "                         columns = ['days-in-event'])\n",
    "EventList['event-start-date'] = StartofEvent.time.dt.strftime('%Y-%m-%d').values.astype(str)\n",
    "EventList['event-end-date'] = EndofEvent.time.dt.strftime('%Y-%m-%d').values.astype(str)\n",
    "\n",
    "EventList.to_csv(EventListFileName)"
   ]
  },
  {
   "cell_type": "markdown",
   "metadata": {},
   "source": [
    "### Plot event-based counts of vegetation community inundation"
   ]
  },
  {
   "cell_type": "markdown",
   "metadata": {},
   "source": [
    "## 1. Maps of inundation extent across the time period 2014-2019\n",
    "\n",
    "**to start, annual max inundation for 2014-2020**\n",
    "\n",
    "Inundation extent for each month across the time period. (This could be presented so that you can slide along a hydrograph and see the resultant inundation extent on a map below. This should also identify key vegetation types). These maps should also include key vegetation types, including open water"
   ]
  },
  {
   "cell_type": "markdown",
   "metadata": {},
   "source": [
    "## 2. Maps of inundation extent for each vegetation type for each event \n",
    "\n",
    "An event comprises the time between commencement of inundation of the vegetation type and conclusion of inundation of the vegetation type i.e. vegetation type completely dry. Sort by events for critical durations: 1, 3, 5, 7, > 9 months."
   ]
  },
  {
   "cell_type": "code",
   "execution_count": 19,
   "metadata": {},
   "outputs": [
    {
     "name": "stdout",
     "output_type": "stream",
     "text": [
      "Working on event starting 1988-03-10\n",
      "Working on event starting 1989-04-30\n",
      "Working on event starting 1989-12-01\n",
      "Working on event starting 1990-05-03\n",
      "Working on event starting 1991-03-19\n",
      "Working on event starting 1994-03-11\n",
      "Working on event starting 1995-01-25\n",
      "Working on event starting 1995-12-27\n",
      "Working on event starting 1997-03-03\n",
      "Working on event starting 1998-03-06\n",
      "Working on event starting 1999-03-09\n",
      "Working on event starting 2000-03-19\n",
      "Working on event starting 2000-12-16\n",
      "Working on event starting 2004-02-10\n",
      "Working on event starting 2004-03-29\n",
      "Working on event starting 2004-04-30\n",
      "Working on event starting 2008-01-29\n",
      "Working on event starting 2010-03-23\n",
      "Working on event starting 2010-10-24\n",
      "Working on event starting 2013-04-17\n"
     ]
    },
    {
     "data": {
      "text/plain": [
       "<Figure size 864x720 with 0 Axes>"
      ]
     },
     "metadata": {},
     "output_type": "display_data"
    },
    {
     "data": {
      "text/plain": [
       "<Figure size 864x720 with 0 Axes>"
      ]
     },
     "metadata": {},
     "output_type": "display_data"
    },
    {
     "data": {
      "text/plain": [
       "<Figure size 864x720 with 0 Axes>"
      ]
     },
     "metadata": {},
     "output_type": "display_data"
    },
    {
     "data": {
      "text/plain": [
       "<Figure size 864x720 with 0 Axes>"
      ]
     },
     "metadata": {},
     "output_type": "display_data"
    },
    {
     "data": {
      "text/plain": [
       "<Figure size 864x720 with 0 Axes>"
      ]
     },
     "metadata": {},
     "output_type": "display_data"
    },
    {
     "data": {
      "text/plain": [
       "<Figure size 864x720 with 0 Axes>"
      ]
     },
     "metadata": {},
     "output_type": "display_data"
    },
    {
     "data": {
      "text/plain": [
       "<Figure size 864x720 with 0 Axes>"
      ]
     },
     "metadata": {},
     "output_type": "display_data"
    },
    {
     "data": {
      "text/plain": [
       "<Figure size 864x720 with 0 Axes>"
      ]
     },
     "metadata": {},
     "output_type": "display_data"
    },
    {
     "data": {
      "text/plain": [
       "<Figure size 864x720 with 0 Axes>"
      ]
     },
     "metadata": {},
     "output_type": "display_data"
    },
    {
     "data": {
      "text/plain": [
       "<Figure size 864x720 with 0 Axes>"
      ]
     },
     "metadata": {},
     "output_type": "display_data"
    },
    {
     "data": {
      "text/plain": [
       "<Figure size 864x720 with 0 Axes>"
      ]
     },
     "metadata": {},
     "output_type": "display_data"
    },
    {
     "data": {
      "text/plain": [
       "<Figure size 864x720 with 0 Axes>"
      ]
     },
     "metadata": {},
     "output_type": "display_data"
    },
    {
     "data": {
      "text/plain": [
       "<Figure size 864x720 with 0 Axes>"
      ]
     },
     "metadata": {},
     "output_type": "display_data"
    },
    {
     "data": {
      "text/plain": [
       "<Figure size 864x720 with 0 Axes>"
      ]
     },
     "metadata": {},
     "output_type": "display_data"
    },
    {
     "data": {
      "text/plain": [
       "<Figure size 864x720 with 0 Axes>"
      ]
     },
     "metadata": {},
     "output_type": "display_data"
    },
    {
     "data": {
      "text/plain": [
       "<Figure size 864x720 with 0 Axes>"
      ]
     },
     "metadata": {},
     "output_type": "display_data"
    },
    {
     "data": {
      "text/plain": [
       "<Figure size 864x720 with 0 Axes>"
      ]
     },
     "metadata": {},
     "output_type": "display_data"
    },
    {
     "data": {
      "text/plain": [
       "<Figure size 864x720 with 0 Axes>"
      ]
     },
     "metadata": {},
     "output_type": "display_data"
    },
    {
     "data": {
      "text/plain": [
       "<Figure size 864x720 with 0 Axes>"
      ]
     },
     "metadata": {},
     "output_type": "display_data"
    },
    {
     "data": {
      "text/plain": [
       "<Figure size 864x720 with 0 Axes>"
      ]
     },
     "metadata": {},
     "output_type": "display_data"
    }
   ],
   "source": [
    "Colormaps = ['Blues', 'YlOrBr', 'Greens', 'Purples', 'Reds']\n",
    "for ix, row in EventList.iterrows():\n",
    "    print(f'Working on event starting {row[\"event-start-date\"]}')\n",
    "    # Grab just the time slices that coincide with the event we're now analysing\n",
    "    EventData = AllDataCombined['wetCount'].loc[slice(row['event-start-date'], row['event-end-date'])]\n",
    "    WetCounts = EventData.sum(dim='time')\n",
    "    EventCounts = WetCounts.where(WetCounts > 0)\n",
    "    fig, ax = plt.subplots(1,1, figsize=[12, 10]);\n",
    "    RamsarBoundary.geometry.boundary.plot(color=None,edgecolor='k',linewidth = 2, ax=ax);\n",
    "    AxLocation = 0.05\n",
    "    fig.subplots_adjust(right=0.8);\n",
    "    for ix, items in enumerate(SpeciesDict):\n",
    "        PlotData = EventCounts.where(AllDataCombined['veg_randomUID'] == items);\n",
    "        h = ax.pcolormesh(PlotData.x, PlotData.y, PlotData, cmap=Colormaps[ix], vmin=0, vmax=EventCounts.max());\n",
    "        AxLocation = AxLocation + 0.15\n",
    "        # add_axes([left, bottom, width, height])\n",
    "        cbar_ax = fig.add_axes([0.85, AxLocation, 0.2, 0.05]);\n",
    "        fig.colorbar(h, cax=cbar_ax, label=SpeciesDict[items], orientation='horizontal');\n",
    "    ax.ticklabel_format(useOffset=False, style='plain');\n",
    "    ax.set_ylabel('Latitude (EPSG:3577)', fontsize=14);\n",
    "    ax.set_xlabel('Longitude (EPSG:3577)', fontsize=14);\n",
    "    ax.set_title(f'Wet pixel counts for {AnalysisLocation} {row[\"days-in-event\"]} day event starting {row[\"event-start-date\"]}', \n",
    "                 fontsize=16, fontweight='bold');\n",
    "    fig.savefig(f'{OutSaveLocation}EventMaps/{AnalysisLocation}Event{row[\"event-start-date\"]}', \n",
    "                bbox_inches='tight');\n",
    "    fig.clear();"
   ]
  },
  {
   "cell_type": "markdown",
   "metadata": {},
   "source": [
    "### 2.a. Comparison of remotely sensed data maps with ground-truthed data and OEH datasets \n",
    "\n",
    "(NSW only)"
   ]
  },
  {
   "cell_type": "markdown",
   "metadata": {},
   "source": [
    "## 3. Maps of depth for critical durations\n",
    "\n",
    "Only if DEM data is available within GA or supplied by CEWO (1, 3, 5, 7, >9 months)"
   ]
  },
  {
   "cell_type": "markdown",
   "metadata": {},
   "source": [
    "## 4. Vegetation condition over the entire four year period"
   ]
  },
  {
   "cell_type": "markdown",
   "metadata": {},
   "source": [
    "## 5. Graph and .csv file of inundation duration for each different vegetation type\n",
    "For all natural and environmental flows"
   ]
  },
  {
   "cell_type": "markdown",
   "metadata": {},
   "source": [
    "### Read in the relevant stream gauge\n",
    "\n",
    "Convert the timestamp to a pandas datetime object"
   ]
  },
  {
   "cell_type": "code",
   "execution_count": 20,
   "metadata": {},
   "outputs": [],
   "source": [
    "# Read in the relevant streamgauge data\n",
    "StreamGaugeData = pd.read_csv(StreamGaugeToLoad, parse_dates=True, comment='#')\n",
    "# Turn the Timestamp into a padas dateime object\n",
    "StreamGaugeData['Timestamp'] = pd.to_datetime(StreamGaugeData['Timestamp'])"
   ]
  },
  {
   "cell_type": "markdown",
   "metadata": {},
   "source": [
    "### Calculate the percentage of each vegetation community inundated across all time"
   ]
  },
  {
   "cell_type": "code",
   "execution_count": 21,
   "metadata": {},
   "outputs": [],
   "source": [
    "# Create a dataframe to put our results into, starting with the time\n",
    "InundationPctPerVeg = pd.DataFrame({'Date': AllDataCombined.time})\n",
    "# Make the time the index for the dataframe\n",
    "InundationPctPerVeg.set_index('Date', inplace=True)\n",
    "\n",
    "# Loop through all the vegetation communities\n",
    "for items in SpeciesDict:\n",
    "    # Grab just the pixels containing our veg community\n",
    "    WetVeg = AllDataCombined['wetCount'].where(AllDataCombined['veg_randomUID'] == items)\n",
    "    # Count the number of wet observations per time step\n",
    "    WetVegCount = WetVeg.sum(dim=['x', 'y'])\n",
    "    # Convert the count to a percentage of the total community that's wet\n",
    "    WetVegPct = (WetVegCount / (AllDataCombined['veg_randomUID'] == items).sum()) * 100\n",
    "    InundationPctPerVeg[SpeciesDict[items]] = WetVegPct"
   ]
  },
  {
   "cell_type": "markdown",
   "metadata": {},
   "source": [
    "### Save the results to csv, and plot against the stream gauge"
   ]
  },
  {
   "cell_type": "code",
   "execution_count": 22,
   "metadata": {},
   "outputs": [],
   "source": [
    "InundationPctPerVeg.to_csv(InundationPctPerVegDataFileName)"
   ]
  },
  {
   "cell_type": "code",
   "execution_count": 23,
   "metadata": {},
   "outputs": [
    {
     "data": {
      "image/png": "[encoded data removed]",
      "text/plain": [
       "<Figure size 1080x576 with 2 Axes>"
      ]
     },
     "metadata": {
      "needs_background": "light"
     },
     "output_type": "display_data"
    }
   ],
   "source": [
    "fig, axes = plt.subplots(2,1, figsize=(15,8));\n",
    "axes[0].plot(InundationPctPerVeg);\n",
    "axes[0].set_ylabel(f'% of total community inundated', fontsize = 12);\n",
    "axes[0].set_title(f'Time history of vegetation inundation for {AnalysisLocation}', fontsize = 14, fontweight = 'bold');\n",
    "axes[0].set_xlim([pd.to_datetime('1986-6-1'), pd.to_datetime('2020-1-1')]);\n",
    "\n",
    "axes[1].plot(StreamGaugeData['Timestamp'], StreamGaugeData['Value']);\n",
    "axes[1].set_ylabel('Water course discharge (m$^3$/s)', fontsize = 12);\n",
    "axes[1].set_title(f'Daily maximum water discharge rate at {StreamGaugeName}', fontsize = 14, fontweight = 'bold');\n",
    "axes[1].set_xlim([pd.to_datetime('1986-6-1'), pd.to_datetime('2020-1-1')]);\n",
    "\n",
    "plt.savefig(InundationPctPerVegFigFileName, bbox_inches='tight')"
   ]
  },
  {
   "cell_type": "markdown",
   "metadata": {},
   "source": [
    "## 6. Table identifying: \n",
    "* % of different vegetation classes inundated for each specified time period for each event and maximum and average depth of inundation.\n",
    "\n",
    "e.g. \n",
    "\n",
    "| Site | Sub-site | Event | Vegetation Type | % inundated 1 month | % inundated 3 months | % inundated 5 months | % inundated 7 months | % inundated > 9 months | Max depth | Average depth |\n",
    "|-----|----|----|----|----|----|----|----|----|----|----|\n",
    "\n",
    "* Time between each inundation event for 10%, 25%, 50%, 75% and 100% of each vegetation type \n",
    "\n",
    "e.g.\n",
    "\n",
    "| Site | Sub-site | Event | Vegetation Type | 10% veg inundation duration | 25% veg inundation duration | 50% veg inundation duration | 75% veg inundation duration | 100% veg inundation duration | Max depth | Average depth |\n",
    "|-----|----|----|----|----|----|----|----|----|----|----|"
   ]
  },
  {
   "cell_type": "markdown",
   "metadata": {},
   "source": [
    "### Calculate within event inundation metrics\n",
    "\n",
    "We need to set up two dataframes to put the results into"
   ]
  },
  {
   "cell_type": "code",
   "execution_count": 19,
   "metadata": {},
   "outputs": [],
   "source": [
    "# Create a dataframe to put our results into, starting with the time\n",
    "EventInundationTable = pd.concat([EventList]*len(SpeciesDict)).sort_values(by='event-start-date', ignore_index=True)\n",
    "EventInundationTable['vegType'] = list(SpeciesDict.values())* len(EventList)\n",
    "EventInundationTable['PctInundated>=30days'] = np.nan\n",
    "EventInundationTable['PctInundated>=90days'] = np.nan\n",
    "EventInundationTable['PctInundated>=150days'] = np.nan\n",
    "EventInundationTable['PctInundated>=210days'] = np.nan\n",
    "EventInundationTable['PctInundated>=270days'] = np.nan"
   ]
  },
  {
   "cell_type": "code",
   "execution_count": 20,
   "metadata": {},
   "outputs": [
    {
     "data": {
      "text/html": [
       "<div>\n",
       "<style scoped>\n",
       "    .dataframe tbody tr th:only-of-type {\n",
       "        vertical-align: middle;\n",
       "    }\n",
       "\n",
       "    .dataframe tbody tr th {\n",
       "        vertical-align: top;\n",
       "    }\n",
       "\n",
       "    .dataframe thead th {\n",
       "        text-align: right;\n",
       "    }\n",
       "</style>\n",
       "<table border=\"1\" class=\"dataframe\">\n",
       "  <thead>\n",
       "    <tr style=\"text-align: right;\">\n",
       "      <th></th>\n",
       "      <th>days-in-event</th>\n",
       "      <th>event-start-date</th>\n",
       "      <th>event-end-date</th>\n",
       "      <th>vegType</th>\n",
       "      <th>PctInundated&gt;=30days</th>\n",
       "      <th>PctInundated&gt;=90days</th>\n",
       "      <th>PctInundated&gt;=150days</th>\n",
       "      <th>PctInundated&gt;=210days</th>\n",
       "      <th>PctInundated&gt;=270days</th>\n",
       "    </tr>\n",
       "  </thead>\n",
       "  <tbody>\n",
       "    <tr>\n",
       "      <th>0</th>\n",
       "      <td>231</td>\n",
       "      <td>1988-03-10</td>\n",
       "      <td>1988-10-27</td>\n",
       "      <td>riperian open forest</td>\n",
       "      <td>NaN</td>\n",
       "      <td>NaN</td>\n",
       "      <td>NaN</td>\n",
       "      <td>NaN</td>\n",
       "      <td>NaN</td>\n",
       "    </tr>\n",
       "    <tr>\n",
       "      <th>1</th>\n",
       "      <td>231</td>\n",
       "      <td>1988-03-10</td>\n",
       "      <td>1988-10-27</td>\n",
       "      <td>terrestrial woodland</td>\n",
       "      <td>NaN</td>\n",
       "      <td>NaN</td>\n",
       "      <td>NaN</td>\n",
       "      <td>NaN</td>\n",
       "      <td>NaN</td>\n",
       "    </tr>\n",
       "  </tbody>\n",
       "</table>\n",
       "</div>"
      ],
      "text/plain": [
       "   days-in-event event-start-date event-end-date               vegType  \\\n",
       "0            231       1988-03-10     1988-10-27  riperian open forest   \n",
       "1            231       1988-03-10     1988-10-27  terrestrial woodland   \n",
       "\n",
       "   PctInundated>=30days  PctInundated>=90days  PctInundated>=150days  \\\n",
       "0                   NaN                   NaN                    NaN   \n",
       "1                   NaN                   NaN                    NaN   \n",
       "\n",
       "   PctInundated>=210days  PctInundated>=270days  \n",
       "0                    NaN                    NaN  \n",
       "1                    NaN                    NaN  "
      ]
     },
     "execution_count": 20,
     "metadata": {},
     "output_type": "execute_result"
    }
   ],
   "source": [
    "EventInundationTable.head(2)"
   ]
  },
  {
   "cell_type": "code",
   "execution_count": 21,
   "metadata": {},
   "outputs": [],
   "source": [
    "# Create a dataframe to put our results into, starting with the time\n",
    "EventDurationTable = pd.concat([EventList]*len(SpeciesDict)).sort_values(by='event-start-date', ignore_index=True)\n",
    "EventDurationTable['vegType'] = list(SpeciesDict.values())* len(EventList)\n",
    "EventDurationTable['AtLeast10PctInundated'] = np.nan\n",
    "EventDurationTable['AtLeast25PctInundated'] = np.nan\n",
    "EventDurationTable['AtLeast50PctInundated'] = np.nan\n",
    "EventDurationTable['AtLeast75PctInundated'] = np.nan\n",
    "EventDurationTable['100PctInundated'] = np.nan"
   ]
  },
  {
   "cell_type": "code",
   "execution_count": 22,
   "metadata": {},
   "outputs": [
    {
     "data": {
      "text/html": [
       "<div>\n",
       "<style scoped>\n",
       "    .dataframe tbody tr th:only-of-type {\n",
       "        vertical-align: middle;\n",
       "    }\n",
       "\n",
       "    .dataframe tbody tr th {\n",
       "        vertical-align: top;\n",
       "    }\n",
       "\n",
       "    .dataframe thead th {\n",
       "        text-align: right;\n",
       "    }\n",
       "</style>\n",
       "<table border=\"1\" class=\"dataframe\">\n",
       "  <thead>\n",
       "    <tr style=\"text-align: right;\">\n",
       "      <th></th>\n",
       "      <th>days-in-event</th>\n",
       "      <th>event-start-date</th>\n",
       "      <th>event-end-date</th>\n",
       "      <th>vegType</th>\n",
       "      <th>AtLeast10PctInundated</th>\n",
       "      <th>AtLeast25PctInundated</th>\n",
       "      <th>AtLeast50PctInundated</th>\n",
       "      <th>AtLeast75PctInundated</th>\n",
       "      <th>100PctInundated</th>\n",
       "    </tr>\n",
       "  </thead>\n",
       "  <tbody>\n",
       "    <tr>\n",
       "      <th>0</th>\n",
       "      <td>231</td>\n",
       "      <td>1988-03-10</td>\n",
       "      <td>1988-10-27</td>\n",
       "      <td>riperian open forest</td>\n",
       "      <td>NaN</td>\n",
       "      <td>NaN</td>\n",
       "      <td>NaN</td>\n",
       "      <td>NaN</td>\n",
       "      <td>NaN</td>\n",
       "    </tr>\n",
       "    <tr>\n",
       "      <th>1</th>\n",
       "      <td>231</td>\n",
       "      <td>1988-03-10</td>\n",
       "      <td>1988-10-27</td>\n",
       "      <td>terrestrial woodland</td>\n",
       "      <td>NaN</td>\n",
       "      <td>NaN</td>\n",
       "      <td>NaN</td>\n",
       "      <td>NaN</td>\n",
       "      <td>NaN</td>\n",
       "    </tr>\n",
       "  </tbody>\n",
       "</table>\n",
       "</div>"
      ],
      "text/plain": [
       "   days-in-event event-start-date event-end-date               vegType  \\\n",
       "0            231       1988-03-10     1988-10-27  riperian open forest   \n",
       "1            231       1988-03-10     1988-10-27  terrestrial woodland   \n",
       "\n",
       "   AtLeast10PctInundated  AtLeast25PctInundated  AtLeast50PctInundated  \\\n",
       "0                    NaN                    NaN                    NaN   \n",
       "1                    NaN                    NaN                    NaN   \n",
       "\n",
       "   AtLeast75PctInundated  100PctInundated  \n",
       "0                    NaN              NaN  \n",
       "1                    NaN              NaN  "
      ]
     },
     "execution_count": 22,
     "metadata": {},
     "output_type": "execute_result"
    }
   ],
   "source": [
    "EventDurationTable.head(2)"
   ]
  },
  {
   "cell_type": "markdown",
   "metadata": {},
   "source": [
    "### Now calculate the % inundation and duration of each vegetation category per event\n",
    "\n",
    "Here, the analysis is done on a per event basis. This means that we assume that if a single pixels wets, dries, wets etc more than once, it's all related to the same wetland-wide event (which is defined above). \n",
    "\n",
    "The code below loops through each species type within the wetland, and calculates the percentage of that species' area that is inundated for more than 30, 90, 150, 210 and 270 days during the whole event. If a single pixel records a wetting history of e.g. 5 days wet, then is dry for 5 days, then wet for 45 days, then we consider this pixel to have been wet for 50 days during this event. \n",
    "\n",
    "Metrics for wet percentage for the 30, 90, 150, 210 and 270 day periods are calculated using >= each period. For example, a pixel that was wet for 110 days during an event will be counted in the 30 and 90 day metrics, but not the 150 day metric. \n",
    "\n",
    "The second step in the analysis calculates how long at least 10/25/50/75/100% of the wetland vegetation community was inundated per event. We calculate the `PercentilesToCalc = ['90', '75', '50', '25', '1']` percentiles. e.g. The 90th percentile tells us how many days at least 10% of the wetland was inundated for. "
   ]
  },
  {
   "cell_type": "code",
   "execution_count": null,
   "metadata": {},
   "outputs": [
    {
     "name": "stdout",
     "output_type": "stream",
     "text": [
      "Working on riperian open forest\n",
      "Working on event starting 1988-03-10\n",
      "Working on event starting 1989-04-30\n",
      "Working on event starting 1989-12-01\n",
      "Working on event starting 1990-05-03\n",
      "Working on event starting 1991-03-19\n",
      "Working on event starting 1994-03-11\n",
      "Working on event starting 1995-01-25\n",
      "Working on event starting 1995-12-27\n",
      "Working on event starting 1997-03-03\n",
      "Working on event starting 1998-03-06\n",
      "Working on event starting 1999-03-09\n",
      "Working on event starting 2000-03-19\n",
      "Working on event starting 2000-12-16\n",
      "Working on event starting 2004-02-10\n",
      "Working on event starting 2004-03-29\n",
      "Working on event starting 2004-04-30\n",
      "Working on event starting 2008-01-29\n",
      "Working on event starting 2010-03-23\n",
      "Working on event starting 2010-10-24\n",
      "Working on event starting 2013-04-17\n",
      "Working on terrestrial woodland\n",
      "Working on event starting 1988-03-10\n",
      "Working on event starting 1989-04-30\n",
      "Working on event starting 1989-12-01\n",
      "Working on event starting 1990-05-03\n",
      "Working on event starting 1991-03-19\n",
      "Working on event starting 1994-03-11\n",
      "Working on event starting 1995-01-25\n",
      "Working on event starting 1995-12-27\n",
      "Working on event starting 1997-03-03\n",
      "Working on event starting 1998-03-06\n",
      "Working on event starting 1999-03-09\n",
      "Working on event starting 2000-03-19\n",
      "Working on event starting 2000-12-16\n",
      "Working on event starting 2004-02-10\n",
      "Working on event starting 2004-03-29\n",
      "Working on event starting 2004-04-30\n",
      "Working on event starting 2008-01-29\n",
      "Working on event starting 2010-03-23\n",
      "Working on event starting 2010-10-24\n",
      "Working on event starting 2013-04-17\n",
      "Working on ephemeral herbfields\n",
      "Working on event starting 1988-03-10\n",
      "Working on event starting 1989-04-30\n",
      "Working on event starting 1989-12-01\n",
      "Working on event starting 1990-05-03\n",
      "Working on event starting 1991-03-19\n",
      "Working on event starting 1994-03-11\n",
      "Working on event starting 1995-01-25\n",
      "Working on event starting 1995-12-27\n",
      "Working on event starting 1997-03-03\n",
      "Working on event starting 1998-03-06\n",
      "Working on event starting 1999-03-09\n",
      "Working on event starting 2000-03-19\n",
      "Working on event starting 2000-12-16\n",
      "Working on event starting 2004-02-10\n",
      "Working on event starting 2004-03-29\n",
      "Working on event starting 2004-04-30\n",
      "Working on event starting 2008-01-29\n",
      "Working on event starting 2010-03-23\n",
      "Working on event starting 2010-10-24\n"
     ]
    }
   ],
   "source": [
    "# Loop through all the vegetation communities\n",
    "for items in SpeciesDict:\n",
    "    print(f'Working on {SpeciesDict[items]}')\n",
    "    # Loop through all the individual wetting events\n",
    "    for ix, row in EventList.iterrows():\n",
    "        print(f'Working on event starting {row[\"event-start-date\"]}')\n",
    "        # Grab just the wet pixels that intersect with our veg type (boolean)\n",
    "        JustOneVegTypeWet = AllDataCombined['wetCount'].where(AllDataCombined['veg_randomUID'] == items)\n",
    "        # Grab just the time slices that coincide with the event we're now analysing\n",
    "        EventData = JustOneVegTypeWet.loc[slice(row['event-start-date'], row['event-end-date'])]\n",
    "        # Make an empty array to put the event results in to\n",
    "        EventResults = np.empty((len(AllDataCombined.y), len(AllDataCombined.x)))\n",
    "        EventResults[:] = np.nan\n",
    "        # Now loop through each pixel and work out how long it was inundated for during the event\n",
    "        for x in range(len(EventData.x)):\n",
    "            for y in range(len(EventData.y)):\n",
    "                pixelArray=EventData[:,y,x]\n",
    "                # test whether this pixel is just all NaN - if it is, we don't need to analyse it\n",
    "                if pixelArray.sum() > 0:\n",
    "                    # Subtract subsequent value from first value\n",
    "                    Testforchange = pixelArray[1:].values.astype(int) - pixelArray[:-1].values.astype(int)\n",
    "                    # if it equals 1, then the array has moved from False to True\n",
    "                    StartofEvent = pixelArray[:-1].where(Testforchange == 1).dropna(dim='time')\n",
    "                    # if it equals -1, then the array has moved from True to False\n",
    "                    EndofEvent = pixelArray[1:].where(Testforchange == -1).dropna(dim='time')\n",
    "                    # We need to check whether we've captured the start of the event properly\n",
    "                    # If the event starts as wet at time zero, we wont capture this in the code below\n",
    "                    # Because we know that time 0 of this event is the start of the wetland-wide event,\n",
    "                    # we can just add time 0 as the first start date.\n",
    "                    if pixelArray[0] == 1:\n",
    "                        # Grab the first time step of the event and add it to the StartofEvent array\n",
    "                        StartofEvent = np.hstack((pixelArray.time.values[0], StartofEvent.time.values))\n",
    "                    else:\n",
    "                        # If not, just change the format of the StartofEvent variable to match the changed one\n",
    "                        StartofEvent = StartofEvent.time.values\n",
    "                    # Also need to check if we've captured the end of the event properly\n",
    "                    # If the event ends with a wet observation, we wont capture this in the code below\n",
    "                    # Because we know that time -1 of this event is the end of the wetland-wide event,\n",
    "                    # we can just add time -1 as the last end date.\n",
    "                    if pixelArray[-1] == 1:\n",
    "                        # Then the event wont 'end' since it wont have flipped\n",
    "                        EndofEvent = np.hstack((pixelArray.time.values[-1], EndofEvent.time.values))\n",
    "                    else:\n",
    "                        # If not, just change the format of the EndofEvent variable to match the changed one\n",
    "                        EndofEvent = EndofEvent.time.values\n",
    "                    # Now calculate the length of time between the inundation events within the overall wetland event\n",
    "                    EventDuration = (EndofEvent - StartofEvent).astype('timedelta64[D]') / np.timedelta64(1, 'D')\n",
    "                    # Sum the total inundation time\n",
    "                    EventResults[y,x] = EventDuration.sum()\n",
    "        # Now write out the inundation area percentage thresholds\n",
    "        # Get the index of the row we need to put the results into\n",
    "        indexofrow = EventInundationTable.loc[(EventInundationTable['event-start-date'] == row['event-start-date']) \n",
    "                             & (EventInundationTable['vegType'] == SpeciesDict[items])].index.item()\n",
    "        # In the next lines, we are looking for locations in the results where values are >= some number\n",
    "        # Since we have nans in the array, the code throws a warning\n",
    "        # The behaviour of the comparison is correct for what we want, i.e. (NaN >= 30) = False\n",
    "        # So we can suppress these warnings to clear up the output of this cell\n",
    "        with np.errstate(invalid='ignore'):\n",
    "            # Calculate the percent of each vegetation community inundated for the various lengths of time\n",
    "            # Save out the results to one decimal place\n",
    "            EventInundationTable.at[indexofrow,'PctInundated>=30days'] = round((((EventResults >=30).sum() / \n",
    "                                                                          (AllDataCombined['veg_randomUID'] == items).sum().item()) * 100), 1)\n",
    "            EventInundationTable.at[indexofrow,'PctInundated>=90days'] = round((((EventResults >=90).sum() / \n",
    "                                                                          (AllDataCombined['veg_randomUID'] == items).sum().item()) * 100), 1)\n",
    "            EventInundationTable.at[indexofrow,'PctInundated>=150days'] = round((((EventResults >=150).sum() / \n",
    "                                                                           (AllDataCombined['veg_randomUID'] == items).sum().item()) * 100), 1)\n",
    "            EventInundationTable.at[indexofrow,'PctInundated>=210days'] = round((((EventResults >=210).sum() / \n",
    "                                                                           (AllDataCombined['veg_randomUID'] == items).sum().item()) * 100), 1)\n",
    "            EventInundationTable.at[indexofrow,'PctInundated>=270days'] = round((((EventResults >=270).sum() / \n",
    "                                                                           (AllDataCombined['veg_randomUID'] == items).sum().item()) * 100), 1)\n",
    "        # Now write out the inundation duration percentage thresholds\n",
    "        # Get the index of the row we need to put the results into\n",
    "        indexofrow = EventDurationTable.loc[(EventDurationTable['event-start-date'] == row['event-start-date']) \n",
    "                             & (EventDurationTable['vegType'] == SpeciesDict[items])].index.item()\n",
    "        # Create a mask for the full extent of the vegetation category\n",
    "        VegMask = AllDataCombined['veg_randomUID'] == items\n",
    "        # Work out the total number of pixels taken up by the veg category\n",
    "        VegTotalArea = VegMask.sum().item()\n",
    "        # Convert all the nans in the EventResults to zero\n",
    "        # This is because we want to know where a veg pixel was not seen as wet at all\n",
    "        InfilledEventResults = np.nan_to_num(EventResults)\n",
    "        # Remove the zeros from EventResults that are not covered by the veg category\n",
    "        InfilledEventResults[~VegMask] = np.nan\n",
    "        # Flatten the results - we don't need them to be spatial anymore\n",
    "        AllFiniteValues = InfilledEventResults.flatten()\n",
    "        # Remove all the nans - they're outside the area of interest\n",
    "        AllFiniteValues = AllFiniteValues[~np.isnan(AllFiniteValues)]\n",
    "        # Sort the array\n",
    "        AllFiniteValuesSorted = np.sort(AllFiniteValues)\n",
    "        # Reverse the order\n",
    "        AllFiniteValuesSorted = AllFiniteValuesSorted[::-1]\n",
    "        # Find the value in the sorted array that cuts off 10/25/50/75/100% of the array\n",
    "        # Subtract one from the index due to zero indexing\n",
    "        EventDurationTable.at[indexofrow,'AtLeast10PctInundated'] = round(AllFiniteValuesSorted[int(VegTotalArea * AreasToCalc[0] -1)], 1)\n",
    "        EventDurationTable.at[indexofrow,'AtLeast25PctInundated'] = round(AllFiniteValuesSorted[int(VegTotalArea * AreasToCalc[1] -1)], 1)\n",
    "        EventDurationTable.at[indexofrow,'AtLeast50PctInundated'] = round(AllFiniteValuesSorted[int(VegTotalArea * AreasToCalc[2] -1)], 1)\n",
    "        EventDurationTable.at[indexofrow,'AtLeast75PctInundated'] = round(AllFiniteValuesSorted[int(VegTotalArea * AreasToCalc[3] -1)], 1)\n",
    "        # 100% of the array is the last value, so just grab that\n",
    "        EventDurationTable.at[indexofrow,'100PctInundated'] = round(AllFiniteValuesSorted[VegTotalArea - 1], 1)\n",
    "            \n",
    "        # Save the final tables to file\n",
    "        EventInundationTable.to_csv(EventInundationTableFileName, index=False)\n",
    "        EventDurationTable.to_csv(EventDurationTableFileName, index=False)"
   ]
  },
  {
   "cell_type": "markdown",
   "metadata": {},
   "source": [
    "## 7. Annual vegetation condition for each Ramsar site for the whole archive period"
   ]
  }
 ],
 "metadata": {
  "kernelspec": {
   "display_name": "Python 3",
   "language": "python",
   "name": "python3"
  },
  "language_info": {
   "codemirror_mode": {
    "name": "ipython",
    "version": 3
   },
   "file_extension": ".py",
   "mimetype": "text/x-python",
   "name": "python",
   "nbconvert_exporter": "python",
   "pygments_lexer": "ipython3",
   "version": "3.6.9"
  }
 },
 "nbformat": 4,
 "nbformat_minor": 4
}
