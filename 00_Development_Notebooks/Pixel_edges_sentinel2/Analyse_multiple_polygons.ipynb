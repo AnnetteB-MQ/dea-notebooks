{
 "cells": [
  {
   "cell_type": "markdown",
   "metadata": {},
   "source": [
    "### General advice (delete this cell before submitting for review)\n",
    "> - When choosing a location for your analysis, **select an area that has data on both the `NCI` and `DEA Sandbox`** to allow your code to be run on both environments. \n",
    "For example, you can check this for Landsat using the [DEA Explorer](https://explorer.sandbox.dea.ga.gov.au/ga_ls5t_ard_3/1990) (use the drop-down menu to view all products).\n",
    "As of September 2019, the `DEA Sandbox` has a single year of continental Landsat data for 2015-16, and the full 1987-onward time-series for three locations (Perth WA, Brisbane QLD, and western NSW).\n",
    "> - When adding **Products used**, embed the hyperlink to that specific product on the DEA Explorer using the `[text link](product url)` syntax.\n",
    "> - When writing in Markdown cells, start each sentence on a **new line**.\n",
    "This makes it easy to see changes through git commits.\n",
    "> - Use Australian English in markdown cells and code comments.\n",
    "> - Use the [PEP8 standard](https://www.python.org/dev/peps/pep-0008/) for code. To make sure all code in the notebook is consistent, you can use the `jupyterlab_code_formatter` tool: select each code cell, then click `Edit` and then one of the `Apply X Formatter` options (`YAPF` or `Black` are recommended). This will reformat the code in the cell to a consistent style.\n",
    "> - For additional guidance, refer to the style conventions and layouts in approved `develop` branch notebooks. \n",
    "Examples include\n",
    "    - [Frequently_used_code/Using_load_ard.ipynb](./Frequently_used_code/Using_load_ard.ipynb)\n",
    "    - [Real_world_examples/Coastal_erosion.ipynb](./Real_world_examples/Coastal_erosion.ipynb)\n",
    "    - [Scripts/dea_datahandling.py](./Scripts/dea_datahandling.py)\n",
    "> - In the final notebook cell, include a set of relevant tags which are used to build the DEA User Guide's [Tag Index](https://docs.dea.ga.gov.au/genindex.html). \n",
    "Use all lower-case (unless the tag is an acronym), separate words with spaces (unless it is the name of an imported module), and [re-use existing tags](https://github.com/GeoscienceAustralia/dea-notebooks/wiki/List-of-tags).\n",
    "Ensure the tags cell below is in `Raw` format, rather than `Markdown` or `Code`.\n"
   ]
  },
  {
   "cell_type": "markdown",
   "metadata": {},
   "source": [
    "# Open and run analysis on multiple polygons\n",
    "* **Compatability:** Notebook currently compatible with the `NCI`|`DEA Sandbox` environment only\n",
    "* **Products used:** \n",
    "[`s2a_ard_granule`](https://explorer.sandbox.dea.ga.gov.au/s2a_ard_granule), \n",
    "[`s2b_ard_granule`](https://explorer.sandbox.dea.ga.gov.au/s2b_ard_granule),\n",
    "[`ga_ls5t_ard_3`](https://explorer.sandbox.dea.ga.gov.au/ga_ls5t_ard_3),\n",
    "[`ga_ls7e_ard_3`](https://explorer.sandbox.dea.ga.gov.au/ga_ls7e_ard_3),\n",
    "[`ga_ls8c_ard_3`](https://explorer.sandbox.dea.ga.gov.au/ga_ls8c_ard_3)"
   ]
  },
  {
   "cell_type": "markdown",
   "metadata": {},
   "source": [
    "### Background\n",
    "Many users need to run analyses on their own areas of interest. A common use case involves running the same analysis across multiple polygons in a shapefile."
   ]
  },
  {
   "cell_type": "markdown",
   "metadata": {},
   "source": [
    "### Description\n",
    "If we have a vector file containing multiple polygons, we can use the python package [fiona](https://fiona.readthedocs.io/en/latest/manual.html#reading-vector-data) to open it and iterate through the files, retrieving and plotting data from Digital Earth Australia.\n",
    "1. First we open the polygon using the [fiona](https://fiona.readthedocs.io/en/latest/manual.html#reading-vector-data) package\n",
    "2. Then we do this\n",
    "3. Finally we do this\n"
   ]
  },
  {
   "cell_type": "markdown",
   "metadata": {},
   "source": [
    "## Getting started\n",
    "Provide any particular instructions that the user might need, e.g. To run this analysis, run all the cells in the notebook, starting with the \"Load packages\" cell. "
   ]
  },
  {
   "cell_type": "markdown",
   "metadata": {},
   "source": [
    "### Load packages\n",
    "Please note the use of `datacube utilities` package `geometry`: this is important for saving the coordinate reference system of the incoming shapefile in a format that the Digital Earth Australia query can understand. It has the same name as the `shapely.geometry` package, and should be imported later as in the cell below."
   ]
  },
  {
   "cell_type": "code",
   "execution_count": 23,
   "metadata": {},
   "outputs": [],
   "source": [
    "%matplotlib inline\n",
    "\n",
    "import datacube\n",
    "import fiona\n",
    "import geopandas as gpd\n",
    "import matplotlib.pyplot as plt\n",
    "import numpy as np\n",
    "import pandas as pd\n",
    "import rasterio.mask\n",
    "import rasterio.features\n",
    "from shapely import geometry\n",
    "\n",
    "import sys\n",
    "import xarray as xr\n",
    "\n",
    "from datacube.storage import masking\n",
    "from datacube.utils import geometry\n",
    "\n",
    "sys.path.append('../../Scripts') #probably need to change this after you move the code\n",
    "sys.path.append('../Scripts')\n",
    "\n",
    "from dea_datahandling import load_ard\n",
    "from dea_bandindices import calculate_indices\n",
    "from dea_plotting import rgb"
   ]
  },
  {
   "cell_type": "markdown",
   "metadata": {},
   "source": [
    "### Connect to the datacube\n",
    "Give your datacube app a unique name. \n",
    "Ideally, this will be the same as the notebook file name."
   ]
  },
  {
   "cell_type": "code",
   "execution_count": 10,
   "metadata": {},
   "outputs": [],
   "source": [
    "dc = datacube.Datacube(app='Analyse_multiple_polygons')"
   ]
  },
  {
   "cell_type": "markdown",
   "metadata": {},
   "source": [
    "### Analysis parameters\n",
    "\n",
    "An *optional* section to inform the user of any parameters they'll need to configure to run the notebook:\n",
    "* `param_name_1`: Simple description (e.g. `example_value`). Advice about appropriate values to choose for this parameter.\n",
    "* `param_name_2`: Simple description (e.g. `example_value`). Advice about appropriate values to choose for this parameter.\n"
   ]
  },
  {
   "cell_type": "code",
   "execution_count": 11,
   "metadata": {},
   "outputs": [],
   "source": [
    "# param_name_1 = 'example_value'\n",
    "# param_name_2 = 'example_value'"
   ]
  },
  {
   "cell_type": "markdown",
   "metadata": {},
   "source": [
    "## Look at the structure of the vector file\n",
    "Import the file and take a look at how the file is structured so we understand what we are iterating through. "
   ]
  },
  {
   "cell_type": "markdown",
   "metadata": {},
   "source": [
    "### Import our vector file containing multiple polygons\n",
    "Set the path to the location of the file"
   ]
  },
  {
   "cell_type": "code",
   "execution_count": 12,
   "metadata": {},
   "outputs": [],
   "source": [
    "# This is the path location of our polygon file. You can change this to another file.\n",
    "multiple_polys_file = '../../Supplementary_data/Analyse_multiple_polygons/multiple_polys.shp'"
   ]
  },
  {
   "cell_type": "code",
   "execution_count": 13,
   "metadata": {},
   "outputs": [
    {
     "data": {
      "text/plain": [
       "'../../Supplementary_data/Analyse_multiple_polygons/multiple_polys.shp'"
      ]
     },
     "execution_count": 13,
     "metadata": {},
     "output_type": "execute_result"
    }
   ],
   "source": [
    "#print the file where we are accessing our polygons from\n",
    "multiple_polys_file"
   ]
  },
  {
   "cell_type": "markdown",
   "metadata": {},
   "source": [
    "Use the python package `fiona` to open and iterate through the polygon file. Working with vector files it's important to save and preserve the Coordinate Reference System, the CRS, so we save this from the `well known text`."
   ]
  },
  {
   "cell_type": "code",
   "execution_count": 14,
   "metadata": {},
   "outputs": [
    {
     "name": "stdout",
     "output_type": "stream",
     "text": [
      "{'type': 'Feature', 'id': '0', 'properties': OrderedDict([('id', 3)]), 'geometry': {'type': 'Polygon', 'coordinates': [[(973435.8333156732, -3554355.769048074), (976356.1110555927, -3554571.451142964), (976219.7217355696, -3557085.685764458), (973232.5083624359, -3556840.9050310687), (973435.8333156732, -3554355.769048074)]]}}\n",
      "{'type': 'Feature', 'id': '1', 'properties': OrderedDict([('id', 2)]), 'geometry': {'type': 'Polygon', 'coordinates': [[(980959.7463502702, -3560845.1440404137), (983880.0240901897, -3561060.826135304), (983743.6347701667, -3563575.060756798), (980756.4213970329, -3563330.2800234086), (980959.7463502702, -3560845.1440404137)]]}}\n",
      "{'type': 'Feature', 'id': '2', 'properties': OrderedDict([('id', 1)]), 'geometry': {'type': 'Polygon', 'coordinates': [[(974705.4936402615, -3565359.491861172), (977625.771380181, -3565575.173956062), (977489.382060158, -3568089.4085775563), (974502.1686870242, -3567844.627844167), (974705.4936402615, -3565359.491861172)]]}}\n",
      "PROJCS[\"GDA94 / Australian Albers\",GEOGCS[\"GDA94\",DATUM[\"Geocentric_Datum_of_Australia_1994\",SPHEROID[\"GRS 1980\",6378137,298.257222101,AUTHORITY[\"EPSG\",\"7019\"]],AUTHORITY[\"EPSG\",\"6283\"]],PRIMEM[\"Greenwich\",0,AUTHORITY[\"EPSG\",\"8901\"]],UNIT[\"degree\",0.0174532925199433,AUTHORITY[\"EPSG\",\"9122\"]],AUTHORITY[\"EPSG\",\"4283\"]],PROJECTION[\"Albers_Conic_Equal_Area\"],PARAMETER[\"latitude_of_center\",0],PARAMETER[\"longitude_of_center\",132],PARAMETER[\"standard_parallel_1\",-18],PARAMETER[\"standard_parallel_2\",-36],PARAMETER[\"false_easting\",0],PARAMETER[\"false_northing\",0],UNIT[\"metre\",1,AUTHORITY[\"EPSG\",\"9001\"]],AXIS[\"Easting\",EAST],AXIS[\"Northing\",NORTH],AUTHORITY[\"EPSG\",\"3577\"]]\n"
     ]
    }
   ],
   "source": [
    "#use the fiona package to open the vector file of the polygons\n",
    "with fiona.open(multiple_polys_file, 'r') as source:\n",
    "    #explicity set the coordinate reference system from the source file\n",
    "    crs=source.crs_wkt\n",
    "    #iterate through the polygon file and have a look at the dictionaries that we've got in the {'key': 'value'} format.  \n",
    "    for record in source:\n",
    "        print(record)\n",
    "    #then look at the CRS of the file    \n",
    "    print(crs)"
   ]
  },
  {
   "cell_type": "markdown",
   "metadata": {},
   "source": [
    "Look at a single polygon using its feature id"
   ]
  },
  {
   "cell_type": "code",
   "execution_count": 15,
   "metadata": {},
   "outputs": [],
   "source": [
    "#choose a single polygon to look at here: to change this change the number below\n",
    "poly_of_interest=0"
   ]
  },
  {
   "cell_type": "code",
   "execution_count": 16,
   "metadata": {},
   "outputs": [
    {
     "name": "stdout",
     "output_type": "stream",
     "text": [
      "0\n",
      "Geometry({'type': 'Polygon', 'coordinates': [[(973435.8333156732, -3554355.769048074), (976356.1110555927, -3554571.451142964), (976219.7217355696, -3557085.685764458), (973232.5083624359, -3556840.9050310687), (973435.8333156732, -3554355.769048074)]]}, CRS('PROJCS[\"GDA94 / Australian Albers\",GEOGCS[\"GDA94\",DATUM[\"Geocentric_Datum_of_Australia_1994\",SPHEROID[\"GRS 1980\",6378137,298.257222101,AUTHORITY[\"EPSG\",\"7019\"]],AUTHORITY[\"EPSG\",\"6283\"]],PRIMEM[\"Greenwich\",0,AUTHORITY[\"EPSG\",\"8901\"]],UNIT[\"degree\",0.0174532925199433,AUTHORITY[\"EPSG\",\"9122\"]],AUTHORITY[\"EPSG\",\"4283\"]],PROJECTION[\"Albers_Conic_Equal_Area\"],PARAMETER[\"latitude_of_center\",0],PARAMETER[\"longitude_of_center\",132],PARAMETER[\"standard_parallel_1\",-18],PARAMETER[\"standard_parallel_2\",-36],PARAMETER[\"false_easting\",0],PARAMETER[\"false_northing\",0],UNIT[\"metre\",1,AUTHORITY[\"EPSG\",\"9001\"]],AXIS[\"Easting\",EAST],AXIS[\"Northing\",NORTH],AUTHORITY[\"EPSG\",\"3577\"]]'))\n"
     ]
    }
   ],
   "source": [
    "#open the file, choose the feature id of the polygon, then look at just that one.\n",
    "with fiona.open(multiple_polys_file) as shapes:    \n",
    "    #get crs object from polygon file using datacube.\n",
    "    crs = geometry.CRS(shapes.crs_wkt)\n",
    "    for feature in shapes:\n",
    "        if feature['id'] == str(poly_of_interest):\n",
    "            #get feature geometry\n",
    "            feature_geometry=feature['geometry']\n",
    "            #create datacube geometry.Geometry object\n",
    "            geom = geometry.Geometry(feature_geometry, crs=crs)\n",
    "            print(feature['id'])\n",
    "            print(geom)"
   ]
  },
  {
   "cell_type": "code",
   "execution_count": 17,
   "metadata": {},
   "outputs": [],
   "source": [
    "with fiona.open(multiple_polys_file) as shapes:    \n",
    "    #get crs object from polygon file using datacube.\n",
    "    crs = geometry.CRS(shapes.crs_wkt)\n",
    "    for feature in shapes:\n",
    "        #get feature geometry\n",
    "        feature_geometry=feature['geometry']\n",
    "        #create datacube geometry.Geometry object\n",
    "        geom = geometry.Geometry(feature_geometry, crs=crs)"
   ]
  },
  {
   "cell_type": "code",
   "execution_count": 18,
   "metadata": {},
   "outputs": [],
   "source": [
    "def time_buffer(chosen_date, buffer='30 days'):\n",
    "\n",
    "    \"\"\"\n",
    "    Create a buffer of days around a time query. \n",
    "    Output is a string the correct format for a datacube query.\n",
    "\n",
    "    Parameters\n",
    "        ----------\n",
    "        chosen_date : str, yyyy-mm-dd\n",
    "        buffer : str, optional, default is 30 days, needs to be a number of days\n",
    "        \n",
    "            \n",
    "    Returns\n",
    "    -------\n",
    "    early_buffer, late_buffer : str\n",
    "        a tuple of strings to pass to the datacube query function\n",
    "        e.g. ('2017-12-02', '2018-01-31') for input chosen_date ='2018-01-01' and buffer = '30 days'  \n",
    "    \"\"\"\n",
    "    #use assertions to check we have the correct function input\n",
    "    assert isinstance(chosen_date, str), \"chosen date must be a string in quotes in 'yyyy-mm-dd' format\"\n",
    "    assert isinstance(buffer, str), \"buffer must be a string in days e.g. '5 days'\"\n",
    "    \n",
    "    buffer = pd.Timedelta(buffer)\n",
    "    chosen_date =pd.to_datetime(chosen_date)\n",
    "    early_buffer = chosen_date - buffer\n",
    "    late_buffer = chosen_date + buffer\n",
    "    #convert back to string\n",
    "    early_buffer = str(early_buffer)[:10]\n",
    "    late_buffer = str(late_buffer)[:10]\n",
    "    return(early_buffer, late_buffer)"
   ]
  },
  {
   "cell_type": "markdown",
   "metadata": {},
   "source": [
    "Choose a time of interest to look at your polygon"
   ]
  },
  {
   "cell_type": "code",
   "execution_count": 28,
   "metadata": {},
   "outputs": [],
   "source": [
    "time_of_interest = '2019-03-01'"
   ]
  },
  {
   "cell_type": "markdown",
   "metadata": {},
   "source": [
    "Then set a buffer around the time to get some data within"
   ]
  },
  {
   "cell_type": "code",
   "execution_count": 29,
   "metadata": {},
   "outputs": [],
   "source": [
    "early_buffer, late_buffer = time_buffer(time_of_interest, buffer='60 days')"
   ]
  },
  {
   "cell_type": "markdown",
   "metadata": {},
   "source": [
    "## Demonstrate loading and analysing data for multiple polygons in a loop\n",
    "Load our query for each polygon, demonstrate calculating an index using dea_bandindices (NDVI) and plotting results "
   ]
  },
  {
   "cell_type": "code",
   "execution_count": 30,
   "metadata": {},
   "outputs": [
    {
     "data": {
      "text/html": [
       "<div><svg style=\"position: absolute; width: 0; height: 0; overflow: hidden\">\n",
       "<defs>\n",
       "<symbol id=\"icon-database\" viewBox=\"0 0 32 32\">\n",
       "<title>Show/Hide data repr</title>\n",
       "<path d=\"M16 0c-8.837 0-16 2.239-16 5v4c0 2.761 7.163 5 16 5s16-2.239 16-5v-4c0-2.761-7.163-5-16-5z\"></path>\n",
       "<path d=\"M16 17c-8.837 0-16-2.239-16-5v6c0 2.761 7.163 5 16 5s16-2.239 16-5v-6c0 2.761-7.163 5-16 5z\"></path>\n",
       "<path d=\"M16 26c-8.837 0-16-2.239-16-5v6c0 2.761 7.163 5 16 5s16-2.239 16-5v-6c0 2.761-7.163 5-16 5z\"></path>\n",
       "</symbol>\n",
       "<symbol id=\"icon-file-text2\" viewBox=\"0 0 32 32\">\n",
       "<title>Show/Hide attributes</title>\n",
       "<path d=\"M28.681 7.159c-0.694-0.947-1.662-2.053-2.724-3.116s-2.169-2.030-3.116-2.724c-1.612-1.182-2.393-1.319-2.841-1.319h-15.5c-1.378 0-2.5 1.121-2.5 2.5v27c0 1.378 1.122 2.5 2.5 2.5h23c1.378 0 2.5-1.122 2.5-2.5v-19.5c0-0.448-0.137-1.23-1.319-2.841zM24.543 5.457c0.959 0.959 1.712 1.825 2.268 2.543h-4.811v-4.811c0.718 0.556 1.584 1.309 2.543 2.268zM28 29.5c0 0.271-0.229 0.5-0.5 0.5h-23c-0.271 0-0.5-0.229-0.5-0.5v-27c0-0.271 0.229-0.5 0.5-0.5 0 0 15.499-0 15.5 0v7c0 0.552 0.448 1 1 1h7v19.5z\"></path>\n",
       "<path d=\"M23 26h-14c-0.552 0-1-0.448-1-1s0.448-1 1-1h14c0.552 0 1 0.448 1 1s-0.448 1-1 1z\"></path>\n",
       "<path d=\"M23 22h-14c-0.552 0-1-0.448-1-1s0.448-1 1-1h14c0.552 0 1 0.448 1 1s-0.448 1-1 1z\"></path>\n",
       "<path d=\"M23 18h-14c-0.552 0-1-0.448-1-1s0.448-1 1-1h14c0.552 0 1 0.448 1 1s-0.448 1-1 1z\"></path>\n",
       "</symbol>\n",
       "</defs>\n",
       "</svg>\n",
       "<style>/* CSS stylesheet for displaying xarray objects in jupyterlab.\n",
       " *\n",
       " */\n",
       "\n",
       ":root {\n",
       "  --xr-font-color0: var(--jp-content-font-color0, rgba(0, 0, 0, 1));\n",
       "  --xr-font-color2: var(--jp-content-font-color2, rgba(0, 0, 0, 0.54));\n",
       "  --xr-font-color3: var(--jp-content-font-color3, rgba(0, 0, 0, 0.38));\n",
       "  --xr-border-color: var(--jp-border-color2, #e0e0e0);\n",
       "  --xr-disabled-color: var(--jp-layout-color3, #bdbdbd);\n",
       "  --xr-background-color: var(--jp-layout-color0, white);\n",
       "  --xr-background-color-row-even: var(--jp-layout-color1, white);\n",
       "  --xr-background-color-row-odd: var(--jp-layout-color2, #eeeeee);\n",
       "}\n",
       "\n",
       ".xr-wrap {\n",
       "  min-width: 300px;\n",
       "  max-width: 700px;\n",
       "}\n",
       "\n",
       ".xr-header {\n",
       "  padding-top: 6px;\n",
       "  padding-bottom: 6px;\n",
       "  margin-bottom: 4px;\n",
       "  border-bottom: solid 1px var(--xr-border-color);\n",
       "}\n",
       "\n",
       ".xr-header > div,\n",
       ".xr-header > ul {\n",
       "  display: inline;\n",
       "  margin-top: 0;\n",
       "  margin-bottom: 0;\n",
       "}\n",
       "\n",
       ".xr-obj-type,\n",
       ".xr-array-name {\n",
       "  margin-left: 2px;\n",
       "  margin-right: 10px;\n",
       "}\n",
       "\n",
       ".xr-obj-type {\n",
       "  color: var(--xr-font-color2);\n",
       "}\n",
       "\n",
       ".xr-sections {\n",
       "  padding-left: 0 !important;\n",
       "  display: grid;\n",
       "  grid-template-columns: 150px auto auto 1fr 20px 20px;\n",
       "}\n",
       "\n",
       ".xr-section-item {\n",
       "  display: contents;\n",
       "}\n",
       "\n",
       ".xr-section-item input {\n",
       "  display: none;\n",
       "}\n",
       "\n",
       ".xr-section-item input + label {\n",
       "  color: var(--xr-disabled-color);\n",
       "}\n",
       "\n",
       ".xr-section-item input:enabled + label {\n",
       "  cursor: pointer;\n",
       "  color: var(--xr-font-color2);\n",
       "}\n",
       "\n",
       ".xr-section-item input:enabled + label:hover {\n",
       "  color: var(--xr-font-color0);\n",
       "}\n",
       "\n",
       ".xr-section-summary {\n",
       "  grid-column: 1;\n",
       "  color: var(--xr-font-color2);\n",
       "  font-weight: 500;\n",
       "}\n",
       "\n",
       ".xr-section-summary > span {\n",
       "  display: inline-block;\n",
       "  padding-left: 0.5em;\n",
       "}\n",
       "\n",
       ".xr-section-summary-in:disabled + label {\n",
       "  color: var(--xr-font-color2);\n",
       "}\n",
       "\n",
       ".xr-section-summary-in + label:before {\n",
       "  display: inline-block;\n",
       "  content: '►';\n",
       "  font-size: 11px;\n",
       "  width: 15px;\n",
       "  text-align: center;\n",
       "}\n",
       "\n",
       ".xr-section-summary-in:disabled + label:before {\n",
       "  color: var(--xr-disabled-color);\n",
       "}\n",
       "\n",
       ".xr-section-summary-in:checked + label:before {\n",
       "  content: '▼';\n",
       "}\n",
       "\n",
       ".xr-section-summary-in:checked + label > span {\n",
       "  display: none;\n",
       "}\n",
       "\n",
       ".xr-section-summary,\n",
       ".xr-section-inline-details {\n",
       "  padding-top: 4px;\n",
       "  padding-bottom: 4px;\n",
       "}\n",
       "\n",
       ".xr-section-inline-details {\n",
       "  grid-column: 2 / -1;\n",
       "}\n",
       "\n",
       ".xr-section-details {\n",
       "  display: none;\n",
       "  grid-column: 1 / -1;\n",
       "  margin-bottom: 5px;\n",
       "}\n",
       "\n",
       ".xr-section-summary-in:checked ~ .xr-section-details {\n",
       "  display: contents;\n",
       "}\n",
       "\n",
       ".xr-array-wrap {\n",
       "  grid-column: 1 / -1;\n",
       "  display: grid;\n",
       "  grid-template-columns: 20px auto;\n",
       "}\n",
       "\n",
       ".xr-array-wrap > label {\n",
       "  grid-column: 1;\n",
       "  vertical-align: top;\n",
       "}\n",
       "\n",
       ".xr-preview {\n",
       "  color: var(--xr-font-color3);\n",
       "}\n",
       "\n",
       ".xr-array-preview,\n",
       ".xr-array-data {\n",
       "  padding: 0 5px !important;\n",
       "  grid-column: 2;\n",
       "}\n",
       "\n",
       ".xr-array-data,\n",
       ".xr-array-in:checked ~ .xr-array-preview {\n",
       "  display: none;\n",
       "}\n",
       "\n",
       ".xr-array-in:checked ~ .xr-array-data,\n",
       ".xr-array-preview {\n",
       "  display: inline-block;\n",
       "}\n",
       "\n",
       ".xr-dim-list {\n",
       "  display: inline-block !important;\n",
       "  list-style: none;\n",
       "  padding: 0 !important;\n",
       "  margin: 0;\n",
       "}\n",
       "\n",
       ".xr-dim-list li {\n",
       "  display: inline-block;\n",
       "  padding: 0;\n",
       "  margin: 0;\n",
       "}\n",
       "\n",
       ".xr-dim-list:before {\n",
       "  content: '(';\n",
       "}\n",
       "\n",
       ".xr-dim-list:after {\n",
       "  content: ')';\n",
       "}\n",
       "\n",
       ".xr-dim-list li:not(:last-child):after {\n",
       "  content: ',';\n",
       "  padding-right: 5px;\n",
       "}\n",
       "\n",
       ".xr-has-index {\n",
       "  font-weight: bold;\n",
       "}\n",
       "\n",
       ".xr-var-list,\n",
       ".xr-var-item {\n",
       "  display: contents;\n",
       "}\n",
       "\n",
       ".xr-var-item > div,\n",
       ".xr-var-item label,\n",
       ".xr-var-item > .xr-var-name span {\n",
       "  background-color: var(--xr-background-color-row-even);\n",
       "  margin-bottom: 0;\n",
       "}\n",
       "\n",
       ".xr-var-item > .xr-var-name:hover span {\n",
       "  padding-right: 5px;\n",
       "}\n",
       "\n",
       ".xr-var-list > li:nth-child(odd) > div,\n",
       ".xr-var-list > li:nth-child(odd) > label,\n",
       ".xr-var-list > li:nth-child(odd) > .xr-var-name span {\n",
       "  background-color: var(--xr-background-color-row-odd);\n",
       "}\n",
       "\n",
       ".xr-var-name {\n",
       "  grid-column: 1;\n",
       "}\n",
       "\n",
       ".xr-var-dims {\n",
       "  grid-column: 2;\n",
       "}\n",
       "\n",
       ".xr-var-dtype {\n",
       "  grid-column: 3;\n",
       "  text-align: right;\n",
       "  color: var(--xr-font-color2);\n",
       "}\n",
       "\n",
       ".xr-var-preview {\n",
       "  grid-column: 4;\n",
       "}\n",
       "\n",
       ".xr-var-name,\n",
       ".xr-var-dims,\n",
       ".xr-var-dtype,\n",
       ".xr-preview,\n",
       ".xr-attrs dt {\n",
       "  white-space: nowrap;\n",
       "  overflow: hidden;\n",
       "  text-overflow: ellipsis;\n",
       "  padding-right: 10px;\n",
       "}\n",
       "\n",
       ".xr-var-name:hover,\n",
       ".xr-var-dims:hover,\n",
       ".xr-var-dtype:hover,\n",
       ".xr-attrs dt:hover {\n",
       "  overflow: visible;\n",
       "  width: auto;\n",
       "  z-index: 1;\n",
       "}\n",
       "\n",
       ".xr-var-attrs,\n",
       ".xr-var-data {\n",
       "  display: none;\n",
       "  background-color: var(--xr-background-color) !important;\n",
       "  padding-bottom: 5px !important;\n",
       "}\n",
       "\n",
       ".xr-var-attrs-in:checked ~ .xr-var-attrs,\n",
       ".xr-var-data-in:checked ~ .xr-var-data {\n",
       "  display: block;\n",
       "}\n",
       "\n",
       ".xr-var-data > table {\n",
       "  float: right;\n",
       "}\n",
       "\n",
       ".xr-var-name span,\n",
       ".xr-var-data,\n",
       ".xr-attrs {\n",
       "  padding-left: 25px !important;\n",
       "}\n",
       "\n",
       ".xr-attrs,\n",
       ".xr-var-attrs,\n",
       ".xr-var-data {\n",
       "  grid-column: 1 / -1;\n",
       "}\n",
       "\n",
       "dl.xr-attrs {\n",
       "  padding: 0;\n",
       "  margin: 0;\n",
       "  display: grid;\n",
       "  grid-template-columns: 125px auto;\n",
       "}\n",
       "\n",
       ".xr-attrs dt, dd {\n",
       "  padding: 0;\n",
       "  margin: 0;\n",
       "  float: left;\n",
       "  padding-right: 10px;\n",
       "  width: auto;\n",
       "}\n",
       "\n",
       ".xr-attrs dt {\n",
       "  font-weight: normal;\n",
       "  grid-column: 1;\n",
       "}\n",
       "\n",
       ".xr-attrs dt:hover span {\n",
       "  display: inline-block;\n",
       "  background: var(--xr-background-color);\n",
       "  padding-right: 10px;\n",
       "}\n",
       "\n",
       ".xr-attrs dd {\n",
       "  grid-column: 2;\n",
       "  white-space: pre-wrap;\n",
       "  word-break: break-all;\n",
       "}\n",
       "\n",
       ".xr-icon-database,\n",
       ".xr-icon-file-text2 {\n",
       "  display: inline-block;\n",
       "  vertical-align: middle;\n",
       "  width: 1em;\n",
       "  height: 1.5em !important;\n",
       "  stroke-width: 0;\n",
       "  stroke: currentColor;\n",
       "  fill: currentColor;\n",
       "}\n",
       "</style><div class='xr-wrap'><div class='xr-header'><div class='xr-obj-type'>xarray.DataArray</div><div class='xr-array-name'>'NDVI'</div><ul class='xr-dim-list'><li><span class='xr-has-index'>time</span>: 1</li><li><span class='xr-has-index'>y</span>: 110</li><li><span class='xr-has-index'>x</span>: 126</li></ul></div><ul class='xr-sections'><li class='xr-section-item'><div class='xr-array-wrap'><input id='section-dbfd2063-3bcd-46b4-8023-579b4c45c3d6' class='xr-array-in' type='checkbox' ><label for='section-dbfd2063-3bcd-46b4-8023-579b4c45c3d6' title='Show/hide data repr'><svg class='icon xr-icon-database'><use xlink:href='#icon-database'></use></svg></label><div class='xr-array-preview xr-preview'><span>0.17875212 0.16500734 0.15951869 ... 0.3354444 0.25565428 0.25565428</span></div><pre class='xr-array-data'>array([[[ 0.17875212,  0.16500734,  0.15951869, ..., -0.57674414,\n",
       "         -0.5854375 , -0.5761124 ],\n",
       "        [ 0.16311818,  0.16500734,  0.15951869, ..., -0.5813954 ,\n",
       "         -0.5813954 , -0.5761124 ],\n",
       "        [ 0.16311818,  0.15751754,  0.1595941 , ..., -0.5813954 ,\n",
       "         -0.5813954 , -0.5803624 ],\n",
       "        ...,\n",
       "        [ 0.2053735 ,  0.23016733,  0.22739728, ...,  0.46319017,\n",
       "          0.46319017,  0.4820219 ],\n",
       "        [ 0.18421051,  0.18421051,  0.15629165, ...,  0.43334234,\n",
       "          0.43334234,  0.57621044],\n",
       "        [ 0.21815152,  0.18421051,  0.15629165, ...,  0.3354444 ,\n",
       "          0.25565428,  0.25565428]]], dtype=float32)</pre></div></li><li class='xr-section-item'><input id='section-2c299ac6-b1e3-4f62-a360-5ce336728268' class='xr-section-summary-in' type='checkbox'  checked><label for='section-2c299ac6-b1e3-4f62-a360-5ce336728268' class='xr-section-summary' >Coordinates: <span>(3)</span></label><div class='xr-section-inline-details'></div><div class='xr-section-details'><ul class='xr-var-list'><li class='xr-var-item'><div class='xr-var-name'><span class='xr-has-index'>x</span></div><div class='xr-var-dims'>(x)</div><div class='xr-var-dtype'>float64</div><div class='xr-var-preview xr-preview'>9.808e+05 9.808e+05 ... 9.839e+05</div><input id='attrs-450d2083-5972-4868-b65c-b098cb15ab95' class='xr-var-attrs-in' type='checkbox' ><label for='attrs-450d2083-5972-4868-b65c-b098cb15ab95' title='Show/Hide attributes'><svg class='icon xr-icon-file-text2'><use xlink:href='#icon-file-text2'></use></svg></label><input id='data-45e73b80-2061-40bc-ae60-4410bd888c56' class='xr-var-data-in' type='checkbox'><label for='data-45e73b80-2061-40bc-ae60-4410bd888c56' title='Show/Hide data repr'><svg class='icon xr-icon-database'><use xlink:href='#icon-database'></use></svg></label><div class='xr-var-attrs'><dl class='xr-attrs'><dt><span>units :</span></dt><dd>metre</dd><dt><span>resolution :</span></dt><dd>25.0</dd><dt><span>crs :</span></dt><dd>EPSG:3577</dd></dl></div><pre class='xr-var-data'>array([980752.5, 980777.5, 980802.5, 980827.5, 980852.5, 980877.5, 980902.5,\n",
       "       980927.5, 980952.5, 980977.5, 981002.5, 981027.5, 981052.5, 981077.5,\n",
       "       981102.5, 981127.5, 981152.5, 981177.5, 981202.5, 981227.5, 981252.5,\n",
       "       981277.5, 981302.5, 981327.5, 981352.5, 981377.5, 981402.5, 981427.5,\n",
       "       981452.5, 981477.5, 981502.5, 981527.5, 981552.5, 981577.5, 981602.5,\n",
       "       981627.5, 981652.5, 981677.5, 981702.5, 981727.5, 981752.5, 981777.5,\n",
       "       981802.5, 981827.5, 981852.5, 981877.5, 981902.5, 981927.5, 981952.5,\n",
       "       981977.5, 982002.5, 982027.5, 982052.5, 982077.5, 982102.5, 982127.5,\n",
       "       982152.5, 982177.5, 982202.5, 982227.5, 982252.5, 982277.5, 982302.5,\n",
       "       982327.5, 982352.5, 982377.5, 982402.5, 982427.5, 982452.5, 982477.5,\n",
       "       982502.5, 982527.5, 982552.5, 982577.5, 982602.5, 982627.5, 982652.5,\n",
       "       982677.5, 982702.5, 982727.5, 982752.5, 982777.5, 982802.5, 982827.5,\n",
       "       982852.5, 982877.5, 982902.5, 982927.5, 982952.5, 982977.5, 983002.5,\n",
       "       983027.5, 983052.5, 983077.5, 983102.5, 983127.5, 983152.5, 983177.5,\n",
       "       983202.5, 983227.5, 983252.5, 983277.5, 983302.5, 983327.5, 983352.5,\n",
       "       983377.5, 983402.5, 983427.5, 983452.5, 983477.5, 983502.5, 983527.5,\n",
       "       983552.5, 983577.5, 983602.5, 983627.5, 983652.5, 983677.5, 983702.5,\n",
       "       983727.5, 983752.5, 983777.5, 983802.5, 983827.5, 983852.5, 983877.5])</pre></li><li class='xr-var-item'><div class='xr-var-name'><span class='xr-has-index'>y</span></div><div class='xr-var-dims'>(y)</div><div class='xr-var-dtype'>float64</div><div class='xr-var-preview xr-preview'>-3.561e+06 ... -3.564e+06</div><input id='attrs-bf6c8657-7c17-45a0-9b3d-f7ca84a5de74' class='xr-var-attrs-in' type='checkbox' ><label for='attrs-bf6c8657-7c17-45a0-9b3d-f7ca84a5de74' title='Show/Hide attributes'><svg class='icon xr-icon-file-text2'><use xlink:href='#icon-file-text2'></use></svg></label><input id='data-bf418fbf-c216-46f0-9d51-a4c00862cb81' class='xr-var-data-in' type='checkbox'><label for='data-bf418fbf-c216-46f0-9d51-a4c00862cb81' title='Show/Hide data repr'><svg class='icon xr-icon-database'><use xlink:href='#icon-database'></use></svg></label><div class='xr-var-attrs'><dl class='xr-attrs'><dt><span>units :</span></dt><dd>metre</dd><dt><span>resolution :</span></dt><dd>-25.0</dd><dt><span>crs :</span></dt><dd>EPSG:3577</dd></dl></div><pre class='xr-var-data'>array([-3560847.5, -3560872.5, -3560897.5, -3560922.5, -3560947.5, -3560972.5,\n",
       "       -3560997.5, -3561022.5, -3561047.5, -3561072.5, -3561097.5, -3561122.5,\n",
       "       -3561147.5, -3561172.5, -3561197.5, -3561222.5, -3561247.5, -3561272.5,\n",
       "       -3561297.5, -3561322.5, -3561347.5, -3561372.5, -3561397.5, -3561422.5,\n",
       "       -3561447.5, -3561472.5, -3561497.5, -3561522.5, -3561547.5, -3561572.5,\n",
       "       -3561597.5, -3561622.5, -3561647.5, -3561672.5, -3561697.5, -3561722.5,\n",
       "       -3561747.5, -3561772.5, -3561797.5, -3561822.5, -3561847.5, -3561872.5,\n",
       "       -3561897.5, -3561922.5, -3561947.5, -3561972.5, -3561997.5, -3562022.5,\n",
       "       -3562047.5, -3562072.5, -3562097.5, -3562122.5, -3562147.5, -3562172.5,\n",
       "       -3562197.5, -3562222.5, -3562247.5, -3562272.5, -3562297.5, -3562322.5,\n",
       "       -3562347.5, -3562372.5, -3562397.5, -3562422.5, -3562447.5, -3562472.5,\n",
       "       -3562497.5, -3562522.5, -3562547.5, -3562572.5, -3562597.5, -3562622.5,\n",
       "       -3562647.5, -3562672.5, -3562697.5, -3562722.5, -3562747.5, -3562772.5,\n",
       "       -3562797.5, -3562822.5, -3562847.5, -3562872.5, -3562897.5, -3562922.5,\n",
       "       -3562947.5, -3562972.5, -3562997.5, -3563022.5, -3563047.5, -3563072.5,\n",
       "       -3563097.5, -3563122.5, -3563147.5, -3563172.5, -3563197.5, -3563222.5,\n",
       "       -3563247.5, -3563272.5, -3563297.5, -3563322.5, -3563347.5, -3563372.5,\n",
       "       -3563397.5, -3563422.5, -3563447.5, -3563472.5, -3563497.5, -3563522.5,\n",
       "       -3563547.5, -3563572.5])</pre></li><li class='xr-var-item'><div class='xr-var-name'><span class='xr-has-index'>time</span></div><div class='xr-var-dims'>(time)</div><div class='xr-var-dtype'>datetime64[ns]</div><div class='xr-var-preview xr-preview'>2018-01-14T00:20:27.714700</div><input id='attrs-a76df5a0-ff68-4644-8c82-b4f3d6bac27a' class='xr-var-attrs-in' type='checkbox' ><label for='attrs-a76df5a0-ff68-4644-8c82-b4f3d6bac27a' title='Show/Hide attributes'><svg class='icon xr-icon-file-text2'><use xlink:href='#icon-file-text2'></use></svg></label><input id='data-04b69d1b-bfa2-4ce7-9e00-587c53377186' class='xr-var-data-in' type='checkbox'><label for='data-04b69d1b-bfa2-4ce7-9e00-587c53377186' title='Show/Hide data repr'><svg class='icon xr-icon-database'><use xlink:href='#icon-database'></use></svg></label><div class='xr-var-attrs'><dl class='xr-attrs'><dt><span>units :</span></dt><dd>seconds since 1970-01-01 00:00:00</dd></dl></div><pre class='xr-var-data'>array([&#x27;2018-01-14T00:20:27.714700000&#x27;], dtype=&#x27;datetime64[ns]&#x27;)</pre></li></ul></div></li><li class='xr-section-item'><input id='section-1fe99663-b6c9-4f57-8d3c-4506d6cb723f' class='xr-section-summary-in' type='checkbox' disabled ><label for='section-1fe99663-b6c9-4f57-8d3c-4506d6cb723f' class='xr-section-summary'  title='Expand/collapse section'>Attributes: <span>(0)</span></label><div class='xr-section-inline-details'></div><div class='xr-section-details'><dl class='xr-attrs'></dl></div></li></ul></div></div>"
      ],
      "text/plain": [
       "<xarray.DataArray 'NDVI' (time: 1, y: 110, x: 126)>\n",
       "array([[[ 0.17875212,  0.16500734,  0.15951869, ..., -0.57674414,\n",
       "         -0.5854375 , -0.5761124 ],\n",
       "        [ 0.16311818,  0.16500734,  0.15951869, ..., -0.5813954 ,\n",
       "         -0.5813954 , -0.5761124 ],\n",
       "        [ 0.16311818,  0.15751754,  0.1595941 , ..., -0.5813954 ,\n",
       "         -0.5813954 , -0.5803624 ],\n",
       "        ...,\n",
       "        [ 0.2053735 ,  0.23016733,  0.22739728, ...,  0.46319017,\n",
       "          0.46319017,  0.4820219 ],\n",
       "        [ 0.18421051,  0.18421051,  0.15629165, ...,  0.43334234,\n",
       "          0.43334234,  0.57621044],\n",
       "        [ 0.21815152,  0.18421051,  0.15629165, ...,  0.3354444 ,\n",
       "          0.25565428,  0.25565428]]], dtype=float32)\n",
       "Coordinates:\n",
       "  * x        (x) float64 9.808e+05 9.808e+05 9.808e+05 ... 9.839e+05 9.839e+05\n",
       "  * y        (y) float64 -3.561e+06 -3.561e+06 ... -3.564e+06 -3.564e+06\n",
       "  * time     (time) datetime64[ns] 2018-01-14T00:20:27.714700"
      ]
     },
     "execution_count": 30,
     "metadata": {},
     "output_type": "execute_result"
    }
   ],
   "source": [
    "ndvi.NDVI"
   ]
  },
  {
   "cell_type": "code",
   "execution_count": null,
   "metadata": {},
   "outputs": [
    {
     "name": "stdout",
     "output_type": "stream",
     "text": [
      "Loading ga_ls5t_ard_3 data\n"
     ]
    }
   ],
   "source": [
    "# Load available data from all three Landsat satellites\n",
    "with fiona.open(multiple_polys_file) as shapes:    \n",
    "    #get crs object from polygon file using datacube.\n",
    "    crs = geometry.CRS(shapes.crs_wkt)\n",
    "    for feature in shapes:\n",
    "        #get feature geometry\n",
    "        feature_geometry=feature['geometry']\n",
    "        #create datacube geometry.Geometry object\n",
    "        geom = geometry.Geometry(feature_geometry, crs=crs)\n",
    "        \n",
    "        #this sets up our datacube query based off the corresponding polygon and the chosen date, the bands we wish to use . \n",
    "        query = {'geopolygon': geom,\n",
    "         'time': (early_buffer,late_buffer),\n",
    "         'measurements': ['nbart_red', 'nbart_green', 'nbart_blue', 'nbart_nir'],\n",
    "         'resolution':(-25,25)\n",
    "        }\n",
    "        #create a dataset to load our data into for the polygon of i\n",
    "        landsat_ds = load_ard(dc=dc, \n",
    "                              products=['ga_ls5t_ard_3', \n",
    "                                        'ga_ls7e_ard_3', \n",
    "                                        'ga_ls8c_ard_3'],\n",
    "                              min_gooddata=0.99, #only take uncloudy scenes\n",
    "                              ls7_slc_off = False, #ignore stripy data for demonstration    \n",
    "                              output_crs='EPSG:3577',\n",
    "                              align=(15, 15),\n",
    "                              group_by='solar_day',\n",
    "                              dask_chunks={},\n",
    "                              **query)\n",
    "        \n",
    "        #plot each polygon dataset in rgb\n",
    "        rgb(landsat_ds, col='time')\n",
    "        \n",
    "        #calculate NDVI for each polygon dataset\n",
    "        ndvi = calculate_indices(landsat_ds, index='NDVI', collection='ga_ls_3')\n",
    "        \n",
    "        #plot NDVI for each polygon for the time query\n",
    "        ndvi.NDVI.plot(col='time', cmap='YlGn', vmin=0, vmax=1)\n",
    "        plt.show()\n",
    "        #delete data to manage memory. You may prefer to write out your data and graphs to file - please check out the other Frequently_used_code notebooks for more info.\n",
    "       # del landsat_ds, ndvi"
   ]
  },
  {
   "cell_type": "code",
   "execution_count": null,
   "metadata": {},
   "outputs": [],
   "source": []
  },
  {
   "cell_type": "markdown",
   "metadata": {},
   "source": [
    "## Additional information"
   ]
  },
  {
   "cell_type": "markdown",
   "metadata": {},
   "source": [
    "**License:** The code in this notebook is licensed under the [Apache License, Version 2.0](https://www.apache.org/licenses/LICENSE-2.0). \n",
    "Digital Earth Australia data is licensed under the [Creative Commons by Attribution 4.0](https://creativecommons.org/licenses/by/4.0/) license.\n",
    "\n",
    "**Contact:** If you need assistance, please post a question on the [Open Data Cube Slack channel](http://slack.opendatacube.org/) or on the [GIS Stack Exchange](https://gis.stackexchange.com/questions/ask?tags=open-data-cube) using the `open-data-cube` tag (you can view previously asked questions [here](https://gis.stackexchange.com/questions/tagged/open-data-cube)).\n",
    "If you would like to report an issue with this notebook, you can file one on [Github](https://github.com/GeoscienceAustralia/dea-notebooks).\n",
    "\n",
    "**Last modified:** April 2020\n",
    "\n",
    "**Compatible `datacube` version:** "
   ]
  },
  {
   "cell_type": "code",
   "execution_count": 14,
   "metadata": {},
   "outputs": [
    {
     "name": "stdout",
     "output_type": "stream",
     "text": [
      "1.7+262.g1cf3cea8\n"
     ]
    }
   ],
   "source": [
    "print(datacube.__version__)"
   ]
  },
  {
   "cell_type": "markdown",
   "metadata": {},
   "source": [
    "## Tags\n",
    "Browse all available tags on the DEA User Guide's [Tags Index](https://docs.dea.ga.gov.au/genindex.html)"
   ]
  },
  {
   "cell_type": "raw",
   "metadata": {
    "raw_mimetype": "text/restructuredtext"
   },
   "source": [
    "**Tags**: :index:`NCI compatible`, :index:`sandbox compatible`, :index:` landsat 8`, :index:`dea_plotting`, :index:`rgb`, :index:`NDVI`"
   ]
  }
 ],
 "metadata": {
  "kernelspec": {
   "display_name": "Python 3",
   "language": "python",
   "name": "python3"
  },
  "language_info": {
   "codemirror_mode": {
    "name": "ipython",
    "version": 3
   },
   "file_extension": ".py",
   "mimetype": "text/x-python",
   "name": "python",
   "nbconvert_exporter": "python",
   "pygments_lexer": "ipython3",
   "version": "3.6.9"
  },
  "widgets": {
   "application/vnd.jupyter.widget-state+json": {
    "state": {},
    "version_major": 2,
    "version_minor": 0
   }
  }
 },
 "nbformat": 4,
 "nbformat_minor": 4
}
