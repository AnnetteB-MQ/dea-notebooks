{
 "cells": [
  {
   "cell_type": "markdown",
   "metadata": {},
   "source": [
    "<!-- ## import the csv of data from a Wetlands Insight Tool plot\n",
    "## render the graph\n",
    "## select the time of interest\n",
    "## plot the spatial distribution of the WIT classification for the time of interest -->\n"
   ]
  },
  {
   "cell_type": "markdown",
   "metadata": {},
   "source": [
    "- import csv of a given WIT output\n",
    "- render graph\n",
    "- select point on graph by clicking\n",
    "- plot spatial wit for point\n",
    "- output to GeoTiff"
   ]
  },
  {
   "cell_type": "code",
   "execution_count": 1,
   "metadata": {},
   "outputs": [],
   "source": [
    "# %matplotlib widget"
   ]
  },
  {
   "cell_type": "code",
   "execution_count": 2,
   "metadata": {},
   "outputs": [],
   "source": [
    "#run bokeh\n",
    "from bokeh.plotting import figure,show\n",
    "from bokeh.io import output_notebook"
   ]
  },
  {
   "cell_type": "code",
   "execution_count": 3,
   "metadata": {},
   "outputs": [],
   "source": [
    "import datacube\n",
    "import datetime\n",
    "# import fiona\n",
    "import geopandas as gpd\n",
    "import os\n",
    "import glob\n",
    "import numpy as np\n",
    "import pandas as pd\n",
    "\n",
    "import rasterio.mask\n",
    "import rasterio.features\n",
    "import seaborn as sns\n",
    "# from shapely import geometry\n",
    "import sys\n",
    "import xarray as xr\n",
    "\n",
    "from datetime import datetime, timedelta\n",
    "import matplotlib.dates as mdates\n",
    "import matplotlib.gridspec as gridspec\n",
    "import matplotlib.pyplot as plt\n",
    "from matplotlib.patches import Rectangle\n",
    "from textwrap import wrap\n",
    "\n",
    "from datacube.storage import masking\n",
    "# from datacube.utils import geometry\n",
    "# from datacube.utils.geometry import CRS\n",
    "# from digitalearthau.utils import wofs_fuser\n",
    "\n",
    "sys.path.append('/g/data/r78/rjd547/jupyter_notebooks/dea-notebooks/10_Scripts')\n",
    "import DEADataHandling, DEAPlotting, TasseledCapTools, WetlandsTools, SpatialTools, wetlands_insight\n",
    "\n",
    "dc = datacube.Datacube(app='wetlands insight tool')\n",
    "%load_ext autoreload\n",
    "%autoreload 2"
   ]
  },
  {
   "cell_type": "code",
   "execution_count": 4,
   "metadata": {},
   "outputs": [],
   "source": [
    "#set input directory\n",
    "# global Input_dir\n",
    "Input_dir = '/g/data/r78/rjd547/Ramsar_Wetlands/Wetlands_Insight_Tool/'"
   ]
  },
  {
   "cell_type": "markdown",
   "metadata": {},
   "source": [
    "### list available sites to plot"
   ]
  },
  {
   "cell_type": "code",
   "execution_count": 5,
   "metadata": {},
   "outputs": [],
   "source": [
    "#change to the input directory\n",
    "os.chdir(Input_dir)"
   ]
  },
  {
   "cell_type": "code",
   "execution_count": 6,
   "metadata": {},
   "outputs": [],
   "source": [
    "# #print all files\n",
    "# for file in glob.glob(\"*.csv\"):\n",
    "#     print(file)  "
   ]
  },
  {
   "cell_type": "code",
   "execution_count": 7,
   "metadata": {},
   "outputs": [
    {
     "name": "stdout",
     "output_type": "stream",
     "text": [
      "Hattah-Kulkyne_Lakes-Lake_Kramen-VIC-37.csv\n",
      "Hattah-Kulkyne_Lakes-Lake_Brockie-VIC-32.csv\n",
      "Hattah-Kulkyne_Lakes-Lake_Yelwell-VIC-40.csv\n",
      "Hattah-Kulkyne_Lakes-Lake_Hattah-VIC-35.csv\n",
      "Hattah-Kulkyne_Lakes-Lake_Mournpall-VIC-39.csv\n",
      "Hattah-Kulkyne_Lakes-Lake_Cantala-VIC-34.csv\n",
      "Hattah-Kulkyne_Lakes-Lake_Bitterang-VIC-31.csv\n",
      "Hattah-Kulkyne_Lakes-Lake_Lockie-VIC-38.csv\n",
      "Hattah-Kulkyne_Lakes-Lake_Yerang-VIC-41.csv\n",
      "Hattah-Kulkyne_Lakes-Lake_Bulla-VIC-33.csv\n",
      "Hattah-Kulkyne_Lakes-Lake_Konardin-VIC-36.csv\n",
      "Hattah-Kulkyne_Lakes-Lake_Arawak-VIC-30.csv\n"
     ]
    }
   ],
   "source": [
    "#alternatively, print the files you want only\n",
    "search_term = 'Hattah'\n",
    "for file in glob.glob(\"*Hattah*.csv\"):\n",
    "    print(file)"
   ]
  },
  {
   "cell_type": "code",
   "execution_count": 8,
   "metadata": {},
   "outputs": [],
   "source": [
    "#read in your desired csv of the WIT data. Rename the columns so they are easier to understand and plot \n",
    "WITdata = pd.read_csv('/g/data/r78/rjd547/Ramsar_Wetlands/Wetlands_Insight_Tool/Hattah-Kulkyne_Lakes-Lake_Hattah-VIC-35.csv',\n",
    "                     index_col=0, infer_datetime_format=True)\n",
    "\n",
    "#give the index a name that reflects that it is time, measured in UTC not AEDT/AEST\n",
    "WITdata.index.names = ['utc_time']\n",
    "\n",
    "#format the index of the dataframe as a date, not as a string\n",
    "WITdata.index = pd.to_datetime(WITdata.index)\n",
    "#Rename the columns so they are easier to understand and plot\n",
    "WITdata = WITdata.rename(columns={\"wofs_area_percent\" : \"water\", \n",
    "                        \"tcw_area_percent\" : \"wet\",\n",
    "                       \"PV_percent\" : \"green\",\n",
    "                       \"NPV_percent\" : \"dry\",\n",
    "                       \"BS_percent\" : \"bare\"}) \n",
    "WITdata.head()\n",
    "\n",
    "WITarray = WITdata.to_xarray()"
   ]
  },
  {
   "cell_type": "code",
   "execution_count": 9,
   "metadata": {},
   "outputs": [
    {
     "data": {
      "text/plain": [
       "numpy.datetime64('1986-08-17T23:42:44.500000000')"
      ]
     },
     "execution_count": 9,
     "metadata": {},
     "output_type": "execute_result"
    }
   ],
   "source": [
    "WITarray.utc_time[0].data"
   ]
  },
  {
   "cell_type": "code",
   "execution_count": 10,
   "metadata": {},
   "outputs": [],
   "source": [
    "#set up colour palette for our plots\n",
    "pal = [sns.xkcd_rgb[\"cobalt blue\"],\n",
    "       sns.xkcd_rgb[\"neon blue\"],\n",
    "       sns.xkcd_rgb[\"grass\"],\n",
    "       sns.xkcd_rgb[\"beige\"],\n",
    "       sns.xkcd_rgb[\"brown\"]]  "
   ]
  },
  {
   "cell_type": "code",
   "execution_count": 11,
   "metadata": {},
   "outputs": [
    {
     "data": {
      "text/plain": [
       "<xarray.Dataset>\n",
       "Dimensions:   (utc_time: 366)\n",
       "Coordinates:\n",
       "  * utc_time  (utc_time) datetime64[ns] 1986-08-17T23:42:44.500000 ... 2019-04-07T00:20:42\n",
       "Data variables:\n",
       "    water     (utc_time) float64 84.8 96.2 94.68 93.59 ... 61.56 67.21 64.39\n",
       "    wet       (utc_time) float64 2.39 0.65 0.98 1.09 1.3 ... 0.76 2.5 3.91 0.98\n",
       "    green     (utc_time) float64 2.28 0.0 0.0 0.0 0.33 ... 4.23 8.14 8.69 14.55\n",
       "    dry       (utc_time) float64 8.47 1.85 3.26 3.47 ... 12.49 6.84 16.29 11.62\n",
       "    bare      (utc_time) float64 2.06 1.3 1.09 1.85 ... 8.36 20.96 3.91 8.47"
      ]
     },
     "execution_count": 11,
     "metadata": {},
     "output_type": "execute_result"
    }
   ],
   "source": [
    "WITarray"
   ]
  },
  {
   "cell_type": "code",
   "execution_count": 12,
   "metadata": {},
   "outputs": [],
   "source": [
    "# %matplotlib widget"
   ]
  },
  {
   "cell_type": "code",
   "execution_count": 13,
   "metadata": {},
   "outputs": [
    {
     "ename": "NameError",
     "evalue": "name 'p' is not defined",
     "output_type": "error",
     "traceback": [
      "\u001b[0;31m---------------------------------------------------------------------------\u001b[0m",
      "\u001b[0;31mNameError\u001b[0m                                 Traceback (most recent call last)",
      "\u001b[0;32m<ipython-input-13-8779219cb9f2>\u001b[0m in \u001b[0;36m<module>\u001b[0;34m\u001b[0m\n\u001b[1;32m      3\u001b[0m \u001b[0;34m\u001b[0m\u001b[0m\n\u001b[1;32m      4\u001b[0m \u001b[0;34m\u001b[0m\u001b[0m\n\u001b[0;32m----> 5\u001b[0;31m p.varea_stack(['water',\n\u001b[0m\u001b[1;32m      6\u001b[0m               \u001b[0;34m'wet'\u001b[0m\u001b[0;34m,\u001b[0m\u001b[0;34m\u001b[0m\u001b[0;34m\u001b[0m\u001b[0m\n\u001b[1;32m      7\u001b[0m               \u001b[0;34m'green'\u001b[0m\u001b[0;34m,\u001b[0m\u001b[0;34m\u001b[0m\u001b[0;34m\u001b[0m\u001b[0m\n",
      "\u001b[0;31mNameError\u001b[0m: name 'p' is not defined"
     ]
    }
   ],
   "source": [
    "from bokeh.plotting import figure, output_file, show\n",
    "from bokeh.palettes import brewer\n",
    "\n",
    "\n",
    "p.varea_stack(['water',\n",
    "              'wet',\n",
    "              'green',\n",
    "              'dry',\n",
    "              'bare'], x= 'utc_time',color=brewer['Spectral'][5], source = WITdata)\n",
    "\n",
    "\n",
    "\n",
    "    \n",
    "show(p)   "
   ]
  },
  {
   "cell_type": "code",
   "execution_count": null,
   "metadata": {},
   "outputs": [],
   "source": [
    "    WITarray.utc_time.data, \n",
    "              WITarray.water, \n",
    "              WITarray.wet, \n",
    "              WITarray.green, \n",
    "              WITarray.dry,\n",
    "              WITarray.bare,\n",
    "              labels=['water',\n",
    "                      'wet',\n",
    "                      'green veg',\n",
    "                      'dry veg',\n",
    "                      'bare soil',\n",
    "                     ], colors=pal, alpha = 0.6)"
   ]
  },
  {
   "cell_type": "code",
   "execution_count": null,
   "metadata": {},
   "outputs": [],
   "source": [
    "#set axis limits to the min and max\n",
    "plt.axis(xmin = WITarray.utc_time.data[0], xmax = WITarray.utc_time.data[-1], ymin = 0, ymax = 100)\n",
    "\n",
    "#add a legend and a tight plot box\n",
    "plt.legend(loc='lower left', framealpha=0.6)\n",
    "#plt.tight_layout()\n",
    "\n",
    "#create rectangle borders for no-data times (SLC-off only)\n",
    "LS5_8_gap_start = datetime(2011,11,1)\n",
    "LS5_8_gap_end = datetime(2013,4,1)\n",
    "\n",
    "# convert to matplotlib date representation\n",
    "gap_start = mdates.date2num(LS5_8_gap_start)\n",
    "gap_end = mdates.date2num(LS5_8_gap_end)\n",
    "gap = gap_end - gap_start\n",
    "\n",
    "\n",
    "#set date ticks every year\n",
    "years = mdates.YearLocator(2)\n",
    "yearsFmt = mdates.DateFormatter('%Y')\n",
    "ax = plt.gca()\n",
    "ax.xaxis.set_major_locator(years)\n",
    "ax.xaxis.set_major_formatter(yearsFmt)\n",
    "ax.yaxis.set_ticks(np.arange(0,110,10))\n",
    "ax.set_xlabel(f'The Fractional Cover algorithm developed by the Joint Remote'\n",
    "f' Sensing Research Program and \\n the Water Observations from Space algorithm '\n",
    "f'developed by Geoscience Australia are used in the production of this data',style='italic')\n",
    "\n",
    "\n",
    "#set up rectangle\n",
    "slc_rectangle= Rectangle((gap_start,0), gap, 100,alpha = 0.5, facecolor=sns.xkcd_rgb['white'],\n",
    "             edgecolor=sns.xkcd_rgb['white'], hatch=\"////\",linewidth=2)\n",
    "ax.add_patch(slc_rectangle)\n",
    "fig.autofmt_xdate()\n",
    "\n",
    "\n",
    "polyName=search_term+\"?\"\n",
    "\n",
    "polyName=polyName.replace(\"'\",\"\\\\'\")\n",
    "title=ax.set_title(\"\\n\".join(wrap(f'Percentage of area WOfS, Wetness, Fractional Cover for {polyName}')))\n",
    "fig.tight_layout()\n",
    "title.set_y(1.05)\n",
    "\n",
    "#save the figure\n",
    "#4plt.savefig(f'{Output_dir}{polyName}.png')#, transparent=True)\n",
    "\n",
    "#create a click event for plotting the graph, to return the date clicked on.\n",
    "# def on_pick(event):\n",
    "#     print (f'time selected={event.xdata}')\n",
    "#     global return_timesel\n",
    "#     return_timesel=event.xdata\n",
    "    \n",
    "    \n",
    "# cid = fig.canvas.mpl_connect('pick_event', on_pick)\n",
    "# plt.show()\n",
    "# print(f'plot created for {polyName}')"
   ]
  },
  {
   "cell_type": "code",
   "execution_count": null,
   "metadata": {},
   "outputs": [],
   "source": [
    "# #make a stacked area plot\n",
    "# plt.clf()\n",
    "# fig= plt.figure(figsize = (14,7))\n",
    "# plt.stackplot(WITarray.utc_time.data, \n",
    "#               WITarray.water, \n",
    "#               WITarray.wet, \n",
    "#               WITarray.green, \n",
    "#               WITarray.dry,\n",
    "#               WITarray.bare,\n",
    "#               labels=['water',\n",
    "#                       'wet',\n",
    "#                       'green veg',\n",
    "#                       'dry veg',\n",
    "#                       'bare soil',\n",
    "#                      ], colors=pal, alpha = 0.6)\n",
    "\n",
    "# #set axis limits to the min and max\n",
    "# plt.axis(xmin = WITarray.utc_time.data[0], xmax = WITarray.utc_time.data[-1], ymin = 0, ymax = 100)\n",
    "\n",
    "# #add a legend and a tight plot box\n",
    "# plt.legend(loc='lower left', framealpha=0.6)\n",
    "# #plt.tight_layout()\n",
    "\n",
    "# #create rectangle borders for no-data times (SLC-off only)\n",
    "# LS5_8_gap_start = datetime(2011,11,1)\n",
    "# LS5_8_gap_end = datetime(2013,4,1)\n",
    "\n",
    "# # convert to matplotlib date representation\n",
    "# gap_start = mdates.date2num(LS5_8_gap_start)\n",
    "# gap_end = mdates.date2num(LS5_8_gap_end)\n",
    "# gap = gap_end - gap_start\n",
    "\n",
    "\n",
    "# #set date ticks every year\n",
    "# years = mdates.YearLocator(2)\n",
    "# yearsFmt = mdates.DateFormatter('%Y')\n",
    "# ax = plt.gca()\n",
    "# ax.xaxis.set_major_locator(years)\n",
    "# ax.xaxis.set_major_formatter(yearsFmt)\n",
    "# ax.yaxis.set_ticks(np.arange(0,110,10))\n",
    "# ax.set_xlabel(f'The Fractional Cover algorithm developed by the Joint Remote'\n",
    "# f' Sensing Research Program and \\n the Water Observations from Space algorithm '\n",
    "# f'developed by Geoscience Australia are used in the production of this data',style='italic')\n",
    "\n",
    "\n",
    "# #set up rectangle\n",
    "# slc_rectangle= Rectangle((gap_start,0), gap, 100,alpha = 0.5, facecolor=sns.xkcd_rgb['white'],\n",
    "#              edgecolor=sns.xkcd_rgb['white'], hatch=\"////\",linewidth=2)\n",
    "# ax.add_patch(slc_rectangle)\n",
    "# fig.autofmt_xdate()\n",
    "\n",
    "\n",
    "# polyName=search_term+\"?\"\n",
    "\n",
    "# polyName=polyName.replace(\"'\",\"\\\\'\")\n",
    "# title=ax.set_title(\"\\n\".join(wrap(f'Percentage of area WOfS, Wetness, Fractional Cover for {polyName}')))\n",
    "# fig.tight_layout()\n",
    "# title.set_y(1.05)\n",
    "\n",
    "# #save the figure\n",
    "# #4plt.savefig(f'{Output_dir}{polyName}.png')#, transparent=True)\n",
    "\n",
    "# #create a click event for plotting the graph, to return the date clicked on.\n",
    "# def on_pick(event):\n",
    "#     print (f'time selected={event.xdata}')\n",
    "#     global return_timesel\n",
    "#     return_timesel=event.xdata\n",
    "    \n",
    "    \n",
    "# cid = fig.canvas.mpl_connect('pick_event', on_pick)\n",
    "# plt.show()\n",
    "# print(f'plot created for {polyName}')"
   ]
  },
  {
   "cell_type": "code",
   "execution_count": null,
   "metadata": {},
   "outputs": [],
   "source": []
  }
 ],
 "metadata": {
  "kernelspec": {
   "display_name": "Python 3",
   "language": "python",
   "name": "python3"
  },
  "language_info": {
   "codemirror_mode": {
    "name": "ipython",
    "version": 3
   },
   "file_extension": ".py",
   "mimetype": "text/x-python",
   "name": "python",
   "nbconvert_exporter": "python",
   "pygments_lexer": "ipython3",
   "version": "3.6.7"
  }
 },
 "nbformat": 4,
 "nbformat_minor": 4
}
