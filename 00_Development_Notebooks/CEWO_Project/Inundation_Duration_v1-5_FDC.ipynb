{
 "cells": [
  {
   "cell_type": "markdown",
   "metadata": {},
   "source": [
    "# Draft Inundation duration notebook"
   ]
  },
  {
   "cell_type": "markdown",
   "metadata": {},
   "source": [
    "**What does this notebook do?** \n",
    "\n",
    "**Requirements:**\n",
    "\n",
    "You need [data access](http://geoscienceaustralia.github.io/digitalearthau/connect/account.html#data-access) to the following [NCI projects](http://geoscienceaustralia.github.io/digitalearthau/connect/account.html#nci-account-registration) to run this notebook: `rs0` \n",
    "\n",
    "You need to run the following commands from the command line prior to launching jupyter notebooks from the same terminal so that the required libraries and paths are set:\n",
    "\n",
    "`module use /g/data/v10/public/modules/modulefiles` \n",
    "\n",
    "`module load dea`\n",
    "\n",
    "\n",
    "If you find an error or bug in this notebook, please either create an 'Issue' in the Github repository, or fix it yourself and create a 'Pull' request to contribute the updated notebook back into the repository (See the repository [README](https://github.com/GeoscienceAustralia/dea-notebooks/blob/master/README.rst) for instructions on creating a Pull request).\n",
    "\n",
    "**Date:** August 2019\n",
    "\n",
    "**Author:** Bex Dunn"
   ]
  },
  {
   "cell_type": "markdown",
   "metadata": {},
   "source": [
    "#Fixme: update tags index\n",
    "\n",
    "**Tags**: :index:``, :index:``, :index:``, :index:``, :index:``, :index:``, :index:``"
   ]
  },
  {
   "cell_type": "markdown",
   "metadata": {},
   "source": [
    "### load modules"
   ]
  },
  {
   "cell_type": "code",
   "execution_count": 13,
   "metadata": {},
   "outputs": [
    {
     "name": "stdout",
     "output_type": "stream",
     "text": [
      "The autoreload extension is already loaded. To reload it, use:\n",
      "  %reload_ext autoreload\n"
     ]
    }
   ],
   "source": [
    "import datacube\n",
    "import datetime\n",
    "import fiona\n",
    "import geopandas as gpd\n",
    "import numpy as np\n",
    "import pandas as pd\n",
    "import rasterio.mask\n",
    "import rasterio.features\n",
    "from shapely import geometry\n",
    "import seaborn as sns\n",
    "import sys\n",
    "import xarray as xr\n",
    "\n",
    "import folium\n",
    "from pyproj import Proj, transform\n",
    "import math\n",
    "\n",
    "from datetime import datetime, timedelta\n",
    "import matplotlib.dates as mdates\n",
    "import matplotlib.gridspec as gridspec\n",
    "import matplotlib.pyplot as plt\n",
    "from matplotlib.patches import Rectangle\n",
    "from textwrap import wrap\n",
    "\n",
    "from datacube.storage import masking\n",
    "from datacube.utils import geometry\n",
    "from datacube.utils.geometry import CRS\n",
    "from digitalearthau.utils import wofs_fuser\n",
    "\n",
    "sys.path.append('/g/data/r78/rjd547/jupyter_notebooks/dea-notebooks/10_Scripts')\n",
    "import DEADataHandling, DEAPlotting, TasseledCapTools, WetlandsTools, SpatialTools\n",
    "\n",
    "dc = datacube.Datacube(app='wetlands insight tool')\n",
    "%load_ext autoreload\n",
    "%autoreload 2"
   ]
  },
  {
   "cell_type": "markdown",
   "metadata": {},
   "source": [
    "## define custom functions only used in this notebook"
   ]
  },
  {
   "cell_type": "markdown",
   "metadata": {},
   "source": [
    "### specify input and output paths"
   ]
  },
  {
   "cell_type": "code",
   "execution_count": 2,
   "metadata": {},
   "outputs": [],
   "source": [
    "#path to hydrograph data\n",
    "flowdata = '/g/data/r78/rjd547/CEWO_Project/Data/flow_data_mac_marsh_2018/FlowData.xlsx'"
   ]
  },
  {
   "cell_type": "code",
   "execution_count": 3,
   "metadata": {},
   "outputs": [],
   "source": [
    "#set output directory\n",
    "global Output_dir\n",
    "Output_dir = '/g/data/r78/rjd547/CEWO_Project/prototyping_outputs/'"
   ]
  },
  {
   "cell_type": "code",
   "execution_count": 4,
   "metadata": {},
   "outputs": [],
   "source": [
    "#set polygon path\n",
    "poly_path='/g/data/r78/rjd547/Ramsar_Wetlands/shapefiles/ExplodedRAMSAR.shp'"
   ]
  },
  {
   "cell_type": "markdown",
   "metadata": {},
   "source": [
    "## get feature from shapefile to construct query"
   ]
  },
  {
   "cell_type": "code",
   "execution_count": 5,
   "metadata": {},
   "outputs": [
    {
     "name": "stdout",
     "output_type": "stream",
     "text": [
      "processing polygon The_Macquarie_Marshes-Macquarie_Marshes_Nature_Reserve-NSW-94\n"
     ]
    }
   ],
   "source": [
    "with fiona.open(poly_path) as shapes:\n",
    "    #get crs object from polygon file\n",
    "    crs = geometry.CRS(shapes.crs_wkt)\n",
    "    for feature in shapes:\n",
    "        #print (feature['id'])\n",
    "        if feature['id'] == str(94): #matching this because I know the number for mac marshes\n",
    "            #get feature geometry\n",
    "            feature_geometry=feature['geometry']\n",
    "            polyname =WetlandsTools.get_RAMSAR_polyName(feature)\n",
    "            #print(polyname)\n",
    "            #create datacube geometry.Geometry object\n",
    "            geom = geometry.Geometry(feature_geometry, crs=crs)\n",
    "            query = {'geopolygon': geom}#, 'time': ('2001-01-01', '2003-01-01') }# this should run for all time, if there is no time set?\n",
    "            #load and mask data. selecting data with more than 90% clear for the geobox around the polygon... #FIXME"
   ]
  },
  {
   "cell_type": "markdown",
   "metadata": {},
   "source": [
    "### show our area of interest on a map"
   ]
  },
  {
   "cell_type": "code",
   "execution_count": 6,
   "metadata": {},
   "outputs": [],
   "source": [
    "# get the bounding box around the polygon in order to plot our area of interest\n",
    "feature_bounding_box = geometry.Geometry(feature_geometry, crs=crs).boundingbox"
   ]
  },
  {
   "cell_type": "code",
   "execution_count": 7,
   "metadata": {},
   "outputs": [],
   "source": [
    "#convert geometry from albers to geographic in order to plot on the web basemap\n",
    "map_poly_geom =geom.to_crs(CRS('epsg:4326'))"
   ]
  },
  {
   "cell_type": "code",
   "execution_count": 8,
   "metadata": {},
   "outputs": [],
   "source": [
    "\n",
    "\n",
    "# Define function to assist `display_map` in selecting a zoom level for plotting\n",
    "def _degree_to_zoom_level(l1, l2, margin = 0.0):\n",
    "    \n",
    "    \"\"\"\n",
    "    Helper function to set zoom level for `display_map`\n",
    "    \"\"\"\n",
    "    \n",
    "    degree = abs(l1 - l2) * (1 + margin)\n",
    "    zoom_level_int = 0\n",
    "    if degree != 0:\n",
    "        zoom_level_float = math.log(360 / degree) / math.log(2)\n",
    "        zoom_level_int = int(zoom_level_float)\n",
    "    else:\n",
    "        zoom_level_int = 18\n",
    "    return zoom_level_int\n",
    "\n",
    "# def display_map(y, x, crs='EPSG:3577', margin=-0.5, zoom_bias=0):\n",
    "y=(feature_bounding_box[1], feature_bounding_box[3])\n",
    "x = (feature_bounding_box[0], feature_bounding_box[2])\n",
    "crs='EPSG:3577'\n",
    "margin=-0.5\n",
    "zoom_bias=0\n",
    "\n",
    "\"\"\" \n",
    "Given a set of x and y coordinates, this function generates an interactive map with a bounded \n",
    "rectangle overlayed on Google Maps imagery.        \n",
    "\n",
    "Last modified: November 2018\n",
    "Author: Robbi Bishop-Taylor\n",
    "\n",
    "Modified from function written by Otto Wagner available here: \n",
    "https://github.com/ceos-seo/data_cube_utilities/tree/master/data_cube_utilities\n",
    "\n",
    "Parameters\n",
    "----------  \n",
    "x : (float, float)\n",
    "    A tuple of x coordinates in (min, max) format. \n",
    "y : (float, float)\n",
    "    A tuple of y coordinates in (min, max) format.\n",
    "crs : string, optional\n",
    "    A string giving the EPSG CRS code of the supplied coordinates. The default is 'EPSG:3577'.\n",
    "margin : float\n",
    "    A numeric value giving the number of degrees lat-long to pad the edges of the rectangular overlay \n",
    "    polygon. A larger value results more space between the edge of the plot and the sides of the polygon.\n",
    "    Defaults to -0.5.\n",
    "zoom_bias : float or int\n",
    "    A numeric value allowing you to increase or decrease the zoom level by one step. Defaults to 0; set\n",
    "    to greater than 0 to zoom in, and less than 0 to zoom out.\n",
    "\n",
    "Returns\n",
    "-------\n",
    "folium.Map : A map centered on the supplied coordinate bounds. A rectangle is drawn on this map detailing \n",
    "the perimeter of the x, y bounds.  A zoom level is calculated such that the resulting viewport is the\n",
    "closest it can possibly get to the centered bounding rectangle without clipping it. \n",
    "\"\"\"\n",
    "    \n",
    "# Convert each corner coordinates to lat-lon\n",
    "all_x = (x[0], x[1], x[0], x[1])\n",
    "all_y = (y[0], y[0], y[1], y[1])        \n",
    "all_longitude, all_latitude = transform(Proj(init=crs), Proj(init='EPSG:4326'), all_x, all_y) \n",
    "\n",
    "# Calculate zoom level based on coordinates \n",
    "lat_zoom_level = _degree_to_zoom_level(min(all_latitude), max(all_latitude), margin = margin) + zoom_bias\n",
    "lon_zoom_level = _degree_to_zoom_level(min(all_longitude), max(all_longitude), margin = margin) + zoom_bias\n",
    "zoom_level = min(lat_zoom_level, lon_zoom_level) \n",
    "\n",
    "# Identify centre point for plotting\n",
    "center = [np.mean(all_latitude), np.mean(all_longitude)]\n",
    "\n",
    "# Create map\n",
    "interactive_map = folium.Map(location=center,\n",
    "                             zoom_start=zoom_level,\n",
    "                             tiles=\"http://mt1.google.com/vt/lyrs=y&z={z}&x={x}&y={y}\",\n",
    "                             attr=\"Google\") \n",
    "\n",
    "# Create bounding box coordinates to overlay on map\n",
    "line_segments = [(all_latitude[0], all_longitude[0]),\n",
    "                 (all_latitude[1], all_longitude[1]),\n",
    "                 (all_latitude[3], all_longitude[3]),\n",
    "                 (all_latitude[2], all_longitude[2]),\n",
    "                 (all_latitude[0], all_longitude[0])] \n",
    "\n",
    "# Add bounding box as an overlay\n",
    "#interactive_map.add_child(folium.features.PolyLine(locations=line_segments,\n",
    "                                        #           color='red', opacity=0.8))\n",
    "\n",
    "\n",
    "#interactive_map.add_child(folium.GeoJson(map_poly_geom.__geo_interface__))"
   ]
  },
  {
   "cell_type": "code",
   "execution_count": 9,
   "metadata": {},
   "outputs": [],
   "source": [
    "gauge_data = pd.read_excel(flowdata, \n",
    "                        sheet_name='Sheet1', \n",
    "                        header=(2), \n",
    "                        usecols=('Date','Flow','NSWEW','CEW'),\n",
    "                        index_col='Date',\n",
    "                        parse_dates=True\n",
    "                        )"
   ]
  },
  {
   "cell_type": "code",
   "execution_count": 14,
   "metadata": {},
   "outputs": [
    {
     "data": {
      "text/html": [
       "<div>\n",
       "<style scoped>\n",
       "    .dataframe tbody tr th:only-of-type {\n",
       "        vertical-align: middle;\n",
       "    }\n",
       "\n",
       "    .dataframe tbody tr th {\n",
       "        vertical-align: top;\n",
       "    }\n",
       "\n",
       "    .dataframe thead th {\n",
       "        text-align: right;\n",
       "    }\n",
       "</style>\n",
       "<table border=\"1\" class=\"dataframe\">\n",
       "  <thead>\n",
       "    <tr style=\"text-align: right;\">\n",
       "      <th></th>\n",
       "      <th>Flow</th>\n",
       "      <th>NSWEW</th>\n",
       "      <th>CEW</th>\n",
       "    </tr>\n",
       "    <tr>\n",
       "      <th>Date</th>\n",
       "      <th></th>\n",
       "      <th></th>\n",
       "      <th></th>\n",
       "    </tr>\n",
       "  </thead>\n",
       "  <tbody>\n",
       "    <tr>\n",
       "      <th>2014-07-01</th>\n",
       "      <td>171.606583</td>\n",
       "      <td>0.0</td>\n",
       "      <td>0.0</td>\n",
       "    </tr>\n",
       "    <tr>\n",
       "      <th>2014-07-02</th>\n",
       "      <td>181.926173</td>\n",
       "      <td>0.0</td>\n",
       "      <td>0.0</td>\n",
       "    </tr>\n",
       "    <tr>\n",
       "      <th>2014-07-03</th>\n",
       "      <td>188.461760</td>\n",
       "      <td>0.0</td>\n",
       "      <td>0.0</td>\n",
       "    </tr>\n",
       "    <tr>\n",
       "      <th>2014-07-04</th>\n",
       "      <td>211.668473</td>\n",
       "      <td>0.0</td>\n",
       "      <td>0.0</td>\n",
       "    </tr>\n",
       "    <tr>\n",
       "      <th>2014-07-05</th>\n",
       "      <td>212.710418</td>\n",
       "      <td>0.0</td>\n",
       "      <td>0.0</td>\n",
       "    </tr>\n",
       "  </tbody>\n",
       "</table>\n",
       "</div>"
      ],
      "text/plain": [
       "                  Flow  NSWEW  CEW\n",
       "Date                              \n",
       "2014-07-01  171.606583    0.0  0.0\n",
       "2014-07-02  181.926173    0.0  0.0\n",
       "2014-07-03  188.461760    0.0  0.0\n",
       "2014-07-04  211.668473    0.0  0.0\n",
       "2014-07-05  212.710418    0.0  0.0"
      ]
     },
     "execution_count": 14,
     "metadata": {},
     "output_type": "execute_result"
    }
   ],
   "source": [
    "#look at the top of our csv file\n",
    "gauge_data.head()"
   ]
  },
  {
   "cell_type": "markdown",
   "metadata": {},
   "source": [
    "### convert flow data to xarray"
   ]
  },
  {
   "cell_type": "code",
   "execution_count": 11,
   "metadata": {},
   "outputs": [],
   "source": [
    "#convert flow data to xarray\n",
    "flow_data=gauge_data.to_xarray()"
   ]
  },
  {
   "cell_type": "markdown",
   "metadata": {},
   "source": [
    "### Create query from gauge data and area polygon"
   ]
  },
  {
   "cell_type": "code",
   "execution_count": 37,
   "metadata": {},
   "outputs": [],
   "source": [
    "query = {'geopolygon': geom,\n",
    "         'time': (gauge_data.index[0], gauge_data.index[-1]) #get first and last times for our query from original xlsx\n",
    "         }"
   ]
  },
  {
   "cell_type": "markdown",
   "metadata": {},
   "source": [
    "### load landsat data for our AOI"
   ]
  },
  {
   "cell_type": "code",
   "execution_count": 38,
   "metadata": {},
   "outputs": [
    {
     "name": "stdout",
     "output_type": "stream",
     "text": [
      "Loading ls5\n",
      "    Skipping ls5; no valid data for query\n",
      "Loading ls7\n",
      "    Ignoring SLC-off observations for ls7\n",
      "    Skipping ls7; no valid data for query\n",
      "Loading ls8\n",
      "    Loading 51 filtered ls8 timesteps\n",
      "Returning ls8 data\n",
      "    Replacing invalid -999 values with NaN (data will be coerced to float64)\n"
     ]
    }
   ],
   "source": [
    "#landsat_data, mask_xr= WetlandsTools.get_masked_ls578_data(dc=dc,geom=geom, query=query)\n",
    "landsat_masked_prop = 0.90\n",
    "ls578_ds = DEADataHandling.load_clearlandsat(dc=dc, query=query, product='nbart',\n",
    "            masked_prop=landsat_masked_prop)"
   ]
  },
  {
   "cell_type": "markdown",
   "metadata": {},
   "source": [
    "### calculate tasselled cap wetness within AOI"
   ]
  },
  {
   "cell_type": "code",
   "execution_count": 39,
   "metadata": {},
   "outputs": [],
   "source": [
    "#tcw = WetlandsTools.get_masked_tcw(sr_data=landsat_data, mask=mask_xr, threshold=-350)\n",
    "#transform the nbart into tci\n",
    "tci = TasseledCapTools.thresholded_tasseled_cap(ls578_ds,wetness_threshold=-350, drop=True , drop_tc_bands=True)\n",
    "#select only finite values (over threshold values)\n",
    "#tcw = xr.ufuncs.isfinite(tci.wetness_thresholded)"
   ]
  },
  {
   "cell_type": "code",
   "execution_count": 40,
   "metadata": {},
   "outputs": [],
   "source": [
    "tcw=TasseledCapTools.tasseled_cap(ls578_ds, tc_bands=['wetness'], drop=True)"
   ]
  },
  {
   "cell_type": "code",
   "execution_count": 41,
   "metadata": {},
   "outputs": [
    {
     "data": {
      "text/plain": [
       "<xarray.Dataset>\n",
       "Dimensions:  (time: 51, x: 439, y: 651)\n",
       "Coordinates:\n",
       "  * time     (time) datetime64[ns] 2014-07-09T00:01:18 ... 2017-06-15T00:01:09.500000\n",
       "  * y        (y) float64 -3.423e+06 -3.423e+06 ... -3.439e+06 -3.439e+06\n",
       "  * x        (x) float64 1.465e+06 1.465e+06 1.465e+06 ... 1.476e+06 1.476e+06\n",
       "Data variables:\n",
       "    wetness  (time, y, x) float64 -2.801e+03 -2.497e+03 ... -2.796e+03\n",
       "Attributes:\n",
       "    crs:      EPSG:3577"
      ]
     },
     "execution_count": 41,
     "metadata": {},
     "output_type": "execute_result"
    }
   ],
   "source": [
    "tcw"
   ]
  },
  {
   "cell_type": "markdown",
   "metadata": {},
   "source": [
    "### work out flow where we have imagery"
   ]
  },
  {
   "cell_type": "code",
   "execution_count": 42,
   "metadata": {},
   "outputs": [],
   "source": [
    "#using interp to estimate the flow height where we have imagery\n",
    "landsat_flowheights = flow_data.interp(Date=tcw.time)"
   ]
  },
  {
   "cell_type": "code",
   "execution_count": 43,
   "metadata": {},
   "outputs": [],
   "source": [
    "#add this then back into the wetness xarray\n",
    "tcw['flow_height']=landsat_flowheights.Flow\n",
    "#landsat_flowheights"
   ]
  },
  {
   "cell_type": "code",
   "execution_count": 45,
   "metadata": {},
   "outputs": [
    {
     "data": {
      "text/plain": [
       "[<matplotlib.lines.Line2D at 0x7f63efaaa9b0>]"
      ]
     },
     "execution_count": 45,
     "metadata": {},
     "output_type": "execute_result"
    },
    {
     "data": {
      "image/png": "[encoded data removed]",
      "text/plain": [
       "<Figure size 432x288 with 1 Axes>"
      ]
     },
     "metadata": {
      "needs_background": "light"
     },
     "output_type": "display_data"
    }
   ],
   "source": [
    "tcw.flow_height.plot()\n",
    "gauge_data['Flow'].plot(alpha=0.3)\n",
    "tcw.wetness.mean(dim=['x','y']).plot(alpha=0.4)"
   ]
  },
  {
   "cell_type": "markdown",
   "metadata": {},
   "source": [
    "#### swap dimensions to organise wetness by flow height"
   ]
  },
  {
   "cell_type": "code",
   "execution_count": 46,
   "metadata": {},
   "outputs": [],
   "source": [
    "tcw_ds=tcw.swap_dims({'time':'flow_height'}).sortby('flow_height')\n",
    "#keep flow height as a variable\n",
    "tcw_ds['flow_height_var']=tcw_ds.flow_height"
   ]
  },
  {
   "cell_type": "code",
   "execution_count": 47,
   "metadata": {},
   "outputs": [
    {
     "data": {
      "text/plain": [
       "<xarray.Dataset>\n",
       "Dimensions:          (flow_height: 51, x: 439, y: 651)\n",
       "Coordinates:\n",
       "    time             (flow_height) datetime64[ns] 2016-05-27T00:01:05.500000 ... 2016-10-02T00:01:42\n",
       "  * y                (y) float64 -3.423e+06 -3.423e+06 ... -3.439e+06 -3.439e+06\n",
       "  * x                (x) float64 1.465e+06 1.465e+06 ... 1.476e+06 1.476e+06\n",
       "    Date             (flow_height) datetime64[ns] 2016-05-27T00:01:05.500000 ... 2016-10-02T00:01:42\n",
       "  * flow_height      (flow_height) float64 32.37 38.92 ... 5.971e+03 6.734e+03\n",
       "Data variables:\n",
       "    wetness          (flow_height, y, x) float64 nan nan nan ... -136.4 -188.7\n",
       "    flow_height_var  (flow_height) float64 32.37 38.92 ... 5.971e+03 6.734e+03\n",
       "Attributes:\n",
       "    crs:      EPSG:3577"
      ]
     },
     "execution_count": 47,
     "metadata": {},
     "output_type": "execute_result"
    }
   ],
   "source": [
    "tcw_ds"
   ]
  },
  {
   "cell_type": "code",
   "execution_count": 48,
   "metadata": {},
   "outputs": [],
   "source": [
    "rolling_wetness= tcw_ds.rolling(flow_height=50, center=True, min_periods=1).median(dim='flow_height')"
   ]
  },
  {
   "cell_type": "code",
   "execution_count": 50,
   "metadata": {},
   "outputs": [
    {
     "data": {
      "text/plain": [
       "[<matplotlib.lines.Line2D at 0x7f63ef3e22b0>]"
      ]
     },
     "execution_count": 50,
     "metadata": {},
     "output_type": "execute_result"
    },
    {
     "data": {
      "image/png": "[encoded data removed]",
      "text/plain": [
       "<Figure size 432x288 with 1 Axes>"
      ]
     },
     "metadata": {
      "needs_background": "light"
     },
     "output_type": "display_data"
    }
   ],
   "source": [
    "tcw.flow_height.plot()\n",
    "gauge_data['Flow'].plot(alpha=0.3)\n",
    "rolling_wetness.wetness.mean(dim=['x','y']).plot(alpha=0.4)"
   ]
  },
  {
   "cell_type": "code",
   "execution_count": null,
   "metadata": {},
   "outputs": [],
   "source": [
    "flow_data"
   ]
  },
  {
   "cell_type": "code",
   "execution_count": null,
   "metadata": {},
   "outputs": [],
   "source": []
  },
  {
   "cell_type": "code",
   "execution_count": null,
   "metadata": {},
   "outputs": [],
   "source": []
  },
  {
   "cell_type": "code",
   "execution_count": null,
   "metadata": {},
   "outputs": [],
   "source": []
  },
  {
   "cell_type": "code",
   "execution_count": null,
   "metadata": {},
   "outputs": [],
   "source": [
    "# contour_gdf = SpatialTools.contour_extract(z_values=list(range(0,11,1)),\n",
    "#                                             ds_array=TCW_percentiles_sum,\n",
    "#                                             ds_crs=TCW_percentiles_sum.geobox.crs,\n",
    "#                                             ds_affine=TCW_percentiles_sum.geobox.affine,\n",
    "#                                             output_shp='extracted_contours.shp')\n",
    "\n",
    "# # Print output\n",
    "# #contour_gdf"
   ]
  },
  {
   "cell_type": "code",
   "execution_count": null,
   "metadata": {},
   "outputs": [],
   "source": [
    "# ax = contour_gdf.plot(column='z_value',figsize=(10, 8), legend=True)\n",
    "\n",
    "# leg=ax.get_legend()\n",
    "\n",
    "# colourbar = ax.get_figure().get_axes()[1]\n",
    "\n",
    "# plt.show()"
   ]
  },
  {
   "cell_type": "code",
   "execution_count": null,
   "metadata": {},
   "outputs": [],
   "source": []
  }
 ],
 "metadata": {
  "kernelspec": {
   "display_name": "Python 3",
   "language": "python",
   "name": "python3"
  },
  "language_info": {
   "codemirror_mode": {
    "name": "ipython",
    "version": 3
   },
   "file_extension": ".py",
   "mimetype": "text/x-python",
   "name": "python",
   "nbconvert_exporter": "python",
   "pygments_lexer": "ipython3",
   "version": "3.6.7"
  }
 },
 "nbformat": 4,
 "nbformat_minor": 4
}
