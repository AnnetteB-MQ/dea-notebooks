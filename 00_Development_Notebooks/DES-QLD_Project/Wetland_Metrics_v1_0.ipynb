{
 "cells": [
  {
   "cell_type": "markdown",
   "metadata": {},
   "source": [
    "# Wetland Metrics Calculation Notebook v1_0"
   ]
  },
  {
   "cell_type": "markdown",
   "metadata": {},
   "source": [
    "This notebook is the first pass at using the outputs of the Wetlands Insight Tool to calculate metrics including:\n",
    "\n",
    " |Metrics | Equations |\n",
    " |------- | --- |\n",
    "| Permanence  | % of time |\n",
    "|%of time dominated by water |\n",
    "| % of time dominated by wet veg | \n",
    "|Commence to fill * |\n",
    "|Number of years in which 'wet = true' at any point |\n",
    "|Number of years in which 'wet AND dry = true' at any points |\n",
    "|Total number of years |\n",
    "| Is there a refugial pool/constant water signal |\n",
    "\n",
    "\n",
    "What are the rules for combining these numbers to differentiate perennial, ephemeral, seasonal\n",
    "*Need an increase by more than something followed by a continuation of more than x periods\n",
    "https://docs.google.com/spreadsheets/d/1neV8biSmtmhEgZlhOglNAEfbcV1EshroPLUa6Bj7t0o/edit#gid=0"
   ]
  },
  {
   "cell_type": "markdown",
   "metadata": {},
   "source": [
    "Pseudocode:"
   ]
  },
  {
   "cell_type": "code",
   "execution_count": 1,
   "metadata": {},
   "outputs": [],
   "source": [
    "## Import some packages\n",
    "import datacube\n",
    "import sys\n",
    "import os\n",
    "import xarray as xr\n",
    "\n",
    "sys.path.append('../../10_Scripts')\n",
    "#import DEADataHandling, DEAPlotting, TasseledCapTools, BandIndices\n",
    "\n",
    "dc = datacube.Datacube(app='pixel drill')\n",
    "\n",
    "%load_ext autoreload\n",
    "\n",
    "%autoreload 2"
   ]
  },
  {
   "cell_type": "markdown",
   "metadata": {},
   "source": [
    "### Set up paths to data"
   ]
  },
  {
   "cell_type": "code",
   "execution_count": null,
   "metadata": {},
   "outputs": [],
   "source": [
    "inpath = '/g/data/r78/rjd547/DES-QLD_Project/pal_1/'\n",
    "### Convert csv latitude and longitude values into a geopandas geodatafrome"
   ]
  },
  {
   "cell_type": "markdown",
   "metadata": {},
   "source": [
    "## Load in the csv from the Wetlands Insight Tool"
   ]
  },
  {
   "cell_type": "code",
   "execution_count": null,
   "metadata": {},
   "outputs": [],
   "source": [
    "print (in)"
   ]
  },
  {
   "cell_type": "code",
   "execution_count": null,
   "metadata": {},
   "outputs": [],
   "source": [
    "for file in os.listdir(inpath)[0:1]:\n",
    "    print file"
   ]
  },
  {
   "cell_type": "code",
   "execution_count": null,
   "metadata": {},
   "outputs": [],
   "source": []
  }
 ],
 "metadata": {
  "kernelspec": {
   "display_name": "Python 3",
   "language": "python",
   "name": "python3"
  },
  "language_info": {
   "codemirror_mode": {
    "name": "ipython",
    "version": 3
   },
   "file_extension": ".py",
   "mimetype": "text/x-python",
   "name": "python",
   "nbconvert_exporter": "python",
   "pygments_lexer": "ipython3",
   "version": "3.6.7"
  }
 },
 "nbformat": 4,
 "nbformat_minor": 4
}
