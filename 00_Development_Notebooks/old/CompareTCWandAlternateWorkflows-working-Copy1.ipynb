{
 "cells": [
  {
   "cell_type": "markdown",
   "metadata": {},
   "source": [
    "# Compare TCW rasters with alternate method from CEWO\n"
   ]
  },
  {
   "cell_type": "markdown",
   "metadata": {},
   "source": [
    "**What does this notebook do?**\n",
    "\n",
    "**Required inputs**\n",
    "* geotiffs of thresholded TCW extents\n",
    "* geotiff of \"off-river storages\" identifed by cewo\n",
    "* geotiff of cewo-identified extents\n",
    "\n",
    "**Date** July 2018\n",
    "\n",
    "**Authors** Claire Krause, Bex Dunn"
   ]
  },
  {
   "cell_type": "code",
   "execution_count": 1,
   "metadata": {
    "ExecuteTime": {
     "end_time": "2018-07-26T04:08:07.396685Z",
     "start_time": "2018-07-26T04:08:07.388809Z"
    }
   },
   "outputs": [],
   "source": [
    "### trying to remove areas from a shapefile"
   ]
  },
  {
   "cell_type": "code",
   "execution_count": 2,
   "metadata": {
    "ExecuteTime": {
     "end_time": "2018-07-26T04:08:11.769598Z",
     "start_time": "2018-07-26T04:08:07.702143Z"
    }
   },
   "outputs": [
    {
     "name": "stdout",
     "output_type": "stream",
     "text": [
      "Populating the interactive namespace from numpy and matplotlib\n"
     ]
    }
   ],
   "source": [
    "%pylab notebook\n",
    "import xarray as xr\n",
    "import matplotlib.pyplot as plt\n",
    "from datacube.storage import masking"
   ]
  },
  {
   "cell_type": "markdown",
   "metadata": {},
   "source": [
    "## Choose tiff files for input and load in using rasterio"
   ]
  },
  {
   "cell_type": "markdown",
   "metadata": {},
   "source": [
    "offriverfile contains the storages that cewo removes from the prediction; we're removing it from ours as well"
   ]
  },
  {
   "cell_type": "code",
   "execution_count": 3,
   "metadata": {
    "ExecuteTime": {
     "end_time": "2018-07-26T04:08:11.775926Z",
     "start_time": "2018-07-26T04:08:11.772558Z"
    }
   },
   "outputs": [],
   "source": [
    "#offriverFile = '/g/data/r78/rjd547/Macquarie_Marsh/bexnessresults/thresholded_wetness/clipped/off_river_storages.tif'"
   ]
  },
  {
   "cell_type": "markdown",
   "metadata": {},
   "source": [
    "thresholds are our chosen thresholds for the TCW; these need to match the filenames, and are not set here."
   ]
  },
  {
   "cell_type": "code",
   "execution_count": 4,
   "metadata": {
    "ExecuteTime": {
     "end_time": "2018-07-26T04:08:13.561415Z",
     "start_time": "2018-07-26T04:08:13.557358Z"
    }
   },
   "outputs": [],
   "source": [
    "thresholds = ['-0','-100','-200','-300','-400','-500','-600']"
   ]
  },
  {
   "cell_type": "code",
   "execution_count": 5,
   "metadata": {
    "ExecuteTime": {
     "end_time": "2018-07-26T04:08:16.247367Z",
     "start_time": "2018-07-26T04:08:16.243334Z"
    }
   },
   "outputs": [],
   "source": [
    "#make a list of the files corresponding to our set thresholds\n",
    "thresholdFiles =[]\n",
    "for i in range(0, len(thresholds)):\n",
    "    thresholdFiles.append('/g/data/r78/rjd547/Macquarie_Marsh/bexnessresults/thresholded_wetness/clipped/t{0}_Mac_14_-35_20160627__20160629_clipped.tif'.format(thresholds[i]))"
   ]
  },
  {
   "cell_type": "code",
   "execution_count": 6,
   "metadata": {
    "ExecuteTime": {
     "end_time": "2018-07-26T04:08:17.081711Z",
     "start_time": "2018-07-26T04:08:17.075520Z"
    }
   },
   "outputs": [
    {
     "data": {
      "text/plain": [
       "['/g/data/r78/rjd547/Macquarie_Marsh/bexnessresults/thresholded_wetness/clipped/t-0_Mac_14_-35_20160627__20160629_clipped.tif',\n",
       " '/g/data/r78/rjd547/Macquarie_Marsh/bexnessresults/thresholded_wetness/clipped/t-100_Mac_14_-35_20160627__20160629_clipped.tif',\n",
       " '/g/data/r78/rjd547/Macquarie_Marsh/bexnessresults/thresholded_wetness/clipped/t-200_Mac_14_-35_20160627__20160629_clipped.tif',\n",
       " '/g/data/r78/rjd547/Macquarie_Marsh/bexnessresults/thresholded_wetness/clipped/t-300_Mac_14_-35_20160627__20160629_clipped.tif',\n",
       " '/g/data/r78/rjd547/Macquarie_Marsh/bexnessresults/thresholded_wetness/clipped/t-400_Mac_14_-35_20160627__20160629_clipped.tif',\n",
       " '/g/data/r78/rjd547/Macquarie_Marsh/bexnessresults/thresholded_wetness/clipped/t-500_Mac_14_-35_20160627__20160629_clipped.tif',\n",
       " '/g/data/r78/rjd547/Macquarie_Marsh/bexnessresults/thresholded_wetness/clipped/t-600_Mac_14_-35_20160627__20160629_clipped.tif']"
      ]
     },
     "execution_count": 6,
     "metadata": {},
     "output_type": "execute_result"
    }
   ],
   "source": [
    "thresholdFiles"
   ]
  },
  {
   "cell_type": "markdown",
   "metadata": {},
   "source": [
    "cewo file is the file with cewo's scene of the extent of inundation"
   ]
  },
  {
   "cell_type": "code",
   "execution_count": 7,
   "metadata": {
    "ExecuteTime": {
     "end_time": "2018-07-26T04:08:18.304942Z",
     "start_time": "2018-07-26T04:08:18.300062Z"
    }
   },
   "outputs": [
    {
     "data": {
      "text/plain": [
       "'/g/data/r78/rjd547/Macquarie_Marsh/bexnessresults/thresholded_wetness/clipped/t-0_Mac_14_-35_20160627__20160629_clipped.tif'"
      ]
     },
     "execution_count": 7,
     "metadata": {},
     "output_type": "execute_result"
    }
   ],
   "source": [
    "thresholdFiles[0]"
   ]
  },
  {
   "cell_type": "code",
   "execution_count": 12,
   "metadata": {
    "ExecuteTime": {
     "end_time": "2018-07-26T04:08:43.952846Z",
     "start_time": "2018-07-26T04:08:43.946814Z"
    }
   },
   "outputs": [],
   "source": [
    "cewoFile = '/g/data/r78/rjd547/Macquarie_Marsh/bexnessresults/thresholded_wetness/clipped/no_storages/cewo_20160628_extents2_newres.tif'"
   ]
  },
  {
   "cell_type": "markdown",
   "metadata": {},
   "source": [
    "## Load in the threshold, off-river storage and extent geotiffs"
   ]
  },
  {
   "cell_type": "code",
   "execution_count": 13,
   "metadata": {
    "ExecuteTime": {
     "end_time": "2018-07-26T04:08:49.332843Z",
     "start_time": "2018-07-26T04:08:49.260304Z"
    }
   },
   "outputs": [],
   "source": [
    "# Open the GeoTIFFs using rasterio\n",
    "cewoData = xr.open_rasterio(cewoFile) #extents file\n",
    "ThresholdData = xr.open_rasterio(thresholdFiles[0]) #thresholded TCW\n",
    "#offriverData = xr.open_rasterio(offriverFile) #offriverstorages only"
   ]
  },
  {
   "cell_type": "code",
   "execution_count": 14,
   "metadata": {
    "ExecuteTime": {
     "end_time": "2018-07-26T04:08:57.606370Z",
     "start_time": "2018-07-26T04:08:56.036768Z"
    }
   },
   "outputs": [
    {
     "data": {
      "application/javascript": [
       "/* Put everything inside the global mpl namespace */\n",
       "window.mpl = {};\n",
       "\n",
       "\n",
       "mpl.get_websocket_type = function() {\n",
       "    if (typeof(WebSocket) !== 'undefined') {\n",
       "        return WebSocket;\n",
       "    } else if (typeof(MozWebSocket) !== 'undefined') {\n",
       "        return MozWebSocket;\n",
       "    } else {\n",
       "        alert('Your browser does not have WebSocket support.' +\n",
       "              'Please try Chrome, Safari or Firefox ≥ 6. ' +\n",
       "              'Firefox 4 and 5 are also supported but you ' +\n",
       "              'have to enable WebSockets in about:config.');\n",
       "    };\n",
       "}\n",
       "\n",
       "mpl.figure = function(figure_id, websocket, ondownload, parent_element) {\n",
       "    this.id = figure_id;\n",
       "\n",
       "    this.ws = websocket;\n",
       "\n",
       "    this.supports_binary = (this.ws.binaryType != undefined);\n",
       "\n",
       "    if (!this.supports_binary) {\n",
       "        var warnings = document.getElementById(\"mpl-warnings\");\n",
       "        if (warnings) {\n",
       "            warnings.style.display = 'block';\n",
       "            warnings.textContent = (\n",
       "                \"This browser does not support binary websocket messages. \" +\n",
       "                    \"Performance may be slow.\");\n",
       "        }\n",
       "    }\n",
       "\n",
       "    this.imageObj = new Image();\n",
       "\n",
       "    this.context = undefined;\n",
       "    this.message = undefined;\n",
       "    this.canvas = undefined;\n",
       "    this.rubberband_canvas = undefined;\n",
       "    this.rubberband_context = undefined;\n",
       "    this.format_dropdown = undefined;\n",
       "\n",
       "    this.image_mode = 'full';\n",
       "\n",
       "    this.root = $('<div/>');\n",
       "    this._root_extra_style(this.root)\n",
       "    this.root.attr('style', 'display: inline-block');\n",
       "\n",
       "    $(parent_element).append(this.root);\n",
       "\n",
       "    this._init_header(this);\n",
       "    this._init_canvas(this);\n",
       "    this._init_toolbar(this);\n",
       "\n",
       "    var fig = this;\n",
       "\n",
       "    this.waiting = false;\n",
       "\n",
       "    this.ws.onopen =  function () {\n",
       "            fig.send_message(\"supports_binary\", {value: fig.supports_binary});\n",
       "            fig.send_message(\"send_image_mode\", {});\n",
       "            if (mpl.ratio != 1) {\n",
       "                fig.send_message(\"set_dpi_ratio\", {'dpi_ratio': mpl.ratio});\n",
       "            }\n",
       "            fig.send_message(\"refresh\", {});\n",
       "        }\n",
       "\n",
       "    this.imageObj.onload = function() {\n",
       "            if (fig.image_mode == 'full') {\n",
       "                // Full images could contain transparency (where diff images\n",
       "                // almost always do), so we need to clear the canvas so that\n",
       "                // there is no ghosting.\n",
       "                fig.context.clearRect(0, 0, fig.canvas.width, fig.canvas.height);\n",
       "            }\n",
       "            fig.context.drawImage(fig.imageObj, 0, 0);\n",
       "        };\n",
       "\n",
       "    this.imageObj.onunload = function() {\n",
       "        fig.ws.close();\n",
       "    }\n",
       "\n",
       "    this.ws.onmessage = this._make_on_message_function(this);\n",
       "\n",
       "    this.ondownload = ondownload;\n",
       "}\n",
       "\n",
       "mpl.figure.prototype._init_header = function() {\n",
       "    var titlebar = $(\n",
       "        '<div class=\"ui-dialog-titlebar ui-widget-header ui-corner-all ' +\n",
       "        'ui-helper-clearfix\"/>');\n",
       "    var titletext = $(\n",
       "        '<div class=\"ui-dialog-title\" style=\"width: 100%; ' +\n",
       "        'text-align: center; padding: 3px;\"/>');\n",
       "    titlebar.append(titletext)\n",
       "    this.root.append(titlebar);\n",
       "    this.header = titletext[0];\n",
       "}\n",
       "\n",
       "\n",
       "\n",
       "mpl.figure.prototype._canvas_extra_style = function(canvas_div) {\n",
       "\n",
       "}\n",
       "\n",
       "\n",
       "mpl.figure.prototype._root_extra_style = function(canvas_div) {\n",
       "\n",
       "}\n",
       "\n",
       "mpl.figure.prototype._init_canvas = function() {\n",
       "    var fig = this;\n",
       "\n",
       "    var canvas_div = $('<div/>');\n",
       "\n",
       "    canvas_div.attr('style', 'position: relative; clear: both; outline: 0');\n",
       "\n",
       "    function canvas_keyboard_event(event) {\n",
       "        return fig.key_event(event, event['data']);\n",
       "    }\n",
       "\n",
       "    canvas_div.keydown('key_press', canvas_keyboard_event);\n",
       "    canvas_div.keyup('key_release', canvas_keyboard_event);\n",
       "    this.canvas_div = canvas_div\n",
       "    this._canvas_extra_style(canvas_div)\n",
       "    this.root.append(canvas_div);\n",
       "\n",
       "    var canvas = $('<canvas/>');\n",
       "    canvas.addClass('mpl-canvas');\n",
       "    canvas.attr('style', \"left: 0; top: 0; z-index: 0; outline: 0\")\n",
       "\n",
       "    this.canvas = canvas[0];\n",
       "    this.context = canvas[0].getContext(\"2d\");\n",
       "\n",
       "    var backingStore = this.context.backingStorePixelRatio ||\n",
       "\tthis.context.webkitBackingStorePixelRatio ||\n",
       "\tthis.context.mozBackingStorePixelRatio ||\n",
       "\tthis.context.msBackingStorePixelRatio ||\n",
       "\tthis.context.oBackingStorePixelRatio ||\n",
       "\tthis.context.backingStorePixelRatio || 1;\n",
       "\n",
       "    mpl.ratio = (window.devicePixelRatio || 1) / backingStore;\n",
       "\n",
       "    var rubberband = $('<canvas/>');\n",
       "    rubberband.attr('style', \"position: absolute; left: 0; top: 0; z-index: 1;\")\n",
       "\n",
       "    var pass_mouse_events = true;\n",
       "\n",
       "    canvas_div.resizable({\n",
       "        start: function(event, ui) {\n",
       "            pass_mouse_events = false;\n",
       "        },\n",
       "        resize: function(event, ui) {\n",
       "            fig.request_resize(ui.size.width, ui.size.height);\n",
       "        },\n",
       "        stop: function(event, ui) {\n",
       "            pass_mouse_events = true;\n",
       "            fig.request_resize(ui.size.width, ui.size.height);\n",
       "        },\n",
       "    });\n",
       "\n",
       "    function mouse_event_fn(event) {\n",
       "        if (pass_mouse_events)\n",
       "            return fig.mouse_event(event, event['data']);\n",
       "    }\n",
       "\n",
       "    rubberband.mousedown('button_press', mouse_event_fn);\n",
       "    rubberband.mouseup('button_release', mouse_event_fn);\n",
       "    // Throttle sequential mouse events to 1 every 20ms.\n",
       "    rubberband.mousemove('motion_notify', mouse_event_fn);\n",
       "\n",
       "    rubberband.mouseenter('figure_enter', mouse_event_fn);\n",
       "    rubberband.mouseleave('figure_leave', mouse_event_fn);\n",
       "\n",
       "    canvas_div.on(\"wheel\", function (event) {\n",
       "        event = event.originalEvent;\n",
       "        event['data'] = 'scroll'\n",
       "        if (event.deltaY < 0) {\n",
       "            event.step = 1;\n",
       "        } else {\n",
       "            event.step = -1;\n",
       "        }\n",
       "        mouse_event_fn(event);\n",
       "    });\n",
       "\n",
       "    canvas_div.append(canvas);\n",
       "    canvas_div.append(rubberband);\n",
       "\n",
       "    this.rubberband = rubberband;\n",
       "    this.rubberband_canvas = rubberband[0];\n",
       "    this.rubberband_context = rubberband[0].getContext(\"2d\");\n",
       "    this.rubberband_context.strokeStyle = \"#000000\";\n",
       "\n",
       "    this._resize_canvas = function(width, height) {\n",
       "        // Keep the size of the canvas, canvas container, and rubber band\n",
       "        // canvas in synch.\n",
       "        canvas_div.css('width', width)\n",
       "        canvas_div.css('height', height)\n",
       "\n",
       "        canvas.attr('width', width * mpl.ratio);\n",
       "        canvas.attr('height', height * mpl.ratio);\n",
       "        canvas.attr('style', 'width: ' + width + 'px; height: ' + height + 'px;');\n",
       "\n",
       "        rubberband.attr('width', width);\n",
       "        rubberband.attr('height', height);\n",
       "    }\n",
       "\n",
       "    // Set the figure to an initial 600x600px, this will subsequently be updated\n",
       "    // upon first draw.\n",
       "    this._resize_canvas(600, 600);\n",
       "\n",
       "    // Disable right mouse context menu.\n",
       "    $(this.rubberband_canvas).bind(\"contextmenu\",function(e){\n",
       "        return false;\n",
       "    });\n",
       "\n",
       "    function set_focus () {\n",
       "        canvas.focus();\n",
       "        canvas_div.focus();\n",
       "    }\n",
       "\n",
       "    window.setTimeout(set_focus, 100);\n",
       "}\n",
       "\n",
       "mpl.figure.prototype._init_toolbar = function() {\n",
       "    var fig = this;\n",
       "\n",
       "    var nav_element = $('<div/>')\n",
       "    nav_element.attr('style', 'width: 100%');\n",
       "    this.root.append(nav_element);\n",
       "\n",
       "    // Define a callback function for later on.\n",
       "    function toolbar_event(event) {\n",
       "        return fig.toolbar_button_onclick(event['data']);\n",
       "    }\n",
       "    function toolbar_mouse_event(event) {\n",
       "        return fig.toolbar_button_onmouseover(event['data']);\n",
       "    }\n",
       "\n",
       "    for(var toolbar_ind in mpl.toolbar_items) {\n",
       "        var name = mpl.toolbar_items[toolbar_ind][0];\n",
       "        var tooltip = mpl.toolbar_items[toolbar_ind][1];\n",
       "        var image = mpl.toolbar_items[toolbar_ind][2];\n",
       "        var method_name = mpl.toolbar_items[toolbar_ind][3];\n",
       "\n",
       "        if (!name) {\n",
       "            // put a spacer in here.\n",
       "            continue;\n",
       "        }\n",
       "        var button = $('<button/>');\n",
       "        button.addClass('ui-button ui-widget ui-state-default ui-corner-all ' +\n",
       "                        'ui-button-icon-only');\n",
       "        button.attr('role', 'button');\n",
       "        button.attr('aria-disabled', 'false');\n",
       "        button.click(method_name, toolbar_event);\n",
       "        button.mouseover(tooltip, toolbar_mouse_event);\n",
       "\n",
       "        var icon_img = $('<span/>');\n",
       "        icon_img.addClass('ui-button-icon-primary ui-icon');\n",
       "        icon_img.addClass(image);\n",
       "        icon_img.addClass('ui-corner-all');\n",
       "\n",
       "        var tooltip_span = $('<span/>');\n",
       "        tooltip_span.addClass('ui-button-text');\n",
       "        tooltip_span.html(tooltip);\n",
       "\n",
       "        button.append(icon_img);\n",
       "        button.append(tooltip_span);\n",
       "\n",
       "        nav_element.append(button);\n",
       "    }\n",
       "\n",
       "    var fmt_picker_span = $('<span/>');\n",
       "\n",
       "    var fmt_picker = $('<select/>');\n",
       "    fmt_picker.addClass('mpl-toolbar-option ui-widget ui-widget-content');\n",
       "    fmt_picker_span.append(fmt_picker);\n",
       "    nav_element.append(fmt_picker_span);\n",
       "    this.format_dropdown = fmt_picker[0];\n",
       "\n",
       "    for (var ind in mpl.extensions) {\n",
       "        var fmt = mpl.extensions[ind];\n",
       "        var option = $(\n",
       "            '<option/>', {selected: fmt === mpl.default_extension}).html(fmt);\n",
       "        fmt_picker.append(option)\n",
       "    }\n",
       "\n",
       "    // Add hover states to the ui-buttons\n",
       "    $( \".ui-button\" ).hover(\n",
       "        function() { $(this).addClass(\"ui-state-hover\");},\n",
       "        function() { $(this).removeClass(\"ui-state-hover\");}\n",
       "    );\n",
       "\n",
       "    var status_bar = $('<span class=\"mpl-message\"/>');\n",
       "    nav_element.append(status_bar);\n",
       "    this.message = status_bar[0];\n",
       "}\n",
       "\n",
       "mpl.figure.prototype.request_resize = function(x_pixels, y_pixels) {\n",
       "    // Request matplotlib to resize the figure. Matplotlib will then trigger a resize in the client,\n",
       "    // which will in turn request a refresh of the image.\n",
       "    this.send_message('resize', {'width': x_pixels, 'height': y_pixels});\n",
       "}\n",
       "\n",
       "mpl.figure.prototype.send_message = function(type, properties) {\n",
       "    properties['type'] = type;\n",
       "    properties['figure_id'] = this.id;\n",
       "    this.ws.send(JSON.stringify(properties));\n",
       "}\n",
       "\n",
       "mpl.figure.prototype.send_draw_message = function() {\n",
       "    if (!this.waiting) {\n",
       "        this.waiting = true;\n",
       "        this.ws.send(JSON.stringify({type: \"draw\", figure_id: this.id}));\n",
       "    }\n",
       "}\n",
       "\n",
       "\n",
       "mpl.figure.prototype.handle_save = function(fig, msg) {\n",
       "    var format_dropdown = fig.format_dropdown;\n",
       "    var format = format_dropdown.options[format_dropdown.selectedIndex].value;\n",
       "    fig.ondownload(fig, format);\n",
       "}\n",
       "\n",
       "\n",
       "mpl.figure.prototype.handle_resize = function(fig, msg) {\n",
       "    var size = msg['size'];\n",
       "    if (size[0] != fig.canvas.width || size[1] != fig.canvas.height) {\n",
       "        fig._resize_canvas(size[0], size[1]);\n",
       "        fig.send_message(\"refresh\", {});\n",
       "    };\n",
       "}\n",
       "\n",
       "mpl.figure.prototype.handle_rubberband = function(fig, msg) {\n",
       "    var x0 = msg['x0'] / mpl.ratio;\n",
       "    var y0 = (fig.canvas.height - msg['y0']) / mpl.ratio;\n",
       "    var x1 = msg['x1'] / mpl.ratio;\n",
       "    var y1 = (fig.canvas.height - msg['y1']) / mpl.ratio;\n",
       "    x0 = Math.floor(x0) + 0.5;\n",
       "    y0 = Math.floor(y0) + 0.5;\n",
       "    x1 = Math.floor(x1) + 0.5;\n",
       "    y1 = Math.floor(y1) + 0.5;\n",
       "    var min_x = Math.min(x0, x1);\n",
       "    var min_y = Math.min(y0, y1);\n",
       "    var width = Math.abs(x1 - x0);\n",
       "    var height = Math.abs(y1 - y0);\n",
       "\n",
       "    fig.rubberband_context.clearRect(\n",
       "        0, 0, fig.canvas.width, fig.canvas.height);\n",
       "\n",
       "    fig.rubberband_context.strokeRect(min_x, min_y, width, height);\n",
       "}\n",
       "\n",
       "mpl.figure.prototype.handle_figure_label = function(fig, msg) {\n",
       "    // Updates the figure title.\n",
       "    fig.header.textContent = msg['label'];\n",
       "}\n",
       "\n",
       "mpl.figure.prototype.handle_cursor = function(fig, msg) {\n",
       "    var cursor = msg['cursor'];\n",
       "    switch(cursor)\n",
       "    {\n",
       "    case 0:\n",
       "        cursor = 'pointer';\n",
       "        break;\n",
       "    case 1:\n",
       "        cursor = 'default';\n",
       "        break;\n",
       "    case 2:\n",
       "        cursor = 'crosshair';\n",
       "        break;\n",
       "    case 3:\n",
       "        cursor = 'move';\n",
       "        break;\n",
       "    }\n",
       "    fig.rubberband_canvas.style.cursor = cursor;\n",
       "}\n",
       "\n",
       "mpl.figure.prototype.handle_message = function(fig, msg) {\n",
       "    fig.message.textContent = msg['message'];\n",
       "}\n",
       "\n",
       "mpl.figure.prototype.handle_draw = function(fig, msg) {\n",
       "    // Request the server to send over a new figure.\n",
       "    fig.send_draw_message();\n",
       "}\n",
       "\n",
       "mpl.figure.prototype.handle_image_mode = function(fig, msg) {\n",
       "    fig.image_mode = msg['mode'];\n",
       "}\n",
       "\n",
       "mpl.figure.prototype.updated_canvas_event = function() {\n",
       "    // Called whenever the canvas gets updated.\n",
       "    this.send_message(\"ack\", {});\n",
       "}\n",
       "\n",
       "// A function to construct a web socket function for onmessage handling.\n",
       "// Called in the figure constructor.\n",
       "mpl.figure.prototype._make_on_message_function = function(fig) {\n",
       "    return function socket_on_message(evt) {\n",
       "        if (evt.data instanceof Blob) {\n",
       "            /* FIXME: We get \"Resource interpreted as Image but\n",
       "             * transferred with MIME type text/plain:\" errors on\n",
       "             * Chrome.  But how to set the MIME type?  It doesn't seem\n",
       "             * to be part of the websocket stream */\n",
       "            evt.data.type = \"image/png\";\n",
       "\n",
       "            /* Free the memory for the previous frames */\n",
       "            if (fig.imageObj.src) {\n",
       "                (window.URL || window.webkitURL).revokeObjectURL(\n",
       "                    fig.imageObj.src);\n",
       "            }\n",
       "\n",
       "            fig.imageObj.src = (window.URL || window.webkitURL).createObjectURL(\n",
       "                evt.data);\n",
       "            fig.updated_canvas_event();\n",
       "            fig.waiting = false;\n",
       "            return;\n",
       "        }\n",
       "        else if (typeof evt.data === 'string' && evt.data.slice(0, 21) == \"data:image/png;base64\") {\n",
       "            fig.imageObj.src = evt.data;\n",
       "            fig.updated_canvas_event();\n",
       "            fig.waiting = false;\n",
       "            return;\n",
       "        }\n",
       "\n",
       "        var msg = JSON.parse(evt.data);\n",
       "        var msg_type = msg['type'];\n",
       "\n",
       "        // Call the  \"handle_{type}\" callback, which takes\n",
       "        // the figure and JSON message as its only arguments.\n",
       "        try {\n",
       "            var callback = fig[\"handle_\" + msg_type];\n",
       "        } catch (e) {\n",
       "            console.log(\"No handler for the '\" + msg_type + \"' message type: \", msg);\n",
       "            return;\n",
       "        }\n",
       "\n",
       "        if (callback) {\n",
       "            try {\n",
       "                // console.log(\"Handling '\" + msg_type + \"' message: \", msg);\n",
       "                callback(fig, msg);\n",
       "            } catch (e) {\n",
       "                console.log(\"Exception inside the 'handler_\" + msg_type + \"' callback:\", e, e.stack, msg);\n",
       "            }\n",
       "        }\n",
       "    };\n",
       "}\n",
       "\n",
       "// from http://stackoverflow.com/questions/1114465/getting-mouse-location-in-canvas\n",
       "mpl.findpos = function(e) {\n",
       "    //this section is from http://www.quirksmode.org/js/events_properties.html\n",
       "    var targ;\n",
       "    if (!e)\n",
       "        e = window.event;\n",
       "    if (e.target)\n",
       "        targ = e.target;\n",
       "    else if (e.srcElement)\n",
       "        targ = e.srcElement;\n",
       "    if (targ.nodeType == 3) // defeat Safari bug\n",
       "        targ = targ.parentNode;\n",
       "\n",
       "    // jQuery normalizes the pageX and pageY\n",
       "    // pageX,Y are the mouse positions relative to the document\n",
       "    // offset() returns the position of the element relative to the document\n",
       "    var x = e.pageX - $(targ).offset().left;\n",
       "    var y = e.pageY - $(targ).offset().top;\n",
       "\n",
       "    return {\"x\": x, \"y\": y};\n",
       "};\n",
       "\n",
       "/*\n",
       " * return a copy of an object with only non-object keys\n",
       " * we need this to avoid circular references\n",
       " * http://stackoverflow.com/a/24161582/3208463\n",
       " */\n",
       "function simpleKeys (original) {\n",
       "  return Object.keys(original).reduce(function (obj, key) {\n",
       "    if (typeof original[key] !== 'object')\n",
       "        obj[key] = original[key]\n",
       "    return obj;\n",
       "  }, {});\n",
       "}\n",
       "\n",
       "mpl.figure.prototype.mouse_event = function(event, name) {\n",
       "    var canvas_pos = mpl.findpos(event)\n",
       "\n",
       "    if (name === 'button_press')\n",
       "    {\n",
       "        this.canvas.focus();\n",
       "        this.canvas_div.focus();\n",
       "    }\n",
       "\n",
       "    var x = canvas_pos.x * mpl.ratio;\n",
       "    var y = canvas_pos.y * mpl.ratio;\n",
       "\n",
       "    this.send_message(name, {x: x, y: y, button: event.button,\n",
       "                             step: event.step,\n",
       "                             guiEvent: simpleKeys(event)});\n",
       "\n",
       "    /* This prevents the web browser from automatically changing to\n",
       "     * the text insertion cursor when the button is pressed.  We want\n",
       "     * to control all of the cursor setting manually through the\n",
       "     * 'cursor' event from matplotlib */\n",
       "    event.preventDefault();\n",
       "    return false;\n",
       "}\n",
       "\n",
       "mpl.figure.prototype._key_event_extra = function(event, name) {\n",
       "    // Handle any extra behaviour associated with a key event\n",
       "}\n",
       "\n",
       "mpl.figure.prototype.key_event = function(event, name) {\n",
       "\n",
       "    // Prevent repeat events\n",
       "    if (name == 'key_press')\n",
       "    {\n",
       "        if (event.which === this._key)\n",
       "            return;\n",
       "        else\n",
       "            this._key = event.which;\n",
       "    }\n",
       "    if (name == 'key_release')\n",
       "        this._key = null;\n",
       "\n",
       "    var value = '';\n",
       "    if (event.ctrlKey && event.which != 17)\n",
       "        value += \"ctrl+\";\n",
       "    if (event.altKey && event.which != 18)\n",
       "        value += \"alt+\";\n",
       "    if (event.shiftKey && event.which != 16)\n",
       "        value += \"shift+\";\n",
       "\n",
       "    value += 'k';\n",
       "    value += event.which.toString();\n",
       "\n",
       "    this._key_event_extra(event, name);\n",
       "\n",
       "    this.send_message(name, {key: value,\n",
       "                             guiEvent: simpleKeys(event)});\n",
       "    return false;\n",
       "}\n",
       "\n",
       "mpl.figure.prototype.toolbar_button_onclick = function(name) {\n",
       "    if (name == 'download') {\n",
       "        this.handle_save(this, null);\n",
       "    } else {\n",
       "        this.send_message(\"toolbar_button\", {name: name});\n",
       "    }\n",
       "};\n",
       "\n",
       "mpl.figure.prototype.toolbar_button_onmouseover = function(tooltip) {\n",
       "    this.message.textContent = tooltip;\n",
       "};\n",
       "mpl.toolbar_items = [[\"Home\", \"Reset original view\", \"fa fa-home icon-home\", \"home\"], [\"Back\", \"Back to  previous view\", \"fa fa-arrow-left icon-arrow-left\", \"back\"], [\"Forward\", \"Forward to next view\", \"fa fa-arrow-right icon-arrow-right\", \"forward\"], [\"\", \"\", \"\", \"\"], [\"Pan\", \"Pan axes with left mouse, zoom with right\", \"fa fa-arrows icon-move\", \"pan\"], [\"Zoom\", \"Zoom to rectangle\", \"fa fa-square-o icon-check-empty\", \"zoom\"], [\"\", \"\", \"\", \"\"], [\"Download\", \"Download plot\", \"fa fa-floppy-o icon-save\", \"download\"]];\n",
       "\n",
       "mpl.extensions = [\"eps\", \"jpeg\", \"pdf\", \"png\", \"ps\", \"raw\", \"svg\", \"tif\"];\n",
       "\n",
       "mpl.default_extension = \"png\";var comm_websocket_adapter = function(comm) {\n",
       "    // Create a \"websocket\"-like object which calls the given IPython comm\n",
       "    // object with the appropriate methods. Currently this is a non binary\n",
       "    // socket, so there is still some room for performance tuning.\n",
       "    var ws = {};\n",
       "\n",
       "    ws.close = function() {\n",
       "        comm.close()\n",
       "    };\n",
       "    ws.send = function(m) {\n",
       "        //console.log('sending', m);\n",
       "        comm.send(m);\n",
       "    };\n",
       "    // Register the callback with on_msg.\n",
       "    comm.on_msg(function(msg) {\n",
       "        //console.log('receiving', msg['content']['data'], msg);\n",
       "        // Pass the mpl event to the overridden (by mpl) onmessage function.\n",
       "        ws.onmessage(msg['content']['data'])\n",
       "    });\n",
       "    return ws;\n",
       "}\n",
       "\n",
       "mpl.mpl_figure_comm = function(comm, msg) {\n",
       "    // This is the function which gets called when the mpl process\n",
       "    // starts-up an IPython Comm through the \"matplotlib\" channel.\n",
       "\n",
       "    var id = msg.content.data.id;\n",
       "    // Get hold of the div created by the display call when the Comm\n",
       "    // socket was opened in Python.\n",
       "    var element = $(\"#\" + id);\n",
       "    var ws_proxy = comm_websocket_adapter(comm)\n",
       "\n",
       "    function ondownload(figure, format) {\n",
       "        window.open(figure.imageObj.src);\n",
       "    }\n",
       "\n",
       "    var fig = new mpl.figure(id, ws_proxy,\n",
       "                           ondownload,\n",
       "                           element.get(0));\n",
       "\n",
       "    // Call onopen now - mpl needs it, as it is assuming we've passed it a real\n",
       "    // web socket which is closed, not our websocket->open comm proxy.\n",
       "    ws_proxy.onopen();\n",
       "\n",
       "    fig.parent_element = element.get(0);\n",
       "    fig.cell_info = mpl.find_output_cell(\"<div id='\" + id + \"'></div>\");\n",
       "    if (!fig.cell_info) {\n",
       "        console.error(\"Failed to find cell for figure\", id, fig);\n",
       "        return;\n",
       "    }\n",
       "\n",
       "    var output_index = fig.cell_info[2]\n",
       "    var cell = fig.cell_info[0];\n",
       "\n",
       "};\n",
       "\n",
       "mpl.figure.prototype.handle_close = function(fig, msg) {\n",
       "    var width = fig.canvas.width/mpl.ratio\n",
       "    fig.root.unbind('remove')\n",
       "\n",
       "    // Update the output cell to use the data from the current canvas.\n",
       "    fig.push_to_output();\n",
       "    var dataURL = fig.canvas.toDataURL();\n",
       "    // Re-enable the keyboard manager in IPython - without this line, in FF,\n",
       "    // the notebook keyboard shortcuts fail.\n",
       "    IPython.keyboard_manager.enable()\n",
       "    $(fig.parent_element).html('<img src=\"' + dataURL + '\" width=\"' + width + '\">');\n",
       "    fig.close_ws(fig, msg);\n",
       "}\n",
       "\n",
       "mpl.figure.prototype.close_ws = function(fig, msg){\n",
       "    fig.send_message('closing', msg);\n",
       "    // fig.ws.close()\n",
       "}\n",
       "\n",
       "mpl.figure.prototype.push_to_output = function(remove_interactive) {\n",
       "    // Turn the data on the canvas into data in the output cell.\n",
       "    var width = this.canvas.width/mpl.ratio\n",
       "    var dataURL = this.canvas.toDataURL();\n",
       "    this.cell_info[1]['text/html'] = '<img src=\"' + dataURL + '\" width=\"' + width + '\">';\n",
       "}\n",
       "\n",
       "mpl.figure.prototype.updated_canvas_event = function() {\n",
       "    // Tell IPython that the notebook contents must change.\n",
       "    IPython.notebook.set_dirty(true);\n",
       "    this.send_message(\"ack\", {});\n",
       "    var fig = this;\n",
       "    // Wait a second, then push the new image to the DOM so\n",
       "    // that it is saved nicely (might be nice to debounce this).\n",
       "    setTimeout(function () { fig.push_to_output() }, 1000);\n",
       "}\n",
       "\n",
       "mpl.figure.prototype._init_toolbar = function() {\n",
       "    var fig = this;\n",
       "\n",
       "    var nav_element = $('<div/>')\n",
       "    nav_element.attr('style', 'width: 100%');\n",
       "    this.root.append(nav_element);\n",
       "\n",
       "    // Define a callback function for later on.\n",
       "    function toolbar_event(event) {\n",
       "        return fig.toolbar_button_onclick(event['data']);\n",
       "    }\n",
       "    function toolbar_mouse_event(event) {\n",
       "        return fig.toolbar_button_onmouseover(event['data']);\n",
       "    }\n",
       "\n",
       "    for(var toolbar_ind in mpl.toolbar_items){\n",
       "        var name = mpl.toolbar_items[toolbar_ind][0];\n",
       "        var tooltip = mpl.toolbar_items[toolbar_ind][1];\n",
       "        var image = mpl.toolbar_items[toolbar_ind][2];\n",
       "        var method_name = mpl.toolbar_items[toolbar_ind][3];\n",
       "\n",
       "        if (!name) { continue; };\n",
       "\n",
       "        var button = $('<button class=\"btn btn-default\" href=\"#\" title=\"' + name + '\"><i class=\"fa ' + image + ' fa-lg\"></i></button>');\n",
       "        button.click(method_name, toolbar_event);\n",
       "        button.mouseover(tooltip, toolbar_mouse_event);\n",
       "        nav_element.append(button);\n",
       "    }\n",
       "\n",
       "    // Add the status bar.\n",
       "    var status_bar = $('<span class=\"mpl-message\" style=\"text-align:right; float: right;\"/>');\n",
       "    nav_element.append(status_bar);\n",
       "    this.message = status_bar[0];\n",
       "\n",
       "    // Add the close button to the window.\n",
       "    var buttongrp = $('<div class=\"btn-group inline pull-right\"></div>');\n",
       "    var button = $('<button class=\"btn btn-mini btn-primary\" href=\"#\" title=\"Stop Interaction\"><i class=\"fa fa-power-off icon-remove icon-large\"></i></button>');\n",
       "    button.click(function (evt) { fig.handle_close(fig, {}); } );\n",
       "    button.mouseover('Stop Interaction', toolbar_mouse_event);\n",
       "    buttongrp.append(button);\n",
       "    var titlebar = this.root.find($('.ui-dialog-titlebar'));\n",
       "    titlebar.prepend(buttongrp);\n",
       "}\n",
       "\n",
       "mpl.figure.prototype._root_extra_style = function(el){\n",
       "    var fig = this\n",
       "    el.on(\"remove\", function(){\n",
       "\tfig.close_ws(fig, {});\n",
       "    });\n",
       "}\n",
       "\n",
       "mpl.figure.prototype._canvas_extra_style = function(el){\n",
       "    // this is important to make the div 'focusable\n",
       "    el.attr('tabindex', 0)\n",
       "    // reach out to IPython and tell the keyboard manager to turn it's self\n",
       "    // off when our div gets focus\n",
       "\n",
       "    // location in version 3\n",
       "    if (IPython.notebook.keyboard_manager) {\n",
       "        IPython.notebook.keyboard_manager.register_events(el);\n",
       "    }\n",
       "    else {\n",
       "        // location in version 2\n",
       "        IPython.keyboard_manager.register_events(el);\n",
       "    }\n",
       "\n",
       "}\n",
       "\n",
       "mpl.figure.prototype._key_event_extra = function(event, name) {\n",
       "    var manager = IPython.notebook.keyboard_manager;\n",
       "    if (!manager)\n",
       "        manager = IPython.keyboard_manager;\n",
       "\n",
       "    // Check for shift+enter\n",
       "    if (event.shiftKey && event.which == 13) {\n",
       "        this.canvas_div.blur();\n",
       "        event.shiftKey = false;\n",
       "        // Send a \"J\" for go to next cell\n",
       "        event.which = 74;\n",
       "        event.keyCode = 74;\n",
       "        manager.command_mode();\n",
       "        manager.handle_keydown(event);\n",
       "    }\n",
       "}\n",
       "\n",
       "mpl.figure.prototype.handle_save = function(fig, msg) {\n",
       "    fig.ondownload(fig, null);\n",
       "}\n",
       "\n",
       "\n",
       "mpl.find_output_cell = function(html_output) {\n",
       "    // Return the cell and output element which can be found *uniquely* in the notebook.\n",
       "    // Note - this is a bit hacky, but it is done because the \"notebook_saving.Notebook\"\n",
       "    // IPython event is triggered only after the cells have been serialised, which for\n",
       "    // our purposes (turning an active figure into a static one), is too late.\n",
       "    var cells = IPython.notebook.get_cells();\n",
       "    var ncells = cells.length;\n",
       "    for (var i=0; i<ncells; i++) {\n",
       "        var cell = cells[i];\n",
       "        if (cell.cell_type === 'code'){\n",
       "            for (var j=0; j<cell.output_area.outputs.length; j++) {\n",
       "                var data = cell.output_area.outputs[j];\n",
       "                if (data.data) {\n",
       "                    // IPython >= 3 moved mimebundle to data attribute of output\n",
       "                    data = data.data;\n",
       "                }\n",
       "                if (data['text/html'] == html_output) {\n",
       "                    return [cell, data, j];\n",
       "                }\n",
       "            }\n",
       "        }\n",
       "    }\n",
       "}\n",
       "\n",
       "// Register the function which deals with the matplotlib target/channel.\n",
       "// The kernel may be null if the page has been refreshed.\n",
       "if (IPython.notebook.kernel != null) {\n",
       "    IPython.notebook.kernel.comm_manager.register_target('matplotlib', mpl.mpl_figure_comm);\n",
       "}\n"
      ],
      "text/plain": [
       "<IPython.core.display.Javascript object>"
      ]
     },
     "metadata": {},
     "output_type": "display_data"
    },
    {
     "data": {
      "text/html": [
       "<img src=\"data:image/png;base64,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\" width=\"639.8333333333334\">"
      ],
      "text/plain": [
       "<IPython.core.display.HTML object>"
      ]
     },
     "metadata": {},
     "output_type": "display_data"
    }
   ],
   "source": [
    "plt.clf()\n",
    "cewoData.plot()\n",
    "plt.show()"
   ]
  },
  {
   "cell_type": "code",
   "execution_count": 12,
   "metadata": {
    "ExecuteTime": {
     "end_time": "2018-07-26T00:42:25.521837Z",
     "start_time": "2018-07-26T00:42:24.806981Z"
    }
   },
   "outputs": [],
   "source": [
    "# #filter out both sets of nodata values as defined by CEWO\n",
    "# cewoData = cewoData.where(cewoData!=-3.4028234663852886e+38) #remove no data vals\n",
    "# cewoData = cewoData.where(cewoData!=0) #remove no data vals\n",
    "# cewoData = cewoData.where(cewoData!=65535.) #remove no data vals\n",
    "# #cewoData = cewoData.where(cewoData!=2.) #remove off river storages"
   ]
  },
  {
   "cell_type": "code",
   "execution_count": 23,
   "metadata": {
    "ExecuteTime": {
     "end_time": "2018-07-26T00:47:05.520430Z",
     "start_time": "2018-07-26T00:47:03.897965Z"
    }
   },
   "outputs": [],
   "source": [
    "plt.clf()\n",
    "cewoData.plot()\n",
    "plt.show()"
   ]
  },
  {
   "cell_type": "code",
   "execution_count": 15,
   "metadata": {
    "ExecuteTime": {
     "end_time": "2018-07-26T04:09:13.002367Z",
     "start_time": "2018-07-26T04:09:12.979797Z"
    }
   },
   "outputs": [
    {
     "data": {
      "text/plain": [
       "<xarray.DataArray (band: 1, y: 6564, x: 2144)>\n",
       "[14073216 values with dtype=uint16]\n",
       "Coordinates:\n",
       "  * band     (band) int64 1\n",
       "  * y        (y) float64 -3.383e+06 -3.383e+06 -3.383e+06 -3.383e+06 ...\n",
       "  * x        (x) float64 1.438e+06 1.438e+06 1.438e+06 1.439e+06 1.439e+06 ...\n",
       "Attributes:\n",
       "    transform:   (25.0, 0.0, 1438421.0013571545, 0.0, -25.0, -3382788.8746242...\n",
       "    crs:         +init=epsg:3577\n",
       "    res:         (25.0, 25.0)\n",
       "    is_tiled:    0\n",
       "    nodatavals:  (65535.0,)"
      ]
     },
     "execution_count": 15,
     "metadata": {},
     "output_type": "execute_result"
    }
   ],
   "source": [
    "cewoData"
   ]
  },
  {
   "cell_type": "code",
   "execution_count": 16,
   "metadata": {
    "ExecuteTime": {
     "end_time": "2018-07-26T04:09:15.278541Z",
     "start_time": "2018-07-26T04:09:15.267045Z"
    }
   },
   "outputs": [
    {
     "data": {
      "text/plain": [
       "<xarray.DataArray (band: 1, y: 6564, x: 2144)>\n",
       "[14073216 values with dtype=float32]\n",
       "Coordinates:\n",
       "  * band     (band) int64 1\n",
       "  * y        (y) float64 -3.383e+06 -3.383e+06 -3.383e+06 -3.383e+06 ...\n",
       "  * x        (x) float64 1.438e+06 1.438e+06 1.438e+06 1.439e+06 1.439e+06 ...\n",
       "Attributes:\n",
       "    transform:   (25.0, 0.0, 1438421.0013571545, 0.0, -25.0, -3382788.8746242...\n",
       "    crs:         +init=epsg:3577\n",
       "    res:         (25.0, 25.0)\n",
       "    is_tiled:    0\n",
       "    nodatavals:  (-3.4028234663852886e+38,)"
      ]
     },
     "execution_count": 16,
     "metadata": {},
     "output_type": "execute_result"
    }
   ],
   "source": [
    "ThresholdData"
   ]
  },
  {
   "cell_type": "code",
   "execution_count": 21,
   "metadata": {
    "ExecuteTime": {
     "end_time": "2018-07-26T04:11:31.729488Z",
     "start_time": "2018-07-26T04:11:30.545714Z"
    }
   },
   "outputs": [],
   "source": [
    "plt.clf()\n",
    "ThresholdData.plot()\n",
    "plt.show()"
   ]
  },
  {
   "cell_type": "code",
   "execution_count": 18,
   "metadata": {
    "ExecuteTime": {
     "end_time": "2018-07-26T04:09:29.818275Z",
     "start_time": "2018-07-26T04:09:28.503599Z"
    }
   },
   "outputs": [],
   "source": [
    "ThresholdData=ThresholdData.where(ThresholdData!=-3.4028234663852886e+38)\n",
    "ThresholdData=ThresholdData.where(ThresholdData!=0)\n",
    "ThresholdData=ThresholdData.where(cewoData.data!=2.0)"
   ]
  },
  {
   "cell_type": "code",
   "execution_count": 19,
   "metadata": {
    "ExecuteTime": {
     "end_time": "2018-07-26T04:09:35.628690Z",
     "start_time": "2018-07-26T04:09:35.601412Z"
    }
   },
   "outputs": [
    {
     "data": {
      "text/plain": [
       "<xarray.DataArray (band: 1, y: 6564, x: 2144)>\n",
       "array([[[nan, nan, ..., nan, nan],\n",
       "        [nan, nan, ..., nan, nan],\n",
       "        ...,\n",
       "        [nan, nan, ..., nan, nan],\n",
       "        [nan, nan, ..., nan, nan]]], dtype=float32)\n",
       "Coordinates:\n",
       "  * band     (band) int64 1\n",
       "  * y        (y) float64 -3.383e+06 -3.383e+06 -3.383e+06 -3.383e+06 ...\n",
       "  * x        (x) float64 1.438e+06 1.438e+06 1.438e+06 1.439e+06 1.439e+06 ...\n",
       "Attributes:\n",
       "    transform:   (25.0, 0.0, 1438421.0013571545, 0.0, -25.0, -3382788.8746242...\n",
       "    crs:         +init=epsg:3577\n",
       "    res:         (25.0, 25.0)\n",
       "    is_tiled:    0\n",
       "    nodatavals:  (-3.4028234663852886e+38,)"
      ]
     },
     "execution_count": 19,
     "metadata": {},
     "output_type": "execute_result"
    }
   ],
   "source": [
    "ThresholdData"
   ]
  },
  {
   "cell_type": "code",
   "execution_count": null,
   "metadata": {
    "ExecuteTime": {
     "end_time": "2018-07-25T01:11:46.424413Z",
     "start_time": "2018-07-25T01:11:46.287074Z"
    }
   },
   "outputs": [],
   "source": [
    "ThresholdData=ThresholdData.where(ThresholdData!=-3.4028234663852886e+38)\n",
    "ThresholdData=ThresholdData.where(ThresholdData!=0)\n",
    "#ThresholdData=ThresholdData.where(cewoData.data!=2.0)"
   ]
  },
  {
   "cell_type": "code",
   "execution_count": null,
   "metadata": {
    "ExecuteTime": {
     "end_time": "2018-07-25T01:12:00.831455Z",
     "start_time": "2018-07-25T01:11:47.860090Z"
    }
   },
   "outputs": [],
   "source": [
    "plt.clf()\n",
    "ThresholdData.plot()\n",
    "plt.show()"
   ]
  },
  {
   "cell_type": "code",
   "execution_count": null,
   "metadata": {
    "ExecuteTime": {
     "end_time": "2018-07-24T06:52:49.625932Z",
     "start_time": "2018-07-24T06:52:48.828879Z"
    }
   },
   "outputs": [],
   "source": [
    "cewoData=cewoData.where(cewoData!=65535.0)"
   ]
  },
  {
   "cell_type": "code",
   "execution_count": null,
   "metadata": {
    "ExecuteTime": {
     "end_time": "2018-07-25T01:55:18.238010Z",
     "start_time": "2018-07-25T01:55:18.209700Z"
    }
   },
   "outputs": [],
   "source": [
    "cewoData"
   ]
  },
  {
   "cell_type": "code",
   "execution_count": null,
   "metadata": {
    "ExecuteTime": {
     "end_time": "2018-07-24T06:52:57.409847Z",
     "start_time": "2018-07-24T06:52:56.311794Z"
    }
   },
   "outputs": [],
   "source": [
    "cewoData.plot()\n",
    "plt.show()"
   ]
  },
  {
   "cell_type": "code",
   "execution_count": null,
   "metadata": {},
   "outputs": [],
   "source": [
    "# Make sure all the missing values are taken out\n",
    "NDVIDatamaxNonull = NDVIDatamax.where(NDVIDatamax != -1)\n",
    "NDMIDatamaxNonull = NDMIDatamax.where(NDMIDatamax != -1)"
   ]
  },
  {
   "cell_type": "markdown",
   "metadata": {},
   "source": [
    "## Read in the validation mask and use it to examine the resulting pixel populations"
   ]
  },
  {
   "cell_type": "code",
   "execution_count": null,
   "metadata": {},
   "outputs": [],
   "source": [
    "# Data * mask = data or nan\n",
    "NDVIIrrigated = mask * NDVIDatamaxNonull\n",
    "# Find where the mask is nan, and use this True/False to mask data\n",
    "NDVINonIrrigated = NDVIDatamaxNonull.where(np.isnan(mask))\n",
    "\n",
    "# Data * mask = data or nan\n",
    "NDMIIrrigated = mask * NDMIDatamaxNonull\n",
    "# Find where the mask is nan, and use this True/False to mask data\n",
    "NDMINonIrrigated = NDMIDatamaxNonull.where(np.isnan(mask))"
   ]
  },
  {
   "cell_type": "markdown",
   "metadata": {},
   "source": [
    "## Need to flatten the data so we can plot two single dimension arrays against each other"
   ]
  },
  {
   "cell_type": "code",
   "execution_count": null,
   "metadata": {},
   "outputs": [],
   "source": [
    "NDVIIrrigatedflat = NDVIIrrigated.data.reshape(NDVIIrrigated.x.size * NDVIIrrigated.y.size)\n",
    "NDVINonIrrigatedflat = NDVINonIrrigated.data.reshape(NDVINonIrrigated.x.size * NDVINonIrrigated.y.size)\n",
    "\n",
    "NDMIIrrigatedflat = NDMIIrrigated.data.reshape(NDMIIrrigated.x.size * NDMIIrrigated.y.size)\n",
    "NDMINonIrrigatedflat = NDMINonIrrigated.data.reshape(NDMINonIrrigated.x.size * NDMINonIrrigated.y.size)"
   ]
  },
  {
   "cell_type": "markdown",
   "metadata": {},
   "source": [
    "## Draw a histogram of the two populations\n",
    "\n",
    "Matplotlib histogram doesn't like `nan`, so we need to remove the `nan` values before we can create a histogram. This is done by reshaping the array into a single dimension, then removing the nan values.\n",
    "\n",
    "This histogram will allow us to determine a valid threshold value for the automatic irrigated crop extent layer."
   ]
  },
  {
   "cell_type": "code",
   "execution_count": null,
   "metadata": {
    "scrolled": false
   },
   "outputs": [],
   "source": [
    "bin_values = np.arange(0, 1.0, 0.02)\n",
    "\n",
    "fig, axs = plt.subplots(1, 2, sharex=True, tight_layout=True, figsize = [9,5])\n",
    "axs[0].hist(NDVIIrrigatedflat[np.isfinite(NDVIIrrigatedflat)], bins=bin_values, facecolor = 'blue');\n",
    "axs[0].set_title('{0} for Namoi irrigated fields {0}'.format(Index, year))\n",
    "axs[0].set_xlabel(Index)\n",
    "axs[1].hist(NDVINonIrrigatedflat[np.isfinite(NDVINonIrrigatedflat)], bins=bin_values, facecolor = 'brown');\n",
    "axs[1].set_title('{0} for Namoi non-irrigated fields {0}'.format(Index, year))\n",
    "axs[1].set_xlabel(Index)\n",
    "savefig('/g/data/r78/cek156/dea-notebooks/Crop_mapping/Playing_around/Namoi_NDVI_{1}.jpg'.format(Index, year))"
   ]
  },
  {
   "cell_type": "markdown",
   "metadata": {},
   "source": [
    "## Is there a relationship between a pixel's NDVI and NDMI?"
   ]
  },
  {
   "cell_type": "code",
   "execution_count": null,
   "metadata": {},
   "outputs": [],
   "source": [
    "plt.figure(figsize = [8,8])\n",
    "\n",
    "plt.scatter(NDVINonIrrigatedflat[::10], NDMINonIrrigatedflat[::10], facecolor = 'brown', marker = '.')\n",
    "plt.scatter(NDVIIrrigatedflat[::10], NDMIIrrigatedflat[::10], facecolor = 'blue', marker = '.')\n",
    "plt.xlabel('NDVI')\n",
    "plt.ylabel('NDMI')\n",
    "plt.title('NDVI vs NDMI for every pixel in the Namoi Catchment')\n",
    "plt.legend(['Non-irrigated pixels', 'Irrigated pixels'])\n",
    "savefig('/g/data/r78/cek156/dea-notebooks/Crop_mapping/Playing_around/Namoi_scatter_{0}.jpg'.format(year))"
   ]
  },
  {
   "cell_type": "code",
   "execution_count": null,
   "metadata": {},
   "outputs": [],
   "source": []
  }
 ],
 "metadata": {
  "kernelspec": {
   "display_name": "Python 3",
   "language": "python",
   "name": "python3"
  },
  "language_info": {
   "codemirror_mode": {
    "name": "ipython",
    "version": 3
   },
   "file_extension": ".py",
   "mimetype": "text/x-python",
   "name": "python",
   "nbconvert_exporter": "python",
   "pygments_lexer": "ipython3",
   "version": "3.6.5"
  },
  "toc": {
   "base_numbering": 1,
   "nav_menu": {},
   "number_sections": true,
   "sideBar": true,
   "skip_h1_title": false,
   "title_cell": "Table of Contents",
   "title_sidebar": "Contents",
   "toc_cell": false,
   "toc_position": {},
   "toc_section_display": true,
   "toc_window_display": false
  }
 },
 "nbformat": 4,
 "nbformat_minor": 2
}
