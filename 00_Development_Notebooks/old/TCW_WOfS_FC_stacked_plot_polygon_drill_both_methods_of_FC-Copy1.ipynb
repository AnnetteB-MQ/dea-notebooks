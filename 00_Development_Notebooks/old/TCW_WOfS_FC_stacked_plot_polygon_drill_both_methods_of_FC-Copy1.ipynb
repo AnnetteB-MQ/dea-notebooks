{
 "cells": [
  {
   "cell_type": "markdown",
   "metadata": {},
   "source": [
    "# TCW, WOfS, Fractional Cover all together now"
   ]
  },
  {
   "cell_type": "markdown",
   "metadata": {
    "ExecuteTime": {
     "end_time": "2019-01-06T22:23:31.735426Z",
     "start_time": "2019-01-06T22:23:30.342336Z"
    }
   },
   "source": [
    "| Authors:  | Bex Dunn|\n",
    "|----------|----------------|\n",
    "| Created: | Jan 7, 2019 |\n",
    "| Last edited: | Jan 9, 2019 |\n",
    "\n",
    "**Requirements:**\n",
    "\n",
    "You need to run the following commands from the command line prior to launching jupyter notebooks from the same terminal so that the required libraries and paths are set:\n",
    "\n",
    "`module use /g/data/v10/public/modules/modulefiles` \n",
    "\n",
    "`module load dea`\n",
    "\n",
    "If you find an error or bug in this notebook, please either create an 'Issue' in the Github repository, or fix it yourself and create a 'Pull' request to contribute the updated notebook back into the repository (See the repository [README](https://github.com/GeoscienceAustralia/dea-notebooks/blob/master/README.rst) for instructions on creating a Pull request).\n",
    "\n",
    "__Background:__ Data from the [Landsat](https://landsat.usgs.gov/about-landsat) 5,7 and 8 satellite missions are accessible through [Digital Earth Australia](http://www.ga.gov.au/about/projects/geographic/digital-earth-australia) (DEA). The code snippets in this notebook will let you retrieve and plot the [Fractional Cover](https://d28rz98at9flks.cloudfront.net/79676/Fractional_Cover_FC25_v1_5.PDF) (FC25) data stored in DEA.\n",
    "\n",
    "__What does this notebook do?:__ This notebook ###FIXME\n",
    "''' Polygon drill, TCW, WOfS, FC, then stacked bar plot '''\n",
    "    \n",
    "__How to use this notebook:__\n",
    "\n",
    "A basic understanding of any programming language is desirable but one doesn't have to be an expert Python programmer to manipulate the code to get and display the data.This doc applies to the following Landsat satellites, Fractional Cover bands and the WOfS dataset:\n",
    "\n",
    "- Landsat 5\n",
    "- Landsat 7\n",
    "- Landsat 8\n",
    "- PV - Photosythetic vegetation\n",
    "- NPV - Non-Photosythetic vegetation\n",
    "- BS - Bare Soil\n",
    "- UE - Unmixing Error\n",
    "- Water Observations from Space (WOFs)\n",
    "- WOfS Feature Layer (WOFL)\n",
    "\n",
    "\n"
   ]
  },
  {
   "cell_type": "markdown",
   "metadata": {
    "ExecuteTime": {
     "end_time": "2019-01-06T23:06:04.497482Z",
     "start_time": "2019-01-06T23:06:02.998425Z"
    }
   },
   "source": [
    "__Bugs to fix:__ \n",
    "- calculate pixels per scene for wofs and tcw\n",
    "- try alternative method of calculating FC as most prevalent in pixel\n",
    "- try masking out the AOI so you're looking within a polygon extent \n",
    "- do this by max extent of wetness\n",
    "        "
   ]
  },
  {
   "cell_type": "markdown",
   "metadata": {
    "ExecuteTime": {
     "end_time": "2019-01-04T03:51:22.814165Z",
     "start_time": "2019-01-04T03:51:22.805714Z"
    }
   },
   "source": [
    "### import some modules\n"
   ]
  },
  {
   "cell_type": "code",
   "execution_count": 1,
   "metadata": {
    "ExecuteTime": {
     "end_time": "2019-01-09T21:59:38.354806Z",
     "start_time": "2019-01-09T21:59:03.043701Z"
    }
   },
   "outputs": [],
   "source": [
    "import datacube\n",
    "import datetime\n",
    "import fiona\n",
    "import geopandas as gpd\n",
    "import numpy as np\n",
    "import pandas as pd\n",
    "import rasterio.mask\n",
    "import rasterio.features\n",
    "from shapely import geometry\n",
    "import seaborn as sns\n",
    "import sys\n",
    "import xarray as xr\n",
    "\n",
    "import matplotlib.gridspec as gridspec\n",
    "import matplotlib.pyplot as plt\n",
    "\n",
    "from datacube.storage import masking\n",
    "from datacube.utils import geometry\n",
    "#import shapely.geometry\n",
    "\n",
    "sys.path.append('../10_Scripts')\n",
    "import DEADataHandling, DEAPlotting, TasseledCapTools, SpatialTools\n",
    "\n",
    "dc = datacube.Datacube(app='tci and wofs')\n",
    "\n",
    "%load_ext autoreload\n",
    "\n",
    "%autoreload 2"
   ]
  },
  {
   "cell_type": "markdown",
   "metadata": {},
   "source": [
    "### Set up polygon"
   ]
  },
  {
   "cell_type": "code",
   "execution_count": 2,
   "metadata": {
    "ExecuteTime": {
     "end_time": "2019-01-09T21:59:38.416568Z",
     "start_time": "2019-01-09T21:59:38.358177Z"
    }
   },
   "outputs": [],
   "source": [
    "#change the path here if you want a different polygon\n",
    "#poly_path = '/g/data/r78/rjd547/groundwater_activities/Burdekin/Burdekin_shapefiles/reeves_lake_for_demo.shp'\n",
    "poly_path = '/g/data/r78/SA_mound_springs/Big_Blythe_small.shp'"
   ]
  },
  {
   "cell_type": "code",
   "execution_count": 3,
   "metadata": {
    "ExecuteTime": {
     "end_time": "2019-01-09T21:59:38.580560Z",
     "start_time": "2019-01-09T21:59:38.420171Z"
    }
   },
   "outputs": [],
   "source": [
    "with fiona.open(poly_path) as shapes:\n",
    "        crs = geometry.CRS(shapes.crs_wkt)\n",
    "        first_geometry = next(iter(shapes))['geometry']\n",
    "        geom = geometry.Geometry(first_geometry, crs=crs)"
   ]
  },
  {
   "cell_type": "code",
   "execution_count": null,
   "metadata": {
    "ExecuteTime": {
     "start_time": "2019-01-09T21:59:12.070Z"
    }
   },
   "outputs": [
    {
     "data": {
      "text/plain": [
       "<Figure size 432x288 with 0 Axes>"
      ]
     },
     "metadata": {},
     "output_type": "display_data"
    },
    {
     "data": {
      "image/png": "[encoded data removed]",
      "text/plain": [
       "<Figure size 432x288 with 1 Axes>"
      ]
     },
     "metadata": {
      "needs_background": "light"
     },
     "output_type": "display_data"
    }
   ],
   "source": [
    "#plot polygon to check it looks ok\n",
    "plt.clf()\n",
    "shape_plot = gpd.read_file(poly_path)\n",
    "shape_plot.plot()\n",
    "plt.show()"
   ]
  },
  {
   "cell_type": "markdown",
   "metadata": {},
   "source": [
    "### Set up query"
   ]
  },
  {
   "cell_type": "code",
   "execution_count": null,
   "metadata": {
    "ExecuteTime": {
     "start_time": "2019-01-09T21:59:13.406Z"
    }
   },
   "outputs": [],
   "source": [
    "query = {'geopolygon': geom,\n",
    "         #'time': ('2016-01-01', '2016-06-30')\n",
    "         #'time': ('2007-01-01', '2007-06-30')\n",
    "         'time': ('1987-01-01', '2019-01-01')\n",
    "         }"
   ]
  },
  {
   "cell_type": "markdown",
   "metadata": {},
   "source": [
    "## Set up datasets"
   ]
  },
  {
   "cell_type": "markdown",
   "metadata": {
    "ExecuteTime": {
     "end_time": "2019-01-06T23:12:48.634135Z",
     "start_time": "2019-01-06T23:12:48.544858Z"
    }
   },
   "source": [
    "### set cloudmasking threshold and load landsat nbart data"
   ]
  },
  {
   "cell_type": "code",
   "execution_count": null,
   "metadata": {
    "ExecuteTime": {
     "start_time": "2019-01-09T21:59:14.711Z"
    }
   },
   "outputs": [
    {
     "name": "stdout",
     "output_type": "stream",
     "text": [
      "Loading ls5 pixel quality\n",
      "    Loading 278 filtered ls5 timesteps\n"
     ]
    }
   ],
   "source": [
    "#set cloudmasking threshold and load landsat nbart data\n",
    "landsat_masked_prop = 0.90\n",
    "ls578_ds = DEADataHandling.load_clearlandsat(dc=dc, query=query, product='nbart',\n",
    "        masked_prop=landsat_masked_prop)"
   ]
  },
  {
   "cell_type": "markdown",
   "metadata": {
    "ExecuteTime": {
     "end_time": "2019-01-08T02:38:19.805949Z",
     "start_time": "2019-01-08T02:38:18.089945Z"
    }
   },
   "source": [
    "### mask the data with our original polygon to remove extra data "
   ]
  },
  {
   "cell_type": "code",
   "execution_count": null,
   "metadata": {
    "ExecuteTime": {
     "start_time": "2019-01-09T21:59:15.779Z"
    }
   },
   "outputs": [],
   "source": [
    "data = ls578_ds\n",
    "mask = rasterio.features.geometry_mask([geom.to_crs(data.geobox.crs)for geoms in [geom]],\n",
    "                                           out_shape=data.geobox.shape,\n",
    "                                           transform=data.geobox.affine,\n",
    "                                           all_touched=False,\n",
    "                                           invert=False)"
   ]
  },
  {
   "cell_type": "code",
   "execution_count": null,
   "metadata": {
    "ExecuteTime": {
     "start_time": "2019-01-09T21:59:16.050Z"
    }
   },
   "outputs": [],
   "source": [
    "#for some reason xarray is not playing nicely with our old masking function\n",
    "mask_xr = xr.DataArray(mask, dims = ('y','x'))"
   ]
  },
  {
   "cell_type": "code",
   "execution_count": null,
   "metadata": {
    "ExecuteTime": {
     "start_time": "2019-01-09T21:59:16.349Z"
    }
   },
   "outputs": [],
   "source": [
    "ls578_ds = data.where(mask_xr==False)"
   ]
  },
  {
   "cell_type": "code",
   "execution_count": null,
   "metadata": {
    "ExecuteTime": {
     "start_time": "2019-01-09T21:59:16.651Z"
    }
   },
   "outputs": [],
   "source": [
    "#plot nbart|\n",
    "ls578_ds.swir2.isel(time=0).plot()"
   ]
  },
  {
   "cell_type": "code",
   "execution_count": null,
   "metadata": {
    "ExecuteTime": {
     "start_time": "2019-01-09T22:00:03.424Z"
    }
   },
   "outputs": [],
   "source": [
    "#transform the nbart into tci\n",
    "tci = TasseledCapTools.thresholded_tasseled_cap(ls578_ds,wetness_threshold=-350, drop=True , drop_tc_bands=True)"
   ]
  },
  {
   "cell_type": "markdown",
   "metadata": {
    "ExecuteTime": {
     "end_time": "2019-01-06T22:57:46.006966Z",
     "start_time": "2019-01-06T22:57:45.929404Z"
    }
   },
   "source": [
    "### plot the overthreshold wetness"
   ]
  },
  {
   "cell_type": "code",
   "execution_count": null,
   "metadata": {
    "ExecuteTime": {
     "start_time": "2019-01-09T22:00:04.053Z"
    }
   },
   "outputs": [],
   "source": [
    "#plot the first time slice of wetness\n",
    "tci.wetness_thresholded.plot(col='time', \n",
    "                             col_wrap=4, cmap = 'gist_earth_r',\n",
    "                             vmin = -1200, vmax = 0)"
   ]
  },
  {
   "cell_type": "markdown",
   "metadata": {},
   "source": [
    "### create a masked version of the extent of overthreshold wetness"
   ]
  },
  {
   "cell_type": "code",
   "execution_count": null,
   "metadata": {
    "ExecuteTime": {
     "start_time": "2019-01-09T22:00:04.647Z"
    }
   },
   "outputs": [],
   "source": [
    "#select only finite values (over threshold values)\n",
    "tcw = xr.ufuncs.isfinite(tci.wetness_thresholded)"
   ]
  },
  {
   "cell_type": "code",
   "execution_count": null,
   "metadata": {
    "ExecuteTime": {
     "start_time": "2019-01-09T22:00:05.054Z"
    }
   },
   "outputs": [],
   "source": [
    "# #reapply the polygon mask\n",
    "tcw = tcw.where(mask_xr==False)"
   ]
  },
  {
   "cell_type": "code",
   "execution_count": null,
   "metadata": {
    "ExecuteTime": {
     "start_time": "2019-01-09T22:00:06.056Z"
    }
   },
   "outputs": [],
   "source": [
    "#plot the first timestep again to check the mask\n",
    "tcw.isel(time=0).plot()"
   ]
  },
  {
   "cell_type": "markdown",
   "metadata": {
    "ExecuteTime": {
     "end_time": "2019-01-06T23:01:16.380099Z",
     "start_time": "2019-01-06T23:01:14.739350Z"
    }
   },
   "source": [
    "### load wofls and select only wet pixels"
   ]
  },
  {
   "cell_type": "code",
   "execution_count": null,
   "metadata": {
    "ExecuteTime": {
     "start_time": "2019-01-09T22:00:06.680Z"
    }
   },
   "outputs": [],
   "source": [
    "### define wofs\n",
    "#wofls = dc.load(product='wofs_albers', **query)\n",
    "wofls = dc.load(product = 'wofs_albers', like=ls578_ds)"
   ]
  },
  {
   "cell_type": "code",
   "execution_count": null,
   "metadata": {
    "ExecuteTime": {
     "start_time": "2019-01-09T22:00:07.696Z"
    }
   },
   "outputs": [],
   "source": [
    "#only get wet obs as a boolean\n",
    "wetwofl = masking.make_mask(wofls, wet=True)"
   ]
  },
  {
   "cell_type": "code",
   "execution_count": null,
   "metadata": {
    "ExecuteTime": {
     "start_time": "2019-01-09T22:00:07.951Z"
    }
   },
   "outputs": [],
   "source": [
    "#match the wofs observations to the nbart\n",
    "wetwofl=wetwofl.where(wofls.time==ls578_ds.time)"
   ]
  },
  {
   "cell_type": "markdown",
   "metadata": {
    "ExecuteTime": {
     "end_time": "2019-01-09T01:48:09.915423Z",
     "start_time": "2019-01-09T01:48:09.867490Z"
    }
   },
   "source": [
    "### mask the wofs obs"
   ]
  },
  {
   "cell_type": "code",
   "execution_count": null,
   "metadata": {
    "ExecuteTime": {
     "start_time": "2019-01-09T22:00:08.568Z"
    }
   },
   "outputs": [],
   "source": [
    "#mask the wofs obs with the polygon mask\n",
    "wetwofl = wetwofl.where(mask_xr==False)"
   ]
  },
  {
   "cell_type": "code",
   "execution_count": null,
   "metadata": {
    "ExecuteTime": {
     "start_time": "2019-01-09T22:00:08.848Z"
    }
   },
   "outputs": [],
   "source": [
    "#plot wofs\n",
    "wetwofl.water.isel(time=2).plot()"
   ]
  },
  {
   "cell_type": "markdown",
   "metadata": {},
   "source": [
    "### load in fractional cover data"
   ]
  },
  {
   "cell_type": "code",
   "execution_count": null,
   "metadata": {
    "ExecuteTime": {
     "start_time": "2019-01-09T22:00:10.067Z"
    }
   },
   "outputs": [],
   "source": [
    "#load the data according to our query\n",
    "#choose a mask proportion to look for a clear timestep\n",
    "fc_ds = DEADataHandling.load_clearlandsat(dc, query,product='fc',masked_prop=0.90)"
   ]
  },
  {
   "cell_type": "code",
   "execution_count": null,
   "metadata": {
    "ExecuteTime": {
     "start_time": "2019-01-09T22:00:10.379Z"
    }
   },
   "outputs": [],
   "source": [
    "#just a scene we want to plot - this can be done other ways\n",
    "scene = 2"
   ]
  },
  {
   "cell_type": "code",
   "execution_count": null,
   "metadata": {
    "ExecuteTime": {
     "start_time": "2019-01-09T22:00:10.880Z"
    }
   },
   "outputs": [],
   "source": [
    "#set up our images on a grid using gridspec\n",
    "plt.figure(figsize=(12,8))\n",
    "gs = gridspec.GridSpec(2,2) # set up a 2 x 2 grid of 4 images for better presentation\n",
    "\n",
    "ax1=plt.subplot(gs[0,0])\n",
    "fc_ds.PV.isel(time=scene).plot(cmap='gist_earth_r')\n",
    "ax1.set_title('PV')\n",
    "\n",
    "ax2=plt.subplot(gs[1,0])\n",
    "fc_ds.BS.isel(time=scene).plot(cmap='Oranges')\n",
    "ax2.set_title('BS')\n",
    "\n",
    "ax3=plt.subplot(gs[0,1])\n",
    "fc_ds.NPV.isel(time=scene).plot(cmap='copper')\n",
    "ax3.set_title('NPV')\n",
    "\n",
    "ax4=plt.subplot(gs[1,1])\n",
    "fc_ds.UE.isel(time=scene).plot(cmap='magma')\n",
    "ax4.set_title('UE')\n",
    "\n",
    "plt.tight_layout()\n",
    "plt.show()"
   ]
  },
  {
   "cell_type": "markdown",
   "metadata": {},
   "source": [
    "### mask FC with polygon"
   ]
  },
  {
   "cell_type": "code",
   "execution_count": null,
   "metadata": {
    "ExecuteTime": {
     "start_time": "2019-01-09T22:00:12.548Z"
    }
   },
   "outputs": [],
   "source": [
    "fc_ds = fc_ds.where(mask_xr==False)"
   ]
  },
  {
   "cell_type": "code",
   "execution_count": null,
   "metadata": {
    "ExecuteTime": {
     "start_time": "2019-01-09T22:00:12.824Z"
    }
   },
   "outputs": [],
   "source": [
    "#set up our images on a grid using gridspec\n",
    "plt.figure(figsize=(12,8))\n",
    "gs = gridspec.GridSpec(2,2) # set up a 2 x 2 grid of 4 images for better presentation\n",
    "\n",
    "ax1=plt.subplot(gs[0,0])\n",
    "fc_ds.PV.isel(time=scene).plot(cmap='gist_earth_r')\n",
    "ax1.set_title('PV')\n",
    "\n",
    "ax2=plt.subplot(gs[1,0])\n",
    "fc_ds.BS.isel(time=scene).plot(cmap='Oranges')\n",
    "ax2.set_title('BS')\n",
    "\n",
    "ax3=plt.subplot(gs[0,1])\n",
    "fc_ds.NPV.isel(time=scene).plot(cmap='copper')\n",
    "ax3.set_title('NPV')\n",
    "\n",
    "ax4=plt.subplot(gs[1,1])\n",
    "fc_ds.UE.isel(time=scene).plot(cmap='magma')\n",
    "ax4.set_title('UE')\n",
    "\n",
    "plt.tight_layout()\n",
    "plt.show()"
   ]
  },
  {
   "cell_type": "markdown",
   "metadata": {},
   "source": [
    "### mask FC with wetness"
   ]
  },
  {
   "cell_type": "code",
   "execution_count": null,
   "metadata": {
    "ExecuteTime": {
     "start_time": "2019-01-09T22:00:14.385Z"
    }
   },
   "outputs": [],
   "source": [
    "fc_ds_noTCW=fc_ds.where(tcw==False)"
   ]
  },
  {
   "cell_type": "code",
   "execution_count": null,
   "metadata": {
    "ExecuteTime": {
     "start_time": "2019-01-09T22:00:14.694Z"
    }
   },
   "outputs": [],
   "source": [
    "#set up our images on a grid using gridspec\n",
    "plt.figure(figsize=(12,8))\n",
    "gs = gridspec.GridSpec(2,2) # set up a 2 x 2 grid of 4 images for better presentation\n",
    "\n",
    "ax1=plt.subplot(gs[0,0])\n",
    "fc_ds_noTCW.PV.isel(time=scene).plot(cmap='gist_earth_r')\n",
    "ax1.set_title('PV')\n",
    "\n",
    "ax2=plt.subplot(gs[1,0])\n",
    "fc_ds_noTCW.BS.isel(time=scene).plot(cmap='Oranges')\n",
    "ax2.set_title('BS')\n",
    "\n",
    "ax3=plt.subplot(gs[0,1])\n",
    "fc_ds_noTCW.NPV.isel(time=scene).plot(cmap='copper')\n",
    "ax3.set_title('NPV')\n",
    "\n",
    "ax4=plt.subplot(gs[1,1])\n",
    "fc_ds_noTCW.UE.isel(time=scene).plot(cmap='magma')\n",
    "ax4.set_title('UE')\n",
    "\n",
    "plt.tight_layout()\n",
    "plt.show()"
   ]
  },
  {
   "cell_type": "code",
   "execution_count": null,
   "metadata": {
    "ExecuteTime": {
     "start_time": "2019-01-09T22:00:15.616Z"
    }
   },
   "outputs": [],
   "source": [
    "fc_ds_noTCW"
   ]
  },
  {
   "cell_type": "markdown",
   "metadata": {
    "ExecuteTime": {
     "end_time": "2019-01-08T04:44:08.376357Z",
     "start_time": "2019-01-08T04:44:06.712871Z"
    }
   },
   "source": [
    "### count FC pixels\n",
    "note that this changes every timestep as we are masking out TCW pixels every timestep"
   ]
  },
  {
   "cell_type": "code",
   "execution_count": null,
   "metadata": {
    "ExecuteTime": {
     "start_time": "2019-01-09T22:00:16.261Z"
    }
   },
   "outputs": [],
   "source": [
    "#count non_water/non_nan pixels in each timestep\n",
    "non_water_pixels = fc_ds_noTCW.count(dim=['x','y'])\n",
    "#non_water_pixels"
   ]
  },
  {
   "cell_type": "markdown",
   "metadata": {},
   "source": [
    "### count wet, wofs, bs, pv, npv"
   ]
  },
  {
   "cell_type": "code",
   "execution_count": null,
   "metadata": {
    "ExecuteTime": {
     "start_time": "2019-01-09T22:00:17.761Z"
    }
   },
   "outputs": [],
   "source": [
    "tcw.isel(time=2).plot()"
   ]
  },
  {
   "cell_type": "markdown",
   "metadata": {},
   "source": [
    "### Calculate number of pixels in area of interest"
   ]
  },
  {
   "cell_type": "code",
   "execution_count": null,
   "metadata": {
    "ExecuteTime": {
     "start_time": "2019-01-09T22:00:18.919Z"
    }
   },
   "outputs": [],
   "source": [
    "#number of pixels in area of interest\n",
    "pixels = (mask_xr==0).sum(dim=['x','y'])"
   ]
  },
  {
   "cell_type": "code",
   "execution_count": null,
   "metadata": {
    "ExecuteTime": {
     "start_time": "2019-01-09T22:00:19.231Z"
    }
   },
   "outputs": [],
   "source": [
    "pixels"
   ]
  },
  {
   "cell_type": "code",
   "execution_count": null,
   "metadata": {
    "ExecuteTime": {
     "start_time": "2019-01-09T22:00:19.525Z"
    }
   },
   "outputs": [],
   "source": [
    "mask_xr==0"
   ]
  },
  {
   "cell_type": "code",
   "execution_count": null,
   "metadata": {
    "ExecuteTime": {
     "start_time": "2019-01-09T22:00:19.791Z"
    }
   },
   "outputs": [],
   "source": [
    "mask_xr.count(dim=['x','y'])"
   ]
  },
  {
   "cell_type": "code",
   "execution_count": null,
   "metadata": {
    "ExecuteTime": {
     "start_time": "2019-01-09T22:00:20.166Z"
    }
   },
   "outputs": [],
   "source": [
    "pixels"
   ]
  },
  {
   "cell_type": "code",
   "execution_count": null,
   "metadata": {
    "ExecuteTime": {
     "start_time": "2019-01-09T22:00:20.599Z"
    }
   },
   "outputs": [],
   "source": [
    "# count wet, wofs,\n",
    "#count number of wofs pixels\n",
    "wofs_pixels = wetwofl.water.sum(dim=['x','y'])\n",
    "\n",
    "#count percentage of area of wofs\n",
    "wofs_area_percent = (wofs_pixels/pixels)*100\n",
    "\n",
    "#count number of tcw pixels\n",
    "tcw_pixel_count = tcw.sum(dim=['x','y'])\n",
    "\n",
    "#calculate percentage area wet\n",
    "tcw_area_percent = (tcw_pixel_count/pixels)*100\n",
    "\n",
    "#calculate wet not wofs\n",
    "tcw_less_wofs = tcw_area_percent-wofs_area_percent"
   ]
  },
  {
   "cell_type": "code",
   "execution_count": null,
   "metadata": {
    "ExecuteTime": {
     "start_time": "2019-01-09T22:00:20.955Z"
    }
   },
   "outputs": [],
   "source": [
    "##clean up percentage multiplier code"
   ]
  },
  {
   "cell_type": "code",
   "execution_count": null,
   "metadata": {
    "ExecuteTime": {
     "start_time": "2019-01-09T22:00:22.614Z"
    }
   },
   "outputs": [],
   "source": [
    "#percentage_multiplier = (100 - tcw_area_percent)\n",
    "\n",
    "fc_bs_pc = (fc_ds_noTCW.BS.sum(dim=['x','y']))/(pixels) #*percentage_multiplier/100\n",
    "fc_pv_pc = (fc_ds_noTCW.PV.sum(dim=['x','y']))/(pixels)# *percentage_multiplier/100\n",
    "fc_npv_pc = (fc_ds_noTCW.NPV.sum(dim=['x','y']))/(pixels) #*percentage_multiplier/100\n",
    "\n",
    "#set up color palette\n",
    "pal = [sns.xkcd_rgb[\"blue\"],\n",
    "       sns.xkcd_rgb[\"teal\"],\n",
    "       sns.xkcd_rgb[\"forest green\"],\n",
    "       sns.xkcd_rgb[\"olive\"],\n",
    "       sns.xkcd_rgb[\"tan\"]]\n",
    "\n",
    "#make a stacked area plot\n",
    "plt.figure(figsize=(12,10))\n",
    "plt.stackplot(wofs_area_percent.time.values, \n",
    "              wofs_area_percent, \n",
    "              tcw_less_wofs, \n",
    "              fc_pv_pc, \n",
    "              fc_npv_pc, \n",
    "              fc_bs_pc,  \n",
    "              labels=['open water',\n",
    "                      'wet',\n",
    "                      'PV',\n",
    "                      'NPV',\n",
    "                      'BS'], colors=pal, alpha = 0.6)\n",
    "plt.title('Percentage of area WOfS, Wetness, Fractional Cover')\n",
    "plt.legend(loc='upper right')\n",
    "plt.show()"
   ]
  },
  {
   "cell_type": "markdown",
   "metadata": {},
   "source": [
    "### Calculate the dominant fraction for each pixel in Fractional Cover"
   ]
  },
  {
   "cell_type": "code",
   "execution_count": null,
   "metadata": {
    "ExecuteTime": {
     "start_time": "2019-01-09T22:00:24.265Z"
    }
   },
   "outputs": [],
   "source": [
    "#drop data percentage and Unmixing Error\n",
    "fc_tester = fc_ds_noTCW.drop(['data_perc','UE'])"
   ]
  },
  {
   "cell_type": "markdown",
   "metadata": {},
   "source": [
    "In order to find the clouds, find where, within the mask, the \n",
    "\n",
    "Or just remove TCW later? I think TCW is getting counted as BS!!!"
   ]
  },
  {
   "cell_type": "code",
   "execution_count": null,
   "metadata": {
    "ExecuteTime": {
     "start_time": "2019-01-09T22:00:24.839Z"
    }
   },
   "outputs": [],
   "source": [
    "fc_tester.isel(time=2).BS.plot()"
   ]
  },
  {
   "cell_type": "code",
   "execution_count": null,
   "metadata": {
    "ExecuteTime": {
     "start_time": "2019-01-09T22:00:25.798Z"
    }
   },
   "outputs": [],
   "source": [
    "#following robbi's advice, cast the dataset to a dataarray\n",
    "maxFC = fc_tester.to_array(dim='variable', name='maxFC')"
   ]
  },
  {
   "cell_type": "code",
   "execution_count": null,
   "metadata": {
    "ExecuteTime": {
     "start_time": "2019-01-09T22:00:26.117Z"
    }
   },
   "outputs": [],
   "source": [
    "#turn FC array into integer only as nanargmax doesn't seem to handle floats the way we want it to\n",
    "FC_int = maxFC.astype('int8')"
   ]
  },
  {
   "cell_type": "code",
   "execution_count": null,
   "metadata": {
    "ExecuteTime": {
     "start_time": "2019-01-09T22:00:26.394Z"
    }
   },
   "outputs": [],
   "source": [
    "FC_int.sel(variable='BS').isel(time=2).plot()"
   ]
  },
  {
   "cell_type": "code",
   "execution_count": null,
   "metadata": {
    "ExecuteTime": {
     "start_time": "2019-01-09T22:00:26.676Z"
    }
   },
   "outputs": [],
   "source": [
    "#use numpy.nanargmax to get the index of the maximum value along the variable dimension\n",
    "#BSPVNPV=np.nanargmax(FC_int, axis=0)\n",
    "BSPVNPV=FC_int.argmax(dim='variable')"
   ]
  },
  {
   "cell_type": "code",
   "execution_count": null,
   "metadata": {
    "ExecuteTime": {
     "start_time": "2019-01-09T22:00:26.983Z"
    }
   },
   "outputs": [],
   "source": [
    "FC_mask=xr.ufuncs.isfinite(maxFC).all(dim='variable')"
   ]
  },
  {
   "cell_type": "code",
   "execution_count": null,
   "metadata": {
    "ExecuteTime": {
     "start_time": "2019-01-09T22:00:27.289Z"
    }
   },
   "outputs": [],
   "source": [
    "# #re-mask with nans to remove no-data\n",
    "BSPVNPV=BSPVNPV.where(FC_mask)"
   ]
  },
  {
   "cell_type": "code",
   "execution_count": null,
   "metadata": {
    "ExecuteTime": {
     "start_time": "2019-01-09T22:00:27.573Z"
    }
   },
   "outputs": [],
   "source": [
    "#plot the results to check they look roughly like what we are expecting\n",
    "plt.imshow(BSPVNPV[2])\n",
    "plt.colorbar()"
   ]
  },
  {
   "cell_type": "code",
   "execution_count": null,
   "metadata": {
    "ExecuteTime": {
     "start_time": "2019-01-09T22:00:27.887Z"
    }
   },
   "outputs": [],
   "source": [
    "# ## create a data array with BS, PV, NPV separate\n",
    "# ### FIXME turn these into booleans\n",
    "# ### FIXME : Check these are variables not coords\n",
    "# FC_dominant['BS'] = (BSPVNPV==0).where(FC_mask)\n",
    "# FC_dominant['PV'] = (BSPVNPV==1).where(FC_mask)\n",
    "# FC_dominant['NPV'] = (BSPVNPV==2).where(FC_mask)\n"
   ]
  },
  {
   "cell_type": "code",
   "execution_count": null,
   "metadata": {
    "ExecuteTime": {
     "start_time": "2019-01-09T22:00:28.998Z"
    }
   },
   "outputs": [],
   "source": [
    "FC_dominant = xr.Dataset({\n",
    "    'BS': (BSPVNPV==0).where(FC_mask),\n",
    "    'PV': (BSPVNPV==1).where(FC_mask),\n",
    "    'NPV': (BSPVNPV==2).where(FC_mask),\n",
    "})"
   ]
  },
  {
   "cell_type": "code",
   "execution_count": null,
   "metadata": {
    "ExecuteTime": {
     "start_time": "2019-01-09T22:00:29.288Z"
    }
   },
   "outputs": [],
   "source": [
    "FC_count = FC_dominant.sum(dim=['x','y'])"
   ]
  },
  {
   "cell_type": "code",
   "execution_count": null,
   "metadata": {
    "ExecuteTime": {
     "start_time": "2019-01-09T22:00:29.647Z"
    }
   },
   "outputs": [],
   "source": [
    "# FC_dominant['BS'].isel(time=2).plot()"
   ]
  },
  {
   "cell_type": "code",
   "execution_count": null,
   "metadata": {
    "ExecuteTime": {
     "start_time": "2019-01-09T22:00:29.974Z"
    }
   },
   "outputs": [],
   "source": [
    "#Fractional cover pixel count method\n",
    "#Get number of FC pixels, divide by total number of pixels per polygon\n",
    "\n",
    "Bare_soil_percent=(FC_count.BS/pixels)*100\n",
    "\n",
    "Photosynthetic_veg_percent=(FC_count.PV/pixels)*100\n",
    "\n",
    "NonPhotosynthetic_veg_percent=(FC_count.NPV/pixels)*100"
   ]
  },
  {
   "cell_type": "code",
   "execution_count": null,
   "metadata": {
    "ExecuteTime": {
     "start_time": "2019-01-09T22:00:30.368Z"
    }
   },
   "outputs": [],
   "source": [
    "NoData = 100 - wofs_area_percent- tcw_less_wofs - Photosynthetic_veg_percent - NonPhotosynthetic_veg_percent - Bare_soil_percent\n",
    "NoData"
   ]
  },
  {
   "cell_type": "code",
   "execution_count": null,
   "metadata": {
    "ExecuteTime": {
     "start_time": "2019-01-09T22:00:31.643Z"
    }
   },
   "outputs": [],
   "source": [
    "#set up color palette\n",
    "pal = [sns.xkcd_rgb[\"blue\"],\n",
    "       sns.xkcd_rgb[\"teal\"],\n",
    "       sns.xkcd_rgb[\"forest green\"],\n",
    "       sns.xkcd_rgb[\"olive\"],\n",
    "       sns.xkcd_rgb[\"tan\"],\n",
    "      sns.xkcd_rgb[\"grey\"]]\n",
    "\n",
    "#make a stacked area plot\n",
    "plt.figure(figsize = (12,6))\n",
    "plt.stackplot(wofs_area_percent.time.values, \n",
    "              wofs_area_percent, \n",
    "              tcw_less_wofs, \n",
    "              Photosynthetic_veg_percent, \n",
    "              NonPhotosynthetic_veg_percent,\n",
    "              Bare_soil_percent,\n",
    "              NoData,\n",
    "              labels=['open water',\n",
    "                      'wet',\n",
    "                      'PV',\n",
    "                      'NPV',\n",
    "                      'BS',\n",
    "                      'NoData'\n",
    "                     ], colors=pal, alpha = 0.6)\n",
    "\n",
    "plt.title('Percentage of area WOfS, Wetness, Fractional Cover')\n",
    "plt.legend(loc='upper right')\n",
    "plt.show()"
   ]
  },
  {
   "cell_type": "code",
   "execution_count": null,
   "metadata": {},
   "outputs": [],
   "source": [
    "plt.savefig('')"
   ]
  },
  {
   "cell_type": "code",
   "execution_count": null,
   "metadata": {},
   "outputs": [],
   "source": []
  }
 ],
 "metadata": {
  "kernelspec": {
   "display_name": "Python [default]",
   "language": "python",
   "name": "python3"
  },
  "language_info": {
   "codemirror_mode": {
    "name": "ipython",
    "version": 3
   },
   "file_extension": ".py",
   "mimetype": "text/x-python",
   "name": "python",
   "nbconvert_exporter": "python",
   "pygments_lexer": "ipython3",
   "version": "3.6.6"
  }
 },
 "nbformat": 4,
 "nbformat_minor": 2
}
