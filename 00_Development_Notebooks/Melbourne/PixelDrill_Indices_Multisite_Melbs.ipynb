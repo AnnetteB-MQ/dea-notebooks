{
 "cells": [
  {
   "cell_type": "markdown",
   "metadata": {},
   "source": [
    "# Pixel Drill for Indices outputs to CSV - Multi-site"
   ]
  },
  {
   "cell_type": "markdown",
   "metadata": {},
   "source": [
    "| Authors:  | Bex Dunn|\n",
    "|----------|----------------|\n",
    "| Created: | March 6, 2019 |\n",
    "| Last edited: | Oct 8, 2019 |\n",
    "\n",
    "**Requirements:**\n",
    "\n",
    "You need to run the following commands from the command line prior to launching jupyter notebooks from the same terminal so that the required libraries and paths are set:\n",
    "\n",
    "`module use /g/data/v10/public/modules/modulefiles` \n",
    "\n",
    "`module load dea`\n",
    "\n",
    "If you find an error or bug in this notebook, please either create an 'Issue' in the Github repository, or fix it yourself and create a 'Pull' request to contribute the updated notebook back into the repository (See the repository [README](https://github.com/GeoscienceAustralia/dea-notebooks/blob/master/README.rst) for instructions on creating a Pull request).\n",
    "\n",
    "__Background:__ Data from the [Landsat](https://landsat.usgs.gov/about-landsat) 5,7 and 8 satellite missions are accessible through [Digital Earth Australia](http://www.ga.gov.au/about/projects/geographic/digital-earth-australia) (DEA).\n",
    "\n",
    "__What does this notebook do?:__ This notebook takes a supplied CSV of site points. It runs a pixel drill through surface reflectance, calculates NDVI, Taselled cap wetness and greenness, and outputs a csv of values for each site and plots of each index for each site."
   ]
  },
  {
   "cell_type": "markdown",
   "metadata": {},
   "source": [
    "**Tags**: :index:`Landsat`,:index:`Landsat5`,:index:`Landsat7`,:index:`Landsat8`, :index:`pixeldrill`, :index:`DEAPlotting`, :index:`datacube.utils.geometry`, :index:`query`,:index:`Scripts`,:index:`tasseled_cap`, :index:`NDVI`,                                                                                                           :index:`DEADataHandling`, :index:`DEAPlotting`, :index:`load_clearlandsat`"
   ]
  },
  {
   "cell_type": "markdown",
   "metadata": {},
   "source": [
    "import some modules"
   ]
  },
  {
   "cell_type": "code",
   "execution_count": 5,
   "metadata": {},
   "outputs": [
    {
     "name": "stdout",
     "output_type": "stream",
     "text": [
      "The autoreload extension is already loaded. To reload it, use:\n",
      "  %reload_ext autoreload\n"
     ]
    }
   ],
   "source": [
    "import datacube\n",
    "import datetime\n",
    "import fiona\n",
    "import geopandas as gpd\n",
    "import numpy as np\n",
    "import pandas as pd\n",
    "import rasterio.mask\n",
    "import rasterio.features\n",
    "import shapely\n",
    "import seaborn as sns\n",
    "import sys\n",
    "import xarray as xr\n",
    "\n",
    "import matplotlib.dates as mdates\n",
    "import matplotlib.gridspec as gridspec\n",
    "import matplotlib.pyplot as plt\n",
    "\n",
    "from datacube.storage import masking\n",
    "from datacube.utils import geometry\n",
    "\n",
    "sys.path.append('../../10_Scripts')\n",
    "import DEADataHandling, DEAPlotting, TasseledCapTools, BandIndices\n",
    "\n",
    "dc = datacube.Datacube(app='pixel drill')\n",
    "\n",
    "%load_ext autoreload\n",
    "\n",
    "%autoreload 2\n",
    "\n",
    "#set up file to open "
   ]
  },
  {
   "cell_type": "code",
   "execution_count": 6,
   "metadata": {},
   "outputs": [],
   "source": [
    "inpath = '/g/data/r78/rjd547/Melbourne_water/50 more points to check.csv'\n",
    "### Convert csv latitude and longitude values into a geopandas geodatafrome\n",
    "\n",
    "sites = pd.read_csv(inpath, delimiter=\",\")\n",
    "#turn csv geometry into geopandas dataframe geometry using lambda functions and shapely"
   ]
  },
  {
   "cell_type": "code",
   "execution_count": 7,
   "metadata": {},
   "outputs": [],
   "source": [
    "sites['x']=sites['lat']\n",
    "sites['y']=sites['long']"
   ]
  },
  {
   "cell_type": "code",
   "execution_count": null,
   "metadata": {},
   "outputs": [
    {
     "name": "stdout",
     "output_type": "stream",
     "text": [
      "running for index 0\n",
      "/g/data/r78/rjd547/Melbourne_water/more_points/point_-38.27652174_145.57951719999997.csv\n",
      "Loading ls5\n",
      "    Loading 208 filtered ls5 timesteps\n",
      "Loading ls7\n",
      "    Loading 257 filtered ls7 timesteps\n",
      "Loading ls8\n",
      "    Loading 143 filtered ls8 timesteps\n",
      "Combining and sorting ls5, ls7, ls8 data\n",
      "    Replacing invalid -999 values with NaN (data will be coerced to float64)\n",
      "/g/data/r78/rjd547/Melbourne_water/more_points/point_-38.11110516_145.8223497.csv\n",
      "/g/data/r78/rjd547/Melbourne_water/more_points/point_-38.13884572_145.8292751.csv\n",
      "/g/data/r78/rjd547/Melbourne_water/more_points/point_-38.14588293_145.6080329.csv\n",
      "/g/data/r78/rjd547/Melbourne_water/more_points/point_-38.14700344_145.6840971.csv\n",
      "/g/data/r78/rjd547/Melbourne_water/more_points/point_-38.15054097_145.3881909.csv\n",
      "/g/data/r78/rjd547/Melbourne_water/more_points/point_-38.15116122_145.5127214.csv\n",
      "/g/data/r78/rjd547/Melbourne_water/more_points/point_-38.1700706_145.1863836.csv\n",
      "/g/data/r78/rjd547/Melbourne_water/more_points/point_-38.17234477_145.8373545.csv\n",
      "/g/data/r78/rjd547/Melbourne_water/more_points/point_-38.17360247_145.4570192.csv\n",
      "/g/data/r78/rjd547/Melbourne_water/more_points/point_-38.17406318_145.2834555.csv\n",
      "/g/data/r78/rjd547/Melbourne_water/more_points/point_-38.18253021_145.6440044.csv\n",
      "/g/data/r78/rjd547/Melbourne_water/more_points/point_-38.1830359_145.5355394.csv\n",
      "/g/data/r78/rjd547/Melbourne_water/more_points/point_-38.18448048_145.7840188.csv\n",
      "/g/data/r78/rjd547/Melbourne_water/more_points/point_-38.19479008_145.8386979.csv\n",
      "/g/data/r78/rjd547/Melbourne_water/more_points/point_-38.195212_145.61217140000002.csv\n",
      "/g/data/r78/rjd547/Melbourne_water/more_points/point_-38.19648231_145.69898700000002.csv\n",
      "/g/data/r78/rjd547/Melbourne_water/more_points/point_-38.20788394_145.8785999.csv\n",
      "/g/data/r78/rjd547/Melbourne_water/more_points/point_-38.20946405_145.2419176.csv\n",
      "/g/data/r78/rjd547/Melbourne_water/more_points/point_-38.21071714_145.4945361.csv\n",
      "/g/data/r78/rjd547/Melbourne_water/more_points/point_-38.2187969_145.660521.csv\n",
      "/g/data/r78/rjd547/Melbourne_water/more_points/point_-38.21944727_145.132406.csv\n",
      "/g/data/r78/rjd547/Melbourne_water/more_points/point_-38.23382613_145.748836.csv\n",
      "/g/data/r78/rjd547/Melbourne_water/more_points/point_-38.23686009_145.6933652.csv\n",
      "/g/data/r78/rjd547/Melbourne_water/more_points/point_-38.25392206_145.5497321.csv\n",
      "/g/data/r78/rjd547/Melbourne_water/more_points/point_-38.25906997_145.61494240000002.csv\n",
      "/g/data/r78/rjd547/Melbourne_water/more_points/point_-38.25919823_145.8063394.csv\n",
      "/g/data/r78/rjd547/Melbourne_water/more_points/point_-38.27652174_145.57951719999997.csv\n",
      "/g/data/r78/rjd547/Melbourne_water/more_points/point_-38.28160974_145.6629597.csv\n",
      "/g/data/r78/rjd547/Melbourne_water/more_points/point_-38.2982886_145.1040948.csv\n",
      "/g/data/r78/rjd547/Melbourne_water/more_points/point_-38.30515312_145.8529912.csv\n",
      "/g/data/r78/rjd547/Melbourne_water/more_points/point_-38.30598678_145.7969097.csv\n",
      "/g/data/r78/rjd547/Melbourne_water/more_points/point_-38.30922385_145.74116569999998.csv\n",
      "/g/data/r78/rjd547/Melbourne_water/more_points/point_-38.32792122_145.610475.csv\n",
      "/g/data/r78/rjd547/Melbourne_water/more_points/point_-38.34054578_145.6921231.csv\n",
      "/g/data/r78/rjd547/Melbourne_water/more_points/point_-38.34751087_145.8363583.csv\n",
      "/g/data/r78/rjd547/Melbourne_water/more_points/point_-38.35153428_145.1474924.csv\n",
      "/g/data/r78/rjd547/Melbourne_water/more_points/point_-38.35634612_145.0946629.csv\n",
      "/g/data/r78/rjd547/Melbourne_water/more_points/point_-38.35975133_145.7277006.csv\n",
      "/g/data/r78/rjd547/Melbourne_water/more_points/point_-38.36758984_145.03513619999998.csv\n",
      "/g/data/r78/rjd547/Melbourne_water/more_points/point_-38.37741485_145.7611803.csv\n",
      "/g/data/r78/rjd547/Melbourne_water/more_points/point_-38.38332305_145.58086540000002.csv\n",
      "/g/data/r78/rjd547/Melbourne_water/more_points/point_-38.40982037_145.657079.csv\n",
      "/g/data/r78/rjd547/Melbourne_water/more_points/point_-38.42557676_144.9450501.csv\n",
      "/g/data/r78/rjd547/Melbourne_water/more_points/point_-38.43809832_145.5702399.csv\n",
      "/g/data/r78/rjd547/Melbourne_water/more_points/point_-38.44687371_145.47893340000002.csv\n",
      "/g/data/r78/rjd547/Melbourne_water/more_points/point_-38.45258233_145.5829244.csv\n",
      "/g/data/r78/rjd547/Melbourne_water/more_points/point_-38.48122208_145.2606465.csv\n",
      "/g/data/r78/rjd547/Melbourne_water/more_points/point_-38.48789244_145.481945.csv\n",
      "/g/data/r78/rjd547/Melbourne_water/more_points/point_-38.48801142_145.18405149999998.csv\n",
      "/g/data/r78/rjd547/Melbourne_water/more_points/point_-38.49248461_145.17960060000001.csv\n",
      "running for index 1\n",
      "/g/data/r78/rjd547/Melbourne_water/more_points/point_-38.23382613_145.748836.csv\n",
      "Loading ls5\n",
      "    Loading 322 filtered ls5 timesteps\n",
      "Loading ls7\n",
      "    Loading 330 filtered ls7 timesteps\n"
     ]
    }
   ],
   "source": [
    "sites['geometry']=sites.apply(lambda z: shapely.geometry.Point(z.x, z.y), axis=1)\n",
    "sites = gpd.GeoDataFrame(sites)\n",
    "sites.head()\n",
    "\n",
    "#define an output location\n",
    "output_loc = '/g/data/r78/rjd547/Melbourne_water/more_points/point_'\n",
    "\n",
    "### run this for multiple sites\n",
    "\n",
    "for site in range(0,len(sites)):    \n",
    "    print(f'running for index {site}')\n",
    "    lon = sites['x'][site]\n",
    "    lat = sites['y'][site]\n",
    "    query = {'lat':lat, \n",
    "          'lon':lon}               \n",
    "    #print(query)\n",
    "    outfilename=f'{output_loc}{lat}_{lon}.csv'\n",
    "    print (outfilename)\n",
    "\n",
    "    try:\n",
    "        ls578 = DEADataHandling.load_clearlandsat(dc=dc, query=query, product='nbart', ls7_slc_off=True)\n",
    "    except:\n",
    "        print ('nah')\n",
    "        ### Calculate NDVI \n",
    "\n",
    "    ### Calculate the tasseled cap indices\n",
    "    tci = TasseledCapTools.thresholded_tasseled_cap(ls578,wetness_threshold=-350, drop=True , drop_tc_bands=False)\n",
    "    \n",
    "    #drop thresholded bands; our stakeholder wants these unthresholded\n",
    "    tci = tci.drop(['greenness_thresholded','brightness_thresholded','wetness_thresholded'])\n",
    "\n",
    "    #drop the 1-dimensional x and ys\n",
    "    tci =tci.squeeze()\n",
    "\n",
    "    #make a dataframe for writing to csv\n",
    "    tci_df = tci.to_dataframe()\n",
    "    tci_df = tci_df.drop(columns=['y','x'])\n",
    "    #drop all nan-slices\n",
    "    tci_df = tci_df.dropna(axis='index', thresh =2)\n",
    "\n",
    "    #write our csv\n",
    "    tci_df.to_csv(outfilename)\n",
    "\n",
    "    !ls /g/data/r78/rjd547/Melbourne_water/more_points/*.csv     "
   ]
  },
  {
   "cell_type": "code",
   "execution_count": null,
   "metadata": {},
   "outputs": [],
   "source": []
  }
 ],
 "metadata": {
  "kernelspec": {
   "display_name": "Python 3",
   "language": "python",
   "name": "python3"
  },
  "language_info": {
   "codemirror_mode": {
    "name": "ipython",
    "version": 3
   },
   "file_extension": ".py",
   "mimetype": "text/x-python",
   "name": "python",
   "nbconvert_exporter": "python",
   "pygments_lexer": "ipython3",
   "version": "3.6.7"
  }
 },
 "nbformat": 4,
 "nbformat_minor": 4
}
