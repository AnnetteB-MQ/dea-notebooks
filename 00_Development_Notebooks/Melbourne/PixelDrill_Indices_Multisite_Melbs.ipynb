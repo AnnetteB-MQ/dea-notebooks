{
 "cells": [
  {
   "cell_type": "markdown",
   "metadata": {},
   "source": [
    "# Pixel Drill for Indices outputs to CSV - Multi-site"
   ]
  },
  {
   "cell_type": "markdown",
   "metadata": {},
   "source": [
    "| Authors:  | Bex Dunn|\n",
    "|----------|----------------|\n",
    "| Created: | March 6, 2019 |\n",
    "| Last edited: | Oct 8, 2019 |\n",
    "\n",
    "**Requirements:**\n",
    "\n",
    "You need to run the following commands from the command line prior to launching jupyter notebooks from the same terminal so that the required libraries and paths are set:\n",
    "\n",
    "`module use /g/data/v10/public/modules/modulefiles` \n",
    "\n",
    "`module load dea`\n",
    "\n",
    "If you find an error or bug in this notebook, please either create an 'Issue' in the Github repository, or fix it yourself and create a 'Pull' request to contribute the updated notebook back into the repository (See the repository [README](https://github.com/GeoscienceAustralia/dea-notebooks/blob/master/README.rst) for instructions on creating a Pull request).\n",
    "\n",
    "__Background:__ Data from the [Landsat](https://landsat.usgs.gov/about-landsat) 5,7 and 8 satellite missions are accessible through [Digital Earth Australia](http://www.ga.gov.au/about/projects/geographic/digital-earth-australia) (DEA).\n",
    "\n",
    "__What does this notebook do?:__ This notebook takes a supplied CSV of site points. It runs a pixel drill through surface reflectance, calculates NDVI, Taselled cap wetness and greenness, and outputs a csv of values for each site and plots of each index for each site."
   ]
  },
  {
   "cell_type": "markdown",
   "metadata": {},
   "source": [
    "**Tags**: :index:`Landsat`,:index:`Landsat5`,:index:`Landsat7`,:index:`Landsat8`, :index:`pixeldrill`, :index:`DEAPlotting`, :index:`datacube.utils.geometry`, :index:`query`,:index:`Scripts`,:index:`tasseled_cap`, :index:`NDVI`,                                                                                                           :index:`DEADataHandling`, :index:`DEAPlotting`, :index:`load_clearlandsat`"
   ]
  },
  {
   "cell_type": "markdown",
   "metadata": {},
   "source": [
    "import some modules"
   ]
  },
  {
   "cell_type": "code",
   "execution_count": 5,
   "metadata": {},
   "outputs": [
    {
     "name": "stdout",
     "output_type": "stream",
     "text": [
      "The autoreload extension is already loaded. To reload it, use:\n",
      "  %reload_ext autoreload\n"
     ]
    }
   ],
   "source": [
    "import datacube\n",
    "import datetime\n",
    "import fiona\n",
    "import geopandas as gpd\n",
    "import numpy as np\n",
    "import pandas as pd\n",
    "import rasterio.mask\n",
    "import rasterio.features\n",
    "import shapely\n",
    "import seaborn as sns\n",
    "import sys\n",
    "import xarray as xr\n",
    "\n",
    "import matplotlib.dates as mdates\n",
    "import matplotlib.gridspec as gridspec\n",
    "import matplotlib.pyplot as plt\n",
    "\n",
    "from datacube.storage import masking\n",
    "from datacube.utils import geometry\n",
    "\n",
    "sys.path.append('../../10_Scripts')\n",
    "import DEADataHandling, DEAPlotting, TasseledCapTools, BandIndices\n",
    "\n",
    "dc = datacube.Datacube(app='pixel drill')\n",
    "\n",
    "%load_ext autoreload\n",
    "\n",
    "%autoreload 2\n",
    "\n",
    "#set up file to open "
   ]
  },
  {
   "cell_type": "code",
   "execution_count": 6,
   "metadata": {},
   "outputs": [],
   "source": [
    "inpath = '/g/data/r78/rjd547/Melbourne_water/50 more points to check.csv'\n",
    "### Convert csv latitude and longitude values into a geopandas geodatafrome\n",
    "\n",
    "sites = pd.read_csv(inpath, delimiter=\",\")\n",
    "#turn csv geometry into geopandas dataframe geometry using lambda functions and shapely"
   ]
  },
  {
   "cell_type": "code",
   "execution_count": 7,
   "metadata": {},
   "outputs": [],
   "source": [
    "sites['x']=sites['lat']\n",
    "sites['y']=sites['long']"
   ]
  },
  {
   "cell_type": "code",
   "execution_count": 8,
   "metadata": {},
   "outputs": [
    {
     "name": "stdout",
     "output_type": "stream",
     "text": [
      "running for index 0\n",
      "/g/data/r78/rjd547/Melbourne_water/points/point_-38.27652174_145.57951719999997.csv\n",
      "Loading ls5\n",
      "    Loading 208 filtered ls5 timesteps\n",
      "Loading ls7\n",
      "    Loading 257 filtered ls7 timesteps\n",
      "Loading ls8\n",
      "    Loading 143 filtered ls8 timesteps\n",
      "Combining and sorting ls5, ls7, ls8 data\n",
      "    Replacing invalid -999 values with NaN (data will be coerced to float64)\n"
     ]
    }
   ],
   "source": [
    "sites['geometry']=sites.apply(lambda z: shapely.geometry.Point(z.x, z.y), axis=1)\n",
    "sites = gpd.GeoDataFrame(sites)\n",
    "sites.head()\n",
    "\n",
    "#define an output location\n",
    "output_loc = '/g/data/r78/rjd547/Melbourne_water/points/point_'\n",
    "\n",
    "### run this for multiple sites\n",
    "\n",
    "for site in range(0,1):#(len(sites)),1):    \n",
    "    print(f'running for index {site}')\n",
    "    lon = sites['x'][site]\n",
    "    lat = sites['y'][site]\n",
    "    query = {'lat':lat, \n",
    "          'lon':lon}               \n",
    "    #print(query)\n",
    "    outfilename=f'{output_loc}{lat}_{lon}.csv'\n",
    "    print (outfilename)\n",
    "\n",
    "    try:\n",
    "        ls578 = DEADataHandling.load_clearlandsat(dc=dc, query=query, product='nbart', ls7_slc_off=True)\n",
    "    except:\n",
    "        print ('nah')\n",
    "        ### Calculate NDVI "
   ]
  },
  {
   "cell_type": "code",
   "execution_count": 9,
   "metadata": {},
   "outputs": [],
   "source": [
    "    ### Calculate the tasseled cap indices\n",
    "    tci = TasseledCapTools.thresholded_tasseled_cap(ls578,wetness_threshold=-350, drop=True , drop_tc_bands=False)\n",
    "    "
   ]
  },
  {
   "cell_type": "code",
   "execution_count": 10,
   "metadata": {},
   "outputs": [
    {
     "data": {
      "text/plain": [
       "<xarray.Dataset>\n",
       "Dimensions:                 (time: 608, x: 1, y: 1)\n",
       "Coordinates:\n",
       "  * y                       (y) float64 -4.249e+06\n",
       "  * x                       (x) float64 1.195e+06\n",
       "  * time                    (time) datetime64[ns] 1987-05-27T23:27:59.500000 ... 2019-09-09T00:03:41\n",
       "Data variables:\n",
       "    greenness               (time, y, x) float64 nan 501.9 153.1 ... 935.1 nan\n",
       "    greenness_thresholded   (time, y, x) float64 nan nan nan ... nan 935.1 nan\n",
       "    brightness              (time, y, x) float64 nan 3.352e+03 ... 3.874e+03 nan\n",
       "    brightness_thresholded  (time, y, x) float64 nan nan nan nan ... nan nan nan\n",
       "    wetness                 (time, y, x) float64 nan -871.7 ... -1.629e+03 nan\n",
       "    wetness_thresholded     (time, y, x) float64 nan nan 160.4 ... nan nan nan\n",
       "Attributes:\n",
       "    crs:      EPSG:3577"
      ]
     },
     "execution_count": 10,
     "metadata": {},
     "output_type": "execute_result"
    }
   ],
   "source": [
    "tci"
   ]
  },
  {
   "cell_type": "code",
   "execution_count": 14,
   "metadata": {},
   "outputs": [],
   "source": [
    "tci = tci.drop(['greenness_thresholded','brightness_thresholded','wetness_thresholded'])"
   ]
  },
  {
   "cell_type": "code",
   "execution_count": 27,
   "metadata": {},
   "outputs": [],
   "source": [
    "#drop the 1-dimensional x and ys\n",
    "tci =tci.squeeze()"
   ]
  },
  {
   "cell_type": "code",
   "execution_count": 45,
   "metadata": {},
   "outputs": [],
   "source": []
  },
  {
   "cell_type": "code",
   "execution_count": 56,
   "metadata": {},
   "outputs": [
    {
     "data": {
      "text/html": [
       "<div>\n",
       "<style scoped>\n",
       "    .dataframe tbody tr th:only-of-type {\n",
       "        vertical-align: middle;\n",
       "    }\n",
       "\n",
       "    .dataframe tbody tr th {\n",
       "        vertical-align: top;\n",
       "    }\n",
       "\n",
       "    .dataframe thead th {\n",
       "        text-align: right;\n",
       "    }\n",
       "</style>\n",
       "<table border=\"1\" class=\"dataframe\">\n",
       "  <thead>\n",
       "    <tr style=\"text-align: right;\">\n",
       "      <th></th>\n",
       "      <th>greenness</th>\n",
       "      <th>brightness</th>\n",
       "      <th>wetness</th>\n",
       "    </tr>\n",
       "    <tr>\n",
       "      <th>time</th>\n",
       "      <th></th>\n",
       "      <th></th>\n",
       "      <th></th>\n",
       "    </tr>\n",
       "  </thead>\n",
       "  <tbody>\n",
       "    <tr>\n",
       "      <td>1987-07-30 23:29:25.500</td>\n",
       "      <td>501.8768</td>\n",
       "      <td>3352.1549</td>\n",
       "      <td>-871.6782</td>\n",
       "    </tr>\n",
       "    <tr>\n",
       "      <td>1987-08-31 23:30:20.500</td>\n",
       "      <td>153.1092</td>\n",
       "      <td>680.1554</td>\n",
       "      <td>160.3808</td>\n",
       "    </tr>\n",
       "    <tr>\n",
       "      <td>1987-10-18 23:31:22.500</td>\n",
       "      <td>1520.0638</td>\n",
       "      <td>3474.7177</td>\n",
       "      <td>-917.0949</td>\n",
       "    </tr>\n",
       "    <tr>\n",
       "      <td>1987-12-21 23:32:29.500</td>\n",
       "      <td>857.6801</td>\n",
       "      <td>2801.1277</td>\n",
       "      <td>-741.1382</td>\n",
       "    </tr>\n",
       "    <tr>\n",
       "      <td>1988-03-26 23:33:51.500</td>\n",
       "      <td>1254.6336</td>\n",
       "      <td>3421.4741</td>\n",
       "      <td>-1033.1302</td>\n",
       "    </tr>\n",
       "    <tr>\n",
       "      <td>...</td>\n",
       "      <td>...</td>\n",
       "      <td>...</td>\n",
       "      <td>...</td>\n",
       "    </tr>\n",
       "    <tr>\n",
       "      <td>2019-03-08 23:57:00.000</td>\n",
       "      <td>1072.9993</td>\n",
       "      <td>5164.4219</td>\n",
       "      <td>-1935.2524</td>\n",
       "    </tr>\n",
       "    <tr>\n",
       "      <td>2019-03-17 00:03:02.000</td>\n",
       "      <td>1392.5752</td>\n",
       "      <td>4901.8552</td>\n",
       "      <td>-1692.4041</td>\n",
       "    </tr>\n",
       "    <tr>\n",
       "      <td>2019-04-02 00:02:59.000</td>\n",
       "      <td>1522.3535</td>\n",
       "      <td>4123.4779</td>\n",
       "      <td>-1334.7667</td>\n",
       "    </tr>\n",
       "    <tr>\n",
       "      <td>2019-06-21 00:03:18.500</td>\n",
       "      <td>1376.6666</td>\n",
       "      <td>3222.1653</td>\n",
       "      <td>-725.4150</td>\n",
       "    </tr>\n",
       "    <tr>\n",
       "      <td>2019-08-24 00:03:37.000</td>\n",
       "      <td>935.1258</td>\n",
       "      <td>3873.6255</td>\n",
       "      <td>-1628.8586</td>\n",
       "    </tr>\n",
       "  </tbody>\n",
       "</table>\n",
       "<p>301 rows × 3 columns</p>\n",
       "</div>"
      ],
      "text/plain": [
       "                         greenness  brightness    wetness\n",
       "time                                                     \n",
       "1987-07-30 23:29:25.500   501.8768   3352.1549  -871.6782\n",
       "1987-08-31 23:30:20.500   153.1092    680.1554   160.3808\n",
       "1987-10-18 23:31:22.500  1520.0638   3474.7177  -917.0949\n",
       "1987-12-21 23:32:29.500   857.6801   2801.1277  -741.1382\n",
       "1988-03-26 23:33:51.500  1254.6336   3421.4741 -1033.1302\n",
       "...                            ...         ...        ...\n",
       "2019-03-08 23:57:00.000  1072.9993   5164.4219 -1935.2524\n",
       "2019-03-17 00:03:02.000  1392.5752   4901.8552 -1692.4041\n",
       "2019-04-02 00:02:59.000  1522.3535   4123.4779 -1334.7667\n",
       "2019-06-21 00:03:18.500  1376.6666   3222.1653  -725.4150\n",
       "2019-08-24 00:03:37.000   935.1258   3873.6255 -1628.8586\n",
       "\n",
       "[301 rows x 3 columns]"
      ]
     },
     "execution_count": 56,
     "metadata": {},
     "output_type": "execute_result"
    }
   ],
   "source": [
    "#make a dataframe for writing to csv\n",
    "tci_df = tci.to_dataframe()\n",
    "tci_df = tci_df.drop(columns=['y','x'])\n",
    "#drop all nan-slices\n",
    "tci_df.dropna(axis='index', thresh =2)"
   ]
  },
  {
   "cell_type": "code",
   "execution_count": 57,
   "metadata": {},
   "outputs": [
    {
     "data": {
      "text/html": [
       "<div>\n",
       "<style scoped>\n",
       "    .dataframe tbody tr th:only-of-type {\n",
       "        vertical-align: middle;\n",
       "    }\n",
       "\n",
       "    .dataframe tbody tr th {\n",
       "        vertical-align: top;\n",
       "    }\n",
       "\n",
       "    .dataframe thead th {\n",
       "        text-align: right;\n",
       "    }\n",
       "</style>\n",
       "<table border=\"1\" class=\"dataframe\">\n",
       "  <thead>\n",
       "    <tr style=\"text-align: right;\">\n",
       "      <th></th>\n",
       "      <th>greenness</th>\n",
       "      <th>brightness</th>\n",
       "      <th>wetness</th>\n",
       "    </tr>\n",
       "    <tr>\n",
       "      <th>time</th>\n",
       "      <th></th>\n",
       "      <th></th>\n",
       "      <th></th>\n",
       "    </tr>\n",
       "  </thead>\n",
       "  <tbody>\n",
       "    <tr>\n",
       "      <td>1987-05-27 23:27:59.500</td>\n",
       "      <td>NaN</td>\n",
       "      <td>NaN</td>\n",
       "      <td>NaN</td>\n",
       "    </tr>\n",
       "    <tr>\n",
       "      <td>1987-07-30 23:29:25.500</td>\n",
       "      <td>501.8768</td>\n",
       "      <td>3352.1549</td>\n",
       "      <td>-871.6782</td>\n",
       "    </tr>\n",
       "    <tr>\n",
       "      <td>1987-08-31 23:30:20.500</td>\n",
       "      <td>153.1092</td>\n",
       "      <td>680.1554</td>\n",
       "      <td>160.3808</td>\n",
       "    </tr>\n",
       "    <tr>\n",
       "      <td>1987-09-16 23:30:44.500</td>\n",
       "      <td>NaN</td>\n",
       "      <td>NaN</td>\n",
       "      <td>NaN</td>\n",
       "    </tr>\n",
       "    <tr>\n",
       "      <td>1987-10-02 23:31:05.500</td>\n",
       "      <td>NaN</td>\n",
       "      <td>NaN</td>\n",
       "      <td>NaN</td>\n",
       "    </tr>\n",
       "    <tr>\n",
       "      <td>...</td>\n",
       "      <td>...</td>\n",
       "      <td>...</td>\n",
       "      <td>...</td>\n",
       "    </tr>\n",
       "    <tr>\n",
       "      <td>2019-07-07 00:03:22.500</td>\n",
       "      <td>NaN</td>\n",
       "      <td>NaN</td>\n",
       "      <td>NaN</td>\n",
       "    </tr>\n",
       "    <tr>\n",
       "      <td>2019-07-23 00:03:26.000</td>\n",
       "      <td>NaN</td>\n",
       "      <td>NaN</td>\n",
       "      <td>NaN</td>\n",
       "    </tr>\n",
       "    <tr>\n",
       "      <td>2019-08-08 00:03:33.000</td>\n",
       "      <td>NaN</td>\n",
       "      <td>NaN</td>\n",
       "      <td>NaN</td>\n",
       "    </tr>\n",
       "    <tr>\n",
       "      <td>2019-08-24 00:03:37.000</td>\n",
       "      <td>935.1258</td>\n",
       "      <td>3873.6255</td>\n",
       "      <td>-1628.8586</td>\n",
       "    </tr>\n",
       "    <tr>\n",
       "      <td>2019-09-09 00:03:41.000</td>\n",
       "      <td>NaN</td>\n",
       "      <td>NaN</td>\n",
       "      <td>NaN</td>\n",
       "    </tr>\n",
       "  </tbody>\n",
       "</table>\n",
       "<p>608 rows × 3 columns</p>\n",
       "</div>"
      ],
      "text/plain": [
       "                         greenness  brightness    wetness\n",
       "time                                                     \n",
       "1987-05-27 23:27:59.500        NaN         NaN        NaN\n",
       "1987-07-30 23:29:25.500   501.8768   3352.1549  -871.6782\n",
       "1987-08-31 23:30:20.500   153.1092    680.1554   160.3808\n",
       "1987-09-16 23:30:44.500        NaN         NaN        NaN\n",
       "1987-10-02 23:31:05.500        NaN         NaN        NaN\n",
       "...                            ...         ...        ...\n",
       "2019-07-07 00:03:22.500        NaN         NaN        NaN\n",
       "2019-07-23 00:03:26.000        NaN         NaN        NaN\n",
       "2019-08-08 00:03:33.000        NaN         NaN        NaN\n",
       "2019-08-24 00:03:37.000   935.1258   3873.6255 -1628.8586\n",
       "2019-09-09 00:03:41.000        NaN         NaN        NaN\n",
       "\n",
       "[608 rows x 3 columns]"
      ]
     },
     "execution_count": 57,
     "metadata": {},
     "output_type": "execute_result"
    }
   ],
   "source": [
    "tci_df"
   ]
  },
  {
   "cell_type": "code",
   "execution_count": 38,
   "metadata": {},
   "outputs": [
    {
     "name": "stdout",
     "output_type": "stream",
     "text": [
      "point_-38.27652174_145.57951719999997.csv\n",
      "time,x,y,greenness,brightness,wetness\n",
      "1987-07-30 23:29:25.500,1195362.5,-4248512.5,501.8768000000001,3352.1549,-871.6782\n",
      "1987-08-31 23:30:20.500,1195362.5,-4248512.5,153.10920000000002,680.1554,160.38079999999994\n",
      "1987-10-18 23:31:22.500,1195362.5,-4248512.5,1520.0638,3474.7177,-917.0949\n",
      "1987-12-21 23:32:29.500,1195362.5,-4248512.5,857.6801000000003,2801.1277,-741.1382\n",
      "1988-03-26 23:33:51.500,1195362.5,-4248512.5,1254.6336,3421.4741,-1033.1302\n",
      "1988-04-11 23:33:56.500,1195362.5,-4248512.5,1393.0037000000002,3059.3094000000006,-962.186\n",
      "1988-05-29 23:34:20.000,1195362.5,-4248512.5,1028.4586,2470.2125000000005,-1044.9011\n",
      "1988-06-14 23:34:25.500,1195362.5,-4248512.5,1113.3312,2586.3375000000005,-1071.2801\n",
      "1988-07-16 23:34:32.500,1195362.5,-4248512.5,1045.3794,3243.4834,-1056.9989\n"
     ]
    }
   ],
   "source": [
    "!ls /g/data/r78/rjd547/Melbourne_water/more_points/\n",
    "!head /g/data/r78/rjd547/Melbourne_water/more_points/point_-38.27652174_145.57951719999997.csv"
   ]
  },
  {
   "cell_type": "code",
   "execution_count": 30,
   "metadata": {},
   "outputs": [],
   "source": []
  },
  {
   "cell_type": "code",
   "execution_count": 19,
   "metadata": {},
   "outputs": [
    {
     "name": "stdout",
     "output_type": "stream",
     "text": [
      "running for index 0\n",
      "/g/data/r78/rjd547/Melbourne_water/points/point_-38.27652174_145.57951719999997.csv\n",
      "Loading ls5\n",
      "    Loading 208 filtered ls5 timesteps\n",
      "Loading ls7\n",
      "    Loading 257 filtered ls7 timesteps\n",
      "Loading ls8\n",
      "    Loading 142 filtered ls8 timesteps\n",
      "Combining and sorting ls5, ls7, ls8 data\n",
      "    Replacing invalid -999 values with NaN (data will be coerced to float64)\n"
     ]
    },
    {
     "ename": "ValueError",
     "evalue": "The truth value of an array with more than one element is ambiguous. Use a.any() or a.all()",
     "output_type": "error",
     "traceback": [
      "\u001b[0;31m---------------------------------------------------------------------------\u001b[0m",
      "\u001b[0;31mValueError\u001b[0m                                Traceback (most recent call last)",
      "\u001b[0;32m<ipython-input-19-690d9182493d>\u001b[0m in \u001b[0;36m<module>\u001b[0;34m\u001b[0m\n\u001b[1;32m     37\u001b[0m     \u001b[0mtcb\u001b[0m \u001b[0;34m=\u001b[0m \u001b[0mtcb\u001b[0m\u001b[0;34m.\u001b[0m\u001b[0msqueeze\u001b[0m\u001b[0;34m(\u001b[0m\u001b[0;34m[\u001b[0m\u001b[0;34m'x'\u001b[0m\u001b[0;34m,\u001b[0m\u001b[0;34m'y'\u001b[0m\u001b[0;34m]\u001b[0m\u001b[0;34m)\u001b[0m\u001b[0;34m\u001b[0m\u001b[0;34m\u001b[0m\u001b[0m\n\u001b[1;32m     38\u001b[0m \u001b[0;34m\u001b[0m\u001b[0m\n\u001b[0;32m---> 39\u001b[0;31m     \u001b[0mtcis\u001b[0m \u001b[0;34m=\u001b[0m \u001b[0mxr\u001b[0m\u001b[0;34m.\u001b[0m\u001b[0mconcat\u001b[0m\u001b[0;34m(\u001b[0m\u001b[0mtcw\u001b[0m\u001b[0;34m,\u001b[0m\u001b[0mtcg\u001b[0m\u001b[0;34m,\u001b[0m\u001b[0mtcb\u001b[0m\u001b[0;34m)\u001b[0m\u001b[0;34m\u001b[0m\u001b[0;34m\u001b[0m\u001b[0m\n\u001b[0m\u001b[1;32m     40\u001b[0m \u001b[0;34m\u001b[0m\u001b[0m\n\u001b[1;32m     41\u001b[0m     \u001b[0;31m#     #make a new dataframe using the data from the xarray of ndvi\u001b[0m\u001b[0;34m\u001b[0m\u001b[0;34m\u001b[0m\u001b[0;34m\u001b[0m\u001b[0m\n",
      "\u001b[0;32m/g/data/v10/public/modules/dea-env/20190709/lib/python3.6/site-packages/xarray/core/concat.py\u001b[0m in \u001b[0;36mconcat\u001b[0;34m(objs, dim, data_vars, coords, compat, positions, indexers, mode, concat_over, fill_value)\u001b[0m\n\u001b[1;32m    117\u001b[0m         raise TypeError('can only concatenate xarray Dataset and DataArray '\n\u001b[1;32m    118\u001b[0m                         'objects, got %s' % type(first_obj))\n\u001b[0;32m--> 119\u001b[0;31m     \u001b[0;32mreturn\u001b[0m \u001b[0mf\u001b[0m\u001b[0;34m(\u001b[0m\u001b[0mobjs\u001b[0m\u001b[0;34m,\u001b[0m \u001b[0mdim\u001b[0m\u001b[0;34m,\u001b[0m \u001b[0mdata_vars\u001b[0m\u001b[0;34m,\u001b[0m \u001b[0mcoords\u001b[0m\u001b[0;34m,\u001b[0m \u001b[0mcompat\u001b[0m\u001b[0;34m,\u001b[0m \u001b[0mpositions\u001b[0m\u001b[0;34m,\u001b[0m \u001b[0mfill_value\u001b[0m\u001b[0;34m)\u001b[0m\u001b[0;34m\u001b[0m\u001b[0;34m\u001b[0m\u001b[0m\n\u001b[0m\u001b[1;32m    120\u001b[0m \u001b[0;34m\u001b[0m\u001b[0m\n\u001b[1;32m    121\u001b[0m \u001b[0;34m\u001b[0m\u001b[0m\n",
      "\u001b[0;32m/g/data/v10/public/modules/dea-env/20190709/lib/python3.6/site-packages/xarray/core/concat.py\u001b[0m in \u001b[0;36m_dataarray_concat\u001b[0;34m(arrays, dim, data_vars, coords, compat, positions, fill_value)\u001b[0m\n\u001b[1;32m    322\u001b[0m     \u001b[0marrays\u001b[0m \u001b[0;34m=\u001b[0m \u001b[0mlist\u001b[0m\u001b[0;34m(\u001b[0m\u001b[0marrays\u001b[0m\u001b[0;34m)\u001b[0m\u001b[0;34m\u001b[0m\u001b[0;34m\u001b[0m\u001b[0m\n\u001b[1;32m    323\u001b[0m \u001b[0;34m\u001b[0m\u001b[0m\n\u001b[0;32m--> 324\u001b[0;31m     \u001b[0;32mif\u001b[0m \u001b[0mdata_vars\u001b[0m \u001b[0;34m!=\u001b[0m \u001b[0;34m'all'\u001b[0m\u001b[0;34m:\u001b[0m\u001b[0;34m\u001b[0m\u001b[0;34m\u001b[0m\u001b[0m\n\u001b[0m\u001b[1;32m    325\u001b[0m         raise ValueError('data_vars is not a valid argument when '\n\u001b[1;32m    326\u001b[0m                          'concatenating DataArray objects')\n",
      "\u001b[0;32m/g/data/v10/public/modules/dea-env/20190709/lib/python3.6/site-packages/xarray/core/common.py\u001b[0m in \u001b[0;36m__bool__\u001b[0;34m(self)\u001b[0m\n\u001b[1;32m     91\u001b[0m \u001b[0;34m\u001b[0m\u001b[0m\n\u001b[1;32m     92\u001b[0m     \u001b[0;32mdef\u001b[0m \u001b[0m__bool__\u001b[0m\u001b[0;34m(\u001b[0m\u001b[0mself\u001b[0m\u001b[0;34m:\u001b[0m \u001b[0mAny\u001b[0m\u001b[0;34m)\u001b[0m \u001b[0;34m->\u001b[0m \u001b[0mbool\u001b[0m\u001b[0;34m:\u001b[0m\u001b[0;34m\u001b[0m\u001b[0;34m\u001b[0m\u001b[0m\n\u001b[0;32m---> 93\u001b[0;31m         \u001b[0;32mreturn\u001b[0m \u001b[0mbool\u001b[0m\u001b[0;34m(\u001b[0m\u001b[0mself\u001b[0m\u001b[0;34m.\u001b[0m\u001b[0mvalues\u001b[0m\u001b[0;34m)\u001b[0m\u001b[0;34m\u001b[0m\u001b[0;34m\u001b[0m\u001b[0m\n\u001b[0m\u001b[1;32m     94\u001b[0m \u001b[0;34m\u001b[0m\u001b[0m\n\u001b[1;32m     95\u001b[0m     \u001b[0;32mdef\u001b[0m \u001b[0m__float__\u001b[0m\u001b[0;34m(\u001b[0m\u001b[0mself\u001b[0m\u001b[0;34m:\u001b[0m \u001b[0mAny\u001b[0m\u001b[0;34m)\u001b[0m \u001b[0;34m->\u001b[0m \u001b[0mfloat\u001b[0m\u001b[0;34m:\u001b[0m\u001b[0;34m\u001b[0m\u001b[0;34m\u001b[0m\u001b[0m\n",
      "\u001b[0;31mValueError\u001b[0m: The truth value of an array with more than one element is ambiguous. Use a.any() or a.all()"
     ]
    }
   ],
   "source": [
    "    !ls /g/data/r78/rjd547/Melbourne_water/points/*.csv     "
   ]
  }
 ],
 "metadata": {
  "kernelspec": {
   "display_name": "Python 3",
   "language": "python",
   "name": "python3"
  },
  "language_info": {
   "codemirror_mode": {
    "name": "ipython",
    "version": 3
   },
   "file_extension": ".py",
   "mimetype": "text/x-python",
   "name": "python",
   "nbconvert_exporter": "python",
   "pygments_lexer": "ipython3",
   "version": "3.6.7"
  }
 },
 "nbformat": 4,
 "nbformat_minor": 4
}
