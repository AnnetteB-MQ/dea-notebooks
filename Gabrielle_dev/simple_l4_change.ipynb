{
 "cells": [
  {
   "cell_type": "markdown",
   "metadata": {},
   "source": [
    "# LCCS Level 4 Change Test Notebook\n",
    "\n",
    "A notebook to take the level 4 classification data for Australia in GeoTiff format and generate change results."
   ]
  },
  {
   "cell_type": "code",
   "execution_count": 9,
   "metadata": {},
   "outputs": [
    {
     "ename": "ModuleNotFoundError",
     "evalue": "No module named 'ingest_base'",
     "output_type": "error",
     "traceback": [
      "\u001b[0;31m---------------------------------------------------------------------------\u001b[0m",
      "\u001b[0;31mModuleNotFoundError\u001b[0m                       Traceback (most recent call last)",
      "\u001b[0;32m<ipython-input-9-fe4d3ec64701>\u001b[0m in \u001b[0;36m<module>\u001b[0;34m\u001b[0m\n\u001b[1;32m     12\u001b[0m \u001b[0msys\u001b[0m\u001b[0;34m.\u001b[0m\u001b[0mpath\u001b[0m\u001b[0;34m.\u001b[0m\u001b[0mappend\u001b[0m\u001b[0;34m(\u001b[0m\u001b[0;34m\"livingearth_lccs/le_lccs/le_ingest\"\u001b[0m\u001b[0;34m)\u001b[0m\u001b[0;34m\u001b[0m\u001b[0;34m\u001b[0m\u001b[0m\n\u001b[1;32m     13\u001b[0m \u001b[0;31m# from le_lccs\u001b[0m\u001b[0;34m\u001b[0m\u001b[0;34m\u001b[0m\u001b[0;34m\u001b[0m\u001b[0m\n\u001b[0;32m---> 14\u001b[0;31m \u001b[0;32mimport\u001b[0m \u001b[0mingest_base\u001b[0m\u001b[0;34m\u001b[0m\u001b[0;34m\u001b[0m\u001b[0m\n\u001b[0m\u001b[1;32m     15\u001b[0m \u001b[0;34m\u001b[0m\u001b[0m\n\u001b[1;32m     16\u001b[0m \u001b[0msys\u001b[0m\u001b[0;34m.\u001b[0m\u001b[0mpath\u001b[0m\u001b[0;34m.\u001b[0m\u001b[0mappend\u001b[0m\u001b[0;34m(\u001b[0m\u001b[0;34m\"livingearth_lccs/le_lccs/le_export\"\u001b[0m\u001b[0;34m)\u001b[0m\u001b[0;34m\u001b[0m\u001b[0;34m\u001b[0m\u001b[0m\n",
      "\u001b[0;31mModuleNotFoundError\u001b[0m: No module named 'ingest_base'"
     ]
    }
   ],
   "source": [
    "import argparse\n",
    "import logging\n",
    "import os\n",
    "import sys\n",
    "import yaml\n",
    "\n",
    "import numpy\n",
    "import xarray\n",
    "from matplotlib import pyplot\n",
    "\n",
    "# Import le_lccs modules\n",
    "from le_lccs import le_ingest\n",
    "from le_lccs import le_export\n",
    "\n",
    "from le_lccs.le_classification import lccs_l3\n",
    "from le_lccs.le_classification import lccs_l4\n",
    "from le_lccs.le_classification import simple_change"
   ]
  },
  {
   "cell_type": "code",
   "execution_count": 10,
   "metadata": {},
   "outputs": [
    {
     "ename": "FileNotFoundError",
     "evalue": "[Errno 2] No such file or directory: '/home/jovyan/dev/dea-notebooks/cultivated_ml/au_test_sites.yaml'",
     "output_type": "error",
     "traceback": [
      "\u001b[0;31m---------------------------------------------------------------------------\u001b[0m",
      "\u001b[0;31mFileNotFoundError\u001b[0m                         Traceback (most recent call last)",
      "\u001b[0;32m<ipython-input-10-534845274d84>\u001b[0m in \u001b[0;36m<module>\u001b[0;34m\u001b[0m\n\u001b[1;32m      1\u001b[0m \u001b[0myaml_sites_file\u001b[0m \u001b[0;34m=\u001b[0m \u001b[0mos\u001b[0m\u001b[0;34m.\u001b[0m\u001b[0mpath\u001b[0m\u001b[0;34m.\u001b[0m\u001b[0mabspath\u001b[0m\u001b[0;34m(\u001b[0m\u001b[0;34m\"../cultivated_ml/au_test_sites.yaml\"\u001b[0m\u001b[0;34m)\u001b[0m\u001b[0;34m\u001b[0m\u001b[0;34m\u001b[0m\u001b[0m\n\u001b[1;32m      2\u001b[0m \u001b[0;34m\u001b[0m\u001b[0m\n\u001b[0;32m----> 3\u001b[0;31m \u001b[0;32mwith\u001b[0m \u001b[0mopen\u001b[0m\u001b[0;34m(\u001b[0m\u001b[0myaml_sites_file\u001b[0m\u001b[0;34m,\u001b[0m \u001b[0;34m\"r\"\u001b[0m\u001b[0;34m)\u001b[0m \u001b[0;32mas\u001b[0m \u001b[0mf\u001b[0m\u001b[0;34m:\u001b[0m\u001b[0;34m\u001b[0m\u001b[0;34m\u001b[0m\u001b[0m\n\u001b[0m\u001b[1;32m      4\u001b[0m     \u001b[0msite_config\u001b[0m \u001b[0;34m=\u001b[0m \u001b[0myaml\u001b[0m\u001b[0;34m.\u001b[0m\u001b[0msafe_load\u001b[0m\u001b[0;34m(\u001b[0m\u001b[0mf\u001b[0m\u001b[0;34m)\u001b[0m\u001b[0;34m\u001b[0m\u001b[0;34m\u001b[0m\u001b[0m\n\u001b[1;32m      5\u001b[0m \u001b[0;34m\u001b[0m\u001b[0m\n",
      "\u001b[0;31mFileNotFoundError\u001b[0m: [Errno 2] No such file or directory: '/home/jovyan/dev/dea-notebooks/cultivated_ml/au_test_sites.yaml'"
     ]
    }
   ],
   "source": [
    "yaml_sites_file = os.path.abspath(\"../cultivated_ml/au_test_sites.yaml\")\n",
    "\n",
    "with open(yaml_sites_file, \"r\") as f:\n",
    "    site_config = yaml.safe_load(f)\n",
    "\n",
    "site_name = \"Kangaroo Island\"\n",
    "\n",
    "extent = [site_config[site_name][\"min_x\"],\n",
    "          site_config[site_name][\"min_y\"],\n",
    "          site_config[site_name][\"max_x\"],\n",
    "          site_config[site_name][\"max_y\"]]"
   ]
  },
  {
   "cell_type": "code",
   "execution_count": null,
   "metadata": {},
   "outputs": [],
   "source": [
    "# Set up dictionary to define size parameters\n",
    "target_size = {}\n",
    "\n",
    "target_size[\"target_min_x\"] = extent[0]\n",
    "target_size[\"target_max_x\"] = extent[2]\n",
    "target_size[\"target_min_y\"] = extent[1]\n",
    "target_size[\"target_max_y\"] = extent[3]\n",
    "\n",
    "target_size[\"target_pixel_size_x\"] = 25\n",
    "target_size[\"target_pixel_size_y\"] = -25\n",
    "\n",
    "target_size[\"target_crs\"] = \"EPSG:3577\""
   ]
  },
  {
   "cell_type": "markdown",
   "metadata": {},
   "source": [
    "## Data Input"
   ]
  },
  {
   "cell_type": "code",
   "execution_count": null,
   "metadata": {},
   "outputs": [],
   "source": [
    "# Set up dictionary with importers for each input layer\n",
    "\n",
    "level4_tiff_2010 = \"/Users/richard/Dropbox (EOED)/Data_Projects/DEA_LandCoverMonitoring/Change/lccs_2010_L4_beta-1.0.2.tif\"\n",
    "level4_tiff_2015 = \"/Users/richard/Dropbox (EOED)/Data_Projects/DEA_LandCoverMonitoring/Change/lccs_2015_L4_beta-1.0.2.tif\"\n",
    "\n",
    "level4_bands = [\"level3\", \"lifeform_veg_cat_l4a\", \"canopyco_veg_cat_l4d\", \"watersea_veg_cat_l4a\",\n",
    "                \"waterstt_wat_cat_l4a\", \"waterper_wat_cat_l4d\", \"inttidal_wat_cat_l4a\"]\n",
    "\n",
    "# Add in all the level4 layers to ingest\n",
    "input_layers_2010 = {}\n",
    "input_layers_2015 = {}\n",
    "\n",
    "for band, layer_name in enumerate(level4_bands):\n",
    "    input_layers_2010[layer_name] = {}\n",
    "    input_layers_2015[layer_name] = {}\n",
    "    \n",
    "    input_layers_2010[layer_name][\"ingest_class\"] = \"gridded_ingest.LEIngestGDAL\"\n",
    "    input_layers_2010[layer_name][\"input_file\"] = level4_tiff_2010\n",
    "    input_layers_2010[layer_name][\"resampling\"] = \"mode\"\n",
    "    input_layers_2010[layer_name][\"band\"] = band + 1\n",
    "\n",
    "    input_layers_2015[layer_name][\"ingest_class\"] = \"gridded_ingest.LEIngestGDAL\"\n",
    "    input_layers_2015[layer_name][\"input_file\"] = level4_tiff_2015\n",
    "    input_layers_2015[layer_name][\"resampling\"] = \"mode\"\n",
    "    input_layers_2015[layer_name][\"band\"] = band + 1"
   ]
  },
  {
   "cell_type": "markdown",
   "metadata": {},
   "source": [
    "## Additional layers\n",
    "Add in additional layers below as needed. For example:\n",
    "    \n",
    "    input_layers_2010[\"cci_biomass\"] = {}\n",
    "    input_layers_2010[\"cci_biomass\"][\"ingest_class\"] = \"gridded_ingest.LEIngestGDAL\"\n",
    "    input_layers_2010[\"cci_biomass\"][\"input_file\"] = \"/path/to/file.tif\"\n",
    "    input_layers_2010[\"cci_biomass\"][\"resampling\"] = \"nearest\"\n",
    "    "
   ]
  },
  {
   "cell_type": "code",
   "execution_count": null,
   "metadata": {},
   "outputs": [],
   "source": [
    "input_layers_2010[\"cci_biomass\"] = {}\n",
    "input_layers_2010[\"cci_biomass\"][\"ingest_class\"] = \"gridded_ingest.LEIngestGDAL\"\n",
    "input_layers_2010[\"cci_biomass\"][\"input_file\"] = \"/Users/richard/Dropbox (EOED)/Data_Projects/DEA_LandCoverMonitoring/Change/S3436_136_abg2010.tif\"\n",
    "input_layers_2010[\"cci_biomass\"][\"resampling\"] = \"nearest\"\n",
    "\n",
    "input_layers_2015[\"cci_biomass\"] = {}\n",
    "input_layers_2015[\"cci_biomass\"][\"ingest_class\"] = \"gridded_ingest.LEIngestGDAL\"\n",
    "input_layers_2015[\"cci_biomass\"][\"input_file\"] = \"/Users/richard/Dropbox (EOED)/Data_Projects/DEA_LandCoverMonitoring/Change/S30E130_agb2017.tif\"\n",
    "input_layers_2015[\"cci_biomass\"][\"resampling\"] = \"nearest\""
   ]
  },
  {
   "cell_type": "code",
   "execution_count": null,
   "metadata": {},
   "outputs": [],
   "source": [
    "# Read each into xarray and save to list\n",
    "logging.info(\"Reading in data for 2010\")\n",
    "variables_xarray_list_2010 = []\n",
    "\n",
    "print(\"Loading 2010 Data\")\n",
    "\n",
    "for var_name, ingest_parameters in input_layers_2010.items():\n",
    "    # TODO: Need to write a wrapper to make recursive calls of `getattr` nicer.\n",
    "    # Don't run any of the 'xarray_maths' classes yet - nead to load all other\n",
    "    # variables first\n",
    "    print(\"Loading: {}\".format(var_name))\n",
    "    import_class_name = ingest_parameters[\"ingest_class\"]\n",
    "        # Get the class to use for importing\n",
    "    if import_class_name != \"xarray_maths\":\n",
    "        import_class = getattr(getattr(le_ingest, import_class_name.split(\".\")[0]),\n",
    "                              import_class_name.split(\".\")[1])\n",
    "        # Set up instance of import class\n",
    "        import_obj = import_class(**target_size)\n",
    "\n",
    "        # Import\n",
    "        ingest_parameters[\"variable_name\"] = var_name\n",
    "        variables_xarray = import_obj.read_to_xarray(**ingest_parameters)\n",
    "        variables_xarray_list_2010.append(variables_xarray)\n",
    "\n",
    "# Merge to a single dataset\n",
    "level4_2010 = xarray.merge(variables_xarray_list_2010)\n",
    "\n",
    "# Read each into xarray and save to list\n",
    "logging.info(\"Reading in data for 2015\")\n",
    "variables_xarray_list_2015 = []\n",
    "\n",
    "print(\"Loading 2015 Data\")\n",
    "\n",
    "for var_name, ingest_parameters in input_layers_2015.items():\n",
    "    # TODO: Need to write a wrapper to make recursive calls of `getattr` nicer.\n",
    "    # Don't run any of the 'xarray_maths' classes yet - nead to load all other\n",
    "    # variables first\n",
    "    print(\"Loading: {}\".format(var_name))\n",
    "    import_class_name = ingest_parameters[\"ingest_class\"]\n",
    "        # Get the class to use for importing\n",
    "    if import_class_name != \"xarray_maths\":\n",
    "        import_class = getattr(getattr(le_ingest, import_class_name.split(\".\")[0]),\n",
    "                              import_class_name.split(\".\")[1])\n",
    "        # Set up instance of import class\n",
    "        import_obj = import_class(**target_size)\n",
    "\n",
    "        # Import\n",
    "        ingest_parameters[\"variable_name\"] = var_name\n",
    "        variables_xarray = import_obj.read_to_xarray(**ingest_parameters)\n",
    "        variables_xarray_list_2015.append(variables_xarray)\n",
    "\n",
    "# Merge to a single dataset\n",
    "level4_2015 = xarray.merge(variables_xarray_list_2015)"
   ]
  },
  {
   "cell_type": "markdown",
   "metadata": {},
   "source": [
    "## Change Detection"
   ]
  },
  {
   "cell_type": "markdown",
   "metadata": {},
   "source": [
    "### Simple Level 4 Change"
   ]
  },
  {
   "cell_type": "code",
   "execution_count": null,
   "metadata": {},
   "outputs": [],
   "source": [
    "l4_change_codes = simple_change.get_lccs_l4_change_codes(level4_2010, level4_2015, ignore_no_change=False)\n",
    "l4_change_codes"
   ]
  },
  {
   "cell_type": "markdown",
   "metadata": {},
   "source": [
    "### Biomass Change"
   ]
  },
  {
   "cell_type": "code",
   "execution_count": null,
   "metadata": {},
   "outputs": [],
   "source": [
    "biomass_diff = level4_2010[\"cci_biomass\"].values.astype(numpy.float32) - level4_2015[\"cci_biomass\"].values.astype(numpy.float32)\n",
    "\n",
    "# Convert numpy array with change values into an xarray Dataset\n",
    "biomass_diff_xarray = xarray.Dataset(\n",
    "    {\"cci_biomass_diff\" : (level4_2010[\"cci_biomass\"].dims, biomass_diff)},\n",
    "    coords=level4_2010.coords)"
   ]
  },
  {
   "cell_type": "code",
   "execution_count": null,
   "metadata": {},
   "outputs": [],
   "source": [
    "# Merge into a single xarray\n",
    "l4_change_codes = xarray.merge([l4_change_codes, biomass_diff_xarray])"
   ]
  },
  {
   "cell_type": "code",
   "execution_count": null,
   "metadata": {},
   "outputs": [],
   "source": [
    "# Export data as a GeoTiff\n",
    "\n",
    "export_parameters = {}\n",
    "export_parameters[\"output_file\"] = \"/Users/richard/Dropbox (EOED)/Data_Projects/DEA_LandCoverMonitoring/Change/{}_2010-2015_l4_change.tif\".format(site_name.replace(\" \",\"_\"))\n",
    "# Use a float for output and cast all output layer to this\n",
    "export_parameters[\"out_dtype\"] = numpy.float32\n",
    "export_parameters[\"cast_to_out_dtype\"] = True\n",
    "# Get export class to use\n",
    "export_class = le_export.gridded_export.LEExportGDAL\n",
    "\n",
    "export_obj = export_class(**target_size)\n",
    "\n",
    "# Write out xarray\n",
    "export_obj.write_xarray(l4_change_codes, **export_parameters)"
   ]
  },
  {
   "cell_type": "markdown",
   "metadata": {},
   "source": [
    "### Evidence Based Change - Wildfire\n",
    "\n",
    "Wildfire has change code 1.\n",
    "\n",
    "* Need Level3 to have stayed as 112\n",
    "* Canopy Cover catergory 10 -> 16"
   ]
  },
  {
   "cell_type": "code",
   "execution_count": null,
   "metadata": {},
   "outputs": [],
   "source": [
    "wild_fire = numpy.where((l4_change_codes[\"level3_change\"].values == 112112) &\n",
    "                        (l4_change_codes[\"canopyco_veg_cat_l4d_change\"].values == 1016), 1, 0)"
   ]
  },
  {
   "cell_type": "code",
   "execution_count": null,
   "metadata": {},
   "outputs": [],
   "source": [
    "# Convert to xarray\n",
    "wild_fire_xarray = xarray.Dataset(\n",
    "    {\"wild_fire\" : (level4_2010[\"level3\"].dims, wild_fire)},\n",
    "    coords=level4_2010.coords)"
   ]
  },
  {
   "cell_type": "code",
   "execution_count": null,
   "metadata": {},
   "outputs": [],
   "source": [
    "pyplot.imshow(wild_fire)"
   ]
  },
  {
   "cell_type": "code",
   "execution_count": null,
   "metadata": {},
   "outputs": [],
   "source": [
    "# Export data as a GeoTiff\n",
    "export_parameters = {}\n",
    "export_parameters[\"output_file\"] = \"/Users/richard/Dropbox (EOED)/Data_Projects/DEA_LandCoverMonitoring/Change/{}_2010-2015_wild_fire.tif\".format(site_name.replace(\" \",\"_\"))\n",
    "# Use a float for output and cast all output layer to this\n",
    "export_parameters[\"out_dtype\"] = numpy.uint16\n",
    "export_parameters[\"cast_to_out_dtype\"] = True\n",
    "# Get export class to use\n",
    "export_class = le_export.gridded_export.LEExportGDAL\n",
    "\n",
    "export_obj = export_class(**target_size)\n",
    "\n",
    "# Write out xarray\n",
    "export_obj.write_xarray(wild_fire_xarray, **export_parameters)"
   ]
  },
  {
   "cell_type": "markdown",
   "metadata": {},
   "source": [
    "### Evidence Based Change - Insect disease\n",
    "\n",
    "Insect disease has change code 2"
   ]
  },
  {
   "cell_type": "code",
   "execution_count": null,
   "metadata": {},
   "outputs": [],
   "source": [
    "insect_disease = numpy.where((l4_change_codes[\"level3_change\"].values == 112112) &\n",
    "                        (l4_change_codes[\"canopyco_veg_cat_l4d_change\"].values == 1016), 1, 0)\n",
    "\n",
    "# Convert to xarray\n",
    "insect_disease_xarray = xarray.Dataset(\n",
    "    {\"insect_disease\" : (level4_2010[\"level3\"].dims, insect_disease)},\n",
    "    coords=level4_2010.coords)\n",
    "\n",
    "pyplot.imshow(insect_disease)\n",
    "\n",
    "# Export data as a GeoTiff\n",
    "export_parameters = {}\n",
    "export_parameters[\"output_file\"] = \"/Users/richard/Dropbox (EOED)/Data_Projects/DEA_LandCoverMonitoring/Change/{}_2010-2015_insect_disease.tif\".format(site_name.replace(\" \",\"_\"))\n",
    "# Use a float for output and cast all output layer to this\n",
    "export_parameters[\"out_dtype\"] = numpy.uint16\n",
    "export_parameters[\"cast_to_out_dtype\"] = True\n",
    "# Get export class to use\n",
    "export_class = le_export.gridded_export.LEExportGDAL\n",
    "\n",
    "export_obj = export_class(**target_size)\n",
    "\n",
    "# Write out xarray\n",
    "export_obj.write_xarray(insect_disease_xarray, **export_parameters)"
   ]
  },
  {
   "cell_type": "code",
   "execution_count": null,
   "metadata": {},
   "outputs": [],
   "source": []
  }
 ],
 "metadata": {
  "kernelspec": {
   "display_name": "Python 3",
   "language": "python",
   "name": "python3"
  },
  "language_info": {
   "codemirror_mode": {
    "name": "ipython",
    "version": 3
   },
   "file_extension": ".py",
   "mimetype": "text/x-python",
   "name": "python",
   "nbconvert_exporter": "python",
   "pygments_lexer": "ipython3",
   "version": "3.6.9"
  }
 },
 "nbformat": 4,
 "nbformat_minor": 4
}
