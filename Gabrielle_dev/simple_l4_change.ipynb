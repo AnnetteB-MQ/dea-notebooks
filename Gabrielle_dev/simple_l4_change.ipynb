{
 "cells": [
  {
   "cell_type": "markdown",
   "metadata": {},
   "source": [
    "# LCCS Level 4 Change Test Notebook\n",
    "\n",
    "A notebook to take the level 4 classification data for Australia in GeoTiff format and generate change results."
   ]
  },
  {
   "cell_type": "code",
   "execution_count": 1,
   "metadata": {},
   "outputs": [],
   "source": [
    "import argparse\n",
    "import logging\n",
    "import os\n",
    "import sys\n",
    "import yaml\n",
    "\n",
    "import numpy\n",
    "import xarray\n",
    "from matplotlib import pyplot\n",
    "\n",
    "# Import le_lccs modules\n",
    "from le_lccs import le_ingest\n",
    "from le_lccs import le_export\n",
    "\n",
    "from le_lccs.le_classification import lccs_l3\n",
    "from le_lccs.le_classification import lccs_l4\n",
    "from le_lccs.le_classification import simple_change"
   ]
  },
  {
   "cell_type": "code",
   "execution_count": 2,
   "metadata": {},
   "outputs": [],
   "source": [
    "yaml_sites_file = os.path.abspath(\"../cultivated_ml/au_test_sites.yaml\")\n",
    "\n",
    "with open(yaml_sites_file, \"r\") as f:\n",
    "    site_config = yaml.safe_load(f)\n",
    "\n",
    "site_name = \"Kangaroo Island\"\n",
    "\n",
    "extent = [site_config[site_name][\"min_x\"],\n",
    "          site_config[site_name][\"min_y\"],\n",
    "          site_config[site_name][\"max_x\"],\n",
    "          site_config[site_name][\"max_y\"]]"
   ]
  },
  {
   "cell_type": "code",
   "execution_count": 3,
   "metadata": {},
   "outputs": [],
   "source": [
    "# Set up dictionary to define size parameters\n",
    "target_size = {}\n",
    "\n",
    "target_size[\"target_min_x\"] = extent[0]\n",
    "target_size[\"target_max_x\"] = extent[2]\n",
    "target_size[\"target_min_y\"] = extent[1]\n",
    "target_size[\"target_max_y\"] = extent[3]\n",
    "\n",
    "target_size[\"target_pixel_size_x\"] = 25\n",
    "target_size[\"target_pixel_size_y\"] = -25\n",
    "\n",
    "target_size[\"target_crs\"] = \"EPSG:3577\""
   ]
  },
  {
   "cell_type": "markdown",
   "metadata": {},
   "source": [
    "## Data Input"
   ]
  },
  {
   "cell_type": "code",
   "execution_count": 4,
   "metadata": {},
   "outputs": [],
   "source": [
    "# Set up dictionary with importers for each input layer\n",
    "\n",
    "level4_tiff_2010 = \"/Users/richard/Dropbox (EOED)/Data_Projects/DEA_LandCoverMonitoring/Change/lccs_2010_L4_beta-1.0.2.tif\"\n",
    "level4_tiff_2015 = \"/Users/richard/Dropbox (EOED)/Data_Projects/DEA_LandCoverMonitoring/Change/lccs_2015_L4_beta-1.0.2.tif\"\n",
    "\n",
    "level4_bands = [\"level3\", \"lifeform_veg_cat_l4a\", \"canopyco_veg_cat_l4d\", \"watersea_veg_cat_l4a\",\n",
    "                \"waterstt_wat_cat_l4a\", \"waterper_wat_cat_l4d\", \"inttidal_wat_cat_l4a\"]\n",
    "\n",
    "# Add in all the level4 layers to ingest\n",
    "input_layers_2010 = {}\n",
    "input_layers_2015 = {}\n",
    "\n",
    "for band, layer_name in enumerate(level4_bands):\n",
    "    input_layers_2010[layer_name] = {}\n",
    "    input_layers_2015[layer_name] = {}\n",
    "    \n",
    "    input_layers_2010[layer_name][\"ingest_class\"] = \"gridded_ingest.LEIngestGDAL\"\n",
    "    input_layers_2010[layer_name][\"input_file\"] = level4_tiff_2010\n",
    "    input_layers_2010[layer_name][\"resampling\"] = \"mode\"\n",
    "    input_layers_2010[layer_name][\"band\"] = band + 1\n",
    "\n",
    "    input_layers_2015[layer_name][\"ingest_class\"] = \"gridded_ingest.LEIngestGDAL\"\n",
    "    input_layers_2015[layer_name][\"input_file\"] = level4_tiff_2015\n",
    "    input_layers_2015[layer_name][\"resampling\"] = \"mode\"\n",
    "    input_layers_2015[layer_name][\"band\"] = band + 1"
   ]
  },
  {
   "cell_type": "markdown",
   "metadata": {},
   "source": [
    "## Additional layers\n",
    "Add in additional layers below as needed. For example:\n",
    "    \n",
    "    input_layers_2010[\"cci_biomass\"] = {}\n",
    "    input_layers_2010[\"cci_biomass\"][\"ingest_class\"] = \"gridded_ingest.LEIngestGDAL\"\n",
    "    input_layers_2010[\"cci_biomass\"][\"input_file\"] = \"/path/to/file.tif\"\n",
    "    input_layers_2010[\"cci_biomass\"][\"resampling\"] = \"nearest\"\n",
    "    "
   ]
  },
  {
   "cell_type": "code",
   "execution_count": 5,
   "metadata": {},
   "outputs": [],
   "source": [
    "input_layers_2010[\"cci_biomass\"] = {}\n",
    "input_layers_2010[\"cci_biomass\"][\"ingest_class\"] = \"gridded_ingest.LEIngestGDAL\"\n",
    "input_layers_2010[\"cci_biomass\"][\"input_file\"] = \"/Users/richard/Dropbox (EOED)/Data_Projects/DEA_LandCoverMonitoring/Change/Inputs/S3436_136_abg2010.tif\"\n",
    "input_layers_2010[\"cci_biomass\"][\"resampling\"] = \"nearest\"\n",
    "\n",
    "input_layers_2015[\"cci_biomass\"] = {}\n",
    "input_layers_2015[\"cci_biomass\"][\"ingest_class\"] = \"gridded_ingest.LEIngestGDAL\"\n",
    "input_layers_2015[\"cci_biomass\"][\"input_file\"] = \"/Users/richard/Dropbox (EOED)/Data_Projects/DEA_LandCoverMonitoring/Change/Inputs/S30E130_agb2017.tif\"\n",
    "input_layers_2015[\"cci_biomass\"][\"resampling\"] = \"nearest\"\n",
    "\n",
    "input_layers_2010[\"woodyfractn\"] = {}\n",
    "input_layers_2010[\"woodyfractn\"][\"ingest_class\"] = \"gridded_ingest.LEIngestGDAL\"\n",
    "input_layers_2010[\"woodyfractn\"][\"input_file\"] = \"/Users/richard/Dropbox (EOED)/Data_Projects/DEA_LandCoverMonitoring/Change/Inputs/KI_piece_wcf_before.tif\"\n",
    "input_layers_2010[\"woodyfractn\"][\"resampling\"] = \"nearest\"\n",
    "\n",
    "input_layers_2015[\"woodyfractn\"] = {}\n",
    "input_layers_2015[\"woodyfractn\"][\"ingest_class\"] = \"gridded_ingest.LEIngestGDAL\"\n",
    "input_layers_2015[\"woodyfractn\"][\"input_file\"] = \"/Users/richard/Dropbox (EOED)/Data_Projects/DEA_LandCoverMonitoring/Change/Inputs/KI_piece_wcf_after.tif\"\n",
    "input_layers_2015[\"woodyfractn\"][\"resampling\"] = \"nearest\"\n",
    "\n",
    "input_layers_2010[\"burnedareas\"] = {}\n",
    "input_layers_2010[\"burnedareas\"][\"ingest_class\"] = \"gridded_ingest.LEIngestGDAL\"\n",
    "input_layers_2010[\"burnedareas\"][\"input_file\"] = \"/Users/richard/Dropbox (EOED)/Data_Projects/DEA_LandCoverMonitoring/Change/Inputs/KI_piece_baseline_NBR.tif\"\n",
    "input_layers_2010[\"burnedareas\"][\"resampling\"] = \"nearest\"\n",
    "\n",
    "input_layers_2015[\"burnedareas\"] = {}\n",
    "input_layers_2015[\"burnedareas\"][\"ingest_class\"] = \"gridded_ingest.LEIngestGDAL\"\n",
    "input_layers_2015[\"burnedareas\"][\"input_file\"] = \"/Users/richard/Dropbox (EOED)/Data_Projects/DEA_LandCoverMonitoring/Change/Inputs/KI_piece_post_NBR.tif\"\n",
    "input_layers_2015[\"burnedareas\"][\"resampling\"] = \"nearest\""
   ]
  },
  {
   "cell_type": "code",
   "execution_count": 6,
   "metadata": {},
   "outputs": [
    {
     "name": "stdout",
     "output_type": "stream",
     "text": [
      "Loading 2010 Data\n",
      "Loading: level3\n",
      "Loading: lifeform_veg_cat_l4a\n",
      "Loading: canopyco_veg_cat_l4d\n",
      "Loading: watersea_veg_cat_l4a\n",
      "Loading: waterstt_wat_cat_l4a\n",
      "Loading: waterper_wat_cat_l4d\n",
      "Loading: inttidal_wat_cat_l4a\n",
      "Loading: cci_biomass\n",
      "Loading: woodyfractn\n",
      "Loading: burnedareas\n",
      "Loading 2015 Data\n",
      "Loading: level3\n"
     ]
    },
    {
     "ename": "RasterioIOError",
     "evalue": "/Users/richard/Dropbox (EOED)/Data_Projects/DEA_LandCoverMonitoring/Change/lccs_2015_L4_beta-1.0.2.tif: No such file or directory",
     "output_type": "error",
     "traceback": [
      "\u001b[0;31m---------------------------------------------------------------------------\u001b[0m",
      "\u001b[0;31mCPLE_OpenFailedError\u001b[0m                      Traceback (most recent call last)",
      "\u001b[0;32mrasterio/_base.pyx\u001b[0m in \u001b[0;36mrasterio._base.DatasetBase.__init__\u001b[0;34m()\u001b[0m\n",
      "\u001b[0;32mrasterio/_shim.pyx\u001b[0m in \u001b[0;36mrasterio._shim.open_dataset\u001b[0;34m()\u001b[0m\n",
      "\u001b[0;32mrasterio/_err.pyx\u001b[0m in \u001b[0;36mrasterio._err.exc_wrap_pointer\u001b[0;34m()\u001b[0m\n",
      "\u001b[0;31mCPLE_OpenFailedError\u001b[0m: /Users/richard/Dropbox (EOED)/Data_Projects/DEA_LandCoverMonitoring/Change/lccs_2015_L4_beta-1.0.2.tif: No such file or directory",
      "\nDuring handling of the above exception, another exception occurred:\n",
      "\u001b[0;31mRasterioIOError\u001b[0m                           Traceback (most recent call last)",
      "\u001b[0;32m<ipython-input-6-be33deee3a88>\u001b[0m in \u001b[0;36m<module>\u001b[0;34m\u001b[0m\n\u001b[1;32m     47\u001b[0m         \u001b[0;31m# Import\u001b[0m\u001b[0;34m\u001b[0m\u001b[0;34m\u001b[0m\u001b[0m\n\u001b[1;32m     48\u001b[0m         \u001b[0mingest_parameters\u001b[0m\u001b[0;34m[\u001b[0m\u001b[0;34m\"variable_name\"\u001b[0m\u001b[0;34m]\u001b[0m \u001b[0;34m=\u001b[0m \u001b[0mvar_name\u001b[0m\u001b[0;34m\u001b[0m\u001b[0m\n\u001b[0;32m---> 49\u001b[0;31m         \u001b[0mvariables_xarray\u001b[0m \u001b[0;34m=\u001b[0m \u001b[0mimport_obj\u001b[0m\u001b[0;34m.\u001b[0m\u001b[0mread_to_xarray\u001b[0m\u001b[0;34m(\u001b[0m\u001b[0;34m**\u001b[0m\u001b[0mingest_parameters\u001b[0m\u001b[0;34m)\u001b[0m\u001b[0;34m\u001b[0m\u001b[0m\n\u001b[0m\u001b[1;32m     50\u001b[0m         \u001b[0mvariables_xarray_list_2015\u001b[0m\u001b[0;34m.\u001b[0m\u001b[0mappend\u001b[0m\u001b[0;34m(\u001b[0m\u001b[0mvariables_xarray\u001b[0m\u001b[0;34m)\u001b[0m\u001b[0;34m\u001b[0m\u001b[0m\n\u001b[1;32m     51\u001b[0m \u001b[0;34m\u001b[0m\u001b[0m\n",
      "\u001b[0;32m~/miniconda3/envs/au-eoed-v1/lib/python3.6/site-packages/le_lccs/le_ingest/gridded_ingest.py\u001b[0m in \u001b[0;36mread_to_xarray\u001b[0;34m(self, input_file, variable_name, expstr, band, resampling, **kwargs)\u001b[0m\n\u001b[1;32m    337\u001b[0m         \"\"\"\n\u001b[1;32m    338\u001b[0m         return self.read_data_from_gdal(input_file, variable_name, expstr, band,\n\u001b[0;32m--> 339\u001b[0;31m                                         resampling, **kwargs)\n\u001b[0m\u001b[1;32m    340\u001b[0m \u001b[0;34m\u001b[0m\u001b[0m\n\u001b[1;32m    341\u001b[0m \u001b[0;34m\u001b[0m\u001b[0m\n",
      "\u001b[0;32m~/miniconda3/envs/au-eoed-v1/lib/python3.6/site-packages/le_lccs/le_ingest/gridded_ingest.py\u001b[0m in \u001b[0;36mread_data_from_gdal\u001b[0;34m(self, input_file, variable_name, expstr, band, resampling, **kwargs)\u001b[0m\n\u001b[1;32m    163\u001b[0m                                  \",\".join([str(i) for i in  rasterio.enums.Resampling])))\n\u001b[1;32m    164\u001b[0m \u001b[0;34m\u001b[0m\u001b[0m\n\u001b[0;32m--> 165\u001b[0;31m         \u001b[0;32mwith\u001b[0m \u001b[0mrasterio\u001b[0m\u001b[0;34m.\u001b[0m\u001b[0mopen\u001b[0m\u001b[0;34m(\u001b[0m\u001b[0minput_file\u001b[0m\u001b[0;34m)\u001b[0m \u001b[0;32mas\u001b[0m \u001b[0mds\u001b[0m\u001b[0;34m:\u001b[0m\u001b[0;34m\u001b[0m\u001b[0m\n\u001b[0m\u001b[1;32m    166\u001b[0m             \u001b[0;31m# Get pze and check against target.\u001b[0m\u001b[0;34m\u001b[0m\u001b[0;34m\u001b[0m\u001b[0m\n\u001b[1;32m    167\u001b[0m             \u001b[0;31m# Print info to log file if they are different.\u001b[0m\u001b[0;34m\u001b[0m\u001b[0;34m\u001b[0m\u001b[0m\n",
      "\u001b[0;32m~/miniconda3/envs/au-eoed-v1/lib/python3.6/site-packages/rasterio/env.py\u001b[0m in \u001b[0;36mwrapper\u001b[0;34m(*args, **kwds)\u001b[0m\n\u001b[1;32m    421\u001b[0m \u001b[0;34m\u001b[0m\u001b[0m\n\u001b[1;32m    422\u001b[0m         \u001b[0;32mwith\u001b[0m \u001b[0menv_ctor\u001b[0m\u001b[0;34m(\u001b[0m\u001b[0msession\u001b[0m\u001b[0;34m=\u001b[0m\u001b[0msession\u001b[0m\u001b[0;34m)\u001b[0m\u001b[0;34m:\u001b[0m\u001b[0;34m\u001b[0m\u001b[0m\n\u001b[0;32m--> 423\u001b[0;31m             \u001b[0;32mreturn\u001b[0m \u001b[0mf\u001b[0m\u001b[0;34m(\u001b[0m\u001b[0;34m*\u001b[0m\u001b[0margs\u001b[0m\u001b[0;34m,\u001b[0m \u001b[0;34m**\u001b[0m\u001b[0mkwds\u001b[0m\u001b[0;34m)\u001b[0m\u001b[0;34m\u001b[0m\u001b[0m\n\u001b[0m\u001b[1;32m    424\u001b[0m \u001b[0;34m\u001b[0m\u001b[0m\n\u001b[1;32m    425\u001b[0m     \u001b[0;32mreturn\u001b[0m \u001b[0mwrapper\u001b[0m\u001b[0;34m\u001b[0m\u001b[0m\n",
      "\u001b[0;32m~/miniconda3/envs/au-eoed-v1/lib/python3.6/site-packages/rasterio/__init__.py\u001b[0m in \u001b[0;36mopen\u001b[0;34m(fp, mode, driver, width, height, count, crs, transform, dtype, nodata, sharing, **kwargs)\u001b[0m\n\u001b[1;32m    214\u001b[0m         \u001b[0;31m# None.\u001b[0m\u001b[0;34m\u001b[0m\u001b[0;34m\u001b[0m\u001b[0m\n\u001b[1;32m    215\u001b[0m         \u001b[0;32mif\u001b[0m \u001b[0mmode\u001b[0m \u001b[0;34m==\u001b[0m \u001b[0;34m'r'\u001b[0m\u001b[0;34m:\u001b[0m\u001b[0;34m\u001b[0m\u001b[0m\n\u001b[0;32m--> 216\u001b[0;31m             \u001b[0ms\u001b[0m \u001b[0;34m=\u001b[0m \u001b[0mDatasetReader\u001b[0m\u001b[0;34m(\u001b[0m\u001b[0mpath\u001b[0m\u001b[0;34m,\u001b[0m \u001b[0mdriver\u001b[0m\u001b[0;34m=\u001b[0m\u001b[0mdriver\u001b[0m\u001b[0;34m,\u001b[0m \u001b[0;34m**\u001b[0m\u001b[0mkwargs\u001b[0m\u001b[0;34m)\u001b[0m\u001b[0;34m\u001b[0m\u001b[0m\n\u001b[0m\u001b[1;32m    217\u001b[0m         \u001b[0;32melif\u001b[0m \u001b[0mmode\u001b[0m \u001b[0;34m==\u001b[0m \u001b[0;34m'r+'\u001b[0m\u001b[0;34m:\u001b[0m\u001b[0;34m\u001b[0m\u001b[0m\n\u001b[1;32m    218\u001b[0m             \u001b[0ms\u001b[0m \u001b[0;34m=\u001b[0m \u001b[0mget_writer_for_path\u001b[0m\u001b[0;34m(\u001b[0m\u001b[0mpath\u001b[0m\u001b[0;34m)\u001b[0m\u001b[0;34m(\u001b[0m\u001b[0mpath\u001b[0m\u001b[0;34m,\u001b[0m \u001b[0mmode\u001b[0m\u001b[0;34m,\u001b[0m \u001b[0mdriver\u001b[0m\u001b[0;34m=\u001b[0m\u001b[0mdriver\u001b[0m\u001b[0;34m,\u001b[0m \u001b[0;34m**\u001b[0m\u001b[0mkwargs\u001b[0m\u001b[0;34m)\u001b[0m\u001b[0;34m\u001b[0m\u001b[0m\n",
      "\u001b[0;32mrasterio/_base.pyx\u001b[0m in \u001b[0;36mrasterio._base.DatasetBase.__init__\u001b[0;34m()\u001b[0m\n",
      "\u001b[0;31mRasterioIOError\u001b[0m: /Users/richard/Dropbox (EOED)/Data_Projects/DEA_LandCoverMonitoring/Change/lccs_2015_L4_beta-1.0.2.tif: No such file or directory"
     ]
    }
   ],
   "source": [
    "# Read each into xarray and save to list\n",
    "logging.info(\"Reading in data for 2010\")\n",
    "variables_xarray_list_2010 = []\n",
    "\n",
    "print(\"Loading 2010 Data\")\n",
    "\n",
    "for var_name, ingest_parameters in input_layers_2010.items():\n",
    "    # TODO: Need to write a wrapper to make recursive calls of `getattr` nicer.\n",
    "    # Don't run any of the 'xarray_maths' classes yet - nead to load all other\n",
    "    # variables first\n",
    "    print(\"Loading: {}\".format(var_name))\n",
    "    import_class_name = ingest_parameters[\"ingest_class\"]\n",
    "        # Get the class to use for importing\n",
    "    if import_class_name != \"xarray_maths\":\n",
    "        import_class = getattr(getattr(le_ingest, import_class_name.split(\".\")[0]),\n",
    "                              import_class_name.split(\".\")[1])\n",
    "        # Set up instance of import class\n",
    "        import_obj = import_class(**target_size)\n",
    "\n",
    "        # Import\n",
    "        ingest_parameters[\"variable_name\"] = var_name\n",
    "        variables_xarray = import_obj.read_to_xarray(**ingest_parameters)\n",
    "        variables_xarray_list_2010.append(variables_xarray)\n",
    "\n",
    "# Merge to a single dataset\n",
    "level4_2010 = xarray.merge(variables_xarray_list_2010)\n",
    "\n",
    "# Read each into xarray and save to list\n",
    "logging.info(\"Reading in data for 2015\")\n",
    "variables_xarray_list_2015 = []\n",
    "\n",
    "print(\"Loading 2015 Data\")\n",
    "\n",
    "for var_name, ingest_parameters in input_layers_2015.items():\n",
    "    # TODO: Need to write a wrapper to make recursive calls of `getattr` nicer.\n",
    "    # Don't run any of the 'xarray_maths' classes yet - nead to load all other\n",
    "    # variables first\n",
    "    print(\"Loading: {}\".format(var_name))\n",
    "    import_class_name = ingest_parameters[\"ingest_class\"]\n",
    "        # Get the class to use for importing\n",
    "    if import_class_name != \"xarray_maths\":\n",
    "        import_class = getattr(getattr(le_ingest, import_class_name.split(\".\")[0]),\n",
    "                              import_class_name.split(\".\")[1])\n",
    "        # Set up instance of import class\n",
    "        import_obj = import_class(**target_size)\n",
    "\n",
    "        # Import\n",
    "        ingest_parameters[\"variable_name\"] = var_name\n",
    "        variables_xarray = import_obj.read_to_xarray(**ingest_parameters)\n",
    "        variables_xarray_list_2015.append(variables_xarray)\n",
    "\n",
    "# Merge to a single dataset\n",
    "level4_2015 = xarray.merge(variables_xarray_list_2015)"
   ]
  },
  {
   "cell_type": "markdown",
   "metadata": {},
   "source": [
    "## Change Detection"
   ]
  },
  {
   "cell_type": "markdown",
   "metadata": {},
   "source": [
    "### Simple Level 4 Change"
   ]
  },
  {
   "cell_type": "code",
   "execution_count": null,
   "metadata": {},
   "outputs": [],
   "source": [
    "l4_change_codes = simple_change.get_lccs_l4_change_codes(level4_2010, level4_2015, ignore_no_change=False)\n",
    "l4_change_codes"
   ]
  },
  {
   "cell_type": "markdown",
   "metadata": {},
   "source": [
    "### Biomass Change"
   ]
  },
  {
   "cell_type": "code",
   "execution_count": null,
   "metadata": {},
   "outputs": [],
   "source": [
    "biomass_diff = level4_2010[\"cci_biomass\"].values.astype(numpy.float32) - level4_2015[\"cci_biomass\"].values.astype(numpy.float32)\n",
    "\n",
    "# Convert numpy array with change values into an xarray Dataset\n",
    "biomass_diff_xarray = xarray.Dataset(\n",
    "    {\"cci_biomass_diff\" : (level4_2010[\"cci_biomass\"].dims, biomass_diff)},\n",
    "    coords=level4_2010.coords)"
   ]
  },
  {
   "cell_type": "code",
   "execution_count": null,
   "metadata": {},
   "outputs": [],
   "source": [
    "# Merge into a single xarray\n",
    "l4_change_codes = xarray.merge([l4_change_codes, biomass_diff_xarray])"
   ]
  },
  {
   "cell_type": "markdown",
   "metadata": {},
   "source": [
    "### Woody Fraction Change"
   ]
  },
  {
   "cell_type": "code",
   "execution_count": null,
   "metadata": {},
   "outputs": [],
   "source": [
    "woodyfr_diff = level4_2010[\"woodyfractn\"].values.astype(numpy.float32) - level4_2015[\"woodyfractn\"].values.astype(numpy.float32)\n",
    "\n",
    "# Convert numpy array with change values into an xarray Dataset\n",
    "woodyfractn_diff_xarray = xarray.Dataset(\n",
    "    {\"woodyfractn_diff\" : (level4_2010[\"woodyfractn\"].dims, biomass_diff)},\n",
    "    coords=level4_2010.coords)"
   ]
  },
  {
   "cell_type": "code",
   "execution_count": null,
   "metadata": {},
   "outputs": [],
   "source": [
    "# Merge into a single xarray\n",
    "l4_change_codes = xarray.merge([l4_change_codes, woodyfractn_diff_xarray])"
   ]
  },
  {
   "cell_type": "markdown",
   "metadata": {},
   "source": [
    "###  Burned area change (Based on Normalised Burn Index - NBI)"
   ]
  },
  {
   "cell_type": "code",
   "execution_count": null,
   "metadata": {},
   "outputs": [],
   "source": [
    "burnedarea_diff = level4_2010[\"burnedareas\"].values.astype(numpy.float32) - level4_2015[\"burnedareas\"].values.astype(numpy.float32)\n",
    "\n",
    "# Convert numpy array with change values into an xarray Dataset\n",
    "burnedareas_diff_xarray = xarray.Dataset(\n",
    "    {\"burnedareas_diff\" : (level4_2010[\"burnedareas\"].dims, biomass_diff)},\n",
    "    coords=level4_2010.coords)"
   ]
  },
  {
   "cell_type": "code",
   "execution_count": null,
   "metadata": {},
   "outputs": [],
   "source": [
    "# Merge into a single xarray\n",
    "l4_change_codes = xarray.merge([l4_change_codes, burnedareas_diff_xarray])"
   ]
  },
  {
   "cell_type": "code",
   "execution_count": null,
   "metadata": {},
   "outputs": [],
   "source": [
    "# Export data as a GeoTiff\n",
    "\n",
    "export_parameters = {}\n",
    "export_parameters[\"output_file\"] = \"/Users/richard/Dropbox (EOED)/Data_Projects/DEA_LandCoverMonitoring/Change/{}_2010-2015_l4_change.tif\".format(site_name.replace(\" \",\"_\"))\n",
    "# Use a float for output and cast all output layer to this\n",
    "export_parameters[\"out_dtype\"] = numpy.float32\n",
    "export_parameters[\"cast_to_out_dtype\"] = True\n",
    "# Get export class to use\n",
    "export_class = le_export.gridded_export.LEExportGDAL\n",
    "\n",
    "export_obj = export_class(**target_size)\n",
    "\n",
    "# Write out xarray\n",
    "export_obj.write_xarray(l4_change_codes, **export_parameters)"
   ]
  },
  {
   "cell_type": "markdown",
   "metadata": {},
   "source": [
    "### Evidence Based Change - Severe Wildfire\n",
    "Wildfire has change code 1.\n",
    "\n",
    "* Need Level3 to have stayed as 112\n",
    "* Canopy Cover category 10 -> 16\n",
    "* Woody fraction decreases\n",
    "* NBR increases\n"
   ]
  },
  {
   "cell_type": "code",
   "execution_count": null,
   "metadata": {},
   "outputs": [],
   "source": [
    "severe_wild_fire = numpy.where((l4_change_codes[\"level3_change\"].values == 112112) &\n",
    "                        (l4_change_codes[\"canopyco_veg_cat_l4d_change\"].values == 1016) &\n",
    "                        ([\"woodyfractn_diff\"].values >=0.5) &\n",
    "                        ([\"burnedareas_diff\"].values >=0.25), 1, 0)"
   ]
  },
  {
   "cell_type": "code",
   "execution_count": null,
   "metadata": {},
   "outputs": [],
   "source": [
    "pyplot.imshow(severe_wild_fire)"
   ]
  },
  {
   "cell_type": "code",
   "execution_count": null,
   "metadata": {},
   "outputs": [],
   "source": [
    "# Export data as a GeoTiff\n",
    "export_parameters = {}\n",
    "export_parameters[\"output_file\"] = \"/Users/richard/Dropbox (EOED)/Data_Projects/DEA_LandCoverMonitoring/Change/{}_2010-2015_severe_wild_fire.tif\".format(site_name.replace(\" \",\"_\"))\n",
    "# Use a float for output and cast all output layer to this\n",
    "export_parameters[\"out_dtype\"] = numpy.uint16\n",
    "export_parameters[\"cast_to_out_dtype\"] = True\n",
    "# Get export class to use\n",
    "export_class = le_export.gridded_export.LEExportGDAL\n",
    "\n",
    "export_obj = export_class(**target_size)\n",
    "\n",
    "# Write out xarray\n",
    "export_obj.write_xarray(severe_wild_fire_xarray, **export_parameters)"
   ]
  },
  {
   "cell_type": "markdown",
   "metadata": {},
   "source": [
    "### Evidence Based Change - Wildfire\n",
    "\n",
    "Wildfire has change code 1.\n",
    "\n",
    "* Need Level3 to have stayed as 112\n",
    "* Canopy Cover catergory 10 -> 16"
   ]
  },
  {
   "cell_type": "code",
   "execution_count": null,
   "metadata": {},
   "outputs": [],
   "source": [
    "wild_fire = numpy.where((l4_change_codes[\"level3_change\"].values == 112112) &\n",
    "                        (l4_change_codes[\"canopyco_veg_cat_l4d_change\"].values == 1016), 1, 0)"
   ]
  },
  {
   "cell_type": "code",
   "execution_count": null,
   "metadata": {},
   "outputs": [],
   "source": [
    "# Convert to xarray\n",
    "wild_fire_xarray = xarray.Dataset(\n",
    "    {\"wild_fire\" : (level4_2010[\"level3\"].dims, wild_fire)},\n",
    "    coords=level4_2010.coords)"
   ]
  },
  {
   "cell_type": "code",
   "execution_count": null,
   "metadata": {},
   "outputs": [],
   "source": [
    "pyplot.imshow(wild_fire)"
   ]
  },
  {
   "cell_type": "code",
   "execution_count": null,
   "metadata": {},
   "outputs": [],
   "source": [
    "# Export data as a GeoTiff\n",
    "export_parameters = {}\n",
    "export_parameters[\"output_file\"] = \"/Users/richard/Dropbox (EOED)/Data_Projects/DEA_LandCoverMonitoring/Change/{}_2010-2015_wild_fire.tif\".format(site_name.replace(\" \",\"_\"))\n",
    "# Use a float for output and cast all output layer to this\n",
    "export_parameters[\"out_dtype\"] = numpy.uint16\n",
    "export_parameters[\"cast_to_out_dtype\"] = True\n",
    "# Get export class to use\n",
    "export_class = le_export.gridded_export.LEExportGDAL\n",
    "\n",
    "export_obj = export_class(**target_size)\n",
    "\n",
    "# Write out xarray\n",
    "export_obj.write_xarray(wild_fire_xarray, **export_parameters)"
   ]
  },
  {
   "cell_type": "markdown",
   "metadata": {},
   "source": [
    "### Evidence Based Change - Insect disease\n",
    "\n",
    "Insect disease has change code 2"
   ]
  },
  {
   "cell_type": "code",
   "execution_count": null,
   "metadata": {},
   "outputs": [],
   "source": [
    "insect_disease = numpy.where((l4_change_codes[\"level3_change\"].values == 112112) &\n",
    "                        (l4_change_codes[\"canopyco_veg_cat_l4d_change\"].values == 1016), 1, 0)\n",
    "\n",
    "# Convert to xarray\n",
    "insect_disease_xarray = xarray.Dataset(\n",
    "    {\"insect_disease\" : (level4_2010[\"level3\"].dims, insect_disease)},\n",
    "    coords=level4_2010.coords)\n",
    "\n",
    "pyplot.imshow(insect_disease)\n",
    "\n",
    "# Export data as a GeoTiff\n",
    "export_parameters = {}\n",
    "export_parameters[\"output_file\"] = \"/Users/richard/Dropbox (EOED)/Data_Projects/DEA_LandCoverMonitoring/Change/{}_2010-2015_insect_disease.tif\".format(site_name.replace(\" \",\"_\"))\n",
    "# Use a float for output and cast all output layer to this\n",
    "export_parameters[\"out_dtype\"] = numpy.uint16\n",
    "export_parameters[\"cast_to_out_dtype\"] = True\n",
    "# Get export class to use\n",
    "export_class = le_export.gridded_export.LEExportGDAL\n",
    "\n",
    "export_obj = export_class(**target_size)\n",
    "\n",
    "# Write out xarray\n",
    "export_obj.write_xarray(insect_disease_xarray, **export_parameters)"
   ]
  },
  {
   "cell_type": "code",
   "execution_count": null,
   "metadata": {},
   "outputs": [],
   "source": []
  }
 ],
 "metadata": {
  "kernelspec": {
   "display_name": "Python 3",
   "language": "python",
   "name": "python3"
  },
  "language_info": {
   "codemirror_mode": {
    "name": "ipython",
    "version": 3
   },
   "file_extension": ".py",
   "mimetype": "text/x-python",
   "name": "python",
   "nbconvert_exporter": "python",
   "pygments_lexer": "ipython3",
   "version": "3.6.9"
  }
 },
 "nbformat": 4,
 "nbformat_minor": 4
}
