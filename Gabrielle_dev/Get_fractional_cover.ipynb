{
 "cells": [
  {
   "cell_type": "markdown",
   "metadata": {},
   "source": [
    "### Load packages"
   ]
  },
  {
   "cell_type": "code",
   "execution_count": 1,
   "metadata": {},
   "outputs": [],
   "source": [
    "%matplotlib inline\n",
    "\n",
    "import datacube\n",
    "from datacube.storage import masking\n",
    "from datacube.helpers import write_geotiff\n",
    "import matplotlib.pyplot as plt\n",
    "import numpy as np\n",
    "import sys\n",
    "import xarray as xr\n",
    "\n",
    "sys.path.append(\"../Scripts\")\n",
    "from dea_plotting import display_map\n",
    "from dea_datahandling import wofs_fuser"
   ]
  },
  {
   "cell_type": "markdown",
   "metadata": {},
   "source": [
    "### Connect to the datacube"
   ]
  },
  {
   "cell_type": "code",
   "execution_count": 2,
   "metadata": {},
   "outputs": [],
   "source": [
    "dc = datacube.Datacube(app=\"Applying_WOfS_bitmasking\")"
   ]
  },
  {
   "cell_type": "markdown",
   "metadata": {},
   "source": [
    "### Analysis parameters"
   ]
  },
  {
   "cell_type": "code",
   "execution_count": 3,
   "metadata": {},
   "outputs": [],
   "source": [
    "# Define your period of interest\n",
    "year = 2015\n",
    "time = (str(year))\n",
    "\n",
    "res_x = 100\n",
    "res_y = -100"
   ]
  },
  {
   "cell_type": "code",
   "execution_count": 4,
   "metadata": {},
   "outputs": [],
   "source": [
    "location = 'Kakadu'\n",
    "min_x = 0\n",
    "max_x = 100000\n",
    "min_y = -1350000\n",
    "max_y = -1250000\n",
    "\n",
    "location = 'Murray Valley'\n",
    "min_x = 1100000\n",
    "max_x = 1200000\n",
    "min_y = -4000000\n",
    "max_y = -3900000"
   ]
  },
  {
   "cell_type": "markdown",
   "metadata": {},
   "source": [
    "### View the selected location"
   ]
  },
  {
   "cell_type": "code",
   "execution_count": 5,
   "metadata": {},
   "outputs": [
    {
     "name": "stderr",
     "output_type": "stream",
     "text": [
      "/usr/local/lib/python3.6/dist-packages/pyproj/crs.py:77: FutureWarning: '+init=<authority>:<code>' syntax is deprecated. '<authority>:<code>' is the preferred initialization method.\n",
      "  return _prepare_from_string(\" \".join(pjargs))\n",
      "/usr/local/lib/python3.6/dist-packages/pyproj/crs.py:77: FutureWarning: '+init=<authority>:<code>' syntax is deprecated. '<authority>:<code>' is the preferred initialization method.\n",
      "  return _prepare_from_string(\" \".join(pjargs))\n"
     ]
    },
    {
     "data": {
      "text/html": [
       "<div style=\"width:100%;\"><div style=\"position:relative;width:100%;height:0;padding-bottom:60%;\"><iframe src=\"data:text/html;charset=utf-8;base64,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\" style=\"position:absolute;width:100%;height:100%;left:0;top:0;border:none !important;\" allowfullscreen webkitallowfullscreen mozallowfullscreen></iframe></div></div>"
      ],
      "text/plain": [
       "<folium.folium.Map at 0x7f8f5280af98>"
      ]
     },
     "execution_count": 5,
     "metadata": {},
     "output_type": "execute_result"
    }
   ],
   "source": [
    "# Make sure to change the location for in the save file\n",
    "location = 'Kakadu'\n",
    "min_x = 0\n",
    "max_x = 100000\n",
    "min_y = -1350000\n",
    "max_y = -1250000\n",
    "\n",
    "x = (min_x, max_x)\n",
    "y = (min_y, max_y)\n",
    "\n",
    "# Display an interactive map\n",
    "display_map(x=x, y=y, crs='EPSG:3577', margin=-0.1) "
   ]
  },
  {
   "cell_type": "markdown",
   "metadata": {},
   "source": [
    "## Load WOFL data\n"
   ]
  },
  {
   "cell_type": "markdown",
   "metadata": {},
   "source": [
    "To load WOFL data, we can first create a re-usable query that will define the spatial extent and time period we are interested in, as well as other important parameters that are used to correctly load the data.\n",
    "\n",
    "As WOFLs are created scene-by-scene, and some scenes overlap, it's important when loading data to `group_by` solar day, and ensure that the data between scenes is combined correctly by using the WOfS `fuse_func`.\n",
    "This will merge observations taken on the same day, and ensure that important data isn't lost when overlapping datasets are combined."
   ]
  },
  {
   "cell_type": "code",
   "execution_count": 6,
   "metadata": {},
   "outputs": [],
   "source": [
    "# Create a reusable query\n",
    "query = {\n",
    "    \"x\": x,\n",
    "    \"y\": y,\n",
    "    \"time\": time,\n",
    "    \"crs\": \"EPSG:3577\",\n",
    "    \"output_crs\": \"EPSG:3577\",\n",
    "    \"resolution\": (-25, 25),\n",
    "    \"group_by\": \"solar_day\",\n",
    "    \"fuse_func\": wofs_fuser,\n",
    "}"
   ]
  },
  {
   "cell_type": "code",
   "execution_count": 7,
   "metadata": {},
   "outputs": [
    {
     "data": {
      "text/html": [
       "<pre>&lt;xarray.Dataset&gt;\n",
       "Dimensions:  (time: 87, x: 4000, y: 4000)\n",
       "Coordinates:\n",
       "  * time     (time) datetime64[ns] 2015-01-05T01:10:28.500000 ... 2015-12-31T01:11:48.500000\n",
       "  * y        (y) float64 -1.25e+06 -1.25e+06 -1.25e+06 ... -1.35e+06 -1.35e+06\n",
       "  * x        (x) float64 12.5 37.5 62.5 87.5 ... 9.994e+04 9.996e+04 9.999e+04\n",
       "Data variables:\n",
       "    water    (time, y, x) int16 231 231 231 231 231 231 ... 32 32 32 32 32 32\n",
       "Attributes:\n",
       "    crs:      EPSG:3577</pre>"
      ],
      "text/plain": [
       "<xarray.Dataset>\n",
       "Dimensions:  (time: 87, x: 4000, y: 4000)\n",
       "Coordinates:\n",
       "  * time     (time) datetime64[ns] 2015-01-05T01:10:28.500000 ... 2015-12-31T01:11:48.500000\n",
       "  * y        (y) float64 -1.25e+06 -1.25e+06 -1.25e+06 ... -1.35e+06 -1.35e+06\n",
       "  * x        (x) float64 12.5 37.5 62.5 87.5 ... 9.994e+04 9.996e+04 9.999e+04\n",
       "Data variables:\n",
       "    water    (time, y, x) int16 231 231 231 231 231 231 ... 32 32 32 32 32 32\n",
       "Attributes:\n",
       "    crs:      EPSG:3577"
      ]
     },
     "execution_count": 7,
     "metadata": {},
     "output_type": "execute_result"
    }
   ],
   "source": [
    "# Load the data from the datacube\n",
    "wofls = dc.load(product=\"wofs_albers\", **query)\n",
    "wofls"
   ]
  },
  {
   "cell_type": "markdown",
   "metadata": {},
   "source": [
    "### Understanding the WOFLs"
   ]
  },
  {
   "cell_type": "markdown",
   "metadata": {},
   "source": [
    "As mentioned above, WOFLs are stored as a binary number, where each digit of the number is independantly set or not based on the presence (1) or absence (0) of a particular feature. Below is a breakdown of which bits represent which features, along with the decimal value associated with that bit being set to true."
   ]
  },
  {
   "cell_type": "markdown",
   "metadata": {},
   "source": [
    "| Attribute | Bit / position   | Decimal value |\n",
    "|------|------|----|\n",
    "| No data | 0:   `0-------` or `1-------` | 1|\n",
    "| Non contiguous | 1:   `-0------` or `-1------` | 2 |\n",
    "| Sea | 2:   `--0-----` or `--1-----` | 4 |\n",
    "| Terrain or low solar angle | 3:   `---0----` or `---1----` | 8 |\n",
    "| High slope | 4:   `----0---` or `----1---` | 16 |\n",
    "| Cloud shadow | 5:   `-----0--` or `-----1--` | 32 |\n",
    "| Cloud | 6:   `------0-` or `------1-` | 64 |\n",
    "| Water | 7:   `-------0` or `-------1` | 128 |\n"
   ]
  },
  {
   "cell_type": "markdown",
   "metadata": {},
   "source": [
    "The values in the above plots are the decimal representation of the combination of set flags. \n",
    "For example a value of 136 indicates water (128) AND terrain shadow / low solar angle (8) were observed for the pixel,\n",
    "whereas a value of 144 would indicate water (128) AND high slope (16).\n",
    "\n",
    "This flag information is available inside the loaded data and can be visualised as below"
   ]
  },
  {
   "cell_type": "code",
   "execution_count": 8,
   "metadata": {},
   "outputs": [
    {
     "data": {
      "text/html": [
       "<div>\n",
       "<style scoped>\n",
       "    .dataframe tbody tr th:only-of-type {\n",
       "        vertical-align: middle;\n",
       "    }\n",
       "\n",
       "    .dataframe tbody tr th {\n",
       "        vertical-align: top;\n",
       "    }\n",
       "\n",
       "    .dataframe thead th {\n",
       "        text-align: right;\n",
       "    }\n",
       "</style>\n",
       "<table border=\"1\" class=\"dataframe\">\n",
       "  <thead>\n",
       "    <tr style=\"text-align: right;\">\n",
       "      <th></th>\n",
       "      <th>bits</th>\n",
       "      <th>values</th>\n",
       "      <th>description</th>\n",
       "    </tr>\n",
       "  </thead>\n",
       "  <tbody>\n",
       "    <tr>\n",
       "      <th>nodata</th>\n",
       "      <td>0</td>\n",
       "      <td>{'0': False, '1': True}</td>\n",
       "      <td>No data</td>\n",
       "    </tr>\n",
       "    <tr>\n",
       "      <th>noncontiguous</th>\n",
       "      <td>1</td>\n",
       "      <td>{'0': False, '1': True}</td>\n",
       "      <td>At least one EO band is missing over over/unde...</td>\n",
       "    </tr>\n",
       "    <tr>\n",
       "      <th>sea</th>\n",
       "      <td>2</td>\n",
       "      <td>{'0': False, '1': True}</td>\n",
       "      <td>Sea</td>\n",
       "    </tr>\n",
       "    <tr>\n",
       "      <th>terrain_or_low_angle</th>\n",
       "      <td>3</td>\n",
       "      <td>{'0': False, '1': True}</td>\n",
       "      <td>terrain shadow or low solar angle</td>\n",
       "    </tr>\n",
       "    <tr>\n",
       "      <th>high_slope</th>\n",
       "      <td>4</td>\n",
       "      <td>{'0': False, '1': True}</td>\n",
       "      <td>High slope</td>\n",
       "    </tr>\n",
       "    <tr>\n",
       "      <th>cloud_shadow</th>\n",
       "      <td>5</td>\n",
       "      <td>{'0': False, '1': True}</td>\n",
       "      <td>Cloud shadow</td>\n",
       "    </tr>\n",
       "    <tr>\n",
       "      <th>cloud</th>\n",
       "      <td>6</td>\n",
       "      <td>{'0': False, '1': True}</td>\n",
       "      <td>Cloudy</td>\n",
       "    </tr>\n",
       "    <tr>\n",
       "      <th>dry</th>\n",
       "      <td>[7, 6, 5, 4, 3, 1, 0]</td>\n",
       "      <td>{'0': True}</td>\n",
       "      <td>No water detected</td>\n",
       "    </tr>\n",
       "    <tr>\n",
       "      <th>wet</th>\n",
       "      <td>[7, 6, 5, 4, 3, 1, 0]</td>\n",
       "      <td>{'128': True}</td>\n",
       "      <td>Clear and Wet</td>\n",
       "    </tr>\n",
       "  </tbody>\n",
       "</table>\n",
       "</div>"
      ],
      "text/plain": [
       "                                       bits                   values  \\\n",
       "nodata                                    0  {'0': False, '1': True}   \n",
       "noncontiguous                             1  {'0': False, '1': True}   \n",
       "sea                                       2  {'0': False, '1': True}   \n",
       "terrain_or_low_angle                      3  {'0': False, '1': True}   \n",
       "high_slope                                4  {'0': False, '1': True}   \n",
       "cloud_shadow                              5  {'0': False, '1': True}   \n",
       "cloud                                     6  {'0': False, '1': True}   \n",
       "dry                   [7, 6, 5, 4, 3, 1, 0]              {'0': True}   \n",
       "wet                   [7, 6, 5, 4, 3, 1, 0]            {'128': True}   \n",
       "\n",
       "                                                            description  \n",
       "nodata                                                          No data  \n",
       "noncontiguous         At least one EO band is missing over over/unde...  \n",
       "sea                                                                 Sea  \n",
       "terrain_or_low_angle                  terrain shadow or low solar angle  \n",
       "high_slope                                                   High slope  \n",
       "cloud_shadow                                               Cloud shadow  \n",
       "cloud                                                            Cloudy  \n",
       "dry                                                   No water detected  \n",
       "wet                                                       Clear and Wet  "
      ]
     },
     "execution_count": 8,
     "metadata": {},
     "output_type": "execute_result"
    }
   ],
   "source": [
    "# Display details of available flags\n",
    "flags = masking.describe_variable_flags(wofls)\n",
    "flags[\"bits\"] = flags[\"bits\"].astype(str)\n",
    "flags.sort_values(by=\"bits\")"
   ]
  },
  {
   "cell_type": "markdown",
   "metadata": {},
   "source": [
    "## Load in Fractional Cover"
   ]
  },
  {
   "cell_type": "code",
   "execution_count": 9,
   "metadata": {},
   "outputs": [
    {
     "data": {
      "text/html": [
       "<pre>&lt;xarray.Dataset&gt;\n",
       "Dimensions:  (time: 87, x: 4000, y: 4000)\n",
       "Coordinates:\n",
       "  * time     (time) datetime64[ns] 2015-01-05T01:10:28.500000 ... 2015-12-31T01:11:48.500000\n",
       "  * y        (y) float64 -1.25e+06 -1.25e+06 -1.25e+06 ... -1.35e+06 -1.35e+06\n",
       "  * x        (x) float64 12.5 37.5 62.5 87.5 ... 9.994e+04 9.996e+04 9.999e+04\n",
       "Data variables:\n",
       "    BS       (time, y, x) int16 -1 -1 -1 -1 -1 -1 -1 -1 ... -1 -1 -1 -1 -1 -1 -1\n",
       "    PV       (time, y, x) int16 -1 -1 -1 -1 -1 -1 -1 -1 ... -1 -1 -1 -1 -1 -1 -1\n",
       "    NPV      (time, y, x) int16 -1 -1 -1 -1 -1 -1 -1 -1 ... -1 -1 -1 -1 -1 -1 -1\n",
       "    UE       (time, y, x) int16 -1 -1 -1 -1 -1 -1 -1 -1 ... -1 -1 -1 -1 -1 -1 -1\n",
       "Attributes:\n",
       "    crs:      EPSG:3577</pre>"
      ],
      "text/plain": [
       "<xarray.Dataset>\n",
       "Dimensions:  (time: 87, x: 4000, y: 4000)\n",
       "Coordinates:\n",
       "  * time     (time) datetime64[ns] 2015-01-05T01:10:28.500000 ... 2015-12-31T01:11:48.500000\n",
       "  * y        (y) float64 -1.25e+06 -1.25e+06 -1.25e+06 ... -1.35e+06 -1.35e+06\n",
       "  * x        (x) float64 12.5 37.5 62.5 87.5 ... 9.994e+04 9.996e+04 9.999e+04\n",
       "Data variables:\n",
       "    BS       (time, y, x) int16 -1 -1 -1 -1 -1 -1 -1 -1 ... -1 -1 -1 -1 -1 -1 -1\n",
       "    PV       (time, y, x) int16 -1 -1 -1 -1 -1 -1 -1 -1 ... -1 -1 -1 -1 -1 -1 -1\n",
       "    NPV      (time, y, x) int16 -1 -1 -1 -1 -1 -1 -1 -1 ... -1 -1 -1 -1 -1 -1 -1\n",
       "    UE       (time, y, x) int16 -1 -1 -1 -1 -1 -1 -1 -1 ... -1 -1 -1 -1 -1 -1 -1\n",
       "Attributes:\n",
       "    crs:      EPSG:3577"
      ]
     },
     "execution_count": 9,
     "metadata": {},
     "output_type": "execute_result"
    }
   ],
   "source": [
    "# Load a fractional cover (FC) tile to match the WOFLs data by using 'like'\n",
    "fc = dc.load(product=[\"ls5_fc_albers\",\"ls7_fc_albers\",\"ls8_fc_albers\"], group_by=\"solar_day\", like=wofls)\n",
    "fc"
   ]
  },
  {
   "cell_type": "code",
   "execution_count": 10,
   "metadata": {},
   "outputs": [
    {
     "data": {
      "image/png": "[encoded data removed]",
      "text/plain": [
       "<Figure size 576x432 with 2 Axes>"
      ]
     },
     "metadata": {
      "needs_background": "light"
     },
     "output_type": "display_data"
    }
   ],
   "source": [
    "# Visualise an example tile\n",
    "fc1 = fc.isel(time=7)\n",
    "fc1.PV.plot.imshow(cmap=\"gist_earth_r\", figsize=(8, 6))\n",
    "plt.show()"
   ]
  },
  {
   "cell_type": "markdown",
   "metadata": {},
   "source": [
    "## Gabrielle's struggle town"
   ]
  },
  {
   "cell_type": "code",
   "execution_count": 11,
   "metadata": {},
   "outputs": [
    {
     "data": {
      "text/html": [
       "<pre>&lt;xarray.Dataset&gt;\n",
       "Dimensions:  (time: 87, x: 4000, y: 4000)\n",
       "Coordinates:\n",
       "  * time     (time) datetime64[ns] 2015-01-05T01:10:28.500000 ... 2015-12-31T01:11:48.500000\n",
       "  * y        (y) float64 -1.25e+06 -1.25e+06 -1.25e+06 ... -1.35e+06 -1.35e+06\n",
       "  * x        (x) float64 12.5 37.5 62.5 87.5 ... 9.994e+04 9.996e+04 9.999e+04\n",
       "Data variables:\n",
       "    BS       (time, y, x) int16 -1 -1 -1 -1 -1 -1 -1 -1 ... -1 -1 -1 -1 -1 -1 -1\n",
       "    PV       (time, y, x) int16 -1 -1 -1 -1 -1 -1 -1 -1 ... -1 -1 -1 -1 -1 -1 -1\n",
       "    NPV      (time, y, x) int16 -1 -1 -1 -1 -1 -1 -1 -1 ... -1 -1 -1 -1 -1 -1 -1\n",
       "    UE       (time, y, x) int16 -1 -1 -1 -1 -1 -1 -1 -1 ... -1 -1 -1 -1 -1 -1 -1\n",
       "Attributes:\n",
       "    crs:      EPSG:3577</pre>"
      ],
      "text/plain": [
       "<xarray.Dataset>\n",
       "Dimensions:  (time: 87, x: 4000, y: 4000)\n",
       "Coordinates:\n",
       "  * time     (time) datetime64[ns] 2015-01-05T01:10:28.500000 ... 2015-12-31T01:11:48.500000\n",
       "  * y        (y) float64 -1.25e+06 -1.25e+06 -1.25e+06 ... -1.35e+06 -1.35e+06\n",
       "  * x        (x) float64 12.5 37.5 62.5 87.5 ... 9.994e+04 9.996e+04 9.999e+04\n",
       "Data variables:\n",
       "    BS       (time, y, x) int16 -1 -1 -1 -1 -1 -1 -1 -1 ... -1 -1 -1 -1 -1 -1 -1\n",
       "    PV       (time, y, x) int16 -1 -1 -1 -1 -1 -1 -1 -1 ... -1 -1 -1 -1 -1 -1 -1\n",
       "    NPV      (time, y, x) int16 -1 -1 -1 -1 -1 -1 -1 -1 ... -1 -1 -1 -1 -1 -1 -1\n",
       "    UE       (time, y, x) int16 -1 -1 -1 -1 -1 -1 -1 -1 ... -1 -1 -1 -1 -1 -1 -1\n",
       "Attributes:\n",
       "    crs:      EPSG:3577"
      ]
     },
     "execution_count": 11,
     "metadata": {},
     "output_type": "execute_result"
    }
   ],
   "source": [
    "# Check before merge\n",
    "fc"
   ]
  },
  {
   "cell_type": "code",
   "execution_count": 12,
   "metadata": {},
   "outputs": [
    {
     "data": {
      "text/html": [
       "<pre>&lt;xarray.Dataset&gt;\n",
       "Dimensions:  (time: 87, x: 4000, y: 4000)\n",
       "Coordinates:\n",
       "  * time     (time) datetime64[ns] 2015-01-05T01:10:28.500000 ... 2015-12-31T01:11:48.500000\n",
       "  * y        (y) float64 -1.25e+06 -1.25e+06 -1.25e+06 ... -1.35e+06 -1.35e+06\n",
       "  * x        (x) float64 12.5 37.5 62.5 87.5 ... 9.994e+04 9.996e+04 9.999e+04\n",
       "Data variables:\n",
       "    water    (time, y, x) int16 231 231 231 231 231 231 ... 32 32 32 32 32 32\n",
       "Attributes:\n",
       "    crs:      EPSG:3577</pre>"
      ],
      "text/plain": [
       "<xarray.Dataset>\n",
       "Dimensions:  (time: 87, x: 4000, y: 4000)\n",
       "Coordinates:\n",
       "  * time     (time) datetime64[ns] 2015-01-05T01:10:28.500000 ... 2015-12-31T01:11:48.500000\n",
       "  * y        (y) float64 -1.25e+06 -1.25e+06 -1.25e+06 ... -1.35e+06 -1.35e+06\n",
       "  * x        (x) float64 12.5 37.5 62.5 87.5 ... 9.994e+04 9.996e+04 9.999e+04\n",
       "Data variables:\n",
       "    water    (time, y, x) int16 231 231 231 231 231 231 ... 32 32 32 32 32 32\n",
       "Attributes:\n",
       "    crs:      EPSG:3577"
      ]
     },
     "execution_count": 12,
     "metadata": {},
     "output_type": "execute_result"
    }
   ],
   "source": [
    "# Check before merge\n",
    "wofls"
   ]
  },
  {
   "cell_type": "code",
   "execution_count": null,
   "metadata": {},
   "outputs": [],
   "source": [
    "# Merge the two datasets\n",
    "merged = xr.merge([fc,wofls])\n",
    "merged"
   ]
  },
  {
   "cell_type": "code",
   "execution_count": null,
   "metadata": {},
   "outputs": [],
   "source": [
    "# Select an individual time\n",
    "test = merged.isel(time=0)\n",
    "\n",
    "# Mask out where unclear pixels\n",
    "test_masked = test.where(test.water == 1,test)\n",
    "test_masked"
   ]
  },
  {
   "cell_type": "code",
   "execution_count": null,
   "metadata": {},
   "outputs": [],
   "source": [
    "# Visualise the mask\n",
    "plt.imshow(test.water.data==4) # 4 should be the ocean and yet it does not show up"
   ]
  },
  {
   "cell_type": "code",
   "execution_count": null,
   "metadata": {},
   "outputs": [],
   "source": [
    "# Visualise the tile after masking\n",
    "masked = test.PV.data.astype(np.float32)\n",
    "masked[test.water.data == 1] = np.nan # no data\n",
    "masked[test.water.data == 2] = np.nan # non-contiguous\n",
    "masked[test.water.data == 4] = np.nan # sea\n",
    "masked[test.water.data == 8] = np.nan # terrain or low slope\n",
    "masked[test.water.data == 16] = np.nan # high slope\n",
    "masked[test.water.data == 32] = np.nan # cloud shadow\n",
    "masked[test.water.data == 64] = np.nan # cloud\n",
    "masked[test.water.data == 128] = np.nan # cloud\n",
    "plt.imshow(masked)"
   ]
  },
  {
   "cell_type": "markdown",
   "metadata": {},
   "source": [
    "## Apply masking to merged dataset"
   ]
  },
  {
   "cell_type": "code",
   "execution_count": null,
   "metadata": {},
   "outputs": [],
   "source": [
    "# Make a merged dataset of fc and wofls\n",
    "merged = xr.merge([fc,wofls],join='inner')\n",
    "\n",
    "# Create a new band/data variable\n",
    "merged['PV_filt'] = merged.PV.astype(np.float32)\n",
    "merged['NPV_filt'] = merged.PV.astype(np.float32)\n",
    "merged['BS_filt'] = merged.PV.astype(np.float32)\n",
    "\n",
    "# Set new band to be nan based on water band\n",
    "merged.PV_filt.data[merged.water.data != 0] = np.nan # no data (1,2,4,8,16,32,64,128)\n",
    "merged.NPV_filt.data[merged.water.data != 0] = np.nan # no data\n",
    "merged.BS_filt.data[merged.water.data != 0] = np.nan # no data\n",
    "\n",
    "# Set FC < 0 (no data) to nan\n",
    "merged.PV_filt.data[merged.PV_filt.data <0] = np.nan # no data\n",
    "merged.NPV_filt.data[merged.NPV_filt.data <0] = np.nan # no data\n",
    "merged.BS_filt.data[merged.BS_filt.data <0] = np.nan # no data\n",
    "\n",
    "# merged.PV_filt.data[merged.wNPV_filtater.data == 2] = np.nan # non-contiguous\n",
    "# merged.PV_filt.data[merged.water.data == 4] = np.nan # sea\n",
    "# merged.PV_filt.data[merged.water.data == 8] = np.nan # terrain or low slope\n",
    "# merged.PV_filt.data[merged.water.data == 16] = np.nan # high slope\n",
    "# merged.PV_filt.data[merged.water.data == 32] = np.nan # cloud shadow\n",
    "# merged.PV_filt.data[merged.water.data == 64] = np.nan # cloud\n",
    "# merged.PV_filt.data[merged.water.data == 128] = np.nan # cloud\n",
    "\n",
    "merged.NPV_filt[:,::100,::100].plot(col='time',col_wrap=10)"
   ]
  },
  {
   "cell_type": "code",
   "execution_count": null,
   "metadata": {},
   "outputs": [],
   "source": [
    "# See than new bands masked are avaliable\n",
    "merged"
   ]
  },
  {
   "cell_type": "code",
   "execution_count": null,
   "metadata": {},
   "outputs": [],
   "source": [
    "# Calculate the annual median\n",
    "median = merged.median(dim='time')\n",
    "median"
   ]
  },
  {
   "cell_type": "code",
   "execution_count": null,
   "metadata": {},
   "outputs": [],
   "source": [
    "# Visualise the mask\n",
    "plt.imshow(median.PV_filt)"
   ]
  },
  {
   "cell_type": "markdown",
   "metadata": {},
   "source": [
    "### Export out tif"
   ]
  },
  {
   "cell_type": "code",
   "execution_count": null,
   "metadata": {},
   "outputs": [],
   "source": [
    "median.PV_filt"
   ]
  },
  {
   "cell_type": "code",
   "execution_count": null,
   "metadata": {},
   "outputs": [],
   "source": [
    "# Turn PV into a Xarray Dataset for export to GeoTIFF\n",
    "median_PV_ds = median.PV_filt.to_dataset(name='median_PV_ds')\n",
    "write_geotiff(f'{location}_{year}_median_PV.tif', median_PV_ds)\n",
    "\n",
    "# Turn PV into a Xarray Dataset for export to GeoTIFF\n",
    "median_NPV_ds = median.PV_filt.to_dataset(name='median_NPV_ds')\n",
    "write_geotiff(f'{location}_{year}_median_NPV.tif', median_NPV_ds)"
   ]
  },
  {
   "cell_type": "markdown",
   "metadata": {},
   "source": [
    "## Garbage"
   ]
  },
  {
   "cell_type": "code",
   "execution_count": null,
   "metadata": {},
   "outputs": [],
   "source": [
    "print(break this)"
   ]
  },
  {
   "cell_type": "markdown",
   "metadata": {},
   "source": [
    "### Attempt to apply function"
   ]
  },
  {
   "cell_type": "code",
   "execution_count": null,
   "metadata": {},
   "outputs": [],
   "source": [
    "# Define function to mask images\n",
    "def wofs_mask(image):\n",
    "    masked = image.PV.data.astype(np.float32)\n",
    "    masked[test.water.data == 1] = np.nan # no data\n",
    "    masked[test.water.data == 2] = np.nan # non-contiguous\n",
    "    masked[test.water.data == 4] = np.nan # sea\n",
    "    masked[test.water.data == 8] = np.nan # terrain or low slope\n",
    "    masked[test.water.data == 16] = np.nan # high slope\n",
    "    masked[test.water.data == 32] = np.nan # cloud shadow\n",
    "    masked[test.water.data == 64] = np.nan # cloud\n",
    "    masked[test.water.data == 128] = np.nan # cloud\n",
    "    return masked"
   ]
  },
  {
   "cell_type": "code",
   "execution_count": null,
   "metadata": {},
   "outputs": [],
   "source": [
    "# Apply mask to test\n",
    "plt.imshow(wofs_mask(test))"
   ]
  },
  {
   "cell_type": "code",
   "execution_count": null,
   "metadata": {},
   "outputs": [],
   "source": [
    "times = list(range(0,61))\n",
    "ds = xr.Dataset()\n",
    "\n",
    "for i in times:\n",
    "    masked = wofs_mask(merged.isel(time=i))\n",
    "    xarray = xr.DataArray(masked,dims=('x', 'y')).expand_dims('time')\n",
    "    ds['masked'+str(i)] = xarray"
   ]
  },
  {
   "cell_type": "code",
   "execution_count": null,
   "metadata": {},
   "outputs": [],
   "source": [
    "ds"
   ]
  },
  {
   "cell_type": "markdown",
   "metadata": {},
   "source": [
    "### Other"
   ]
  },
  {
   "cell_type": "code",
   "execution_count": null,
   "metadata": {},
   "outputs": [],
   "source": [
    "masked = wofs_mask(merged.isel(time=7))\n",
    "xarray = xr.DataArray(masked,dims=('x', 'y')).expand_dims('time')\n",
    "ds['masked'+str(i)] = xarray\n",
    "ds"
   ]
  },
  {
   "cell_type": "code",
   "execution_count": null,
   "metadata": {},
   "outputs": [],
   "source": [
    "a=[]\n",
    "for i in range(5):    \n",
    "    a.append(i)\n",
    "a # the list with the new items."
   ]
  },
  {
   "cell_type": "markdown",
   "metadata": {},
   "source": [
    "### Mask water from FC with WOfS\n",
    "\n",
    "Using the mask created above we can mask water from the FC image"
   ]
  },
  {
   "cell_type": "code",
   "execution_count": null,
   "metadata": {},
   "outputs": [],
   "source": [
    "# masked = fc1.where(wetwofl.water == False)\n",
    "# masked.PV.plot()\n",
    "# plt.show()"
   ]
  },
  {
   "cell_type": "markdown",
   "metadata": {},
   "source": [
    "### Mask more things!\n",
    "\n",
    "Flags can be combined. \n",
    "When chaining flags together, they will be combined in a logical AND fashion. "
   ]
  },
  {
   "cell_type": "code",
   "execution_count": null,
   "metadata": {},
   "outputs": [],
   "source": [
    "# # Removing clouds and their shadows\n",
    "# clear = {\"cloud_shadow\": False, \"cloud\": False}\n",
    "\n",
    "# cloudfree = masking.make_mask(wofl, **clear)\n",
    "# cloudfree_fc = fc1.where(cloudfree.water == True)\n",
    "# cloudfree_fc.PV.plot()\n",
    "# plt.show()"
   ]
  },
  {
   "cell_type": "markdown",
   "metadata": {},
   "source": [
    "Or, to look at only the clear areas which are good quality data and not wet, we can use the 'dry' flag.\n"
   ]
  },
  {
   "cell_type": "code",
   "execution_count": null,
   "metadata": {},
   "outputs": [],
   "source": [
    "# # FC where it's clear and dry\n",
    "# good_data_mask = masking.make_mask(wofl, dry=True)\n",
    "# good_fc = fc1.where(good_data_mask.water == True)\n",
    "# good_fc.PV.plot()\n",
    "# plt.show()"
   ]
  }
 ],
 "metadata": {
  "kernelspec": {
   "display_name": "Python 3",
   "language": "python",
   "name": "python3"
  },
  "language_info": {
   "codemirror_mode": {
    "name": "ipython",
    "version": 3
   },
   "file_extension": ".py",
   "mimetype": "text/x-python",
   "name": "python",
   "nbconvert_exporter": "python",
   "pygments_lexer": "ipython3",
   "version": "3.6.9"
  }
 },
 "nbformat": 4,
 "nbformat_minor": 4
}
