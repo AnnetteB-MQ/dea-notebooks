{
 "cells": [
  {
   "cell_type": "markdown",
   "metadata": {},
   "source": [
    "# Burn scar mapping on Sentinel 2 Near Real Time data"
   ]
  },
  {
   "cell_type": "markdown",
   "metadata": {},
   "source": [
    "* __Compatability:__ Notebook currently only compatible with DEA Sandbox environment as near real time data is not avaible on the NCI\n",
    "* **Products used:** \n",
    "[s2a_nrt_granule](https://explorer.sandbox.dea.ga.gov.au/s2a_nrt_granule), \n",
    "[s2b_nrt_granule](https://explorer.sandbox.dea.ga.gov.au/s2b_nrt_granule),\n",
    "[s2a_ard_granule](https://explorer.sandbox.dea.ga.gov.au/s2a_ard_granule), \n",
    "[s2b_ard_granule](https://explorer.sandbox.dea.ga.gov.au/s2b_ard_granule),"
   ]
  },
  {
   "cell_type": "markdown",
   "metadata": {},
   "source": [
    "## Description\n",
    "\n",
    "This notebook calculates the change in Normalized Burn Ratio between a baseline composite image of the pre-fire condition of a selected area and a post-fire event image, in order to find burn scar extent. \n",
    " \n",
    "The user can change the location over which this notebook is run and specify a different date between which pre and post fire condition will be compared. The length of time over which the baseline composite image will be generated can be specified as 3, 6 or 12 months. The code in this notebook will automatically generate the composite image over the set length of time using both Sentinel 2 Near Real Time data and the definitive Sentinel 2 Analysis Ready Product.\n",
    "\n",
    "__This notebook has been designed for mapping fire extent in recent fires, and so assumes that NRT products will need to be used. If the area fire of interest is historical, users should select the definitive Sentinel 2 Analysis Ready Product instead.__\n",
    "\n",
    "### The notebook contains the following steps:\n",
    "1.  Load Packages\n",
    "2.  Select location\n",
    "3.  Define fire event date and length of composite image\n",
    "4.  Load all baseline data\n",
    "5.  Generate Normalized Burn Ratio for baseline period\n",
    "6.  Load post-fire data from Near Real Time data\n",
    "7.  Generate Normalized Burn Ratio for post fire image\n",
    "8.  Caculate Delta Normalized Burn Ratio\n",
    "9.  Apply threshold to Delta Normalized Burn Ratio\n",
    "10. Calculate the area burnt\n",
    "11. Save results as Geotiff\n"
   ]
  },
  {
   "cell_type": "markdown",
   "metadata": {},
   "source": [
    "## Background\n",
    "\n",
    "### Normalized Burn Ratio\n",
    "\n",
    "The Normalized Burn Ratio (NBR) is an index that uses the differences in the way health green vegetation and burned vegetation reflect light to find burned area. It is calculated using the following Sentinel 2 bands; Near Infrared/Band 8 and Shortwave Infrared/Band 12. The equation is defined below: \n",
    "\n",
    "\\begin{equation}\n",
    "NBR = \\frac{(NIR - SWIR)}{(NIR + SWIR)}\n",
    "\\end{equation}\n",
    "\n",
    "NBR returns values between -1 and 1. __Healthy green vegetation will have a high NBR value while burned vegetation will have a low value__. Areas of dry brown vegetation or bare soil will also return lower NBR values than green vegetation. \n",
    "\n",
    "### Delta Normalized Burn Ratio\n",
    "\n",
    "Change in Normalized Burn Ration, also called Delta Normalized Burn Ration (dNBR) is calculated by subtracting the post fire NBR value from the baseline NBR value as defined in this equation:\n",
    "\n",
    "\\begin{equation}\n",
    "dNBR = NBR_{baseline} - NBR_{post fire}\n",
    "\\end{equation}\n",
    "\n",
    "The dNBR value can be more useful than the NBR alone to determine what has burned as it shows change from the baseline sate. __A burned area will have a positive dNBR value__ while an unburned area will have a negative dNBR value or a value close to zero.\n",
    "\n",
    "dNBR can also be used to describe burn severity (although this notebook does not look at burn severity) the principal of this is that a higher severity fire will burn more vegetation, resulting in a higher dNBR. More information on NBR, dNBR and using it to measure burn severity can be found [on the UN-SPIDER knowledge portal](http://un-spider.org/advisory-support/recommended-practices/recommended-practice-burn-severity/in-detail/normalized-burn-ratio).\n",
    "\n",
    "### Defining Burned From Unburned Areas\n",
    "\n",
    "[Rahman et al. 2018](https://doi.org/10.1109/IGARSS.2018.8518449) found a dNBR threshold value of +0.1 appropriate for differentiating burned from un burned areas when using Sentinel 2. However, some exploration with different threshold levels may be needed to get a good result in areas with different vegetation types. \n",
    "\n",
    "In the example presented in this notebook, which covers part of the Clyde Mountain fire in the area north of Batemans Bay the fire occurred in heavily forested area, which returns a very strong dNBR result. Using +0.1 as a threshold here results in a lot of false positives being picked un in the unburned urban and forest areas where vegetation drying has occurred prior to the fire. A much more conservative threshold here of +0.3 produces a better result. Keep in mind the limitations of remote sensing and that in an ideal situation ground truth data collected in the location of interest would be used to assist in selecting a threshold.\n",
    "\n",
    "Some care should also be taken when interoperating results as a number of possible false positives can return a positive dNBR result:\n",
    "* A lot of smoke in the post burn image can interfere with the dNBR value\n",
    "* Areas that have been cleared of vegetation by some other means (logging, harvesting, and landslides) towards the end of the baseline period may incorrectly show up as burned\n",
    "* Drying out bright green vegetation such as grasses. If a fire event has been preceded by a rapid drying out of vegetation this can result in a low positive dNBR value in areas that have not burned.\n"
   ]
  },
  {
   "cell_type": "markdown",
   "metadata": {},
   "source": [
    "## Load packages\n",
    "Import Python packages that are used for the analysis."
   ]
  },
  {
   "cell_type": "code",
   "execution_count": 2,
   "metadata": {},
   "outputs": [],
   "source": [
    "import sys\n",
    "import datacube\n",
    "from datacube.helpers import write_geotiff\n",
    "from datetime import datetime\n",
    "from datetime import timedelta\n",
    "import pandas as pd\n",
    "import xarray as xr\n",
    "import numpy as np\n",
    "import matplotlib.pyplot as plt\n",
    "\n",
    "sys.path.append(\"../Scripts\")\n",
    "from dea_datahandling import load_ard\n",
    "from dea_plotting import rgb\n",
    "from dea_plotting import display_map\n",
    "import dea_bandindices"
   ]
  },
  {
   "cell_type": "code",
   "execution_count": 3,
   "metadata": {},
   "outputs": [],
   "source": [
    "dc = datacube.Datacube(app=\"Sentinel_2_burn_ratio\")"
   ]
  },
  {
   "cell_type": "markdown",
   "metadata": {},
   "source": [
    "## Select Location\n",
    "\n",
    "The selected latitude and longitude will be displayed as a red box on the map below the next cell. This map can be used to find coordinates of other places, simply scroll and click on any point on the map to display the latitude and longitude of that location."
   ]
  },
  {
   "cell_type": "code",
   "execution_count": 4,
   "metadata": {},
   "outputs": [
    {
     "name": "stderr",
     "output_type": "stream",
     "text": [
      "/usr/local/lib/python3.6/dist-packages/pyproj/crs.py:77: FutureWarning: '+init=<authority>:<code>' syntax is deprecated. '<authority>:<code>' is the preferred initialization method.\n",
      "  return _prepare_from_string(\" \".join(pjargs))\n",
      "/usr/local/lib/python3.6/dist-packages/pyproj/crs.py:77: FutureWarning: '+init=<authority>:<code>' syntax is deprecated. '<authority>:<code>' is the preferred initialization method.\n",
      "  return _prepare_from_string(\" \".join(pjargs))\n"
     ]
    },
    {
     "data": {
      "text/html": [
       "<div style=\"width:100%;\"><div style=\"position:relative;width:100%;height:0;padding-bottom:60%;\"><iframe src=\"data:text/html;charset=utf-8;base64,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\" style=\"position:absolute;width:100%;height:100%;left:0;top:0;border:none !important;\" allowfullscreen webkitallowfullscreen mozallowfullscreen></iframe></div></div>"
      ],
      "text/plain": [
       "<folium.folium.Map at 0x7f420912f588>"
      ]
     },
     "execution_count": 4,
     "metadata": {},
     "output_type": "execute_result"
    }
   ],
   "source": [
    "# Set the central latitude and longitude\n",
    "central_lat = -35.653031\n",
    "central_lon = 150.231667\n",
    "\n",
    "# Set the buffer to load around the central coordinates\n",
    "buffer = 0.1\n",
    "\n",
    "# Compute the bounding box for the study area\n",
    "study_area_lat = (central_lat - buffer, central_lat + buffer)\n",
    "study_area_lon = (central_lon - buffer, central_lon + buffer)\n",
    "\n",
    "display_map(x=study_area_lon, y=study_area_lat, margin=-0.2)"
   ]
  },
  {
   "cell_type": "markdown",
   "metadata": {},
   "source": [
    "## Define fire event date and length of composite image\n",
    "\n",
    "Delta Normalized Burn Ratio produces the best result when using a post-fire image that was collected before much re-growth has occured. However images collected while the fire is still active can be obsured by smoke and not show the full burn extent. As a result some adjustment of the fire event date entered may be needed to get the best restult."
   ]
  },
  {
   "cell_type": "code",
   "execution_count": 5,
   "metadata": {},
   "outputs": [],
   "source": [
    "# Fire event date\n",
    "fire_date = '2020-01-05'\n",
    "\n",
    "# Length of Baseline Period\n",
    "baseline_length = '3 months' # Can be 3, 6 or 12 months\n"
   ]
  },
  {
   "cell_type": "markdown",
   "metadata": {},
   "source": [
    "#### Automaticaly define date range for baseline composite image"
   ]
  },
  {
   "cell_type": "code",
   "execution_count": 6,
   "metadata": {},
   "outputs": [],
   "source": [
    "# Define dates for loading data\n",
    "if baseline_length == '12 months':\n",
    "    time_step = timedelta(days=365)\n",
    "if baseline_length == '6 months':\n",
    "    time_step = timedelta(days=182.5)\n",
    "if baseline_length == '3 months':\n",
    "    time_step = timedelta(days=91)\n",
    "\n",
    "# Calculate the start and end date for baseline data load\n",
    "start_date_pre = datetime.strftime(((datetime.strptime(fire_date, '%Y-%m-%d'))-time_step), '%Y-%m-%d')\n",
    "end_date_pre = datetime.strftime(((datetime.strptime(fire_date, '%Y-%m-%d'))-timedelta(days=1)), '%Y-%m-%d')\n",
    "\n",
    "# Calculate end date for post fire data load\n",
    "start_date_post = datetime.strftime(((datetime.strptime(fire_date, '%Y-%m-%d'))+timedelta(days=1)), '%Y-%m-%d')\n",
    "end_date_post = datetime.strftime(((datetime.strptime(fire_date, '%Y-%m-%d'))+timedelta(days=30)), '%Y-%m-%d')"
   ]
  },
  {
   "cell_type": "code",
   "execution_count": 7,
   "metadata": {},
   "outputs": [
    {
     "name": "stdout",
     "output_type": "stream",
     "text": [
      "start_date_pre:  2019-10-06\n",
      "end_date_pre:    2020-01-04\n",
      "fire_date:       2020-01-05\n",
      "start_date_post: 2020-01-06\n",
      "end_date_post:   2020-02-04\n"
     ]
    }
   ],
   "source": [
    "# Print dates\n",
    "print('start_date_pre:  '+start_date_pre)\n",
    "print('end_date_pre:    '+end_date_pre) # if end date is exclusive, just use fire_date\n",
    "print('fire_date:       '+fire_date)\n",
    "print('start_date_post: '+start_date_post)\n",
    "print('end_date_post:   '+end_date_post)\n"
   ]
  },
  {
   "cell_type": "markdown",
   "metadata": {},
   "source": [
    "## Load all baseline data"
   ]
  },
  {
   "cell_type": "markdown",
   "metadata": {},
   "source": [
    "#### Load all avaliable ARD baseline data"
   ]
  },
  {
   "cell_type": "code",
   "execution_count": 8,
   "metadata": {},
   "outputs": [
    {
     "name": "stdout",
     "output_type": "stream",
     "text": [
      "Loading s2a_ard_granule data\n",
      "    Filtering to 4 out of 6 observations\n",
      "    Applying pixel quality/cloud mask\n",
      "    Applying invalid data mask\n",
      "    Applying contiguity mask\n",
      "Loading s2b_ard_granule data\n",
      "    Filtering to 1 out of 3 observations\n",
      "    Applying pixel quality/cloud mask\n",
      "    Applying invalid data mask\n",
      "    Applying contiguity mask\n",
      "Combining and sorting data\n",
      "    Returning 5 observations \n"
     ]
    },
    {
     "data": {
      "text/html": [
       "<pre>&lt;xarray.Dataset&gt;\n",
       "Dimensions:       (time: 5, x: 2108, y: 2457)\n",
       "Coordinates:\n",
       "  * y             (y) float64 -4e+06 -4e+06 -4e+06 ... -4.024e+06 -4.024e+06\n",
       "  * x             (x) float64 1.633e+06 1.633e+06 ... 1.654e+06 1.654e+06\n",
       "  * time          (time) datetime64[ns] 2019-10-17T00:02:39.024000 ... 2019-12-01T00:02:41.024000\n",
       "Data variables:\n",
       "    nbart_blue    (time, y, x) float32 188.0 129.0 176.0 213.0 ... nan nan nan\n",
       "    nbart_green   (time, y, x) float32 253.0 172.0 215.0 294.0 ... nan nan nan\n",
       "    nbart_red     (time, y, x) float32 192.0 123.0 178.0 234.0 ... nan nan nan\n",
       "    nbart_nir_1   (time, y, x) float32 2168.0 1716.0 2058.0 ... nan nan nan\n",
       "    nbart_swir_3  (time, y, x) float32 398.0 355.0 355.0 423.0 ... nan nan nan\n",
       "Attributes:\n",
       "    crs:      EPSG:3577</pre>"
      ],
      "text/plain": [
       "<xarray.Dataset>\n",
       "Dimensions:       (time: 5, x: 2108, y: 2457)\n",
       "Coordinates:\n",
       "  * y             (y) float64 -4e+06 -4e+06 -4e+06 ... -4.024e+06 -4.024e+06\n",
       "  * x             (x) float64 1.633e+06 1.633e+06 ... 1.654e+06 1.654e+06\n",
       "  * time          (time) datetime64[ns] 2019-10-17T00:02:39.024000 ... 2019-12-01T00:02:41.024000\n",
       "Data variables:\n",
       "    nbart_blue    (time, y, x) float32 188.0 129.0 176.0 213.0 ... nan nan nan\n",
       "    nbart_green   (time, y, x) float32 253.0 172.0 215.0 294.0 ... nan nan nan\n",
       "    nbart_red     (time, y, x) float32 192.0 123.0 178.0 234.0 ... nan nan nan\n",
       "    nbart_nir_1   (time, y, x) float32 2168.0 1716.0 2058.0 ... nan nan nan\n",
       "    nbart_swir_3  (time, y, x) float32 398.0 355.0 355.0 423.0 ... nan nan nan\n",
       "Attributes:\n",
       "    crs:      EPSG:3577"
      ]
     },
     "execution_count": 8,
     "metadata": {},
     "output_type": "execute_result"
    }
   ],
   "source": [
    "resolution=(-10, 10)\n",
    "\n",
    "# Load all data in basline period avalible from ARD data\n",
    "ard_baseline_da = load_ard(dc=dc,\n",
    "              products=['s2a_ard_granule', 