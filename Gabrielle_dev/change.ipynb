{
 "cells": [
  {
   "cell_type": "markdown",
   "metadata": {},
   "source": [
    "# LCCS Level 4 Change Test Notebook\n",
    "\n",
    "A notebook to take the level 4 classification data for Australia in GeoTiff format and generate change results."
   ]
  },
  {
   "cell_type": "code",
   "execution_count": 1,
   "metadata": {},
   "outputs": [],
   "source": [
    "import argparse\n",
    "import logging\n",
    "import os\n",
    "import sys\n",
    "import yaml\n",
    "\n",
    "import numpy\n",
    "import xarray\n",
    "from matplotlib import pyplot\n",
    "\n",
    "# Import le_lccs modules\n",
    "from le_lccs import le_ingest\n",
    "from le_lccs import le_export\n",
    "\n",
    "from le_lccs.le_classification import lccs_l3\n",
    "from le_lccs.le_classification import lccs_l4\n",
    "from le_lccs.le_classification import simple_change"
   ]
  },
  {
   "cell_type": "code",
   "execution_count": 2,
   "metadata": {},
   "outputs": [],
   "source": [
    "yaml_sites_file = os.path.abspath(\"../cultivated_ml/au_test_sites.yaml\")\n",
    "\n",
    "with open(yaml_sites_file, \"r\") as f:\n",
    "    site_config = yaml.safe_load(f)\n",
    "\n",
    "site_name = \"Kakadu\"\n",
    "\n",
    "extent = [site_config[site_name][\"min_x\"],\n",
    "          site_config[site_name][\"min_y\"],\n",
    "          site_config[site_name][\"max_x\"],\n",
    "          site_config[site_name][\"max_y\"]]"
   ]
  },
  {
   "cell_type": "code",
   "execution_count": 3,
   "metadata": {},
   "outputs": [],
   "source": [
    "# Set up dictionary to define size parameters\n",
    "target_size = {}\n",
    "\n",
    "target_size[\"target_min_x\"] = extent[0]\n",
    "target_size[\"target_max_x\"] = extent[2]\n",
    "target_size[\"target_min_y\"] = extent[1]\n",
    "target_size[\"target_max_y\"] = extent[3]\n",
    "\n",
    "target_size[\"target_pixel_size_x\"] = 25\n",
    "target_size[\"target_pixel_size_y\"] = -25\n",
    "\n",
    "target_size[\"target_crs\"] = \"EPSG:3577\""
   ]
  },
  {
   "cell_type": "markdown",
   "metadata": {},
   "source": [
    "## Data Input"
   ]
  },
  {
   "cell_type": "code",
   "execution_count": 4,
   "metadata": {},
   "outputs": [],
   "source": [
    "# Set up dictionary with importers for each input layer\n",
    "\n",
    "level4_tiff_2010 = \"/Users/richard/Dropbox (EOED)/Data_Projects/DEA_LandCoverMonitoring/Change/lccs_2010_L4_beta-1.0.2.tif\"\n",
    "level4_tiff_2015 = \"/Users/richard/Dropbox (EOED)/Data_Projects/DEA_LandCoverMonitoring/Change/Inputs/lccs_2015_L4_beta-1.0.2.tif\"\n",
    "\n",
    "level4_bands = [\"level3\", \"lifeform_veg_cat_l4a\", \"canopyco_veg_cat_l4d\", \"watersea_veg_cat_l4a\",\n",
    "                \"waterstt_wat_cat_l4a\", \"waterper_wat_cat_l4d\", \"inttidal_wat_cat_l4a\"]\n",
    "\n",
    "# Add in all the level4 layers to ingest\n",
    "input_layers_2010 = {}\n",
    "input_layers_2015 = {}\n",
    "\n",
    "for band, layer_name in enumerate(level4_bands):\n",
    "    input_layers_2010[layer_name] = {}\n",
    "    input_layers_2015[layer_name] = {}\n",
    "    \n",
    "    input_layers_2010[layer_name][\"ingest_class\"] = \"gridded_ingest.LEIngestGDAL\"\n",
    "    input_layers_2010[layer_name][\"input_file\"] = level4_tiff_2010\n",
    "    input_layers_2010[layer_name][\"resampling\"] = \"mode\"\n",
    "    input_layers_2010[layer_name][\"band\"] = band + 1\n",
    "\n",
    "    input_layers_2015[layer_name][\"ingest_class\"] = \"gridded_ingest.LEIngestGDAL\"\n",
    "    input_layers_2015[layer_name][\"input_file\"] = level4_tiff_2015\n",
    "    input_layers_2015[layer_name][\"resampling\"] = \"mode\"\n",
    "    input_layers_2015[layer_name][\"band\"] = band + 1"
   ]
  },
  {
   "cell_type": "markdown",
   "metadata": {},
   "source": [
    "## Additional layers\n",
    "Add in additional layers below as needed. For example:\n",
    "    \n",
    "    input_layers_2010[\"cci_biomass\"] = {}\n",
    "    input_layers_2010[\"cci_biomass\"][\"ingest_class\"] = \"gridded_ingest.LEIngestGDAL\"\n",
    "    input_layers_2010[\"cci_biomass\"][\"input_file\"] = \"/path/to/file.tif\"\n",
    "    input_layers_2010[\"cci_biomass\"][\"resampling\"] = \"nearest\"\n",
    "    "
   ]
  },
  {
   "cell_type": "code",
   "execution_count": 5,
   "metadata": {},
   "outputs": [],
   "source": [
    "#input_layers_2010[\"cci_biomass\"] = {}\n",
    "#input_layers_2010[\"cci_biomass\"][\"ingest_class\"] = \"gridded_ingest.LEIngestGDAL\"\n",
    "#input_layers_2010[\"cci_biomass\"][\"input_file\"] = \"/Users/richard/Dropbox (EOED)/Data_Projects/DEA_LandCoverMonitoring/Change/Gunbower_Change/AGB_2010.tif\"\n",
    "#input_layers_2010[\"cci_biomass\"][\"resampling\"] = \"nearest\"\n",
    "\n",
    "#input_layers_2015[\"cci_biomass\"] = {}\n",
    "#input_layers_2015[\"cci_biomass\"][\"ingest_class\"] = \"gridded_ingest.LEIngestGDAL\"\n",
    "#input_layers_2015[\"cci_biomass\"][\"input_file\"] = \"/Users/richard/Dropbox (EOED)/Data_Projects/DEA_LandCoverMonitoring/Change/Gunbower_Change/AGB_2017.tif\"\n",
    "#input_layers_2015[\"cci_biomass\"][\"resampling\"] = \"nearest\"\n",
    "\n",
    "input_layers_2010[\"woodyfractn\"] = {}\n",
    "input_layers_2010[\"woodyfractn\"][\"ingest_class\"] = \"gridded_ingest.LEIngestGDAL\"\n",
    "input_layers_2010[\"woodyfractn\"][\"input_file\"] = \"/Users/richard/Dropbox (EOED)/Data_Projects/DEA_LandCoverMonitoring/Change/Kakadu_Change/Kakadu_wcf_2010.tif\"\n",
    "input_layers_2010[\"woodyfractn\"][\"resampling\"] = \"nearest\"\n",
    "\n",
    "input_layers_2015[\"woodyfractn\"] = {}\n",
    "input_layers_2015[\"woodyfractn\"][\"ingest_class\"] = \"gridded_ingest.LEIngestGDAL\"\n",
    "input_layers_2015[\"woodyfractn\"][\"input_file\"] = \"/Users/richard/Dropbox (EOED)/Data_Projects/DEA_LandCoverMonitoring/Change/Kakadu_Change/Kakadu_wcf_2015.tif\"\n",
    "input_layers_2015[\"woodyfractn\"][\"resampling\"] = \"nearest\"\n",
    "\n",
    "input_layers_2010[\"burnedareas\"] = {}\n",
    "input_layers_2010[\"burnedareas\"][\"ingest_class\"] = \"gridded_ingest.LEIngestGDAL\"\n",
    "input_layers_2010[\"burnedareas\"][\"input_file\"] = \"/Users/richard/Dropbox (EOED)/Data_Projects/DEA_LandCoverMonitoring/Change/Kakadu_Change/Kakadu_nbr_2010.tif\"\n",
    "input_layers_2010[\"burnedareas\"][\"resampling\"] = \"nearest\"\n",
    "\n",
    "input_layers_2015[\"burnedareas\"] = {}\n",
    "input_layers_2015[\"burnedareas\"][\"ingest_class\"] = \"gridded_ingest.LEIngestGDAL\"\n",
    "input_layers_2015[\"burnedareas\"][\"input_file\"] = \"/Users/richard/Dropbox (EOED)/Data_Projects/DEA_LandCoverMonitoring/Change/Kakadu_Change/Kakadu_nbr_2015.tif\"\n",
    "input_layers_2015[\"burnedareas\"][\"resampling\"] = \"nearest\"\n",
    "\n",
    "input_layers_2010[\"waterpersis\"] = {}\n",
    "input_layers_2010[\"waterpersis\"][\"ingest_class\"] = \"gridded_ingest.LEIngestGDAL\"\n",
    "input_layers_2010[\"waterpersis\"][\"input_file\"] = \"/Users/richard/Dropbox (EOED)/Data_Projects/DEA_LandCoverMonitoring/Change/Kakadu_Change/Kakadu_wofs_2010.tif\"\n",
    "input_layers_2010[\"waterpersis\"][\"resampling\"] = \"nearest\"\n",
    "\n",
    "input_layers_2015[\"waterpersis\"] = {}\n",
    "input_layers_2015[\"waterpersis\"][\"ingest_class\"] = \"gridded_ingest.LEIngestGDAL\"\n",
    "input_layers_2015[\"waterpersis\"][\"input_file\"] = \"/Users/richard/Dropbox (EOED)/Data_Projects/DEA_LandCoverMonitoring/Change/Kakadu_Change/Kakadu_wofs_2015.tif\"\n",
    "input_layers_2015[\"waterpersis\"][\"resampling\"] = \"nearest\""
   ]
  },
  {
   "cell_type": "code",
   "execution_count": 6,
   "metadata": {},
   "outputs": [
    {
     "name": "stdout",
     "output_type": "stream",
     "text": [
      "Loading 2010 Data\n",
      "Loading: level3\n",
      "Loading: lifeform_veg_cat_l4a\n",
      "Loading: canopyco_veg_cat_l4d\n",
      "Loading: watersea_veg_cat_l4a\n",
      "Loading: waterstt_wat_cat_l4a\n",
      "Loading: waterper_wat_cat_l4d\n",
      "Loading: inttidal_wat_cat_l4a\n",
      "Loading: woodyfractn\n",
      "Loading: burnedareas\n",
      "Loading: waterpersis\n",
      "Loading 2015 Data\n",
      "Loading: level3\n",
      "Loading: lifeform_veg_cat_l4a\n",
      "Loading: canopyco_veg_cat_l4d\n",
      "Loading: watersea_veg_cat_l4a\n",
      "Loading: waterstt_wat_cat_l4a\n",
      "Loading: waterper_wat_cat_l4d\n",
      "Loading: inttidal_wat_cat_l4a\n",
      "Loading: woodyfractn\n",
      "Loading: burnedareas\n",
      "Loading: waterpersis\n"
     ]
    }
   ],
   "source": [
    "# Read each into xarray and save to list\n",
    "logging.info(\"Reading in data for 2010\")\n",
    "variables_xarray_list_2010 = []\n",
    "\n",
    "print(\"Loading 2010 Data\")\n",
    "\n",
    "for var_name, ingest_parameters in input_layers_2010.items():\n",
    "    # TODO: Need to write a wrapper to make recursive calls of `getattr` nicer.\n",
    "    # Don't run any of the 'xarray_maths' classes yet - nead to load all other\n",
    "    # variables first\n",
    "    print(\"Loading: {}\".format(var_name))\n",
    "    import_class_name = ingest_parameters[\"ingest_class\"]\n",
    "        # Get the class to use for importing\n",
    "    if import_class_name != \"xarray_maths\":\n",
    "        import_class = getattr(getattr(le_ingest, import_class_name.split(\".\")[0]),\n",
    "                              import_class_name.split(\".\")[1])\n",
    "        # Set up instance of import class\n",
    "        import_obj = import_class(**target_size)\n",
    "\n",
    "        # Import\n",
    "        ingest_parameters[\"variable_name\"] = var_name\n",
    "        variables_xarray = import_obj.read_to_xarray(**ingest_parameters)\n",
    "        variables_xarray_list_2010.append(variables_xarray)\n",
    "\n",
    "# Merge to a single dataset\n",
    "level4_2010 = xarray.merge(variables_xarray_list_2010)\n",
    "\n",
    "# Read each into xarray and save to list\n",
    "logging.info(\"Reading in data for 2015\")\n",
    "variables_xarray_list_2015 = []\n",
    "\n",
    "print(\"Loading 2015 Data\")\n",
    "\n",
    "for var_name, ingest_parameters in input_layers_2015.items():\n",
    "    # TODO: Need to write a wrapper to make recursive calls of `getattr` nicer.\n",
    "    # Don't run any of the 'xarray_maths' classes yet - nead to load all other\n",
    "    # variables first\n",
    "    print(\"Loading: {}\".format(var_name))\n",
    "    import_class_name = ingest_parameters[\"ingest_class\"]\n",
    "        # Get the class to use for importing\n",
    "    if import_class_name != \"xarray_maths\":\n",
    "        import_class = getattr(getattr(le_ingest, import_class_name.split(\".\")[0]),\n",
    "                              import_class_name.split(\".\")[1])\n",
    "        # Set up instance of import class\n",
    "        import_obj = import_class(**target_size)\n",
    "\n",
    "        # Import\n",
    "        ingest_parameters[\"variable_name\"] = var_name\n",
    "        variables_xarray = import_obj.read_to_xarray(**ingest_parameters)\n",
    "        variables_xarray_list_2015.append(variables_xarray)\n",
    "\n",
    "# Merge to a single dataset\n",
    "level4_2015 = xarray.merge(variables_xarray_list_2015)"
   ]
  },
  {
   "cell_type": "markdown",
   "metadata": {},
   "source": [
    "## Change Detection"
   ]
  },
  {
   "cell_type": "markdown",
   "metadata": {},
   "source": [
    "### Simple Level 4 Change"
   ]
  },
  {
   "cell_type": "code",
   "execution_count": 7,
   "metadata": {},
   "outputs": [
    {
     "data": {
      "text/plain": [
       "<xarray.Dataset>\n",
       "Dimensions:                      (x: 4000, y: 4000)\n",
       "Coordinates:\n",
       "  * x                            (x) float64 12.5 37.5 ... 9.996e+04 9.999e+04\n",
       "  * y                            (y) float64 -1.25e+06 -1.25e+06 ... -1.35e+06\n",
       "Data variables:\n",
       "    level3_change                (y, x) uint32 220220 220220 ... 112112 112112\n",
       "    lifeform_veg_cat_l4a_change  (y, x) uint16 0 0 0 0 0 ... 102 102 202 102 102\n",
       "    canopyco_veg_cat_l4d_change  (y, x) uint16 0 0 0 0 0 ... 1213 1313 1213 1213\n",
       "    watersea_veg_cat_l4a_change  (y, x) uint16 0 0 0 0 0 0 0 0 ... 0 0 0 0 0 0 0\n",
       "    waterstt_wat_cat_l4a_change  (y, x) uint16 101 101 101 101 101 ... 0 0 0 0 0\n",
       "    waterper_wat_cat_l4d_change  (y, x) uint16 0 0 0 0 0 0 0 0 ... 0 0 0 0 0 0 0\n",
       "    inttidal_wat_cat_l4a_change  (y, x) uint16 0 0 0 0 0 0 0 0 ... 0 0 0 0 0 0 0"
      ]
     },
     "execution_count": 7,
     "metadata": {},
     "output_type": "execute_result"
    }
   ],
   "source": [
    "l4_change_codes = simple_change.get_lccs_l4_change_codes(level4_2010, level4_2015, ignore_no_change=False)\n",
    "l4_change_codes"
   ]
  },
  {
   "cell_type": "markdown",
   "metadata": {},
   "source": [
    "### Biomass Change"
   ]
  },
  {
   "cell_type": "code",
   "execution_count": 8,
   "metadata": {},
   "outputs": [
    {
     "ename": "KeyError",
     "evalue": "'cci_biomass'",
     "output_type": "error",
     "traceback": [
      "\u001b[0;31m---------------------------------------------------------------------------\u001b[0m",
      "\u001b[0;31mKeyError\u001b[0m                                  Traceback (most recent call last)",
      "\u001b[0;32m~/miniconda3/envs/au-eoed-v1/lib/python3.6/site-packages/xarray/core/dataset.py\u001b[0m in \u001b[0;36m_construct_dataarray\u001b[0;34m(self, name)\u001b[0m\n\u001b[1;32m    886\u001b[0m         \u001b[0;32mtry\u001b[0m\u001b[0;34m:\u001b[0m\u001b[0;34m\u001b[0m\u001b[0m\n\u001b[0;32m--> 887\u001b[0;31m             \u001b[0mvariable\u001b[0m \u001b[0;34m=\u001b[0m \u001b[0mself\u001b[0m\u001b[0;34m.\u001b[0m\u001b[0m_variables\u001b[0m\u001b[0;34m[\u001b[0m\u001b[0mname\u001b[0m\u001b[0;34m]\u001b[0m\u001b[0;34m\u001b[0m\u001b[0m\n\u001b[0m\u001b[1;32m    888\u001b[0m         \u001b[0;32mexcept\u001b[0m \u001b[0mKeyError\u001b[0m\u001b[0;34m:\u001b[0m\u001b[0;34m\u001b[0m\u001b[0m\n",
      "\u001b[0;31mKeyError\u001b[0m: 'cci_biomass'",
      "\nDuring handling of the above exception, another exception occurred:\n",
      "\u001b[0;31mKeyError\u001b[0m                                  Traceback (most recent call last)",
      "\u001b[0;32m<ipython-input-8-bcb289a36680>\u001b[0m in \u001b[0;36m<module>\u001b[0;34m\u001b[0m\n\u001b[0;32m----> 1\u001b[0;31m \u001b[0mbiomass_diff\u001b[0m \u001b[0;34m=\u001b[0m \u001b[0mlevel4_2010\u001b[0m\u001b[0;34m[\u001b[0m\u001b[0;34m\"cci_biomass\"\u001b[0m\u001b[0;34m]\u001b[0m\u001b[0;34m.\u001b[0m\u001b[0mvalues\u001b[0m\u001b[0;34m.\u001b[0m\u001b[0mastype\u001b[0m\u001b[0;34m(\u001b[0m\u001b[0mnumpy\u001b[0m\u001b[0;34m.\u001b[0m\u001b[0mfloat32\u001b[0m\u001b[0;34m)\u001b[0m \u001b[0;34m-\u001b[0m \u001b[0mlevel4_2015\u001b[0m\u001b[0;34m[\u001b[0m\u001b[0;34m\"cci_biomass\"\u001b[0m\u001b[0;34m]\u001b[0m\u001b[0;34m.\u001b[0m\u001b[0mvalues\u001b[0m\u001b[0;34m.\u001b[0m\u001b[0mastype\u001b[0m\u001b[0;34m(\u001b[0m\u001b[0mnumpy\u001b[0m\u001b[0;34m.\u001b[0m\u001b[0mfloat32\u001b[0m\u001b[0;34m)\u001b[0m\u001b[0;34m\u001b[0m\u001b[0m\n\u001b[0m\u001b[1;32m      2\u001b[0m \u001b[0;34m\u001b[0m\u001b[0m\n\u001b[1;32m      3\u001b[0m \u001b[0;31m# Convert numpy array with change values into an xarray Dataset\u001b[0m\u001b[0;34m\u001b[0m\u001b[0;34m\u001b[0m\u001b[0m\n\u001b[1;32m      4\u001b[0m biomass_diff_xarray = xarray.Dataset(\n\u001b[1;32m      5\u001b[0m     \u001b[0;34m{\u001b[0m\u001b[0;34m\"cci_biomass_diff\"\u001b[0m \u001b[0;34m:\u001b[0m \u001b[0;34m(\u001b[0m\u001b[0mlevel4_2010\u001b[0m\u001b[0;34m[\u001b[0m\u001b[0;34m\"cci_biomass\"\u001b[0m\u001b[0;34m]\u001b[0m\u001b[0;34m.\u001b[0m\u001b[0mdims\u001b[0m\u001b[0;34m,\u001b[0m \u001b[0mbiomass_diff\u001b[0m\u001b[0;34m)\u001b[0m\u001b[0;34m}\u001b[0m\u001b[0;34m,\u001b[0m\u001b[0;34m\u001b[0m\u001b[0m\n",
      "\u001b[0;32m~/miniconda3/envs/au-eoed-v1/lib/python3.6/site-packages/xarray/core/dataset.py\u001b[0m in \u001b[0;36m__getitem__\u001b[0;34m(self, key)\u001b[0m\n\u001b[1;32m    959\u001b[0m \u001b[0;34m\u001b[0m\u001b[0m\n\u001b[1;32m    960\u001b[0m         \u001b[0;32mif\u001b[0m \u001b[0mhashable\u001b[0m\u001b[0;34m(\u001b[0m\u001b[0mkey\u001b[0m\u001b[0;34m)\u001b[0m\u001b[0;34m:\u001b[0m\u001b[0;34m\u001b[0m\u001b[0m\n\u001b[0;32m--> 961\u001b[0;31m             \u001b[0;32mreturn\u001b[0m \u001b[0mself\u001b[0m\u001b[0;34m.\u001b[0m\u001b[0m_construct_dataarray\u001b[0m\u001b[0;34m(\u001b[0m\u001b[0mkey\u001b[0m\u001b[0;34m)\u001b[0m\u001b[0;34m\u001b[0m\u001b[0m\n\u001b[0m\u001b[1;32m    962\u001b[0m         \u001b[0;32melse\u001b[0m\u001b[0;34m:\u001b[0m\u001b[0;34m\u001b[0m\u001b[0m\n\u001b[1;32m    963\u001b[0m             \u001b[0;32mreturn\u001b[0m \u001b[0mself\u001b[0m\u001b[0;34m.\u001b[0m\u001b[0m_copy_listed\u001b[0m\u001b[0;34m(\u001b[0m\u001b[0mnp\u001b[0m\u001b[0;34m.\u001b[0m\u001b[0masarray\u001b[0m\u001b[0;34m(\u001b[0m\u001b[0mkey\u001b[0m\u001b[0;34m)\u001b[0m\u001b[0;34m)\u001b[0m\u001b[0;34m\u001b[0m\u001b[0m\n",
      "\u001b[0;32m~/miniconda3/envs/au-eoed-v1/lib/python3.6/site-packages/xarray/core/dataset.py\u001b[0m in \u001b[0;36m_construct_dataarray\u001b[0;34m(self, name)\u001b[0m\n\u001b[1;32m    888\u001b[0m         \u001b[0;32mexcept\u001b[0m \u001b[0mKeyError\u001b[0m\u001b[0;34m:\u001b[0m\u001b[0;34m\u001b[0m\u001b[0m\n\u001b[1;32m    889\u001b[0m             _, name, variable = _get_virtual_variable(\n\u001b[0;32m--> 890\u001b[0;31m                 self._variables, name, self._level_coords, self.dims)\n\u001b[0m\u001b[1;32m    891\u001b[0m \u001b[0;34m\u001b[0m\u001b[0m\n\u001b[1;32m    892\u001b[0m         \u001b[0mcoords\u001b[0m \u001b[0;34m=\u001b[0m \u001b[0mOrderedDict\u001b[0m\u001b[0;34m(\u001b[0m\u001b[0;34m)\u001b[0m\u001b[0;34m\u001b[0m\u001b[0m\n",
      "\u001b[0;32m~/miniconda3/envs/au-eoed-v1/lib/python3.6/site-packages/xarray/core/dataset.py\u001b[0m in \u001b[0;36m_get_virtual_variable\u001b[0;34m(variables, key, level_vars, dim_sizes)\u001b[0m\n\u001b[1;32m     74\u001b[0m         \u001b[0mref_var\u001b[0m \u001b[0;34m=\u001b[0m \u001b[0mdim_var\u001b[0m\u001b[0;34m.\u001b[0m\u001b[0mto_index_variable\u001b[0m\u001b[0;34m(\u001b[0m\u001b[0;34m)\u001b[0m\u001b[0;34m.\u001b[0m\u001b[0mget_level_variable\u001b[0m\u001b[0;34m(\u001b[0m\u001b[0mref_name\u001b[0m\u001b[0;34m)\u001b[0m\u001b[0;34m\u001b[0m\u001b[0m\n\u001b[1;32m     75\u001b[0m     \u001b[0;32melse\u001b[0m\u001b[0;34m:\u001b[0m\u001b[0;34m\u001b[0m\u001b[0m\n\u001b[0;32m---> 76\u001b[0;31m         \u001b[0mref_var\u001b[0m \u001b[0;34m=\u001b[0m \u001b[0mvariables\u001b[0m\u001b[0;34m[\u001b[0m\u001b[0mref_name\u001b[0m\u001b[0;34m]\u001b[0m\u001b[0;34m\u001b[0m\u001b[0m\n\u001b[0m\u001b[1;32m     77\u001b[0m \u001b[0;34m\u001b[0m\u001b[0m\n\u001b[1;32m     78\u001b[0m     \u001b[0;32mif\u001b[0m \u001b[0mvar_name\u001b[0m \u001b[0;32mis\u001b[0m \u001b[0;32mNone\u001b[0m\u001b[0;34m:\u001b[0m\u001b[0;34m\u001b[0m\u001b[0m\n",
      "\u001b[0;31mKeyError\u001b[0m: 'cci_biomass'"
     ]
    }
   ],
   "source": [
    "biomass_diff = level4_2010[\"cci_biomass\"].values.astype(numpy.float32) - level4_2015[\"cci_biomass\"].values.astype(numpy.float32)\n",
    "\n",
    "# Convert numpy array with change values into an xarray Dataset\n",
    "biomass_diff_xarray = xarray.Dataset(\n",
    "    {\"cci_biomass_diff\" : (level4_2010[\"cci_biomass\"].dims, biomass_diff)},\n",
    "    coords=level4_2010.coords)"
   ]
  },
  {
   "cell_type": "code",
   "execution_count": 9,
   "metadata": {},
   "outputs": [
    {
     "ename": "NameError",
     "evalue": "name 'biomass_diff_xarray' is not defined",
     "output_type": "error",
     "traceback": [
      "\u001b[0;31m---------------------------------------------------------------------------\u001b[0m",
      "\u001b[0;31mNameError\u001b[0m                                 Traceback (most recent call last)",
      "\u001b[0;32m<ipython-input-9-e3aad4d0b2aa>\u001b[0m in \u001b[0;36m<module>\u001b[0;34m\u001b[0m\n\u001b[1;32m      1\u001b[0m \u001b[0;31m# Merge into a single xarray\u001b[0m\u001b[0;34m\u001b[0m\u001b[0;34m\u001b[0m\u001b[0m\n\u001b[0;32m----> 2\u001b[0;31m \u001b[0ml4_change_codes\u001b[0m \u001b[0;34m=\u001b[0m \u001b[0mxarray\u001b[0m\u001b[0;34m.\u001b[0m\u001b[0mmerge\u001b[0m\u001b[0;34m(\u001b[0m\u001b[0;34m[\u001b[0m\u001b[0ml4_change_codes\u001b[0m\u001b[0;34m,\u001b[0m \u001b[0mbiomass_diff_xarray\u001b[0m\u001b[0;34m]\u001b[0m\u001b[0;34m)\u001b[0m\u001b[0;34m\u001b[0m\u001b[0m\n\u001b[0m",
      "\u001b[0;31mNameError\u001b[0m: name 'biomass_diff_xarray' is not defined"
     ]
    }
   ],
   "source": [
    "# Merge into a single xarray\n",
    "l4_change_codes = xarray.merge([l4_change_codes, biomass_diff_xarray])"
   ]
  },
  {
   "cell_type": "markdown",
   "metadata": {},
   "source": [
    "### Woody Fraction Change"
   ]
  },
  {
   "cell_type": "code",
   "execution_count": 10,
   "metadata": {},
   "outputs": [],
   "source": [
    "woodyfr_diff = level4_2010[\"woodyfractn\"].values.astype(numpy.float32) - level4_2015[\"woodyfractn\"].values.astype(numpy.float32)\n",
    "\n",
    "# Convert numpy array with change values into an xarray Dataset\n",
    "woodyfractn_diff_xarray = xarray.Dataset(\n",
    "    {\"woodyfractn_diff\" : (level4_2010[\"woodyfractn\"].dims, woodyfr_diff)},\n",
    "    coords=level4_2010.coords)"
   ]
  },
  {
   "cell_type": "code",
   "execution_count": 11,
   "metadata": {},
   "outputs": [],
   "source": [
    "# Merge into a single xarray\n",
    "l4_change_codes = xarray.merge([l4_change_codes, woodyfractn_diff_xarray])"
   ]
  },
  {
   "cell_type": "markdown",
   "metadata": {},
   "source": [
    "###  Burned area change (Based on Normalised Burn Index - NBI)"
   ]
  },
  {
   "cell_type": "code",
   "execution_count": 12,
   "metadata": {},
   "outputs": [],
   "source": [
    "burnedarea_diff = level4_2010[\"burnedareas\"].values.astype(numpy.float32) - level4_2015[\"burnedareas\"].values.astype(numpy.float32)\n",
    "\n",
    "# Convert numpy array with change values into an xarray Dataset\n",
    "burnedareas_diff_xarray = xarray.Dataset(\n",
    "    {\"burnedareas_diff\" : (level4_2010[\"burnedareas\"].dims, burnedarea_diff)},\n",
    "    coords=level4_2010.coords)"
   ]
  },
  {
   "cell_type": "code",
   "execution_count": 13,
   "metadata": {},
   "outputs": [],
   "source": [
    "# Merge into a single xarray\n",
    "l4_change_codes = xarray.merge([l4_change_codes, burnedareas_diff_xarray])"
   ]
  },
  {
   "cell_type": "markdown",
   "metadata": {},
   "source": [
    "### Water hydroperiod Change\n"
   ]
  },
  {
   "cell_type": "code",
   "execution_count": 14,
   "metadata": {},
   "outputs": [],
   "source": [
    "waterpersis_diff = level4_2010[\"waterpersis\"].values.astype(numpy.float32) - level4_2015[\"waterpersis\"].values.astype(numpy.float32)\n",
    "\n",
    "# Convert numpy array with change values into an xarray Dataset\n",
    "waterpersis_diff_xarray = xarray.Dataset(\n",
    "    {\"waterpersis_diff\" : (level4_2010[\"waterpersis\"].dims, waterpersis_diff)},\n",
    "    coords=level4_2010.coords)"
   ]
  },
  {
   "cell_type": "code",
   "execution_count": 15,
   "metadata": {},
   "outputs": [],
   "source": [
    "# Merge into a single xarray\n",
    "l4_change_codes = xarray.merge([l4_change_codes, waterpersis_diff_xarray])"
   ]
  },
  {
   "cell_type": "code",
   "execution_count": 16,
   "metadata": {},
   "outputs": [],
   "source": [
    "# Export data as a GeoTiff\n",
    "\n",
    "export_parameters = {}\n",
    "export_parameters[\"output_file\"] = \"/Users/richard/Dropbox (EOED)/Data_Projects/DEA_LandCoverMonitoring/Change/{}_2010-2015_l4_change.tif\".format(site_name.replace(\" \",\"_\"))\n",
    "# Use a float for output and cast all output layer to this\n",
    "export_parameters[\"out_dtype\"] = numpy.float32\n",
    "export_parameters[\"cast_to_out_dtype\"] = True\n",
    "# Get export class to use\n",
    "export_class = le_export.gridded_export.LEExportGDAL\n",
    "\n",
    "export_obj = export_class(**target_size)\n",
    "\n",
    "# Write out xarray\n",
    "export_obj.write_xarray(l4_change_codes, **export_parameters)"
   ]
  },
  {
   "cell_type": "markdown",
   "metadata": {},
   "source": [
    "### Evidence Based Change - Severe Wildfire\n",
    "Wildfire has change code 1.\n",
    "\n",
    "* Need Level3 to have stayed as 112\n",
    "* Canopy Cover category 10 -> 16\n",
    "* Woody fraction decreases\n",
    "* NBR increases\n",
    "* Decrease in AGB (not available for 2019/20-20)\n",
    "\n",
    "If changes in above, this gives the reason for the change (i.e., severe wildfire). The pressure is fire in this case. The consequence is loss of carbon and biodiverity (refer to pre-fire conditions)\n"
   ]
  },
  {
   "cell_type": "code",
   "execution_count": 17,
   "metadata": {},
   "outputs": [],
   "source": [
    "severe_wild_fire = numpy.where((l4_change_codes[\"level3_change\"].values == 112112) &\n",
    "                        (l4_change_codes[\"canopyco_veg_cat_l4d_change\"].values == 1212) &\n",
    "                        (l4_change_codes[\"woodyfractn_diff\"].values >=0.1) &\n",
    "                        (l4_change_codes[\"burnedareas_diff\"].values >=0.2), 1, 0)"
   ]
  },
  {
   "cell_type": "code",
   "execution_count": 18,
   "metadata": {},
   "outputs": [],
   "source": [
    "# Convert to xarray\n",
    "severe_wild_fire_xarray = xarray.Dataset(\n",
    "    {\"severe_wild_fire\" : (level4_2010[\"level3\"].dims, severe_wild_fire)},\n",
    "    coords=level4_2010.coords)"
   ]
  },
  {
   "cell_type": "code",
   "execution_count": 19,
   "metadata": {},
   "outputs": [
    {
     "data": {
      "text/plain": [
       "<matplotlib.image.AxesImage at 0x1cc13c438>"
      ]
     },
     "execution_count": 19,
     "metadata": {},
     "output_type": "execute_result"
    },
    {
     "data": {
      "image/png": "[encoded data removed]",
      "text/plain": [
       "<Figure size 432x288 with 1 Axes>"
      ]
     },
     "metadata": {
      "needs_background": "light"
     },
     "output_type": "display_data"
    }
   ],
   "source": [
    "pyplot.imshow(severe_wild_fire)"
   ]
  },
  {
   "cell_type": "code",
   "execution_count": 20,
   "metadata": {},
   "outputs": [],
   "source": [
    "# Export data as a GeoTiff\n",
    "export_parameters = {}\n",
    "export_parameters[\"output_file\"] = \"/Users/richard/Dropbox (EOED)/Data_Projects/DEA_LandCoverMonitoring/Change/Kakadu_Change/{}_2010-2015_severe_fire.tif\".format(site_name.replace(\" \",\"_\"))\n",
    "# Use a float for output and cast all output layer to this\n",
    "export_parameters[\"out_dtype\"] = numpy.uint16\n",
    "export_parameters[\"cast_to_out_dtype\"] = True\n",
    "# Get export class to use\n",
    "export_class = le_export.gridded_export.LEExportGDAL\n",
    "\n",
    "export_obj = export_class(**target_size)\n",
    "\n",
    "# Write out xarray\n",
    "export_obj.write_xarray(severe_wild_fire_xarray, **export_parameters)"
   ]
  },
  {
   "cell_type": "markdown",
   "metadata": {},
   "source": [
    "### Evidence Based Change - Vegetation Reduction\n",
    "\n",
    "Vegetation reduction has change code 1.\n",
    "\n",
    "* Need Level3 to have stayed as 112\n",
    "* Canopy Cover category to have reduced\n",
    "* (Biomass to have reduced)\n",
    "\n",
    "1010 : (\"Remained as closed (> 60-70 %) (A10)\")\n",
    "1212 : (\"Remained as open (40 to 60-70 %) (A12)\")\n",
    "1313 : (\"Remained as open (10 to 20-40 %) (A13)\")\n",
    "1515 : (\"Remained as sparse (4 to 10-20 %) (A15)\")\n",
    "1616 : (\"Remained as scattered (1 to 4 %) (A16)\")"
   ]
  },
  {
   "cell_type": "code",
   "execution_count": 21,
   "metadata": {},
   "outputs": [],
   "source": [
    "veg_red = numpy.where((l4_change_codes[\"level3_change\"].values == 112112) &\n",
    "                    (l4_change_codes[\"canopyco_veg_cat_l4d_change\"].values == 1012), 1, 0)"
   ]
  },
  {
   "cell_type": "code",
   "execution_count": 22,
   "metadata": {},
   "outputs": [],
   "source": [
    "# Convert to xarray\n",
    "veg_red_xarray = xarray.Dataset(\n",
    "    {\"veg_red\" : (level4_2010[\"level3\"].dims, veg_red)},\n",
    "    coords=level4_2010.coords)"
   ]
  },
  {
   "cell_type": "code",
   "execution_count": 23,
   "metadata": {},
   "outputs": [
    {
     "data": {
      "text/plain": [
       "<matplotlib.image.AxesImage at 0x1cc084748>"
      ]
     },
     "execution_count": 23,
     "metadata": {},
     "output_type": "execute_result"
    },
    {
     "data": {
      "image/png": "[encoded data removed]",
      "text/plain": [
       "<Figure size 432x288 with 1 Axes>"
      ]
     },
     "metadata": {
      "needs_background": "light"
     },
     "output_type": "display_data"
    }
   ],
   "source": [
    "pyplot.imshow(veg_red)"
   ]
  },
  {
   "cell_type": "code",
   "execution_count": 24,
   "metadata": {},
   "outputs": [],
   "source": [
    "# Export data as a GeoTiff\n",
    "export_parameters = {}\n",
    "export_parameters[\"output_file\"] = \"/Users/richard/Dropbox (EOED)/Data_Projects/DEA_LandCoverMonitoring/Change/Kakadu_Change/{}_2010-2015_veg_red.tif\".format(site_name.replace(\" \",\"_\"))\n",
    "# Use a float for output and cast all output layer to this\n",
    "export_parameters[\"out_dtype\"] = numpy.uint16\n",
    "export_parameters[\"cast_to_out_dtype\"] = True\n",
    "# Get export class to use\n",
    "export_class = le_export.gridded_export.LEExportGDAL\n",
    "\n",
    "export_obj = export_class(**target_size)\n",
    "\n",
    "# Write out xarray\n",
    "export_obj.write_xarray(veg_red_xarray, **export_parameters)"
   ]
  },
  {
   "cell_type": "markdown",
   "metadata": {},
   "source": [
    "### Evidence Based Change - Mangrove Dieback\n",
    "\n",
    "Dieback has a code of 1\n",
    "\n",
    "* Need Level3 to have stayed as 112\n",
    "* Canopy Cover category to have reduced\n",
    "\"Remained as closed (> 60-70 %) (A10)\"\n",
    "\"Remained as open (40 to 60-70 %) (A12)\"\n",
    "\"Remained as open (10 to 20-40 %) (A13)\"\n",
    "\"Remained as sparse (4 to 10-20 %) (A15)\"\n",
    "\"Remained as scattered (1 to 4 %) (A16)\"\n",
    "* Biomass to have reduced"
   ]
  },
  {
   "cell_type": "code",
   "execution_count": 25,
   "metadata": {},
   "outputs": [],
   "source": [
    "dieback = numpy.where((l4_change_codes[\"level3_change\"].values == 124124) &\n",
    "                    (l4_change_codes[\"canopyco_veg_cat_l4d_change\"].values == 1013), 1, 0)"
   ]
  },
  {
   "cell_type": "code",
   "execution_count": 26,
   "metadata": {},
   "outputs": [],
   "source": [
    " # Convert to xarray\n",
    "dieback_xarray = xarray.Dataset(\n",
    "    {\"dieback\" : (level4_2010[\"level3\"].dims, dieback)},\n",
    "    coords=level4_2010.coords)\n",
    "    "
   ]
  },
  {
   "cell_type": "code",
   "execution_count": 27,
   "metadata": {},
   "outputs": [
    {
     "data": {
      "text/plain": [
       "<matplotlib.image.AxesImage at 0x1206f8c50>"
      ]
     },
     "execution_count": 27,
     "metadata": {},
     "output_type": "execute_result"
    },
    {
     "data": {
      "image/png": "[encoded data removed]",
      "text/plain": [
       "<Figure size 432x288 with 1 Axes>"
      ]
     },
     "metadata": {
      "needs_background": "light"
     },
     "output_type": "display_data"
    }
   ],
   "source": [
    "pyplot.imshow(dieback)"
   ]
  },
  {
   "cell_type": "code",
   "execution_count": 28,
   "metadata": {},
   "outputs": [],
   "source": [
    "# Export data as a GeoTiff\n",
    "\n",
    "export_parameters = {}\n",
    "export_parameters[\"output_file\"] = \"/Users/richard/Dropbox (EOED)/Data_Projects/DEA_LandCoverMonitoring/Change/{}_2010-2015_l4_dieback.tif\".format(site_name.replace(\" \",\"_\"))\n",
    "# Use a float for output and cast all output layer to this\n",
    "export_parameters[\"out_dtype\"] = numpy.float32\n",
    "export_parameters[\"cast_to_out_dtype\"] = True\n",
    "# Get export class to use\n",
    "export_class = le_export.gridded_export.LEExportGDAL\n",
    "\n",
    "export_obj = export_class(**target_size)\n",
    "\n",
    "# Write out xarray\n",
    "export_obj.write_xarray(dieback_xarray, **export_parameters)"
   ]
  },
  {
   "cell_type": "markdown",
   "metadata": {},
   "source": [
    "# Evidence Based Change - Water reduction\n",
    "Need Level3 to have stayed as 220\n",
    "Water persistence needs to change between each of these\n",
    "\n",
    "\"Perennial (> 9 months) (B1)\"\n",
    "\"Non-perennial (< 9 months) (B2)\"\n",
    "\"Perennial (7-9 months) (B7)\"\n",
    "\"Perennial (4-6 months) (B8)\"\n",
    "\"Perennial (1-3 months) (B9)\""
   ]
  },
  {
   "cell_type": "code",
   "execution_count": 29,
   "metadata": {},
   "outputs": [],
   "source": [
    "water_change = numpy.where((l4_change_codes[\"level3_change\"].values == 220220) &\n",
    "                        (l4_change_codes[\"waterpersis_diff\"].values >= 0.02), 1, 0)"
   ]
  },
  {
   "cell_type": "code",
   "execution_count": 30,
   "metadata": {},
   "outputs": [],
   "source": [
    "# Convert to xarray\n",
    "water_change_xarray = xarray.Dataset(\n",
    "    {\"water_change\" : (level4_2010[\"level3\"].dims, water_change)},\n",
    "    coords=level4_2010.coords)"
   ]
  },
  {
   "cell_type": "code",
   "execution_count": 31,
   "metadata": {},
   "outputs": [
    {
     "data": {
      "text/plain": [
       "<matplotlib.image.AxesImage at 0x120772c18>"
      ]
     },
     "execution_count": 31,
     "metadata": {},
     "output_type": "execute_result"
    },
    {
     "data": {
      "image/png": "[encoded data removed]",
      "text/plain": [
       "<Figure size 432x288 with 1 Axes>"
      ]
     },
     "metadata": {
      "needs_background": "light"
     },
     "output_type": "display_data"
    }
   ],
   "source": [
    "pyplot.imshow(water_change)"
   ]
  },
  {
   "cell_type": "code",
   "execution_count": 32,
   "metadata": {},
   "outputs": [],
   "source": [
    "# Export data as a GeoTiff\n",
    "export_parameters = {}\n",
    "export_parameters[\"output_file\"] = \"/Users/richard/Dropbox (EOED)/Data_Projects/DEA_LandCoverMonitoring/Change/Kakadu_Change/{}_2010-2015_hydroperiod_decrease.tif\".format(site_name.replace(\" \",\"_\"))\n",
    "# Use a float for output and cast all output layer to this\n",
    "export_parameters[\"out_dtype\"] = numpy.uint16\n",
    "export_parameters[\"cast_to_out_dtype\"] = True\n",
    "# Get export class to use\n",
    "export_class = le_export.gridded_export.LEExportGDAL\n",
    "\n",
    "export_obj = export_class(**target_size)\n",
    "\n",
    "# Write out xarray\n",
    "export_obj.write_xarray(water_change_xarray, **export_parameters)"
   ]
  },
  {
   "cell_type": "markdown",
   "metadata": {},
   "source": [
    "### AEM: Wet-Dry Tropical Eucalypt Woodlands\n",
    "Archetype: Most wet-dry tropical woodlands comprise mixed age tree stands dominated by eucalypts (Eucalyptus spp. and Corymbia spp.) with a grassy understorey. These tropical eucalypt species are highly tolerant of the frequent, relatively low intensity of fires that dominate the wet-dry tropical landscapes.\n",
    "\n",
    "1) Bimodal Savanna woodland with large trees and even-age recruits\n",
    "2) Old shrubby woodland\n",
    "3) Mixed-size resprouting savanna\n",
    "4) Transition to monsoon forest or vine thicket"
   ]
  },
  {
   "cell_type": "markdown",
   "metadata": {},
   "source": [
    "##### Canopy cover (%): 10: Closed (> 60-70 %) (A10), 12: Open (40 to 60-70 %) (A12), 13: Open (10 to 20-40 %) (A13),15: Sparse (4 to 10-20 %) (A15), 16: Scattered (1 to 4 %) (A16); Woody Fraction (%): 0 to 0.1 (representing 0 to 100 %), Above ground biomass (Mg ha-1): 0 to 300 Mg ha-1,Frequency of burn (number): 0 to 35+, Time since last burn (years): 0 to 35 years"
   ]
  },
  {
   "cell_type": "markdown",
   "metadata": {},
   "source": [
    "#### Expression - bimodal savanna woodland with large trees and even age recruits\n",
    "In some circumstances, fire regimes can lead to ecosystems dominated by larger trees with relatively fewer small to intermediate trees. Large scale disturbances such as regional droughts and hot fires can subsequently lead to pulsed recruitment and the development of stands with a bimodal size class distribution."
   ]
  },
  {
   "cell_type": "code",
   "execution_count": 35,
   "metadata": {},
   "outputs": [],
   "source": [
    "bimodal = numpy.where((level4_2010[\"level3\"].values == 112) &\n",
    "                      (level4_2010[\"canopyco_veg_cat_l4d\"].values == 10) &\n",
    "                      ((level4_2010[\"woodyfractn\"].values >= 0.3) & (level4_2010[\"woodyfractn\"].values <= 0.4)), 1, 0)"
   ]
  },
  {
   "cell_type": "code",
   "execution_count": 36,
   "metadata": {},
   "outputs": [],
   "source": [
    " # Convert to xarray\n",
    "biomodal_xarray = xarray.Dataset(\n",
    "    {\"bimodal\" : (level4_2010[\"level3\"].dims, bimodal)},\n",
    "    coords=level4_2010.coords)"
   ]
  },
  {
   "cell_type": "code",
   "execution_count": 37,
   "metadata": {},
   "outputs": [
    {
     "data": {
      "text/plain": [
       "<matplotlib.image.AxesImage at 0x184c02da0>"
      ]
     },
     "execution_count": 37,
     "metadata": {},
     "output_type": "execute_result"
    },
    {
     "data": {
      "image/png": "[encoded data removed]",
      "text/plain": [
       "<Figure size 432x288 with 1 Axes>"
      ]
     },
     "metadata": {
      "needs_background": "light"
     },
     "output_type": "display_data"
    }
   ],
   "source": [
    "pyplot.imshow(bimodal)"
   ]
  },
  {
   "cell_type": "raw",
   "metadata": {},
   "source": [
    "# Export data as a GeoTiff\n",
    "\n",
    "export_parameters = {}\n",
    "export_parameters[\"output_file\"] = \"/Users/richard/Dropbox (EOED)/Data_Projects/DEA_LandCoverMonitoring/Change/{}_2010-Biomodal_savanna_woodland.tif\".format(site_name.replace(\" \",\"_\"))\n",
    "# Use a float for output and cast all output layer to this\n",
    "export_parameters[\"out_dtype\"] = numpy.float32\n",
    "export_parameters[\"cast_to_out_dtype\"] = True\n",
    "# Get export class to use\n",
    "export_class = le_export.gridded_export.LEExportGDAL\n",
    "\n",
    "export_obj = export_class(**target_size)\n",
    "\n",
    "# Write out xarray\n",
    "export_obj.write_xarray(bimodal_xarray, **export_parameters)"
   ]
  },
  {
   "cell_type": "markdown",
   "metadata": {},
   "source": [
    "#### Expression - old shrubby woodland\n",
    "In some circumstances, fire regimes can lead to ecosystems dominated by larger trees with relatively fewer small to intermediate trees. Large scale disturbances such as regional droughts and hot fires can subsequently lead to pulsed recruitment and the development of stands with a bimodal size class distribution.  Longer fire free intervals promote shrub growth in many ecosystems, especially those with sandy soils. Under these circumstances, grass growth may be suppressed.\n",
    "1010 : (\"Remained as closed (> 60-70 %) (A10)\"),\n",
    "1212 : (\"Remained as open (40 to 60-70 %) (A12)\"),\n",
    "1313 : (\"Remained as open (10 to 20-40 %) (A13)\"),\n",
    "1515 : (\"Remained as sparse (4 to 10-20 %) (A15)\"),\n",
    "1616 : (\"Remained as scattered (1 to 4 %) (A16)\"),"
   ]
  },
  {
   "cell_type": "code",
   "execution_count": 38,
   "metadata": {},
   "outputs": [],
   "source": [
    "oldshrubby = numpy.where((level4_2010[\"level3\"].values == 112) &\n",
    "                      (level4_2010[\"canopyco_veg_cat_l4d\"].values ==12) &\n",
    "                      (level4_2010[\"woodyfractn\"].values >= 0.4 ), 1, 0)"
   ]
  },
  {
   "cell_type": "code",
   "execution_count": 39,
   "metadata": {},
   "outputs": [],
   "source": [
    "# Convert to xarray\n",
    "oldshrubby_xarray = xarray.Dataset(\n",
    "    {\"bimodal\" : (level4_2010[\"level3\"].dims, bimodal)},\n",
    "    coords=level4_2010.coords)"
   ]
  },
  {
   "cell_type": "code",
   "execution_count": 40,
   "metadata": {},
   "outputs": [
    {
     "data": {
      "text/plain": [
       "<matplotlib.image.AxesImage at 0x120859d30>"
      ]
     },
     "execution_count": 40,
     "metadata": {},
     "output_type": "execute_result"
    },
    {
     "data": {
      "image/png": "[encoded data removed]",
      "text/plain": [
       "<Figure size 432x288 with 1 Axes>"
      ]
     },
     "metadata": {
      "needs_background": "light"
     },
     "output_type": "display_data"
    }
   ],
   "source": [
    "pyplot.imshow(oldshrubby)"
   ]
  },
  {
   "cell_type": "code",
   "execution_count": 41,
   "metadata": {},
   "outputs": [],
   "source": [
    "# Export data as a GeoTiff\n",
    "\n",
    "export_parameters = {}\n",
    "export_parameters[\"output_file\"] = \"/Users/richard/Dropbox (EOED)/Data_Projects/DEA_LandCoverMonitoring/Change/{}_2010-Old_shrubby_woodland.tif\".format(site_name.replace(\" \",\"_\"))\n",
    "# Use a float for output and cast all output layer to this\n",
    "export_parameters[\"out_dtype\"] = numpy.float32\n",
    "export_parameters[\"cast_to_out_dtype\"] = True\n",
    "# Get export class to use\n",
    "export_class = le_export.gridded_export.LEExportGDAL\n",
    "\n",
    "export_obj = export_class(**target_size)\n",
    "\n",
    "# Write out xarray\n",
    "export_obj.write_xarray(oldshrubby_xarray, **export_parameters)"
   ]
  },
  {
   "cell_type": "markdown",
   "metadata": {},
   "source": [
    "#### Expression - mixed-sized resprouting savanna\n",
    "Cyclonic winds cause savanna trees to be uprooted or snapped and the subsequent fires can then kill damaged trees. Such disturbances lead to pulsed recruitment as can be seen in stand structures."
   ]
  },
  {
   "cell_type": "code",
   "execution_count": 42,
   "metadata": {},
   "outputs": [],
   "source": [
    "mixedsize_resprout = numpy.where((level4_2010[\"level3\"].values == 112) &\n",
    "                      (level4_2010[\"canopyco_veg_cat_l4d\"].values ==13) &\n",
    "                      ((level4_2010[\"woodyfractn\"].values >= 0.1)& (level4_2010[\"woodyfractn\"].values <= 0.3)), 1, 0)"
   ]
  },
  {
   "cell_type": "code",
   "execution_count": 43,
   "metadata": {},
   "outputs": [],
   "source": [
    "# Convert to xarray\n",
    "mixedsize_resprout_xarray = xarray.Dataset(\n",
    "    {\"bimodal\" : (level4_2010[\"level3\"].dims, mixedsize_resprout)},\n",
    "    coords=level4_2010.coords)"
   ]
  },
  {
   "cell_type": "code",
   "execution_count": 44,
   "metadata": {},
   "outputs": [
    {
     "data": {
      "text/plain": [
       "<matplotlib.image.AxesImage at 0x1208d3cf8>"
      ]
     },
     "execution_count": 44,
     "metadata": {},
     "output_type": "execute_result"
    },
    {
     "data": {
      "image/png": "[encoded data removed]",
      "text/plain": [
       "<Figure size 432x288 with 1 Axes>"
      ]
     },
     "metadata": {
      "needs_background": "light"
     },
     "output_type": "display_data"
    }
   ],
   "source": [
    "pyplot.imshow(mixedsize_resprout)"
   ]
  },
  {
   "cell_type": "code",
   "execution_count": 45,
   "metadata": {},
   "outputs": [],
   "source": [
    "# Export data as a GeoTiff\n",
    "\n",
    "export_parameters = {}\n",
    "export_parameters[\"output_file\"] = \"/Users/richard/Dropbox (EOED)/Data_Projects/DEA_LandCoverMonitoring/Change/{}_2010-Mixedsize_resprout_woodland.tif\".format(site_name.replace(\" \",\"_\"))\n",
    "# Use a float for output and cast all output layer to this\n",
    "export_parameters[\"out_dtype\"] = numpy.float32\n",
    "export_parameters[\"cast_to_out_dtype\"] = True\n",
    "# Get export class to use\n",
    "export_class = le_export.gridded_export.LEExportGDAL\n",
    "\n",
    "export_obj = export_class(**target_size)\n",
    "\n",
    "# Write out xarray\n",
    "export_obj.write_xarray(mixedsize_resprout_xarray, **export_parameters)"
   ]
  },
  {
   "cell_type": "markdown",
   "metadata": {},
   "source": [
    "#### Expression - Transition to monsoon forest or vine thicket\n",
    "Eucalypt-dominant savannas are rarely observed to transition to other vegetation types. Long fire-free periods (decades to centuries) can lead to conversion to monsoon forest or vine thicket and the probability of this conversion is greater at higher rainfall"
   ]
  },
  {
   "cell_type": "code",
   "execution_count": 46,
   "metadata": {},
   "outputs": [],
   "source": [
    "monsoon_vine = numpy.where((level4_2010[\"level3\"].values == 112) &\n",
    "                      (level4_2010[\"canopyco_veg_cat_l4d\"].values ==13) &\n",
    "                      ((level4_2010[\"woodyfractn\"].values >= 0.1) & (level4_2010[\"woodyfractn\"].values <= 0.3)), 1, 0)"
   ]
  },
  {
   "cell_type": "code",
   "execution_count": 47,
   "metadata": {},
   "outputs": [],
   "source": [
    " # Convert to xarray\n",
    "monsoon_vine_xarray = xarray.Dataset(\n",
    "    {\"monsoon_vine\" : (level4_2010[\"level3\"].dims, monsoon_vine)},\n",
    "    coords=level4_2010.coords)"
   ]
  },
  {
   "cell_type": "code",
   "execution_count": 48,
   "metadata": {},
   "outputs": [
    {
     "data": {
      "text/plain": [
       "<matplotlib.image.AxesImage at 0x185adbcc0>"
      ]
     },
     "execution_count": 48,
     "metadata": {},
     "output_type": "execute_result"
    },
    {
     "data": {
      "image/png": "[encoded data removed]",
      "text/plain": [
       "<Figure size 432x288 with 1 Axes>"
      ]
     },
     "metadata": {
      "needs_background": "light"
     },
     "output_type": "display_data"
    }
   ],
   "source": [
    "pyplot.imshow(monsoon_vine)"
   ]
  },
  {
   "cell_type": "code",
   "execution_count": 49,
   "metadata": {},
   "outputs": [],
   "source": [
    "# Export data as a GeoTiff\n",
    "export_parameters = {}\n",
    "export_parameters[\"output_file\"] = \"/Users/richard/Dropbox (EOED)/Data_Projects/DEA_LandCoverMonitoring/Change/{}_2010-MonsoonForest_vinethicket.tif\".format(site_name.replace(\" \",\"_\"))\n",
    "# Use a float for output and cast all output layer to this\n",
    "export_parameters[\"out_dtype\"] = numpy.float32\n",
    "export_parameters[\"cast_to_out_dtype\"] = True\n",
    "# Get export class to use\n",
    "export_class = le_export.gridded_export.LEExportGDAL\n",
    "\n",
    "export_obj = export_class(**target_size)\n",
    "\n",
    "# Write out xarray\n",
    "export_obj.write_xarray(monsoon_vine_xarray, **export_parameters)"
   ]
  },
  {
   "cell_type": "markdown",
   "metadata": {},
   "source": [
    "### AEM Transitions - Wet-Dry Tropical Eucalypt Woodlands "
   ]
  },
  {
   "cell_type": "code",
   "execution_count": 51,
   "metadata": {},
   "outputs": [],
   "source": [
    "biomodal_to_oldshrubby = numpy.where((l4_change_codes[\"level3_change\"].values == 112112) &\n",
    "                        (l4_change_codes[\"canopyco_veg_cat_l4d_change\"].values == 1212) &\n",
    "                        (l4_change_codes[\"woodyfractn_diff\"].values >=0.1), 1, 0)"
   ]
  },
  {
   "cell_type": "code",
   "execution_count": 52,
   "metadata": {},
   "outputs": [],
   "source": [
    " # Convert to xarray\n",
    "biomodal_to_oldshrubby_xarray = xarray.Dataset(\n",
    "    {\"biomodal_to_oldshrubby\" : (level4_2010[\"level3\"].dims, biomodal_to_oldshrubby)},\n",
    "    coords=level4_2010.coords)"
   ]
  },
  {
   "cell_type": "code",
   "execution_count": 53,
   "metadata": {},
   "outputs": [
    {
     "data": {
      "text/plain": [
       "<matplotlib.image.AxesImage at 0x185abeda0>"
      ]
     },
     "execution_count": 53,
     "metadata": {},
     "output_type": "execute_result"
    },
    {
     "data": {
      "image/png": "[encoded data removed]",
      "text/plain": [
       "<Figure size 432x288 with 1 Axes>"
      ]
     },
     "metadata": {
      "needs_background": "light"
     },
     "output_type": "display_data"
    }
   ],
   "source": [
    "pyplot.imshow(biomodal_to_oldshrubby)"
   ]
  },
  {
   "cell_type": "code",
   "execution_count": 54,
   "metadata": {},
   "outputs": [],
   "source": [
    "# Export data as a GeoTiff\n",
    "export_parameters = {}\n",
    "export_parameters[\"output_file\"] = \"/Users/richard/Dropbox (EOED)/Data_Projects/DEA_LandCoverMonitoring/Change/{}_2010-2015-biomodal_to_oldshrubby.tif\".format(site_name.replace(\" \",\"_\"))\n",
    "# Use a float for output and cast all output layer to this\n",
    "export_parameters[\"out_dtype\"] = numpy.float32\n",
    "export_parameters[\"cast_to_out_dtype\"] = True\n",
    "# Get export class to use\n",
    "export_class = le_export.gridded_export.LEExportGDAL\n",
    "\n",
    "export_obj = export_class(**target_size)\n",
    "\n",
    "# Write out xarray\n",
    "export_obj.write_xarray(biomodal_to_oldshrubby_xarray, **export_parameters)"
   ]
  },
  {
   "cell_type": "code",
   "execution_count": null,
   "metadata": {},
   "outputs": [],
   "source": []
  }
 ],
 "metadata": {
  "kernelspec": {
   "display_name": "Python 3",
   "language": "python",
   "name": "python3"
  },
  "language_info": {
   "codemirror_mode": {
    "name": "ipython",
    "version": 3
   },
   "file_extension": ".py",
   "mimetype": "text/x-python",
   "name": "python",
   "nbconvert_exporter": "python",
   "pygments_lexer": "ipython3",
   "version": "3.6.9"
  }
 },
 "nbformat": 4,
 "nbformat_minor": 4
}
