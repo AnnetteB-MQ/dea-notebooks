{
 "cells": [
  {
   "cell_type": "code",
   "execution_count": 1,
   "metadata": {},
   "outputs": [],
   "source": [
    "# Count consectutiveness for a given value ('Value',Times consectuvtive)\n",
    "s = \"111000222334455555111\"\n",
    "\n",
    "from itertools import groupby\n",
    "\n",
    "groups = groupby(s)\n",
    "result = [(label, sum(1 for _ in group)) for label, group in groups]"
   ]
  },
  {
   "cell_type": "code",
   "execution_count": null,
   "metadata": {},
   "outputs": [],
   "source": []
  },
  {
   "cell_type": "code",
   "execution_count": 2,
   "metadata": {},
   "outputs": [
    {
     "data": {
      "text/plain": [
       "[('1', 3), ('0', 3), ('2', 3), ('3', 2), ('4', 2), ('5', 5), ('1', 3)]"
      ]
     },
     "execution_count": 2,
     "metadata": {},
     "output_type": "execute_result"
    }
   ],
   "source": [
    "result"
   ]
  },
  {
   "cell_type": "code",
   "execution_count": 3,
   "metadata": {},
   "outputs": [
    {
     "data": {
      "text/plain": [
       "2"
      ]
     },
     "execution_count": 3,
     "metadata": {},
     "output_type": "execute_result"
    }
   ],
   "source": [
    "# Count type of occurence\n",
    "result.count(('1',3))"
   ]
  },
  {
   "cell_type": "code",
   "execution_count": 4,
   "metadata": {},
   "outputs": [
    {
     "data": {
      "text/plain": [
       "Counter({('1', 3): 2,\n",
       "         ('0', 3): 1,\n",
       "         ('2', 3): 1,\n",
       "         ('3', 2): 1,\n",
       "         ('4', 2): 1,\n",
       "         ('5', 5): 1})"
      ]
     },
     "execution_count": 4,
     "metadata": {},
     "output_type": "execute_result"
    }
   ],
   "source": [
    "# Count times each ('Value',Times consectuvtive) occurred\n",
    "from collections import Counter\n",
    "z = result\n",
    "Counter(z)"
   ]
  },
  {
   "cell_type": "markdown",
   "metadata": {},
   "source": [
    "### True False example"
   ]
  },
  {
   "cell_type": "code",
   "execution_count": 5,
   "metadata": {},
   "outputs": [
    {
     "name": "stdout",
     "output_type": "stream",
     "text": [
      "11010010\n"
     ]
    }
   ],
   "source": [
    "# Python3 program to convert a list \n",
    "# of integers into a single integer \n",
    "def convert(list): \n",
    "      \n",
    "    # Converting integer list to string list \n",
    "    s = [str(i) for i in list] \n",
    "      \n",
    "    # Join list items using join() \n",
    "    res = int(\"\".join(s)) \n",
    "      \n",
    "    return(res) \n",
    "  \n",
    "# Driver code \n",
    "list = [1, 1, 0, 1, 0, 0, 1, 0] \n",
    "converted = convert(list)\n",
    "s = str(converted)\n",
    "print(s) "
   ]
  },
  {
   "cell_type": "code",
   "execution_count": 40,
   "metadata": {},
   "outputs": [],
   "source": [
    "# Count consectutiveness for a given value ('Value',Times consectuvtive)\n",
    "#s = \"1110001010100000000100000111\"\n",
    "\n",
    "from itertools import groupby\n",
    "\n",
    "groups = groupby(s)\n",
    "result = [(label, sum(1 for _ in group)) for label, group in groups]"
   ]
  },
  {
   "cell_type": "code",
   "execution_count": 41,
   "metadata": {},
   "outputs": [
    {
     "data": {
      "text/plain": [
       "[('1', 2), ('0', 1), ('1', 1), ('0', 2), ('1', 1), ('0', 1)]"
      ]
     },
     "execution_count": 41,
     "metadata": {},
     "output_type": "execute_result"
    }
   ],
   "source": [
    "result"
   ]
  },
  {
   "cell_type": "code",
   "execution_count": 28,
   "metadata": {},
   "outputs": [
    {
     "data": {
      "text/plain": [
       "Counter({('1', 3): 2,\n",
       "         ('0', 3): 1,\n",
       "         ('1', 1): 4,\n",
       "         ('0', 1): 2,\n",
       "         ('0', 8): 1,\n",
       "         ('0', 5): 1})"
      ]
     },
     "execution_count": 28,
     "metadata": {},
     "output_type": "execute_result"
    }
   ],
   "source": [
    "# Count times each ('Value',Times consectuvtive) occurred\n",
    "from collections import Counter\n",
    "z = result\n",
    "dict = Counter(z)\n",
    "dict"
   ]
  },
  {
   "cell_type": "code",
   "execution_count": 30,
   "metadata": {},
   "outputs": [
    {
     "data": {
      "text/plain": [
       "2"
      ]
     },
     "execution_count": 30,
     "metadata": {},
     "output_type": "execute_result"
    }
   ],
   "source": [
    "dict[('1', 3)]"
   ]
  },
  {
   "cell_type": "markdown",
   "metadata": {},
   "source": [
    "### Other ways"
   ]
  },
  {
   "cell_type": "code",
   "execution_count": null,
   "metadata": {},
   "outputs": [],
   "source": []
  },
  {
   "cell_type": "code",
   "execution_count": 5,
   "metadata": {},
   "outputs": [],
   "source": [
    "from collections import Counter\n",
    "\n",
    "s = \"11100111\"\n",
    "result = Counter(s)\n",
    "# {\"1\":6, \"0\":2}"
   ]
  },
  {
   "cell_type": "code",
   "execution_count": 7,
   "metadata": {},
   "outputs": [
    {
     "data": {
      "text/plain": [
       "Counter({'1': 6, '0': 2})"
      ]
     },
     "execution_count": 7,
     "metadata": {},
     "output_type": "execute_result"
    }
   ],
   "source": [
    "result"
   ]
  },
  {
   "cell_type": "code",
   "execution_count": 8,
   "metadata": {},
   "outputs": [
    {
     "name": "stdout",
     "output_type": "stream",
     "text": [
      "{'a': 1, 'b': 2, 'c': 3, 'd': 4}\n"
     ]
    }
   ],
   "source": [
    "charseq = 'abbcccdddd'\n",
    "distros = { c:1 for c in charseq  }\n",
    "\n",
    "for c in range(len(charseq)-1):\n",
    "    if charseq[c] == charseq[c+1]:\n",
    "        distros[charseq[c]] += 1\n",
    "\n",
    "print(distros)"
   ]
  },
  {
   "cell_type": "code",
   "execution_count": null,
   "metadata": {},
   "outputs": [],
   "source": []
  },
  {
   "cell_type": "code",
   "execution_count": 17,
   "metadata": {},
   "outputs": [],
   "source": [
    "# Python program to check if two  \n",
    "# to get unique values from list \n",
    "# using traversal  \n",
    "  \n",
    "# function to get unique values \n",
    "def unique(list1): \n",
    "  \n",
    "    # intilize a null list \n",
    "    unique_list = [] \n",
    "      \n",
    "    # traverse for all elements \n",
    "    for x in list1: \n",
    "        # check if exists in unique_list or not \n",
    "        if x not in unique_list: \n",
    "            unique_list.append(x) \n",
    "    # print list \n",
    "    for x in unique_list: \n",
    "        print(x)"
   ]
  },
  {
   "cell_type": "code",
   "execution_count": 18,
   "metadata": {},
   "outputs": [
    {
     "name": "stdout",
     "output_type": "stream",
     "text": [
      "('1', 3)\n",
      "('0', 3)\n",
      "('2', 3)\n",
      "('3', 2)\n",
      "('4', 2)\n",
      "('5', 5)\n"
     ]
    }
   ],
   "source": [
    "unique(result)"
   ]
  },
  {
   "cell_type": "code",
   "execution_count": 34,
   "metadata": {},
   "outputs": [
    {
     "data": {
      "text/plain": [
       "'10101110'"
      ]
     },
     "execution_count": 34,
     "metadata": {},
     "output_type": "execute_result"
    }
   ],
   "source": [
    "list1 = ['1', '0', '1', '0', '1', '1', '1', '0']\n",
    "s = ''.join(list1)\n",
    "s"
   ]
  }
 ],
 "metadata": {
  "kernelspec": {
   "display_name": "Python 3",
   "language": "python",
   "name": "python3"
  },
  "language_info": {
   "codemirror_mode": {
    "name": "ipython",
    "version": 3
   },
   "file_extension": ".py",
   "mimetype": "text/x-python",
   "name": "python",
   "nbconvert_exporter": "python",
   "pygments_lexer": "ipython3",
   "version": "3.6.9"
  }
 },
 "nbformat": 4,
 "nbformat_minor": 4
}
