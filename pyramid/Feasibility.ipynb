{
 "cells": [
  {
   "cell_type": "markdown",
   "metadata": {},
   "source": [
    "A limiting factor (for overview creation) is how fast a TIFF image file can be written out.\n",
    "\n",
    "Here we attempt to benchmark that.\n",
    "\n",
    "Note %timeit does multiple iterations, %time does one."
   ]
  },
  {
   "cell_type": "code",
   "execution_count": 4,
   "metadata": {},
   "outputs": [],
   "source": [
    "import numpy as np, rasterio, tempfile"
   ]
  },
  {
   "cell_type": "code",
   "execution_count": 77,
   "metadata": {},
   "outputs": [
    {
     "name": "stdout",
     "output_type": "stream",
     "text": [
      "2.65 ms ± 25.3 µs per loop (mean ± std. dev. of 7 runs, 100 loops each)\n"
     ]
    }
   ],
   "source": [
    "size = 4096 * 4\n",
    "chunk = 512\n",
    "name = 'test.tif'\n",
    "\n",
    "%timeit data = np.random.random((chunk, chunk)).astype(np.float32)\n",
    "data = np.ones((chunk, chunk), dtype=np.float32)"
   ]
  },
  {
   "cell_type": "code",
   "execution_count": 81,
   "metadata": {},
   "outputs": [
    {
     "name": "stdout",
     "output_type": "stream",
     "text": [
      "pyramid.py  Test.ipynb\r\n"
     ]
    }
   ],
   "source": [
    "! rm test.tif ; ls"
   ]
  },
  {
   "cell_type": "code",
   "execution_count": 108,
   "metadata": {},
   "outputs": [
    {
     "name": "stdout",
     "output_type": "stream",
     "text": [
      "CPU times: user 21.3 s, sys: 2.31 s, total: 23.6 s\n",
      "Wall time: 10.9 s\n"
     ]
    }
   ],
   "source": [
    "import numpy as np, rasterio\n",
    "def f():\n",
    "    with rasterio.open(name, 'w', driver='GTiff', width=size, height=size, count=1, dtype=np.float32,\n",
    "                       tiled=True, blockxsize=256, blockysize=256, nodata=0,\n",
    "                       compress='lzw', num_threads='all_cpus') as dst: \n",
    "        for i in range(0, size, chunk):\n",
    "            for j in range(0, size, chunk):\n",
    "                data = np.random.random((chunk, chunk)).astype(np.float32)\n",
    "                dst.write(data, window=rasterio.windows.Window(i, j, chunk, chunk), indexes=1)\n",
    "%time f()"
   ]
  },
  {
   "cell_type": "code",
   "execution_count": 93,
   "metadata": {},
   "outputs": [
    {
     "name": "stdout",
     "output_type": "stream",
     "text": [
      "-rw-r--r-- 1 brl654 u46 1.2G Feb 27 15:18 test.tif\r\n"
     ]
    }
   ],
   "source": [
    "! ls -alhF test.tif"
   ]
  },
  {
   "cell_type": "markdown",
   "metadata": {},
   "source": [
    "Results:\n",
    "\n",
    "25 seconds to write a gigabyte of compressed random data, in 500^2 chunks (unaligned with file chunks), total extent about 4x4 Albers tiles. No change if slightly increasing all dimensions to align the same number of chunks.\n",
    "\n",
    "Same takes about 7 seconds if compression disabled. (Switching random data for trivially compressible data performed similarly. Note that completely random data does not actually compress at all.) This suggests the compression computation is far more significant than the write itself. \n",
    "\n",
    "This was for 4x4 100km tiles at 25m resolution. This is about 1% of the continent. This suggests the full continent could be written in a dozen minutes (with no compression), or the full overview could be written in 3-4 minutes. (Noting that the infinite sum (1/4)^n has limit 1/3.) It would only be of order 100GB, and would potentially give faster read performance than if it were compressed. (At least, locally on NCI. Over web, may depend on effectiveness of compression built into the transfer protocols..)\n",
    "\n",
    "Can get compression done in 11 seconds if passing the multithreading option to GDAL. \n",
    "\n",
    "Was previously observing times of 5+ hours for a continental RGB overview. Presumably this should be feasible in more like 20min. \n",
    "\n"
   ]
  },
  {
   "cell_type": "code",
   "execution_count": null,
   "metadata": {},
   "outputs": [],
   "source": []
  }
 ],
 "metadata": {
  "kernelspec": {
   "display_name": "Python 3",
   "language": "python",
   "name": "python3"
  },
  "language_info": {
   "codemirror_mode": {
    "name": "ipython",
    "version": 3
   },
   "file_extension": ".py",
   "mimetype": "text/x-python",
   "name": "python",
   "nbconvert_exporter": "python",
   "pygments_lexer": "ipython3",
   "version": "3.6.7"
  }
 },
 "nbformat": 4,
 "nbformat_minor": 2
}
