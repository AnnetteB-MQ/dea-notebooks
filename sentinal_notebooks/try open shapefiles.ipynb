{
 "cells": [
  {
   "cell_type": "code",
   "execution_count": 1,
   "metadata": {},
   "outputs": [],
   "source": [
    "%load_ext autoreload\n",
    "%autoreload 2"
   ]
  },
  {
   "cell_type": "code",
   "execution_count": 4,
   "metadata": {},
   "outputs": [],
   "source": [
    "# Load modules\n",
    "import os\n",
    "import sys\n",
    "import numpy as np\n",
    "from collections import OrderedDict\n",
    "from matplotlib import pyplot as plt\n",
    "from osgeo import gdal\n",
    "from os.path import splitext\n",
    "from sklearn.ensemble import RandomForestClassifier\n",
    "\n",
    "import geopandas as gpd\n",
    "\n",
    "# Import DEA Notebooks scripts\n",
    "sys.path.append(os.path.abspath('/g/data/u46/users/ck9738/dea-notebooks/algorithms/'))\n",
    "#from SpatialTools.py import layer_extent\n",
    "#from SpatialTools.py import rasterize_vector\n",
    "#from SpatialTools.py import array_to_geotiff\n"
   ]
  },
  {
   "cell_type": "code",
   "execution_count": null,
   "metadata": {},
   "outputs": [],
   "source": []
  },
  {
   "cell_type": "code",
   "execution_count": 5,
   "metadata": {},
   "outputs": [],
   "source": [
    "# Load modules\n",
    "import datacube\n",
    "from datacube import Datacube\n",
    "import os\n",
    "import sys\n",
    "import warnings\n",
    "import pandas as pd\n",
    "import xarray as xr\n",
    "import numpy as np\n",
    "import matplotlib.image as mpimg\n",
    "from datacube.utils import geometry\n",
    "from datacube.utils.geometry import CRS\n",
    "from matplotlib import pyplot as plt\n",
    "from sklearn.ensemble import RandomForestClassifier\n",
    "from sklearn.tree import export_graphviz\n",
    "from datacube_stats.statistics import GeoMedian\n",
    "\n",
    "# # Import DEA Notebooks scripts\n",
    "sys.path.append(os.path.abspath('/g/data/u46/users/ck9738/dea-notebooks/Algorithms/'))\n",
    "from ClassificationTools import randomforest_train\n",
    "from ClassificationTools import randomforest_classify\n",
    "from ClassificationTools import randomforest_eval\n",
    "from DEADataHandling import tasseled_cap\n",
    "from DEADataHandling import load_nbarx\n",
    "from DEADataHandling import load_sentinel\n",
    "\n",
    "# For nicer notebook plotting, hide warnings (comment out for real analysis)\n",
    "warnings.filterwarnings('ignore') \n",
    "\n",
    "# Set up datacube instance\n",
    "dc = datacube.Datacube()\n",
    "\n",
    "\n",
    "s2aws = Datacube(config='/home/547/ck9738/datacube-s2.conf')"
   ]
  },
  {
   "cell_type": "code",
   "execution_count": 27,
   "metadata": {},
   "outputs": [],
   "source": [
    "def layer_extent(layer):\n",
    "    \"\"\"\n",
    "    Computes min and max extents from GDAL layer features. Compared to\n",
    "    built-in \".GetExtent\" that always calculates extents on unfiltered layers,\n",
    "    this allows you to compute extents of features in layers filtered with\n",
    "    'SetAttributeFilter'. Works for point, line and polygon features, returning\n",
    "    the extent of feature centroids for lines and polygon datasets.\n",
    "    \n",
    "    Last modified: March 2018\n",
    "    Author: Robbi Bishop-Taylor\n",
    "    :param layer: \n",
    "        Shapefile imported as GDAL layer; e.g.        \n",
    "        >>> data_source = gdal.OpenEx(train_shp, gdal.OF_VECTOR)\n",
    "        >>> layer = data_source.GetLayer(0)\n",
    "    :return: \n",
    "        Min and max extent in x and y direction\n",
    "    \"\"\"\n",
    "\n",
    "    # Extract tuples of x, y, z coordinates for each point feature\n",
    "    point_coords = [feature.geometry().Centroid().GetPoint() for feature in layer]\n",
    "\n",
    "    # Compute mins and maxes across points for each tuple element\n",
    "    max_x, max_y, max_z = map(min, zip(*point_coords))\n",
    "    min_x, min_y, min_z = map(max, zip(*point_coords))\n",
    "\n",
    "    return min_x, max_x, min_y, max_y"
   ]
  },
  {
   "cell_type": "code",
   "execution_count": 51,
   "metadata": {},
   "outputs": [],
   "source": [
    "# Working directory\n",
    "os.chdir(\"/g/data/u46/users/ck9738/Random_forest\")\n",
    "\n",
    "# List of training files to import. Shapefiles can be either points, lines or polygons, \n",
    "# but must be in the same projection system as the remote sensing dataset being analysed. \n",
    "# Each file should cover a small enough spatial area so as to not slow dc.load function \n",
    "# excessively (e.g. 100 x 100km max)\n",
    "shapefile_loc = '/g/data/u46/users/ck9738/Random_forest/raw_data/train_trees/trees_train.shp'\n",
    "train_shp = 'raw_data/train_water/training_data_waternonwater.shp'"
   ]
  },
  {
   "cell_type": "code",
   "execution_count": 38,
   "metadata": {},
   "outputs": [],
   "source": [
    "data_source = gdal.OpenEx(train_shp, gdal.OF_VECTOR)\n",
    "\n"
   ]
  },
  {
   "cell_type": "code",
   "execution_count": 39,
   "metadata": {},
   "outputs": [],
   "source": [
    "layer = data_source.GetLayer(0)"
   ]
  },
  {
   "cell_type": "code",
   "execution_count": null,
   "metadata": {},
   "outputs": [],
   "source": []
  },
  {
   "cell_type": "code",
   "execution_count": 40,
   "metadata": {},
   "outputs": [],
   "source": [
    "xmin, xmax, ymin, ymax = layer_extent(layer)"
   ]
  },
  {
   "cell_type": "code",
   "execution_count": 41,
   "metadata": {},
   "outputs": [
    {
     "name": "stdout",
     "output_type": "stream",
     "text": [
      "-106200.12797711749 -130981.89461591879 -1280352.9282547852 -1323088.9074965029\n"
     ]
    }
   ],
   "source": [
    "print(xmin, xmax, ymin, ymax)"
   ]
  },
  {
   "cell_type": "code",
   "execution_count": 52,
   "metadata": {},
   "outputs": [],
   "source": [
    "project_area = gpd.read_file(shapefile_loc)\n"
   ]
  },
  {
   "cell_type": "code",
   "execution_count": 53,
   "metadata": {},
   "outputs": [
    {
     "name": "stdout",
     "output_type": "stream",
     "text": [
      "I am densified (15 elements)\n"
     ]
    },
    {
     "data": {
      "text/plain": [
       "0     POLYGON ((1552954.703809302 -3956606.209839772...\n",
       "1     (POLYGON ((1548149.616500128 -3955776.54177422...\n",
       "2     POLYGON ((1551400.134294696 -3956880.597315673...\n",
       "3     POLYGON ((1551719.751600597 -3955786.278460369...\n",
       "4     POLYGON ((1551242.97148037 -3956302.640326424,...\n",
       "5     (POLYGON ((1558204.382398091 -3962885.48175492...\n",
       "6     POLYGON ((1561991.566409934 -3962654.289976444...\n",
       "7     POLYGON ((1561101.188795853 -3964004.514343562...\n",
       "8     POLYGON ((1553359.666670039 -3963063.506655537...\n",
       "9     POLYGON ((1551080.176933464 -3960482.334928988...\n",
       "10    POLYGON ((1554301.750043284 -3960579.701790389...\n",
       "11    POLYGON ((1548027.937495656 -3959669.533303382...\n",
       "12    POLYGON ((1554417.990158431 -3958479.88907342,...\n",
       "13    POLYGON ((1552790.575036936 -3958547.741075793...\n",
       "14    POLYGON ((1556830.241449598 -3961238.029789709...\n",
       "Name: geometry, dtype: object"
      ]
     },
     "execution_count": 53,
     "metadata": {},
     "output_type": "execute_result"
    }
   ],
   "source": [
    "\n",
    "#convert the shapefile to GDA94 lat-long coords so we can query dc_load using lat long\n",
    "project_area['geometry']# = project_area['geometry'].to_crs(epsg=4283)"
   ]
  },
  {
   "cell_type": "code",
   "execution_count": 44,
   "metadata": {},
   "outputs": [
    {
     "name": "stdout",
     "output_type": "stream",
     "text": [
      "I am densified (15 elements)\n",
      "I am densified (15 elements)\n"
     ]
    },
    {
     "data": {
      "text/html": [
       "<div>\n",
       "<style scoped>\n",
       "    .dataframe tbody tr th:only-of-type {\n",
       "        vertical-align: middle;\n",
       "    }\n",
       "\n",
       "    .dataframe tbody tr th {\n",
       "        vertical-align: top;\n",
       "    }\n",
       "\n",
       "    .dataframe thead th {\n",
       "        text-align: right;\n",
       "    }\n",
       "</style>\n",
       "<table border=\"1\" class=\"dataframe\">\n",
       "  <thead>\n",
       "    <tr style=\"text-align: right;\">\n",
       "      <th></th>\n",
       "      <th>Id</th>\n",
       "      <th>name</th>\n",
       "      <th>geometry</th>\n",
       "    </tr>\n",
       "  </thead>\n",
       "  <tbody>\n",
       "    <tr>\n",
       "      <th>0</th>\n",
       "      <td>1</td>\n",
       "      <td>native trees</td>\n",
       "      <td>POLYGON ((149.1548988661191 -35.27033530194367...</td>\n",
       "    </tr>\n",
       "    <tr>\n",
       "      <th>1</th>\n",
       "      <td>1</td>\n",
       "      <td>native trees</td>\n",
       "      <td>(POLYGON ((149.1012321909921 -35.2687168076938...</td>\n",
       "    </tr>\n",
       "    <tr>\n",
       "      <th>2</th>\n",
       "      <td>3</td>\n",
       "      <td>Urban</td>\n",
       "      <td>POLYGON ((149.1383356922945 -35.2746522441709,...</td>\n",
       "    </tr>\n",
       "    <tr>\n",
       "      <th>3</th>\n",
       "      <td>3</td>\n",
       "      <td>urban</td>\n",
       "      <td>POLYGON ((149.1402120992323 -35.26451308797323...</td>\n",
       "    </tr>\n",
       "    <tr>\n",
       "      <th>4</th>\n",
       "      <td>2</td>\n",
       "      <td>introduced trees</td>\n",
       "      <td>POLYGON ((149.1357690130039 -35.26968941387806...</td>\n",
       "    </tr>\n",
       "    <tr>\n",
       "      <th>5</th>\n",
       "      <td>2</td>\n",
       "      <td>introduced trees</td>\n",
       "      <td>(POLYGON ((149.2214855381995 -35.3199746207129...</td>\n",
       "    </tr>\n",
       "    <tr>\n",
       "      <th>6</th>\n",
       "      <td>2</td>\n",
       "      <td>introduced trees</td>\n",
       "      <td>POLYGON ((149.2624918300874 -35.31332979779194...</td>\n",
       "    </tr>\n",
       "    <tr>\n",
       "      <th>7</th>\n",
       "      <td>1</td>\n",
       "      <td>native trees</td>\n",
       "      <td>POLYGON ((149.2547741577301 -35.32644431025771...</td>\n",
       "    </tr>\n",
       "    <tr>\n",
       "      <th>8</th>\n",
       "      <td>4</td>\n",
       "      <td>Industrial</td>\n",
       "      <td>POLYGON ((149.1688472412968 -35.32740992969901...</td>\n",
       "    </tr>\n",
       "    <tr>\n",
       "      <th>9</th>\n",
       "      <td>6</td>\n",
       "      <td>water</td>\n",
       "      <td>POLYGON ((149.1401495833744 -35.30714440906041...</td>\n",
       "    </tr>\n",
       "    <tr>\n",
       "      <th>10</th>\n",
       "      <td>6</td>\n",
       "      <td>water</td>\n",
       "      <td>POLYGON ((149.1754662590229 -35.30413204910131...</td>\n",
       "    </tr>\n",
       "    <tr>\n",
       "      <th>11</th>\n",
       "      <td>3</td>\n",
       "      <td>urban</td>\n",
       "      <td>POLYGON ((149.1056275815313 -35.30356734472409...</td>\n",
       "    </tr>\n",
       "    <tr>\n",
       "      <th>12</th>\n",
       "      <td>5</td>\n",
       "      <td>grass</td>\n",
       "      <td>POLYGON ((149.1736349260262 -35.28527392484857...</td>\n",
       "    </tr>\n",
       "    <tr>\n",
       "      <th>13</th>\n",
       "      <td>5</td>\n",
       "      <td>grass</td>\n",
       "      <td>POLYGON ((149.1559703523251 -35.28783965694202...</td>\n",
       "    </tr>\n",
       "    <tr>\n",
       "      <th>14</th>\n",
       "      <td>5</td>\n",
       "      <td>grass</td>\n",
       "      <td>POLYGON ((149.2040442450356 -35.30694936369808...</td>\n",
       "    </tr>\n",
       "  </tbody>\n",
       "</table>\n",
       "</div>"
      ],
      "text/plain": [
       "    Id              name                                           geometry\n",
       "0    1      native trees  POLYGON ((149.1548988661191 -35.27033530194367...\n",
       "1    1      native trees  (POLYGON ((149.1012321909921 -35.2687168076938...\n",
       "2    3             Urban  POLYGON ((149.1383356922945 -35.2746522441709,...\n",
       "3    3             urban  POLYGON ((149.1402120992323 -35.26451308797323...\n",
       "4    2  introduced trees  POLYGON ((149.1357690130039 -35.26968941387806...\n",
       "5    2  introduced trees  (POLYGON ((149.2214855381995 -35.3199746207129...\n",
       "6    2  introduced trees  POLYGON ((149.2624918300874 -35.31332979779194...\n",
       "7    1      native trees  POLYGON ((149.2547741577301 -35.32644431025771...\n",
       "8    4        Industrial  POLYGON ((149.1688472412968 -35.32740992969901...\n",
       "9    6             water  POLYGON ((149.1401495833744 -35.30714440906041...\n",
       "10   6             water  POLYGON ((149.1754662590229 -35.30413204910131...\n",
       "11   3             urban  POLYGON ((149.1056275815313 -35.30356734472409...\n",
       "12   5             grass  POLYGON ((149.1736349260262 -35.28527392484857...\n",
       "13   5             grass  POLYGON ((149.1559703523251 -35.28783965694202...\n",
       "14   5             grass  POLYGON ((149.2040442450356 -35.30694936369808..."
      ]
     },
     "execution_count": 44,
     "metadata": {},
     "output_type": "execute_result"
    }
   ],
   "source": [
    "project_area"
   ]
  },
  {
   "cell_type": "code",
   "execution_count": 54,
   "metadata": {},
   "outputs": [],
   "source": [
    "x = project_area.total_bounds"
   ]
  },
  {
   "cell_type": "code",
   "execution_count": 55,
   "metadata": {},
   "outputs": [
    {
     "data": {
      "text/plain": [
       "array([ 1547896.70389986, -3964734.76580407,  1562851.7814637 ,\n",
       "       -3955213.50731482])"
      ]
     },
     "execution_count": 55,
     "metadata": {},
     "output_type": "execute_result"
    }
   ],
   "source": [
    "x"
   ]
  },
  {
   "cell_type": "code",
   "execution_count": 56,
   "metadata": {},
   "outputs": [],
   "source": [
    "xmin, ymax, xmax, ymin = x"
   ]
  },
  {
   "cell_type": "code",
   "execution_count": 57,
   "metadata": {},
   "outputs": [
    {
     "name": "stdout",
     "output_type": "stream",
     "text": [
      "1547896.7038998567 1562851.7814637013 -3955213.5073148217 -3964734.7658040654\n"
     ]
    }
   ],
   "source": [
    "print(xmin, xmax, ymin, ymax)"
   ]
  },
  {
   "cell_type": "code",
   "execution_count": null,
   "metadata": {},
   "outputs": [],
   "source": []
  }
 ],
 "metadata": {
  "kernelspec": {
   "display_name": "Python 3",
   "language": "python",
   "name": "python3"
  },
  "language_info": {
   "codemirror_mode": {
    "name": "ipython",
    "version": 3
   },
   "file_extension": ".py",
   "mimetype": "text/x-python",
   "name": "python",
   "nbconvert_exporter": "python",
   "pygments_lexer": "ipython3",
   "version": "3.6.5"
  }
 },
 "nbformat": 4,
 "nbformat_minor": 2
}
