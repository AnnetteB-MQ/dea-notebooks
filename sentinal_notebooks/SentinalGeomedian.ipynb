{
 "cells": [
  {
   "cell_type": "markdown",
   "metadata": {},
   "source": [
    "# Sentinal2Geomedian\n",
    "\n",
    "**what does this notebook do?** this notebook builds on the **GettingStartedWithSentinel2** notebook; it ueses a loop to load data from sentinal 2 A and B over a set period of time, for a set area and concatinates them together. The data is then cast to float format and used to calculate the geomedian for the selected time range. visible light bands are then plotted at a tre colour image. "
   ]
  },
  {
   "cell_type": "markdown",
   "metadata": {},
   "source": [
    "**Tags**\n",
    "`Sentinel2`, `products`, `GeoMedian`, `threeBandImage`, `dc.load`, `query`, `beginner`, `plot`, `image`,"
   ]
  },
  {
   "cell_type": "markdown",
   "metadata": {},
   "source": []
  },
  {
   "cell_type": "code",
   "execution_count": 1,
   "metadata": {},
   "outputs": [],
   "source": [
    "%load_ext autoreload\n",
    "%autoreload 2"
   ]
  },
  {
   "cell_type": "code",
   "execution_count": 2,
   "metadata": {},
   "outputs": [
    {
     "name": "stdout",
     "output_type": "stream",
     "text": [
      "Populating the interactive namespace from numpy and matplotlib\n"
     ]
    }
   ],
   "source": [
    "% pylab notebook\n",
    "import datacube\n",
    "from datacube.storage import masking\n",
    "from datacube import Datacube\n",
    "from datetime import datetime\n",
    "from skimage import exposure\n",
    "\n",
    "from datacube_stats.statistics import GeoMedian\n",
    "from matplotlib import pyplot as plt\n",
    "import numpy as np\n",
    "import pandas as pd\n",
    "import xarray as xr\n",
    "\n",
    "import geopandas as gpd\n",
    "\n",
    "import datacube_stats\n",
    "import os\n",
    "# # Import DEA Notebooks scripts\n",
    "sys.path.append(os.path.abspath('/g/data/u46/users/ck9738/dea-notebooks/Algorithms/'))\n",
    "\n",
    "import array_to_geotiff\n",
    "\n",
    "\n",
    "# Replace '156' and 'ck9738' with the path to your own home directory on the VDI\n",
    "s2aws = Datacube(config='/home/547/ck9738/datacube-s2.conf')"
   ]
  },
  {
   "cell_type": "code",
   "execution_count": 3,
   "metadata": {},
   "outputs": [],
   "source": [
    "def three_band_image_flat(ds, bands, time = 0, figsize = [10,10], projection = 'projected'):\n",
    "    '''\n",
    "    threeBandImage takes three spectral bands from a dataframe with no time dimention, and plots them on the RGB \n",
    "    bands of an image. \n",
    "    \n",
    "    Last modified: March 2018\n",
    "    Author: Mike Barnes\n",
    "    Modified by: Claire Krause\n",
    "    Inputs: \n",
    "    ds -   Dataset containing the bands to be plotted\n",
    "    bands - list of three bands to be plotted\n",
    "    \n",
    "    Optional:\n",
    "    time - Index value of the time dimension of ds to be plotted\n",
    "    figsize - dimensions for the output figure\n",
    "    projection - options are 'projected' or 'geographic'. To determine if the image is \n",
    "    in degrees or northings\n",
    "    '''\n",
    "    y, x = ds[bands[0]].shape\n",
    "    rawimg = np.zeros((y,x,3), dtype = np.float32)\n",
    "    for i, colour in enumerate(bands):\n",
    "        rawimg[:,:,i] = ds[colour].values\n",
    "    rawimg[rawimg == -999] = np.nan\n",
    "    img_toshow = exposure.equalize_hist(rawimg, mask = np.isfinite(rawimg))\n",
    "    fig = plt.figure(figsize = figsize)\n",
    "    plt.imshow(img_toshow)\n",
    "    ax = plt.gca()\n",
    "    ax.set_title('title string', fontweight = 'bold', fontsize = 16)\n",
    "    ax.set_xticklabels(ds.x.values)\n",
    "    ax.set_yticklabels(ds.y.values)\n",
    "    if projection == 'geographic':\n",
    "        ax.set_xlabel('Longitude', fontweight = 'bold')\n",
    "        ax.set_ylabel('Latitude', fontweight = 'bold')\n",
    "    else:\n",
    "        ax.set_xlabel('Eastings', fontweight = 'bold')\n",
    "        ax.set_ylabel('Northings', fontweight = 'bold')\n",
    "        \n",
    "def threeBandImage(ds, bands, time = 0, figsize = [10,10], projection = 'projected'):\n",
    "    '''\n",
    "    threeBandImage takes three spectral bands and plots them on the RGB bands of an image. \n",
    "    \n",
    "    Inputs: \n",
    "    ds -   Dataset containing the bands to be plotted\n",
    "    bands - list of three bands to be plotted\n",
    "    \n",
    "    Optional:\n",
    "    time - Index value of the time dimension of ds to be plotted\n",
    "    figsize - dimensions for the output figure\n",
    "    projection - options are 'projected' or 'geographic'. To determine if the image is in degrees or northings\n",
    "    '''\n",
    "    t, y, x = ds[bands[0]].shape\n",
    "    rawimg = np.zeros((y,x,3), dtype = np.float32)\n",
    "    for i, colour in enumerate(bands):\n",
    "        rawimg[:,:,i] = ds[colour][time].values\n",
    "    rawimg[rawimg == -999] = np.nan\n",
    "    img_toshow = exposure.equalize_hist(rawimg, mask = np.isfinite(rawimg))\n",
    "    fig = plt.figure(figsize = figsize)\n",
    "    imshow(img_toshow)\n",
    "    ax = plt.gca()\n",
    "    ax.set_title(str(ds.time[time].values), fontweight = 'bold', fontsize = 16)\n",
    "    ax.set_xticklabels(ds.x.values)\n",
    "    ax.set_yticklabels(ds.y.values)\n",
    "    if projection == 'geographic':\n",
    "        ax.set_xlabel('Longitude', fontweight = 'bold')\n",
    "        ax.set_ylabel('Latitude', fontweight = 'bold')\n",
    "    else:\n",
    "        ax.set_xlabel('Eastings', fontweight = 'bold')\n",
    "        ax.set_ylabel('Northings', fontweight = 'bold')"
   ]
  },
  {
   "cell_type": "code",
   "execution_count": 4,
   "metadata": {},
   "outputs": [
    {
     "name": "stdout",
     "output_type": "stream",
     "text": [
      "I am densified (external_values, 1 elements)\n"
     ]
    }
   ],
   "source": [
    "# open  shapfile and data loat from that\n",
    "\n",
    "shapefile_loc='/g/data/u46/users/ck9738/dea-notebooks/RFC_notebooks/Random_forest_datasets/raw_data/area_outline.shp'\n",
    "\n",
    "#import project area shapefiles\n",
    "project_area = gpd.read_file(shapefile_loc)\n",
    "\n",
    "#convert the shapefile to GDA94 lat-long coords so we can query dc_load using lat long\n",
    "project_area['geometry'] = project_area['geometry'].to_crs(epsg=4283)\n",
    "\n",
    "#find the bounding box that contains all the queried projects\n",
    "#addig 0.025 degrees to the bounding box to be certain the polygons are captured\n",
    "coords = project_area.total_bounds\n",
    "xmin, ymax, xmax, ymin =coords\n",
    "\n",
    "\n"
   ]
  },
  {
   "cell_type": "code",
   "execution_count": 5,
   "metadata": {},
   "outputs": [],
   "source": [
    "#set up peramiters for data loading\n",
    "\n",
    "sensors= ['s2a_ard_granule'] #pick the sentinal satelites you want\n",
    "\n",
    "bands_of_int =['aerosol', 'blue', 'green', 'red', 'rededge1', \n",
    "             'rededge2', 'rededge3', 'nir1', 'nir2', 'swir1', 'swir2', 'pixel_quality'] #pick the sentinal bands that you want, here i am just using visible light  \n",
    "\n",
    "query = {\n",
    "        'lat': (ymin, ymax),\n",
    "        'lon': (xmin, xmax),\n",
    "        'output_crs': 'EPSG:3577',\n",
    "        'resolution': (-10, 10),\n",
    "        'time':('2017-05-01', '2017-06-30')\n",
    "        }\n",
    "# use s2b_ard_granule \t for S2B\n",
    "#data_sent = s2aws.load(product='s2a_ard_granule', measurements=bands_of_int, group_by='solar_day', **query)"
   ]
  },
  {
   "cell_type": "code",
   "execution_count": 6,
   "metadata": {},
   "outputs": [],
   "source": [
    "data_sent = {}"
   ]
  },
  {
   "cell_type": "code",
   "execution_count": 8,
   "metadata": {},
   "outputs": [],
   "source": [
    "\n",
    "this_sensor = s2aws.load(product='s2a_ard_granule', measurements=bands_of_int, group_by='solar_day', **query)\n",
    "    \n",
    "    #retreive projection infromation\n",
    "crs = this_sensor.crs\n",
    "crswkt = this_sensor.crs.wkt\n",
    "affine = this_sensor.affine\n",
    "    \n",
    "#make a mask for full timeseries// if you aren't using a geomedian you may want this, but we don't need it\n",
    "clear_pixelsa = this_sensor.pixel_quality != 2\n",
    "clear_pixelsb = this_sensor.pixel_quality != 3\n",
    "clear_pixels = clear_pixelsa * clear_pixelsb\n",
    "clear_data = this_sensor.where(clear_pixels)\n",
    "    \n",
    "data_sent['s2a'] = clear_data"
   ]
  },
  {
   "cell_type": "code",
   "execution_count": 9,
   "metadata": {},
   "outputs": [
    {
     "ename": "AttributeError",
     "evalue": "'Dataset' object has no attribute 'crs'",
     "output_type": "error",
     "traceback": [
      "\u001b[0;31m---------------------------------------------------------------------------\u001b[0m",
      "\u001b[0;31mAttributeError\u001b[0m                            Traceback (most recent call last)",
      "\u001b[0;32m<ipython-input-9-b9bb9e9524dd>\u001b[0m in \u001b[0;36m<module>\u001b[0;34m()\u001b[0m\n\u001b[1;32m      3\u001b[0m \u001b[0;34m\u001b[0m\u001b[0m\n\u001b[1;32m      4\u001b[0m     \u001b[0;31m#retreive projection infromation\u001b[0m\u001b[0;34m\u001b[0m\u001b[0;34m\u001b[0m\u001b[0m\n\u001b[0;32m----> 5\u001b[0;31m \u001b[0mcrs\u001b[0m \u001b[0;34m=\u001b[0m \u001b[0mthis_sensor\u001b[0m\u001b[0;34m.\u001b[0m\u001b[0mcrs\u001b[0m\u001b[0;34m\u001b[0m\u001b[0m\n\u001b[0m\u001b[1;32m      6\u001b[0m \u001b[0mcrswkt\u001b[0m \u001b[0;34m=\u001b[0m \u001b[0mthis_sensor\u001b[0m\u001b[0;34m.\u001b[0m\u001b[0mcrs\u001b[0m\u001b[0;34m.\u001b[0m\u001b[0mwkt\u001b[0m\u001b[0;34m\u001b[0m\u001b[0m\n\u001b[1;32m      7\u001b[0m \u001b[0maffine\u001b[0m \u001b[0;34m=\u001b[0m \u001b[0mthis_sensor\u001b[0m\u001b[0;34m.\u001b[0m\u001b[0maffine\u001b[0m\u001b[0;34m\u001b[0m\u001b[0m\n",
      "\u001b[0;32m/g/data/v10/public/modules/dea-env/20180405/lib/python3.6/site-packages/xarray/core/common.py\u001b[0m in \u001b[0;36m__getattr__\u001b[0;34m(self, name)\u001b[0m\n\u001b[1;32m    173\u001b[0m                     \u001b[0;32mreturn\u001b[0m \u001b[0msource\u001b[0m\u001b[0;34m[\u001b[0m\u001b[0mname\u001b[0m\u001b[0;34m]\u001b[0m\u001b[0;34m\u001b[0m\u001b[0m\n\u001b[1;32m    174\u001b[0m         raise AttributeError(\"%r object has no attribute %r\" %\n\u001b[0;32m--> 175\u001b[0;31m                              (type(self).__name__, name))\n\u001b[0m\u001b[1;32m    176\u001b[0m \u001b[0;34m\u001b[0m\u001b[0m\n\u001b[1;32m    177\u001b[0m     \u001b[0;32mdef\u001b[0m \u001b[0m__setattr__\u001b[0m\u001b[0;34m(\u001b[0m\u001b[0mself\u001b[0m\u001b[0;34m,\u001b[0m \u001b[0mname\u001b[0m\u001b[0;34m,\u001b[0m \u001b[0mvalue\u001b[0m\u001b[0;34m)\u001b[0m\u001b[0;34m:\u001b[0m\u001b[0;34m\u001b[0m\u001b[0m\n",
      "\u001b[0;31mAttributeError\u001b[0m: 'Dataset' object has no attribute 'crs'"
     ]
    }
   ],
   "source": [
    "\n",
    "this_sensor = s2aws.load(product='s2b_ard_granule', measurements=bands_of_int, group_by='solar_day', **query)\n",
    "    \n",
    "    #retreive projection infromation\n",
    "crs = this_sensor.crs\n",
    "crswkt = this_sensor.crs.wkt\n",
    "affine = this_sensor.affine\n",
    "    \n",
    "#make a mask for full timeseries// if you aren't using a geomedian you may want this, but we don't need it\n",
    "clear_pixelsa = this_sensor.pixel_quality != 2\n",
    "clear_pixelsb = this_sensor.pixel_quality != 3\n",
    "clear_pixels = clear_pixelsa * clear_pixelsb\n",
    "clear_data = this_sensor.where(clear_pixels)\n",
    "    \n",
    "data_sent['s2b'] = clear_data"
   ]
  },
  {
   "cell_type": "markdown",
   "metadata": {},
   "source": [
    "data_sent = {}\n",
    "\n",
    "\n",
    "sensors_used = 0\n",
    "\n",
    "for i in sensors:\n",
    "    try:\n",
    "        this_sensor = s2aws.load(product= i, group_by='solar_day', **query)\n",
    "    \n",
    "        #retreive projection infromation\n",
    "        crs = this_sensor.crs\n",
    "        crswkt = this_sensor.crs.wkt\n",
    "        affine = this_sensor.affine\n",
    "    \n",
    "        #make a mask for full timeseries// if you aren't using a geomedian you may want this, but we don't need it\n",
    "        clear_pixelsa = this_sensor.pixel_quality != 2\n",
    "        clear_pixelsb = this_sensor.pixel_quality != 3\n",
    "        clear_pixels = clear_pixelsa * clear_pixelsb\n",
    "        clear_data = this_sensor.where(clear_pixels)\n",
    "    \n",
    "        data_sent[i] = clear_data\n",
    "        sensors_used = sensors_used + 1\n",
    "        print(i+' done')\n",
    "    except:\n",
    "        print(i+'dose not have any imagry for this time')\n",
    "        \n",
    "        #use masked vs UNmasked for geomedian depending on requierments "
   ]
  },
  {
   "cell_type": "markdown",
   "metadata": {},
   "source": [
    "i = 's2a_ard_granule'\n",
    "\n",
    "this_sensor = s2aws.load(product= i, group_by='solar_day', **query)\n",
    "    \n",
    "        #retreive projection infromation\n",
    "crs = this_sensor.crs\n",
    "crswkt = this_sensor.crs.wkt\n",
    "affine = this_sensor.affine\n",
    "    \n",
    "        #make a mask for full timeseries// if you aren't using a geomedian you may want this, but we don't need it\n",
    "clear_pixelsa = this_sensor.pixel_quality != 2\n",
    "clear_pixelsb = this_sensor.pixel_quality != 3\n",
    "clear_pixels = clear_pixelsa * clear_pixelsb\n",
    "clear_data = this_sensor.where(clear_pixels)\n",
    "    \n",
    "data_sent[i] = clear_data \n",
    "sensors_used = sensors_used + 1\n",
    "print(i+' done')"
   ]
  },
  {
   "cell_type": "code",
   "execution_count": null,
   "metadata": {},
   "outputs": [],
   "source": [
    "#look at the data \n",
    "data_sent"
   ]
  },
  {
   "cell_type": "code",
   "execution_count": null,
   "metadata": {},
   "outputs": [],
   "source": [
    "#concatinate all of the sentinal data together into one xarray, ordered by time, if you have more than one sensor!!\n",
    "\n",
    "\n",
    "data_sent = xr.concat(data_sent.values(),'time')\n",
    "data_sent = data_sent.sortby('time')\n",
    "data_sent.attrs['crs'] = crs\n",
    "data_sent.attrs['affin|e'] = affine\n",
    "\n"
   ]
  },
  {
   "cell_type": "code",
   "execution_count": null,
   "metadata": {},
   "outputs": [],
   "source": []
  },
  {
   "cell_type": "markdown",
   "metadata": {
    "scrolled": false
   },
   "source": [
    "# this is plotting an image from our timeslice, not geomedian\n",
    "\n",
    "threeBandImage(data_sent, bands = ['swir1', 'nir1', 'blue'], time = 10)"
   ]
  },
  {
   "cell_type": "code",
   "execution_count": null,
   "metadata": {
    "scrolled": false
   },
   "outputs": [],
   "source": [
    "#threeBandImage(data_sent, time = 3, bands = ['red', 'green', 'blue'])"
   ]
  },
  {
   "cell_type": "code",
   "execution_count": null,
   "metadata": {},
   "outputs": [],
   "source": []
  },
  {
   "cell_type": "code",
   "execution_count": null,
   "metadata": {},
   "outputs": [],
   "source": []
  },
  {
   "cell_type": "code",
   "execution_count": null,
   "metadata": {},
   "outputs": [],
   "source": []
  },
  {
   "cell_type": "code",
   "execution_count": null,
   "metadata": {},
   "outputs": [],
   "source": [
    "#cast the data to float numbers so geomedian calculation will work\n",
    "data_sent_flt = clear_data.astype(float,casting='safe')"
   ]
  },
  {
   "cell_type": "code",
   "execution_count": null,
   "metadata": {},
   "outputs": [],
   "source": [
    "#have a look at the data, you can see it's now in float format\n",
    "data_sent_flt "
   ]
  },
  {
   "cell_type": "code",
   "execution_count": null,
   "metadata": {},
   "outputs": [],
   "source": [
    "#create geomedian for data\n",
    "Sentinal_gm=GeoMedian().compute(data_sent_flt)"
   ]
  },
  {
   "cell_type": "code",
   "execution_count": null,
   "metadata": {},
   "outputs": [],
   "source": [
    "#have a look at the geomedian data\n",
    "Sentinal_gm"
   ]
  },
  {
   "cell_type": "code",
   "execution_count": null,
   "metadata": {},
   "outputs": [],
   "source": [
    "#Prepare geomedian imagery for plotting\n",
    "\n",
    "rgb = Sentinal_gm.to_array(dim='color').sel(color=[\n",
    "    'red','green', 'blue']).transpose('y', 'x', 'color')\n",
    "fake_saturation = 1000.0  #you may need to adjust this to get a clear image. higher numbers will make it darker, \n",
    "                                                                            #lower will make it ligher\n",
    "rgb = rgb.astype('double')\n",
    "clipped_visible = rgb.where(rgb<fake_saturation).fillna(fake_saturation)\n",
    "max_val = clipped_visible.max(['y', 'x'])\n",
    "scaled = (clipped_visible / max_val)"
   ]
  },
  {
   "cell_type": "code",
   "execution_count": null,
   "metadata": {
    "scrolled": false
   },
   "outputs": [],
   "source": [
    "fig = plt.figure(figsize =(8,8)) #edit size of plot \n",
    "plt.subplots_adjust(left=0.05, right=0.95, top=0.95, bottom=0.05) #set border dimensions\n",
    "fig.patch.set_facecolor('white') #make border white \n",
    "fig.patch.set_alpha(0.99)#ensure border white\n",
    "plt.axis('off')#remove axis \n",
    "plt.title('geomedian of selected area') #add title\n",
    "plt.imshow(scaled, interpolation = 'nearest') #create image"
   ]
  },
  {
   "cell_type": "code",
   "execution_count": 16,
   "metadata": {},
   "outputs": [
    {
     "ename": "TypeError",
     "evalue": "'module' object is not callable",
     "output_type": "error",
     "traceback": [
      "\u001b[0;31m---------------------------------------------------------------------------\u001b[0m",
      "\u001b[0;31mTypeError\u001b[0m                                 Traceback (most recent call last)",
      "\u001b[0;32m<ipython-input-16-5027f9d74839>\u001b[0m in \u001b[0;36m<module>\u001b[0;34m()\u001b[0m\n\u001b[0;32m----> 1\u001b[0;31m \u001b[0marray_to_geotiff\u001b[0m\u001b[0;34m(\u001b[0m\u001b[0;34m)\u001b[0m\u001b[0;34m\u001b[0m\u001b[0m\n\u001b[0m",
      "\u001b[0;31mTypeError\u001b[0m: 'module' object is not callable"
     ]
    }
   ],
   "source": [
    "array_to_geotiff()"
   ]
  },
  {
   "cell_type": "code",
   "execution_count": 17,
   "metadata": {},
   "outputs": [
    {
     "name": "stdout",
     "output_type": "stream",
     "text": [
      "Help on module array_to_geotiff:\n",
      "\n",
      "NAME\n",
      "    array_to_geotiff - Created on Wed Mar 28 14:59:31 2018\n",
      "\n",
      "DESCRIPTION\n",
      "    @author: u18343\n",
      "\n",
      "FUNCTIONS\n",
      "    array_to_geotiff(fname, data, geo_transform, projection, nodata_val=0, dtype=6)\n",
      "        Create a single band GeoTIFF file with data from an array. \n",
      "        \n",
      "        Because this works with simple arrays rather than xarray datasets from DEA, it requires\n",
      "        geotransform info (\"(upleft_x, x_size, x_rotation, upleft_y, y_rotation, y_size)\") and \n",
      "        projection data (in \"WKT\" format) for the output raster. These are typically obtained from \n",
      "        an existing raster using the following GDAL calls:\n",
      "        \n",
      "        # import gdal\n",
      "        # gdal_dataset = gdal.Open(raster_path)\n",
      "        # geotrans = gdal_dataset.GetGeoTransform()\n",
      "        # prj = gdal_dataset.GetProjection()\n",
      "        \n",
      "        ...or alternatively, directly from an xarray dataset:\n",
      "        \n",
      "        # geotrans = xarraydataset.geobox.transform.to_gdal()\n",
      "        # prj = xarraydataset.geobox.crs.wkt\n",
      "        \n",
      "        Last modified: March 2018\n",
      "        Author: Robbi Bishop-Taylor\n",
      "        \n",
      "        :attr fname: output file path\n",
      "        :attr data: input array\n",
      "        :attr geo_transform: geotransform for output raster; \n",
      "                             e.g. \"(upleft_x, x_size, x_rotation, upleft_y, y_rotation, y_size)\"\n",
      "        :attr projection: projection for output raster (in \"WKT\" format)\n",
      "        :attr nodata_val: value to convert to nodata in output raster; default 0\n",
      "        :attr dtype: value to convert to nodata in output raster; default gdal.GDT_Float32\n",
      "\n",
      "FILE\n",
      "    /g/data/u46/users/ck9738/dea-notebooks/Algorithms/array_to_geotiff.py\n",
      "\n",
      "\n"
     ]
    }
   ],
   "source": [
    "help(array_to_geotiff)"
   ]
  },
  {
   "cell_type": "code",
   "execution_count": null,
   "metadata": {},
   "outputs": [],
   "source": []
  },
  {
   "cell_type": "code",
   "execution_count": null,
   "metadata": {},
   "outputs": [],
   "source": []
  },
  {
   "cell_type": "code",
   "execution_count": null,
   "metadata": {},
   "outputs": [],
   "source": []
  },
  {
   "cell_type": "code",
   "execution_count": null,
   "metadata": {},
   "outputs": [],
   "source": []
  },
  {
   "cell_type": "code",
   "execution_count": null,
   "metadata": {},
   "outputs": [],
   "source": []
  },
  {
   "cell_type": "code",
   "execution_count": null,
   "metadata": {},
   "outputs": [],
   "source": []
  },
  {
   "cell_type": "code",
   "execution_count": null,
   "metadata": {},
   "outputs": [],
   "source": []
  },
  {
   "cell_type": "code",
   "execution_count": null,
   "metadata": {},
   "outputs": [],
   "source": []
  },
  {
   "cell_type": "code",
   "execution_count": null,
   "metadata": {},
   "outputs": [],
   "source": []
  },
  {
   "cell_type": "code",
   "execution_count": null,
   "metadata": {},
   "outputs": [],
   "source": []
  },
  {
   "cell_type": "code",
   "execution_count": null,
   "metadata": {},
   "outputs": [],
   "source": []
  },
  {
   "cell_type": "code",
   "execution_count": null,
   "metadata": {},
   "outputs": [],
   "source": []
  },
  {
   "cell_type": "code",
   "execution_count": null,
   "metadata": {},
   "outputs": [],
   "source": []
  },
  {
   "cell_type": "code",
   "execution_count": null,
   "metadata": {},
   "outputs": [],
   "source": []
  },
  {
   "cell_type": "code",
   "execution_count": null,
   "metadata": {},
   "outputs": [],
   "source": []
  },
  {
   "cell_type": "code",
   "execution_count": null,
   "metadata": {},
   "outputs": [],
   "source": []
  },
  {
   "cell_type": "code",
   "execution_count": null,
   "metadata": {},
   "outputs": [],
   "source": []
  },
  {
   "cell_type": "code",
   "execution_count": null,
   "metadata": {},
   "outputs": [],
   "source": []
  },
  {
   "cell_type": "code",
   "execution_count": null,
   "metadata": {},
   "outputs": [],
   "source": []
  },
  {
   "cell_type": "code",
   "execution_count": null,
   "metadata": {},
   "outputs": [],
   "source": []
  },
  {
   "cell_type": "code",
   "execution_count": null,
   "metadata": {},
   "outputs": [],
   "source": []
  },
  {
   "cell_type": "code",
   "execution_count": null,
   "metadata": {},
   "outputs": [],
   "source": []
  },
  {
   "cell_type": "code",
   "execution_count": null,
   "metadata": {},
   "outputs": [],
   "source": []
  },
  {
   "cell_type": "code",
   "execution_count": null,
   "metadata": {},
   "outputs": [],
   "source": []
  }
 ],
 "metadata": {
  "kernelspec": {
   "display_name": "Python 3",
   "language": "python",
   "name": "python3"
  },
  "language_info": {
   "codemirror_mode": {
    "name": "ipython",
    "version": 3
   },
   "file_extension": ".py",
   "mimetype": "text/x-python",
   "name": "python",
   "nbconvert_exporter": "python",
   "pygments_lexer": "ipython3",
   "version": "3.6.7"
  }
 },
 "nbformat": 4,
 "nbformat_minor": 2
}
