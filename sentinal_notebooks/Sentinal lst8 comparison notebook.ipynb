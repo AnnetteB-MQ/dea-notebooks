{
 "cells": [
  {
   "cell_type": "code",
   "execution_count": null,
   "metadata": {},
   "outputs": [],
   "source": []
  },
  {
   "cell_type": "code",
   "execution_count": 36,
   "metadata": {},
   "outputs": [
    {
     "name": "stdout",
     "output_type": "stream",
     "text": [
      "Populating the interactive namespace from numpy and matplotlib\n"
     ]
    },
    {
     "name": "stderr",
     "output_type": "stream",
     "text": [
      "/g/data/v10/public/modules/agdc-py3-env/20171214/envs/agdc/lib/python3.6/site-packages/IPython/core/magics/pylab.py:160: UserWarning: pylab import has clobbered these variables: ['datetime']\n",
      "`%matplotlib` prevents importing * from pylab and numpy\n",
      "  \"\\n`%matplotlib` prevents importing * from pylab and numpy\"\n"
     ]
    }
   ],
   "source": [
    "% pylab notebook\n",
    "import datacube\n",
    "from datacube.storage import masking\n",
    "from datacube import Datacube\n",
    "from datetime import datetime\n",
    "from skimage import exposure\n",
    "\n",
    "from datacube_stats.statistics import GeoMedian\n",
    "from matplotlib import pyplot as plt\n",
    "import numpy as np\n",
    "import pandas as pd\n",
    "import xarray as xr\n",
    "\n",
    "dc = datacube.Datacube()\n",
    "# Replace '156' and 'cek156' with the path to your own home directory on the VDI\n",
    "s2aws = Datacube(config='/home/547/ck9738/datacube-s2.conf')"
   ]
  },
  {
   "cell_type": "markdown",
   "metadata": {},
   "source": [
    "# Sentinal 2 A&B Geomedian notebook\n",
    "\n",
    "what does this notebook do? "
   ]
  },
  {
   "cell_type": "code",
   "execution_count": 37,
   "metadata": {},
   "outputs": [],
   "source": [
    "def three_band_image_flat(ds, bands, time = 0, figsize = [10,10], projection = 'projected'):\n",
    "    '''\n",
    "    threeBandImage takes three spectral bands from a dataframe with no time dimention, and plots them on the RGB \n",
    "    bands of an image. \n",
    "    \n",
    "    Last modified: March 2018\n",
    "    Author: Mike Barnes\n",
    "    Modified by: Claire Krause\n",
    "    Inputs: \n",
    "    ds -   Dataset containing the bands to be plotted\n",
    "    bands - list of three bands to be plotted\n",
    "    \n",
    "    Optional:\n",
    "    time - Index value of the time dimension of ds to be plotted\n",
    "    figsize - dimensions for the output figure\n",
    "    projection - options are 'projected' or 'geographic'. To determine if the image is \n",
    "    in degrees or northings\n",
    "    '''\n",
    "    y, x = ds[bands[0]].shape\n",
    "    rawimg = np.zeros((y,x,3), dtype = np.float32)\n",
    "    for i, colour in enumerate(bands):\n",
    "        rawimg[:,:,i] = ds[colour].values\n",
    "    rawimg[rawimg == -999] = np.nan\n",
    "    img_toshow = exposure.equalize_hist(rawimg, mask = np.isfinite(rawimg))\n",
    "    fig = plt.figure(figsize = figsize)\n",
    "    plt.imshow(img_toshow)\n",
    "    ax = plt.gca()\n",
    "    ax.set_title('plot', fontweight = 'bold', fontsize = 16)\n",
    "    ax.set_xticklabels(ds.x.values)\n",
    "    ax.set_yticklabels(ds.y.values)\n",
    "    if projection == 'geographic':\n",
    "        ax.set_xlabel('Longitude', fontweight = 'bold')\n",
    "        ax.set_ylabel('Latitude', fontweight = 'bold')\n",
    "    else:\n",
    "        ax.set_xlabel('Eastings', fontweight = 'bold')\n",
    "        ax.set_ylabel('Northings', fontweight = 'bold')"
   ]
  },
  {
   "cell_type": "markdown",
   "metadata": {},
   "source": [
    "\n",
    "#set up peramiters for sentinal data loading\n",
    "\n",
    "Ssensors= ['s2a_ard_granule', 's2b_ard_granule'] #pick the sentinal satelites you want\n",
    "\n",
    "Sbands_of_int =['red','blue','green'] #pick the sentinal bands that you want, here i am just using visible light  \n",
    "\n",
    "Squery = {\n",
    "        'lat': (-30.755, -30.795),\n",
    "        'lon': (144.880, 144.940),\n",
    "        'output_crs': 'EPSG:3577',\n",
    "        'resolution': (-10, 10),\n",
    "        'time':('2017-06-01', '2018-01-01')\n",
    "        }\n",
    "# use s2b_ard_granule \t for S2B\n",
    "#data = s2aws.load(product='s2a_ard_granule', group_by='solar_day', **query)"
   ]
  },
  {
   "cell_type": "code",
   "execution_count": 38,
   "metadata": {},
   "outputs": [
    {
     "ename": "TypeError",
     "evalue": "unhashable type: 'list'",
     "output_type": "error",
     "traceback": [
      "\u001b[0;31m---------------------------------------------------------------------------\u001b[0m",
      "\u001b[0;31mTypeError\u001b[0m                                 Traceback (most recent call last)",
      "\u001b[0;32m<ipython-input-38-095b869d06d4>\u001b[0m in \u001b[0;36m<module>\u001b[0;34m()\u001b[0m\n\u001b[1;32m     15\u001b[0m \u001b[0;31m# this quiery retreives our data request entered in above cell\u001b[0m\u001b[0;34m\u001b[0m\u001b[0;34m\u001b[0m\u001b[0m\n\u001b[1;32m     16\u001b[0m \u001b[0;34m\u001b[0m\u001b[0m\n\u001b[0;32m---> 17\u001b[0;31m \u001b[0mdata_land\u001b[0m \u001b[0;34m=\u001b[0m \u001b[0mdc\u001b[0m\u001b[0;34m.\u001b[0m\u001b[0mload\u001b[0m\u001b[0;34m(\u001b[0m\u001b[0mproduct\u001b[0m\u001b[0;34m=\u001b[0m\u001b[0mLsensors\u001b[0m\u001b[0;34m,\u001b[0m \u001b[0mmeasurements\u001b[0m\u001b[0;34m=\u001b[0m\u001b[0mLbands_of_int\u001b[0m\u001b[0;34m,\u001b[0m \u001b[0mgroup_by\u001b[0m\u001b[0;34m=\u001b[0m\u001b[0;34m'solar_day'\u001b[0m\u001b[0;34m,\u001b[0m  \u001b[0;34m**\u001b[0m\u001b[0mLquery\u001b[0m\u001b[0;34m)\u001b[0m\u001b[0;34m\u001b[0m\u001b[0m\n\u001b[0m\u001b[1;32m     18\u001b[0m \u001b[0;34m\u001b[0m\u001b[0m\n\u001b[1;32m     19\u001b[0m \u001b[0mdata_land\u001b[0m\u001b[0;34m\u001b[0m\u001b[0m\n",
      "\u001b[0;32m/g/data/v10/public/modules/agdc-py3/1.5.4/lib/python3.6/site-packages/datacube/api/core.py\u001b[0m in \u001b[0;36mload\u001b[0;34m(self, product, measurements, output_crs, resolution, resampling, stack, dask_chunks, like, fuse_func, align, datasets, **query)\u001b[0m\n\u001b[1;32m    321\u001b[0m         \u001b[0mgrouped\u001b[0m \u001b[0;34m=\u001b[0m \u001b[0mself\u001b[0m\u001b[0;34m.\u001b[0m\u001b[0mgroup_datasets\u001b[0m\u001b[0;34m(\u001b[0m\u001b[0mobservations\u001b[0m\u001b[0;34m,\u001b[0m \u001b[0mgroup_by\u001b[0m\u001b[0;34m)\u001b[0m\u001b[0;34m\u001b[0m\u001b[0m\n\u001b[1;32m    322\u001b[0m \u001b[0;34m\u001b[0m\u001b[0m\n\u001b[0;32m--> 323\u001b[0;31m         \u001b[0mmeasurements\u001b[0m \u001b[0;34m=\u001b[0m \u001b[0mself\u001b[0m\u001b[0;34m.\u001b[0m\u001b[0mindex\u001b[0m\u001b[0;34m.\u001b[0m\u001b[0mproducts\u001b[0m\u001b[0;34m.\u001b[0m\u001b[0mget_by_name\u001b[0m\u001b[0;34m(\u001b[0m\u001b[0mproduct\u001b[0m\u001b[0;34m)\u001b[0m\u001b[0;34m.\u001b[0m\u001b[0mlookup_measurements\u001b[0m\u001b[0;34m(\u001b[0m\u001b[0mmeasurements\u001b[0m\u001b[0;34m)\u001b[0m\u001b[0;34m\u001b[0m\u001b[0m\n\u001b[0m\u001b[1;32m    324\u001b[0m         \u001b[0mmeasurements\u001b[0m \u001b[0;34m=\u001b[0m \u001b[0mset_resampling_method\u001b[0m\u001b[0;34m(\u001b[0m\u001b[0mmeasurements\u001b[0m\u001b[0;34m,\u001b[0m \u001b[0mresampling\u001b[0m\u001b[0;34m)\u001b[0m\u001b[0;34m\u001b[0m\u001b[0m\n\u001b[1;32m    325\u001b[0m \u001b[0;34m\u001b[0m\u001b[0m\n",
      "\u001b[0;32m/g/data/v10/public/modules/agdc-py3/1.5.4/lib/python3.6/site-packages/datacube/index/_datasets.py\u001b[0m in \u001b[0;36mget_by_name\u001b[0;34m(self, name)\u001b[0m\n\u001b[1;32m    496\u001b[0m         \"\"\"\n\u001b[1;32m    497\u001b[0m         \u001b[0;32mtry\u001b[0m\u001b[0;34m:\u001b[0m\u001b[0;34m\u001b[0m\u001b[0m\n\u001b[0;32m--> 498\u001b[0;31m             \u001b[0;32mreturn\u001b[0m \u001b[0mself\u001b[0m\u001b[0;34m.\u001b[0m\u001b[0mget_by_name_unsafe\u001b[0m\u001b[0;34m(\u001b[0m\u001b[0mname\u001b[0m\u001b[0;34m)\u001b[0m\u001b[0;34m\u001b[0m\u001b[0m\n\u001b[0m\u001b[1;32m    499\u001b[0m         \u001b[0;32mexcept\u001b[0m \u001b[0mKeyError\u001b[0m\u001b[0;34m:\u001b[0m\u001b[0;34m\u001b[0m\u001b[0m\n\u001b[1;32m    500\u001b[0m             \u001b[0;32mreturn\u001b[0m \u001b[0;32mNone\u001b[0m\u001b[0;34m\u001b[0m\u001b[0m\n",
      "\u001b[0;32m/g/data/v10/public/modules/agdc-py3-env/20171214/envs/agdc/lib/python3.6/site-packages/cachetools/func.py\u001b[0m in \u001b[0;36mwrapper\u001b[0;34m(*args, **kwargs)\u001b[0m\n\u001b[1;32m     51\u001b[0m             \u001b[0;32mwith\u001b[0m \u001b[0mlock\u001b[0m\u001b[0;34m:\u001b[0m\u001b[0;34m\u001b[0m\u001b[0m\n\u001b[1;32m     52\u001b[0m                 \u001b[0;32mtry\u001b[0m\u001b[0;34m:\u001b[0m\u001b[0;34m\u001b[0m\u001b[0m\n\u001b[0;32m---> 53\u001b[0;31m                     \u001b[0mv\u001b[0m \u001b[0;34m=\u001b[0m \u001b[0mcache\u001b[0m\u001b[0;34m[\u001b[0m\u001b[0mk\u001b[0m\u001b[0;34m]\u001b[0m\u001b[0;34m\u001b[0m\u001b[0m\n\u001b[0m\u001b[1;32m     54\u001b[0m                     \u001b[0mstats\u001b[0m\u001b[0;34m[\u001b[0m\u001b[0;36m0\u001b[0m\u001b[0;34m]\u001b[0m \u001b[0;34m+=\u001b[0m \u001b[0;36m1\u001b[0m\u001b[0;34m\u001b[0m\u001b[0m\n\u001b[1;32m     55\u001b[0m                     \u001b[0;32mreturn\u001b[0m \u001b[0mv\u001b[0m\u001b[0;34m\u001b[0m\u001b[0m\n",
      "\u001b[0;32m/g/data/v10/public/modules/agdc-py3-env/20171214/envs/agdc/lib/python3.6/site-packages/cachetools/lru.py\u001b[0m in \u001b[0;36m__getitem__\u001b[0;34m(self, key, cache_getitem)\u001b[0m\n\u001b[1;32m     14\u001b[0m \u001b[0;34m\u001b[0m\u001b[0m\n\u001b[1;32m     15\u001b[0m     \u001b[0;32mdef\u001b[0m \u001b[0m__getitem__\u001b[0m\u001b[0;34m(\u001b[0m\u001b[0mself\u001b[0m\u001b[0;34m,\u001b[0m \u001b[0mkey\u001b[0m\u001b[0;34m,\u001b[0m \u001b[0mcache_getitem\u001b[0m\u001b[0;34m=\u001b[0m\u001b[0mCache\u001b[0m\u001b[0;34m.\u001b[0m\u001b[0m__getitem__\u001b[0m\u001b[0;34m)\u001b[0m\u001b[0;34m:\u001b[0m\u001b[0;34m\u001b[0m\u001b[0m\n\u001b[0;32m---> 16\u001b[0;31m         \u001b[0mvalue\u001b[0m \u001b[0;34m=\u001b[0m \u001b[0mcache_getitem\u001b[0m\u001b[0;34m(\u001b[0m\u001b[0mself\u001b[0m\u001b[0;34m,\u001b[0m \u001b[0mkey\u001b[0m\u001b[0;34m)\u001b[0m\u001b[0;34m\u001b[0m\u001b[0m\n\u001b[0m\u001b[1;32m     17\u001b[0m         \u001b[0mself\u001b[0m\u001b[0;34m.\u001b[0m\u001b[0m__update\u001b[0m\u001b[0;34m(\u001b[0m\u001b[0mkey\u001b[0m\u001b[0;34m)\u001b[0m\u001b[0;34m\u001b[0m\u001b[0m\n\u001b[1;32m     18\u001b[0m         \u001b[0;32mreturn\u001b[0m \u001b[0mvalue\u001b[0m\u001b[0;34m\u001b[0m\u001b[0m\n",
      "\u001b[0;32m/g/data/v10/public/modules/agdc-py3-env/20171214/envs/agdc/lib/python3.6/site-packages/cachetools/cache.py\u001b[0m in \u001b[0;36m__getitem__\u001b[0;34m(self, key)\u001b[0m\n\u001b[1;32m     40\u001b[0m     \u001b[0;32mdef\u001b[0m \u001b[0m__getitem__\u001b[0m\u001b[0;34m(\u001b[0m\u001b[0mself\u001b[0m\u001b[0;34m,\u001b[0m \u001b[0mkey\u001b[0m\u001b[0;34m)\u001b[0m\u001b[0;34m:\u001b[0m\u001b[0;34m\u001b[0m\u001b[0m\n\u001b[1;32m     41\u001b[0m         \u001b[0;32mtry\u001b[0m\u001b[0;34m:\u001b[0m\u001b[0;34m\u001b[0m\u001b[0m\n\u001b[0;32m---> 42\u001b[0;31m             \u001b[0;32mreturn\u001b[0m \u001b[0mself\u001b[0m\u001b[0;34m.\u001b[0m\u001b[0m__data\u001b[0m\u001b[0;34m[\u001b[0m\u001b[0mkey\u001b[0m\u001b[0;34m]\u001b[0m\u001b[0;34m\u001b[0m\u001b[0m\n\u001b[0m\u001b[1;32m     43\u001b[0m         \u001b[0;32mexcept\u001b[0m \u001b[0mKeyError\u001b[0m\u001b[0;34m:\u001b[0m\u001b[0;34m\u001b[0m\u001b[0m\n\u001b[1;32m     44\u001b[0m             \u001b[0;32mreturn\u001b[0m \u001b[0mself\u001b[0m\u001b[0;34m.\u001b[0m\u001b[0m__missing__\u001b[0m\u001b[0;34m(\u001b[0m\u001b[0mkey\u001b[0m\u001b[0;34m)\u001b[0m\u001b[0;34m\u001b[0m\u001b[0m\n",
      "\u001b[0;32m/g/data/v10/public/modules/agdc-py3-env/20171214/envs/agdc/lib/python3.6/site-packages/cachetools/keys.py\u001b[0m in \u001b[0;36m__hash__\u001b[0;34m(self, hash)\u001b[0m\n\u001b[1;32m     13\u001b[0m         \u001b[0mhashvalue\u001b[0m \u001b[0;34m=\u001b[0m \u001b[0mself\u001b[0m\u001b[0;34m.\u001b[0m\u001b[0m__hashvalue\u001b[0m\u001b[0;34m\u001b[0m\u001b[0m\n\u001b[1;32m     14\u001b[0m         \u001b[0;32mif\u001b[0m \u001b[0mhashvalue\u001b[0m \u001b[0;32mis\u001b[0m \u001b[0;32mNone\u001b[0m\u001b[0;34m:\u001b[0m\u001b[0;34m\u001b[0m\u001b[0m\n\u001b[0;32m---> 15\u001b[0;31m             \u001b[0mself\u001b[0m\u001b[0;34m.\u001b[0m\u001b[0m__hashvalue\u001b[0m \u001b[0;34m=\u001b[0m \u001b[0mhashvalue\u001b[0m \u001b[0;34m=\u001b[0m \u001b[0mhash\u001b[0m\u001b[0;34m(\u001b[0m\u001b[0mself\u001b[0m\u001b[0;34m)\u001b[0m\u001b[0;34m\u001b[0m\u001b[0m\n\u001b[0m\u001b[1;32m     16\u001b[0m         \u001b[0;32mreturn\u001b[0m \u001b[0mhashvalue\u001b[0m\u001b[0;34m\u001b[0m\u001b[0m\n\u001b[1;32m     17\u001b[0m \u001b[0;34m\u001b[0m\u001b[0m\n",
      "\u001b[0;31mTypeError\u001b[0m: unhashable type: 'list'"
     ]
    }
   ],
   "source": [
    "#Temporal range, wavelengths/band and sensors of interest are defined for LANDSAT\n",
    "\n",
    "Lsensors= ['ls5_nbart_albers','ls7_nbart_albers'] #pick the landsat satelites you want\n",
    "\n",
    "Lbands_of_int =['red','blue','green', 'nir'] #pick the sentinal bands that you want, here i am just using visible light  \n",
    "\n",
    "Lquery = {\n",
    "        'lat': (-19.28, -19.32),\n",
    "        'lon': (146.74, 146.78),\n",
    "        'output_crs': 'EPSG:3577',\n",
    "        'resolution': (-25, 25),\n",
    "        'time':('2008-06-01', '2010-05-30')\n",
    "        }\n",
    "\n",
    "# this quiery retreives our data request entered in above cell\n",
    "\n",
    "data_land = dc.load(product=Lsensors, measurements= Lbands_of_int, group_by='solar_day',  **Lquery)\n",
    "\n",
    "data_land"
   ]
  },
  {
   "cell_type": "markdown",
   "metadata": {},
   "source": [
    "data_sent = {}\n",
    "\n",
    "for i in Ssensors:\n",
    "    this_sensor = s2aws.load(product= i, group_by='solar_day', **Squery)\n",
    "    \n",
    "    #retreive projection infromation\n",
    "    crs = this_sensor.crs\n",
    "    crswkt = this_sensor.crs.wkt\n",
    "    affine = this_sensor.affine\n",
    "    \n",
    "    #make a mask for full timeseries// if you aren't using a geomedian you may want this, but we don't need it\n",
    "    #clear_pixels = this_sensor.pixel_quality == 1\n",
    "    #clear_data = this_sensor.where(clear_pixels)\n",
    "    \n",
    "    data_sent[i] = this_sensor"
   ]
  },
  {
   "cell_type": "markdown",
   "metadata": {},
   "source": [
    "#concatinate all of the sentinal data together into one xarray, ordered by time \n",
    "\n",
    "data_sent = xr.concat(data_sent.values(),'time')\n",
    "data_sent = data_sent.sortby('time')\n",
    "data_sent.attrs['crs'] = crs\n",
    "data_sent.attrs['affin|e'] = affine"
   ]
  },
  {
   "cell_type": "markdown",
   "metadata": {},
   "source": [
    "data_sent"
   ]
  },
  {
   "cell_type": "code",
   "execution_count": null,
   "metadata": {},
   "outputs": [],
   "source": [
    "#try to load 10m resampled landsat data\n",
    "\n",
    "#data_land = dc.load(product='ls8_nbart_albers', like=data_sent)"
   ]
  },
  {
   "cell_type": "code",
   "execution_count": null,
   "metadata": {},
   "outputs": [],
   "source": [
    "data_land"
   ]
  },
  {
   "cell_type": "code",
   "execution_count": null,
   "metadata": {},
   "outputs": [],
   "source": [
    "#cast the data to float numbers so geomedian calculation will work\n",
    "#data_sent_flt = data_sent.astype(float,casting='safe')\n",
    "data_land_flt = data_land.astype(float,casting='safe')"
   ]
  },
  {
   "cell_type": "code",
   "execution_count": null,
   "metadata": {
    "scrolled": true
   },
   "outputs": [],
   "source": [
    "#create geomedian for data\n",
    "#Sentinal_gm=GeoMedian().compute(data_sent_flt)"
   ]
  },
  {
   "cell_type": "code",
   "execution_count": null,
   "metadata": {},
   "outputs": [],
   "source": [
    "#create geomedian for data\n",
    "lnds_8_gm=GeoMedian().compute(data_land_flt)\n",
    "    "
   ]
  },
  {
   "cell_type": "code",
   "execution_count": null,
   "metadata": {},
   "outputs": [],
   "source": [
    "#sent_NDVI =  (Sentinal_gm['nir1']-Sentinal_gm['red'])/(Sentinal_gm['nir1']+Sentinal_gm['red'])\n",
    "land_NDVI =  (lnds_8_gm['nir']-lnds_8_gm['red'])/(lnds_8_gm['nir']+lnds_8_gm['red'])"
   ]
  },
  {
   "cell_type": "code",
   "execution_count": null,
   "metadata": {
    "scrolled": false
   },
   "outputs": [],
   "source": [
    "#plt.scatter(sent_NDVI.data.ravel(),land_NDVI.data.ravel(), alpha=0.1)"
   ]
  },
  {
   "cell_type": "code",
   "execution_count": null,
   "metadata": {},
   "outputs": [],
   "source": [
    "fig, ax = plt.subplots(figsize=(10,10))\n",
    "plt.title('Time Two NDVI')\n",
    "ax.imshow(land_NDVI)\n",
    "#plt.savefig('plots/land/ndvi_after_diffcolo.png')\n",
    "plt.show()"
   ]
  },
  {
   "cell_type": "code",
   "execution_count": null,
   "metadata": {},
   "outputs": [],
   "source": []
  },
  {
   "cell_type": "code",
   "execution_count": null,
   "metadata": {},
   "outputs": [],
   "source": []
  },
  {
   "cell_type": "code",
   "execution_count": null,
   "metadata": {
    "scrolled": false
   },
   "outputs": [],
   "source": [
    "three_band_image_flat(lnds_8_gm, bands=['red','green','blue'])"
   ]
  },
  {
   "cell_type": "code",
   "execution_count": null,
   "metadata": {},
   "outputs": [],
   "source": [
    "#three_band_image_flat(lnds_8_gm, bands=['red','green','blue'],)"
   ]
  },
  {
   "cell_type": "code",
   "execution_count": null,
   "metadata": {},
   "outputs": [],
   "source": []
  },
  {
   "cell_type": "code",
   "execution_count": null,
   "metadata": {},
   "outputs": [],
   "source": []
  },
  {
   "cell_type": "code",
   "execution_count": null,
   "metadata": {},
   "outputs": [],
   "source": []
  },
  {
   "cell_type": "code",
   "execution_count": null,
   "metadata": {
    "scrolled": false
   },
   "outputs": [],
   "source": []
  },
  {
   "cell_type": "code",
   "execution_count": null,
   "metadata": {},
   "outputs": [],
   "source": []
  },
  {
   "cell_type": "code",
   "execution_count": null,
   "metadata": {},
   "outputs": [],
   "source": []
  },
  {
   "cell_type": "code",
   "execution_count": null,
   "metadata": {},
   "outputs": [],
   "source": []
  },
  {
   "cell_type": "code",
   "execution_count": null,
   "metadata": {},
   "outputs": [],
   "source": []
  },
  {
   "cell_type": "code",
   "execution_count": null,
   "metadata": {},
   "outputs": [],
   "source": []
  },
  {
   "cell_type": "code",
   "execution_count": null,
   "metadata": {},
   "outputs": [],
   "source": [
    "\n"
   ]
  },
  {
   "cell_type": "code",
   "execution_count": null,
   "metadata": {},
   "outputs": [],
   "source": []
  },
  {
   "cell_type": "code",
   "execution_count": null,
   "metadata": {},
   "outputs": [],
   "source": [
    "\n"
   ]
  },
  {
   "cell_type": "code",
   "execution_count": null,
   "metadata": {},
   "outputs": [],
   "source": []
  },
  {
   "cell_type": "code",
   "execution_count": null,
   "metadata": {},
   "outputs": [],
   "source": []
  },
  {
   "cell_type": "code",
   "execution_count": null,
   "metadata": {},
   "outputs": [],
   "source": []
  },
  {
   "cell_type": "code",
   "execution_count": null,
   "metadata": {},
   "outputs": [],
   "source": []
  },
  {
   "cell_type": "code",
   "execution_count": null,
   "metadata": {},
   "outputs": [],
   "source": []
  },
  {
   "cell_type": "code",
   "execution_count": null,
   "metadata": {},
   "outputs": [],
   "source": []
  }
 ],
 "metadata": {
  "kernelspec": {
   "display_name": "Python 3",
   "language": "python",
   "name": "python3"
  },
  "language_info": {
   "codemirror_mode": {
    "name": "ipython",
    "version": 3
   },
   "file_extension": ".py",
   "mimetype": "text/x-python",
   "name": "python",
   "nbconvert_exporter": "python",
   "pygments_lexer": "ipython3",
   "version": "3.6.5"
  }
 },
 "nbformat": 4,
 "nbformat_minor": 2
}
