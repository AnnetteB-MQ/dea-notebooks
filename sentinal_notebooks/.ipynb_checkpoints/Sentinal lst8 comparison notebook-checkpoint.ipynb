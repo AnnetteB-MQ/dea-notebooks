{
 "cells": [
  {
   "cell_type": "code",
   "execution_count": 6,
   "metadata": {},
   "outputs": [
    {
     "name": "stdout",
     "output_type": "stream",
     "text": [
      "Populating the interactive namespace from numpy and matplotlib\n"
     ]
    },
    {
     "name": "stderr",
     "output_type": "stream",
     "text": [
      "/g/data/v10/public/modules/agdc-py3-env/20171214/envs/agdc/lib/python3.6/site-packages/IPython/core/magics/pylab.py:160: UserWarning: pylab import has clobbered these variables: ['datetime']\n",
      "`%matplotlib` prevents importing * from pylab and numpy\n",
      "  \"\\n`%matplotlib` prevents importing * from pylab and numpy\"\n"
     ]
    }
   ],
   "source": [
    "% pylab notebook\n",
    "import datacube\n",
    "from datacube.storage import masking\n",
    "from datacube import Datacube\n",
    "from datetime import datetime\n",
    "from skimage import exposure\n",
    "\n",
    "from datacube_stats.statistics import GeoMedian\n",
    "from matplotlib import pyplot as plt\n",
    "import numpy as np\n",
    "import pandas as pd\n",
    "import xarray as xr\n",
    "\n",
    "dc = datacube.Datacube()\n",
    "# Replace '156' and 'cek156' with the path to your own home directory on the VDI\n",
    "s2aws = Datacube(config='/home/547/ck9738/datacube-s2.conf')"
   ]
  },
  {
   "cell_type": "markdown",
   "metadata": {},
   "source": [
    "# Sentinal 2 A&B Geomedian notebook\n",
    "\n",
    "what does this notebook do? "
   ]
  },
  {
   "cell_type": "code",
   "execution_count": 7,
   "metadata": {},
   "outputs": [],
   "source": [
    "def three_band_image_flat(ds, bands, time = 0, figsize = [10,10], projection = 'projected'):\n",
    "    '''\n",
    "    threeBandImage takes three spectral bands from a dataframe with no time dimention, and plots them on the RGB \n",
    "    bands of an image. \n",
    "    \n",
    "    Last modified: March 2018\n",
    "    Author: Mike Barnes\n",
    "    Modified by: Claire Krause\n",
    "    Inputs: \n",
    "    ds -   Dataset containing the bands to be plotted\n",
    "    bands - list of three bands to be plotted\n",
    "    \n",
    "    Optional:\n",
    "    time - Index value of the time dimension of ds to be plotted\n",
    "    figsize - dimensions for the output figure\n",
    "    projection - options are 'projected' or 'geographic'. To determine if the image is \n",
    "    in degrees or northings\n",
    "    '''\n",
    "    y, x = ds[bands[0]].shape\n",
    "    rawimg = np.zeros((y,x,3), dtype = np.float32)\n",
    "    for i, colour in enumerate(bands):\n",
    "        rawimg[:,:,i] = ds[colour].values\n",
    "    rawimg[rawimg == -999] = np.nan\n",
    "    img_toshow = exposure.equalize_hist(rawimg, mask = np.isfinite(rawimg))\n",
    "    fig = plt.figure(figsize = figsize)\n",
    "    plt.imshow(img_toshow)\n",
    "    ax = plt.gca()\n",
    "    ax.set_title('plot', fontweight = 'bold', fontsize = 16)\n",
    "    ax.set_xticklabels(ds.x.values)\n",
    "    ax.set_yticklabels(ds.y.values)\n",
    "    if projection == 'geographic':\n",
    "        ax.set_xlabel('Longitude', fontweight = 'bold')\n",
    "        ax.set_ylabel('Latitude', fontweight = 'bold')\n",
    "    else:\n",
    "        ax.set_xlabel('Eastings', fontweight = 'bold')\n",
    "        ax.set_ylabel('Northings', fontweight = 'bold')"
   ]
  },
  {
   "cell_type": "code",
   "execution_count": 8,
   "metadata": {},
   "outputs": [],
   "source": [
    "\n",
    "#set up peramiters for sentinal data loading\n",
    "\n",
    "Ssensors= ['s2a_ard_granule', 's2b_ard_granule'] #pick the sentinal satelites you want\n",
    "\n",
    "Sbands_of_int =['red','blue','green'] #pick the sentinal bands that you want, here i am just using visible light  \n",
    "\n",
    "Squery = {\n",
    "        'lat': (-35.25, -35.35),\n",
    "        'lon': (149.10, 149.20),\n",
    "        'output_crs': 'EPSG:3577',\n",
    "        'resolution': (-10, 10),\n",
    "        'time':('2017-01-01', '2018-01-30')\n",
    "        }\n",
    "# use s2b_ard_granule \t for S2B\n",
    "#data = s2aws.load(product='s2a_ard_granule', group_by='solar_day', **query)"
   ]
  },
  {
   "cell_type": "code",
   "execution_count": 16,
   "metadata": {},
   "outputs": [
    {
     "data": {
      "text/plain": [
       "<xarray.Dataset>\n",
       "Dimensions:  (time: 49, x: 420, y: 491)\n",
       "Coordinates:\n",
       "  * time     (time) datetime64[ns] 2017-01-07T23:50:29 2017-01-14T23:56:38 ...\n",
       "  * y        (y) float64 -3.954e+06 -3.954e+06 -3.954e+06 -3.954e+06 ...\n",
       "  * x        (x) float64 1.547e+06 1.547e+06 1.547e+06 1.547e+06 1.547e+06 ...\n",
       "Data variables:\n",
       "    red      (time, y, x) int16 3829 3929 4034 4194 4375 4517 4687 4794 4809 ...\n",
       "    blue     (time, y, x) int16 4128 4219 4308 4409 4504 4613 4777 4847 4849 ...\n",
       "    green    (time, y, x) int16 3783 3892 3992 4143 4353 4536 4702 4790 4812 ...\n",
       "Attributes:\n",
       "    crs:      EPSG:3577"
      ]
     },
     "execution_count": 16,
     "metadata": {},
     "output_type": "execute_result"
    }
   ],
   "source": [
    "#Temporal range, wavelengths/band and sensors of interest are defined for LANDSAT\n",
    "\n",
    "Lsensors= ['ls8_nbart_albers'] #pick the landsat satelites you want\n",
    "\n",
    "Lbands_of_int =['red','blue','green'] #pick the sentinal bands that you want, here i am just using visible light  \n",
    "\n",
    "Lquery = {\n",
    "        'lat': (-35.25, -35.35),\n",
    "        'lon': (149.10, 149.20),\n",
    "        'output_crs': 'EPSG:3577',\n",
    "        'resolution': (-25, 25),\n",
    "        'time':('2017-01-01', '2018-01-30')\n",
    "        }\n",
    "\n",
    "# this quiery retreives our data request entered in above cell\n",
    "\n",
    "data_land = dc.load(product='ls8_nbart_albers', measurements=Lbands_of_int, group_by='solar_day',  **Lquery)\n",
    "\n",
    "data_land"
   ]
  },
  {
   "cell_type": "code",
   "execution_count": 17,
   "metadata": {},
   "outputs": [],
   "source": [
    "data_sent = {}\n",
    "\n",
    "for i in Ssensors:\n",
    "    this_sensor = s2aws.load(product= i, measurements=Sbands_of_int, group_by='solar_day', **Squery)\n",
    "    \n",
    "    #retreive projection infromation\n",
    "    crs = this_sensor.crs\n",
    "    crswkt = this_sensor.crs.wkt\n",
    "    affine = this_sensor.affine\n",
    "    \n",
    "    #make a mask for full timeseries// if you aren't using a geomedian you may want this, but we don't need it\n",
    "    #clear_pixels = this_sensor.pixel_quality == 1\n",
    "    #clear_data = this_sensor.where(clear_pixels)\n",
    "    \n",
    "    data_sent[i] = this_sensor"
   ]
  },
  {
   "cell_type": "code",
   "execution_count": 18,
   "metadata": {},
   "outputs": [],
   "source": [
    "#concatinate all of the sentinal data together into one xarray, ordered by time \n",
    "\n",
    "data_sent = xr.concat(data_sent.values(),'time')\n",
    "data_sent = data_sent.sortby('time')\n",
    "data_sent.attrs['crs'] = crs\n",
    "data_sent.attrs['affin|e'] = affine"
   ]
  },
  {
   "cell_type": "code",
   "execution_count": 19,
   "metadata": {},
   "outputs": [
    {
     "data": {
      "text/plain": [
       "<xarray.Dataset>\n",
       "Dimensions:  (time: 47, x: 1049, y: 1224)\n",
       "Coordinates:\n",
       "  * y        (y) float64 -3.954e+06 -3.954e+06 -3.954e+06 -3.954e+06 ...\n",
       "  * x        (x) float64 1.547e+06 1.547e+06 1.547e+06 1.547e+06 1.547e+06 ...\n",
       "  * time     (time) datetime64[ns] 2017-01-05T00:02:12.026000 ...\n",
       "Data variables:\n",
       "    red      (time, y, x) int16 887 744 683 687 683 653 636 665 661 648 620 ...\n",
       "    blue     (time, y, x) int16 671 628 605 623 625 603 575 593 584 585 544 ...\n",
       "    green    (time, y, x) int16 804 734 706 711 697 685 640 674 640 637 620 ...\n",
       "Attributes:\n",
       "    crs:      EPSG:3577\n",
       "    affin|e:  | 10.00, 0.00, 1546830.00|\\n| 0.00,-10.00,-3953690.00|\\n| 0.00,..."
      ]
     },
     "execution_count": 19,
     "metadata": {},
     "output_type": "execute_result"
    }
   ],
   "source": [
    "data_sent"
   ]
  },
  {
   "cell_type": "code",
   "execution_count": 20,
   "metadata": {},
   "outputs": [],
   "source": [
    "#cast the data to float numbers so geomedian calculation will work\n",
    "data_sent_flt = data_sent.astype(float,casting='safe')"
   ]
  },
  {
   "cell_type": "code",
   "execution_count": null,
   "metadata": {
    "scrolled": true
   },
   "outputs": [],
   "source": [
    "#create geomedian for data\n",
    "Sentinal_gm=GeoMedian().compute(data_sent_flt)"
   ]
  },
  {
   "cell_type": "code",
   "execution_count": null,
   "metadata": {},
   "outputs": [],
   "source": [
    "#create geomedian for data\n",
    "lnds_8_gm=GeoMedian().compute(data_land)\n",
    "    "
   ]
  },
  {
   "cell_type": "code",
   "execution_count": null,
   "metadata": {
    "scrolled": true
   },
   "outputs": [],
   "source": [
    "three_band_image_flat(Sentinal_gm, bands=['red','green','blue'])"
   ]
  },
  {
   "cell_type": "code",
   "execution_count": null,
   "metadata": {},
   "outputs": [],
   "source": [
    "three_band_image_flat(lnds_8_gm, bands=['red','green','blue'],)"
   ]
  },
  {
   "cell_type": "code",
   "execution_count": null,
   "metadata": {},
   "outputs": [],
   "source": []
  },
  {
   "cell_type": "code",
   "execution_count": null,
   "metadata": {},
   "outputs": [],
   "source": []
  },
  {
   "cell_type": "code",
   "execution_count": null,
   "metadata": {},
   "outputs": [],
   "source": []
  },
  {
   "cell_type": "code",
   "execution_count": null,
   "metadata": {
    "scrolled": false
   },
   "outputs": [],
   "source": []
  },
  {
   "cell_type": "code",
   "execution_count": null,
   "metadata": {},
   "outputs": [],
   "source": []
  },
  {
   "cell_type": "code",
   "execution_count": null,
   "metadata": {},
   "outputs": [],
   "source": []
  },
  {
   "cell_type": "code",
   "execution_count": null,
   "metadata": {},
   "outputs": [],
   "source": []
  },
  {
   "cell_type": "code",
   "execution_count": null,
   "metadata": {},
   "outputs": [],
   "source": []
  },
  {
   "cell_type": "code",
   "execution_count": null,
   "metadata": {},
   "outputs": [],
   "source": []
  },
  {
   "cell_type": "code",
   "execution_count": null,
   "metadata": {},
   "outputs": [],
   "source": [
    "\n"
   ]
  },
  {
   "cell_type": "code",
   "execution_count": null,
   "metadata": {},
   "outputs": [],
   "source": []
  },
  {
   "cell_type": "code",
   "execution_count": null,
   "metadata": {},
   "outputs": [],
   "source": [
    "\n"
   ]
  },
  {
   "cell_type": "code",
   "execution_count": null,
   "metadata": {},
   "outputs": [],
   "source": []
  },
  {
   "cell_type": "code",
   "execution_count": null,
   "metadata": {},
   "outputs": [],
   "source": []
  },
  {
   "cell_type": "code",
   "execution_count": null,
   "metadata": {},
   "outputs": [],
   "source": []
  },
  {
   "cell_type": "code",
   "execution_count": null,
   "metadata": {},
   "outputs": [],
   "source": []
  },
  {
   "cell_type": "code",
   "execution_count": null,
   "metadata": {},
   "outputs": [],
   "source": []
  },
  {
   "cell_type": "code",
   "execution_count": null,
   "metadata": {},
   "outputs": [],
   "source": []
  }
 ],
 "metadata": {
  "kernelspec": {
   "display_name": "Python 3",
   "language": "python",
   "name": "python3"
  },
  "language_info": {
   "codemirror_mode": {
    "name": "ipython",
    "version": 3
   },
   "file_extension": ".py",
   "mimetype": "text/x-python",
   "name": "python",
   "nbconvert_exporter": "python",
   "pygments_lexer": "ipython3",
   "version": "3.6.3"
  }
 },
 "nbformat": 4,
 "nbformat_minor": 2
}
