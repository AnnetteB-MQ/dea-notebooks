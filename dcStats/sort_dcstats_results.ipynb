{
 "cells": [
  {
   "cell_type": "markdown",
   "metadata": {},
   "source": [
    "## File sorting\n",
    "\n",
    "The cells below will move data-cube stats tile based results into folders labelled by year. Need to first manually sort the results into discretely labelled folders based on the dcstats query. ie move all the ndvi_max results to a folder called 'ndvi_max', all the ndvi_pct files to a folder called 'ndvi_pct' etc. "
   ]
  },
  {
   "cell_type": "code",
   "execution_count": 4,
   "metadata": {},
   "outputs": [],
   "source": [
    "import fnmatch\n",
    "import os\n",
    "from multiprocessing import Pool"
   ]
  },
  {
   "cell_type": "code",
   "execution_count": 1,
   "metadata": {},
   "outputs": [],
   "source": [
    "#create a list of years in format \"19901101.tif\" so \n",
    "#we can aggregate files by year\n",
    "z = range(2018,2019, 1)\n",
    "years = []\n",
    "for zz in z:\n",
    "    years.append('*' + str(zz) + '1101.tif')"
   ]
  },
  {
   "cell_type": "code",
   "execution_count": 2,
   "metadata": {},
   "outputs": [
    {
     "data": {
      "text/plain": [
       "['*20181101.tif']"
      ]
     },
     "execution_count": 2,
     "metadata": {},
     "output_type": "execute_result"
    }
   ],
   "source": [
    "years"
   ]
  },
  {
   "cell_type": "code",
   "execution_count": null,
   "metadata": {},
   "outputs": [],
   "source": [
    "directory='results/mdb_NSW/summer1989/ndvi_max/'\n",
    "for file in os.listdir(directory):\n",
    "    for year in years:\n",
    "        if not os.path.exists(directory + str(year[1:5])):\n",
    "            os.mkdir(directory +str(year[1:5])) #create folders of the years\n",
    "        if fnmatch.fnmatch(file, year): #find matching years and move them to the correct folder\n",
    "            os.rename(directory +file, directory + year[1:5] + '/' + file)"
   ]
  },
  {
   "cell_type": "code",
   "execution_count": 5,
   "metadata": {},
   "outputs": [],
   "source": [
    "directory='results/mdb_NSW/summer2019/ndviArgMaxMin/'\n",
    "for file in os.listdir(directory):\n",
    "    for year in years:\n",
    "        if not os.path.exists(directory + str(year[1:5])):\n",
    "            os.mkdir(directory +str(year[1:5]))\n",
    "        if fnmatch.fnmatch(file, year): \n",
    "            os.rename(directory +file, directory + year[1:5] + '/' + file)"
   ]
  },
  {
   "cell_type": "code",
   "execution_count": null,
   "metadata": {},
   "outputs": [],
   "source": [
    "directory='results/mdb_NSW/summer/ndvi_pct/'\n",
    "for file in os.listdir(directory):\n",
    "    for year in years:\n",
    "        if not os.path.exists(directory + str(year[1:5])):\n",
    "            os.mkdir(directory +str(year[1:5]))\n",
    "        if fnmatch.fnmatch(file, year): \n",
    "            os.rename(directory +file, directory + year[1:5] + '/' + file)"
   ]
  },
  {
   "cell_type": "markdown",
   "metadata": {},
   "source": [
    "#### to reverse the above operations"
   ]
  },
  {
   "cell_type": "code",
   "execution_count": null,
   "metadata": {},
   "outputs": [],
   "source": [
    "!find src/dir/ -name '*.tif' -exec mv {} target/dir/ \\;"
   ]
  },
  {
   "cell_type": "markdown",
   "metadata": {},
   "source": [
    "#### changing names of mosaic file"
   ]
  },
  {
   "cell_type": "code",
   "execution_count": null,
   "metadata": {},
   "outputs": [],
   "source": [
    "z = range(1990,2018, 1)\n",
    "years = []\n",
    "for zz in z:\n",
    "    years.append('ndvi_max' + str(zz) + '1101_mosaic.tif')\n",
    "\n",
    "directory='results/mdb_NSW/summer/ndviArgMaxMin/mosaics/'\n",
    "files = os.listdir(directory)\n",
    "files.sort()\n",
    "\n",
    "for file in files:\n",
    "    for year in years:\n",
    "        try:\n",
    "            os.rename(directory + file+'/'+ year, directory + file + '/' + 'ndvi_max_' + year[0:4]+'1101_mosaic.tif')\n",
    "        except:\n",
    "            pass"
   ]
  },
  {
   "cell_type": "markdown",
   "metadata": {},
   "source": [
    "## Build .vrt and mosaic tiff for each year\n",
    "\n",
    "The following couple of cells will create .vrt files (which are used to read large numbers of geotiffs into QGIS), then, using the .vrt file,\n",
    "gdal is used to create a sigle mosaicked geotiff of all the tiles for each year.  Beware: this can be very slow if you have compressed multi-band\n",
    "geotiffs. An executable python file that takes advantage of multithreading is available for large jobs (build_vrt_and_mosaic.py)."
   ]
  },
  {
   "cell_type": "code",
   "execution_count": 7,
   "metadata": {},
   "outputs": [],
   "source": [
    "#build vrt\n",
    "directory = \"/g/data/r78/cb3058/dea-notebooks/dcStats/results/mdb_NSW/summer87_90/ndviArgMaxMin/\"\n",
    "for folder in os.listdir(directory):\n",
    "    os.chdir(directory + folder)\n",
    "    os.system(\"gdalbuildvrt \" + \"ndviArgMaxMin_\" + folder + \"1101_mosaic.vrt *.tif\")"
   ]
  },
  {
   "cell_type": "code",
   "execution_count": null,
   "metadata": {},
   "outputs": [],
   "source": [
    "#build mosaic\n",
    "for folder in os.listdir(directory):\n",
    "    os.chdir(directory + folder)\n",
    "    os.system(\"gdal_translate \"\\\n",
    "       \"-co BIGTIFF=YES \"\\\n",
    "       \"-co COMPRESS=DEFLATE \"\\\n",
    "       \"-co ZLEVEL=9 \"\\\n",
    "       \"-co PREDICTOR=1 \"\\\n",
    "       \"-co TILED=YES \"\\\n",
    "       \"-co BLOCKXSIZE=1024 \"\\\n",
    "       \"-co BLOCKYSIZE=1024 \"\\\n",
    "       + \"ndvi_max_\" + folder + \"1101_mosaic.vrt \" + \"ndvi_max_\" + folder + \"1101_mosaic.tif\")"
   ]
  },
  {
   "cell_type": "code",
   "execution_count": 9,
   "metadata": {},
   "outputs": [],
   "source": [
    "#multithreaded version of mosaic\n",
    "cpus=2\n",
    "directory = \"/g/data/r78/cb3058/dea-notebooks/dcStats/results/mdb_NSW/summer87_90/ndvi_max/\"\n",
    "def mosaicTiffs(folder):\n",
    "    os.chdir(directory + folder)\n",
    "    os.system(\"gdal_translate \"\\\n",
    "       \"-co BIGTIFF=YES \"\\\n",
    "       \"-co COMPRESS=DEFLATE \"\\\n",
    "       \"-co ZLEVEL=9 \"\\\n",
    "       \"-co PREDICTOR=1 \"\\\n",
    "       \"-co TILED=YES \"\\\n",
    "       \"-co BLOCKXSIZE=1024 \"\\\n",
    "       \"-co BLOCKYSIZE=1024 \"\\\n",
    "       + \"ndvi_max_\" + folder + \"1101_mosaic.vrt \" + \"ndvi_max_\" + folder + \"1101_mosaic.tif\")\n",
    "\n",
    "folder = os.listdir(directory)\n",
    "\n",
    "if __name__ == '__main__':\n",
    "    pool = Pool(cpus)  \n",
    "    pool.map(mosaicTiffs, folder)"
   ]
  },
  {
   "cell_type": "code",
   "execution_count": null,
   "metadata": {},
   "outputs": [],
   "source": []
  },
  {
   "cell_type": "code",
   "execution_count": null,
   "metadata": {},
   "outputs": [],
   "source": []
  },
  {
   "cell_type": "code",
   "execution_count": null,
   "metadata": {},
   "outputs": [],
   "source": []
  }
 ],
 "metadata": {
  "kernelspec": {
   "display_name": "Python 3",
   "language": "python",
   "name": "python3"
  },
  "language_info": {
   "codemirror_mode": {
    "name": "ipython",
    "version": 3
   },
   "file_extension": ".py",
   "mimetype": "text/x-python",
   "name": "python",
   "nbconvert_exporter": "python",
   "pygments_lexer": "ipython3",
   "version": "3.6.7"
  }
 },
 "nbformat": 4,
 "nbformat_minor": 2
}
