{
 "cells": [
  {
   "cell_type": "code",
   "execution_count": 68,
   "metadata": {},
   "outputs": [],
   "source": [
    "import fnmatch\n",
    "import os"
   ]
  },
  {
   "cell_type": "code",
   "execution_count": 73,
   "metadata": {},
   "outputs": [],
   "source": [
    "#create a list of years in format \"19901101.tif\" so \n",
    "#we can aggregate files by year\n",
    "z = range(1990,2018, 1)\n",
    "years = []\n",
    "for zz in z:\n",
    "    years.append('*' + str(zz) + '1101.tif')"
   ]
  },
  {
   "cell_type": "code",
   "execution_count": 70,
   "metadata": {},
   "outputs": [],
   "source": [
    "directory='results/mdb_NSW/summer/ndvi_max/'\n",
    "for file in os.listdir(directory):\n",
    "    for year in years:\n",
    "        if not os.path.exists(directory + str(year[1:5])):\n",
    "            os.mkdir(directory +str(year[1:5])) #create folders of the years\n",
    "        if fnmatch.fnmatch(file, year): #find matching years and move them to the correct folder\n",
    "            os.rename(directory +file, directory + year[1:5] + '/' + file)"
   ]
  },
  {
   "cell_type": "code",
   "execution_count": 75,
   "metadata": {},
   "outputs": [],
   "source": [
    "directory='results/mdb_NSW/summer/ndviArgMaxMin/'\n",
    "for file in os.listdir(directory):\n",
    "    for year in years:\n",
    "        if not os.path.exists(directory + str(year[1:5])):\n",
    "            os.mkdir(directory +str(year[1:5]))\n",
    "        if fnmatch.fnmatch(file, year): \n",
    "            os.rename(directory +file, directory + year[1:5] + '/' + file)"
   ]
  },
  {
   "cell_type": "code",
   "execution_count": 76,
   "metadata": {},
   "outputs": [],
   "source": [
    "directory='results/mdb_NSW/summer/ndvi_pct/'\n",
    "for file in os.listdir(directory):\n",
    "    for year in years:\n",
    "        if not os.path.exists(directory + str(year[1:5])):\n",
    "            os.mkdir(directory +str(year[1:5]))\n",
    "        if fnmatch.fnmatch(file, year): \n",
    "            os.rename(directory +file, directory + year[1:5] + '/' + file)"
   ]
  },
  {
   "cell_type": "markdown",
   "metadata": {},
   "source": [
    "## Build .vrt and mosaic tiff for each year"
   ]
  },
  {
   "cell_type": "code",
   "execution_count": 84,
   "metadata": {},
   "outputs": [],
   "source": [
    "#build vrt\n",
    "directory = \"/g/data1a/r78/cb3058/dea-notebooks/dcStats/results/mdb_NSW/summer/ndvi_max/\"\n",
    "for folder in os.listdir(directory):\n",
    "    os.chdir(directory + folder)\n",
    "    os.system(\"gdalbuildvrt \" + folder + \"_mosaic.vrt *.tif\")"
   ]
  },
  {
   "cell_type": "code",
   "execution_count": null,
   "metadata": {},
   "outputs": [],
   "source": [
    "#build compressed mosaic\n",
    "directory = \"/g/data1a/r78/cb3058/dea-notebooks/dcStats/results/mdb_NSW/summer/previous_run/ndviArgMaxMin/\"\n",
    "for folder in os.listdir(directory):\n",
    "    os.chdir(directory + folder)\n",
    "    os.system(\"gdal_translate \"\\\n",
    "       \"-co COMPRESS=DEFLATE \"\\\n",
    "       \"-co ZLEVEL=9 \"\\\n",
    "       \"-co PREDICTOR=1 \"\\\n",
    "       \"-co TILED=YES \"\\\n",
    "       \"-co BLOCKXSIZE=1024 \"\\\n",
    "       \"-co BLOCKYSIZE=1024 \"\\\n",
    "       + folder + \"_mosaic.vrt \" + folder + \"_mosaic.tif\")"
   ]
  },
  {
   "cell_type": "code",
   "execution_count": 64,
   "metadata": {},
   "outputs": [],
   "source": [
    "\n"
   ]
  },
  {
   "cell_type": "code",
   "execution_count": 66,
   "metadata": {},
   "outputs": [],
   "source": [
    "# z = range(1992,2018, 1)\n",
    "# years = []\n",
    "# for zz in z:\n",
    "#     years.append(str(zz))\n",
    "\n",
    "# directory=\"/g/data/r78/cb3058/dea-notebooks/dcStats/results/mdb_NSW/summer/ndviArgMaxMin/\"\n",
    "\n",
    "# for file in os.listdir(directory):\n",
    "#     for year in years:\n",
    "#         p = Path(directory+year + \"/\" + file).absolute()\n",
    "#         parent_dir = p.parents[1]\n",
    "#         p.rename(parent_dir / p.name)"
   ]
  },
  {
   "cell_type": "code",
   "execution_count": null,
   "metadata": {},
   "outputs": [],
   "source": []
  },
  {
   "cell_type": "code",
   "execution_count": null,
   "metadata": {},
   "outputs": [],
   "source": []
  },
  {
   "cell_type": "code",
   "execution_count": null,
   "metadata": {},
   "outputs": [],
   "source": []
  }
 ],
 "metadata": {
  "kernelspec": {
   "display_name": "Python [default]",
   "language": "python",
   "name": "python3"
  },
  "language_info": {
   "codemirror_mode": {
    "name": "ipython",
    "version": 3
   },
   "file_extension": ".py",
   "mimetype": "text/x-python",
   "name": "python",
   "nbconvert_exporter": "python",
   "pygments_lexer": "ipython3",
   "version": "3.6.6"
  }
 },
 "nbformat": 4,
 "nbformat_minor": 2
}
