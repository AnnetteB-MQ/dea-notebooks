{
 "cells": [
  {
   "cell_type": "markdown",
   "metadata": {},
   "source": [
    "## File sorting\n",
    "\n",
    "The cells below will move data-cube stats tile based results into folders labelled by year. Need to first manually sort the results into discretely labelled folders based on the dcstats query. ie move all the ndvi_max results to a folder called 'ndvi_max', all the ndvi_pct files to a folder called 'ndvi_pct' etc. "
   ]
  },
  {
   "cell_type": "code",
   "execution_count": 10,
   "metadata": {},
   "outputs": [],
   "source": [
    "import fnmatch\n",
    "import os"
   ]
  },
  {
   "cell_type": "code",
   "execution_count": 11,
   "metadata": {},
   "outputs": [],
   "source": [
    "#create a list of years in format \"19901101.tif\" so \n",
    "#we can aggregate files by year\n",
    "z = range(1990,2018, 1)\n",
    "years = []\n",
    "for zz in z:\n",
    "    years.append('*' + str(zz) + '1101.tif')"
   ]
  },
  {
   "cell_type": "code",
   "execution_count": 6,
   "metadata": {},
   "outputs": [],
   "source": [
    "directory='results/mdb_NSW/summer/ndvi_max/'\n",
    "for file in os.listdir(directory):\n",
    "    for year in years:\n",
    "        if not os.path.exists(directory + str(year[1:5])):\n",
    "            os.mkdir(directory +str(year[1:5])) #create folders of the years\n",
    "        if fnmatch.fnmatch(file, year): #find matching years and move them to the correct folder\n",
    "            os.rename(directory +file, directory + year[1:5] + '/' + file)"
   ]
  },
  {
   "cell_type": "code",
   "execution_count": 7,
   "metadata": {},
   "outputs": [],
   "source": [
    "directory='results/mdb_NSW/summer/ndviArgMaxMin/'\n",
    "for file in os.listdir(directory):\n",
    "    for year in years:\n",
    "        if not os.path.exists(directory + str(year[1:5])):\n",
    "            os.mkdir(directory +str(year[1:5]))\n",
    "        if fnmatch.fnmatch(file, year): \n",
    "            os.rename(directory +file, directory + year[1:5] + '/' + file)"
   ]
  },
  {
   "cell_type": "code",
   "execution_count": 8,
   "metadata": {},
   "outputs": [],
   "source": [
    "directory='results/mdb_NSW/summer/ndvi_pct/'\n",
    "for file in os.listdir(directory):\n",
    "    for year in years:\n",
    "        if not os.path.exists(directory + str(year[1:5])):\n",
    "            os.mkdir(directory +str(year[1:5]))\n",
    "        if fnmatch.fnmatch(file, year): \n",
    "            os.rename(directory +file, directory + year[1:5] + '/' + file)"
   ]
  },
  {
   "cell_type": "markdown",
   "metadata": {},
   "source": [
    "#### to reverse the above operations"
   ]
  },
  {
   "cell_type": "code",
   "execution_count": null,
   "metadata": {},
   "outputs": [],
   "source": [
    "!find src/dir/ -name '*.tif' -exec mv {} target/dir/ \\;"
   ]
  },
  {
   "cell_type": "markdown",
   "metadata": {},
   "source": [
    "## Build .vrt and mosaic tiff for each year"
   ]
  },
  {
   "cell_type": "code",
   "execution_count": 9,
   "metadata": {},
   "outputs": [],
   "source": [
    "#build vrt\n",
    "directory = \"/g/data1a/r78/cb3058/dea-notebooks/dcStats/results/mdb_NSW/summer/ndvi_max/\"\n",
    "for folder in os.listdir(directory):\n",
    "    os.chdir(directory + folder)\n",
    "    os.system(\"gdalbuildvrt \" + folder + \"_mosaic.vrt *.tif\")"
   ]
  },
  {
   "cell_type": "code",
   "execution_count": null,
   "metadata": {},
   "outputs": [],
   "source": [
    "#build compressed mosaic\n",
    "directory = \"/g/data1a/r78/cb3058/dea-notebooks/dcStats/results/mdb_NSW/summer/previous_run/ndviArgMaxMin/\"\n",
    "for folder in os.listdir(directory):\n",
    "    os.chdir(directory + folder)\n",
    "    os.system(\"gdal_translate \"\\\n",
    "       \"-co BIGTIFF=YES \"\\\n",
    "       \"-co COMPRESS=DEFLATE \"\\\n",
    "       \"-co ZLEVEL=9 \"\\\n",
    "       \"-co PREDICTOR=1 \"\\\n",
    "       \"-co TILED=YES \"\\\n",
    "       \"-co BLOCKXSIZE=1024 \"\\\n",
    "       \"-co BLOCKYSIZE=1024 \"\\\n",
    "       + folder + \"_mosaic.vrt \" + folder + \"_mosaic.tif\")"
   ]
  },
  {
   "cell_type": "code",
   "execution_count": null,
   "metadata": {},
   "outputs": [],
   "source": []
  },
  {
   "cell_type": "markdown",
   "metadata": {},
   "source": [
    "## Manually do a couple for testing"
   ]
  },
  {
   "cell_type": "code",
   "execution_count": 16,
   "metadata": {},
   "outputs": [],
   "source": [
    "directory = \"/g/data1a/r78/cb3058/dea-notebooks/dcStats/results/mdb_NSW/summer/previous_run/ndvi_max/\"\n",
    "folder='2015'\n",
    "os.chdir(directory + folder)\n",
    "!gdal_translate -co BIGTIFF=YES -co COMPRESS=DEFLATE -co ZLEVEL=9 -co PREDICTOR=1 -co TILED=YES -co BLOCKXSIZE=1024 -co BLOCKYSIZE=1024 2015_mosaic.vrt 2015_mosaic.tif"
   ]
  },
  {
   "cell_type": "code",
   "execution_count": 11,
   "metadata": {},
   "outputs": [
    {
     "name": "stdout",
     "output_type": "stream",
     "text": [
      "Input file size is 68000, 64000\n",
      "0...10...20...30...40...50...60...70...80...90...100 - done.\n"
     ]
    }
   ],
   "source": [
    "folder='2017'\n",
    "os.chdir(directory + folder)\n",
    "!gdal_translate -co BIGTIFF=YES -co COMPRESS=DEFLATE -co ZLEVEL=9 -co PREDICTOR=1 -co TILED=YES -co BLOCKXSIZE=1024 -co BLOCKYSIZE=1024 2017_mosaic.vrt 2017_mosaic.tif"
   ]
  },
  {
   "cell_type": "code",
   "execution_count": null,
   "metadata": {},
   "outputs": [],
   "source": [
    "#the argmaxmin ones"
   ]
  },
  {
   "cell_type": "code",
   "execution_count": null,
   "metadata": {},
   "outputs": [],
   "source": [
    "directory = \"/g/data1a/r78/cb3058/dea-notebooks/dcStats/results/mdb_NSW/summer/previous_run/ndviArgMaxMin/\"\n",
    "folder='2015'\n",
    "os.chdir(directory + folder)\n",
    "!gdal_translate -co BIGTIFF=YES -co COMPRESS=DEFLATE -co ZLEVEL=9 -co PREDICTOR=1 -co TILED=YES -co BLOCKXSIZE=1024 -co BLOCKYSIZE=1024 2015_mosaic.vrt 2015_mosaic.tif"
   ]
  },
  {
   "cell_type": "code",
   "execution_count": null,
   "metadata": {},
   "outputs": [],
   "source": [
    "folder='2017'\n",
    "os.chdir(directory + folder)\n",
    "!gdal_translate -co BIGTIFF=YES -co COMPRESS=DEFLATE -co ZLEVEL=9 -co PREDICTOR=1 -co TILED=YES -co BLOCKXSIZE=1024 -co BLOCKYSIZE=1024 2017_mosaic.vrt 2017_mosaic.tif"
   ]
  },
  {
   "cell_type": "code",
   "execution_count": null,
   "metadata": {},
   "outputs": [],
   "source": []
  },
  {
   "cell_type": "code",
   "execution_count": null,
   "metadata": {},
   "outputs": [],
   "source": []
  },
  {
   "cell_type": "code",
   "execution_count": null,
   "metadata": {},
   "outputs": [],
   "source": []
  }
 ],
 "metadata": {
  "kernelspec": {
   "display_name": "Python 3",
   "language": "python",
   "name": "python3"
  },
  "language_info": {
   "codemirror_mode": {
    "name": "ipython",
    "version": 3
   },
   "file_extension": ".py",
   "mimetype": "text/x-python",
   "name": "python",
   "nbconvert_exporter": "python",
   "pygments_lexer": "ipython3",
   "version": "3.6.7"
  }
 },
 "nbformat": 4,
 "nbformat_minor": 2
}
