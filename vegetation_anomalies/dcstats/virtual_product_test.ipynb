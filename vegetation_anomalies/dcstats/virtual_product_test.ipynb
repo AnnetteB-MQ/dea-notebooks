{
 "cells": [
  {
   "cell_type": "markdown",
   "metadata": {},
   "source": [
    "## Virtual Product creation to test C3 datacube stats"
   ]
  },
  {
   "cell_type": "code",
   "execution_count": null,
   "metadata": {},
   "outputs": [],
   "source": [
    "# export PYTHONPATH=/g/data/r78/cb3058/dea-notebooks/vegetation_anomalies/dc_refactor/datacube-stats/:$PYTHONPATH"
   ]
  },
  {
   "cell_type": "code",
   "execution_count": null,
   "metadata": {},
   "outputs": [],
   "source": [
    "from datacube.virtual import construct_from_yaml\n",
    "from datacube import Datacube\n",
    "from datacube.drivers.netcdf import create_netcdf_storage_unit, write_dataset_to_netcdf\n",
    "from dask.distributed import LocalCluster, Client\n",
    "import datacube_stats"
   ]
  },
  {
   "cell_type": "code",
   "execution_count": null,
   "metadata": {},
   "outputs": [],
   "source": [
    "client = locals().get('client', None)\n",
    "if client is not None:\n",
    "    client.close()\n",
    "    del client\n",
    "    \n",
    "# client = Client(n_workers=6, threads_per_worker=1, memory_limit='4GB')\n",
    "# client"
   ]
  },
  {
   "cell_type": "code",
   "execution_count": null,
   "metadata": {},
   "outputs": [],
   "source": [
    "lat, lon = -33.2, 149.1\n",
    "buffer = 0.15\n",
    "\n",
    "time = ('1992', '2008')\n",
    "\n",
    "query = {'lon': (lon - buffer, lon + buffer),\n",
    "         'lat': (lat - buffer, lat + buffer),\n",
    "         'time': time,\n",
    "         'measurements':['nbart_red', 'nbart_red'],\n",
    "         'crs': 'EPSG:3577'\n",
    "    }"
   ]
  },
  {
   "cell_type": "code",
   "execution_count": null,
   "metadata": {},
   "outputs": [],
   "source": [
    "ndvi_clim_mean = construct_from_yaml(\"\"\"\n",
    "        aggregate: datacube_stats.external.ndvi_clim_mean\n",
    "        input:\n",
    "          reproject:\n",
    "            output_crs: EPSG:3577\n",
    "            resolution: [-30, 30]\n",
    "            resampling: average\n",
    "          input:\n",
    "            collate:\n",
    "              - transform: apply_mask\n",
    "                mask_measurement_name: fmask\n",
    "                dilation: 3\n",
    "                input:\n",
    "                  transform: expressions\n",
    "                  output: \n",
    "                    fmask:\n",
    "                        formula: (fmask != 2) & (fmask != 3) & (fmask != 0) & (oa_nbart_contiguity == 1)\n",
    "                        nodata: False\n",
    "                    nbart_red: nbart_red\n",
    "                    nbart_nir: nbart_nir\n",
    "                  input:\n",
    "                    product: ga_ls8c_ard_3\n",
    "                    measurements: [nbart_red, nbart_nir, fmask, oa_nbart_contiguity]\n",
    "                    gqa_iterative_mean_xy: [0, 1]\n",
    "                    dataset_predicate: datacube_stats.main.ls8_on\n",
    "              - transform: apply_mask\n",
    "                mask_measurement_name: fmask\n",
    "                dilation: 3\n",
    "                input:\n",
    "                  transform: expressions\n",
    "                  output: \n",
    "                    fmask:\n",
    "                        formula: (fmask != 2) & (fmask != 3) & (fmask != 0) & (oa_nbart_contiguity == 1)\n",
    "                        nodata: False\n",
    "                    nbart_red: nbart_red\n",
    "                    nbart_nir: nbart_nir\n",
    "                  input:\n",
    "                    product: ga_ls7c_ard_3\n",
    "                    measurements: [nbart_red, nbart_nir, fmask, oa_nbart_contiguity]\n",
    "                    gqa_iterative_mean_xy: [0, 1]\n",
    "                    dataset_predicate: datacube_stats.main.ls7_on\n",
    "              - transform: apply_mask\n",
    "                mask_measurement_name: fmask\n",
    "                dilation: 3\n",
    "                input:\n",
    "                  transform: expressions\n",
    "                  output: \n",
    "                    fmask:\n",
    "                        formula: (fmask != 2) & (fmask != 3) & (fmask != 0) & (oa_nbart_contiguity == 1)\n",
    "                        nodata: False\n",
    "                    nbart_red: nbart_red\n",
    "                    nbart_nir: nbart_nir\n",
    "                  input:\n",
    "                    product: ga_ls5c_ard_3\n",
    "                    measurements: [nbart_red, nbart_nir,fmask, oa_nbart_contiguity]\n",
    "                    gqa_iterative_mean_xy: [0, 1]\n",
    "                    dataset_predicate: datacube_stats.main.ls5_on\n",
    "    \"\"\")"
   ]
  },
  {
   "cell_type": "code",
   "execution_count": null,
   "metadata": {},
   "outputs": [],
   "source": [
    "datasets = ndvi_clim_mean.query(dc, **query)\n",
    "grouped = ndvi_clim_mean.group(datasets, **query)\n",
    "results = ndvi_clim_mean.fetch(grouped, **query, dask_chunks={'time':-1, 'x':250, 'y':250})\n",
    "results.load()\n"
   ]
  },
  {
   "cell_type": "code",
   "execution_count": null,
   "metadata": {},
   "outputs": [],
   "source": []
  },
  {
   "cell_type": "code",
   "execution_count": null,
   "metadata": {},
   "outputs": [],
   "source": []
  },
  {
   "cell_type": "code",
   "execution_count": null,
   "metadata": {},
   "outputs": [],
   "source": []
  },
  {
   "cell_type": "code",
   "execution_count": null,
   "metadata": {},
   "outputs": [],
   "source": []
  }
 ],
 "metadata": {
  "kernelspec": {
   "display_name": "Python 3",
   "language": "python",
   "name": "python3"
  },
  "language_info": {
   "codemirror_mode": {
    "name": "ipython",
    "version": 3
   },
   "file_extension": ".py",
   "mimetype": "text/x-python",
   "name": "python",
   "nbconvert_exporter": "python",
   "pygments_lexer": "ipython3",
   "version": "3.6.7"
  }
 },
 "nbformat": 4,
 "nbformat_minor": 4
}
