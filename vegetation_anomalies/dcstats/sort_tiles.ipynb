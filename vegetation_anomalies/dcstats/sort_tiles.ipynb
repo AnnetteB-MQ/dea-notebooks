{
 "cells": [
  {
   "cell_type": "markdown",
   "metadata": {},
   "source": [
    "# File sorting\n",
    "\n",
    "The cells below will move data-cube stats tile based results into folders labelled by seasonal quarter (i.e. one folder called `DJF`, another folder called `JFM` etc.)\n",
    "\n",
    "It will then generate a `.vrt` and a mosaic `.tif` for each season"
   ]
  },
  {
   "cell_type": "code",
   "execution_count": 1,
   "metadata": {},
   "outputs": [],
   "source": [
    "import fnmatch\n",
    "import os\n",
    "from multiprocessing import Pool"
   ]
  },
  {
   "cell_type": "code",
   "execution_count": 2,
   "metadata": {},
   "outputs": [],
   "source": [
    "#create a list of seasons formated as \"*_.DJF.tif\" so \n",
    "#we can aggregate files by season\n",
    "zz = ['JFM',\n",
    "    'FMA',\n",
    "    'MAM',\n",
    "    'AMJ',\n",
    "    'MJJ',\n",
    "    'JJA',\n",
    "    'JAS',\n",
    "    'ASO',\n",
    "    'SON',\n",
    "    'OND',\n",
    "    'NDJ',\n",
    "    'DJF']\n",
    "\n",
    "seasons = []\n",
    "for z in zz:\n",
    "    seasons.append('*_'+ z + '.tif')"
   ]
  },
  {
   "cell_type": "code",
   "execution_count": 3,
   "metadata": {},
   "outputs": [],
   "source": [
    "directory='../results/NSW_NDVI_Climatologies_std/'\n",
    "for file in os.listdir(directory):\n",
    "    for s in seasons:\n",
    "        #create folder for each season\n",
    "        if not os.path.exists(directory + s[2:5]):\n",
    "            os.mkdir(directory +s[2:5]) \n",
    "        #find tiles with matching seasons and move them to the correct folder    \n",
    "        if fnmatch.fnmatch(file, s): \n",
    "            os.rename(directory +file, directory + s[2:5] + '/' + file)"
   ]
  },
  {
   "cell_type": "markdown",
   "metadata": {},
   "source": [
    "## Build .vrt and mosaic tiff for each year\n",
    "The following couple of cells will create `.vrt` files (which are used to read large numbers of geotiffs into QGIS), then, using the `.vrt` file, gdal is used to create a sigle `mosaicked geotiff` of all the tiles for each year. Beware: this can be very slow if you have compressed multi-band geotiffs."
   ]
  },
  {
   "cell_type": "code",
   "execution_count": 4,
   "metadata": {},
   "outputs": [],
   "source": [
    "cpus=4\n",
    "directory = '/g/data1a/r78/cb3058/dea-notebooks/vegetation_anomalies/results/NSW_NDVI_Climatologies_std/'\n",
    "prefix= \"ndvi_clim_std\""
   ]
  },
  {
   "cell_type": "code",
   "execution_count": 5,
   "metadata": {},
   "outputs": [
    {
     "name": "stdout",
     "output_type": "stream",
     "text": [
      "building .vrt for AMJ\n",
      "building .vrt for NDJ\n",
      "building .vrt for MAM\n",
      "building .vrt for JJA\n",
      "building .vrt for SON\n",
      "building .vrt for OND\n",
      "building .vrt for JFM\n",
      "building .vrt for ASO\n",
      "building .vrt for JAS\n",
      "building .vrt for FMA\n",
      "building .vrt for MJJ\n",
      "building .vrt for DJF\n"
     ]
    }
   ],
   "source": [
    "#build vrt\n",
    "for folder in os.listdir(directory):\n",
    "    os.chdir(directory + folder)\n",
    "    try:\n",
    "        os.system(\"gdalbuildvrt \" + prefix +\"_\"+folder + \"_nsw_mosaic.vrt *.tif\")\n",
    "        print(\"building .vrt for \" + folder)\n",
    "    except:\n",
    "        print(\"passing \" +folder)\n",
    "        continue\n"
   ]
  },
  {
   "cell_type": "code",
   "execution_count": 6,
   "metadata": {},
   "outputs": [],
   "source": [
    "#multithreaded version of mosaic\n",
    "def mosaicTiffs(folder):\n",
    "    if not folder.startswith('.'): #ignore hidden fodler\n",
    "        os.chdir(directory + folder)\n",
    "        print(\"building mosaic for \" + folder)\n",
    "        os.system(\"gdal_translate \"\\\n",
    "           \"-co BIGTIFF=YES \"\\\n",
    "           \"-co COMPRESS=DEFLATE \"\\\n",
    "           \"-co ZLEVEL=9 \"\\\n",
    "           \"-co PREDICTOR=1 \"\\\n",
    "           \"-co TILED=YES \"\\\n",
    "           \"-co BLOCKXSIZE=1024 \"\\\n",
    "           \"-co BLOCKYSIZE=1024 \"\\\n",
    "           + prefix +\"_\"+folder + \"_nsw_mosaic.vrt \" + prefix + \"_\" + folder + \"_nsw_mosaic.tif\")\n"
   ]
  },
  {
   "cell_type": "code",
   "execution_count": 22,
   "metadata": {},
   "outputs": [
    {
     "name": "stdout",
     "output_type": "stream",
     "text": [
      "building mosaic for OND\n",
      "building mosaic for AMJ\n"
     ]
    },
    {
     "data": {
      "text/plain": [
       "[None, None]"
      ]
     },
     "execution_count": 22,
     "metadata": {},
     "output_type": "execute_result"
    }
   ],
   "source": [
    "folder = os.listdir(directory)\n",
    "folder.sort()\n",
    "\n",
    "pool = Pool(cpus)  \n",
    "pool.map(mosaicTiffs, x)"
   ]
  },
  {
   "cell_type": "code",
   "execution_count": null,
   "metadata": {},
   "outputs": [],
   "source": []
  }
 ],
 "metadata": {
  "kernelspec": {
   "display_name": "Python 3",
   "language": "python",
   "name": "python3"
  },
  "language_info": {
   "codemirror_mode": {
    "name": "ipython",
    "version": 3
   },
   "file_extension": ".py",
   "mimetype": "text/x-python",
   "name": "python",
   "nbconvert_exporter": "python",
   "pygments_lexer": "ipython3",
   "version": "3.6.7"
  }
 },
 "nbformat": 4,
 "nbformat_minor": 4
}
