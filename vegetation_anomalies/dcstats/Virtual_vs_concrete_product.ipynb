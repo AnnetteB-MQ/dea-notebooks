{
 "cells": [
  {
   "cell_type": "markdown",
   "metadata": {},
   "source": [
    "# Comparing the Virtual Product output with notebook output\n",
    "\n",
    "Need to test if virtual products is behaving as expected before attempting to scale the analysis using datacube stats.\n",
    "To generate the virtual product, run `virtual_product_test.py`.\n",
    "\n",
    "**NOTE:**\n",
    "\n",
    "The results show that the VP version is underestimating seasonal NDVI climatologies.  Appears as though the `group_by: all-time` parameter (in the yaml) is messing with the results as I suspect it runs before our function (and our function does its own, bespoke 'groupby' so it doesn't require VP to do its own).  I think what we really want is for datacube-virtual to have an option like `group_by: None`, in which it will skip this step.\n"
   ]
  },
  {
   "cell_type": "code",
   "execution_count": null,
   "metadata": {},
   "outputs": [],
   "source": [
    "from datacube import Datacube\n",
    "import numpy as np\n",
    "import xarray as xr\n",
    "from dask.distributed import Client\n",
    "import matplotlib.pyplot as plt\n",
    "import sys\n",
    "\n",
    "sys.path.append('../../Scripts')\n",
    "from dea_datahandling import load_ard"
   ]
  },
  {
   "cell_type": "code",
   "execution_count": null,
   "metadata": {},
   "outputs": [],
   "source": [
    "client = locals().get('client', None)\n",
    "if client is not None:\n",
    "    client.close()\n",
    "    del client\n",
    "    \n",
    "client = Client(n_workers=4, threads_per_worker=1, memory_limit='7GB')\n",
    "client\n"
   ]
  },
  {
   "cell_type": "markdown",
   "metadata": {},
   "source": [
    "## Load data matching extents of VP "
   ]
  },
  {
   "cell_type": "code",
   "execution_count": null,
   "metadata": {},
   "outputs": [],
   "source": [
    "lat, lon = -33.2, 149.1\n",
    "buffer = 0.05\n",
    "time = ('1987', '2010')"
   ]
  },
  {
   "cell_type": "code",
   "execution_count": null,
   "metadata": {},
   "outputs": [],
   "source": [
    "dc = Datacube(env='c3-samples')\n",
    "\n",
    "query = {'lon': (lon - buffer, lon + buffer),\n",
    "         'lat': (lat - buffer, lat + buffer),\n",
    "         'time': time,\n",
    "         'measurements':['nbart_red', 'nbart_nir', 'fmask'],\n",
    "         'output_crs' :'EPSG:3577',\n",
    "         'resolution' : (-30, 30),\n",
    "         'resampling' :{\"fmask\": \"nearest\", \"*\": \"average\"}}    "
   ]
  },
  {
   "cell_type": "code",
   "execution_count": null,
   "metadata": {},
   "outputs": [],
   "source": [
    "ds = load_ard(dc=dc, dask_chunks={'x':100, 'y':100}, lazy_load=True,\n",
    "            products=['ga_ls5t_ard_3', 'ga_ls7e_ard_3'],\n",
    "            **query)\n",
    "print(ds)"
   ]
  },
  {
   "cell_type": "markdown",
   "metadata": {},
   "source": [
    "## Calculate climatologies"
   ]
  },
  {
   "cell_type": "code",
   "execution_count": null,
   "metadata": {},
   "outputs": [],
   "source": [
    "quarter= {'JFM': [1,2,3],\n",
    "                       'FMA': [2,3,4],\n",
    "                       'MAM': [3,4,5],\n",
    "                       'AMJ': [4,5,6],\n",
    "                       'MJJ': [5,6,7],\n",
    "                       'JJA': [6,7,8],\n",
    "                       'JAS': [7,8,9],\n",
    "                       'ASO': [8,9,10],\n",
    "                       'SON': [9,10,11],\n",
    "                       'OND': [10,11,12],\n",
    "                       'NDJ': [11,12,1],\n",
    "                       'DJF': [12,1,2],\n",
    "                      }\n",
    "\n",
    "def ndvi_clim_mean(data):\n",
    "    print(data)\n",
    "    def attrs_reassign(da, dtype=np.float32):\n",
    "        da_attr = data.attrs\n",
    "        da = da.assign_attrs(**da_attr)\n",
    "        return da\n",
    "    \n",
    "    ndvi = xr.Dataset(data_vars={'ndvi': (data.nbart_nir - data.nbart_red) / (data.nbart_nir + data.nbart_red)},\n",
    "                          coords=data.coords,\n",
    "                          attrs=dict(crs=data.crs))\n",
    "    print(ndvi)\n",
    "    ndvi_var = []\n",
    "    for q in quarter:\n",
    "        ix=ndvi['time.month'].isin(quarter[q])\n",
    "        ndvi_clim_mean=ndvi.where(ix,drop = True).mean(dim='time')   \n",
    "        ndvi_clim_mean=ndvi_clim_mean.to_array(name='ndvi_clim_mean_'+q).drop('variable').squeeze()\n",
    "        ndvi_var.append(ndvi_clim_mean)\n",
    "\n",
    "    q_clim_mean = xr.merge(ndvi_var)   \n",
    "\n",
    "    #assign back attributes\n",
    "    q_clim_mean.attrs = data.attrs \n",
    "    q_clim_mean = q_clim_mean.apply(attrs_reassign, keep_attrs=True)  \n",
    "\n",
    "    return q_clim_mean"
   ]
  },
  {
   "cell_type": "code",
   "execution_count": null,
   "metadata": {},
   "outputs": [],
   "source": [
    "clim = ndvi_clim_mean(ds)\n",
    "print(clim)"
   ]
  },
  {
   "cell_type": "code",
   "execution_count": null,
   "metadata": {},
   "outputs": [],
   "source": [
    "clim = clim.compute()"
   ]
  },
  {
   "cell_type": "markdown",
   "metadata": {},
   "source": [
    "## Open VP dataset"
   ]
  },
  {
   "cell_type": "code",
   "execution_count": null,
   "metadata": {},
   "outputs": [],
   "source": [
    "vp_clim = xr.open_dataset('../results/VP_test_NDVI_climatology_1987_2010.nc').squeeze()\n",
    "print(vp_clim)"
   ]
  },
  {
   "cell_type": "code",
   "execution_count": null,
   "metadata": {},
   "outputs": [],
   "source": [
    "# clim.ndvi_clim_mean_DJF.plot(vmin=0, vmax=1.0, cmap='viridis')\n",
    "# vp_clim.ndvi_clim_meanDJF.plot(vmin=0, vmax=1.0, cmap='viridis')"
   ]
  },
  {
   "cell_type": "markdown",
   "metadata": {},
   "source": [
    "## Calculate deltas"
   ]
  },
  {
   "cell_type": "code",
   "execution_count": null,
   "metadata": {},
   "outputs": [],
   "source": [
    "diff_DJF = clim.ndvi_clim_mean_DJF - vp_clim.ndvi_clim_meanDJF\n",
    "diff_MAM = clim.ndvi_clim_mean_MAM - vp_clim.ndvi_clim_meanMAM\n",
    "diff_JJA = clim.ndvi_clim_mean_JJA - vp_clim.ndvi_clim_meanJJA\n",
    "diff_SON = clim.ndvi_clim_mean_SON - vp_clim.ndvi_clim_meanSON"
   ]
  },
  {
   "cell_type": "markdown",
   "metadata": {},
   "source": [
    "### Plot differences, ideally every pixel will be zero"
   ]
  },
  {
   "cell_type": "code",
   "execution_count": null,
   "metadata": {},
   "outputs": [],
   "source": [
    "fig = plt.figure(figsize=(12,12))\n",
    "ax = fig.subplots(nrows=2, ncols=2, sharex='all')\n",
    "diff_DJF.plot(ax=ax[0,0], cmap='viridis', vmin=0, vmax=0.5)\n",
    "diff_MAM.plot(ax=ax[0,1], cmap='viridis', vmin=0, vmax=0.5)\n",
    "diff_JJA.plot(ax=ax[1,0], cmap='viridis', vmin=0, vmax=0.5)\n",
    "diff_SON.plot(ax=ax[1,1], cmap='viridis', vmin=0, vmax=0.5)"
   ]
  },
  {
   "cell_type": "code",
   "execution_count": null,
   "metadata": {},
   "outputs": [],
   "source": []
  },
  {
   "cell_type": "code",
   "execution_count": null,
   "metadata": {},
   "outputs": [],
   "source": [
    "#Print statements from VP test\n",
    "\n",
    "#Input data:\n",
    "xarray.Dataset>\n",
    "Dimensions:    (time: 787, x: 356, y: 411)\n",
    "Coordinates:\n",
    "  * time       (time) datetime64[ns] 1987-05-29T23:14:05.701791 ... 2010-12-30T23:43:03.718821\n",
    "  * y          (y) float64 -3.721e+06 -3.721e+06 ... -3.733e+06 -3.733e+06\n",
    "  * x          (x) float64 1.573e+06 1.574e+06 1.574e+06 ... 1.584e+06 1.584e+06\n",
    "Data variables:\n",
    "    nbart_red  (time, y, x) int16 dask.array<chunksize=(1, 250, 250), meta=np.ndarray>\n",
    "    nbart_nir  (time, y, x) int16 dask.array<chunksize=(1, 250, 250), meta=np.ndarray>\n",
    "Attributes:\n",
    "    crs:      EPSG:3577\n",
    "\n",
    "# NDVI data            \n",
    "<xarray.Dataset>\n",
    "Dimensions:  (time: 787, x: 356, y: 411)\n",
    "Coordinates:\n",
    "  * time     (time) datetime64[ns] 1987-05-29T23:14:05.701791 ... 2010-12-30T23:43:03.718821\n",
    "  * y        (y) float64 -3.721e+06 -3.721e+06 ... -3.733e+06 -3.733e+06\n",
    "  * x        (x) float64 1.573e+06 1.574e+06 1.574e+06 ... 1.584e+06 1.584e+06\n",
    "Data variables:\n",
    "    ndvi     (time, y, x) float64 dask.array<chunksize=(1, 250, 250), meta=np.ndarray>\n",
    "Attributes:\n",
    "    crs:      EPSG:3577\n",
    "\n",
    "#Output dataset\n",
    "<xarray.Dataset>\n",
    "Dimensions:             (x: 356, y: 411)\n",
    "Coordinates:\n",
    "  * y                   (y) float64 -3.721e+06 -3.721e+06 ... -3.733e+06\n",
    "  * x                   (x) float64 1.573e+06 1.574e+06 ... 1.584e+06 1.584e+06\n",
    "Data variables:\n",
    "    ndvi_clim_mean_JFM  (y, x) float64 dask.array<chunksize=(250, 250), meta=np.ndarray>\n",
    "    ndvi_clim_mean_FMA  (y, x) float64 dask.array<chunksize=(250, 250), meta=np.ndarray>\n",
    "    ndvi_clim_mean_MAM  (y, x) float64 dask.array<chunksize=(250, 250), meta=np.ndarray>\n",
    "    ndvi_clim_mean_AMJ  (y, x) float64 dask.array<chunksize=(250, 250), meta=np.ndarray>\n",
    "    ndvi_clim_mean_MJJ  (y, x) float64 dask.array<chunksize=(250, 250), meta=np.ndarray>\n",
    "    ndvi_clim_mean_JJA  (y, x) float64 dask.array<chunksize=(250, 250), meta=np.ndarray>\n",
    "    ndvi_clim_mean_JAS  (y, x) float64 dask.array<chunksize=(250, 250), meta=np.ndarray>\n",
    "    ndvi_clim_mean_ASO  (y, x) float64 dask.array<chunksize=(250, 250), meta=np.ndarray>\n",
    "    ndvi_clim_mean_SON  (y, x) float64 dask.array<chunksize=(250, 250), meta=np.ndarray>\n",
    "    ndvi_clim_mean_OND  (y, x) float64 dask.array<chunksize=(250, 250), meta=np.ndarray>\n",
    "    ndvi_clim_mean_NDJ  (y, x) float64 dask.array<chunksize=(250, 250), meta=np.ndarray>\n",
    "    ndvi_clim_mean_DJF  (y, x) float64 dask.array<chunksize=(250, 250), meta=np.ndarray>"
   ]
  }
 ],
 "metadata": {
  "kernelspec": {
   "display_name": "Python 3",
   "language": "python",
   "name": "python3"
  },
  "language_info": {
   "codemirror_mode": {
    "name": "ipython",
    "version": 3
   },
   "file_extension": ".py",
   "mimetype": "text/x-python",
   "name": "python",
   "nbconvert_exporter": "python",
   "pygments_lexer": "ipython3",
   "version": "3.6.7"
  }
 },
 "nbformat": 4,
 "nbformat_minor": 4
}
