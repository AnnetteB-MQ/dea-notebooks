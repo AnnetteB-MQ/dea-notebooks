{
 "cells": [
  {
   "cell_type": "markdown",
   "metadata": {},
   "source": [
    "# Seasonal Vegetation Anomalies\n",
    "\n"
   ]
  },
  {
   "cell_type": "markdown",
   "metadata": {},
   "source": [
    "## Background\n",
    "\n",
    "Understanding how the vegetated landscape responds to longer-term environmental drivers such as the El Nino Southern Oscillation (ENSO) or climate change, requires the calculation of seasonal anomalies. Seasonal anomalies subtract the long-term seasonal mean from a time-series, thus removing seasonal variability and highlighting change related to longer-term drivers. "
   ]
  },
  {
   "cell_type": "markdown",
   "metadata": {},
   "source": [
    "## Description\n",
    "\n",
    "This notebook will calculate the seasonal anomaly for any given season and year. The long-term seasonal climatologies (both mean and standard deviation) for the vegetation index `NDVI` have been pre-calculated and are stored on disk. Given an AOI, season, and year, the script will calculate the seasonal mean for one of these indices and subtract the seasonal mean from the long-term climatology, resulting in a map of standardised vegetation anomalies for your AOI.  Optionally, the script will output a geotiff of the result. \n",
    "\n",
    "**IMPORTANT NOTES:** \n",
    "\n",
    "* It is a convention to establish climatologies based on a 30-year time range to account for inter-annual and inter-decadal modes of climate variability (often 1980-2010). As the landsat archive only goes back to 1987, the climatologies here have been calculated using the date-range `1988 - 2010` (inclusive).  While this is not ideal, a 22-year climatology should suffice to capture the bulk of inter-annual and inter-decadal variability, for example, both a major El Nino (1998) and a major La Nina (2010) are captured by this time-range.\n",
    "\n",
    "* Files & scripts for running datacube stats to calculate vegetation climatologies are located here: `'/g/data/r78/cb3058/dea-notebooks/vegetation_anomlies/dcstats'`. \n",
    "\n",
    "* The pre-computed climatologies are stored here: `/g/data/r78/cb3058/dea-notebooks/vegetation_anomalies/results/NSW_NDVI_climatologies_<mean>`.  The script below will use this string location to grab the data, so shifting the climatology mosaics to another location will require editing the `anomalies.py` script.\n",
    "\n",
    "* So far, NDVI climatolgies have been produced for the full extent of NSW only. "
   ]
  },
  {
   "cell_type": "markdown",
   "metadata": {},
   "source": [
    "## Technical details\n",
    "\n",
    "* **Products used:** 'ga_ls5t_ard_3', 'ga_ls7e_ard_3', 'ga_ls8c_ard_3'\n"
   ]
  },
  {
   "cell_type": "markdown",
   "metadata": {},
   "source": [
    "## Getting Started\n",
    "\n",
    "To run this analysis, go to the `Analysis Parameters` section and enter the relevant details, then run all the cells in the notebook. If running the analysis multiple times, only run the `Set up dask cluster` and `import libraries` cells once."
   ]
  },
  {
   "cell_type": "markdown",
   "metadata": {},
   "source": [
    "## Import libraries"
   ]
  },
  {
   "cell_type": "code",
   "execution_count": 1,
   "metadata": {},
   "outputs": [],
   "source": [
    "import xarray as xr\n",
    "from datacube.helpers import write_geotiff\n",
    "import matplotlib.pyplot as plt\n",
    "import geopandas as gpd\n",
    "import sys\n",
    "import os\n",
    "\n",
    "sys.path.append('../Scripts')\n",
    "from dea_plotting import display_map, map_shapefile\n",
    "from anomalies import calculate_anomalies, load_ard\n",
    "from dea_dask import create_local_dask_cluster\n",
    "\n",
    "%load_ext autoreload\n",
    "%autoreload 2"
   ]
  },
  {
   "cell_type": "markdown",
   "metadata": {},
   "source": [
    "### Set up local dask cluster\n",
    "\n",
    "Dask will create a local cluster of cpus for running this analysis in parallel. If you'd like to see what the dask cluster is doing, click on the hyperlink that prints after you run the cell and you can watch the cluster run."
   ]
  },
  {
   "cell_type": "code",
   "execution_count": 2,
   "metadata": {},
   "outputs": [
    {
     "data": {
      "text/html": [
       "<table style=\"border: 2px solid white;\">\n",
       "<tr>\n",
       "<td style=\"vertical-align: top; border: 0px solid white\">\n",
       "<h3 style=\"text-align: left;\">Client</h3>\n",
       "<ul style=\"text-align: left; list-style: none; margin: 0; padding: 0;\">\n",
       "  <li><b>Scheduler: </b>tcp://127.0.0.1:35296</li>\n",
       "  <li><b>Dashboard: </b><a href='http://127.0.0.1:8787/status' target='_blank'>http://127.0.0.1:8787/status</a>\n",
       "</ul>\n",
       "</td>\n",
       "<td style=\"vertical-align: top; border: 0px solid white\">\n",
       "<h3 style=\"text-align: left;\">Cluster</h3>\n",
       "<ul style=\"text-align: left; list-style:none; margin: 0; padding: 0;\">\n",
       "  <li><b>Workers: </b>1</li>\n",
       "  <li><b>Cores: </b>8</li>\n",
       "  <li><b>Memory: </b>30.67 GB</li>\n",
       "</ul>\n",
       "</td>\n",
       "</tr>\n",
       "</table>"
      ],
      "text/plain": [
       "<Client: 'tcp://127.0.0.1:35296' processes=1 threads=8, memory=30.67 GB>"
      ]
     },
     "metadata": {},
     "output_type": "display_data"
    }
   ],
   "source": [
    "create_local_dask_cluster()"
   ]
  },
  {
   "cell_type": "markdown",
   "metadata": {},
   "source": [
    "## Analysis Parameters\n",
    "\n",
    "The following cell sets the parameters, which define the area of interest and the season to conduct the analysis over. The parameters are:\n",
    "\n",
    "* `shp_fpath`: Provide a filepath to a shapefile that defines your AOI, if not using a shapefile then put `None` here.\n",
    "* `lat`, `lon`, `buffer`: If not using a shapefile to define the AOI, then use a latitide, longitude, and buffer to define a query 'box'.\n",
    "* `year`: The year of interest, e.g. `'2018'`\n",
    "* `season`:  The season of interest, e.g `'DJF'`,`'JFM'`, `'FMA'` etc\n",
    "* `name` : A string value used to name the output geotiff, e.g 'NSW'\n",
    "* `dask_chunks` : dictionary of values to chunk the data using dask e.g. `{'x':3000, 'y':3000}`"
   ]
  },
  {
   "cell_type": "code",
   "execution_count": 3,
   "metadata": {},
   "outputs": [],
   "source": [
    "shp_fpath = \"data/NSW_and_ACT.shp\" #\"data/nmdb_individual_catchments/PAROO RIVER.shp\"\n",
    "lat, lon, buff = -33.999, 150.258, 0.5\n",
    "year = '2018'\n",
    "season = 'JJA'\n",
    "name='NSW'\n",
    "dask_chunks = {'x':3000, 'y':3000}"
   ]
  },
  {
   "cell_type": "markdown",
   "metadata": {},
   "source": [
    "### Examine your area of interest"
   ]
  },
  {
   "cell_type": "code",
   "execution_count": 4,
   "metadata": {},
   "outputs": [
    {
     "data": {
      "application/vnd.jupyter.widget-view+json": {
       "model_id": "afc455ef86854ed1b476cd76c4c288cf",
       "version_major": 2,
       "version_minor": 0
      },
      "text/plain": [
       "Label(value='')"
      ]
     },
     "metadata": {},
     "output_type": "display_data"
    },
    {
     "data": {
      "application/vnd.jupyter.widget-view+json": {
       "model_id": "bad41bf7a1c948baa44b7d9516890e4f",
       "version_major": 2,
       "version_minor": 0
      },
      "text/plain": [
       "Map(basemap={'url': 'http://server.arcgisonline.com/ArcGIS/rest/services/World_Imagery/MapServer/tile/{z}/{y}/…"
      ]
     },
     "metadata": {},
     "output_type": "display_data"
    }
   ],
   "source": [
    "if shp_fpath is not None:\n",
    "    map_shapefile(gpd.read_file(shp_fpath), attribute='NSW_STAT_1')\n",
    "else:\n",
    "    display_map(y=(lat-buffer, lat + buffer), x=(lon-buffer, lon + buffer))"
   ]
  },
  {
   "cell_type": "markdown",
   "metadata": {},
   "source": [
    "## Calculate the anomaly for the AOI\n",
    "\n",
    "For large queries (e.g > 10,000 x 10,000 pixels), the code will take several minutes to run.  Queries larger than ~25,000 x 25,000 pixels may start to fail due to memory limitations (several (42,000 x 35,000 x 52) runs covering all of NSW has been successfully run on the VDI). Check the x,y dimensions in the lazily loaded output to get idea of how big your result will be before you run  the `.compute()` cell."
   ]
  },
  {
   "cell_type": "code",
   "execution_count": 5,
   "metadata": {},
   "outputs": [
    {
     "name": "stdout",
     "output_type": "stream",
     "text": [
      "extracting data based on shapefile extent\n",
      "Finding datasets\n",
      "    ga_ls5t_ard_3\n",
      "    ga_ls7e_ard_3 (ignoring SLC-off observations)\n",
      "    ga_ls8c_ard_3\n",
      "Applying pixel quality/cloud mask\n",
      "Returning 58 time steps as a dask array\n",
      "['2018-06-01T23:59:50.903914000' '2018-06-03T23:47:04.911934000'\n",
      " '2018-06-05T00:30:44.280167000' '2018-06-05T23:35:07.106422000'\n",
      " '2018-06-07T00:18:23.569419000' '2018-06-09T00:06:03.483406000'\n",
      " '2018-06-10T23:53:43.324239000' '2018-06-12T23:40:59.245962000'\n",
      " '2018-06-14T00:24:39.608354000' '2018-06-16T00:12:19.389808000'\n",
      " '2018-06-17T23:59:59.102667000' '2018-06-19T23:47:14.858499000'\n",
      " '2018-06-21T00:30:55.122730000' '2018-06-21T23:35:18.440436000'\n",
      " '2018-06-23T00:18:34.761697000' '2018-06-25T00:06:14.371763000'\n",
      " '2018-06-26T23:53:53.917409000' '2018-06-28T23:41:09.503032000'\n",
      " '2018-06-30T00:24:49.719017000' '2018-07-02T00:12:29.170689000'\n",
      " '2018-07-04T00:00:08.577198000' '2018-07-05T23:47:24.016040000'\n",
      " '2018-07-07T00:31:04.121990000' '2018-07-07T23:35:27.317186000'\n",
      " '2018-07-09T00:18:43.461002000' '2018-07-11T00:06:22.788452000'\n",
      " '2018-07-12T23:54:02.045386000' '2018-07-14T23:41:17.370151000'\n",
      " '2018-07-16T00:24:57.404708000' '2018-07-18T00:12:36.577258000'\n",
      " '2018-07-20T00:00:15.716424000' '2018-07-21T23:47:30.879840000'\n",
      " '2018-07-23T00:31:10.842404000' '2018-07-23T23:35:33.896331000'\n",
      " '2018-07-25T00:18:49.902613000' '2018-07-27T00:06:29.021392000'\n",
      " '2018-07-28T23:54:08.714227000' '2018-07-30T23:41:24.441680000'\n",
      " '2018-08-01T00:25:04.725259000' '2018-08-03T00:12:44.343550000'\n",
      " '2018-08-05T00:00:23.902864000' '2018-08-06T23:47:39.507768000'\n",
      " '2018-08-08T00:31:19.718957000' '2018-08-08T23:35:42.985754000'\n",
      " '2018-08-10T00:18:59.235691000' '2018-08-12T00:06:38.723415000'\n",
      " '2018-08-13T23:54:18.125658000' '2018-08-15T23:41:33.597882000'\n",
      " '2018-08-17T00:25:13.758110000' '2018-08-19T00:12:53.086043000'\n",
      " '2018-08-21T00:00:32.409147000' '2018-08-22T23:47:47.746065000'\n",
      " '2018-08-24T00:31:27.826023000' '2018-08-24T23:35:50.958773000'\n",
      " '2018-08-26T00:19:07.049292000' '2018-08-28T00:06:46.256750000'\n",
      " '2018-08-29T23:54:25.361420000' '2018-08-31T23:41:40.507988000']\n",
      "calculating vegetation indice\n",
      "calculating anomalies\n",
      "<xarray.Dataset>\n",
      "Dimensions:        (x: 41876, y: 34351)\n",
      "Coordinates:\n",
      "  * x              (x) float64 8.263e+05 8.263e+05 ... 2.083e+06 2.083e+06\n",
      "  * y              (y) float64 -3.182e+06 -3.182e+06 ... -4.212e+06 -4.212e+06\n",
      "    band           int64 1\n",
      "Data variables:\n",
      "    std_anomalies  (y, x) float64 dask.array<chunksize=(3000, 3000), meta=np.ndarray>\n",
      "Attributes:\n",
      "    crs:      epsg:3577\n",
      "    units:    1\n"
     ]
    }
   ],
   "source": [
    "#Lazily run calculations, this will check for errors before\n",
    "# we actually compute the results\n",
    "anomalies = calculate_anomalies(shp_fpath=shp_fpath,\n",
    "                                query_box=(lat,lon,buff),\n",
    "                                year=year,\n",
    "                                season=season,\n",
    "                                dask_chunks=dask_chunks)\n",
    "\n",
    "print(anomalies)"
   ]
  },
  {
   "cell_type": "code",
   "execution_count": 6,
   "metadata": {},
   "outputs": [
    {
     "name": "stdout",
     "output_type": "stream",
     "text": [
      "CPU times: user 18min 51s, sys: 1min 17s, total: 20min 8s\n",
      "Wall time: 1h 9min 7s\n"
     ]
    }
   ],
   "source": [
    "%%time\n",
    "anomalies = anomalies.compute()"
   ]
  },
  {
   "cell_type": "markdown",
   "metadata": {},
   "source": [
    "## Export geotiff"
   ]
  },
  {
   "cell_type": "code",
   "execution_count": null,
   "metadata": {},
   "outputs": [],
   "source": [
    "# Write geotiff to a location\n",
    "write_geotiff(name+'_ndvi_'+year+\"_\"+season+ '_standardised_anomalies.tif', anomalies)"
   ]
  },
  {
   "cell_type": "markdown",
   "metadata": {},
   "source": [
    "## Plot the result\n",
    "\n",
    "If your AOI is very large, plotting the result can crash the notebook. In that case, its better to export the geotiff and view it in QGIS or ArcGIS"
   ]
  },
  {
   "cell_type": "code",
   "execution_count": null,
   "metadata": {},
   "outputs": [],
   "source": [
    "anomalies.std_anomalies.plot(figsize=(10,10), vmin=-2.0, vmax=2.0, cmap='BrBG')\n",
    "\n",
    "plt.title(season+ \", \" +year)\n",
    "plt.show()"
   ]
  }
 ],
 "metadata": {
  "kernelspec": {
   "display_name": "Python 3",
   "language": "python",
   "name": "python3"
  },
  "language_info": {
   "codemirror_mode": {
    "name": "ipython",
    "version": 3
   },
   "file_extension": ".py",
   "mimetype": "text/x-python",
   "name": "python",
   "nbconvert_exporter": "python",
   "pygments_lexer": "ipython3",
   "version": "3.6.7"
  }
 },
 "nbformat": 4,
 "nbformat_minor": 4
}
