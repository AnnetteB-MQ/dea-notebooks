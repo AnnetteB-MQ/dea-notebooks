{
 "cells": [
  {
   "cell_type": "markdown",
   "metadata": {},
   "source": [
    "## Change Detection with Hypothesis Testing\n",
    "\n",
    "The following script will conduct a basic implementation of change dection using diferencing techniques combined with hypothesis testing to demonstrate the detection of deforestation.  The user should go to the  'User Inputs' section and enter the relevant information.  The output of the script is a 3-band geotiff with the following bands: Red = Difference in mean photosynthetic vegetation between a baseline period and recent period; Green = Difference in standard deviation OR the -log(p-value) of the Levene statistic; Blue = -log(p-value) of the Welch T-test\n"
   ]
  },
  {
   "cell_type": "code",
   "execution_count": null,
   "metadata": {},
   "outputs": [],
   "source": [
    "import numpy as np\n",
    "import xarray as xr\n",
    "import matplotlib.pyplot as plt\n",
    "\n",
    "import datacube \n",
    "from datacube.helpers import ga_pq_fuser\n",
    "from datacube.storage import masking\n",
    "from datacube.utils import geometry\n",
    "from datacube.utils.geometry import CRS\n",
    "from affine import Affine\n",
    "\n",
    "#import custom functions\n",
    "import sys\n",
    "sys.path.append('src')\n",
    "import DEAPlotting, SpatialTools, DEADataHandling\n",
    "from SignificanceTests import significance_tests"
   ]
  },
  {
   "cell_type": "markdown",
   "metadata": {},
   "source": [
    "### User Inputs"
   ]
  },
  {
   "cell_type": "code",
   "execution_count": null,
   "metadata": {},
   "outputs": [],
   "source": [
    "#Enter coordinates for the analysis and the name of the AOI\n",
    "AOI= 'Kowen_Forest'\n",
    "lat, lon = -35.301274, 149.306497\n",
    "latLon_adjust = 0.05\n",
    "\n",
    "#length of time from start of baseline to end of change period\n",
    "time_period = ('2002-01-01', '2018-12-31')\n",
    "\n",
    "#Year at which baseline period ends and 'change' period starts\n",
    "endofBaseline = 2012\n",
    "\n",
    "#do you want to inlude a variance hypothesis test?\n",
    "varianceTest = False"
   ]
  },
  {
   "cell_type": "markdown",
   "metadata": {},
   "source": [
    "### Retrieve data (Fractional Cover)"
   ]
  },
  {
   "cell_type": "code",
   "execution_count": null,
   "metadata": {},
   "outputs": [],
   "source": [
    "dc = datacube.Datacube(app='change_detect')\n",
    "# Set up query\n",
    "query = {'lon': (lon - latLon_adjust, lon + latLon_adjust),\n",
    "         'lat': (lat - latLon_adjust, lat + latLon_adjust),\n",
    "         'time': time_period}\n",
    "\n",
    "fc = DEADataHandling.load_clearlandsat(dc=dc, query=query, sensors=['ls5', 'ls7', 'ls8'], product='fc',\n",
    "        masked_prop=0.25, mask_pixel_quality=True)"
   ]
  },
  {
   "cell_type": "markdown",
   "metadata": {},
   "source": [
    "### create baseline period and change period \n",
    "- only interested in PV"
   ]
  },
  {
   "cell_type": "code",
   "execution_count": null,
   "metadata": {},
   "outputs": [],
   "source": [
    "baseline = fc.PV.sel(time=fc['time.year']<=endofBaseline)\n",
    "recent = fc.PV.sel(time=fc['time.year']>=(endofBaseline+1))"
   ]
  },
  {
   "cell_type": "markdown",
   "metadata": {},
   "source": [
    "### conduct hypothesis tests on mean\n",
    "\n",
    " - can include a variance hypothesis test if you like"
   ]
  },
  {
   "cell_type": "code",
   "execution_count": null,
   "metadata": {},
   "outputs": [],
   "source": [
    "#welch t-test (fast)\n",
    "tstat, p_tstat = significance_tests(xarray_a = baseline, xarray_b = recent, levene_test=False, t_test=True)\n",
    "\n",
    "if varianceTest:\n",
    "    #Levene test (will take a while)\n",
    "    levene, p_levene = significance_tests(xarray_a = baseline, xarray_b = recent, levene_test=True, t_test=False)"
   ]
  },
  {
   "cell_type": "markdown",
   "metadata": {},
   "source": [
    "### Transform P values and calculate the mean difference between periods"
   ]
  },
  {
   "cell_type": "code",
   "execution_count": null,
   "metadata": {},
   "outputs": [],
   "source": [
    "#negative log of p-values so numbers are larger\n",
    "negLog_p_tstat = -np.log(p_tstat)\n",
    "mean_diff = baseline.mean('time') - recent.mean('time')\n",
    "std_diff = baseline.std('time') - recent.std('time')\n",
    "\n",
    "if varianceTest: \n",
    "    negLog_p_levene = -np.log(p_levene)"
   ]
  },
  {
   "cell_type": "markdown",
   "metadata": {},
   "source": [
    "### Create RGB geotiff and export"
   ]
  },
  {
   "cell_type": "code",
   "execution_count": null,
   "metadata": {},
   "outputs": [],
   "source": [
    "#create rgb xarray object and export geotiff\n",
    "x = {'mean_diff': mean_diff, 'std_diff': std_diff, 'p_tstat': negLog_p_tstat}\n",
    "rgb_changeDetect = xr.Dataset(x, attrs={'crs' : CRS('EPSG:3577'),'affine': fc.affine })\n",
    "DEADataHandling.dataset_to_geotiff(\"results/\" + AOI + \"_rgb_changeDetect.tif\", rgb_changeDetect)\n",
    "\n",
    "if varianceTest:\n",
    "    x = {'mean_diff': mean_diff, 'p_levene': negLog_p_levene, 'p_tstat': negLog_p_tstat}\n",
    "    rgb_changeDetect = xr.Dataset(x, attrs={'crs' : CRS('EPSG:3577'),'affine': fc.affine })\n",
    "\n",
    "    DEADataHandling.dataset_to_geotiff(\"results/\" + AOI + \"_rgb_leveneChangeDetect.tif\", rgb_changeDetect)"
   ]
  },
  {
   "cell_type": "markdown",
   "metadata": {},
   "source": [
    "### Plot results"
   ]
  },
  {
   "cell_type": "code",
   "execution_count": null,
   "metadata": {},
   "outputs": [],
   "source": [
    "DEAPlotting.rgb(rgb_changeDetect, bands=['mean_diff', 'std_diff', 'p_tstat'], size=12, percentile_stretch = (0.01, 0.99))\n",
    "\n",
    "if varianceTest:\n",
    "    DEAPlotting.rgb(rgb_changeDetect, bands=['mean_diff', 'p_levene', 'p_tstat'], size=12, percentile_stretch = (0.01, 0.99))"
   ]
  },
  {
   "cell_type": "code",
   "execution_count": null,
   "metadata": {},
   "outputs": [],
   "source": []
  }
 ],
 "metadata": {
  "kernelspec": {
   "display_name": "Python 3",
   "language": "python",
   "name": "python3"
  },
  "language_info": {
   "codemirror_mode": {
    "name": "ipython",
    "version": 3
   },
   "file_extension": ".py",
   "mimetype": "text/x-python",
   "name": "python",
   "nbconvert_exporter": "python",
   "pygments_lexer": "ipython3",
   "version": "3.6.7"
  }
 },
 "nbformat": 4,
 "nbformat_minor": 2
}
