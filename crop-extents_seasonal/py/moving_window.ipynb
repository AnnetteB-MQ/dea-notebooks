{
 "cells": [
  {
   "cell_type": "markdown",
   "metadata": {},
   "source": [
    "### Rolling window calculations - seasonal\n",
    "\n",
    "Limiting data to just the winter months (May to Oct).  Calculating 2 monthly mean, then find maximum and minimum values, then calculate range.\n",
    "\n",
    "Export data as a binary for use in Peter Tan's unsupervised learning program.\n",
    "\n",
    "See the annual version of this code for more commenting"
   ]
  },
  {
   "cell_type": "code",
   "execution_count": null,
   "metadata": {},
   "outputs": [],
   "source": [
    "import builtins\n",
    "import numpy as np\n",
    "import xarray as xr\n",
    "import os\n",
    "import pandas as pd\n",
    "\n",
    "#import custom functions\n",
    "import sys\n",
    "sys.path.append('src')\n",
    "import DEAPlotting\n",
    "from read_envi_header import read_envi_header"
   ]
  },
  {
   "cell_type": "code",
   "execution_count": null,
   "metadata": {},
   "outputs": [],
   "source": [
    "#user inputs\n",
    "start_year = 2000\n",
    "end_year = 2018\n",
    "directory = '/g/data1a/r78/cb3058/dea-notebooks/crop-extents_seasonal/data_dir/griffith/'\n",
    "index_name = 'brightness'\n",
    "# 'mndwi' 'brightness' 'msavi'"
   ]
  },
  {
   "cell_type": "code",
   "execution_count": null,
   "metadata": {},
   "outputs": [],
   "source": [
    "z = range(start_year,end_year+1, 1)\n",
    "years = []\n",
    "for zz in z:\n",
    "    years.append(str(zz))\n",
    "\n",
    "def get_immediate_subdirectories(a_dir):\n",
    "    return [name for name in os.listdir(a_dir)\n",
    "            if os.path.isdir(os.path.join(a_dir, name))]\n",
    "\n",
    "for folder in get_immediate_subdirectories(directory):\n",
    "    for year in years:\n",
    "        print(\"working on year: \" + index_name + \", \" + year)\n",
    "\n",
    "        filename_img = directory + year + \"/\" + index_name + \".img\"\n",
    "        filename_hdr = directory + year + \"/\" + index_name + \".hdr\"\n",
    "        \n",
    "        def rollingaverageSeasonal_range(filename_img, filename_hdr, index_name):\n",
    "            index = xr.open_rasterio(filename_img)\n",
    "            hdr = read_envi_header(filename_hdr)\n",
    "            time_str = hdr['band names']\n",
    "            time = []\n",
    "            for i in time_str:\n",
    "                x = pd.to_datetime(i, format='%Y-%m-%d')\n",
    "                time.append(x)\n",
    "\n",
    "            index = xr.DataArray(index.values, coords = [time, index.y, index.x],\n",
    "                                 dims = ['time', 'y', 'x'], name=index_name, attrs=index.attrs)\n",
    "            \n",
    "            index = index.where(index>-998, np.nan)\n",
    "            \n",
    "            def is_winter(month):\n",
    "                return (month >= 5) & (month <= 10)\n",
    "\n",
    "            seasonal_data = index.sel(time=is_winter(index['time.month']))\n",
    "            \n",
    "            index_2M = seasonal_data.resample(time='2M').mean('time', skipna=True)\n",
    "\n",
    "            index_2M_max = index_2M.max('time')\n",
    "            index_2M_min = index_2M.min('time')\n",
    "            index_2M_range = index_2M_max - index_2M_min\n",
    "            index_2M_range = index_2M_range.fillna(-999.) \n",
    "            \n",
    "            index_2M_range.values.tofile(directory + year + \"/\" + index_name+'_range.img')\n",
    "        \n",
    "        rollingaverageSeasonal_range(filename_img, filename_hdr, index_name=index_name)\n",
    "    break\n",
    "print('finished')"
   ]
  },
  {
   "cell_type": "markdown",
   "metadata": {},
   "source": [
    "### visualizing bands"
   ]
  },
  {
   "cell_type": "code",
   "execution_count": null,
   "metadata": {},
   "outputs": [],
   "source": [
    "def rollingaverageSeasonal_range_xr(filename_img, filename_hdr, index_name):\n",
    "    index = xr.open_rasterio(filename_img)\n",
    "    hdr = read_envi_header(filename_hdr)\n",
    "    time_str = hdr['band names']\n",
    "    time = []\n",
    "    for i in time_str:\n",
    "        x = pd.to_datetime(i, format='%Y-%m-%d')\n",
    "        time.append(x)\n",
    "\n",
    "    index = xr.DataArray(index.values, coords = [time, index.y, index.x],\n",
    "                         dims = ['time', 'y', 'x'], name=index_name, attrs=index.attrs)\n",
    "\n",
    "    index = index.where(index>-998, np.nan)\n",
    "\n",
    "    def is_winter(month):\n",
    "        return (month >= 5) & (month <= 10)\n",
    "\n",
    "    seasonal_data = index.sel(time=is_winter(index['time.month']))\n",
    "#     print(seasonal_data.time.values)\n",
    "    index_2M = seasonal_data.resample(time='2M').mean('time', skipna=True)\n",
    "#     print(index_2M.time.values)\n",
    "    index_2M_max = index_2M.max('time')\n",
    "    index_2M_min = index_2M.min('time')\n",
    "    index_2M_range = index_2M_max - index_2M_min\n",
    "    index_2M_range = index_2M_range.fillna(-999.) \n",
    "    return index_2M_range"
   ]
  },
  {
   "cell_type": "code",
   "execution_count": null,
   "metadata": {},
   "outputs": [],
   "source": [
    "folder = '/g/data1a/r78/cb3058/dea-notebooks/crop-extents_seasonal/data_dir/griffith/2016/'\n",
    "filename_img = folder + 'brightness.img'\n",
    "filename_hdr = folder + 'brightness.hdr'\n",
    "\n",
    "brightness_range = rollingaverageSeasonal_range_xr(filename_img, filename_hdr, index_name='brightness')"
   ]
  },
  {
   "cell_type": "code",
   "execution_count": null,
   "metadata": {},
   "outputs": [],
   "source": [
    "filename_img = folder + 'msavi.img'\n",
    "filename_hdr = folder + 'msavi.hdr'\n",
    "msavi_range = rollingaverageSeasonal_range_xr(filename_img, filename_hdr, index_name='msavi')"
   ]
  },
  {
   "cell_type": "code",
   "execution_count": null,
   "metadata": {},
   "outputs": [],
   "source": [
    "filename_img = folder + 'mndwi.img'\n",
    "filename_hdr = folder + 'mndwi.hdr'\n",
    "wetness_range = rollingaverageSeasonal_range_xr(filename_img, filename_hdr, index_name='mndwi')"
   ]
  },
  {
   "cell_type": "code",
   "execution_count": null,
   "metadata": {},
   "outputs": [],
   "source": [
    "ds = xr.Dataset({'wetness_range':wetness_range,'msavi_range': msavi_range,'brightness_range': brightness_range})"
   ]
  },
  {
   "cell_type": "code",
   "execution_count": null,
   "metadata": {},
   "outputs": [],
   "source": [
    "DEAPlotting.rgb(ds, bands=['wetness_range', 'msavi_range', 'brightness_range'], size=10)"
   ]
  },
  {
   "cell_type": "code",
   "execution_count": null,
   "metadata": {},
   "outputs": [],
   "source": []
  },
  {
   "cell_type": "code",
   "execution_count": null,
   "metadata": {},
   "outputs": [],
   "source": []
  },
  {
   "cell_type": "code",
   "execution_count": null,
   "metadata": {},
   "outputs": [],
   "source": [
    "def rollingaverage_max_xr(filename_img, filename_hdr, index_name):\n",
    "    index = xr.open_rasterio(filename_img)\n",
    "    hdr = read_envi_header(filename_hdr)\n",
    "    time_str = hdr['band names']\n",
    "    time = []\n",
    "    for i in time_str:\n",
    "        x = pd.to_datetime(i, format='%Y-%m-%d')\n",
    "        time.append(x)\n",
    "\n",
    "    index = xr.DataArray(index.values, coords = [time, index.y, index.x],\n",
    "                         dims = ['time', 'y', 'x'], name=index_name, attrs=index.attrs)\n",
    "\n",
    "    index = index.where(index>-998, np.nan)\n",
    "\n",
    "    index_3M = index.resample(time='M').mean('time', skipna=True)\n",
    "    index_3M_max = index_3M.mean('time')\n",
    "    index_3M_max = index_3M_max.fillna(-999.) \n",
    "    return index_3M_max"
   ]
  },
  {
   "cell_type": "code",
   "execution_count": null,
   "metadata": {},
   "outputs": [],
   "source": [
    "folder = '/g/data1a/r78/cb3058/dea-notebooks/crop-extents/data_dir/griffith/2017/'\n",
    "filename_img = folder + 'brightness.img'\n",
    "filename_hdr = folder + 'brightness.hdr'\n",
    "\n",
    "brightness_max = rollingaverage_max_xr(filename_img, filename_hdr, index_name='brightness')"
   ]
  },
  {
   "cell_type": "code",
   "execution_count": null,
   "metadata": {},
   "outputs": [],
   "source": [
    "brightness_max.plot()"
   ]
  },
  {
   "cell_type": "code",
   "execution_count": null,
   "metadata": {},
   "outputs": [],
   "source": []
  },
  {
   "cell_type": "code",
   "execution_count": null,
   "metadata": {},
   "outputs": [],
   "source": []
  },
  {
   "cell_type": "code",
   "execution_count": null,
   "metadata": {},
   "outputs": [],
   "source": []
  },
  {
   "cell_type": "code",
   "execution_count": null,
   "metadata": {},
   "outputs": [],
   "source": [
    "from __future__ import division\n",
    "import os\n",
    "import sys\n",
    "\n",
    "from osgeo import gdal, gdalconst \n",
    "from osgeo.gdalconst import * \n",
    "\n",
    "\n",
    "def ENVI_raster_binary_to_2d_array(file_name, parafile):\n",
    "    \n",
    "        driver = gdal.GetDriverByName('ENVI')\n",
    "        driver.Register()\n",
    "\n",
    "        tmm = pd.read_csv(parafile, header =None)\n",
    "        rows=tmm.values[1:3][0][0]\n",
    "        cols=tmm.values[1:3][1][0]\n",
    "        arr = np.zeros(([nrow,ncol]))\n",
    "        print(arr.shape)\n",
    "#         image_array=np.fromfile(filename, dtype=np.float32)\n",
    "# #         band = inDs.GetRasterBand(1)\n",
    "#         image_array = [cols, rows]\n",
    "#         print(image_array.shape)\n",
    "\n",
    "#         return image_array\n",
    "\n",
    "\n",
    "# The function can be called as follows:\n",
    "folder = '/g/data1a/r78/cb3058/dea-notebooks/crop-extents/data_dir/griffith/2017/'\n",
    "file_name = folder + 'msavi_range.img'\n",
    "parafile = folder+'/ts_irow_icol.csv'\n",
    "msavi =  ENVI_raster_binary_to_2d_array(file_name, parafile) \n",
    "msavi\n",
    "\n"
   ]
  },
  {
   "cell_type": "code",
   "execution_count": null,
   "metadata": {},
   "outputs": [],
   "source": [
    "import matplotlib.pyplot as plt\n",
    "np.fromfile(file_name, dtype=np.float32).shape"
   ]
  },
  {
   "cell_type": "code",
   "execution_count": null,
   "metadata": {},
   "outputs": [],
   "source": [
    "folder = '/g/data1a/r78/cb3058/dea-notebooks/crop-extents/data_dir/griffith/2017/'\n",
    "file_name = folder + 'msavi_range.img'\n",
    "xr.open_rasterio(file_name)\n",
    "\n",
    " "
   ]
  },
  {
   "cell_type": "code",
   "execution_count": null,
   "metadata": {},
   "outputs": [],
   "source": [
    "#visualizing bands\n",
    "directory = \"/g/data1a/r78/cb3058/dea-notebooks/crop-extents/data_dir/griffith/2017/\"\n",
    "filename= directory + \"phg_mndwi.img\"\n",
    "parafile=directory+'/ts_irow_icol.csv'\n",
    "tmm = pd.read_csv(parafile, header =None)\n",
    "nrow=tmm.values[1:3][0][0]\n",
    "ncol=tmm.values[1:3][1][0]\n",
    "\n",
    "print (nrow, ncol)\n",
    "pnum = nrow*ncol\n",
    "data=np.zeros([nrow,ncol])\n",
    "tgt=4\n",
    "col=0\n",
    "\n",
    "def readimgfile(filename, pnum, tgt, data, col):\n",
    "    \"\"\"\n",
    "    Opens a .img envi file and returns a np array\n",
    "    \"\"\"\n",
    "    #print(filename)\n",
    "    imgdata=np.fromfile(filename, dtype=np.float32)\n",
    "    print(imgdata, imgdata.shape, tgt*pnum)\n",
    "    oneblock=imgdata[tgt*pnum:(tgt+1)*pnum]\n",
    "    print(oneblock)\n",
    "    print(oneblock.shape)\n",
    "    data[:, col]=imgdata[tgt*pnum:(tgt+1)*pnum]\n",
    "    return data\n",
    "\n",
    "x = readimgfile(filename, pnum, tgt, data, col)"
   ]
  },
  {
   "cell_type": "code",
   "execution_count": null,
   "metadata": {},
   "outputs": [],
   "source": [
    "x.shape"
   ]
  },
  {
   "cell_type": "code",
   "execution_count": null,
   "metadata": {},
   "outputs": [],
   "source": []
  },
  {
   "cell_type": "code",
   "execution_count": null,
   "metadata": {},
   "outputs": [],
   "source": []
  },
  {
   "cell_type": "code",
   "execution_count": null,
   "metadata": {},
   "outputs": [],
   "source": []
  },
  {
   "cell_type": "code",
   "execution_count": null,
   "metadata": {},
   "outputs": [],
   "source": []
  },
  {
   "cell_type": "code",
   "execution_count": null,
   "metadata": {},
   "outputs": [],
   "source": []
  },
  {
   "cell_type": "code",
   "execution_count": null,
   "metadata": {},
   "outputs": [],
   "source": []
  },
  {
   "cell_type": "code",
   "execution_count": null,
   "metadata": {},
   "outputs": [],
   "source": [
    "def ENVI_get_geotransform(filename):\n",
    "    '''\n",
    "    retruns the geotransform object from\n",
    "    and envi .hdr file\n",
    "    '''\n",
    "    driver = gdal.GetDriverByName('ENVI') \n",
    "    driver.Register()\n",
    "\n",
    "    inDs = gdal.Open(filename, GA_ReadOnly)\n",
    "\n",
    "    print('get georeference information')\n",
    "    geotransform = inDs.GetGeoTransform()\n",
    "    originX = geotransform[0]\n",
    "    originY = geotransform[3]\n",
    "    pixelWidth = geotransform[1]\n",
    "    pixelHeight = geotransform[5]\n",
    "\n",
    "    return geotransform\n",
    "\n",
    "def readimgfile(filename, pnum, tgt, data, col):\n",
    "    \"\"\"\n",
    "    Opens a .img envi file and returns a np array\n",
    "    \"\"\"\n",
    "    #print(filename)\n",
    "    imgdata=np.fromfile(filename, dtype=np.float32)\n",
    "    #print(imgdata, imgdata.shape, tgt*pnum)\n",
    "    oneblock=imgdata[tgt*pnum:(tgt+1)*pnum]\n",
    "    #print(oneblock)\n",
    "    #print(oneblock.shape)\n",
    "    data[:, col]=imgdata[tgt*pnum:(tgt+1)*pnum]\n",
    "    \n",
    "directory = \"/g/data1a/r78/cb3058/dea-notebooks/crop-extents/data_dir/griffith/2000/\"\n",
    "filename= directory + \"phg_msavi.img\"\n",
    "parafile=directory+'/ts_irow_icol.csv'\n",
    "tmm = pd.read_csv(parafile, header =None)\n",
    "nrow=tmm.values[1:3][0][0]\n",
    "ncol=tmm.values[1:3][1][0]\n",
    "print (nrow, ncol)\n",
    "pnum = nrow*ncol\n",
    "tgt=4\n",
    "col=0\n",
    "\n",
    "readimgfile(filename, pnum, tgt, data, col)\n",
    "geotransform =  ENVI_get_geotransform(file_name) "
   ]
  },
  {
   "cell_type": "code",
   "execution_count": null,
   "metadata": {},
   "outputs": [],
   "source": []
  },
  {
   "cell_type": "code",
   "execution_count": null,
   "metadata": {},
   "outputs": [],
   "source": [
    "#visualizing bands\n",
    "directory = \"/g/data1a/r78/cb3058/dea-notebooks/crop-extents/data_dir/griffith/2017/\"\n",
    "filename= directory + \"msavi_range.img\"\n",
    "parafile=directory+'/ts_irow_icol.csv'\n",
    "tmm = pd.read_csv(parafile, header =None)\n",
    "nrow=tmm.values[1:3][0][0]\n",
    "ncol=tmm.values[1:3][1][0]\n",
    "\n",
    "print (nrow, ncol)\n",
    "pnum = nrow*ncol\n",
    "data=np.zeros([pnum, 5])\n",
    "tgt=4\n",
    "col=0\n",
    "\n",
    "def readimgfile(filename, pnum, tgt, data, col):\n",
    "    \"\"\"\n",
    "    Opens a .img envi file and returns a np array\n",
    "    \"\"\"\n",
    "    #print(filename)\n",
    "    imgdata=np.fromfile(filename, dtype=np.float32)\n",
    "    #print(imgdata, imgdata.shape, tgt*pnum)\n",
    "    oneblock=imgdata[tgt*pnum:(tgt+1)*pnum]\n",
    "    #print(oneblock)\n",
    "    #print(oneblock.shape)\n",
    "    data[:, col]=imgdata[tgt*pnum:(tgt+1)*pnum]\n",
    "\n",
    "readimgfile(filename, pnum, tgt, data, col)\n",
    "\n"
   ]
  },
  {
   "cell_type": "code",
   "execution_count": null,
   "metadata": {},
   "outputs": [],
   "source": [
    "def three_band_image(ds, bands=['red', 'green', 'blue'], time=0, figsize=(10, 10), title='Time',\n",
    "                     projection='projected', contrast_enhance=False, reflect_stand=5000):\n",
    "\n",
    "\n",
    "# Create new numpy array matching shape of xarray\n",
    "t, y, x = ds[bands[0]].shape\n",
    "rawimg = np.zeros((y, x, 3), dtype=np.float32)\n",
    "\n",
    "# Add xarray bands for a given time into three dimensional numpy array\n",
    "for i, colour in enumerate(bands):\n",
    "\n",
    "rawimg[:, :, i] = ds[colour][time].values\n",
    "\n",
    "\n",
    "# Create new numpy array matching shape of xarray\n",
    "y, x = ds[bands[0]].shape\n",
    "rawimg = np.zeros((y, x, 3), dtype=np.float32)\n",
    "\n",
    "# Add xarray bands into three dimensional numpy array\n",
    "for i, colour in enumerate(bands):\n",
    "\n",
    "    rawimg[:, :, i] = ds[colour].values\n",
    "            \n",
    "# Set nodata value to NaN\n",
    "rawimg[rawimg == -999] = np.nan\n",
    "\n",
    "# Optionally compute contrast based on histogram\n",
    "if contrast_enhance:\n",
    "\n",
    "    # Stretch contrast using histogram\n",
    "    img_toshow = exposure.equalize_hist(rawimg, mask=np.isfinite(rawimg))\n",
    "\n",
    "else:\n",
    "\n",
    "    # Stretch contrast using defined reflectance standardisation and clip to between 0 and 1\n",
    "    # to prevent warnings; defaults to reflect_stand = 5000\n",
    "    img_toshow = (rawimg / reflect_stand).clip(0, 1)\n",
    "\n",
    "# Plot figure, setting x and y axes from extent of xarray dataset\n",
    "fig, ax = plt.subplots(figsize=figsize)\n",
    "plt.imshow(img_toshow)"
   ]
  }
 ],
 "metadata": {
  "kernelspec": {
   "display_name": "Python 3",
   "language": "python",
   "name": "python3"
  },
  "language_info": {
   "codemirror_mode": {
    "name": "ipython",
    "version": 3
   },
   "file_extension": ".py",
   "mimetype": "text/x-python",
   "name": "python",
   "nbconvert_exporter": "python",
   "pygments_lexer": "ipython3",
   "version": "3.6.7"
  }
 },
 "nbformat": 4,
 "nbformat_minor": 2
}
