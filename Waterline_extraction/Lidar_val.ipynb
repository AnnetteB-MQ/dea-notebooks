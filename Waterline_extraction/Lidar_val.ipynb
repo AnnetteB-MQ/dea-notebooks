{
 "cells": [
  {
   "cell_type": "code",
   "execution_count": null,
   "metadata": {},
   "outputs": [],
   "source": [
    "\n",
    "\n",
    "\n",
    "\n",
    "\n",
    "\n"
   ]
  },
  {
   "cell_type": "code",
   "execution_count": 1,
   "metadata": {},
   "outputs": [],
   "source": [
    "import rasterio\n",
    "import matplotlib.pyplot as plt\n",
    "import numpy as np\n",
    "import pandas as pd\n",
    "import geopandas\n",
    "from rasterio import features\n",
    "\n",
    "import datacube \n",
    "import xarray as xr\n",
    "from datacube.helpers import ga_pq_fuser\n",
    "from datacube.storage import masking\n",
    "\n",
    "# Connect to current collection and collection upgrade databases\n",
    "dc = datacube.Datacube()\n",
    "\n",
    "import sys\n",
    "sys.path.append('../10_Scripts')\n",
    "import DEAPlotting, SpatialTools, DEADataHandling"
   ]
  },
  {
   "cell_type": "code",
   "execution_count": 2,
   "metadata": {},
   "outputs": [],
   "source": [
    "with rasterio.open('validation/raw_data/LiDAR/Inland/NSW Government/DEMs/cawndilla_5m_dem.tif') as dataset:\n",
    "    \n",
    "    # Get profile\n",
    "    lidar_profile = dataset.profile\n",
    "    \n",
    "    # Read the dataset as a ndarray.\n",
    "    lidar_dem = dataset.read().squeeze()\n",
    "    \n",
    "    # Set water areas to NaN\n",
    "    lidar_dem[lidar_dem < 53] = 53\n",
    "\n",
    "# Load shapefile and reproject to LiDAR CRS\n",
    "polygon_gdf = geopandas.read_file('/g/data/r78/rt1527/dea-notebooks/Waterline_extraction/validation/raw_data/LiDAR/Inland/Dam_levels/cawndilla/cawdilla_extent.shp')\n",
    "polygon_gdf = polygon_gdf.to_crs(crs=lidar_profile['crs'])\n",
    "\n",
    "# Identify all geometry objects in shapefile\n",
    "shapes = [(shape, n) for n, shape in enumerate(polygon_gdf.geometry)]\n",
    "\n",
    "# Generate mask\n",
    "lidar_mask = features.rasterize(shapes, out_shape=lidar_dem.shape,\n",
    "                                fill=np.nan, transform=lidar_profile['transform'],\n",
    "                                all_touched=True, dtype=np.float)\n",
    "\n",
    "# Apply mask\n",
    "lidar_dem[~np.isfinite(lidar_mask)] = np.nan\n",
    "\n",
    "# Export\n",
    "kwargs = {'driver': 'GTiff',\n",
    "         'width': lidar_profile['width'],\n",
    "         'height': lidar_profile['height'],\n",
    "         'count': 1,\n",
    "         'dtype': rasterio.float32,\n",
    "         'crs': lidar_profile['crs'],\n",
    "         'transform': lidar_profile['transform'],\n",
    "         'nodata': -9999}\n",
    "\n",
    "with rasterio.open(f'validation/menindee_lidar.tif', 'w', **kwargs) as target:\n",
    "    target.write_band(1, lidar_dem)\n",
    "    "
   ]
  },
  {
   "cell_type": "code",
   "execution_count": 40,
   "metadata": {},
   "outputs": [],
   "source": []
  },
  {
   "cell_type": "markdown",
   "metadata": {},
   "source": [
    "## Load water level data"
   ]
  },
  {
   "cell_type": "code",
   "execution_count": 3,
   "metadata": {},
   "outputs": [],
   "source": [
    "test = pd.read_csv('/g/data/r78/rt1527/dea-notebooks/Waterline_extraction/validation/raw_data/LiDAR/Inland/Dam_levels/cawndilla/425023.csv', \n",
    "            skiprows=5, usecols=[0, 1, 2, 3, 5], names=['date', 'level_m', 'level_m_acc', 'volume_ML', 'perc_full'])\n",
    "\n",
    "test['date'] = test.apply(lambda x: str(x.date)[9:], axis=1)\n",
    "\n",
    "# Covert datetimes\n",
    "test['date'] = pd.to_datetime(test['date'], format='%d/%m/%Y')\n",
    "test = test.set_index(pd.DatetimeIndex(test['date']))\n",
    "test.drop(['date'], axis=1, inplace=True)\n",
    "test.head()\n",
    "\n",
    "test.loc[test.level_m < 53,'level_m'] = 53\n"
   ]
  },
  {
   "cell_type": "code",
   "execution_count": 64,
   "metadata": {},
   "outputs": [
    {
     "data": {
      "text/html": [
       "<div>\n",
       "<style scoped>\n",
       "    .dataframe tbody tr th:only-of-type {\n",
       "        vertical-align: middle;\n",
       "    }\n",
       "\n",
       "    .dataframe tbody tr th {\n",
       "        vertical-align: top;\n",
       "    }\n",
       "\n",
       "    .dataframe thead th {\n",
       "        text-align: right;\n",
       "    }\n",
       "</style>\n",
       "<table border=\"1\" class=\"dataframe\">\n",
       "  <thead>\n",
       "    <tr style=\"text-align: right;\">\n",
       "      <th></th>\n",
       "      <th>level_m</th>\n",
       "    </tr>\n",
       "    <tr>\n",
       "      <th>date</th>\n",
       "      <th></th>\n",
       "    </tr>\n",
       "  </thead>\n",
       "  <tbody>\n",
       "    <tr>\n",
       "      <th>1986-01-01</th>\n",
       "      <td>329.091</td>\n",
       "    </tr>\n",
       "    <tr>\n",
       "      <th>1986-01-02</th>\n",
       "      <td>329.042</td>\n",
       "    </tr>\n",
       "    <tr>\n",
       "      <th>1986-01-03</th>\n",
       "      <td>328.992</td>\n",
       "    </tr>\n",
       "    <tr>\n",
       "      <th>1986-01-04</th>\n",
       "      <td>328.939</td>\n",
       "    </tr>\n",
       "    <tr>\n",
       "      <th>1986-01-05</th>\n",
       "      <td>328.887</td>\n",
       "    </tr>\n",
       "  </tbody>\n",
       "</table>\n",
       "</div>"
      ],
      "text/plain": [
       "            level_m\n",
       "date               \n",
       "1986-01-01  329.091\n",
       "1986-01-02  329.042\n",
       "1986-01-03  328.992\n",
       "1986-01-04  328.939\n",
       "1986-01-05  328.887"
      ]
     },
     "execution_count": 64,
     "metadata": {},
     "output_type": "execute_result"
    }
   ],
   "source": [
    "test = pd.read_csv('/g/data/r78/rt1527/dea-notebooks/Waterline_extraction/validation/raw_data/LiDAR/Inland/Dam_levels/keepit_csv.w00077.20190213091322.419041.csv', \n",
    "            skiprows=10, usecols=[0, 1], names=['date', 'level_m'])\n",
    "\n",
    "test['date'] = test.apply(lambda x: str(x.date)[0:10], axis=1)\n",
    "test = test.set_index(pd.DatetimeIndex(test['date']))\n",
    "test.drop(['date'], axis=1, inplace=True)\n",
    "test.head()"
   ]
  },
  {
   "cell_type": "code",
   "execution_count": 3,
   "metadata": {},
   "outputs": [
    {
     "data": {
      "text/plain": [
       "[(<shapely.geometry.polygon.Polygon at 0x7fb48b85b470>, 0)]"
      ]
     },
     "execution_count": 3,
     "metadata": {},
     "output_type": "execute_result"
    }
   ],
   "source": [
    "import geopandas as gpd\n",
    "from rasterio import features\n",
    "\n",
    "# Load shapefile and reproject \n",
    "polygon_gdf = gpd.read_file('/g/data/r78/rt1527/dea-notebooks/Waterline_extraction/validation/raw_data/LiDAR/Inland/Dam_levels/cawndilla/cawdilla_extent.shp')\n",
    "polygon_gdf\n",
    "\n",
    "\n",
    "# # Identify all geometry objects in shapefile\n",
    "# shapes = [(shape, n) for n, shape in enumerate(polygon_gdf.geometry)]\n",
    "# shapes\n",
    "\n",
    "# # Generate mask\n",
    "# lidar_mask = features.rasterize(shapes, out_shape=lidar_dem.shape,\n",
    "#                                 fill=np.nan, transform=lidar_profile['transform'],\n",
    "#                                 all_touched=True, dtype=np.float)"
   ]
  },
  {
   "cell_type": "code",
   "execution_count": 8,
   "metadata": {},
   "outputs": [
    {
     "data": {
      "image/svg+xml": [
       "<svg xmlns=\"http://www.w3.org/2000/svg\" xmlns:xlink=\"http://www.w3.org/1999/xlink\" width=\"300\" height=\"300\" viewBox=\"947182.5923041912 -3584971.8716955576 11186.743192477734 14277.139081072528\" preserveAspectRatio=\"xMinYMin meet\"><g transform=\"matrix(1,0,0,-1,0,-7155666.604310043)\"><path fill-rule=\"evenodd\" fill=\"#66cc99\" stroke=\"#555555\" stroke-width=\"95.18092720715019\" opacity=\"0.6\" d=\"M 950485.6330773992,-3572461.8843384027 L 950682.9151646782,-3572241.124846797 L 950951.2423802172,-3572181.7888972783 L 951165.4283386392,-3572161.4720019302 L 951548.1015632065,-3571975.754483588 L 951765.0938232542,-3571900.820296881 L 951906.8217469981,-3571840.0525327697 L 952064.1717147869,-3571691.1037490144 L 952553.9342973025,-3571237.0153405354 L 952817.3474047855,-3571223.515543414 L 952864.1919915631,-3571492.7036989676 L 953116.8552609711,-3571755.314568209 L 953480.9876133202,-3572049.9503881685 L 953761.9856748583,-3572380.821177878 L 953920.6787888607,-3572511.2068251297 L 954025.417199616,-3572640.125739785 L 954185.8966654525,-3572787.3669282407 L 954505.5860425511,-3573007.785181714 L 954791.3971779675,-3573306.2174445796 L 955063.6294259297,-3573962.6889173463 L 955210.5061207856,-3574369.6518106256 L 956028.0555298186,-3575404.4916404425 L 956820.284715002,-3576610.27221546 L 957309.0650574705,-3577618.50776047 L 957630.4086952105,-3578440.1778275375 L 957810.7206112779,-3579313.8325904673 L 957840.5525677403,-3580215.6227996163 L 957756.9086889703,-3580969.8202768234 L 957653.8538494449,-3581399.596839141 L 957386.7452716946,-3581885.2861900893 L 956897.1501040767,-3582445.228677063 L 956369.9274045158,-3582907.0243680365 L 955833.0391223675,-3583347.863370387 L 955270.5239994822,-3583682.9096544143 L 954747.5308162093,-3583951.9957286404 L 954017.1133610528,-3584250.512468775 L 953529.6966494807,-3584361.15199697 L 952828.1262288676,-3584443.088766629 L 952228.1540077059,-3584394.9338193964 L 951711.0942085838,-3584307.363912888 L 951536.6989011028,-3584350.9976298716 L 951378.2146798024,-3584338.2917531678 L 951366.5883852901,-3584199.077037757 L 950419.7686563325,-3583751.5724683115 L 950017.3298814658,-3583504.277818532 L 949675.1286101651,-3583268.4483761056 L 949130.7057122893,-3582810.0078082914 L 948662.4128918974,-3582253.9298715205 L 948285.2306088187,-3581555.278361011 L 947982.6948729026,-3580920.18940294 L 947775.836368684,-3580263.886512595 L 947732.663767168,-3579947.5540128024 L 947711.3752331198,-3579679.435608576 L 947734.5258121162,-3579399.3033701535 L 947796.9665366148,-3579106.925305146 L 947887.1333416111,-3578837.190319102 L 947979.0087688066,-3578611.25932799 L 948146.4266307093,-3578298.8909113673 L 948234.375584361,-3578125.446548664 L 948347.6856788906,-3577741.292392041 L 948398.9123104373,-3577547.984418976 L 948412.4738192665,-3577368.110097896 L 948448.105653399,-3577233.2652552812 L 948603.3401743862,-3576752.652482499 L 948852.5852377393,-3576308.3578777155 L 949003.8352012197,-3576020.5699199145 L 949057.485845558,-3575670.186014764 L 949042.3345284477,-3575360.428877371 L 949041.6148424172,-3575181.5606759484 L 949072.3536318847,-3575050.295446354 L 949118.935687996,-3574936.874023426 L 949259.7337862942,-3574708.7672328027 L 949364.341374509,-3574541.2094773 L 949434.1079534986,-3574310.2997089014 L 949505.6475576313,-3574128.555116528 L 949575.1271722511,-3573972.599454045 L 949651.1276721591,-3573877.73006123 L 949747.7908670576,-3573738.3649524343 L 949787.5747454388,-3573597.3334386502 L 949829.5870518133,-3573499.7429138497 L 949921.3602212087,-3573385.9405612564 L 950043.0667067012,-3573254.340069029 L 950206.4662939316,-3572886.6621064027 L 950348.3068476953,-3572681.6673395378 L 950485.6330773992,-3572461.8843384027 z\" /></g></svg>"
      ],
      "text/plain": [
       "<shapely.geometry.polygon.Polygon at 0x7fb48b85b470>"
      ]
     },
     "execution_count": 8,
     "metadata": {},
     "output_type": "execute_result"
    }
   ],
   "source": []
  },
  {
   "cell_type": "code",
   "execution_count": 4,
   "metadata": {},
   "outputs": [],
   "source": [
    "import datacube\n",
    "from datacube.utils import geometry\n",
    "from datacube.utils.geometry import CRS\n",
    "from datacube.helpers import write_geotiff\n",
    "\n",
    "dc = datacube.Datacube(app='Simple example')\n",
    "\n",
    "# Set up analysis data query\n",
    "lat_point, lon_point, buffer = -33.9654850031, 151.200615137, 4000\n",
    "x, y = geometry.point(lon_point, lat_point, CRS('WGS84')).to_crs(CRS('EPSG:3577')).points[0]\n",
    "query = {'x': (x - buffer, x + buffer),\n",
    "         'y': (y - buffer, y + buffer),         \n",
    "         'crs': 'EPSG:3577',\n",
    "         'time': ('1988-01-01', '1989-01-01')}\n",
    "\n",
    "# Load dta\n",
    "data = dc.load(product = \"ls5_nbart_albers\",\n",
    "            group_by = 'solar_day', \n",
    "            **query)"
   ]
  },
  {
   "cell_type": "code",
   "execution_count": 32,
   "metadata": {},
   "outputs": [],
   "source": [
    "import fiona\n",
    "\n",
    "poly_path = '/g/data/r78/SA_mound_springs/Big_Blythe_small.shp'\n",
    "\n",
    "with fiona.open(poly_path) as shapes:\n",
    "        crs = geometry.CRS(shapes.crs_wkt)\n",
    "        first_geometry = next(iter(shapes))['geometry']\n",
    "        geom = geometry.Geometry(first_geometry, crs=crs)"
   ]
  },
  {
   "cell_type": "code",
   "execution_count": 34,
   "metadata": {},
   "outputs": [
    {
     "data": {
      "text/plain": [
       "Geometry(POLYGON ((950485.633077399 -3572461.8843384,950682.915164678 -3572241.1248468,950951.242380217 -3572181.78889728,951165.428338639 -3572161.47200193,951548.101563207 -3571975.75448359,951765.093823254 -3571900.82029688,951906.821746998 -3571840.05253277,952064.171714787 -3571691.10374901,952553.934297303 -3571237.01534054,952817.347404785 -3571223.51554341,952864.191991563 -3571492.70369897,953116.855260971 -3571755.31456821,953480.98761332 -3572049.95038817,953761.985674858 -3572380.82117788,953920.678788861 -3572511.20682513,954025.417199616 -3572640.12573978,954185.896665453 -3572787.36692824,954505.586042551 -3573007.78518171,954791.397177967 -3573306.21744458,955063.62942593 -3573962.68891735,955210.506120786 -3574369.65181063,956028.055529819 -3575404.49164044,956820.284715002 -3576610.27221546,957309.06505747 -3577618.50776047,957630.40869521 -3578440.17782754,957810.720611278 -3579313.83259047,957840.55256774 -3580215.62279962,957756.90868897 -3580969.82027682,957653.853849445 -3581399.59683914,957386.745271695 -3581885.28619009,956897.150104077 -3582445.22867706,956369.927404516 -3582907.02436804,955833.039122368 -3583347.86337039,955270.523999482 -3583682.90965441,954747.530816209 -3583951.99572864,954017.113361053 -3584250.51246877,953529.696649481 -3584361.15199697,952828.126228868 -3584443.08876663,952228.154007706 -3584394.9338194,951711.094208584 -3584307.36391289,951536.698901103 -3584350.99762987,951378.214679802 -3584338.29175317,951366.58838529 -3584199.07703776,950419.768656333 -3583751.57246831,950017.329881466 -3583504.27781853,949675.128610165 -3583268.44837611,949130.705712289 -3582810.00780829,948662.412891897 -3582253.92987152,948285.230608819 -3581555.27836101,947982.694872903 -3580920.18940294,947775.836368684 -3580263.8865126,947732.663767168 -3579947.5540128,947711.37523312 -3579679.43560858,947734.525812116 -3579399.30337015,947796.966536615 -3579106.92530515,947887.133341611 -3578837.1903191,947979.008768807 -3578611.25932799,948146.426630709 -3578298.89091137,948234.375584361 -3578125.44654866,948347.685678891 -3577741.29239204,948398.912310437 -3577547.98441898,948412.473819267 -3577368.1100979,948448.105653399 -3577233.26525528,948603.340174386 -3576752.6524825,948852.585237739 -3576308.35787772,949003.83520122 -3576020.56991991,949057.485845558 -3575670.18601476,949042.334528448 -3575360.42887737,949041.614842417 -3575181.56067595,949072.353631885 -3575050.29544635,949118.935687996 -3574936.87402343,949259.733786294 -3574708.7672328,949364.341374509 -3574541.2094773,949434.107953499 -3574310.2997089,949505.647557631 -3574128.55511653,949575.127172251 -3573972.59945404,949651.127672159 -3573877.73006123,949747.790867058 -3573738.36495243,949787.574745439 -3573597.33343865,949829.587051813 -3573499.74291385,949921.360221209 -3573385.94056126,950043.066706701 -3573254.34006903,950206.466293932 -3572886.6621064,950348.306847695 -3572681.66733954,950485.633077399 -3572461.8843384)), EPSG:3577)"
      ]
     },
     "execution_count": 34,
     "metadata": {},
     "output_type": "execute_result"
    }
   ],
   "source": []
  },
  {
   "cell_type": "code",
   "execution_count": 33,
   "metadata": {},
   "outputs": [
    {
     "data": {
      "text/plain": [
       "Geometry(POLYGON ((136.049897345077 -28.0585417207972,136.052532380781 -28.058383175232,136.053849898633 -28.0572205006082,136.054448770384 -28.056269212017,136.054867980609 -28.0549479638975,136.055167416485 -28.0537324012863,136.055646513886 -28.0510898264579,136.055706401061 -28.0489228666359,136.063192297947 -28.0463858825771,136.065348236251 -28.0460687553616,136.065348236251 -28.0474429665416,136.063371959473 -28.0502970413447,136.061635231395 -28.0541023565794,136.059599067442 -28.0572205006082,136.058042000889 -28.0592815970098,136.056245385636 -28.0607084867523,136.054568544734 -28.0612369596276,136.05241260643 -28.0609198762142,136.050855539878 -28.0600743158719,136.050077006602 -28.0593344451158,136.049897345077 -28.0585417207972)), GEOGCS[\"GCS_WGS_1984\",DATUM[\"WGS_1984\",SPHEROID[\"WGS_84\",6378137,298.257223563]],PRIMEM[\"Greenwich\",0],UNIT[\"Degree\",0.017453292519943295],AUTHORITY[\"EPSG\",\"4326\"]])"
      ]
     },
     "execution_count": 33,
     "metadata": {},
     "output_type": "execute_result"
    }
   ],
   "source": [
    "geom"
   ]
  },
  {
   "cell_type": "code",
   "execution_count": 54,
   "metadata": {},
   "outputs": [
    {
     "ename": "TypeError",
     "evalue": "unhashable type: 'dict'",
     "output_type": "error",
     "traceback": [
      "\u001b[0;31m---------------------------------------------------------------------------\u001b[0m",
      "\u001b[0;31mTypeError\u001b[0m                                 Traceback (most recent call last)",
      "\u001b[0;32m<ipython-input-54-d7715298a6b5>\u001b[0m in \u001b[0;36m<module>\u001b[0;34m\u001b[0m\n\u001b[1;32m     13\u001b[0m \u001b[0;34m\u001b[0m\u001b[0m\n\u001b[1;32m     14\u001b[0m \u001b[0;34m\u001b[0m\u001b[0m\n\u001b[0;32m---> 15\u001b[0;31m \u001b[0mgeometry\u001b[0m\u001b[0;34m.\u001b[0m\u001b[0mCRS\u001b[0m\u001b[0;34m(\u001b[0m\u001b[0mpolygon_gdf\u001b[0m\u001b[0;34m.\u001b[0m\u001b[0mcrs\u001b[0m\u001b[0;34m)\u001b[0m\u001b[0;34m\u001b[0m\u001b[0m\n\u001b[0m\u001b[1;32m     16\u001b[0m \u001b[0;34m\u001b[0m\u001b[0m\n\u001b[1;32m     17\u001b[0m \u001b[0;34m\u001b[0m\u001b[0m\n",
      "\u001b[0;32m/g/data/v10/public/modules/dea/20181213/lib/python3.6/site-packages/datacube/utils/geometry/_base.py\u001b[0m in \u001b[0;36m__init__\u001b[0;34m(self, crs_str)\u001b[0m\n\u001b[1;32m     86\u001b[0m             \u001b[0mcrs_str\u001b[0m \u001b[0;34m=\u001b[0m \u001b[0mcrs_str\u001b[0m\u001b[0;34m.\u001b[0m\u001b[0mcrs_str\u001b[0m\u001b[0;34m\u001b[0m\u001b[0m\n\u001b[1;32m     87\u001b[0m         \u001b[0mself\u001b[0m\u001b[0;34m.\u001b[0m\u001b[0mcrs_str\u001b[0m \u001b[0;34m=\u001b[0m \u001b[0mcrs_str\u001b[0m\u001b[0;34m\u001b[0m\u001b[0m\n\u001b[0;32m---> 88\u001b[0;31m         \u001b[0mself\u001b[0m\u001b[0;34m.\u001b[0m\u001b[0m_crs\u001b[0m \u001b[0;34m=\u001b[0m \u001b[0m_make_crs\u001b[0m\u001b[0;34m(\u001b[0m\u001b[0mcrs_str\u001b[0m\u001b[0;34m)\u001b[0m\u001b[0;34m\u001b[0m\u001b[0m\n\u001b[0m\u001b[1;32m     89\u001b[0m \u001b[0;34m\u001b[0m\u001b[0m\n\u001b[1;32m     90\u001b[0m     \u001b[0;32mdef\u001b[0m \u001b[0m__getitem__\u001b[0m\u001b[0;34m(\u001b[0m\u001b[0mself\u001b[0m\u001b[0;34m,\u001b[0m \u001b[0mitem\u001b[0m\u001b[0;34m)\u001b[0m\u001b[0;34m:\u001b[0m\u001b[0;34m\u001b[0m\u001b[0m\n",
      "\u001b[0;32m/g/data/v10/public/modules/dea-env/20181015/lib/python3.6/site-packages/cachetools/__init__.py\u001b[0m in \u001b[0;36mwrapper\u001b[0;34m(*args, **kwargs)\u001b[0m\n\u001b[1;32m     41\u001b[0m                 \u001b[0mk\u001b[0m \u001b[0;34m=\u001b[0m \u001b[0mkey\u001b[0m\u001b[0;34m(\u001b[0m\u001b[0;34m*\u001b[0m\u001b[0margs\u001b[0m\u001b[0;34m,\u001b[0m \u001b[0;34m**\u001b[0m\u001b[0mkwargs\u001b[0m\u001b[0;34m)\u001b[0m\u001b[0;34m\u001b[0m\u001b[0m\n\u001b[1;32m     42\u001b[0m                 \u001b[0;32mtry\u001b[0m\u001b[0;34m:\u001b[0m\u001b[0;34m\u001b[0m\u001b[0m\n\u001b[0;32m---> 43\u001b[0;31m                     \u001b[0;32mreturn\u001b[0m \u001b[0mcache\u001b[0m\u001b[0;34m[\u001b[0m\u001b[0mk\u001b[0m\u001b[0;34m]\u001b[0m\u001b[0;34m\u001b[0m\u001b[0m\n\u001b[0m\u001b[1;32m     44\u001b[0m                 \u001b[0;32mexcept\u001b[0m \u001b[0mKeyError\u001b[0m\u001b[0;34m:\u001b[0m\u001b[0;34m\u001b[0m\u001b[0m\n\u001b[1;32m     45\u001b[0m                     \u001b[0;32mpass\u001b[0m  \u001b[0;31m# key not found\u001b[0m\u001b[0;34m\u001b[0m\u001b[0m\n",
      "\u001b[0;32m/g/data/v10/public/modules/dea-env/20181015/lib/python3.6/site-packages/cachetools/keys.py\u001b[0m in \u001b[0;36m__hash__\u001b[0;34m(self, hash)\u001b[0m\n\u001b[1;32m     13\u001b[0m         \u001b[0mhashvalue\u001b[0m \u001b[0;34m=\u001b[0m \u001b[0mself\u001b[0m\u001b[0;34m.\u001b[0m\u001b[0m__hashvalue\u001b[0m\u001b[0;34m\u001b[0m\u001b[0m\n\u001b[1;32m     14\u001b[0m         \u001b[0;32mif\u001b[0m \u001b[0mhashvalue\u001b[0m \u001b[0;32mis\u001b[0m \u001b[0;32mNone\u001b[0m\u001b[0;34m:\u001b[0m\u001b[0;34m\u001b[0m\u001b[0m\n\u001b[0;32m---> 15\u001b[0;31m             \u001b[0mself\u001b[0m\u001b[0;34m.\u001b[0m\u001b[0m__hashvalue\u001b[0m \u001b[0;34m=\u001b[0m \u001b[0mhashvalue\u001b[0m \u001b[0;34m=\u001b[0m \u001b[0mhash\u001b[0m\u001b[0;34m(\u001b[0m\u001b[0mself\u001b[0m\u001b[0;34m)\u001b[0m\u001b[0;34m\u001b[0m\u001b[0m\n\u001b[0m\u001b[1;32m     16\u001b[0m         \u001b[0;32mreturn\u001b[0m \u001b[0mhashvalue\u001b[0m\u001b[0;34m\u001b[0m\u001b[0m\n\u001b[1;32m     17\u001b[0m \u001b[0;34m\u001b[0m\u001b[0m\n",
      "\u001b[0;31mTypeError\u001b[0m: unhashable type: 'dict'"
     ]
    }
   ],
   "source": [
    "from datacube.utils import geometry\n",
    "import shapely.geometry\n",
    "\n",
    "\n",
    "polygon_gdf = gpd.read_file('/g/data/r78/SA_mound_springs/Big_Blythe_small.shp')\n",
    "polygon_gdf\n",
    "\n",
    "selected_poly = polygon_gdf.iloc[0]\n",
    "\n",
    "\n",
    "geom = geometry.Geometry(shapely.geometry.mapping(selected_poly.geometry), crs=polygon_gdf.crs)\n",
    "geom\n",
    "\n",
    "\n",
    "geometry.CRS(polygon_gdf.crs)\n",
    "\n",
    "\n",
    "# geometry.CRS(shapes.crs_wkt)\n",
    "\n",
    "# # # geometry.Geometry(shapely.geometry.mapping(polygon_gdf.geometry[0]), crs='EPSG:3577')\n",
    "\n",
    "\n",
    "# query = {'geopolygon': geom,\n",
    "#          'time': ('1988-01-01', '1989-01-01')\n",
    "#          }\n",
    "\n",
    "# data = dc.load(product = \"ls5_nbart_albers\",\n",
    "#             group_by = 'solar_day', \n",
    "#             **query)"
   ]
  },
  {
   "cell_type": "code",
   "execution_count": 48,
   "metadata": {},
   "outputs": [
    {
     "data": {
      "text/plain": [
       "{'init': 'epsg:4326'}"
      ]
     },
     "execution_count": 48,
     "metadata": {},
     "output_type": "execute_result"
    }
   ],
   "source": [
    "polygon_gdf.crs"
   ]
  },
  {
   "cell_type": "markdown",
   "metadata": {},
   "source": [
    "## Set query region and time"
   ]
  },
  {
   "cell_type": "code",
   "execution_count": 1,
   "metadata": {},
   "outputs": [
    {
     "ename": "NameError",
     "evalue": "name 'DEAPlotting' is not defined",
     "output_type": "error",
     "traceback": [
      "\u001b[0;31m---------------------------------------------------------------------------\u001b[0m",
      "\u001b[0;31mNameError\u001b[0m                                 Traceback (most recent call last)",
      "\u001b[0;32m<ipython-input-1-8cf3f9404485>\u001b[0m in \u001b[0;36m<module>\u001b[0;34m\u001b[0m\n\u001b[1;32m     19\u001b[0m \u001b[0;34m\u001b[0m\u001b[0m\n\u001b[1;32m     20\u001b[0m \u001b[0;31m# Preview spatial query\u001b[0m\u001b[0;34m\u001b[0m\u001b[0;34m\u001b[0m\u001b[0m\n\u001b[0;32m---> 21\u001b[0;31m \u001b[0mDEAPlotting\u001b[0m\u001b[0;34m.\u001b[0m\u001b[0mdisplay_map\u001b[0m\u001b[0;34m(\u001b[0m\u001b[0mx\u001b[0m\u001b[0;34m=\u001b[0m\u001b[0mquery\u001b[0m\u001b[0;34m[\u001b[0m\u001b[0;34m'lon'\u001b[0m\u001b[0;34m]\u001b[0m\u001b[0;34m,\u001b[0m \u001b[0my\u001b[0m\u001b[0;34m=\u001b[0m\u001b[0mquery\u001b[0m\u001b[0;34m[\u001b[0m\u001b[0;34m'lat'\u001b[0m\u001b[0;34m]\u001b[0m\u001b[0;34m,\u001b[0m \u001b[0mcrs\u001b[0m\u001b[0;34m=\u001b[0m\u001b[0;34m'EPSG:4326'\u001b[0m\u001b[0;34m)\u001b[0m\u001b[0;34m\u001b[0m\u001b[0m\n\u001b[0m",
      "\u001b[0;31mNameError\u001b[0m: name 'DEAPlotting' is not defined"
     ]
    }
   ],
   "source": [
    "# # Centre point of spatial query\n",
    "# lat, lon = -32.47, 142.229185\n",
    "# time_period = ('1987-06-15', '2019-04-01')\n",
    "\n",
    "# # Set up query\n",
    "# query = {'lon': (lon - 0.06, lon + 0.065),\n",
    "#          'lat': (lat - 0.06, lat + 0.065),\n",
    "#          'time': time_period}\n",
    "\n",
    "\n",
    "# Centre point of spatial query\n",
    "lat, lon = -30.8456, 150.5189\n",
    "time_period = ('1987-06-15', '2019-04-01')\n",
    "\n",
    "# Set up query\n",
    "query = {'lon': (lon - 0.055, lon + 0.055),\n",
    "         'lat': (lat - 0.065, lat + 0.065),\n",
    "         'time': time_period}\n",
    "\n",
    "# Preview spatial query\n",
    "DEAPlotting.display_map(x=query['lon'], y=query['lat'], crs='EPSG:4326')\n"
   ]
  },
  {
   "cell_type": "markdown",
   "metadata": {},
   "source": [
    "## Load Landsat data"
   ]
  },
  {
   "cell_type": "code",
   "execution_count": 86,
   "metadata": {},
   "outputs": [
    {
     "name": "stdout",
     "output_type": "stream",
     "text": [
      "Loading ls5\n",
      "    Loading 229 filtered ls5 timesteps\n",
      "Loading ls7\n",
      "    Ignoring SLC-off observations for ls7\n",
      "    Loading 43 filtered ls7 timesteps\n",
      "Loading ls8\n",
      "    Loading 78 filtered ls8 timesteps\n",
      "Combining and sorting ls5, ls7, ls8 data\n",
      "    Replacing invalid -999 values with NaN (data will be coerced to float64)\n"
     ]
    }
   ],
   "source": [
    "landsat_ds = DEADataHandling.load_clearlandsat(dc=dc, query=query,\n",
    "                                               sensors=['ls5', 'ls7', 'ls8'],\n",
    "                                               bands_of_interest=['green', 'nir', 'swir1'],\n",
    "                                               masked_prop=0.97, \n",
    "                                               mask_pixel_quality=True,\n",
    "                                               mask_invalid_data=True,\n",
    "                                               ls7_slc_off=False)\n",
    "\n",
    "# Compute NDWI and MNDWI \n",
    "landsat_ds['NDWI'] = (landsat_ds.green - landsat_ds.nir) / (landsat_ds.green + landsat_ds.nir)\n",
    "landsat_ds['MNDWI'] = (landsat_ds.green - landsat_ds.swir1) / (landsat_ds.green + landsat_ds.swir1)"
   ]
  },
  {
   "cell_type": "code",
   "execution_count": 28,
   "metadata": {},
   "outputs": [],
   "source": [
    "polygon_gdf = polygon_gdf.to_crs(epsg=landsat_ds.crs.epsg)\n",
    "\n",
    "# # Identify all geometry objects in shapefile\n",
    "shapes = [(shape, n) for n, shape in enumerate(polygon_gdf.geometry)]\n",
    "\n",
    "# Generate mask\n",
    "xarray_mask = features.rasterize(shapes, out_shape=landsat_ds.NDWI.shape[1:],\n",
    "                                 fill=np.nan, transform=landsat_ds.affine,\n",
    "                                 all_touched=True, dtype=np.float)\n",
    "\n",
    "# Apply mask\n",
    "landsat_ds = landsat_ds.where(np.expand_dims(np.isfinite(xarray_mask), axis=0))"
   ]
  },
  {
   "cell_type": "code",
   "execution_count": 21,
   "metadata": {},
   "outputs": [],
   "source": [
    "# DEAPlotting.rgb(landsat_ds, bands=['swir1', 'nir', 'green'], col='time')"
   ]
  },
  {
   "cell_type": "code",
   "execution_count": 87,
   "metadata": {},
   "outputs": [],
   "source": [
    "subset = test.loc[pd.to_datetime(landsat_ds.time.values.astype('datetime64[D]'))]\n",
    "landsat_ds['level_m'] = xr.DataArray(subset.level_m, [('time', landsat_ds.time)])\n",
    "landsat_ds['level_m_var'] = xr.DataArray(subset.level_m, [('time', landsat_ds.time)])\n",
    "landsat_ds = landsat_ds.sortby('level_m')\n",
    "landsat_ds = landsat_ds.swap_dims({'time':'level_m'})\n",
    "\n",
    "landsat_ds = landsat_ds.sel(level_m=~landsat_ds.level_m.isnull())"
   ]
  },
  {
   "cell_type": "code",
   "execution_count": 88,
   "metadata": {},
   "outputs": [],
   "source": [
    "rolling_mndwi = landsat_ds.MNDWI.rolling(level_m=10, min_periods=1, center=True).median(dim='level_m')"
   ]
  },
  {
   "cell_type": "code",
   "execution_count": 103,
   "metadata": {},
   "outputs": [],
   "source": [
    "# index_thresh = 0\n",
    "\n",
    "# custom_attrs = {'level_m': rolling_mndwi.level_m.values.tolist(),\n",
    "#                 'date': [str(i)[0:10] for i in landsat_ds.time.values]}\n",
    "# custom_attrs_dtypes = {'level_m': 'float', 'date': 'str'}\n",
    "\n",
    "# # Extract contours with custom attribute fields:\n",
    "# contour_gdf = SpatialTools.contour_extract(z_values=[index_thresh],\n",
    "#                                            ds_array=rolling_mndwi,\n",
    "#                                            ds_crs='epsg:3577',\n",
    "#                                            ds_affine=landsat_ds.affine,\n",
    "#                                            output_shp=f'validation/keepit_nidem.shp',\n",
    "#                                            attribute_data=custom_attrs,\n",
    "#                                            attribute_dtypes=custom_attrs_dtypes,\n",
    "#                                            min_vertices=5,\n",
    "#                                            dim='level_m',\n",
    "#                                            verbose=False)\n",
    "\n",
    "# # Extract vertex coordinates and heights from geopandas\n",
    "# def contours_to_arrays(gdf, col):\n",
    "\n",
    "#     coords_zvals = []\n",
    "\n",
    "#     for i in range(1, len(gdf)):\n",
    "\n",
    "#         val = gdf.iloc[i][col]\n",
    "\n",
    "#         try:\n",
    "#             coords = np.concatenate([np.vstack(x.coords.xy).T for x in gdf.iloc[i].geometry])\n",
    "\n",
    "#         except:\n",
    "#             coords = np.vstack(gdf.iloc[i].geometry.coords.xy).T\n",
    "\n",
    "#         coords_zvals.append(np.column_stack((coords, np.full(np.shape(coords)[0], fill_value=val))))\n",
    "\n",
    "#     return np.concatenate(coords_zvals)\n",
    "\n",
    "\n",
    "# # Extract x, y and z points for interpolation\n",
    "# all_contours = contours_to_arrays(gdf=contour_gdf, col='level_m')\n",
    "# points_xy = all_contours[:, [1, 0]]\n",
    "# values_elev = all_contours[:, 2]\n",
    "\n",
    "# # # Create grid to interpolate into\n",
    "# x_size, _, upleft_x, _, y_size, upleft_y =  landsat_ds.geobox.transform[0:6]\n",
    "# xcols = len(landsat_ds.x)\n",
    "# yrows = len(landsat_ds.y)\n",
    "# bottomright_x = upleft_x + (x_size * xcols)\n",
    "# bottomright_y = upleft_y + (y_size * yrows)\n",
    "# grid_y, grid_x = np.mgrid[upleft_y:bottomright_y:1j * yrows, upleft_x:bottomright_x:1j * xcols]\n",
    "\n",
    "# # Interpolate x, y and z values using linear/TIN interpolation\n",
    "# import scipy\n",
    "out = scipy.interpolate.griddata(points_xy, values_elev, (grid_y, grid_x), method='linear')\n",
    "\n",
    "# Remove pixels that are never or always wet\n",
    "out[~(rolling_mndwi > index_thresh).max(dim='level_m').values] = np.nan\n",
    "out[((rolling_mndwi > index_thresh).sum(dim='level_m') == len(rolling_mndwi.level_m)).values] = np.nan\n",
    "\n",
    "# Export\n",
    "kwargs = {'driver': 'GTiff',\n",
    "         'width': xcols,\n",
    "         'height': yrows,\n",
    "         'count': 1,\n",
    "         'dtype': rasterio.float64,\n",
    "         'crs': 'EPSG:3577',\n",
    "         'transform': landsat_ds.geobox.transform,\n",
    "         'nodata': -9999}\n",
    "\n",
    "with rasterio.open(f'validation/keepit_nidem_ndwi.tif', 'w', **kwargs) as target:\n",
    "    target.write_band(1, out)\n",
    "\n"
   ]
  },
  {
   "cell_type": "code",
   "execution_count": 98,
   "metadata": {},
   "outputs": [
    {
     "data": {
      "text/plain": [
       "350"
      ]
     },
     "execution_count": 98,
     "metadata": {},
     "output_type": "execute_result"
    }
   ],
   "source": []
  },
  {
   "cell_type": "code",
   "execution_count": 44,
   "metadata": {},
   "outputs": [
    {
     "name": "stderr",
     "output_type": "stream",
     "text": [
      "/g/data/v10/public/modules/dea-env/20181015/lib/python3.6/site-packages/ipykernel/__main__.py:7: RuntimeWarning: invalid value encountered in less\n",
      "/g/data/v10/public/modules/dea-env/20181015/lib/python3.6/site-packages/ipykernel/__main__.py:13: RuntimeWarning: invalid value encountered in less\n"
     ]
    },
    {
     "data": {
      "text/plain": [
       "[<matplotlib.lines.Line2D at 0x7ff6d10cfb70>]"
      ]
     },
     "execution_count": 44,
     "metadata": {},
     "output_type": "execute_result"
    },
    {
     "data": {
      "image/png": "[encoded data removed]",
      "text/plain": [
       "<Figure size 720x720 with 1 Axes>"
      ]
     },
     "metadata": {
      "needs_background": "light"
     },
     "output_type": "display_data"
    }
   ],
   "source": [
    "volumes_model = []\n",
    "volumes_val = []\n",
    "\n",
    "for index, row in test[test.level_m < rolling_mndwi.level_m.max().item()].sample(300).iterrows():\n",
    "    \n",
    "    waterlevel_diff = (np.full(out.shape, row.level_m) - out)\n",
    "    waterlevel_diff[waterlevel_diff < 0] = np.nan\n",
    "    volume_model = np.nansum(((waterlevel_diff * (25 * 25)) * 0.001))\n",
    "    volume_val = row.volume_ML\n",
    "    \n",
    "    \n",
    "    waterlevel_diff = (np.full(lidar_dem.shape, row.level_m) - lidar_dem)\n",
    "    waterlevel_diff[waterlevel_diff < 0] = np.nan\n",
    "    volume_lidar = np.nansum(((waterlevel_diff * (5 * 5)) * 0.001))        \n",
    "    \n",
    "    volumes_model.append(volume_model)\n",
    "#     volumes_val.append(volume_val)   \n",
    "    volumes_val.append(volume_lidar)   \n",
    "    \n",
    "vol_df = pd.DataFrame(data = {'model': volumes_model, 'val': volumes_val})\n",
    "\n",
    "dist_lim = vol_df.max(axis=0).max()\n",
    "vol_df.plot.scatter(x='val', y='model', figsize=(10, 10))\n",
    "plt.gca().set_aspect('equal')\n",
    "plt.plot(np.linspace(0, dist_lim), np.linspace(0, dist_lim), 'black', linestyle='dashed')"
   ]
  },
  {
   "cell_type": "code",
   "execution_count": 91,
   "metadata": {},
   "outputs": [
    {
     "data": {
      "text/plain": [
       "200"
      ]
     },
     "execution_count": 91,
     "metadata": {},
     "output_type": "execute_result"
    }
   ],
   "source": [
    "len(volumes_val)"
   ]
  },
  {
   "cell_type": "code",
   "execution_count": 88,
   "metadata": {},
   "outputs": [
    {
     "data": {
      "text/plain": [
       "376367.1529664499"
      ]
     },
     "execution_count": 88,
     "metadata": {},
     "output_type": "execute_result"
    }
   ],
   "source": [
    "np.nansum(((waterlevel_diff * (5 * 5)) * 0.001))"
   ]
  },
  {
   "cell_type": "code",
   "execution_count": 48,
   "metadata": {},
   "outputs": [],
   "source": [
    "# vol_df.corr()"
   ]
  },
  {
   "cell_type": "code",
   "execution_count": 26,
   "metadata": {},
   "outputs": [],
   "source": [
    "rolling_conf = landsat_ds.NDWI.rolling(level_m=10, min_periods=1, center=True).std(dim='level_m')\n",
    "\n"
   ]
  },
  {
   "cell_type": "code",
   "execution_count": 83,
   "metadata": {},
   "outputs": [
    {
     "data": {
      "text/plain": [
       "<matplotlib.image.AxesImage at 0x7f9640c356a0>"
      ]
     },
     "execution_count": 83,
     "metadata": {},
     "output_type": "execute_result"
    },
    {
     "data": {
      "image/png": "[encoded data removed]",
      "text/plain": [
       "<Figure size 1440x1440 with 1 Axes>"
      ]
     },
     "metadata": {
      "needs_background": "light"
     },
     "output_type": "display_data"
    }
   ],
   "source": [
    "plt.subplots(1, 1, figsize=(20,20))\n",
    "plt.imshow(waterlevel_diff)"
   ]
  },
  {
   "cell_type": "code",
   "execution_count": null,
   "metadata": {},
   "outputs": [],
   "source": [
    "(rolling_conf.mean(dim='level_m') > 0.14).plot(cmap='RdYlBu_r', size=10, aspect=1)"
   ]
  },
  {
   "cell_type": "code",
   "execution_count": null,
   "metadata": {},
   "outputs": [],
   "source": []
  },
  {
   "cell_type": "code",
   "execution_count": 82,
   "metadata": {},
   "outputs": [
    {
     "data": {
      "text/plain": [
       "21975.497380066063"
      ]
     },
     "execution_count": 82,
     "metadata": {},
     "output_type": "execute_result"
    }
   ],
   "source": []
  },
  {
   "cell_type": "code",
   "execution_count": null,
   "metadata": {},
   "outputs": [],
   "source": []
  },
  {
   "cell_type": "code",
   "execution_count": null,
   "metadata": {},
   "outputs": [],
   "source": []
  },
  {
   "cell_type": "code",
   "execution_count": null,
   "metadata": {},
   "outputs": [],
   "source": []
  },
  {
   "cell_type": "code",
   "execution_count": null,
   "metadata": {},
   "outputs": [],
   "source": []
  },
  {
   "cell_type": "code",
   "execution_count": null,
   "metadata": {},
   "outputs": [],
   "source": []
  },
  {
   "cell_type": "code",
   "execution_count": null,
   "metadata": {},
   "outputs": [],
   "source": [
    "landsat_ds.affine"
   ]
  },
  {
   "cell_type": "code",
   "execution_count": null,
   "metadata": {},
   "outputs": [],
   "source": [
    "custom_attrs = {'date': subset.index.astype('str').tolist(),\n",
    "                'level': subset.level_m.tolist()}\n",
    "custom_attrs_dtypes = {'date': 'str', 'level': 'float'}\n",
    "\n",
    "# Extract contours with custom attribute fields:\n",
    "contour_gdf = SpatialTools.contour_extract(z_values=subset.level_m.tolist(),\n",
    "                                           ds_array=lidar_dem,\n",
    "                                           ds_crs='epsg:28354',\n",
    "                                           ds_affine=dataset.transform,\n",
    "                                           output_shp=f'validation/test.shp',\n",
    "                                           attribute_data=custom_attrs,\n",
    "                                           attribute_dtypes=custom_attrs_dtypes,\n",
    "                                           min_vertices=50,\n",
    "                                           verbose=False)"
   ]
  },
  {
   "cell_type": "code",
   "execution_count": null,
   "metadata": {},
   "outputs": [],
   "source": [
    "custom_attrs = {'date': [str(i)[0:10] for i in landsat_ds.time.values]}\n",
    "custom_attrs_dtypes = {'date': 'str'}\n",
    "\n",
    "# Extract contours with custom attribute fields:\n",
    "contour_gdf = SpatialTools.contour_extract(z_values=[0.2],\n",
    "                                           ds_array=landsat_ds.MNDWI,\n",
    "                                           ds_crs='epsg:3577',\n",
    "                                           ds_affine=landsat_ds.affine,\n",
    "                                           output_shp=f'validation/landsat.shp',\n",
    "                                           attribute_data=custom_attrs,\n",
    "                                           attribute_dtypes=custom_attrs_dtypes,\n",
    "                                           min_vertices=50,\n",
    "                                           verbose=False)"
   ]
  },
  {
   "cell_type": "code",
   "execution_count": null,
   "metadata": {},
   "outputs": [],
   "source": []
  },
  {
   "cell_type": "code",
   "execution_count": null,
   "metadata": {},
   "outputs": [],
   "source": []
  }
 ],
 "metadata": {
  "kernelspec": {
   "display_name": "Python 3",
   "language": "python",
   "name": "python3"
  },
  "language_info": {
   "codemirror_mode": {
    "name": "ipython",
    "version": 3
   },
   "file_extension": ".py",
   "mimetype": "text/x-python",
   "name": "python",
   "nbconvert_exporter": "python",
   "pygments_lexer": "ipython3",
   "version": "3.6.7"
  }
 },
 "nbformat": 4,
 "nbformat_minor": 2
}
