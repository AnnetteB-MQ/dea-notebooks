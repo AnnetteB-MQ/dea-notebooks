{
 "cells": [
  {
   "cell_type": "code",
   "execution_count": 60,
   "metadata": {},
   "outputs": [
    {
     "name": "stdout",
     "output_type": "stream",
     "text": [
      "The autoreload extension is already loaded. To reload it, use:\n",
      "  %reload_ext autoreload\n"
     ]
    }
   ],
   "source": [
    "import geopandas as gpd\n",
    "import pandas as pd\n",
    "import numpy as np\n",
    "import glob\n",
    "import os\n",
    "import math\n",
    "import xarray as xr\n",
    "import itertools\n",
    "from dateutil.relativedelta import relativedelta\n",
    "from datacube.utils import geometry\n",
    "from datacube.utils.geometry import CRS\n",
    "import datacube \n",
    "import matplotlib.pyplot as plt\n",
    "from scipy.interpolate import interp1d\n",
    "from shapely.geometry import Point, LineString, MultiPoint\n",
    "from datacube.helpers import ga_pq_fuser\n",
    "from datacube.storage import masking\n",
    "from sklearn.metrics import mean_squared_error\n",
    "from scipy import stats\n",
    "\n",
    "from otps import TimePoint\n",
    "from otps import predict_tide\n",
    "from datetime import datetime, timedelta\n",
    "from datacube.utils.geometry import CRS\n",
    "\n",
    "def tidal_tag(ds, tidepost_lat=None, tidepost_lon=None, swap_dims=False):\n",
    "    \n",
    "    if not tidepost_lat or not tidepost_lon:\n",
    "        \n",
    "        tidepost_lon, tidepost_lat = ds.extent.centroid.to_crs(crs=CRS('EPSG:4326')).coords[0]\n",
    "        print(f'Setting tide post from dataset centroid: {tidepost_lon}, {tidepost_lat}')\n",
    "        \n",
    "    else:\n",
    "        print(f'Using user-supplied tide post: {tidepost_lon}, {tidepost_lat}')\n",
    "    \n",
    "    # Use the tidal mode to compute tide heights for each observation:\n",
    "    obs_datetimes = ds.time.data.astype('M8[s]').astype('O').tolist()\n",
    "    obs_timepoints = [TimePoint(tidepost_lon, tidepost_lat, dt) for dt in obs_datetimes]\n",
    "    obs_predictedtides = predict_tide(obs_timepoints)\n",
    "    obs_tideheights = [predictedtide.tide_m for predictedtide in obs_predictedtides]\n",
    "\n",
    "    # Assign tide heights to the dataset as a new variable\n",
    "    ds['tide_heights'] = xr.DataArray(obs_tideheights, [('time', ds.time)])\n",
    "    \n",
    "    # If swap_dims = True, make tide height the primary dimension instead of time\n",
    "    if swap_dims:\n",
    "        \n",
    "        # Swap dimensions and sort by tide height\n",
    "        ds = ds.swap_dims({'time': 'tide_heights'})\n",
    "        ds = ds.sortby('tide_heights')        \n",
    "    \n",
    "    return ds\n",
    "\n",
    "# Define custom functions\n",
    "def water_indices(ds, water_index='NDWI', custom_varname=None, source='Collection2'): \n",
    "    \n",
    "    \"\"\"\n",
    "    Takes an xarray dataset containing spectral bands, calculates one of a \n",
    "    series of water indices, and adds the resulting array as a new variable \n",
    "    in the original dataset.    \n",
    "\n",
    "    Last modified: July 2019\n",
    "    Author: Robbi Bishop-Taylor\n",
    "    \n",
    "    Parameters\n",
    "    ----------  \n",
    "    ds : xarray Dataset\n",
    "        A two-dimensional or multi-dimensional array with spectral bands named \n",
    "        'red', 'green', 'blue', 'nir', 'swir1' or 'swir2'. These bands are used\n",
    "        as inputs to calculate the selected water index.\n",
    "    water_index : str, optional\n",
    "        A string giving the name of the water index to calculate. Valid options:\n",
    "        'NDWI' (Normalised Difference Water Index, McFeeters 1996), \n",
    "        'MNDWI' (Modified Normalised Difference Water Index, Xu 1996), \n",
    "        'AWEI_ns (Automated Water Extraction Index - no shadows, Feyisa 2014)',\n",
    "        'AWEI_sh' (Automated Water Extraction Index - shadows, Feyisa 2014), \n",
    "        'WI' (Water Index, Fisher 2016) & 'TCW' (Tasseled Cap Wetness, Crist 1985).\n",
    "        Defaults to 'NDWI'.        \n",
    "    custom_varname : str, optional\n",
    "        By default, the function will return the original dataset with a new\n",
    "        water index variable named after `water_index` (e.g. NDWI). To specify\n",
    "        a custom name instead, you can supply e.g. `custom_varname='water_index'`. \n",
    "\n",
    "    Returns\n",
    "    -------\n",
    "    ds : xarray Dataset\n",
    "        The original xarray Dataset inputted into the function, with a new band\n",
    "        containing the water index DataArray.\n",
    "    \"\"\"           \n",
    "   \n",
    "    # Dictionary containing water index band recipes\n",
    "    water_index_dict = {# Normalised Difference Water Index, McFeeters 1996\n",
    "                        'NDWI': lambda ds: (ds.green - ds.nir) / (ds.green + ds.nir),\n",
    "        \n",
    "                        # Modified Normalised Difference Water Index, Xu 2006\n",
    "                        'MNDWI': lambda ds: (ds.green - ds.swir1) / (ds.green + ds.swir1),\n",
    "        \n",
    "                        # Automated Water Extraction Index (no shadows), Feyisa 2014\n",
    "                        'AWEI_ns': lambda ds: (4 * (ds.green - ds.swir1) -\n",
    "                                               (2.5 * ds.nir * + 2.75 * ds.swir2)),\n",
    "        \n",
    "                        # Automated Water Extraction Index (shadows), Feyisa 2014\n",
    "                        'AWEI_sh': lambda ds: (ds.blue + 2.5 * ds.green - \n",
    "                                               1.5 * (ds.nir + ds.swir1) - 2.5 * ds.swir2),\n",
    "    \n",
    "                        # Water Index, Fisher 2016\n",
    "                        'WI': lambda ds: (1.7204 + 171 * ds.green + 3 * ds.red + \n",
    "                                          70 * ds.nir - 45 * ds.swir1 - 71 * ds.swir2),\n",
    "        \n",
    "                        # Tasseled Cap Wetness, Crist 1985\n",
    "                        'TCW': lambda ds: (0.0315 * ds.blue + 0.2021 * ds.green + \n",
    "                                           0.3102 * ds.red + 0.1594 * ds.nir - \n",
    "                                           0.6806 * ds.swir1 - 0.6109 * ds.swir2)} \n",
    "    \n",
    "    # Select a water index function based on 'water_index'    \n",
    "    water_index_func = water_index_dict[water_index]\n",
    "    \n",
    "    # Rename bands to a consistent format if either 'Collection3'\n",
    "    # or 'Sentinel2' is specified by `source`\n",
    "    if source == 'Collection3':\n",
    "        \n",
    "        # Dictionary mapping full data names to simpler 'red' alias names\n",
    "        bandnames_dict = {'nbart_red': 'red', 'nbart_green': 'green',\n",
    "                          'nbart_blue': 'blue', 'nbart_nir': 'nir',\n",
    "                          'nbart_swir_1': 'swir1', 'nbart_swir_2': 'swir2',\n",
    "                          'nbar_red': 'red', 'nbar_green': 'green',\n",
    "                          'nbar_blue': 'blue', 'nbar_nir': 'nir', \n",
    "                          'nbar_swir_1': 'swir1', 'nbar_swir_2': 'swir2'}\n",
    "\n",
    "        # Rename bands in dataset to use simple names (e.g. 'red')\n",
    "        bands_to_rename = {a: b for a, b in bandnames_dict.items() if a in ds.variables}\n",
    "        \n",
    "    elif source == 'Sentinel2':\n",
    "        \n",
    "        # Dictionary mapping full data names to simpler 'red' alias names\n",
    "        bandnames_dict = {'nbart_red': 'red', 'nbart_green': 'green',\n",
    "                          'nbart_blue': 'blue', 'nbart_nir': 'nir',\n",
    "                          'nbart_swir_2': 'swir1', 'nbart_swir_3': 'swir2',\n",
    "                          'nbar_red': 'red', 'nbar_green': 'green',\n",
    "                          'nbar_blue': 'blue', 'nbar_nir': 'nir',\n",
    "                          'nbar_swir_2': 'swir1', 'nbar_swir_3': 'swir2'}\n",
    "\n",
    "        # Rename bands in dataset to use simple names (e.g. 'red')\n",
    "        bands_to_rename = {a: b for a, b in bandnames_dict.items() if a in ds.variables}\n",
    "\n",
    "    elif source == 'Collection2':\n",
    "        \n",
    "        # For the DEA Collection 2, pass an empty dict as no bands need renaming\n",
    "        bands_to_rename = {}\n",
    "\n",
    "    \n",
    "    # Apply water index function to data and add to input dataset. If a custom name\n",
    "    # is supplied for the output water index variable, use it.\n",
    "    if custom_varname:        \n",
    "        \n",
    "        # Apply function after normalising to a 0.0-1.0 range by dividing by 10,000\n",
    "        ds[custom_varname] = water_index_func(ds.rename(bands_to_rename) / 10000.0)\n",
    "        \n",
    "    else:\n",
    "        \n",
    "        # Apply function after normalising to a 0.0-1.0 range by dividing by 10,000\n",
    "        ds[water_index] = water_index_func(ds.rename(bands_to_rename) / 10000.0)\n",
    "    \n",
    "    # Return input dataset with added water index variable\n",
    "    return ds\n",
    "\n",
    "\n",
    "# Connect to datacube database\n",
    "dc_ard = datacube.Datacube(config='/home/561/rt1527/.ard-interoperability_tmp.conf')\n",
    "dc = datacube.Datacube()\n",
    "\n",
    "import sys\n",
    "sys.path.append('../10_Scripts')\n",
    "import DEAPlotting, SpatialTools\n",
    "\n",
    "%load_ext autoreload\n",
    "%autoreload 2\n"
   ]
  },
  {
   "cell_type": "markdown",
   "metadata": {},
   "source": [
    "## Extract waterlines for site\n",
    "To do: look into one pixel leftward offset"
   ]
  },
  {
   "cell_type": "code",
   "execution_count": 5,
   "metadata": {},
   "outputs": [
    {
     "data": {
      "text/html": [
       "<div style=\"width:100%;\"><div style=\"position:relative;width:100%;height:0;padding-bottom:60%;\"><iframe src=\"data:text/html;charset=utf-8;base64,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\" style=\"position:absolute;width:100%;height:100%;left:0;top:0;border:none !important;\" allowfullscreen webkitallowfullscreen mozallowfullscreen></iframe></div></div>"
      ],
      "text/plain": [
       "<folium.folium.Map at 0x7f8ef69f30f0>"
      ]
     },
     "execution_count": 5,
     "metadata": {},
     "output_type": "execute_result"
    }
   ],
   "source": [
    "site = 'Narrabeen'\n",
    "shoreline_dist = pd.read_csv(f'/g/data/r78/rt1527/dea-notebooks/Waterline_extraction/validation/processed/validation_{site}.csv')\n",
    "shoreline_dist['date'] = pd.to_datetime(shoreline_dist.date)\n",
    "\n",
    "xmin, xmax = shoreline_dist.loc[:, ['origin_x', 'end_x']].melt()['value'].quantile([0, 1.0])\n",
    "ymin, ymax = shoreline_dist.loc[:, ['origin_y', 'end_y']].melt()['value'].quantile([0, 1.0])\n",
    "\n",
    "DEAPlotting.display_map(x=(xmin, xmax), y=(ymin, ymax), crs='EPSG:28356')\n",
    "shoreline_dates = shoreline_dist['date'].unique()\n",
    "shoreline_dates.sort()\n",
    "\n",
    "DEAPlotting.display_map(x=(xmin, xmax), y=(ymin, ymax), crs='EPSG:32756')"
   ]
  },
  {
   "cell_type": "code",
   "execution_count": 10,
   "metadata": {},
   "outputs": [
    {
     "name": "stderr",
     "output_type": "stream",
     "text": [
      "/g/data/v10/public/modules/dea-env/20190329/lib/python3.6/site-packages/xarray/core/variable.py:134: FutureWarning: Converting timezone-aware DatetimeArray to timezone-naive ndarray with 'datetime64[ns]' dtype. In the future, this will return an ndarray with 'object' dtype where each element is a 'pandas.Timestamp' with the correct 'tz'.\n",
      "\tTo accept the future behavior, pass 'dtype=object'.\n",
      "\tTo keep the old behavior, pass 'dtype=\"datetime64[ns]\"'.\n",
      "  return np.asarray(pd.Series(values.ravel())).reshape(values.shape)\n",
      "/g/data/v10/public/modules/dea-env/20190329/lib/python3.6/site-packages/xarray/core/variable.py:134: FutureWarning: Converting timezone-aware DatetimeArray to timezone-naive ndarray with 'datetime64[ns]' dtype. In the future, this will return an ndarray with 'object' dtype where each element is a 'pandas.Timestamp' with the correct 'tz'.\n",
      "\tTo accept the future behavior, pass 'dtype=object'.\n",
      "\tTo keep the old behavior, pass 'dtype=\"datetime64[ns]\"'.\n",
      "  return np.asarray(pd.Series(values.ravel())).reshape(values.shape)\n",
      "/g/data/v10/public/modules/dea-env/20190329/lib/python3.6/site-packages/xarray/core/variable.py:134: FutureWarning: Converting timezone-aware DatetimeArray to timezone-naive ndarray with 'datetime64[ns]' dtype. In the future, this will return an ndarray with 'object' dtype where each element is a 'pandas.Timestamp' with the correct 'tz'.\n",
      "\tTo accept the future behavior, pass 'dtype=object'.\n",
      "\tTo keep the old behavior, pass 'dtype=\"datetime64[ns]\"'.\n",
      "  return np.asarray(pd.Series(values.ravel())).reshape(values.shape)\n"
     ]
    }
   ],
   "source": [
    "collection = 'Collection upgrade align'\n",
    "\n",
    "# Set up query\n",
    "query = {'x': (xmin - 100, xmax + 100),\n",
    "         'y': (ymin - 100, ymax + 100),\n",
    "         'time': ('1987-01-01', '2019-12-29'),\n",
    "         'crs': 'EPSG:28356'}\n",
    "\n",
    "xarray_dict = {}\n",
    "\n",
    "for sensor in ['ls5', 'ls7', 'ls8']:\n",
    "\n",
    "    # Load data in UTM zone coordinates\n",
    "    landsat_ds = dc_ard.load(product = f'{sensor}_ard', \n",
    "                         group_by = 'solar_day', \n",
    "                         output_crs = 'EPSG:28356',\n",
    "                         measurements = ['nbart_green', 'nbart_nir', 'nbart_swir_1',  'fmask'],\n",
    "                         resolution = (-30, 30),\n",
    "                         dask_chunks={'time': 1},\n",
    "                         align=(30/2.0, 30/2.0),\n",
    "                         **query)\n",
    "\n",
    "    # Identify pixels with valid data: no nodata, no cloud and no cloud shadow\n",
    "    good_quality = ((landsat_ds.fmask != 0) & \n",
    "                    (landsat_ds.fmask != 2) & \n",
    "                    (landsat_ds.fmask != 3))\n",
    "\n",
    "    # Apply mask to set all PQ-affected pixels to NaN and set nodata to NaN\n",
    "    landsat_ds = landsat_ds.where(good_quality)\n",
    "\n",
    "    # Compute NDWI and MNDWI \n",
    "    landsat_ds['NDWI'] = (landsat_ds.nbart_green - landsat_ds.nbart_nir) / (landsat_ds.nbart_green + landsat_ds.nbart_nir)\n",
    "    landsat_ds['MNDWI'] = (landsat_ds.nbart_green - landsat_ds.nbart_swir_1) / (landsat_ds.nbart_green + landsat_ds.nbart_swir_1)\n",
    "#     landsat_ds = water_indices(landsat_ds, water_index='AWEI_ns', custom_varname='water_index')\n",
    "    \n",
    "    xarray_dict[sensor] = landsat_ds\n",
    "    \n",
    "landsat_ds = xr.concat(xarray_dict.values(), dim='time')[['MNDWI', 'NDWI']]\n",
    "landsat_ds = landsat_ds.sortby('time')"
   ]
  },
  {
   "cell_type": "code",
   "execution_count": 7,
   "metadata": {},
   "outputs": [
    {
     "data": {
      "text/plain": [
       "<xarray.Dataset>\n",
       "Dimensions:  (time: 958, x: 35, y: 106)\n",
       "Coordinates:\n",
       "  * y        (y) float64 6.269e+06 6.269e+06 6.269e+06 ... 6.266e+06 6.266e+06\n",
       "  * x        (x) float64 3.424e+05 3.424e+05 3.424e+05 ... 3.434e+05 3.434e+05\n",
       "  * time     (time) datetime64[ns] 1987-05-22T23:07:44.180074 ... 2019-02-07T23:43:52.616068\n",
       "Data variables:\n",
       "    MNDWI    (time, y, x) float64 dask.array<shape=(958, 106, 35), chunksize=(1, 106, 35)>\n",
       "    NDWI     (time, y, x) float64 dask.array<shape=(958, 106, 35), chunksize=(1, 106, 35)>\n",
       "Attributes:\n",
       "    crs:      EPSG:28356"
      ]
     },
     "execution_count": 7,
     "metadata": {},
     "output_type": "execute_result"
    }
   ],
   "source": [
    "landsat_ds"
   ]
  },
  {
   "cell_type": "code",
   "execution_count": 59,
   "metadata": {},
   "outputs": [
    {
     "ename": "AttributeError",
     "evalue": "'Dataset' object has no attribute 'swir2'",
     "output_type": "error",
     "traceback": [
      "\u001b[0;31m---------------------------------------------------------------------------\u001b[0m",
      "\u001b[0;31mAttributeError\u001b[0m                            Traceback (most recent call last)",
      "\u001b[0;32m<ipython-input-59-2d8c9e27af60>\u001b[0m in \u001b[0;36m<module>\u001b[0;34m\u001b[0m\n\u001b[1;32m     56\u001b[0m \u001b[0;31m#     landsat_ds['NDWI'] = (landsat_ds.green - landsat_ds.nir) / (landsat_ds.green + landsat_ds.nir)\u001b[0m\u001b[0;34m\u001b[0m\u001b[0;34m\u001b[0m\u001b[0;34m\u001b[0m\u001b[0m\n\u001b[1;32m     57\u001b[0m \u001b[0;31m#     landsat_ds['MNDWI'] = (landsat_ds.green - landsat_ds.swir1) / (landsat_ds.green + landsat_ds.swir1)\u001b[0m\u001b[0;34m\u001b[0m\u001b[0;34m\u001b[0m\u001b[0;34m\u001b[0m\u001b[0m\n\u001b[0;32m---> 58\u001b[0;31m     \u001b[0mlandsat_ds\u001b[0m \u001b[0;34m=\u001b[0m \u001b[0mwater_indices\u001b[0m\u001b[0;34m(\u001b[0m\u001b[0mlandsat_ds\u001b[0m\u001b[0;34m,\u001b[0m \u001b[0mwater_index\u001b[0m\u001b[0;34m=\u001b[0m\u001b[0;34m'AWEI_ns'\u001b[0m\u001b[0;34m,\u001b[0m \u001b[0mcustom_varname\u001b[0m\u001b[0;34m=\u001b[0m\u001b[0;34m'water_index'\u001b[0m\u001b[0;34m,\u001b[0m \u001b[0msource\u001b[0m\u001b[0;34m=\u001b[0m\u001b[0;34m'Collection3'\u001b[0m\u001b[0;34m)\u001b[0m\u001b[0;34m\u001b[0m\u001b[0;34m\u001b[0m\u001b[0m\n\u001b[0m\u001b[1;32m     59\u001b[0m \u001b[0;34m\u001b[0m\u001b[0m\n\u001b[1;32m     60\u001b[0m     \u001b[0mxarray_dict\u001b[0m\u001b[0;34m[\u001b[0m\u001b[0msensor\u001b[0m\u001b[0;34m]\u001b[0m \u001b[0;34m=\u001b[0m \u001b[0mlandsat_ds\u001b[0m\u001b[0;34m\u001b[0m\u001b[0;34m\u001b[0m\u001b[0m\n",
      "\u001b[0;32m<ipython-input-56-8824c39bc5da>\u001b[0m in \u001b[0;36mwater_indices\u001b[0;34m(ds, water_index, custom_varname, source)\u001b[0m\n\u001b[1;32m    155\u001b[0m \u001b[0;34m\u001b[0m\u001b[0m\n\u001b[1;32m    156\u001b[0m         \u001b[0;31m# Apply function after normalising to a 0.0-1.0 range by dividing by 10,000\u001b[0m\u001b[0;34m\u001b[0m\u001b[0;34m\u001b[0m\u001b[0;34m\u001b[0m\u001b[0m\n\u001b[0;32m--> 157\u001b[0;31m         \u001b[0mds\u001b[0m\u001b[0;34m[\u001b[0m\u001b[0mcustom_varname\u001b[0m\u001b[0;34m]\u001b[0m \u001b[0;34m=\u001b[0m \u001b[0mwater_index_func\u001b[0m\u001b[0;34m(\u001b[0m\u001b[0mds\u001b[0m\u001b[0;34m.\u001b[0m\u001b[0mrename\u001b[0m\u001b[0;34m(\u001b[0m\u001b[0mbands_to_rename\u001b[0m\u001b[0;34m)\u001b[0m \u001b[0;34m/\u001b[0m \u001b[0;36m10000.0\u001b[0m\u001b[0;34m)\u001b[0m\u001b[0;34m\u001b[0m\u001b[0;34m\u001b[0m\u001b[0m\n\u001b[0m\u001b[1;32m    158\u001b[0m \u001b[0;34m\u001b[0m\u001b[0m\n\u001b[1;32m    159\u001b[0m     \u001b[0;32melse\u001b[0m\u001b[0;34m:\u001b[0m\u001b[0;34m\u001b[0m\u001b[0;34m\u001b[0m\u001b[0m\n",
      "\u001b[0;32m<ipython-input-56-8824c39bc5da>\u001b[0m in \u001b[0;36m<lambda>\u001b[0;34m(ds)\u001b[0m\n\u001b[1;32m     98\u001b[0m                         \u001b[0;31m# Automated Water Extraction Index (no shadows), Feyisa 2014\u001b[0m\u001b[0;34m\u001b[0m\u001b[0;34m\u001b[0m\u001b[0;34m\u001b[0m\u001b[0m\n\u001b[1;32m     99\u001b[0m                         'AWEI_ns': lambda ds: (4 * (ds.green - ds.swir1) -\n\u001b[0;32m--> 100\u001b[0;31m                                                (2.5 * ds.nir * + 2.75 * ds.swir2)),\n\u001b[0m\u001b[1;32m    101\u001b[0m \u001b[0;34m\u001b[0m\u001b[0m\n\u001b[1;32m    102\u001b[0m                         \u001b[0;31m# Automated Water Extraction Index (shadows), Feyisa 2014\u001b[0m\u001b[0;34m\u001b[0m\u001b[0;34m\u001b[0m\u001b[0;34m\u001b[0m\u001b[0m\n",
      "\u001b[0;32m/g/data/v10/public/modules/dea-env/20190329/lib/python3.6/site-packages/xarray/core/common.py\u001b[0m in \u001b[0;36m__getattr__\u001b[0;34m(self, name)\u001b[0m\n\u001b[1;32m    177\u001b[0m                     \u001b[0;32mreturn\u001b[0m \u001b[0msource\u001b[0m\u001b[0;34m[\u001b[0m\u001b[0mname\u001b[0m\u001b[0;34m]\u001b[0m\u001b[0;34m\u001b[0m\u001b[0;34m\u001b[0m\u001b[0m\n\u001b[1;32m    178\u001b[0m         raise AttributeError(\"%r object has no attribute %r\" %\n\u001b[0;32m--> 179\u001b[0;31m                              (type(self).__name__, name))\n\u001b[0m\u001b[1;32m    180\u001b[0m \u001b[0;34m\u001b[0m\u001b[0m\n\u001b[1;32m    181\u001b[0m     \u001b[0;32mdef\u001b[0m \u001b[0m__setattr__\u001b[0m\u001b[0;34m(\u001b[0m\u001b[0mself\u001b[0m\u001b[0;34m,\u001b[0m \u001b[0mname\u001b[0m\u001b[0;34m,\u001b[0m \u001b[0mvalue\u001b[0m\u001b[0;34m)\u001b[0m\u001b[0;34m:\u001b[0m\u001b[0;34m\u001b[0m\u001b[0;34m\u001b[0m\u001b[0m\n",
      "\u001b[0;31mAttributeError\u001b[0m: 'Dataset' object has no attribute 'swir2'"
     ]
    }
   ],
   "source": [
    "collection = 'Current collection'\n",
    "\n",
    "# Set up query\n",
    "query = {'x': (xmin - 100, xmax + 100),\n",
    "         'y': (ymin - 100, ymax + 100),\n",
    "         'time': ('1987-01-01', '2019-12-29'),\n",
    "         'crs': 'EPSG:32756'}\n",
    "\n",
    "xarray_dict = {}\n",
    "\n",
    "for sensor in ['ls5', 'ls7', 'ls8']:\n",
    "\n",
    "    # Load data \n",
    "    landsat_ds = dc.load(product = f'{sensor}_nbart_albers', \n",
    "                         group_by = 'solar_day', \n",
    "                         output_crs = 'EPSG:32756',\n",
    "                         measurements = ['green', 'nir', 'swir1'],\n",
    "                         resolution = (-30, 30),\n",
    "                         resampling='bilinear',\n",
    "                         dask_chunks={'time': 1},\n",
    "                         **query)\n",
    "\n",
    "    # Load data in UTM zone coordinates\n",
    "    landsat_pq = dc.load(product = f'{sensor}_pq_albers', \n",
    "                         group_by = 'solar_day', \n",
    "                         output_crs = 'EPSG:32756',\n",
    "                         measurements = ['pixelquality'],\n",
    "                         resolution = (-30, 30),\n",
    "                         resampling='nearest',\n",
    "                         dask_chunks={'time': 1},\n",
    "                         **query)                       \n",
    "\n",
    "    # Return only Landsat observations that have matching PQ data \n",
    "    time = (landsat_ds.time - landsat_pq.time).time\n",
    "    landsat_ds = landsat_ds.sel(time=time)\n",
    "    landsat_pq = landsat_pq.sel(time=time)\n",
    "\n",
    "    # Create mask\n",
    "    good_quality = masking.make_mask(landsat_pq.pixelquality,\n",
    "                                     cloud_acca='no_cloud',\n",
    "                                     cloud_shadow_acca='no_cloud_shadow',\n",
    "                                     cloud_shadow_fmask='no_cloud_shadow',\n",
    "                                     cloud_fmask='no_cloud',\n",
    "                                     blue_saturated=False,\n",
    "                                     green_saturated=False,\n",
    "                                     red_saturated=False,\n",
    "                                     nir_saturated=False,\n",
    "                                     swir1_saturated=False,\n",
    "                                     swir2_saturated=False,\n",
    "                                     contiguous=True) \n",
    "    \n",
    "    # Apply mask to set all PQ-affected pixels to NaN and set nodata to NaN\n",
    "    landsat_ds = landsat_ds.where(good_quality)\n",
    "\n",
    "    # Compute NDWI and MNDWI \n",
    "#     landsat_ds['NDWI'] = (landsat_ds.green - landsat_ds.nir) / (landsat_ds.green + landsat_ds.nir)\n",
    "#     landsat_ds['MNDWI'] = (landsat_ds.green - landsat_ds.swir1) / (landsat_ds.green + landsat_ds.swir1)\n",
    "    landsat_ds = water_indices(landsat_ds, water_index='AWEI_ns', custom_varname='water_index', source='Collection3')    \n",
    "    \n",
    "    xarray_dict[sensor] = landsat_ds\n",
    "    \n",
    "landsat_ds = xr.concat(xarray_dict.values(), dim='time')[['water_index']]\n",
    "landsat_ds = landsat_ds.sortby('time')"
   ]
  },
  {
   "cell_type": "markdown",
   "metadata": {},
   "source": [
    "## Annual composites"
   ]
  },
  {
   "cell_type": "code",
   "execution_count": 11,
   "metadata": {},
   "outputs": [
    {
     "name": "stdout",
     "output_type": "stream",
     "text": [
      "[1988 1989 1990 1991 1992 1993 1994 1995 1996 1997 1998 1999 2000 2001\n",
      " 2002 2003 2004 2005 2006 2007 2008 2009 2010 2011 2012 2013 2014 2015\n",
      " 2016 2017 2018]\n",
      "Setting tide post from dataset centroid: 151.30415723150708, -33.71903558456191\n"
     ]
    },
    {
     "ename": "KeyboardInterrupt",
     "evalue": "",
     "output_type": "error",
     "traceback": [
      "\u001b[0;31m---------------------------------------------------------------------------\u001b[0m",
      "\u001b[0;31mKeyboardInterrupt\u001b[0m                         Traceback (most recent call last)",
      "\u001b[0;32m<ipython-input-11-cbf8d8d57066>\u001b[0m in \u001b[0;36m<module>\u001b[0;34m\u001b[0m\n\u001b[1;32m     18\u001b[0m \u001b[0;34m\u001b[0m\u001b[0m\n\u001b[1;32m     19\u001b[0m \u001b[0;31m# Load data into memory and take median\u001b[0m\u001b[0;34m\u001b[0m\u001b[0;34m\u001b[0m\u001b[0;34m\u001b[0m\u001b[0m\n\u001b[0;32m---> 20\u001b[0;31m \u001b[0mout\u001b[0m \u001b[0;34m=\u001b[0m \u001b[0mlandsat_subset\u001b[0m\u001b[0;34m.\u001b[0m\u001b[0mcompute\u001b[0m\u001b[0;34m(\u001b[0m\u001b[0;34m)\u001b[0m\u001b[0;34m.\u001b[0m\u001b[0mgroupby\u001b[0m\u001b[0;34m(\u001b[0m\u001b[0;34m'time.year'\u001b[0m\u001b[0;34m)\u001b[0m\u001b[0;34m.\u001b[0m\u001b[0mmedian\u001b[0m\u001b[0;34m(\u001b[0m\u001b[0mdim\u001b[0m\u001b[0;34m=\u001b[0m\u001b[0;34m'time'\u001b[0m\u001b[0;34m)\u001b[0m\u001b[0;34m\u001b[0m\u001b[0;34m\u001b[0m\u001b[0m\n\u001b[0m",
      "\u001b[0;32m/g/data/v10/public/modules/dea-env/20190329/lib/python3.6/site-packages/xarray/core/dataset.py\u001b[0m in \u001b[0;36mcompute\u001b[0;34m(self, **kwargs)\u001b[0m\n\u001b[1;32m    635\u001b[0m         \"\"\"\n\u001b[1;32m    636\u001b[0m         \u001b[0mnew\u001b[0m \u001b[0;34m=\u001b[0m \u001b[0mself\u001b[0m\u001b[0;34m.\u001b[0m\u001b[0mcopy\u001b[0m\u001b[0;34m(\u001b[0m\u001b[0mdeep\u001b[0m\u001b[0;34m=\u001b[0m\u001b[0;32mFalse\u001b[0m\u001b[0;34m)\u001b[0m\u001b[0;34m\u001b[0m\u001b[0;34m\u001b[0m\u001b[0m\n\u001b[0;32m--> 637\u001b[0;31m         \u001b[0;32mreturn\u001b[0m \u001b[0mnew\u001b[0m\u001b[0;34m.\u001b[0m\u001b[0mload\u001b[0m\u001b[0;34m(\u001b[0m\u001b[0;34m**\u001b[0m\u001b[0mkwargs\u001b[0m\u001b[0;34m)\u001b[0m\u001b[0;34m\u001b[0m\u001b[0;34m\u001b[0m\u001b[0m\n\u001b[0m\u001b[1;32m    638\u001b[0m \u001b[0;34m\u001b[0m\u001b[0m\n\u001b[1;32m    639\u001b[0m     \u001b[0;32mdef\u001b[0m \u001b[0m_persist_inplace\u001b[0m\u001b[0;34m(\u001b[0m\u001b[0mself\u001b[0m\u001b[0;34m,\u001b[0m \u001b[0;34m**\u001b[0m\u001b[0mkwargs\u001b[0m\u001b[0;34m)\u001b[0m\u001b[0;34m:\u001b[0m\u001b[0;34m\u001b[0m\u001b[0;34m\u001b[0m\u001b[0m\n",
      "\u001b[0;32m/g/data/v10/public/modules/dea-env/20190329/lib/python3.6/site-packages/xarray/core/dataset.py\u001b[0m in \u001b[0;36mload\u001b[0;34m(self, **kwargs)\u001b[0m\n\u001b[1;32m    509\u001b[0m \u001b[0;34m\u001b[0m\u001b[0m\n\u001b[1;32m    510\u001b[0m             \u001b[0;31m# evaluate all the dask arrays simultaneously\u001b[0m\u001b[0;34m\u001b[0m\u001b[0;34m\u001b[0m\u001b[0;34m\u001b[0m\u001b[0m\n\u001b[0;32m--> 511\u001b[0;31m             \u001b[0mevaluated_data\u001b[0m \u001b[0;34m=\u001b[0m \u001b[0mda\u001b[0m\u001b[0;34m.\u001b[0m\u001b[0mcompute\u001b[0m\u001b[0;34m(\u001b[0m\u001b[0;34m*\u001b[0m\u001b[0mlazy_data\u001b[0m\u001b[0;34m.\u001b[0m\u001b[0mvalues\u001b[0m\u001b[0;34m(\u001b[0m\u001b[0;34m)\u001b[0m\u001b[0;34m,\u001b[0m \u001b[0;34m**\u001b[0m\u001b[0mkwargs\u001b[0m\u001b[0;34m)\u001b[0m\u001b[0;34m\u001b[0m\u001b[0;34m\u001b[0m\u001b[0m\n\u001b[0m\u001b[1;32m    512\u001b[0m \u001b[0;34m\u001b[0m\u001b[0m\n\u001b[1;32m    513\u001b[0m             \u001b[0;32mfor\u001b[0m \u001b[0mk\u001b[0m\u001b[0;34m,\u001b[0m \u001b[0mdata\u001b[0m \u001b[0;32min\u001b[0m \u001b[0mzip\u001b[0m\u001b[0;34m(\u001b[0m\u001b[0mlazy_data\u001b[0m\u001b[0;34m,\u001b[0m \u001b[0mevaluated_data\u001b[0m\u001b[0;34m)\u001b[0m\u001b[0;34m:\u001b[0m\u001b[0;34m\u001b[0m\u001b[0;34m\u001b[0m\u001b[0m\n",
      "\u001b[0;32m/g/data/v10/public/modules/dea-env/20190329/lib/python3.6/site-packages/dask/base.py\u001b[0m in \u001b[0;36mcompute\u001b[0;34m(*args, **kwargs)\u001b[0m\n\u001b[1;32m    393\u001b[0m     \u001b[0mkeys\u001b[0m \u001b[0;34m=\u001b[0m \u001b[0;34m[\u001b[0m\u001b[0mx\u001b[0m\u001b[0;34m.\u001b[0m\u001b[0m__dask_keys__\u001b[0m\u001b[0;34m(\u001b[0m\u001b[0;34m)\u001b[0m \u001b[0;32mfor\u001b[0m \u001b[0mx\u001b[0m \u001b[0;32min\u001b[0m \u001b[0mcollections\u001b[0m\u001b[0;34m]\u001b[0m\u001b[0;34m\u001b[0m\u001b[0;34m\u001b[0m\u001b[0m\n\u001b[1;32m    394\u001b[0m     \u001b[0mpostcomputes\u001b[0m \u001b[0;34m=\u001b[0m \u001b[0;34m[\u001b[0m\u001b[0mx\u001b[0m\u001b[0;34m.\u001b[0m\u001b[0m__dask_postcompute__\u001b[0m\u001b[0;34m(\u001b[0m\u001b[0;34m)\u001b[0m \u001b[0;32mfor\u001b[0m \u001b[0mx\u001b[0m \u001b[0;32min\u001b[0m \u001b[0mcollections\u001b[0m\u001b[0;34m]\u001b[0m\u001b[0;34m\u001b[0m\u001b[0;34m\u001b[0m\u001b[0m\n\u001b[0;32m--> 395\u001b[0;31m     \u001b[0mresults\u001b[0m \u001b[0;34m=\u001b[0m \u001b[0mschedule\u001b[0m\u001b[0;34m(\u001b[0m\u001b[0mdsk\u001b[0m\u001b[0;34m,\u001b[0m \u001b[0mkeys\u001b[0m\u001b[0;34m,\u001b[0m \u001b[0;34m**\u001b[0m\u001b[0mkwargs\u001b[0m\u001b[0;34m)\u001b[0m\u001b[0;34m\u001b[0m\u001b[0;34m\u001b[0m\u001b[0m\n\u001b[0m\u001b[1;32m    396\u001b[0m     \u001b[0;32mreturn\u001b[0m \u001b[0mrepack\u001b[0m\u001b[0;34m(\u001b[0m\u001b[0;34m[\u001b[0m\u001b[0mf\u001b[0m\u001b[0;34m(\u001b[0m\u001b[0mr\u001b[0m\u001b[0;34m,\u001b[0m \u001b[0;34m*\u001b[0m\u001b[0ma\u001b[0m\u001b[0;34m)\u001b[0m \u001b[0;32mfor\u001b[0m \u001b[0mr\u001b[0m\u001b[0;34m,\u001b[0m \u001b[0;34m(\u001b[0m\u001b[0mf\u001b[0m\u001b[0;34m,\u001b[0m \u001b[0ma\u001b[0m\u001b[0;34m)\u001b[0m \u001b[0;32min\u001b[0m \u001b[0mzip\u001b[0m\u001b[0;34m(\u001b[0m\u001b[0mresults\u001b[0m\u001b[0;34m,\u001b[0m \u001b[0mpostcomputes\u001b[0m\u001b[0;34m)\u001b[0m\u001b[0;34m]\u001b[0m\u001b[0;34m)\u001b[0m\u001b[0;34m\u001b[0m\u001b[0;34m\u001b[0m\u001b[0m\n\u001b[1;32m    397\u001b[0m \u001b[0;34m\u001b[0m\u001b[0m\n",
      "\u001b[0;32m/g/data/v10/public/modules/dea-env/20190329/lib/python3.6/site-packages/dask/threaded.py\u001b[0m in \u001b[0;36mget\u001b[0;34m(dsk, result, cache, num_workers, **kwargs)\u001b[0m\n\u001b[1;32m     73\u001b[0m     results = get_async(pool.apply_async, len(pool._pool), dsk, result,\n\u001b[1;32m     74\u001b[0m                         \u001b[0mcache\u001b[0m\u001b[0;34m=\u001b[0m\u001b[0mcache\u001b[0m\u001b[0;34m,\u001b[0m \u001b[0mget_id\u001b[0m\u001b[0;34m=\u001b[0m\u001b[0m_thread_get_id\u001b[0m\u001b[0;34m,\u001b[0m\u001b[0;34m\u001b[0m\u001b[0;34m\u001b[0m\u001b[0m\n\u001b[0;32m---> 75\u001b[0;31m                         pack_exception=pack_exception, **kwargs)\n\u001b[0m\u001b[1;32m     76\u001b[0m \u001b[0;34m\u001b[0m\u001b[0m\n\u001b[1;32m     77\u001b[0m     \u001b[0;31m# Cleanup pools associated to dead threads\u001b[0m\u001b[0;34m\u001b[0m\u001b[0;34m\u001b[0m\u001b[0;34m\u001b[0m\u001b[0m\n",
      "\u001b[0;32m/g/data/v10/public/modules/dea-env/20190329/lib/python3.6/site-packages/dask/local.py\u001b[0m in \u001b[0;36mget_async\u001b[0;34m(apply_async, num_workers, dsk, result, cache, get_id, rerun_exceptions_locally, pack_exception, raise_exception, callbacks, dumps, loads, **kwargs)\u001b[0m\n\u001b[1;32m    490\u001b[0m             \u001b[0;31m# Main loop, wait on tasks to finish, insert new ones\u001b[0m\u001b[0;34m\u001b[0m\u001b[0;34m\u001b[0m\u001b[0;34m\u001b[0m\u001b[0m\n\u001b[1;32m    491\u001b[0m             \u001b[0;32mwhile\u001b[0m \u001b[0mstate\u001b[0m\u001b[0;34m[\u001b[0m\u001b[0;34m'waiting'\u001b[0m\u001b[0;34m]\u001b[0m \u001b[0;32mor\u001b[0m \u001b[0mstate\u001b[0m\u001b[0;34m[\u001b[0m\u001b[0;34m'ready'\u001b[0m\u001b[0;34m]\u001b[0m \u001b[0;32mor\u001b[0m \u001b[0mstate\u001b[0m\u001b[0;34m[\u001b[0m\u001b[0;34m'running'\u001b[0m\u001b[0;34m]\u001b[0m\u001b[0;34m:\u001b[0m\u001b[0;34m\u001b[0m\u001b[0;34m\u001b[0m\u001b[0m\n\u001b[0;32m--> 492\u001b[0;31m                 \u001b[0mkey\u001b[0m\u001b[0;34m,\u001b[0m \u001b[0mres_info\u001b[0m\u001b[0;34m,\u001b[0m \u001b[0mfailed\u001b[0m \u001b[0;34m=\u001b[0m \u001b[0mqueue_get\u001b[0m\u001b[0;34m(\u001b[0m\u001b[0mqueue\u001b[0m\u001b[0;34m)\u001b[0m\u001b[0;34m\u001b[0m\u001b[0;34m\u001b[0m\u001b[0m\n\u001b[0m\u001b[1;32m    493\u001b[0m                 \u001b[0;32mif\u001b[0m \u001b[0mfailed\u001b[0m\u001b[0;34m:\u001b[0m\u001b[0;34m\u001b[0m\u001b[0;34m\u001b[0m\u001b[0m\n\u001b[1;32m    494\u001b[0m                     \u001b[0mexc\u001b[0m\u001b[0;34m,\u001b[0m \u001b[0mtb\u001b[0m \u001b[0;34m=\u001b[0m \u001b[0mloads\u001b[0m\u001b[0;34m(\u001b[0m\u001b[0mres_info\u001b[0m\u001b[0;34m)\u001b[0m\u001b[0;34m\u001b[0m\u001b[0;34m\u001b[0m\u001b[0m\n",
      "\u001b[0;32m/g/data/v10/public/modules/dea-env/20190329/lib/python3.6/site-packages/dask/local.py\u001b[0m in \u001b[0;36mqueue_get\u001b[0;34m(q)\u001b[0m\n\u001b[1;32m    139\u001b[0m \u001b[0;32melse\u001b[0m\u001b[0;34m:\u001b[0m\u001b[0;34m\u001b[0m\u001b[0;34m\u001b[0m\u001b[0m\n\u001b[1;32m    140\u001b[0m     \u001b[0;32mdef\u001b[0m \u001b[0mqueue_get\u001b[0m\u001b[0;34m(\u001b[0m\u001b[0mq\u001b[0m\u001b[0;34m)\u001b[0m\u001b[0;34m:\u001b[0m\u001b[0;34m\u001b[0m\u001b[0;34m\u001b[0m\u001b[0m\n\u001b[0;32m--> 141\u001b[0;31m         \u001b[0;32mreturn\u001b[0m \u001b[0mq\u001b[0m\u001b[0;34m.\u001b[0m\u001b[0mget\u001b[0m\u001b[0;34m(\u001b[0m\u001b[0;34m)\u001b[0m\u001b[0;34m\u001b[0m\u001b[0;34m\u001b[0m\u001b[0m\n\u001b[0m\u001b[1;32m    142\u001b[0m \u001b[0;34m\u001b[0m\u001b[0m\n\u001b[1;32m    143\u001b[0m \u001b[0;34m\u001b[0m\u001b[0m\n",
      "\u001b[0;32m/g/data/v10/public/modules/dea-env/20190329/lib/python3.6/queue.py\u001b[0m in \u001b[0;36mget\u001b[0;34m(self, block, timeout)\u001b[0m\n\u001b[1;32m    162\u001b[0m             \u001b[0;32melif\u001b[0m \u001b[0mtimeout\u001b[0m \u001b[0;32mis\u001b[0m \u001b[0;32mNone\u001b[0m\u001b[0;34m:\u001b[0m\u001b[0;34m\u001b[0m\u001b[0;34m\u001b[0m\u001b[0m\n\u001b[1;32m    163\u001b[0m                 \u001b[0;32mwhile\u001b[0m \u001b[0;32mnot\u001b[0m \u001b[0mself\u001b[0m\u001b[0;34m.\u001b[0m\u001b[0m_qsize\u001b[0m\u001b[0;34m(\u001b[0m\u001b[0;34m)\u001b[0m\u001b[0;34m:\u001b[0m\u001b[0;34m\u001b[0m\u001b[0;34m\u001b[0m\u001b[0m\n\u001b[0;32m--> 164\u001b[0;31m                     \u001b[0mself\u001b[0m\u001b[0;34m.\u001b[0m\u001b[0mnot_empty\u001b[0m\u001b[0;34m.\u001b[0m\u001b[0mwait\u001b[0m\u001b[0;34m(\u001b[0m\u001b[0;34m)\u001b[0m\u001b[0;34m\u001b[0m\u001b[0;34m\u001b[0m\u001b[0m\n\u001b[0m\u001b[1;32m    165\u001b[0m             \u001b[0;32melif\u001b[0m \u001b[0mtimeout\u001b[0m \u001b[0;34m<\u001b[0m \u001b[0;36m0\u001b[0m\u001b[0;34m:\u001b[0m\u001b[0;34m\u001b[0m\u001b[0;34m\u001b[0m\u001b[0m\n\u001b[1;32m    166\u001b[0m                 \u001b[0;32mraise\u001b[0m \u001b[0mValueError\u001b[0m\u001b[0;34m(\u001b[0m\u001b[0;34m\"'timeout' must be a non-negative number\"\u001b[0m\u001b[0;34m)\u001b[0m\u001b[0;34m\u001b[0m\u001b[0;34m\u001b[0m\u001b[0m\n",
      "\u001b[0;32m/g/data/v10/public/modules/dea-env/20190329/lib/python3.6/threading.py\u001b[0m in \u001b[0;36mwait\u001b[0;34m(self, timeout)\u001b[0m\n\u001b[1;32m    293\u001b[0m         \u001b[0;32mtry\u001b[0m\u001b[0;34m:\u001b[0m    \u001b[0;31m# restore state no matter what (e.g., KeyboardInterrupt)\u001b[0m\u001b[0;34m\u001b[0m\u001b[0;34m\u001b[0m\u001b[0m\n\u001b[1;32m    294\u001b[0m             \u001b[0;32mif\u001b[0m \u001b[0mtimeout\u001b[0m \u001b[0;32mis\u001b[0m \u001b[0;32mNone\u001b[0m\u001b[0;34m:\u001b[0m\u001b[0;34m\u001b[0m\u001b[0;34m\u001b[0m\u001b[0m\n\u001b[0;32m--> 295\u001b[0;31m                 \u001b[0mwaiter\u001b[0m\u001b[0;34m.\u001b[0m\u001b[0macquire\u001b[0m\u001b[0;34m(\u001b[0m\u001b[0;34m)\u001b[0m\u001b[0;34m\u001b[0m\u001b[0;34m\u001b[0m\u001b[0m\n\u001b[0m\u001b[1;32m    296\u001b[0m                 \u001b[0mgotit\u001b[0m \u001b[0;34m=\u001b[0m \u001b[0;32mTrue\u001b[0m\u001b[0;34m\u001b[0m\u001b[0;34m\u001b[0m\u001b[0m\n\u001b[1;32m    297\u001b[0m             \u001b[0;32melse\u001b[0m\u001b[0;34m:\u001b[0m\u001b[0;34m\u001b[0m\u001b[0;34m\u001b[0m\u001b[0m\n",
      "\u001b[0;31mKeyboardInterrupt\u001b[0m: "
     ]
    }
   ],
   "source": [
    "# Pull out selected years\n",
    "years_to_analyse = shoreline_dist.date.dt.year.unique(); print(years_to_analyse)\n",
    "landsat_subset = xr.concat([landsat_ds.sel(time=str(i)) for i in years_to_analyse], dim='time')\n",
    "\n",
    "# Compute tides\n",
    "landsat_subset = tidal_tag(landsat_subset)\n",
    "landsat_subset = landsat_subset.sortby('tide_heights') \n",
    "\n",
    "# Filter\n",
    "landsat_subset = landsat_subset.sel(time = landsat_subset.tide_heights > (landsat_subset.tide_heights).median())\n",
    "\n",
    "# Tide_adj\n",
    "datum = 0.5\n",
    "landsat_subset['adj_0.01'] = ((datum - landsat_subset.tide_heights) / -0.01)\n",
    "landsat_subset['adj_0.05'] = ((datum - landsat_subset.tide_heights) / -0.05)\n",
    "landsat_subset['adj_0.10'] = ((datum - landsat_subset.tide_heights) / -0.10)\n",
    "landsat_subset['adj_0.20'] = ((datum - landsat_subset.tide_heights) / -0.20)\n",
    "\n",
    "# Load data into memory and take median\n",
    "out = landsat_subset.compute().groupby('time.year').median(dim='time')\n"
   ]
  },
  {
   "cell_type": "code",
   "execution_count": null,
   "metadata": {},
   "outputs": [],
   "source": [
    "# landsat_subset.compute()"
   ]
  },
  {
   "cell_type": "code",
   "execution_count": null,
   "metadata": {},
   "outputs": [],
   "source": [
    "# out = []\n",
    "# for year in years_to_analyse:\n",
    "\n",
    "#     annual_subset = landsat_subset.sel(time=str(year))\n",
    "\n",
    "#     diff = 100\n",
    "#     annual_mediantide = None\n",
    "\n",
    "#     if annual_subset.tide_heights.median() > 0:\n",
    "\n",
    "#         for i in range(0, len(annual_subset.tide_heights) + 1):\n",
    "\n",
    "#             val = annual_subset.isel(time = slice(0, len(annual_subset.tide_heights) - i)).tide_heights.median().item()\n",
    "\n",
    "#             if abs(val) < diff:\n",
    "\n",
    "#                 diff = abs(val)\n",
    "#                 annual_mediantide = annual_subset.isel(time = slice(0, len(annual_subset.tide_heights) - i))\n",
    "                \n",
    "#         out.append(annual_mediantide)\n",
    "\n",
    "# # Load data into memory and take median\n",
    "# landsat_subset = xr.concat(out, dim='time')\n",
    "# out = landsat_subset.compute().groupby('time.year').median(dim='time')\n"
   ]
  },
  {
   "cell_type": "code",
   "execution_count": 14,
   "metadata": {},
   "outputs": [],
   "source": [
    "custom_attrs = {'year': out.year.values.tolist(),\n",
    "                'tide': out.tide_heights.values.tolist(),\n",
    "                'adj_0.01': out['adj_0.01'].values.tolist(),\n",
    "                'adj_0.05': out['adj_0.05'].values.tolist(),\n",
    "                'adj_0.10': out['adj_0.10'].values.tolist(),\n",
    "                'adj_0.20': out['adj_0.20'].values.tolist()}\n",
    "custom_attrs_dtypes = {'year': 'int', 'tide': 'float', 'adj_0.01': 'float', 'adj_0.05': 'float', 'adj_0.10': 'float', 'adj_0.20': 'float'}\n",
    "\n",
    "metric = 'NDWI'\n",
    "metric_thresh = 0.0\n",
    "\n",
    "# Extract contours with custom attribute fields:\n",
    "contour_gdf = SpatialTools.contour_extract(z_values=metric_thresh,\n",
    "                                           ds_array=out[metric],\n",
    "                                           ds_crs=landsat_ds.geobox.crs,\n",
    "                                           ds_affine=landsat_ds.geobox.affine,\n",
    "                                           output_shp=f'validation/outputs/landsat_contours_{site}.shp',\n",
    "                                           attribute_data=custom_attrs,\n",
    "                                           attribute_dtypes=custom_attrs_dtypes,\n",
    "                                           min_vertices=2,\n",
    "                                           verbose=False, dim='year')"
   ]
  },
  {
   "cell_type": "code",
   "execution_count": 15,
   "metadata": {},
   "outputs": [
    {
     "data": {
      "image/png": "[encoded data removed]",
      "text/plain": [
       "<Figure size 576x576 with 2 Axes>"
      ]
     },
     "metadata": {
      "needs_background": "light"
     },
     "output_type": "display_data"
    }
   ],
   "source": [
    "# Import waterline contours\n",
    "contours_gdf = gpd.read_file(f'validation/outputs/landsat_contours_{site}.shp')\n",
    "contours_gdf = contours_gdf.to_crs(epsg=28356)  \n",
    "\n",
    "# Subset to AHD 0.0 data\n",
    "shoreline_ahd0 = shoreline_dist[['site', 'date', 'ahd0.5_dist', 'ahd0.0_x', 'ahd0.0_y', \n",
    "                                 'origin_x', 'origin_y', 'end_x', 'end_y', 'foredune_x', 'foredune_y']].dropna()\n",
    "shoreline_ahd0['year']= shoreline_dist.date.dt.year\n",
    "\n",
    "# Reduce to year\n",
    "counts = shoreline_ahd0.groupby([shoreline_ahd0.year, 'site']).count().date\n",
    "shoreline_ahd0 = shoreline_ahd0.groupby([shoreline_ahd0.year, 'site']).median()\n",
    "shoreline_ahd0['n'] = counts\n",
    "shoreline_ahd0 = shoreline_ahd0.reset_index()\n",
    "\n",
    "# Create geometry for shoreline transects\n",
    "# shoreline_ahd0_geometry  = shoreline_ahd0.apply(lambda x: LineString([Point(x.origin_x, x.origin_y), Point(x.end_x, x.end_y)]), axis = 1)\n",
    "shoreline_ahd0_geometry  = shoreline_ahd0.apply(lambda x: LineString([Point(x.foredune_x, x.foredune_y), Point(x.end_x, x.end_y)]), axis = 1)\n",
    "shoreline_ahd0_gdf = gpd.GeoDataFrame(shoreline_ahd0, geometry=shoreline_ahd0_geometry).reset_index()\n",
    "shoreline_ahd0_gdf.crs = 'EPSG:28356'\n",
    "\n",
    "# Combine to match each shoreline contour to each date in validation data\n",
    "merge_test = shoreline_ahd0_gdf.merge(contours_gdf, on='year')\n",
    "\n",
    "# For each row, compute distance between origin and location where profile intersects with waterline contour\n",
    "merge_test['Landsat beach width (m)'] = merge_test.apply(lambda x: x.geometry_x.intersection(x.geometry_y).hausdorff_distance(Point(x.origin_x, x.origin_y)), axis=1)\n",
    "merge_test = merge_test.rename({'ahd0.5_dist': 'Validation beach width (m)'}, axis=1)\n",
    "merge_test = merge_test[merge_test['Landsat beach width (m)'] > 0]\n",
    "merge_test = merge_test[merge_test['Validation beach width (m)'] > 0]\n",
    "\n",
    "# Optional adjustment for tides\n",
    "# merge_test['Landsat beach width (m)'] = merge_test['Landsat beach width (m)'] + merge_test['adj_0.10'] \n",
    "\n",
    "# Compute difference\n",
    "merge_test['Difference'] = merge_test['Validation beach width (m)'] - merge_test['Landsat beach width (m)'] \n",
    "\n",
    "merge_test = merge_test[merge_test['Landsat beach width (m)'] < 200]\n",
    "merge_test = merge_test[merge_test['Validation beach width (m)'] < 200]\n",
    "# merge_test = merge_test[merge_test.site == 'moruya_all_3']\n",
    "merge_test = merge_test[merge_test.n > 0]\n",
    "merge_test.head()\n",
    "\n",
    "\n",
    "\n",
    "# Plot\n",
    "# merge_test['Landsat beach width (m)'] = merge_test['Landsat beach width (m)'] + 25\n",
    "rmse = np.round(mean_squared_error(merge_test['Validation beach width (m)'], merge_test['Landsat beach width (m)'])**0.5, 2)\n",
    "cor = np.round(merge_test[['Validation beach width (m)', 'Landsat beach width (m)']].corr().iloc[0, 1], 2)\n",
    "dist_lim = merge_test[['Validation beach width (m)', 'Landsat beach width (m)']].max(axis=0).max()\n",
    "merge_test[['Validation beach width (m)', 'Landsat beach width (m)']].plot.scatter(x='Validation beach width (m)', \n",
    "                                                                                   y='Landsat beach width (m)', \n",
    "                                                                                   c=merge_test.tide, s=10, cmap='viridis', figsize=(8, 8))  \n",
    "plt.plot(np.linspace(0, dist_lim), np.linspace(0, dist_lim), 'black', linestyle='dashed')\n",
    "plt.title(f'{collection}, {metric} = {metric_thresh} \\nRMSE: {rmse} m\\nCorrelation: {cor}')\n",
    "plt.savefig(f\"{site}_{collection.lower().replace(' ', '')}_{metric}_{metric_thresh}.png\")\n"
   ]
  },
  {
   "cell_type": "code",
   "execution_count": 17,
   "metadata": {},
   "outputs": [],
   "source": [
    "# merge_test"
   ]
  },
  {
   "cell_type": "code",
   "execution_count": 55,
   "metadata": {},
   "outputs": [
    {
     "data": {
      "text/plain": [
       "Text(0, 0.5, 'Beach width (m)')"
      ]
     },
     "execution_count": 55,
     "metadata": {},
     "output_type": "execute_result"
    },
    {
     "data": {
      "image/png": "[encoded data removed]",
      "text/plain": [
       "<Figure size 720x432 with 1 Axes>"
      ]
     },
     "metadata": {
      "needs_background": "light"
     },
     "output_type": "display_data"
    }
   ],
   "source": [
    "selected_site = merge_test[merge_test.site == merge_test.site.unique()[3]].iloc[:,[1, 3, 20]]\n",
    "rmse = np.round(mean_squared_error(selected_site['Validation beach width (m)'], selected_site['Landsat beach width (m)'])**0.5, 2)\n",
    "\n",
    "(selected_site\n",
    " .plot.scatter(x='Landsat beach width (m)', \n",
    "            y='Validation beach width (m)', \n",
    "            figsize=(10,6), linewidth=2.5))\n",
    "\n",
    "plt.title(f'Narrabeen Beach, survey profile 4\\nRMSE accuracy: ~{rmse} m', fontsize=(14))\n",
    "plt.gca().set_ylabel('Beach width (m)', fontsize=(14))"
   ]
  },
  {
   "cell_type": "code",
   "execution_count": 52,
   "metadata": {},
   "outputs": [
    {
     "data": {
      "text/plain": [
       "Text(0, 0.5, 'Beach width (m)')"
      ]
     },
     "execution_count": 52,
     "metadata": {},
     "output_type": "execute_result"
    },
    {
     "data": {
      "image/png": "[encoded data removed]",
      "text/plain": [
       "<Figure size 720x432 with 1 Axes>"
      ]
     },
     "metadata": {
      "needs_background": "light"
     },
     "output_type": "display_data"
    }
   ],
   "source": [
    "selected_site = merge_test[merge_test.site == merge_test.site.unique()[3]].iloc[:,[1, 3, 20]]\n",
    "rmse = np.round(mean_squared_error(selected_site['Validation beach width (m)'], selected_site['Landsat beach width (m)'])**0.5, 2)\n",
    "\n",
    "(selected_site\n",
    " .plot.line(x='year', \n",
    "            y=['Landsat beach width (m)', 'Validation beach width (m)'], \n",
    "            ylim=(0, 80),figsize=(10,6), linewidth=2.5))\n",
    "\n",
    "plt.title(f'Narrabeen Beach, survey profile 4\\nRMSE accuracy: ~{rmse} m', fontsize=(14))\n",
    "plt.gca().set_ylabel('Beach width (m)', fontsize=(14))\n"
   ]
  },
  {
   "cell_type": "code",
   "execution_count": null,
   "metadata": {},
   "outputs": [],
   "source": [
    "merge_test.site.unique()"
   ]
  },
  {
   "cell_type": "code",
   "execution_count": null,
   "metadata": {},
   "outputs": [],
   "source": [
    "shoreline_ahd0_gdf.to_file(f'validation/outputs/validation_transect_{site}.shp')"
   ]
  },
  {
   "cell_type": "code",
   "execution_count": null,
   "metadata": {},
   "outputs": [],
   "source": [
    "cols = ['year', 'site', 'origin_x', 'origin_y', 'ahd0.0_x', 'ahd0.0_y', 'Validation beach width (m)', 'Landsat beach width (m)', 'Difference']\n",
    "merge_test.reindex(merge_test.Difference.abs().sort_values().index)[cols].tail(5)"
   ]
  },
  {
   "cell_type": "code",
   "execution_count": null,
   "metadata": {},
   "outputs": [],
   "source": [
    "# ndwi_median = landsat_subset.sel(time='2018').compute().median(dim='time')  #.plot()\n",
    "# ndwi_median.attrs['crs'] = landsat_subset.crs\n",
    "# # from datacube.helpers import write_geotiff\n",
    "# write_geotiff(filename='test_ndwi.tif', dataset=ndwi_median[['NDWI']])\n"
   ]
  },
  {
   "cell_type": "code",
   "execution_count": null,
   "metadata": {},
   "outputs": [],
   "source": [
    "\n",
    "geometry_intersect = merge_test.apply(lambda x: x.geometry_x.intersection(x.geometry_y), axis=1)\n",
    "# geometry_intersect\n",
    "intersect_ahd0_gdf = gpd.GeoDataFrame(merge_test[['year', 'site']], geometry=geometry_intersect).reset_index()\n",
    "intersect_ahd0_gdf[intersect_ahd0_gdf.site == 'Avoca_5_1']\n",
    "# intersect_ahd0_gdf.crs = 'EPSG:28356'\n",
    "# intersect_ahd0_gdf.to_file(f'validation/outputs/validation_intersect_{site}.shp')"
   ]
  },
  {
   "cell_type": "code",
   "execution_count": null,
   "metadata": {},
   "outputs": [],
   "source": [
    "# merge_test.apply(lambda x: MultiPoint([x.geometry_x.intersection(x.geometry_y)]), axis=1)"
   ]
  },
  {
   "cell_type": "code",
   "execution_count": null,
   "metadata": {},
   "outputs": [],
   "source": [
    "# merge_test.apply(lambda x: x.geometry_x.intersection(x.geometry_y), axis=1)"
   ]
  },
  {
   "cell_type": "markdown",
   "metadata": {},
   "source": [
    "## Individual observations"
   ]
  },
  {
   "cell_type": "code",
   "execution_count": null,
   "metadata": {},
   "outputs": [],
   "source": [
    "out = landsat_ds.sel(time=shoreline_dates, method='nearest')\n",
    "out['time_diff'] = (out.time - shoreline_dates) \n",
    "out\n",
    "# out.time_diff  < np.timedelta64(5,'D')"
   ]
  },
  {
   "cell_type": "code",
   "execution_count": null,
   "metadata": {},
   "outputs": [],
   "source": [
    "out = out.compute()\n",
    "out"
   ]
  },
  {
   "cell_type": "code",
   "execution_count": null,
   "metadata": {},
   "outputs": [],
   "source": [
    "out = tidal_tag(out)\n",
    "height = out['tide_heights']\n",
    "slope = 90\n",
    "out['x_adj'] = height * math.sin(np.deg2rad(90 - slope)) / math.sin(np.deg2rad(slope))"
   ]
  },
  {
   "cell_type": "code",
   "execution_count": null,
   "metadata": {},
   "outputs": [],
   "source": [
    "custom_attrs = {'date': [str(i)[0:10] for i in shoreline_dates],\n",
    "                'x_adj': out['x_adj'].values,\n",
    "                'time_diff': out['time_diff'].values.astype('timedelta64[D]').astype('int16').tolist()\n",
    "               }\n",
    "custom_attrs_dtypes = {'date': 'str', 'x_adj': 'int', 'time_diff': 'int'}\n",
    "\n",
    "# Extract contours with custom attribute fields:\n",
    "contour_gdf = SpatialTools.contour_extract(z_values=0.0,\n",
    "                                           ds_array=out.MNDWI,\n",
    "                                           ds_crs=landsat_ds.geobox.crs,\n",
    "                                           ds_affine=landsat_ds.geobox.affine,\n",
    "                                           output_shp=f'validation/outputs/landsat_contours_{site}.shp',\n",
    "                                           attribute_data=custom_attrs,\n",
    "                                           attribute_dtypes=custom_attrs_dtypes,\n",
    "                                           verbose=False)\n",
    "\n"
   ]
  },
  {
   "cell_type": "code",
   "execution_count": null,
   "metadata": {},
   "outputs": [],
   "source": [
    "# Import waterline contours\n",
    "contours_gdf = gpd.read_file(f'validation/outputs/landsat_contours_{site}.shp')\n",
    "contours_gdf = contours_gdf.to_crs(epsg=28356)  \n",
    "contours_gdf['date'] = pd.to_datetime(contours_gdf.date)\n",
    "\n",
    "# Subset to AHD 0.0 data\n",
    "shoreline_ahd0 = shoreline_dist[['date', 'ahd0.0_dist', 'origin_x', 'origin_y', 'end_x', 'end_y']].dropna()\n",
    "shoreline_ahd0_geometry  = shoreline_ahd0.apply(lambda x: LineString([Point(x.origin_x, x.origin_y), Point(x.end_x, x.end_y)]), axis = 1)\n",
    "shoreline_ahd0_gdf = gpd.GeoDataFrame(shoreline_ahd0, geometry=shoreline_ahd0_geometry).reset_index()\n",
    "shoreline_ahd0_gdf.crs = 'EPSG:28356'\n",
    "\n",
    "# Combine to match each shoreline contour to each date in validation data\n",
    "merge_test = shoreline_ahd0_gdf.merge(contours_gdf, on='date')\n",
    "\n",
    "# For each row, compute distance between origin and location where profile intersects with waterline contour\n",
    "merge_test['Landsat beach width (m)'] = merge_test.apply(lambda x: x.geometry_x.intersection(x.geometry_y).distance(Point(x.origin_x, x.origin_y)), axis=1)\n",
    "merge_test = merge_test.rename({'ahd0.0_dist': 'Validation beach width (m)'}, axis=1)\n",
    "merge_test = merge_test[merge_test['Landsat beach width (m)'] > 0]\n",
    "merge_test.head()\n",
    "\n",
    "# Modify\n",
    "merge_test['Landsat beach width (m)'] = merge_test['Landsat beach width (m)']  + merge_test['x_adj']\n",
    "\n",
    "# Plot\n",
    "# merge_test['Landsat beach width (m)'] = merge_test['Landsat beach width (m)'] + 25\n",
    "dist_lim = merge_test[['Validation beach width (m)', 'Landsat beach width (m)']].max(axis=0).max()\n",
    "merge_test[['Validation beach width (m)', 'Landsat beach width (m)']].plot.scatter(x='Validation beach width (m)', \n",
    "                                                                                   y='Landsat beach width (m)', \n",
    "                                                                                   c=abs(merge_test.time_diff), s=1, cmap='viridis', figsize=(8, 8))  #\n",
    "plt.plot(np.linspace(0, dist_lim), np.linspace(0, dist_lim), 'black', linestyle='dashed')\n",
    "plt.ylim([0, dist_lim]); plt.xlim([0, dist_lim]);\n"
   ]
  },
  {
   "cell_type": "code",
   "execution_count": null,
   "metadata": {},
   "outputs": [],
   "source": [
    "\n",
    "stats_df = merge_test[(np.abs(stats.zscore(merge_test[['Validation beach width (m)', 'Landsat beach width (m)']])) < 1).all(axis=1)]\n",
    "\n",
    "\n",
    "mean_squared_error(stats_df['Validation beach width (m)'], stats_df['Landsat beach width (m)'])**0.5"
   ]
  },
  {
   "cell_type": "code",
   "execution_count": null,
   "metadata": {},
   "outputs": [],
   "source": [
    "# merge_test['Landsat beach width (m)'] = merge_test['Landsat beach width (m)'] + 25\n",
    "dist_lim = stats_df[['Validation beach width (m)', 'Landsat beach width (m)']].max(axis=0).max()\n",
    "stats_df[['Validation beach width (m)', 'Landsat beach width (m)']].plot.scatter(x='Validation beach width (m)', \n",
    "                                                                                   y='Landsat beach width (m)', \n",
    "                                                                                   c=abs(stats_df.time_diff), s=1, cmap='viridis', figsize=(8, 8))  #\n",
    "plt.plot(np.linspace(0, dist_lim), np.linspace(0, dist_lim), 'black', linestyle='dashed')\n",
    "plt.ylim([0, dist_lim]); plt.xlim([0, dist_lim]);"
   ]
  }
 ],
 "metadata": {
  "kernelspec": {
   "display_name": "Python 3",
   "language": "python",
   "name": "python3"
  },
  "language_info": {
   "codemirror_mode": {
    "name": "ipython",
    "version": 3
   },
   "file_extension": ".py",
   "mimetype": "text/x-python",
   "name": "python",
   "nbconvert_exporter": "python",
   "pygments_lexer": "ipython3",
   "version": "3.6.7"
  }
 },
 "nbformat": 4,
 "nbformat_minor": 2
}
