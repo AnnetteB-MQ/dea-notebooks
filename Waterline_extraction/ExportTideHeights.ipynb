{
 "cells": [
  {
   "cell_type": "code",
   "execution_count": 1,
   "metadata": {},
   "outputs": [],
   "source": [
    "import otps\n",
    "import pandas as pd"
   ]
  },
  {
   "cell_type": "code",
   "execution_count": null,
   "metadata": {},
   "outputs": [],
   "source": [
    "name = 'nouakchott'\n",
    "lat, lon = 17.99, -16.05\n",
    "\n",
    "# # Calculate tide heights\n",
    "observed_datetimes = pd.date_range(start='1987-01-01', end='2020-01-01', freq='30min').tolist()\n",
    "observed_timepoints = [otps.TimePoint(lon, lat, dt) for dt in observed_datetimes]\n",
    "observed_predictedtides = otps.predict_tide(observed_timepoints)\n",
    "tideheights_m = [predictedtide.tide_m for predictedtide in observed_predictedtides]\n",
    "\n",
    "# Create dataframe\n",
    "tideheights_df = pd.DataFrame(index=observed_datetimes, data={'tide_height': tideheights_m})\n",
    "\n",
    "# Write to file\n",
    "tideheights_df.to_csv(f'{name}_{lat}_{lon}_tides.csv', index_label='time')"
   ]
  }
 ],
 "metadata": {
  "kernelspec": {
   "display_name": "Python 3",
   "language": "python",
   "name": "python3"
  },
  "language_info": {
   "codemirror_mode": {
    "name": "ipython",
    "version": 3
   },
   "file_extension": ".py",
   "mimetype": "text/x-python",
   "name": "python",
   "nbconvert_exporter": "python",
   "pygments_lexer": "ipython3",
   "version": "3.6.7"
  }
 },
 "nbformat": 4,
 "nbformat_minor": 4
}
