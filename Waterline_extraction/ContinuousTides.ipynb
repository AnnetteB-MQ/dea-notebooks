{
 "cells": [
  {
   "cell_type": "code",
   "execution_count": 1,
   "metadata": {},
   "outputs": [],
   "source": [
    "import otps\n",
    "import pandas as pd"
   ]
  },
  {
   "cell_type": "code",
   "execution_count": null,
   "metadata": {},
   "outputs": [],
   "source": [
    "name = 'nouakchott'\n",
    "lat, lon = 17.99, -16.05\n",
    "\n",
    "# # Calculate tide heights\n",
    "observed_datetimes = pd.date_range(start='1987-01-01', end='2020-01-01', freq='30min').tolist()\n",
    "observed_timepoints = [otps.TimePoint(lon, lat, dt) for dt in observed_datetimes]\n",
    "observed_predictedtides = otps.predict_tide(observed_timepoints)\n",
    "tideheights_m = [predictedtide.tide_m for predictedtide in observed_predictedtides]\n",
    "\n",
    "# Create dataframe\n",
    "tideheights_df = pd.DataFrame(index=observed_datetimes, data={'tide_height': tideheights_m})\n",
    "\n",
    "# Write to file\n",
    "tideheights_df.to_csv(f'{name}_{lat}_{lon}_tides.csv', index_label='time')"
   ]
  },
  {
   "cell_type": "code",
   "execution_count": null,
   "metadata": {},
   "outputs": [],
   "source": [
    "## Test tide points"
   ]
  },
  {
   "cell_type": "code",
   "execution_count": 2,
   "metadata": {},
   "outputs": [],
   "source": [
    "import geopandas as gpd"
   ]
  },
  {
   "cell_type": "code",
   "execution_count": null,
   "metadata": {},
   "outputs": [],
   "source": [
    "tide_points_gpd = gpd.read_file('/g/data/r78/rt1527/dea-notebooks/Waterline_extraction/raw_data/tide_points_coastal.shp').to_crs({'init': 'EPSG:4326'})"
   ]
  },
  {
   "cell_type": "code",
   "execution_count": null,
   "metadata": {},
   "outputs": [],
   "source": [
    "x_vals = tide_points_gpd.geometry.centroid.x\n",
    "y_vals = tide_points_gpd.geometry.centroid.y\n",
    "observed_datetimes = pd.date_range(start='2000-01-01', end='2000-01-01', freq='14D').tolist()\n",
    "observed_timepoints = [otps.TimePoint(lon, lat, observed_datetimes[0]) for lon, lat in zip(x_vals, y_vals)]\n",
    "observed_predictedtides = otps.predict_tide(observed_timepoints)"
   ]
  },
  {
   "cell_type": "code",
   "execution_count": null,
   "metadata": {},
   "outputs": [],
   "source": [
    "points_df = pd.DataFrame([(i.timepoint.lon, i.timepoint.lat, i.tide_m) for i in observed_predictedtides], columns=['lon', 'lat', 'tide_m']) \n",
    "points_gdf = gpd.GeoDataFrame(geometry=gpd.points_from_xy(points_df.lon, points_df.lat), crs={'init': 'EPSG:4326'})\n",
    "points_gdf.to_file('/g/data/r78/rt1527/dea-notebooks/Waterline_extraction/raw_data/tide_points_coastal2.shp')"
   ]
  },
  {
   "cell_type": "code",
   "execution_count": 3,
   "metadata": {},
   "outputs": [],
   "source": [
    "import datacube\n",
    "\n",
    "query = {'x': (122.12, 122.41),\n",
    "         'y': (-18.24, -17.88),\n",
    "         'time': (2015, 2017)}\n",
    "\n",
    "dc = datacube.Datacube(app='pixel_drill')\n",
    "landsat_ds = dc.load(product='ls8_nbart_albers', **query, dask_chunks={'time': 1})\n"
   ]
  },
  {
   "cell_type": "code",
   "execution_count": 4,
   "metadata": {},
   "outputs": [],
   "source": [
    "import shapely.wkt\n",
    "bounds = shapely.wkt.loads(landsat_ds.geobox.geographic_extent.buffer(0.1).wkt)"
   ]
  },
  {
   "cell_type": "code",
   "execution_count": 5,
   "metadata": {},
   "outputs": [],
   "source": [
    "points_gdf = gpd.read_file('/g/data/r78/rt1527/dea-notebooks/Waterline_extraction/raw_data/tide_points_coastal2.shp')\n",
    "subset_gdf = points_gdf[points_gdf.geometry.intersects(bounds)]"
   ]
  },
  {
   "cell_type": "code",
   "execution_count": 6,
   "metadata": {},
   "outputs": [],
   "source": [
    "x_vals = subset_gdf.geometry.centroid.x\n",
    "y_vals = subset_gdf.geometry.centroid.y\n",
    "observed_datetimes = landsat_ds.time.data.astype('M8[s]').astype('O').tolist()\n",
    "\n",
    "# Create list of lat/lon/time scenarios to model\n",
    "observed_timepoints = [otps.TimePoint(lon, lat, date) \n",
    "                       for date in observed_datetimes\n",
    "                       for lon, lat in zip(x_vals, y_vals)]\n",
    "\n",
    "# Model tides for each scenario\n",
    "observed_predictedtides = otps.predict_tide(observed_timepoints)"
   ]
  },
  {
   "cell_type": "code",
   "execution_count": 7,
   "metadata": {},
   "outputs": [],
   "source": [
    "import numpy as np\n",
    "points_df = pd.DataFrame([(i.timepoint.timestamp, i.timepoint.lon, i.timepoint.lat, i.tide_m) \n",
    "                          for i in observed_predictedtides], columns=['time', 'lon', 'lat', 'tide_m']) \n",
    "\n",
    "points_gdf = gpd.GeoDataFrame(data={'i': np.unique(points_df.time, return_inverse=True)[1], \n",
    "                                    'tide_m': points_df.tide_m}, \n",
    "                                 geometry=gpd.points_from_xy(points_df.lon, points_df.lat), \n",
    "                                 crs={'init': 'EPSG:4326'}).to_crs({'init': 'EPSG:3577'})"
   ]
  },
  {
   "cell_type": "code",
   "execution_count": 2,
   "metadata": {},
   "outputs": [],
   "source": [
    "import numpy as np\n",
    "import scipy.interpolate\n",
    "from scipy import ndimage as nd\n",
    "\n",
    "def interp_tides(ds, x_coords, y_coords, z_coords, \n",
    "                 method='linear', fill_nearest=False, sigma=None):\n",
    "    \n",
    "    # Extract xy and elev points\n",
    "    points_xy = np.vstack([x_coords, y_coords]).T\n",
    "\n",
    "    # Create grid to interpolate into\n",
    "    grid_y, grid_x = np.meshgrid(ds.x, ds.y)  \n",
    "\n",
    "    # Interpolate x, y and z values using linear/TIN interpolation\n",
    "    out = scipy.interpolate.griddata(points=points_xy, \n",
    "                                     values=z_coords, \n",
    "                                     xi=(grid_y, grid_x), \n",
    "                                     method=method)\n",
    "\n",
    "    # Calculate nearest\n",
    "    if fill_nearest:\n",
    "        \n",
    "        nearest_inds = nd.distance_transform_edt(input=np.isnan(out), \n",
    "                                                 return_distances=False, \n",
    "                                                 return_indices=True)\n",
    "        out = out[tuple(nearest_inds)]\n",
    "        \n",
    "    # Apply guassian filter        \n",
    "    if sigma:\n",
    "\n",
    "        out = nd.filters.gaussian_filter(out, sigma=sigma)\n",
    "        \n",
    "    return out\n",
    "\n",
    "\n",
    "# Extract vertex coordinates and heights from geopandas\n",
    "def contours_to_arrays(gdf, col):\n",
    "\n",
    "    coords_zvals = []\n",
    "\n",
    "    for i in range(0, len(gdf)):\n",
    "\n",
    "        val = gdf.iloc[i][col]\n",
    "\n",
    "        try:\n",
    "            coords = np.concatenate([np.vstack(x.coords.xy).T for x in gdf.iloc[i].geometry])\n",
    "\n",
    "        except:\n",
    "            coords = np.vstack(gdf.iloc[i].geometry.coords.xy).T\n",
    "\n",
    "        coords_zvals.append(np.column_stack((coords, np.full(np.shape(coords)[0], fill_value=val))))\n",
    "\n",
    "    return np.concatenate(coords_zvals)\n",
    "\n"
   ]
  },
  {
   "cell_type": "code",
   "execution_count": 9,
   "metadata": {},
   "outputs": [],
   "source": [
    "out = []\n",
    "\n",
    "for i in range(0, len(landsat_ds.time)):\n",
    "    \n",
    "    x_coords = points_gdf[points_gdf.i == i].geometry.x, \n",
    "    y_coords = points_gdf[points_gdf.i == i].geometry.y, \n",
    "    z_coords = points_gdf[points_gdf.i == i].tide_m\n",
    "\n",
    "    out_tide = interp_tides(ds=landsat_ds.isel(time=i), \n",
    "                            x_coords=x_coords, \n",
    "                            y_coords=y_coords, \n",
    "                            z_coords=z_coords, sigma=50)\n",
    "    \n",
    "    out.append(out_tide)\n"
   ]
  },
  {
   "cell_type": "code",
   "execution_count": 10,
   "metadata": {},
   "outputs": [
    {
     "data": {
      "text/plain": [
       "<xarray.plot.facetgrid.FacetGrid at 0x7f80a1ec2e48>"
      ]
     },
     "execution_count": 10,
     "metadata": {},
     "output_type": "execute_result"
    }
   ],
   "source": [
    "# out\n",
    "import xarray as xr\n",
    "test = xr.DataArray(np.dstack(out), coords=[landsat_ds.y, landsat_ds.x, landsat_ds.time], dims=['y', 'x', 'time']) \n"
   ]
  },
  {
   "cell_type": "code",
   "execution_count": null,
   "metadata": {},
   "outputs": [],
   "source": [
    "# points_df.time[0].isoformat()"
   ]
  },
  {
   "cell_type": "code",
   "execution_count": 21,
   "metadata": {},
   "outputs": [
    {
     "data": {
      "text/plain": [
       "0"
      ]
     },
     "execution_count": 21,
     "metadata": {},
     "output_type": "execute_result"
    }
   ],
   "source": [
    "import gc\n",
    "gc.collect()"
   ]
  },
  {
   "cell_type": "code",
   "execution_count": null,
   "metadata": {},
   "outputs": [],
   "source": [
    "landsat_ds = landsat_ds.where(test > test.median(dim='time'))"
   ]
  },
  {
   "cell_type": "code",
   "execution_count": null,
   "metadata": {},
   "outputs": [],
   "source": [
    "out = None"
   ]
  }
 ],
 "metadata": {
  "kernelspec": {
   "display_name": "Python 3",
   "language": "python",
   "name": "python3"
  },
  "language_info": {
   "codemirror_mode": {
    "name": "ipython",
    "version": 3
   },
   "file_extension": ".py",
   "mimetype": "text/x-python",
   "name": "python",
   "nbconvert_exporter": "python",
   "pygments_lexer": "ipython3",
   "version": "3.6.7"
  }
 },
 "nbformat": 4,
 "nbformat_minor": 4
}
