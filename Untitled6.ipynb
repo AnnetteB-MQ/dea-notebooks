{
 "cells": [
  {
   "cell_type": "code",
   "execution_count": 117,
   "metadata": {
    "scrolled": true
   },
   "outputs": [],
   "source": [
    "import xarray as xr\n",
    "#import rioxarray\n",
    "import matplotlib.pyplot as plt"
   ]
  },
  {
   "cell_type": "code",
   "execution_count": 118,
   "metadata": {},
   "outputs": [],
   "source": [
    "nc_file = '/home/547/zxh547/temp/20160101080000-JAXA-L3C_GHRSST-SSTskin-H08_AHI-v1.2_nighttime-v02.0-fv01.0.nc'"
   ]
  },
  {
   "cell_type": "code",
   "execution_count": 119,
   "metadata": {},
   "outputs": [],
   "source": [
    "nc = xr.open_dataset(nc_file)"
   ]
  },
  {
   "cell_type": "code",
   "execution_count": 120,
   "metadata": {
    "scrolled": true
   },
   "outputs": [
    {
     "ename": "AttributeError",
     "evalue": "'Dataset' object has no attribute 'rio'",
     "output_type": "error",
     "traceback": [
      "\u001b[0;31m---------------------------------------------------------------------------\u001b[0m",
      "\u001b[0;31mAttributeError\u001b[0m                            Traceback (most recent call last)",
      "\u001b[0;32m<ipython-input-120-a22b7117e1f3>\u001b[0m in \u001b[0;36m<module>\u001b[0;34m\u001b[0m\n\u001b[0;32m----> 1\u001b[0;31m \u001b[0mnc\u001b[0m\u001b[0;34m.\u001b[0m\u001b[0mrio\u001b[0m\u001b[0;34m\u001b[0m\u001b[0;34m\u001b[0m\u001b[0m\n\u001b[0m",
      "\u001b[0;32m/g/data/v10/public/modules/dea-env/20191127/lib/python3.6/site-packages/xarray/core/common.py\u001b[0m in \u001b[0;36m__getattr__\u001b[0;34m(self, name)\u001b[0m\n\u001b[1;32m    231\u001b[0m                     \u001b[0;32mreturn\u001b[0m \u001b[0msource\u001b[0m\u001b[0;34m[\u001b[0m\u001b[0mname\u001b[0m\u001b[0;34m]\u001b[0m\u001b[0;34m\u001b[0m\u001b[0;34m\u001b[0m\u001b[0m\n\u001b[1;32m    232\u001b[0m         raise AttributeError(\n\u001b[0;32m--> 233\u001b[0;31m             \u001b[0;34m\"{!r} object has no attribute {!r}\"\u001b[0m\u001b[0;34m.\u001b[0m\u001b[0mformat\u001b[0m\u001b[0;34m(\u001b[0m\u001b[0mtype\u001b[0m\u001b[0;34m(\u001b[0m\u001b[0mself\u001b[0m\u001b[0;34m)\u001b[0m\u001b[0;34m.\u001b[0m\u001b[0m__name__\u001b[0m\u001b[0;34m,\u001b[0m \u001b[0mname\u001b[0m\u001b[0;34m)\u001b[0m\u001b[0;34m\u001b[0m\u001b[0;34m\u001b[0m\u001b[0m\n\u001b[0m\u001b[1;32m    234\u001b[0m         )\n\u001b[1;32m    235\u001b[0m \u001b[0;34m\u001b[0m\u001b[0m\n",
      "\u001b[0;31mAttributeError\u001b[0m: 'Dataset' object has no attribute 'rio'"
     ]
    }
   ],
   "source": [
    "nc.rio"
   ]
  },
  {
   "cell_type": "code",
   "execution_count": 65,
   "metadata": {
    "scrolled": false
   },
   "outputs": [
    {
     "data": {
      "text/plain": [
       "Coordinates:\n",
       "  * time     (time) datetime64[ns] 2016-01-01T08:00:17\n",
       "  * lat      (lat) float32 60.0 59.98 59.96 59.94 ... -59.96 -59.979996 -60.0\n",
       "  * lon      (lon) float32 80.0 80.02 80.04 80.06 ... -160.04001 -160.02 -160.0"
      ]
     },
     "execution_count": 65,
     "metadata": {},
     "output_type": "execute_result"
    }
   ],
   "source": [
    "nc.coords"
   ]
  },
  {
   "cell_type": "code",
   "execution_count": 94,
   "metadata": {},
   "outputs": [
    {
     "data": {
      "text/plain": [
       "'GEOGCS[\"WGS 84\",DATUM[\"WGS_1984\",SPHEROID[\"WGS 84\",6378137,298.257223563,AUTHORITY[\"EPSG\",\"7030\"]],AUTHORITY[\"EPSG\",\"6326\"]],PRIMEM[\"Greenwich\",0,AUTHORITY[\"EPSG\",\"8901\"]],UNIT[\"degree\",0.0174532925199433,AUTHORITY[\"EPSG\",\"9122\"]],AUTHORITY[\"EPSG\",\"4326\"]]'"
      ]
     },
     "execution_count": 94,
     "metadata": {},
     "output_type": "execute_result"
    }
   ],
   "source": [
    "from rasterio.crs import CRS\n",
    "crs = CRS.from_epsg(4326)\n",
    "crs.to_wkt()"
   ]
  },
  {
   "cell_type": "code",
   "execution_count": 95,
   "metadata": {},
   "outputs": [],
   "source": [
    "nc.attrs = {'crs':crs}"
   ]
  },
  {
   "cell_type": "code",
   "execution_count": 96,
   "metadata": {
    "scrolled": false
   },
   "outputs": [
    {
     "data": {
      "text/plain": [
       "CRS.from_epsg(4326)"
      ]
     },
     "execution_count": 96,
     "metadata": {},
     "output_type": "execute_result"
    }
   ],
   "source": [
    "nc.crs"
   ]
  },
  {
   "cell_type": "code",
   "execution_count": 104,
   "metadata": {
    "scrolled": true
   },
   "outputs": [],
   "source": [
    "x=nc.sea_surface_temperature[0]"
   ]
  },
  {
   "cell_type": "code",
   "execution_count": 107,
   "metadata": {},
   "outputs": [],
   "source": [
    "x1 = x.sortby(x.lat)"
   ]
  },
  {
   "cell_type": "code",
   "execution_count": 109,
   "metadata": {},
   "outputs": [],
   "source": [
    "x2 = x1.sortby(x1.lon)"
   ]
  },
  {
   "cell_type": "code",
   "execution_count": 111,
   "metadata": {
    "scrolled": true
   },
   "outputs": [
    {
     "data": {
      "text/plain": [
       "<matplotlib.collections.QuadMesh at 0x7f8901cb2748>"
      ]
     },
     "execution_count": 111,
     "metadata": {},
     "output_type": "execute_result"
    },
    {
     "data": {
      "image/png": "[encoded data removed]",
      "text/plain": [
       "<Figure size 432x288 with 2 Axes>"
      ]
     },
     "metadata": {
      "needs_background": "light"
     },
     "output_type": "display_data"
    }
   ],
   "source": [
    "x2.plot()"
   ]
  },
  {
   "cell_type": "code",
   "execution_count": 112,
   "metadata": {},
   "outputs": [
    {
     "data": {
      "text/html": [
       "<pre>&lt;xarray.DataArray &#x27;sea_surface_temperature&#x27; (lat: 6001, lon: 6001)&gt;\n",
       "array([[-54.53, -54.53, -54.53, ..., -54.53, -54.53, -54.53],\n",
       "       [-54.53, -54.53, -54.53, ..., -54.53, -54.53, -54.53],\n",
       "       [-54.53, -54.53, -54.53, ..., -54.53, -54.53, -54.53],\n",
       "       ...,\n",
       "       [-54.53, -54.53, -54.53, ..., -54.53, -54.53, -54.53],\n",
       "       [-54.53, -54.53, -54.53, ..., -54.53, -54.53, -54.53],\n",
       "       [-54.53, -54.53, -54.53, ..., -54.53, -54.53, -54.53]], dtype=float32)\n",
       "Coordinates:\n",
       "    time     datetime64[ns] 2016-01-01T08:00:17\n",
       "  * lat      (lat) float32 60.0 59.98 59.96 59.94 ... -59.96 -59.979996 -60.0\n",
       "  * lon      (lon) float32 80.0 80.02 80.04 80.06 ... -160.04001 -160.02 -160.0\n",
       "Attributes:\n",
       "    long_name:      sea surface skin temperature\n",
       "    standard_name:  sea_surface_skin_temperature\n",
       "    units:          kelvin\n",
       "    valid_min:      -200\n",
       "    valid_max:      5000\n",
       "    grid_mapping:   Equirectangular\n",
       "    comment:        Temperature of the skin of the ocean.</pre>"
      ],
      "text/plain": [
       "<xarray.DataArray 'sea_surface_temperature' (lat: 6001, lon: 6001)>\n",
       "array([[-54.53, -54.53, -54.53, ..., -54.53, -54.53, -54.53],\n",
       "       [-54.53, -54.53, -54.53, ..., -54.53, -54.53, -54.53],\n",
       "       [-54.53, -54.53, -54.53, ..., -54.53, -54.53, -54.53],\n",
       "       ...,\n",
       "       [-54.53, -54.53, -54.53, ..., -54.53, -54.53, -54.53],\n",
       "       [-54.53, -54.53, -54.53, ..., -54.53, -54.53, -54.53],\n",
       "       [-54.53, -54.53, -54.53, ..., -54.53, -54.53, -54.53]], dtype=float32)\n",
       "Coordinates:\n",
       "    time     datetime64[ns] 2016-01-01T08:00:17\n",
       "  * lat      (lat) float32 60.0 59.98 59.96 59.94 ... -59.96 -59.979996 -60.0\n",
       "  * lon      (lon) float32 80.0 80.02 80.04 80.06 ... -160.04001 -160.02 -160.0\n",
       "Attributes:\n",
       "    long_name:      sea surface skin temperature\n",
       "    standard_name:  sea_surface_skin_temperature\n",
       "    units:          kelvin\n",
       "    valid_min:      -200\n",
       "    valid_max:      5000\n",
       "    grid_mapping:   Equirectangular\n",
       "    comment:        Temperature of the skin of the ocean."
      ]
     },
     "execution_count": 112,
     "metadata": {},
     "output_type": "execute_result"
    }
   ],
   "source": [
    "x"
   ]
  },
  {
   "cell_type": "code",
   "execution_count": null,
   "metadata": {},
   "outputs": [],
   "source": []
  }
 ],
 "metadata": {
  "kernelspec": {
   "display_name": "Python 3",
   "language": "python",
   "name": "python3"
  },
  "language_info": {
   "codemirror_mode": {
    "name": "ipython",
    "version": 3
   },
   "file_extension": ".py",
   "mimetype": "text/x-python",
   "name": "python",
   "nbconvert_exporter": "python",
   "pygments_lexer": "ipython3",
   "version": "3.6.7"
  }
 },
 "nbformat": 4,
 "nbformat_minor": 2
}
